{
 "cells": [
  {
   "cell_type": "markdown",
   "metadata": {},
   "source": [
    "# Kubernetes"
   ]
  },
  {
   "cell_type": "code",
   "execution_count": 277,
   "metadata": {},
   "outputs": [],
   "source": [
    "# WEBDAV at http://10.15.136.41:30080/\n",
    "\n",
    "import ipywidgets as widgets\n",
    "from IPython.display import clear_output\n",
    "from IPython.display import Javascript, display\n",
    "import uuid\n",
    "\n",
    "style = {'description_width': '250px'}\n",
    "layout = {'width': '500px'}\n",
    "\n",
    "def addVisText(key='',value=''):\n",
    "    text = widgets.Text(description = key,value = value, style=style, layout=layout)\n",
    "    display(text)  \n",
    "    return text\n",
    "    \n",
    "def addVisCheckbox(key='',value=False):\n",
    "    text = widgets.Checkbox(description = key,value = value, style=style, layout=layout)\n",
    "    display(text)   \n",
    "    return text\n",
    "\n",
    "def getPort(peername='', name='peer-gossip'):\n",
    "    callopt= 'jsonpath=\\\"{.spec.ports[?(@.name==\\'' + name + '\\')].nodePort}\\\"'\n",
    "    try:    \n",
    "        callProcess  = subprocess.check_output(['/home/jovyan/work/usr/bin/kubectl', 'get','service',peername,'-o', callopt])\n",
    "        return str(callProcess)[3:-2]\n",
    "    except Exception as e:\n",
    "        return str(e)\n",
    "\n",
    "def setPeerPorts(peername):\n",
    "    os.environ['GOSSIP_PORT'] = getPort(peername=peername, name='peer-gossip')\n",
    "    os.environ['PEER_LISTEN_PORT'] = getPort(peername=peername, name='peer-listen')\n",
    "    os.environ['PEER_CHAINCODE_PORT'] = getPort(peername=peername, name='peer-chaincode')\n",
    "    \n",
    "def createConfig(peername='',peer_listen_port='',peer_gossip_port=''):\n",
    "    try:  \n",
    "        output  = subprocess.check_output(['/home/jovyan/work/usr/bin/kubectl', 'create','configmap','hl-fabric-peer-' + peername,\n",
    "                                          '--from-literal=hostname=kubernetes.research.dev.seeburger.de',\n",
    "                                          '--from-literal=org_name=' + peername,\n",
    "                                          '--from-literal=CORE_PEER_ADDRESS=kubernetes.research.dev.seeburger.de:' + peer_listen_port,\n",
    "                                          '--from-literal=CORE_PEER_GOSSIP_EXTERNALENDPOINT=kubernetes.research.dev.seeburger.de:' + peer_gossip_port,\n",
    "                                          '--from-literal=CORE_PEER_LOCALMSPID=' + peername + 'MSP'])\n",
    "        return str(output)\n",
    "    except Exception as e:\n",
    "        return str(e)  \n",
    "    \n",
    "#!/home/jovyan/work/usr/bin/kubectl create configmap hl-fabric-peer-$PEER_NAME \\\n",
    "#         --from-literal=hostname=kubernetes.research.dev.seeburger.de \\\n",
    "#         --from-literal=org_name=$PEER_NAME \\\n",
    "#         --from-literal=CORE_PEER_ADDRESS=kubernetes.research.dev.seeburger.de:$PEER_LISTEN_PORT \\\n",
    "#         --from-literal=CORE_PEER_GOSSIP_EXTERNALENDPOINT=kubernetes.research.dev.seeburger.de:$GOSSIP_PORT \\\n",
    "#         --from-literal=CORE_PEER_LOCALMSPID=${PEER_NAME}MSP\n",
    "            \n",
    "def getPod(peername):\n",
    "    try:    \n",
    "        callProcess  = subprocess.check_output(['/home/jovyan/work/usr/bin/kubectl', 'get','pod','-l','app=' + peername,'-o', \n",
    "                                                'jsonpath=\\\"{.items[0].metadata.name}\\\"'])\n",
    "        return str(callProcess)[3:-2]\n",
    "    except Exception as e:\n",
    "        return str(e)     \n",
    "    \n",
    "def getPods():\n",
    "    !/home/jovyan/work/usr/bin/kubectl get pods\n",
    "        \n",
    "def setPeerEnvironment(peername):\n",
    "    os.environ['POD_NAME'] = getPod(peername)\n",
    "    os.environ['ORDERER_IP'] = '10.15.128.97'\n",
    "    os.environ['ORDERER_HOSTNAME'] = 'orderer.example.com'\n",
    "    os.environ['CHANNEL_NAME'] = 'mychannel'  \n",
    "    setPeerPorts(peername)\n",
    "    \n",
    "def deletePeer(peername):\n",
    "    try:    \n",
    "        output  = subprocess.check_output(['/home/jovyan/work/usr/bin/kubectl', 'delete','configmap','hl-fabric-peer-' + peername])\n",
    "        output  = subprocess.check_output(['/home/jovyan/work/usr/bin/kubectl', 'delete','-f','/home/jovyan/scray/projects/invoice-hyperledger-fabric/containers/target/' + peername + '/k8s-peer.yaml'])\n",
    "        output  = subprocess.check_output([ '/home/jovyan/work/usr/bin/kubectl', 'delete', 'service', peername])\n",
    "        return output\n",
    "    except Exception as e:\n",
    "        return str(e)\n",
    "    \n",
    "#!/home/jovyan/work/usr/bin/kubectl  exec --stdin --tty $POD_NAME  -c scray-peer-cli /bin/bash \"echo 'export ORDERER_CA=/tmp/tlsca.example.com-cert.pem' >> /root/.bashrc\"    \n",
    "\n",
    "#!/home/jovyan/work/usr/bin/kubectl  exec -it $POD_NAME -c scray-peer-cli -- /bin/bash -c \"echo 'export ORDERER_CA=/tmp/tlsca.example.com-cert.pem' >> /root/.bashrc\"\n",
    "\n",
    "def addEnvVariable(pod_name, key,value):\n",
    "    try:  \n",
    "        cmd = \"echo \\'export '\" + key + '=' + value + \"'\\' >> /root/.bashrc\"\n",
    "        #cmd = \"echo 1\"\n",
    "        output  = subprocess.check_output(['/home/jovyan/work/usr/bin/kubectl', 'exec','-it', pod_name, '-c', 'scray-peer-cli','--', '/bin/bash','-c',cmd])\n",
    "        return output\n",
    "    except Exception as e:\n",
    "        return str(e)\n",
    "        \n",
    "def installAndAproveChaincode():\n",
    "    # Host where the chaincode is running\n",
    "    os.environ['IP_CC_SERVICE']='10.14.128.38'\n",
    "    #Host where the example network is running\n",
    "    os.environ['IP_OF_EXAMPLE_NETWORK']='10.15.128.97'\n",
    "    !/home/jovyan/work/usr/bin/kubectl exec --stdin --tty $POD_NAME -c scray-peer-cli -- /bin/sh /mnt/conf/install_and_approve_cc.sh $IP_CC_SERVICE $IP_OF_EXAMPLE_NETWORK"
   ]
  },
  {
   "cell_type": "code",
   "execution_count": null,
   "metadata": {},
   "outputs": [],
   "source": [
    "class kubernetespeer(peername='',listen_port='',gossip_port=''):\n",
    "    def __init__(self, addr = '', crt = '', pem = ''):\n",
    "        self.peername = peername\n",
    "        self.listen_port = listen_port\n",
    "        self.gossip_port = gossip_port\n",
    "    def getCertificate(self):\n",
    "        try:\n",
    "            return str(subprocess.check_output(['cat', self.crt]))[2:-3]   \n",
    "        except Exception as e:\n",
    "            return str(e)"
   ]
  },
  {
   "cell_type": "markdown",
   "metadata": {},
   "source": [
    "# Multiple version"
   ]
  },
  {
   "cell_type": "code",
   "execution_count": 142,
   "metadata": {},
   "outputs": [
    {
     "name": "stdout",
     "output_type": "stream",
     "text": [
      "deployment.apps/maja2 unchanged\n"
     ]
    },
    {
     "data": {
      "application/vnd.jupyter.widget-view+json": {
       "model_id": "9f8fa4b0cd9c4738a06c994574aef3c2",
       "version_major": 2,
       "version_minor": 0
      },
      "text/plain": [
       "Text(value='', description='peer', layout=Layout(width='500px'), style=DescriptionStyle(description_width='250…"
      ]
     },
     "metadata": {},
     "output_type": "display_data"
    }
   ],
   "source": [
    "import os\n",
    "import json\n",
    "import subprocess\n",
    "import pandas as pd\n",
    "\n",
    "def handle_submit(text):\n",
    "    global peername\n",
    "    peername = text.value\n",
    "    os.environ['PEER_NAME'] = peername\n",
    "    !cd /home/jovyan/scray/projects/invoice-hyperledger-fabric/containers/ && /home/jovyan/scray/projects/invoice-hyperledger-fabric/containers/configure-deployment.sh -n $PEER_NAME\n",
    "    !/home/jovyan/work/usr/bin/kubectl apply -f /home/jovyan/scray/projects/invoice-hyperledger-fabric/containers/target/$PEER_NAME/k8s-peer-service.yaml\n",
    "    print('done')\n",
    "    setPeerPorts(peername)\n",
    "    res = createConfig(peername=peername,peer_listen_port=os.environ['PEER_LISTEN_PORT'],peer_gossip_port=os.environ['GOSSIP_PORT'])\n",
    "    print(res)\n",
    "    !/home/jovyan/work/usr/bin/kubectl apply -f /home/jovyan/scray/projects/invoice-hyperledger-fabric/containers/target/$PEER_NAME/k8s-peer.yaml\n",
    "    \n",
    "peertext = addVisText(key='peer',value='')\n",
    "peertext.on_submit(handle_submit)      "
   ]
  },
  {
   "cell_type": "code",
   "execution_count": 291,
   "metadata": {},
   "outputs": [
    {
     "name": "stdout",
     "output_type": "stream",
     "text": [
      "bbc1 bbc5\n"
     ]
    },
    {
     "data": {
      "text/plain": [
       "('bbc1-8447cc4b78-zpq9j', '32437')"
      ]
     },
     "execution_count": 291,
     "metadata": {},
     "output_type": "execute_result"
    }
   ],
   "source": [
    "peername='bbc1'\n",
    "print (peername,os.environ['PEER_NAME'])\n",
    "pod_name = getPod(peername)\n",
    "os.environ['POD_NAME'] = pod_name\n",
    "listen_port=getPort(peername=peername, name='peer-listen')\n",
    "pod_name,listen_port"
   ]
  },
  {
   "cell_type": "code",
   "execution_count": 290,
   "metadata": {},
   "outputs": [
    {
     "data": {
      "text/plain": [
       "b''"
      ]
     },
     "execution_count": 290,
     "metadata": {},
     "output_type": "execute_result"
    }
   ],
   "source": [
    "#!/home/jovyan/work/usr/bin/kubectl exec --stdin --tty $POD_NAME  -c scray-peer-cli touch /root/.bashrc\n",
    "addEnvVariable(pod_name, 'ORDERER_CA', '/tmp/tlsca.example.com-cert.pem')\n",
    "addEnvVariable(pod_name, 'ORDERER_HOSTNAME', 'orderer.example.com')\n",
    "addEnvVariable(pod_name, 'CHANNEL_NAME', 'mychannel')\n",
    "addEnvVariable(pod_name, 'CORE_PEER_ADDRESS', 'peer0.kubernetes.research.dev.seeburger.de:' + listen_port)\n",
    "addEnvVariable(pod_name, 'CORE_PEER_MSPCONFIGPATH', '/mnt/conf/organizations/peerOrganizations/kubernetes.research.dev.seeburger.de/users/Admin@kubernetes.research.dev.seeburger.de/msp')\n",
    "addEnvVariable(pod_name, 'SHARED_FS_HOST', '10.15.136.41:30080')\n",
    "addEnvVariable(pod_name, 'SHARED_FS_USER', 'scray')\n",
    "addEnvVariable(pod_name, 'SHARED_FS_PW', 'scray')"
   ]
  },
  {
   "cell_type": "code",
   "execution_count": 145,
   "metadata": {},
   "outputs": [
    {
     "name": "stdout",
     "output_type": "stream",
     "text": [
      "kubectl exec [POD] [COMMAND] is DEPRECATED and will be removed in a future version. Use kubectl kubectl exec [POD] -- [COMMAND] instead.\n"
     ]
    }
   ],
   "source": [
    "setPeerEnvironment(peername)\n",
    "\n",
    "#!/home/jovyan/work/usr/bin/kubectl exec --stdin --tty 'lara2-5d8bd488d6-kll5n' -c lara2 -- /bin/bash pwd"
   ]
  },
  {
   "cell_type": "code",
   "execution_count": 240,
   "metadata": {},
   "outputs": [],
   "source": [
    "#!/home/jovyan/work/usr/bin/kubectl  exec --stdin --tty $POD_NAME  -c scray-peer-cli chmod 755  /root/.bashrc\n",
    "#!/home/jovyan/work/usr/bin/kubectl  exec --stdin --tty $POD_NAME  -c maja3 echo 'export ORDERER_CA=/tmp/tlsca.example.com-cert.pem' >> /root/.bashrc\n",
    "#!/home/jovyan/work/usr/bin/kubectl  exec --stdin --tty $POD_NAME -c maja3 -- echo 'export ORDERER_CA=/tmp/tlsca.example.com-cert.pem' >> /tmp/.bashrc\n",
    "########## execute commands in container\n",
    "#!/home/jovyan/work/usr/bin/kubectl  exec -it $POD_NAME -c maja3 -- /bin/sh -c \"ls -l / && hostname\"\n",
    "#!/home/jovyan/work/usr/bin/kubectl  exec -it $POD_NAME -c scray-peer-cli -- /bin/bash -c \"ls -l / && hostname\"\n",
    "!/home/jovyan/work/usr/bin/kubectl  exec -it $POD_NAME -c scray-peer-cli -- /bin/bash -c \"echo 'export ORDERER_CA=/tmp/tlsca.example.com-cert.pem' >> /root/.bashrc\""
   ]
  },
  {
   "cell_type": "code",
   "execution_count": 22,
   "metadata": {},
   "outputs": [
    {
     "data": {
      "text/plain": [
       "''"
      ]
     },
     "execution_count": 22,
     "metadata": {},
     "output_type": "execute_result"
    }
   ],
   "source": [
    "def downloadToLocal(host='10.15.136.41:30080',user='scray', pwd='scray',\n",
    "                    local_path='./', local_name='' ,remote_path='upload'):  \n",
    "    try:    \n",
    "        output = subprocess.check_output(['curl', '--user',user + ':' + pwd, \n",
    "                                               'http://' + host + '/' + remote_path + '/' + local_name, '-o', local_path + '/' + local_name])\n",
    "        #return str(callProcess)[3:-3]\n",
    "        return output.decode('ascii')\n",
    "    except Exception as e:\n",
    "        return str(e)     \n",
    "                    \n",
    "                    \n",
    "downloadToLocal(local_path='./', local_name='org3_update_in_envelope.pb' ,remote_path='upload')"
   ]
  },
  {
   "cell_type": "code",
   "execution_count": 102,
   "metadata": {},
   "outputs": [
    {
     "name": "stdout",
     "output_type": "stream",
     "text": [
      "/bin/sh: can't open 'export': No such file or directory\n",
      "command terminated with exit code 2\n"
     ]
    }
   ],
   "source": [
    "setPeerEnvironment('tanja2')\n",
    "!/home/jovyan/work/usr/bin/kubectl exec --stdin --tty $POD_NAME  -c scray-peer-cli --  /bin/sh export ORDERER_CA=\"/tmp/tlsca.example.com-cert.pem\"\n",
    "#!/home/jovyan/work/usr/bin/kubectl exec --stdin --tty $POD_NAME  -c scray-peer-cli --  ORDERER_HOSTNAME=\"orderer.example.com\"\n",
    "#!/home/jovyan/work/usr/bin/kubectl exec --stdin --tty $POD_NAME  -c scray-peer-cli --  CHANNEL_NAME=\"mychannel\"\n",
    "#!/home/jovyan/work/usr/bin/kubectl exec --stdin --tty $POD_NAME  -c scray-peer-cli --  CORE_PEER_ADDRESS=\"peer0.kubernetes.research.dev.seeburger.de:32222\"\n",
    "#!/home/jovyan/work/usr/bin/kubectl exec --stdin --tty $POD_NAME  -c scray-peer-cli --  CORE_PEER_MSPCONFIGPATH=\"/mnt/conf/organizations/peerOrganizations/kubernetes.research.dev.seeburger.de/users/Admin@kubernetes.research.dev.seeburger.de/msp\"\n",
    "\n",
    "\n",
    "!/home/jovyan/work/usr/bin/kubectl exec --stdin --tty $POD_NAME  -c scray-peer-cli -- env | fgrep ORDERER_HOSTNAME"
   ]
  },
  {
   "cell_type": "code",
   "execution_count": 241,
   "metadata": {},
   "outputs": [
    {
     "name": "stdout",
     "output_type": "stream",
     "text": [
      "maja2-54db4fffd6-lqzbr 30781\n"
     ]
    }
   ],
   "source": [
    "peername='maja2'\n",
    "setPeerEnvironment(peername)\n",
    "os.environ['ORDERER_HOSTNAME'] = 'orderer.example.com'\n",
    "#!/home/jovyan/work/usr/bin/kubectl exec --stdin --tty $POD_NAME  -c scray-peer-cli -- env | fgrep ORDERER\n",
    "#!/home/jovyan/work/usr/bin/kubectl exec --stdin --tty $POD_NAME  -c scray-peer-cli -- which export\n",
    "print(getPod(peername),getPort(peername=peername, name='peer-listen'))"
   ]
  },
  {
   "cell_type": "code",
   "execution_count": null,
   "metadata": {},
   "outputs": [],
   "source": [
    "export ORDERER_CA=/tmp/tlsca.example.com-cert.pem\n",
    "export ORDERER_HOSTNAME=\"orderer.example.com\"\n",
    "export CHANNEL_NAME=\"mychannel\"\n",
    "export CORE_PEER_ADDRESS=\"peer0.kubernetes.research.dev.seeburger.de:32190\"\n",
    "export CORE_PEER_MSPCONFIGPATH=\"/mnt/conf/organizations/peerOrganizations/kubernetes.research.dev.seeburger.de/users/Admin@kubernetes.research.dev.seeburger.de/msp\"\n",
    "export SHARED_FS_HOST=10.15.136.41:30080\n",
    "export SHARED_FS_USER=scray\n",
    "export SHARED_FS_PW=scray\n",
    "\n",
    "curl --user $SHARED_FS_USER:$SHARED_FS_PW http://$SHARED_FS_HOST/ca/tlsca.example.com-cert.pem > /tmp/tlsca.example.com-cert.pem\n",
    "curl --user scray:scray http://10.15.136.41:30080/upload/org3_update_in_envelope.pb -o ./org3_update_in_envelope.pb\n",
    "peer channel signconfigtx -f org3_update_in_envelope.pb\n",
    "curl --user scray:scray -T ./org3_update_in_envelope.pb http://10.15.136.41:30080/upload/org3_update_in_envelope.pb\n",
    "  "
   ]
  },
  {
   "cell_type": "code",
   "execution_count": 89,
   "metadata": {},
   "outputs": [
    {
     "name": "stdout",
     "output_type": "stream",
     "text": [
      "-rw-r--r-- 1 jovyan users 11348 Dec 22 17:46 ./org3_update_in_envelope.pb\n",
      "  % Total    % Received % Xferd  Average Speed   Time    Time     Time  Current\n",
      "                                 Dload  Upload   Total   Spent    Left  Speed\n",
      "100  9666  100  9666    0     0   524k      0 --:--:-- --:--:-- --:--:--  555k\n",
      "\u001b[34m2020-12-23 12:07:28.595 UTC [channelCmd] InitCmdFactory -> INFO 001\u001b[0m Endorser and orderer connections initialized\n"
     ]
    }
   ],
   "source": [
    "!ls -l ./*.pb\n",
    "\n",
    "#sign update\n",
    "#createEnvironmentForPeer(localmspid=mspid2, tlsrootcert=crt2, mspconfigpath=msp2, peeraddress=addr2)\n",
    "#setPeerEnvironment('carla1')\n",
    "setPeerEnvironment('tanja2')\n",
    "!/home/jovyan/work/usr/bin/kubectl exec --stdin --tty $POD_NAME  -c scray-peer-cli -- curl --user scray:scray http://10.15.136.41:30080/upload/org3_update_in_envelope.pb -o ./org3_update_in_envelope.pb\n",
    "!/home/jovyan/work/usr/bin/kubectl exec --stdin --tty $POD_NAME  -c scray-peer-cli -- peer channel signconfigtx -f org3_update_in_envelope.pb\n",
    "!/home/jovyan/work/usr/bin/kubectl exec --stdin --tty $POD_NAME  -c scray-peer-cli -- curl --user scray:scray -T ./org3_update_in_envelope.pb http://10.15.136.41:30080/upload/org3_update_in_envelope.pb\n",
    "  "
   ]
  },
  {
   "cell_type": "markdown",
   "metadata": {},
   "source": [
    "Step 3"
   ]
  },
  {
   "cell_type": "code",
   "execution_count": 288,
   "metadata": {},
   "outputs": [
    {
     "name": "stdout",
     "output_type": "stream",
     "text": [
      "maja3-d79b8d8fd-t9z4t\n",
      "fetch http://dl-cdn.alpinelinux.org/alpine/v3.12/main/x86_64/APKINDEX.tar.gz\n",
      "fetch http://dl-cdn.alpinelinux.org/alpine/v3.12/community/x86_64/APKINDEX.tar.gz\n",
      "(1/1) Installing curl (7.69.1-r3)\n",
      "\u001b7  0%                                                                           \u001b8\u001b[0K\u001b7100% ##########################################################################\u001b8\u001b[0KExecuting busybox-1.31.1-r16.trigger\n",
      "OK: 29 MiB in 28 packages\n",
      "(1/17) Installing fstrm (0.6.0-r1)\n",
      "\u001b7  0%                                                                           \u001b8\u001b[0K(2/17) Installing libgcc (9.3.0-r2)\n",
      "\u001b7  0%                                                                           \u001b8\u001b[0K(3/17) Installing krb5-conf (1.0-r2)\n",
      "\u001b7  1%                                                                           \u001b8\u001b[0K(4/17) Installing libcom_err (1.45.6-r0)\n",
      "\u001b7  1%                                                                           \u001b8\u001b[0K(5/17) Installing keyutils-libs (1.6.1-r1)\n",
      "\u001b7  1% #                                                                         \u001b8\u001b[0K(6/17) Installing libverto (0.3.1-r1)\n",
      "\u001b7  1% #                                                                         \u001b8\u001b[0K(7/17) Installing krb5-libs (1.18.3-r0)\n",
      "\u001b7  1% #                                                                         \u001b8\u001b[0K\u001b7  2% #                                                                         \u001b8\u001b[0K\u001b7  2% ##                                                                        \u001b8\u001b[0K\u001b7  3% ##                                                                        \u001b8\u001b[0K\u001b7  5% ####                                                                      \u001b8\u001b[0K\u001b7  6% ####                                                                      \u001b8\u001b[0K\u001b7  7% #####                                                                     \u001b8\u001b[0K\u001b7  8% ######                                                                    \u001b8\u001b[0K\u001b7  9% ######                                                                    \u001b8\u001b[0K\u001b7  9% #######                                                                   \u001b8\u001b[0K\u001b7 10% #######                                                                   \u001b8\u001b[0K\u001b7 16% ###########                                                               \u001b8\u001b[0K(8/17) Installing json-c (0.14-r1)\n",
      "\u001b7 16% ############                                                              \u001b8\u001b[0K(9/17) Installing libstdc++ (9.3.0-r2)\n",
      "\u001b7 17% ############                                                              \u001b8\u001b[0K(10/17) Installing libprotobuf (3.12.2-r0)\n",
      "\u001b7 29% #####################                                                     \u001b8\u001b[0K\u001b7 44% #################################                                         \u001b8\u001b[0K(11/17) Installing libprotoc (3.12.2-r0)\n",
      "\u001b7 47% ###################################                                       \u001b8\u001b[0K(12/17) Installing protobuf-c (1.3.3-r1)\n",
      "\u001b7 61% #############################################                             \u001b8\u001b[0K\u001b7 62% ##############################################                            \u001b8\u001b[0K(13/17) Installing libuv (1.38.1-r0)\n",
      "\u001b7 62% ##############################################                            \u001b8\u001b[0K\u001b7 63% ###############################################                           \u001b8\u001b[0K(14/17) Installing xz-libs (5.2.5-r0)\n",
      "\u001b7 64% ###############################################                           \u001b8\u001b[0K(15/17) Installing libxml2 (2.9.10-r5)\n",
      "\u001b7 65% ################################################                          \u001b8\u001b[0K(16/17) Installing bind-libs (9.16.6-r0)\n",
      "\u001b7 74% ######################################################                    \u001b8\u001b[0K\u001b7 74% #######################################################                   \u001b8\u001b[0K\u001b7 88% #################################################################         \u001b8\u001b[0K\u001b7 91% ###################################################################       \u001b8\u001b[0K\u001b7 91% ####################################################################      \u001b8\u001b[0K\u001b7 93% #####################################################################     \u001b8\u001b[0K(17/17) Installing bind-tools (9.16.6-r0)\n",
      "\u001b7 95% ######################################################################    \u001b8\u001b[0K\u001b7 96% #######################################################################   \u001b8\u001b[0K\u001b7 97% ########################################################################  \u001b8\u001b[0K\u001b7 98% ######################################################################### \u001b8\u001b[0K\u001b7 99% ######################################################################### \u001b8\u001b[0K\u001b7100% ##########################################################################\u001b8\u001b[0KExecuting busybox-1.31.1-r16.trigger\n",
      "OK: 42 MiB in 45 packages\n",
      "  % Total    % Received % Xferd  Average Speed   Time    Time     Time  Current\n",
      "                                 Dload  Upload   Total   Spent    Left  Speed\n",
      "100   847  100   847    0     0  70583      0 --:--:-- --:--:-- --:--:-- 70583\n",
      "\u001b[34m2020-12-30 15:47:41.042 UTC [channelCmd] InitCmdFactory -> INFO 001\u001b[0m Endorser and orderer connections initialized\n",
      "\u001b[34m2020-12-30 15:47:41.047 UTC [cli.common] readBlock -> INFO 002\u001b[0m Expect block, but got status: &{FORBIDDEN}\n",
      "Error: can't read the block: &{FORBIDDEN}\n",
      "\u001b[34m2020-12-30 15:47:41.140 UTC [channelCmd] InitCmdFactory -> INFO 001\u001b[0m Endorser and orderer connections initialized\n",
      "Error: genesis block file not found open mychannel.block: no such file or directory\n",
      "command terminated with exit code 1\n"
     ]
    }
   ],
   "source": [
    "print(getPod(peername))\n",
    "setPeerEnvironment(peername)    \n",
    "!/home/jovyan/work/usr/bin/kubectl exec --stdin --tty $POD_NAME  -c scray-peer-cli -- /bin/sh /mnt/conf/peer_join.sh $ORDERER_IP  $ORDERER_HOSTNAME $CHANNEL_NAME"
   ]
  },
  {
   "cell_type": "markdown",
   "metadata": {},
   "source": [
    "# Install and aprove chaincode"
   ]
  },
  {
   "cell_type": "code",
   "execution_count": 115,
   "metadata": {},
   "outputs": [
    {
     "name": "stdout",
     "output_type": "stream",
     "text": [
      "  % Total    % Received % Xferd  Average Speed   Time    Time     Time  Current\n",
      "                                 Dload  Upload   Total   Spent    Left  Speed\n",
      "100   450  100   450    0     0   3308      0 --:--:-- --:--:-- --:--:--  3308\n",
      "\u001b[34m2020-12-23 17:07:53.909 UTC [cli.lifecycle.chaincode] submitInstallProposal -> INFO 001\u001b[0m Installed remotely: response:<status:200 payload:\"\\nJbasic_1.0:5a294a12a1a89cd4eed3d4234fbc79f42eab2ac20cd176bc8ebbc07c597cd0ee\\022\\tbasic_1.0\" > \n",
      "\u001b[34m2020-12-23 17:07:53.909 UTC [cli.lifecycle.chaincode] submitInstallProposal -> INFO 002\u001b[0m Chaincode code package identifier: basic_1.0:5a294a12a1a89cd4eed3d4234fbc79f42eab2ac20cd176bc8ebbc07c597cd0ee\n",
      "\u001b[34m2020-12-23 17:07:56.108 UTC [chaincodeCmd] ClientWait -> INFO 001\u001b[0m txid [c35fbb455b3f8f341299c7689289e2f39d1d428a1ad6a058bbc01eb18957f794] committed with status (VALID) at peer0.kubernetes.research.dev.seeburger.de:32190\n"
     ]
    }
   ],
   "source": [
    "setPeerEnvironment('tanja2')\n",
    "installAndAproveChaincode()"
   ]
  },
  {
   "cell_type": "code",
   "execution_count": 116,
   "metadata": {},
   "outputs": [
    {
     "name": "stdout",
     "output_type": "stream",
     "text": [
      "OCI runtime exec failed: exec failed: container_linux.go:349: starting container process caused \"exec: \\\"lifecycle\\\": executable file not found in $PATH\": unknown\n",
      "command terminated with exit code 126\n"
     ]
    }
   ],
   "source": [
    "#!/home/jovyan/work/usr/bin/kubectl exec --stdin --tty $POD_NAME -c scray-peer-cli -- lifecycle chaincode querycommitted --channelID mychannel --name basic --output json"
   ]
  },
  {
   "cell_type": "code",
   "execution_count": 117,
   "metadata": {},
   "outputs": [
    {
     "name": "stdout",
     "output_type": "stream",
     "text": [
      "tanja2-768f8dd45d-f6z66 10.14.128.38 10.15.128.97\n",
      "  % Total    % Received % Xferd  Average Speed   Time    Time     Time  Current\n",
      "                                 Dload  Upload   Total   Spent    Left  Speed\n",
      "100   450  100   450    0     0   1956      0 --:--:-- --:--:-- --:--:--  1956\n",
      "Error: chaincode install failed with status: 500 - failed to invoke backing implementation of 'InstallChaincode': chaincode already successfully installed\n",
      "Error: proposal failed with status: 500 - failed to invoke backing implementation of 'ApproveChaincodeDefinitionForMyOrg': attempted to redefine uncommitted sequence (1) for namespace basic with unchanged content\n",
      "command terminated with exit code 1\n"
     ]
    }
   ],
   "source": [
    "#setPeerEnvironment('klaus')\n",
    "!echo  $POD_NAME $IP_CC_SERVICE $IP_OF_EXAMPLE_NETWORK\n",
    "\n",
    "# Host where the chaincode is running\n",
    "os.environ['IP_CC_SERVICE']='10.14.128.38'\n",
    "#Host where the example network is running\n",
    "os.environ['IP_OF_EXAMPLE_NETWORK']='10.15.128.97'\n",
    "!/home/jovyan/work/usr/bin/kubectl exec --stdin --tty $POD_NAME -c scray-peer-cli -- /bin/sh /mnt/conf/install_and_approve_cc.sh $IP_CC_SERVICE $IP_OF_EXAMPLE_NETWORK"
   ]
  },
  {
   "cell_type": "code",
   "execution_count": null,
   "metadata": {},
   "outputs": [],
   "source": [
    "!ping orderer.example.com 7050"
   ]
  },
  {
   "cell_type": "markdown",
   "metadata": {},
   "source": [
    "# ------------------------------------------------------------------------"
   ]
  },
  {
   "cell_type": "markdown",
   "metadata": {},
   "source": [
    "# Shell only"
   ]
  },
  {
   "cell_type": "code",
   "execution_count": null,
   "metadata": {},
   "outputs": [],
   "source": [
    "#!echo $GOSSIP_PORT, $PEER_NAME\n",
    "getPort(peername=peername, name='peer-listen')"
   ]
  },
  {
   "cell_type": "code",
   "execution_count": null,
   "metadata": {},
   "outputs": [],
   "source": [
    "GOSSIP_PORT=$(kubectl get service $PEER_NAME -o jsonpath=\"{.spec.ports[?(@.name=='peer-gossip')].nodePort}\")\n",
    "PEER_LISTEN_PORT=$(kubectl get service $PEER_NAME -o jsonpath=\"{.spec.ports[?(@.name=='peer-listen')].nodePort}\")\n",
    "PEER_CHAINCODE_PORT=$(kubectl get service $PEER_NAME -o jsonpath=\"{.spec.ports[?(@.name=='peer-chaincode')].nodePort}\")\n"
   ]
  },
  {
   "cell_type": "code",
   "execution_count": null,
   "metadata": {},
   "outputs": [],
   "source": [
    "!echo $(/home/jovyan/work/usr/bin/kubectl get service $PEER_NAME -o jsonpath=\"{.spec.ports[?(@.name=='peer-gossip')].nodePort}\")\n",
    "!echo $(/home/jovyan/work/usr/bin/kubectl get service $PEER_NAME -o jsonpath=\"{.spec.ports[?(@.name=='peer-listen')].nodePort}\")\n",
    "!echo $(/home/jovyan/work/usr/bin/kubectl get service $PEER_NAME -o jsonpath=\"{.spec.ports[?(@.name=='peer-chaincode')].nodePort}\")"
   ]
  },
  {
   "cell_type": "code",
   "execution_count": null,
   "metadata": {},
   "outputs": [],
   "source": [
    "os.environ['GOSSIP_PORT'] = \"32068\"  \n",
    "os.environ['PEER_LISTEN_PORT'] = \"30251\"\n",
    "os.environ['PEER_CHAINCODE_PORT'] = \"30052\"\n",
    "!echo $GOSSIP_PORT\n",
    "#!echo $(/home/jovyan/work/usr/bin/kubectl get service $PEER_NAME -o jsonpath=\"{.spec.ports[?(@.name=='peer-gossip')].nodePort}\")"
   ]
  },
  {
   "cell_type": "code",
   "execution_count": null,
   "metadata": {},
   "outputs": [],
   "source": [
    "!/home/jovyan/work/usr/bin/kubectl create configmap hl-fabric-peer-$PEER_NAME \\\n",
    " --from-literal=hostname=kubernetes.research.dev.seeburger.de \\\n",
    " --from-literal=org_name=$PEER_NAME \\\n",
    " --from-literal=CORE_PEER_ADDRESS=kubernetes.research.dev.seeburger.de:$PEER_LISTEN_PORT \\\n",
    " --from-literal=CORE_PEER_GOSSIP_EXTERNALENDPOINT=kubernetes.research.dev.seeburger.de:$GOSSIP_PORT \\\n",
    " --from-literal=CORE_PEER_LOCALMSPID=${PEER_NAME}MSP"
   ]
  },
  {
   "cell_type": "code",
   "execution_count": null,
   "metadata": {},
   "outputs": [],
   "source": [
    "!/home/jovyan/work/usr/bin/kubectl apply -f /home/jovyan/scray/projects/invoice-hyperledger-fabric/containers/target/$PEER_NAME/k8s-peer.yaml"
   ]
  },
  {
   "cell_type": "code",
   "execution_count": null,
   "metadata": {},
   "outputs": [],
   "source": [
    "POD_NAME=$(/home/jovyan/work/usr/bin/kubectl  get pod -l app=peer0-org1-scray-org -o jsonpath=\"{.items[0].metadata.name}\")\n",
    "kubectl exec --stdin --tty $POD_NAME  -c scray-peer-cli -- /bin/sh /mnt/conf/peer_join.sh $ORDERER_IP  $ORDERER_HOSTNAME $CHANNEL_NAME"
   ]
  },
  {
   "cell_type": "code",
   "execution_count": null,
   "metadata": {},
   "outputs": [],
   "source": [
    "!echo $(/home/jovyan/work/usr/bin/kubectl  get pod -l app=$PEER_NAME -o jsonpath=\"{.items[0].metadata.name}\")\n"
   ]
  },
  {
   "cell_type": "code",
   "execution_count": null,
   "metadata": {},
   "outputs": [],
   "source": [
    "os.environ['POD_NAME'] = \"tom-6647c77bbb-hjlkc\"\n",
    "os.environ['ORDERER_IP'] = '10.15.128.97'\n",
    "os.environ['ORDERER_HOSTNAME'] = 'orderer.example.com'\n",
    "os.environ['CHANNEL_NAME'] = 'mychannel'\n",
    "\n",
    "!/home/jovyan/work/usr/bin/kubectl exec --stdin --tty $POD_NAME  -c scray-peer-cli -- /bin/sh /mnt/conf/peer_join.sh $ORDERER_IP  $ORDERER_HOSTNAME $CHANNEL_NAME"
   ]
  },
  {
   "cell_type": "markdown",
   "metadata": {},
   "source": [
    "# Delete old peer"
   ]
  },
  {
   "cell_type": "code",
   "execution_count": null,
   "metadata": {},
   "outputs": [],
   "source": [
    "!/home/jovyan/work/usr/bin/kubectl delete configmap hl-fabric-peer-klaus\n",
    "!/home/jovyan/work/usr/bin/kubectl delete -f /home/jovyan/scray/projects/invoice-hyperledger-fabric/containers/target/klaus/k8s-peer.yaml\n",
    "!/home/jovyan/work/usr/bin/kubectl delete service klaus"
   ]
  },
  {
   "cell_type": "code",
   "execution_count": 76,
   "metadata": {},
   "outputs": [
    {
     "name": "stdout",
     "output_type": "stream",
     "text": [
      "service \"tom\" deleted\n"
     ]
    }
   ],
   "source": [
    "#deletePeer('carla1')"
   ]
  },
  {
   "cell_type": "code",
   "execution_count": 245,
   "metadata": {},
   "outputs": [
    {
     "name": "stdout",
     "output_type": "stream",
     "text": [
      "NAME                     DATA   AGE\n",
      "hl-fabric-peer           5      22d\n",
      "hl-fabric-peer-bb1       5      7d3h\n",
      "hl-fabric-peer-bbc1      5      2m29s\n",
      "hl-fabric-peer-bbc2      5      101s\n",
      "hl-fabric-peer-bbc3      5      92s\n",
      "hl-fabric-peer-bbc4      5      85s\n",
      "hl-fabric-peer-maja      5      21h\n",
      "hl-fabric-peer-maja3     5      20h\n",
      "hl-fabric-peer-maja4     5      39m\n",
      "hl-fabric-peer-maja5     5      6m24s\n",
      "hl-fabric-peer-peer-42   5      15d\n",
      "hl-fabric-peer-rr        5      15d\n",
      "hl-fabric-peer-rrf3      5      15d\n",
      "hl-fabric-peer-tanja1    5      7d3h\n",
      "hl-fabric-peer-tanja2    5      7d1h\n",
      "hl-fabric-peer-tanja3    5      7d1h\n",
      "hl-fabric-peer-tom       5      15d\n",
      "special-config           2      28d\n",
      "NAME                              READY   UP-TO-DATE   AVAILABLE   AGE\n",
      "bb1                               1/1     1            1           7d3h\n",
      "bbc1                              0/1     1            0           2m29s\n",
      "bbc2                              0/1     1            0           101s\n",
      "bbc3                              0/1     1            0           93s\n",
      "bbc4                              0/1     1            0           85s\n",
      "ff                                1/1     1            1           18d\n",
      "hello-world                       5/5     5            5           15d\n",
      "hl-fabric-data-share-deployment   1/1     1            1           78d\n",
      "invoice-chaincode-external        1/1     1            1           22d\n",
      "jenny2                            1/1     1            1           14d\n",
      "jenny3                            1/1     1            1           14d\n",
      "klaus3                            1/1     1            1           13d\n",
      "klaus4                            1/1     1            1           13d\n",
      "klaus6                            1/1     1            1           12d\n",
      "maja                              1/1     1            1           21h\n",
      "maja1                             0/1     1            0           20h\n",
      "maja2                             0/1     1            0           20h\n",
      "maja3                             1/1     1            1           20h\n",
      "maja4                             0/1     1            0           39m\n",
      "maja5                             0/1     1            0           6m24s\n",
      "peer-42                           1/1     1            1           15d\n",
      "peer0-org1-scray-org              1/1     1            1           22d\n",
      "rr                                1/1     1            1           15d\n",
      "rrf2                              0/1     1            0           15d\n",
      "rrf3                              1/1     1            1           15d\n",
      "tanja1                            1/1     1            1           7d3h\n",
      "tanja2                            1/1     1            1           7d1h\n",
      "tanja3                            1/1     1            1           7d1h\n",
      "tom                               1/1     1            1           15d\n",
      "NAME                            TYPE        CLUSTER-IP       EXTERNAL-IP   PORT(S)                                          AGE\n",
      "bb1                             NodePort    10.105.83.215    <none>        30001:32420/TCP,30002:31820/TCP,7051:31485/TCP   7d3h\n",
      "bb2                             NodePort    10.100.247.113   <none>        30001:31396/TCP,30002:31481/TCP,7051:30370/TCP   7d3h\n",
      "bbc1                            NodePort    10.104.58.78     <none>        30001:30629/TCP,30002:32687/TCP,7051:32437/TCP   2m31s\n",
      "bbc2                            NodePort    10.101.177.213   <none>        30001:32081/TCP,30002:30042/TCP,7051:32603/TCP   104s\n",
      "bbc3                            NodePort    10.109.35.126    <none>        30001:30140/TCP,30002:32470/TCP,7051:32213/TCP   95s\n",
      "bbc4                            NodePort    10.108.124.225   <none>        30001:30531/TCP,30002:32204/TCP,7051:30594/TCP   88s\n",
      "carla2                          NodePort    10.111.209.102   <none>        30001:32263/TCP,30002:30368/TCP,7051:32664/TCP   12d\n",
      "couchdb0                        ClusterIP   10.96.50.123     <none>        5984/TCP                                         162d\n",
      "couchdb1                        ClusterIP   10.105.4.6       <none>        7984/TCP                                         162d\n",
      "ff                              NodePort    10.104.72.125    <none>        30001:31940/TCP,30002:30191/TCP,7051:31958/TCP   18d\n",
      "hl-fabric-cc-external-invoice   NodePort    10.104.215.138   <none>        9999:30999/TCP                                   22d\n",
      "hl-fabric-data-share-service    NodePort    10.107.10.68     <none>        80:30080/TCP                                     78d\n",
      "jenny                           NodePort    10.106.21.178    <none>        30001:32612/TCP,30002:30612/TCP,7051:31088/TCP   14d\n",
      "jenny2                          NodePort    10.102.205.249   <none>        30001:32677/TCP,30002:30500/TCP,7051:30567/TCP   14d\n",
      "jenny3                          NodePort    10.99.168.116    <none>        30001:30354/TCP,30002:32655/TCP,7051:31139/TCP   14d\n",
      "klaus3                          NodePort    10.96.142.36     <none>        30001:30637/TCP,30002:32013/TCP,7051:31609/TCP   13d\n",
      "klaus4                          NodePort    10.104.50.182    <none>        30001:30916/TCP,30002:30983/TCP,7051:30698/TCP   13d\n",
      "klaus6                          NodePort    10.98.3.91       <none>        30001:30326/TCP,30002:30801/TCP,7051:31586/TCP   12d\n",
      "kubernetes                      ClusterIP   10.96.0.1        <none>        443/TCP                                          163d\n",
      "lara                            NodePort    10.106.40.19     <none>        30001:31200/TCP,30002:31164/TCP,7051:30230/TCP   12d\n",
      "maja                            NodePort    10.103.87.28     <none>        30001:31496/TCP,30002:31848/TCP,7051:32604/TCP   21h\n",
      "maja1                           NodePort    10.99.110.155    <none>        30001:32602/TCP,30002:30961/TCP,7051:30169/TCP   20h\n",
      "maja2                           NodePort    10.103.103.131   <none>        30001:32141/TCP,30002:30975/TCP,7051:30781/TCP   20h\n",
      "maja3                           NodePort    10.96.80.72      <none>        30001:30742/TCP,30002:30697/TCP,7051:30935/TCP   20h\n",
      "maja4                           NodePort    10.104.111.123   <none>        30001:32570/TCP,30002:32022/TCP,7051:32166/TCP   39m\n",
      "maja5                           NodePort    10.102.148.1     <none>        30001:30491/TCP,30002:32618/TCP,7051:30492/TCP   6m27s\n",
      "my-service                      NodePort    10.106.248.7     <none>        80:31585/TCP                                     19d\n",
      "orderer-example-com             ClusterIP   10.98.196.178    <none>        7050/TCP                                         162d\n",
      "peer-42                         NodePort    10.103.232.4     <none>        30001:31284/TCP,30002:31847/TCP,7051:30825/TCP   15d\n",
      "peer0-org1-example-com          ClusterIP   10.100.33.145    <none>        7051/TCP                                         162d\n",
      "peer0-org1-scray-org            NodePort    10.111.188.194   <none>        30001:30001/TCP,30002:30002/TCP,7051:30003/TCP   22d\n",
      "peer0-org2-example-com          ClusterIP   10.103.49.175    <none>        9051/TCP                                         162d\n",
      "rr                              NodePort    10.98.15.119     <none>        30001:30867/TCP,30002:32701/TCP,7051:30529/TCP   15d\n",
      "rrf3                            NodePort    10.103.93.53     <none>        30001:32303/TCP,30002:31467/TCP,7051:31839/TCP   15d\n",
      "spdf                            NodePort    10.105.221.15    <none>        30001:32628/TCP,30002:31316/TCP,7051:30429/TCP   15d\n",
      "tanja1                          NodePort    10.106.167.6     <none>        30001:30950/TCP,30002:32380/TCP,7051:30779/TCP   7d3h\n",
      "tanja2                          NodePort    10.99.126.120    <none>        30001:30641/TCP,30002:31450/TCP,7051:32190/TCP   7d1h\n",
      "tanja3                          NodePort    10.97.252.1      <none>        30001:31030/TCP,30002:30136/TCP,7051:30696/TCP   7d1h\n"
     ]
    }
   ],
   "source": [
    "!/home/jovyan/work/usr/bin/kubectl get configmap \n",
    "!/home/jovyan/work/usr/bin/kubectl get deployments \n",
    "#!/home/jovyan/work/usr/bin/kubectl get svc -o json\n",
    "!/home/jovyan/work/usr/bin/kubectl get svc"
   ]
  },
  {
   "cell_type": "markdown",
   "metadata": {},
   "source": [
    "# Create new peer and 'apply'"
   ]
  },
  {
   "cell_type": "code",
   "execution_count": null,
   "metadata": {},
   "outputs": [],
   "source": [
    "!/home/jovyan/work/usr/bin/kubectl create configmap hl-fabric-peer \\\n",
    " --from-literal=hostname=kubernetes.research.dev.seeburger.de \\\n",
    " --from-literal=org_name=OrgSally \\ \n",
    " --from-literal=CORE_PEER_ADDRESS=kubernetes.research.dev.seeburger.de:30003 \\\n",
    " --from-literal=CORE_PEER_GOSSIP_EXTERNALENDPOINT=kubernetes.research.dev.seeburger.de:30001 \\\n",
    " --from-literal=CORE_PEER_LOCALMSPID=OrgSallyMSP\n",
    "\n",
    "!/home/jovyan/work/usr/bin/kubectl apply -f https://raw.githubusercontent.com/scray/scray/feature/k8s-peer/projects/invoice-hyperledger-fabric/containers/k8s-peer.yaml        "
   ]
  },
  {
   "cell_type": "markdown",
   "metadata": {},
   "source": [
    "1. Der neue Peer wurde erzeugt. All relevant infos and cryptos for the application is uploaded to external sharepoint\n",
    "2. Now the application needs to be signed by other peers"
   ]
  },
  {
   "cell_type": "markdown",
   "metadata": {},
   "source": [
    "# Now the peer can join the network"
   ]
  },
  {
   "cell_type": "code",
   "execution_count": null,
   "metadata": {},
   "outputs": [],
   "source": [
    "import os\n",
    "import json\n",
    "import subprocess\n",
    "import pandas as pd\n",
    "\n",
    "!/home/jovyan/work/usr/bin/kubectl get pods\n",
    "os.environ['POD_NAME'] = 'peer0-org1-scray-org-5c4d69f556-snz5c'"
   ]
  },
  {
   "cell_type": "code",
   "execution_count": null,
   "metadata": {},
   "outputs": [],
   "source": [
    "#!/home/jovyan/work/usr/bin/kubectl get pods | fgrep peer0\n",
    "#!POD_NAME=$(/home/jovyan/work/usr/bin/kubectl get pod -l app=peer0-org1-scray-org | tail -n 1 | cut -d' ' -f1)\n",
    "os.environ['ORDERER_IP'] = '10.15.128.97'\n",
    "os.environ['ORDERER_HOSTNAME'] = 'orderer.example.com'\n",
    "os.environ['CHANNEL_NAME'] = 'mychannel'\n",
    "\n",
    "!echo $POD_NAME\n",
    "!/home/jovyan/work/usr/bin/kubectl exec --stdin --tty $POD_NAME -c scray-peer-cli -- /bin/sh /mnt/conf/peer_join.sh $ORDERER_IP $ORDERER_HOSTNAME $CHANNEL_NAME"
   ]
  },
  {
   "cell_type": "code",
   "execution_count": null,
   "metadata": {},
   "outputs": [],
   "source": [
    "#!/home/jovyan/work/usr/bin/kubectl exec --stdin --tty peer0-org1-scray-org-84ddc5757f-glbgn -c scray-peer-cli -- /bin/sh /mnt/conf/install_and_approve_cc.sh $IP_CC_SERVICE $IP_OF_EXAMPLE_NETWORK"
   ]
  },
  {
   "cell_type": "markdown",
   "metadata": {},
   "source": [
    "# Install and aprove chaincode"
   ]
  },
  {
   "cell_type": "code",
   "execution_count": null,
   "metadata": {},
   "outputs": [],
   "source": [
    "# Host where the chaincode is running\n",
    "os.environ['IP_CC_SERVICE']='10.14.128.38'\n",
    "#Host where the example network is running\n",
    "os.environ['IP_OF_EXAMPLE_NETWORK']='10.15.128.97'\n",
    "!/home/jovyan/work/usr/bin/kubectl exec --stdin --tty $POD_NAME -c scray-peer-cli -- /bin/sh /mnt/conf/install_and_approve_cc.sh $IP_CC_SERVICE $IP_OF_EXAMPLE_NETWORK"
   ]
  },
  {
   "cell_type": "markdown",
   "metadata": {},
   "source": [
    "# TMP"
   ]
  },
  {
   "cell_type": "code",
   "execution_count": 118,
   "metadata": {},
   "outputs": [
    {
     "name": "stdout",
     "output_type": "stream",
     "text": [
      "tanja2-768f8dd45d-f6z66 32190\n"
     ]
    }
   ],
   "source": [
    "print(getPod(peername),getPort(peername=peername, name='peer-listen'))"
   ]
  },
  {
   "cell_type": "code",
   "execution_count": 120,
   "metadata": {},
   "outputs": [
    {
     "ename": "SyntaxError",
     "evalue": "invalid syntax (<ipython-input-120-ef0d7b67c757>, line 1)",
     "output_type": "error",
     "traceback": [
      "\u001b[0;36m  File \u001b[0;32m\"<ipython-input-120-ef0d7b67c757>\"\u001b[0;36m, line \u001b[0;32m1\u001b[0m\n\u001b[0;31m    export ORDERER_CA=\"/tmp/tlsca.example.com-cert.pem\"\u001b[0m\n\u001b[0m           ^\u001b[0m\n\u001b[0;31mSyntaxError\u001b[0m\u001b[0;31m:\u001b[0m invalid syntax\n"
     ]
    }
   ],
   "source": [
    "export ORDERER_CA=\"/tmp/tlsca.example.com-cert.pem\"\n",
    "export ORDERER_HOSTNAME=\"orderer.example.com\"\n",
    "export CHANNEL_NAME=\"mychannel\"\n",
    "export CORE_PEER_ADDRESS=\"peer0.kubernetes.research.dev.seeburger.de:32190\"\n",
    "export CORE_PEER_MSPCONFIGPATH=\"/mnt/conf/organizations/peerOrganizations/kubernetes.research.dev.seeburger.de/users/Admin@kubernetes.research.dev.seeburger.de/msp\"\n",
    "\n",
    "peer lifecycle chaincode querycommitted --channelID mychannel --name basic --output json\n",
    "   "
   ]
  },
  {
   "cell_type": "code",
   "execution_count": 123,
   "metadata": {},
   "outputs": [
    {
     "data": {
      "text/plain": [
       "\"[Errno 2] No such file or directory: '/home/jovyan/work/usr/bin/kubectl exec --stdin --tty $POD_NAME -c scray-peer-cli -- peer'\""
      ]
     },
     "execution_count": 123,
     "metadata": {},
     "output_type": "execute_result"
    }
   ],
   "source": [
    "def readAsset(asset='asset1'):\n",
    "    callopt= '{\\\"function\\\":\\\"ReadAsset\\\",\\\"Args\\\":[' + '\\\"' + asset + '\\\"' + ']}'\n",
    "    try:    \n",
    "        callProcess  = subprocess.check_output(['/home/jovyan/work/usr/bin/kubectl exec --stdin --tty $POD_NAME -c scray-peer-cli -- peer', 'chaincode','query', '-C', 'mychannel', '-n', 'basic', '-c', callopt])\n",
    "        return json.loads(str(callProcess)[2:-3])\n",
    "    except Exception as e:\n",
    "        return str(e)\n",
    "    \n",
    "readAsset('asset1')    "
   ]
  },
  {
   "cell_type": "code",
   "execution_count": 122,
   "metadata": {},
   "outputs": [
    {
     "name": "stdout",
     "output_type": "stream",
     "text": [
      "Error: failed to retrieve endorser client for querycommitted: endorser client failed to connect to kubernetes.research.dev.seeburger.de:32190: failed to create new connection: context deadline exceeded\n",
      "Usage:\n",
      "  peer lifecycle chaincode querycommitted [flags]\n",
      "\n",
      "Flags:\n",
      "  -C, --channelID string               The channel on which this command should be executed\n",
      "      --connectionProfile string       The fully qualified path to the connection profile that provides the necessary connection information for the network. Note: currently only supported for providing peer connection information\n",
      "  -h, --help                           help for querycommitted\n",
      "  -n, --name string                    Name of the chaincode\n",
      "  -O, --output string                  The output format for query results. Default is human-readable plain-text. json is currently the only supported format.\n",
      "      --peerAddresses stringArray      The addresses of the peers to connect to\n",
      "      --tlsRootCertFiles stringArray   If TLS is enabled, the paths to the TLS root cert files of the peers to connect to. The order and number of certs specified should match the --peerAddresses flag\n",
      "\n",
      "Global Flags:\n",
      "      --cafile string                       Path to file containing PEM-encoded trusted certificate(s) for the ordering endpoint\n",
      "      --certfile string                     Path to file containing PEM-encoded X509 public key to use for mutual TLS communication with the orderer endpoint\n",
      "      --clientauth                          Use mutual TLS when communicating with the orderer endpoint\n",
      "      --connTimeout duration                Timeout for client to connect (default 3s)\n",
      "      --keyfile string                      Path to file containing PEM-encoded private key to use for mutual TLS communication with the orderer endpoint\n",
      "  -o, --orderer string                      Ordering service endpoint\n",
      "      --ordererTLSHostnameOverride string   The hostname override to use when validating the TLS connection to the orderer\n",
      "      --tls                                 Use TLS when communicating with the orderer endpoint\n",
      "      --tlsHandshakeTimeShift duration      The amount of time to shift backwards for certificate expiration checks during TLS handshakes with the orderer endpoint\n",
      "\n",
      "command terminated with exit code 1\n"
     ]
    }
   ],
   "source": [
    "!/home/jovyan/work/usr/bin/kubectl exec --stdin --tty $POD_NAME -c scray-peer-cli -- peer lifecycle chaincode querycommitted --channelID mychannel --name basic --output json"
   ]
  },
  {
   "cell_type": "code",
   "execution_count": 124,
   "metadata": {},
   "outputs": [
    {
     "name": "stdout",
     "output_type": "stream",
     "text": [
      "Usage:\n",
      "  peer [command]\n",
      "\n",
      "Available Commands:\n",
      "  chaincode   Operate a chaincode: install|instantiate|invoke|package|query|signpackage|upgrade|list.\n",
      "  channel     Operate a channel: create|fetch|join|list|update|signconfigtx|getinfo.\n",
      "  help        Help about any command\n",
      "  lifecycle   Perform _lifecycle operations\n",
      "  node        Operate a peer node: start|reset|rollback|pause|resume|rebuild-dbs|upgrade-dbs.\n",
      "  version     Print fabric peer version.\n",
      "\n",
      "Flags:\n",
      "  -h, --help   help for peer\n",
      "\n",
      "Use \"peer [command] --help\" for more information about a command.\n"
     ]
    }
   ],
   "source": [
    "!/home/jovyan/work/usr/bin/kubectl exec --stdin --tty $POD_NAME -c scray-peer-cli -- peer"
   ]
  }
 ],
 "metadata": {
  "kernelspec": {
   "display_name": "Python 3",
   "language": "python",
   "name": "python3"
  },
  "language_info": {
   "codemirror_mode": {
    "name": "ipython",
    "version": 3
   },
   "file_extension": ".py",
   "mimetype": "text/x-python",
   "name": "python",
   "nbconvert_exporter": "python",
   "pygments_lexer": "ipython3",
   "version": "3.8.6"
  }
 },
 "nbformat": 4,
 "nbformat_minor": 4
}
