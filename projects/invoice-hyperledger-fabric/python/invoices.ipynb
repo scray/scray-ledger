{
 "cells": [
  {
   "cell_type": "code",
   "execution_count": 1,
   "metadata": {},
   "outputs": [],
   "source": [
    "import invoiceTool\n",
    "import uuid\n",
    "import pandas as pd\n",
    "pd.set_option('display.max_rows', 500)\n",
    "\n",
    "peers = [invoiceTool.peer(addr=invoiceTool.addr1, crt=invoiceTool.crt1),\n",
    "         invoiceTool.peer(addr=invoiceTool.addr2, crt=invoiceTool.crt2)]"
   ]
  },
  {
   "cell_type": "markdown",
   "metadata": {},
   "source": [
    "# Load some invoices, add hash values"
   ]
  },
  {
   "cell_type": "code",
   "execution_count": null,
   "metadata": {},
   "outputs": [],
   "source": [
    "#https://www.kaggle.com/akpflow/super-market-analysis\n",
    "invoices = pd.read_csv('/home/jovyan/work/supermarketsales.csv')  \n",
    "invoices.set_index('Invoice ID', inplace=True)\n",
    "invoices['hash'] = invoices.apply(lambda x: hash(tuple(x)), axis = 1)"
   ]
  },
  {
   "cell_type": "code",
   "execution_count": null,
   "metadata": {},
   "outputs": [],
   "source": [
    "invoices.head()"
   ]
  },
  {
   "cell_type": "markdown",
   "metadata": {},
   "source": [
    "# Store only data needed for the usecases in the blockchain "
   ]
  },
  {
   "cell_type": "code",
   "execution_count": null,
   "metadata": {},
   "outputs": [],
   "source": [
    "def createInvoiceFromData(index=1,id = 41):\n",
    "    row = invoices.iloc[index]\n",
    "    invoiceid = row.name\n",
    "    tax = row['Tax 5%']\n",
    "    netto = row['Total'] - tax\n",
    "    hashvalue = row['hash']\n",
    "    return invoiceTool.createInvoice(id=id,invoiceNumber=invoiceid,vat=tax,netto=netto,countryOrigin='US',hash=hashvalue)\n",
    "\n",
    "for x in range(0,99):\n",
    "    createInvoiceFromData(index=x,id = 400 + x)"
   ]
  },
  {
   "cell_type": "markdown",
   "metadata": {},
   "source": [
    "# Decentral peers interact with the blockchain"
   ]
  },
  {
   "cell_type": "code",
   "execution_count": 2,
   "metadata": {},
   "outputs": [
    {
     "data": {
      "application/vnd.jupyter.widget-view+json": {
       "model_id": "5eefbeb91a754ed19419c5a21806e798",
       "version_major": 2,
       "version_minor": 0
      },
      "text/plain": [
       "Dropdown(description='Ledger', layout=Layout(width='400px'), options=('mychannel',), style=DescriptionStyle(de…"
      ]
     },
     "metadata": {},
     "output_type": "display_data"
    },
    {
     "data": {
      "application/vnd.jupyter.widget-view+json": {
       "model_id": "2a0b9826561444039631a87dc2d2c1cf",
       "version_major": 2,
       "version_minor": 0
      },
      "text/plain": [
       "Dropdown(description='Peer', layout=Layout(width='400px'), options=('peer0.org1.example.com:7051', 'peer0.org2…"
      ]
     },
     "metadata": {},
     "output_type": "display_data"
    },
    {
     "data": {
      "application/vnd.jupyter.widget-view+json": {
       "model_id": "7ba0bf4c239d43f698431bd14dafdf32",
       "version_major": 2,
       "version_minor": 0
      },
      "text/plain": [
       "Text(value='', description='Hash (invoice)', disabled=True, layout=Layout(width='400px'), style=DescriptionSty…"
      ]
     },
     "metadata": {},
     "output_type": "display_data"
    },
    {
     "data": {
      "application/vnd.jupyter.widget-view+json": {
       "model_id": "6b902ef42e5d43969bec14e69fd02e94",
       "version_major": 2,
       "version_minor": 0
      },
      "text/plain": [
       "Text(value='', description='id', layout=Layout(width='400px'), style=DescriptionStyle(description_width='150px…"
      ]
     },
     "metadata": {},
     "output_type": "display_data"
    },
    {
     "data": {
      "application/vnd.jupyter.widget-view+json": {
       "model_id": "e00f8619cd94455bac633ef37c145055",
       "version_major": 2,
       "version_minor": 0
      },
      "text/plain": [
       "Text(value='', description='Rechnungsnummer', disabled=True, layout=Layout(width='400px'), style=DescriptionSt…"
      ]
     },
     "metadata": {},
     "output_type": "display_data"
    },
    {
     "data": {
      "application/vnd.jupyter.widget-view+json": {
       "model_id": "77b229014ed94a169ca4f2733af36802",
       "version_major": 2,
       "version_minor": 0
      },
      "text/plain": [
       "Text(value='', description='VAT', disabled=True, layout=Layout(width='400px'), style=DescriptionStyle(descript…"
      ]
     },
     "metadata": {},
     "output_type": "display_data"
    },
    {
     "data": {
      "application/vnd.jupyter.widget-view+json": {
       "model_id": "a725759a4adc4487b9b427d80d99d964",
       "version_major": 2,
       "version_minor": 0
      },
      "text/plain": [
       "Text(value='', description='Netto', disabled=True, layout=Layout(width='400px'), style=DescriptionStyle(descri…"
      ]
     },
     "metadata": {},
     "output_type": "display_data"
    },
    {
     "data": {
      "application/vnd.jupyter.widget-view+json": {
       "model_id": "019d47e834c64fc086a4bf2a4f383c82",
       "version_major": 2,
       "version_minor": 0
      },
      "text/plain": [
       "Text(value='DE', description='country (origin)', disabled=True, layout=Layout(width='400px'), style=Descriptio…"
      ]
     },
     "metadata": {},
     "output_type": "display_data"
    },
    {
     "data": {
      "application/vnd.jupyter.widget-view+json": {
       "model_id": "d09cb6161bc040eaa88ec899c48d5bb0",
       "version_major": 2,
       "version_minor": 0
      },
      "text/plain": [
       "Text(value='', description='country (receiver)', disabled=True, layout=Layout(width='400px'), style=Descriptio…"
      ]
     },
     "metadata": {},
     "output_type": "display_data"
    },
    {
     "data": {
      "application/vnd.jupyter.widget-view+json": {
       "model_id": "3b686f42b3664d3487e5bbc56fea6374",
       "version_major": 2,
       "version_minor": 0
      },
      "text/plain": [
       "Checkbox(value=False, description='received (invoice)', disabled=True, layout=Layout(width='400px'), style=Des…"
      ]
     },
     "metadata": {},
     "output_type": "display_data"
    },
    {
     "data": {
      "application/vnd.jupyter.widget-view+json": {
       "model_id": "3f2f37bd00d04981903d0d392231305a",
       "version_major": 2,
       "version_minor": 0
      },
      "text/plain": [
       "Checkbox(value=False, description='received (order)', disabled=True, layout=Layout(width='400px'), style=Descr…"
      ]
     },
     "metadata": {},
     "output_type": "display_data"
    },
    {
     "data": {
      "application/vnd.jupyter.widget-view+json": {
       "model_id": "b4321b6990e2465db8ad1ba731fbf822",
       "version_major": 2,
       "version_minor": 0
      },
      "text/plain": [
       "Checkbox(value=False, description='Forderungsabtritt', disabled=True, layout=Layout(width='400px'), style=Desc…"
      ]
     },
     "metadata": {},
     "output_type": "display_data"
    },
    {
     "data": {
      "application/vnd.jupyter.widget-view+json": {
       "model_id": "435c9664c96644d08a0449bd89f39d5d",
       "version_major": 2,
       "version_minor": 0
      },
      "text/plain": [
       "Checkbox(value=False, description='Forderung bezahlt', disabled=True, layout=Layout(width='400px'), style=Desc…"
      ]
     },
     "metadata": {},
     "output_type": "display_data"
    },
    {
     "data": {
      "application/vnd.jupyter.widget-view+json": {
       "model_id": "99814c80dab349dfb3c9b4ab026fd4d7",
       "version_major": 2,
       "version_minor": 0
      },
      "text/plain": [
       "Text(value='', description='Forderung erhalten von', disabled=True, layout=Layout(width='400px'), style=Descri…"
      ]
     },
     "metadata": {},
     "output_type": "display_data"
    },
    {
     "data": {
      "application/vnd.jupyter.widget-view+json": {
       "model_id": "324df6c455944279a03dbc2a93604282",
       "version_major": 2,
       "version_minor": 0
      },
      "text/plain": [
       "Dropdown(description='Steuerbefreieungsgrund', disabled=True, layout=Layout(width='400px'), options=('', 'Ausf…"
      ]
     },
     "metadata": {},
     "output_type": "display_data"
    },
    {
     "data": {
      "application/vnd.jupyter.widget-view+json": {
       "model_id": "e11bf62c6b0546268d592571d5022a98",
       "version_major": 2,
       "version_minor": 0
      },
      "text/plain": [
       "Checkbox(value=False, description='Umsatzsteuer abgeführt', disabled=True, layout=Layout(width='400px'), style…"
      ]
     },
     "metadata": {},
     "output_type": "display_data"
    }
   ],
   "source": [
    "import invoiceWidget\n",
    "\n",
    "f = invoiceWidget.invoice_widgets(peers=peers)"
   ]
  },
  {
   "cell_type": "code",
   "execution_count": 3,
   "metadata": {},
   "outputs": [
    {
     "data": {
      "text/plain": [
       "83"
      ]
     },
     "execution_count": 3,
     "metadata": {},
     "output_type": "execute_result"
    }
   ],
   "source": [
    "invoiceTool.getinfo()['height']"
   ]
  },
  {
   "cell_type": "markdown",
   "metadata": {},
   "source": [
    "# Analytics"
   ]
  },
  {
   "cell_type": "code",
   "execution_count": null,
   "metadata": {},
   "outputs": [],
   "source": [
    "sns.boxenplot(y = 'Product line', x = 'Total', data=invoices )"
   ]
  },
  {
   "cell_type": "code",
   "execution_count": null,
   "metadata": {},
   "outputs": [],
   "source": [
    "import pandas as pd\n",
    "import numpy as np\n",
    "import seaborn as sns\n",
    "import matplotlib.pyplot as plt\n",
    "%matplotlib inline\n",
    "\n",
    "plt.figure(dpi=125)\n",
    "sns.countplot(y ='Product line', hue = \"Gender\", data = invoices) \n",
    "plt.xlabel('Count')\n",
    "plt.ylabel('Product Type')\n",
    "plt.show()"
   ]
  }
 ],
 "metadata": {
  "kernelspec": {
   "display_name": "Python 3",
   "language": "python",
   "name": "python3"
  },
  "language_info": {
   "codemirror_mode": {
    "name": "ipython",
    "version": 3
   },
   "file_extension": ".py",
   "mimetype": "text/x-python",
   "name": "python",
   "nbconvert_exporter": "python",
   "pygments_lexer": "ipython3",
   "version": "3.8.6"
  }
 },
 "nbformat": 4,
 "nbformat_minor": 4
}
