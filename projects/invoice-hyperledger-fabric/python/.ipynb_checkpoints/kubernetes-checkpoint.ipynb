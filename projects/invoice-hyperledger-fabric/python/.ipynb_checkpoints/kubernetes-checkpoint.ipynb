{
 "cells": [
  {
   "cell_type": "markdown",
   "metadata": {},
   "source": [
    "# Kubernetes"
   ]
  },
  {
   "cell_type": "code",
   "execution_count": 94,
   "metadata": {},
   "outputs": [],
   "source": [
    "# WEBDAV at http://10.15.136.41:30080/\n",
    "\n",
    "import ipywidgets as widgets\n",
    "from IPython.display import clear_output\n",
    "from IPython.display import Javascript, display\n",
    "import uuid\n",
    "\n",
    "style = {'description_width': '250px'}\n",
    "layout = {'width': '500px'}\n",
    "\n",
    "def addVisText(key='',value='',disabled=False, layout=layout):\n",
    "    text = widgets.Text(description = key,value = value, style=style, layout=layout,disabled=disabled)\n",
    "    display(text)  \n",
    "    return text\n",
    "    \n",
    "def addVisCheckbox(key='',value=False):\n",
    "    text = widgets.Checkbox(description = key,value = value, style=style, layout=layout)\n",
    "    display(text)   \n",
    "    return text\n",
    "\n",
<<<<<<< HEAD
=======
    "def addHeader(text='',bold=True):\n",
    "    if bold == True:\n",
    "        html = widgets.HTML(\n",
    "        value=\"<b>\" + text + \"</b>\",\n",
    "        description=' ',\n",
    "        style=style, layout=layout\n",
    "        )\n",
    "    else:\n",
    "        html = widgets.HTML(\n",
    "        value=text,\n",
    "        description=' ',\n",
    "        style=style, layout=layout\n",
    "        )\n",
    "    display(html)    "
   ]
  },
  {
   "cell_type": "code",
   "execution_count": 4,
   "metadata": {},
   "outputs": [],
   "source": [
    "def setPeerPorts(peername):\n",
    "    os.environ['GOSSIP_PORT'] = getPort(peername=peername, name='peer-gossip')\n",
    "    os.environ['PEER_LISTEN_PORT'] = getPort(peername=peername, name='peer-listen')\n",
    "    os.environ['PEER_CHAINCODE_PORT'] = getPort(peername=peername, name='peer-chaincode')\n",
    "   \n",
    "def setPeerEnvironment(peername):\n",
    "    os.environ['POD_NAME'] = getPod(peername)\n",
    "    os.environ['ORDERER_IP'] = '10.15.128.97'\n",
    "    os.environ['ORDERER_HOSTNAME'] = 'orderer.example.com'\n",
    "    os.environ['CHANNEL_NAME'] = 'mychannel'  \n",
    "    setPeerPorts(peername)"
   ]
  },
  {
   "cell_type": "code",
   "execution_count": 63,
   "metadata": {},
   "outputs": [],
   "source": [
    "# WEBDAV at http://10.15.136.41:30080/\n",
    "import subprocess\n",
    "import json\n",
    "\n",
    "##############################################\n",
    "# different ways  to execute commands\n",
    "\n",
    "# in Kubernetes\n",
    "def executeKubectlCmd(cmd):\n",
    "    try:    \n",
    "        output  = subprocess.check_output(['/home/jovyan/work/usr/bin/kubectl'] + cmd)\n",
    "        return output\n",
    "    except Exception as e:\n",
    "        return str(e)       \n",
    "    \n",
    "# at the peer    \n",
    "def executePeerCmd(pod_name,cmd):\n",
    "    try:  \n",
    "        cmd1 = \"source /root/.bashrc && \"\n",
    "        output  = subprocess.check_output(['/home/jovyan/work/usr/bin/kubectl', 'exec','-it', pod_name, '-c', 'scray-peer-cli','--', '/bin/bash','-c',cmd1 + cmd])\n",
    "        return output.decode('ascii')\n",
    "    except Exception as e:\n",
    "        return str(e)\n",
    "\n",
    "def executePeerCmd2(pod_name,cmd):\n",
    "    try:  \n",
    "        cmd1 = \"source /root/.bashrc && \"\n",
    "        output  = subprocess.run(['/home/jovyan/work/usr/bin/kubectl', 'exec','-it', pod_name, '-c', 'scray-peer-cli','--', '/bin/bash','-c',cmd1 + cmd], stdout = subprocess.PIPE, stderr=subprocess.PIPE)\n",
    "        return output\n",
    "    except Exception as e:\n",
    "        return str(e)    \n",
    "    \n",
    "# in Jupyter    \n",
    "def executeLocalCmd(cmd):\n",
    "    try:  \n",
    "        output  = subprocess.check_output(cmd)\n",
    "        return output\n",
    "    except Exception as e:\n",
    "        return str(e)    \n",
    "\n",
    "    \n",
    "def toCmd(strlist):\n",
    "    return ''.join(str(e + ' ') for e in strlist)[:-1]\n",
    "    \n",
    "##############################################\n",
    "## peer\n",
    "\n",
>>>>>>> dde4f14e1f51bd53e14fa5bbc5da5655eb1ca34e
    "def getPort(peername='', name='peer-gossip'):\n",
    "    callopt= 'jsonpath=\\\"{.spec.ports[?(@.name==\\'' + name + '\\')].nodePort}\\\"'\n",
    "    try:    \n",
    "        callProcess  = subprocess.check_output(['/home/jovyan/work/usr/bin/kubectl', 'get','service',peername,'-o', callopt])\n",
    "        return str(callProcess)[3:-2]\n",
    "    except Exception as e:\n",
    "        return str(e)\n",
    "\n",
<<<<<<< HEAD
    "def setPeerPorts(peername):\n",
    "    os.environ['GOSSIP_PORT'] = getPort(peername=peername, name='peer-gossip')\n",
    "    os.environ['PEER_LISTEN_PORT'] = getPort(peername=peername, name='peer-listen')\n",
    "    os.environ['PEER_CHAINCODE_PORT'] = getPort(peername=peername, name='peer-chaincode')\n",
    "    \n",
=======
>>>>>>> dde4f14e1f51bd53e14fa5bbc5da5655eb1ca34e
    "def createConfig(peername='',peer_listen_port='',peer_gossip_port=''):\n",
    "    try:  \n",
    "        output  = subprocess.check_output(['/home/jovyan/work/usr/bin/kubectl', 'create','configmap','hl-fabric-peer-' + peername,\n",
    "                                          '--from-literal=hostname=kubernetes.research.dev.seeburger.de',\n",
    "                                          '--from-literal=org_name=' + peername,\n",
    "                                          '--from-literal=CORE_PEER_ADDRESS=kubernetes.research.dev.seeburger.de:' + peer_listen_port,\n",
    "                                          '--from-literal=CORE_PEER_GOSSIP_EXTERNALENDPOINT=kubernetes.research.dev.seeburger.de:' + peer_gossip_port,\n",
    "                                          '--from-literal=CORE_PEER_LOCALMSPID=' + peername + 'MSP'])\n",
    "        return str(output)\n",
    "    except Exception as e:\n",
    "        return str(e)  \n",
<<<<<<< HEAD
    "    \n",
    "#!/home/jovyan/work/usr/bin/kubectl create configmap hl-fabric-peer-$PEER_NAME \\\n",
    "#         --from-literal=hostname=kubernetes.research.dev.seeburger.de \\\n",
    "#         --from-literal=org_name=$PEER_NAME \\\n",
    "#         --from-literal=CORE_PEER_ADDRESS=kubernetes.research.dev.seeburger.de:$PEER_LISTEN_PORT \\\n",
    "#         --from-literal=CORE_PEER_GOSSIP_EXTERNALENDPOINT=kubernetes.research.dev.seeburger.de:$GOSSIP_PORT \\\n",
    "#         --from-literal=CORE_PEER_LOCALMSPID=${PEER_NAME}MSP\n",
    "            \n",
=======
    "\n",
    "#!/home/jovyan/work/usr/bin/kubectl get configmap -o json     \n",
    "def getConfigmap(): \n",
    "    return json.loads(executeKubectlCmd(['get','configmap', '-o', 'json']).decode('ascii'))\n",
    "       \n",
>>>>>>> dde4f14e1f51bd53e14fa5bbc5da5655eb1ca34e
    "def getPod(peername):\n",
    "    try:    \n",
    "        callProcess  = subprocess.check_output(['/home/jovyan/work/usr/bin/kubectl', 'get','pod','-l','app=' + peername,'-o', \n",
    "                                                'jsonpath=\\\"{.items[0].metadata.name}\\\"'])\n",
    "        return str(callProcess)[3:-2]\n",
    "    except Exception as e:\n",
    "        return str(e)     \n",
    "    \n",
    "def getPods():\n",
    "    !/home/jovyan/work/usr/bin/kubectl get pods\n",
    "        \n",
<<<<<<< HEAD
    "def setPeerEnvironment(peername):\n",
    "    os.environ['POD_NAME'] = getPod(peername)\n",
    "    os.environ['ORDERER_IP'] = '10.15.128.97'\n",
    "    os.environ['ORDERER_HOSTNAME'] = 'orderer.example.com'\n",
    "    os.environ['CHANNEL_NAME'] = 'mychannel'  \n",
    "    setPeerPorts(peername)\n",
    "    \n",
    "def executeKubectlCmd(cmd):\n",
    "    try:    \n",
    "        output  = subprocess.check_output(['/home/jovyan/work/usr/bin/kubectl'] + cmd)\n",
    "        return output\n",
    "    except Exception as e:\n",
    "        return str(e)     \n",
    "    \n",
=======
    "  \n",
>>>>>>> dde4f14e1f51bd53e14fa5bbc5da5655eb1ca34e
    "def deletePeer(peername):   \n",
    "    output  = executeKubectlCmd(['delete','configmap','hl-fabric-peer-' + peername])\n",
    "    output  = executeKubectlCmd(['delete','-f','/home/jovyan/scray/projects/invoice-hyperledger-fabric/containers/target/' + peername + '/k8s-peer.yaml'])\n",
    "    output  = executeKubectlCmd(['delete', 'service', peername])\n",
    "    return output\n",
    "    \n",
<<<<<<< HEAD
    "#!/home/jovyan/work/usr/bin/kubectl get configmap -o json     \n",
    "def getConfigmap(): \n",
    "    return json.loads(executeKubectlCmd(['get','configmap', '-o', 'json']).decode('ascii'))\n",
    "   \n",
    "    \n",
    "#!/home/jovyan/work/usr/bin/kubectl  exec --stdin --tty $POD_NAME  -c scray-peer-cli /bin/bash \"echo 'export ORDERER_CA=/tmp/tlsca.example.com-cert.pem' >> /root/.bashrc\"    \n",
    "\n",
    "#!/home/jovyan/work/usr/bin/kubectl  exec -it $POD_NAME -c scray-peer-cli -- /bin/bash -c \"echo 'export ORDERER_CA=/tmp/tlsca.example.com-cert.pem' >> /root/.bashrc\"\n",
    "\n",
    "def executePeerCmd(pod_name,cmd):\n",
    "    try:  \n",
    "        cmd1 = \"source /root/.bashrc && \"\n",
    "        output  = subprocess.check_output(['/home/jovyan/work/usr/bin/kubectl', 'exec','-it', pod_name, '-c', 'scray-peer-cli','--', '/bin/bash','-c',cmd1 + cmd])\n",
    "        return output.decode('ascii')\n",
    "    except Exception as e:\n",
    "        return str(e)\n",
=======
    "def deleteAllPeers(config):\n",
    "    for item in config['items']:\n",
    "        try:\n",
    "            if 'org_name' in item['data'].keys():\n",
    "                deletePeer(item['data']['org_name'])\n",
    "        except Exception as e:\n",
    "            print(item['data'])\n",
    "            \n",
>>>>>>> dde4f14e1f51bd53e14fa5bbc5da5655eb1ca34e
    "\n",
    "def addEnvVariable(pod_name, key,value):\n",
    "    try:  \n",
    "        cmd = \"echo \\'export '\" + key + '=' + value + \"'\\' >> /root/.bashrc\"\n",
<<<<<<< HEAD
    "        #cmd = \"echo 1\"\n",
=======
>>>>>>> dde4f14e1f51bd53e14fa5bbc5da5655eb1ca34e
    "        output  = subprocess.check_output(['/home/jovyan/work/usr/bin/kubectl', 'exec','-it', pod_name, '-c', 'scray-peer-cli','--', '/bin/bash','-c',cmd])\n",
    "        return output.decode('ascii')\n",
    "    except Exception as e:\n",
    "        return str(e)\n",
    "       \n",
    "def addBashEnvToPeer(peer):        \n",
    "    pod_name    = peer.pod_name\n",
    "    listen_port = peer.listen_port\n",
<<<<<<< HEAD
=======
    "    executePeerCmd(pod_name,\"rm -f /root/.bashrc\")\n",
>>>>>>> dde4f14e1f51bd53e14fa5bbc5da5655eb1ca34e
    "    #!/home/jovyan/work/usr/bin/kubectl exec --stdin --tty $POD_NAME  -c scray-peer-cli touch /root/.bashrc\n",
    "    addEnvVariable(pod_name, 'ORDERER_CA', '/tmp/tlsca.example.com-cert.pem')\n",
    "    addEnvVariable(pod_name, 'ORDERER_HOSTNAME', 'orderer.example.com')\n",
    "    addEnvVariable(pod_name, 'CHANNEL_NAME', 'mychannel')\n",
    "    #addEnvVariable(pod_name, 'CORE_PEER_ADDRESS', pod_name + ':' + listen_port)\n",
<<<<<<< HEAD
    "    addEnvVariable(pod_name, 'CORE_PEER_ADDRESS', 'peer0.kubernetes.research.dev.seeburger.de:' + listen_port)\n",
    "    #addEnvVariable(pod_name, 'CORE_PEER_ADDRESS', 'kubernetes.research.dev.seeburger.de:' + listen_port)\n",
=======
    "    #addEnvVariable(pod_name, 'CORE_PEER_ADDRESS', 'peer0.kubernetes.research.dev.seeburger.de:' + listen_port)\n",
    "    addEnvVariable(pod_name, 'CORE_PEER_ADDRESS', 'kubernetes.research.dev.seeburger.de:' + listen_port)\n",
    "    addEnvVariable(pod_name, 'CORE_PEER_LOCALMSPID', peer.name + 'MSP')\n",
>>>>>>> dde4f14e1f51bd53e14fa5bbc5da5655eb1ca34e
    "    addEnvVariable(pod_name, 'CORE_PEER_MSPCONFIGPATH', '/mnt/conf/organizations/peerOrganizations/kubernetes.research.dev.seeburger.de/users/Admin@kubernetes.research.dev.seeburger.de/msp')\n",
    "    addEnvVariable(pod_name, 'SHARED_FS_HOST', '10.15.136.41:30080')\n",
    "    addEnvVariable(pod_name, 'SHARED_FS_USER', 'scray')\n",
    "    addEnvVariable(pod_name, 'SHARED_FS_PW', 'scray')        \n",
    "  \n",
<<<<<<< HEAD
=======
    "def addBashEnvToPeers(peerlist):\n",
    "    for name in peerlist:\n",
    "        if name in peers:\n",
    "            peer = peers[name]\n",
    "            addBashEnvToPeer(peer)\n",
    "            #installAndAproveChaincode(peer)\n",
    "\n",
    "#####################################################\n",
    "# actions\n",
    "\n",
>>>>>>> dde4f14e1f51bd53e14fa5bbc5da5655eb1ca34e
    "#!/home/jovyan/work/usr/bin/kubectl exec -it tanja1-65b7889d68-ghxpj -c scray-peer-cli -- /bin/bash -c \"curl --user scray:scray http://10.15.136.41:30080/upload/org3_update_in_envelope.pb -o /tmp/org3_update_in_envelope.pb\"\n",
    "def sign(pod_name):\n",
    "    #executePeerCmd(pod_name,\"curl --user $SHARED_FS_USER:$SHARED_FS_PW http://$SHARED_FS_HOST/ca/tlsca.example.com-cert.pem > /tmp/tlsca.example.com-cert.pem\"\n",
    "    executePeerCmd(pod_name,\"curl --user scray:scray http://10.15.136.41:30080/upload/org3_update_in_envelope.pb -o /tmp/org3_update_in_envelope.pb\")\n",
    "    executePeerCmd(pod_name,\"peer channel signconfigtx -f /tmp/org3_update_in_envelope.pb\")\n",
    "    executePeerCmd(pod_name,\"curl --user scray:scray -T /tmp/org3_update_in_envelope.pb http://10.15.136.41:30080/upload/org3_update_in_envelope.pb\")\n",
    "       \n",
    "def joinHyperledger(pod_name,orderer_ip,orderer_hostname,channel_name):    \n",
    "    #setPeerEnvironment(peername)    \n",
    "    #!/home/jovyan/work/usr/bin/kubectl exec --stdin --tty $POD_NAME  -c scray-peer-cli -- /bin/sh /mnt/conf/peer_join.sh $ORDERER_IP  $ORDERER_HOSTNAME $CHANNEL_NAME    \n",
    "    try:  \n",
    "        output  = subprocess.check_output(['/home/jovyan/work/usr/bin/kubectl', 'exec','--stdin', '--tty', pod_name, '-c', 'scray-peer-cli','--', '/bin/sh','/mnt/conf/peer_join.sh',\n",
    "                                           orderer_ip,orderer_hostname,channel_name])\n",
    "        return output\n",
    "    except Exception as e:\n",
    "        return str(e)\n",
    "    \n",
    "def installAndAproveChaincode(peer,cc_host='10.14.128.38',orderer_host='10.15.128.97'):\n",
    "    #!/home/jovyan/work/usr/bin/kubectl exec --stdin --tty $POD_NAME -c scray-peer-cli -- /bin/sh /mnt/conf/install_and_approve_cc.sh $IP_CC_SERVICE $IP_OF_EXAMPLE_NETWORK\n",
    "    executePeerCmd(peer.pod_name,'/mnt/conf/install_and_approve_cc.sh ' + cc_host + ' ' + orderer_host) \n",
    "    "
   ]
  },
  {
   "cell_type": "code",
<<<<<<< HEAD
   "execution_count": null,
   "metadata": {},
   "outputs": [],
   "source": [
    "addBashEnvToPeer(peer)\n",
    "peer.name"
=======
   "execution_count": 304,
   "metadata": {},
   "outputs": [
    {
     "name": "stdout",
     "output_type": "stream",
     "text": [
      "stdout: \n",
      "stderr: Unable to use a TTY - input is not a terminal or the right kind of file\n",
      "  % Total    % Received % Xferd  Average Speed   Time    Time     Time  Current\n",
      "                                 Dload  Upload   Total   Spent    Left  Speed\n",
      "100   450  100   450    0     0   1013      0 --:--:-- --:--:-- --:--:--  1011\n",
      "Error: chaincode install failed with status: 500 - failed to invoke backing implementation of 'InstallChaincode': chaincode already successfully installed\n",
      "Error: proposal failed with status: 500 - failed to invoke backing implementation of 'ApproveChaincodeDefinitionForMyOrg': attempted to redefine uncommitted sequence (1) for namespace basic with unchanged content\n",
      "command terminated with exit code 1\n",
      "\n"
     ]
    }
   ],
   "source": [
    "cc_host='10.14.128.38'\n",
    "orderer_host='10.15.128.97'\n",
    "strlist = ['/mnt/conf/install_and_approve_cc.sh', cc_host, orderer_host]\n",
    "peer=peers['hafen3']\n",
    "p=executePeerCmd2(peer.pod_name,toCmd(strlist))\n",
    "toCmd(strlist)\n",
    "#local_orgs\n",
    "print('stdout:',p.stdout.decode('ascii'))\n",
    "print('stderr:',p.stderr.decode('ascii'))"
>>>>>>> dde4f14e1f51bd53e14fa5bbc5da5655eb1ca34e
   ]
  },
  {
   "cell_type": "code",
<<<<<<< HEAD
   "execution_count": null,
   "metadata": {},
   "outputs": [],
   "source": [
    "def deleteAllPeers(config):\n",
    "    for item in config['items']:\n",
    "        try:\n",
    "            deletePeer(item['data']['org_name'])\n",
    "        except Exception as e:\n",
    "            print(item)\n",
    "config = getConfigmap()  \n",
    "\n",
    "deleteAllPeers(config)\n",
    "#deletePeer('bbc2')"
=======
   "execution_count": 279,
   "metadata": {},
   "outputs": [
    {
     "data": {
      "text/plain": [
       "b'761f91b722c1\\n'"
      ]
     },
     "execution_count": 279,
     "metadata": {},
     "output_type": "execute_result"
    }
   ],
   "source": [
    "p = subprocess.run(['hostname'], stdout = subprocess.PIPE, stderr=subprocess.PIPE)\n",
    "p.stdout\n",
    "#p.stderr"
   ]
  },
  {
   "cell_type": "code",
   "execution_count": 2,
   "metadata": {},
   "outputs": [
    {
     "ename": "NameError",
     "evalue": "name 'getBlockInfo' is not defined",
     "output_type": "error",
     "traceback": [
      "\u001b[0;31m\u001b[0m",
      "\u001b[0;31mNameError\u001b[0mTraceback (most recent call last)",
      "\u001b[0;32m<ipython-input-2-430e858755ab>\u001b[0m in \u001b[0;36m<module>\u001b[0;34m\u001b[0m\n\u001b[1;32m      1\u001b[0m \u001b[0;31m#addBashEnvToPeers(local_orgs)\u001b[0m\u001b[0;34m\u001b[0m\u001b[0;34m\u001b[0m\u001b[0;34m\u001b[0m\u001b[0m\n\u001b[0;32m----> 2\u001b[0;31m \u001b[0mgetBlockInfo\u001b[0m\u001b[0;34m(\u001b[0m\u001b[0;34m)\u001b[0m\u001b[0;34m\u001b[0m\u001b[0;34m\u001b[0m\u001b[0m\n\u001b[0m",
      "\u001b[0;31mNameError\u001b[0m: name 'getBlockInfo' is not defined"
     ]
    }
   ],
   "source": [
    "#addBashEnvToPeers(local_orgs)\n",
    "getBlockInfo()"
   ]
  },
  {
   "cell_type": "code",
   "execution_count": 6,
   "metadata": {},
   "outputs": [
    {
     "ename": "NameError",
     "evalue": "name 'peers' is not defined",
     "output_type": "error",
     "traceback": [
      "\u001b[0;31m\u001b[0m",
      "\u001b[0;31mNameError\u001b[0mTraceback (most recent call last)",
      "\u001b[0;32m<ipython-input-6-d72d866070d0>\u001b[0m in \u001b[0;36m<module>\u001b[0;34m\u001b[0m\n\u001b[1;32m      1\u001b[0m \u001b[0;31m# peer chaincode list --installed\u001b[0m\u001b[0;34m\u001b[0m\u001b[0;34m\u001b[0m\u001b[0;34m\u001b[0m\u001b[0m\n\u001b[1;32m      2\u001b[0m \u001b[0;34m\u001b[0m\u001b[0m\n\u001b[0;32m----> 3\u001b[0;31m \u001b[0;32mdef\u001b[0m \u001b[0mgetBlockInfo\u001b[0m\u001b[0;34m(\u001b[0m\u001b[0mpeer\u001b[0m\u001b[0;34m=\u001b[0m\u001b[0mpeers\u001b[0m\u001b[0;34m[\u001b[0m\u001b[0;34m'hafen0'\u001b[0m\u001b[0;34m]\u001b[0m\u001b[0;34m,\u001b[0m\u001b[0mchannel\u001b[0m\u001b[0;34m=\u001b[0m\u001b[0;34m'mychannel'\u001b[0m\u001b[0;34m)\u001b[0m\u001b[0;34m:\u001b[0m\u001b[0;34m\u001b[0m\u001b[0;34m\u001b[0m\u001b[0m\n\u001b[0m\u001b[1;32m      4\u001b[0m     \u001b[0mstrlist\u001b[0m \u001b[0;34m=\u001b[0m \u001b[0;34m[\u001b[0m\u001b[0;34m'peer'\u001b[0m\u001b[0;34m,\u001b[0m \u001b[0;34m'channel'\u001b[0m\u001b[0;34m,\u001b[0m\u001b[0;34m'-c'\u001b[0m\u001b[0;34m,\u001b[0m \u001b[0mchannel\u001b[0m\u001b[0;34m,\u001b[0m \u001b[0;34m'getinfo'\u001b[0m\u001b[0;34m]\u001b[0m\u001b[0;34m\u001b[0m\u001b[0;34m\u001b[0m\u001b[0m\n\u001b[1;32m      5\u001b[0m     \u001b[0;32mreturn\u001b[0m \u001b[0mjson\u001b[0m\u001b[0;34m.\u001b[0m\u001b[0mloads\u001b[0m\u001b[0;34m(\u001b[0m\u001b[0mexecutePeerCmd\u001b[0m\u001b[0;34m(\u001b[0m\u001b[0mpeer\u001b[0m\u001b[0;34m.\u001b[0m\u001b[0mpod_name\u001b[0m\u001b[0;34m,\u001b[0m\u001b[0mtoCmd\u001b[0m\u001b[0;34m(\u001b[0m\u001b[0mstrlist\u001b[0m\u001b[0;34m)\u001b[0m\u001b[0;34m)\u001b[0m\u001b[0;34m[\u001b[0m\u001b[0;36m17\u001b[0m\u001b[0;34m:\u001b[0m\u001b[0;34m]\u001b[0m\u001b[0;34m)\u001b[0m\u001b[0;34m\u001b[0m\u001b[0;34m\u001b[0m\u001b[0m\n",
      "\u001b[0;31mNameError\u001b[0m: name 'peers' is not defined"
     ]
    }
   ],
   "source": [
    "# peer chaincode list --installed\n",
    "\n",
    "def getBlockInfo(peer=peers['hafen0'],channel='mychannel'):\n",
    "    strlist = ['peer', 'channel','-c', channel, 'getinfo']\n",
    "    return json.loads(executePeerCmd(peer.pod_name,toCmd(strlist))[17:])\n",
    "\n",
    "def getChannelList(peer=peers['hafen0']):\n",
    "    strlist = ['peer', 'channel', 'list']\n",
    "    return executePeerCmd2(peer.pod_name,toCmd(strlist))\n",
    "\n",
    "#getBlockInfo()['height']"
   ]
  },
  {
   "cell_type": "code",
   "execution_count": 18,
   "metadata": {},
   "outputs": [
    {
     "data": {
      "text/plain": [
       "'Command \\'[\\'/home/jovyan/work/usr/bin/kubectl\\', \\'get\\', \\'pod\\', \\'-l\\', \\'-o\\', \\'jsonpath=\"{.items[0].metadata.name}\"\\']\\' returned non-zero exit status 1.'"
      ]
     },
     "execution_count": 18,
     "metadata": {},
     "output_type": "execute_result"
    }
   ],
   "source": [
    "# trial / needed ?\n",
    "#getPod('hafen0')\n",
    "\n",
    "def getPods():\n",
    "    try:    \n",
    "        callProcess  = subprocess.check_output(['/home/jovyan/work/usr/bin/kubectl', 'get','pod','-l','-o', \n",
    "                                                'jsonpath=\\\"{.items[0].metadata.name}\\\"'])\n",
    "        return str(callProcess)[3:-2]\n",
    "    except Exception as e:\n",
    "        return str(e)     \n",
    "\n",
    "getPods()    "
   ]
  },
  {
   "cell_type": "code",
   "execution_count": 43,
   "metadata": {},
   "outputs": [
    {
     "data": {
      "text/plain": [
       "'fetch http://dl-cdn.alpinelinux.org/alpine/v3.12/main/x86_64/APKINDEX.tar.gz\\nfetch http://dl-cdn.alpinelinux.org/alpine/v3.12/community/x86_64/APKINDEX.tar.gz\\n(1/1) Installing curl (7.69.1-r3)\\nExecuting busybox-1.31.1-r16.trigger\\nOK: 29 MiB in 28 packages\\n'"
      ]
     },
     "execution_count": 43,
     "metadata": {},
     "output_type": "execute_result"
    }
   ],
   "source": [
    "# install curl\n",
    "executePeerCmd(executePeer.pod_name,toCmd(['apk','add','curl']))"
   ]
  },
  {
   "cell_type": "code",
   "execution_count": 44,
   "metadata": {},
   "outputs": [],
   "source": [
    "# get config of blockchain and store it at local directory of peer\n",
    "#peer channel fetch config  $WORK_LOCATION/config_block.pb -o orderer.example.com:7050 -c $CHANNEL_NAME --tls --cafile $ORDERER_CA \n",
    "#configtxlator proto_decode --input $WORK_LOCATION/config_block.pb --type common.Block | jq .data.data[0].payload.data.config > $WORK_LOCATION/config.json\n",
    "\n",
    "def getCurrentConfig(peer, channel_name='mychannel', location='/tmp'):\n",
    "    pod_name = peer.pod_name\n",
    "    executePeerCmd(peer.pod_name,toCmd(downloadToLocalCmdList(local_path='/tmp', remote_path='ca', remote_name='tlsca.example.com-cert.pem')))               \n",
    "    cmd = 'peer channel fetch config ' + location + '/config_block.pb -o orderer.example.com:7050 -c ' +  channel_name + ' --tls --cafile /tmp/tlsca.example.com-cert.pem'\n",
    "    executePeerCmd(pod_name,cmd)\n",
    "    cmd = 'configtxlator proto_decode --input ' + location + '/config_block.pb --type common.Block > ' + location + '/config_block.json'\n",
    "    executePeerCmd(pod_name,cmd)\n",
    "    cmd = 'jq .data.data[0].payload.data.config ' + location + '/config_block.json > ' + location + '/config.json'\n",
    "    executePeerCmd(pod_name,cmd)\n",
    "    cmd = 'cat ' + location + '/config.json'\n",
    "    return executePeerCmd(pod_name,cmd)\n",
    "    \n",
    "def getLocalOrgList(data):    \n",
    "    local_orgs=[]\n",
    "    for name in data:\n",
    "        if name[:-3] in peers:\n",
    "            local_orgs.append(name[:-3])    \n",
    "    return local_orgs"
>>>>>>> dde4f14e1f51bd53e14fa5bbc5da5655eb1ca34e
   ]
  },
  {
   "cell_type": "code",
<<<<<<< HEAD
   "execution_count": null,
   "metadata": {},
   "outputs": [],
   "source": [
    "#deletePeer('tanja5')\n",
    "config = getConfigmap()\n",
    "len(config['items'])"
=======
   "execution_count": 45,
   "metadata": {},
   "outputs": [],
   "source": [
    "executePeer= initpeer('hafen1')\n",
    "config = getCurrentConfig(peer=executePeer)"
   ]
  },
  {
   "cell_type": "code",
   "execution_count": 38,
   "metadata": {},
   "outputs": [],
   "source": [
    "config = getCurrentConfig(peer=executePeer)"
   ]
  },
  {
   "cell_type": "code",
   "execution_count": 47,
   "metadata": {},
   "outputs": [
    {
     "data": {
      "text/plain": [
       "\"Command '['/home/jovyan/work/usr/bin/kubectl', 'exec', '-it', 'hafen1-69947bff88-2pgxs', '-c', 'scray-peer-cli', '--', '/bin/bash', '-c', 'source /root/.bashrc && peer channel fetch config /tmp/config_block.pb -o orderer.example.com:7050 -c mychannel --tls --cafile /tmp/tlsca.example.com-cert.pem']' returned non-zero exit status 1.\""
      ]
     },
     "execution_count": 47,
     "metadata": {},
     "output_type": "execute_result"
    }
   ],
   "source": [
    "channel_name='mychannel'\n",
    "location='/tmp'\n",
    "cmd = 'peer channel fetch config ' + location + '/config_block.pb -o orderer.example.com:7050 -c ' +  channel_name + ' --tls --cafile /tmp/tlsca.example.com-cert.pem'\n",
    "executePeerCmd(executePeer.pod_name,cmd)"
   ]
  },
  {
   "cell_type": "code",
   "execution_count": 41,
   "metadata": {},
   "outputs": [
    {
     "data": {
      "text/plain": [
       "CompletedProcess(args=['/home/jovyan/work/usr/bin/kubectl', 'exec', '-it', 'hafen1-69947bff88-2pgxs', '-c', 'scray-peer-cli', '--', '/bin/bash', '-c', 'source /root/.bashrc && curl --user scray:scray http://10.15.136.41:30080/ca/tlsca.example.com-cert.pem -o /tmp/tlsca.example.com-cert.pem'], returncode=127, stdout=b'', stderr=b'Unable to use a TTY - input is not a terminal or the right kind of file\\n/bin/bash: curl: command not found\\ncommand terminated with exit code 127\\n')"
      ]
     },
     "execution_count": 41,
     "metadata": {},
     "output_type": "execute_result"
    }
   ],
   "source": [
    "#config\n",
    "executePeerCmd2(executePeer.pod_name,toCmd(downloadToLocalCmdList(local_path='/tmp', remote_path='ca', remote_name='tlsca.example.com-cert.pem'))) "
   ]
  },
  {
   "cell_type": "code",
   "execution_count": 256,
   "metadata": {},
   "outputs": [],
   "source": [
    "# get local orgs using config file\n",
    "conf = getCurrentConfig()    \n",
    "conf = json.loads(conf)\n",
    "dkeys = conf.get('channel_group').get('groups').get('Application').get('groups').keys()\n",
    "dkeys\n",
    "local_orgs = getLocalOrgList(dkeys)"
   ]
  },
  {
   "cell_type": "code",
   "execution_count": 64,
   "metadata": {},
   "outputs": [
    {
     "name": "stdout",
     "output_type": "stream",
     "text": [
      "dict_keys(['CORE_PEER_ADDRESS', 'CORE_PEER_GOSSIP_EXTERNALENDPOINT', 'CORE_PEER_LOCALMSPID', 'hostname', 'org_name'])\n",
      "dict_keys(['special.how', 'special.type'])\n"
     ]
    },
    {
     "data": {
      "text/plain": [
       "2"
      ]
     },
     "execution_count": 64,
     "metadata": {},
     "output_type": "execute_result"
    }
   ],
   "source": [
    "#trial: display number peers\n",
    "#deletePeer('tanja5')\n",
    "\n",
    "config = getConfigmap()\n",
    "deleteAllPeers(config)\n",
    "len(config['items'])\n",
    "#config['items'][1]"
>>>>>>> dde4f14e1f51bd53e14fa5bbc5da5655eb1ca34e
   ]
  },
  {
   "cell_type": "code",
<<<<<<< HEAD
   "execution_count": null,
   "metadata": {},
   "outputs": [],
=======
   "execution_count": 65,
   "metadata": {},
   "outputs": [
    {
     "data": {
      "text/plain": [
       "{'apiVersion': 'v1',\n",
       " 'items': [{'apiVersion': 'v1',\n",
       "   'data': {'CORE_PEER_ADDRESS': 'kubernetes.research.dev.seeburger.de:30003',\n",
       "    'CORE_PEER_GOSSIP_EXTERNALENDPOINT': 'kubernetes.research.dev.seeburger.de:30001',\n",
       "    'CORE_PEER_LOCALMSPID': 'OrgSallyMSP',\n",
       "    'hostname': 'kubernetes.research.dev.seeburger.de',\n",
       "    'org_name': 'OrgSally'},\n",
       "   'kind': 'ConfigMap',\n",
       "   'metadata': {'creationTimestamp': '2020-12-08T09:56:04Z',\n",
       "    'managedFields': [{'apiVersion': 'v1',\n",
       "      'fieldsType': 'FieldsV1',\n",
       "      'fieldsV1': {'f:data': {'.': {},\n",
       "        'f:CORE_PEER_ADDRESS': {},\n",
       "        'f:CORE_PEER_GOSSIP_EXTERNALENDPOINT': {},\n",
       "        'f:CORE_PEER_LOCALMSPID': {},\n",
       "        'f:hostname': {},\n",
       "        'f:org_name': {}}},\n",
       "      'manager': 'kubectl',\n",
       "      'operation': 'Update',\n",
       "      'time': '2020-12-08T09:56:04Z'}],\n",
       "    'name': 'hl-fabric-peer',\n",
       "    'namespace': 'default',\n",
       "    'resourceVersion': '27575190',\n",
       "    'selfLink': '/api/v1/namespaces/default/configmaps/hl-fabric-peer',\n",
       "    'uid': '29816c6c-3b4f-4ce0-b894-baa6a0c35086'}},\n",
       "  {'apiVersion': 'v1',\n",
       "   'data': {'special.how': 'very', 'special.type': 'charm'},\n",
       "   'kind': 'ConfigMap',\n",
       "   'metadata': {'creationTimestamp': '2020-12-02T01:45:24Z',\n",
       "    'managedFields': [{'apiVersion': 'v1',\n",
       "      'fieldsType': 'FieldsV1',\n",
       "      'fieldsV1': {'f:data': {'.': {},\n",
       "        'f:special.how': {},\n",
       "        'f:special.type': {}}},\n",
       "      'manager': 'kubectl',\n",
       "      'operation': 'Update',\n",
       "      'time': '2020-12-02T01:45:24Z'}],\n",
       "    'name': 'special-config',\n",
       "    'namespace': 'default',\n",
       "    'resourceVersion': '26332391',\n",
       "    'selfLink': '/api/v1/namespaces/default/configmaps/special-config',\n",
       "    'uid': '8c55ef1c-5621-4d13-86f3-ed9375ae4cbb'}}],\n",
       " 'kind': 'List',\n",
       " 'metadata': {'resourceVersion': '', 'selfLink': ''}}"
      ]
     },
     "execution_count": 65,
     "metadata": {},
     "output_type": "execute_result"
    }
   ],
   "source": [
    "config"
   ]
  },
  {
   "cell_type": "code",
   "execution_count": 12,
   "metadata": {},
   "outputs": [
    {
     "name": "stdout",
     "output_type": "stream",
     "text": [
      "OrgSally\n",
      "hafen0\n",
      "hafen1\n",
      "hafen2\n",
      "hafen3\n",
      "hafen4\n",
      "hafen5\n",
      "hafen6\n",
      "hafen7\n",
      "hafen8\n",
      "hafen9\n",
      "test001\n",
      "{'apiVersion': 'v1', 'data': {'special.how': 'very', 'special.type': 'charm'}, 'kind': 'ConfigMap', 'metadata': {'creationTimestamp': '2020-12-02T01:45:24Z', 'managedFields': [{'apiVersion': 'v1', 'fieldsType': 'FieldsV1', 'fieldsV1': {'f:data': {'.': {}, 'f:special.how': {}, 'f:special.type': {}}}, 'manager': 'kubectl', 'operation': 'Update', 'time': '2020-12-02T01:45:24Z'}], 'name': 'special-config', 'namespace': 'default', 'resourceVersion': '26332391', 'selfLink': '/api/v1/namespaces/default/configmaps/special-config', 'uid': '8c55ef1c-5621-4d13-86f3-ed9375ae4cbb'}}\n"
     ]
    }
   ],
>>>>>>> dde4f14e1f51bd53e14fa5bbc5da5655eb1ca34e
   "source": [
    "# testing, print org names\n",
    "for item in config['items']:\n",
    "    try:\n",
    "        print(item['data']['org_name'])\n",
    "    except Exception as e:\n",
    "        print(item)"
   ]
  },
  {
   "cell_type": "code",
<<<<<<< HEAD
   "execution_count": 3,
=======
   "execution_count": 22,
>>>>>>> dde4f14e1f51bd53e14fa5bbc5da5655eb1ca34e
   "metadata": {},
   "outputs": [],
   "source": [
    "class kubernetespeer:\n",
    "    def __init__(self, name='',pod_name='',listen_port='',gossip_port=''):\n",
    "        self.name = name\n",
    "        self.pod_name = pod_name\n",
    "        self.listen_port = listen_port\n",
    "        self.gossip_port = gossip_port\n",
    "    def getCertificate(self):\n",
    "        try:\n",
    "            return str(subprocess.check_output(['cat', self.crt]))[2:-3]   \n",
    "        except Exception as e:\n",
    "            return str(e)"
   ]
  },
  {
<<<<<<< HEAD
=======
   "cell_type": "code",
   "execution_count": 21,
   "metadata": {},
   "outputs": [
    {
     "name": "stdout",
     "output_type": "stream",
     "text": [
      "config\t\t   org_msp.json\n",
      "config.json\t   sally0-kubernetes.research.dev.seeburger.de-ca.crt\n",
      "core-js-banners    schalke0-kubernetes.research.dev.seeburger.de-ca.crt\n",
      "hsperfdata_jovyan  tmpqjb1wdj7\n",
      "hsperfdata_root    v8-compile-cache-1000\n",
      "new.crt\t\t   yarn--1607032627441-0.18551947721773998\n",
      "npm-68-53e5e72b    yarn--1607032631401-0.7317584511309743\n",
      "npm-691-5316cd7f   yarn--1607032637327-0.7830451140706467\n"
     ]
    }
   ],
   "source": [
    "#executePeerCmd(peers[execute_org].pod_name,toCmd(downloadToLocalCmdList(local_path='/tmp', remote_name=getCrtName(org))))\n",
    "cmd = downloadToLocalCmdList(local_path='/tmp', remote_path='ca/mychannel/', remote_name=getCrtName('schalke0'))\n",
    "executeLocalCmd(cmd)\n",
    "!ls /tmp"
   ]
  },
  {
   "cell_type": "code",
   "execution_count": 20,
   "metadata": {},
   "outputs": [
    {
     "data": {
      "text/plain": [
       "{}"
      ]
     },
     "execution_count": 20,
     "metadata": {},
     "output_type": "execute_result"
    }
   ],
   "source": [
    "peers"
   ]
  },
  {
>>>>>>> dde4f14e1f51bd53e14fa5bbc5da5655eb1ca34e
   "cell_type": "markdown",
   "metadata": {},
   "source": [
    "# Multiple version"
   ]
  },
  {
   "cell_type": "code",
<<<<<<< HEAD
   "execution_count": 4,
   "metadata": {},
   "outputs": [],
   "source": [
    "peers = {}\n",
    "#streetno[\"1\"] = \"Sachin Tendulkar\" "
=======
   "execution_count": 9,
   "metadata": {},
   "outputs": [],
   "source": [
    "# init\n",
    "peers = {}"
   ]
  },
  {
   "cell_type": "code",
   "execution_count": 82,
   "metadata": {},
   "outputs": [],
   "source": [
    "# create, delete numbered peers\n",
    "def createPeers(name):\n",
    "    for x in range(0,10):\n",
    "        peerneme = name + str(x)\n",
    "        addPeer(peerneme)\n",
    "        \n",
    "def deletePeers(name):\n",
    "    for x in range(0,10):\n",
    "        peerneme = name + str(x)\n",
    "        deletePeer(peerneme)    \n",
    "  \n",
    "#createPeers('da')\n",
    "#deletePeers('da')"
   ]
  },
  {
   "cell_type": "code",
   "execution_count": 19,
   "metadata": {},
   "outputs": [],
   "source": [
    "def getPeerAddress(peer):\n",
    "    addr='peer0.kubernetes.research.dev.seeburger.de'\n",
    "    return str(addr + ':' + peer.listen_port)\n",
    "\n",
    "def getPeerAddress0(peer):\n",
    "    addr='kubernetes.research.dev.seeburger.de'\n",
    "    return str(addr + ':' + peer.listen_port)\n",
    "\n",
    "# init kubernetes peer by existing kubernetes cluster\n",
    "def initpeer(peername):\n",
    "    pod_name = getPod(peername)\n",
    "    listen_port = getPort(peername=peername, name ='peer-listen')\n",
    "    gossip_port = getPort(peername=peername, name ='peer-gossip')\n",
    "    peer = kubernetespeer(name=peername,pod_name=pod_name,listen_port=listen_port,gossip_port=gossip_port)\n",
    "    addBashEnvToPeer(peer)\n",
    "    return peer"
   ]
  },
  {
   "cell_type": "code",
   "execution_count": null,
   "metadata": {},
   "outputs": [],
   "source": [
    "# Cerificates\n",
    "from cryptography import x509\n",
    "from cryptography.hazmat.backends import default_backend\n",
    "from cryptography.x509.oid import NameOID\n",
    "\n",
    "#https://stackoverflow.com/questions/16899247/how-can-i-decode-a-ssl-certificate-using-python\n",
    "\n",
    "def getCrt(org='',domain='kubernetes.research.dev.seeburger.de',host='10.15.136.41:30080',user='scray', pwd='scray',channel='mychannel'):\n",
    "    cmd = ['curl', '--user',user + ':' + pwd, \n",
    "           'http://' + host + '/ca/' + channel + '/' + org + '-' + domain + '-ca.crt']\n",
    "    return executeLocalCmd(cmd)\n",
    "       \n",
    "def getOrgCrt(org='hafen0'):    \n",
    "    pem_data=getCrt(org)    \n",
    "    return x509.load_pem_x509_certificate(pem_data, default_backend())\n"
>>>>>>> dde4f14e1f51bd53e14fa5bbc5da5655eb1ca34e
   ]
  },
  {
   "cell_type": "code",
<<<<<<< HEAD
   "execution_count": 97,
=======
   "execution_count": 74,
>>>>>>> dde4f14e1f51bd53e14fa5bbc5da5655eb1ca34e
   "metadata": {},
   "outputs": [
    {
     "data": {
      "application/vnd.jupyter.widget-view+json": {
<<<<<<< HEAD
       "model_id": "ce40c03c62614a78b1cc9eddff85d437",
=======
       "model_id": "258238a1d64f48a3a3fc7116bff12833",
       "version_major": 2,
       "version_minor": 0
      },
      "text/plain": [
       "HTML(value='<b>peer</b>', description=' ', layout=Layout(width='500px'), style=DescriptionStyle(description_wi…"
      ]
     },
     "metadata": {},
     "output_type": "display_data"
    },
    {
     "data": {
      "application/vnd.jupyter.widget-view+json": {
       "model_id": "5a758ab4c8ab4e20aae8172656ea9a03",
       "version_major": 2,
       "version_minor": 0
      },
      "text/plain": [
       "Text(value='', description='organization', layout=Layout(width='600px'), style=DescriptionStyle(description_wi…"
      ]
     },
     "metadata": {},
     "output_type": "display_data"
    },
    {
     "data": {
      "application/vnd.jupyter.widget-view+json": {
       "model_id": "25c42c36213f46cfb5954408ddbafe3d",
       "version_major": 2,
       "version_minor": 0
      },
      "text/plain": [
       "Text(value='', description='pod name', disabled=True, layout=Layout(width='600px'), style=DescriptionStyle(des…"
      ]
     },
     "metadata": {},
     "output_type": "display_data"
    },
    {
     "data": {
      "application/vnd.jupyter.widget-view+json": {
       "model_id": "2d059bc334d1438fa61c73d12ae2b26d",
       "version_major": 2,
       "version_minor": 0
      },
      "text/plain": [
       "Text(value='', description='containers', disabled=True, layout=Layout(width='600px'), style=DescriptionStyle(d…"
      ]
     },
     "metadata": {},
     "output_type": "display_data"
    },
    {
     "data": {
      "application/vnd.jupyter.widget-view+json": {
       "model_id": "dc5a5c1184f44bb2b6990a10c0aa583a",
       "version_major": 2,
       "version_minor": 0
      },
      "text/plain": [
       "Text(value='', description='address', disabled=True, layout=Layout(width='600px'), style=DescriptionStyle(desc…"
      ]
     },
     "metadata": {},
     "output_type": "display_data"
    },
    {
     "data": {
      "application/vnd.jupyter.widget-view+json": {
       "model_id": "436eff067ecb4972a75388d8bff430bf",
       "version_major": 2,
       "version_minor": 0
      },
      "text/plain": [
       "HTML(value='<b>certificate</b>', description=' ', layout=Layout(width='500px'), style=DescriptionStyle(descrip…"
      ]
     },
     "metadata": {},
     "output_type": "display_data"
    },
    {
     "data": {
      "application/vnd.jupyter.widget-view+json": {
       "model_id": "d902dea17d904d598a084e07fbf86c9a",
       "version_major": 2,
       "version_minor": 0
      },
      "text/plain": [
       "Text(value='', description='organization', disabled=True, layout=Layout(width='600px'), style=DescriptionStyle…"
      ]
     },
     "metadata": {},
     "output_type": "display_data"
    },
    {
     "data": {
      "application/vnd.jupyter.widget-view+json": {
       "model_id": "b3f308519db94c45bdd778669d4bf954",
       "version_major": 2,
       "version_minor": 0
      },
      "text/plain": [
       "Text(value='', description='common name', disabled=True, layout=Layout(width='600px'), style=DescriptionStyle(…"
      ]
     },
     "metadata": {},
     "output_type": "display_data"
    },
    {
     "data": {
      "application/vnd.jupyter.widget-view+json": {
       "model_id": "0ab1d51cf5554609926ab8828fbb936b",
       "version_major": 2,
       "version_minor": 0
      },
      "text/plain": [
       "Text(value='', description='serial number', disabled=True, layout=Layout(width='600px'), style=DescriptionStyl…"
      ]
     },
     "metadata": {},
     "output_type": "display_data"
    },
    {
     "data": {
      "application/vnd.jupyter.widget-view+json": {
       "model_id": "b9effe7db21c43ed8fe3eaa8d0d3ac20",
       "version_major": 2,
       "version_minor": 0
      },
      "text/plain": [
       "Text(value='', description='locality', disabled=True, layout=Layout(width='600px'), style=DescriptionStyle(des…"
      ]
     },
     "metadata": {},
     "output_type": "display_data"
    },
    {
     "data": {
      "application/vnd.jupyter.widget-view+json": {
       "model_id": "fd9a58d1331c4e7da6d2357d4cf5bc75",
       "version_major": 2,
       "version_minor": 0
      },
      "text/plain": [
       "Text(value='', description='state', disabled=True, layout=Layout(width='600px'), style=DescriptionStyle(descri…"
      ]
     },
     "metadata": {},
     "output_type": "display_data"
    },
    {
     "data": {
      "application/vnd.jupyter.widget-view+json": {
       "model_id": "2559e25962d24e4ba95965094a0e2bfb",
>>>>>>> dde4f14e1f51bd53e14fa5bbc5da5655eb1ca34e
       "version_major": 2,
       "version_minor": 0
      },
      "text/plain": [
<<<<<<< HEAD
       "Text(value='', description='organization', layout=Layout(width='600px'), style=DescriptionStyle(description_wi…"
=======
       "Text(value='', description='country', disabled=True, layout=Layout(width='600px'), style=DescriptionStyle(desc…"
>>>>>>> dde4f14e1f51bd53e14fa5bbc5da5655eb1ca34e
      ]
     },
     "metadata": {},
     "output_type": "display_data"
    },
    {
     "data": {
      "application/vnd.jupyter.widget-view+json": {
<<<<<<< HEAD
       "model_id": "b6cfbf8cc64648d08226b766a1f3c5fa",
=======
       "model_id": "4d5a98d6b6dd4380bf1c5474f09a0731",
>>>>>>> dde4f14e1f51bd53e14fa5bbc5da5655eb1ca34e
       "version_major": 2,
       "version_minor": 0
      },
      "text/plain": [
<<<<<<< HEAD
       "Text(value='', description='pod name', disabled=True, layout=Layout(width='600px'), style=DescriptionStyle(des…"
=======
       "Text(value='', description='from', disabled=True, layout=Layout(width='600px'), style=DescriptionStyle(descrip…"
>>>>>>> dde4f14e1f51bd53e14fa5bbc5da5655eb1ca34e
      ]
     },
     "metadata": {},
     "output_type": "display_data"
    },
    {
     "data": {
      "application/vnd.jupyter.widget-view+json": {
<<<<<<< HEAD
       "model_id": "daaa912a21d443fbbf894ac3662c67d3",
=======
       "model_id": "6c5248e0651547139e0b09f1a6d8d55f",
>>>>>>> dde4f14e1f51bd53e14fa5bbc5da5655eb1ca34e
       "version_major": 2,
       "version_minor": 0
      },
      "text/plain": [
<<<<<<< HEAD
       "Text(value='', description='address', disabled=True, layout=Layout(width='600px'), style=DescriptionStyle(desc…"
=======
       "Text(value='', description='until', disabled=True, layout=Layout(width='600px'), style=DescriptionStyle(descri…"
>>>>>>> dde4f14e1f51bd53e14fa5bbc5da5655eb1ca34e
      ]
     },
     "metadata": {},
     "output_type": "display_data"
    }
   ],
   "source": [
    "import os\n",
    "import json\n",
    "import subprocess\n",
    "import pandas as pd\n",
<<<<<<< HEAD
    "\n",
    "def getPeerAddress(peer):\n",
    "    addr='peer0.kubernetes.research.dev.seeburger.de'\n",
    "    return str(addr + ':' + peer.listen_port)\n",
    "\n",
    "def getPeerAddress0(peer):\n",
    "    addr='kubernetes.research.dev.seeburger.de'\n",
    "    return str(addr + ':' + peer.listen_port)\n",
    "\n",
    "def initpeer(peername):\n",
    "    pod_name = getPod(peername)\n",
    "    listen_port = getPort(peername=peername, name ='peer-listen')\n",
    "    gossip_port = getPort(peername=peername, name ='peer-gossip')\n",
    "    return kubernetespeer(name=peername,pod_name=pod_name,listen_port=listen_port,gossip_port=gossip_port)\n",
    "   \n",
=======
    "   \n",
    "def setPeerWidgetValues(peer):\n",
    "    pod_name_text.value = peers[peername].pod_name\n",
    "    peer_addr_text.value = getPeerAddress(peer)\n",
    "    cmd= ['get', 'pods', 'hafen1-69947bff88-2pgxs', '-o', 'json']\n",
    "    peer_containers_text.value=str(len(json.loads(executeKubectlCmd(cmd).decode('ascii'))['spec']['containers']))\n",
    "        \n",
    "    cert = getOrgCrt(org=peer.name)\n",
    "    issuer = cert.issuer\n",
    "    c_o_text.value=issuer.get_attributes_for_oid(NameOID.ORGANIZATION_NAME)[0].value\n",
    "    c_cn_text.value=issuer.get_attributes_for_oid(NameOID.COMMON_NAME)[0].value\n",
    "    c_sn_text.value=str(cert.serial_number)\n",
    "    c_l_text.value=issuer.get_attributes_for_oid(NameOID.LOCALITY_NAME)[0].value\n",
    "    c_s_text.value=issuer.get_attributes_for_oid(NameOID.STATE_OR_PROVINCE_NAME)[0].value\n",
    "    c_c_text.value=issuer.get_attributes_for_oid(NameOID.COUNTRY_NAME)[0].value\n",
    "    c_nvb_text.value=cert.not_valid_before.strftime(\"%Y-%m-%d %H:%M:%S\")\n",
    "    c_nva_text.value=cert.not_valid_after.strftime(\"%Y-%m-%d %H:%M:%S\")\n",
    "    \n",
>>>>>>> dde4f14e1f51bd53e14fa5bbc5da5655eb1ca34e
    "def addPeer(peername):  \n",
    "    if peername in peers.keys():\n",
    "        global peer\n",
    "        peer = peers[peername]\n",
<<<<<<< HEAD
    "        pod_name_text.value = peers[peername].pod_name\n",
    "        peer_addr_text.value = getPeerAddress(peer)\n",
=======
    "        #setPeerWidgetValues(peer)\n",
>>>>>>> dde4f14e1f51bd53e14fa5bbc5da5655eb1ca34e
    "        return\n",
    "    os.environ['PEER_NAME'] = peername\n",
    "    !cd /home/jovyan/scray/projects/invoice-hyperledger-fabric/containers/ && /home/jovyan/scray/projects/invoice-hyperledger-fabric/containers/configure-deployment.sh -n $PEER_NAME\n",
    "    !/home/jovyan/work/usr/bin/kubectl apply -f /home/jovyan/scray/projects/invoice-hyperledger-fabric/containers/target/$PEER_NAME/k8s-peer-service.yaml\n",
    "    print('done')\n",
    "    setPeerPorts(peername)\n",
    "    res = createConfig(peername=peername,peer_listen_port=os.environ['PEER_LISTEN_PORT'],peer_gossip_port=os.environ['GOSSIP_PORT'])\n",
    "    print(res)\n",
    "    !/home/jovyan/work/usr/bin/kubectl apply -f /home/jovyan/scray/projects/invoice-hyperledger-fabric/containers/target/$PEER_NAME/k8s-peer.yaml\n",
    "    peer = initpeer(peername)\n",
    "    peers[peername] = peer\n",
<<<<<<< HEAD
=======
    "    #setPeerWidgetValues(peer)\n",
>>>>>>> dde4f14e1f51bd53e14fa5bbc5da5655eb1ca34e
    "    \n",
    "def handle_submit(text):\n",
    "    global peername\n",
    "    peername = text.value\n",
    "    addPeer(peername)\n",
    "    \n",
<<<<<<< HEAD
    "layout2 = {'width': '600px'}    \n",
    "peertext      = addVisText(key='organization',layout=layout2)\n",
    "pod_name_text = addVisText(key='pod name',disabled=True,layout=layout2)\n",
    "peer_addr_text = addVisText(key='address',disabled=True,layout=layout2)\n",
    "#pod_name_text.disabled=True\n",
    "\n",
    "peertext.on_submit(handle_submit)      "
   ]
  },
  {
   "cell_type": "code",
   "execution_count": null,
   "metadata": {},
   "outputs": [],
   "source": [
    "#deletePeer('tanja99')\n",
    "for x in range(0,10):\n",
    "    peerneme = 'schalke' + str(x)\n",
    "    addPeer(peerneme)\n",
    "    #deletePeer(peerneme)"
   ]
  },
  {
   "cell_type": "code",
   "execution_count": 7,
   "metadata": {},
   "outputs": [
    {
     "data": {
      "text/plain": [
       "('schalke0', 'schalke0-6f6c7f585b-h82x2', '32478')"
      ]
     },
     "execution_count": 7,
     "metadata": {},
     "output_type": "execute_result"
    }
   ],
   "source": [
    "#peer=initpeer('sally8')\n",
    "#peer=peers['sally8']\n",
    "peer.name,peer.pod_name, peer.listen_port\n",
    "#'sally28' in peers.keys()"
=======
    "layout2 = {'width': '600px'}   \n",
    "addHeader(text='peer',bold=True)\n",
    "peertext      = addVisText(key='organization',layout=layout2)\n",
    "pod_name_text = addVisText(key='pod name',disabled=True,layout=layout2)\n",
    "peer_containers_text = addVisText(key='containers',disabled=True,layout=layout2)\n",
    "peer_addr_text = addVisText(key='address',disabled=True,layout=layout2)\n",
    "peertext.on_submit(handle_submit)    \n",
    "\n",
    "addHeader(text='certificate',bold=True)\n",
    "c_o_text = addVisText(key='organization',disabled=True,layout=layout2)\n",
    "c_cn_text =addVisText(key='common name',disabled=True,layout=layout2)\n",
    "c_sn_text =addVisText(key='serial number',disabled=True,layout=layout2)\n",
    "c_l_text =addVisText(key='locality',disabled=True,layout=layout2)\n",
    "c_s_text =addVisText(key='state',disabled=True,layout=layout2)\n",
    "c_c_text =addVisText(key='country',disabled=True,layout=layout2)\n",
    "c_nvb_text =addVisText(key='from',disabled=True,layout=layout2)\n",
    "c_nva_text =addVisText(key='until',disabled=True,layout=layout2)"
>>>>>>> dde4f14e1f51bd53e14fa5bbc5da5655eb1ca34e
   ]
  },
  {
   "cell_type": "markdown",
   "metadata": {},
   "source": [
    "Step2: Sign by majority of old peers"
   ]
  },
  {
   "cell_type": "code",
<<<<<<< HEAD
   "execution_count": 26,
   "metadata": {},
   "outputs": [
    {
     "name": "stdout",
     "output_type": "stream",
     "text": [
      "['Org1MSP', 'Org2MSP', 'schalke0MSP', 'schalke1MSP', 'schalke2MSP']\n"
     ]
    }
   ],
   "source": [
    "# download current orgs\n",
    "downloadToLocal(local_path='/tmp', local_name='org_msp.json' ,remote_path='upload')\n",
    "\n",
    "with open('/tmp/org_msp.json', 'r') as fp:\n",
    "    data = json.load(fp)\n",
    "\n",
    "print(data)\n",
    "\n",
    "for name in data:\n",
    "    if name[:-3] in peers:\n",
    "        peer = peers[name[:-3]]\n",
    "        addBashEnvToPeer(peer)\n",
    "        sign(peer.pod_name)"
=======
   "execution_count": 225,
   "metadata": {},
   "outputs": [],
   "source": [
    "# download current organizations (consortium) from sharepoint\n",
    "downloadToLocal(local_path='/tmp', local_name='org_msp.json' ,remote_path='upload')\n",
    "with open('/tmp/org_msp.json', 'r') as fp:\n",
    "    data = json.load(fp)\n",
    "    \n",
    "local_orgs = getLocalOrgList(data)    "
>>>>>>> dde4f14e1f51bd53e14fa5bbc5da5655eb1ca34e
   ]
  },
  {
   "cell_type": "code",
<<<<<<< HEAD
   "execution_count": 60,
   "metadata": {},
   "outputs": [],
   "source": [
    "local_orgs=[]\n",
    "for name in data:\n",
    "    if name[:-3] in peers:\n",
    "        local_orgs.append(name[:-3])"
   ]
  },
  {
   "cell_type": "code",
   "execution_count": 61,
   "metadata": {},
   "outputs": [
    {
     "data": {
      "text/plain": [
       "['schalke0', 'schalke1', 'schalke2']"
      ]
     },
     "execution_count": 61,
     "metadata": {},
     "output_type": "execute_result"
    }
   ],
   "source": [
    "local_orgs"
=======
   "execution_count": null,
   "metadata": {},
   "outputs": [],
   "source": [
    "for name in local_orgs:\n",
    "    sign(peers[name].pod_name)"
>>>>>>> dde4f14e1f51bd53e14fa5bbc5da5655eb1ca34e
   ]
  },
  {
   "cell_type": "markdown",
   "metadata": {},
   "source": [
    "Step 3"
   ]
  },
  {
   "cell_type": "code",
<<<<<<< HEAD
   "execution_count": 28,
=======
   "execution_count": 226,
>>>>>>> dde4f14e1f51bd53e14fa5bbc5da5655eb1ca34e
   "metadata": {},
   "outputs": [
    {
     "data": {
      "text/plain": [
<<<<<<< HEAD
       "'schalke3-7dd96d8dc4-2d4pv'"
      ]
     },
     "execution_count": 28,
=======
       "'hafen1-69947bff88-2pgxs'"
      ]
     },
     "execution_count": 226,
>>>>>>> dde4f14e1f51bd53e14fa5bbc5da5655eb1ca34e
     "metadata": {},
     "output_type": "execute_result"
    }
   ],
   "source": [
    "peer.pod_name"
   ]
  },
  {
   "cell_type": "code",
<<<<<<< HEAD
   "execution_count": 29,
=======
   "execution_count": 176,
>>>>>>> dde4f14e1f51bd53e14fa5bbc5da5655eb1ca34e
   "metadata": {},
   "outputs": [
    {
     "data": {
      "text/plain": [
       "b'fetch http://dl-cdn.alpinelinux.org/alpine/v3.12/main/x86_64/APKINDEX.tar.gz\\nfetch http://dl-cdn.alpinelinux.org/alpine/v3.12/community/x86_64/APKINDEX.tar.gz\\n(1/1) Installing curl (7.69.1-r3)\\nExecuting busybox-1.31.1-r16.trigger\\nOK: 29 MiB in 28 packages\\n(1/17) Installing fstrm (0.6.0-r1)\\n(2/17) Installing libgcc (9.3.0-r2)\\n(3/17) Installing krb5-conf (1.0-r2)\\n(4/17) Installing libcom_err (1.45.6-r0)\\n(5/17) Installing keyutils-libs (1.6.1-r1)\\n(6/17) Installing libverto (0.3.1-r1)\\n(7/17) Installing krb5-libs (1.18.3-r0)\\n(8/17) Installing json-c (0.14-r1)\\n(9/17) Installing libstdc++ (9.3.0-r2)\\n(10/17) Installing libprotobuf (3.12.2-r0)\\n(11/17) Installing libprotoc (3.12.2-r0)\\n(12/17) Installing protobuf-c (1.3.3-r1)\\n(13/17) Installing libuv (1.38.1-r0)\\n(14/17) Installing xz-libs (5.2.5-r0)\\n(15/17) Installing libxml2 (2.9.10-r5)\\n(16/17) Installing bind-libs (9.16.6-r0)\\n(17/17) Installing bind-tools (9.16.6-r0)\\nExecuting busybox-1.31.1-r16.trigger\\nOK: 42 MiB in 45 packages\\n'"
      ]
     },
<<<<<<< HEAD
     "execution_count": 29,
=======
     "execution_count": 176,
>>>>>>> dde4f14e1f51bd53e14fa5bbc5da5655eb1ca34e
     "metadata": {},
     "output_type": "execute_result"
    }
   ],
   "source": [
    "#pod_name   = peers['sally5'].pod_name\n",
<<<<<<< HEAD
    "orderer_ip = '10.15.128.97'\n",
=======
    "orderer_ip = '10.15.128.97'   \n",
>>>>>>> dde4f14e1f51bd53e14fa5bbc5da5655eb1ca34e
    "orderer_hostname = 'orderer.example.com'\n",
    "channel_name = 'mychannel'  \n",
    "joinHyperledger(peer.pod_name,orderer_ip,orderer_hostname,channel_name)"
   ]
  },
  {
   "cell_type": "markdown",
   "metadata": {},
   "source": [
    "B"
   ]
  },
  {
<<<<<<< HEAD
   "cell_type": "code",
   "execution_count": null,
   "metadata": {},
   "outputs": [],
   "source": []
  },
  {
   "cell_type": "markdown",
   "metadata": {},
   "source": [
    "# Install and aprove chaincode"
=======
   "cell_type": "markdown",
   "metadata": {},
   "source": [
    "# Enroll users"
>>>>>>> dde4f14e1f51bd53e14fa5bbc5da5655eb1ca34e
   ]
  },
  {
   "cell_type": "code",
<<<<<<< HEAD
   "execution_count": 90,
   "metadata": {},
   "outputs": [
    {
     "name": "stdout",
     "output_type": "stream",
     "text": [
      "schalke0\n",
      "schalke1\n",
      "schalke2\n"
     ]
    }
   ],
   "source": [
    "for org in local_orgs:\n",
    "    print(org)\n",
    "    addBashEnvToPeer(peers[org])\n",
    "    \n",
    "addBashEnvToPeer(peers['schalke3'])"
   ]
  },
  {
   "cell_type": "code",
   "execution_count": 86,
   "metadata": {},
   "outputs": [],
   "source": [
    "for name in data:\n",
    "    if name[:-3] in peers:\n",
    "        peer = peers[name[:-3]]\n",
    "        installAndAproveChaincode(peer)"
=======
   "execution_count": null,
   "metadata": {},
   "outputs": [],
   "source": [
    "# download walletcreator to peers\n",
    "def uploadWalletToolToShaepoint():\n",
    "    uploadFromLocal(local_path='/home/jovyan/scray/projects/invoice-hyperledger-fabric/tools/wallet-creator/target', local_name='wallet-creator-0.0.1-SNAPSHOT-jar-with-dependencies.jar' ,remote_path='upload')\n",
    "    uploadFromLocal(local_path='/home/jovyan/scray/projects/invoice-hyperledger-fabric/tools/wallet-creator', local_name='cert-creator.sh' ,remote_path='upload')\n",
    "\n",
    "def installPeerWalletTool(peer):\n",
    "    executePeerCmd(peer.pod_name,toCmd(downloadToLocalCmdList(local_path='/tmp', remote_name='wallet-creator-0.0.1-SNAPSHOT-jar-with-dependencies.jar'))) \n",
    "    executePeerCmd(peer.pod_name,toCmd(downloadToLocalCmdList(local_path='/tmp', remote_name='cert-creator.sh'))) \n",
    "    executePeerCmd(peer.pod_name,'apk add openssl')\n",
    "    executePeerCmd(peer.pod_name,'apk add openjdk8-jre')\n",
    "    \n",
    "def createPeerUser(peer,user, admin='admin',\n",
    "    cert='/mnt/conf/organizations/peerOrganizations/kubernetes.research.dev.seeburger.de/ca/ca.kubernetes.research.dev.seeburger.de-cert.pem',\n",
    "    key='/mnt/conf/organizations/peerOrganizations/kubernetes.research.dev.seeburger.de/ca/priv_sk'):\n",
    "        cmd = ['/tmp/cert-creator.sh','--cacert',cert,'--cakey',key,'--new-user-crt',user,'--organizational-unit',admin,\n",
    "               '--create-wallet','true','--wallet-creator-lib-path', '/tmp']\n",
    "        return executePeerCmd(peer.pod_name,toCmd(cmd))\n",
    "    \n",
    "createPeerUser(peers['hafen0'],'bretten')     "
   ]
  },
  {
   "cell_type": "markdown",
   "metadata": {},
   "source": [
    "# Install and aprove chaincode"
>>>>>>> dde4f14e1f51bd53e14fa5bbc5da5655eb1ca34e
   ]
  },
  {
   "cell_type": "code",
<<<<<<< HEAD
   "execution_count": 84,
=======
   "execution_count": 257,
>>>>>>> dde4f14e1f51bd53e14fa5bbc5da5655eb1ca34e
   "metadata": {},
   "outputs": [],
   "source": [
    "#installAndAproveChaincode(peers['schalke3'])\n",
<<<<<<< HEAD
    "installAndAproveChaincode(peers['schalke0'])"
=======
    "for name in local_orgs:\n",
    "    installAndAproveChaincode(peers[name])"
>>>>>>> dde4f14e1f51bd53e14fa5bbc5da5655eb1ca34e
   ]
  },
  {
   "cell_type": "code",
<<<<<<< HEAD
   "execution_count": 67,
=======
   "execution_count": null,
>>>>>>> dde4f14e1f51bd53e14fa5bbc5da5655eb1ca34e
   "metadata": {},
   "outputs": [],
   "source": [
    "downloadCrtsToPeer(local_orgs)"
   ]
  },
  {
   "cell_type": "code",
   "execution_count": null,
   "metadata": {},
   "outputs": [],
   "source": [
    "peer lifecycle chaincode commit -o orderer.example.com:7050 --ordererTLSHostnameOverride orderer.example.com \n",
    "--tls --cafile $CERT_BASE_PATH/organizations/ordererOrganizations/example.com/orderers/orderer.example.com/msp/tlscacerts/tlsca.example.com-cert.pem --channelID mychannel --name basic --peerAddresses peer0.org1.example.com:7051 --tlsRootCertFiles $CERT_BASE_PATH/organizations/peerOrganizations/org1.example.com/peers/peer0.org1.example.com/tls/ca.crt --peerAddresses peer0.org2.example.com:9051 --tlsRootCertFiles ${CERT_BASE_PATH}/organizations/peerOrganizations/org2.example.com/peers/peer0.org2.example.com/tls/ca.crt --version 1.0 --sequence 1\n"
   ]
  },
  {
   "cell_type": "code",
<<<<<<< HEAD
   "execution_count": 74,
=======
   "execution_count": 36,
>>>>>>> dde4f14e1f51bd53e14fa5bbc5da5655eb1ca34e
   "metadata": {},
   "outputs": [],
   "source": [
    "# download e.g. all crts of needed peers to local dir (e.g. for invoke,commit)\n",
    "def getCrtName(org='', domain='kubernetes.research.dev.seeburger.de'):\n",
    "    return str(org + '-' + domain + '-ca.crt')\n",
    "    \n",
    "def downloadToLocalCmdList(host='10.15.136.41:30080',user='scray', pwd='scray',\n",
    "                    local_path='./', remote_name='' ,remote_path='upload'):  \n",
    "    return ['curl', '--user',user + ':' + pwd, 'http://' + host + '/' + remote_path + '/' + remote_name, '-o', local_path + '/' + remote_name]\n",
    "\n",
<<<<<<< HEAD
    "def toCmd(strlist):\n",
    "    return ''.join(str(e + ' ') for e in strlist)\n",
=======
>>>>>>> dde4f14e1f51bd53e14fa5bbc5da5655eb1ca34e
    "\n",
    "def downloadCrtsToPeer(orgs, execute_org='schalke3'):\n",
    "    for org in orgs:\n",
    "        executePeerCmd(peers[execute_org].pod_name,toCmd(downloadToLocalCmdList(local_path='/tmp', remote_name=getCrtName(org))))     \n",
<<<<<<< HEAD
    "   \n",
=======
    "   "
   ]
  },
  {
   "cell_type": "code",
   "execution_count": null,
   "metadata": {},
   "outputs": [],
   "source": [
>>>>>>> dde4f14e1f51bd53e14fa5bbc5da5655eb1ca34e
    "#addBashEnvToPeer(peers['schalke3'])\n",
    "downloadCrtsToPeer(local_orgs)\n",
    "downloadCrtsToPeer(['schalke3'], execute_org='schalke3')"
   ]
  },
  {
   "cell_type": "code",
<<<<<<< HEAD
   "execution_count": 2,
=======
   "execution_count": 392,
>>>>>>> dde4f14e1f51bd53e14fa5bbc5da5655eb1ca34e
   "metadata": {},
   "outputs": [],
   "source": [
    "def downloadToLocal(host='10.15.136.41:30080',user='scray', pwd='scray',\n",
    "                    local_path='./', local_name='' ,remote_path='upload'):  \n",
    "    try:    \n",
    "        output = subprocess.check_output(['curl', '--user',user + ':' + pwd, \n",
    "                                               'http://' + host + '/' + remote_path + '/' + local_name, '-o', local_path + '/' + local_name])\n",
    "        #return str(callProcess)[3:-3]\n",
    "        return output.decode('ascii')\n",
    "    except Exception as e:\n",
    "        return str(e)     \n",
<<<<<<< HEAD
    "                    \n",
=======
    "   \n",
    "\n",
    "def uploadFromLocal(host='10.15.136.41:30080',user='scray', pwd='scray',\n",
    "                    local_path='./', local_name='' ,remote_path='upload'):\n",
    "    try:    \n",
    "        output = subprocess.check_output(['curl', '--user',user + ':' + pwd, \n",
    "                                          '-T', local_path + '/' + local_name, \n",
    "                                          'http://' + host + '/' + remote_path + '/' + local_name])\n",
    "        return output.decode('ascii')\n",
    "    except Exception as e:\n",
    "        return str(e)   \n",
>>>>>>> dde4f14e1f51bd53e14fa5bbc5da5655eb1ca34e
    "                    \n",
    "#downloadToLocal(local_path='./', local_name='org3_update_in_envelope.pb' ,remote_path='upload')"
   ]
  },
  {
   "cell_type": "code",
<<<<<<< HEAD
   "execution_count": 75,
=======
   "execution_count": 307,
>>>>>>> dde4f14e1f51bd53e14fa5bbc5da5655eb1ca34e
   "metadata": {},
   "outputs": [],
   "source": [
    "def commit():\n",
    "    try:    \n",
    "        #crtnew = '\\\" + getCrt(org='klaus') + '\\\"\n",
    "        getCrt(org='klaus')\n",
    "        output = subprocess.check_output(['peer', 'lifecycle','chaincode','commit','-o',addr0,'--ordererTLSHostnameOverride',orderer,\n",
    "                                          '--tls','--cafile',ordererpem,'--channelID','mychannel','--name','basic',\n",
    "                                          '--peerAddresses',addr1, '--tlsRootCertFiles', crt1, \n",
    "                                          '--peerAddresses', addr2, '--tlsRootCertFiles', crt2, \n",
    "                                          '--peerAddresses', 'peer0.scray.org', '--tlsRootCertFiles', '/tmp/new.crt',\n",
    "                                          #'--peerAddresses', 'kubernetes.research.dev.seeburger.de:32190', '--tlsRootCertFiles', '/tmp/new.crt',\n",
    "                                          '--version', '1.0', '--sequence', '1','--tlsRootCertFiles'])\n",
    "        return output.decode('ascii')\n",
    "    except Exception as e:\n",
    "        return str(e)\n",
    "    \n",
    "def getCrt(org='',domain='kubernetes.research.dev.seeburger.de',host='10.15.136.41:30080',user='scray', pwd='scray',channel='mychannel'):\n",
    "    try:    \n",
    "        output = subprocess.check_output(['curl', '--user',user + ':' + pwd, \n",
    "                                               'http://' + host + '/ca/' + channel + '/' + org + '-' + domain + '-ca.crt'])\n",
    "        #return str(callProcess)[3:-3]\n",
    "        return output.decode('ascii')\n",
    "    except Exception as e:\n",
    "        return str(e)    \n",
    "\n",
    "\n",
    "def getCrtToLocalCmd(org='',topath='/tmp',domain='kubernetes.research.dev.seeburger.de',host='10.15.136.41:30080',user='scray', pwd='scray',channel='mychannel'):\n",
    "    crtname = getCrtName(org, domain)\n",
    "    return str('curl --user ' + user + ':' + pwd + \\\n",
    "            ' http://' + host + '/ca/' + channel + '/' + crtname +  ' -o ' +  ' /tmp/' + crtname)\n",
    "        \n",
    "        \n",
    "def getCrtToLocal(org='',topath='/tmp',domain='kubernetes.research.dev.seeburger.de',host='10.15.136.41:30080',user='scray', pwd='scray',channel='mychannel'):\n",
    "    try:    \n",
    "        output = subprocess.check_output(['curl', '--user',user + ':' + pwd, \n",
    "                                               'http://' + host + '/ca/' + channel + '/' + getCrtName(org, domain), '-o', '/tmp/' + getCrtName(org, domain)])\n",
    "        #return str(callProcess)[3:-3]\n",
    "        return output.decode('ascii')\n",
    "    except Exception as e:\n",
    "        return str(e)       "
   ]
  },
  {
<<<<<<< HEAD
=======
   "cell_type": "code",
   "execution_count": 305,
   "metadata": {},
   "outputs": [
    {
     "data": {
      "text/plain": [
       "['hafen0', 'hafen1', 'hafen3']"
      ]
     },
     "execution_count": 305,
     "metadata": {},
     "output_type": "execute_result"
    }
   ],
   "source": [
    "local_orgs"
   ]
  },
  {
>>>>>>> dde4f14e1f51bd53e14fa5bbc5da5655eb1ca34e
   "cell_type": "markdown",
   "metadata": {},
   "source": [
    "commit chaincode"
   ]
  },
  {
   "cell_type": "code",
<<<<<<< HEAD
   "execution_count": 98,
=======
   "execution_count": 309,
>>>>>>> dde4f14e1f51bd53e14fa5bbc5da5655eb1ca34e
   "metadata": {},
   "outputs": [],
   "source": [
    "addr0 = 'orderer.example.com:7050'\n",
    "orderer = 'orderer.example.com'\n",
    "ordererpem = '/tmp/tlsca.example.com-cert.pem'\n",
    "cmd1 = 'peer lifecycle chaincode commit -o ' + addr0 + ' --ordererTLSHostnameOverride ' + orderer + ' --tls --cafile ' + ordererpem + ' --channelID mychannel --name basic'\n",
    "cmd2 = ' --version 1.0 --sequence 1'\n",
    "\n",
    "def getPart(peer, org='kubernetes.research.dev.seeburger.de'):\n",
    "    return getCrtToLocalCmd(org=peer.name)\n",
    "    #return '--peerAddresses ' + org + ':' + peer.listen_port + ' --tlsRootCertFiles ' +  crt1\n",
    "\n",
<<<<<<< HEAD
    "destpeer = peers['schalke3']    \n",
    "for name in data:\n",
    "    if name[:-3] in peers:\n",
    "        peer = peers[name[:-3]]    \n",
=======
    "destpeer = peers[local_orgs[0]]    \n",
    "for name in local_orgs:\n",
    "    if name in peers:\n",
    "        peer = peers[name]    \n",
>>>>>>> dde4f14e1f51bd53e14fa5bbc5da5655eb1ca34e
    "        cmd = getPart(peer)\n",
    "        executePeerCmd(destpeer.pod_name,cmd)\n",
    "\n",
    "addr='peer0.kubernetes.research.dev.seeburger.de'\n",
    "crts=''\n",
<<<<<<< HEAD
    "for name in data:\n",
    "    if name[:-3] in peers:\n",
    "        peer = peers[name[:-3]] \n",
=======
    "for name in local_orgs:\n",
    "    if name in peers:\n",
    "        peer = peers[name] \n",
>>>>>>> dde4f14e1f51bd53e14fa5bbc5da5655eb1ca34e
    "        crts = crts + str(' --peerAddresses ' + getPeerAddress(peer)  + ' --tlsRootCertFiles ' +  '/tmp/' + getCrtName(org=peer.name))"
   ]
  },
  {
   "cell_type": "code",
<<<<<<< HEAD
   "execution_count": 99,
=======
   "execution_count": 311,
>>>>>>> dde4f14e1f51bd53e14fa5bbc5da5655eb1ca34e
   "metadata": {},
   "outputs": [
    {
     "data": {
      "text/plain": [
<<<<<<< HEAD
       "\"Command '['/home/jovyan/work/usr/bin/kubectl', 'exec', '-it', 'schalke3-7dd96d8dc4-2d4pv', '-c', 'scray-peer-cli', '--', '/bin/bash', '-c', 'source /root/.bashrc && peer lifecycle chaincode commit -o orderer.example.com:7050 --ordererTLSHostnameOverride orderer.example.com --tls --cafile /tmp/tlsca.example.com-cert.pem --channelID mychannel --name basic --peerAddresses peer0.kubernetes.research.dev.seeburger.de:32478 --tlsRootCertFiles /tmp/schalke0-kubernetes.research.dev.seeburger.de-ca.crt --peerAddresses peer0.kubernetes.research.dev.seeburger.de:30415 --tlsRootCertFiles /tmp/schalke1-kubernetes.research.dev.seeburger.de-ca.crt --peerAddresses peer0.kubernetes.research.dev.seeburger.de:32443 --tlsRootCertFiles /tmp/schalke2-kubernetes.research.dev.seeburger.de-ca.crt --version 1.0 --sequence 1']' returned non-zero exit status 1.\""
      ]
     },
     "execution_count": 99,
=======
       "''"
      ]
     },
     "execution_count": 311,
>>>>>>> dde4f14e1f51bd53e14fa5bbc5da5655eb1ca34e
     "metadata": {},
     "output_type": "execute_result"
    }
   ],
   "source": [
    "executePeerCmd(destpeer.pod_name,cmd1 + crts + cmd2)"
   ]
  },
  {
   "cell_type": "code",
<<<<<<< HEAD
   "execution_count": null,
   "metadata": {},
   "outputs": [],
   "source": [
=======
   "execution_count": 314,
   "metadata": {},
   "outputs": [
    {
     "data": {
      "text/plain": [
       "' --peerAddresses peer0.kubernetes.research.dev.seeburger.de:31866 --tlsRootCertFiles /tmp/hafen0-kubernetes.research.dev.seeburger.de-ca.crt --peerAddresses peer0.kubernetes.research.dev.seeburger.de:30755 --tlsRootCertFiles /tmp/hafen1-kubernetes.research.dev.seeburger.de-ca.crt --peerAddresses peer0.kubernetes.research.dev.seeburger.de:30948 --tlsRootCertFiles /tmp/hafen3-kubernetes.research.dev.seeburger.de-ca.crt'"
      ]
     },
     "execution_count": 314,
     "metadata": {},
     "output_type": "execute_result"
    }
   ],
   "source": [
    "#cmd1 + crts + cmd2\n",
>>>>>>> dde4f14e1f51bd53e14fa5bbc5da5655eb1ca34e
    "crts"
   ]
  },
  {
   "cell_type": "code",
   "execution_count": null,
   "metadata": {},
   "outputs": [],
   "source": [
    "peer lifecycle chaincode queryinstalled --peerAddresses peer0.kubernetes.research.dev.seeburger.de:32733 --tlsRootCertFiles /tmp/sally3-kubernetes.research.dev.seeburger.de-ca.crt"
   ]
  },
  {
   "cell_type": "code",
   "execution_count": null,
   "metadata": {},
   "outputs": [],
   "source": [
    "pod_name   = peers['sally3'].pod_name\n",
    "executePeerCmd(pod_name, \"peer lifecycle chaincode queryinstalled --peerAddresses peer0.kubernetes.research.dev.seeburger.de:32733 --tlsRootCertFiles /tmp/sally3-kubernetes.research.dev.seeburger.de-ca.crt --output json\")"
   ]
  },
  {
   "cell_type": "code",
<<<<<<< HEAD
   "execution_count": null,
   "metadata": {},
   "outputs": [],
   "source": [
    "def readAsset(asset='asset1'):\n",
    "    callopt= '{\\\"function\\\":\\\"ReadAsset\\\",\\\"Args\\\":[' + '\\\"' + asset + '\\\"' + ']}'\n",
    "    try:    \n",
    "        print(['peer', 'chaincode','query', '-C', 'mychannel', '-n', 'basic', '-c', callopt])\n",
    "        #return json.loads(str(callProcess)[2:-3])\n",
    "    except Exception as e:\n",
    "        return str(e)\n",
    "    \n",
    "readAsset('asset1')   "
=======
   "execution_count": 382,
   "metadata": {},
   "outputs": [
    {
     "data": {
      "text/plain": [
       "{'ID': 'asset1',\n",
       " 'color': 'blue',\n",
       " 'size': 5,\n",
       " 'owner': 'Tomoko',\n",
       " 'appraisedValue': 300}"
      ]
     },
     "execution_count": 382,
     "metadata": {},
     "output_type": "execute_result"
    }
   ],
   "source": [
    "def readAsset(asset='asset1'):\n",
    "    callopt= '{\\\"function\\\":\\\"ReadAsset\\\",\\\"Args\\\":[' + '\\\"' + asset + '\\\"' + ']}'\n",
    "    try:\n",
    "        cmd1= 'CORE_PEER_ADDRESS=\\\"peer0.kubernetes.research.dev.seeburger.de:31866\\\" && ' \n",
    "        cmd = ['peer', 'chaincode','query', '-C', 'mychannel', '-n', 'basic', '-c',\"'\" + callopt + \"'\"]\n",
    "        output = executePeerCmd(peers['hafen0'].pod_name,toCmd(cmd))\n",
    "        return json.loads(output)\n",
    "    except Exception as e:\n",
    "        return str(e)\n",
    "    \n",
    "readAsset('asset1')"
   ]
  },
  {
   "cell_type": "code",
   "execution_count": 391,
   "metadata": {},
   "outputs": [
    {
     "ename": "NameError",
     "evalue": "name 'certs' is not defined",
     "output_type": "error",
     "traceback": [
      "\u001b[0;31m\u001b[0m",
      "\u001b[0;31mNameError\u001b[0mTraceback (most recent call last)",
      "\u001b[0;32m<ipython-input-391-a01c642c1c2e>\u001b[0m in \u001b[0;36m<module>\u001b[0;34m\u001b[0m\n\u001b[1;32m     12\u001b[0m \u001b[0mcmd\u001b[0m \u001b[0;34m=\u001b[0m \u001b[0;34m[\u001b[0m\u001b[0;34m'peer'\u001b[0m\u001b[0;34m,\u001b[0m \u001b[0;34m'chaincode'\u001b[0m\u001b[0;34m,\u001b[0m\u001b[0;34m'invoke'\u001b[0m\u001b[0;34m,\u001b[0m \u001b[0;34m'-C'\u001b[0m\u001b[0;34m,\u001b[0m \u001b[0;34m'mychannel'\u001b[0m\u001b[0;34m,\u001b[0m \u001b[0;34m'-n'\u001b[0m\u001b[0;34m,\u001b[0m \u001b[0;34m'basic'\u001b[0m\u001b[0;34m,\u001b[0m \u001b[0;34m'-c'\u001b[0m\u001b[0;34m,\u001b[0m\u001b[0;34m\"'\"\u001b[0m \u001b[0;34m+\u001b[0m \u001b[0mcallopt\u001b[0m \u001b[0;34m+\u001b[0m \u001b[0;34m\"'\"\u001b[0m\u001b[0;34m]\u001b[0m\u001b[0;34m\u001b[0m\u001b[0;34m\u001b[0m\u001b[0m\n\u001b[1;32m     13\u001b[0m \u001b[0;34m\u001b[0m\u001b[0m\n\u001b[0;32m---> 14\u001b[0;31m \u001b[0mcerts\u001b[0m\u001b[0;34m\u001b[0m\u001b[0;34m\u001b[0m\u001b[0m\n\u001b[0m",
      "\u001b[0;31mNameError\u001b[0m: name 'certs' is not defined"
     ]
    }
   ],
   "source": [
    "args = [\"asset2\",\"blue\",\"5\",\"Tomoko\", \"300\"]\n",
    "arglist = ''.join(str('\\\"' + e + '\\\",') for e in args)[:-1]\n",
    "  \n",
    "callopt= '{\\\"function\\\":\\\"CreateAsset\\\",\\\"Args\\\":[' + arglist + ']}'\n",
    "#peer chaincode invoke -C mychannel -n basic \n",
    "#-c '{\"function\":\"CreateAsset\",\"Args\":[\"asset1\",\"blue\",\"5\",\"Tomoko\", \"300\"]}' \n",
    "#--peerAddresses peer0.kubernetes.research.dev.seeburger.de:31866 --tlsRootCertFiles /tmp/hafen0-kubernetes.research.dev.seeburger.de-ca.crt --peerAddresses peer0.kubernetes.research.dev.seeburger.de:30755 --tlsRootCertFiles /tmp/hafen1-kubernetes.research.dev.seeburger.de-ca.crt --peerAddresses peer0.kubernetes.research.dev.seeburger.de:30948 --tlsRootCertFiles /tmp/hafen3-kubernetes.research.dev.seeburger.de-ca.crt \n",
    "#-o orderer.example.com:7050 --ordererTLSHostnameOverride orderer.example.com --tls --cafile /tmp/tlsca.example.com-cert.pem\n",
    "\n",
    "            \n",
    "\n",
    "cmd1= 'CORE_PEER_ADDRESS=\\\"peer0.kubernetes.research.dev.seeburger.de:31866\\\" && ' \n",
    "cmd = ['peer', 'chaincode','invoke', '-C', 'mychannel', '-n', 'basic', '-c',\"'\" + callopt + \"'\"]\n",
    "\n",
    "certs"
>>>>>>> dde4f14e1f51bd53e14fa5bbc5da5655eb1ca34e
   ]
  },
  {
   "cell_type": "code",
   "execution_count": null,
   "metadata": {},
   "outputs": [],
   "source": [
    "peer chaincode invoke -o orderer.example.com:7050 --tls true --cafile /tmp/tlsca.example.com-cert.pem  -C mychannel -n basic --peerAddresses peer0.kubernetes.research.dev.seeburger.de:30084 --tlsRootCertFiles /tmp/sally1-kubernetes.research.dev.seeburger.de-ca.crt --peerAddresses peer0.kubernetes.research.dev.seeburger.de:31521 --tlsRootCertFiles /tmp/sally2-kubernetes.research.dev.seeburger.de-ca.crt --peerAddresses peer0.kubernetes.research.dev.seeburger.de:32733 --tlsRootCertFiles /tmp/sally3-kubernetes.research.dev.seeburger.de-ca.crt --peerAddresses peer0.kubernetes.research.dev.seeburger.de:31018 --tlsRootCertFiles /tmp/sally4-kubernetes.research.dev.seeburger.de-ca.crt -c '{\"function\":\"CreateAsset\",\"Args\":[\"asset1\",\"green\",\"10\", \"Jin Soo\",\"500\"]}'\n",
    "                        \n",
    "peer chaincode query -C mychannel -n basic -c '{\"function\":\"ReadAsset\",\"Args\":[\"asset1\"]}'\n"
   ]
  },
  {
   "cell_type": "code",
   "execution_count": null,
   "metadata": {},
   "outputs": [],
   "source": [
    "\n",
    "addBashEnvToPeer(peer.pod_name, peer.listen_port)"
   ]
  },
  {
   "cell_type": "code",
   "execution_count": null,
   "metadata": {},
   "outputs": [],
   "source": [
    "print(pod_name)\n",
    "executePeerCmd(pod_name,\"hostname\")"
   ]
  },
  {
   "cell_type": "code",
   "execution_count": null,
   "metadata": {},
   "outputs": [],
   "source": [
<<<<<<< HEAD
    "executePeerCmd(pod_name,\"peer chaincode query -C mychannel -n basic -c '{\\\"function\\\":\\\"GetAllAssets\\\",\\\"Args\\\":[]}'\")"
=======
    " peer chaincode invoke -C mychannel -n basic -c '{\"function\":\"GetAllAssets\",\"Args\":[]}' --peerAddresses peer0.kubernetes.research.dev.seeburger.de:31866 --tlsRootCertFiles /tmp/hafen0-kubernetes.research.dev.seeburger.de-ca.crt --peerAddresses peer0.kubernetes.research.dev.seeburger.de:30755 --tlsRootCertFiles /tmp/hafen1-kubernetes.research.dev.seeburger.de-ca.crt --peerAddresses peer0.kubernetes.research.dev.seeburger.de:30948 --tlsRootCertFiles /tmp/hafen3-kubernetes.research.dev.seeburger.de-ca.crt -o orderer.example.com:7050 --ordererTLSHostnameOverride orderer.example.com --tls --cafile /tmp/tlsca.example.com-cert.pem\n"
>>>>>>> dde4f14e1f51bd53e14fa5bbc5da5655eb1ca34e
   ]
  },
  {
   "cell_type": "code",
<<<<<<< HEAD
   "execution_count": null,
   "metadata": {},
   "outputs": [],
   "source": [
    "executePeerCmd(pod_name,\"peer chaincode query -C mychannel -n basic -c '{\\\"function\\\":\\\"ReadAsset\\\",\\\"Args\\\":[\\\"asset1\\\"]}'\")"
=======
   "execution_count": 366,
   "metadata": {},
   "outputs": [
    {
     "data": {
      "text/plain": [
       "'[{\"Key\":\"asset1\",\"Record\":{\"ID\":\"asset1\",\"color\":\"blue\",\"size\":5,\"owner\":\"Tomoko\",\"appraisedValue\":300}}]\\n'"
      ]
     },
     "execution_count": 366,
     "metadata": {},
     "output_type": "execute_result"
    }
   ],
   "source": [
    "executePeerCmd(peers['hafen0'].pod_name,\"peer chaincode query -C mychannel -n basic -c '{\\\"function\\\":\\\"GetAllAssets\\\",\\\"Args\\\":[]}'\")"
   ]
  },
  {
   "cell_type": "code",
   "execution_count": 367,
   "metadata": {},
   "outputs": [
    {
     "data": {
      "text/plain": [
       "'{\"ID\":\"asset1\",\"color\":\"blue\",\"size\":5,\"owner\":\"Tomoko\",\"appraisedValue\":300}\\n'"
      ]
     },
     "execution_count": 367,
     "metadata": {},
     "output_type": "execute_result"
    }
   ],
   "source": [
    "executePeerCmd(peers['hafen0'].pod_name,\"peer chaincode query -C mychannel -n basic -c '{\\\"function\\\":\\\"ReadAsset\\\",\\\"Args\\\":[\\\"asset1\\\"]}'\")"
>>>>>>> dde4f14e1f51bd53e14fa5bbc5da5655eb1ca34e
   ]
  },
  {
   "cell_type": "code",
   "execution_count": null,
   "metadata": {},
   "outputs": [],
   "source": [
    "executePeerCmd(pod_name,\"peer chaincode query -C mychannel -n basic -c '{\\\"function\\\":\\\"ReadAsset\\\",\\\"Args\\\":[]}'\")"
   ]
  },
  {
   "cell_type": "code",
<<<<<<< HEAD
=======
   "execution_count": 315,
   "metadata": {},
   "outputs": [
    {
     "data": {
      "text/plain": [
       "'Command \\'[\\'/home/jovyan/work/usr/bin/kubectl\\', \\'exec\\', \\'-it\\', \\'hafen0-7ff8cd57d6-j7qg9\\', \\'-c\\', \\'scray-peer-cli\\', \\'--\\', \\'/bin/bash\\', \\'-c\\', \\'source /root/.bashrc && peer chaincode query -C mychannel -n basic -c \\\\\\'{\"function\":\"ReadAsset\",\"Args\":[\"asset1\"]}\\\\\\' --peerAddresses peer0.kubernetes.research.dev.seeburger.de:30773 --tlsRootCertFiles /tmp/sally0-kubernetes.research.dev.seeburger.de-ca.crt\\']\\' returned non-zero exit status 1.'"
      ]
     },
     "execution_count": 315,
     "metadata": {},
     "output_type": "execute_result"
    }
   ],
   "source": [
    "executePeerCmd(peers['hafen0'].pod_name,\"peer chaincode query -C mychannel -n basic -c '{\\\"function\\\":\\\"ReadAsset\\\",\\\"Args\\\":[\\\"asset1\\\"]}' --peerAddresses peer0.kubernetes.research.dev.seeburger.de:30773 --tlsRootCertFiles /tmp/sally0-kubernetes.research.dev.seeburger.de-ca.crt\")"
   ]
  },
  {
   "cell_type": "code",
   "execution_count": 319,
   "metadata": {},
   "outputs": [
    {
     "data": {
      "text/plain": [
       "'{\"ID\":\"asset1\",\"color\":\"blue\",\"size\":5,\"owner\":\"Tomoko\",\"appraisedValue\":300}\\n'"
      ]
     },
     "execution_count": 319,
     "metadata": {},
     "output_type": "execute_result"
    }
   ],
   "source": [
    "executePeerCmd(peers['hafen0'].pod_name,\"export CORE_PEER_ADDRESS=peer0.kubernetes.research.dev.seeburger.de:31866 && peer chaincode query -C mychannel -n basic -c '{\\\"function\\\":\\\"ReadAsset\\\",\\\"Args\\\":[\\\"asset1\\\"]}'\")"
   ]
  },
  {
   "cell_type": "code",
>>>>>>> dde4f14e1f51bd53e14fa5bbc5da5655eb1ca34e
   "execution_count": null,
   "metadata": {},
   "outputs": [],
   "source": [
<<<<<<< HEAD
    "executePeerCmd(pod_name,\"peer chaincode query -C mychannel -n basic -c '{\\\"function\\\":\\\"ReadAsset\\\",\\\"Args\\\":[\\\"asset1\\\"]}' --peerAddresses peer0.kubernetes.research.dev.seeburger.de:30773 --tlsRootCertFiles /tmp/sally0-kubernetes.research.dev.seeburger.de-ca.crt\")"
=======
    "CreateAsset(ctx contractapi.TransactionContextInterface, id, color string, size int, owner string, appraisedValue int)"
>>>>>>> dde4f14e1f51bd53e14fa5bbc5da5655eb1ca34e
   ]
  },
  {
   "cell_type": "code",
   "execution_count": null,
   "metadata": {},
   "outputs": [],
   "source": [
<<<<<<< HEAD
    "CreateAsset(ctx contractapi.TransactionContextInterface, id, color string, size int, owner string, appraisedValue int)"
=======
    "peer chaincode invoke -C mychannel -n basic -c '{\"function\":\"CreateAsset\",\"Args\":[\"asset1\",\"blue\",\"5\",\"Tomoko\", \"300\"]}' --peerAddresses peer0.kubernetes.research.dev.seeburger.de:31866 --tlsRootCertFiles /tmp/hafen0-kubernetes.research.dev.seeburger.de-ca.crt --peerAddresses peer0.kubernetes.research.dev.seeburger.de:30755 --tlsRootCertFiles /tmp/hafen1-kubernetes.research.dev.seeburger.de-ca.crt --peerAddresses peer0.kubernetes.research.dev.seeburger.de:30948 --tlsRootCertFiles /tmp/hafen3-kubernetes.research.dev.seeburger.de-ca.crt -o orderer.example.com:7050 --ordererTLSHostnameOverride orderer.example.com --tls --cafile /tmp/tlsca.example.com-cert.pem\n",
    "\n",
    "peer chaincode invoke -C mychannel -n basic -c '{\"function\":\"ReadAsset\",\"Args\":[\"asset1\"]}' --peerAddresses peer0.kubernetes.research.dev.seeburger.de:31866 --tlsRootCertFiles /tmp/hafen0-kubernetes.research.dev.seeburger.de-ca.crt --peerAddresses peer0.kubernetes.research.dev.seeburger.de:30755 --tlsRootCertFiles /tmp/hafen1-kubernetes.research.dev.seeburger.de-ca.crt --peerAddresses peer0.kubernetes.research.dev.seeburger.de:30948 --tlsRootCertFiles /tmp/hafen3-kubernetes.research.dev.seeburger.de-ca.crt -o orderer.example.com:7050 --ordererTLSHostnameOverride orderer.example.com --tls --cafile /tmp/tlsca.example.com-cert.pem\n",
    "peer chaincode query  -C mychannel -n basic -c '{\"function\":\"ReadAsset\",\"Args\":[\"asset1\"]}'\n"
>>>>>>> dde4f14e1f51bd53e14fa5bbc5da5655eb1ca34e
   ]
  },
  {
   "cell_type": "code",
   "execution_count": null,
   "metadata": {},
   "outputs": [],
   "source": [
    "executePeerCmd(pod_name, \"peer chaincode query -C mychannel -n basic -c '{\\\"function\\\":\\\"ReadAsset\\\",\\\"Args\\\":[\\\"asset2\\\"]}'\")"
   ]
  },
  {
   "cell_type": "code",
   "execution_count": null,
   "metadata": {},
   "outputs": [],
   "source": [
    "executePeerCmd(pod_name,  \"peer chaincode query -C mychannel -n basic -c '{\\\"function\\\":\\\"GetAllAssets\\\",\\\"Args\\\":[]}'\")"
   ]
  },
  {
   "cell_type": "code",
   "execution_count": null,
   "metadata": {},
   "outputs": [],
   "source": [
    "setPeerEnvironment(peername)\n",
    "\n",
    "#!/home/jovyan/work/usr/bin/kubectl exec --stdin --tty 'lara2-5d8bd488d6-kll5n' -c lara2 -- /bin/bash pwd"
   ]
  },
  {
   "cell_type": "code",
   "execution_count": null,
   "metadata": {},
   "outputs": [],
   "source": [
    "########## execute commands in container\n",
    "#!/home/jovyan/work/usr/bin/kubectl  exec -it $POD_NAME -c maja3 -- /bin/sh -c \"ls -l / && hostname\"\n",
    "#!/home/jovyan/work/usr/bin/kubectl  exec -it $POD_NAME -c scray-peer-cli -- /bin/bash -c \"ls -l / && hostname\"\n",
    "#!/home/jovyan/work/usr/bin/kubectl  exec -it $POD_NAME -c scray-peer-cli -- /bin/bash -c \"echo 'export ORDERER_CA=/tmp/tlsca.example.com-cert.pem' >> /root/.bashrc\""
   ]
  },
  {
   "cell_type": "code",
   "execution_count": null,
   "metadata": {},
   "outputs": [],
   "source": [
    "#setPeerEnvironment('tanja2')\n",
    "#!/home/jovyan/work/usr/bin/kubectl exec --stdin --tty $POD_NAME  -c scray-peer-cli --  /bin/sh export ORDERER_CA=\"/tmp/tlsca.example.com-cert.pem\"\n",
    "#!/home/jovyan/work/usr/bin/kubectl exec --stdin --tty $POD_NAME  -c scray-peer-cli --  ORDERER_HOSTNAME=\"orderer.example.com\"\n",
    "#!/home/jovyan/work/usr/bin/kubectl exec --stdin --tty $POD_NAME  -c scray-peer-cli --  CHANNEL_NAME=\"mychannel\"\n",
    "#!/home/jovyan/work/usr/bin/kubectl exec --stdin --tty $POD_NAME  -c scray-peer-cli --  CORE_PEER_ADDRESS=\"peer0.kubernetes.research.dev.seeburger.de:32222\"\n",
    "#!/home/jovyan/work/usr/bin/kubectl exec --stdin --tty $POD_NAME  -c scray-peer-cli --  CORE_PEER_MSPCONFIGPATH=\"/mnt/conf/organizations/peerOrganizations/kubernetes.research.dev.seeburger.de/users/Admin@kubernetes.research.dev.seeburger.de/msp\"\n",
    "\n",
    "\n",
    "!/home/jovyan/work/usr/bin/kubectl exec --stdin --tty $POD_NAME  -c scray-peer-cli -- env | fgrep ORDERER_HOSTNAME"
   ]
  },
  {
   "cell_type": "code",
   "execution_count": null,
   "metadata": {},
   "outputs": [],
   "source": [
    "peername='maja2'\n",
    "setPeerEnvironment(peername)\n",
    "os.environ['ORDERER_HOSTNAME'] = 'orderer.example.com'\n",
    "#!/home/jovyan/work/usr/bin/kubectl exec --stdin --tty $POD_NAME  -c scray-peer-cli -- env | fgrep ORDERER\n",
    "#!/home/jovyan/work/usr/bin/kubectl exec --stdin --tty $POD_NAME  -c scray-peer-cli -- which export\n",
    "print(getPod(peername),getPort(peername=peername, name='peer-listen'))"
   ]
  },
  {
   "cell_type": "code",
   "execution_count": null,
   "metadata": {},
   "outputs": [],
   "source": [
    "export ORDERER_CA=/tmp/tlsca.example.com-cert.pem\n",
    "export ORDERER_HOSTNAME=\"orderer.example.com\"\n",
    "export CHANNEL_NAME=\"mychannel\"\n",
    "export CORE_PEER_ADDRESS=\"peer0.kubernetes.research.dev.seeburger.de:32190\"\n",
    "export CORE_PEER_MSPCONFIGPATH=\"/mnt/conf/organizations/peerOrganizations/kubernetes.research.dev.seeburger.de/users/Admin@kubernetes.research.dev.seeburger.de/msp\"\n",
    "export SHARED_FS_HOST=10.15.136.41:30080\n",
    "export SHARED_FS_USER=scray\n",
    "export SHARED_FS_PW=scray\n",
    "\n",
    "curl --user $SHARED_FS_USER:$SHARED_FS_PW http://$SHARED_FS_HOST/ca/tlsca.example.com-cert.pem > /tmp/tlsca.example.com-cert.pem\n",
    "curl --user scray:scray http://10.15.136.41:30080/upload/org3_update_in_envelope.pb -o ./org3_update_in_envelope.pb\n",
    "peer channel signconfigtx -f org3_update_in_envelope.pb\n",
    "curl --user scray:scray -T ./org3_update_in_envelope.pb http://10.15.136.41:30080/upload/org3_update_in_envelope.pb\n",
    "  "
   ]
  },
  {
   "cell_type": "code",
   "execution_count": null,
   "metadata": {},
   "outputs": [],
   "source": [
    "!ls -l ./*.pb\n",
    "\n",
    "#sign update\n",
    "#createEnvironmentForPeer(localmspid=mspid2, tlsrootcert=crt2, mspconfigpath=msp2, peeraddress=addr2)\n",
    "#setPeerEnvironment('carla1')\n",
    "setPeerEnvironment('tanja2')\n",
    "!/home/jovyan/work/usr/bin/kubectl exec --stdin --tty $POD_NAME  -c scray-peer-cli -- curl --user scray:scray http://10.15.136.41:30080/upload/org3_update_in_envelope.pb -o ./org3_update_in_envelope.pb\n",
    "!/home/jovyan/work/usr/bin/kubectl exec --stdin --tty $POD_NAME  -c scray-peer-cli -- peer channel signconfigtx -f org3_update_in_envelope.pb\n",
    "!/home/jovyan/work/usr/bin/kubectl exec --stdin --tty $POD_NAME  -c scray-peer-cli -- curl --user scray:scray -T ./org3_update_in_envelope.pb http://10.15.136.41:30080/upload/org3_update_in_envelope.pb\n",
    "  "
   ]
  },
  {
   "cell_type": "markdown",
   "metadata": {},
   "source": [
    "# Install and aprove chaincode"
   ]
  },
  {
   "cell_type": "code",
   "execution_count": null,
   "metadata": {},
   "outputs": [],
   "source": [
    "setPeerEnvironment('tanja2')\n",
    "installAndAproveChaincode()"
   ]
  },
  {
   "cell_type": "code",
   "execution_count": null,
   "metadata": {},
   "outputs": [],
   "source": [
    "#!/home/jovyan/work/usr/bin/kubectl exec --stdin --tty $POD_NAME -c scray-peer-cli -- lifecycle chaincode querycommitted --channelID mychannel --name basic --output json"
   ]
  },
  {
   "cell_type": "code",
   "execution_count": null,
   "metadata": {},
   "outputs": [],
   "source": [
    "#setPeerEnvironment('klaus')\n",
    "!echo  $POD_NAME $IP_CC_SERVICE $IP_OF_EXAMPLE_NETWORK\n",
    "\n",
    "# Host where the chaincode is running\n",
    "os.environ['IP_CC_SERVICE']='10.14.128.38'\n",
    "#Host where the example network is running\n",
    "os.environ['IP_OF_EXAMPLE_NETWORK']='10.15.128.97'\n",
    "!/home/jovyan/work/usr/bin/kubectl exec --stdin --tty $POD_NAME -c scray-peer-cli -- /bin/sh /mnt/conf/install_and_approve_cc.sh $IP_CC_SERVICE $IP_OF_EXAMPLE_NETWORK"
   ]
  },
  {
   "cell_type": "code",
   "execution_count": null,
   "metadata": {},
   "outputs": [],
   "source": [
    "#!ping orderer.example.com 7050\n",
    "!more /etc/hosts"
   ]
  },
  {
   "cell_type": "markdown",
   "metadata": {},
   "source": [
    "# ------------------------------------------------------------------------"
   ]
  },
  {
<<<<<<< HEAD
=======
   "cell_type": "code",
   "execution_count": 137,
   "metadata": {},
   "outputs": [
    {
     "data": {
      "text/plain": [
       "2"
      ]
     },
     "execution_count": 137,
     "metadata": {},
     "output_type": "execute_result"
    }
   ],
   "source": [
    "#kubectl get pods -l k8s-app=kube-dns -o jsonpath={.items[*].spec.containers[*].name}\n",
    "#kubectl get pods hafen1-69947bff88-2pgxs -o json\n",
    "#cmd= ['get', 'pods', 'hafen1-69947bff88-2pgxs', '-o', 'jsonpath={.items[*].spec.containers[*].name}']\n",
    "cmd= ['get', 'pods', 'hafen1-69947bff88-2pgxs', '-o', 'json']\n",
    "#f:spec': {'f:containers': {'k:{\"name\":\"hafen1\"}\n",
    "len(json.loads(executeKubectlCmd(cmd).decode('ascii'))['spec']['containers'])"
   ]
  },
  {
>>>>>>> dde4f14e1f51bd53e14fa5bbc5da5655eb1ca34e
   "cell_type": "markdown",
   "metadata": {},
   "source": [
    "# Shell only"
   ]
  },
  {
   "cell_type": "code",
   "execution_count": null,
   "metadata": {},
   "outputs": [],
   "source": [
    "#!echo $GOSSIP_PORT, $PEER_NAME\n",
    "getPort(peername=peername, name='peer-listen')"
   ]
  },
  {
   "cell_type": "code",
   "execution_count": null,
   "metadata": {},
   "outputs": [],
   "source": [
    "GOSSIP_PORT=$(kubectl get service $PEER_NAME -o jsonpath=\"{.spec.ports[?(@.name=='peer-gossip')].nodePort}\")\n",
    "PEER_LISTEN_PORT=$(kubectl get service $PEER_NAME -o jsonpath=\"{.spec.ports[?(@.name=='peer-listen')].nodePort}\")\n",
    "PEER_CHAINCODE_PORT=$(kubectl get service $PEER_NAME -o jsonpath=\"{.spec.ports[?(@.name=='peer-chaincode')].nodePort}\")\n"
   ]
  },
  {
   "cell_type": "code",
   "execution_count": null,
   "metadata": {},
   "outputs": [],
   "source": [
    "!echo $(/home/jovyan/work/usr/bin/kubectl get service $PEER_NAME -o jsonpath=\"{.spec.ports[?(@.name=='peer-gossip')].nodePort}\")\n",
    "!echo $(/home/jovyan/work/usr/bin/kubectl get service $PEER_NAME -o jsonpath=\"{.spec.ports[?(@.name=='peer-listen')].nodePort}\")\n",
    "!echo $(/home/jovyan/work/usr/bin/kubectl get service $PEER_NAME -o jsonpath=\"{.spec.ports[?(@.name=='peer-chaincode')].nodePort}\")"
   ]
  },
  {
   "cell_type": "code",
   "execution_count": null,
   "metadata": {},
   "outputs": [],
   "source": [
    "os.environ['GOSSIP_PORT'] = \"32068\"  \n",
    "os.environ['PEER_LISTEN_PORT'] = \"30251\"\n",
    "os.environ['PEER_CHAINCODE_PORT'] = \"30052\"\n",
    "!echo $GOSSIP_PORT\n",
    "#!echo $(/home/jovyan/work/usr/bin/kubectl get service $PEER_NAME -o jsonpath=\"{.spec.ports[?(@.name=='peer-gossip')].nodePort}\")"
   ]
  },
  {
   "cell_type": "code",
   "execution_count": null,
   "metadata": {},
   "outputs": [],
   "source": [
    "!/home/jovyan/work/usr/bin/kubectl create configmap hl-fabric-peer-$PEER_NAME \\\n",
    " --from-literal=hostname=kubernetes.research.dev.seeburger.de \\\n",
    " --from-literal=org_name=$PEER_NAME \\\n",
    " --from-literal=CORE_PEER_ADDRESS=kubernetes.research.dev.seeburger.de:$PEER_LISTEN_PORT \\\n",
    " --from-literal=CORE_PEER_GOSSIP_EXTERNALENDPOINT=kubernetes.research.dev.seeburger.de:$GOSSIP_PORT \\\n",
    " --from-literal=CORE_PEER_LOCALMSPID=${PEER_NAME}MSP"
   ]
  },
  {
   "cell_type": "code",
   "execution_count": null,
   "metadata": {},
   "outputs": [],
   "source": [
    "!/home/jovyan/work/usr/bin/kubectl apply -f /home/jovyan/scray/projects/invoice-hyperledger-fabric/containers/target/$PEER_NAME/k8s-peer.yaml"
   ]
  },
  {
   "cell_type": "code",
   "execution_count": null,
   "metadata": {},
   "outputs": [],
   "source": [
    "POD_NAME=$(/home/jovyan/work/usr/bin/kubectl  get pod -l app=peer0-org1-scray-org -o jsonpath=\"{.items[0].metadata.name}\")\n",
    "kubectl exec --stdin --tty $POD_NAME  -c scray-peer-cli -- /bin/sh /mnt/conf/peer_join.sh $ORDERER_IP  $ORDERER_HOSTNAME $CHANNEL_NAME"
   ]
  },
  {
   "cell_type": "code",
   "execution_count": null,
   "metadata": {},
   "outputs": [],
   "source": [
    "!echo $(/home/jovyan/work/usr/bin/kubectl  get pod -l app=$PEER_NAME -o jsonpath=\"{.items[0].metadata.name}\")\n"
   ]
  },
  {
   "cell_type": "code",
   "execution_count": null,
   "metadata": {},
   "outputs": [],
   "source": [
    "os.environ['POD_NAME'] = \"tom-6647c77bbb-hjlkc\"\n",
    "os.environ['ORDERER_IP'] = '10.15.128.97'\n",
    "os.environ['ORDERER_HOSTNAME'] = 'orderer.example.com'\n",
    "os.environ['CHANNEL_NAME'] = 'mychannel'\n",
    "\n",
    "!/home/jovyan/work/usr/bin/kubectl exec --stdin --tty $POD_NAME  -c scray-peer-cli -- /bin/sh /mnt/conf/peer_join.sh $ORDERER_IP  $ORDERER_HOSTNAME $CHANNEL_NAME"
   ]
  },
  {
   "cell_type": "markdown",
   "metadata": {},
   "source": [
    "# Delete old peer"
   ]
  },
  {
   "cell_type": "code",
   "execution_count": null,
   "metadata": {},
   "outputs": [],
   "source": [
    "!/home/jovyan/work/usr/bin/kubectl delete configmap hl-fabric-peer-klaus\n",
    "!/home/jovyan/work/usr/bin/kubectl delete -f /home/jovyan/scray/projects/invoice-hyperledger-fabric/containers/target/klaus/k8s-peer.yaml\n",
    "!/home/jovyan/work/usr/bin/kubectl delete service klaus"
   ]
  },
  {
   "cell_type": "code",
   "execution_count": null,
   "metadata": {},
   "outputs": [],
   "source": [
    "#deletePeer('carla1')\n",
    "deletePeer('ff')"
   ]
  },
  {
   "cell_type": "code",
   "execution_count": null,
   "metadata": {},
   "outputs": [],
   "source": [
    "!/home/jovyan/work/usr/bin/kubectl get configmap \n",
    "!/home/jovyan/work/usr/bin/kubectl get deployments \n",
    "#!/home/jovyan/work/usr/bin/kubectl get svc -o json\n",
    "!/home/jovyan/work/usr/bin/kubectl get svc"
   ]
  },
  {
   "cell_type": "markdown",
   "metadata": {},
   "source": [
    "# Create new peer and 'apply'"
   ]
  },
  {
   "cell_type": "code",
   "execution_count": null,
   "metadata": {},
   "outputs": [],
   "source": [
    "!/home/jovyan/work/usr/bin/kubectl create configmap hl-fabric-peer \\\n",
    " --from-literal=hostname=kubernetes.research.dev.seeburger.de \\\n",
    " --from-literal=org_name=OrgSally \\ \n",
    " --from-literal=CORE_PEER_ADDRESS=kubernetes.research.dev.seeburger.de:30003 \\\n",
    " --from-literal=CORE_PEER_GOSSIP_EXTERNALENDPOINT=kubernetes.research.dev.seeburger.de:30001 \\\n",
    " --from-literal=CORE_PEER_LOCALMSPID=OrgSallyMSP\n",
    "\n",
    "!/home/jovyan/work/usr/bin/kubectl apply -f https://raw.githubusercontent.com/scray/scray/feature/k8s-peer/projects/invoice-hyperledger-fabric/containers/k8s-peer.yaml        "
   ]
  },
  {
   "cell_type": "markdown",
   "metadata": {},
   "source": [
    "1. Der neue Peer wurde erzeugt. All relevant infos and cryptos for the application is uploaded to external sharepoint\n",
    "2. Now the application needs to be signed by other peers"
   ]
  },
  {
   "cell_type": "markdown",
   "metadata": {},
   "source": [
    "# Now the peer can join the network"
   ]
  },
  {
   "cell_type": "code",
   "execution_count": null,
   "metadata": {},
   "outputs": [],
   "source": [
    "import os\n",
    "import json\n",
    "import subprocess\n",
    "import pandas as pd\n",
    "\n",
    "!/home/jovyan/work/usr/bin/kubectl get pods\n",
    "os.environ['POD_NAME'] = 'peer0-org1-scray-org-5c4d69f556-snz5c'"
   ]
  },
  {
   "cell_type": "code",
   "execution_count": null,
   "metadata": {},
   "outputs": [],
   "source": [
    "#!/home/jovyan/work/usr/bin/kubectl get pods | fgrep peer0\n",
    "#!POD_NAME=$(/home/jovyan/work/usr/bin/kubectl get pod -l app=peer0-org1-scray-org | tail -n 1 | cut -d' ' -f1)\n",
    "os.environ['ORDERER_IP'] = '10.15.128.97'\n",
    "os.environ['ORDERER_HOSTNAME'] = 'orderer.example.com'\n",
    "os.environ['CHANNEL_NAME'] = 'mychannel'\n",
    "\n",
    "!echo $POD_NAME\n",
    "!/home/jovyan/work/usr/bin/kubectl exec --stdin --tty $POD_NAME -c scray-peer-cli -- /bin/sh /mnt/conf/peer_join.sh $ORDERER_IP $ORDERER_HOSTNAME $CHANNEL_NAME"
   ]
  },
  {
   "cell_type": "code",
   "execution_count": null,
   "metadata": {},
   "outputs": [],
   "source": [
    "#!/home/jovyan/work/usr/bin/kubectl exec --stdin --tty peer0-org1-scray-org-84ddc5757f-glbgn -c scray-peer-cli -- /bin/sh /mnt/conf/install_and_approve_cc.sh $IP_CC_SERVICE $IP_OF_EXAMPLE_NETWORK"
   ]
  },
  {
   "cell_type": "markdown",
   "metadata": {},
   "source": [
    "# Install and aprove chaincode"
   ]
  },
  {
   "cell_type": "code",
   "execution_count": null,
   "metadata": {},
   "outputs": [],
   "source": [
    "# Host where the chaincode is running\n",
    "os.environ['IP_CC_SERVICE']='10.14.128.38'\n",
    "#Host where the example network is running\n",
    "os.environ['IP_OF_EXAMPLE_NETWORK']='10.15.128.97'\n",
    "!/home/jovyan/work/usr/bin/kubectl exec --stdin --tty $POD_NAME -c scray-peer-cli -- /bin/sh /mnt/conf/install_and_approve_cc.sh $IP_CC_SERVICE $IP_OF_EXAMPLE_NETWORK"
   ]
  },
  {
   "cell_type": "markdown",
   "metadata": {},
   "source": [
    "# TMP"
   ]
  },
  {
   "cell_type": "code",
   "execution_count": null,
   "metadata": {},
   "outputs": [],
   "source": [
    "print(getPod(peername),getPort(peername=peername, name='peer-listen'))"
   ]
  },
  {
   "cell_type": "code",
   "execution_count": null,
   "metadata": {},
   "outputs": [],
   "source": [
    "export ORDERER_CA=\"/tmp/tlsca.example.com-cert.pem\"\n",
    "export ORDERER_HOSTNAME=\"orderer.example.com\"\n",
    "export CHANNEL_NAME=\"mychannel\"\n",
    "export CORE_PEER_ADDRESS=\"peer0.kubernetes.research.dev.seeburger.de:32190\"\n",
    "export CORE_PEER_MSPCONFIGPATH=\"/mnt/conf/organizations/peerOrganizations/kubernetes.research.dev.seeburger.de/users/Admin@kubernetes.research.dev.seeburger.de/msp\"\n",
    "\n",
    "peer lifecycle chaincode querycommitted --channelID mychannel --name basic --output json\n",
    "   "
   ]
  },
  {
   "cell_type": "code",
   "execution_count": null,
   "metadata": {},
   "outputs": [],
   "source": [
    "def readAsset(asset='asset1'):\n",
    "    callopt= '{\\\"function\\\":\\\"ReadAsset\\\",\\\"Args\\\":[' + '\\\"' + asset + '\\\"' + ']}'\n",
    "    try:    \n",
    "        callProcess  = subprocess.check_output(['/home/jovyan/work/usr/bin/kubectl exec --stdin --tty $POD_NAME -c scray-peer-cli -- peer', 'chaincode','query', '-C', 'mychannel', '-n', 'basic', '-c', callopt])\n",
    "        return json.loads(str(callProcess)[2:-3])\n",
    "    except Exception as e:\n",
    "        return str(e)\n",
    "    \n",
    "readAsset('asset1')    "
   ]
  },
  {
   "cell_type": "code",
   "execution_count": null,
   "metadata": {},
   "outputs": [],
   "source": [
    "!/home/jovyan/work/usr/bin/kubectl exec --stdin --tty $POD_NAME -c scray-peer-cli -- peer lifecycle chaincode querycommitted --channelID mychannel --name basic --output json"
   ]
  },
  {
   "cell_type": "code",
   "execution_count": null,
   "metadata": {},
   "outputs": [],
   "source": [
    "!/home/jovyan/work/usr/bin/kubectl exec --stdin --tty $POD_NAME -c scray-peer-cli -- peer"
   ]
  },
  {
   "cell_type": "code",
   "execution_count": null,
   "metadata": {},
   "outputs": [],
   "source": [
    "#pip install PyYAML\n",
    "import yaml"
   ]
  }
 ],
 "metadata": {
  "kernelspec": {
   "display_name": "Python 3",
   "language": "python",
   "name": "python3"
  },
  "language_info": {
   "codemirror_mode": {
    "name": "ipython",
    "version": 3
   },
   "file_extension": ".py",
   "mimetype": "text/x-python",
   "name": "python",
   "nbconvert_exporter": "python",
   "pygments_lexer": "ipython3",
   "version": "3.8.6"
  }
 },
 "nbformat": 4,
 "nbformat_minor": 4
}
