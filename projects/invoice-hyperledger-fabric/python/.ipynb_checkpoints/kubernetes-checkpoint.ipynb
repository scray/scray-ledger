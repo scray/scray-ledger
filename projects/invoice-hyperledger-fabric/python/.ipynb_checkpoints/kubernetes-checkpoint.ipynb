{
 "cells": [
  {
   "cell_type": "markdown",
   "metadata": {},
   "source": [
    "# Kubernetes"
   ]
  },
  {
   "cell_type": "code",
   "execution_count": 3,
   "metadata": {},
   "outputs": [],
   "source": []
  },
  {
   "cell_type": "code",
   "execution_count": 4,
   "metadata": {},
   "outputs": [],
   "source": [
    "# WEBDAV at http://10.15.136.41:30080/\n",
    "# visualization\n",
    "# local\n",
    "# kubernetesTool"
   ]
  },
  {
   "cell_type": "code",
   "execution_count": 46,
   "metadata": {},
   "outputs": [
    {
     "name": "stdout",
     "output_type": "stream",
     "text": [
      "dict_keys(['apiVersion', 'kind', 'metadata', 'spec', 'status'])\n"
     ]
    },
    {
     "data": {
      "text/plain": [
       "dict_keys(['conditions', 'containerStatuses', 'hostIP', 'initContainerStatuses', 'phase', 'podIP', 'podIPs', 'qosClass', 'startTime'])"
      ]
     },
     "execution_count": 46,
     "metadata": {},
     "output_type": "execute_result"
    }
   ],
   "source": [
    "print(getPods()['items'][10].keys())\n",
    "getPods()['items'][10]['metadata']['name']\n",
    "getPods()['items'][9]['status'].keys()\n"
   ]
  },
  {
   "cell_type": "code",
   "execution_count": null,
   "metadata": {},
   "outputs": [],
   "source": [
    "# hyperledger peer\n",
    "\n",
    "def deletePeer(peername):   \n",
    "    output  = executeKubectlCmd(['delete','configmap','hl-fabric-peer-' + peername])\n",
    "    #output  = executeKubectlCmd(['delete','-f','/home/jovyan/scray/projects/invoice-hyperledger-fabric/containers/target/' + peername + '/k8s-peer.yaml'])\n",
    "    output  = executeKubectlCmd(['delete','deployment',peername])\n",
    "    output  = executeKubectlCmd(['delete', 'service', peername])\n",
    "    return output\n",
    "    \n",
    "\n",
    "            \n",
    "def addEnvVariable(pod_name, key,value):\n",
    "    try:  \n",
    "        cmd = \"echo \\'export '\" + key + '=' + value + \"'\\' >> /root/.bashrc\"\n",
    "        output  = subprocess.check_output(['/home/jovyan/work/usr/bin/kubectl', 'exec','-it', pod_name, '-c', 'scray-peer-cli','--', '/bin/bash','-c',cmd])\n",
    "        return output.decode('ascii')\n",
    "    except Exception as e:\n",
    "        return str(e)\n",
    "       \n",
    "def addBashEnvToPeer(peer):        \n",
    "    pod_name    = peer.pod_name\n",
    "    listen_port = peer.listen_port\n",
    "    executePeerCmd(pod_name,\"rm -f /root/.bashrc\")\n",
    "    #!/home/jovyan/work/usr/bin/kubectl exec --stdin --tty $POD_NAME  -c scray-peer-cli touch /root/.bashrc\n",
    "    addEnvVariable(pod_name, 'ORDERER_CA', '/tmp/tlsca.example.com-cert.pem')\n",
    "    addEnvVariable(pod_name, 'ORDERER_HOSTNAME', 'orderer.example.com')\n",
    "    addEnvVariable(pod_name, 'CHANNEL_NAME', 'mychannel')\n",
    "    #addEnvVariable(pod_name, 'CORE_PEER_ADDRESS', pod_name + ':' + listen_port)\n",
    "    #addEnvVariable(pod_name, 'CORE_PEER_ADDRESS', 'peer0.kubernetes.research.dev.seeburger.de:' + listen_port)\n",
    "    addEnvVariable(pod_name, 'CORE_PEER_ADDRESS', 'kubernetes.research.dev.seeburger.de:' + listen_port)\n",
    "    addEnvVariable(pod_name, 'CORE_PEER_LOCALMSPID', peer.name + 'MSP')\n",
    "    addEnvVariable(pod_name, 'CORE_PEER_MSPCONFIGPATH', '/mnt/conf/organizations/peerOrganizations/kubernetes.research.dev.seeburger.de/users/Admin@kubernetes.research.dev.seeburger.de/msp')\n",
    "    addEnvVariable(pod_name, 'SHARED_FS_HOST', '10.15.136.41:30080')\n",
    "    addEnvVariable(pod_name, 'SHARED_FS_USER', 'scray')\n",
    "    addEnvVariable(pod_name, 'SHARED_FS_PW', 'scray')        \n",
    "  \n",
    "def addBashEnvToPeers(peerlist):\n",
    "    for name in peerlist:\n",
    "        if name in peers:\n",
    "            peer = peers[name]\n",
    "            addBashEnvToPeer(peer)\n",
    "            #installAndAproveChaincode(peer)\n",
    "\n",
    "##############\n",
    "           \n",
    "# actions\n",
    "\n",
    "#!/home/jovyan/work/usr/bin/kubectl exec -it tanja1-65b7889d68-ghxpj -c scray-peer-cli -- /bin/bash -c \"curl --user scray:scray http://10.15.136.41:30080/upload/org3_update_in_envelope.pb -o /tmp/org3_update_in_envelope.pb\"\n",
    "def sign(pod_name):\n",
    "    #executePeerCmd(pod_name,\"curl --user $SHARED_FS_USER:$SHARED_FS_PW http://$SHARED_FS_HOST/ca/tlsca.example.com-cert.pem > /tmp/tlsca.example.com-cert.pem\"\n",
    "    executePeerCmd(pod_name,\"curl --user scray:scray http://10.15.136.41:30080/upload/org3_update_in_envelope.pb -o /tmp/org3_update_in_envelope.pb\")\n",
    "    executePeerCmd(pod_name,\"peer channel signconfigtx -f /tmp/org3_update_in_envelope.pb\")\n",
    "    executePeerCmd(pod_name,\"curl --user scray:scray -T /tmp/org3_update_in_envelope.pb http://10.15.136.41:30080/upload/org3_update_in_envelope.pb\")\n",
    "       \n",
    "def joinHyperledger(pod_name,orderer_ip,orderer_hostname,channel_name):    \n",
    "    #setPeerEnvironment(peername)    \n",
    "    #!/home/jovyan/work/usr/bin/kubectl exec --stdin --tty $POD_NAME  -c scray-peer-cli -- /bin/sh /mnt/conf/peer_join.sh $ORDERER_IP  $ORDERER_HOSTNAME $CHANNEL_NAME    \n",
    "    try:  \n",
    "        output  = subprocess.check_output(['/home/jovyan/work/usr/bin/kubectl', 'exec','--stdin', '--tty', pod_name, '-c', 'scray-peer-cli','--', '/bin/sh','/mnt/conf/peer_join.sh',\n",
    "                                           orderer_ip,orderer_hostname,channel_name])\n",
    "        return output\n",
    "    except Exception as e:\n",
    "        return str(e)\n",
    "    \n",
    "def installAndAproveChaincode(peer,cc_host='10.14.128.38',orderer_host='10.15.128.97'):\n",
    "    #!/home/jovyan/work/usr/bin/kubectl exec --stdin --tty $POD_NAME -c scray-peer-cli -- /bin/sh /mnt/conf/install_and_approve_cc.sh $IP_CC_SERVICE $IP_OF_EXAMPLE_NETWORK\n",
    "    strlist = ['/mnt/conf/install_and_approve_cc.sh', cc_host, orderer_host]\n",
    "    executePeerCmd(peer.pod_name,toCmd(strlist)) \n",
    "                    \n",
    "#########################################################################            \n",
    "            \n",
    "class kubernetespeer:\n",
    "    def __init__(self, name='',pod_name='',listen_port='',gossip_port=''):\n",
    "        self.name = name\n",
    "        self.pod_name = pod_name\n",
    "        self.listen_port = listen_port\n",
    "        self.gossip_port = gossip_port\n",
    "    def getCertificate(self):\n",
    "        try:\n",
    "            return str(subprocess.check_output(['cat', self.crt]))[2:-3]   \n",
    "        except Exception as e:\n",
    "            return str(e)            "
   ]
  },
  {
   "cell_type": "code",
   "execution_count": null,
   "metadata": {},
   "outputs": [],
   "source": [
    "# Cerificates\n",
    "from cryptography import x509\n",
    "from cryptography.hazmat.backends import default_backend\n",
    "from cryptography.x509.oid import NameOID\n",
    "\n",
    "#https://stackoverflow.com/questions/16899247/how-can-i-decode-a-ssl-certificate-using-python\n",
    "\n",
    "def getCrt(org='',domain='kubernetes.research.dev.seeburger.de',host='10.15.136.41:30080',user='scray', pwd='scray',channel='mychannel'):\n",
    "    cmd = ['curl', '--user',user + ':' + pwd, \n",
    "           'http://' + host + '/ca/' + channel + '/' + org + '-' + domain + '-ca.crt']\n",
    "    return executeLocalCmd(cmd)\n",
    "       \n",
    "def getOrgCrt(org='hafen0'):    \n",
    "    pem_data=getCrt(org)    \n",
    "    return x509.load_pem_x509_certificate(pem_data, default_backend())\n"
   ]
  },
  {
   "cell_type": "code",
   "execution_count": 44,
   "metadata": {},
   "outputs": [],
   "source": [
    "# get config of blockchain and store it at local directory of peer\n",
    "#peer channel fetch config  $WORK_LOCATION/config_block.pb -o orderer.example.com:7050 -c $CHANNEL_NAME --tls --cafile $ORDERER_CA \n",
    "#configtxlator proto_decode --input $WORK_LOCATION/config_block.pb --type common.Block | jq .data.data[0].payload.data.config > $WORK_LOCATION/config.json\n",
    "\n",
    "def getCurrentConfig(peer, channel_name='mychannel', location='/tmp'):\n",
    "    pod_name = peer.pod_name\n",
    "    executePeerCmd(peer.pod_name,toCmd(downloadToLocalCmdList(local_path='/tmp', remote_path='ca', remote_name='tlsca.example.com-cert.pem')))               \n",
    "    cmd = 'peer channel fetch config ' + location + '/config_block.pb -o orderer.example.com:7050 -c ' +  channel_name + ' --tls --cafile /tmp/tlsca.example.com-cert.pem'\n",
    "    executePeerCmd(pod_name,cmd)\n",
    "    cmd = 'configtxlator proto_decode --input ' + location + '/config_block.pb --type common.Block > ' + location + '/config_block.json'\n",
    "    executePeerCmd(pod_name,cmd)\n",
    "    cmd = 'jq .data.data[0].payload.data.config ' + location + '/config_block.json > ' + location + '/config.json'\n",
    "    executePeerCmd(pod_name,cmd)\n",
    "    cmd = 'cat ' + location + '/config.json'\n",
    "    return executePeerCmd(pod_name,cmd)\n",
    "    \n",
    "def getLocalOrgList(data):    \n",
    "    local_orgs=[]\n",
    "    for name in data:\n",
    "        if name[:-3] in peers:\n",
    "            local_orgs.append(name[:-3])    \n",
    "    return local_orgs\n",
    "\n",
    "def getBlockInfo(peer=peers['hafen0'],channel='mychannel'):\n",
    "    strlist = ['peer', 'channel','-c', channel, 'getinfo']\n",
    "    return json.loads(executePeerCmd(peer.pod_name,toCmd(strlist))[17:])\n",
    "\n",
    "def getChannelList(peer=peers['hafen0']):\n",
    "    strlist = ['peer', 'channel', 'list']\n",
    "    return executePeerCmd2(peer.pod_name,toCmd(strlist))\n"
   ]
  },
  {
   "cell_type": "code",
   "execution_count": 22,
   "metadata": {},
   "outputs": [],
   "source": []
  },
  {
   "cell_type": "markdown",
   "metadata": {},
   "source": [
    "# Multiple version"
   ]
  },
  {
   "cell_type": "code",
   "execution_count": 9,
   "metadata": {},
   "outputs": [],
   "source": [
    "# init\n",
    "peers = {}"
   ]
  },
  {
   "cell_type": "code",
   "execution_count": 3,
   "metadata": {},
   "outputs": [
    {
     "ename": "NameError",
     "evalue": "name 'deletePeer' is not defined",
     "output_type": "error",
     "traceback": [
      "\u001b[0;31m\u001b[0m",
      "\u001b[0;31mNameError\u001b[0mTraceback (most recent call last)",
      "\u001b[0;32m<ipython-input-3-0fdb5aee286d>\u001b[0m in \u001b[0;36m<module>\u001b[0;34m\u001b[0m\n\u001b[1;32m     11\u001b[0m \u001b[0;34m\u001b[0m\u001b[0m\n\u001b[1;32m     12\u001b[0m \u001b[0;31m#createPeers('ga')\u001b[0m\u001b[0;34m\u001b[0m\u001b[0;34m\u001b[0m\u001b[0;34m\u001b[0m\u001b[0m\n\u001b[0;32m---> 13\u001b[0;31m \u001b[0mdeletePeers\u001b[0m\u001b[0;34m(\u001b[0m\u001b[0;34m'ga'\u001b[0m\u001b[0;34m)\u001b[0m\u001b[0;34m\u001b[0m\u001b[0;34m\u001b[0m\u001b[0m\n\u001b[0m",
      "\u001b[0;32m<ipython-input-3-0fdb5aee286d>\u001b[0m in \u001b[0;36mdeletePeers\u001b[0;34m(name)\u001b[0m\n\u001b[1;32m      8\u001b[0m     \u001b[0;32mfor\u001b[0m \u001b[0mx\u001b[0m \u001b[0;32min\u001b[0m \u001b[0mrange\u001b[0m\u001b[0;34m(\u001b[0m\u001b[0;36m0\u001b[0m\u001b[0;34m,\u001b[0m\u001b[0;36m10\u001b[0m\u001b[0;34m)\u001b[0m\u001b[0;34m:\u001b[0m\u001b[0;34m\u001b[0m\u001b[0;34m\u001b[0m\u001b[0m\n\u001b[1;32m      9\u001b[0m         \u001b[0mpeerneme\u001b[0m \u001b[0;34m=\u001b[0m \u001b[0mname\u001b[0m \u001b[0;34m+\u001b[0m \u001b[0mstr\u001b[0m\u001b[0;34m(\u001b[0m\u001b[0mx\u001b[0m\u001b[0;34m)\u001b[0m\u001b[0;34m\u001b[0m\u001b[0;34m\u001b[0m\u001b[0m\n\u001b[0;32m---> 10\u001b[0;31m         \u001b[0mdeletePeer\u001b[0m\u001b[0;34m(\u001b[0m\u001b[0mpeerneme\u001b[0m\u001b[0;34m)\u001b[0m\u001b[0;34m\u001b[0m\u001b[0;34m\u001b[0m\u001b[0m\n\u001b[0m\u001b[1;32m     11\u001b[0m \u001b[0;34m\u001b[0m\u001b[0m\n\u001b[1;32m     12\u001b[0m \u001b[0;31m#createPeers('ga')\u001b[0m\u001b[0;34m\u001b[0m\u001b[0;34m\u001b[0m\u001b[0;34m\u001b[0m\u001b[0m\n",
      "\u001b[0;31mNameError\u001b[0m: name 'deletePeer' is not defined"
     ]
    }
   ],
   "source": [
    "# create, delete numbered peers\n",
    "def createPeers(name):\n",
    "    for x in range(0,10):\n",
    "        peerneme = name + str(x)\n",
    "        addPeer(peerneme)\n",
    "        \n",
    "def deletePeers(name):\n",
    "    for x in range(0,10):\n",
    "        peerneme = name + str(x)\n",
    "        deletePeer(peerneme)    \n",
    "  \n",
    "def deleteAllPeers(config):\n",
    "    for item in config['items']:\n",
    "        try:\n",
    "            if 'org_name' in item['data'].keys():\n",
    "                deletePeer(item['data']['org_name'])\n",
    "        except Exception as e:\n",
    "            print(item['data'])\n",
    "\n",
    "#createPeers('ga')\n",
    "deletePeers('ga')"
   ]
  },
  {
   "cell_type": "code",
   "execution_count": 19,
   "metadata": {},
   "outputs": [],
   "source": [
    "def getPeerAddress(peer):\n",
    "    addr='peer0.kubernetes.research.dev.seeburger.de'\n",
    "    return str(addr + ':' + peer.listen_port)\n",
    "\n",
    "def getPeerAddress0(peer):\n",
    "    addr='kubernetes.research.dev.seeburger.de'\n",
    "    return str(addr + ':' + peer.listen_port)\n",
    "\n",
    "# init kubernetes peer by existing kubernetes cluster\n",
    "def initpeer(peername):\n",
    "    pod_name = getPod(peername)\n",
    "    listen_port = getPort(peername=peername, name ='peer-listen')\n",
    "    gossip_port = getPort(peername=peername, name ='peer-gossip')\n",
    "    peer = kubernetespeer(name=peername,pod_name=pod_name,listen_port=listen_port,gossip_port=gossip_port)\n",
    "    addBashEnvToPeer(peer)\n",
    "    return peer"
   ]
  },
  {
   "cell_type": "code",
   "execution_count": 47,
   "metadata": {},
   "outputs": [
    {
     "ename": "NameError",
     "evalue": "name 'addHeader' is not defined",
     "output_type": "error",
     "traceback": [
      "\u001b[0;31m\u001b[0m",
      "\u001b[0;31mNameError\u001b[0mTraceback (most recent call last)",
      "\u001b[0;32m<ipython-input-47-eb5b1be4f8ac>\u001b[0m in \u001b[0;36m<module>\u001b[0;34m\u001b[0m\n\u001b[1;32m     45\u001b[0m \u001b[0;34m\u001b[0m\u001b[0m\n\u001b[1;32m     46\u001b[0m \u001b[0mlayout2\u001b[0m \u001b[0;34m=\u001b[0m \u001b[0;34m{\u001b[0m\u001b[0;34m'width'\u001b[0m\u001b[0;34m:\u001b[0m \u001b[0;34m'600px'\u001b[0m\u001b[0;34m}\u001b[0m\u001b[0;34m\u001b[0m\u001b[0;34m\u001b[0m\u001b[0m\n\u001b[0;32m---> 47\u001b[0;31m \u001b[0maddHeader\u001b[0m\u001b[0;34m(\u001b[0m\u001b[0mtext\u001b[0m\u001b[0;34m=\u001b[0m\u001b[0;34m'peer'\u001b[0m\u001b[0;34m,\u001b[0m\u001b[0mbold\u001b[0m\u001b[0;34m=\u001b[0m\u001b[0;32mTrue\u001b[0m\u001b[0;34m)\u001b[0m\u001b[0;34m\u001b[0m\u001b[0;34m\u001b[0m\u001b[0m\n\u001b[0m\u001b[1;32m     48\u001b[0m \u001b[0mpeertext\u001b[0m      \u001b[0;34m=\u001b[0m \u001b[0maddVisText\u001b[0m\u001b[0;34m(\u001b[0m\u001b[0mkey\u001b[0m\u001b[0;34m=\u001b[0m\u001b[0;34m'organization'\u001b[0m\u001b[0;34m,\u001b[0m\u001b[0mlayout\u001b[0m\u001b[0;34m=\u001b[0m\u001b[0mlayout2\u001b[0m\u001b[0;34m)\u001b[0m\u001b[0;34m\u001b[0m\u001b[0;34m\u001b[0m\u001b[0m\n\u001b[1;32m     49\u001b[0m \u001b[0mpod_name_text\u001b[0m \u001b[0;34m=\u001b[0m \u001b[0maddVisText\u001b[0m\u001b[0;34m(\u001b[0m\u001b[0mkey\u001b[0m\u001b[0;34m=\u001b[0m\u001b[0;34m'pod name'\u001b[0m\u001b[0;34m,\u001b[0m\u001b[0mdisabled\u001b[0m\u001b[0;34m=\u001b[0m\u001b[0;32mTrue\u001b[0m\u001b[0;34m,\u001b[0m\u001b[0mlayout\u001b[0m\u001b[0;34m=\u001b[0m\u001b[0mlayout2\u001b[0m\u001b[0;34m)\u001b[0m\u001b[0;34m\u001b[0m\u001b[0;34m\u001b[0m\u001b[0m\n",
      "\u001b[0;31mNameError\u001b[0m: name 'addHeader' is not defined"
     ]
    }
   ],
   "source": [
    "import os\n",
    "import json\n",
    "import subprocess\n",
    "import pandas as pd\n",
    "   \n",
    "def setPeerWidgetValues(peer):\n",
    "    pod_name_text.value = peers[peername].pod_name\n",
    "    peer_addr_text.value = getPeerAddress(peer)\n",
    "    cmd= ['get', 'pods', 'hafen1-69947bff88-2pgxs', '-o', 'json']\n",
    "    peer_containers_text.value=str(len(json.loads(executeKubectlCmd(cmd).decode('ascii'))['spec']['containers']))\n",
    "        \n",
    "    cert = getOrgCrt(org=peer.name)\n",
    "    issuer = cert.issuer\n",
    "    c_o_text.value=issuer.get_attributes_for_oid(NameOID.ORGANIZATION_NAME)[0].value\n",
    "    c_cn_text.value=issuer.get_attributes_for_oid(NameOID.COMMON_NAME)[0].value\n",
    "    c_sn_text.value=str(cert.serial_number)\n",
    "    c_l_text.value=issuer.get_attributes_for_oid(NameOID.LOCALITY_NAME)[0].value\n",
    "    c_s_text.value=issuer.get_attributes_for_oid(NameOID.STATE_OR_PROVINCE_NAME)[0].value\n",
    "    c_c_text.value=issuer.get_attributes_for_oid(NameOID.COUNTRY_NAME)[0].value\n",
    "    c_nvb_text.value=cert.not_valid_before.strftime(\"%Y-%m-%d %H:%M:%S\")\n",
    "    c_nva_text.value=cert.not_valid_after.strftime(\"%Y-%m-%d %H:%M:%S\")\n",
    "    \n",
    "def addPeer(peername):  \n",
    "    if peername in peers.keys():\n",
    "        return peers[peername]\n",
    "    os.environ['PEER_NAME'] = peername\n",
    "    !cd /home/jovyan/scray/projects/invoice-hyperledger-fabric/containers/ && /home/jovyan/scray/projects/invoice-hyperledger-fabric/containers/configure-deployment.sh -n $PEER_NAME\n",
    "    !/home/jovyan/work/usr/bin/kubectl apply -f /home/jovyan/scray/projects/invoice-hyperledger-fabric/containers/target/$PEER_NAME/k8s-peer-service.yaml\n",
    "    #setPeerPorts(peername)\n",
    "    #res = createConfig(peername=peername,peer_listen_port=os.environ['PEER_LISTEN_PORT'],peer_gossip_port=os.environ['GOSSIP_PORT'])\n",
    "    res = createConfig(peername=peername,\n",
    "                       peer_listen_port=getPort(peername=peername, name='peer-listen'),\n",
    "                       peer_gossip_port=getPort(peername=peername, name='peer-gossip'))\n",
    "    print(res)\n",
    "    !/home/jovyan/work/usr/bin/kubectl apply -f /home/jovyan/scray/projects/invoice-hyperledger-fabric/containers/target/$PEER_NAME/k8s-peer.yaml\n",
    "    peer = initpeer(peername)\n",
    "    peers[peername] = peer\n",
    "    #setPeerWidgetValues(peer)\n",
    "    return peer\n",
    "    \n",
    "def handle_submit(text):\n",
    "    global peername\n",
    "    peer = addPeer(peername)\n",
    "    setPeerWidgetValues(peer)\n",
    "    \n",
    "layout2 = {'width': '600px'}   \n",
    "addHeader(text='peer',bold=True)\n",
    "peertext      = addVisText(key='organization',layout=layout2)\n",
    "pod_name_text = addVisText(key='pod name',disabled=True,layout=layout2)\n",
    "peer_containers_text = addVisText(key='containers',disabled=True,layout=layout2)\n",
    "peer_addr_text = addVisText(key='address',disabled=True,layout=layout2)\n",
    "peertext.on_submit(handle_submit)    \n",
    "\n",
    "addHeader(text='certificate',bold=True)\n",
    "c_o_text = addVisText(key='organization',disabled=True,layout=layout2)\n",
    "c_cn_text =addVisText(key='common name',disabled=True,layout=layout2)\n",
    "c_sn_text =addVisText(key='serial number',disabled=True,layout=layout2)\n",
    "c_l_text =addVisText(key='locality',disabled=True,layout=layout2)\n",
    "c_s_text =addVisText(key='state',disabled=True,layout=layout2)\n",
    "c_c_text =addVisText(key='country',disabled=True,layout=layout2)\n",
    "c_nvb_text =addVisText(key='from',disabled=True,layout=layout2)\n",
    "c_nva_text =addVisText(key='until',disabled=True,layout=layout2)"
   ]
  },
  {
   "cell_type": "markdown",
   "metadata": {},
   "source": [
    "Step2: Sign by majority of old peers"
   ]
  },
  {
   "cell_type": "code",
   "execution_count": 225,
   "metadata": {},
   "outputs": [],
   "source": [
    "# download current organizations (consortium) from sharepoint\n",
    "downloadToLocal(local_path='/tmp', local_name='org_msp.json' ,remote_path='upload')\n",
    "with open('/tmp/org_msp.json', 'r') as fp:\n",
    "    data = json.load(fp)\n",
    "    \n",
    "local_orgs = getLocalOrgList(data)    "
   ]
  },
  {
   "cell_type": "code",
   "execution_count": null,
   "metadata": {},
   "outputs": [],
   "source": [
    "for name in local_orgs:\n",
    "    sign(peers[name].pod_name)"
   ]
  },
  {
   "cell_type": "markdown",
   "metadata": {},
   "source": [
    "Step 3"
   ]
  },
  {
   "cell_type": "code",
   "execution_count": 95,
   "metadata": {},
   "outputs": [
    {
     "data": {
      "text/plain": [
       "'ga0-7549cb6dd7-576ns'"
      ]
     },
     "execution_count": 95,
     "metadata": {},
     "output_type": "execute_result"
    }
   ],
   "source": [
    "peer = peers['ga0']\n",
    "addBashEnvToPeer(peer)\n",
    "\n",
    "peer.pod_name"
   ]
  },
  {
   "cell_type": "code",
   "execution_count": 93,
   "metadata": {},
   "outputs": [
    {
     "data": {
      "text/plain": [
       "\"Command '['/home/jovyan/work/usr/bin/kubectl', 'exec', '--stdin', '--tty', 'ga1-6cdb647967-68fk7', '-c', 'scray-peer-cli', '--', '/bin/sh', '/mnt/conf/peer_join.sh', '10.15.128.97', 'orderer.example.com', 'mychannel']' returned non-zero exit status 1.\""
      ]
     },
     "execution_count": 93,
     "metadata": {},
     "output_type": "execute_result"
    }
   ],
   "source": [
    "#pod_name   = peers['sally5'].pod_name\n",
    "orderer_ip = '10.15.128.97'   \n",
    "orderer_hostname = 'orderer.example.com'\n",
    "channel_name = 'mychannel'  \n",
    "joinHyperledger(peer.pod_name,orderer_ip,orderer_hostname,channel_name)"
   ]
  },
  {
   "cell_type": "markdown",
   "metadata": {},
   "source": [
    "B"
   ]
  },
  {
   "cell_type": "markdown",
   "metadata": {},
   "source": [
    "# Enroll users"
   ]
  },
  {
   "cell_type": "code",
   "execution_count": null,
   "metadata": {},
   "outputs": [],
   "source": [
    "# download walletcreator to peers\n",
    "def uploadWalletToolToShaepoint():\n",
    "    uploadFromLocal(local_path='/home/jovyan/scray/projects/invoice-hyperledger-fabric/tools/wallet-creator/target', local_name='wallet-creator-0.0.1-SNAPSHOT-jar-with-dependencies.jar' ,remote_path='upload')\n",
    "    uploadFromLocal(local_path='/home/jovyan/scray/projects/invoice-hyperledger-fabric/tools/wallet-creator', local_name='cert-creator.sh' ,remote_path='upload')\n",
    "\n",
    "def installPeerWalletTool(peer):\n",
    "    executePeerCmd(peer.pod_name,toCmd(downloadToLocalCmdList(local_path='/tmp', remote_name='wallet-creator-0.0.1-SNAPSHOT-jar-with-dependencies.jar'))) \n",
    "    executePeerCmd(peer.pod_name,toCmd(downloadToLocalCmdList(local_path='/tmp', remote_name='cert-creator.sh'))) \n",
    "    executePeerCmd(peer.pod_name,'apk add openssl')\n",
    "    executePeerCmd(peer.pod_name,'apk add openjdk8-jre')\n",
    "    \n",
    "def createPeerUser(peer,user, admin='admin',\n",
    "    cert='/mnt/conf/organizations/peerOrganizations/kubernetes.research.dev.seeburger.de/ca/ca.kubernetes.research.dev.seeburger.de-cert.pem',\n",
    "    key='/mnt/conf/organizations/peerOrganizations/kubernetes.research.dev.seeburger.de/ca/priv_sk'):\n",
    "        cmd = ['/tmp/cert-creator.sh','--cacert',cert,'--cakey',key,'--new-user-crt',user,'--organizational-unit',admin,\n",
    "               '--create-wallet','true','--wallet-creator-lib-path', '/tmp']\n",
    "        return executePeerCmd(peer.pod_name,toCmd(cmd))\n",
    "    \n",
    "createPeerUser(peers['hafen0'],'bretten')     "
   ]
  },
  {
   "cell_type": "markdown",
   "metadata": {},
   "source": [
    "# Install and aprove chaincode"
   ]
  },
  {
   "cell_type": "code",
   "execution_count": 257,
   "metadata": {},
   "outputs": [],
   "source": [
    "#installAndAproveChaincode(peers['schalke3'])\n",
    "for name in local_orgs:\n",
    "    installAndAproveChaincode(peers[name])"
   ]
  },
  {
   "cell_type": "code",
   "execution_count": null,
   "metadata": {},
   "outputs": [],
   "source": [
    "downloadCrtsToPeer(local_orgs)"
   ]
  },
  {
   "cell_type": "code",
   "execution_count": null,
   "metadata": {},
   "outputs": [],
   "source": [
    "peer lifecycle chaincode commit -o orderer.example.com:7050 --ordererTLSHostnameOverride orderer.example.com \n",
    "--tls --cafile $CERT_BASE_PATH/organizations/ordererOrganizations/example.com/orderers/orderer.example.com/msp/tlscacerts/tlsca.example.com-cert.pem --channelID mychannel --name basic --peerAddresses peer0.org1.example.com:7051 --tlsRootCertFiles $CERT_BASE_PATH/organizations/peerOrganizations/org1.example.com/peers/peer0.org1.example.com/tls/ca.crt --peerAddresses peer0.org2.example.com:9051 --tlsRootCertFiles ${CERT_BASE_PATH}/organizations/peerOrganizations/org2.example.com/peers/peer0.org2.example.com/tls/ca.crt --version 1.0 --sequence 1\n"
   ]
  },
  {
   "cell_type": "code",
   "execution_count": 36,
   "metadata": {},
   "outputs": [],
   "source": [
    "# download e.g. all crts of needed peers to local dir (e.g. for invoke,commit)\n",
    "def getCrtName(org='', domain='kubernetes.research.dev.seeburger.de'):\n",
    "    return str(org + '-' + domain + '-ca.crt')\n",
    "    \n",
    "def downloadToLocalCmdList(host='10.15.136.41:30080',user='scray', pwd='scray',\n",
    "                    local_path='./', remote_name='' ,remote_path='upload'):  \n",
    "    return ['curl', '--user',user + ':' + pwd, 'http://' + host + '/' + remote_path + '/' + remote_name, '-o', local_path + '/' + remote_name]\n",
    "\n",
    "\n",
    "def downloadCrtsToPeer(orgs, execute_org='schalke3'):\n",
    "    for org in orgs:\n",
    "        executePeerCmd(peers[execute_org].pod_name,toCmd(downloadToLocalCmdList(local_path='/tmp', remote_name=getCrtName(org))))     \n",
    "   "
   ]
  },
  {
   "cell_type": "code",
   "execution_count": null,
   "metadata": {},
   "outputs": [],
   "source": [
    "#addBashEnvToPeer(peers['schalke3'])\n",
    "downloadCrtsToPeer(local_orgs)\n",
    "downloadCrtsToPeer(['schalke3'], execute_org='schalke3')"
   ]
  },
  {
   "cell_type": "code",
   "execution_count": 392,
   "metadata": {},
   "outputs": [],
   "source": [
    "def downloadToLocal(host='10.15.136.41:30080',user='scray', pwd='scray',\n",
    "                    local_path='./', local_name='' ,remote_path='upload'):  \n",
    "    try:    \n",
    "        output = subprocess.check_output(['curl', '--user',user + ':' + pwd, \n",
    "                                               'http://' + host + '/' + remote_path + '/' + local_name, '-o', local_path + '/' + local_name])\n",
    "        #return str(callProcess)[3:-3]\n",
    "        return output.decode('ascii')\n",
    "    except Exception as e:\n",
    "        return str(e)     \n",
    "   \n",
    "\n",
    "def uploadFromLocal(host='10.15.136.41:30080',user='scray', pwd='scray',\n",
    "                    local_path='./', local_name='' ,remote_path='upload'):\n",
    "    try:    \n",
    "        output = subprocess.check_output(['curl', '--user',user + ':' + pwd, \n",
    "                                          '-T', local_path + '/' + local_name, \n",
    "                                          'http://' + host + '/' + remote_path + '/' + local_name])\n",
    "        return output.decode('ascii')\n",
    "    except Exception as e:\n",
    "        return str(e)   \n",
    "                    \n",
    "#downloadToLocal(local_path='./', local_name='org3_update_in_envelope.pb' ,remote_path='upload')"
   ]
  },
  {
   "cell_type": "code",
   "execution_count": 307,
   "metadata": {},
   "outputs": [],
   "source": [
    "def commit():\n",
    "    try:    \n",
    "        #crtnew = '\\\" + getCrt(org='klaus') + '\\\"\n",
    "        getCrt(org='klaus')\n",
    "        output = subprocess.check_output(['peer', 'lifecycle','chaincode','commit','-o',addr0,'--ordererTLSHostnameOverride',orderer,\n",
    "                                          '--tls','--cafile',ordererpem,'--channelID','mychannel','--name','basic',\n",
    "                                          '--peerAddresses',addr1, '--tlsRootCertFiles', crt1, \n",
    "                                          '--peerAddresses', addr2, '--tlsRootCertFiles', crt2, \n",
    "                                          '--peerAddresses', 'peer0.scray.org', '--tlsRootCertFiles', '/tmp/new.crt',\n",
    "                                          #'--peerAddresses', 'kubernetes.research.dev.seeburger.de:32190', '--tlsRootCertFiles', '/tmp/new.crt',\n",
    "                                          '--version', '1.0', '--sequence', '1','--tlsRootCertFiles'])\n",
    "        return output.decode('ascii')\n",
    "    except Exception as e:\n",
    "        return str(e)\n",
    "    \n",
    "def getCrt(org='',domain='kubernetes.research.dev.seeburger.de',host='10.15.136.41:30080',user='scray', pwd='scray',channel='mychannel'):\n",
    "    try:    \n",
    "        output = subprocess.check_output(['curl', '--user',user + ':' + pwd, \n",
    "                                               'http://' + host + '/ca/' + channel + '/' + org + '-' + domain + '-ca.crt'])\n",
    "        #return str(callProcess)[3:-3]\n",
    "        return output.decode('ascii')\n",
    "    except Exception as e:\n",
    "        return str(e)    \n",
    "\n",
    "\n",
    "def getCrtToLocalCmd(org='',topath='/tmp',domain='kubernetes.research.dev.seeburger.de',host='10.15.136.41:30080',user='scray', pwd='scray',channel='mychannel'):\n",
    "    crtname = getCrtName(org, domain)\n",
    "    return str('curl --user ' + user + ':' + pwd + \\\n",
    "            ' http://' + host + '/ca/' + channel + '/' + crtname +  ' -o ' +  ' /tmp/' + crtname)\n",
    "        \n",
    "        \n",
    "def getCrtToLocal(org='',topath='/tmp',domain='kubernetes.research.dev.seeburger.de',host='10.15.136.41:30080',user='scray', pwd='scray',channel='mychannel'):\n",
    "    try:    \n",
    "        output = subprocess.check_output(['curl', '--user',user + ':' + pwd, \n",
    "                                               'http://' + host + '/ca/' + channel + '/' + getCrtName(org, domain), '-o', '/tmp/' + getCrtName(org, domain)])\n",
    "        #return str(callProcess)[3:-3]\n",
    "        return output.decode('ascii')\n",
    "    except Exception as e:\n",
    "        return str(e)       "
   ]
  },
  {
   "cell_type": "code",
   "execution_count": 305,
   "metadata": {},
   "outputs": [
    {
     "data": {
      "text/plain": [
       "['hafen0', 'hafen1', 'hafen3']"
      ]
     },
     "execution_count": 305,
     "metadata": {},
     "output_type": "execute_result"
    }
   ],
   "source": [
    "local_orgs"
   ]
  },
  {
   "cell_type": "markdown",
   "metadata": {},
   "source": [
    "commit chaincode"
   ]
  },
  {
   "cell_type": "code",
   "execution_count": 309,
   "metadata": {},
   "outputs": [],
   "source": [
    "addr0 = 'orderer.example.com:7050'\n",
    "orderer = 'orderer.example.com'\n",
    "ordererpem = '/tmp/tlsca.example.com-cert.pem'\n",
    "cmd1 = 'peer lifecycle chaincode commit -o ' + addr0 + ' --ordererTLSHostnameOverride ' + orderer + ' --tls --cafile ' + ordererpem + ' --channelID mychannel --name basic'\n",
    "cmd2 = ' --version 1.0 --sequence 1'\n",
    "\n",
    "def getPart(peer, org='kubernetes.research.dev.seeburger.de'):\n",
    "    return getCrtToLocalCmd(org=peer.name)\n",
    "    #return '--peerAddresses ' + org + ':' + peer.listen_port + ' --tlsRootCertFiles ' +  crt1\n",
    "\n",
    "destpeer = peers[local_orgs[0]]    \n",
    "for name in local_orgs:\n",
    "    if name in peers:\n",
    "        peer = peers[name]    \n",
    "        cmd = getPart(peer)\n",
    "        executePeerCmd(destpeer.pod_name,cmd)\n",
    "\n",
    "addr='peer0.kubernetes.research.dev.seeburger.de'\n",
    "crts=''\n",
    "for name in local_orgs:\n",
    "    if name in peers:\n",
    "        peer = peers[name] \n",
    "        crts = crts + str(' --peerAddresses ' + getPeerAddress(peer)  + ' --tlsRootCertFiles ' +  '/tmp/' + getCrtName(org=peer.name))"
   ]
  },
  {
   "cell_type": "code",
   "execution_count": 311,
   "metadata": {},
   "outputs": [
    {
     "data": {
      "text/plain": [
       "''"
      ]
     },
     "execution_count": 311,
     "metadata": {},
     "output_type": "execute_result"
    }
   ],
   "source": [
    "executePeerCmd(destpeer.pod_name,cmd1 + crts + cmd2)"
   ]
  },
  {
   "cell_type": "code",
   "execution_count": 314,
   "metadata": {},
   "outputs": [
    {
     "data": {
      "text/plain": [
       "' --peerAddresses peer0.kubernetes.research.dev.seeburger.de:31866 --tlsRootCertFiles /tmp/hafen0-kubernetes.research.dev.seeburger.de-ca.crt --peerAddresses peer0.kubernetes.research.dev.seeburger.de:30755 --tlsRootCertFiles /tmp/hafen1-kubernetes.research.dev.seeburger.de-ca.crt --peerAddresses peer0.kubernetes.research.dev.seeburger.de:30948 --tlsRootCertFiles /tmp/hafen3-kubernetes.research.dev.seeburger.de-ca.crt'"
      ]
     },
     "execution_count": 314,
     "metadata": {},
     "output_type": "execute_result"
    }
   ],
   "source": [
    "#cmd1 + crts + cmd2\n",
    "crts"
   ]
  },
  {
   "cell_type": "code",
   "execution_count": null,
   "metadata": {},
   "outputs": [],
   "source": [
    "peer lifecycle chaincode queryinstalled --peerAddresses peer0.kubernetes.research.dev.seeburger.de:32733 --tlsRootCertFiles /tmp/sally3-kubernetes.research.dev.seeburger.de-ca.crt"
   ]
  },
  {
   "cell_type": "code",
   "execution_count": null,
   "metadata": {},
   "outputs": [],
   "source": [
    "pod_name   = peers['sally3'].pod_name\n",
    "executePeerCmd(pod_name, \"peer lifecycle chaincode queryinstalled --peerAddresses peer0.kubernetes.research.dev.seeburger.de:32733 --tlsRootCertFiles /tmp/sally3-kubernetes.research.dev.seeburger.de-ca.crt --output json\")"
   ]
  },
  {
   "cell_type": "code",
   "execution_count": 382,
   "metadata": {},
   "outputs": [
    {
     "data": {
      "text/plain": [
       "{'ID': 'asset1',\n",
       " 'color': 'blue',\n",
       " 'size': 5,\n",
       " 'owner': 'Tomoko',\n",
       " 'appraisedValue': 300}"
      ]
     },
     "execution_count": 382,
     "metadata": {},
     "output_type": "execute_result"
    }
   ],
   "source": [
    "def readAsset(asset='asset1'):\n",
    "    callopt= '{\\\"function\\\":\\\"ReadAsset\\\",\\\"Args\\\":[' + '\\\"' + asset + '\\\"' + ']}'\n",
    "    try:\n",
    "        cmd1= 'CORE_PEER_ADDRESS=\\\"peer0.kubernetes.research.dev.seeburger.de:31866\\\" && ' \n",
    "        cmd = ['peer', 'chaincode','query', '-C', 'mychannel', '-n', 'basic', '-c',\"'\" + callopt + \"'\"]\n",
    "        output = executePeerCmd(peers['hafen0'].pod_name,toCmd(cmd))\n",
    "        return json.loads(output)\n",
    "    except Exception as e:\n",
    "        return str(e)\n",
    "    \n",
    "readAsset('asset1')"
   ]
  },
  {
   "cell_type": "code",
   "execution_count": 391,
   "metadata": {},
   "outputs": [
    {
     "ename": "NameError",
     "evalue": "name 'certs' is not defined",
     "output_type": "error",
     "traceback": [
      "\u001b[0;31m\u001b[0m",
      "\u001b[0;31mNameError\u001b[0mTraceback (most recent call last)",
      "\u001b[0;32m<ipython-input-391-a01c642c1c2e>\u001b[0m in \u001b[0;36m<module>\u001b[0;34m\u001b[0m\n\u001b[1;32m     12\u001b[0m \u001b[0mcmd\u001b[0m \u001b[0;34m=\u001b[0m \u001b[0;34m[\u001b[0m\u001b[0;34m'peer'\u001b[0m\u001b[0;34m,\u001b[0m \u001b[0;34m'chaincode'\u001b[0m\u001b[0;34m,\u001b[0m\u001b[0;34m'invoke'\u001b[0m\u001b[0;34m,\u001b[0m \u001b[0;34m'-C'\u001b[0m\u001b[0;34m,\u001b[0m \u001b[0;34m'mychannel'\u001b[0m\u001b[0;34m,\u001b[0m \u001b[0;34m'-n'\u001b[0m\u001b[0;34m,\u001b[0m \u001b[0;34m'basic'\u001b[0m\u001b[0;34m,\u001b[0m \u001b[0;34m'-c'\u001b[0m\u001b[0;34m,\u001b[0m\u001b[0;34m\"'\"\u001b[0m \u001b[0;34m+\u001b[0m \u001b[0mcallopt\u001b[0m \u001b[0;34m+\u001b[0m \u001b[0;34m\"'\"\u001b[0m\u001b[0;34m]\u001b[0m\u001b[0;34m\u001b[0m\u001b[0;34m\u001b[0m\u001b[0m\n\u001b[1;32m     13\u001b[0m \u001b[0;34m\u001b[0m\u001b[0m\n\u001b[0;32m---> 14\u001b[0;31m \u001b[0mcerts\u001b[0m\u001b[0;34m\u001b[0m\u001b[0;34m\u001b[0m\u001b[0m\n\u001b[0m",
      "\u001b[0;31mNameError\u001b[0m: name 'certs' is not defined"
     ]
    }
   ],
   "source": [
    "args = [\"asset2\",\"blue\",\"5\",\"Tomoko\", \"300\"]\n",
    "arglist = ''.join(str('\\\"' + e + '\\\",') for e in args)[:-1]\n",
    "  \n",
    "callopt= '{\\\"function\\\":\\\"CreateAsset\\\",\\\"Args\\\":[' + arglist + ']}'\n",
    "#peer chaincode invoke -C mychannel -n basic \n",
    "#-c '{\"function\":\"CreateAsset\",\"Args\":[\"asset1\",\"blue\",\"5\",\"Tomoko\", \"300\"]}' \n",
    "#--peerAddresses peer0.kubernetes.research.dev.seeburger.de:31866 --tlsRootCertFiles /tmp/hafen0-kubernetes.research.dev.seeburger.de-ca.crt --peerAddresses peer0.kubernetes.research.dev.seeburger.de:30755 --tlsRootCertFiles /tmp/hafen1-kubernetes.research.dev.seeburger.de-ca.crt --peerAddresses peer0.kubernetes.research.dev.seeburger.de:30948 --tlsRootCertFiles /tmp/hafen3-kubernetes.research.dev.seeburger.de-ca.crt \n",
    "#-o orderer.example.com:7050 --ordererTLSHostnameOverride orderer.example.com --tls --cafile /tmp/tlsca.example.com-cert.pem\n",
    "\n",
    "            \n",
    "\n",
    "cmd1= 'CORE_PEER_ADDRESS=\\\"peer0.kubernetes.research.dev.seeburger.de:31866\\\" && ' \n",
    "cmd = ['peer', 'chaincode','invoke', '-C', 'mychannel', '-n', 'basic', '-c',\"'\" + callopt + \"'\"]\n",
    "\n",
    "certs"
   ]
  },
  {
   "cell_type": "code",
   "execution_count": null,
   "metadata": {},
   "outputs": [],
   "source": [
    "peer chaincode invoke -o orderer.example.com:7050 --tls true --cafile /tmp/tlsca.example.com-cert.pem  -C mychannel -n basic --peerAddresses peer0.kubernetes.research.dev.seeburger.de:30084 --tlsRootCertFiles /tmp/sally1-kubernetes.research.dev.seeburger.de-ca.crt --peerAddresses peer0.kubernetes.research.dev.seeburger.de:31521 --tlsRootCertFiles /tmp/sally2-kubernetes.research.dev.seeburger.de-ca.crt --peerAddresses peer0.kubernetes.research.dev.seeburger.de:32733 --tlsRootCertFiles /tmp/sally3-kubernetes.research.dev.seeburger.de-ca.crt --peerAddresses peer0.kubernetes.research.dev.seeburger.de:31018 --tlsRootCertFiles /tmp/sally4-kubernetes.research.dev.seeburger.de-ca.crt -c '{\"function\":\"CreateAsset\",\"Args\":[\"asset1\",\"green\",\"10\", \"Jin Soo\",\"500\"]}'\n",
    "                        \n",
    "peer chaincode query -C mychannel -n basic -c '{\"function\":\"ReadAsset\",\"Args\":[\"asset1\"]}'\n"
   ]
  },
  {
   "cell_type": "code",
   "execution_count": null,
   "metadata": {},
   "outputs": [],
   "source": [
    "\n",
    "addBashEnvToPeer(peer.pod_name, peer.listen_port)"
   ]
  },
  {
   "cell_type": "code",
   "execution_count": null,
   "metadata": {},
   "outputs": [],
   "source": [
    "print(pod_name)\n",
    "executePeerCmd(pod_name,\"hostname\")"
   ]
  },
  {
   "cell_type": "code",
   "execution_count": null,
   "metadata": {},
   "outputs": [],
   "source": [
    " peer chaincode invoke -C mychannel -n basic -c '{\"function\":\"GetAllAssets\",\"Args\":[]}' --peerAddresses peer0.kubernetes.research.dev.seeburger.de:31866 --tlsRootCertFiles /tmp/hafen0-kubernetes.research.dev.seeburger.de-ca.crt --peerAddresses peer0.kubernetes.research.dev.seeburger.de:30755 --tlsRootCertFiles /tmp/hafen1-kubernetes.research.dev.seeburger.de-ca.crt --peerAddresses peer0.kubernetes.research.dev.seeburger.de:30948 --tlsRootCertFiles /tmp/hafen3-kubernetes.research.dev.seeburger.de-ca.crt -o orderer.example.com:7050 --ordererTLSHostnameOverride orderer.example.com --tls --cafile /tmp/tlsca.example.com-cert.pem\n"
   ]
  },
  {
   "cell_type": "code",
   "execution_count": 366,
   "metadata": {},
   "outputs": [
    {
     "data": {
      "text/plain": [
       "'[{\"Key\":\"asset1\",\"Record\":{\"ID\":\"asset1\",\"color\":\"blue\",\"size\":5,\"owner\":\"Tomoko\",\"appraisedValue\":300}}]\\n'"
      ]
     },
     "execution_count": 366,
     "metadata": {},
     "output_type": "execute_result"
    }
   ],
   "source": [
    "executePeerCmd(peers['hafen0'].pod_name,\"peer chaincode query -C mychannel -n basic -c '{\\\"function\\\":\\\"GetAllAssets\\\",\\\"Args\\\":[]}'\")"
   ]
  },
  {
   "cell_type": "code",
   "execution_count": 367,
   "metadata": {},
   "outputs": [
    {
     "data": {
      "text/plain": [
       "'{\"ID\":\"asset1\",\"color\":\"blue\",\"size\":5,\"owner\":\"Tomoko\",\"appraisedValue\":300}\\n'"
      ]
     },
     "execution_count": 367,
     "metadata": {},
     "output_type": "execute_result"
    }
   ],
   "source": [
    "executePeerCmd(peers['hafen0'].pod_name,\"peer chaincode query -C mychannel -n basic -c '{\\\"function\\\":\\\"ReadAsset\\\",\\\"Args\\\":[\\\"asset1\\\"]}'\")"
   ]
  },
  {
   "cell_type": "code",
   "execution_count": null,
   "metadata": {},
   "outputs": [],
   "source": [
    "executePeerCmd(pod_name,\"peer chaincode query -C mychannel -n basic -c '{\\\"function\\\":\\\"ReadAsset\\\",\\\"Args\\\":[]}'\")"
   ]
  },
  {
   "cell_type": "code",
   "execution_count": 315,
   "metadata": {},
   "outputs": [
    {
     "data": {
      "text/plain": [
       "'Command \\'[\\'/home/jovyan/work/usr/bin/kubectl\\', \\'exec\\', \\'-it\\', \\'hafen0-7ff8cd57d6-j7qg9\\', \\'-c\\', \\'scray-peer-cli\\', \\'--\\', \\'/bin/bash\\', \\'-c\\', \\'source /root/.bashrc && peer chaincode query -C mychannel -n basic -c \\\\\\'{\"function\":\"ReadAsset\",\"Args\":[\"asset1\"]}\\\\\\' --peerAddresses peer0.kubernetes.research.dev.seeburger.de:30773 --tlsRootCertFiles /tmp/sally0-kubernetes.research.dev.seeburger.de-ca.crt\\']\\' returned non-zero exit status 1.'"
      ]
     },
     "execution_count": 315,
     "metadata": {},
     "output_type": "execute_result"
    }
   ],
   "source": [
    "executePeerCmd(peers['hafen0'].pod_name,\"peer chaincode query -C mychannel -n basic -c '{\\\"function\\\":\\\"ReadAsset\\\",\\\"Args\\\":[\\\"asset1\\\"]}' --peerAddresses peer0.kubernetes.research.dev.seeburger.de:30773 --tlsRootCertFiles /tmp/sally0-kubernetes.research.dev.seeburger.de-ca.crt\")"
   ]
  },
  {
   "cell_type": "code",
   "execution_count": 319,
   "metadata": {},
   "outputs": [
    {
     "data": {
      "text/plain": [
       "'{\"ID\":\"asset1\",\"color\":\"blue\",\"size\":5,\"owner\":\"Tomoko\",\"appraisedValue\":300}\\n'"
      ]
     },
     "execution_count": 319,
     "metadata": {},
     "output_type": "execute_result"
    }
   ],
   "source": [
    "executePeerCmd(peers['hafen0'].pod_name,\"export CORE_PEER_ADDRESS=peer0.kubernetes.research.dev.seeburger.de:31866 && peer chaincode query -C mychannel -n basic -c '{\\\"function\\\":\\\"ReadAsset\\\",\\\"Args\\\":[\\\"asset1\\\"]}'\")"
   ]
  },
  {
   "cell_type": "code",
   "execution_count": null,
   "metadata": {},
   "outputs": [],
   "source": [
    "CreateAsset(ctx contractapi.TransactionContextInterface, id, color string, size int, owner string, appraisedValue int)"
   ]
  },
  {
   "cell_type": "code",
   "execution_count": null,
   "metadata": {},
   "outputs": [],
   "source": [
    "peer chaincode invoke -C mychannel -n basic -c '{\"function\":\"CreateAsset\",\"Args\":[\"asset1\",\"blue\",\"5\",\"Tomoko\", \"300\"]}' --peerAddresses peer0.kubernetes.research.dev.seeburger.de:31866 --tlsRootCertFiles /tmp/hafen0-kubernetes.research.dev.seeburger.de-ca.crt --peerAddresses peer0.kubernetes.research.dev.seeburger.de:30755 --tlsRootCertFiles /tmp/hafen1-kubernetes.research.dev.seeburger.de-ca.crt --peerAddresses peer0.kubernetes.research.dev.seeburger.de:30948 --tlsRootCertFiles /tmp/hafen3-kubernetes.research.dev.seeburger.de-ca.crt -o orderer.example.com:7050 --ordererTLSHostnameOverride orderer.example.com --tls --cafile /tmp/tlsca.example.com-cert.pem\n",
    "\n",
    "peer chaincode invoke -C mychannel -n basic -c '{\"function\":\"ReadAsset\",\"Args\":[\"asset1\"]}' --peerAddresses peer0.kubernetes.research.dev.seeburger.de:31866 --tlsRootCertFiles /tmp/hafen0-kubernetes.research.dev.seeburger.de-ca.crt --peerAddresses peer0.kubernetes.research.dev.seeburger.de:30755 --tlsRootCertFiles /tmp/hafen1-kubernetes.research.dev.seeburger.de-ca.crt --peerAddresses peer0.kubernetes.research.dev.seeburger.de:30948 --tlsRootCertFiles /tmp/hafen3-kubernetes.research.dev.seeburger.de-ca.crt -o orderer.example.com:7050 --ordererTLSHostnameOverride orderer.example.com --tls --cafile /tmp/tlsca.example.com-cert.pem\n",
    "peer chaincode query  -C mychannel -n basic -c '{\"function\":\"ReadAsset\",\"Args\":[\"asset1\"]}'\n"
   ]
  },
  {
   "cell_type": "code",
   "execution_count": null,
   "metadata": {},
   "outputs": [],
   "source": [
    "executePeerCmd(pod_name, \"peer chaincode query -C mychannel -n basic -c '{\\\"function\\\":\\\"ReadAsset\\\",\\\"Args\\\":[\\\"asset2\\\"]}'\")"
   ]
  },
  {
   "cell_type": "code",
   "execution_count": null,
   "metadata": {},
   "outputs": [],
   "source": [
    "executePeerCmd(pod_name,  \"peer chaincode query -C mychannel -n basic -c '{\\\"function\\\":\\\"GetAllAssets\\\",\\\"Args\\\":[]}'\")"
   ]
  },
  {
   "cell_type": "code",
   "execution_count": null,
   "metadata": {},
   "outputs": [],
   "source": [
    "setPeerEnvironment(peername)\n",
    "\n",
    "#!/home/jovyan/work/usr/bin/kubectl exec --stdin --tty 'lara2-5d8bd488d6-kll5n' -c lara2 -- /bin/bash pwd"
   ]
  },
  {
   "cell_type": "code",
   "execution_count": null,
   "metadata": {},
   "outputs": [],
   "source": [
    "########## execute commands in container\n",
    "#!/home/jovyan/work/usr/bin/kubectl  exec -it $POD_NAME -c maja3 -- /bin/sh -c \"ls -l / && hostname\"\n",
    "#!/home/jovyan/work/usr/bin/kubectl  exec -it $POD_NAME -c scray-peer-cli -- /bin/bash -c \"ls -l / && hostname\"\n",
    "#!/home/jovyan/work/usr/bin/kubectl  exec -it $POD_NAME -c scray-peer-cli -- /bin/bash -c \"echo 'export ORDERER_CA=/tmp/tlsca.example.com-cert.pem' >> /root/.bashrc\""
   ]
  },
  {
   "cell_type": "code",
   "execution_count": null,
   "metadata": {},
   "outputs": [],
   "source": [
    "#setPeerEnvironment('tanja2')\n",
    "#!/home/jovyan/work/usr/bin/kubectl exec --stdin --tty $POD_NAME  -c scray-peer-cli --  /bin/sh export ORDERER_CA=\"/tmp/tlsca.example.com-cert.pem\"\n",
    "#!/home/jovyan/work/usr/bin/kubectl exec --stdin --tty $POD_NAME  -c scray-peer-cli --  ORDERER_HOSTNAME=\"orderer.example.com\"\n",
    "#!/home/jovyan/work/usr/bin/kubectl exec --stdin --tty $POD_NAME  -c scray-peer-cli --  CHANNEL_NAME=\"mychannel\"\n",
    "#!/home/jovyan/work/usr/bin/kubectl exec --stdin --tty $POD_NAME  -c scray-peer-cli --  CORE_PEER_ADDRESS=\"peer0.kubernetes.research.dev.seeburger.de:32222\"\n",
    "#!/home/jovyan/work/usr/bin/kubectl exec --stdin --tty $POD_NAME  -c scray-peer-cli --  CORE_PEER_MSPCONFIGPATH=\"/mnt/conf/organizations/peerOrganizations/kubernetes.research.dev.seeburger.de/users/Admin@kubernetes.research.dev.seeburger.de/msp\"\n",
    "\n",
    "\n",
    "!/home/jovyan/work/usr/bin/kubectl exec --stdin --tty $POD_NAME  -c scray-peer-cli -- env | fgrep ORDERER_HOSTNAME"
   ]
  },
  {
   "cell_type": "code",
   "execution_count": null,
   "metadata": {},
   "outputs": [],
   "source": [
    "peername='maja2'\n",
    "setPeerEnvironment(peername)\n",
    "os.environ['ORDERER_HOSTNAME'] = 'orderer.example.com'\n",
    "#!/home/jovyan/work/usr/bin/kubectl exec --stdin --tty $POD_NAME  -c scray-peer-cli -- env | fgrep ORDERER\n",
    "#!/home/jovyan/work/usr/bin/kubectl exec --stdin --tty $POD_NAME  -c scray-peer-cli -- which export\n",
    "print(getPod(peername),getPort(peername=peername, name='peer-listen'))"
   ]
  },
  {
   "cell_type": "code",
   "execution_count": null,
   "metadata": {},
   "outputs": [],
   "source": [
    "export ORDERER_CA=/tmp/tlsca.example.com-cert.pem\n",
    "export ORDERER_HOSTNAME=\"orderer.example.com\"\n",
    "export CHANNEL_NAME=\"mychannel\"\n",
    "export CORE_PEER_ADDRESS=\"peer0.kubernetes.research.dev.seeburger.de:32190\"\n",
    "export CORE_PEER_MSPCONFIGPATH=\"/mnt/conf/organizations/peerOrganizations/kubernetes.research.dev.seeburger.de/users/Admin@kubernetes.research.dev.seeburger.de/msp\"\n",
    "export SHARED_FS_HOST=10.15.136.41:30080\n",
    "export SHARED_FS_USER=scray\n",
    "export SHARED_FS_PW=scray\n",
    "\n",
    "curl --user $SHARED_FS_USER:$SHARED_FS_PW http://$SHARED_FS_HOST/ca/tlsca.example.com-cert.pem > /tmp/tlsca.example.com-cert.pem\n",
    "curl --user scray:scray http://10.15.136.41:30080/upload/org3_update_in_envelope.pb -o ./org3_update_in_envelope.pb\n",
    "peer channel signconfigtx -f org3_update_in_envelope.pb\n",
    "curl --user scray:scray -T ./org3_update_in_envelope.pb http://10.15.136.41:30080/upload/org3_update_in_envelope.pb\n",
    "  "
   ]
  },
  {
   "cell_type": "code",
   "execution_count": null,
   "metadata": {},
   "outputs": [],
   "source": [
    "!ls -l ./*.pb\n",
    "\n",
    "#sign update\n",
    "#createEnvironmentForPeer(localmspid=mspid2, tlsrootcert=crt2, mspconfigpath=msp2, peeraddress=addr2)\n",
    "#setPeerEnvironment('carla1')\n",
    "setPeerEnvironment('tanja2')\n",
    "!/home/jovyan/work/usr/bin/kubectl exec --stdin --tty $POD_NAME  -c scray-peer-cli -- curl --user scray:scray http://10.15.136.41:30080/upload/org3_update_in_envelope.pb -o ./org3_update_in_envelope.pb\n",
    "!/home/jovyan/work/usr/bin/kubectl exec --stdin --tty $POD_NAME  -c scray-peer-cli -- peer channel signconfigtx -f org3_update_in_envelope.pb\n",
    "!/home/jovyan/work/usr/bin/kubectl exec --stdin --tty $POD_NAME  -c scray-peer-cli -- curl --user scray:scray -T ./org3_update_in_envelope.pb http://10.15.136.41:30080/upload/org3_update_in_envelope.pb\n",
    "  "
   ]
  },
  {
   "cell_type": "markdown",
   "metadata": {},
   "source": [
    "# Install and aprove chaincode"
   ]
  },
  {
   "cell_type": "code",
   "execution_count": null,
   "metadata": {},
   "outputs": [],
   "source": [
    "setPeerEnvironment('tanja2')\n",
    "installAndAproveChaincode()"
   ]
  },
  {
   "cell_type": "code",
   "execution_count": null,
   "metadata": {},
   "outputs": [],
   "source": [
    "#!/home/jovyan/work/usr/bin/kubectl exec --stdin --tty $POD_NAME -c scray-peer-cli -- lifecycle chaincode querycommitted --channelID mychannel --name basic --output json"
   ]
  },
  {
   "cell_type": "code",
   "execution_count": null,
   "metadata": {},
   "outputs": [],
   "source": [
    "#setPeerEnvironment('klaus')\n",
    "!echo  $POD_NAME $IP_CC_SERVICE $IP_OF_EXAMPLE_NETWORK\n",
    "\n",
    "# Host where the chaincode is running\n",
    "os.environ['IP_CC_SERVICE']='10.14.128.38'\n",
    "#Host where the example network is running\n",
    "os.environ['IP_OF_EXAMPLE_NETWORK']='10.15.128.97'\n",
    "!/home/jovyan/work/usr/bin/kubectl exec --stdin --tty $POD_NAME -c scray-peer-cli -- /bin/sh /mnt/conf/install_and_approve_cc.sh $IP_CC_SERVICE $IP_OF_EXAMPLE_NETWORK"
   ]
  },
  {
   "cell_type": "code",
   "execution_count": null,
   "metadata": {},
   "outputs": [],
   "source": [
    "#!ping orderer.example.com 7050\n",
    "!more /etc/hosts"
   ]
  },
  {
   "cell_type": "markdown",
   "metadata": {},
   "source": [
    "# ------------------------------------------------------------------------"
   ]
  },
  {
   "cell_type": "code",
   "execution_count": 137,
   "metadata": {},
   "outputs": [
    {
     "data": {
      "text/plain": [
       "2"
      ]
     },
     "execution_count": 137,
     "metadata": {},
     "output_type": "execute_result"
    }
   ],
   "source": [
    "#kubectl get pods -l k8s-app=kube-dns -o jsonpath={.items[*].spec.containers[*].name}\n",
    "#kubectl get pods hafen1-69947bff88-2pgxs -o json\n",
    "#cmd= ['get', 'pods', 'hafen1-69947bff88-2pgxs', '-o', 'jsonpath={.items[*].spec.containers[*].name}']\n",
    "cmd= ['get', 'pods', 'hafen1-69947bff88-2pgxs', '-o', 'json']\n",
    "#f:spec': {'f:containers': {'k:{\"name\":\"hafen1\"}\n",
    "len(json.loads(executeKubectlCmd(cmd).decode('ascii'))['spec']['containers'])"
   ]
  },
  {
   "cell_type": "markdown",
   "metadata": {},
   "source": [
    "# Shell only"
   ]
  },
  {
   "cell_type": "code",
   "execution_count": null,
   "metadata": {},
   "outputs": [],
   "source": [
    "#!echo $GOSSIP_PORT, $PEER_NAME\n",
    "getPort(peername=peername, name='peer-listen')"
   ]
  },
  {
   "cell_type": "code",
   "execution_count": null,
   "metadata": {},
   "outputs": [],
   "source": [
    "GOSSIP_PORT=$(kubectl get service $PEER_NAME -o jsonpath=\"{.spec.ports[?(@.name=='peer-gossip')].nodePort}\")\n",
    "PEER_LISTEN_PORT=$(kubectl get service $PEER_NAME -o jsonpath=\"{.spec.ports[?(@.name=='peer-listen')].nodePort}\")\n",
    "PEER_CHAINCODE_PORT=$(kubectl get service $PEER_NAME -o jsonpath=\"{.spec.ports[?(@.name=='peer-chaincode')].nodePort}\")\n"
   ]
  },
  {
   "cell_type": "code",
   "execution_count": null,
   "metadata": {},
   "outputs": [],
   "source": [
    "!echo $(/home/jovyan/work/usr/bin/kubectl get service $PEER_NAME -o jsonpath=\"{.spec.ports[?(@.name=='peer-gossip')].nodePort}\")\n",
    "!echo $(/home/jovyan/work/usr/bin/kubectl get service $PEER_NAME -o jsonpath=\"{.spec.ports[?(@.name=='peer-listen')].nodePort}\")\n",
    "!echo $(/home/jovyan/work/usr/bin/kubectl get service $PEER_NAME -o jsonpath=\"{.spec.ports[?(@.name=='peer-chaincode')].nodePort}\")"
   ]
  },
  {
   "cell_type": "code",
   "execution_count": null,
   "metadata": {},
   "outputs": [],
   "source": [
    "os.environ['GOSSIP_PORT'] = \"32068\"  \n",
    "os.environ['PEER_LISTEN_PORT'] = \"30251\"\n",
    "os.environ['PEER_CHAINCODE_PORT'] = \"30052\"\n",
    "!echo $GOSSIP_PORT\n",
    "#!echo $(/home/jovyan/work/usr/bin/kubectl get service $PEER_NAME -o jsonpath=\"{.spec.ports[?(@.name=='peer-gossip')].nodePort}\")"
   ]
  },
  {
   "cell_type": "code",
   "execution_count": null,
   "metadata": {},
   "outputs": [],
   "source": [
    "!/home/jovyan/work/usr/bin/kubectl create configmap hl-fabric-peer-$PEER_NAME \\\n",
    " --from-literal=hostname=kubernetes.research.dev.seeburger.de \\\n",
    " --from-literal=org_name=$PEER_NAME \\\n",
    " --from-literal=CORE_PEER_ADDRESS=kubernetes.research.dev.seeburger.de:$PEER_LISTEN_PORT \\\n",
    " --from-literal=CORE_PEER_GOSSIP_EXTERNALENDPOINT=kubernetes.research.dev.seeburger.de:$GOSSIP_PORT \\\n",
    " --from-literal=CORE_PEER_LOCALMSPID=${PEER_NAME}MSP"
   ]
  },
  {
   "cell_type": "code",
   "execution_count": null,
   "metadata": {},
   "outputs": [],
   "source": [
    "!/home/jovyan/work/usr/bin/kubectl apply -f /home/jovyan/scray/projects/invoice-hyperledger-fabric/containers/target/$PEER_NAME/k8s-peer.yaml"
   ]
  },
  {
   "cell_type": "code",
   "execution_count": null,
   "metadata": {},
   "outputs": [],
   "source": [
    "POD_NAME=$(/home/jovyan/work/usr/bin/kubectl  get pod -l app=peer0-org1-scray-org -o jsonpath=\"{.items[0].metadata.name}\")\n",
    "kubectl exec --stdin --tty $POD_NAME  -c scray-peer-cli -- /bin/sh /mnt/conf/peer_join.sh $ORDERER_IP  $ORDERER_HOSTNAME $CHANNEL_NAME"
   ]
  },
  {
   "cell_type": "code",
   "execution_count": null,
   "metadata": {},
   "outputs": [],
   "source": [
    "!echo $(/home/jovyan/work/usr/bin/kubectl  get pod -l app=$PEER_NAME -o jsonpath=\"{.items[0].metadata.name}\")\n"
   ]
  },
  {
   "cell_type": "code",
   "execution_count": null,
   "metadata": {},
   "outputs": [],
   "source": [
    "os.environ['POD_NAME'] = \"tom-6647c77bbb-hjlkc\"\n",
    "os.environ['ORDERER_IP'] = '10.15.128.97'\n",
    "os.environ['ORDERER_HOSTNAME'] = 'orderer.example.com'\n",
    "os.environ['CHANNEL_NAME'] = 'mychannel'\n",
    "\n",
    "!/home/jovyan/work/usr/bin/kubectl exec --stdin --tty $POD_NAME  -c scray-peer-cli -- /bin/sh /mnt/conf/peer_join.sh $ORDERER_IP  $ORDERER_HOSTNAME $CHANNEL_NAME"
   ]
  },
  {
   "cell_type": "markdown",
   "metadata": {},
   "source": [
    "# Delete old peer"
   ]
  },
  {
   "cell_type": "code",
   "execution_count": null,
   "metadata": {},
   "outputs": [],
   "source": [
    "!/home/jovyan/work/usr/bin/kubectl delete configmap hl-fabric-peer-klaus\n",
    "!/home/jovyan/work/usr/bin/kubectl delete -f /home/jovyan/scray/projects/invoice-hyperledger-fabric/containers/target/klaus/k8s-peer.yaml\n",
    "!/home/jovyan/work/usr/bin/kubectl delete service klaus"
   ]
  },
  {
   "cell_type": "code",
   "execution_count": null,
   "metadata": {},
   "outputs": [],
   "source": [
    "#deletePeer('carla1')\n",
    "deletePeer('ff')"
   ]
  },
  {
   "cell_type": "code",
   "execution_count": null,
   "metadata": {},
   "outputs": [],
   "source": [
    "!/home/jovyan/work/usr/bin/kubectl get configmap \n",
    "!/home/jovyan/work/usr/bin/kubectl get deployments \n",
    "#!/home/jovyan/work/usr/bin/kubectl get svc -o json\n",
    "!/home/jovyan/work/usr/bin/kubectl get svc"
   ]
  },
  {
   "cell_type": "markdown",
   "metadata": {},
   "source": [
    "# Create new peer and 'apply'"
   ]
  },
  {
   "cell_type": "code",
   "execution_count": null,
   "metadata": {},
   "outputs": [],
   "source": [
    "!/home/jovyan/work/usr/bin/kubectl create configmap hl-fabric-peer \\\n",
    " --from-literal=hostname=kubernetes.research.dev.seeburger.de \\\n",
    " --from-literal=org_name=OrgSally \\ \n",
    " --from-literal=CORE_PEER_ADDRESS=kubernetes.research.dev.seeburger.de:30003 \\\n",
    " --from-literal=CORE_PEER_GOSSIP_EXTERNALENDPOINT=kubernetes.research.dev.seeburger.de:30001 \\\n",
    " --from-literal=CORE_PEER_LOCALMSPID=OrgSallyMSP\n",
    "\n",
    "!/home/jovyan/work/usr/bin/kubectl apply -f https://raw.githubusercontent.com/scray/scray/feature/k8s-peer/projects/invoice-hyperledger-fabric/containers/k8s-peer.yaml        "
   ]
  },
  {
   "cell_type": "markdown",
   "metadata": {},
   "source": [
    "1. Der neue Peer wurde erzeugt. All relevant infos and cryptos for the application is uploaded to external sharepoint\n",
    "2. Now the application needs to be signed by other peers"
   ]
  },
  {
   "cell_type": "markdown",
   "metadata": {},
   "source": [
    "# Now the peer can join the network"
   ]
  },
  {
   "cell_type": "code",
   "execution_count": null,
   "metadata": {},
   "outputs": [],
   "source": [
    "import os\n",
    "import json\n",
    "import subprocess\n",
    "import pandas as pd\n",
    "\n",
    "!/home/jovyan/work/usr/bin/kubectl get pods\n",
    "os.environ['POD_NAME'] = 'peer0-org1-scray-org-5c4d69f556-snz5c'"
   ]
  },
  {
   "cell_type": "code",
   "execution_count": null,
   "metadata": {},
   "outputs": [],
   "source": [
    "#!/home/jovyan/work/usr/bin/kubectl get pods | fgrep peer0\n",
    "#!POD_NAME=$(/home/jovyan/work/usr/bin/kubectl get pod -l app=peer0-org1-scray-org | tail -n 1 | cut -d' ' -f1)\n",
    "os.environ['ORDERER_IP'] = '10.15.128.97'\n",
    "os.environ['ORDERER_HOSTNAME'] = 'orderer.example.com'\n",
    "os.environ['CHANNEL_NAME'] = 'mychannel'\n",
    "\n",
    "!echo $POD_NAME\n",
    "!/home/jovyan/work/usr/bin/kubectl exec --stdin --tty $POD_NAME -c scray-peer-cli -- /bin/sh /mnt/conf/peer_join.sh $ORDERER_IP $ORDERER_HOSTNAME $CHANNEL_NAME"
   ]
  },
  {
   "cell_type": "code",
   "execution_count": null,
   "metadata": {},
   "outputs": [],
   "source": [
    "#!/home/jovyan/work/usr/bin/kubectl exec --stdin --tty peer0-org1-scray-org-84ddc5757f-glbgn -c scray-peer-cli -- /bin/sh /mnt/conf/install_and_approve_cc.sh $IP_CC_SERVICE $IP_OF_EXAMPLE_NETWORK"
   ]
  },
  {
   "cell_type": "markdown",
   "metadata": {},
   "source": [
    "# Install and aprove chaincode"
   ]
  },
  {
   "cell_type": "code",
   "execution_count": null,
   "metadata": {},
   "outputs": [],
   "source": [
    "# Host where the chaincode is running\n",
    "os.environ['IP_CC_SERVICE']='10.14.128.38'\n",
    "#Host where the example network is running\n",
    "os.environ['IP_OF_EXAMPLE_NETWORK']='10.15.128.97'\n",
    "!/home/jovyan/work/usr/bin/kubectl exec --stdin --tty $POD_NAME -c scray-peer-cli -- /bin/sh /mnt/conf/install_and_approve_cc.sh $IP_CC_SERVICE $IP_OF_EXAMPLE_NETWORK"
   ]
  },
  {
   "cell_type": "markdown",
   "metadata": {},
   "source": [
    "# TMP"
   ]
  },
  {
   "cell_type": "code",
   "execution_count": null,
   "metadata": {},
   "outputs": [],
   "source": [
    "print(getPod(peername),getPort(peername=peername, name='peer-listen'))"
   ]
  },
  {
   "cell_type": "code",
   "execution_count": null,
   "metadata": {},
   "outputs": [],
   "source": [
    "export ORDERER_CA=\"/tmp/tlsca.example.com-cert.pem\"\n",
    "export ORDERER_HOSTNAME=\"orderer.example.com\"\n",
    "export CHANNEL_NAME=\"mychannel\"\n",
    "export CORE_PEER_ADDRESS=\"peer0.kubernetes.research.dev.seeburger.de:32190\"\n",
    "export CORE_PEER_MSPCONFIGPATH=\"/mnt/conf/organizations/peerOrganizations/kubernetes.research.dev.seeburger.de/users/Admin@kubernetes.research.dev.seeburger.de/msp\"\n",
    "\n",
    "peer lifecycle chaincode querycommitted --channelID mychannel --name basic --output json\n",
    "   "
   ]
  },
  {
   "cell_type": "code",
   "execution_count": null,
   "metadata": {},
   "outputs": [],
   "source": [
    "def readAsset(asset='asset1'):\n",
    "    callopt= '{\\\"function\\\":\\\"ReadAsset\\\",\\\"Args\\\":[' + '\\\"' + asset + '\\\"' + ']}'\n",
    "    try:    \n",
    "        callProcess  = subprocess.check_output(['/home/jovyan/work/usr/bin/kubectl exec --stdin --tty $POD_NAME -c scray-peer-cli -- peer', 'chaincode','query', '-C', 'mychannel', '-n', 'basic', '-c', callopt])\n",
    "        return json.loads(str(callProcess)[2:-3])\n",
    "    except Exception as e:\n",
    "        return str(e)\n",
    "    \n",
    "readAsset('asset1')    "
   ]
  },
  {
   "cell_type": "code",
   "execution_count": null,
   "metadata": {},
   "outputs": [],
   "source": [
    "!/home/jovyan/work/usr/bin/kubectl exec --stdin --tty $POD_NAME -c scray-peer-cli -- peer lifecycle chaincode querycommitted --channelID mychannel --name basic --output json"
   ]
  },
  {
   "cell_type": "code",
   "execution_count": null,
   "metadata": {},
   "outputs": [],
   "source": [
    "!/home/jovyan/work/usr/bin/kubectl exec --stdin --tty $POD_NAME -c scray-peer-cli -- peer"
   ]
  },
  {
   "cell_type": "code",
   "execution_count": null,
   "metadata": {},
   "outputs": [],
   "source": [
    "#pip install PyYAML\n",
    "import yaml"
   ]
  }
 ],
 "metadata": {
  "kernelspec": {
   "display_name": "Python 3",
   "language": "python",
   "name": "python3"
  },
  "language_info": {
   "codemirror_mode": {
    "name": "ipython",
    "version": 3
   },
   "file_extension": ".py",
   "mimetype": "text/x-python",
   "name": "python",
   "nbconvert_exporter": "python",
   "pygments_lexer": "ipython3",
   "version": "3.8.6"
  }
 },
 "nbformat": 4,
 "nbformat_minor": 4
}
