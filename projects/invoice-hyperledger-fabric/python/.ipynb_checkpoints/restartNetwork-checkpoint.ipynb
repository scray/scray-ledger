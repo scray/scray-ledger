{
 "cells": [
  {
   "cell_type": "code",
   "execution_count": 1,
   "metadata": {},
   "outputs": [
    {
     "ename": "SyntaxError",
     "evalue": "invalid syntax (<ipython-input-1-ab1ac52058eb>, line 1)",
     "output_type": "error",
     "traceback": [
      "\u001b[0;36m  File \u001b[0;32m\"<ipython-input-1-ab1ac52058eb>\"\u001b[0;36m, line \u001b[0;32m1\u001b[0m\n\u001b[0;31m    ./network.sh down\u001b[0m\n\u001b[0m    ^\u001b[0m\n\u001b[0;31mSyntaxError\u001b[0m\u001b[0;31m:\u001b[0m invalid syntax\n"
     ]
    }
   ],
   "source": [
    "./network.sh down\n",
    "./network.sh up\n",
    "./network.sh up createChannel\n",
    "./network.sh deployCC -ccn scray-invoice-example -ccl java -ccp /home/ubuntu/jupyter/scray/projects/invoice-hyperledger-fabric/chaincode/chaincode-java\n",
    "cd test-network/\n"
   ]
  },
  {
   "cell_type": "code",
   "execution_count": 9,
   "metadata": {},
   "outputs": [
    {
     "name": "stdout",
     "output_type": "stream",
     "text": [
      "advanced-network\t\t  ci\t\t       new-network\n",
      "asset-transfer-basic\t\t  CODE_OF_CONDUCT.md   off_chain_data\n",
      "asset-transfer-events\t\t  CODEOWNERS\t       README.md\n",
      "asset-transfer-ledger-queries\t  commercial-paper     scripts\n",
      "asset-transfer-private-data\t  config\t       SECURITY.md\n",
      "asset-transfer-sbe\t\t  CONTRIBUTING.md      test-application\n",
      "asset-transfer-secured-agreement  fabcar\t       test-network\n",
      "auction\t\t\t\t  high-throughput      token-account-based\n",
      "bin\t\t\t\t  interest_rate_swaps  token-utxo\n",
      "chaincode\t\t\t  LICENSE\n",
      "CHANGELOG.md\t\t\t  MAINTAINERS.md\n"
     ]
    }
   ],
   "source": [
    "!cd /home/jovyan/work/fabric-samples/test-network"
   ]
  }
 ],
 "metadata": {
  "kernelspec": {
   "display_name": "Python 3",
   "language": "python",
   "name": "python3"
  },
  "language_info": {
   "codemirror_mode": {
    "name": "ipython",
    "version": 3
   },
   "file_extension": ".py",
   "mimetype": "text/x-python",
   "name": "python",
   "nbconvert_exporter": "python",
   "pygments_lexer": "ipython3",
   "version": "3.8.6"
  }
 },
 "nbformat": 4,
 "nbformat_minor": 4
}
