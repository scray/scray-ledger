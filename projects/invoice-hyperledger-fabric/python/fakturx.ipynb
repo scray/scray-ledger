{
 "cells": [
  {
   "cell_type": "code",
   "execution_count": 5,
   "metadata": {},
   "outputs": [],
   "source": [
    "import pandas as pd\n",
    "pd.set_option('display.max_rows', 500)\n",
    "invoices = pd.read_parquet('/home/jovyan/work/invoices_facturx.parquet')"
   ]
  },
  {
   "cell_type": "code",
   "execution_count": 19,
   "metadata": {},
   "outputs": [],
   "source": [
    "import pandas as pd\n",
    "pd.set_option('display.max_rows', 500)\n",
    "#seexml = pd.read_parquet('/home/jovyan/work/data/seexml/parquet/20129c47-d70a-4e9b-b7f3-b541f03e1922_SEEINVOIC_I-335311388_O1835403871.parquet')\n",
    "seexml = pd.read_parquet('/home/jovyan/work/data/seexml/poc2/parquet/79cc713b-f3c2-4200-91f0-599e9f8c1ef5_SEEDELFOR_I-1049843335_O1835403871.parquet')"
   ]
  },
  {
   "cell_type": "code",
   "execution_count": 21,
   "metadata": {},
   "outputs": [
    {
     "data": {
      "text/plain": [
       "0    [{'ic': {'td': '20180712', 'tti': '173200', 's...\n",
       "1    [{'ic': {'td': '20180711', 'tti': '213100', 's...\n",
       "2    [{'ic': {'td': '20180712', 'tti': '013100', 's...\n",
       "3    [{'ic': {'td': '20180712', 'tti': '013100', 's...\n",
       "4    [{'ic': {'td': '20180713', 'tti': '153200', 's...\n",
       "Name: cnt, dtype: object"
      ]
     },
     "execution_count": 21,
     "metadata": {},
     "output_type": "execute_result"
    }
   ],
   "source": [
    "seexml.head()['cnt']"
   ]
  },
  {
   "cell_type": "code",
   "execution_count": null,
   "metadata": {},
   "outputs": [],
   "source": []
  },
  {
   "cell_type": "code",
   "execution_count": 6,
   "metadata": {},
   "outputs": [
    {
     "data": {
      "application/vnd.jupyter.widget-view+json": {
       "model_id": "c10ea33858ad4ee7b90811991b5b6837",
       "version_major": 2,
       "version_minor": 0
      },
      "text/plain": [
       "Text(value='4', description='invoice', layout=Layout(width='500px'), style=DescriptionStyle(description_width=…"
      ]
     },
     "metadata": {},
     "output_type": "display_data"
    },
    {
     "data": {
      "application/vnd.jupyter.widget-view+json": {
       "model_id": "3d39d1b530f2487e84ccc20fbb3b92ec",
       "version_major": 2,
       "version_minor": 0
      },
      "text/plain": [
       "Dropdown(description='FILTER', layout=Layout(width='500px'), options={'other (False)': 2, 'other (True)': 3, '…"
      ]
     },
     "metadata": {},
     "output_type": "display_data"
    },
    {
     "data": {
      "application/vnd.jupyter.widget-view+json": {
       "model_id": "33155f759ab34396b102c0133a83fa34",
       "version_major": 2,
       "version_minor": 0
      },
      "text/plain": [
       "Dropdown(description='FILTER', layout=Layout(width='500px'), options=('/includedSupplyChainTradeLineItem', '/a…"
      ]
     },
     "metadata": {},
     "output_type": "display_data"
    },
    {
     "data": {
      "application/vnd.jupyter.widget-view+json": {
       "model_id": "8cf43d540d1f4e2cbf660348095028c0",
       "version_major": 2,
       "version_minor": 0
      },
      "text/plain": [
       "Output()"
      ]
     },
     "metadata": {},
     "output_type": "display_data"
    }
   ],
   "source": [
    "import facturxWidget\n",
    "import ipywidgets as widgets\n",
    "from IPython.display import clear_output\n",
    "outs = widgets.Output()\n",
    "style = {'description_width': '250px'}\n",
    "layout = {'width': '500px'}\n",
    "\n",
    "def printPath(m,path,hideUnused=False):\n",
    "    __name__='printPath'\n",
    "    #print(__name__,hideUnused)\n",
    "    r = facturxWidget.getPathValue(m, path)\n",
    "    print(r)\n",
    "        \n",
    "def mytest(x):\n",
    "    with outs:\n",
    "        clear_output()\n",
    "        lookhere = mytestfilter.value\n",
    "        path = pathtext.value\n",
    "        #print(pathtext)\n",
    "        if lookhere==1:\n",
    "            facturxWidget.doit(m,path,hideUnused=False)\n",
    "        if lookhere==0:\n",
    "            #doit(m,path,hideUnused=True)\n",
    "            facturxWidget.printPath(m,path,hideUnused=False)  \n",
    "        if lookhere==2:\n",
    "            facturxWidget.addChilds(m,path,hideUnused=False)    \n",
    "        if lookhere==3:\n",
    "            #print(m['includedSupplyChainTradeLineItem'])\n",
    "            facturxWidget.addChilds(m,path,hideUnused=True)  \n",
    "             \n",
    "def handle_submit(text):\n",
    "    #print('ok')\n",
    "    #print(text.value)\n",
    "    global m\n",
    "    m=invoices.iloc[int(text.value)]\n",
    "    #print(m.get('includedSupplyChainTradeLineItem'))\n",
    "    #print(len(str(m)))\n",
    "    mytest(1)\n",
    "    return text.value\n",
    "    \n",
    "mytestfilter = widgets.Dropdown(options={ 'other (False)': 2, 'other (True)': 3 , 'print': 0}, description=\"FILTER\", style=style, layout=layout)\n",
    "#pathtext = widgets.Text(description = 'path',value = '/applicableHeaderTradeAgreement', style=style, layout={'width': '800px'})\n",
    "invoice = widgets.Text(description = 'invoice',value = '4', style=style, layout=layout)\n",
    "\n",
    "pathtext = widgets.Dropdown(options={'/includedSupplyChainTradeLineItem', '/applicableHeaderTradeAgreement', '/applicableHeaderTradeDelivery', '/applicableHeaderTradeSettlement'}, description=\"FILTER\", style=style, layout=layout)\n",
    "pathtext.observe(mytest, names='value')\n",
    "display(invoice,mytestfilter,pathtext)\n",
    "display(outs)\n",
    "mytestfilter.observe(mytest, names='value')\n",
    "invoice.on_submit(handle_submit)"
   ]
  },
  {
   "cell_type": "code",
   "execution_count": 18,
   "metadata": {},
   "outputs": [
    {
     "data": {
      "application/vnd.jupyter.widget-view+json": {
       "model_id": "19504d7c73254ff1b1fa3223c73d3cc2",
       "version_major": 2,
       "version_minor": 0
      },
      "text/plain": [
       "HTML(value='', description=' ', layout=Layout(width='500px'), style=DescriptionStyle(description_width='250px'…"
      ]
     },
     "metadata": {},
     "output_type": "display_data"
    },
    {
     "data": {
      "application/vnd.jupyter.widget-view+json": {
       "model_id": "99df407579d1468980c5a55804876dc7",
       "version_major": 2,
       "version_minor": 0
      },
      "text/plain": [
       "HTML(value='<b>applicableHeaderTradeAgreement</b>', description=' ', layout=Layout(width='500px'), style=Descr…"
      ]
     },
     "metadata": {},
     "output_type": "display_data"
    },
    {
     "data": {
      "application/vnd.jupyter.widget-view+json": {
       "model_id": "62a4037bc262402892064b17119fe1f2",
       "version_major": 2,
       "version_minor": 0
      },
      "text/plain": [
       "HTML(value='sellerTradeParty', description=' ', layout=Layout(width='500px'), style=DescriptionStyle(descripti…"
      ]
     },
     "metadata": {},
     "output_type": "display_data"
    },
    {
     "data": {
      "application/vnd.jupyter.widget-view+json": {
       "model_id": "cb7d8437c832473189f8b5bfb4840106",
       "version_major": 2,
       "version_minor": 0
      },
      "text/plain": [
       "Text(value='Au bon moulin', description='name', layout=Layout(width='500px'), style=DescriptionStyle(descripti…"
      ]
     },
     "metadata": {},
     "output_type": "display_data"
    },
    {
     "data": {
      "application/vnd.jupyter.widget-view+json": {
       "model_id": "664e20e0b461430b92afdc596ef49ec9",
       "version_major": 2,
       "version_minor": 0
      },
      "text/plain": [
       "HTML(value='<b>specifiedLegalOrganization</b>', description=' ', layout=Layout(width='500px'), style=Descripti…"
      ]
     },
     "metadata": {},
     "output_type": "display_data"
    },
    {
     "data": {
      "application/vnd.jupyter.widget-view+json": {
       "model_id": "6fd05dc812824480a5218c8a63da44ed",
       "version_major": 2,
       "version_minor": 0
      },
      "text/plain": [
       "Text(value='99999999800010', description='id', layout=Layout(width='500px'), style=DescriptionStyle(descriptio…"
      ]
     },
     "metadata": {},
     "output_type": "display_data"
    },
    {
     "data": {
      "application/vnd.jupyter.widget-view+json": {
       "model_id": "838da93b02d145e599a292c265fc3c65",
       "version_major": 2,
       "version_minor": 0
      },
      "text/plain": [
       "Text(value='0002', description='schemeID', layout=Layout(width='500px'), style=DescriptionStyle(description_wi…"
      ]
     },
     "metadata": {},
     "output_type": "display_data"
    },
    {
     "data": {
      "application/vnd.jupyter.widget-view+json": {
       "model_id": "0055bc80c9da4358a71c104cbd94a2dd",
       "version_major": 2,
       "version_minor": 0
      },
      "text/plain": [
       "HTML(value='<b>postalTradeAddress</b>', description=' ', layout=Layout(width='500px'), style=DescriptionStyle(…"
      ]
     },
     "metadata": {},
     "output_type": "display_data"
    },
    {
     "data": {
      "application/vnd.jupyter.widget-view+json": {
       "model_id": "1a48f84ec8a6469fb2deb030ac96bb0a",
       "version_major": 2,
       "version_minor": 0
      },
      "text/plain": [
       "Text(value='FR', description='countryID', layout=Layout(width='500px'), style=DescriptionStyle(description_wid…"
      ]
     },
     "metadata": {},
     "output_type": "display_data"
    },
    {
     "data": {
      "application/vnd.jupyter.widget-view+json": {
       "model_id": "f2dbfdf41df54cb49ff07e3894e784d8",
       "version_major": 2,
       "version_minor": 0
      },
      "text/plain": [
       "HTML(value='specifiedTaxRegistration', description=' ', layout=Layout(width='500px'), style=DescriptionStyle(d…"
      ]
     },
     "metadata": {},
     "output_type": "display_data"
    },
    {
     "data": {
      "application/vnd.jupyter.widget-view+json": {
       "model_id": "bbd9256eca3346dc96470360650506c1",
       "version_major": 2,
       "version_minor": 0
      },
      "text/plain": [
       "Text(value='FR11999999998', description='id', layout=Layout(width='500px'), style=DescriptionStyle(description…"
      ]
     },
     "metadata": {},
     "output_type": "display_data"
    },
    {
     "data": {
      "application/vnd.jupyter.widget-view+json": {
       "model_id": "4169c7d25a674203a6094b45f1728fee",
       "version_major": 2,
       "version_minor": 0
      },
      "text/plain": [
       "Text(value='VA', description='schemeID', layout=Layout(width='500px'), style=DescriptionStyle(description_widt…"
      ]
     },
     "metadata": {},
     "output_type": "display_data"
    },
    {
     "data": {
      "application/vnd.jupyter.widget-view+json": {
       "model_id": "e1fd4bd4a75a418aac85f1cc1ece3ba2",
       "version_major": 2,
       "version_minor": 0
      },
      "text/plain": [
       "HTML(value='buyerTradeParty', description=' ', layout=Layout(width='500px'), style=DescriptionStyle(descriptio…"
      ]
     },
     "metadata": {},
     "output_type": "display_data"
    },
    {
     "data": {
      "application/vnd.jupyter.widget-view+json": {
       "model_id": "5c56bd6dcdc2497496148e533b941ce2",
       "version_major": 2,
       "version_minor": 0
      },
      "text/plain": [
       "Text(value='Ma jolie boutique', description='name', layout=Layout(width='500px'), style=DescriptionStyle(descr…"
      ]
     },
     "metadata": {},
     "output_type": "display_data"
    },
    {
     "data": {
      "application/vnd.jupyter.widget-view+json": {
       "model_id": "ea653dfc05624c5bb5dc778853e32254",
       "version_major": 2,
       "version_minor": 0
      },
      "text/plain": [
       "HTML(value='<b>specifiedLegalOrganization</b>', description=' ', layout=Layout(width='500px'), style=Descripti…"
      ]
     },
     "metadata": {},
     "output_type": "display_data"
    },
    {
     "data": {
      "application/vnd.jupyter.widget-view+json": {
       "model_id": "f97bcc33995147e3bd6ffe5dc87e50c7",
       "version_major": 2,
       "version_minor": 0
      },
      "text/plain": [
       "Text(value='78787878400035', description='id', layout=Layout(width='500px'), style=DescriptionStyle(descriptio…"
      ]
     },
     "metadata": {},
     "output_type": "display_data"
    },
    {
     "data": {
      "application/vnd.jupyter.widget-view+json": {
       "model_id": "ddbbc8a71d7346adafcf3228e1ec1a3f",
       "version_major": 2,
       "version_minor": 0
      },
      "text/plain": [
       "Text(value='0002', description='schemeID', layout=Layout(width='500px'), style=DescriptionStyle(description_wi…"
      ]
     },
     "metadata": {},
     "output_type": "display_data"
    },
    {
     "data": {
      "application/vnd.jupyter.widget-view+json": {
       "model_id": "44e1bc49e58b4b4f88589f1396bb6af8",
       "version_major": 2,
       "version_minor": 0
      },
      "text/plain": [
       "HTML(value='<b>postalTradeAddress</b>', description=' ', layout=Layout(width='500px'), style=DescriptionStyle(…"
      ]
     },
     "metadata": {},
     "output_type": "display_data"
    },
    {
     "data": {
      "application/vnd.jupyter.widget-view+json": {
       "model_id": "eb2a357bf69e4baebd9e576ed05b3b6d",
       "version_major": 2,
       "version_minor": 0
      },
      "text/plain": [
       "Text(value='FR', description='countryID', layout=Layout(width='500px'), style=DescriptionStyle(description_wid…"
      ]
     },
     "metadata": {},
     "output_type": "display_data"
    },
    {
     "data": {
      "application/vnd.jupyter.widget-view+json": {
       "model_id": "e140a0eec1a24cdcbfb72f049740e276",
       "version_major": 2,
       "version_minor": 0
      },
      "text/plain": [
       "HTML(value='specifiedTaxRegistration', description=' ', layout=Layout(width='500px'), style=DescriptionStyle(d…"
      ]
     },
     "metadata": {},
     "output_type": "display_data"
    },
    {
     "data": {
      "application/vnd.jupyter.widget-view+json": {
       "model_id": "d9f6b5d14b8a437194800bbf0771ad2e",
       "version_major": 2,
       "version_minor": 0
      },
      "text/plain": [
       "Text(value='FR19787878784', description='id', layout=Layout(width='500px'), style=DescriptionStyle(description…"
      ]
     },
     "metadata": {},
     "output_type": "display_data"
    },
    {
     "data": {
      "application/vnd.jupyter.widget-view+json": {
       "model_id": "b05c7200648d405c986e3140bd3a2607",
       "version_major": 2,
       "version_minor": 0
      },
      "text/plain": [
       "Text(value='VA', description='schemeID', layout=Layout(width='500px'), style=DescriptionStyle(description_widt…"
      ]
     },
     "metadata": {},
     "output_type": "display_data"
    },
    {
     "data": {
      "application/vnd.jupyter.widget-view+json": {
       "model_id": "ed4a16dacbfd4f3b861bc4707e84c0d7",
       "version_major": 2,
       "version_minor": 0
      },
      "text/plain": [
       "HTML(value='buyerOrderReferencedDocument', description=' ', layout=Layout(width='500px'), style=DescriptionSty…"
      ]
     },
     "metadata": {},
     "output_type": "display_data"
    },
    {
     "data": {
      "application/vnd.jupyter.widget-view+json": {
       "model_id": "5770aaed6a714d8bb6b1466b8f91e9c2",
       "version_major": 2,
       "version_minor": 0
      },
      "text/plain": [
       "Text(value='PO445', description='issuerAssignedID', layout=Layout(width='500px'), style=DescriptionStyle(descr…"
      ]
     },
     "metadata": {},
     "output_type": "display_data"
    },
    {
     "data": {
      "application/vnd.jupyter.widget-view+json": {
       "model_id": "15073a88fd45445d9b687d5b545d8c59",
       "version_major": 2,
       "version_minor": 0
      },
      "text/plain": [
       "HTML(value='<b>applicableHeaderTradeDelivery</b>', description=' ', layout=Layout(width='500px'), style=Descri…"
      ]
     },
     "metadata": {},
     "output_type": "display_data"
    },
    {
     "data": {
      "application/vnd.jupyter.widget-view+json": {
       "model_id": "5be6b46e921c4c0f8ffbdeb8e7944c89",
       "version_major": 2,
       "version_minor": 0
      },
      "text/plain": [
       "HTML(value='<b>applicableHeaderTradeSettlement</b>', description=' ', layout=Layout(width='500px'), style=Desc…"
      ]
     },
     "metadata": {},
     "output_type": "display_data"
    },
    {
     "data": {
      "application/vnd.jupyter.widget-view+json": {
       "model_id": "b45eea8a5cfe4e35800b7827a0287193",
       "version_major": 2,
       "version_minor": 0
      },
      "text/plain": [
       "Text(value='EUR', description='invoiceCurrencyCode', layout=Layout(width='500px'), style=DescriptionStyle(desc…"
      ]
     },
     "metadata": {},
     "output_type": "display_data"
    },
    {
     "data": {
      "application/vnd.jupyter.widget-view+json": {
       "model_id": "6ed30737db7d4570a8cfe563466b8e11",
       "version_major": 2,
       "version_minor": 0
      },
      "text/plain": [
       "HTML(value='specifiedTradeSettlementHeaderMonetarySummation', description=' ', layout=Layout(width='500px'), s…"
      ]
     },
     "metadata": {},
     "output_type": "display_data"
    },
    {
     "data": {
      "application/vnd.jupyter.widget-view+json": {
       "model_id": "41bd54a1114c4e6a9ead08d446299e00",
       "version_major": 2,
       "version_minor": 0
      },
      "text/plain": [
       "Text(value='-218.48', description='taxBasisTotalAmount', layout=Layout(width='500px'), style=DescriptionStyle(…"
      ]
     },
     "metadata": {},
     "output_type": "display_data"
    },
    {
     "data": {
      "application/vnd.jupyter.widget-view+json": {
       "model_id": "04a3a243d06b4876b38ba9c95969a99a",
       "version_major": 2,
       "version_minor": 0
      },
      "text/plain": [
       "Text(value='EUR', description='currencyID', layout=Layout(width='500px'), style=DescriptionStyle(description_w…"
      ]
     },
     "metadata": {},
     "output_type": "display_data"
    },
    {
     "data": {
      "application/vnd.jupyter.widget-view+json": {
       "model_id": "33eb468fcb7647cf8e72773ebe88bac2",
       "version_major": 2,
       "version_minor": 0
      },
      "text/plain": [
       "Text(value='-14.99', description='taxTotalAmount', layout=Layout(width='500px'), style=DescriptionStyle(descri…"
      ]
     },
     "metadata": {},
     "output_type": "display_data"
    },
    {
     "data": {
      "application/vnd.jupyter.widget-view+json": {
       "model_id": "37ce59a255bf4704819e1a26d4e11b15",
       "version_major": 2,
       "version_minor": 0
      },
      "text/plain": [
       "Text(value='EUR', description='currencyID', layout=Layout(width='500px'), style=DescriptionStyle(description_w…"
      ]
     },
     "metadata": {},
     "output_type": "display_data"
    },
    {
     "data": {
      "application/vnd.jupyter.widget-view+json": {
       "model_id": "83aa5bd3967e4b9da8e684d6670438f9",
       "version_major": 2,
       "version_minor": 0
      },
      "text/plain": [
       "Text(value='-233.47', description='grandTotalAmount', layout=Layout(width='500px'), style=DescriptionStyle(des…"
      ]
     },
     "metadata": {},
     "output_type": "display_data"
    },
    {
     "data": {
      "application/vnd.jupyter.widget-view+json": {
       "model_id": "950aa15c373e4870aa0fa7925cc02022",
       "version_major": 2,
       "version_minor": 0
      },
      "text/plain": [
       "Text(value='EUR', description='currencyID', layout=Layout(width='500px'), style=DescriptionStyle(description_w…"
      ]
     },
     "metadata": {},
     "output_type": "display_data"
    },
    {
     "data": {
      "application/vnd.jupyter.widget-view+json": {
       "model_id": "57402ce13bc64bde8385f7d4c4e1a998",
       "version_major": 2,
       "version_minor": 0
      },
      "text/plain": [
       "Text(value='-233.47', description='duePayableAmount', layout=Layout(width='500px'), style=DescriptionStyle(des…"
      ]
     },
     "metadata": {},
     "output_type": "display_data"
    },
    {
     "data": {
      "application/vnd.jupyter.widget-view+json": {
       "model_id": "4dc2aa9e700a4ecc92b31b7c043bb6e6",
       "version_major": 2,
       "version_minor": 0
      },
      "text/plain": [
       "Text(value='EUR', description='currencyID', layout=Layout(width='500px'), style=DescriptionStyle(description_w…"
      ]
     },
     "metadata": {},
     "output_type": "display_data"
    },
    {
     "data": {
      "application/vnd.jupyter.widget-view+json": {
       "model_id": "a8d8f825493d4f8d8c7f71be6f1254f3",
       "version_major": 2,
       "version_minor": 0
      },
      "text/plain": [
       "HTML(value='invoiceReferencedDocument', description=' ', layout=Layout(width='500px'), style=DescriptionStyle(…"
      ]
     },
     "metadata": {},
     "output_type": "display_data"
    },
    {
     "data": {
      "application/vnd.jupyter.widget-view+json": {
       "model_id": "44b7556cc8ec435992e8f8e5252792c5",
       "version_major": 2,
       "version_minor": 0
      },
      "text/plain": [
       "Text(value='FA-2017-0010', description='issuerAssignedID', layout=Layout(width='500px'), style=DescriptionStyl…"
      ]
     },
     "metadata": {},
     "output_type": "display_data"
    },
    {
     "data": {
      "application/vnd.jupyter.widget-view+json": {
       "model_id": "d321f4d81ef54e7dbe76b4d411eaa288",
       "version_major": 2,
       "version_minor": 0
      },
      "text/plain": [
       "HTML(value='<b>formattedIssueDateTime</b>', description=' ', layout=Layout(width='500px'), style=DescriptionSt…"
      ]
     },
     "metadata": {},
     "output_type": "display_data"
    },
    {
     "data": {
      "application/vnd.jupyter.widget-view+json": {
       "model_id": "93ec3d41b0c54817b4a56497a89994fa",
       "version_major": 2,
       "version_minor": 0
      },
      "text/plain": [
       "Text(value='20171113', description='dateTimeString', layout=Layout(width='500px'), style=DescriptionStyle(desc…"
      ]
     },
     "metadata": {},
     "output_type": "display_data"
    },
    {
     "data": {
      "application/vnd.jupyter.widget-view+json": {
       "model_id": "54832fb82c144dce808dd4de8e665067",
       "version_major": 2,
       "version_minor": 0
      },
      "text/plain": [
       "Text(value='102', description='format', layout=Layout(width='500px'), style=DescriptionStyle(description_width…"
      ]
     },
     "metadata": {},
     "output_type": "display_data"
    }
   ],
   "source": [
    "widget = facturxWidget.facturx_widgets(invoices.iloc[0], '/supplyChainTradeTransaction',hideUnused=True) "
   ]
  },
  {
   "cell_type": "code",
   "execution_count": 19,
   "metadata": {},
   "outputs": [
    {
     "data": {
      "text/plain": [
       "Index(['exchangedDocumentContext', 'exchangedDocument',\n",
       "       'supplyChainTradeTransaction'],\n",
       "      dtype='object')"
      ]
     },
     "execution_count": 19,
     "metadata": {},
     "output_type": "execute_result"
    }
   ],
   "source": [
    "invoices.iloc[0].keys()"
   ]
  }
 ],
 "metadata": {
  "kernelspec": {
   "display_name": "Python 3",
   "language": "python",
   "name": "python3"
  },
  "language_info": {
   "codemirror_mode": {
    "name": "ipython",
    "version": 3
   },
   "file_extension": ".py",
   "mimetype": "text/x-python",
   "name": "python",
   "nbconvert_exporter": "python",
   "pygments_lexer": "ipython3",
   "version": "3.8.6"
  }
 },
 "nbformat": 4,
 "nbformat_minor": 4
}
