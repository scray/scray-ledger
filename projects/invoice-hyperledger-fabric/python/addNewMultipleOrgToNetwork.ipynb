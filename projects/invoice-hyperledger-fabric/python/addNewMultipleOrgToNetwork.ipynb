{
 "cells": [
  {
   "cell_type": "markdown",
   "metadata": {},
   "source": [
    "# Current Blockchain ( 2nodes )"
   ]
  },
  {
   "cell_type": "code",
   "execution_count": null,
   "metadata": {},
   "outputs": [],
   "source": [
    "!rm -f /tmp/*.json\n",
    "!rm -f /tmp/*.pb"
   ]
  },
  {
   "cell_type": "code",
   "execution_count": 71,
   "metadata": {},
   "outputs": [
    {
     "name": "stdout",
     "output_type": "stream",
     "text": [
      "{\n",
      "\t\"sequence\": 1,\n",
      "\t\"version\": \"1.0\",\n",
      "\t\"endorsement_plugin\": \"escc\",\n",
      "\t\"validation_plugin\": \"vscc\",\n",
      "\t\"validation_parameter\": \"EiAvQ2hhbm5lbC9BcHBsaWNhdGlvbi9FbmRvcnNlbWVudA==\",\n",
      "\t\"collections\": {},\n",
      "\t\"approvals\": {\n",
      "\t\t\"Org1MSP\": true,\n",
      "\t\t\"Org2MSP\": true,\n",
      "\t\t\"carla1MSP\": false,\n",
      "\t\t\"henry2MSP\": false\n",
      "\t}\n",
      "}\n"
     ]
    }
   ],
   "source": [
    "!peer lifecycle chaincode querycommitted --channelID mychannel --name scray-invoice-example --output json"
   ]
  },
  {
   "cell_type": "markdown",
   "metadata": {},
   "source": [
    "# init peer access (certificates,...)"
   ]
  },
  {
   "cell_type": "code",
   "execution_count": 78,
   "metadata": {},
   "outputs": [],
   "source": [
    "import os\n",
    "import json\n",
    "import subprocess\n",
    "import pandas as pd\n",
    " \n",
    "pwd0 = \"/home/jovyan/work/fabric-samples/\"\n",
    "pwd = \"/home/jovyan/work/fabric-samples/test-network\"\n",
    "\n",
    "os.environ['PATH'] = \"/home/jovyan/work/fabric-samples/bin:\" + str(os.environ.get('PATH')) \n",
    "os.environ['CORE_PEER_TLS_ENABLED'] = \"true\"\n",
    "os.environ['CORE_PEER_LOCALMSPID'] = \"Org1MSP\"\n",
    "os.environ['CORE_PEER_TLS_ROOTCERT_FILE'] = pwd + \"/organizations/peerOrganizations/org1.example.com/peers/peer0.org1.example.com/tls/ca.crt\"\n",
    "os.environ['CORE_PEER_MSPCONFIGPATH'] = pwd + \"/organizations/peerOrganizations/org1.example.com/users/Admin@org1.example.com/msp\"\n",
    "os.environ['CORE_PEER_ADDRESS'] = \"peer0.org1.example.com:7051\"\n",
    "os.environ['FABRIC_CFG_PATH'] = pwd0 + \"/config/\"\n",
    "\n",
    "addr0      = 'peer0.org1.example.com:7050'\n",
    "orderer    = 'orderer.example.com'\n",
    "ordererpem = pwd + '/organizations/ordererOrganizations/example.com/orderers/orderer.example.com/msp/tlscacerts/tlsca.example.com-cert.pem'\n",
    "\n",
    "addr1  = 'peer0.org1.example.com:7051'\n",
    "crt1   = pwd + '/organizations/peerOrganizations/org1.example.com/peers/peer0.org1.example.com/tls/ca.crt'\n",
    "msp1   = pwd + '/organizations/peerOrganizations/org1.example.com/users/Admin@org1.example.com/msp'\n",
    "mspid1 = \"Org1MSP\"\n",
    "\n",
    "addr2  = 'peer0.org2.example.com:9051'\n",
    "crt2   = pwd + '/organizations/peerOrganizations/org2.example.com/peers/peer0.org2.example.com/tls/ca.crt' \n",
    "msp2   = pwd + '/organizations/peerOrganizations/org2.example.com/users/Admin@org2.example.com/msp'\n",
    "mspid2 = \"Org2MSP\"\n",
    "\n",
    "def createEnvironmentForPeer(localmspid=mspid1, tlsrootcert=crt1, mspconfigpath=msp1, peeraddress=addr1):\n",
    "    os.environ['CORE_PEER_LOCALMSPID']        = localmspid\n",
    "    os.environ['CORE_PEER_TLS_ROOTCERT_FILE'] = tlsrootcert\n",
    "    os.environ['CORE_PEER_MSPCONFIGPATH']     = mspconfigpath\n",
    "    os.environ['CORE_PEER_ADDRESS']           = peeraddress\n",
    "    \n",
    "def createEnvironment(orgname): \n",
    "    os.environ['ORDERER_IP']=\"10.15.128.97\"\n",
    "    os.environ['ORDERER_HOSTNAME']=\"orderer.example.com\" \n",
    "    os.environ['CHANNEL_NAME']=\"mychannel\"\n",
    "    os.environ['ORG_ID']=orgname\n",
    "    os.environ['CORE_PEER_LOCALMSPID']=\"Org1MSP\"\n",
    "    os.environ['CORE_PEER_TLS_ROOTCERT_FILE']=crt1\n",
    "    os.environ['CORE_PEER_MSPCONFIGPATH']=msp1\n",
    "    os.environ['ORDERER_CA']=ordererpem\n",
    "    os.environ['CORE_PEER_ADDRESS'] = \"peer0.org1.example.com:7051\"\n",
    "    \n",
    "def inform_existing_nodes():\n",
    "    !/home/jovyan/work/scray/projects/invoice-hyperledger-fabric/scripts/inform_existing_nodes_local.sh $ORDERER_IP $CHANNEL_NAME $ORG_ID \"/home/jovyan/work/fabric-samples/test-network\" \n",
    "    \n",
    "def example_network_install_and_approve_cc():     \n",
    "    !/home/jovyan/work/scray/projects/invoice-hyperledger-fabric/scripts/example_network_install_and_approve_cc.sh 10.14.128.38 10.15.128.97 /home/jovyan/work/fabric-samples/test-network    \n",
    "    \n",
    "def example_network_commit_cc():    \n",
    "    os.environ['IP_CC_SERVICE']='10.14.128.38'\n",
    "    #Host where the example network is running\n",
    "    os.environ['IP_OF_EXAMPLE_NETWORK']='10.15.128.97'\n",
    "    !/home/jovyan/work/scray/projects/invoice-hyperledger-fabric/scripts/example_network_commit_cc.sh $IP_CC_SERVICE $IP_OF_EXAMPLE_NETWORK /home/jovyan/work/fabric-samples/test-network   \n",
    "    \n",
    "def getCurrentConfig():\n",
    "    !peer channel fetch config config_block.pb -o orderer.example.com:7050 -c $CHANNEL_NAME --tls --cafile $ORDERER_CA\n",
    "    !configtxlator proto_decode --input config_block.pb --type common.Block > config_block.json\n",
    "    "
   ]
  },
  {
   "cell_type": "code",
   "execution_count": 59,
   "metadata": {},
   "outputs": [],
   "source": [
    "def getCrt(org='',domain='kubernetes.research.dev.seeburger.de',host='10.15.136.41:30080',user='scray', pwd='scray',channel='mychannel'):\n",
    "    try:    \n",
    "        output = subprocess.check_output(['curl', '--user',user + ':' + pwd, \n",
    "                                               'http://' + host + '/ca/' + channel + '/' + org + '-' + domain + '-ca.crt'])\n",
    "        #return str(callProcess)[3:-3]\n",
    "        return output.decode('ascii')\n",
    "    except Exception as e:\n",
    "        return str(e)    \n",
    "\n",
    "def getCrtToLocal(org='',topath='/tmp',domain='kubernetes.research.dev.seeburger.de',host='10.15.136.41:30080',user='scray', pwd='scray',channel='mychannel'):\n",
    "    try:    \n",
    "        output = subprocess.check_output(['curl', '--user',user + ':' + pwd, \n",
    "                                               'http://' + host + '/ca/' + channel + '/' + org + '-' + domain + '-ca.crt', '-o', '/tmp/new.crt'])\n",
    "        #return str(callProcess)[3:-3]\n",
    "        return output.decode('ascii')\n",
    "    except Exception as e:\n",
    "        return str(e)   \n",
    "\n",
    "def uploadFromLocal(host='10.15.136.41:30080',user='scray', pwd='scray',\n",
    "                    local_path='./', local_name='' ,remote_path='upload'):\n",
    "    try:    \n",
    "        output = subprocess.check_output(['curl', '--user',user + ':' + pwd, \n",
    "                                          '-T', local_path + '/' + local_name, \n",
    "                                          'http://' + host + '/' + remote_path + '/' + local_name])\n",
    "        return output.decode('ascii')\n",
    "    except Exception as e:\n",
    "        return str(e)   \n",
    "    \n",
    "def downloadToLocal(host='10.15.136.41:30080',user='scray', pwd='scray',\n",
    "                    local_path='./', local_name='' ,remote_path='upload'):  \n",
    "    try:    \n",
    "        output = subprocess.check_output(['curl', '--user',user + ':' + pwd, \n",
    "                                               'http://' + host + '/' + remote_path + '/' + local_name, '-o', local_path + '/' + local_name])\n",
    "        #return str(callProcess)[3:-3]\n",
    "        return output.decode('ascii')\n",
    "    except Exception as e:\n",
    "        return str(e)     "
   ]
  },
  {
   "cell_type": "code",
   "execution_count": 68,
   "metadata": {},
   "outputs": [
    {
     "name": "stdout",
     "output_type": "stream",
     "text": [
      "10.15.128.97 mychannel lara2\n",
      "\u001b[34m2020-12-22 19:58:33.884 UTC [channelCmd] InitCmdFactory -> INFO 001\u001b[0m Endorser and orderer connections initialized\n",
      "\u001b[34m2020-12-22 19:58:33.888 UTC [cli.common] readBlock -> INFO 002\u001b[0m Received block: 13\n",
      "\u001b[34m2020-12-22 19:58:33.889 UTC [channelCmd] fetch -> INFO 003\u001b[0m Retrieving last config block: 12\n",
      "\u001b[34m2020-12-22 19:58:33.892 UTC [cli.common] readBlock -> INFO 004\u001b[0m Received block: 12\n",
      "<!DOCTYPE HTML PUBLIC \"-//IETF//DTD HTML 2.0//EN\">\n",
      "<html><head>\n",
      "<title>301 Moved Permanently</title>\n",
      "</head><body>\n",
      "<h1>Moved Permanently</h1>\n",
      "<p>The document has moved <a href=\"http://10.15.136.41:30080/ca/\">here</a>.</p>\n",
      "</body></html>\n",
      "  % Total    % Received % Xferd  Average Speed   Time    Time     Time  Current\n",
      "                                 Dload  Upload   Total   Spent    Left  Speed\n",
      "100 11411  100 11411    0     0  2228k      0 --:--:-- --:--:-- --:--:-- 2228k\n",
      "\u001b[34m2020-12-22 19:58:34.295 UTC [channelCmd] InitCmdFactory -> INFO 001\u001b[0m Endorser and orderer connections initialized\n",
      "\u001b[34m2020-12-22 19:58:34.357 UTC [channelCmd] InitCmdFactory -> INFO 001\u001b[0m Endorser and orderer connections initialized\n",
      "Error: got unexpected status: BAD_REQUEST -- error applying config update to existing channel 'mychannel': error authorizing update: error validating DeltaSet: policy for [Group]  /Channel/Application not satisfied: implicit policy evaluation failed - 2 sub-policies were satisfied, but this policy requires 3 of the 'Admins' sub-policies to be satisfied\n"
     ]
    }
   ],
   "source": [
    "createEnvironment('lara2')\n",
    "!echo $ORDERER_IP $CHANNEL_NAME $ORG_ID\n",
    "\n",
    "inform_existing_nodes()"
   ]
  },
  {
   "cell_type": "code",
   "execution_count": 75,
   "metadata": {},
   "outputs": [
    {
     "name": "stdout",
     "output_type": "stream",
     "text": [
      "\u001b[34m2020-12-22 20:12:39.999 UTC [channelCmd] InitCmdFactory -> INFO 001\u001b[0m Endorser and orderer connections initialized\n",
      "\u001b[34m2020-12-22 20:12:40.765 UTC [channelCmd] InitCmdFactory -> INFO 001\u001b[0m Endorser and orderer connections initialized\n"
     ]
    }
   ],
   "source": [
    "createEnvironmentForPeer(localmspid=mspid1, tlsrootcert=crt1, mspconfigpath=msp1, peeraddress=addr1)\n",
    "!peer channel signconfigtx -f org3_update_in_envelope.pb\n",
    "\n",
    "createEnvironmentForPeer(localmspid=mspid2, tlsrootcert=crt2, mspconfigpath=msp2, peeraddress=addr2)\n",
    "!peer channel signconfigtx -f org3_update_in_envelope.pb"
   ]
  },
  {
   "cell_type": "code",
   "execution_count": 73,
   "metadata": {},
   "outputs": [],
   "source": [
    "!configtxlator proto_decode --type='common.Envelope' --input=org3_update_in_envelope.pb --output=a.json"
   ]
  },
  {
   "cell_type": "code",
   "execution_count": 70,
   "metadata": {},
   "outputs": [
    {
     "data": {
      "text/plain": [
       "''"
      ]
     },
     "execution_count": 70,
     "metadata": {},
     "output_type": "execute_result"
    }
   ],
   "source": [
    "os.environ['SHARED_FS_USER'] = \"scray\"\n",
    "os.environ['SHARED_FS_PW']   = \"scray\"\n",
    "os.environ['SHARED_FS_HOST'] = \"10.15.136.41:30080\"\n",
    "\n",
    "#!curl --user $SHARED_FS_USER:$SHARED_FS_PW -X MKCOL http://$SHARED_FS_HOST/upload/\n",
    " \n",
    "\n",
    "uploadFromLocal(local_path='./', local_name='org3_update_in_envelope.pb' ,remote_path='upload')"
   ]
  },
  {
   "cell_type": "code",
   "execution_count": 72,
   "metadata": {},
   "outputs": [
    {
     "data": {
      "text/plain": [
       "''"
      ]
     },
     "execution_count": 72,
     "metadata": {},
     "output_type": "execute_result"
    }
   ],
   "source": [
    "downloadToLocal(local_path='./', local_name='org3_update_in_envelope.pb' ,remote_path='upload')"
   ]
  },
  {
   "cell_type": "code",
   "execution_count": 65,
   "metadata": {},
   "outputs": [
    {
     "name": "stdout",
     "output_type": "stream",
     "text": [
      "./org3_update_in_envelope.pb\n"
     ]
    }
   ],
   "source": [
    "!ls ./org3_update_in_envelope.pb\n",
    "#!mv org3_update_in_envelope.pb org3_update_in_envelope1.pb"
   ]
  },
  {
   "cell_type": "code",
   "execution_count": null,
   "metadata": {},
   "outputs": [],
   "source": [
    "#curl --user $SHARED_FS_USER:$SHARED_FS_PW -X MKCOL http://$SHARED_FS_HOST/newmemberrequests/\n",
    "#curl --user $SHARED_FS_USER:$SHARED_FS_PW -X MKCOL http://$SHARED_FS_HOST/newmemberrequests/$CHANNEL_NAME\n",
    "#curl --user $SHARED_FS_USER:$SHARED_FS_PW -X DELETE http://$SHARED_FS_HOST/newmemberrequests/$CHANNEL_NAME/${ORG_NAME}.json\n",
    "#curl --user $SHARED_FS_USER:$SHARED_FS_PW -T organizations/peerOrganizations/$DOMAINE/${ORG_NAME}.json http://$SHARED_FS_HOST/newmemberrequests/$CHANNEL_NAME/${ORG_NAME}.json\n",
    "    \n",
    "# Upload CA\n",
    "#curl --user $SHARED_FS_USER:$SHARED_FS_PW -X MKCOL http://$SHARED_FS_HOST/ca\n",
    "#curl --user $SHARED_FS_USER:$SHARED_FS_PW -X MKCOL http://$SHARED_FS_HOST/ca/$CHANNEL_NAME\n",
    "#curl --user $SHARED_FS_USER:$SHARED_FS_PW -T organizations/peerOrganizations/$DOMAINE/users/User1@$DOMAINE/tls/ca.crt http://$SHARED_FS_HOST/ca/$CHANNEL_NAME/$DOMAINE-ca.crt\n"
   ]
  },
  {
   "cell_type": "code",
   "execution_count": 76,
   "metadata": {},
   "outputs": [
    {
     "name": "stdout",
     "output_type": "stream",
     "text": [
      "\u001b[34m2020-12-22 20:13:04.851 UTC [channelCmd] InitCmdFactory -> INFO 001\u001b[0m Endorser and orderer connections initialized\n",
      "Error: got unexpected status: BAD_REQUEST -- error applying config update to existing channel 'mychannel': error authorizing update: error validating DeltaSet: policy for [Group]  /Channel/Application not satisfied: implicit policy evaluation failed - 2 sub-policies were satisfied, but this policy requires 3 of the 'Admins' sub-policies to be satisfied\n"
     ]
    }
   ],
   "source": [
    "!peer channel update -f org3_update_in_envelope.pb -c $CHANNEL_NAME -o orderer.example.com:7050 --tls --cafile $ORDERER_CA\n"
   ]
  },
  {
   "cell_type": "code",
   "execution_count": 36,
   "metadata": {},
   "outputs": [
    {
     "name": "stdout",
     "output_type": "stream",
     "text": [
      "\n",
      "/tmp/new.crt\n"
     ]
    }
   ],
   "source": [
    "res = getCrtToLocal(org='lara2')\n",
    "#res = getCrt(org='lara2')\n",
    "print(res)\n",
    "!ls /tmp/*.crt\n"
   ]
  },
  {
   "cell_type": "code",
   "execution_count": null,
   "metadata": {},
   "outputs": [],
   "source": [
    "!/home/jovyan/work/scray/projects/invoice-hyperledger-fabric/scripts/example_network_install_and_approve_cc.sh 10.14.128.38 10.15.128.97 /home/jovyan/work/fabric-samples/test-network"
   ]
  },
  {
   "cell_type": "code",
   "execution_count": null,
   "metadata": {},
   "outputs": [],
   "source": [
    "peer lifecycle chaincode approveformyorg \n",
    "-o orderer.example.com:7050 \n",
    "--ordererTLSHostnameOverride orderer.example.com \n",
    "--tls  \n",
    "--cafile /tmp/tlsca.example.com-cert.pem \n",
    "--channelID $CHANNEL_ID \n",
    "--name basic \n",
    "--version 1.0 --package-id $PKGID --sequence 1"
   ]
  },
  {
   "cell_type": "code",
   "execution_count": null,
   "metadata": {},
   "outputs": [],
   "source": [
    "#print(getCrt(org='klaus'))\n",
    "\n",
    "def commit():\n",
    "    try:    \n",
    "        #crtnew = '\\\" + getCrt(org='klaus') + '\\\"\n",
    "        getCrt(org='klaus')\n",
    "        output = subprocess.check_output(['peer', 'lifecycle','chaincode','commit','-o',addr0,'--ordererTLSHostnameOverride',orderer,\n",
    "                                          '--tls','--cafile',ordererpem,'--channelID','mychannel','--name','basic',\n",
    "                                          '--peerAddresses',addr1, '--tlsRootCertFiles', crt1, \n",
    "                                          '--peerAddresses', addr2, '--tlsRootCertFiles', crt2, \n",
    "                                          '--peerAddresses', 'kubernetes.research.dev.seeburger.de:32590', '--tlsRootCertFiles', '/tmp/new.crt',\n",
    "                                          '--version', '1.0', '--sequence', '1','--tlsRootCertFiles'])\n",
    "        return output.decode('ascii')\n",
    "    except Exception as e:\n",
    "        return str(e)\n",
    "    \n",
    "commit()    "
   ]
  },
  {
   "cell_type": "code",
   "execution_count": null,
   "metadata": {},
   "outputs": [],
   "source": [
    "getCrt(org='klaus')\n",
    "!ls /tmp"
   ]
  },
  {
   "cell_type": "code",
   "execution_count": null,
   "metadata": {},
   "outputs": [],
   "source": [
    "os.environ['IP_CC_SERVICE']='10.14.128.38'\n",
    "#Host where the example network is running\n",
    "os.environ['IP_OF_EXAMPLE_NETWORK']='10.15.128.97'\n",
    "\n",
    "!/home/jovyan/work/scray/projects/invoice-hyperledger-fabric/scripts/example_network_commit_cc.sh $IP_CC_SERVICE $IP_OF_EXAMPLE_NETWORK /home/jovyan/work/fabric-samples/test-network"
   ]
  },
  {
   "cell_type": "code",
   "execution_count": null,
   "metadata": {},
   "outputs": [],
   "source": [
    "!cat /home/jovyan/work/scray/projects/invoice-hyperledger-fabric/scripts/example_network_commit_cc.sh"
   ]
  },
  {
   "cell_type": "markdown",
   "metadata": {},
   "source": [
    "# old"
   ]
  },
  {
   "cell_type": "code",
   "execution_count": null,
   "metadata": {},
   "outputs": [],
   "source": [
    "\n",
    "!peer channel fetch config /tmp/config_block.pb -o orderer.example.com:7050 -c $CHANNEL_NAME --tls --cafile $ORDERER_CA > /dev/null\n",
    "!configtxlator proto_decode --input /tmp/config_block.pb --type common.Block | jq .data.data[0].payload.data.config > /tmp/config.json   "
   ]
  },
  {
   "cell_type": "code",
   "execution_count": null,
   "metadata": {},
   "outputs": [],
   "source": [
    "# Upload CA cert\n",
    "os.environ['SHARED_FS_HOST']=\"10.15.136.41:30080\"\n",
    "os.environ['SHARED_FS_USER']=\"scray\"\n",
    "os.environ['SHARED_FS_PW']=\"scray\"\n",
    "#!apk add curl\n",
    "\n",
    "os.environ['NEW_ORG_NAME']=\"OrgSally\"\n",
    "\n",
    "!curl --user $SHARED_FS_USER:$SHARED_FS_PW -X MKCOL http://$SHARED_FS_HOST/ca\n",
    "!curl --user $SHARED_FS_USER:$SHARED_FS_PW -T /home/jovyan/work/fabric-samples/test-network/organizations/ordererOrganizations/example.com/orderers/orderer.example.com/msp/tlscacerts/tlsca.example.com-cert.pem http://$SHARED_FS_HOST/ca/tlsca.example.com-cert.pem\n",
    "\n",
    "# Get configuration of new peer\n",
    "#curl --user 'scray:scray' http://${SHARED_FS_HOST}/newmemberrequests/$CHANNEL_NAME/${NEW_ORG_NAME}.json > new_member_org.json\n",
    "!curl --user $SHARED_FS_USER:$SHARED_FS_PW  http://${SHARED_FS_HOST}/newmemberrequests/$CHANNEL_NAME/${NEW_ORG_NAME}.json > /tmp/new_member_org.json \n",
    "        \n",
    "# Add org3 data to existing config\n",
    "!jq -s \".[0] \"*\" {\\\"channel_group\\\":{\\\"groups\\\":{\\\"Application\\\":{\\\"groups\\\": {\\\"${NEW_ORG_NAME}MSP\\\":.[1]}}}}}\" /tmp/config.json /tmp/new_member_org.json > /tmp/modified_config.json\n",
    "\n",
    "!configtxlator proto_encode --input /tmp/config.json --type common.Config --output /tmp/config.pb\n",
    "!configtxlator proto_encode --input /tmp/modified_config.json --type common.Config --output /tmp/modified_config.pb\n",
    "!configtxlator compute_update --channel_id $CHANNEL_NAME --original /tmp/config.pb --updated /tmp/modified_config.pb --output /tmp/org3_update.pb\n",
    "!configtxlator proto_decode --input /tmp/org3_update.pb --type common.ConfigUpdate | jq . > /tmp/org3_update.json\n",
    "!echo '{\"payload\":{\"header\":{\"channel_header\":{\"channel_id\":\"'$CHANNEL_NAME'\", \"type\":2}},\"data\":{\"config_update\":'$(cat /tmp/org3_update.json)'}}}' | jq . > /tmp/org3_update_in_envelope.json\n",
    "!configtxlator proto_encode --input /tmp/org3_update_in_envelope.json --type common.Envelope --output /tmp/org3_update_in_envelope.pb        "
   ]
  },
  {
   "cell_type": "markdown",
   "metadata": {},
   "source": [
    "sign and update"
   ]
  },
  {
   "cell_type": "code",
   "execution_count": null,
   "metadata": {},
   "outputs": [],
   "source": [
    "!peer channel signconfigtx -f /tmp/org3_update_in_envelope.pb\n",
    "\n",
    "os.environ['CORE_PEER_LOCALMSPID']=\"Org2MSP\"\n",
    "os.environ['CORE_PEER_TLS_ROOTCERT_FILE']=crt2\n",
    "os.environ['CORE_PEER_MSPCONFIGPATH']=msp2\n",
    "os.environ['ORDERER_CA']=ordererpem\n",
    "os.environ['CORE_PEER_ADDRESS'] = addr2\n",
    "\n",
    "!peer channel update -f /tmp/org3_update_in_envelope.pb -c $CHANNEL_NAME -o orderer.example.com:7050 --tls --cafile $ORDERER_CA"
   ]
  },
  {
   "cell_type": "markdown",
   "metadata": {},
   "source": [
    "# network_install_and_approve_cc (3 nodes)"
   ]
  },
  {
   "cell_type": "code",
   "execution_count": 3,
   "metadata": {},
   "outputs": [
    {
     "name": "stdout",
     "output_type": "stream",
     "text": [
      "  % Total    % Received % Xferd  Average Speed   Time    Time     Time  Current\n",
      "                                 Dload  Upload   Total   Spent    Left  Speed\n",
      "100   450  100   450    0     0   3169      0 --:--:-- --:--:-- --:--:--  3146\n",
      "\u001b[34m2020-12-17 16:08:09.338 UTC [cli.lifecycle.chaincode] submitInstallProposal -> INFO 001\u001b[0m Installed remotely: response:<status:200 payload:\"\\nJbasic_1.0:5a294a12a1a89cd4eed3d4234fbc79f42eab2ac20cd176bc8ebbc07c597cd0ee\\022\\tbasic_1.0\" > \n",
      "\u001b[34m2020-12-17 16:08:09.338 UTC [cli.lifecycle.chaincode] submitInstallProposal -> INFO 002\u001b[0m Chaincode code package identifier: basic_1.0:5a294a12a1a89cd4eed3d4234fbc79f42eab2ac20cd176bc8ebbc07c597cd0ee\n",
      "\u001b[34m2020-12-17 16:08:09.434 UTC [cli.lifecycle.chaincode] submitInstallProposal -> INFO 001\u001b[0m Installed remotely: response:<status:200 payload:\"\\nJbasic_1.0:5a294a12a1a89cd4eed3d4234fbc79f42eab2ac20cd176bc8ebbc07c597cd0ee\\022\\tbasic_1.0\" > \n",
      "\u001b[34m2020-12-17 16:08:09.434 UTC [cli.lifecycle.chaincode] submitInstallProposal -> INFO 002\u001b[0m Chaincode code package identifier: basic_1.0:5a294a12a1a89cd4eed3d4234fbc79f42eab2ac20cd176bc8ebbc07c597cd0ee\n",
      "\u001b[34m2020-12-17 16:08:11.624 UTC [chaincodeCmd] ClientWait -> INFO 001\u001b[0m txid [c299877550edb640a84e2cc2c4540c66a4785bb261205b8e6db15d5be53ed727] committed with status (VALID) at peer0.org2.example.com:9051\n",
      "\u001b[34m2020-12-17 16:08:13.816 UTC [chaincodeCmd] ClientWait -> INFO 001\u001b[0m txid [3a2660c23d594393e4d522420442e6d9f4f4de233191d61168115e2ee6c7179c] committed with status (VALID) at peer0.org1.example.com:7051\n"
     ]
    }
   ],
   "source": [
    "#!pwd\n",
    "#!ls /home/jovyan/work/scray/projects/invoice-hyperledger-fabric/scripts/example_network_install_and_approve_cc.sh\n",
    "!cd /tmp\n",
    "!/home/jovyan/work/scray/projects/invoice-hyperledger-fabric/scripts/example_network_install_and_approve_cc.sh 10.14.128.38 10.15.128.97 /home/jovyan/work/fabric-samples/test-network"
   ]
  },
  {
   "cell_type": "markdown",
   "metadata": {},
   "source": [
    "# commit"
   ]
  },
  {
   "cell_type": "code",
   "execution_count": 4,
   "metadata": {},
   "outputs": [
    {
     "name": "stdout",
     "output_type": "stream",
     "text": [
      "\u001b[34m2020-12-17 16:08:45.822 UTC [chaincodeCmd] ClientWait -> INFO 001\u001b[0m txid [9ab117ef7b218b6e80067333d9bcdee9ebf333057df4f8b766565e563c49eb99] committed with status (VALID) at peer0.org2.example.com:9051\n",
      "\u001b[34m2020-12-17 16:08:45.827 UTC [chaincodeCmd] ClientWait -> INFO 002\u001b[0m txid [9ab117ef7b218b6e80067333d9bcdee9ebf333057df4f8b766565e563c49eb99] committed with status (VALID) at peer0.org1.example.com:7051\n",
      "\u001b[34m2020-12-17 16:08:45.941 UTC [chaincodeCmd] chaincodeInvokeOrQuery -> INFO 001\u001b[0m Chaincode invoke successful. result: status:200 \n"
     ]
    }
   ],
   "source": [
    "os.environ['IP_CC_SERVICE']='10.14.128.38'\n",
    "#Host where the example network is running\n",
    "os.environ['IP_OF_EXAMPLE_NETWORK']='10.15.128.97'\n",
    "\n",
    "!/home/jovyan/work/scray/projects/invoice-hyperledger-fabric/scripts/example_network_commit_cc.sh $IP_CC_SERVICE $IP_OF_EXAMPLE_NETWORK /home/jovyan/work/fabric-samples/test-network"
   ]
  },
  {
   "cell_type": "markdown",
   "metadata": {},
   "source": [
    "# check network (approved chaincode)"
   ]
  },
  {
   "cell_type": "code",
   "execution_count": 38,
   "metadata": {},
   "outputs": [
    {
     "name": "stdout",
     "output_type": "stream",
     "text": [
      "{\n",
      "\t\"sequence\": 1,\n",
      "\t\"version\": \"1.0\",\n",
      "\t\"endorsement_plugin\": \"escc\",\n",
      "\t\"validation_plugin\": \"vscc\",\n",
      "\t\"validation_parameter\": \"EiAvQ2hhbm5lbC9BcHBsaWNhdGlvbi9FbmRvcnNlbWVudA==\",\n",
      "\t\"collections\": {},\n",
      "\t\"approvals\": {\n",
      "\t\t\"Org1MSP\": true,\n",
      "\t\t\"Org2MSP\": true,\n",
      "\t\t\"carla1MSP\": true,\n",
      "\t\t\"henry2MSP\": true\n",
      "\t}\n",
      "}\n"
     ]
    }
   ],
   "source": [
    "!peer lifecycle chaincode querycommitted --channelID mychannel --name basic --output json\n",
    "\n",
    "#!peer lifecycle chaincode checkcommitreadiness --channelID mychannel --name basic --output json --version  1.0 --sequence 2\n",
    "\n",
    "#!peer lifecycle chaincode --channelID mychannel\n",
    "#!discover --configFile conf.yaml peers --channel mychannel  --server peer0.org1.example.com:7051\n",
    "\n",
    "#!discover --configFile config.json peers --channel mychannel  --server peer0.org1.example.com:7051"
   ]
  },
  {
   "cell_type": "code",
   "execution_count": 39,
   "metadata": {},
   "outputs": [
    {
     "name": "stdout",
     "output_type": "stream",
     "text": [
      "{\n",
      "\t\"sequence\": 1,\n",
      "\t\"version\": \"1.0\",\n",
      "\t\"endorsement_plugin\": \"escc\",\n",
      "\t\"validation_plugin\": \"vscc\",\n",
      "\t\"validation_parameter\": \"EiAvQ2hhbm5lbC9BcHBsaWNhdGlvbi9FbmRvcnNlbWVudA==\",\n",
      "\t\"collections\": {},\n",
      "\t\"approvals\": {\n",
      "\t\t\"Org1MSP\": true,\n",
      "\t\t\"Org2MSP\": true,\n",
      "\t\t\"carla1MSP\": false,\n",
      "\t\t\"henry2MSP\": false\n",
      "\t}\n",
      "}\n"
     ]
    }
   ],
   "source": [
    "!peer lifecycle chaincode querycommitted --channelID mychannel --name scray-invoice-example --output json"
   ]
  },
  {
   "cell_type": "code",
   "execution_count": 40,
   "metadata": {},
   "outputs": [
    {
     "name": "stdout",
     "output_type": "stream",
     "text": [
      "CORE_PEER_LOCALMSPID=Org2MSP\n",
      "CORE_PEER_MSPCONFIGPATH=/home/jovyan/work/fabric-samples/test-network/organizations/peerOrganizations/org2.example.com/users/Admin@org2.example.com/msp\n"
     ]
    }
   ],
   "source": [
    "!env | fgrep MSP"
   ]
  },
  {
   "cell_type": "markdown",
   "metadata": {},
   "source": [
    "# Test"
   ]
  },
  {
   "cell_type": "code",
   "execution_count": 14,
   "metadata": {},
   "outputs": [
    {
     "data": {
      "text/plain": [
       "{'ID': 'asset1',\n",
       " 'color': 'blue',\n",
       " 'size': 5,\n",
       " 'owner': 'Tomoko',\n",
       " 'appraisedValue': 300}"
      ]
     },
     "execution_count": 14,
     "metadata": {},
     "output_type": "execute_result"
    }
   ],
   "source": [
    "def readAsset(asset='asset1'):\n",
    "    callopt= '{\\\"function\\\":\\\"ReadAsset\\\",\\\"Args\\\":[' + '\\\"' + asset + '\\\"' + ']}'\n",
    "    try:    \n",
    "        callProcess  = subprocess.check_output(['peer', 'chaincode','query', '-C', 'mychannel', '-n', 'basic', '-c', callopt])\n",
    "        return json.loads(str(callProcess)[2:-3])\n",
    "    except Exception as e:\n",
    "        return str(e)\n",
    "    \n",
    "readAsset('asset1')    "
   ]
  },
  {
   "cell_type": "code",
   "execution_count": null,
   "metadata": {},
   "outputs": [],
   "source": [
    "readAsset('asset2')  "
   ]
  },
  {
   "cell_type": "code",
   "execution_count": null,
   "metadata": {},
   "outputs": [],
   "source": [
    "readAsset('asset4')  "
   ]
  },
  {
   "cell_type": "code",
   "execution_count": null,
   "metadata": {},
   "outputs": [],
   "source": [
    "!peer chaincode query -C mychannel -n basic -c '{\"function\":\"GetAllAssets\",\"Args\":[]}'"
   ]
  },
  {
   "cell_type": "markdown",
   "metadata": {},
   "source": [
    "# REST"
   ]
  },
  {
   "cell_type": "code",
   "execution_count": 77,
   "metadata": {},
   "outputs": [
    {
     "name": "stdout",
     "output_type": "stream",
     "text": [
      "\u001b[34m2020-12-22 20:28:01.781 UTC [channelCmd] InitCmdFactory -> INFO 001\u001b[0m Endorser and orderer connections initialized\n",
      "\u001b[34m2020-12-22 20:28:01.786 UTC [cli.common] readBlock -> INFO 002\u001b[0m Received block: 13\n",
      "\u001b[34m2020-12-22 20:28:01.786 UTC [channelCmd] fetch -> INFO 003\u001b[0m Retrieving last config block: 12\n",
      "\u001b[34m2020-12-22 20:28:01.790 UTC [cli.common] readBlock -> INFO 004\u001b[0m Received block: 12\n"
     ]
    }
   ],
   "source": [
    "!peer channel fetch config config_block.pb -o orderer.example.com:7050 -c $CHANNEL_NAME --tls --cafile $ORDERER_CA\n",
    "!configtxlator proto_decode --input config_block.pb --type common.Block > config_block.json\n",
    "    "
   ]
  },
  {
   "cell_type": "code",
   "execution_count": null,
   "metadata": {},
   "outputs": [],
   "source": [
    "!peer channel fetch config /tmp/config_block.pb -o orderer.example.com:7050 -c $CHANNEL_NAME --tls --cafile $ORDERER_CA > /dev/null  "
   ]
  },
  {
   "cell_type": "code",
   "execution_count": null,
   "metadata": {},
   "outputs": [],
   "source": [
    "#peer channel fetch config config_block.pb -o orderer.example.com:7050 -c $CHANNEL_NAME --tls --cafile $ORDERER_CA\n",
    "import sys    \n",
    "def channelFetch(channelName,ordererpem):\n",
    "    #rint(channelName,ordererpem)\n",
    "    try:    \n",
    "        output = subprocess.check_output(['peer', 'channel','fetch', 'config', 'config_block.pb', '-o', 'orderer.example.com:7050', '-c',channelName, '--tls', \n",
    "                                               '--cafile', ordererpem], stderr=subprocess.STDOUT, shell=True, timeout=3,universal_newlines=True)\n",
    "        #output = subprocess.check_output(['peer', 'channel','fetch', 'config', 'config_block.pb', '-o', 'orderer.example.com:7050', '-c',channelName, '--tls', 'cafile', ordererpem], stderr=subprocess.STDOUT, shell=True, timeout=3,universal_newlines=True)\n",
    "        #output = subprocess.check_output(['peer', 'channel','fetch','newest', 'config', '/tmp/config_block.pb', '-o', 'orderer.example.com:7050', '-c',channelName, '--tls', '--cafile', ordererpem], stderr=subprocess.STDOUT)\n",
    "        \n",
    "    #xcept Exception as e:\n",
    "    #   print('exception' + str(e))\n",
    "    #   return None\n",
    "    except subprocess.CalledProcessError as exc:\n",
    "        print(\"Status : FAIL\", exc.returncode, exc.output)\n",
    "    else:\n",
    "        print(\"Output: \\n{}\\n\".format(output))\n",
    "    \n",
    "#channelFetch('mychannel',ordererpem)    \n",
    "\n",
    "#!cd /home/jovyan/work/\n",
    "#rm -f config_block.pb\n",
    "channelFetch('mychannel',ordererpem)\n"
   ]
  },
  {
   "cell_type": "code",
   "execution_count": null,
   "metadata": {},
   "outputs": [],
   "source": []
  }
 ],
 "metadata": {
  "kernelspec": {
   "display_name": "Python 3",
   "language": "python",
   "name": "python3"
  },
  "language_info": {
   "codemirror_mode": {
    "name": "ipython",
    "version": 3
   },
   "file_extension": ".py",
   "mimetype": "text/x-python",
   "name": "python",
   "nbconvert_exporter": "python",
   "pygments_lexer": "ipython3",
   "version": "3.8.6"
  }
 },
 "nbformat": 4,
 "nbformat_minor": 4
}
