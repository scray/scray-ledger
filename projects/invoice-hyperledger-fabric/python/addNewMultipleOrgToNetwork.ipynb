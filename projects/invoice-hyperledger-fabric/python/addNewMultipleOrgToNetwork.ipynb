{
 "cells": [
  {
   "cell_type": "markdown",
   "metadata": {},
   "source": [
    "# Current Blockchain ( 2nodes )"
   ]
  },
  {
   "cell_type": "code",
   "execution_count": null,
   "metadata": {},
   "outputs": [],
   "source": [
    "!rm -f /tmp/*.json\n",
    "!rm -f /tmp/*.pb"
   ]
  },
  {
   "cell_type": "code",
   "execution_count": 109,
   "metadata": {},
   "outputs": [
    {
     "name": "stdout",
     "output_type": "stream",
     "text": [
      "{\n",
      "\t\"sequence\": 1,\n",
      "\t\"version\": \"1.0\",\n",
      "\t\"endorsement_plugin\": \"escc\",\n",
      "\t\"validation_plugin\": \"vscc\",\n",
      "\t\"validation_parameter\": \"EiAvQ2hhbm5lbC9BcHBsaWNhdGlvbi9FbmRvcnNlbWVudA==\",\n",
      "\t\"collections\": {},\n",
      "\t\"approvals\": {\n",
      "\t\t\"Org1MSP\": true,\n",
      "\t\t\"Org2MSP\": true,\n",
      "\t\t\"klaus3MSP\": false\n",
      "\t}\n",
      "}\n"
     ]
    }
   ],
   "source": [
    "!peer lifecycle chaincode querycommitted --channelID mychannel --name scray-invoice-example --output json"
   ]
  },
  {
   "cell_type": "markdown",
   "metadata": {},
   "source": [
    "# init peer access (certificates,...)"
   ]
  },
  {
   "cell_type": "code",
   "execution_count": 107,
   "metadata": {},
   "outputs": [],
   "source": [
    "import os\n",
    "import json\n",
    "import subprocess\n",
    "import pandas as pd\n",
    " \n",
    "pwd0 = \"/home/jovyan/work/fabric-samples/\"\n",
    "pwd = \"/home/jovyan/work/fabric-samples/test-network\"\n",
    "\n",
    "os.environ['PATH'] = \"/home/jovyan/work/fabric-samples/bin:\" + str(os.environ.get('PATH')) \n",
    "os.environ['CORE_PEER_TLS_ENABLED'] = \"true\"\n",
    "os.environ['CORE_PEER_LOCALMSPID'] = \"Org1MSP\"\n",
    "os.environ['CORE_PEER_TLS_ROOTCERT_FILE'] = pwd + \"/organizations/peerOrganizations/org1.example.com/peers/peer0.org1.example.com/tls/ca.crt\"\n",
    "os.environ['CORE_PEER_MSPCONFIGPATH'] = pwd + \"/organizations/peerOrganizations/org1.example.com/users/Admin@org1.example.com/msp\"\n",
    "os.environ['CORE_PEER_ADDRESS'] = \"peer0.org1.example.com:7051\"\n",
    "os.environ['FABRIC_CFG_PATH'] = pwd0 + \"/config/\"\n",
    "\n",
    "addr0 = 'peer0.org1.example.com:7050'\n",
    "orderer = 'orderer.example.com'\n",
    "ordererpem = pwd + '/organizations/ordererOrganizations/example.com/orderers/orderer.example.com/msp/tlscacerts/tlsca.example.com-cert.pem'\n",
    "addr1 = 'peer0.org1.example.com:7051'\n",
    "crt1 = pwd + '/organizations/peerOrganizations/org1.example.com/peers/peer0.org1.example.com/tls/ca.crt'\n",
    "addr2 = 'peer0.org2.example.com:9051'\n",
    "crt2 = pwd + '/organizations/peerOrganizations/org2.example.com/peers/peer0.org2.example.com/tls/ca.crt' \n",
    "msp1 = pwd + '/organizations/peerOrganizations/org1.example.com/users/Admin@org1.example.com/msp'\n",
    "msp2 = pwd + '/organizations/peerOrganizations/org2.example.com/users/Admin@org2.example.com/msp'\n",
    "\n",
    "def createEnvironment(orgname): \n",
    "    os.environ['ORDERER_IP']=\"10.15.128.97\"\n",
    "    os.environ['ORDERER_HOSTNAME']=\"orderer.example.com\" \n",
    "    os.environ['CHANNEL_NAME']=\"mychannel\"\n",
    "    os.environ['ORG_ID']=orgname\n",
    "    os.environ['CORE_PEER_LOCALMSPID']=\"Org1MSP\"\n",
    "    os.environ['CORE_PEER_TLS_ROOTCERT_FILE']=crt1\n",
    "    os.environ['CORE_PEER_MSPCONFIGPATH']=msp1\n",
    "    os.environ['ORDERER_CA']=ordererpem\n",
    "    os.environ['CORE_PEER_ADDRESS'] = \"peer0.org1.example.com:7051\""
   ]
  },
  {
   "cell_type": "code",
   "execution_count": 108,
   "metadata": {},
   "outputs": [
    {
     "name": "stdout",
     "output_type": "stream",
     "text": [
      "\u001b[34m2020-12-17 10:09:04.696 UTC [channelCmd] InitCmdFactory -> INFO 001\u001b[0m Endorser and orderer connections initialized\n",
      "\u001b[34m2020-12-17 10:09:04.701 UTC [cli.common] readBlock -> INFO 002\u001b[0m Received block: 5\n",
      "\u001b[34m2020-12-17 10:09:04.701 UTC [channelCmd] fetch -> INFO 003\u001b[0m Retrieving last config block: 2\n",
      "\u001b[34m2020-12-17 10:09:04.704 UTC [cli.common] readBlock -> INFO 004\u001b[0m Received block: 2\n",
      "<!DOCTYPE HTML PUBLIC \"-//IETF//DTD HTML 2.0//EN\">\n",
      "<html><head>\n",
      "<title>301 Moved Permanently</title>\n",
      "</head><body>\n",
      "<h1>Moved Permanently</h1>\n",
      "<p>The document has moved <a href=\"http://10.15.136.41:30080/ca/\">here</a>.</p>\n",
      "</body></html>\n",
      "  % Total    % Received % Xferd  Average Speed   Time    Time     Time  Current\n",
      "                                 Dload  Upload   Total   Spent    Left  Speed\n",
      "100 11419  100 11419    0     0  2787k      0 --:--:-- --:--:-- --:--:-- 2787k\n",
      "\u001b[34m2020-12-17 10:09:05.086 UTC [channelCmd] InitCmdFactory -> INFO 001\u001b[0m Endorser and orderer connections initialized\n",
      "\u001b[34m2020-12-17 10:09:05.150 UTC [channelCmd] InitCmdFactory -> INFO 001\u001b[0m Endorser and orderer connections initialized\n",
      "\u001b[34m2020-12-17 10:09:05.180 UTC [channelCmd] update -> INFO 002\u001b[0m Successfully submitted channel update\n"
     ]
    }
   ],
   "source": [
    "createEnvironment('klaus3')\n",
    "!/home/jovyan/work/scray/projects/invoice-hyperledger-fabric/scripts/inform_existing_nodes_local.sh $ORDERER_IP $CHANNEL_NAME $ORG_ID \"/home/jovyan/work/fabric-samples/test-network\" "
   ]
  },
  {
   "cell_type": "code",
   "execution_count": 15,
   "metadata": {},
   "outputs": [
    {
     "name": "stdout",
     "output_type": "stream",
     "text": [
      "/home/jovyan/work/scray/projects/invoice-hyperledger-fabric/python\n",
      "\u001b[34m2020-12-15 15:03:15.080 UTC [channelCmd] InitCmdFactory -> INFO 001\u001b[0m Endorser and orderer connections initialized\n",
      "\u001b[34m2020-12-15 15:03:15.088 UTC [cli.common] readBlock -> INFO 002\u001b[0m Received block: 6\n",
      "\u001b[34m2020-12-15 15:03:15.089 UTC [channelCmd] fetch -> INFO 003\u001b[0m Retrieving last config block: 6\n",
      "\u001b[34m2020-12-15 15:03:15.092 UTC [cli.common] readBlock -> INFO 004\u001b[0m Received block: 6\n",
      "<!DOCTYPE HTML PUBLIC \"-//IETF//DTD HTML 2.0//EN\">\n",
      "<html><head>\n",
      "<title>301 Moved Permanently</title>\n",
      "</head><body>\n",
      "<h1>Moved Permanently</h1>\n",
      "<p>The document has moved <a href=\"http://10.15.136.41:30080/ca/\">here</a>.</p>\n",
      "</body></html>\n",
      "  % Total    % Received % Xferd  Average Speed   Time    Time     Time  Current\n",
      "                                 Dload  Upload   Total   Spent    Left  Speed\n",
      "100   236  100   236    0     0  59000      0 --:--:-- --:--:-- --:--:-- 59000\n",
      "parse error: Invalid numeric literal at line 1043, column 10\n",
      "configtxlator: error: Error decoding: error decoding input: error unmarshaling intermediate JSON: EOF\n",
      "configtxlator: error: Error computing update: error computing config update: no channel group included for updated config\n",
      "\u001b[34m2020-12-15 15:03:15.474 UTC [channelCmd] InitCmdFactory -> INFO 001\u001b[0m Endorser and orderer connections initialized\n",
      "\u001b[34m2020-12-15 15:03:15.539 UTC [channelCmd] InitCmdFactory -> INFO 001\u001b[0m Endorser and orderer connections initialized\n",
      "Error: got unexpected status: BAD_REQUEST -- error applying config update to existing channel 'mychannel': error authorizing update: ConfigUpdate for channel '' but envelope for channel 'mychannel'\n"
     ]
    }
   ],
   "source": []
  },
  {
   "cell_type": "code",
   "execution_count": null,
   "metadata": {},
   "outputs": [],
   "source": [
    "#!more ./new_member_org.json\n",
    "\n"
   ]
  },
  {
   "cell_type": "code",
   "execution_count": 29,
   "metadata": {},
   "outputs": [
    {
     "name": "stdout",
     "output_type": "stream",
     "text": [
      "  % Total    % Received % Xferd  Average Speed   Time    Time     Time  Current\n",
      "                                 Dload  Upload   Total   Spent    Left  Speed\n",
      "100   450  100   450    0     0   1636      0 --:--:-- --:--:-- --:--:--  1636\n",
      "\u001b[34m2020-12-16 13:26:01.357 UTC [cli.lifecycle.chaincode] submitInstallProposal -> INFO 001\u001b[0m Installed remotely: response:<status:200 payload:\"\\nJbasic_1.0:5a294a12a1a89cd4eed3d4234fbc79f42eab2ac20cd176bc8ebbc07c597cd0ee\\022\\tbasic_1.0\" > \n",
      "\u001b[34m2020-12-16 13:26:01.357 UTC [cli.lifecycle.chaincode] submitInstallProposal -> INFO 002\u001b[0m Chaincode code package identifier: basic_1.0:5a294a12a1a89cd4eed3d4234fbc79f42eab2ac20cd176bc8ebbc07c597cd0ee\n",
      "\u001b[34m2020-12-16 13:26:01.460 UTC [cli.lifecycle.chaincode] submitInstallProposal -> INFO 001\u001b[0m Installed remotely: response:<status:200 payload:\"\\nJbasic_1.0:5a294a12a1a89cd4eed3d4234fbc79f42eab2ac20cd176bc8ebbc07c597cd0ee\\022\\tbasic_1.0\" > \n",
      "\u001b[34m2020-12-16 13:26:01.460 UTC [cli.lifecycle.chaincode] submitInstallProposal -> INFO 002\u001b[0m Chaincode code package identifier: basic_1.0:5a294a12a1a89cd4eed3d4234fbc79f42eab2ac20cd176bc8ebbc07c597cd0ee\n",
      "\u001b[34m2020-12-16 13:26:03.629 UTC [chaincodeCmd] ClientWait -> INFO 001\u001b[0m txid [0d4f29b68efb7b547c7cd870ed4137e700d0708446062242b4c455cff6e769e5] committed with status (VALID) at peer0.org2.example.com:9051\n",
      "\u001b[34m2020-12-16 13:26:05.817 UTC [chaincodeCmd] ClientWait -> INFO 001\u001b[0m txid [902e3ef06d4afdbd3c8efec679e5f8d7aa6c0b2c7f71185d68aeb01daf939c06] committed with status (VALID) at peer0.org1.example.com:7051\n"
     ]
    }
   ],
   "source": [
    "!/home/jovyan/work/scray/projects/invoice-hyperledger-fabric/scripts/example_network_install_and_approve_cc.sh 10.14.128.38 10.15.128.97 /home/jovyan/work/fabric-samples/test-network"
   ]
  },
  {
   "cell_type": "code",
   "execution_count": 91,
   "metadata": {},
   "outputs": [],
   "source": [
    "def getCrt(org='',domain='kubernetes.research.dev.seeburger.de',host='10.15.136.41:30080',user='scray', pwd='scray',channel='mychannel'):\n",
    "    try:    \n",
    "        output = subprocess.check_output(['curl', '--user',user + ':' + pwd, \n",
    "                                               'http://' + host + '/ca/' + channel + '/' + org + '-' + domain + '-ca.crt'])\n",
    "        #return str(callProcess)[3:-3]\n",
    "        return output.decode('ascii')\n",
    "    except Exception as e:\n",
    "        return str(e)\n",
    "\n",
    "def getCrt(org='',domain='kubernetes.research.dev.seeburger.de',host='10.15.136.41:30080',user='scray', pwd='scray',channel='mychannel'):\n",
    "    try:    \n",
    "        output = subprocess.check_output(['curl', '--user',user + ':' + pwd, \n",
    "                                               'http://' + host + '/ca/' + channel + '/' + org + '-' + domain + '-ca.crt', '> /tmp/new.crt'])\n",
    "        #return str(callProcess)[3:-3]\n",
    "        return output.decode('ascii')\n",
    "    except Exception as e:\n",
    "        return str(e)    \n",
    "    \n",
    "    \n",
    "#klaus-kubernetes.research.dev.seeburger.de-ca.crt    "
   ]
  },
  {
   "cell_type": "code",
   "execution_count": null,
   "metadata": {},
   "outputs": [],
   "source": [
    "peer lifecycle chaincode approveformyorg \n",
    "-o orderer.example.com:7050 \n",
    "--ordererTLSHostnameOverride orderer.example.com \n",
    "--tls  \n",
    "--cafile /tmp/tlsca.example.com-cert.pem \n",
    "--channelID $CHANNEL_ID \n",
    "--name basic \n",
    "--version 1.0 --package-id $PKGID --sequence 1"
   ]
  },
  {
   "cell_type": "code",
   "execution_count": 93,
   "metadata": {},
   "outputs": [
    {
     "data": {
      "text/plain": [
       "\"Command '['peer', 'lifecycle', 'chaincode', 'commit', '-o', 'peer0.org1.example.com:7050', '--ordererTLSHostnameOverride', 'orderer.example.com', '--tls', '--cafile', '/home/jovyan/work/fabric-samples/test-network/organizations/ordererOrganizations/example.com/orderers/orderer.example.com/msp/tlscacerts/tlsca.example.com-cert.pem', '--channelID', 'mychannel', '--name', 'basic', '--peerAddresses', 'peer0.org1.example.com:7051', '--tlsRootCertFiles', '/home/jovyan/work/fabric-samples/test-network/organizations/peerOrganizations/org1.example.com/peers/peer0.org1.example.com/tls/ca.crt', '--peerAddresses', 'peer0.org2.example.com:9051', '--tlsRootCertFiles', '/home/jovyan/work/fabric-samples/test-network/organizations/peerOrganizations/org2.example.com/peers/peer0.org2.example.com/tls/ca.crt', '--peerAddresses', 'kubernetes.research.dev.seeburger.de:32590', '--tlsRootCertFiles', '/tmp/new.crt', '--version', '1.0', '--sequence', '1', '--tlsRootCertFiles']' returned non-zero exit status 1.\""
      ]
     },
     "execution_count": 93,
     "metadata": {},
     "output_type": "execute_result"
    }
   ],
   "source": [
    "#print(getCrt(org='klaus'))\n",
    "\n",
    "def commit():\n",
    "    try:    \n",
    "        #crtnew = '\\\" + getCrt(org='klaus') + '\\\"\n",
    "        getCrt(org='klaus')\n",
    "        output = subprocess.check_output(['peer', 'lifecycle','chaincode','commit','-o',addr0,'--ordererTLSHostnameOverride',orderer,\n",
    "                                          '--tls','--cafile',ordererpem,'--channelID','mychannel','--name','basic',\n",
    "                                          '--peerAddresses',addr1, '--tlsRootCertFiles', crt1, \n",
    "                                          '--peerAddresses', addr2, '--tlsRootCertFiles', crt2, \n",
    "                                          '--peerAddresses', 'kubernetes.research.dev.seeburger.de:32590', '--tlsRootCertFiles', '/tmp/new.crt',\n",
    "                                          '--version', '1.0', '--sequence', '1','--tlsRootCertFiles'])\n",
    "        return output.decode('ascii')\n",
    "    except Exception as e:\n",
    "        return str(e)\n",
    "    \n",
    "commit()    "
   ]
  },
  {
   "cell_type": "code",
   "execution_count": 95,
   "metadata": {},
   "outputs": [
    {
     "name": "stdout",
     "output_type": "stream",
     "text": [
      "config.json\t   npm-1340-763f38f4  v8-compile-cache-1000\n",
      "core-js-banners    npm-1382-9afeabcc  yarn--1604853375593-0.12874406731735522\n",
      "hsperfdata_jovyan  npm-1424-58869de0  yarn--1604853379789-0.7799701827508732\n",
      "hsperfdata_root    npm-67-0cb1e20a    yarn--1604853380954-0.47958525452069933\n"
     ]
    }
   ],
   "source": [
    "getCrt(org='klaus')\n",
    "!ls /tmp"
   ]
  },
  {
   "cell_type": "code",
   "execution_count": 22,
   "metadata": {},
   "outputs": [
    {
     "name": "stdout",
     "output_type": "stream",
     "text": [
      "\u001b[34m2020-12-16 12:54:21.506 UTC [chaincodeCmd] ClientWait -> INFO 001\u001b[0m txid [f84b8a5386703833d028daa338b9e4c5433d336e232cd3f8d304e034a4807358] committed with status (ENDORSEMENT_POLICY_FAILURE) at peer0.org1.example.com:7051\n",
      "\u001b[34m2020-12-16 12:54:21.511 UTC [chaincodeCmd] ClientWait -> INFO 002\u001b[0m txid [f84b8a5386703833d028daa338b9e4c5433d336e232cd3f8d304e034a4807358] committed with status (ENDORSEMENT_POLICY_FAILURE) at peer0.org2.example.com:9051\n",
      "Error: transaction invalidated with status (ENDORSEMENT_POLICY_FAILURE)\n",
      "Error: endorsement failure during invoke. response: status:500 message:\"make sure the chaincode basic has been successfully defined on channel mychannel and try again: chaincode basic not found\" \n"
     ]
    }
   ],
   "source": [
    "os.environ['IP_CC_SERVICE']='10.14.128.38'\n",
    "#Host where the example network is running\n",
    "os.environ['IP_OF_EXAMPLE_NETWORK']='10.15.128.97'\n",
    "\n",
    "!/home/jovyan/work/scray/projects/invoice-hyperledger-fabric/scripts/example_network_commit_cc.sh $IP_CC_SERVICE $IP_OF_EXAMPLE_NETWORK /home/jovyan/work/fabric-samples/test-network"
   ]
  },
  {
   "cell_type": "code",
   "execution_count": 26,
   "metadata": {},
   "outputs": [
    {
     "name": "stdout",
     "output_type": "stream",
     "text": [
      "EXT_CC_IP=$1\n",
      "HOST_IP=$2\n",
      "CERT_BASE_PATH=$3\n",
      "\n",
      "export PKGID=basic_1.0:5a294a12a1a89cd4eed3d4234fbc79f42eab2ac20cd176bc8ebbc07c597cd0ee\n",
      "#CERT_BASE_PATH=/opt/gopath/src/github.com/hyperledger/fabric/peer\n",
      "\n",
      "export CORE_PEER_TLS_ENABLED=true\n",
      "export ORDERER_CA=${CERT_BASE_PATH}/organizations/ordererOrganizations/example.com/orderers/orderer.example.com/msp/tlscacerts/tlsca.example.com-cert.pem\n",
      "export PEER0_ORG1_CA=${CERT_BASE_PATH}/organizations/peerOrganizations/org1.example.com/peers/peer0.org1.example.com/tls/ca.crt\n",
      "export PEER0_ORG2_CA=${CERT_BASE_PATH}/organizations/peerOrganizations/org2.example.com/peers/peer0.org2.example.com/tls/ca.crt\n",
      "\n",
      "#CERT_BASE_PATH=/opt/gopath/src/github.com/hyperledger/fabric/peer\n",
      "\n",
      "export CORE_PEER_TLS_ENABLED=true\n",
      "export ORDERER_CA=${CERT_BASE_PATH}/organizations/ordererOrganizations/example.com/orderers/orderer.example.com/msp/tlscacerts/tlsca.example.com-cert.pem\n",
      "export PEER0_ORG1_CA=${CERT_BASE_PATH}/organizations/peerOrganizations/org1.example.com/peers/peer0.org1.example.com/tls/ca.crt\n",
      "export PEER0_ORG2_CA=${CERT_BASE_PATH}/organizations/peerOrganizations/org2.example.com/peers/peer0.org2.example.com/tls/ca.crt\n",
      "\n",
      "export CORE_PEER_LOCALMSPID=\"Org1MSP\"\n",
      "export CORE_PEER_TLS_ROOTCERT_FILE=$PEER0_ORG1_CA\n",
      "export CORE_PEER_MSPCONFIGPATH=${CERT_BASE_PATH}/organizations/peerOrganizations/org1.example.com/users/Admin@org1.example.com/msp\n",
      "export CORE_PEER_ADDRESS=peer0.org1.example.com:7051\n",
      "\n",
      "peer lifecycle chaincode commit -o orderer.example.com:7050 --ordererTLSHostnameOverride orderer.example.com --tls --cafile $CERT_BASE_PATH/organizations/ordererOrganizations/example.com/orderers/orderer.example.com/msp/tlscacerts/tlsca.example.com-cert.pem --channelID mychannel --name basic --peerAddresses peer0.org1.example.com:7051 --tlsRootCertFiles $CERT_BASE_PATH/organizations/peerOrganizations/org1.example.com/peers/peer0.org1.example.com/tls/ca.crt --peerAddresses peer0.org2.example.com:9051 --tlsRootCertFiles ${CERT_BASE_PATH}/organizations/peerOrganizations/org2.example.com/peers/peer0.org2.example.com/tls/ca.crt --version 1.0 --sequence 1\n",
      "\n",
      "export CORE_PEER_LOCALMSPID=\"Org1MSP\"\n",
      "export CORE_PEER_TLS_ROOTCERT_FILE=$PEER0_ORG1_CA\n",
      "export CORE_PEER_MSPCONFIGPATH=${CERT_BASE_PATH}/organizations/peerOrganizations/org1.example.com/users/Admin@org1.example.com/msp\n",
      "export CORE_PEER_ADDRESS=peer0.org1.example.com:7051\n",
      "\n",
      "peer chaincode invoke -o orderer.example.com:7050 --ordererTLSHostnameOverride orderer.example.com --tls --cafile ${CERT_BASE_PATH}/organizations/ordererOrganizations/example.com/orderers/orderer.example.com/msp/tlscacerts/tlsca.example.com-cert.pem -C mychannel -n basic --peerAddresses peer0.org1.example.com:7051 --tlsRootCertFiles ${CERT_BASE_PATH}/organizations/peerOrganizations/org1.example.com/peers/peer0.org1.example.com/tls/ca.crt --peerAddresses peer0.org2.example.com:9051 --tlsRootCertFiles ${CERT_BASE_PATH}/organizations/peerOrganizations/org2.example.com/peers/peer0.org2.example.com/tls/ca.crt -c '{\"function\":\"InitLedger\",\"Args\":[]}'\n"
     ]
    }
   ],
   "source": [
    "!cat /home/jovyan/work/scray/projects/invoice-hyperledger-fabric/scripts/example_network_commit_cc.sh"
   ]
  },
  {
   "cell_type": "markdown",
   "metadata": {},
   "source": [
    "# old"
   ]
  },
  {
   "cell_type": "code",
   "execution_count": null,
   "metadata": {},
   "outputs": [],
   "source": [
    "\n",
    "!peer channel fetch config /tmp/config_block.pb -o orderer.example.com:7050 -c $CHANNEL_NAME --tls --cafile $ORDERER_CA > /dev/null\n",
    "!configtxlator proto_decode --input /tmp/config_block.pb --type common.Block | jq .data.data[0].payload.data.config > /tmp/config.json   "
   ]
  },
  {
   "cell_type": "code",
   "execution_count": null,
   "metadata": {},
   "outputs": [],
   "source": [
    "# Upload CA cert\n",
    "os.environ['SHARED_FS_HOST']=\"10.15.136.41:30080\"\n",
    "os.environ['SHARED_FS_USER']=\"scray\"\n",
    "os.environ['SHARED_FS_PW']=\"scray\"\n",
    "#!apk add curl\n",
    "\n",
    "os.environ['NEW_ORG_NAME']=\"OrgSally\"\n",
    "\n",
    "!curl --user $SHARED_FS_USER:$SHARED_FS_PW -X MKCOL http://$SHARED_FS_HOST/ca\n",
    "!curl --user $SHARED_FS_USER:$SHARED_FS_PW -T /home/jovyan/work/fabric-samples/test-network/organizations/ordererOrganizations/example.com/orderers/orderer.example.com/msp/tlscacerts/tlsca.example.com-cert.pem http://$SHARED_FS_HOST/ca/tlsca.example.com-cert.pem\n",
    "\n",
    "# Get configuration of new peer\n",
    "#curl --user 'scray:scray' http://${SHARED_FS_HOST}/newmemberrequests/$CHANNEL_NAME/${NEW_ORG_NAME}.json > new_member_org.json\n",
    "!curl --user $SHARED_FS_USER:$SHARED_FS_PW  http://${SHARED_FS_HOST}/newmemberrequests/$CHANNEL_NAME/${NEW_ORG_NAME}.json > /tmp/new_member_org.json \n",
    "        \n",
    "# Add org3 data to existing config\n",
    "!jq -s \".[0] \"*\" {\\\"channel_group\\\":{\\\"groups\\\":{\\\"Application\\\":{\\\"groups\\\": {\\\"${NEW_ORG_NAME}MSP\\\":.[1]}}}}}\" /tmp/config.json /tmp/new_member_org.json > /tmp/modified_config.json\n",
    "\n",
    "!configtxlator proto_encode --input /tmp/config.json --type common.Config --output /tmp/config.pb\n",
    "!configtxlator proto_encode --input /tmp/modified_config.json --type common.Config --output /tmp/modified_config.pb\n",
    "!configtxlator compute_update --channel_id $CHANNEL_NAME --original /tmp/config.pb --updated /tmp/modified_config.pb --output /tmp/org3_update.pb\n",
    "!configtxlator proto_decode --input /tmp/org3_update.pb --type common.ConfigUpdate | jq . > /tmp/org3_update.json\n",
    "!echo '{\"payload\":{\"header\":{\"channel_header\":{\"channel_id\":\"'$CHANNEL_NAME'\", \"type\":2}},\"data\":{\"config_update\":'$(cat /tmp/org3_update.json)'}}}' | jq . > /tmp/org3_update_in_envelope.json\n",
    "!configtxlator proto_encode --input /tmp/org3_update_in_envelope.json --type common.Envelope --output /tmp/org3_update_in_envelope.pb        "
   ]
  },
  {
   "cell_type": "markdown",
   "metadata": {},
   "source": [
    "sign and update"
   ]
  },
  {
   "cell_type": "code",
   "execution_count": null,
   "metadata": {},
   "outputs": [],
   "source": [
    "!peer channel signconfigtx -f /tmp/org3_update_in_envelope.pb\n",
    "\n",
    "os.environ['CORE_PEER_LOCALMSPID']=\"Org2MSP\"\n",
    "os.environ['CORE_PEER_TLS_ROOTCERT_FILE']=crt2\n",
    "os.environ['CORE_PEER_MSPCONFIGPATH']=msp2\n",
    "os.environ['ORDERER_CA']=ordererpem\n",
    "os.environ['CORE_PEER_ADDRESS'] = addr2\n",
    "\n",
    "!peer channel update -f /tmp/org3_update_in_envelope.pb -c $CHANNEL_NAME -o orderer.example.com:7050 --tls --cafile $ORDERER_CA"
   ]
  },
  {
   "cell_type": "markdown",
   "metadata": {},
   "source": [
    "# network_install_and_approve_cc (3 nodes)"
   ]
  },
  {
   "cell_type": "code",
   "execution_count": 110,
   "metadata": {},
   "outputs": [
    {
     "name": "stdout",
     "output_type": "stream",
     "text": [
      "  % Total    % Received % Xferd  Average Speed   Time    Time     Time  Current\n",
      "                                 Dload  Upload   Total   Spent    Left  Speed\n",
      "100   450  100   450    0     0   3488      0 --:--:-- --:--:-- --:--:--  3488\n",
      "\u001b[34m2020-12-17 10:49:00.800 UTC [cli.lifecycle.chaincode] submitInstallProposal -> INFO 001\u001b[0m Installed remotely: response:<status:200 payload:\"\\nJbasic_1.0:5a294a12a1a89cd4eed3d4234fbc79f42eab2ac20cd176bc8ebbc07c597cd0ee\\022\\tbasic_1.0\" > \n",
      "\u001b[34m2020-12-17 10:49:00.801 UTC [cli.lifecycle.chaincode] submitInstallProposal -> INFO 002\u001b[0m Chaincode code package identifier: basic_1.0:5a294a12a1a89cd4eed3d4234fbc79f42eab2ac20cd176bc8ebbc07c597cd0ee\n",
      "\u001b[34m2020-12-17 10:49:00.901 UTC [cli.lifecycle.chaincode] submitInstallProposal -> INFO 001\u001b[0m Installed remotely: response:<status:200 payload:\"\\nJbasic_1.0:5a294a12a1a89cd4eed3d4234fbc79f42eab2ac20cd176bc8ebbc07c597cd0ee\\022\\tbasic_1.0\" > \n",
      "\u001b[34m2020-12-17 10:49:00.902 UTC [cli.lifecycle.chaincode] submitInstallProposal -> INFO 002\u001b[0m Chaincode code package identifier: basic_1.0:5a294a12a1a89cd4eed3d4234fbc79f42eab2ac20cd176bc8ebbc07c597cd0ee\n",
      "\u001b[34m2020-12-17 10:49:03.098 UTC [chaincodeCmd] ClientWait -> INFO 001\u001b[0m txid [eb954c9445c8c5592ac15f933677406f4d83098a8aaf4b7a61c27f053dedb632] committed with status (VALID) at peer0.org2.example.com:9051\n",
      "\u001b[34m2020-12-17 10:49:05.293 UTC [chaincodeCmd] ClientWait -> INFO 001\u001b[0m txid [add4af604e9da7f0f6ef6a14d4528ab20ef7feb9b00615cb15f956b2abb5a039] committed with status (VALID) at peer0.org1.example.com:7051\n"
     ]
    }
   ],
   "source": [
    "#!pwd\n",
    "#!ls /home/jovyan/work/scray/projects/invoice-hyperledger-fabric/scripts/example_network_install_and_approve_cc.sh\n",
    "!cd /tmp\n",
    "!/home/jovyan/work/scray/projects/invoice-hyperledger-fabric/scripts/example_network_install_and_approve_cc.sh 10.14.128.38 10.15.128.97 /home/jovyan/work/fabric-samples/test-network"
   ]
  },
  {
   "cell_type": "markdown",
   "metadata": {},
   "source": [
    "# commit"
   ]
  },
  {
   "cell_type": "code",
   "execution_count": 111,
   "metadata": {},
   "outputs": [
    {
     "name": "stdout",
     "output_type": "stream",
     "text": [
      "\u001b[34m2020-12-17 10:49:32.095 UTC [chaincodeCmd] ClientWait -> INFO 001\u001b[0m txid [5daa75d059206312dfbe203f680817ee66e55c4b11ee9222cb79424c4eb345da] committed with status (VALID) at peer0.org2.example.com:9051\n",
      "\u001b[34m2020-12-17 10:49:32.101 UTC [chaincodeCmd] ClientWait -> INFO 002\u001b[0m txid [5daa75d059206312dfbe203f680817ee66e55c4b11ee9222cb79424c4eb345da] committed with status (VALID) at peer0.org1.example.com:7051\n",
      "Error: endorsement failure during invoke. response: status:500 message:\"error in simulation: failed to execute transaction 218a5afe598ea0af612d90bfe617254a75e9154283c5f51174f19eb93e7c4ffc: could not launch chaincode basic_1.0:5a294a12a1a89cd4eed3d4234fbc79f42eab2ac20cd176bc8ebbc07c597cd0ee: connection to basic_1.0:5a294a12a1a89cd4eed3d4234fbc79f42eab2ac20cd176bc8ebbc07c597cd0ee failed: error cannot create connection for basic_1.0:5a294a12a1a89cd4eed3d4234fbc79f42eab2ac20cd176bc8ebbc07c597cd0ee: error creating grpc connection to asset-transfer-basic.org1.example.com:30999: failed to create new connection: connection error: desc = \\\"transport: error while dialing: dial tcp: lookup asset-transfer-basic.org1.example.com on 127.0.0.11:53: no such host\\\"\" \n"
     ]
    }
   ],
   "source": [
    "os.environ['IP_CC_SERVICE']='10.14.128.38'\n",
    "#Host where the example network is running\n",
    "os.environ['IP_OF_EXAMPLE_NETWORK']='10.15.128.97'\n",
    "\n",
    "!/home/jovyan/work/scray/projects/invoice-hyperledger-fabric/scripts/example_network_commit_cc.sh $IP_CC_SERVICE $IP_OF_EXAMPLE_NETWORK /home/jovyan/work/fabric-samples/test-network"
   ]
  },
  {
   "cell_type": "markdown",
   "metadata": {},
   "source": [
    "# check network (approved chaincode)"
   ]
  },
  {
   "cell_type": "code",
   "execution_count": 101,
   "metadata": {},
   "outputs": [
    {
     "name": "stdout",
     "output_type": "stream",
     "text": [
      "{\n",
      "\t\"sequence\": 1,\n",
      "\t\"version\": \"1.0\",\n",
      "\t\"endorsement_plugin\": \"escc\",\n",
      "\t\"validation_plugin\": \"vscc\",\n",
      "\t\"validation_parameter\": \"EiAvQ2hhbm5lbC9BcHBsaWNhdGlvbi9FbmRvcnNlbWVudA==\",\n",
      "\t\"collections\": {},\n",
      "\t\"approvals\": {\n",
      "\t\t\"Org1MSP\": true,\n",
      "\t\t\"Org2MSP\": true,\n",
      "\t\t\"klausMSP\": true\n",
      "\t}\n",
      "}\n"
     ]
    }
   ],
   "source": [
    "!peer lifecycle chaincode querycommitted --channelID mychannel --name basic --output json"
   ]
  },
  {
   "cell_type": "code",
   "execution_count": 106,
   "metadata": {},
   "outputs": [
    {
     "name": "stdout",
     "output_type": "stream",
     "text": [
      "{\n",
      "\t\"sequence\": 1,\n",
      "\t\"version\": \"1.0\",\n",
      "\t\"endorsement_plugin\": \"escc\",\n",
      "\t\"validation_plugin\": \"vscc\",\n",
      "\t\"validation_parameter\": \"EiAvQ2hhbm5lbC9BcHBsaWNhdGlvbi9FbmRvcnNlbWVudA==\",\n",
      "\t\"collections\": {},\n",
      "\t\"approvals\": {\n",
      "\t\t\"Org1MSP\": true,\n",
      "\t\t\"Org2MSP\": true\n",
      "\t}\n",
      "}\n"
     ]
    }
   ],
   "source": [
    "!peer lifecycle chaincode querycommitted --channelID mychannel --name scray-invoice-example --output json"
   ]
  },
  {
   "cell_type": "markdown",
   "metadata": {},
   "source": [
    "# Test"
   ]
  },
  {
   "cell_type": "code",
   "execution_count": null,
   "metadata": {},
   "outputs": [],
   "source": [
    "def readAsset(asset='asset1'):\n",
    "    callopt= '{\\\"function\\\":\\\"ReadAsset\\\",\\\"Args\\\":[' + '\\\"' + asset + '\\\"' + ']}'\n",
    "    try:    \n",
    "        callProcess  = subprocess.check_output(['peer', 'chaincode','query', '-C', 'mychannel', '-n', 'basic', '-c', callopt])\n",
    "        return json.loads(str(callProcess)[2:-3])\n",
    "    except Exception as e:\n",
    "        return str(e)\n",
    "    \n",
    "readAsset('asset1')    "
   ]
  },
  {
   "cell_type": "code",
   "execution_count": null,
   "metadata": {},
   "outputs": [],
   "source": [
    "readAsset('asset2')  "
   ]
  },
  {
   "cell_type": "code",
   "execution_count": null,
   "metadata": {},
   "outputs": [],
   "source": [
    "readAsset('asset4')  "
   ]
  },
  {
   "cell_type": "code",
   "execution_count": null,
   "metadata": {},
   "outputs": [],
   "source": [
    "!peer chaincode query -C mychannel -n basic -c '{\"function\":\"GetAllAssets\",\"Args\":[]}'"
   ]
  },
  {
   "cell_type": "markdown",
   "metadata": {},
   "source": [
    "# REST"
   ]
  },
  {
   "cell_type": "code",
   "execution_count": null,
   "metadata": {},
   "outputs": [],
   "source": [
    "!peer channel fetch config /tmp/config_block.pb -o orderer.example.com:7050 -c $CHANNEL_NAME --tls --cafile $ORDERER_CA > /dev/null  "
   ]
  },
  {
   "cell_type": "code",
   "execution_count": null,
   "metadata": {},
   "outputs": [],
   "source": [
    "#peer channel fetch config config_block.pb -o orderer.example.com:7050 -c $CHANNEL_NAME --tls --cafile $ORDERER_CA\n",
    "import sys    \n",
    "def channelFetch(channelName,ordererpem):\n",
    "    #rint(channelName,ordererpem)\n",
    "    try:    \n",
    "        output = subprocess.check_output(['peer', 'channel','fetch', 'config', 'config_block.pb', '-o', 'orderer.example.com:7050', '-c',channelName, '--tls', \n",
    "                                               '--cafile', ordererpem], stderr=subprocess.STDOUT, shell=True, timeout=3,universal_newlines=True)\n",
    "        #output = subprocess.check_output(['peer', 'channel','fetch', 'config', 'config_block.pb', '-o', 'orderer.example.com:7050', '-c',channelName, '--tls', 'cafile', ordererpem], stderr=subprocess.STDOUT, shell=True, timeout=3,universal_newlines=True)\n",
    "        #output = subprocess.check_output(['peer', 'channel','fetch','newest', 'config', '/tmp/config_block.pb', '-o', 'orderer.example.com:7050', '-c',channelName, '--tls', '--cafile', ordererpem], stderr=subprocess.STDOUT)\n",
    "        \n",
    "    #xcept Exception as e:\n",
    "    #   print('exception' + str(e))\n",
    "    #   return None\n",
    "    except subprocess.CalledProcessError as exc:\n",
    "        print(\"Status : FAIL\", exc.returncode, exc.output)\n",
    "    else:\n",
    "        print(\"Output: \\n{}\\n\".format(output))\n",
    "    \n",
    "#channelFetch('mychannel',ordererpem)    \n",
    "\n",
    "#!cd /home/jovyan/work/\n",
    "#rm -f config_block.pb\n",
    "channelFetch('mychannel',ordererpem)\n"
   ]
  },
  {
   "cell_type": "code",
   "execution_count": null,
   "metadata": {},
   "outputs": [],
   "source": []
  }
 ],
 "metadata": {
  "kernelspec": {
   "display_name": "Python 3",
   "language": "python",
   "name": "python3"
  },
  "language_info": {
   "codemirror_mode": {
    "name": "ipython",
    "version": 3
   },
   "file_extension": ".py",
   "mimetype": "text/x-python",
   "name": "python",
   "nbconvert_exporter": "python",
   "pygments_lexer": "ipython3",
   "version": "3.8.6"
  }
 },
 "nbformat": 4,
 "nbformat_minor": 4
}
