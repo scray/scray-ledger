{
 "cells": [
  {
   "cell_type": "markdown",
   "metadata": {},
   "source": [
    "# Kubernetes"
   ]
  },
  {
   "cell_type": "code",
   "execution_count": 94,
   "metadata": {},
   "outputs": [],
   "source": [
    "# WEBDAV at http://10.15.136.41:30080/\n",
    "\n",
    "import ipywidgets as widgets\n",
    "from IPython.display import clear_output\n",
    "from IPython.display import Javascript, display\n",
    "import uuid\n",
    "\n",
    "style = {'description_width': '250px'}\n",
    "layout = {'width': '500px'}\n",
    "\n",
    "def addVisText(key='',value='',disabled=False, layout=layout):\n",
    "    text = widgets.Text(description = key,value = value, style=style, layout=layout,disabled=disabled)\n",
    "    display(text)  \n",
    "    return text\n",
    "    \n",
    "def addVisCheckbox(key='',value=False):\n",
    "    text = widgets.Checkbox(description = key,value = value, style=style, layout=layout)\n",
    "    display(text)   \n",
    "    return text\n",
    "\n",
    "def getPort(peername='', name='peer-gossip'):\n",
    "    callopt= 'jsonpath=\\\"{.spec.ports[?(@.name==\\'' + name + '\\')].nodePort}\\\"'\n",
    "    try:    \n",
    "        callProcess  = subprocess.check_output(['/home/jovyan/work/usr/bin/kubectl', 'get','service',peername,'-o', callopt])\n",
    "        return str(callProcess)[3:-2]\n",
    "    except Exception as e:\n",
    "        return str(e)\n",
    "\n",
    "def setPeerPorts(peername):\n",
    "    os.environ['GOSSIP_PORT'] = getPort(peername=peername, name='peer-gossip')\n",
    "    os.environ['PEER_LISTEN_PORT'] = getPort(peername=peername, name='peer-listen')\n",
    "    os.environ['PEER_CHAINCODE_PORT'] = getPort(peername=peername, name='peer-chaincode')\n",
    "    \n",
    "def createConfig(peername='',peer_listen_port='',peer_gossip_port=''):\n",
    "    try:  \n",
    "        output  = subprocess.check_output(['/home/jovyan/work/usr/bin/kubectl', 'create','configmap','hl-fabric-peer-' + peername,\n",
    "                                          '--from-literal=hostname=kubernetes.research.dev.seeburger.de',\n",
    "                                          '--from-literal=org_name=' + peername,\n",
    "                                          '--from-literal=CORE_PEER_ADDRESS=kubernetes.research.dev.seeburger.de:' + peer_listen_port,\n",
    "                                          '--from-literal=CORE_PEER_GOSSIP_EXTERNALENDPOINT=kubernetes.research.dev.seeburger.de:' + peer_gossip_port,\n",
    "                                          '--from-literal=CORE_PEER_LOCALMSPID=' + peername + 'MSP'])\n",
    "        return str(output)\n",
    "    except Exception as e:\n",
    "        return str(e)  \n",
    "    \n",
    "#!/home/jovyan/work/usr/bin/kubectl create configmap hl-fabric-peer-$PEER_NAME \\\n",
    "#         --from-literal=hostname=kubernetes.research.dev.seeburger.de \\\n",
    "#         --from-literal=org_name=$PEER_NAME \\\n",
    "#         --from-literal=CORE_PEER_ADDRESS=kubernetes.research.dev.seeburger.de:$PEER_LISTEN_PORT \\\n",
    "#         --from-literal=CORE_PEER_GOSSIP_EXTERNALENDPOINT=kubernetes.research.dev.seeburger.de:$GOSSIP_PORT \\\n",
    "#         --from-literal=CORE_PEER_LOCALMSPID=${PEER_NAME}MSP\n",
    "            \n",
    "def getPod(peername):\n",
    "    try:    \n",
    "        callProcess  = subprocess.check_output(['/home/jovyan/work/usr/bin/kubectl', 'get','pod','-l','app=' + peername,'-o', \n",
    "                                                'jsonpath=\\\"{.items[0].metadata.name}\\\"'])\n",
    "        return str(callProcess)[3:-2]\n",
    "    except Exception as e:\n",
    "        return str(e)     \n",
    "    \n",
    "def getPods():\n",
    "    !/home/jovyan/work/usr/bin/kubectl get pods\n",
    "        \n",
    "def setPeerEnvironment(peername):\n",
    "    os.environ['POD_NAME'] = getPod(peername)\n",
    "    os.environ['ORDERER_IP'] = '10.15.128.97'\n",
    "    os.environ['ORDERER_HOSTNAME'] = 'orderer.example.com'\n",
    "    os.environ['CHANNEL_NAME'] = 'mychannel'  \n",
    "    setPeerPorts(peername)\n",
    "    \n",
    "def executeKubectlCmd(cmd):\n",
    "    try:    \n",
    "        output  = subprocess.check_output(['/home/jovyan/work/usr/bin/kubectl'] + cmd)\n",
    "        return output\n",
    "    except Exception as e:\n",
    "        return str(e)     \n",
    "    \n",
    "def deletePeer(peername):   \n",
    "    output  = executeKubectlCmd(['delete','configmap','hl-fabric-peer-' + peername])\n",
    "    output  = executeKubectlCmd(['delete','-f','/home/jovyan/scray/projects/invoice-hyperledger-fabric/containers/target/' + peername + '/k8s-peer.yaml'])\n",
    "    output  = executeKubectlCmd(['delete', 'service', peername])\n",
    "    return output\n",
    "    \n",
    "#!/home/jovyan/work/usr/bin/kubectl get configmap -o json     \n",
    "def getConfigmap(): \n",
    "    return json.loads(executeKubectlCmd(['get','configmap', '-o', 'json']).decode('ascii'))\n",
    "   \n",
    "    \n",
    "#!/home/jovyan/work/usr/bin/kubectl  exec --stdin --tty $POD_NAME  -c scray-peer-cli /bin/bash \"echo 'export ORDERER_CA=/tmp/tlsca.example.com-cert.pem' >> /root/.bashrc\"    \n",
    "\n",
    "#!/home/jovyan/work/usr/bin/kubectl  exec -it $POD_NAME -c scray-peer-cli -- /bin/bash -c \"echo 'export ORDERER_CA=/tmp/tlsca.example.com-cert.pem' >> /root/.bashrc\"\n",
    "\n",
    "def executePeerCmd(pod_name,cmd):\n",
    "    try:  \n",
    "        cmd1 = \"source /root/.bashrc && \"\n",
    "        output  = subprocess.check_output(['/home/jovyan/work/usr/bin/kubectl', 'exec','-it', pod_name, '-c', 'scray-peer-cli','--', '/bin/bash','-c',cmd1 + cmd])\n",
    "        return output.decode('ascii')\n",
    "    except Exception as e:\n",
    "        return str(e)\n",
    "\n",
    "def addEnvVariable(pod_name, key,value):\n",
    "    try:  \n",
    "        cmd = \"echo \\'export '\" + key + '=' + value + \"'\\' >> /root/.bashrc\"\n",
    "        #cmd = \"echo 1\"\n",
    "        output  = subprocess.check_output(['/home/jovyan/work/usr/bin/kubectl', 'exec','-it', pod_name, '-c', 'scray-peer-cli','--', '/bin/bash','-c',cmd])\n",
    "        return output.decode('ascii')\n",
    "    except Exception as e:\n",
    "        return str(e)\n",
    "       \n",
    "def addBashEnvToPeer(peer):        \n",
    "    pod_name    = peer.pod_name\n",
    "    listen_port = peer.listen_port\n",
    "    #!/home/jovyan/work/usr/bin/kubectl exec --stdin --tty $POD_NAME  -c scray-peer-cli touch /root/.bashrc\n",
    "    addEnvVariable(pod_name, 'ORDERER_CA', '/tmp/tlsca.example.com-cert.pem')\n",
    "    addEnvVariable(pod_name, 'ORDERER_HOSTNAME', 'orderer.example.com')\n",
    "    addEnvVariable(pod_name, 'CHANNEL_NAME', 'mychannel')\n",
    "    #addEnvVariable(pod_name, 'CORE_PEER_ADDRESS', pod_name + ':' + listen_port)\n",
    "    addEnvVariable(pod_name, 'CORE_PEER_ADDRESS', 'peer0.kubernetes.research.dev.seeburger.de:' + listen_port)\n",
    "    #addEnvVariable(pod_name, 'CORE_PEER_ADDRESS', 'kubernetes.research.dev.seeburger.de:' + listen_port)\n",
    "    addEnvVariable(pod_name, 'CORE_PEER_MSPCONFIGPATH', '/mnt/conf/organizations/peerOrganizations/kubernetes.research.dev.seeburger.de/users/Admin@kubernetes.research.dev.seeburger.de/msp')\n",
    "    addEnvVariable(pod_name, 'SHARED_FS_HOST', '10.15.136.41:30080')\n",
    "    addEnvVariable(pod_name, 'SHARED_FS_USER', 'scray')\n",
    "    addEnvVariable(pod_name, 'SHARED_FS_PW', 'scray')        \n",
    "  \n",
    "#!/home/jovyan/work/usr/bin/kubectl exec -it tanja1-65b7889d68-ghxpj -c scray-peer-cli -- /bin/bash -c \"curl --user scray:scray http://10.15.136.41:30080/upload/org3_update_in_envelope.pb -o /tmp/org3_update_in_envelope.pb\"\n",
    "def sign(pod_name):\n",
    "    #executePeerCmd(pod_name,\"curl --user $SHARED_FS_USER:$SHARED_FS_PW http://$SHARED_FS_HOST/ca/tlsca.example.com-cert.pem > /tmp/tlsca.example.com-cert.pem\"\n",
    "    executePeerCmd(pod_name,\"curl --user scray:scray http://10.15.136.41:30080/upload/org3_update_in_envelope.pb -o /tmp/org3_update_in_envelope.pb\")\n",
    "    executePeerCmd(pod_name,\"peer channel signconfigtx -f /tmp/org3_update_in_envelope.pb\")\n",
    "    executePeerCmd(pod_name,\"curl --user scray:scray -T /tmp/org3_update_in_envelope.pb http://10.15.136.41:30080/upload/org3_update_in_envelope.pb\")\n",
    "       \n",
    "def joinHyperledger(pod_name,orderer_ip,orderer_hostname,channel_name):    \n",
    "    #setPeerEnvironment(peername)    \n",
    "    #!/home/jovyan/work/usr/bin/kubectl exec --stdin --tty $POD_NAME  -c scray-peer-cli -- /bin/sh /mnt/conf/peer_join.sh $ORDERER_IP  $ORDERER_HOSTNAME $CHANNEL_NAME    \n",
    "    try:  \n",
    "        output  = subprocess.check_output(['/home/jovyan/work/usr/bin/kubectl', 'exec','--stdin', '--tty', pod_name, '-c', 'scray-peer-cli','--', '/bin/sh','/mnt/conf/peer_join.sh',\n",
    "                                           orderer_ip,orderer_hostname,channel_name])\n",
    "        return output\n",
    "    except Exception as e:\n",
    "        return str(e)\n",
    "    \n",
    "def installAndAproveChaincode(peer,cc_host='10.14.128.38',orderer_host='10.15.128.97'):\n",
    "    #!/home/jovyan/work/usr/bin/kubectl exec --stdin --tty $POD_NAME -c scray-peer-cli -- /bin/sh /mnt/conf/install_and_approve_cc.sh $IP_CC_SERVICE $IP_OF_EXAMPLE_NETWORK\n",
    "    executePeerCmd(peer.pod_name,'/mnt/conf/install_and_approve_cc.sh ' + cc_host + ' ' + orderer_host) \n",
    "    "
   ]
  },
  {
   "cell_type": "code",
   "execution_count": null,
   "metadata": {},
   "outputs": [],
   "source": [
    "addBashEnvToPeer(peer)\n",
    "peer.name"
   ]
  },
  {
   "cell_type": "code",
   "execution_count": null,
   "metadata": {},
   "outputs": [],
   "source": [
    "def deleteAllPeers(config):\n",
    "    for item in config['items']:\n",
    "        try:\n",
    "            deletePeer(item['data']['org_name'])\n",
    "        except Exception as e:\n",
    "            print(item)\n",
    "config = getConfigmap()  \n",
    "\n",
    "deleteAllPeers(config)\n",
    "#deletePeer('bbc2')"
   ]
  },
  {
   "cell_type": "code",
   "execution_count": null,
   "metadata": {},
   "outputs": [],
   "source": [
    "#deletePeer('tanja5')\n",
    "config = getConfigmap()\n",
    "len(config['items'])"
   ]
  },
  {
   "cell_type": "code",
   "execution_count": null,
   "metadata": {},
   "outputs": [],
   "source": [
    "# testing, print org names\n",
    "for item in config['items']:\n",
    "    try:\n",
    "        print(item['data']['org_name'])\n",
    "    except Exception as e:\n",
    "        print(item)"
   ]
  },
  {
   "cell_type": "code",
   "execution_count": 3,
   "metadata": {},
   "outputs": [],
   "source": [
    "class kubernetespeer:\n",
    "    def __init__(self, name='',pod_name='',listen_port='',gossip_port=''):\n",
    "        self.name = name\n",
    "        self.pod_name = pod_name\n",
    "        self.listen_port = listen_port\n",
    "        self.gossip_port = gossip_port\n",
    "    def getCertificate(self):\n",
    "        try:\n",
    "            return str(subprocess.check_output(['cat', self.crt]))[2:-3]   \n",
    "        except Exception as e:\n",
    "            return str(e)"
   ]
  },
  {
   "cell_type": "markdown",
   "metadata": {},
   "source": [
    "# Multiple version"
   ]
  },
  {
   "cell_type": "code",
   "execution_count": 4,
   "metadata": {},
   "outputs": [],
   "source": [
    "peers = {}\n",
    "#streetno[\"1\"] = \"Sachin Tendulkar\" "
   ]
  },
  {
   "cell_type": "code",
   "execution_count": 97,
   "metadata": {},
   "outputs": [
    {
     "data": {
      "application/vnd.jupyter.widget-view+json": {
       "model_id": "ce40c03c62614a78b1cc9eddff85d437",
       "version_major": 2,
       "version_minor": 0
      },
      "text/plain": [
       "Text(value='', description='organization', layout=Layout(width='600px'), style=DescriptionStyle(description_wi…"
      ]
     },
     "metadata": {},
     "output_type": "display_data"
    },
    {
     "data": {
      "application/vnd.jupyter.widget-view+json": {
       "model_id": "b6cfbf8cc64648d08226b766a1f3c5fa",
       "version_major": 2,
       "version_minor": 0
      },
      "text/plain": [
       "Text(value='', description='pod name', disabled=True, layout=Layout(width='600px'), style=DescriptionStyle(des…"
      ]
     },
     "metadata": {},
     "output_type": "display_data"
    },
    {
     "data": {
      "application/vnd.jupyter.widget-view+json": {
       "model_id": "daaa912a21d443fbbf894ac3662c67d3",
       "version_major": 2,
       "version_minor": 0
      },
      "text/plain": [
       "Text(value='', description='address', disabled=True, layout=Layout(width='600px'), style=DescriptionStyle(desc…"
      ]
     },
     "metadata": {},
     "output_type": "display_data"
    }
   ],
   "source": [
    "import os\n",
    "import json\n",
    "import subprocess\n",
    "import pandas as pd\n",
    "\n",
    "def getPeerAddress(peer):\n",
    "    addr='peer0.kubernetes.research.dev.seeburger.de'\n",
    "    return str(addr + ':' + peer.listen_port)\n",
    "\n",
    "def getPeerAddress0(peer):\n",
    "    addr='kubernetes.research.dev.seeburger.de'\n",
    "    return str(addr + ':' + peer.listen_port)\n",
    "\n",
    "def initpeer(peername):\n",
    "    pod_name = getPod(peername)\n",
    "    listen_port = getPort(peername=peername, name ='peer-listen')\n",
    "    gossip_port = getPort(peername=peername, name ='peer-gossip')\n",
    "    return kubernetespeer(name=peername,pod_name=pod_name,listen_port=listen_port,gossip_port=gossip_port)\n",
    "   \n",
    "def addPeer(peername):  \n",
    "    if peername in peers.keys():\n",
    "        global peer\n",
    "        peer = peers[peername]\n",
    "        pod_name_text.value = peers[peername].pod_name\n",
    "        peer_addr_text.value = getPeerAddress(peer)\n",
    "        return\n",
    "    os.environ['PEER_NAME'] = peername\n",
    "    !cd /home/jovyan/scray/projects/invoice-hyperledger-fabric/containers/ && /home/jovyan/scray/projects/invoice-hyperledger-fabric/containers/configure-deployment.sh -n $PEER_NAME\n",
    "    !/home/jovyan/work/usr/bin/kubectl apply -f /home/jovyan/scray/projects/invoice-hyperledger-fabric/containers/target/$PEER_NAME/k8s-peer-service.yaml\n",
    "    print('done')\n",
    "    setPeerPorts(peername)\n",
    "    res = createConfig(peername=peername,peer_listen_port=os.environ['PEER_LISTEN_PORT'],peer_gossip_port=os.environ['GOSSIP_PORT'])\n",
    "    print(res)\n",
    "    !/home/jovyan/work/usr/bin/kubectl apply -f /home/jovyan/scray/projects/invoice-hyperledger-fabric/containers/target/$PEER_NAME/k8s-peer.yaml\n",
    "    peer = initpeer(peername)\n",
    "    peers[peername] = peer\n",
    "    \n",
    "def handle_submit(text):\n",
    "    global peername\n",
    "    peername = text.value\n",
    "    addPeer(peername)\n",
    "    \n",
    "layout2 = {'width': '600px'}    \n",
    "peertext      = addVisText(key='organization',layout=layout2)\n",
    "pod_name_text = addVisText(key='pod name',disabled=True,layout=layout2)\n",
    "peer_addr_text = addVisText(key='address',disabled=True,layout=layout2)\n",
    "#pod_name_text.disabled=True\n",
    "\n",
    "peertext.on_submit(handle_submit)      "
   ]
  },
  {
   "cell_type": "code",
   "execution_count": null,
   "metadata": {},
   "outputs": [],
   "source": [
    "#deletePeer('tanja99')\n",
    "for x in range(0,10):\n",
    "    peerneme = 'schalke' + str(x)\n",
    "    addPeer(peerneme)\n",
    "    #deletePeer(peerneme)"
   ]
  },
  {
   "cell_type": "code",
   "execution_count": 7,
   "metadata": {},
   "outputs": [
    {
     "data": {
      "text/plain": [
       "('schalke0', 'schalke0-6f6c7f585b-h82x2', '32478')"
      ]
     },
     "execution_count": 7,
     "metadata": {},
     "output_type": "execute_result"
    }
   ],
   "source": [
    "#peer=initpeer('sally8')\n",
    "#peer=peers['sally8']\n",
    "peer.name,peer.pod_name, peer.listen_port\n",
    "#'sally28' in peers.keys()"
   ]
  },
  {
   "cell_type": "markdown",
   "metadata": {},
   "source": [
    "Step2: Sign by majority of old peers"
   ]
  },
  {
   "cell_type": "code",
   "execution_count": 26,
   "metadata": {},
   "outputs": [
    {
     "name": "stdout",
     "output_type": "stream",
     "text": [
      "['Org1MSP', 'Org2MSP', 'schalke0MSP', 'schalke1MSP', 'schalke2MSP']\n"
     ]
    }
   ],
   "source": [
    "# download current orgs\n",
    "downloadToLocal(local_path='/tmp', local_name='org_msp.json' ,remote_path='upload')\n",
    "\n",
    "with open('/tmp/org_msp.json', 'r') as fp:\n",
    "    data = json.load(fp)\n",
    "\n",
    "print(data)\n",
    "\n",
    "for name in data:\n",
    "    if name[:-3] in peers:\n",
    "        peer = peers[name[:-3]]\n",
    "        addBashEnvToPeer(peer)\n",
    "        sign(peer.pod_name)"
   ]
  },
  {
   "cell_type": "code",
   "execution_count": 60,
   "metadata": {},
   "outputs": [],
   "source": [
    "local_orgs=[]\n",
    "for name in data:\n",
    "    if name[:-3] in peers:\n",
    "        local_orgs.append(name[:-3])"
   ]
  },
  {
   "cell_type": "code",
   "execution_count": 61,
   "metadata": {},
   "outputs": [
    {
     "data": {
      "text/plain": [
       "['schalke0', 'schalke1', 'schalke2']"
      ]
     },
     "execution_count": 61,
     "metadata": {},
     "output_type": "execute_result"
    }
   ],
   "source": [
    "local_orgs"
   ]
  },
  {
   "cell_type": "markdown",
   "metadata": {},
   "source": [
    "Step 3"
   ]
  },
  {
   "cell_type": "code",
   "execution_count": 28,
   "metadata": {},
   "outputs": [
    {
     "data": {
      "text/plain": [
       "'schalke3-7dd96d8dc4-2d4pv'"
      ]
     },
     "execution_count": 28,
     "metadata": {},
     "output_type": "execute_result"
    }
   ],
   "source": [
    "peer.pod_name"
   ]
  },
  {
   "cell_type": "code",
   "execution_count": 29,
   "metadata": {},
   "outputs": [
    {
     "data": {
      "text/plain": [
       "b'fetch http://dl-cdn.alpinelinux.org/alpine/v3.12/main/x86_64/APKINDEX.tar.gz\\nfetch http://dl-cdn.alpinelinux.org/alpine/v3.12/community/x86_64/APKINDEX.tar.gz\\n(1/1) Installing curl (7.69.1-r3)\\nExecuting busybox-1.31.1-r16.trigger\\nOK: 29 MiB in 28 packages\\n(1/17) Installing fstrm (0.6.0-r1)\\n(2/17) Installing libgcc (9.3.0-r2)\\n(3/17) Installing krb5-conf (1.0-r2)\\n(4/17) Installing libcom_err (1.45.6-r0)\\n(5/17) Installing keyutils-libs (1.6.1-r1)\\n(6/17) Installing libverto (0.3.1-r1)\\n(7/17) Installing krb5-libs (1.18.3-r0)\\n(8/17) Installing json-c (0.14-r1)\\n(9/17) Installing libstdc++ (9.3.0-r2)\\n(10/17) Installing libprotobuf (3.12.2-r0)\\n(11/17) Installing libprotoc (3.12.2-r0)\\n(12/17) Installing protobuf-c (1.3.3-r1)\\n(13/17) Installing libuv (1.38.1-r0)\\n(14/17) Installing xz-libs (5.2.5-r0)\\n(15/17) Installing libxml2 (2.9.10-r5)\\n(16/17) Installing bind-libs (9.16.6-r0)\\n(17/17) Installing bind-tools (9.16.6-r0)\\nExecuting busybox-1.31.1-r16.trigger\\nOK: 42 MiB in 45 packages\\n'"
      ]
     },
     "execution_count": 29,
     "metadata": {},
     "output_type": "execute_result"
    }
   ],
   "source": [
    "#pod_name   = peers['sally5'].pod_name\n",
    "orderer_ip = '10.15.128.97'   \n",
    "orderer_hostname = 'orderer.example.com'\n",
    "channel_name = 'mychannel'  \n",
    "joinHyperledger(peer.pod_name,orderer_ip,orderer_hostname,channel_name)"
   ]
  },
  {
   "cell_type": "markdown",
   "metadata": {},
   "source": [
    "B"
   ]
  },
  {
   "cell_type": "markdown",
   "metadata": {},
   "source": [
    "# Enroll users"
   ]
  },
  {
   "cell_type": "code",
   "execution_count": null,
   "metadata": {},
   "outputs": [],
   "source": [
    "!pwd\n"
   ]
  },
  {
   "cell_type": "markdown",
   "metadata": {},
   "source": [
    "# Install and aprove chaincode"
   ]
  },
  {
   "cell_type": "code",
   "execution_count": 90,
   "metadata": {},
   "outputs": [
    {
     "name": "stdout",
     "output_type": "stream",
     "text": [
      "schalke0\n",
      "schalke1\n",
      "schalke2\n"
     ]
    }
   ],
   "source": [
    "for org in local_orgs:\n",
    "    print(org)\n",
    "    addBashEnvToPeer(peers[org])\n",
    "    \n",
    "addBashEnvToPeer(peers['schalke3'])"
   ]
  },
  {
   "cell_type": "code",
   "execution_count": 86,
   "metadata": {},
   "outputs": [],
   "source": [
    "for name in data:\n",
    "    if name[:-3] in peers:\n",
    "        peer = peers[name[:-3]]\n",
    "        installAndAproveChaincode(peer)"
   ]
  },
  {
   "cell_type": "code",
   "execution_count": 84,
   "metadata": {},
   "outputs": [],
   "source": [
    "#installAndAproveChaincode(peers['schalke3'])\n",
    "installAndAproveChaincode(peers['schalke0'])"
   ]
  },
  {
   "cell_type": "code",
   "execution_count": 67,
   "metadata": {},
   "outputs": [],
   "source": [
    "downloadCrtsToPeer(local_orgs)"
   ]
  },
  {
   "cell_type": "code",
   "execution_count": null,
   "metadata": {},
   "outputs": [],
   "source": [
    "peer lifecycle chaincode commit -o orderer.example.com:7050 --ordererTLSHostnameOverride orderer.example.com \n",
    "--tls --cafile $CERT_BASE_PATH/organizations/ordererOrganizations/example.com/orderers/orderer.example.com/msp/tlscacerts/tlsca.example.com-cert.pem --channelID mychannel --name basic --peerAddresses peer0.org1.example.com:7051 --tlsRootCertFiles $CERT_BASE_PATH/organizations/peerOrganizations/org1.example.com/peers/peer0.org1.example.com/tls/ca.crt --peerAddresses peer0.org2.example.com:9051 --tlsRootCertFiles ${CERT_BASE_PATH}/organizations/peerOrganizations/org2.example.com/peers/peer0.org2.example.com/tls/ca.crt --version 1.0 --sequence 1\n"
   ]
  },
  {
   "cell_type": "code",
   "execution_count": 74,
   "metadata": {},
   "outputs": [],
   "source": [
    "# download e.g. all crts of needed peers to local dir (e.g. for invoke,commit)\n",
    "def getCrtName(org='', domain='kubernetes.research.dev.seeburger.de'):\n",
    "    return str(org + '-' + domain + '-ca.crt')\n",
    "    \n",
    "def downloadToLocalCmdList(host='10.15.136.41:30080',user='scray', pwd='scray',\n",
    "                    local_path='./', remote_name='' ,remote_path='upload'):  \n",
    "    return ['curl', '--user',user + ':' + pwd, 'http://' + host + '/' + remote_path + '/' + remote_name, '-o', local_path + '/' + remote_name]\n",
    "\n",
    "def toCmd(strlist):\n",
    "    return ''.join(str(e + ' ') for e in strlist)\n",
    "\n",
    "def downloadCrtsToPeer(orgs, execute_org='schalke3'):\n",
    "    for org in orgs:\n",
    "        executePeerCmd(peers[execute_org].pod_name,toCmd(downloadToLocalCmdList(local_path='/tmp', remote_name=getCrtName(org))))     \n",
    "   \n",
    "#addBashEnvToPeer(peers['schalke3'])\n",
    "downloadCrtsToPeer(local_orgs)\n",
    "downloadCrtsToPeer(['schalke3'], execute_org='schalke3')"
   ]
  },
  {
   "cell_type": "code",
   "execution_count": 2,
   "metadata": {},
   "outputs": [],
   "source": [
    "def downloadToLocal(host='10.15.136.41:30080',user='scray', pwd='scray',\n",
    "                    local_path='./', local_name='' ,remote_path='upload'):  \n",
    "    try:    \n",
    "        output = subprocess.check_output(['curl', '--user',user + ':' + pwd, \n",
    "                                               'http://' + host + '/' + remote_path + '/' + local_name, '-o', local_path + '/' + local_name])\n",
    "        #return str(callProcess)[3:-3]\n",
    "        return output.decode('ascii')\n",
    "    except Exception as e:\n",
    "        return str(e)     \n",
    "                    \n",
    "                    \n",
    "#downloadToLocal(local_path='./', local_name='org3_update_in_envelope.pb' ,remote_path='upload')"
   ]
  },
  {
   "cell_type": "code",
   "execution_count": 75,
   "metadata": {},
   "outputs": [],
   "source": [
    "def commit():\n",
    "    try:    \n",
    "        #crtnew = '\\\" + getCrt(org='klaus') + '\\\"\n",
    "        getCrt(org='klaus')\n",
    "        output = subprocess.check_output(['peer', 'lifecycle','chaincode','commit','-o',addr0,'--ordererTLSHostnameOverride',orderer,\n",
    "                                          '--tls','--cafile',ordererpem,'--channelID','mychannel','--name','basic',\n",
    "                                          '--peerAddresses',addr1, '--tlsRootCertFiles', crt1, \n",
    "                                          '--peerAddresses', addr2, '--tlsRootCertFiles', crt2, \n",
    "                                          '--peerAddresses', 'peer0.scray.org', '--tlsRootCertFiles', '/tmp/new.crt',\n",
    "                                          #'--peerAddresses', 'kubernetes.research.dev.seeburger.de:32190', '--tlsRootCertFiles', '/tmp/new.crt',\n",
    "                                          '--version', '1.0', '--sequence', '1','--tlsRootCertFiles'])\n",
    "        return output.decode('ascii')\n",
    "    except Exception as e:\n",
    "        return str(e)\n",
    "    \n",
    "def getCrt(org='',domain='kubernetes.research.dev.seeburger.de',host='10.15.136.41:30080',user='scray', pwd='scray',channel='mychannel'):\n",
    "    try:    \n",
    "        output = subprocess.check_output(['curl', '--user',user + ':' + pwd, \n",
    "                                               'http://' + host + '/ca/' + channel + '/' + org + '-' + domain + '-ca.crt'])\n",
    "        #return str(callProcess)[3:-3]\n",
    "        return output.decode('ascii')\n",
    "    except Exception as e:\n",
    "        return str(e)    \n",
    "\n",
    "\n",
    "def getCrtToLocalCmd(org='',topath='/tmp',domain='kubernetes.research.dev.seeburger.de',host='10.15.136.41:30080',user='scray', pwd='scray',channel='mychannel'):\n",
    "    crtname = getCrtName(org, domain)\n",
    "    return str('curl --user ' + user + ':' + pwd + \\\n",
    "            ' http://' + host + '/ca/' + channel + '/' + crtname +  ' -o ' +  ' /tmp/' + crtname)\n",
    "        \n",
    "        \n",
    "def getCrtToLocal(org='',topath='/tmp',domain='kubernetes.research.dev.seeburger.de',host='10.15.136.41:30080',user='scray', pwd='scray',channel='mychannel'):\n",
    "    try:    \n",
    "        output = subprocess.check_output(['curl', '--user',user + ':' + pwd, \n",
    "                                               'http://' + host + '/ca/' + channel + '/' + getCrtName(org, domain), '-o', '/tmp/' + getCrtName(org, domain)])\n",
    "        #return str(callProcess)[3:-3]\n",
    "        return output.decode('ascii')\n",
    "    except Exception as e:\n",
    "        return str(e)       "
   ]
  },
  {
   "cell_type": "markdown",
   "metadata": {},
   "source": [
    "commit chaincode"
   ]
  },
  {
   "cell_type": "code",
   "execution_count": 98,
   "metadata": {},
   "outputs": [],
   "source": [
    "addr0 = 'orderer.example.com:7050'\n",
    "orderer = 'orderer.example.com'\n",
    "ordererpem = '/tmp/tlsca.example.com-cert.pem'\n",
    "cmd1 = 'peer lifecycle chaincode commit -o ' + addr0 + ' --ordererTLSHostnameOverride ' + orderer + ' --tls --cafile ' + ordererpem + ' --channelID mychannel --name basic'\n",
    "cmd2 = ' --version 1.0 --sequence 1'\n",
    "\n",
    "def getPart(peer, org='kubernetes.research.dev.seeburger.de'):\n",
    "    return getCrtToLocalCmd(org=peer.name)\n",
    "    #return '--peerAddresses ' + org + ':' + peer.listen_port + ' --tlsRootCertFiles ' +  crt1\n",
    "\n",
    "destpeer = peers['schalke3']    \n",
    "for name in data:\n",
    "    if name[:-3] in peers:\n",
    "        peer = peers[name[:-3]]    \n",
    "        cmd = getPart(peer)\n",
    "        executePeerCmd(destpeer.pod_name,cmd)\n",
    "\n",
    "addr='peer0.kubernetes.research.dev.seeburger.de'\n",
    "crts=''\n",
    "for name in data:\n",
    "    if name[:-3] in peers:\n",
    "        peer = peers[name[:-3]] \n",
    "        crts = crts + str(' --peerAddresses ' + getPeerAddress(peer)  + ' --tlsRootCertFiles ' +  '/tmp/' + getCrtName(org=peer.name))"
   ]
  },
  {
   "cell_type": "code",
   "execution_count": 99,
   "metadata": {},
   "outputs": [
    {
     "data": {
      "text/plain": [
       "\"Command '['/home/jovyan/work/usr/bin/kubectl', 'exec', '-it', 'schalke3-7dd96d8dc4-2d4pv', '-c', 'scray-peer-cli', '--', '/bin/bash', '-c', 'source /root/.bashrc && peer lifecycle chaincode commit -o orderer.example.com:7050 --ordererTLSHostnameOverride orderer.example.com --tls --cafile /tmp/tlsca.example.com-cert.pem --channelID mychannel --name basic --peerAddresses peer0.kubernetes.research.dev.seeburger.de:32478 --tlsRootCertFiles /tmp/schalke0-kubernetes.research.dev.seeburger.de-ca.crt --peerAddresses peer0.kubernetes.research.dev.seeburger.de:30415 --tlsRootCertFiles /tmp/schalke1-kubernetes.research.dev.seeburger.de-ca.crt --peerAddresses peer0.kubernetes.research.dev.seeburger.de:32443 --tlsRootCertFiles /tmp/schalke2-kubernetes.research.dev.seeburger.de-ca.crt --version 1.0 --sequence 1']' returned non-zero exit status 1.\""
      ]
     },
     "execution_count": 99,
     "metadata": {},
     "output_type": "execute_result"
    }
   ],
   "source": [
    "executePeerCmd(destpeer.pod_name,cmd1 + crts + cmd2)"
   ]
  },
  {
   "cell_type": "code",
   "execution_count": null,
   "metadata": {},
   "outputs": [],
   "source": [
    "crts"
   ]
  },
  {
   "cell_type": "code",
   "execution_count": null,
   "metadata": {},
   "outputs": [],
   "source": [
    "peer lifecycle chaincode queryinstalled --peerAddresses peer0.kubernetes.research.dev.seeburger.de:32733 --tlsRootCertFiles /tmp/sally3-kubernetes.research.dev.seeburger.de-ca.crt"
   ]
  },
  {
   "cell_type": "code",
   "execution_count": null,
   "metadata": {},
   "outputs": [],
   "source": [
    "pod_name   = peers['sally3'].pod_name\n",
    "executePeerCmd(pod_name, \"peer lifecycle chaincode queryinstalled --peerAddresses peer0.kubernetes.research.dev.seeburger.de:32733 --tlsRootCertFiles /tmp/sally3-kubernetes.research.dev.seeburger.de-ca.crt --output json\")"
   ]
  },
  {
   "cell_type": "code",
   "execution_count": null,
   "metadata": {},
   "outputs": [],
   "source": [
    "def readAsset(asset='asset1'):\n",
    "    callopt= '{\\\"function\\\":\\\"ReadAsset\\\",\\\"Args\\\":[' + '\\\"' + asset + '\\\"' + ']}'\n",
    "    try:    \n",
    "        print(['peer', 'chaincode','query', '-C', 'mychannel', '-n', 'basic', '-c', callopt])\n",
    "        #return json.loads(str(callProcess)[2:-3])\n",
    "    except Exception as e:\n",
    "        return str(e)\n",
    "    \n",
    "readAsset('asset1')   "
   ]
  },
  {
   "cell_type": "code",
   "execution_count": null,
   "metadata": {},
   "outputs": [],
   "source": [
    "peer chaincode invoke -o orderer.example.com:7050 --tls true --cafile /tmp/tlsca.example.com-cert.pem  -C mychannel -n basic --peerAddresses peer0.kubernetes.research.dev.seeburger.de:30084 --tlsRootCertFiles /tmp/sally1-kubernetes.research.dev.seeburger.de-ca.crt --peerAddresses peer0.kubernetes.research.dev.seeburger.de:31521 --tlsRootCertFiles /tmp/sally2-kubernetes.research.dev.seeburger.de-ca.crt --peerAddresses peer0.kubernetes.research.dev.seeburger.de:32733 --tlsRootCertFiles /tmp/sally3-kubernetes.research.dev.seeburger.de-ca.crt --peerAddresses peer0.kubernetes.research.dev.seeburger.de:31018 --tlsRootCertFiles /tmp/sally4-kubernetes.research.dev.seeburger.de-ca.crt -c '{\"function\":\"CreateAsset\",\"Args\":[\"asset1\",\"green\",\"10\", \"Jin Soo\",\"500\"]}'\n",
    "                        \n",
    "peer chaincode query -C mychannel -n basic -c '{\"function\":\"ReadAsset\",\"Args\":[\"asset1\"]}'\n"
   ]
  },
  {
   "cell_type": "code",
   "execution_count": null,
   "metadata": {},
   "outputs": [],
   "source": [
    "\n",
    "addBashEnvToPeer(peer.pod_name, peer.listen_port)"
   ]
  },
  {
   "cell_type": "code",
   "execution_count": null,
   "metadata": {},
   "outputs": [],
   "source": [
    "print(pod_name)\n",
    "executePeerCmd(pod_name,\"hostname\")"
   ]
  },
  {
   "cell_type": "code",
   "execution_count": null,
   "metadata": {},
   "outputs": [],
   "source": [
    "executePeerCmd(pod_name,\"peer chaincode query -C mychannel -n basic -c '{\\\"function\\\":\\\"GetAllAssets\\\",\\\"Args\\\":[]}'\")"
   ]
  },
  {
   "cell_type": "code",
   "execution_count": null,
   "metadata": {},
   "outputs": [],
   "source": [
    "executePeerCmd(pod_name,\"peer chaincode query -C mychannel -n basic -c '{\\\"function\\\":\\\"ReadAsset\\\",\\\"Args\\\":[\\\"asset1\\\"]}'\")"
   ]
  },
  {
   "cell_type": "code",
   "execution_count": null,
   "metadata": {},
   "outputs": [],
   "source": [
    "executePeerCmd(pod_name,\"peer chaincode query -C mychannel -n basic -c '{\\\"function\\\":\\\"ReadAsset\\\",\\\"Args\\\":[]}'\")"
   ]
  },
  {
   "cell_type": "code",
   "execution_count": null,
   "metadata": {},
   "outputs": [],
   "source": [
    "executePeerCmd(pod_name,\"peer chaincode query -C mychannel -n basic -c '{\\\"function\\\":\\\"ReadAsset\\\",\\\"Args\\\":[\\\"asset1\\\"]}' --peerAddresses peer0.kubernetes.research.dev.seeburger.de:30773 --tlsRootCertFiles /tmp/sally0-kubernetes.research.dev.seeburger.de-ca.crt\")"
   ]
  },
  {
   "cell_type": "code",
   "execution_count": null,
   "metadata": {},
   "outputs": [],
   "source": [
    "CreateAsset(ctx contractapi.TransactionContextInterface, id, color string, size int, owner string, appraisedValue int)"
   ]
  },
  {
   "cell_type": "code",
   "execution_count": null,
   "metadata": {},
   "outputs": [],
   "source": [
    "executePeerCmd(pod_name, \"peer chaincode query -C mychannel -n basic -c '{\\\"function\\\":\\\"ReadAsset\\\",\\\"Args\\\":[\\\"asset2\\\"]}'\")"
   ]
  },
  {
   "cell_type": "code",
   "execution_count": null,
   "metadata": {},
   "outputs": [],
   "source": [
    "executePeerCmd(pod_name,  \"peer chaincode query -C mychannel -n basic -c '{\\\"function\\\":\\\"GetAllAssets\\\",\\\"Args\\\":[]}'\")"
   ]
  },
  {
   "cell_type": "code",
   "execution_count": null,
   "metadata": {},
   "outputs": [],
   "source": [
    "setPeerEnvironment(peername)\n",
    "\n",
    "#!/home/jovyan/work/usr/bin/kubectl exec --stdin --tty 'lara2-5d8bd488d6-kll5n' -c lara2 -- /bin/bash pwd"
   ]
  },
  {
   "cell_type": "code",
   "execution_count": null,
   "metadata": {},
   "outputs": [],
   "source": [
    "########## execute commands in container\n",
    "#!/home/jovyan/work/usr/bin/kubectl  exec -it $POD_NAME -c maja3 -- /bin/sh -c \"ls -l / && hostname\"\n",
    "#!/home/jovyan/work/usr/bin/kubectl  exec -it $POD_NAME -c scray-peer-cli -- /bin/bash -c \"ls -l / && hostname\"\n",
    "#!/home/jovyan/work/usr/bin/kubectl  exec -it $POD_NAME -c scray-peer-cli -- /bin/bash -c \"echo 'export ORDERER_CA=/tmp/tlsca.example.com-cert.pem' >> /root/.bashrc\""
   ]
  },
  {
   "cell_type": "code",
   "execution_count": null,
   "metadata": {},
   "outputs": [],
   "source": [
    "#setPeerEnvironment('tanja2')\n",
    "#!/home/jovyan/work/usr/bin/kubectl exec --stdin --tty $POD_NAME  -c scray-peer-cli --  /bin/sh export ORDERER_CA=\"/tmp/tlsca.example.com-cert.pem\"\n",
    "#!/home/jovyan/work/usr/bin/kubectl exec --stdin --tty $POD_NAME  -c scray-peer-cli --  ORDERER_HOSTNAME=\"orderer.example.com\"\n",
    "#!/home/jovyan/work/usr/bin/kubectl exec --stdin --tty $POD_NAME  -c scray-peer-cli --  CHANNEL_NAME=\"mychannel\"\n",
    "#!/home/jovyan/work/usr/bin/kubectl exec --stdin --tty $POD_NAME  -c scray-peer-cli --  CORE_PEER_ADDRESS=\"peer0.kubernetes.research.dev.seeburger.de:32222\"\n",
    "#!/home/jovyan/work/usr/bin/kubectl exec --stdin --tty $POD_NAME  -c scray-peer-cli --  CORE_PEER_MSPCONFIGPATH=\"/mnt/conf/organizations/peerOrganizations/kubernetes.research.dev.seeburger.de/users/Admin@kubernetes.research.dev.seeburger.de/msp\"\n",
    "\n",
    "\n",
    "!/home/jovyan/work/usr/bin/kubectl exec --stdin --tty $POD_NAME  -c scray-peer-cli -- env | fgrep ORDERER_HOSTNAME"
   ]
  },
  {
   "cell_type": "code",
   "execution_count": null,
   "metadata": {},
   "outputs": [],
   "source": [
    "peername='maja2'\n",
    "setPeerEnvironment(peername)\n",
    "os.environ['ORDERER_HOSTNAME'] = 'orderer.example.com'\n",
    "#!/home/jovyan/work/usr/bin/kubectl exec --stdin --tty $POD_NAME  -c scray-peer-cli -- env | fgrep ORDERER\n",
    "#!/home/jovyan/work/usr/bin/kubectl exec --stdin --tty $POD_NAME  -c scray-peer-cli -- which export\n",
    "print(getPod(peername),getPort(peername=peername, name='peer-listen'))"
   ]
  },
  {
   "cell_type": "code",
   "execution_count": null,
   "metadata": {},
   "outputs": [],
   "source": [
    "export ORDERER_CA=/tmp/tlsca.example.com-cert.pem\n",
    "export ORDERER_HOSTNAME=\"orderer.example.com\"\n",
    "export CHANNEL_NAME=\"mychannel\"\n",
    "export CORE_PEER_ADDRESS=\"peer0.kubernetes.research.dev.seeburger.de:32190\"\n",
    "export CORE_PEER_MSPCONFIGPATH=\"/mnt/conf/organizations/peerOrganizations/kubernetes.research.dev.seeburger.de/users/Admin@kubernetes.research.dev.seeburger.de/msp\"\n",
    "export SHARED_FS_HOST=10.15.136.41:30080\n",
    "export SHARED_FS_USER=scray\n",
    "export SHARED_FS_PW=scray\n",
    "\n",
    "curl --user $SHARED_FS_USER:$SHARED_FS_PW http://$SHARED_FS_HOST/ca/tlsca.example.com-cert.pem > /tmp/tlsca.example.com-cert.pem\n",
    "curl --user scray:scray http://10.15.136.41:30080/upload/org3_update_in_envelope.pb -o ./org3_update_in_envelope.pb\n",
    "peer channel signconfigtx -f org3_update_in_envelope.pb\n",
    "curl --user scray:scray -T ./org3_update_in_envelope.pb http://10.15.136.41:30080/upload/org3_update_in_envelope.pb\n",
    "  "
   ]
  },
  {
   "cell_type": "code",
   "execution_count": null,
   "metadata": {},
   "outputs": [],
   "source": [
    "!ls -l ./*.pb\n",
    "\n",
    "#sign update\n",
    "#createEnvironmentForPeer(localmspid=mspid2, tlsrootcert=crt2, mspconfigpath=msp2, peeraddress=addr2)\n",
    "#setPeerEnvironment('carla1')\n",
    "setPeerEnvironment('tanja2')\n",
    "!/home/jovyan/work/usr/bin/kubectl exec --stdin --tty $POD_NAME  -c scray-peer-cli -- curl --user scray:scray http://10.15.136.41:30080/upload/org3_update_in_envelope.pb -o ./org3_update_in_envelope.pb\n",
    "!/home/jovyan/work/usr/bin/kubectl exec --stdin --tty $POD_NAME  -c scray-peer-cli -- peer channel signconfigtx -f org3_update_in_envelope.pb\n",
    "!/home/jovyan/work/usr/bin/kubectl exec --stdin --tty $POD_NAME  -c scray-peer-cli -- curl --user scray:scray -T ./org3_update_in_envelope.pb http://10.15.136.41:30080/upload/org3_update_in_envelope.pb\n",
    "  "
   ]
  },
  {
   "cell_type": "markdown",
   "metadata": {},
   "source": [
    "# Install and aprove chaincode"
   ]
  },
  {
   "cell_type": "code",
   "execution_count": null,
   "metadata": {},
   "outputs": [],
   "source": [
    "setPeerEnvironment('tanja2')\n",
    "installAndAproveChaincode()"
   ]
  },
  {
   "cell_type": "code",
   "execution_count": null,
   "metadata": {},
   "outputs": [],
   "source": [
    "#!/home/jovyan/work/usr/bin/kubectl exec --stdin --tty $POD_NAME -c scray-peer-cli -- lifecycle chaincode querycommitted --channelID mychannel --name basic --output json"
   ]
  },
  {
   "cell_type": "code",
   "execution_count": null,
   "metadata": {},
   "outputs": [],
   "source": [
    "#setPeerEnvironment('klaus')\n",
    "!echo  $POD_NAME $IP_CC_SERVICE $IP_OF_EXAMPLE_NETWORK\n",
    "\n",
    "# Host where the chaincode is running\n",
    "os.environ['IP_CC_SERVICE']='10.14.128.38'\n",
    "#Host where the example network is running\n",
    "os.environ['IP_OF_EXAMPLE_NETWORK']='10.15.128.97'\n",
    "!/home/jovyan/work/usr/bin/kubectl exec --stdin --tty $POD_NAME -c scray-peer-cli -- /bin/sh /mnt/conf/install_and_approve_cc.sh $IP_CC_SERVICE $IP_OF_EXAMPLE_NETWORK"
   ]
  },
  {
   "cell_type": "code",
   "execution_count": null,
   "metadata": {},
   "outputs": [],
   "source": [
    "#!ping orderer.example.com 7050\n",
    "!more /etc/hosts"
   ]
  },
  {
   "cell_type": "markdown",
   "metadata": {},
   "source": [
    "# ------------------------------------------------------------------------"
   ]
  },
  {
   "cell_type": "markdown",
   "metadata": {},
   "source": [
    "# Shell only"
   ]
  },
  {
   "cell_type": "code",
   "execution_count": null,
   "metadata": {},
   "outputs": [],
   "source": [
    "#!echo $GOSSIP_PORT, $PEER_NAME\n",
    "getPort(peername=peername, name='peer-listen')"
   ]
  },
  {
   "cell_type": "code",
   "execution_count": null,
   "metadata": {},
   "outputs": [],
   "source": [
    "GOSSIP_PORT=$(kubectl get service $PEER_NAME -o jsonpath=\"{.spec.ports[?(@.name=='peer-gossip')].nodePort}\")\n",
    "PEER_LISTEN_PORT=$(kubectl get service $PEER_NAME -o jsonpath=\"{.spec.ports[?(@.name=='peer-listen')].nodePort}\")\n",
    "PEER_CHAINCODE_PORT=$(kubectl get service $PEER_NAME -o jsonpath=\"{.spec.ports[?(@.name=='peer-chaincode')].nodePort}\")\n"
   ]
  },
  {
   "cell_type": "code",
   "execution_count": null,
   "metadata": {},
   "outputs": [],
   "source": [
    "!echo $(/home/jovyan/work/usr/bin/kubectl get service $PEER_NAME -o jsonpath=\"{.spec.ports[?(@.name=='peer-gossip')].nodePort}\")\n",
    "!echo $(/home/jovyan/work/usr/bin/kubectl get service $PEER_NAME -o jsonpath=\"{.spec.ports[?(@.name=='peer-listen')].nodePort}\")\n",
    "!echo $(/home/jovyan/work/usr/bin/kubectl get service $PEER_NAME -o jsonpath=\"{.spec.ports[?(@.name=='peer-chaincode')].nodePort}\")"
   ]
  },
  {
   "cell_type": "code",
   "execution_count": null,
   "metadata": {},
   "outputs": [],
   "source": [
    "os.environ['GOSSIP_PORT'] = \"32068\"  \n",
    "os.environ['PEER_LISTEN_PORT'] = \"30251\"\n",
    "os.environ['PEER_CHAINCODE_PORT'] = \"30052\"\n",
    "!echo $GOSSIP_PORT\n",
    "#!echo $(/home/jovyan/work/usr/bin/kubectl get service $PEER_NAME -o jsonpath=\"{.spec.ports[?(@.name=='peer-gossip')].nodePort}\")"
   ]
  },
  {
   "cell_type": "code",
   "execution_count": null,
   "metadata": {},
   "outputs": [],
   "source": [
    "!/home/jovyan/work/usr/bin/kubectl create configmap hl-fabric-peer-$PEER_NAME \\\n",
    " --from-literal=hostname=kubernetes.research.dev.seeburger.de \\\n",
    " --from-literal=org_name=$PEER_NAME \\\n",
    " --from-literal=CORE_PEER_ADDRESS=kubernetes.research.dev.seeburger.de:$PEER_LISTEN_PORT \\\n",
    " --from-literal=CORE_PEER_GOSSIP_EXTERNALENDPOINT=kubernetes.research.dev.seeburger.de:$GOSSIP_PORT \\\n",
    " --from-literal=CORE_PEER_LOCALMSPID=${PEER_NAME}MSP"
   ]
  },
  {
   "cell_type": "code",
   "execution_count": null,
   "metadata": {},
   "outputs": [],
   "source": [
    "!/home/jovyan/work/usr/bin/kubectl apply -f /home/jovyan/scray/projects/invoice-hyperledger-fabric/containers/target/$PEER_NAME/k8s-peer.yaml"
   ]
  },
  {
   "cell_type": "code",
   "execution_count": null,
   "metadata": {},
   "outputs": [],
   "source": [
    "POD_NAME=$(/home/jovyan/work/usr/bin/kubectl  get pod -l app=peer0-org1-scray-org -o jsonpath=\"{.items[0].metadata.name}\")\n",
    "kubectl exec --stdin --tty $POD_NAME  -c scray-peer-cli -- /bin/sh /mnt/conf/peer_join.sh $ORDERER_IP  $ORDERER_HOSTNAME $CHANNEL_NAME"
   ]
  },
  {
   "cell_type": "code",
   "execution_count": null,
   "metadata": {},
   "outputs": [],
   "source": [
    "!echo $(/home/jovyan/work/usr/bin/kubectl  get pod -l app=$PEER_NAME -o jsonpath=\"{.items[0].metadata.name}\")\n"
   ]
  },
  {
   "cell_type": "code",
   "execution_count": null,
   "metadata": {},
   "outputs": [],
   "source": [
    "os.environ['POD_NAME'] = \"tom-6647c77bbb-hjlkc\"\n",
    "os.environ['ORDERER_IP'] = '10.15.128.97'\n",
    "os.environ['ORDERER_HOSTNAME'] = 'orderer.example.com'\n",
    "os.environ['CHANNEL_NAME'] = 'mychannel'\n",
    "\n",
    "!/home/jovyan/work/usr/bin/kubectl exec --stdin --tty $POD_NAME  -c scray-peer-cli -- /bin/sh /mnt/conf/peer_join.sh $ORDERER_IP  $ORDERER_HOSTNAME $CHANNEL_NAME"
   ]
  },
  {
   "cell_type": "markdown",
   "metadata": {},
   "source": [
    "# Delete old peer"
   ]
  },
  {
   "cell_type": "code",
   "execution_count": null,
   "metadata": {},
   "outputs": [],
   "source": [
    "!/home/jovyan/work/usr/bin/kubectl delete configmap hl-fabric-peer-klaus\n",
    "!/home/jovyan/work/usr/bin/kubectl delete -f /home/jovyan/scray/projects/invoice-hyperledger-fabric/containers/target/klaus/k8s-peer.yaml\n",
    "!/home/jovyan/work/usr/bin/kubectl delete service klaus"
   ]
  },
  {
   "cell_type": "code",
   "execution_count": null,
   "metadata": {},
   "outputs": [],
   "source": [
    "#deletePeer('carla1')\n",
    "deletePeer('ff')"
   ]
  },
  {
   "cell_type": "code",
   "execution_count": null,
   "metadata": {},
   "outputs": [],
   "source": [
    "!/home/jovyan/work/usr/bin/kubectl get configmap \n",
    "!/home/jovyan/work/usr/bin/kubectl get deployments \n",
    "#!/home/jovyan/work/usr/bin/kubectl get svc -o json\n",
    "!/home/jovyan/work/usr/bin/kubectl get svc"
   ]
  },
  {
   "cell_type": "markdown",
   "metadata": {},
   "source": [
    "# Create new peer and 'apply'"
   ]
  },
  {
   "cell_type": "code",
   "execution_count": null,
   "metadata": {},
   "outputs": [],
   "source": [
    "!/home/jovyan/work/usr/bin/kubectl create configmap hl-fabric-peer \\\n",
    " --from-literal=hostname=kubernetes.research.dev.seeburger.de \\\n",
    " --from-literal=org_name=OrgSally \\ \n",
    " --from-literal=CORE_PEER_ADDRESS=kubernetes.research.dev.seeburger.de:30003 \\\n",
    " --from-literal=CORE_PEER_GOSSIP_EXTERNALENDPOINT=kubernetes.research.dev.seeburger.de:30001 \\\n",
    " --from-literal=CORE_PEER_LOCALMSPID=OrgSallyMSP\n",
    "\n",
    "!/home/jovyan/work/usr/bin/kubectl apply -f https://raw.githubusercontent.com/scray/scray/feature/k8s-peer/projects/invoice-hyperledger-fabric/containers/k8s-peer.yaml        "
   ]
  },
  {
   "cell_type": "markdown",
   "metadata": {},
   "source": [
    "1. Der neue Peer wurde erzeugt. All relevant infos and cryptos for the application is uploaded to external sharepoint\n",
    "2. Now the application needs to be signed by other peers"
   ]
  },
  {
   "cell_type": "markdown",
   "metadata": {},
   "source": [
    "# Now the peer can join the network"
   ]
  },
  {
   "cell_type": "code",
   "execution_count": null,
   "metadata": {},
   "outputs": [],
   "source": [
    "import os\n",
    "import json\n",
    "import subprocess\n",
    "import pandas as pd\n",
    "\n",
    "!/home/jovyan/work/usr/bin/kubectl get pods\n",
    "os.environ['POD_NAME'] = 'peer0-org1-scray-org-5c4d69f556-snz5c'"
   ]
  },
  {
   "cell_type": "code",
   "execution_count": null,
   "metadata": {},
   "outputs": [],
   "source": [
    "#!/home/jovyan/work/usr/bin/kubectl get pods | fgrep peer0\n",
    "#!POD_NAME=$(/home/jovyan/work/usr/bin/kubectl get pod -l app=peer0-org1-scray-org | tail -n 1 | cut -d' ' -f1)\n",
    "os.environ['ORDERER_IP'] = '10.15.128.97'\n",
    "os.environ['ORDERER_HOSTNAME'] = 'orderer.example.com'\n",
    "os.environ['CHANNEL_NAME'] = 'mychannel'\n",
    "\n",
    "!echo $POD_NAME\n",
    "!/home/jovyan/work/usr/bin/kubectl exec --stdin --tty $POD_NAME -c scray-peer-cli -- /bin/sh /mnt/conf/peer_join.sh $ORDERER_IP $ORDERER_HOSTNAME $CHANNEL_NAME"
   ]
  },
  {
   "cell_type": "code",
   "execution_count": null,
   "metadata": {},
   "outputs": [],
   "source": [
    "#!/home/jovyan/work/usr/bin/kubectl exec --stdin --tty peer0-org1-scray-org-84ddc5757f-glbgn -c scray-peer-cli -- /bin/sh /mnt/conf/install_and_approve_cc.sh $IP_CC_SERVICE $IP_OF_EXAMPLE_NETWORK"
   ]
  },
  {
   "cell_type": "markdown",
   "metadata": {},
   "source": [
    "# Install and aprove chaincode"
   ]
  },
  {
   "cell_type": "code",
   "execution_count": null,
   "metadata": {},
   "outputs": [],
   "source": [
    "# Host where the chaincode is running\n",
    "os.environ['IP_CC_SERVICE']='10.14.128.38'\n",
    "#Host where the example network is running\n",
    "os.environ['IP_OF_EXAMPLE_NETWORK']='10.15.128.97'\n",
    "!/home/jovyan/work/usr/bin/kubectl exec --stdin --tty $POD_NAME -c scray-peer-cli -- /bin/sh /mnt/conf/install_and_approve_cc.sh $IP_CC_SERVICE $IP_OF_EXAMPLE_NETWORK"
   ]
  },
  {
   "cell_type": "markdown",
   "metadata": {},
   "source": [
    "# TMP"
   ]
  },
  {
   "cell_type": "code",
   "execution_count": null,
   "metadata": {},
   "outputs": [],
   "source": [
    "print(getPod(peername),getPort(peername=peername, name='peer-listen'))"
   ]
  },
  {
   "cell_type": "code",
   "execution_count": null,
   "metadata": {},
   "outputs": [],
   "source": [
    "export ORDERER_CA=\"/tmp/tlsca.example.com-cert.pem\"\n",
    "export ORDERER_HOSTNAME=\"orderer.example.com\"\n",
    "export CHANNEL_NAME=\"mychannel\"\n",
    "export CORE_PEER_ADDRESS=\"peer0.kubernetes.research.dev.seeburger.de:32190\"\n",
    "export CORE_PEER_MSPCONFIGPATH=\"/mnt/conf/organizations/peerOrganizations/kubernetes.research.dev.seeburger.de/users/Admin@kubernetes.research.dev.seeburger.de/msp\"\n",
    "\n",
    "peer lifecycle chaincode querycommitted --channelID mychannel --name basic --output json\n",
    "   "
   ]
  },
  {
   "cell_type": "code",
   "execution_count": null,
   "metadata": {},
   "outputs": [],
   "source": [
    "def readAsset(asset='asset1'):\n",
    "    callopt= '{\\\"function\\\":\\\"ReadAsset\\\",\\\"Args\\\":[' + '\\\"' + asset + '\\\"' + ']}'\n",
    "    try:    \n",
    "        callProcess  = subprocess.check_output(['/home/jovyan/work/usr/bin/kubectl exec --stdin --tty $POD_NAME -c scray-peer-cli -- peer', 'chaincode','query', '-C', 'mychannel', '-n', 'basic', '-c', callopt])\n",
    "        return json.loads(str(callProcess)[2:-3])\n",
    "    except Exception as e:\n",
    "        return str(e)\n",
    "    \n",
    "readAsset('asset1')    "
   ]
  },
  {
   "cell_type": "code",
   "execution_count": null,
   "metadata": {},
   "outputs": [],
   "source": [
    "!/home/jovyan/work/usr/bin/kubectl exec --stdin --tty $POD_NAME -c scray-peer-cli -- peer lifecycle chaincode querycommitted --channelID mychannel --name basic --output json"
   ]
  },
  {
   "cell_type": "code",
   "execution_count": null,
   "metadata": {},
   "outputs": [],
   "source": [
    "!/home/jovyan/work/usr/bin/kubectl exec --stdin --tty $POD_NAME -c scray-peer-cli -- peer"
   ]
  },
  {
   "cell_type": "code",
   "execution_count": null,
   "metadata": {},
   "outputs": [],
   "source": [
    "#pip install PyYAML\n",
    "import yaml"
   ]
  }
 ],
 "metadata": {
  "kernelspec": {
   "display_name": "Python 3",
   "language": "python",
   "name": "python3"
  },
  "language_info": {
   "codemirror_mode": {
    "name": "ipython",
    "version": 3
   },
   "file_extension": ".py",
   "mimetype": "text/x-python",
   "name": "python",
   "nbconvert_exporter": "python",
   "pygments_lexer": "ipython3",
   "version": "3.8.6"
  }
 },
 "nbformat": 4,
 "nbformat_minor": 4
}
