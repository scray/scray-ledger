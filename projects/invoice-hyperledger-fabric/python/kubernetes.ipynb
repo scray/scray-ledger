{
 "cells": [
  {
   "cell_type": "markdown",
   "metadata": {},
   "source": [
    "# Kubernetes"
   ]
  },
  {
   "cell_type": "code",
   "execution_count": 598,
   "metadata": {},
   "outputs": [],
   "source": [
    "# WEBDAV at http://10.15.136.41:30080/\n",
    "\n",
    "import ipywidgets as widgets\n",
    "from IPython.display import clear_output\n",
    "from IPython.display import Javascript, display\n",
    "import uuid\n",
    "\n",
    "style = {'description_width': '250px'}\n",
    "layout = {'width': '500px'}\n",
    "\n",
    "def addVisText(key='',value='',disabled=False):\n",
    "    text = widgets.Text(description = key,value = value, style=style, layout=layout,disabled=disabled)\n",
    "    display(text)  \n",
    "    return text\n",
    "    \n",
    "def addVisCheckbox(key='',value=False):\n",
    "    text = widgets.Checkbox(description = key,value = value, style=style, layout=layout)\n",
    "    display(text)   \n",
    "    return text\n",
    "\n",
    "def getPort(peername='', name='peer-gossip'):\n",
    "    callopt= 'jsonpath=\\\"{.spec.ports[?(@.name==\\'' + name + '\\')].nodePort}\\\"'\n",
    "    try:    \n",
    "        callProcess  = subprocess.check_output(['/home/jovyan/work/usr/bin/kubectl', 'get','service',peername,'-o', callopt])\n",
    "        return str(callProcess)[3:-2]\n",
    "    except Exception as e:\n",
    "        return str(e)\n",
    "\n",
    "def setPeerPorts(peername):\n",
    "    os.environ['GOSSIP_PORT'] = getPort(peername=peername, name='peer-gossip')\n",
    "    os.environ['PEER_LISTEN_PORT'] = getPort(peername=peername, name='peer-listen')\n",
    "    os.environ['PEER_CHAINCODE_PORT'] = getPort(peername=peername, name='peer-chaincode')\n",
    "    \n",
    "def createConfig(peername='',peer_listen_port='',peer_gossip_port=''):\n",
    "    try:  \n",
    "        output  = subprocess.check_output(['/home/jovyan/work/usr/bin/kubectl', 'create','configmap','hl-fabric-peer-' + peername,\n",
    "                                          '--from-literal=hostname=kubernetes.research.dev.seeburger.de',\n",
    "                                          '--from-literal=org_name=' + peername,\n",
    "                                          '--from-literal=CORE_PEER_ADDRESS=kubernetes.research.dev.seeburger.de:' + peer_listen_port,\n",
    "                                          '--from-literal=CORE_PEER_GOSSIP_EXTERNALENDPOINT=kubernetes.research.dev.seeburger.de:' + peer_gossip_port,\n",
    "                                          '--from-literal=CORE_PEER_LOCALMSPID=' + peername + 'MSP'])\n",
    "        return str(output)\n",
    "    except Exception as e:\n",
    "        return str(e)  \n",
    "    \n",
    "#!/home/jovyan/work/usr/bin/kubectl create configmap hl-fabric-peer-$PEER_NAME \\\n",
    "#         --from-literal=hostname=kubernetes.research.dev.seeburger.de \\\n",
    "#         --from-literal=org_name=$PEER_NAME \\\n",
    "#         --from-literal=CORE_PEER_ADDRESS=kubernetes.research.dev.seeburger.de:$PEER_LISTEN_PORT \\\n",
    "#         --from-literal=CORE_PEER_GOSSIP_EXTERNALENDPOINT=kubernetes.research.dev.seeburger.de:$GOSSIP_PORT \\\n",
    "#         --from-literal=CORE_PEER_LOCALMSPID=${PEER_NAME}MSP\n",
    "            \n",
    "def getPod(peername):\n",
    "    try:    \n",
    "        callProcess  = subprocess.check_output(['/home/jovyan/work/usr/bin/kubectl', 'get','pod','-l','app=' + peername,'-o', \n",
    "                                                'jsonpath=\\\"{.items[0].metadata.name}\\\"'])\n",
    "        return str(callProcess)[3:-2]\n",
    "    except Exception as e:\n",
    "        return str(e)     \n",
    "    \n",
    "def getPods():\n",
    "    !/home/jovyan/work/usr/bin/kubectl get pods\n",
    "        \n",
    "def setPeerEnvironment(peername):\n",
    "    os.environ['POD_NAME'] = getPod(peername)\n",
    "    os.environ['ORDERER_IP'] = '10.15.128.97'\n",
    "    os.environ['ORDERER_HOSTNAME'] = 'orderer.example.com'\n",
    "    os.environ['CHANNEL_NAME'] = 'mychannel'  \n",
    "    setPeerPorts(peername)\n",
    "    \n",
    "def executeKubectlCmd(cmd):\n",
    "    try:    \n",
    "        output  = subprocess.check_output(['/home/jovyan/work/usr/bin/kubectl'] + cmd)\n",
    "        return output\n",
    "    except Exception as e:\n",
    "        return str(e)     \n",
    "    \n",
    "def deletePeer(peername):   \n",
    "    output  = executeKubectlCmd(['delete','configmap','hl-fabric-peer-' + peername])\n",
    "    output  = executeKubectlCmd(['delete','-f','/home/jovyan/scray/projects/invoice-hyperledger-fabric/containers/target/' + peername + '/k8s-peer.yaml'])\n",
    "    output  = executeKubectlCmd(['delete', 'service', peername])\n",
    "    return output\n",
    "    \n",
    "#!/home/jovyan/work/usr/bin/kubectl get configmap -o json     \n",
    "def getConfigmap(): \n",
    "    return json.loads(executeKubectlCmd(['get','configmap', '-o', 'json']).decode('ascii'))\n",
    "   \n",
    "    \n",
    "#!/home/jovyan/work/usr/bin/kubectl  exec --stdin --tty $POD_NAME  -c scray-peer-cli /bin/bash \"echo 'export ORDERER_CA=/tmp/tlsca.example.com-cert.pem' >> /root/.bashrc\"    \n",
    "\n",
    "#!/home/jovyan/work/usr/bin/kubectl  exec -it $POD_NAME -c scray-peer-cli -- /bin/bash -c \"echo 'export ORDERER_CA=/tmp/tlsca.example.com-cert.pem' >> /root/.bashrc\"\n",
    "\n",
    "def executePeerCmd(pod_name,cmd):\n",
    "    try:  \n",
    "        cmd1 = \"source /root/.bashrc && \"\n",
    "        output  = subprocess.check_output(['/home/jovyan/work/usr/bin/kubectl', 'exec','-it', pod_name, '-c', 'scray-peer-cli','--', '/bin/bash','-c',cmd1 + cmd])\n",
    "        return output.decode('ascii')\n",
    "    except Exception as e:\n",
    "        return str(e)\n",
    "\n",
    "def addEnvVariable(pod_name, key,value):\n",
    "    try:  \n",
    "        cmd = \"echo \\'export '\" + key + '=' + value + \"'\\' >> /root/.bashrc\"\n",
    "        #cmd = \"echo 1\"\n",
    "        output  = subprocess.check_output(['/home/jovyan/work/usr/bin/kubectl', 'exec','-it', pod_name, '-c', 'scray-peer-cli','--', '/bin/bash','-c',cmd])\n",
    "        return output.decode('ascii')\n",
    "    except Exception as e:\n",
    "        return str(e)\n",
    "       \n",
    "def addBashEnvToPeer(pod_name, listen_port):        \n",
    "    #!/home/jovyan/work/usr/bin/kubectl exec --stdin --tty $POD_NAME  -c scray-peer-cli touch /root/.bashrc\n",
    "    addEnvVariable(pod_name, 'ORDERER_CA', '/tmp/tlsca.example.com-cert.pem')\n",
    "    addEnvVariable(pod_name, 'ORDERER_HOSTNAME', 'orderer.example.com')\n",
    "    addEnvVariable(pod_name, 'CHANNEL_NAME', 'mychannel')\n",
    "    addEnvVariable(pod_name, 'CORE_PEER_ADDRESS', pod_name + ':' + listen_port)\n",
    "    #addEnvVariable(pod_name, 'CORE_PEER_ADDRESS', 'peer0.kubernetes.research.dev.seeburger.de:' + listen_port)\n",
    "    addEnvVariable(pod_name, 'CORE_PEER_MSPCONFIGPATH', '/mnt/conf/organizations/peerOrganizations/kubernetes.research.dev.seeburger.de/users/Admin@kubernetes.research.dev.seeburger.de/msp')\n",
    "    addEnvVariable(pod_name, 'SHARED_FS_HOST', '10.15.136.41:30080')\n",
    "    addEnvVariable(pod_name, 'SHARED_FS_USER', 'scray')\n",
    "    addEnvVariable(pod_name, 'SHARED_FS_PW', 'scray')        \n",
    "  \n",
    "#!/home/jovyan/work/usr/bin/kubectl exec -it tanja1-65b7889d68-ghxpj -c scray-peer-cli -- /bin/bash -c \"curl --user scray:scray http://10.15.136.41:30080/upload/org3_update_in_envelope.pb -o /tmp/org3_update_in_envelope.pb\"\n",
    "def sign(pod_name):\n",
    "    #executePeerCmd(pod_name,\"curl --user $SHARED_FS_USER:$SHARED_FS_PW http://$SHARED_FS_HOST/ca/tlsca.example.com-cert.pem > /tmp/tlsca.example.com-cert.pem\"\n",
    "    executePeerCmd(pod_name,\"curl --user scray:scray http://10.15.136.41:30080/upload/org3_update_in_envelope.pb -o /tmp/org3_update_in_envelope.pb\")\n",
    "    executePeerCmd(pod_name,\"peer channel signconfigtx -f /tmp/org3_update_in_envelope.pb\")\n",
    "    executePeerCmd(pod_name,\"curl --user scray:scray -T /tmp/org3_update_in_envelope.pb http://10.15.136.41:30080/upload/org3_update_in_envelope.pb\")\n",
    "       \n",
    "def joinHyperledger(pod_name,orderer_ip,orderer_hostname,channel_name):    \n",
    "    #setPeerEnvironment(peername)    \n",
    "    #!/home/jovyan/work/usr/bin/kubectl exec --stdin --tty $POD_NAME  -c scray-peer-cli -- /bin/sh /mnt/conf/peer_join.sh $ORDERER_IP  $ORDERER_HOSTNAME $CHANNEL_NAME    \n",
    "    try:  \n",
    "        output  = subprocess.check_output(['/home/jovyan/work/usr/bin/kubectl', 'exec','--stdin', '--tty', pod_name, '-c', 'scray-peer-cli','--', '/bin/sh','/mnt/conf/peer_join.sh',\n",
    "                                           orderer_ip,orderer_hostname,channel_name])\n",
    "        return output\n",
    "    except Exception as e:\n",
    "        return str(e)\n",
    "    \n",
    "def installAndAproveChaincode():\n",
    "    # Host where the chaincode is running\n",
    "    os.environ['IP_CC_SERVICE']='10.14.128.38'\n",
    "    #Host where the example network is running\n",
    "    os.environ['IP_OF_EXAMPLE_NETWORK']='10.15.128.97'\n",
    "    !/home/jovyan/work/usr/bin/kubectl exec --stdin --tty $POD_NAME -c scray-peer-cli -- /bin/sh /mnt/conf/install_and_approve_cc.sh $IP_CC_SERVICE $IP_OF_EXAMPLE_NETWORK\n",
    "    \n",
    "    "
   ]
  },
  {
   "cell_type": "code",
   "execution_count": 557,
   "metadata": {},
   "outputs": [],
   "source": [
    "#deletePeer('tanja5')\n",
    "config = getConfigmap()"
   ]
  },
  {
   "cell_type": "code",
   "execution_count": 558,
   "metadata": {},
   "outputs": [
    {
     "data": {
      "text/plain": [
       "43"
      ]
     },
     "execution_count": 558,
     "metadata": {},
     "output_type": "execute_result"
    }
   ],
   "source": [
    "len(config['items'])"
   ]
  },
  {
   "cell_type": "code",
   "execution_count": 414,
   "metadata": {},
   "outputs": [
    {
     "data": {
      "text/plain": [
       "\"Command '['/home/jovyan/work/usr/bin/kubectl', 'delete', 'service', 'bbc2']' returned non-zero exit status 1.\""
      ]
     },
     "execution_count": 414,
     "metadata": {},
     "output_type": "execute_result"
    }
   ],
   "source": [
    "def deleteAllPeers(config):\n",
    "    for item in config['items']:\n",
    "        deletePeer(item['data']['org_name'])\n",
    "        \n",
    "#deleteAllPeers(config)\n",
    "#deletePeer('bbc2')"
   ]
  },
  {
   "cell_type": "code",
   "execution_count": 22,
   "metadata": {},
   "outputs": [
    {
     "data": {
      "text/plain": [
       "''"
      ]
     },
     "execution_count": 22,
     "metadata": {},
     "output_type": "execute_result"
    }
   ],
   "source": [
    "def downloadToLocal(host='10.15.136.41:30080',user='scray', pwd='scray',\n",
    "                    local_path='./', local_name='' ,remote_path='upload'):  \n",
    "    try:    \n",
    "        output = subprocess.check_output(['curl', '--user',user + ':' + pwd, \n",
    "                                               'http://' + host + '/' + remote_path + '/' + local_name, '-o', local_path + '/' + local_name])\n",
    "        #return str(callProcess)[3:-3]\n",
    "        return output.decode('ascii')\n",
    "    except Exception as e:\n",
    "        return str(e)     \n",
    "                    \n",
    "                    \n",
    "#downloadToLocal(local_path='./', local_name='org3_update_in_envelope.pb' ,remote_path='upload')"
   ]
  },
  {
   "cell_type": "code",
   "execution_count": 321,
   "metadata": {},
   "outputs": [],
   "source": [
    "class kubernetespeer:\n",
    "    def __init__(self, name='',pod_name='',listen_port='',gossip_port=''):\n",
    "        self.name = name\n",
    "        self.pod_name = pod_name\n",
    "        self.listen_port = listen_port\n",
    "        self.gossip_port = gossip_port\n",
    "    def getCertificate(self):\n",
    "        try:\n",
    "            return str(subprocess.check_output(['cat', self.crt]))[2:-3]   \n",
    "        except Exception as e:\n",
    "            return str(e)"
   ]
  },
  {
   "cell_type": "markdown",
   "metadata": {},
   "source": [
    "# Multiple version"
   ]
  },
  {
   "cell_type": "code",
   "execution_count": 307,
   "metadata": {},
   "outputs": [],
   "source": [
    "peers = {}\n",
    "#streetno[\"1\"] = \"Sachin Tendulkar\" "
   ]
  },
  {
   "cell_type": "code",
   "execution_count": 471,
   "metadata": {},
   "outputs": [
    {
     "data": {
      "application/vnd.jupyter.widget-view+json": {
       "model_id": "b514fab39a8e4adbac19e22daf97b8c3",
       "version_major": 2,
       "version_minor": 0
      },
      "text/plain": [
       "Text(value='', description='name', layout=Layout(width='500px'), style=DescriptionStyle(description_width='250…"
      ]
     },
     "metadata": {},
     "output_type": "display_data"
    },
    {
     "data": {
      "application/vnd.jupyter.widget-view+json": {
       "model_id": "cab4b861463d45608af68a10f4c8366d",
       "version_major": 2,
       "version_minor": 0
      },
      "text/plain": [
       "Text(value='', description='pod name', disabled=True, layout=Layout(width='500px'), style=DescriptionStyle(des…"
      ]
     },
     "metadata": {},
     "output_type": "display_data"
    }
   ],
   "source": [
    "import os\n",
    "import json\n",
    "import subprocess\n",
    "import pandas as pd\n",
    "\n",
    "def initpeer(peername):\n",
    "    pod_name = getPod(peername)\n",
    "    listen_port = getPort(peername=peername, name ='peer-listen')\n",
    "    gossip_port = getPort(peername=peername, name ='peer-gossip')\n",
    "    return kubernetespeer(name=peername,pod_name=pod_name,listen_port=listen_port,gossip_port=gossip_port)\n",
    "   \n",
    "def addPeer(peername):  \n",
    "    if peername in peers.keys():\n",
    "        pod_name_text.value = peers[peername].pod_name\n",
    "        return\n",
    "    os.environ['PEER_NAME'] = peername\n",
    "    !cd /home/jovyan/scray/projects/invoice-hyperledger-fabric/containers/ && /home/jovyan/scray/projects/invoice-hyperledger-fabric/containers/configure-deployment.sh -n $PEER_NAME\n",
    "    !/home/jovyan/work/usr/bin/kubectl apply -f /home/jovyan/scray/projects/invoice-hyperledger-fabric/containers/target/$PEER_NAME/k8s-peer-service.yaml\n",
    "    print('done')\n",
    "    setPeerPorts(peername)\n",
    "    res = createConfig(peername=peername,peer_listen_port=os.environ['PEER_LISTEN_PORT'],peer_gossip_port=os.environ['GOSSIP_PORT'])\n",
    "    print(res)\n",
    "    !/home/jovyan/work/usr/bin/kubectl apply -f /home/jovyan/scray/projects/invoice-hyperledger-fabric/containers/target/$PEER_NAME/k8s-peer.yaml\n",
    "    peer = initpeer(peername)\n",
    "    peers[peername] = peer\n",
    "    \n",
    "def handle_submit(text):\n",
    "    global peername\n",
    "    peername = text.value\n",
    "    addPeer(peername)\n",
    "    \n",
    "peertext      = addVisText(key='name',value='')\n",
    "pod_name_text = addVisText(key='pod name',disabled=True)\n",
    "#pod_name_text.disabled=True\n",
    "\n",
    "peertext.on_submit(handle_submit)      "
   ]
  },
  {
   "cell_type": "code",
   "execution_count": null,
   "metadata": {},
   "outputs": [],
   "source": [
    "#deletePeer('tanja99')\n",
    "for x in range(0,10):\n",
    "    peerneme = 'sally' + str(x)\n",
    "    #addPeer(peerneme)\n",
    "    #deletePeer(peerneme)"
   ]
  },
  {
   "cell_type": "code",
   "execution_count": 469,
   "metadata": {},
   "outputs": [
    {
     "data": {
      "text/plain": [
       "False"
      ]
     },
     "execution_count": 469,
     "metadata": {},
     "output_type": "execute_result"
    }
   ],
   "source": [
    "#peer=initpeer('sally8')\n",
    "peer=peers['sally8']\n",
    "peer.name,peer.pod_name, peer.listen_port\n",
    "#'sally28' in peers.keys()"
   ]
  },
  {
   "cell_type": "markdown",
   "metadata": {},
   "source": [
    "Step2: Sign by majority of old peers"
   ]
  },
  {
   "cell_type": "code",
   "execution_count": 533,
   "metadata": {},
   "outputs": [],
   "source": [
    "# download current orgs\n",
    "downloadToLocal(local_path='/tmp', local_name='org_msp.json' ,remote_path='upload')\n",
    "\n",
    "with open('/tmp/org_msp.json', 'r') as fp:\n",
    "    data = json.load(fp)\n",
    "    \n",
    "#data[0][:-3]\n",
    "def addKubernetesPeerToPeers(name):\n",
    "    peer=initpeer(name)\n",
    "    # todo check if it exists\n",
    "    peers[name]=peer\n",
    "    \n",
    "#peer.name,peer.pod_name, peer.listen_port\n",
    "#peers.keys()"
   ]
  },
  {
   "cell_type": "code",
   "execution_count": 580,
   "metadata": {},
   "outputs": [
    {
     "data": {
      "text/plain": [
       "['Org1MSP',\n",
       " 'Org2MSP',\n",
       " 'sally0MSP',\n",
       " 'sally1MSP',\n",
       " 'sally2MSP',\n",
       " 'sally3MSP',\n",
       " 'sally4MSP']"
      ]
     },
     "execution_count": 580,
     "metadata": {},
     "output_type": "execute_result"
    }
   ],
   "source": [
    "data"
   ]
  },
  {
   "cell_type": "code",
   "execution_count": 535,
   "metadata": {},
   "outputs": [],
   "source": [
    "for name in data:\n",
    "    if name[:-3] in peers:\n",
    "        peer = peers[name[:-3]]\n",
    "        addBashEnvToPeer(peer.pod_name, peer.listen_port)\n",
    "        sign(peer.pod_name)"
   ]
  },
  {
   "cell_type": "markdown",
   "metadata": {},
   "source": [
    "Step 3"
   ]
  },
  {
   "cell_type": "code",
   "execution_count": 536,
   "metadata": {},
   "outputs": [
    {
     "data": {
      "text/plain": [
       "b'fetch http://dl-cdn.alpinelinux.org/alpine/v3.12/main/x86_64/APKINDEX.tar.gz\\nfetch http://dl-cdn.alpinelinux.org/alpine/v3.12/community/x86_64/APKINDEX.tar.gz\\n(1/1) Installing curl (7.69.1-r3)\\nExecuting busybox-1.31.1-r16.trigger\\nOK: 29 MiB in 28 packages\\n(1/17) Installing fstrm (0.6.0-r1)\\n(2/17) Installing libgcc (9.3.0-r2)\\n(3/17) Installing krb5-conf (1.0-r2)\\n(4/17) Installing libcom_err (1.45.6-r0)\\n(5/17) Installing keyutils-libs (1.6.1-r1)\\n(6/17) Installing libverto (0.3.1-r1)\\n(7/17) Installing krb5-libs (1.18.3-r0)\\n(8/17) Installing json-c (0.14-r1)\\n(9/17) Installing libstdc++ (9.3.0-r2)\\n(10/17) Installing libprotobuf (3.12.2-r0)\\n(11/17) Installing libprotoc (3.12.2-r0)\\n(12/17) Installing protobuf-c (1.3.3-r1)\\n(13/17) Installing libuv (1.38.1-r0)\\n(14/17) Installing xz-libs (5.2.5-r0)\\n(15/17) Installing libxml2 (2.9.10-r5)\\n(16/17) Installing bind-libs (9.16.6-r0)\\n(17/17) Installing bind-tools (9.16.6-r0)\\nExecuting busybox-1.31.1-r16.trigger\\nOK: 42 MiB in 45 packages\\n'"
      ]
     },
     "execution_count": 536,
     "metadata": {},
     "output_type": "execute_result"
    }
   ],
   "source": [
    "pod_name   = peers['sally5'].pod_name\n",
    "orderer_ip = '10.15.128.97'\n",
    "orderer_hostname = 'orderer.example.com'\n",
    "channel_name = 'mychannel'  \n",
    "joinHyperledger(pod_name,orderer_ip,orderer_hostname,channel_name)"
   ]
  },
  {
   "cell_type": "markdown",
   "metadata": {},
   "source": [
    "# Install and aprove chaincode"
   ]
  },
  {
   "cell_type": "code",
   "execution_count": 542,
   "metadata": {},
   "outputs": [
    {
     "name": "stdout",
     "output_type": "stream",
     "text": [
      "  % Total    % Received % Xferd  Average Speed   Time    Time     Time  Current\n",
      "                                 Dload  Upload   Total   Spent    Left  Speed\n",
      "100   450  100   450    0     0   2238      0 --:--:-- --:--:-- --:--:--  2238\n",
      "\u001b[34m2021-01-05 08:05:48.681 UTC [cli.lifecycle.chaincode] submitInstallProposal -> INFO 001\u001b[0m Installed remotely: response:<status:200 payload:\"\\nJbasic_1.0:5a294a12a1a89cd4eed3d4234fbc79f42eab2ac20cd176bc8ebbc07c597cd0ee\\022\\tbasic_1.0\" > \n",
      "\u001b[34m2021-01-05 08:05:48.681 UTC [cli.lifecycle.chaincode] submitInstallProposal -> INFO 002\u001b[0m Chaincode code package identifier: basic_1.0:5a294a12a1a89cd4eed3d4234fbc79f42eab2ac20cd176bc8ebbc07c597cd0ee\n",
      "\u001b[34m2021-01-05 08:05:50.964 UTC [chaincodeCmd] ClientWait -> INFO 001\u001b[0m txid [5a325e4b8409865982f303722864066f9f607cfd3bb859b7e9eccaf8e46c994d] committed with status (VALID) at peer0.kubernetes.research.dev.seeburger.de:31193\n"
     ]
    }
   ],
   "source": [
    "setPeerEnvironment('sally5')\n",
    "installAndAproveChaincode()"
   ]
  },
  {
   "cell_type": "code",
   "execution_count": 560,
   "metadata": {},
   "outputs": [
    {
     "data": {
      "text/plain": [
       "b'# Kubernetes-managed hosts file.\\n127.0.0.1\\tlocalhost\\n::1\\tlocalhost ip6-localhost ip6-loopback\\nfe00::0\\tip6-localnet\\nfe00::0\\tip6-mcastprefix\\nfe00::1\\tip6-allnodes\\nfe00::2\\tip6-allrouters\\n10.32.0.55\\tsally3-fc88b84b-57sdq\\n10.15.128.97 orderer.example.com\\n10.15.136.41 peer0.kubernetes.research.dev.seeburger.de\\n10.14.128.38 asset-transfer-basic.org1.example.com\\n10.15.128.97 peer0.org1.example.com peer0.org2.example.com orderer.example.com\\n'"
      ]
     },
     "execution_count": 560,
     "metadata": {},
     "output_type": "execute_result"
    }
   ],
   "source": [
    "executePeerCmd(pod_name,\"more /etc/hosts\")\n",
    "#executePeerCmd(pod_name,\"curl --user scray:scray http://10.15.136.41:30080/upload/org3_update_in_envelope.pb -o /tmp/org3_update_in_envelope.pb\")"
   ]
  },
  {
   "cell_type": "code",
   "execution_count": null,
   "metadata": {},
   "outputs": [],
   "source": [
    "peer lifecycle chaincode commit -o orderer.example.com:7050 --ordererTLSHostnameOverride orderer.example.com \n",
    "--tls --cafile $CERT_BASE_PATH/organizations/ordererOrganizations/example.com/orderers/orderer.example.com/msp/tlscacerts/tlsca.example.com-cert.pem --channelID mychannel --name basic --peerAddresses peer0.org1.example.com:7051 --tlsRootCertFiles $CERT_BASE_PATH/organizations/peerOrganizations/org1.example.com/peers/peer0.org1.example.com/tls/ca.crt --peerAddresses peer0.org2.example.com:9051 --tlsRootCertFiles ${CERT_BASE_PATH}/organizations/peerOrganizations/org2.example.com/peers/peer0.org2.example.com/tls/ca.crt --version 1.0 --sequence 1\n"
   ]
  },
  {
   "cell_type": "code",
   "execution_count": 578,
   "metadata": {},
   "outputs": [],
   "source": [
    "def commit():\n",
    "    try:    \n",
    "        #crtnew = '\\\" + getCrt(org='klaus') + '\\\"\n",
    "        getCrt(org='klaus')\n",
    "        output = subprocess.check_output(['peer', 'lifecycle','chaincode','commit','-o',addr0,'--ordererTLSHostnameOverride',orderer,\n",
    "                                          '--tls','--cafile',ordererpem,'--channelID','mychannel','--name','basic',\n",
    "                                          '--peerAddresses',addr1, '--tlsRootCertFiles', crt1, \n",
    "                                          '--peerAddresses', addr2, '--tlsRootCertFiles', crt2, \n",
    "                                          '--peerAddresses', 'peer0.scray.org', '--tlsRootCertFiles', '/tmp/new.crt',\n",
    "                                          #'--peerAddresses', 'kubernetes.research.dev.seeburger.de:32190', '--tlsRootCertFiles', '/tmp/new.crt',\n",
    "                                          '--version', '1.0', '--sequence', '1','--tlsRootCertFiles'])\n",
    "        return output.decode('ascii')\n",
    "    except Exception as e:\n",
    "        return str(e)\n",
    "    \n",
    "def getCrt(org='',domain='kubernetes.research.dev.seeburger.de',host='10.15.136.41:30080',user='scray', pwd='scray',channel='mychannel'):\n",
    "    try:    \n",
    "        output = subprocess.check_output(['curl', '--user',user + ':' + pwd, \n",
    "                                               'http://' + host + '/ca/' + channel + '/' + org + '-' + domain + '-ca.crt'])\n",
    "        #return str(callProcess)[3:-3]\n",
    "        return output.decode('ascii')\n",
    "    except Exception as e:\n",
    "        return str(e)    \n",
    "\n",
    "def getCrtName(org='', domain='kubernetes.research.dev.seeburger.de'):\n",
    "    return str(org + '-' + domain + '-ca.crt')\n",
    "    \n",
    "def getCrtToLocalCmd(org='',topath='/tmp',domain='kubernetes.research.dev.seeburger.de',host='10.15.136.41:30080',user='scray', pwd='scray',channel='mychannel'):\n",
    "    crtname = getCrtName(org, domain)\n",
    "    return str('curl --user ' + user + ':' + pwd + \\\n",
    "            ' http://' + host + '/ca/' + channel + '/' + crtname +  ' -o ' +  ' /tmp/' + crtname)\n",
    "        \n",
    "        \n",
    "def getCrtToLocal(org='',topath='/tmp',domain='kubernetes.research.dev.seeburger.de',host='10.15.136.41:30080',user='scray', pwd='scray',channel='mychannel'):\n",
    "    try:    \n",
    "        output = subprocess.check_output(['curl', '--user',user + ':' + pwd, \n",
    "                                               'http://' + host + '/ca/' + channel + '/' + getCrtName(org, domain), '-o', '/tmp/' + getCrtName(org, domain)])\n",
    "        #return str(callProcess)[3:-3]\n",
    "        return output.decode('ascii')\n",
    "    except Exception as e:\n",
    "        return str(e)       "
   ]
  },
  {
   "cell_type": "markdown",
   "metadata": {},
   "source": [
    "commit chaincode"
   ]
  },
  {
   "cell_type": "code",
   "execution_count": 593,
   "metadata": {},
   "outputs": [],
   "source": [
    "addr0 = 'orderer.example.com:7050'\n",
    "orderer = 'orderer.example.com'\n",
    "ordererpem = '/tmp/tlsca.example.com-cert.pem'\n",
    "cmd1 = 'peer lifecycle chaincode commit -o ' + addr0 + ' --ordererTLSHostnameOverride ' + orderer + ' --tls --cafile ' + ordererpem + ' --channelID mychannel --name basic'\n",
    "cmd2 = ' --version 1.0 --sequence 1'\n",
    "\n",
    "def getPart(peer, org='kubernetes.research.dev.seeburger.de'):\n",
    "    return getCrtToLocalCmd(org=peer.name)\n",
    "    #return '--peerAddresses ' + org + ':' + peer.listen_port + ' --tlsRootCertFiles ' +  crt1\n",
    "\n",
    "destpeer = peers['sally3']    \n",
    "for name in data:\n",
    "    if name[:-3] in peers:\n",
    "        peer = peers[name[:-3]]    \n",
    "        cmd = getPart(peer)\n",
    "        executePeerCmd(destpeer.pod_name,cmd)\n",
    "\n",
    "addr='peer0.kubernetes.research.dev.seeburger.de'\n",
    "crts=''\n",
    "for name in data:\n",
    "    if name[:-3] in peers:\n",
    "        peer = peers[name[:-3]] \n",
    "        crts = crts + str(' --peerAddresses ' + addr + ':' + peer.listen_port + ' --tlsRootCertFiles ' +  '/tmp/' + getCrtName(org=peer.name))"
   ]
  },
  {
   "cell_type": "code",
   "execution_count": 594,
   "metadata": {},
   "outputs": [
    {
     "data": {
      "text/plain": [
       "b''"
      ]
     },
     "execution_count": 594,
     "metadata": {},
     "output_type": "execute_result"
    }
   ],
   "source": [
    "executePeerCmd(destpeer.pod_name,cmd1 + crts + cmd2)"
   ]
  },
  {
   "cell_type": "code",
   "execution_count": null,
   "metadata": {},
   "outputs": [],
   "source": [
    "peer lifecycle chaincode queryinstalled --peerAddresses peer0.kubernetes.research.dev.seeburger.de:32733 --tlsRootCertFiles /tmp/sally3-kubernetes.research.dev.seeburger.de-ca.crt"
   ]
  },
  {
   "cell_type": "code",
   "execution_count": 599,
   "metadata": {},
   "outputs": [
    {
     "data": {
      "text/plain": [
       "'{\\n\\t\"installed_chaincodes\": [\\n\\t\\t{\\n\\t\\t\\t\"package_id\": \"basic_1.0:5a294a12a1a89cd4eed3d4234fbc79f42eab2ac20cd176bc8ebbc07c597cd0ee\",\\n\\t\\t\\t\"label\": \"basic_1.0\",\\n\\t\\t\\t\"references\": {\\n\\t\\t\\t\\t\"mychannel\": {\\n\\t\\t\\t\\t\\t\"chaincodes\": [\\n\\t\\t\\t\\t\\t\\t{\\n\\t\\t\\t\\t\\t\\t\\t\"name\": \"basic\",\\n\\t\\t\\t\\t\\t\\t\\t\"version\": \"1.0\"\\n\\t\\t\\t\\t\\t\\t}\\n\\t\\t\\t\\t\\t]\\n\\t\\t\\t\\t}\\n\\t\\t\\t}\\n\\t\\t}\\n\\t]\\n}\\n'"
      ]
     },
     "execution_count": 599,
     "metadata": {},
     "output_type": "execute_result"
    }
   ],
   "source": [
    "pod_name   = peers['sally3'].pod_name\n",
    "executePeerCmd(pod_name, \"peer lifecycle chaincode queryinstalled --peerAddresses peer0.kubernetes.research.dev.seeburger.de:32733 --tlsRootCertFiles /tmp/sally3-kubernetes.research.dev.seeburger.de-ca.crt --output json\")"
   ]
  },
  {
   "cell_type": "code",
   "execution_count": null,
   "metadata": {},
   "outputs": [],
   "source": [
    " peer chaincode query -C mychannel -n basic -c '{\"function\":\"GetAllAssets\",\"Args\":[]}' --peerAddresses peer0.kubernetes.research.dev.seeburger.de:32733 --tlsRootCertFiles /tmp/sally3-kubernetes.research.dev.seeburger.de-ca.crt"
   ]
  },
  {
   "cell_type": "code",
   "execution_count": 145,
   "metadata": {},
   "outputs": [
    {
     "name": "stdout",
     "output_type": "stream",
     "text": [
      "kubectl exec [POD] [COMMAND] is DEPRECATED and will be removed in a future version. Use kubectl kubectl exec [POD] -- [COMMAND] instead.\n"
     ]
    }
   ],
   "source": [
    "setPeerEnvironment(peername)\n",
    "\n",
    "#!/home/jovyan/work/usr/bin/kubectl exec --stdin --tty 'lara2-5d8bd488d6-kll5n' -c lara2 -- /bin/bash pwd"
   ]
  },
  {
   "cell_type": "code",
   "execution_count": 240,
   "metadata": {},
   "outputs": [],
   "source": [
    "########## execute commands in container\n",
    "#!/home/jovyan/work/usr/bin/kubectl  exec -it $POD_NAME -c maja3 -- /bin/sh -c \"ls -l / && hostname\"\n",
    "#!/home/jovyan/work/usr/bin/kubectl  exec -it $POD_NAME -c scray-peer-cli -- /bin/bash -c \"ls -l / && hostname\"\n",
    "#!/home/jovyan/work/usr/bin/kubectl  exec -it $POD_NAME -c scray-peer-cli -- /bin/bash -c \"echo 'export ORDERER_CA=/tmp/tlsca.example.com-cert.pem' >> /root/.bashrc\""
   ]
  },
  {
   "cell_type": "code",
   "execution_count": 102,
   "metadata": {},
   "outputs": [
    {
     "name": "stdout",
     "output_type": "stream",
     "text": [
      "/bin/sh: can't open 'export': No such file or directory\n",
      "command terminated with exit code 2\n"
     ]
    }
   ],
   "source": [
    "#setPeerEnvironment('tanja2')\n",
    "#!/home/jovyan/work/usr/bin/kubectl exec --stdin --tty $POD_NAME  -c scray-peer-cli --  /bin/sh export ORDERER_CA=\"/tmp/tlsca.example.com-cert.pem\"\n",
    "#!/home/jovyan/work/usr/bin/kubectl exec --stdin --tty $POD_NAME  -c scray-peer-cli --  ORDERER_HOSTNAME=\"orderer.example.com\"\n",
    "#!/home/jovyan/work/usr/bin/kubectl exec --stdin --tty $POD_NAME  -c scray-peer-cli --  CHANNEL_NAME=\"mychannel\"\n",
    "#!/home/jovyan/work/usr/bin/kubectl exec --stdin --tty $POD_NAME  -c scray-peer-cli --  CORE_PEER_ADDRESS=\"peer0.kubernetes.research.dev.seeburger.de:32222\"\n",
    "#!/home/jovyan/work/usr/bin/kubectl exec --stdin --tty $POD_NAME  -c scray-peer-cli --  CORE_PEER_MSPCONFIGPATH=\"/mnt/conf/organizations/peerOrganizations/kubernetes.research.dev.seeburger.de/users/Admin@kubernetes.research.dev.seeburger.de/msp\"\n",
    "\n",
    "\n",
    "!/home/jovyan/work/usr/bin/kubectl exec --stdin --tty $POD_NAME  -c scray-peer-cli -- env | fgrep ORDERER_HOSTNAME"
   ]
  },
  {
   "cell_type": "code",
   "execution_count": 241,
   "metadata": {},
   "outputs": [
    {
     "name": "stdout",
     "output_type": "stream",
     "text": [
      "maja2-54db4fffd6-lqzbr 30781\n"
     ]
    }
   ],
   "source": [
    "peername='maja2'\n",
    "setPeerEnvironment(peername)\n",
    "os.environ['ORDERER_HOSTNAME'] = 'orderer.example.com'\n",
    "#!/home/jovyan/work/usr/bin/kubectl exec --stdin --tty $POD_NAME  -c scray-peer-cli -- env | fgrep ORDERER\n",
    "#!/home/jovyan/work/usr/bin/kubectl exec --stdin --tty $POD_NAME  -c scray-peer-cli -- which export\n",
    "print(getPod(peername),getPort(peername=peername, name='peer-listen'))"
   ]
  },
  {
   "cell_type": "code",
   "execution_count": null,
   "metadata": {},
   "outputs": [],
   "source": [
    "export ORDERER_CA=/tmp/tlsca.example.com-cert.pem\n",
    "export ORDERER_HOSTNAME=\"orderer.example.com\"\n",
    "export CHANNEL_NAME=\"mychannel\"\n",
    "export CORE_PEER_ADDRESS=\"peer0.kubernetes.research.dev.seeburger.de:32190\"\n",
    "export CORE_PEER_MSPCONFIGPATH=\"/mnt/conf/organizations/peerOrganizations/kubernetes.research.dev.seeburger.de/users/Admin@kubernetes.research.dev.seeburger.de/msp\"\n",
    "export SHARED_FS_HOST=10.15.136.41:30080\n",
    "export SHARED_FS_USER=scray\n",
    "export SHARED_FS_PW=scray\n",
    "\n",
    "curl --user $SHARED_FS_USER:$SHARED_FS_PW http://$SHARED_FS_HOST/ca/tlsca.example.com-cert.pem > /tmp/tlsca.example.com-cert.pem\n",
    "curl --user scray:scray http://10.15.136.41:30080/upload/org3_update_in_envelope.pb -o ./org3_update_in_envelope.pb\n",
    "peer channel signconfigtx -f org3_update_in_envelope.pb\n",
    "curl --user scray:scray -T ./org3_update_in_envelope.pb http://10.15.136.41:30080/upload/org3_update_in_envelope.pb\n",
    "  "
   ]
  },
  {
   "cell_type": "code",
   "execution_count": 89,
   "metadata": {},
   "outputs": [
    {
     "name": "stdout",
     "output_type": "stream",
     "text": [
      "-rw-r--r-- 1 jovyan users 11348 Dec 22 17:46 ./org3_update_in_envelope.pb\n",
      "  % Total    % Received % Xferd  Average Speed   Time    Time     Time  Current\n",
      "                                 Dload  Upload   Total   Spent    Left  Speed\n",
      "100  9666  100  9666    0     0   524k      0 --:--:-- --:--:-- --:--:--  555k\n",
      "\u001b[34m2020-12-23 12:07:28.595 UTC [channelCmd] InitCmdFactory -> INFO 001\u001b[0m Endorser and orderer connections initialized\n"
     ]
    }
   ],
   "source": [
    "!ls -l ./*.pb\n",
    "\n",
    "#sign update\n",
    "#createEnvironmentForPeer(localmspid=mspid2, tlsrootcert=crt2, mspconfigpath=msp2, peeraddress=addr2)\n",
    "#setPeerEnvironment('carla1')\n",
    "setPeerEnvironment('tanja2')\n",
    "!/home/jovyan/work/usr/bin/kubectl exec --stdin --tty $POD_NAME  -c scray-peer-cli -- curl --user scray:scray http://10.15.136.41:30080/upload/org3_update_in_envelope.pb -o ./org3_update_in_envelope.pb\n",
    "!/home/jovyan/work/usr/bin/kubectl exec --stdin --tty $POD_NAME  -c scray-peer-cli -- peer channel signconfigtx -f org3_update_in_envelope.pb\n",
    "!/home/jovyan/work/usr/bin/kubectl exec --stdin --tty $POD_NAME  -c scray-peer-cli -- curl --user scray:scray -T ./org3_update_in_envelope.pb http://10.15.136.41:30080/upload/org3_update_in_envelope.pb\n",
    "  "
   ]
  },
  {
   "cell_type": "markdown",
   "metadata": {},
   "source": [
    "# Install and aprove chaincode"
   ]
  },
  {
   "cell_type": "code",
   "execution_count": 115,
   "metadata": {},
   "outputs": [
    {
     "name": "stdout",
     "output_type": "stream",
     "text": [
      "  % Total    % Received % Xferd  Average Speed   Time    Time     Time  Current\n",
      "                                 Dload  Upload   Total   Spent    Left  Speed\n",
      "100   450  100   450    0     0   3308      0 --:--:-- --:--:-- --:--:--  3308\n",
      "\u001b[34m2020-12-23 17:07:53.909 UTC [cli.lifecycle.chaincode] submitInstallProposal -> INFO 001\u001b[0m Installed remotely: response:<status:200 payload:\"\\nJbasic_1.0:5a294a12a1a89cd4eed3d4234fbc79f42eab2ac20cd176bc8ebbc07c597cd0ee\\022\\tbasic_1.0\" > \n",
      "\u001b[34m2020-12-23 17:07:53.909 UTC [cli.lifecycle.chaincode] submitInstallProposal -> INFO 002\u001b[0m Chaincode code package identifier: basic_1.0:5a294a12a1a89cd4eed3d4234fbc79f42eab2ac20cd176bc8ebbc07c597cd0ee\n",
      "\u001b[34m2020-12-23 17:07:56.108 UTC [chaincodeCmd] ClientWait -> INFO 001\u001b[0m txid [c35fbb455b3f8f341299c7689289e2f39d1d428a1ad6a058bbc01eb18957f794] committed with status (VALID) at peer0.kubernetes.research.dev.seeburger.de:32190\n"
     ]
    }
   ],
   "source": [
    "setPeerEnvironment('tanja2')\n",
    "installAndAproveChaincode()"
   ]
  },
  {
   "cell_type": "code",
   "execution_count": 116,
   "metadata": {},
   "outputs": [
    {
     "name": "stdout",
     "output_type": "stream",
     "text": [
      "OCI runtime exec failed: exec failed: container_linux.go:349: starting container process caused \"exec: \\\"lifecycle\\\": executable file not found in $PATH\": unknown\n",
      "command terminated with exit code 126\n"
     ]
    }
   ],
   "source": [
    "#!/home/jovyan/work/usr/bin/kubectl exec --stdin --tty $POD_NAME -c scray-peer-cli -- lifecycle chaincode querycommitted --channelID mychannel --name basic --output json"
   ]
  },
  {
   "cell_type": "code",
   "execution_count": 117,
   "metadata": {},
   "outputs": [
    {
     "name": "stdout",
     "output_type": "stream",
     "text": [
      "tanja2-768f8dd45d-f6z66 10.14.128.38 10.15.128.97\n",
      "  % Total    % Received % Xferd  Average Speed   Time    Time     Time  Current\n",
      "                                 Dload  Upload   Total   Spent    Left  Speed\n",
      "100   450  100   450    0     0   1956      0 --:--:-- --:--:-- --:--:--  1956\n",
      "Error: chaincode install failed with status: 500 - failed to invoke backing implementation of 'InstallChaincode': chaincode already successfully installed\n",
      "Error: proposal failed with status: 500 - failed to invoke backing implementation of 'ApproveChaincodeDefinitionForMyOrg': attempted to redefine uncommitted sequence (1) for namespace basic with unchanged content\n",
      "command terminated with exit code 1\n"
     ]
    }
   ],
   "source": [
    "#setPeerEnvironment('klaus')\n",
    "!echo  $POD_NAME $IP_CC_SERVICE $IP_OF_EXAMPLE_NETWORK\n",
    "\n",
    "# Host where the chaincode is running\n",
    "os.environ['IP_CC_SERVICE']='10.14.128.38'\n",
    "#Host where the example network is running\n",
    "os.environ['IP_OF_EXAMPLE_NETWORK']='10.15.128.97'\n",
    "!/home/jovyan/work/usr/bin/kubectl exec --stdin --tty $POD_NAME -c scray-peer-cli -- /bin/sh /mnt/conf/install_and_approve_cc.sh $IP_CC_SERVICE $IP_OF_EXAMPLE_NETWORK"
   ]
  },
  {
   "cell_type": "code",
   "execution_count": 547,
   "metadata": {},
   "outputs": [
    {
     "name": "stdout",
     "output_type": "stream",
     "text": [
      "127.0.0.1\tlocalhost\n",
      "::1\tlocalhost ip6-localhost ip6-loopback\n",
      "fe00::0\tip6-localnet\n",
      "ff00::0\tip6-mcastprefix\n",
      "ff02::1\tip6-allnodes\n",
      "ff02::2\tip6-allrouters\n",
      "172.17.0.2\t761f91b722c1\n"
     ]
    }
   ],
   "source": [
    "#!ping orderer.example.com 7050\n",
    "!more /etc/hosts"
   ]
  },
  {
   "cell_type": "markdown",
   "metadata": {},
   "source": [
    "# ------------------------------------------------------------------------"
   ]
  },
  {
   "cell_type": "markdown",
   "metadata": {},
   "source": [
    "# Shell only"
   ]
  },
  {
   "cell_type": "code",
   "execution_count": null,
   "metadata": {},
   "outputs": [],
   "source": [
    "#!echo $GOSSIP_PORT, $PEER_NAME\n",
    "getPort(peername=peername, name='peer-listen')"
   ]
  },
  {
   "cell_type": "code",
   "execution_count": null,
   "metadata": {},
   "outputs": [],
   "source": [
    "GOSSIP_PORT=$(kubectl get service $PEER_NAME -o jsonpath=\"{.spec.ports[?(@.name=='peer-gossip')].nodePort}\")\n",
    "PEER_LISTEN_PORT=$(kubectl get service $PEER_NAME -o jsonpath=\"{.spec.ports[?(@.name=='peer-listen')].nodePort}\")\n",
    "PEER_CHAINCODE_PORT=$(kubectl get service $PEER_NAME -o jsonpath=\"{.spec.ports[?(@.name=='peer-chaincode')].nodePort}\")\n"
   ]
  },
  {
   "cell_type": "code",
   "execution_count": null,
   "metadata": {},
   "outputs": [],
   "source": [
    "!echo $(/home/jovyan/work/usr/bin/kubectl get service $PEER_NAME -o jsonpath=\"{.spec.ports[?(@.name=='peer-gossip')].nodePort}\")\n",
    "!echo $(/home/jovyan/work/usr/bin/kubectl get service $PEER_NAME -o jsonpath=\"{.spec.ports[?(@.name=='peer-listen')].nodePort}\")\n",
    "!echo $(/home/jovyan/work/usr/bin/kubectl get service $PEER_NAME -o jsonpath=\"{.spec.ports[?(@.name=='peer-chaincode')].nodePort}\")"
   ]
  },
  {
   "cell_type": "code",
   "execution_count": null,
   "metadata": {},
   "outputs": [],
   "source": [
    "os.environ['GOSSIP_PORT'] = \"32068\"  \n",
    "os.environ['PEER_LISTEN_PORT'] = \"30251\"\n",
    "os.environ['PEER_CHAINCODE_PORT'] = \"30052\"\n",
    "!echo $GOSSIP_PORT\n",
    "#!echo $(/home/jovyan/work/usr/bin/kubectl get service $PEER_NAME -o jsonpath=\"{.spec.ports[?(@.name=='peer-gossip')].nodePort}\")"
   ]
  },
  {
   "cell_type": "code",
   "execution_count": null,
   "metadata": {},
   "outputs": [],
   "source": [
    "!/home/jovyan/work/usr/bin/kubectl create configmap hl-fabric-peer-$PEER_NAME \\\n",
    " --from-literal=hostname=kubernetes.research.dev.seeburger.de \\\n",
    " --from-literal=org_name=$PEER_NAME \\\n",
    " --from-literal=CORE_PEER_ADDRESS=kubernetes.research.dev.seeburger.de:$PEER_LISTEN_PORT \\\n",
    " --from-literal=CORE_PEER_GOSSIP_EXTERNALENDPOINT=kubernetes.research.dev.seeburger.de:$GOSSIP_PORT \\\n",
    " --from-literal=CORE_PEER_LOCALMSPID=${PEER_NAME}MSP"
   ]
  },
  {
   "cell_type": "code",
   "execution_count": null,
   "metadata": {},
   "outputs": [],
   "source": [
    "!/home/jovyan/work/usr/bin/kubectl apply -f /home/jovyan/scray/projects/invoice-hyperledger-fabric/containers/target/$PEER_NAME/k8s-peer.yaml"
   ]
  },
  {
   "cell_type": "code",
   "execution_count": null,
   "metadata": {},
   "outputs": [],
   "source": [
    "POD_NAME=$(/home/jovyan/work/usr/bin/kubectl  get pod -l app=peer0-org1-scray-org -o jsonpath=\"{.items[0].metadata.name}\")\n",
    "kubectl exec --stdin --tty $POD_NAME  -c scray-peer-cli -- /bin/sh /mnt/conf/peer_join.sh $ORDERER_IP  $ORDERER_HOSTNAME $CHANNEL_NAME"
   ]
  },
  {
   "cell_type": "code",
   "execution_count": null,
   "metadata": {},
   "outputs": [],
   "source": [
    "!echo $(/home/jovyan/work/usr/bin/kubectl  get pod -l app=$PEER_NAME -o jsonpath=\"{.items[0].metadata.name}\")\n"
   ]
  },
  {
   "cell_type": "code",
   "execution_count": null,
   "metadata": {},
   "outputs": [],
   "source": [
    "os.environ['POD_NAME'] = \"tom-6647c77bbb-hjlkc\"\n",
    "os.environ['ORDERER_IP'] = '10.15.128.97'\n",
    "os.environ['ORDERER_HOSTNAME'] = 'orderer.example.com'\n",
    "os.environ['CHANNEL_NAME'] = 'mychannel'\n",
    "\n",
    "!/home/jovyan/work/usr/bin/kubectl exec --stdin --tty $POD_NAME  -c scray-peer-cli -- /bin/sh /mnt/conf/peer_join.sh $ORDERER_IP  $ORDERER_HOSTNAME $CHANNEL_NAME"
   ]
  },
  {
   "cell_type": "markdown",
   "metadata": {},
   "source": [
    "# Delete old peer"
   ]
  },
  {
   "cell_type": "code",
   "execution_count": null,
   "metadata": {},
   "outputs": [],
   "source": [
    "!/home/jovyan/work/usr/bin/kubectl delete configmap hl-fabric-peer-klaus\n",
    "!/home/jovyan/work/usr/bin/kubectl delete -f /home/jovyan/scray/projects/invoice-hyperledger-fabric/containers/target/klaus/k8s-peer.yaml\n",
    "!/home/jovyan/work/usr/bin/kubectl delete service klaus"
   ]
  },
  {
   "cell_type": "code",
   "execution_count": 434,
   "metadata": {},
   "outputs": [
    {
     "data": {
      "text/plain": [
       "\"Command '['/home/jovyan/work/usr/bin/kubectl', 'delete', 'service', 'ff']' returned non-zero exit status 1.\""
      ]
     },
     "execution_count": 434,
     "metadata": {},
     "output_type": "execute_result"
    }
   ],
   "source": [
    "#deletePeer('carla1')\n",
    "deletePeer('ff')"
   ]
  },
  {
   "cell_type": "code",
   "execution_count": 451,
   "metadata": {},
   "outputs": [
    {
     "name": "stdout",
     "output_type": "stream",
     "text": [
      "NAME                     DATA   AGE\n",
      "hl-fabric-peer           5      26d\n",
      "hl-fabric-peer-harry0    5      27m\n",
      "hl-fabric-peer-harry1    5      27m\n",
      "hl-fabric-peer-harry10   5      26m\n",
      "hl-fabric-peer-harry11   5      26m\n",
      "hl-fabric-peer-harry12   5      26m\n",
      "hl-fabric-peer-harry13   5      26m\n",
      "hl-fabric-peer-harry14   5      26m\n",
      "hl-fabric-peer-harry15   5      26m\n",
      "hl-fabric-peer-harry16   5      26m\n",
      "hl-fabric-peer-harry17   5      25m\n",
      "hl-fabric-peer-harry18   5      25m\n",
      "hl-fabric-peer-harry19   5      25m\n",
      "hl-fabric-peer-harry2    5      27m\n",
      "hl-fabric-peer-harry20   5      25m\n",
      "hl-fabric-peer-harry21   5      25m\n",
      "hl-fabric-peer-harry22   5      25m\n",
      "hl-fabric-peer-harry23   5      25m\n",
      "hl-fabric-peer-harry24   5      25m\n",
      "hl-fabric-peer-harry25   5      25m\n",
      "hl-fabric-peer-harry26   5      25m\n",
      "hl-fabric-peer-harry27   5      25m\n",
      "hl-fabric-peer-harry28   5      25m\n",
      "hl-fabric-peer-harry29   5      25m\n",
      "hl-fabric-peer-harry3    5      26m\n",
      "hl-fabric-peer-harry4    5      26m\n",
      "hl-fabric-peer-harry5    5      26m\n",
      "hl-fabric-peer-harry6    5      26m\n",
      "hl-fabric-peer-harry7    5      26m\n",
      "hl-fabric-peer-harry8    5      26m\n",
      "hl-fabric-peer-harry9    5      26m\n",
      "hl-fabric-peer-sally0    5      23m\n",
      "hl-fabric-peer-sally1    5      23m\n",
      "hl-fabric-peer-sally2    5      23m\n",
      "hl-fabric-peer-sally3    5      23m\n",
      "hl-fabric-peer-sally4    5      23m\n",
      "hl-fabric-peer-sally5    5      23m\n",
      "hl-fabric-peer-sally6    5      22m\n",
      "hl-fabric-peer-sally7    5      22m\n",
      "hl-fabric-peer-sally8    5      22m\n",
      "hl-fabric-peer-sally9    5      22m\n",
      "special-config           2      33d\n",
      "NAME                              READY   UP-TO-DATE   AVAILABLE   AGE\n",
      "ff                                1/1     1            1           23d\n",
      "harry0                            0/1     1            0           27m\n",
      "harry1                            0/1     1            0           27m\n",
      "harry10                           0/1     1            0           26m\n",
      "harry11                           0/1     1            0           26m\n",
      "harry12                           0/1     1            0           26m\n",
      "harry13                           0/1     1            0           26m\n",
      "harry14                           0/1     1            0           26m\n",
      "harry15                           0/1     1            0           26m\n",
      "harry16                           0/1     1            0           26m\n",
      "harry17                           0/1     1            0           25m\n",
      "harry18                           0/1     1            0           25m\n",
      "harry19                           0/1     1            0           25m\n",
      "harry2                            0/1     1            0           27m\n",
      "harry20                           0/1     1            0           25m\n",
      "harry21                           0/1     1            0           25m\n",
      "harry22                           0/1     1            0           25m\n",
      "harry23                           0/1     1            0           25m\n",
      "harry24                           0/1     1            0           25m\n",
      "harry25                           0/1     1            0           25m\n",
      "harry26                           0/1     1            0           25m\n",
      "harry27                           0/1     1            0           25m\n",
      "harry28                           0/1     1            0           25m\n",
      "harry29                           0/1     1            0           25m\n",
      "harry3                            0/1     1            0           26m\n",
      "harry4                            0/1     1            0           26m\n",
      "harry5                            0/1     1            0           26m\n",
      "harry6                            0/1     1            0           26m\n",
      "harry7                            0/1     1            0           26m\n",
      "harry8                            0/1     1            0           26m\n",
      "harry9                            0/1     1            0           26m\n",
      "hello-world                       5/5     5            5           20d\n",
      "hl-fabric-data-share-deployment   1/1     1            1           83d\n",
      "invoice-chaincode-external        1/1     1            1           27d\n",
      "peer-42                           1/1     1            1           20d\n",
      "peer0-org1-scray-org              1/1     1            1           26d\n",
      "rr                                1/1     1            1           20d\n",
      "rrf2                              0/1     1            0           19d\n",
      "rrf3                              1/1     1            1           19d\n",
      "sally0                            0/1     1            0           23m\n",
      "sally1                            0/1     1            0           23m\n",
      "sally2                            0/1     1            0           23m\n",
      "sally3                            0/1     1            0           23m\n",
      "sally4                            0/1     1            0           23m\n",
      "sally5                            0/1     1            0           23m\n",
      "sally6                            0/1     1            0           22m\n",
      "sally7                            0/1     1            0           22m\n",
      "sally8                            0/1     1            0           22m\n",
      "sally9                            0/1     1            0           22m\n",
      "tom                               1/1     1            1           19d\n",
      "NAME                            TYPE        CLUSTER-IP       EXTERNAL-IP   PORT(S)                                          AGE\n",
      "couchdb0                        ClusterIP   10.96.50.123     <none>        5984/TCP                                         166d\n",
      "couchdb1                        ClusterIP   10.105.4.6       <none>        7984/TCP                                         166d\n",
      "harry0                          NodePort    10.111.103.150   <none>        30001:32115/TCP,30002:31813/TCP,7051:30909/TCP   27m\n",
      "harry1                          NodePort    10.97.144.195    <none>        30001:32472/TCP,30002:31742/TCP,7051:32334/TCP   27m\n",
      "harry10                         NodePort    10.109.247.226   <none>        30001:31661/TCP,30002:30388/TCP,7051:30878/TCP   26m\n",
      "harry11                         NodePort    10.111.206.200   <none>        30001:30252/TCP,30002:32631/TCP,7051:30114/TCP   26m\n",
      "harry12                         NodePort    10.102.62.110    <none>        30001:32329/TCP,30002:30570/TCP,7051:31669/TCP   26m\n",
      "harry13                         NodePort    10.111.192.77    <none>        30001:30698/TCP,30002:32448/TCP,7051:30688/TCP   26m\n",
      "harry14                         NodePort    10.104.101.42    <none>        30001:31506/TCP,30002:30108/TCP,7051:30914/TCP   26m\n",
      "harry15                         NodePort    10.106.239.79    <none>        30001:30923/TCP,30002:31896/TCP,7051:32535/TCP   26m\n",
      "harry16                         NodePort    10.111.95.167    <none>        30001:30140/TCP,30002:32510/TCP,7051:30066/TCP   26m\n",
      "harry17                         NodePort    10.105.19.128    <none>        30001:31198/TCP,30002:30017/TCP,7051:31996/TCP   25m\n",
      "harry18                         NodePort    10.109.79.145    <none>        30001:30880/TCP,30002:31057/TCP,7051:32092/TCP   25m\n",
      "harry19                         NodePort    10.109.40.205    <none>        30001:31699/TCP,30002:31316/TCP,7051:31897/TCP   25m\n",
      "harry2                          NodePort    10.107.175.108   <none>        30001:32099/TCP,30002:31642/TCP,7051:30530/TCP   27m\n",
      "harry20                         NodePort    10.107.18.113    <none>        30001:32250/TCP,30002:31587/TCP,7051:30319/TCP   25m\n",
      "harry21                         NodePort    10.99.132.122    <none>        30001:30359/TCP,30002:31769/TCP,7051:31425/TCP   25m\n",
      "harry22                         NodePort    10.104.90.27     <none>        30001:32447/TCP,30002:32281/TCP,7051:31596/TCP   25m\n",
      "harry23                         NodePort    10.104.100.131   <none>        30001:30703/TCP,30002:31166/TCP,7051:30713/TCP   25m\n",
      "harry24                         NodePort    10.108.30.179    <none>        30001:32032/TCP,30002:30908/TCP,7051:32468/TCP   25m\n",
      "harry25                         NodePort    10.103.56.190    <none>        30001:32416/TCP,30002:30691/TCP,7051:30005/TCP   25m\n",
      "harry26                         NodePort    10.111.139.212   <none>        30001:31298/TCP,30002:31113/TCP,7051:31093/TCP   25m\n",
      "harry27                         NodePort    10.102.114.49    <none>        30001:30236/TCP,30002:32013/TCP,7051:30025/TCP   25m\n",
      "harry28                         NodePort    10.108.200.150   <none>        30001:32479/TCP,30002:32741/TCP,7051:30728/TCP   25m\n",
      "harry29                         NodePort    10.97.52.130     <none>        30001:31933/TCP,30002:30869/TCP,7051:32436/TCP   25m\n",
      "harry3                          NodePort    10.100.23.68     <none>        30001:30414/TCP,30002:30907/TCP,7051:32139/TCP   27m\n",
      "harry4                          NodePort    10.104.214.251   <none>        30001:30568/TCP,30002:30835/TCP,7051:32285/TCP   26m\n",
      "harry5                          NodePort    10.104.161.193   <none>        30001:31430/TCP,30002:30664/TCP,7051:32581/TCP   26m\n",
      "harry6                          NodePort    10.107.248.99    <none>        30001:32724/TCP,30002:30422/TCP,7051:30081/TCP   26m\n",
      "harry7                          NodePort    10.103.81.219    <none>        30001:31326/TCP,30002:32042/TCP,7051:30279/TCP   26m\n",
      "harry8                          NodePort    10.105.197.237   <none>        30001:32267/TCP,30002:32373/TCP,7051:32519/TCP   26m\n",
      "harry9                          NodePort    10.105.147.26    <none>        30001:31684/TCP,30002:30857/TCP,7051:32046/TCP   26m\n",
      "hl-fabric-cc-external-invoice   NodePort    10.104.215.138   <none>        9999:30999/TCP                                   27d\n",
      "hl-fabric-data-share-service    NodePort    10.107.10.68     <none>        80:30080/TCP                                     83d\n",
      "kubernetes                      ClusterIP   10.96.0.1        <none>        443/TCP                                          167d\n",
      "my-service                      NodePort    10.106.248.7     <none>        80:31585/TCP                                     23d\n",
      "orderer-example-com             ClusterIP   10.98.196.178    <none>        7050/TCP                                         166d\n",
      "peer0-org1-example-com          ClusterIP   10.100.33.145    <none>        7051/TCP                                         166d\n",
      "peer0-org1-scray-org            NodePort    10.111.188.194   <none>        30001:30001/TCP,30002:30002/TCP,7051:30003/TCP   26d\n",
      "peer0-org2-example-com          ClusterIP   10.103.49.175    <none>        9051/TCP                                         166d\n",
      "sally0                          NodePort    10.109.226.148   <none>        30001:30892/TCP,30002:30834/TCP,7051:30773/TCP   23m\n",
      "sally1                          NodePort    10.111.71.59     <none>        30001:30722/TCP,30002:30473/TCP,7051:30084/TCP   23m\n",
      "sally2                          NodePort    10.103.123.80    <none>        30001:31849/TCP,30002:32718/TCP,7051:31521/TCP   23m\n",
      "sally3                          NodePort    10.106.209.85    <none>        30001:31700/TCP,30002:31292/TCP,7051:32733/TCP   23m\n",
      "sally4                          NodePort    10.107.151.70    <none>        30001:31708/TCP,30002:31152/TCP,7051:31018/TCP   23m\n",
      "sally5                          NodePort    10.106.7.199     <none>        30001:31221/TCP,30002:31154/TCP,7051:31193/TCP   23m\n",
      "sally6                          NodePort    10.109.22.87     <none>        30001:31624/TCP,30002:32508/TCP,7051:31847/TCP   22m\n",
      "sally7                          NodePort    10.107.207.98    <none>        30001:31327/TCP,30002:30372/TCP,7051:31117/TCP   22m\n",
      "sally8                          NodePort    10.105.2.69      <none>        30001:31889/TCP,30002:30099/TCP,7051:30748/TCP   22m\n",
      "sally9                          NodePort    10.101.174.250   <none>        30001:31927/TCP,30002:31619/TCP,7051:30331/TCP   22m\n"
     ]
    }
   ],
   "source": [
    "!/home/jovyan/work/usr/bin/kubectl get configmap \n",
    "!/home/jovyan/work/usr/bin/kubectl get deployments \n",
    "#!/home/jovyan/work/usr/bin/kubectl get svc -o json\n",
    "!/home/jovyan/work/usr/bin/kubectl get svc"
   ]
  },
  {
   "cell_type": "markdown",
   "metadata": {},
   "source": [
    "# Create new peer and 'apply'"
   ]
  },
  {
   "cell_type": "code",
   "execution_count": null,
   "metadata": {},
   "outputs": [],
   "source": [
    "!/home/jovyan/work/usr/bin/kubectl create configmap hl-fabric-peer \\\n",
    " --from-literal=hostname=kubernetes.research.dev.seeburger.de \\\n",
    " --from-literal=org_name=OrgSally \\ \n",
    " --from-literal=CORE_PEER_ADDRESS=kubernetes.research.dev.seeburger.de:30003 \\\n",
    " --from-literal=CORE_PEER_GOSSIP_EXTERNALENDPOINT=kubernetes.research.dev.seeburger.de:30001 \\\n",
    " --from-literal=CORE_PEER_LOCALMSPID=OrgSallyMSP\n",
    "\n",
    "!/home/jovyan/work/usr/bin/kubectl apply -f https://raw.githubusercontent.com/scray/scray/feature/k8s-peer/projects/invoice-hyperledger-fabric/containers/k8s-peer.yaml        "
   ]
  },
  {
   "cell_type": "markdown",
   "metadata": {},
   "source": [
    "1. Der neue Peer wurde erzeugt. All relevant infos and cryptos for the application is uploaded to external sharepoint\n",
    "2. Now the application needs to be signed by other peers"
   ]
  },
  {
   "cell_type": "markdown",
   "metadata": {},
   "source": [
    "# Now the peer can join the network"
   ]
  },
  {
   "cell_type": "code",
   "execution_count": null,
   "metadata": {},
   "outputs": [],
   "source": [
    "import os\n",
    "import json\n",
    "import subprocess\n",
    "import pandas as pd\n",
    "\n",
    "!/home/jovyan/work/usr/bin/kubectl get pods\n",
    "os.environ['POD_NAME'] = 'peer0-org1-scray-org-5c4d69f556-snz5c'"
   ]
  },
  {
   "cell_type": "code",
   "execution_count": null,
   "metadata": {},
   "outputs": [],
   "source": [
    "#!/home/jovyan/work/usr/bin/kubectl get pods | fgrep peer0\n",
    "#!POD_NAME=$(/home/jovyan/work/usr/bin/kubectl get pod -l app=peer0-org1-scray-org | tail -n 1 | cut -d' ' -f1)\n",
    "os.environ['ORDERER_IP'] = '10.15.128.97'\n",
    "os.environ['ORDERER_HOSTNAME'] = 'orderer.example.com'\n",
    "os.environ['CHANNEL_NAME'] = 'mychannel'\n",
    "\n",
    "!echo $POD_NAME\n",
    "!/home/jovyan/work/usr/bin/kubectl exec --stdin --tty $POD_NAME -c scray-peer-cli -- /bin/sh /mnt/conf/peer_join.sh $ORDERER_IP $ORDERER_HOSTNAME $CHANNEL_NAME"
   ]
  },
  {
   "cell_type": "code",
   "execution_count": null,
   "metadata": {},
   "outputs": [],
   "source": [
    "#!/home/jovyan/work/usr/bin/kubectl exec --stdin --tty peer0-org1-scray-org-84ddc5757f-glbgn -c scray-peer-cli -- /bin/sh /mnt/conf/install_and_approve_cc.sh $IP_CC_SERVICE $IP_OF_EXAMPLE_NETWORK"
   ]
  },
  {
   "cell_type": "markdown",
   "metadata": {},
   "source": [
    "# Install and aprove chaincode"
   ]
  },
  {
   "cell_type": "code",
   "execution_count": null,
   "metadata": {},
   "outputs": [],
   "source": [
    "# Host where the chaincode is running\n",
    "os.environ['IP_CC_SERVICE']='10.14.128.38'\n",
    "#Host where the example network is running\n",
    "os.environ['IP_OF_EXAMPLE_NETWORK']='10.15.128.97'\n",
    "!/home/jovyan/work/usr/bin/kubectl exec --stdin --tty $POD_NAME -c scray-peer-cli -- /bin/sh /mnt/conf/install_and_approve_cc.sh $IP_CC_SERVICE $IP_OF_EXAMPLE_NETWORK"
   ]
  },
  {
   "cell_type": "markdown",
   "metadata": {},
   "source": [
    "# TMP"
   ]
  },
  {
   "cell_type": "code",
   "execution_count": 118,
   "metadata": {},
   "outputs": [
    {
     "name": "stdout",
     "output_type": "stream",
     "text": [
      "tanja2-768f8dd45d-f6z66 32190\n"
     ]
    }
   ],
   "source": [
    "print(getPod(peername),getPort(peername=peername, name='peer-listen'))"
   ]
  },
  {
   "cell_type": "code",
   "execution_count": 120,
   "metadata": {},
   "outputs": [
    {
     "ename": "SyntaxError",
     "evalue": "invalid syntax (<ipython-input-120-ef0d7b67c757>, line 1)",
     "output_type": "error",
     "traceback": [
      "\u001b[0;36m  File \u001b[0;32m\"<ipython-input-120-ef0d7b67c757>\"\u001b[0;36m, line \u001b[0;32m1\u001b[0m\n\u001b[0;31m    export ORDERER_CA=\"/tmp/tlsca.example.com-cert.pem\"\u001b[0m\n\u001b[0m           ^\u001b[0m\n\u001b[0;31mSyntaxError\u001b[0m\u001b[0;31m:\u001b[0m invalid syntax\n"
     ]
    }
   ],
   "source": [
    "export ORDERER_CA=\"/tmp/tlsca.example.com-cert.pem\"\n",
    "export ORDERER_HOSTNAME=\"orderer.example.com\"\n",
    "export CHANNEL_NAME=\"mychannel\"\n",
    "export CORE_PEER_ADDRESS=\"peer0.kubernetes.research.dev.seeburger.de:32190\"\n",
    "export CORE_PEER_MSPCONFIGPATH=\"/mnt/conf/organizations/peerOrganizations/kubernetes.research.dev.seeburger.de/users/Admin@kubernetes.research.dev.seeburger.de/msp\"\n",
    "\n",
    "peer lifecycle chaincode querycommitted --channelID mychannel --name basic --output json\n",
    "   "
   ]
  },
  {
   "cell_type": "code",
   "execution_count": 123,
   "metadata": {},
   "outputs": [
    {
     "data": {
      "text/plain": [
       "\"[Errno 2] No such file or directory: '/home/jovyan/work/usr/bin/kubectl exec --stdin --tty $POD_NAME -c scray-peer-cli -- peer'\""
      ]
     },
     "execution_count": 123,
     "metadata": {},
     "output_type": "execute_result"
    }
   ],
   "source": [
    "def readAsset(asset='asset1'):\n",
    "    callopt= '{\\\"function\\\":\\\"ReadAsset\\\",\\\"Args\\\":[' + '\\\"' + asset + '\\\"' + ']}'\n",
    "    try:    \n",
    "        callProcess  = subprocess.check_output(['/home/jovyan/work/usr/bin/kubectl exec --stdin --tty $POD_NAME -c scray-peer-cli -- peer', 'chaincode','query', '-C', 'mychannel', '-n', 'basic', '-c', callopt])\n",
    "        return json.loads(str(callProcess)[2:-3])\n",
    "    except Exception as e:\n",
    "        return str(e)\n",
    "    \n",
    "readAsset('asset1')    "
   ]
  },
  {
   "cell_type": "code",
   "execution_count": 122,
   "metadata": {},
   "outputs": [
    {
     "name": "stdout",
     "output_type": "stream",
     "text": [
      "Error: failed to retrieve endorser client for querycommitted: endorser client failed to connect to kubernetes.research.dev.seeburger.de:32190: failed to create new connection: context deadline exceeded\n",
      "Usage:\n",
      "  peer lifecycle chaincode querycommitted [flags]\n",
      "\n",
      "Flags:\n",
      "  -C, --channelID string               The channel on which this command should be executed\n",
      "      --connectionProfile string       The fully qualified path to the connection profile that provides the necessary connection information for the network. Note: currently only supported for providing peer connection information\n",
      "  -h, --help                           help for querycommitted\n",
      "  -n, --name string                    Name of the chaincode\n",
      "  -O, --output string                  The output format for query results. Default is human-readable plain-text. json is currently the only supported format.\n",
      "      --peerAddresses stringArray      The addresses of the peers to connect to\n",
      "      --tlsRootCertFiles stringArray   If TLS is enabled, the paths to the TLS root cert files of the peers to connect to. The order and number of certs specified should match the --peerAddresses flag\n",
      "\n",
      "Global Flags:\n",
      "      --cafile string                       Path to file containing PEM-encoded trusted certificate(s) for the ordering endpoint\n",
      "      --certfile string                     Path to file containing PEM-encoded X509 public key to use for mutual TLS communication with the orderer endpoint\n",
      "      --clientauth                          Use mutual TLS when communicating with the orderer endpoint\n",
      "      --connTimeout duration                Timeout for client to connect (default 3s)\n",
      "      --keyfile string                      Path to file containing PEM-encoded private key to use for mutual TLS communication with the orderer endpoint\n",
      "  -o, --orderer string                      Ordering service endpoint\n",
      "      --ordererTLSHostnameOverride string   The hostname override to use when validating the TLS connection to the orderer\n",
      "      --tls                                 Use TLS when communicating with the orderer endpoint\n",
      "      --tlsHandshakeTimeShift duration      The amount of time to shift backwards for certificate expiration checks during TLS handshakes with the orderer endpoint\n",
      "\n",
      "command terminated with exit code 1\n"
     ]
    }
   ],
   "source": [
    "!/home/jovyan/work/usr/bin/kubectl exec --stdin --tty $POD_NAME -c scray-peer-cli -- peer lifecycle chaincode querycommitted --channelID mychannel --name basic --output json"
   ]
  },
  {
   "cell_type": "code",
   "execution_count": 124,
   "metadata": {},
   "outputs": [
    {
     "name": "stdout",
     "output_type": "stream",
     "text": [
      "Usage:\n",
      "  peer [command]\n",
      "\n",
      "Available Commands:\n",
      "  chaincode   Operate a chaincode: install|instantiate|invoke|package|query|signpackage|upgrade|list.\n",
      "  channel     Operate a channel: create|fetch|join|list|update|signconfigtx|getinfo.\n",
      "  help        Help about any command\n",
      "  lifecycle   Perform _lifecycle operations\n",
      "  node        Operate a peer node: start|reset|rollback|pause|resume|rebuild-dbs|upgrade-dbs.\n",
      "  version     Print fabric peer version.\n",
      "\n",
      "Flags:\n",
      "  -h, --help   help for peer\n",
      "\n",
      "Use \"peer [command] --help\" for more information about a command.\n"
     ]
    }
   ],
   "source": [
    "!/home/jovyan/work/usr/bin/kubectl exec --stdin --tty $POD_NAME -c scray-peer-cli -- peer"
   ]
  },
  {
   "cell_type": "code",
   "execution_count": 545,
   "metadata": {},
   "outputs": [
    {
     "ename": "FileNotFoundError",
     "evalue": "[Errno 2] No such file or directory: 'example.yaml'",
     "output_type": "error",
     "traceback": [
      "\u001b[0;31m\u001b[0m",
      "\u001b[0;31mFileNotFoundError\u001b[0mTraceback (most recent call last)",
      "\u001b[0;32m<ipython-input-545-71891d603c16>\u001b[0m in \u001b[0;36m<module>\u001b[0;34m\u001b[0m\n\u001b[1;32m      2\u001b[0m \u001b[0;32mimport\u001b[0m \u001b[0myaml\u001b[0m\u001b[0;34m\u001b[0m\u001b[0;34m\u001b[0m\u001b[0m\n\u001b[1;32m      3\u001b[0m \u001b[0;32mimport\u001b[0m \u001b[0mjson\u001b[0m\u001b[0;34m\u001b[0m\u001b[0;34m\u001b[0m\u001b[0m\n\u001b[0;32m----> 4\u001b[0;31m \u001b[0;32mwith\u001b[0m \u001b[0mopen\u001b[0m\u001b[0;34m(\u001b[0m\u001b[0;34m\"example.yaml\"\u001b[0m\u001b[0;34m,\u001b[0m \u001b[0;34m'r'\u001b[0m\u001b[0;34m)\u001b[0m \u001b[0;32mas\u001b[0m \u001b[0myaml_in\u001b[0m\u001b[0;34m,\u001b[0m \u001b[0mopen\u001b[0m\u001b[0;34m(\u001b[0m\u001b[0;34m\"example.json\"\u001b[0m\u001b[0;34m,\u001b[0m \u001b[0;34m\"w\"\u001b[0m\u001b[0;34m)\u001b[0m \u001b[0;32mas\u001b[0m \u001b[0mjson_out\u001b[0m\u001b[0;34m:\u001b[0m\u001b[0;34m\u001b[0m\u001b[0;34m\u001b[0m\u001b[0m\n\u001b[0m\u001b[1;32m      5\u001b[0m     \u001b[0myaml_object\u001b[0m \u001b[0;34m=\u001b[0m \u001b[0myaml\u001b[0m\u001b[0;34m.\u001b[0m\u001b[0msafe_load\u001b[0m\u001b[0;34m(\u001b[0m\u001b[0myaml_in\u001b[0m\u001b[0;34m)\u001b[0m \u001b[0;31m# yaml_object will be a list or a dict\u001b[0m\u001b[0;34m\u001b[0m\u001b[0;34m\u001b[0m\u001b[0m\n\u001b[1;32m      6\u001b[0m     \u001b[0mjson\u001b[0m\u001b[0;34m.\u001b[0m\u001b[0mdump\u001b[0m\u001b[0;34m(\u001b[0m\u001b[0myaml_object\u001b[0m\u001b[0;34m,\u001b[0m \u001b[0mjson_out\u001b[0m\u001b[0;34m)\u001b[0m\u001b[0;34m\u001b[0m\u001b[0;34m\u001b[0m\u001b[0m\n",
      "\u001b[0;31mFileNotFoundError\u001b[0m: [Errno 2] No such file or directory: 'example.yaml'"
     ]
    }
   ],
   "source": [
    "#pip install PyYAML\n",
    "import yaml"
   ]
  }
 ],
 "metadata": {
  "kernelspec": {
   "display_name": "Python 3",
   "language": "python",
   "name": "python3"
  },
  "language_info": {
   "codemirror_mode": {
    "name": "ipython",
    "version": 3
   },
   "file_extension": ".py",
   "mimetype": "text/x-python",
   "name": "python",
   "nbconvert_exporter": "python",
   "pygments_lexer": "ipython3",
   "version": "3.8.6"
  }
 },
 "nbformat": 4,
 "nbformat_minor": 4
}
