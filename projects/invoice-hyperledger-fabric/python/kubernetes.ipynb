{
 "cells": [
  {
   "cell_type": "markdown",
   "metadata": {},
   "source": [
    "# Kubernetes"
   ]
  },
  {
   "cell_type": "code",
   "execution_count": 3,
   "metadata": {},
   "outputs": [],
   "source": []
  },
  {
   "cell_type": "code",
   "execution_count": 4,
   "metadata": {},
   "outputs": [],
   "source": [
    "# WEBDAV at http://10.15.136.41:30080/\n",
    "# visualization\n",
    "# local \n",
    "# kubernetesTool"
   ]
  },
  {
   "cell_type": "code",
   "execution_count": 1,
   "metadata": {},
   "outputs": [
    {
     "ename": "NameError",
     "evalue": "name 'getPods' is not defined",
     "output_type": "error",
     "traceback": [
      "\u001b[0;31m\u001b[0m",
      "\u001b[0;31mNameError\u001b[0mTraceback (most recent call last)",
      "\u001b[0;32m<ipython-input-1-9b6600cc0252>\u001b[0m in \u001b[0;36m<module>\u001b[0;34m\u001b[0m\n\u001b[0;32m----> 1\u001b[0;31m \u001b[0mprint\u001b[0m\u001b[0;34m(\u001b[0m\u001b[0mgetPods\u001b[0m\u001b[0;34m(\u001b[0m\u001b[0;34m)\u001b[0m\u001b[0;34m[\u001b[0m\u001b[0;34m'items'\u001b[0m\u001b[0;34m]\u001b[0m\u001b[0;34m[\u001b[0m\u001b[0;36m10\u001b[0m\u001b[0;34m]\u001b[0m\u001b[0;34m.\u001b[0m\u001b[0mkeys\u001b[0m\u001b[0;34m(\u001b[0m\u001b[0;34m)\u001b[0m\u001b[0;34m)\u001b[0m\u001b[0;34m\u001b[0m\u001b[0;34m\u001b[0m\u001b[0m\n\u001b[0m\u001b[1;32m      2\u001b[0m \u001b[0mgetPods\u001b[0m\u001b[0;34m(\u001b[0m\u001b[0;34m)\u001b[0m\u001b[0;34m[\u001b[0m\u001b[0;34m'items'\u001b[0m\u001b[0;34m]\u001b[0m\u001b[0;34m[\u001b[0m\u001b[0;36m10\u001b[0m\u001b[0;34m]\u001b[0m\u001b[0;34m[\u001b[0m\u001b[0;34m'metadata'\u001b[0m\u001b[0;34m]\u001b[0m\u001b[0;34m[\u001b[0m\u001b[0;34m'name'\u001b[0m\u001b[0;34m]\u001b[0m\u001b[0;34m\u001b[0m\u001b[0;34m\u001b[0m\u001b[0m\n\u001b[1;32m      3\u001b[0m \u001b[0mgetPods\u001b[0m\u001b[0;34m(\u001b[0m\u001b[0;34m)\u001b[0m\u001b[0;34m[\u001b[0m\u001b[0;34m'items'\u001b[0m\u001b[0;34m]\u001b[0m\u001b[0;34m[\u001b[0m\u001b[0;36m9\u001b[0m\u001b[0;34m]\u001b[0m\u001b[0;34m[\u001b[0m\u001b[0;34m'status'\u001b[0m\u001b[0;34m]\u001b[0m\u001b[0;34m.\u001b[0m\u001b[0mkeys\u001b[0m\u001b[0;34m(\u001b[0m\u001b[0;34m)\u001b[0m\u001b[0;34m\u001b[0m\u001b[0;34m\u001b[0m\u001b[0m\n",
      "\u001b[0;31mNameError\u001b[0m: name 'getPods' is not defined"
     ]
    }
   ],
   "source": [
    "print(getPods()['items'][10].keys())\n",
    "getPods()['items'][10]['metadata']['name']\n",
    "getPods()['items'][9]['status'].keys()\n"
   ]
  },
  {
   "cell_type": "code",
   "execution_count": 2,
   "metadata": {},
   "outputs": [],
   "source": [
    "# download e.g. all crts of needed peers to local dir (e.g. for invoke,commit)\n",
    "def getCrtName(org='', domain='kubernetes.research.dev.seeburger.de'):\n",
    "    return str(org + '-' + domain + '-ca.crt')\n",
    "    \n",
    "def downloadToLocalCmdList(host='10.15.136.41:30080',user='scray', pwd='scray',\n",
    "                    local_path='./', remote_name='' ,remote_path='upload'):  \n",
    "    return ['curl', '--user',user + ':' + pwd, 'http://' + host + '/' + remote_path + '/' + remote_name, '-o', local_path + '/' + remote_name]\n",
    "\n",
    "\n",
    "def downloadCrtsToPeer(orgs, execute_org='schalke3'):\n",
    "    for org in orgs:\n",
    "        executePeerCmd(peers[execute_org].pod_name,toCmd(downloadToLocalCmdList(local_path='/tmp', remote_name=getCrtName(org))))     \n",
    "   "
   ]
  },
  {
   "cell_type": "code",
   "execution_count": 3,
   "metadata": {},
   "outputs": [],
   "source": [
    "def downloadToLocal(host='10.15.136.41:30080',user='scray', pwd='scray',\n",
    "                    local_path='./', local_name='' ,remote_path='upload'):  \n",
    "    try:    \n",
    "        output = subprocess.check_output(['curl', '--user',user + ':' + pwd, \n",
    "                                               'http://' + host + '/' + remote_path + '/' + local_name, '-o', local_path + '/' + local_name])\n",
    "        #return str(callProcess)[3:-3]\n",
    "        return output.decode('ascii')\n",
    "    except Exception as e:\n",
    "        return str(e)     \n",
    "   \n",
    "\n",
    "def uploadFromLocal(host='10.15.136.41:30080',user='scray', pwd='scray',\n",
    "                    local_path='./', local_name='' ,remote_path='upload'):\n",
    "    try:    \n",
    "        output = subprocess.check_output(['curl', '--user',user + ':' + pwd, \n",
    "                                          '-T', local_path + '/' + local_name, \n",
    "                                          'http://' + host + '/' + remote_path + '/' + local_name])\n",
    "        return output.decode('ascii')\n",
    "    except Exception as e:\n",
    "        return str(e)   \n",
    "                    \n",
    "#downloadToLocal(local_path='./', local_name='org3_update_in_envelope.pb' ,remote_path='upload')"
   ]
  },
  {
   "cell_type": "code",
   "execution_count": 115,
   "metadata": {},
   "outputs": [],
   "source": [
    "# hyperledger peer\n",
    "\n",
    "def deletePeer(peername):   \n",
    "    output  = executeKubectlCmd(['delete','configmap','hl-fabric-peer-' + peername])\n",
    "    #output  = executeKubectlCmd(['delete','-f','/home/jovyan/scray/projects/invoice-hyperledger-fabric/containers/target/' + peername + '/k8s-peer.yaml'])\n",
    "    output  = executeKubectlCmd(['delete','deployment',peername])\n",
    "    output  = executeKubectlCmd(['delete', 'service', peername])\n",
    "    return output\n",
    "            \n",
    "def addEnvVariable(pod_name, key,value):\n",
    "    try:  \n",
    "        cmd = \"echo \\'export '\" + key + '=' + value + \"'\\' >> /root/.bashrc\"\n",
    "        output  = subprocess.check_output(['/home/jovyan/work/usr/bin/kubectl', 'exec','-t', pod_name, '-c', 'scray-peer-cli','--', '/bin/bash','-c',cmd])\n",
    "        return output.decode('ascii')\n",
    "    except Exception as e:\n",
    "        return str(e)\n",
    "       \n",
    "def addBashEnvToPeer(peer):        \n",
    "    pod_name    = peer.pod_name\n",
    "    listen_port = peer.listen_port\n",
    "    executePeerCmd(pod_name,\"rm -f /root/.bashrc\")\n",
    "    #!/home/jovyan/work/usr/bin/kubectl exec --stdin --tty $POD_NAME  -c scray-peer-cli touch /root/.bashrc\n",
    "    addEnvVariable(pod_name, 'ORDERER_CA', '/tmp/tlsca.example.com-cert.pem')\n",
    "    addEnvVariable(pod_name, 'ORDERER_HOSTNAME', 'orderer.example.com')\n",
    "    addEnvVariable(pod_name, 'CHANNEL_NAME', 'mychannel')\n",
    "    #addEnvVariable(pod_name, 'CORE_PEER_ADDRESS', pod_name + ':' + listen_port)\n",
    "    #addEnvVariable(pod_name, 'CORE_PEER_ADDRESS', 'peer0.kubernetes.research.dev.seeburger.de:' + listen_port)\n",
    "    addEnvVariable(pod_name, 'CORE_PEER_ADDRESS', 'kubernetes.research.dev.seeburger.de:' + listen_port)\n",
    "    addEnvVariable(pod_name, 'CORE_PEER_LOCALMSPID', peer.name + 'MSP')\n",
    "    addEnvVariable(pod_name, 'CORE_PEER_MSPCONFIGPATH', '/mnt/conf/organizations/peerOrganizations/kubernetes.research.dev.seeburger.de/users/Admin@kubernetes.research.dev.seeburger.de/msp')\n",
    "    addEnvVariable(pod_name, 'SHARED_FS_HOST', '10.15.136.41:30080')\n",
    "    addEnvVariable(pod_name, 'SHARED_FS_USER', 'scray')\n",
    "    addEnvVariable(pod_name, 'SHARED_FS_PW', 'scray')        \n",
    "  \n",
    "def addBashEnvToPeers(peerlist):\n",
    "    for name in peerlist:\n",
    "        if name in peers:\n",
    "            peer = peers[name]\n",
    "            addBashEnvToPeer(peer)\n",
    "            #installAndAproveChaincode(peer)\n",
    "\n",
    "##############\n",
    "           \n",
    "# actions\n",
    "\n",
    "#!/home/jovyan/work/usr/bin/kubectl exec -it tanja1-65b7889d68-ghxpj -c scray-peer-cli -- /bin/bash -c \"curl --user scray:scray http://10.15.136.41:30080/upload/org3_update_in_envelope.pb -o /tmp/org3_update_in_envelope.pb\"\n",
    "def sign(pod_name):\n",
    "    #executePeerCmd(pod_name,\"curl --user $SHARED_FS_USER:$SHARED_FS_PW http://$SHARED_FS_HOST/ca/tlsca.example.com-cert.pem > /tmp/tlsca.example.com-cert.pem\"\n",
    "    executePeerCmd(pod_name,\"curl --user scray:scray http://10.15.136.41:30080/upload/org3_update_in_envelope.pb -o /tmp/org3_update_in_envelope.pb\")\n",
    "    executePeerCmd(pod_name,\"peer channel signconfigtx -f /tmp/org3_update_in_envelope.pb\")\n",
    "    executePeerCmd(pod_name,\"curl --user scray:scray -T /tmp/org3_update_in_envelope.pb http://10.15.136.41:30080/upload/org3_update_in_envelope.pb\")\n",
    "       \n",
    "\n",
    "def installAndAproveChaincode(peer,cc_host='10.14.128.38',orderer_host='10.15.128.97'):\n",
    "    #!/home/jovyan/work/usr/bin/kubectl exec --stdin --tty $POD_NAME -c scray-peer-cli -- /bin/sh /mnt/conf/install_and_approve_cc.sh $IP_CC_SERVICE $IP_OF_EXAMPLE_NETWORK\n",
    "    strlist = ['/mnt/conf/install_and_approve_cc.sh', cc_host, orderer_host]\n",
    "    executePeerCmd(peer.pod_name,toCmd(strlist)) \n",
    "                    \n",
    "#########################################################################            \n",
    "      "
   ]
  },
  {
   "cell_type": "code",
   "execution_count": 250,
   "metadata": {},
   "outputs": [
    {
     "data": {
      "text/plain": [
       "CompletedProcess(args=['/home/jovyan/work/usr/bin/kubectl', 'exec', '-it', 'oly2-6686d84988-h7vgk', '-c', 'scray-peer-cli', '--', '/bin/bash', '-c', 'source /root/.bashrc && /mnt/conf/install_and_approve_cc.sh 10.14.128.38 10.15.128.97'], returncode=0, stdout=b'', stderr=b'Unable to use a TTY - input is not a terminal or the right kind of file\\n  % Total    % Received % Xferd  Average Speed   Time    Time     Time  Current\\n                                 Dload  Upload   Total   Spent    Left  Speed\\n\\r  0     0    0     0    0     0      0      0 --:--:-- --:--:-- --:--:--     0\\r  0     0    0     0    0     0      0      0 --:--:-- --:--:-- --:--:--     0\\r100   450  100   450    0     0   3040      0 --:--:-- --:--:-- --:--:--  3020\\n\\x1b[34m2021-02-01 09:33:33.291 UTC [cli.lifecycle.chaincode] submitInstallProposal -> INFO 001\\x1b[0m Installed remotely: response:<status:200 payload:\"\\\\nJbasic_1.0:5a294a12a1a89cd4eed3d4234fbc79f42eab2ac20cd176bc8ebbc07c597cd0ee\\\\022\\\\tbasic_1.0\" > \\n\\x1b[34m2021-02-01 09:33:33.291 UTC [cli.lifecycle.chaincode] submitInstallProposal -> INFO 002\\x1b[0m Chaincode code package identifier: basic_1.0:5a294a12a1a89cd4eed3d4234fbc79f42eab2ac20cd176bc8ebbc07c597cd0ee\\n\\x1b[34m2021-02-01 09:33:35.470 UTC [chaincodeCmd] ClientWait -> INFO 001\\x1b[0m txid [9b69a231801527b88fc470645ca63b1fcadd166e54b96b6dbcdde0c3a55892ae] committed with status (VALID) at peer0.kubernetes.research.dev.seeburger.de:30652\\n')"
      ]
     },
     "execution_count": 250,
     "metadata": {},
     "output_type": "execute_result"
    }
   ],
   "source": [
    "cc_host='10.14.128.38'\n",
    "orderer_host='10.15.128.97'\n",
    "peer=peers['oly2']\n",
    "strlist = ['/mnt/conf/install_and_approve_cc.sh', cc_host, orderer_host]\n",
    "executePeerCmd2(peer.pod_name,toCmd(strlist)) "
   ]
  },
  {
   "cell_type": "code",
   "execution_count": 3,
   "metadata": {},
   "outputs": [],
   "source": [
    "# Cerificates\n",
    "from cryptography import x509\n",
    "from cryptography.hazmat.backends import default_backend\n",
    "from cryptography.x509.oid import NameOID\n",
    "\n",
    "#https://stackoverflow.com/questions/16899247/how-can-i-decode-a-ssl-certificate-using-python\n",
    "\n",
    "def getCrt(org='',domain='kubernetes.research.dev.seeburger.de',host='10.15.136.41:30080',user='scray', pwd='scray',channel='mychannel'):\n",
    "    cmd = ['curl', '--user',user + ':' + pwd, \n",
    "           'http://' + host + '/ca/' + channel + '/' + org + '-' + domain + '-ca.crt']\n",
    "    res = executeLocalCmd(cmd)\n",
    "    if 'CERTIFICATE' in str(res):\n",
    "        return res\n",
    "       \n",
    "def getOrgCrt(org=''):    \n",
    "    pem_data=getCrt(org)\n",
    "    if pem_data:\n",
    "        return x509.load_pem_x509_certificate(pem_data, default_backend())\n"
   ]
  },
  {
   "cell_type": "code",
   "execution_count": 24,
   "metadata": {},
   "outputs": [],
   "source": [
    "from kubernetesTool import executeKubectlCmd\n",
    "from kubernetesTool import toCmd\n",
    "from kubernetesTool import executeLocalCmd\n",
    "from kubernetesTool import createConfig\n",
    "from kubernetesTool import getPort"
   ]
  },
  {
   "cell_type": "code",
   "execution_count": 5,
   "metadata": {},
   "outputs": [],
   "source": [
    "# get config of blockchain and store it at local directory of peer\n",
    "#peer channel fetch config  $WORK_LOCATION/config_block.pb -o orderer.example.com:7050 -c $CHANNEL_NAME --tls --cafile $ORDERER_CA \n",
    "#configtxlator proto_decode --input $WORK_LOCATION/config_block.pb --type common.Block | jq .data.data[0].payload.data.config > $WORK_LOCATION/config.json\n",
    "\n",
    "def getCurrentConfig(peer, channel_name='mychannel', location='/tmp'):\n",
    "    pod_name = peer.pod_name\n",
    "    executePeerCmd(peer.pod_name,toCmd(downloadToLocalCmdList(local_path='/tmp', remote_path='ca', remote_name='tlsca.example.com-cert.pem')))               \n",
    "    cmd = 'peer channel fetch config ' + location + '/config_block.pb -o orderer.example.com:7050 -c ' +  channel_name + ' --tls --cafile /tmp/tlsca.example.com-cert.pem'\n",
    "    executePeerCmd(pod_name,cmd)\n",
    "    cmd = 'configtxlator proto_decode --input ' + location + '/config_block.pb --type common.Block > ' + location + '/config_block.json'\n",
    "    executePeerCmd(pod_name,cmd)\n",
    "    cmd = 'jq .data.data[0].payload.data.config ' + location + '/config_block.json > ' + location + '/config.json'\n",
    "    executePeerCmd(pod_name,cmd)\n",
    "    cmd = 'cat ' + location + '/config.json'\n",
    "    return json.loads(executePeerCmd(pod_name,cmd))\n",
    "    \n",
    "def getConsortium(config):\n",
    "    dkeys = config.get('channel_group').get('groups').get('Application').get('groups').keys()\n",
    "    return dkeys    \n",
    "    \n",
    "def getLocalOrgList(data):    \n",
    "    local_orgs=[]\n",
    "    for name in data:\n",
    "        if name[:-3] in peers:\n",
    "            local_orgs.append(name[:-3])    \n",
    "    return local_orgs\n",
    "\n",
    "def getBlockInfo(peer=None,channel='mychannel'):\n",
    "    strlist = ['peer', 'channel','-c', channel, 'getinfo']\n",
    "    return executePeerCmd(peer.pod_name,toCmd(strlist))\n",
    "    #return json.loads(executePeerCmd(peer.pod_name,toCmd(strlist))[17:])\n",
    "\n",
    "def getChannelList(peer=None):\n",
    "    strlist = ['peer', 'channel', 'list']\n",
    "    return executePeerCmd2(peer.pod_name,toCmd(strlist))\n"
   ]
  },
  {
   "cell_type": "code",
   "execution_count": 47,
   "metadata": {},
   "outputs": [],
   "source": [
    "# update local_orgs\n",
    "\n",
    "config = getCurrentConfig(peers['oly0'])\n",
    "#getChannelList(peers['oly0'])\n",
    "\n",
    "consortium = getConsortium(config)\n",
    "local_orgs = getLocalOrgList(consortium)"
   ]
  },
  {
   "cell_type": "code",
   "execution_count": 14,
   "metadata": {},
   "outputs": [
    {
     "data": {
      "text/plain": [
       "2"
      ]
     },
     "execution_count": 14,
     "metadata": {},
     "output_type": "execute_result"
    }
   ],
   "source": [
    "import json\n",
    "#len(kubernetesTool.getPods())\n",
    "#kubeconfig = kubernetesTool.getConfigmap()\n",
    "from kubernetesTool import executeKubectlCmd\n",
    "#executeKubectlCmd(['get','configmap', '-o', 'json'])\n",
    "kubeconfig = json.loads(executeKubectlCmd(['get','configmap', '-o', 'json']))\n",
    "len(kubeconfig['items'])"
   ]
  },
  {
   "cell_type": "code",
   "execution_count": 67,
   "metadata": {},
   "outputs": [],
   "source": [
    "pods = json.loads(executeKubectlCmd(['get', 'pods', '-o', 'json']))  \n"
   ]
  },
  {
   "cell_type": "code",
   "execution_count": 81,
   "metadata": {},
   "outputs": [],
   "source": [
    "pods['items'][1]['metadata']['name']\n",
    "len(pods['items'])\n"
   ]
  },
  {
   "cell_type": "code",
   "execution_count": 93,
   "metadata": {},
   "outputs": [],
   "source": [
    "#pods['items'][1]['metadata']\n",
    "deployments = json.loads(executeKubectlCmd(['get', 'deployments', '-o', 'json'])) "
   ]
  },
  {
   "cell_type": "code",
   "execution_count": 102,
   "metadata": {},
   "outputs": [],
   "source": [
    "#deployments['items'][1]['metadata'].keys()\n",
    "#deployments['items'][14]['metadata']['name']\n",
    "\n",
    "deploymentNames=[]\n",
    "for item in deployments['items']:\n",
    "    deploymentNames.append(item['metadata']['name'])"
   ]
  },
  {
   "cell_type": "code",
   "execution_count": 104,
   "metadata": {},
   "outputs": [],
   "source": [
    "def getLocalOrgListFromDeploymentNames(consortium,deploymentNames):    \n",
    "    local_orgs=[]\n",
    "    for name in consortium:\n",
    "        if name[:-3] in deploymentNames:\n",
    "            local_orgs.append(name[:-3])    \n",
    "    return local_orgs\n",
    "\n",
    "local_orgs = getLocalOrgListFromDeploymentNames(consortium, deploymentNames)"
   ]
  },
  {
   "cell_type": "code",
   "execution_count": 110,
   "metadata": {},
   "outputs": [
    {
     "name": "stdout",
     "output_type": "stream",
     "text": [
      "kubernetespeer addBashEnvToPeer\n",
      "kubernetespeer addBashEnvToPeer\n",
      "kubernetespeer addBashEnvToPeer\n"
     ]
    }
   ],
   "source": [
    "#from kubernetesTool import executeLocalCmd\n",
    "for name in local_orgs:\n",
    "    peer = kubernetespeer(name=name)\n",
    "    peers[name] = peer"
   ]
  },
  {
   "cell_type": "code",
   "execution_count": 111,
   "metadata": {},
   "outputs": [
    {
     "data": {
      "text/plain": [
       "{'oly0': <__main__.kubernetespeer at 0x7f446e96cdf0>,\n",
       " 'oly1': <__main__.kubernetespeer at 0x7f446e96c850>,\n",
       " 'oly2': <__main__.kubernetespeer at 0x7f446e96c910>}"
      ]
     },
     "execution_count": 111,
     "metadata": {},
     "output_type": "execute_result"
    }
   ],
   "source": [
    "#peers, local_orgs"
   ]
  },
  {
   "cell_type": "markdown",
   "metadata": {},
   "source": [
    "# addPeer"
   ]
  },
  {
   "cell_type": "code",
   "execution_count": 237,
   "metadata": {},
   "outputs": [],
   "source": [
    "def addPeer(peername):  \n",
    "    if peername in peers.keys():\n",
    "        return peers[peername]\n",
    "    # Create configuration for new peer\n",
    "    executeLocalCmd(['/bin/bash','-c','cd /home/jovyan/scray/projects/invoice-hyperledger-fabric/containers/ && /home/jovyan/scray/projects/invoice-hyperledger-fabric/containers/configure-deployment.sh -n ' + peername])\n",
    "    # Start service\n",
    "    executeKubectlCmd(['apply', '-f', '/home/jovyan/scray/projects/invoice-hyperledger-fabric/containers/target/' + peername + '/k8s-peer-service.yaml'])\n",
    "    # Create peer configuration\n",
    "    res = createConfig(peername=peername,\n",
    "                       peer_listen_port=getPort(peername=peername, name='peer-listen'),\n",
    "                       peer_gossip_port=getPort(peername=peername, name='peer-gossip'))\n",
    "    # Start new peer\n",
    "    executeKubectlCmd(['apply', '-f','/home/jovyan/scray/projects/invoice-hyperledger-fabric/containers/target/' + peername + '/k8s-peer.yaml'])\n",
    "    peer = kubernetespeer(name=peername)\n",
    "    peers[peername] = peer\n",
    "    return peer\n",
    "    \n",
    "# create, delete numbered peers\n",
    "def createPeers(base_name,start=0, end=10):\n",
    "    for x in range(start,end):\n",
    "        peername = base_name + '-' + str(x)\n",
    "        addPeer(peername)\n",
    "         \n",
    "def deletePeers(name):\n",
    "    for x in range(0,10):\n",
    "        peerneme = name + str(x)\n",
    "        deletePeer(peerneme)    \n",
    "  \n",
    "def deleteAllPeers(config):\n",
    "    for item in config['items']:\n",
    "        try:\n",
    "            if 'org_name' in item['data'].keys():\n",
    "                deletePeer(item['data']['org_name'])\n",
    "        except Exception as e:\n",
    "            print(item['data'])\n",
    "            \n",
    "#createPeers('oly')\n",
    "#deletePeers('ga')"
   ]
  },
  {
   "cell_type": "markdown",
   "metadata": {},
   "source": [
    "# Kubernetes Version (Current)"
   ]
  },
  {
   "cell_type": "code",
   "execution_count": 394,
   "metadata": {},
   "outputs": [],
   "source": [
    "import subprocess\n",
    "def deleteConfig(peername=''):\n",
    "    try:  \n",
    "        output  = subprocess.check_output(['/home/jovyan/work/usr/bin/kubectl', 'delete','configmap','hl-fabric-peer-' + peername])\n",
    "        return str(output)\n",
    "    except Exception as e:\n",
    "        return str(e)  \n",
    "        \n",
    "    \n",
    "def createConfig(peername='',peer_listen_port='',peer_gossip_port=''):\n",
    "    try:  \n",
    "        peer_host_name = peername + '.kubernetes.research.dev.seeburger.de'\n",
    "        output  = subprocess.check_output(['/home/jovyan/work/usr/bin/kubectl', 'create','configmap','hl-fabric-peer-' + peername,\n",
    "                                          '--from-literal=hostname=' + peer_host_name,\n",
    "                                          '--from-literal=org_name=' + peername,\n",
    "                                          '--from-literal=data_share=hl-fabric-data-share-service:80',\n",
    "                                          '--from-literal=CORE_PEER_ADDRESS=peer0.' + peer_host_name + ':' + peer_listen_port,\n",
    "                                          '--from-literal=CORE_PEER_GOSSIP_EXTERNALENDPOINT=' + peer_host_name + ':' + peer_gossip_port,\n",
    "                                          '--from-literal=CORE_PEER_LOCALMSPID=' + peername + 'MSP'])\n",
    "        return str(output)\n",
    "    except Exception as e:\n",
    "        return str(e)  "
   ]
  },
  {
   "cell_type": "code",
   "execution_count": 250,
   "metadata": {},
   "outputs": [],
   "source": [
    "def executePeerCmd(pod_name,cmd, cli='scray-peer-cli'):\n",
    "    try:  \n",
    "        #cmd1 = \"source /root/.bashrc && \"\n",
    "        cmd1 = ['/home/jovyan/work/usr/bin/kubectl', 'exec','-t', pod_name, '-c', cli,'--', '/bin/sh','-c',cmd]\n",
    "        #cmd1 = ['/home/jovyan/work/usr/bin/kubectl', 'exec','-t', pod_name, '-c', cli,'--', '/bin/sh','-c'] + cmd\n",
    "        print(toCmd(cmd1))\n",
    "        output  = subprocess.check_output(cmd1)\n",
    "        #output  = subprocess.check_output(['/home/jovyan/work/usr/bin/kubectl', 'exec', '--stdin' ,'--tty', pod_name, '-c', cli,'--', '/bin/sh','-c',cmd])\n",
    "        return output.decode('ascii')\n",
    "    except Exception as e:\n",
    "        return str(e)"
   ]
  },
  {
   "cell_type": "code",
   "execution_count": 268,
   "metadata": {},
   "outputs": [],
   "source": [
    "import kubernetesTool\n",
    "\n",
    "class kubernetespeer:\n",
    "    def __init__(self, name='',prefix='peer'):\n",
    "        self.name = name\n",
    "        self.pod_name = kubernetesTool.getPod(name)\n",
    "        self.listen_port = kubernetesTool.getPort(peername=name, name = prefix + '-listen')\n",
    "        self.gossip_port = kubernetesTool.getPort(peername=name, name = prefix + '-gossip')\n",
    "        # ????????\n",
    "        #print('kubernetespeer addBashEnvToPeer')\n",
    "        #addBashEnvToPeer(self)\n",
    "    def getCertificate(self):\n",
    "        try:\n",
    "            return str(subprocess.check_output(['cat', self.crt]))[2:-3]   \n",
    "        except Exception as e:\n",
    "            return str(e)      \n",
    "        \n",
    "class ordererpeer(kubernetespeer):\n",
    "    def __init__(self, name='',prefix='peer'):\n",
    "        super().__init__(name,prefix)\n",
    "        self.host = 'orderer.example.com'\n",
    "        self.orderer_intern = 7050\n",
    "        \n",
    "    # can change\n",
    "    def get_ip(self, app='orderer-org1-scray-org'):\n",
    "        return executeKubectlCmd(['get', 'pods','-l', 'app=' + app,'-o','jsonpath=\\'{.items[*].status.podIP}\\''])   \n",
    "    "
   ]
  },
  {
   "cell_type": "code",
   "execution_count": 392,
   "metadata": {},
   "outputs": [],
   "source": [
    "\n",
    "#!/home/jovyan/work/usr/bin/kubectl exec --stdin --tty $POD_NAME  -c scray-peer-cli -- /bin/sh /mnt/conf/peer_join.sh $ORDERER_IP  $ORDERER_HOSTNAME $CHANNEL_NAME         \n",
    "def joinHyperledger(peer,orderer_ip,orderer_hostname,orderer_port,channel_name,shared_fs_host,ext_peer_ip='10.15.136.41'):          \n",
    "    cmd = toCmd(['/mnt/conf/peer_join.sh', orderer_ip,orderer_hostname,orderer_port,channel_name,shared_fs_host,ext_peer_ip])\n",
    "    return executePeerCmd(peer.pod_name, cmd)\n",
    "\n",
    "def endorse_peer(peer=None, orderer_ip='',channel_name='',shared_fs_host='',ext_peer_ip='10.15.136.41'):\n",
    "    print(peer.name)\n",
    "    peer_host_name = peername + '.kubernetes.research.dev.seeburger.de'\n",
    "    cmd = toCmd(['/mnt/conf/orderer/scripts/inform_existing_nodes.sh',orderer_ip,channel_name,peer.name,shared_fs_host,ext_peer_ip,peer_host_name]) \n",
    "    #print(cmd)\n",
    "    return executePeerCmd(orderer.pod_name,cmd,cli='scray-orderer-cli')\n",
    "\n",
    "def add_channel(name):\n",
    "    cmd1 = ['/mnt/conf/orderer/scripts/create_channel.sh', name, 'orderer.example.com', '7050']\n",
    "    cmd = toCmd(cmd1)\n",
    "    return executePeerCmd(orderer.pod_name, cmd1, cli='scray-orderer-cli')"
   ]
  },
  {
   "cell_type": "markdown",
   "metadata": {},
   "source": [
    "# create peers"
   ]
  },
  {
   "cell_type": "code",
   "execution_count": 396,
   "metadata": {},
   "outputs": [],
   "source": [
    "peers = {}"
   ]
  },
  {
   "cell_type": "code",
   "execution_count": 399,
   "metadata": {},
   "outputs": [
    {
     "data": {
      "text/plain": [
       "{'galya-0': <__main__.kubernetespeer at 0x7f43e8319be0>,\n",
       " 'galya-1': <__main__.kubernetespeer at 0x7f43e850e340>,\n",
       " 'galya-2': <__main__.kubernetespeer at 0x7f43e850e0a0>}"
      ]
     },
     "execution_count": 399,
     "metadata": {},
     "output_type": "execute_result"
    }
   ],
   "source": [
    "peers"
   ]
  },
  {
   "cell_type": "code",
   "execution_count": 397,
   "metadata": {},
   "outputs": [],
   "source": [
    "orderer = ordererpeer(name='orderer-org1-scray-org',prefix='orderer')"
   ]
  },
  {
   "cell_type": "code",
   "execution_count": 398,
   "metadata": {},
   "outputs": [],
   "source": [
    "createPeers('galya',start=0, end=3)"
   ]
  },
  {
   "cell_type": "code",
   "execution_count": 400,
   "metadata": {},
   "outputs": [
    {
     "name": "stdout",
     "output_type": "stream",
     "text": [
      "galya-0\n",
      "/home/jovyan/work/usr/bin/kubectl exec -t orderer-org1-scray-org-5f97c57d44-l6d5l -c scray-orderer-cli -- /bin/sh -c /mnt/conf/orderer/scripts/inform_existing_nodes.sh '10.32.0.4' super13 galya-0 10.14.128.38:30080 10.15.136.41 dalya8.kubernetes.research.dev.seeburger.de\n"
     ]
    },
    {
     "name": "stderr",
     "output_type": "stream",
     "text": [
      "\u001b[34m2021-08-04 14:01:11.463 UTC [channelCmd] InitCmdFactory -> INFO 001\u001b[0m Endorser and orderer connections initialized\n",
      "\u001b[34m2021-08-04 14:01:11.478 UTC [cli.common] readBlock -> INFO 002\u001b[0m Received block: 0\n",
      "\u001b[34m2021-08-04 14:01:11.478 UTC [channelCmd] fetch -> INFO 003\u001b[0m Retrieving last config block: 0\n",
      "\u001b[34m2021-08-04 14:01:11.485 UTC [cli.common] readBlock -> INFO 004\u001b[0m Received block: 0\n",
      "  % Total    % Received % Xferd  Average Speed   Time    Time     Time  Current\n",
      "                                 Dload  Upload   Total   Spent    Left  Speed\n",
      "100   237  100   237    0     0  23700      0 --:--:-- --:--:-- --:--:-- 23700\n",
      "  % Total    % Received % Xferd  Average Speed   Time    Time     Time  Current\n",
      "                                 Dload  Upload   Total   Spent    Left  Speed\n",
      "100   847    0     0  100   847      0   165k --:--:-- --:--:-- --:--:--  165k\n",
      "  % Total    % Received % Xferd  Average Speed   Time    Time     Time  Current\n",
      "                                 Dload  Upload   Total   Spent    Left  Speed\n",
      "100 11779  100 11779    0     0  1643k      0 --:--:-- --:--:-- --:--:-- 1643k\n",
      "\u001b[34m2021-08-04 14:01:15.708 UTC [channelCmd] InitCmdFactory -> INFO 001\u001b[0m Endorser and orderer connections initialized\n",
      "\u001b[34m2021-08-04 14:01:15.795 UTC [channelCmd] InitCmdFactory -> INFO 001\u001b[0m Endorser and orderer connections initialized\n",
      "\u001b[34m2021-08-04 14:01:15.872 UTC [channelCmd] update -> INFO 002\u001b[0m Successfully submitted channel update\n"
     ]
    },
    {
     "name": "stdout",
     "output_type": "stream",
     "text": [
      "/home/jovyan/work/usr/bin/kubectl exec -t galya-0-6cc848b49-pv2dn -c scray-peer-cli -- /bin/sh -c /mnt/conf/peer_join.sh '10.32.0.4' orderer.example.com 7050 super13 10.14.128.38:30080 10.15.136.41\n"
     ]
    },
    {
     "name": "stderr",
     "output_type": "stream",
     "text": [
      "  % Total    % Received % Xferd  Average Speed   Time    Time     Time  Current\n",
      "                                 Dload  Upload   Total   Spent    Left  Speed\n",
      "100   847  100   847    0     0  70583      0 --:--:-- --:--:-- --:--:-- 70583\n",
      "\u001b[34m2021-08-04 14:01:18.235 UTC [channelCmd] InitCmdFactory -> INFO 001\u001b[0m Endorser and orderer connections initialized\n",
      "\u001b[34m2021-08-04 14:01:18.241 UTC [cli.common] readBlock -> INFO 002\u001b[0m Received block: 0\n",
      "\u001b[34m2021-08-04 14:01:18.317 UTC [channelCmd] InitCmdFactory -> INFO 001\u001b[0m Endorser and orderer connections initialized\n",
      "\u001b[34m2021-08-04 14:01:18.458 UTC [channelCmd] executeJoin -> INFO 002\u001b[0m Successfully submitted proposal to join channel\n"
     ]
    },
    {
     "name": "stdout",
     "output_type": "stream",
     "text": [
      "galya-1\n",
      "/home/jovyan/work/usr/bin/kubectl exec -t orderer-org1-scray-org-5f97c57d44-l6d5l -c scray-orderer-cli -- /bin/sh -c /mnt/conf/orderer/scripts/inform_existing_nodes.sh '10.32.0.4' super13 galya-1 10.14.128.38:30080 10.15.136.41 dalya8.kubernetes.research.dev.seeburger.de\n"
     ]
    },
    {
     "name": "stderr",
     "output_type": "stream",
     "text": [
      "\u001b[34m2021-08-04 14:01:19.175 UTC [channelCmd] InitCmdFactory -> INFO 001\u001b[0m Endorser and orderer connections initialized\n",
      "\u001b[34m2021-08-04 14:01:19.185 UTC [cli.common] readBlock -> INFO 002\u001b[0m Received block: 1\n",
      "\u001b[34m2021-08-04 14:01:19.186 UTC [channelCmd] fetch -> INFO 003\u001b[0m Retrieving last config block: 1\n",
      "\u001b[34m2021-08-04 14:01:19.190 UTC [cli.common] readBlock -> INFO 004\u001b[0m Received block: 1\n",
      "  % Total    % Received % Xferd  Average Speed   Time    Time     Time  Current\n",
      "                                 Dload  Upload   Total   Spent    Left  Speed\n",
      "100   237  100   237    0     0  26333      0 --:--:-- --:--:-- --:--:-- 29625\n",
      "  % Total    % Received % Xferd  Average Speed   Time    Time     Time  Current\n",
      "                                 Dload  Upload   Total   Spent    Left  Speed\n",
      "100   847    0     0  100   847      0  70583 --:--:-- --:--:-- --:--:-- 70583\n",
      "  % Total    % Received % Xferd  Average Speed   Time    Time     Time  Current\n",
      "                                 Dload  Upload   Total   Spent    Left  Speed\n",
      "100 11779  100 11779    0     0  1278k      0 --:--:-- --:--:-- --:--:-- 1278k\n",
      "\u001b[34m2021-08-04 14:01:20.385 UTC [channelCmd] InitCmdFactory -> INFO 001\u001b[0m Endorser and orderer connections initialized\n",
      "\u001b[34m2021-08-04 14:01:20.471 UTC [channelCmd] InitCmdFactory -> INFO 001\u001b[0m Endorser and orderer connections initialized\n",
      "\u001b[34m2021-08-04 14:01:20.614 UTC [channelCmd] update -> INFO 002\u001b[0m Successfully submitted channel update\n"
     ]
    },
    {
     "name": "stdout",
     "output_type": "stream",
     "text": [
      "/home/jovyan/work/usr/bin/kubectl exec -t galya-1-786dff4d74-nrzrx -c scray-peer-cli -- /bin/sh -c /mnt/conf/peer_join.sh '10.32.0.4' orderer.example.com 7050 super13 10.14.128.38:30080 10.15.136.41\n"
     ]
    },
    {
     "name": "stderr",
     "output_type": "stream",
     "text": [
      "  % Total    % Received % Xferd  Average Speed   Time    Time     Time  Current\n",
      "                                 Dload  Upload   Total   Spent    Left  Speed\n",
      "100   847  100   847    0     0  29206      0 --:--:-- --:--:-- --:--:-- 30250\n",
      "\u001b[34m2021-08-04 14:01:22.674 UTC [channelCmd] InitCmdFactory -> INFO 001\u001b[0m Endorser and orderer connections initialized\n",
      "\u001b[34m2021-08-04 14:01:22.689 UTC [cli.common] readBlock -> INFO 002\u001b[0m Received block: 0\n",
      "\u001b[34m2021-08-04 14:01:22.788 UTC [channelCmd] InitCmdFactory -> INFO 001\u001b[0m Endorser and orderer connections initialized\n",
      "\u001b[34m2021-08-04 14:01:22.888 UTC [channelCmd] executeJoin -> INFO 002\u001b[0m Successfully submitted proposal to join channel\n"
     ]
    },
    {
     "name": "stdout",
     "output_type": "stream",
     "text": [
      "galya-2\n",
      "/home/jovyan/work/usr/bin/kubectl exec -t orderer-org1-scray-org-5f97c57d44-l6d5l -c scray-orderer-cli -- /bin/sh -c /mnt/conf/orderer/scripts/inform_existing_nodes.sh '10.32.0.4' super13 galya-2 10.14.128.38:30080 10.15.136.41 dalya8.kubernetes.research.dev.seeburger.de\n"
     ]
    },
    {
     "name": "stderr",
     "output_type": "stream",
     "text": [
      "\u001b[34m2021-08-04 14:01:23.792 UTC [channelCmd] InitCmdFactory -> INFO 001\u001b[0m Endorser and orderer connections initialized\n",
      "\u001b[34m2021-08-04 14:01:23.801 UTC [cli.common] readBlock -> INFO 002\u001b[0m Received block: 2\n",
      "\u001b[34m2021-08-04 14:01:23.801 UTC [channelCmd] fetch -> INFO 003\u001b[0m Retrieving last config block: 2\n",
      "\u001b[34m2021-08-04 14:01:23.817 UTC [cli.common] readBlock -> INFO 004\u001b[0m Received block: 2\n",
      "  % Total    % Received % Xferd  Average Speed   Time    Time     Time  Current\n",
      "                                 Dload  Upload   Total   Spent    Left  Speed\n",
      "100   237  100   237    0     0   8777      0 --:--:-- --:--:-- --:--:--  8464\n",
      "  % Total    % Received % Xferd  Average Speed   Time    Time     Time  Current\n",
      "                                 Dload  Upload   Total   Spent    Left  Speed\n",
      "100   847    0     0  100   847      0  40333 --:--:-- --:--:-- --:--:-- 40333\n",
      "  % Total    % Received % Xferd  Average Speed   Time    Time     Time  Current\n",
      "                                 Dload  Upload   Total   Spent    Left  Speed\n",
      "100 11783  100 11783    0     0   547k      0 --:--:-- --:--:-- --:--:--  547k\n",
      "\u001b[34m2021-08-04 14:01:25.366 UTC [channelCmd] InitCmdFactory -> INFO 001\u001b[0m Endorser and orderer connections initialized\n",
      "\u001b[34m2021-08-04 14:01:25.441 UTC [channelCmd] InitCmdFactory -> INFO 001\u001b[0m Endorser and orderer connections initialized\n",
      "\u001b[34m2021-08-04 14:01:25.608 UTC [channelCmd] update -> INFO 002\u001b[0m Successfully submitted channel update\n"
     ]
    },
    {
     "name": "stdout",
     "output_type": "stream",
     "text": [
      "/home/jovyan/work/usr/bin/kubectl exec -t galya-2-57d7b6745f-js9ln -c scray-peer-cli -- /bin/sh -c /mnt/conf/peer_join.sh '10.32.0.4' orderer.example.com 7050 super13 10.14.128.38:30080 10.15.136.41\n"
     ]
    },
    {
     "name": "stderr",
     "output_type": "stream",
     "text": [
      "  % Total    % Received % Xferd  Average Speed   Time    Time     Time  Current\n",
      "                                 Dload  Upload   Total   Spent    Left  Speed\n",
      "100   847  100   847    0     0   118k      0 --:--:-- --:--:-- --:--:--  118k\n",
      "\u001b[34m2021-08-04 14:01:28.802 UTC [channelCmd] InitCmdFactory -> INFO 001\u001b[0m Endorser and orderer connections initialized\n",
      "\u001b[34m2021-08-04 14:01:28.812 UTC [cli.common] readBlock -> INFO 002\u001b[0m Received block: 0\n",
      "\u001b[34m2021-08-04 14:01:28.936 UTC [channelCmd] InitCmdFactory -> INFO 001\u001b[0m Endorser and orderer connections initialized\n",
      "\u001b[34m2021-08-04 14:01:29.131 UTC [channelCmd] executeJoin -> INFO 002\u001b[0m Successfully submitted proposal to join channel\n"
     ]
    }
   ],
   "source": [
    "orderer_ip=get_orderer_ip('orderer-org1-scray-org') \n",
    "orderer_hostname='orderer.example.com'\n",
    "orderer_port='7050'\n",
    "#orderer_port=orderer.listen_port\n",
    "channel_name='super13'\n",
    "shared_fs_host='10.14.128.38:30080'\n",
    "    \n",
    "def endorse_and_join(peer):    \n",
    "    res1 = endorse_peer(peer=peer,orderer_ip=orderer_ip,channel_name=channel_name,shared_fs_host='10.14.128.38:30080')   \n",
    "    res2  = joinHyperledger(peer,orderer_ip,orderer_hostname,orderer_port,channel_name,shared_fs_host)\n",
    "    return res1,res2\n",
    "\n",
    "for key, value in peers.items():\n",
    "    endorse_and_join(value)"
   ]
  },
  {
   "cell_type": "code",
   "execution_count": 258,
   "metadata": {},
   "outputs": [
    {
     "data": {
      "text/plain": [
       "dict"
      ]
     },
     "execution_count": 258,
     "metadata": {},
     "output_type": "execute_result"
    }
   ],
   "source": [
    "type(peers)"
   ]
  },
  {
   "cell_type": "markdown",
   "metadata": {},
   "source": [
    "# install chaincode"
   ]
  },
  {
   "cell_type": "code",
   "execution_count": null,
   "metadata": {},
   "outputs": [],
   "source": [
    "CHANNEL_NAME=mychannel\n",
    "#ORDERER_NAME=orderer.example.com\n",
    "IP_CC_SERVICE=10.14.128.38         # Host where the chaincode is running\n",
    "#PEER_POD=$(kubectl get pod -l app=$PEER_NAME -o jsonpath=\"{.items[0].metadata.name}\")\n",
    "#ORDERER_IP=$(kubectl get pods  -l app=orderer-org1-scray-org -o jsonpath='{.items[*].status.podIP}')\n",
    "#ORDERER_LISTEN_PORT=$(kubectl get service orderer-org1-scray-org -o jsonpath=\"{.spec.ports[?(@.name=='orderer-listen')].nodePort}\")\n",
    "#ORDERER_HOST=orderer.example.com\n",
    "EXT_PEER_IP=10.14.128.38\n",
    "\n",
    "ORDERER_PORT=$(kubectl get service orderer-org1-scray-org -o jsonpath=\"{.spec.ports[?(@.name=='orderer-listen')].nodePort}\")\n",
    "ORDERER_PORT=7050\n",
    "ORDERER_IP=$(kubectl get pods  -l app=orderer-org1-scray-org -o jsonpath='{.items[*].status.podIP}')\n",
    "\n",
    "kubectl exec --stdin --tty $PEER_POD -c scray-peer-cli -- /bin/sh /mnt/conf/install_and_approve_cc.sh $IP_CC_SERVICE $ORDERER_IP $ORDERER_HOST $ORDERER_PORT $CHANNEL_NAME "
   ]
  },
  {
   "cell_type": "code",
   "execution_count": 401,
   "metadata": {},
   "outputs": [
    {
     "data": {
      "text/plain": [
       "'super13'"
      ]
     },
     "execution_count": 401,
     "metadata": {},
     "output_type": "execute_result"
    }
   ],
   "source": [
    "channel_name"
   ]
  },
  {
   "cell_type": "code",
   "execution_count": 402,
   "metadata": {},
   "outputs": [
    {
     "name": "stdout",
     "output_type": "stream",
     "text": [
      "/home/jovyan/work/usr/bin/kubectl exec -t galya-0-6cc848b49-pv2dn -c scray-peer-cli -- /bin/sh -c /mnt/conf/install_and_approve_cc.sh 10.14.128.38 '10.32.0.4' orderer.example.com 7050 super13\n"
     ]
    },
    {
     "name": "stderr",
     "output_type": "stream",
     "text": [
      "  % Total    % Received % Xferd  Average Speed   Time    Time     Time  Current\n",
      "                                 Dload  Upload   Total   Spent    Left  Speed\n",
      "100   450  100   450    0     0   3461      0 --:--:-- --:--:-- --:--:--  3488\n",
      "\u001b[34m2021-08-04 14:01:50.901 UTC [cli.lifecycle.chaincode] submitInstallProposal -> INFO 001\u001b[0m Installed remotely: response:<status:200 payload:\"\\nJbasic_1.0:5a294a12a1a89cd4eed3d4234fbc79f42eab2ac20cd176bc8ebbc07c597cd0ee\\022\\tbasic_1.0\" > \n",
      "\u001b[34m2021-08-04 14:01:50.903 UTC [cli.lifecycle.chaincode] submitInstallProposal -> INFO 002\u001b[0m Chaincode code package identifier: basic_1.0:5a294a12a1a89cd4eed3d4234fbc79f42eab2ac20cd176bc8ebbc07c597cd0ee\n",
      "\u001b[34m2021-08-04 14:01:53.304 UTC [chaincodeCmd] ClientWait -> INFO 001\u001b[0m txid [3f3fe0f28586f350ac62b78840fa21c6551fb51bdedcc4213b3a5d216a8ad9d8] committed with status (VALID) at peer0.galya-0.kubernetes.research.dev.seeburger.de:31107\n"
     ]
    },
    {
     "name": "stdout",
     "output_type": "stream",
     "text": [
      "/home/jovyan/work/usr/bin/kubectl exec -t galya-1-786dff4d74-nrzrx -c scray-peer-cli -- /bin/sh -c /mnt/conf/install_and_approve_cc.sh 10.14.128.38 '10.32.0.4' orderer.example.com 7050 super13\n"
     ]
    },
    {
     "name": "stderr",
     "output_type": "stream",
     "text": [
      "  % Total    % Received % Xferd  Average Speed   Time    Time     Time  Current\n",
      "                                 Dload  Upload   Total   Spent    Left  Speed\n",
      "100   450  100   450    0     0   4205      0 --:--:-- --:--:-- --:--:--  4205\n",
      "\u001b[34m2021-08-04 14:01:54.414 UTC [cli.lifecycle.chaincode] submitInstallProposal -> INFO 001\u001b[0m Installed remotely: response:<status:200 payload:\"\\nJbasic_1.0:5a294a12a1a89cd4eed3d4234fbc79f42eab2ac20cd176bc8ebbc07c597cd0ee\\022\\tbasic_1.0\" > \n",
      "\u001b[34m2021-08-04 14:01:54.417 UTC [cli.lifecycle.chaincode] submitInstallProposal -> INFO 002\u001b[0m Chaincode code package identifier: basic_1.0:5a294a12a1a89cd4eed3d4234fbc79f42eab2ac20cd176bc8ebbc07c597cd0ee\n",
      "\u001b[34m2021-08-04 14:01:56.799 UTC [chaincodeCmd] ClientWait -> INFO 001\u001b[0m txid [630f2e15fd8cdd98b1b7815f0328572f3951906d67cef125b211cc4cceea3560] committed with status (VALID) at peer0.galya-1.kubernetes.research.dev.seeburger.de:30549\n"
     ]
    },
    {
     "name": "stdout",
     "output_type": "stream",
     "text": [
      "/home/jovyan/work/usr/bin/kubectl exec -t galya-2-57d7b6745f-js9ln -c scray-peer-cli -- /bin/sh -c /mnt/conf/install_and_approve_cc.sh 10.14.128.38 '10.32.0.4' orderer.example.com 7050 super13\n"
     ]
    },
    {
     "name": "stderr",
     "output_type": "stream",
     "text": [
      "  % Total    % Received % Xferd  Average Speed   Time    Time     Time  Current\n",
      "                                 Dload  Upload   Total   Spent    Left  Speed\n",
      "100   450  100   450    0     0   4166      0 --:--:-- --:--:-- --:--:--  4166\n",
      "\u001b[34m2021-08-04 14:01:58.126 UTC [cli.lifecycle.chaincode] submitInstallProposal -> INFO 001\u001b[0m Installed remotely: response:<status:200 payload:\"\\nJbasic_1.0:5a294a12a1a89cd4eed3d4234fbc79f42eab2ac20cd176bc8ebbc07c597cd0ee\\022\\tbasic_1.0\" > \n",
      "\u001b[34m2021-08-04 14:01:58.126 UTC [cli.lifecycle.chaincode] submitInstallProposal -> INFO 002\u001b[0m Chaincode code package identifier: basic_1.0:5a294a12a1a89cd4eed3d4234fbc79f42eab2ac20cd176bc8ebbc07c597cd0ee\n",
      "\u001b[34m2021-08-04 14:02:00.546 UTC [chaincodeCmd] ClientWait -> INFO 001\u001b[0m txid [435e99dc50b604da64060fe7659ec8d2ffa21f059061b2b197a62f3a24e48a9d] committed with status (VALID) at peer0.galya-2.kubernetes.research.dev.seeburger.de:32473\n"
     ]
    }
   ],
   "source": [
    "#cc_host chaincode host\n",
    "def installAndAproveChaincode(peer,orderer,channel_name,cc_host='10.14.128.38'):\n",
    "    #!/home/jovyan/work/usr/bin/kubectl exec --stdin --tty $POD_NAME -c scray-peer-cli -- /bin/sh /mnt/conf/install_and_approve_cc.sh $IP_CC_SERVICE $IP_OF_EXAMPLE_NETWORK\n",
    "    strlist = ['/mnt/conf/install_and_approve_cc.sh', cc_host, orderer.get_ip(), orderer.host, str(orderer.orderer_intern), channel_name ]\n",
    "    return executePeerCmd(peer.pod_name,toCmd(strlist)) \n",
    "     \n",
    "for key, peer in peers.items():\n",
    "    installAndAproveChaincode(peer,orderer,channel_name)"
   ]
  },
  {
   "cell_type": "code",
   "execution_count": 403,
   "metadata": {},
   "outputs": [
    {
     "name": "stdout",
     "output_type": "stream",
     "text": [
      "/home/jovyan/work/usr/bin/kubectl exec -t galya-0-6cc848b49-pv2dn -c scray-peer-cli -- /bin/sh -c /mnt/conf/peer/cc_commit.sh super13\n"
     ]
    },
    {
     "name": "stderr",
     "output_type": "stream",
     "text": [
      "\u001b[34m2021-08-04 14:02:14.147 UTC [chaincodeCmd] ClientWait -> INFO 001\u001b[0m txid [1ce32abb17c958874aec303ebbaf92e7a01eb4aed8ebfd41c9eb8dd859e3de6c] committed with status (VALID) at peer0.galya-0.kubernetes.research.dev.seeburger.de:31107\n"
     ]
    },
    {
     "data": {
      "text/plain": [
       "\"Installed chaincode\\nInstalled chaincodes on peer:\\nPackage ID: basic_1.0:5a294a12a1a89cd4eed3d4234fbc79f42eab2ac20cd176bc8ebbc07c597cd0ee, Label: basic_1.0\\nChaincode definition for chaincode 'basic', version '1.0', sequence '1' on channel 'super13' approval status by org:\\nAdminOrgMSP: false\\ngalya-0MSP: true\\ngalya-1MSP: true\\ngalya-2MSP: true\\n\""
      ]
     },
     "execution_count": 403,
     "metadata": {},
     "output_type": "execute_result"
    }
   ],
   "source": [
    "def commitChaincode(peer,channel_name):\n",
    "    strlist = ['/mnt/conf/peer/cc_commit.sh', channel_name ]\n",
    "    return executePeerCmd(peer.pod_name,toCmd(strlist)) \n",
    "\n",
    "peer = list(peers.values())[0]\n",
    "commitChaincode(peer,channel_name)"
   ]
  },
  {
   "cell_type": "code",
   "execution_count": 340,
   "metadata": {},
   "outputs": [
    {
     "data": {
      "text/plain": [
       "{'name': 'calya-0',\n",
       " 'pod_name': 'calya-0-5b556d76df-mbjnf',\n",
       " 'listen_port': '30654',\n",
       " 'gossip_port': '32587'}"
      ]
     },
     "execution_count": 340,
     "metadata": {},
     "output_type": "execute_result"
    }
   ],
   "source": [
    "#peers.keys()\n",
    "#[elem for elem in peers.values()]\n",
    "list(peers.values())[0].__dict__"
   ]
  },
  {
   "cell_type": "code",
   "execution_count": 405,
   "metadata": {},
   "outputs": [
    {
     "name": "stdout",
     "output_type": "stream",
     "text": [
      "/home/jovyan/work/usr/bin/kubectl exec -t galya-0-6cc848b49-pv2dn -c scray-peer-cli -- /bin/sh -c /mnt/conf/peer/cc-basic-interaction.sh super13\n"
     ]
    },
    {
     "name": "stderr",
     "output_type": "stream",
     "text": [
      "\u001b[34m2021-08-04 14:02:34.999 UTC [chaincodeCmd] chaincodeInvokeOrQuery -> INFO 001\u001b[0m Chaincode invoke successful. result: status:200 \n"
     ]
    },
    {
     "data": {
      "text/plain": [
       "'[{\"Key\":\"invoice1\",\"Record\":{\"ID\":\"invoice1\",\"InvoiceOwner\":\"x509::CN=User1@galya-0.kubernetes.research.dev.seeburger.de,OU=client,L=San Francisco,ST=California,C=US::CN=ca.galya-0.kubernetes.research.dev.seeburger.de,O=galya-0.kubernetes.research.dev.seeburger.de,L=San Francisco,ST=California,C=US\",\"ProductByer\":\"x509::CN=User1@galya-0.kubernetes.research.dev.seeburger.de,OU=client,L=San Francisco,ST=California,C=US::CN=ca.galya-0.kubernetes.research.dev.seeburger.de,O=galya-0.kubernetes.research.dev.seeburger.de,L=San Francisco,ST=California,C=US\"}}]\\n'"
      ]
     },
     "execution_count": 405,
     "metadata": {},
     "output_type": "execute_result"
    }
   ],
   "source": [
    "#Call init method in chaincode\n",
    "def chaincode_init(peer,channel_name):\n",
    "    strlist = ['/mnt/conf/peer/cc-basic-interaction.sh', channel_name ]\n",
    "    return executePeerCmd(peer.pod_name,toCmd(strlist)) \n",
    "\n",
    "chaincode_init(peer,channel_name)"
   ]
  },
  {
   "cell_type": "code",
   "execution_count": 456,
   "metadata": {},
   "outputs": [
    {
     "name": "stdout",
     "output_type": "stream",
     "text": [
      "/mnt/conf/peer/add-invoice.sh super13 030 \"x509::CN=User1@galya-1.kubernetes.research.dev.seeburger.de,OU=client,L=San Francisco,ST=California,C=US::CN=ca.galya-1.kubernetes.research.dev.seeburger.de,O=galya-1.kubernetes.research.dev.seeburger.de,L=San Francisco,ST=California,C=USdx509::CN=User1@galya-1.kubernetes.research.dev.seeburger.de,OU=client,L=San Francisco,ST=California,C=US::CN=ca.galya-1.kubernetes.research.dev.seeburger.de,O=galya-1.kubernetes.research.dev.seeburger.de,L=San Francisco,ST=California,C=US\"\n",
      "/home/jovyan/work/usr/bin/kubectl exec -t galya-1-786dff4d74-nrzrx -c scray-peer-cli -- /bin/sh -c /mnt/conf/peer/add-invoice.sh super13 030 \"x509::CN=User1@galya-1.kubernetes.research.dev.seeburger.de,OU=client,L=San Francisco,ST=California,C=US::CN=ca.galya-1.kubernetes.research.dev.seeburger.de,O=galya-1.kubernetes.research.dev.seeburger.de,L=San Francisco,ST=California,C=USdx509::CN=User1@galya-1.kubernetes.research.dev.seeburger.de,OU=client,L=San Francisco,ST=California,C=US::CN=ca.galya-1.kubernetes.research.dev.seeburger.de,O=galya-1.kubernetes.research.dev.seeburger.de,L=San Francisco,ST=California,C=US\"\n"
     ]
    },
    {
     "name": "stderr",
     "output_type": "stream",
     "text": [
      "Error: chaincode argument error: unexpected end of JSON input\n",
      "Usage:\n",
      "  peer chaincode invoke [flags]\n",
      "\n",
      "Flags:\n",
      "  -C, --channelID string               The channel on which this command should be executed\n",
      "      --connectionProfile string       Connection profile that provides the necessary connection information for the network. Note: currently only supported for providing peer connection information\n",
      "  -c, --ctor string                    Constructor message for the chaincode in JSON format (default \"{}\")\n",
      "  -h, --help                           help for invoke\n",
      "  -I, --isInit                         Is this invocation for init (useful for supporting legacy chaincodes in the new lifecycle)\n",
      "  -n, --name string                    Name of the chaincode\n",
      "      --peerAddresses stringArray      The addresses of the peers to connect to\n",
      "      --tlsRootCertFiles stringArray   If TLS is enabled, the paths to the TLS root cert files of the peers to connect to. The order and number of certs specified should match the --peerAddresses flag\n",
      "      --waitForEvent                   Whether to wait for the event from each peer's deliver filtered service signifying that the 'invoke' transaction has been committed successfully\n",
      "      --waitForEventTimeout duration   Time to wait for the event from each peer's deliver filtered service signifying that the 'invoke' transaction has been committed successfully (default 30s)\n",
      "\n",
      "Global Flags:\n",
      "      --cafile string                       Path to file containing PEM-encoded trusted certificate(s) for the ordering endpoint\n",
      "      --certfile string                     Path to file containing PEM-encoded X509 public key to use for mutual TLS communication with the orderer endpoint\n",
      "      --clientauth                          Use mutual TLS when communicating with the orderer endpoint\n",
      "      --connTimeout duration                Timeout for client to connect (default 3s)\n",
      "      --keyfile string                      Path to file containing PEM-encoded private key to use for mutual TLS communication with the orderer endpoint\n",
      "  -o, --orderer string                      Ordering service endpoint\n",
      "      --ordererTLSHostnameOverride string   The hostname override to use when validating the TLS connection to the orderer\n",
      "      --tls                                 Use TLS when communicating with the orderer endpoint\n",
      "      --tlsHandshakeTimeShift duration      The amount of time to shift backwards for certificate expiration checks during TLS handshakes with the orderer endpoint\n",
      "      --transient string                    Transient map of arguments in JSON encoding\n",
      "\n",
      "command terminated with exit code 1\n"
     ]
    },
    {
     "data": {
      "text/plain": [
       "'Command \\'[\\'/home/jovyan/work/usr/bin/kubectl\\', \\'exec\\', \\'-t\\', \\'galya-1-786dff4d74-nrzrx\\', \\'-c\\', \\'scray-peer-cli\\', \\'--\\', \\'/bin/sh\\', \\'-c\\', \\'/mnt/conf/peer/add-invoice.sh super13 030 \"x509::CN=User1@galya-1.kubernetes.research.dev.seeburger.de,OU=client,L=San Francisco,ST=California,C=US::CN=ca.galya-1.kubernetes.research.dev.seeburger.de,O=galya-1.kubernetes.research.dev.seeburger.de,L=San Francisco,ST=California,C=USdx509::CN=User1@galya-1.kubernetes.research.dev.seeburger.de,OU=client,L=San Francisco,ST=California,C=US::CN=ca.galya-1.kubernetes.research.dev.seeburger.de,O=galya-1.kubernetes.research.dev.seeburger.de,L=San Francisco,ST=California,C=US\"\\']\\' returned non-zero exit status 1.'"
      ]
     },
     "execution_count": 456,
     "metadata": {},
     "output_type": "execute_result"
    }
   ],
   "source": [
    "#kubectl exec --stdin --tty $PEER_POD -c scray-peer-cli -- /bin/sh /mnt/conf/peer/add-invoice.sh  $CHANNEL_NAME $INVOICE_ID\n",
    "\n",
    "def get_certificate_string(peername):\n",
    "    return 'x509::CN=User1@' + peername + '.kubernetes.research.dev.seeburger.de,OU=client,L=San Francisco,ST=California,C=US::CN=ca.' + peername + '.kubernetes.research.dev.seeburger.de,O=' + peername + '.kubernetes.research.dev.seeburger.de,L=San Francisco,ST=California,C=USdx509::CN=User1@' + peername + '.kubernetes.research.dev.seeburger.de,OU=client,L=San Francisco,ST=California,C=US::CN=ca.' + peername + '.kubernetes.research.dev.seeburger.de,O=' + peername + '.kubernetes.research.dev.seeburger.de,L=San Francisco,ST=California,C=US'\n",
    "\n",
    "def chaincode_add_invoice(peer,channel_name,invoice_id,buyer):\n",
    "    strlist = ['/mnt/conf/peer/add-invoice.sh', channel_name,invoice_id,get_certificate_string(buyer)]\n",
    "    print(toCmd(strlist))\n",
    "    return executePeerCmd(peer.pod_name,toCmd(strlist)) \n",
    "\n",
    "pernames = list(peers.keys())\n",
    "chaincode_add_invoice(peers[pernames[1]],channel_name,'030',pernames[1])"
   ]
  },
  {
   "cell_type": "code",
   "execution_count": 444,
   "metadata": {},
   "outputs": [
    {
     "name": "stdout",
     "output_type": "stream",
     "text": [
      "\u001b[34m2021-08-04 15:05:43.561 UTC [chaincodeCmd] chaincodeInvokeOrQuery -> INFO 001\u001b[0m Chaincode invoke successful. result: status:200 \n"
     ]
    }
   ],
   "source": [
    "!/home/jovyan/work/usr/bin/kubectl exec -t galya-0-6cc848b49-pv2dn -c scray-peer-cli -- /bin/sh /mnt/conf/peer/add-invoice.sh super13 006 x509::CN=User1@galya-1.kubernetes.research.dev.seeburger.de,OU=client,L=San Francisco,ST=California,C=US::CN=ca.galya-1.kubernetes.research.dev.seeburger.de,O=galya-1.kubernetes.research.dev.seeburger.de,L=San Francisco,ST=California,C=USdx509::CN=User1@galya-1.kubernetes.research.dev.seeburger.de,OU=client,L=San Francisco,ST=California,C=US::CN=ca.galya-1.kubernetes.research.dev.seeburger.de,O=galya-1.kubernetes.research.dev.seeburger.de,L=San Francisco,ST=California,C=US"
   ]
  },
  {
   "cell_type": "code",
   "execution_count": 427,
   "metadata": {},
   "outputs": [
    {
     "data": {
      "text/plain": [
       "'x509::CN=User1@galya-1.kubernetes.research.dev.seeburger.de,OU=client,L=San Francisco,ST=California,C=US::CN=ca.galya-1.kubernetes.research.dev.seeburger.de,O=galya-1.kubernetes.research.dev.seeburger.de,L=San Francisco,ST=California,C=USdx509::CN=User1@galya-1.kubernetes.research.dev.seeburger.de,OU=client,L=San Francisco,ST=California,C=US::CN=ca.galya-1.kubernetes.research.dev.seeburger.de,O=galya-1.kubernetes.research.dev.seeburger.de,L=San Francisco,ST=California,C=US'"
      ]
     },
     "execution_count": 427,
     "metadata": {},
     "output_type": "execute_result"
    }
   ],
   "source": [
    "get_certificate_string(pernames[1])\n",
    "\n",
    "#, 'x509::CN=User1@galya-1.kubernetes.research.dev.seeburger.de,OU=client,L=San Francisco,ST=California,C=US::CN=ca.galya-1.kubernetes.research.dev.seeburger.de,O=galya-1.kubernetes.research.dev.seeburger.de,L=San Francisco,ST=California,C=USdx509::CN=User1@galya-1.kubernetes.research.dev.seeburger.de,OU=client,L=San Francisco,ST=California,C=US::CN=ca.galya-1.kubernetes.research.dev.seeburger.de,O=galya-1.kubernetes.research.dev.seeburger.de,L=San Francisco,ST=California,C=US'"
   ]
  },
  {
   "cell_type": "code",
   "execution_count": 454,
   "metadata": {},
   "outputs": [
    {
     "name": "stdout",
     "output_type": "stream",
     "text": [
      "/home/jovyan/work/usr/bin/kubectl exec -t galya-0-6cc848b49-pv2dn -c scray-peer-cli -- /bin/sh -c /mnt/conf/peer/get-my-invoices.sh super13\n"
     ]
    },
    {
     "data": {
      "text/plain": [
       "'[{\"Key\":\"001\",\"Record\":{\"ID\":\"001\",\"InvoiceOwner\":\"x509::CN=User1@galya-0.kubernetes.research.dev.seeburger.de,OU=client,L=San Francisco,ST=California,C=US::CN=ca.galya-0.kubernetes.research.dev.seeburger.de,O=galya-0.kubernetes.research.dev.seeburger.de,L=San Francisco,ST=California,C=US\",\"ProductByer\":\"x509::CN=User1@galya-1.kubernetes.research.dev.seeburger.de,OU=client,L=San\"}},{\"Key\":\"002\",\"Record\":{\"ID\":\"002\",\"InvoiceOwner\":\"x509::CN=User1@galya-0.kubernetes.research.dev.seeburger.de,OU=client,L=San Francisco,ST=California,C=US::CN=ca.galya-0.kubernetes.research.dev.seeburger.de,O=galya-0.kubernetes.research.dev.seeburger.de,L=San Francisco,ST=California,C=US\",\"ProductByer\":\"x509::CN=User1@galya-1.kubernetes.research.dev.seeburger.de,OU=client,L=San\"}},{\"Key\":\"003\",\"Record\":{\"ID\":\"003\",\"InvoiceOwner\":\"x509::CN=User1@galya-0.kubernetes.research.dev.seeburger.de,OU=client,L=San Francisco,ST=California,C=US::CN=ca.galya-0.kubernetes.research.dev.seeburger.de,O=galya-0.kubernetes.research.dev.seeburger.de,L=San Francisco,ST=California,C=US\",\"ProductByer\":\"x509::CN=User1@galya-1.kubernetes.research.dev.seeburger.de,OU=client,L=San\"}},{\"Key\":\"005\",\"Record\":{\"ID\":\"005\",\"InvoiceOwner\":\"x509::CN=User1@galya-0.kubernetes.research.dev.seeburger.de,OU=client,L=San Francisco,ST=California,C=US::CN=ca.galya-0.kubernetes.research.dev.seeburger.de,O=galya-0.kubernetes.research.dev.seeburger.de,L=San Francisco,ST=California,C=US\",\"ProductByer\":\"x509::CN=User1@galya-1.kubernetes.research.dev.seeburger.de,OU=client,L=San\"}},{\"Key\":\"006\",\"Record\":{\"ID\":\"006\",\"InvoiceOwner\":\"x509::CN=User1@galya-0.kubernetes.research.dev.seeburger.de,OU=client,L=San Francisco,ST=California,C=US::CN=ca.galya-0.kubernetes.research.dev.seeburger.de,O=galya-0.kubernetes.research.dev.seeburger.de,L=San Francisco,ST=California,C=US\",\"ProductByer\":\"x509::CN=User1@galya-1.kubernetes.research.dev.seeburger.de,OU=client,L=San\"}},{\"Key\":\"007\",\"Record\":{\"ID\":\"007\",\"InvoiceOwner\":\"x509::CN=User1@galya-0.kubernetes.research.dev.seeburger.de,OU=client,L=San Francisco,ST=California,C=US::CN=ca.galya-0.kubernetes.research.dev.seeburger.de,O=galya-0.kubernetes.research.dev.seeburger.de,L=San Francisco,ST=California,C=US\",\"ProductByer\":\"x509::CN=User1@kubernetes.research.dev.seeburger.de,OU=client,L=San\"}},{\"Key\":\"008\",\"Record\":{\"ID\":\"008\",\"InvoiceOwner\":\"x509::CN=User1@galya-0.kubernetes.research.dev.seeburger.de,OU=client,L=San Francisco,ST=California,C=US::CN=ca.galya-0.kubernetes.research.dev.seeburger.de,O=galya-0.kubernetes.research.dev.seeburger.de,L=San Francisco,ST=California,C=US\",\"ProductByer\":\"x509::CN=User1@kubernetes.research.dev.seeburger.de,OU=client,L=San\"}},{\"Key\":\"009\",\"Record\":{\"ID\":\"009\",\"InvoiceOwner\":\"x509::CN=User1@galya-0.kubernetes.research.dev.seeburger.de,OU=client,L=San Francisco,ST=California,C=US::CN=ca.galya-0.kubernetes.research.dev.seeburger.de,O=galya-0.kubernetes.research.dev.seeburger.de,L=San Francisco,ST=California,C=US\",\"ProductByer\":\"x509::CN=User1@galya-1.kubernetes.research.dev.seeburger.de,OU=client,L=San\"}},{\"Key\":\"011\",\"Record\":{\"ID\":\"011\",\"InvoiceOwner\":\"x509::CN=User1@galya-0.kubernetes.research.dev.seeburger.de,OU=client,L=San Francisco,ST=California,C=US::CN=ca.galya-0.kubernetes.research.dev.seeburger.de,O=galya-0.kubernetes.research.dev.seeburger.de,L=San Francisco,ST=California,C=US\",\"ProductByer\":\"x509::CN=User1@galya-1.kubernetes.research.dev.seeburger.de,OU=client,L=SanFrancisco,ST=California,C=US::CN=ca.galya-1.kubernetes.research.dev.seeburger.de,O=galya-1.kubernetes.research.dev.seeburger.de,L=San\"}},{\"Key\":\"020\",\"Record\":{\"ID\":\"020\",\"InvoiceOwner\":\"x509::CN=User1@galya-0.kubernetes.research.dev.seeburger.de,OU=client,L=San Francisco,ST=California,C=US::CN=ca.galya-0.kubernetes.research.dev.seeburger.de,O=galya-0.kubernetes.research.dev.seeburger.de,L=San Francisco,ST=California,C=US\",\"ProductByer\":\"x509::CN=User1@galya-1.kubernetes.research.dev.seeburger.de,OU=client,L=San\"}},{\"Key\":\"021\",\"Record\":{\"ID\":\"021\",\"InvoiceOwner\":\"x509::CN=User1@galya-0.kubernetes.research.dev.seeburger.de,OU=client,L=San Francisco,ST=California,C=US::CN=ca.galya-0.kubernetes.research.dev.seeburger.de,O=galya-0.kubernetes.research.dev.seeburger.de,L=San Francisco,ST=California,C=US\",\"ProductByer\":\"x509::CN=User1@galya-1.kubernetes.research.dev.seeburger.de,OU=client,L=San\"}},{\"Key\":\"invoice1\",\"Record\":{\"ID\":\"invoice1\",\"InvoiceOwner\":\"x509::CN=User1@galya-0.kubernetes.research.dev.seeburger.de,OU=client,L=San Francisco,ST=California,C=US::CN=ca.galya-0.kubernetes.research.dev.seeburger.de,O=galya-0.kubernetes.research.dev.seeburger.de,L=San Francisco,ST=California,C=US\",\"ProductByer\":\"x509::CN=User1@galya-0.kubernetes.research.dev.seeburger.de,OU=client,L=San Francisco,ST=California,C=US::CN=ca.galya-0.kubernetes.research.dev.seeburger.de,O=galya-0.kubernetes.research.dev.seeburger.de,L=San Francisco,ST=California,C=US\"}}]\\n'"
      ]
     },
     "execution_count": 454,
     "metadata": {},
     "output_type": "execute_result"
    }
   ],
   "source": [
    "#kubectl exec --stdin --tty $PEER_POD -c scray-peer-cli -- /bin/sh /mnt/conf/peer/get-my-invoices.sh  $CHANNEL_NAME $INVOICE_ID\n",
    "def chaincode_read_invoice(peer,channel_name):\n",
    "    strlist = ['/mnt/conf/peer/get-my-invoices.sh', channel_name]\n",
    "    return executePeerCmd(peer.pod_name,toCmd(strlist)) \n",
    "chaincode_read_invoice(peers[pernames[0]],channel_name)"
   ]
  },
  {
   "cell_type": "markdown",
   "metadata": {},
   "source": [
    "# add channel"
   ]
  },
  {
   "cell_type": "code",
   "execution_count": 216,
   "metadata": {},
   "outputs": [
    {
     "name": "stdout",
     "output_type": "stream",
     "text": [
      "/home/jovyan/work/usr/bin/kubectl exec -t orderer-org1-scray-org-5f97c57d44-l6d5l -c scray-orderer-cli -- /bin/sh -c /mnt/conf/orderer/scripts/create_channel.sh super4 orderer.example.com 7050\n"
     ]
    },
    {
     "name": "stderr",
     "output_type": "stream",
     "text": [
      "super4: line 1: /mnt/conf/orderer/scripts/create_channel.sh: Permission denied\n",
      "command terminated with exit code 126\n"
     ]
    },
    {
     "data": {
      "text/plain": [
       "\"Command '['/home/jovyan/work/usr/bin/kubectl', 'exec', '-t', 'orderer-org1-scray-org-5f97c57d44-l6d5l', '-c', 'scray-orderer-cli', '--', '/bin/sh', '-c', '/mnt/conf/orderer/scripts/create_channel.sh', 'super4', 'orderer.example.com', '7050']' returned non-zero exit status 126.\""
      ]
     },
     "execution_count": 216,
     "metadata": {},
     "output_type": "execute_result"
    }
   ],
   "source": [
    "add_channel('super4')"
   ]
  },
  {
   "cell_type": "code",
   "execution_count": 308,
   "metadata": {},
   "outputs": [
    {
     "data": {
      "text/plain": [
       "('/mnt/conf/orderer/scripts/create_channel.sh super10 orderer.example.com 7050',\n",
       " 'orderer-org1-scray-org-5f97c57d44-l6d5l')"
      ]
     },
     "execution_count": 308,
     "metadata": {},
     "output_type": "execute_result"
    }
   ],
   "source": [
    "name = 'super10'\n",
    "cmd = toCmd(['/mnt/conf/orderer/scripts/create_channel.sh', name, 'orderer.example.com', '7050'])\n",
    "cmd, orderer.pod_name"
   ]
  },
  {
   "cell_type": "code",
   "execution_count": 309,
   "metadata": {},
   "outputs": [
    {
     "data": {
      "text/plain": [
       "'can only concatenate list (not \"str\") to list'"
      ]
     },
     "execution_count": 309,
     "metadata": {},
     "output_type": "execute_result"
    }
   ],
   "source": [
    "cmd1 = ['/mnt/conf/orderer/scripts/create_channel.sh super10 orderer.example.com 7050']\n",
    "executePeerCmd(orderer.pod_name, cmd1, cli='scray-orderer-cli')"
   ]
  },
  {
   "cell_type": "code",
   "execution_count": 235,
   "metadata": {},
   "outputs": [
    {
     "name": "stdout",
     "output_type": "stream",
     "text": [
      "/home/jovyan/work/usr/bin/kubectl exec -t orderer-org1-scray-org-5f97c57d44-l6d5l -c scray-orderer-cli -- /bin/sh -c /mnt/conf/orderer/scripts/create_channel.sh super7 orderer.example.com 7050\n"
     ]
    },
    {
     "data": {
      "text/plain": [
       "CompletedProcess(args=['/home/jovyan/work/usr/bin/kubectl', 'exec', '-t', 'orderer-org1-scray-org-5f97c57d44-l6d5l', '-c', 'scray-orderer-cli', '--', '/bin/sh', '-c', '/mnt/conf/orderer/scripts/create_channel.sh super7 orderer.example.com 7050'], returncode=126, stdout=b'', stderr=b'/bin/sh: /mnt/conf/orderer/scripts/create_channel.sh: Permission denied\\ncommand terminated with exit code 126\\n')"
      ]
     },
     "execution_count": 235,
     "metadata": {},
     "output_type": "execute_result"
    }
   ],
   "source": [
    "#cmd1 = ['/home/jovyan/work/usr/bin/kubectl', 'exec','-t', 'orderer-org1-scray-org-5f97c57d44-l6d5l', '-c', 'scray-orderer-cli','--', '/bin/sh', '-c','/mnt/conf/orderer/scripts/create_channel.sh super7 orderer.example.com 7050']\n",
    "\n",
    "#cmd2 = toCmd(['ls','-a'])\n",
    "cmd2 = toCmd(['/mnt/conf/orderer/scripts/create_channel.sh', 'super7', 'orderer.example.com', '7050'])\n",
    "\n",
    "cmd1 = ['/home/jovyan/work/usr/bin/kubectl', 'exec','-t', 'orderer-org1-scray-org-5f97c57d44-l6d5l', '-c', 'scray-orderer-cli','--', '/bin/sh', '-c',cmd2]\n",
    "\n",
    "\n",
    "print(toCmd(cmd1))\n",
    "#subprocess.check_output(cmd1)\n",
    "subprocess.run(cmd1, stdout = subprocess.PIPE, stderr=subprocess.PIPE)"
   ]
  },
  {
   "cell_type": "code",
   "execution_count": 395,
   "metadata": {},
   "outputs": [
    {
     "name": "stdout",
     "output_type": "stream",
     "text": [
      "\u001b[34m2021-08-04 13:59:44.215 UTC [common.tools.configtxgen] main -> INFO 001\u001b[0m Loading configuration\n",
      "\u001b[34m2021-08-04 13:59:44.289 UTC [common.tools.configtxgen.localconfig] Load -> INFO 002\u001b[0m Loaded configuration: /mnt/conf/orderer/configtx.yaml\n",
      "\u001b[34m2021-08-04 13:59:44.289 UTC [common.tools.configtxgen] doOutputChannelCreateTx -> INFO 003\u001b[0m Generating new channel configtx\n",
      "\u001b[34m2021-08-04 13:59:44.297 UTC [common.tools.configtxgen] doOutputChannelCreateTx -> INFO 004\u001b[0m Writing new channel tx\n",
      "\u001b[34m2021-08-04 13:59:44.527 UTC [channelCmd] InitCmdFactory -> INFO 001\u001b[0m Endorser and orderer connections initialized\n",
      "\u001b[34m2021-08-04 13:59:44.598 UTC [cli.common] readBlock -> INFO 002\u001b[0m Expect block, but got status: &{NOT_FOUND}\n",
      "\u001b[34m2021-08-04 13:59:44.619 UTC [channelCmd] InitCmdFactory -> INFO 003\u001b[0m Endorser and orderer connections initialized\n",
      "\u001b[34m2021-08-04 13:59:44.822 UTC [cli.common] readBlock -> INFO 004\u001b[0m Expect block, but got status: &{SERVICE_UNAVAILABLE}\n",
      "\u001b[34m2021-08-04 13:59:44.831 UTC [channelCmd] InitCmdFactory -> INFO 005\u001b[0m Endorser and orderer connections initialized\n",
      "\u001b[34m2021-08-04 13:59:45.033 UTC [cli.common] readBlock -> INFO 006\u001b[0m Expect block, but got status: &{SERVICE_UNAVAILABLE}\n",
      "\u001b[34m2021-08-04 13:59:45.043 UTC [channelCmd] InitCmdFactory -> INFO 007\u001b[0m Endorser and orderer connections initialized\n",
      "\u001b[34m2021-08-04 13:59:45.246 UTC [cli.common] readBlock -> INFO 008\u001b[0m Expect block, but got status: &{SERVICE_UNAVAILABLE}\n",
      "\u001b[34m2021-08-04 13:59:45.260 UTC [channelCmd] InitCmdFactory -> INFO 009\u001b[0m Endorser and orderer connections initialized\n",
      "\u001b[34m2021-08-04 13:59:45.464 UTC [cli.common] readBlock -> INFO 00a\u001b[0m Expect block, but got status: &{SERVICE_UNAVAILABLE}\n",
      "\u001b[34m2021-08-04 13:59:45.495 UTC [channelCmd] InitCmdFactory -> INFO 00b\u001b[0m Endorser and orderer connections initialized\n",
      "\u001b[34m2021-08-04 13:59:45.700 UTC [cli.common] readBlock -> INFO 00c\u001b[0m Received block: 0\n"
     ]
    }
   ],
   "source": [
    "!/home/jovyan/work/usr/bin/kubectl exec -t orderer-org1-scray-org-5f97c57d44-l6d5l -c scray-orderer-cli -- /bin/sh /mnt/conf/orderer/scripts/create_channel.sh super13 orderer.example.com 7050"
   ]
  },
  {
   "cell_type": "code",
   "execution_count": 220,
   "metadata": {},
   "outputs": [
    {
     "name": "stdout",
     "output_type": "stream",
     "text": [
      "\u001b[34m2021-07-29 13:31:00.426 UTC [common.tools.configtxgen] main -> INFO 001\u001b[0m Loading configuration\n",
      "\u001b[34m2021-07-29 13:31:00.451 UTC [common.tools.configtxgen.localconfig] Load -> INFO 002\u001b[0m Loaded configuration: /mnt/conf/orderer/configtx.yaml\n",
      "\u001b[34m2021-07-29 13:31:00.452 UTC [common.tools.configtxgen] doOutputChannelCreateTx -> INFO 003\u001b[0m Generating new channel configtx\n",
      "\u001b[34m2021-07-29 13:31:00.456 UTC [common.tools.configtxgen] doOutputChannelCreateTx -> INFO 004\u001b[0m Writing new channel tx\n",
      "\u001b[34m2021-07-29 13:31:00.530 UTC [channelCmd] InitCmdFactory -> INFO 001\u001b[0m Endorser and orderer connections initialized\n",
      "\u001b[34m2021-07-29 13:31:00.592 UTC [cli.common] readBlock -> INFO 002\u001b[0m Expect block, but got status: &{NOT_FOUND}\n",
      "\u001b[34m2021-07-29 13:31:00.603 UTC [channelCmd] InitCmdFactory -> INFO 003\u001b[0m Endorser and orderer connections initialized\n",
      "\u001b[34m2021-07-29 13:31:00.806 UTC [cli.common] readBlock -> INFO 004\u001b[0m Expect block, but got status: &{SERVICE_UNAVAILABLE}\n",
      "\u001b[34m2021-07-29 13:31:00.813 UTC [channelCmd] InitCmdFactory -> INFO 005\u001b[0m Endorser and orderer connections initialized\n",
      "\u001b[34m2021-07-29 13:31:01.015 UTC [cli.common] readBlock -> INFO 006\u001b[0m Expect block, but got status: &{SERVICE_UNAVAILABLE}\n",
      "\u001b[34m2021-07-29 13:31:01.023 UTC [channelCmd] InitCmdFactory -> INFO 007\u001b[0m Endorser and orderer connections initialized\n",
      "\u001b[34m2021-07-29 13:31:01.228 UTC [cli.common] readBlock -> INFO 008\u001b[0m Expect block, but got status: &{SERVICE_UNAVAILABLE}\n",
      "\u001b[34m2021-07-29 13:31:01.237 UTC [channelCmd] InitCmdFactory -> INFO 009\u001b[0m Endorser and orderer connections initialized\n",
      "\u001b[34m2021-07-29 13:31:01.439 UTC [cli.common] readBlock -> INFO 00a\u001b[0m Expect block, but got status: &{SERVICE_UNAVAILABLE}\n",
      "\u001b[34m2021-07-29 13:31:01.445 UTC [channelCmd] InitCmdFactory -> INFO 00b\u001b[0m Endorser and orderer connections initialized\n",
      "\u001b[34m2021-07-29 13:31:01.647 UTC [cli.common] readBlock -> INFO 00c\u001b[0m Expect block, but got status: &{SERVICE_UNAVAILABLE}\n",
      "\u001b[34m2021-07-29 13:31:01.652 UTC [channelCmd] InitCmdFactory -> INFO 00d\u001b[0m Endorser and orderer connections initialized\n",
      "\u001b[34m2021-07-29 13:31:01.865 UTC [cli.common] readBlock -> INFO 00e\u001b[0m Received block: 0\n"
     ]
    }
   ],
   "source": [
    "!/home/jovyan/work/usr/bin/kubectl exec -it orderer-org1-scray-org-5f97c57d44-l6d5l -c scray-orderer-cli -- /bin/sh /mnt/conf/orderer/scripts/create_channel.sh super6 orderer.example.com 7050\n"
   ]
  },
  {
   "cell_type": "code",
   "execution_count": 202,
   "metadata": {},
   "outputs": [
    {
     "name": "stdout",
     "output_type": "stream",
     "text": [
      "\u001b[34m2021-07-29 09:21:39.711 UTC [common.tools.configtxgen] main -> INFO 001\u001b[0m Loading configuration\n",
      "\u001b[34m2021-07-29 09:21:39.739 UTC [common.tools.configtxgen.localconfig] Load -> INFO 002\u001b[0m Loaded configuration: /mnt/conf/orderer/configtx.yaml\n",
      "\u001b[34m2021-07-29 09:21:39.739 UTC [common.tools.configtxgen] doOutputChannelCreateTx -> INFO 003\u001b[0m Generating new channel configtx\n",
      "\u001b[34m2021-07-29 09:21:39.743 UTC [common.tools.configtxgen] doOutputChannelCreateTx -> INFO 004\u001b[0m Writing new channel tx\n",
      "\u001b[34m2021-07-29 09:21:39.829 UTC [channelCmd] InitCmdFactory -> INFO 001\u001b[0m Endorser and orderer connections initialized\n",
      "\u001b[34m2021-07-29 09:21:39.869 UTC [cli.common] readBlock -> INFO 002\u001b[0m Expect block, but got status: &{NOT_FOUND}\n",
      "\u001b[34m2021-07-29 09:21:39.874 UTC [channelCmd] InitCmdFactory -> INFO 003\u001b[0m Endorser and orderer connections initialized\n",
      "\u001b[34m2021-07-29 09:21:40.077 UTC [cli.common] readBlock -> INFO 004\u001b[0m Expect block, but got status: &{SERVICE_UNAVAILABLE}\n",
      "\u001b[34m2021-07-29 09:21:40.082 UTC [channelCmd] InitCmdFactory -> INFO 005\u001b[0m Endorser and orderer connections initialized\n",
      "\u001b[34m2021-07-29 09:21:40.286 UTC [cli.common] readBlock -> INFO 006\u001b[0m Expect block, but got status: &{SERVICE_UNAVAILABLE}\n",
      "\u001b[34m2021-07-29 09:21:40.293 UTC [channelCmd] InitCmdFactory -> INFO 007\u001b[0m Endorser and orderer connections initialized\n",
      "\u001b[34m2021-07-29 09:21:40.494 UTC [cli.common] readBlock -> INFO 008\u001b[0m Expect block, but got status: &{SERVICE_UNAVAILABLE}\n",
      "\u001b[34m2021-07-29 09:21:40.500 UTC [channelCmd] InitCmdFactory -> INFO 009\u001b[0m Endorser and orderer connections initialized\n",
      "\u001b[34m2021-07-29 09:21:40.706 UTC [cli.common] readBlock -> INFO 00a\u001b[0m Expect block, but got status: &{SERVICE_UNAVAILABLE}\n",
      "\u001b[34m2021-07-29 09:21:40.713 UTC [channelCmd] InitCmdFactory -> INFO 00b\u001b[0m Endorser and orderer connections initialized\n",
      "\u001b[34m2021-07-29 09:21:40.919 UTC [cli.common] readBlock -> INFO 00c\u001b[0m Expect block, but got status: &{SERVICE_UNAVAILABLE}\n",
      "\u001b[34m2021-07-29 09:21:40.925 UTC [channelCmd] InitCmdFactory -> INFO 00d\u001b[0m Endorser and orderer connections initialized\n",
      "\u001b[34m2021-07-29 09:21:41.137 UTC [cli.common] readBlock -> INFO 00e\u001b[0m Received block: 0\n"
     ]
    }
   ],
   "source": [
    "!/home/jovyan/work/usr/bin/kubectl exec --stdin --tty 'orderer-org1-scray-org-5f97c57d44-l6d5l' -c scray-orderer-cli  -- /bin/sh /mnt/conf/orderer/scripts/create_channel.sh 'super' orderer.example.com '7050'"
   ]
  },
  {
   "cell_type": "code",
   "execution_count": 175,
   "metadata": {},
   "outputs": [
    {
     "data": {
      "text/plain": [
       "{'name': 'dalya8',\n",
       " 'pod_name': 'dalya8-78fc67d66f-ggq8l',\n",
       " 'listen_port': '32129',\n",
       " 'gossip_port': '32005'}"
      ]
     },
     "execution_count": 175,
     "metadata": {},
     "output_type": "execute_result"
    }
   ],
   "source": [
    "# Create Peer\n",
    "\n",
    "peername='dalya8'\n",
    "addPeer(peername)\n",
    "peers[peername].__dict__"
   ]
  },
  {
   "cell_type": "code",
   "execution_count": 186,
   "metadata": {},
   "outputs": [
    {
     "name": "stderr",
     "output_type": "stream",
     "text": [
      "  % Total    % Received % Xferd  Average Speed   Time    Time     Time  Current\n",
      "                                 Dload  Upload   Total   Spent    Left  Speed\n",
      "100   847  100   847    0     0  52937      0 --:--:-- --:--:-- --:--:-- 65153\n",
      "\u001b[34m2021-07-29 06:49:45.227 UTC [channelCmd] InitCmdFactory -> INFO 001\u001b[0m Endorser and orderer connections initialized\n",
      "\u001b[34m2021-07-29 06:49:45.239 UTC [cli.common] readBlock -> INFO 002\u001b[0m Received block: 0\n",
      "\u001b[34m2021-07-29 06:49:45.296 UTC [channelCmd] InitCmdFactory -> INFO 001\u001b[0m Endorser and orderer connections initialized\n",
      "Error: proposal failed (err: bad proposal response 500: cannot create ledger from genesis block: LedgerID already exists)\n"
     ]
    },
    {
     "name": "stdout",
     "output_type": "stream",
     "text": [
      "fetch http://dl-cdn.alpinelinux.org/alpine/v3.12/main/x86_64/APKINDEX.tar.gz\n",
      "fetch http://dl-cdn.alpinelinux.org/alpine/v3.12/community/x86_64/APKINDEX.tar.gz\n",
      "OK: 42 MiB in 45 packages\n",
      "OK: 42 MiB in 45 packages\n",
      "Blockchain info: {\"height\":28,\"currentBlockHash\":\"N9x6QBqXxsiSfxAmDri6yCCioyTYv9Uk6sj8kg3odwM=\",\"previousBlockHash\":\"bxedfmSwDldJuuR25dq92sZ9ur+GGLh3gC1YPYtSYec=\"}\n",
      "\n"
     ]
    },
    {
     "name": "stderr",
     "output_type": "stream",
     "text": [
      "\u001b[34m2021-07-29 06:49:45.373 UTC [channelCmd] InitCmdFactory -> INFO 001\u001b[0m Endorser and orderer connections initialized\n"
     ]
    }
   ],
   "source": [
    "\n"
   ]
  },
  {
   "cell_type": "code",
   "execution_count": 82,
   "metadata": {},
   "outputs": [
    {
     "data": {
      "text/plain": [
       "\"'10.32.0.8'\""
      ]
     },
     "execution_count": 82,
     "metadata": {},
     "output_type": "execute_result"
    }
   ],
   "source": [
    "executeKubectlCmd(['get', 'pods','-l', 'app=orderer-org1-scray-org','-o','jsonpath=\\'{.items[*].status.podIP}\\''])  "
   ]
  },
  {
   "cell_type": "code",
   "execution_count": 179,
   "metadata": {},
   "outputs": [
    {
     "data": {
      "text/plain": [
       "{'name': 'dalya8',\n",
       " 'pod_name': 'dalya8-78fc67d66f-ggq8l',\n",
       " 'listen_port': '32129',\n",
       " 'gossip_port': '32005'}"
      ]
     },
     "execution_count": 179,
     "metadata": {},
     "output_type": "execute_result"
    }
   ],
   "source": [
    "peers[peername].__dict__"
   ]
  },
  {
   "cell_type": "code",
   "execution_count": 123,
   "metadata": {},
   "outputs": [
    {
     "data": {
      "text/plain": [
       "{'name': 'orderer-org1-scray-org',\n",
       " 'pod_name': 'orderer-org1-scray-org-5f97c57d44-z9rdf',\n",
       " 'listen_port': '31840',\n",
       " 'gossip_port': ''}"
      ]
     },
     "execution_count": 123,
     "metadata": {},
     "output_type": "execute_result"
    }
   ],
   "source": [
    "orderer.__dict__"
   ]
  },
  {
   "cell_type": "markdown",
   "metadata": {},
   "source": [
    "# Multiple version"
   ]
  },
  {
   "cell_type": "code",
   "execution_count": 6,
   "metadata": {},
   "outputs": [],
   "source": [
    "# init\n",
    "peers = {}"
   ]
  },
  {
   "cell_type": "code",
   "execution_count": 52,
   "metadata": {},
   "outputs": [
    {
     "name": "stdout",
     "output_type": "stream",
     "text": [
      "kubernetespeer addBashEnvToPeer\n"
     ]
    },
    {
     "data": {
      "text/plain": [
       "{'name': 'olya4',\n",
       " 'pod_name': 'olya4-78684c8df7-zt8qd',\n",
       " 'listen_port': '32312',\n",
       " 'gossip_port': '32762'}"
      ]
     },
     "execution_count": 52,
     "metadata": {},
     "output_type": "execute_result"
    }
   ],
   "source": [
    "# create peer\n",
    "peername='olya4'\n",
    "addPeer(peername)\n",
    "peers[peername].__dict__"
   ]
  },
  {
   "cell_type": "code",
   "execution_count": 16,
   "metadata": {},
   "outputs": [
    {
     "name": "stderr",
     "output_type": "stream",
     "text": [
      "error: error executing jsonpath \"\\\"{.items[0].metadata.name}\\\"\": Error executing template: array index out of bounds: index 0, length 0. Printing more information for debugging the template:\n",
      "\ttemplate was:\n",
      "\t\t\"{.items[0].metadata.name}\"\n",
      "\tobject given to jsonpath engine was:\n",
      "\t\tmap[string]interface {}{\"apiVersion\":\"v1\", \"items\":[]interface {}{}, \"kind\":\"List\", \"metadata\":map[string]interface {}{\"resourceVersion\":\"\", \"selfLink\":\"\"}}\n",
      "\n",
      "\n",
      "Error from server (NotFound): services \"olyA0\" not found\n"
     ]
    },
    {
     "name": "stdout",
     "output_type": "stream",
     "text": [
      "kubernetespeer addBashEnvToPeer\n"
     ]
    },
    {
     "name": "stderr",
     "output_type": "stream",
     "text": [
      "Error from server (NotFound): services \"olyA0\" not found\n"
     ]
    }
   ],
   "source": [
    "# initialize blockchain from known peer\n",
    "import kubernetesTool\n",
    "peer = kubernetespeer(name=peername)\n",
    "#kubernetesTool.getPod('oly0')\n",
    "peers[peername] = peer"
   ]
  },
  {
   "cell_type": "code",
   "execution_count": 203,
   "metadata": {},
   "outputs": [
    {
     "data": {
      "text/plain": [
       "b''"
      ]
     },
     "execution_count": 203,
     "metadata": {},
     "output_type": "execute_result"
    }
   ],
   "source": [
    "peername='test27'\n",
    "#executeLocalCmd('cd /home/jovyan/scray/projects/invoice-hyperledger-fabric/containers/ && /home/jovyan/scray/projects/invoice-hyperledger-fabric/containers/configure-deployment.sh -n ' + peername)\n",
    "#!ls /home/jovyan/scray/projects/invoice-hyperledger-fabric/containers/\n",
    "#executeLocalCmd(['/bin/cd','/home/jovyan/scray/projects/invoice-hyperledger-fabric/containers/'])\n",
    "#executeLocalCmd('which cd')\n",
    "cmd = \"cd\"\n",
    "#subprocess.check_output(cmd)\n",
    "cmd ='!cd /home/jovyan/scray/projects/invoice-hyperledger-fabric/containers/ && pwd'\n",
    "cmd=['/bin/bash','&&','/usr/bin/ls','/home']\n",
    "cmd=['/bin/bash','-c','cd /']\n",
    "subprocess.check_output(cmd)\n",
    "#subprocess.run(cmd, stdout = subprocess.PIPE, stderr=subprocess.PIPE)\n",
    "#!which cd"
   ]
  },
  {
   "cell_type": "code",
   "execution_count": 21,
   "metadata": {},
   "outputs": [],
   "source": [
    "def getPeer0Address(peer):\n",
    "    addr='peer0.kubernetes.research.dev.seeburger.de'\n",
    "    return str(addr + ':' + peer.listen_port)\n",
    "\n",
    "def getPeerBaseAddress(peer):\n",
    "    addr='kubernetes.research.dev.seeburger.de'\n",
    "    return str(addr + ':' + peer.listen_port)"
   ]
  },
  {
   "cell_type": "code",
   "execution_count": null,
   "metadata": {},
   "outputs": [],
   "source": [
    "import kubernetesTool\n",
    "\n",
    "peer = peers['test4']\n",
    "cmd= ['get', 'pods', peer.pod_name, '-o', 'json']\n",
    "#peer_containers_text.value=str(len(json.loads(executeKubectlCmd(cmd).decode('ascii'))['spec']['containers']))\n",
    "kubernetesTool.executeKubectlCmd(cmd)"
   ]
  },
  {
   "cell_type": "code",
   "execution_count": 205,
   "metadata": {},
   "outputs": [
    {
     "data": {
      "application/vnd.jupyter.widget-view+json": {
       "model_id": "bd73f801195545b6a4ea5744a72a9cfd",
       "version_major": 2,
       "version_minor": 0
      },
      "text/plain": [
       "HTML(value='<b>peer</b>', description=' ', layout=Layout(width='500px'), style=DescriptionStyle(description_wi…"
      ]
     },
     "metadata": {},
     "output_type": "display_data"
    },
    {
     "data": {
      "application/vnd.jupyter.widget-view+json": {
       "model_id": "1e719a7c83b740ad97a0c66ddd5b5020",
       "version_major": 2,
       "version_minor": 0
      },
      "text/plain": [
       "Text(value='', description='organization', layout=Layout(width='600px'), style=DescriptionStyle(description_wi…"
      ]
     },
     "metadata": {},
     "output_type": "display_data"
    },
    {
     "data": {
      "application/vnd.jupyter.widget-view+json": {
       "model_id": "ed6a2cf98be64026848f2f0815aa4137",
       "version_major": 2,
       "version_minor": 0
      },
      "text/plain": [
       "Text(value='', description='pod name', disabled=True, layout=Layout(width='600px'), style=DescriptionStyle(des…"
      ]
     },
     "metadata": {},
     "output_type": "display_data"
    },
    {
     "data": {
      "application/vnd.jupyter.widget-view+json": {
       "model_id": "5c65f04fe7694cb2a058e0e4669442f7",
       "version_major": 2,
       "version_minor": 0
      },
      "text/plain": [
       "Text(value='', description='containers', disabled=True, layout=Layout(width='600px'), style=DescriptionStyle(d…"
      ]
     },
     "metadata": {},
     "output_type": "display_data"
    },
    {
     "data": {
      "application/vnd.jupyter.widget-view+json": {
       "model_id": "7f1a096e64984566bbe2cde8e45c3095",
       "version_major": 2,
       "version_minor": 0
      },
      "text/plain": [
       "Text(value='', description='address', disabled=True, layout=Layout(width='600px'), style=DescriptionStyle(desc…"
      ]
     },
     "metadata": {},
     "output_type": "display_data"
    },
    {
     "data": {
      "application/vnd.jupyter.widget-view+json": {
       "model_id": "086eb68cdc444b9caac4789048d16230",
       "version_major": 2,
       "version_minor": 0
      },
      "text/plain": [
       "HTML(value='<b>certificate</b>', description=' ', layout=Layout(width='500px'), style=DescriptionStyle(descrip…"
      ]
     },
     "metadata": {},
     "output_type": "display_data"
    },
    {
     "data": {
      "application/vnd.jupyter.widget-view+json": {
       "model_id": "6ad4986a861c42509af7187465700787",
       "version_major": 2,
       "version_minor": 0
      },
      "text/plain": [
       "Text(value='', description='organization', disabled=True, layout=Layout(width='600px'), style=DescriptionStyle…"
      ]
     },
     "metadata": {},
     "output_type": "display_data"
    },
    {
     "data": {
      "application/vnd.jupyter.widget-view+json": {
       "model_id": "a9d52c519f2d4daf824a94fc758e923a",
       "version_major": 2,
       "version_minor": 0
      },
      "text/plain": [
       "Text(value='', description='common name', disabled=True, layout=Layout(width='600px'), style=DescriptionStyle(…"
      ]
     },
     "metadata": {},
     "output_type": "display_data"
    },
    {
     "data": {
      "application/vnd.jupyter.widget-view+json": {
       "model_id": "374e51523bbb416ca02e59d652f949ad",
       "version_major": 2,
       "version_minor": 0
      },
      "text/plain": [
       "Text(value='', description='serial number', disabled=True, layout=Layout(width='600px'), style=DescriptionStyl…"
      ]
     },
     "metadata": {},
     "output_type": "display_data"
    },
    {
     "data": {
      "application/vnd.jupyter.widget-view+json": {
       "model_id": "3bd481ebb1e04b6599e57c457abf3cb5",
       "version_major": 2,
       "version_minor": 0
      },
      "text/plain": [
       "Text(value='', description='locality', disabled=True, layout=Layout(width='600px'), style=DescriptionStyle(des…"
      ]
     },
     "metadata": {},
     "output_type": "display_data"
    },
    {
     "data": {
      "application/vnd.jupyter.widget-view+json": {
       "model_id": "f76070235aaf4cc4a190dee83df041d9",
       "version_major": 2,
       "version_minor": 0
      },
      "text/plain": [
       "Text(value='', description='state', disabled=True, layout=Layout(width='600px'), style=DescriptionStyle(descri…"
      ]
     },
     "metadata": {},
     "output_type": "display_data"
    },
    {
     "data": {
      "application/vnd.jupyter.widget-view+json": {
       "model_id": "8f3dd416b15a4f4aaa594c5f4e8b8dc6",
       "version_major": 2,
       "version_minor": 0
      },
      "text/plain": [
       "Text(value='', description='country', disabled=True, layout=Layout(width='600px'), style=DescriptionStyle(desc…"
      ]
     },
     "metadata": {},
     "output_type": "display_data"
    },
    {
     "data": {
      "application/vnd.jupyter.widget-view+json": {
       "model_id": "33fc4db9cff1459f9b0a0a37534dbd7d",
       "version_major": 2,
       "version_minor": 0
      },
      "text/plain": [
       "Text(value='', description='from', disabled=True, layout=Layout(width='600px'), style=DescriptionStyle(descrip…"
      ]
     },
     "metadata": {},
     "output_type": "display_data"
    },
    {
     "data": {
      "application/vnd.jupyter.widget-view+json": {
       "model_id": "20893ad007674b79b3929510468e549b",
       "version_major": 2,
       "version_minor": 0
      },
      "text/plain": [
       "Text(value='', description='until', disabled=True, layout=Layout(width='600px'), style=DescriptionStyle(descri…"
      ]
     },
     "metadata": {},
     "output_type": "display_data"
    }
   ],
   "source": [
    "import os\n",
    "import json\n",
    "import subprocess\n",
    "import pandas as pd\n",
    "\n",
    "import containerWidgets\n",
    "from containerWidgets import addHeader,addVisText,addVisCheckbox   \n",
    "from kubernetesTool import executeKubectlCmd\n",
    "\n",
    "def setPeerWidgetValues(peer):\n",
    "    pod_name_text.value = peer.pod_name\n",
    "    peer_addr_text.value = getPeerAddress(peer)\n",
    "    cmd= ['get', 'pods', peer.pod_name, '-o', 'json']\n",
    "    peer_containers_text.value=str(len(json.loads(executeKubectlCmd(cmd))['spec']['containers']))\n",
    "          \n",
    "    cert = getOrgCrt(org=peer.name)\n",
    "    if cert:\n",
    "        issuer = cert.issuer\n",
    "        c_o_text.value=issuer.get_attributes_for_oid(NameOID.ORGANIZATION_NAME)[0].value\n",
    "        c_cn_text.value=issuer.get_attributes_for_oid(NameOID.COMMON_NAME)[0].value\n",
    "        c_sn_text.value=str(cert.serial_number)\n",
    "        c_l_text.value=issuer.get_attributes_for_oid(NameOID.LOCALITY_NAME)[0].value\n",
    "        c_s_text.value=issuer.get_attributes_for_oid(NameOID.STATE_OR_PROVINCE_NAME)[0].value\n",
    "        c_c_text.value=issuer.get_attributes_for_oid(NameOID.COUNTRY_NAME)[0].value\n",
    "        c_nvb_text.value=cert.not_valid_before.strftime(\"%Y-%m-%d %H:%M:%S\")\n",
    "        c_nva_text.value=cert.not_valid_after.strftime(\"%Y-%m-%d %H:%M:%S\")\n",
    "    else:\n",
    "        c_o_text.value=''\n",
    "    \n",
    "\n",
    "def handle_submit(text):\n",
    "    global peername\n",
    "    peer = addPeer(text.value)\n",
    "    setPeerWidgetValues(peer)\n",
    "    \n",
    "layout2 = {'width': '600px'}   \n",
    "addHeader(text='peer',bold=True)\n",
    "peertext      = addVisText(key='organization',layout=layout2)\n",
    "pod_name_text = addVisText(key='pod name',disabled=True,layout=layout2)\n",
    "peer_containers_text = addVisText(key='containers',disabled=True,layout=layout2)\n",
    "peer_addr_text = addVisText(key='address',disabled=True,layout=layout2)\n",
    "peertext.on_submit(handle_submit)    \n",
    "\n",
    "addHeader(text='certificate',bold=True)\n",
    "c_o_text = addVisText(key='organization',disabled=True,layout=layout2)\n",
    "c_cn_text = addVisText(key='common name',disabled=True,layout=layout2)\n",
    "c_sn_text =addVisText(key='serial number',disabled=True,layout=layout2)\n",
    "c_l_text =addVisText(key='locality',disabled=True,layout=layout2)\n",
    "c_s_text =addVisText(key='state',disabled=True,layout=layout2)\n",
    "c_c_text =addVisText(key='country',disabled=True,layout=layout2)\n",
    "c_nvb_text =addVisText(key='from',disabled=True,layout=layout2)\n",
    "c_nva_text =addVisText(key='until',disabled=True,layout=layout2)"
   ]
  },
  {
   "cell_type": "markdown",
   "metadata": {},
   "source": [
    "Step2: Sign by majority of old peers"
   ]
  },
  {
   "cell_type": "code",
   "execution_count": 210,
   "metadata": {},
   "outputs": [
    {
     "ename": "NameError",
     "evalue": "name 'downloadToLocal' is not defined",
     "output_type": "error",
     "traceback": [
      "\u001b[0;31m\u001b[0m",
      "\u001b[0;31mNameError\u001b[0mTraceback (most recent call last)",
      "\u001b[0;32m<ipython-input-210-af5ef343c50f>\u001b[0m in \u001b[0;36m<module>\u001b[0;34m\u001b[0m\n\u001b[1;32m      1\u001b[0m \u001b[0;31m# download current organizations (consortium) from sharepoint\u001b[0m\u001b[0;34m\u001b[0m\u001b[0;34m\u001b[0m\u001b[0;34m\u001b[0m\u001b[0m\n\u001b[0;32m----> 2\u001b[0;31m \u001b[0mdownloadToLocal\u001b[0m\u001b[0;34m(\u001b[0m\u001b[0mlocal_path\u001b[0m\u001b[0;34m=\u001b[0m\u001b[0;34m'/tmp'\u001b[0m\u001b[0;34m,\u001b[0m \u001b[0mlocal_name\u001b[0m\u001b[0;34m=\u001b[0m\u001b[0;34m'org_msp.json'\u001b[0m \u001b[0;34m,\u001b[0m\u001b[0mremote_path\u001b[0m\u001b[0;34m=\u001b[0m\u001b[0;34m'upload'\u001b[0m\u001b[0;34m)\u001b[0m\u001b[0;34m\u001b[0m\u001b[0;34m\u001b[0m\u001b[0m\n\u001b[0m\u001b[1;32m      3\u001b[0m \u001b[0;32mwith\u001b[0m \u001b[0mopen\u001b[0m\u001b[0;34m(\u001b[0m\u001b[0;34m'/tmp/org_msp.json'\u001b[0m\u001b[0;34m,\u001b[0m \u001b[0;34m'r'\u001b[0m\u001b[0;34m)\u001b[0m \u001b[0;32mas\u001b[0m \u001b[0mfp\u001b[0m\u001b[0;34m:\u001b[0m\u001b[0;34m\u001b[0m\u001b[0;34m\u001b[0m\u001b[0m\n\u001b[1;32m      4\u001b[0m     \u001b[0mdata\u001b[0m \u001b[0;34m=\u001b[0m \u001b[0mjson\u001b[0m\u001b[0;34m.\u001b[0m\u001b[0mload\u001b[0m\u001b[0;34m(\u001b[0m\u001b[0mfp\u001b[0m\u001b[0;34m)\u001b[0m\u001b[0;34m\u001b[0m\u001b[0;34m\u001b[0m\u001b[0m\n\u001b[1;32m      5\u001b[0m \u001b[0;34m\u001b[0m\u001b[0m\n",
      "\u001b[0;31mNameError\u001b[0m: name 'downloadToLocal' is not defined"
     ]
    }
   ],
   "source": [
    "# download current organizations (consortium) from sharepoint\n",
    "downloadToLocal(local_path='/tmp', local_name='org_msp.json' ,remote_path='upload')\n",
    "with open('/tmp/org_msp.json', 'r') as fp:\n",
    "    data = json.load(fp)\n",
    "       \n",
    "local_orgs = getLocalOrgList(data)    "
   ]
  },
  {
   "cell_type": "code",
   "execution_count": 246,
   "metadata": {},
   "outputs": [],
   "source": [
    "for name in local_orgs:\n",
    "    sign(peers[name].pod_name)"
   ]
  },
  {
   "cell_type": "markdown",
   "metadata": {},
   "source": [
    "Step 3"
   ]
  },
  {
   "cell_type": "code",
   "execution_count": 244,
   "metadata": {},
   "outputs": [
    {
     "data": {
      "text/plain": [
       "'oly2-6686d84988-h7vgk'"
      ]
     },
     "execution_count": 244,
     "metadata": {},
     "output_type": "execute_result"
    }
   ],
   "source": [
    "peer = peers['oly2']\n",
    "addBashEnvToPeer(peer)\n",
    "\n",
    "peer.pod_name"
   ]
  },
  {
   "cell_type": "code",
   "execution_count": 245,
   "metadata": {},
   "outputs": [
    {
     "data": {
      "text/plain": [
       "\"Command '['/home/jovyan/work/usr/bin/kubectl', 'exec', '--stdin', '--tty', 'oly2-6686d84988-h7vgk', '-c', 'scray-peer-cli', '--', '/bin/sh', '/mnt/conf/peer_join.sh', '10.15.128.97', 'orderer.example.com', 'mychannel']' returned non-zero exit status 1.\""
      ]
     },
     "execution_count": 245,
     "metadata": {},
     "output_type": "execute_result"
    }
   ],
   "source": [
    "#pod_name   = peers['sally5'].pod_name\n",
    "orderer_ip = '10.15.128.97'   \n",
    "orderer_hostname = 'orderer.example.com'\n",
    "channel_name = 'mychannel'  \n",
    "joinHyperledger(peer.pod_name,orderer_ip,orderer_hostname,channel_name)"
   ]
  },
  {
   "cell_type": "code",
   "execution_count": 209,
   "metadata": {},
   "outputs": [
    {
     "data": {
      "text/plain": [
       "\"Command '['/home/jovyan/work/usr/bin/kubectl', 'exec', '-it', 'oly0-6c9b6f84b4-2hnt9', '-c', 'scray-peer-cli', '--', '/bin/bash', '-c', 'source /root/.bashrc && peer lifecycle chaincode querycommitted --channelID mychannel --name scray-invoice-example --output json']' returned non-zero exit status 1.\""
      ]
     },
     "execution_count": 209,
     "metadata": {},
     "output_type": "execute_result"
    }
   ],
   "source": [
    "cmd= \"peer lifecycle chaincode querycommitted --channelID mychannel --name scray-invoice-example --output json\"\n",
    "executePeerCmd(peer.pod_name,cmd)"
   ]
  },
  {
   "cell_type": "markdown",
   "metadata": {},
   "source": [
    "B"
   ]
  },
  {
   "cell_type": "markdown",
   "metadata": {},
   "source": [
    "# Enroll users"
   ]
  },
  {
   "cell_type": "code",
   "execution_count": 121,
   "metadata": {},
   "outputs": [],
   "source": [
    "# download walletcreator to peers\n",
    "def uploadWalletToolToSharepoint():\n",
    "    uploadFromLocal(local_path='/home/jovyan/scray/projects/invoice-hyperledger-fabric/tools/wallet-creator/target', local_name='wallet-creator-0.0.1-SNAPSHOT-jar-with-dependencies.jar' ,remote_path='upload')\n",
    "    uploadFromLocal(local_path='/home/jovyan/scray/projects/invoice-hyperledger-fabric/tools/wallet-creator', local_name='cert-creator.sh' ,remote_path='upload')\n",
    "\n",
    "def installPeerWalletTool(peer):\n",
    "    executePeerCmd(peer.pod_name,toCmd(downloadToLocalCmdList(local_path='/tmp', remote_name='wallet-creator-0.0.1-SNAPSHOT-jar-with-dependencies.jar'))) \n",
    "    executePeerCmd(peer.pod_name,toCmd(downloadToLocalCmdList(local_path='/tmp', remote_name='cert-creator.sh'))) \n",
    "    executePeerCmd(peer.pod_name,'apk add openssl')\n",
    "    executePeerCmd(peer.pod_name,'apk add openjdk8-jre')\n",
    "    # chmod 755\n",
    "    \n",
    "def createPeerUser(peer,user, admin='admin',\n",
    "    cert='/mnt/conf/organizations/peerOrganizations/kubernetes.research.dev.seeburger.de/ca/ca.kubernetes.research.dev.seeburger.de-cert.pem',\n",
    "    key='/mnt/conf/organizations/peerOrganizations/kubernetes.research.dev.seeburger.de/ca/priv_sk'):\n",
    "        cmd = ['/tmp/cert-creator.sh','--cacert',cert,'--cakey',key,'--new-user-crt',user,'--organizational-unit',admin,\n",
    "               '--create-wallet','true','--wallet-creator-lib-path', '/tmp']\n",
    "        return executePeerCmd(peer.pod_name,toCmd(cmd))\n",
    "    \n",
    "#createPeerUser(peers['oly0'],'bretten')     "
   ]
  },
  {
   "cell_type": "code",
   "execution_count": 120,
   "metadata": {},
   "outputs": [
    {
     "data": {
      "text/plain": [
       "\"Command '['/home/jovyan/work/usr/bin/kubectl', 'exec', '-it', 'oly0-6c9b6f84b4-2hnt9', '-c', 'scray-peer-cli', '--', '/bin/bash', '-c', 'source /root/.bashrc && /tmp/cert-creator.sh --cacert /mnt/conf/organizations/peerOrganizations/kubernetes.research.dev.seeburger.de/ca/ca.kubernetes.research.dev.seeburger.de-cert.pem --cakey /mnt/conf/organizations/peerOrganizations/kubernetes.research.dev.seeburger.de/ca/priv_sk --new-user-crt bretten --organizational-unit admin --create-wallet true --wallet-creator-lib-path /tmp']' returned non-zero exit status 126.\""
      ]
     },
     "execution_count": 120,
     "metadata": {},
     "output_type": "execute_result"
    }
   ],
   "source": [
    "peer = peers['oly0']\n",
    "# build local , upload tool to sharepoint \n",
    "#uploadWalletToolToSharepoint()\n",
    "#installPeerWalletTool(peer)\n",
    "\n",
    "createPeerUser(peer,'bretten')   "
   ]
  },
  {
   "cell_type": "markdown",
   "metadata": {},
   "source": [
    "# Install and aprove chaincode"
   ]
  },
  {
   "cell_type": "code",
   "execution_count": 115,
   "metadata": {},
   "outputs": [
    {
     "data": {
      "text/plain": [
       "'oly0-6c9b6f84b4-2hnt9'"
      ]
     },
     "execution_count": 115,
     "metadata": {},
     "output_type": "execute_result"
    }
   ],
   "source": [
    "local_orgs\n",
    "peers['oly0'].pod_name"
   ]
  },
  {
   "cell_type": "code",
   "execution_count": 230,
   "metadata": {},
   "outputs": [],
   "source": [
    "#installAndAproveChaincode(peers['schalke3'])\n",
    "for name in local_orgs:\n",
    "    installAndAproveChaincode(peers[name])"
   ]
  },
  {
   "cell_type": "code",
   "execution_count": 254,
   "metadata": {},
   "outputs": [],
   "source": [
    "downloadCrtsToPeer(local_orgs, execute_org=local_orgs[0])"
   ]
  },
  {
   "cell_type": "code",
   "execution_count": null,
   "metadata": {},
   "outputs": [],
   "source": [
    "peer lifecycle chaincode commit -o orderer.example.com:7050 --ordererTLSHostnameOverride orderer.example.com \n",
    "--tls --cafile $CERT_BASE_PATH/organizations/ordererOrganizations/example.com/orderers/orderer.example.com/msp/tlscacerts/tlsca.example.com-cert.pem --channelID mychannel --name basic --peerAddresses peer0.org1.example.com:7051 --tlsRootCertFiles $CERT_BASE_PATH/organizations/peerOrganizations/org1.example.com/peers/peer0.org1.example.com/tls/ca.crt --peerAddresses peer0.org2.example.com:9051 --tlsRootCertFiles ${CERT_BASE_PATH}/organizations/peerOrganizations/org2.example.com/peers/peer0.org2.example.com/tls/ca.crt --version 1.0 --sequence 1\n"
   ]
  },
  {
   "cell_type": "code",
   "execution_count": null,
   "metadata": {},
   "outputs": [],
   "source": [
    "#addBashEnvToPeer(peers['schalke3'])\n",
    "downloadCrtsToPeer(local_orgs)\n",
    "downloadCrtsToPeer(['schalke3'], execute_org='schalke3')"
   ]
  },
  {
   "cell_type": "code",
   "execution_count": 129,
   "metadata": {},
   "outputs": [],
   "source": [
    "def commit():\n",
    "    try:    \n",
    "        #crtnew = '\\\" + getCrt(org='klaus') + '\\\"\n",
    "        getCrt(org='klaus')\n",
    "        output = subprocess.check_output(['peer', 'lifecycle','chaincode','commit','-o',addr0,'--ordererTLSHostnameOverride',orderer,\n",
    "                                          '--tls','--cafile',ordererpem,'--channelID','mychannel','--name','basic',\n",
    "                                          '--peerAddresses',addr1, '--tlsRootCertFiles', crt1, \n",
    "                                          '--peerAddresses', addr2, '--tlsRootCertFiles', crt2, \n",
    "                                          '--peerAddresses', 'peer0.scray.org', '--tlsRootCertFiles', '/tmp/new.crt',\n",
    "                                          #'--peerAddresses', 'kubernetes.research.dev.seeburger.de:32190', '--tlsRootCertFiles', '/tmp/new.crt',\n",
    "                                          '--version', '1.0', '--sequence', '1','--tlsRootCertFiles'])\n",
    "        return output.decode('ascii')\n",
    "    except Exception as e:\n",
    "        return str(e)\n",
    "    \n",
    "def getCrt(org='',domain='kubernetes.research.dev.seeburger.de',host='10.15.136.41:30080',user='scray', pwd='scray',channel='mychannel'):\n",
    "    try:    \n",
    "        output = subprocess.check_output(['curl', '--user',user + ':' + pwd, \n",
    "                                               'http://' + host + '/ca/' + channel + '/' + org + '-' + domain + '-ca.crt'])\n",
    "        #return str(callProcess)[3:-3]\n",
    "        return output.decode('ascii')\n",
    "    except Exception as e:\n",
    "        return str(e)    \n",
    "\n",
    "\n",
    "def getCrtToLocalCmd(org='',topath='/tmp',domain='kubernetes.research.dev.seeburger.de',host='10.15.136.41:30080',user='scray', pwd='scray',channel='mychannel'):\n",
    "    crtname = getCrtName(org, domain)\n",
    "    return str('curl --user ' + user + ':' + pwd + \\\n",
    "            ' http://' + host + '/ca/' + channel + '/' + crtname +  ' -o ' +  ' /tmp/' + crtname)\n",
    "        \n",
    "        \n",
    "def getCrtToLocal(org='',topath='/tmp',domain='kubernetes.research.dev.seeburger.de',host='10.15.136.41:30080',user='scray', pwd='scray',channel='mychannel'):\n",
    "    try:    \n",
    "        output = subprocess.check_output(['curl', '--user',user + ':' + pwd, \n",
    "                                               'http://' + host + '/ca/' + channel + '/' + getCrtName(org, domain), '-o', '/tmp/' + getCrtName(org, domain)])\n",
    "        #return str(callProcess)[3:-3]\n",
    "        return output.decode('ascii')\n",
    "    except Exception as e:\n",
    "        return str(e)       \n",
    "    \n",
    "def getCrtCmdParameters():\n",
    "    crts=''\n",
    "    for name in local_orgs:\n",
    "        if name in peers:\n",
    "            peer = peers[name] \n",
    "            crts = crts + str(' --peerAddresses ' + getPeer0Address(peer)  + ' --tlsRootCertFiles ' +  '/tmp/' + getCrtName(org=peer.name))\n",
    "    return crts"
   ]
  },
  {
   "cell_type": "code",
   "execution_count": 130,
   "metadata": {},
   "outputs": [],
   "source": [
    "#local_orgs, crts\n",
    "crts = getCrtCmdParameters()"
   ]
  },
  {
   "cell_type": "code",
   "execution_count": 131,
   "metadata": {},
   "outputs": [
    {
     "data": {
      "text/plain": [
       "' --peerAddresses peer0.kubernetes.research.dev.seeburger.de:32022 --tlsRootCertFiles /tmp/oly0-kubernetes.research.dev.seeburger.de-ca.crt --peerAddresses peer0.kubernetes.research.dev.seeburger.de:30414 --tlsRootCertFiles /tmp/oly1-kubernetes.research.dev.seeburger.de-ca.crt --peerAddresses peer0.kubernetes.research.dev.seeburger.de:30652 --tlsRootCertFiles /tmp/oly2-kubernetes.research.dev.seeburger.de-ca.crt'"
      ]
     },
     "execution_count": 131,
     "metadata": {},
     "output_type": "execute_result"
    }
   ],
   "source": [
    "#addr='peer0.kubernetes.research.dev.seeburger.de'\n",
    "crts"
   ]
  },
  {
   "cell_type": "markdown",
   "metadata": {},
   "source": [
    "commit chaincode"
   ]
  },
  {
   "cell_type": "code",
   "execution_count": 258,
   "metadata": {},
   "outputs": [],
   "source": [
    "addr0 = 'orderer.example.com:7050'\n",
    "orderer = 'orderer.example.com'\n",
    "ordererpem = '/tmp/tlsca.example.com-cert.pem'\n",
    "cmd1 = 'peer lifecycle chaincode commit -o ' + addr0 + ' --ordererTLSHostnameOverride ' + orderer + ' --tls --cafile ' + ordererpem + ' --channelID mychannel --name basic'\n",
    "cmd2 = ' --version 1.0 --sequence 1'\n",
    "\n",
    "def getPart(peer, org='kubernetes.research.dev.seeburger.de'):\n",
    "    return getCrtToLocalCmd(org=peer.name)\n",
    "    #return '--peerAddresses ' + org + ':' + peer.listen_port + ' --tlsRootCertFiles ' +  crt1\n",
    "\n",
    "destpeer = peers[local_orgs[0]]    \n",
    "for name in local_orgs:\n",
    "    if name in peers:\n",
    "        peer = peers[name]    \n",
    "        cmd = getPart(peer)\n",
    "        executePeerCmd(destpeer.pod_name,cmd)\n",
    "\n"
   ]
  },
  {
   "cell_type": "code",
   "execution_count": 260,
   "metadata": {},
   "outputs": [
    {
     "data": {
      "text/plain": [
       "\"Command '['/home/jovyan/work/usr/bin/kubectl', 'exec', '-it', 'oly0-6c9b6f84b4-2hnt9', '-c', 'scray-peer-cli', '--', '/bin/bash', '-c', 'source /root/.bashrc && peer lifecycle chaincode commit -o orderer.example.com:7050 --ordererTLSHostnameOverride orderer.example.com --tls --cafile /tmp/tlsca.example.com-cert.pem --channelID mychannel --name basic --peerAddresses peer0.kubernetes.research.dev.seeburger.de:32022 --tlsRootCertFiles /tmp/oly0-kubernetes.research.dev.seeburger.de-ca.crt --peerAddresses peer0.kubernetes.research.dev.seeburger.de:30414 --tlsRootCertFiles /tmp/oly1-kubernetes.research.dev.seeburger.de-ca.crt --peerAddresses peer0.kubernetes.research.dev.seeburger.de:30652 --tlsRootCertFiles /tmp/oly2-kubernetes.research.dev.seeburger.de-ca.crt --version 1.0 --sequence 1']' returned non-zero exit status 1.\""
      ]
     },
     "execution_count": 260,
     "metadata": {},
     "output_type": "execute_result"
    }
   ],
   "source": [
    "executePeerCmd(destpeer.pod_name,cmd1 + crts + cmd2)"
   ]
  },
  {
   "cell_type": "code",
   "execution_count": 259,
   "metadata": {},
   "outputs": [
    {
     "data": {
      "text/plain": [
       "' --peerAddresses peer0.kubernetes.research.dev.seeburger.de:32022 --tlsRootCertFiles /tmp/oly0-kubernetes.research.dev.seeburger.de-ca.crt --peerAddresses peer0.kubernetes.research.dev.seeburger.de:30414 --tlsRootCertFiles /tmp/oly1-kubernetes.research.dev.seeburger.de-ca.crt --peerAddresses peer0.kubernetes.research.dev.seeburger.de:30652 --tlsRootCertFiles /tmp/oly2-kubernetes.research.dev.seeburger.de-ca.crt'"
      ]
     },
     "execution_count": 259,
     "metadata": {},
     "output_type": "execute_result"
    }
   ],
   "source": [
    "#cmd1 + crts + cmd2\n",
    "crts"
   ]
  },
  {
   "cell_type": "code",
   "execution_count": null,
   "metadata": {},
   "outputs": [],
   "source": [
    "peer lifecycle chaincode queryinstalled --peerAddresses peer0.kubernetes.research.dev.seeburger.de:32733 --tlsRootCertFiles /tmp/sally3-kubernetes.research.dev.seeburger.de-ca.crt"
   ]
  },
  {
   "cell_type": "code",
   "execution_count": null,
   "metadata": {},
   "outputs": [],
   "source": [
    "pod_name   = peers['sally3'].pod_name\n",
    "executePeerCmd(pod_name, \"peer lifecycle chaincode queryinstalled --peerAddresses peer0.kubernetes.research.dev.seeburger.de:32733 --tlsRootCertFiles /tmp/sally3-kubernetes.research.dev.seeburger.de-ca.crt --output json\")"
   ]
  },
  {
   "cell_type": "markdown",
   "metadata": {},
   "source": [
    "# test chaincode"
   ]
  },
  {
   "cell_type": "code",
   "execution_count": 29,
   "metadata": {},
   "outputs": [],
   "source": [
    "from kubernetesTool import toCmd\n",
    "from kubernetesTool import executePeerCmd\n",
    "import json"
   ]
  },
  {
   "cell_type": "code",
   "execution_count": 156,
   "metadata": {},
   "outputs": [
    {
     "data": {
      "text/plain": [
       "{'ID': 'asset7',\n",
       " 'owner': 'oly0MSP',\n",
       " 'hash': 0,\n",
       " 'invoiceNumber': '',\n",
       " 'vat': 0,\n",
       " 'netto': 0,\n",
       " 'countryOrigin': '',\n",
       " 'countryReceiver': '',\n",
       " 'received': False,\n",
       " 'receivedOrder': False,\n",
       " 'sold': False,\n",
       " 'claimPaid': False,\n",
       " 'claimPaidBy': '',\n",
       " 'taxExemptionReason': '',\n",
       " 'taxReceived': False}"
      ]
     },
     "execution_count": 156,
     "metadata": {},
     "output_type": "execute_result"
    }
   ],
   "source": [
    "#peer chaincode query -C mychannel -n basic -c '{\"function\":\"ReadAsset\",\"Args\":[\"asset1\"]}'\n",
    "\n",
    "def readAsset(peer, asset='asset1'):\n",
    "    #callopt= '{\\\"function\\\":\\\"ReadAsset\\\",\\\"Args\\\":[' + '\\\"' + asset + '\\\"' + ']}'\n",
    "    callopt= '{\"function\":\"ReadAsset\",\"Args\":[' + '\\\"' + asset + '\\\"' + ']}'\n",
    "    cmd0 = str('\\'' + callopt + \"\\'\")\n",
    "    try:\n",
    "        #cmd1= 'CORE_PEER_ADDRESS=\\\"peer0.kubernetes.research.dev.seeburger.de:31866\\\" && ' \n",
    "        cmd1 = 'CORE_PEER_ADDRESS=\\\"' + getPeer0Address(peer) + '\\\" && '\n",
    "        cmd2 = ['peer', 'chaincode','query', '-C', 'mychannel', '-n', 'basic', '-c']\n",
    "        cmd = toCmd(cmd2) + ' ' + cmd0\n",
    "        output = executePeerCmd(peer.pod_name, cmd1 + cmd)\n",
    "        #print(output)\n",
    "        if output[0] == '{':\n",
    "            return json.loads(output)\n",
    "    except Exception as e:\n",
    "        print(e)\n",
    "    \n",
    "asset = readAsset(peers['oly0'], 'asset7')\n",
    "asset\n",
    "#asset['ID'] = 'asset11'"
   ]
  },
  {
   "cell_type": "code",
   "execution_count": 123,
   "metadata": {},
   "outputs": [
    {
     "name": "stdout",
     "output_type": "stream",
     "text": [
      "ID asset11 <class 'str'>\n",
      "owner Jin Soo <class 'str'>\n",
      "hash 0 <class 'int'>\n",
      "invoiceNumber  <class 'str'>\n",
      "vat 0 <class 'int'>\n",
      "netto 0 <class 'int'>\n",
      "countryOrigin  <class 'str'>\n",
      "countryReceiver  <class 'str'>\n",
      "received False <class 'bool'>\n",
      "receivedOrder False <class 'bool'>\n",
      "sold False <class 'bool'>\n",
      "claimPaid False <class 'bool'>\n",
      "claimPaidBy  <class 'str'>\n",
      "taxExemptionReason  <class 'str'>\n",
      "taxReceived False <class 'bool'>\n"
     ]
    }
   ],
   "source": [
    "for key, value in asset.items():\n",
    "    print(key,value, type(value))\n",
    "    \n",
    "    \n",
    "#import facturxWidget\n",
    "#widget = facturxWidget.facturx_widgets(asset, '/',hideUnused=True) \n",
    "\n",
    "\n",
    "#write asset to json file\n",
    "import json\n",
    "with open('data.json', 'w', encoding='utf-8') as f:\n",
    "    json.dump(asset, f, ensure_ascii=False, indent=4)"
   ]
  },
  {
   "cell_type": "code",
   "execution_count": 41,
   "metadata": {},
   "outputs": [],
   "source": [
    "try:\n",
    "    import cPickle as pickle\n",
    "except ImportError:  # Python 3.x\n",
    "    import pickle\n",
    "\n",
    "with open('data.p', 'wb') as fp:\n",
    "    pickle.dump(asset, fp, protocol=pickle.HIGHEST_PROTOCOL)"
   ]
  },
  {
   "cell_type": "code",
   "execution_count": 154,
   "metadata": {},
   "outputs": [
    {
     "name": "stdout",
     "output_type": "stream",
     "text": [
      "[\"asset7\",\"Jin Soo\",\"0\",\"\",\"0\",\"0\",\"\",\"\",\"False\",\"False\",\"False\",\"False\",\"\",\"\",\"False\"]\n"
     ]
    }
   ],
   "source": [
    "def toCmd(strlist):\n",
    "    return ''.join(str(e + ' ') for e in strlist)[:-1]\n",
    "\n",
    "#toCmd(asset.values())\n",
    "#print(e) for e in asset.items()\n",
    "\n",
    "#toCmd(list(asset.values()))\n",
    "\n",
    "#[\"asset11\",\"green\",\"10\",\"Jin Soo\",\"500\"]\n",
    "asset['ID'] = 'asset7'\n",
    "arglist = '[' + ''.join(('\\\"' + str(e) + '\\\",') for e in asset.values())[:-1] + ']' \n",
    "print(arglist)"
   ]
  },
  {
   "cell_type": "code",
   "execution_count": 155,
   "metadata": {},
   "outputs": [
    {
     "data": {
      "text/plain": [
       "''"
      ]
     },
     "execution_count": 155,
     "metadata": {},
     "output_type": "execute_result"
    }
   ],
   "source": [
    "def createAsset(peer,crts,arglist):\n",
    "    cmd1 = 'peer chaincode invoke -o orderer.example.com:7050 --tls true --cafile /tmp/tlsca.example.com-cert.pem  -C mychannel -n basic'\n",
    "    cmd3= '{\"function\":\"CreateAsset\",\"Args\":' + arglist + '}'\n",
    "    cmd2 = \"-c \"\n",
    "    cmd = str(cmd1 + ' ' + crts + ' ' + cmd2 + '\\'' + cmd3 + '\\'')\n",
    "    #print(cmd)\n",
    "    return executePeerCmd(peer.pod_name, cmd)\n",
    "                   \n",
    "createAsset(peers['oly0'],crts,arglist)\n",
    "    \n",
    "#executePeerCmd(peers['oly0'].pod_name,printCmdForPeer(crts))"
   ]
  },
  {
   "cell_type": "code",
   "execution_count": 137,
   "metadata": {},
   "outputs": [
    {
     "data": {
      "text/plain": [
       "'oly0-6c9b6f84b4-2hnt9'"
      ]
     },
     "execution_count": 137,
     "metadata": {},
     "output_type": "execute_result"
    }
   ],
   "source": [
    "peers['oly0'].pod_name"
   ]
  },
  {
   "cell_type": "code",
   "execution_count": 294,
   "metadata": {},
   "outputs": [],
   "source": [
    "args = [\"asset2\",\"blue\",\"5\",\"Tomoko\", \"300\"]\n",
    "arglist = ''.join(str('\\\"' + e + '\\\",') for e in args)[:-1]\n",
    "  \n",
    "callopt= '{\\\"function\\\":\\\"CreateAsset\\\",\\\"Args\\\":[' + arglist + ']}'\n",
    "#peer chaincode invoke -C mychannel -n basic \n",
    "#-c '{\"function\":\"CreateAsset\",\"Args\":[\"asset1\",\"blue\",\"5\",\"Tomoko\", \"300\"]}' \n",
    "#--peerAddresses peer0.kubernetes.research.dev.seeburger.de:31866 --tlsRootCertFiles /tmp/hafen0-kubernetes.research.dev.seeburger.de-ca.crt --peerAddresses peer0.kubernetes.research.dev.seeburger.de:30755 --tlsRootCertFiles /tmp/hafen1-kubernetes.research.dev.seeburger.de-ca.crt --peerAddresses peer0.kubernetes.research.dev.seeburger.de:30948 --tlsRootCertFiles /tmp/hafen3-kubernetes.research.dev.seeburger.de-ca.crt \n",
    "#-o orderer.example.com:7050 --ordererTLSHostnameOverride orderer.example.com --tls --cafile /tmp/tlsca.example.com-cert.pem\n",
    "\n",
    "            \n",
    "\n",
    "cmd1= 'CORE_PEER_ADDRESS=\\\"peer0.kubernetes.research.dev.seeburger.de:31866\\\" && ' \n",
    "cmd = ['peer', 'chaincode','invoke', '-C', 'mychannel', '-n', 'basic', '-c',\"'\" + callopt + \"'\"]\n",
    "\n",
    "#certs"
   ]
  },
  {
   "cell_type": "code",
   "execution_count": null,
   "metadata": {},
   "outputs": [],
   "source": [
    "peer chaincode invoke -o orderer.example.com:7050 --tls true --cafile /tmp/tlsca.example.com-cert.pem  -C mychannel -n basic --peerAddresses peer0.kubernetes.research.dev.seeburger.de:30084 --tlsRootCertFiles /tmp/sally1-kubernetes.research.dev.seeburger.de-ca.crt --peerAddresses peer0.kubernetes.research.dev.seeburger.de:31521 --tlsRootCertFiles /tmp/sally2-kubernetes.research.dev.seeburger.de-ca.crt --peerAddresses peer0.kubernetes.research.dev.seeburger.de:32733 --tlsRootCertFiles /tmp/sally3-kubernetes.research.dev.seeburger.de-ca.crt --peerAddresses peer0.kubernetes.research.dev.seeburger.de:31018 --tlsRootCertFiles /tmp/sally4-kubernetes.research.dev.seeburger.de-ca.crt -c '{\"function\":\"CreateAsset\",\"Args\":[\"asset1\",\"green\",\"10\", \"Jin Soo\",\"500\"]}'\n",
    "                        \n",
    "peer chaincode query -C mychannel -n basic -c '{\"function\":\"ReadAsset\",\"Args\":[\"asset1\"]}'\n"
   ]
  },
  {
   "cell_type": "code",
   "execution_count": null,
   "metadata": {},
   "outputs": [],
   "source": [
    "\n",
    "addBashEnvToPeer(peer.pod_name, peer.listen_port)"
   ]
  },
  {
   "cell_type": "code",
   "execution_count": null,
   "metadata": {},
   "outputs": [],
   "source": [
    "print(pod_name)\n",
    "executePeerCmd(pod_name,\"hostname\")"
   ]
  },
  {
   "cell_type": "code",
   "execution_count": null,
   "metadata": {},
   "outputs": [],
   "source": [
    " peer chaincode invoke -C mychannel -n basic -c '{\"function\":\"GetAllAssets\",\"Args\":[]}' --peerAddresses peer0.kubernetes.research.dev.seeburger.de:31866 --tlsRootCertFiles /tmp/hafen0-kubernetes.research.dev.seeburger.de-ca.crt --peerAddresses peer0.kubernetes.research.dev.seeburger.de:30755 --tlsRootCertFiles /tmp/hafen1-kubernetes.research.dev.seeburger.de-ca.crt --peerAddresses peer0.kubernetes.research.dev.seeburger.de:30948 --tlsRootCertFiles /tmp/hafen3-kubernetes.research.dev.seeburger.de-ca.crt -o orderer.example.com:7050 --ordererTLSHostnameOverride orderer.example.com --tls --cafile /tmp/tlsca.example.com-cert.pem\n"
   ]
  },
  {
   "cell_type": "code",
   "execution_count": 366,
   "metadata": {},
   "outputs": [
    {
     "data": {
      "text/plain": [
       "'[{\"Key\":\"asset1\",\"Record\":{\"ID\":\"asset1\",\"color\":\"blue\",\"size\":5,\"owner\":\"Tomoko\",\"appraisedValue\":300}}]\\n'"
      ]
     },
     "execution_count": 366,
     "metadata": {},
     "output_type": "execute_result"
    }
   ],
   "source": [
    "executePeerCmd(peers['hafen0'].pod_name,\"peer chaincode query -C mychannel -n basic -c '{\\\"function\\\":\\\"GetAllAssets\\\",\\\"Args\\\":[]}'\")"
   ]
  },
  {
   "cell_type": "code",
   "execution_count": 367,
   "metadata": {},
   "outputs": [
    {
     "data": {
      "text/plain": [
       "'{\"ID\":\"asset1\",\"color\":\"blue\",\"size\":5,\"owner\":\"Tomoko\",\"appraisedValue\":300}\\n'"
      ]
     },
     "execution_count": 367,
     "metadata": {},
     "output_type": "execute_result"
    }
   ],
   "source": [
    "executePeerCmd(peers['hafen0'].pod_name,\"peer chaincode query -C mychannel -n basic -c '{\\\"function\\\":\\\"ReadAsset\\\",\\\"Args\\\":[\\\"asset1\\\"]}'\")"
   ]
  },
  {
   "cell_type": "code",
   "execution_count": null,
   "metadata": {},
   "outputs": [],
   "source": [
    "executePeerCmd(pod_name,\"peer chaincode query -C mychannel -n basic -c '{\\\"function\\\":\\\"ReadAsset\\\",\\\"Args\\\":[]}'\")"
   ]
  },
  {
   "cell_type": "code",
   "execution_count": 315,
   "metadata": {},
   "outputs": [
    {
     "data": {
      "text/plain": [
       "'Command \\'[\\'/home/jovyan/work/usr/bin/kubectl\\', \\'exec\\', \\'-it\\', \\'hafen0-7ff8cd57d6-j7qg9\\', \\'-c\\', \\'scray-peer-cli\\', \\'--\\', \\'/bin/bash\\', \\'-c\\', \\'source /root/.bashrc && peer chaincode query -C mychannel -n basic -c \\\\\\'{\"function\":\"ReadAsset\",\"Args\":[\"asset1\"]}\\\\\\' --peerAddresses peer0.kubernetes.research.dev.seeburger.de:30773 --tlsRootCertFiles /tmp/sally0-kubernetes.research.dev.seeburger.de-ca.crt\\']\\' returned non-zero exit status 1.'"
      ]
     },
     "execution_count": 315,
     "metadata": {},
     "output_type": "execute_result"
    }
   ],
   "source": [
    "executePeerCmd(peers['hafen0'].pod_name,\"peer chaincode query -C mychannel -n basic -c '{\\\"function\\\":\\\"ReadAsset\\\",\\\"Args\\\":[\\\"asset1\\\"]}' --peerAddresses peer0.kubernetes.research.dev.seeburger.de:30773 --tlsRootCertFiles /tmp/sally0-kubernetes.research.dev.seeburger.de-ca.crt\")"
   ]
  },
  {
   "cell_type": "code",
   "execution_count": 319,
   "metadata": {},
   "outputs": [
    {
     "data": {
      "text/plain": [
       "'{\"ID\":\"asset1\",\"color\":\"blue\",\"size\":5,\"owner\":\"Tomoko\",\"appraisedValue\":300}\\n'"
      ]
     },
     "execution_count": 319,
     "metadata": {},
     "output_type": "execute_result"
    }
   ],
   "source": [
    "executePeerCmd(peers['hafen0'].pod_name,\"export CORE_PEER_ADDRESS=peer0.kubernetes.research.dev.seeburger.de:31866 && peer chaincode query -C mychannel -n basic -c '{\\\"function\\\":\\\"ReadAsset\\\",\\\"Args\\\":[\\\"asset1\\\"]}'\")"
   ]
  },
  {
   "cell_type": "code",
   "execution_count": null,
   "metadata": {},
   "outputs": [],
   "source": [
    "CreateAsset(ctx contractapi.TransactionContextInterface, id, color string, size int, owner string, appraisedValue int)"
   ]
  },
  {
   "cell_type": "code",
   "execution_count": null,
   "metadata": {},
   "outputs": [],
   "source": [
    "peer chaincode invoke -C mychannel -n basic -c '{\"function\":\"CreateAsset\",\"Args\":[\"asset1\",\"blue\",\"5\",\"Tomoko\", \"300\"]}' --peerAddresses peer0.kubernetes.research.dev.seeburger.de:31866 --tlsRootCertFiles /tmp/hafen0-kubernetes.research.dev.seeburger.de-ca.crt --peerAddresses peer0.kubernetes.research.dev.seeburger.de:30755 --tlsRootCertFiles /tmp/hafen1-kubernetes.research.dev.seeburger.de-ca.crt --peerAddresses peer0.kubernetes.research.dev.seeburger.de:30948 --tlsRootCertFiles /tmp/hafen3-kubernetes.research.dev.seeburger.de-ca.crt -o orderer.example.com:7050 --ordererTLSHostnameOverride orderer.example.com --tls --cafile /tmp/tlsca.example.com-cert.pem\n",
    "\n",
    "peer chaincode invoke -C mychannel -n basic -c '{\"function\":\"ReadAsset\",\"Args\":[\"asset1\"]}' --peerAddresses peer0.kubernetes.research.dev.seeburger.de:31866 --tlsRootCertFiles /tmp/hafen0-kubernetes.research.dev.seeburger.de-ca.crt --peerAddresses peer0.kubernetes.research.dev.seeburger.de:30755 --tlsRootCertFiles /tmp/hafen1-kubernetes.research.dev.seeburger.de-ca.crt --peerAddresses peer0.kubernetes.research.dev.seeburger.de:30948 --tlsRootCertFiles /tmp/hafen3-kubernetes.research.dev.seeburger.de-ca.crt -o orderer.example.com:7050 --ordererTLSHostnameOverride orderer.example.com --tls --cafile /tmp/tlsca.example.com-cert.pem\n",
    "peer chaincode query  -C mychannel -n basic -c '{\"function\":\"ReadAsset\",\"Args\":[\"asset1\"]}'\n"
   ]
  },
  {
   "cell_type": "code",
   "execution_count": null,
   "metadata": {},
   "outputs": [],
   "source": [
    "executePeerCmd(pod_name, \"peer chaincode query -C mychannel -n basic -c '{\\\"function\\\":\\\"ReadAsset\\\",\\\"Args\\\":[\\\"asset2\\\"]}'\")"
   ]
  },
  {
   "cell_type": "code",
   "execution_count": null,
   "metadata": {},
   "outputs": [],
   "source": [
    "executePeerCmd(pod_name,  \"peer chaincode query -C mychannel -n basic -c '{\\\"function\\\":\\\"GetAllAssets\\\",\\\"Args\\\":[]}'\")"
   ]
  },
  {
   "cell_type": "code",
   "execution_count": null,
   "metadata": {},
   "outputs": [],
   "source": [
    "setPeerEnvironment(peername)\n",
    "\n",
    "#!/home/jovyan/work/usr/bin/kubectl exec --stdin --tty 'lara2-5d8bd488d6-kll5n' -c lara2 -- /bin/bash pwd"
   ]
  },
  {
   "cell_type": "code",
   "execution_count": null,
   "metadata": {},
   "outputs": [],
   "source": [
    "########## execute commands in container\n",
    "#!/home/jovyan/work/usr/bin/kubectl  exec -it $POD_NAME -c maja3 -- /bin/sh -c \"ls -l / && hostname\"\n",
    "#!/home/jovyan/work/usr/bin/kubectl  exec -it $POD_NAME -c scray-peer-cli -- /bin/bash -c \"ls -l / && hostname\"\n",
    "#!/home/jovyan/work/usr/bin/kubectl  exec -it $POD_NAME -c scray-peer-cli -- /bin/bash -c \"echo 'export ORDERER_CA=/tmp/tlsca.example.com-cert.pem' >> /root/.bashrc\""
   ]
  },
  {
   "cell_type": "code",
   "execution_count": null,
   "metadata": {},
   "outputs": [],
   "source": [
    "#setPeerEnvironment('tanja2')\n",
    "#!/home/jovyan/work/usr/bin/kubectl exec --stdin --tty $POD_NAME  -c scray-peer-cli --  /bin/sh export ORDERER_CA=\"/tmp/tlsca.example.com-cert.pem\"\n",
    "#!/home/jovyan/work/usr/bin/kubectl exec --stdin --tty $POD_NAME  -c scray-peer-cli --  ORDERER_HOSTNAME=\"orderer.example.com\"\n",
    "#!/home/jovyan/work/usr/bin/kubectl exec --stdin --tty $POD_NAME  -c scray-peer-cli --  CHANNEL_NAME=\"mychannel\"\n",
    "#!/home/jovyan/work/usr/bin/kubectl exec --stdin --tty $POD_NAME  -c scray-peer-cli --  CORE_PEER_ADDRESS=\"peer0.kubernetes.research.dev.seeburger.de:32222\"\n",
    "#!/home/jovyan/work/usr/bin/kubectl exec --stdin --tty $POD_NAME  -c scray-peer-cli --  CORE_PEER_MSPCONFIGPATH=\"/mnt/conf/organizations/peerOrganizations/kubernetes.research.dev.seeburger.de/users/Admin@kubernetes.research.dev.seeburger.de/msp\"\n",
    "\n",
    "\n",
    "!/home/jovyan/work/usr/bin/kubectl exec --stdin --tty $POD_NAME  -c scray-peer-cli -- env | fgrep ORDERER_HOSTNAME"
   ]
  },
  {
   "cell_type": "code",
   "execution_count": null,
   "metadata": {},
   "outputs": [],
   "source": [
    "peername='maja2'\n",
    "setPeerEnvironment(peername)\n",
    "os.environ['ORDERER_HOSTNAME'] = 'orderer.example.com'\n",
    "#!/home/jovyan/work/usr/bin/kubectl exec --stdin --tty $POD_NAME  -c scray-peer-cli -- env | fgrep ORDERER\n",
    "#!/home/jovyan/work/usr/bin/kubectl exec --stdin --tty $POD_NAME  -c scray-peer-cli -- which export\n",
    "print(getPod(peername),getPort(peername=peername, name='peer-listen'))"
   ]
  },
  {
   "cell_type": "code",
   "execution_count": null,
   "metadata": {},
   "outputs": [],
   "source": [
    "export ORDERER_CA=/tmp/tlsca.example.com-cert.pem\n",
    "export ORDERER_HOSTNAME=\"orderer.example.com\"\n",
    "export CHANNEL_NAME=\"mychannel\"\n",
    "export CORE_PEER_ADDRESS=\"peer0.kubernetes.research.dev.seeburger.de:32190\"\n",
    "export CORE_PEER_MSPCONFIGPATH=\"/mnt/conf/organizations/peerOrganizations/kubernetes.research.dev.seeburger.de/users/Admin@kubernetes.research.dev.seeburger.de/msp\"\n",
    "export SHARED_FS_HOST=10.15.136.41:30080\n",
    "export SHARED_FS_USER=scray\n",
    "export SHARED_FS_PW=scray\n",
    "\n",
    "curl --user $SHARED_FS_USER:$SHARED_FS_PW http://$SHARED_FS_HOST/ca/tlsca.example.com-cert.pem > /tmp/tlsca.example.com-cert.pem\n",
    "curl --user scray:scray http://10.15.136.41:30080/upload/org3_update_in_envelope.pb -o ./org3_update_in_envelope.pb\n",
    "peer channel signconfigtx -f org3_update_in_envelope.pb\n",
    "curl --user scray:scray -T ./org3_update_in_envelope.pb http://10.15.136.41:30080/upload/org3_update_in_envelope.pb\n",
    "  "
   ]
  },
  {
   "cell_type": "code",
   "execution_count": null,
   "metadata": {},
   "outputs": [],
   "source": [
    "!ls -l ./*.pb\n",
    "\n",
    "#sign update\n",
    "#createEnvironmentForPeer(localmspid=mspid2, tlsrootcert=crt2, mspconfigpath=msp2, peeraddress=addr2)\n",
    "#setPeerEnvironment('carla1')\n",
    "setPeerEnvironment('tanja2')\n",
    "!/home/jovyan/work/usr/bin/kubectl exec --stdin --tty $POD_NAME  -c scray-peer-cli -- curl --user scray:scray http://10.15.136.41:30080/upload/org3_update_in_envelope.pb -o ./org3_update_in_envelope.pb\n",
    "!/home/jovyan/work/usr/bin/kubectl exec --stdin --tty $POD_NAME  -c scray-peer-cli -- peer channel signconfigtx -f org3_update_in_envelope.pb\n",
    "!/home/jovyan/work/usr/bin/kubectl exec --stdin --tty $POD_NAME  -c scray-peer-cli -- curl --user scray:scray -T ./org3_update_in_envelope.pb http://10.15.136.41:30080/upload/org3_update_in_envelope.pb\n",
    "  "
   ]
  },
  {
   "cell_type": "markdown",
   "metadata": {},
   "source": [
    "# Install and aprove chaincode"
   ]
  },
  {
   "cell_type": "code",
   "execution_count": null,
   "metadata": {},
   "outputs": [],
   "source": [
    "setPeerEnvironment('tanja2')\n",
    "installAndAproveChaincode()"
   ]
  },
  {
   "cell_type": "code",
   "execution_count": null,
   "metadata": {},
   "outputs": [],
   "source": [
    "#!/home/jovyan/work/usr/bin/kubectl exec --stdin --tty $POD_NAME -c scray-peer-cli -- lifecycle chaincode querycommitted --channelID mychannel --name basic --output json"
   ]
  },
  {
   "cell_type": "code",
   "execution_count": null,
   "metadata": {},
   "outputs": [],
   "source": [
    "#setPeerEnvironment('klaus')\n",
    "!echo  $POD_NAME $IP_CC_SERVICE $IP_OF_EXAMPLE_NETWORK\n",
    "\n",
    "# Host where the chaincode is running\n",
    "os.environ['IP_CC_SERVICE']='10.14.128.38'\n",
    "#Host where the example network is running\n",
    "os.environ['IP_OF_EXAMPLE_NETWORK']='10.15.128.97'\n",
    "!/home/jovyan/work/usr/bin/kubectl exec --stdin --tty $POD_NAME -c scray-peer-cli -- /bin/sh /mnt/conf/install_and_approve_cc.sh $IP_CC_SERVICE $IP_OF_EXAMPLE_NETWORK"
   ]
  },
  {
   "cell_type": "code",
   "execution_count": null,
   "metadata": {},
   "outputs": [],
   "source": [
    "#!ping orderer.example.com 7050\n",
    "!more /etc/hosts"
   ]
  },
  {
   "cell_type": "markdown",
   "metadata": {},
   "source": [
    "# ------------------------------------------------------------------------"
   ]
  },
  {
   "cell_type": "code",
   "execution_count": 137,
   "metadata": {},
   "outputs": [
    {
     "data": {
      "text/plain": [
       "2"
      ]
     },
     "execution_count": 137,
     "metadata": {},
     "output_type": "execute_result"
    }
   ],
   "source": [
    "#kubectl get pods -l k8s-app=kube-dns -o jsonpath={.items[*].spec.containers[*].name}\n",
    "#kubectl get pods hafen1-69947bff88-2pgxs -o json\n",
    "#cmd= ['get', 'pods', 'hafen1-69947bff88-2pgxs', '-o', 'jsonpath={.items[*].spec.containers[*].name}']\n",
    "cmd= ['get', 'pods', 'hafen1-69947bff88-2pgxs', '-o', 'json']\n",
    "#f:spec': {'f:containers': {'k:{\"name\":\"hafen1\"}\n",
    "len(json.loads(executeKubectlCmd(cmd).decode('ascii'))['spec']['containers'])"
   ]
  },
  {
   "cell_type": "markdown",
   "metadata": {},
   "source": [
    "# Shell only"
   ]
  },
  {
   "cell_type": "code",
   "execution_count": null,
   "metadata": {},
   "outputs": [],
   "source": [
    "#!echo $GOSSIP_PORT, $PEER_NAME\n",
    "getPort(peername=peername, name='peer-listen')"
   ]
  },
  {
   "cell_type": "code",
   "execution_count": null,
   "metadata": {},
   "outputs": [],
   "source": [
    "GOSSIP_PORT=$(kubectl get service $PEER_NAME -o jsonpath=\"{.spec.ports[?(@.name=='peer-gossip')].nodePort}\")\n",
    "PEER_LISTEN_PORT=$(kubectl get service $PEER_NAME -o jsonpath=\"{.spec.ports[?(@.name=='peer-listen')].nodePort}\")\n",
    "PEER_CHAINCODE_PORT=$(kubectl get service $PEER_NAME -o jsonpath=\"{.spec.ports[?(@.name=='peer-chaincode')].nodePort}\")\n"
   ]
  },
  {
   "cell_type": "code",
   "execution_count": null,
   "metadata": {},
   "outputs": [],
   "source": [
    "!echo $(/home/jovyan/work/usr/bin/kubectl get service $PEER_NAME -o jsonpath=\"{.spec.ports[?(@.name=='peer-gossip')].nodePort}\")\n",
    "!echo $(/home/jovyan/work/usr/bin/kubectl get service $PEER_NAME -o jsonpath=\"{.spec.ports[?(@.name=='peer-listen')].nodePort}\")\n",
    "!echo $(/home/jovyan/work/usr/bin/kubectl get service $PEER_NAME -o jsonpath=\"{.spec.ports[?(@.name=='peer-chaincode')].nodePort}\")"
   ]
  },
  {
   "cell_type": "code",
   "execution_count": null,
   "metadata": {},
   "outputs": [],
   "source": [
    "os.environ['GOSSIP_PORT'] = \"32068\"  \n",
    "os.environ['PEER_LISTEN_PORT'] = \"30251\"\n",
    "os.environ['PEER_CHAINCODE_PORT'] = \"30052\"\n",
    "!echo $GOSSIP_PORT\n",
    "#!echo $(/home/jovyan/work/usr/bin/kubectl get service $PEER_NAME -o jsonpath=\"{.spec.ports[?(@.name=='peer-gossip')].nodePort}\")"
   ]
  },
  {
   "cell_type": "code",
   "execution_count": null,
   "metadata": {},
   "outputs": [],
   "source": [
    "!/home/jovyan/work/usr/bin/kubectl create configmap hl-fabric-peer-$PEER_NAME \\\n",
    " --from-literal=hostname=kubernetes.research.dev.seeburger.de \\\n",
    " --from-literal=org_name=$PEER_NAME \\\n",
    " --from-literal=CORE_PEER_ADDRESS=kubernetes.research.dev.seeburger.de:$PEER_LISTEN_PORT \\\n",
    " --from-literal=CORE_PEER_GOSSIP_EXTERNALENDPOINT=kubernetes.research.dev.seeburger.de:$GOSSIP_PORT \\\n",
    " --from-literal=CORE_PEER_LOCALMSPID=${PEER_NAME}MSP"
   ]
  },
  {
   "cell_type": "code",
   "execution_count": null,
   "metadata": {},
   "outputs": [],
   "source": [
    "!/home/jovyan/work/usr/bin/kubectl apply -f /home/jovyan/scray/projects/invoice-hyperledger-fabric/containers/target/$PEER_NAME/k8s-peer.yaml"
   ]
  },
  {
   "cell_type": "code",
   "execution_count": null,
   "metadata": {},
   "outputs": [],
   "source": [
    "POD_NAME=$(/home/jovyan/work/usr/bin/kubectl  get pod -l app=peer0-org1-scray-org -o jsonpath=\"{.items[0].metadata.name}\")\n",
    "kubectl exec --stdin --tty $POD_NAME  -c scray-peer-cli -- /bin/sh /mnt/conf/peer_join.sh $ORDERER_IP  $ORDERER_HOSTNAME $CHANNEL_NAME"
   ]
  },
  {
   "cell_type": "code",
   "execution_count": null,
   "metadata": {},
   "outputs": [],
   "source": [
    "!echo $(/home/jovyan/work/usr/bin/kubectl  get pod -l app=$PEER_NAME -o jsonpath=\"{.items[0].metadata.name}\")\n"
   ]
  },
  {
   "cell_type": "code",
   "execution_count": null,
   "metadata": {},
   "outputs": [],
   "source": [
    "os.environ['POD_NAME'] = \"tom-6647c77bbb-hjlkc\"\n",
    "os.environ['ORDERER_IP'] = '10.15.128.97'\n",
    "os.environ['ORDERER_HOSTNAME'] = 'orderer.example.com'\n",
    "os.environ['CHANNEL_NAME'] = 'mychannel'\n",
    "\n",
    "!/home/jovyan/work/usr/bin/kubectl exec --stdin --tty $POD_NAME  -c scray-peer-cli -- /bin/sh /mnt/conf/peer_join.sh $ORDERER_IP  $ORDERER_HOSTNAME $CHANNEL_NAME"
   ]
  },
  {
   "cell_type": "markdown",
   "metadata": {},
   "source": [
    "# Delete old peer"
   ]
  },
  {
   "cell_type": "code",
   "execution_count": null,
   "metadata": {},
   "outputs": [],
   "source": [
    "!/home/jovyan/work/usr/bin/kubectl delete configmap hl-fabric-peer-klaus\n",
    "!/home/jovyan/work/usr/bin/kubectl delete -f /home/jovyan/scray/projects/invoice-hyperledger-fabric/containers/target/klaus/k8s-peer.yaml\n",
    "!/home/jovyan/work/usr/bin/kubectl delete service klaus"
   ]
  },
  {
   "cell_type": "code",
   "execution_count": null,
   "metadata": {},
   "outputs": [],
   "source": [
    "#deletePeer('carla1')\n",
    "deletePeer('ff')"
   ]
  },
  {
   "cell_type": "code",
   "execution_count": null,
   "metadata": {},
   "outputs": [],
   "source": [
    "!/home/jovyan/work/usr/bin/kubectl get configmap \n",
    "!/home/jovyan/work/usr/bin/kubectl get deployments \n",
    "#!/home/jovyan/work/usr/bin/kubectl get svc -o json\n",
    "!/home/jovyan/work/usr/bin/kubectl get svc"
   ]
  },
  {
   "cell_type": "markdown",
   "metadata": {},
   "source": [
    "# Create new peer and 'apply'"
   ]
  },
  {
   "cell_type": "code",
   "execution_count": null,
   "metadata": {},
   "outputs": [],
   "source": [
    "!/home/jovyan/work/usr/bin/kubectl create configmap hl-fabric-peer \\\n",
    " --from-literal=hostname=kubernetes.research.dev.seeburger.de \\\n",
    " --from-literal=org_name=OrgSally \\ \n",
    " --from-literal=CORE_PEER_ADDRESS=kubernetes.research.dev.seeburger.de:30003 \\\n",
    " --from-literal=CORE_PEER_GOSSIP_EXTERNALENDPOINT=kubernetes.research.dev.seeburger.de:30001 \\\n",
    " --from-literal=CORE_PEER_LOCALMSPID=OrgSallyMSP\n",
    "\n",
    "!/home/jovyan/work/usr/bin/kubectl apply -f https://raw.githubusercontent.com/scray/scray/feature/k8s-peer/projects/invoice-hyperledger-fabric/containers/k8s-peer.yaml        "
   ]
  },
  {
   "cell_type": "markdown",
   "metadata": {},
   "source": [
    "1. Der neue Peer wurde erzeugt. All relevant infos and cryptos for the application is uploaded to external sharepoint\n",
    "2. Now the application needs to be signed by other peers"
   ]
  },
  {
   "cell_type": "markdown",
   "metadata": {},
   "source": [
    "# Now the peer can join the network"
   ]
  },
  {
   "cell_type": "code",
   "execution_count": null,
   "metadata": {},
   "outputs": [],
   "source": [
    "import os\n",
    "import json\n",
    "import subprocess\n",
    "import pandas as pd\n",
    "\n",
    "!/home/jovyan/work/usr/bin/kubectl get pods\n",
    "os.environ['POD_NAME'] = 'peer0-org1-scray-org-5c4d69f556-snz5c'"
   ]
  },
  {
   "cell_type": "code",
   "execution_count": null,
   "metadata": {},
   "outputs": [],
   "source": [
    "#!/home/jovyan/work/usr/bin/kubectl get pods | fgrep peer0\n",
    "#!POD_NAME=$(/home/jovyan/work/usr/bin/kubectl get pod -l app=peer0-org1-scray-org | tail -n 1 | cut -d' ' -f1)\n",
    "os.environ['ORDERER_IP'] = '10.15.128.97'\n",
    "os.environ['ORDERER_HOSTNAME'] = 'orderer.example.com'\n",
    "os.environ['CHANNEL_NAME'] = 'mychannel'\n",
    "\n",
    "!echo $POD_NAME\n",
    "!/home/jovyan/work/usr/bin/kubectl exec --stdin --tty $POD_NAME -c scray-peer-cli -- /bin/sh /mnt/conf/peer_join.sh $ORDERER_IP $ORDERER_HOSTNAME $CHANNEL_NAME"
   ]
  },
  {
   "cell_type": "code",
   "execution_count": null,
   "metadata": {},
   "outputs": [],
   "source": [
    "os.environ['ORDERER_IP'] = '10.15.128.97'\n",
    "os.environ['ORDERER_HOSTNAME'] = 'orderer.example.com'\n",
    "os.environ['CHANNEL_NAME'] = 'super2'\n",
    "\n",
    "!echo $POD_NAME\n",
    "!/home/jovyan/work/usr/bin/kubectl exec --stdin --tty $POD_NAME -c scray-peer-cli -- /bin/sh /mnt/conf/peer_join.sh $ORDERER_IP $ORDERER_HOSTNAME $CHANNEL_NAME"
   ]
  },
  {
   "cell_type": "code",
   "execution_count": 30,
   "metadata": {},
   "outputs": [
    {
     "data": {
      "text/plain": [
       "{'name': 'olya0',\n",
       " 'pod_name': 'olya0-c658f7997-9wh22',\n",
       " 'listen_port': '30353',\n",
       " 'gossip_port': '31092'}"
      ]
     },
     "execution_count": 30,
     "metadata": {},
     "output_type": "execute_result"
    }
   ],
   "source": [
    "peers['olya0'].__dict__"
   ]
  },
  {
   "cell_type": "code",
   "execution_count": 41,
   "metadata": {},
   "outputs": [
    {
     "name": "stdout",
     "output_type": "stream",
     "text": [
      "\u001b7  0%                                                                           \u001b8\u001b[0KOK: 42 MiB in 45 packages\n",
      "\u001b7  0%                                                                           \u001b8\u001b[0KOK: 42 MiB in 45 packages\n",
      "  % Total    % Received % Xferd  Average Speed   Time    Time     Time  Current\n",
      "                                 Dload  Upload   Total   Spent    Left  Speed\n",
      "100   847  100   847    0     0   137k      0 --:--:-- --:--:-- --:--:--  137k\n",
      "Error: failed to create deliver client for orderer: orderer client failed to connect to orderer.example.com:7050: failed to create new connection: context deadline exceeded\n",
      "\u001b[34m2021-07-21 15:31:03.704 UTC [channelCmd] InitCmdFactory -> INFO 001\u001b[0m Endorser and orderer connections initialized\n",
      "Error: genesis block file not found open mychannel.block: no such file or directory\n",
      "\u001b[34m2021-07-21 15:31:03.788 UTC [channelCmd] InitCmdFactory -> INFO 001\u001b[0m Endorser and orderer connections initialized\n",
      "Error: received bad response, status 500: Invalid chain ID, super2\n",
      "command terminated with exit code 1\n"
     ]
    }
   ],
   "source": [
    "!/home/jovyan/work/usr/bin/kubectl exec --stdin --tty 'olya0-c658f7997-9wh22'  -c scray-peer-cli -- /bin/sh /mnt/conf/peer_join.sh 10.15.128.97 'orderer.example.com'  7050 super2 10.14.128.38:30080 "
   ]
  },
  {
   "cell_type": "code",
   "execution_count": 28,
   "metadata": {},
   "outputs": [
    {
     "data": {
      "text/plain": [
       "{'olyA0': <__main__.kubernetespeer at 0x7f43eb7fa400>,\n",
       " 'olya0': <__main__.kubernetespeer at 0x7f43e8f29be0>}"
      ]
     },
     "execution_count": 28,
     "metadata": {},
     "output_type": "execute_result"
    }
   ],
   "source": [
    "PEER_POD_NAME=$(kubectl get pod -l app=$PEER_NAME -o jsonpath=\"{.items[0].metadata.name}\")\n",
    "ORDERER_PORT=$(kubectl get service orderer-org1-scray-org -o jsonpath=\"{.spec.ports[?(@.name=='orderer-listen')].nodePort}\")\n",
    "ORDERER_PORT=7050\n",
    "PEER_PORT=$(kubectl get service $PEER_NAME -o jsonpath=\"{.spec.ports[?(@.name=='peer-listen')].nodePort}\")\n",
    "kubectl exec --stdin --tty $PEER_POD_NAME  -c scray-peer-cli -- /bin/sh /mnt/conf/peer_join.sh $ORDERER_IP  $ORDERER_HOSTNAME $ORDERER_PORT $CHANNEL_NAME $SHARED_FS_HOST"
   ]
  },
  {
   "cell_type": "code",
   "execution_count": null,
   "metadata": {},
   "outputs": [],
   "source": [
    "#!/home/jovyan/work/usr/bin/kubectl exec --stdin --tty peer0-org1-scray-org-84ddc5757f-glbgn -c scray-peer-cli -- /bin/sh /mnt/conf/install_and_approve_cc.sh $IP_CC_SERVICE $IP_OF_EXAMPLE_NETWORK"
   ]
  },
  {
   "cell_type": "markdown",
   "metadata": {},
   "source": [
    "# Install and aprove chaincode"
   ]
  },
  {
   "cell_type": "code",
   "execution_count": null,
   "metadata": {},
   "outputs": [],
   "source": [
    "# Host where the chaincode is running\n",
    "os.environ['IP_CC_SERVICE']='10.14.128.38'\n",
    "#Host where the example network is running\n",
    "os.environ['IP_OF_EXAMPLE_NETWORK']='10.15.128.97'\n",
    "!/home/jovyan/work/usr/bin/kubectl exec --stdin --tty $POD_NAME -c scray-peer-cli -- /bin/sh /mnt/conf/install_and_approve_cc.sh $IP_CC_SERVICE $IP_OF_EXAMPLE_NETWORK"
   ]
  },
  {
   "cell_type": "markdown",
   "metadata": {},
   "source": [
    "# TMP"
   ]
  },
  {
   "cell_type": "code",
   "execution_count": null,
   "metadata": {},
   "outputs": [],
   "source": [
    "print(getPod(peername),getPort(peername=peername, name='peer-listen'))"
   ]
  },
  {
   "cell_type": "code",
   "execution_count": null,
   "metadata": {},
   "outputs": [],
   "source": [
    "export ORDERER_CA=\"/tmp/tlsca.example.com-cert.pem\"\n",
    "export ORDERER_HOSTNAME=\"orderer.example.com\"\n",
    "export CHANNEL_NAME=\"mychannel\"\n",
    "export CORE_PEER_ADDRESS=\"peer0.kubernetes.research.dev.seeburger.de:32190\"\n",
    "export CORE_PEER_MSPCONFIGPATH=\"/mnt/conf/organizations/peerOrganizations/kubernetes.research.dev.seeburger.de/users/Admin@kubernetes.research.dev.seeburger.de/msp\"\n",
    "\n",
    "peer lifecycle chaincode querycommitted --channelID mychannel --name basic --output json\n",
    "   "
   ]
  },
  {
   "cell_type": "code",
   "execution_count": null,
   "metadata": {},
   "outputs": [],
   "source": [
    "def readAsset(asset='asset1'):\n",
    "    callopt= '{\\\"function\\\":\\\"ReadAsset\\\",\\\"Args\\\":[' + '\\\"' + asset + '\\\"' + ']}'\n",
    "    try:    \n",
    "        callProcess  = subprocess.check_output(['/home/jovyan/work/usr/bin/kubectl exec --stdin --tty $POD_NAME -c scray-peer-cli -- peer', 'chaincode','query', '-C', 'mychannel', '-n', 'basic', '-c', callopt])\n",
    "        return json.loads(str(callProcess)[2:-3])\n",
    "    except Exception as e:\n",
    "        return str(e)\n",
    "    \n",
    "readAsset('asset1')    "
   ]
  },
  {
   "cell_type": "code",
   "execution_count": null,
   "metadata": {},
   "outputs": [],
   "source": [
    "!/home/jovyan/work/usr/bin/kubectl exec --stdin --tty $POD_NAME -c scray-peer-cli -- peer lifecycle chaincode querycommitted --channelID mychannel --name basic --output json"
   ]
  },
  {
   "cell_type": "code",
   "execution_count": null,
   "metadata": {},
   "outputs": [],
   "source": [
    "!/home/jovyan/work/usr/bin/kubectl exec --stdin --tty $POD_NAME -c scray-peer-cli -- peer"
   ]
  },
  {
   "cell_type": "code",
   "execution_count": null,
   "metadata": {},
   "outputs": [],
   "source": [
    "#pip install PyYAML\n",
    "import yaml"
   ]
  }
 ],
 "metadata": {
  "kernelspec": {
   "display_name": "Python 3 (ipykernel)",
   "language": "python",
   "name": "python3"
  },
  "language_info": {
   "codemirror_mode": {
    "name": "ipython",
    "version": 3
   },
   "file_extension": ".py",
   "mimetype": "text/x-python",
   "name": "python",
   "nbconvert_exporter": "python",
   "pygments_lexer": "ipython3",
   "version": "3.9.5"
  }
 },
 "nbformat": 4,
 "nbformat_minor": 4
}
