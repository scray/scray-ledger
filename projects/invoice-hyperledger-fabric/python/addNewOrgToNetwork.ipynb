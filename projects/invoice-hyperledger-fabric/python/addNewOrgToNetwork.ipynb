{
 "cells": [
  {
   "cell_type": "code",
   "execution_count": 90,
   "metadata": {},
   "outputs": [],
   "source": [
    "!rm -f /tmp/*.json\n",
    "!rm -f /tmp/*.pb"
   ]
  },
  {
   "cell_type": "code",
   "execution_count": 91,
   "metadata": {},
   "outputs": [],
   "source": [
    "import os\n",
    "import json\n",
    "import subprocess\n",
    "import pandas as pd\n",
    " \n",
    "pwd0 = \"/home/jovyan/work/fabric-samples/\"\n",
    "pwd = \"/home/jovyan/work/fabric-samples/test-network\"\n",
    "\n",
    "os.environ['PATH'] = \"/home/jovyan/work/fabric-samples/bin:\" + str(os.environ.get('PATH')) \n",
    "os.environ['CORE_PEER_TLS_ENABLED'] = \"true\"\n",
    "os.environ['CORE_PEER_LOCALMSPID'] = \"Org1MSP\"\n",
    "os.environ['CORE_PEER_TLS_ROOTCERT_FILE'] = pwd + \"/organizations/peerOrganizations/org1.example.com/peers/peer0.org1.example.com/tls/ca.crt\"\n",
    "os.environ['CORE_PEER_MSPCONFIGPATH'] = pwd + \"/organizations/peerOrganizations/org1.example.com/users/Admin@org1.example.com/msp\"\n",
    "os.environ['CORE_PEER_ADDRESS'] = \"peer0.org1.example.com:7051\"\n",
    "os.environ['FABRIC_CFG_PATH'] = pwd0 + \"/config/\"\n",
    "\n",
    "addr0 = 'peer0.org1.example.com:7050'\n",
    "orderer = 'orderer.example.com'\n",
    "ordererpem = pwd + '/organizations/ordererOrganizations/example.com/orderers/orderer.example.com/msp/tlscacerts/tlsca.example.com-cert.pem'\n",
    "addr1 = 'peer0.org1.example.com:7051'\n",
    "crt1 = pwd + '/organizations/peerOrganizations/org1.example.com/peers/peer0.org1.example.com/tls/ca.crt'\n",
    "addr2 = 'peer0.org2.example.com:9051'\n",
    "crt2 = pwd + '/organizations/peerOrganizations/org2.example.com/peers/peer0.org2.example.com/tls/ca.crt' \n",
    "\n",
    "msp1 = pwd + '/organizations/peerOrganizations/org1.example.com/users/Admin@org1.example.com/msp'\n",
    "msp2 = pwd + '/organizations/peerOrganizations/org2.example.com/users/Admin@org2.example.com/msp'"
   ]
  },
  {
   "cell_type": "code",
   "execution_count": 92,
   "metadata": {},
   "outputs": [],
   "source": [
    "os.environ['ORDERER_IP']=\"10.15.128.97\"\n",
    "os.environ['ORDERER_HOSTNAME']=\"orderer.example.com\" \n",
    "os.environ['CHANNEL_NAME']=\"mychannel\"\n",
    "os.environ['ORG_ID']=\"OrgSally\""
   ]
  },
  {
   "cell_type": "code",
   "execution_count": 93,
   "metadata": {},
   "outputs": [],
   "source": [
    "os.environ['CORE_PEER_LOCALMSPID']=\"Org1MSP\"\n",
    "os.environ['CORE_PEER_TLS_ROOTCERT_FILE']=crt1\n",
    "os.environ['CORE_PEER_MSPCONFIGPATH']=msp1\n",
    "os.environ['ORDERER_CA']=ordererpem\n",
    "\n",
    "os.environ['CORE_PEER_ADDRESS'] = \"peer0.org1.example.com:7051\""
   ]
  },
  {
   "cell_type": "code",
   "execution_count": 94,
   "metadata": {},
   "outputs": [
    {
     "name": "stdout",
     "output_type": "stream",
     "text": [
      "\u001b[34m2020-12-07 15:53:27.467 UTC [channelCmd] InitCmdFactory -> INFO 001\u001b[0m Endorser and orderer connections initialized\n",
      "\u001b[34m2020-12-07 15:53:27.471 UTC [cli.common] readBlock -> INFO 002\u001b[0m Received block: 16\n",
      "\u001b[34m2020-12-07 15:53:27.471 UTC [channelCmd] fetch -> INFO 003\u001b[0m Retrieving last config block: 2\n",
      "\u001b[34m2020-12-07 15:53:27.476 UTC [cli.common] readBlock -> INFO 004\u001b[0m Received block: 2\n"
     ]
    }
   ],
   "source": [
    "#update /etc/hosts\n",
    "#!more /etc/hosts\n",
    "#echo $ORDERER_IP orderer.example.com >> /etc/hosts1\n",
    "!peer channel fetch config /tmp/config_block.pb -o orderer.example.com:7050 -c $CHANNEL_NAME --tls --cafile $ORDERER_CA > /dev/null\n",
    "!configtxlator proto_decode --input /tmp/config_block.pb --type common.Block | jq .data.data[0].payload.data.config > /tmp/config.json    "
   ]
  },
  {
   "cell_type": "code",
   "execution_count": 95,
   "metadata": {},
   "outputs": [],
   "source": [
    "# Upload CA cert\n",
    "os.environ['SHARED_FS_HOST']=\"10.15.136.41:30080\"\n",
    "os.environ['SHARED_FS_USER']=\"scray\"\n",
    "os.environ['SHARED_FS_PW']=\"scray\"\n",
    "#!apk add curl"
   ]
  },
  {
   "cell_type": "code",
   "execution_count": 96,
   "metadata": {},
   "outputs": [
    {
     "name": "stdout",
     "output_type": "stream",
     "text": [
      "<!DOCTYPE HTML PUBLIC \"-//IETF//DTD HTML 2.0//EN\">\n",
      "<html><head>\n",
      "<title>301 Moved Permanently</title>\n",
      "</head><body>\n",
      "<h1>Moved Permanently</h1>\n",
      "<p>The document has moved <a href=\"http://10.15.136.41:30080/ca/\">here</a>.</p>\n",
      "</body></html>\n",
      "  % Total    % Received % Xferd  Average Speed   Time    Time     Time  Current\n",
      "                                 Dload  Upload   Total   Spent    Left  Speed\n",
      "100 11435  100 11435    0     0  1861k      0 --:--:-- --:--:-- --:--:-- 1861k\n"
     ]
    }
   ],
   "source": [
    "os.environ['NEW_ORG_NAME']=\"OrgSally\"\n",
    "\n",
    "!curl --user $SHARED_FS_USER:$SHARED_FS_PW -X MKCOL http://$SHARED_FS_HOST/ca\n",
    "!curl --user $SHARED_FS_USER:$SHARED_FS_PW -T /home/jovyan/work/fabric-samples/test-network/organizations/ordererOrganizations/example.com/orderers/orderer.example.com/msp/tlscacerts/tlsca.example.com-cert.pem http://$SHARED_FS_HOST/ca/tlsca.example.com-cert.pem\n",
    "\n",
    "# Get configuration of new peer\n",
    "#curl --user 'scray:scray' http://${SHARED_FS_HOST}/newmemberrequests/$CHANNEL_NAME/${NEW_ORG_NAME}.json > new_member_org.json\n",
    "!curl --user $SHARED_FS_USER:$SHARED_FS_PW  http://${SHARED_FS_HOST}/newmemberrequests/$CHANNEL_NAME/${NEW_ORG_NAME}.json > /tmp/new_member_org.json   "
   ]
  },
  {
   "cell_type": "code",
   "execution_count": 97,
   "metadata": {},
   "outputs": [],
   "source": [
    "# Add org3 data to existing config\n",
    "!jq -s \".[0] \"*\" {\\\"channel_group\\\":{\\\"groups\\\":{\\\"Application\\\":{\\\"groups\\\": {\\\"${NEW_ORG_NAME}MSP\\\":.[1]}}}}}\" /tmp/config.json /tmp/new_member_org.json > /tmp/modified_config.json\n",
    "\n",
    "!configtxlator proto_encode --input /tmp/config.json --type common.Config --output /tmp/config.pb\n",
    "!configtxlator proto_encode --input /tmp/modified_config.json --type common.Config --output /tmp/modified_config.pb\n",
    "!configtxlator compute_update --channel_id $CHANNEL_NAME --original /tmp/config.pb --updated /tmp/modified_config.pb --output /tmp/org3_update.pb\n",
    "!configtxlator proto_decode --input /tmp/org3_update.pb --type common.ConfigUpdate | jq . > /tmp/org3_update.json\n",
    "!echo '{\"payload\":{\"header\":{\"channel_header\":{\"channel_id\":\"'$CHANNEL_NAME'\", \"type\":2}},\"data\":{\"config_update\":'$(cat /tmp/org3_update.json)'}}}' | jq . > /tmp/org3_update_in_envelope.json\n",
    "!configtxlator proto_encode --input /tmp/org3_update_in_envelope.json --type common.Envelope --output /tmp/org3_update_in_envelope.pb"
   ]
  },
  {
   "cell_type": "code",
   "execution_count": 98,
   "metadata": {},
   "outputs": [
    {
     "name": "stdout",
     "output_type": "stream",
     "text": [
      "\u001b[34m2020-12-07 15:53:56.892 UTC [channelCmd] InitCmdFactory -> INFO 001\u001b[0m Endorser and orderer connections initialized\n"
     ]
    }
   ],
   "source": [
    "!peer channel signconfigtx -f /tmp/org3_update_in_envelope.pb"
   ]
  },
  {
   "cell_type": "code",
   "execution_count": 99,
   "metadata": {},
   "outputs": [
    {
     "name": "stdout",
     "output_type": "stream",
     "text": [
      "\u001b[34m2020-12-07 15:54:03.469 UTC [channelCmd] InitCmdFactory -> INFO 001\u001b[0m Endorser and orderer connections initialized\n",
      "\u001b[34m2020-12-07 15:54:03.494 UTC [channelCmd] update -> INFO 002\u001b[0m Successfully submitted channel update\n"
     ]
    }
   ],
   "source": [
    "os.environ['CORE_PEER_LOCALMSPID']=\"Org2MSP\"\n",
    "os.environ['CORE_PEER_TLS_ROOTCERT_FILE']=crt2\n",
    "os.environ['CORE_PEER_MSPCONFIGPATH']=msp2\n",
    "os.environ['ORDERER_CA']=ordererpem\n",
    "os.environ['CORE_PEER_ADDRESS'] = addr2\n",
    "\n",
    "!peer channel update -f /tmp/org3_update_in_envelope.pb -c $CHANNEL_NAME -o orderer.example.com:7050 --tls --cafile $ORDERER_CA"
   ]
  },
  {
   "cell_type": "code",
   "execution_count": 100,
   "metadata": {},
   "outputs": [
    {
     "name": "stdout",
     "output_type": "stream",
     "text": [
      "/home/jovyan/work/fabric-samples/test-network/organizations/peerOrganizations/org2.example.com/users/Admin@org2.example.com/msp\n",
      "admincerts  cacerts  config.yaml  keystore  signcerts  tlscacerts\n"
     ]
    }
   ],
   "source": [
    "print(os.environ.get('CORE_PEER_MSPCONFIGPATH'))\n",
    "\n",
    "#!ls /home/jovyan/work/fabric-samples/test-network/organizations/peerOrganizations/org1.example.com/users/Admin@org1.example.com/msp\n",
    "#/organizations/peerOrganizations/org1.example.com/users/Admin@org1.example.com/msp\n",
    "!ls /home/jovyan/work/fabric-samples/test-network/organizations/peerOrganizations/org1.example.com/users/Admin@org1.example.com/msp"
   ]
  },
  {
   "cell_type": "code",
   "execution_count": null,
   "metadata": {},
   "outputs": [],
   "source": []
  },
  {
   "cell_type": "code",
   "execution_count": null,
   "metadata": {},
   "outputs": [],
   "source": [
    "ORDERER_IP=$1\n",
    "CHANNEL_NAME=$2 #mychannel\n",
    "NEW_ORG_NAME=$3\n",
    "\n",
    "export CORE_PEER_LOCALMSPID=\"Org1MSP\"\n",
    "export CORE_PEER_TLS_ROOTCERT_FILE=/opt/gopath/src/github.com/hyperledger/fabric/peer/organizations/peerOrganizations/org1.example.com/peers/peer0.org1.example.com/tls/ca.crt\n",
    "export CORE_PEER_MSPCONFIGPATH=/opt/gopath/src/github.com/hyperledger/fabric/peer/organizations/peerOrganizations/org1.example.com/users/Admin@org1.example.com/msp\n",
    "export CORE_PEER_ADDRESS=peer0.org1.example.com:7051\n",
    "export ORDERER_CA=/opt/gopath/src/github.com/hyperledger/fabric/peer/organizations/ordererOrganizations/example.com/orderers/orderer.example.com/msp/tlscacerts/tlsca.example.com-cert.pem\n",
    "\n",
    "echo $ORDERER_IP orderer.example.com >> /etc/hosts\n",
    "\n",
    "# Export existing channel configuration\n",
    "peer channel fetch config config_block.pb -o orderer.example.com:7050 -c $CHANNEL_NAME --tls --cafile $ORDERER_CA\n",
    "configtxlator proto_decode --input config_block.pb --type common.Block | jq .data.data[0].payload.data.config > config.json\n",
    "\n",
    "# Upload CA cert\n",
    "SHARED_FS_HOST=10.15.136.41:30080\n",
    "SHARED_FS_USER=scray\n",
    "SHARED_FS_PW=scray\n",
    "apk add curl\n",
    "curl --user $SHARED_FS_USER:$SHARED_FS_PW -X MKCOL http://$SHARED_FS_HOST/ca\n",
    "curl --user $SHARED_FS_USER:$SHARED_FS_PW -T /opt/gopath/src/github.com/hyperledger/fabric/peer/organizations/ordererOrganizations/example.com/orderers/orderer.example.com/msp/tlscacerts/tlsca.example.com-cert.pem http://$SHARED_FS_HOST/ca/tlsca.example.com-cert.pem\n",
    "\n",
    "# Get configuration of new peer\n",
    "curl --user 'scray:scray' http://${SHARED_FS_HOST}/newmemberrequests/$CHANNEL_NAME/${NEW_ORG_NAME}.json > new_member_org.json\n",
    "\n",
    "\n",
    "# Add org3 data to existing config\n",
    "jq -s \".[0] \"*\" {\\\"channel_group\\\":{\\\"groups\\\":{\\\"Application\\\":{\\\"groups\\\": {\\\"${NEW_ORG_NAME}MSP\\\":.[1]}}}}}\" config.json ./new_member_org.json > modified_config.json\n",
    "\n",
    "configtxlator proto_encode --input config.json --type common.Config --output config.pb\n",
    "configtxlator proto_encode --input modified_config.json --type common.Config --output modified_config.pb\n",
    "configtxlator compute_update --channel_id $CHANNEL_NAME --original config.pb --updated modified_config.pb --output org3_update.pb\n",
    "configtxlator proto_decode --input org3_update.pb --type common.ConfigUpdate | jq . > org3_update.json\n",
    "echo '{\"payload\":{\"header\":{\"channel_header\":{\"channel_id\":\"'$CHANNEL_NAME'\", \"type\":2}},\"data\":{\"config_update\":'$(cat org3_update.json)'}}}' | jq . > org3_update_in_envelope.json\n",
    "configtxlator proto_encode --input org3_update_in_envelope.json --type common.Envelope --output org3_update_in_envelope.pb\n",
    "\n",
    "# Sign update by first admin\n",
    "peer channel signconfigtx -f org3_update_in_envelope.pb\n",
    "\n",
    "# Sign by second admin\n",
    "export CORE_PEER_LOCALMSPID=\"Org2MSP\"\n",
    "export CORE_PEER_TLS_ROOTCERT_FILE=/opt/gopath/src/github.com/hyperledger/fabric/peer/organizations/peerOrganizations/org2.example.com/peers/peer0.org2.example.com/tls/ca.crt\n",
    "export CORE_PEER_MSPCONFIGPATH=/opt/gopath/src/github.com/hyperledger/fabric/peer/organizations/peerOrganizations/org2.example.com/users/Admin@org2.example.com/msp\n",
    "export CORE_PEER_ADDRESS=peer0.org2.example.com:9051\n",
    "peer channel update -f org3_update_in_envelope.pb -c $CHANNEL_NAME -o orderer.example.com:7050 --tls --cafile $ORDERER_CA\n"
   ]
  },
  {
   "cell_type": "code",
   "execution_count": 60,
   "metadata": {},
   "outputs": [
    {
     "name": "stdout",
     "output_type": "stream",
     "text": [
      "\u001b[34m2020-12-07 14:39:31.365 UTC [channelCmd] InitCmdFactory -> INFO 001\u001b[0m Endorser and orderer connections initialized\n",
      "\u001b[34m2020-12-07 14:39:31.372 UTC [cli.common] readBlock -> INFO 002\u001b[0m Received block: 82\n",
      "\u001b[34m2020-12-07 14:39:31.372 UTC [channelCmd] fetch -> INFO 003\u001b[0m Retrieving last config block: 82\n",
      "\u001b[34m2020-12-07 14:39:31.377 UTC [cli.common] readBlock -> INFO 004\u001b[0m Received block: 82\n"
     ]
    }
   ],
   "source": [
    "!peer channel fetch config /tmp/config_block.pb -o orderer.example.com:7050 -c $CHANNEL_NAME --tls --cafile $ORDERER_CA > /dev/null  "
   ]
  },
  {
   "cell_type": "code",
   "execution_count": 58,
   "metadata": {},
   "outputs": [
    {
     "name": "stdout",
     "output_type": "stream",
     "text": [
      "Output: \n",
      "Usage:\n",
      "  peer [command]\n",
      "\n",
      "Available Commands:\n",
      "  chaincode   Operate a chaincode: install|instantiate|invoke|package|query|signpackage|upgrade|list.\n",
      "  channel     Operate a channel: create|fetch|join|list|update|signconfigtx|getinfo.\n",
      "  help        Help about any command\n",
      "  lifecycle   Perform _lifecycle operations\n",
      "  node        Operate a peer node: start|reset|rollback|pause|resume|rebuild-dbs|upgrade-dbs.\n",
      "  version     Print fabric peer version.\n",
      "\n",
      "Flags:\n",
      "  -h, --help   help for peer\n",
      "\n",
      "Use \"peer [command] --help\" for more information about a command.\n",
      "\n",
      "\n"
     ]
    }
   ],
   "source": [
    "#peer channel fetch config config_block.pb -o orderer.example.com:7050 -c $CHANNEL_NAME --tls --cafile $ORDERER_CA\n",
    "import sys    \n",
    "def channelFetch(channelName,ordererpem):\n",
    "    #rint(channelName,ordererpem)\n",
    "    try:    \n",
    "        output = subprocess.check_output(['peer', 'channel','fetch', 'config', 'config_block.pb', '-o', 'orderer.example.com:7050', '-c',channelName, '--tls', \n",
    "                                               '--cafile', ordererpem], stderr=subprocess.STDOUT, shell=True, timeout=3,universal_newlines=True)\n",
    "        #output = subprocess.check_output(['peer', 'channel','fetch', 'config', 'config_block.pb', '-o', 'orderer.example.com:7050', '-c',channelName, '--tls', 'cafile', ordererpem], stderr=subprocess.STDOUT, shell=True, timeout=3,universal_newlines=True)\n",
    "        #output = subprocess.check_output(['peer', 'channel','fetch','newest', 'config', '/tmp/config_block.pb', '-o', 'orderer.example.com:7050', '-c',channelName, '--tls', '--cafile', ordererpem], stderr=subprocess.STDOUT)\n",
    "        \n",
    "    #xcept Exception as e:\n",
    "    #   print('exception' + str(e))\n",
    "    #   return None\n",
    "    except subprocess.CalledProcessError as exc:\n",
    "        print(\"Status : FAIL\", exc.returncode, exc.output)\n",
    "    else:\n",
    "        print(\"Output: \\n{}\\n\".format(output))\n",
    "    \n",
    "#channelFetch('mychannel',ordererpem)    \n",
    "\n",
    "#!cd /home/jovyan/work/\n",
    "#rm -f config_block.pb\n",
    "channelFetch('mychannel',ordererpem)\n"
   ]
  },
  {
   "cell_type": "code",
   "execution_count": null,
   "metadata": {},
   "outputs": [],
   "source": []
  }
 ],
 "metadata": {
  "kernelspec": {
   "display_name": "Python 3",
   "language": "python",
   "name": "python3"
  },
  "language_info": {
   "codemirror_mode": {
    "name": "ipython",
    "version": 3
   },
   "file_extension": ".py",
   "mimetype": "text/x-python",
   "name": "python",
   "nbconvert_exporter": "python",
   "pygments_lexer": "ipython3",
   "version": "3.8.6"
  }
 },
 "nbformat": 4,
 "nbformat_minor": 4
}
