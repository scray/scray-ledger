{
 "cells": [
  {
   "cell_type": "code",
   "execution_count": 106,
   "metadata": {},
   "outputs": [],
   "source": [
    "!rm -f /tmp/*.json\n",
    "!rm -f /tmp/*.pb"
   ]
  },
  {
   "cell_type": "code",
   "execution_count": 107,
   "metadata": {},
   "outputs": [],
   "source": [
    "import os\n",
    "import json\n",
    "import subprocess\n",
    "import pandas as pd\n",
    " \n",
    "pwd0 = \"/home/jovyan/work/fabric-samples/\"\n",
    "pwd = \"/home/jovyan/work/fabric-samples/test-network\"\n",
    "\n",
    "os.environ['PATH'] = \"/home/jovyan/work/fabric-samples/bin:\" + str(os.environ.get('PATH')) \n",
    "os.environ['CORE_PEER_TLS_ENABLED'] = \"true\"\n",
    "os.environ['CORE_PEER_LOCALMSPID'] = \"Org1MSP\"\n",
    "os.environ['CORE_PEER_TLS_ROOTCERT_FILE'] = pwd + \"/organizations/peerOrganizations/org1.example.com/peers/peer0.org1.example.com/tls/ca.crt\"\n",
    "os.environ['CORE_PEER_MSPCONFIGPATH'] = pwd + \"/organizations/peerOrganizations/org1.example.com/users/Admin@org1.example.com/msp\"\n",
    "os.environ['CORE_PEER_ADDRESS'] = \"peer0.org1.example.com:7051\"\n",
    "os.environ['FABRIC_CFG_PATH'] = pwd0 + \"/config/\"\n",
    "\n",
    "addr0 = 'peer0.org1.example.com:7050'\n",
    "orderer = 'orderer.example.com'\n",
    "ordererpem = pwd + '/organizations/ordererOrganizations/example.com/orderers/orderer.example.com/msp/tlscacerts/tlsca.example.com-cert.pem'\n",
    "addr1 = 'peer0.org1.example.com:7051'\n",
    "crt1 = pwd + '/organizations/peerOrganizations/org1.example.com/peers/peer0.org1.example.com/tls/ca.crt'\n",
    "addr2 = 'peer0.org2.example.com:9051'\n",
    "crt2 = pwd + '/organizations/peerOrganizations/org2.example.com/peers/peer0.org2.example.com/tls/ca.crt' \n",
    "\n",
    "msp1 = pwd + '/organizations/peerOrganizations/org1.example.com/users/Admin@org1.example.com/msp'\n",
    "msp2 = pwd + '/organizations/peerOrganizations/org2.example.com/users/Admin@org2.example.com/msp'"
   ]
  },
  {
   "cell_type": "code",
   "execution_count": 108,
   "metadata": {},
   "outputs": [],
   "source": [
    "os.environ['ORDERER_IP']=\"10.15.128.97\"\n",
    "os.environ['ORDERER_HOSTNAME']=\"orderer.example.com\" \n",
    "os.environ['CHANNEL_NAME']=\"mychannel\"\n",
    "os.environ['ORG_ID']=\"OrgSally\""
   ]
  },
  {
   "cell_type": "code",
   "execution_count": 109,
   "metadata": {},
   "outputs": [],
   "source": [
    "os.environ['CORE_PEER_LOCALMSPID']=\"Org1MSP\"\n",
    "os.environ['CORE_PEER_TLS_ROOTCERT_FILE']=crt1\n",
    "os.environ['CORE_PEER_MSPCONFIGPATH']=msp1\n",
    "os.environ['ORDERER_CA']=ordererpem\n",
    "\n",
    "os.environ['CORE_PEER_ADDRESS'] = \"peer0.org1.example.com:7051\""
   ]
  },
  {
   "cell_type": "code",
   "execution_count": 110,
   "metadata": {},
   "outputs": [
    {
     "name": "stdout",
     "output_type": "stream",
     "text": [
      "\u001b[34m2020-12-07 17:29:13.645 UTC [channelCmd] InitCmdFactory -> INFO 001\u001b[0m Endorser and orderer connections initialized\n",
      "\u001b[34m2020-12-07 17:29:13.648 UTC [cli.common] readBlock -> INFO 002\u001b[0m Received block: 16\n",
      "\u001b[34m2020-12-07 17:29:13.649 UTC [channelCmd] fetch -> INFO 003\u001b[0m Retrieving last config block: 2\n",
      "\u001b[34m2020-12-07 17:29:13.652 UTC [cli.common] readBlock -> INFO 004\u001b[0m Received block: 2\n"
     ]
    }
   ],
   "source": [
    "#update /etc/hosts\n",
    "#!more /etc/hosts\n",
    "#echo $ORDERER_IP orderer.example.com >> /etc/hosts1\n",
    "!peer channel fetch config /tmp/config_block.pb -o orderer.example.com:7050 -c $CHANNEL_NAME --tls --cafile $ORDERER_CA > /dev/null\n",
    "!configtxlator proto_decode --input /tmp/config_block.pb --type common.Block | jq .data.data[0].payload.data.config > /tmp/config.json    "
   ]
  },
  {
   "cell_type": "code",
   "execution_count": 111,
   "metadata": {},
   "outputs": [],
   "source": [
    "# Upload CA cert\n",
    "os.environ['SHARED_FS_HOST']=\"10.15.136.41:30080\"\n",
    "os.environ['SHARED_FS_USER']=\"scray\"\n",
    "os.environ['SHARED_FS_PW']=\"scray\"\n",
    "#!apk add curl"
   ]
  },
  {
   "cell_type": "code",
   "execution_count": 112,
   "metadata": {},
   "outputs": [
    {
     "name": "stdout",
     "output_type": "stream",
     "text": [
      "<!DOCTYPE HTML PUBLIC \"-//IETF//DTD HTML 2.0//EN\">\n",
      "<html><head>\n",
      "<title>301 Moved Permanently</title>\n",
      "</head><body>\n",
      "<h1>Moved Permanently</h1>\n",
      "<p>The document has moved <a href=\"http://10.15.136.41:30080/ca/\">here</a>.</p>\n",
      "</body></html>\n",
      "  % Total    % Received % Xferd  Average Speed   Time    Time     Time  Current\n",
      "                                 Dload  Upload   Total   Spent    Left  Speed\n",
      "100 11435  100 11435    0     0  1595k      0 --:--:-- --:--:-- --:--:-- 1861k\n"
     ]
    }
   ],
   "source": [
    "os.environ['NEW_ORG_NAME']=\"OrgSally\"\n",
    "\n",
    "!curl --user $SHARED_FS_USER:$SHARED_FS_PW -X MKCOL http://$SHARED_FS_HOST/ca\n",
    "!curl --user $SHARED_FS_USER:$SHARED_FS_PW -T /home/jovyan/work/fabric-samples/test-network/organizations/ordererOrganizations/example.com/orderers/orderer.example.com/msp/tlscacerts/tlsca.example.com-cert.pem http://$SHARED_FS_HOST/ca/tlsca.example.com-cert.pem\n",
    "\n",
    "# Get configuration of new peer\n",
    "#curl --user 'scray:scray' http://${SHARED_FS_HOST}/newmemberrequests/$CHANNEL_NAME/${NEW_ORG_NAME}.json > new_member_org.json\n",
    "!curl --user $SHARED_FS_USER:$SHARED_FS_PW  http://${SHARED_FS_HOST}/newmemberrequests/$CHANNEL_NAME/${NEW_ORG_NAME}.json > /tmp/new_member_org.json   "
   ]
  },
  {
   "cell_type": "code",
   "execution_count": 113,
   "metadata": {},
   "outputs": [],
   "source": [
    "# Add org3 data to existing config\n",
    "!jq -s \".[0] \"*\" {\\\"channel_group\\\":{\\\"groups\\\":{\\\"Application\\\":{\\\"groups\\\": {\\\"${NEW_ORG_NAME}MSP\\\":.[1]}}}}}\" /tmp/config.json /tmp/new_member_org.json > /tmp/modified_config.json\n",
    "\n",
    "!configtxlator proto_encode --input /tmp/config.json --type common.Config --output /tmp/config.pb\n",
    "!configtxlator proto_encode --input /tmp/modified_config.json --type common.Config --output /tmp/modified_config.pb\n",
    "!configtxlator compute_update --channel_id $CHANNEL_NAME --original /tmp/config.pb --updated /tmp/modified_config.pb --output /tmp/org3_update.pb\n",
    "!configtxlator proto_decode --input /tmp/org3_update.pb --type common.ConfigUpdate | jq . > /tmp/org3_update.json\n",
    "!echo '{\"payload\":{\"header\":{\"channel_header\":{\"channel_id\":\"'$CHANNEL_NAME'\", \"type\":2}},\"data\":{\"config_update\":'$(cat /tmp/org3_update.json)'}}}' | jq . > /tmp/org3_update_in_envelope.json\n",
    "!configtxlator proto_encode --input /tmp/org3_update_in_envelope.json --type common.Envelope --output /tmp/org3_update_in_envelope.pb"
   ]
  },
  {
   "cell_type": "code",
   "execution_count": 114,
   "metadata": {},
   "outputs": [
    {
     "name": "stdout",
     "output_type": "stream",
     "text": [
      "\u001b[34m2020-12-07 17:29:41.427 UTC [channelCmd] InitCmdFactory -> INFO 001\u001b[0m Endorser and orderer connections initialized\n"
     ]
    }
   ],
   "source": [
    "!peer channel signconfigtx -f /tmp/org3_update_in_envelope.pb"
   ]
  },
  {
   "cell_type": "code",
   "execution_count": 115,
   "metadata": {},
   "outputs": [
    {
     "name": "stdout",
     "output_type": "stream",
     "text": [
      "\u001b[34m2020-12-07 17:29:47.484 UTC [channelCmd] InitCmdFactory -> INFO 001\u001b[0m Endorser and orderer connections initialized\n",
      "\u001b[34m2020-12-07 17:29:47.516 UTC [channelCmd] update -> INFO 002\u001b[0m Successfully submitted channel update\n"
     ]
    }
   ],
   "source": [
    "os.environ['CORE_PEER_LOCALMSPID']=\"Org2MSP\"\n",
    "os.environ['CORE_PEER_TLS_ROOTCERT_FILE']=crt2\n",
    "os.environ['CORE_PEER_MSPCONFIGPATH']=msp2\n",
    "os.environ['ORDERER_CA']=ordererpem\n",
    "os.environ['CORE_PEER_ADDRESS'] = addr2\n",
    "\n",
    "!peer channel update -f /tmp/org3_update_in_envelope.pb -c $CHANNEL_NAME -o orderer.example.com:7050 --tls --cafile $ORDERER_CA"
   ]
  },
  {
   "cell_type": "code",
   "execution_count": 100,
   "metadata": {},
   "outputs": [
    {
     "name": "stdout",
     "output_type": "stream",
     "text": [
      "/home/jovyan/work/fabric-samples/test-network/organizations/peerOrganizations/org2.example.com/users/Admin@org2.example.com/msp\n",
      "admincerts  cacerts  config.yaml  keystore  signcerts  tlscacerts\n"
     ]
    }
   ],
   "source": [
    "print(os.environ.get('CORE_PEER_MSPCONFIGPATH'))\n",
    "\n",
    "#!ls /home/jovyan/work/fabric-samples/test-network/organizations/peerOrganizations/org1.example.com/users/Admin@org1.example.com/msp\n",
    "#/organizations/peerOrganizations/org1.example.com/users/Admin@org1.example.com/msp\n",
    "#!ls /home/jovyan/work/fabric-samples/test-network/organizations/peerOrganizations/org1.example.com/users/Admin@org1.example.com/msp"
   ]
  },
  {
   "cell_type": "code",
   "execution_count": null,
   "metadata": {},
   "outputs": [],
   "source": [
    "#example_network_install_and_approve_cc.sh $IP_CC_SERVICE $IP_OF_EXAMPLE_NETWORK"
   ]
  },
  {
   "cell_type": "code",
   "execution_count": 116,
   "metadata": {},
   "outputs": [
    {
     "name": "stdout",
     "output_type": "stream",
     "text": [
      "  % Total    % Received % Xferd  Average Speed   Time    Time     Time  Current\n",
      "                                 Dload  Upload   Total   Spent    Left  Speed\n",
      "100   450  100   450    0     0   1778      0 --:--:-- --:--:-- --:--:--  1778\n",
      "\u001b[34m2020-12-07 17:33:04.264 UTC [cli.lifecycle.chaincode] submitInstallProposal -> INFO 001\u001b[0m Installed remotely: response:<status:200 payload:\"\\nJbasic_1.0:5a294a12a1a89cd4eed3d4234fbc79f42eab2ac20cd176bc8ebbc07c597cd0ee\\022\\tbasic_1.0\" > \n",
      "\u001b[34m2020-12-07 17:33:04.265 UTC [cli.lifecycle.chaincode] submitInstallProposal -> INFO 002\u001b[0m Chaincode code package identifier: basic_1.0:5a294a12a1a89cd4eed3d4234fbc79f42eab2ac20cd176bc8ebbc07c597cd0ee\n",
      "\u001b[34m2020-12-07 17:33:04.357 UTC [cli.lifecycle.chaincode] submitInstallProposal -> INFO 001\u001b[0m Installed remotely: response:<status:200 payload:\"\\nJbasic_1.0:5a294a12a1a89cd4eed3d4234fbc79f42eab2ac20cd176bc8ebbc07c597cd0ee\\022\\tbasic_1.0\" > \n",
      "\u001b[34m2020-12-07 17:33:04.357 UTC [cli.lifecycle.chaincode] submitInstallProposal -> INFO 002\u001b[0m Chaincode code package identifier: basic_1.0:5a294a12a1a89cd4eed3d4234fbc79f42eab2ac20cd176bc8ebbc07c597cd0ee\n",
      "\u001b[34m2020-12-07 17:33:06.524 UTC [chaincodeCmd] ClientWait -> INFO 001\u001b[0m txid [3aad199ef063a49b7698dad1fc5833fbb14d14a5aae7a5fc2f8ee971114dc75b] committed with status (VALID) at peer0.org2.example.com:9051\n",
      "\u001b[34m2020-12-07 17:33:08.735 UTC [chaincodeCmd] ClientWait -> INFO 001\u001b[0m txid [cfa4bdf846337429de0136747adebd1046e0e7c0b97de201780df6b034b112b0] committed with status (VALID) at peer0.org1.example.com:7051\n"
     ]
    }
   ],
   "source": [
    "#!pwd\n",
    "#!ls /home/jovyan/work/scray/projects/invoice-hyperledger-fabric/scripts/example_network_install_and_approve_cc.sh\n",
    "!cd /tmp\n",
    "!/home/jovyan/work/scray/projects/invoice-hyperledger-fabric/scripts/example_network_install_and_approve_cc.sh 10.14.128.38 10.15.128.97 /home/jovyan/work/fabric-samples/test-network"
   ]
  },
  {
   "cell_type": "code",
   "execution_count": null,
   "metadata": {},
   "outputs": [],
   "source": [
    "#REST"
   ]
  },
  {
   "cell_type": "code",
   "execution_count": 60,
   "metadata": {},
   "outputs": [
    {
     "name": "stdout",
     "output_type": "stream",
     "text": [
      "\u001b[34m2020-12-07 14:39:31.365 UTC [channelCmd] InitCmdFactory -> INFO 001\u001b[0m Endorser and orderer connections initialized\n",
      "\u001b[34m2020-12-07 14:39:31.372 UTC [cli.common] readBlock -> INFO 002\u001b[0m Received block: 82\n",
      "\u001b[34m2020-12-07 14:39:31.372 UTC [channelCmd] fetch -> INFO 003\u001b[0m Retrieving last config block: 82\n",
      "\u001b[34m2020-12-07 14:39:31.377 UTC [cli.common] readBlock -> INFO 004\u001b[0m Received block: 82\n"
     ]
    }
   ],
   "source": [
    "!peer channel fetch config /tmp/config_block.pb -o orderer.example.com:7050 -c $CHANNEL_NAME --tls --cafile $ORDERER_CA > /dev/null  "
   ]
  },
  {
   "cell_type": "code",
   "execution_count": 58,
   "metadata": {},
   "outputs": [
    {
     "name": "stdout",
     "output_type": "stream",
     "text": [
      "Output: \n",
      "Usage:\n",
      "  peer [command]\n",
      "\n",
      "Available Commands:\n",
      "  chaincode   Operate a chaincode: install|instantiate|invoke|package|query|signpackage|upgrade|list.\n",
      "  channel     Operate a channel: create|fetch|join|list|update|signconfigtx|getinfo.\n",
      "  help        Help about any command\n",
      "  lifecycle   Perform _lifecycle operations\n",
      "  node        Operate a peer node: start|reset|rollback|pause|resume|rebuild-dbs|upgrade-dbs.\n",
      "  version     Print fabric peer version.\n",
      "\n",
      "Flags:\n",
      "  -h, --help   help for peer\n",
      "\n",
      "Use \"peer [command] --help\" for more information about a command.\n",
      "\n",
      "\n"
     ]
    }
   ],
   "source": [
    "#peer channel fetch config config_block.pb -o orderer.example.com:7050 -c $CHANNEL_NAME --tls --cafile $ORDERER_CA\n",
    "import sys    \n",
    "def channelFetch(channelName,ordererpem):\n",
    "    #rint(channelName,ordererpem)\n",
    "    try:    \n",
    "        output = subprocess.check_output(['peer', 'channel','fetch', 'config', 'config_block.pb', '-o', 'orderer.example.com:7050', '-c',channelName, '--tls', \n",
    "                                               '--cafile', ordererpem], stderr=subprocess.STDOUT, shell=True, timeout=3,universal_newlines=True)\n",
    "        #output = subprocess.check_output(['peer', 'channel','fetch', 'config', 'config_block.pb', '-o', 'orderer.example.com:7050', '-c',channelName, '--tls', 'cafile', ordererpem], stderr=subprocess.STDOUT, shell=True, timeout=3,universal_newlines=True)\n",
    "        #output = subprocess.check_output(['peer', 'channel','fetch','newest', 'config', '/tmp/config_block.pb', '-o', 'orderer.example.com:7050', '-c',channelName, '--tls', '--cafile', ordererpem], stderr=subprocess.STDOUT)\n",
    "        \n",
    "    #xcept Exception as e:\n",
    "    #   print('exception' + str(e))\n",
    "    #   return None\n",
    "    except subprocess.CalledProcessError as exc:\n",
    "        print(\"Status : FAIL\", exc.returncode, exc.output)\n",
    "    else:\n",
    "        print(\"Output: \\n{}\\n\".format(output))\n",
    "    \n",
    "#channelFetch('mychannel',ordererpem)    \n",
    "\n",
    "#!cd /home/jovyan/work/\n",
    "#rm -f config_block.pb\n",
    "channelFetch('mychannel',ordererpem)\n"
   ]
  },
  {
   "cell_type": "code",
   "execution_count": null,
   "metadata": {},
   "outputs": [],
   "source": []
  }
 ],
 "metadata": {
  "kernelspec": {
   "display_name": "Python 3",
   "language": "python",
   "name": "python3"
  },
  "language_info": {
   "codemirror_mode": {
    "name": "ipython",
    "version": 3
   },
   "file_extension": ".py",
   "mimetype": "text/x-python",
   "name": "python",
   "nbconvert_exporter": "python",
   "pygments_lexer": "ipython3",
   "version": "3.8.6"
  }
 },
 "nbformat": 4,
 "nbformat_minor": 4
}
