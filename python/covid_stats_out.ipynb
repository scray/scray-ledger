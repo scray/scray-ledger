{
 "cells": [
  {
   "cell_type": "code",
   "execution_count": 1,
   "id": "a60ee1cf-8cc1-4a1d-a6c3-f5b7dd995609",
   "metadata": {
    "execution": {
     "iopub.execute_input": "2022-03-28T15:57:13.579383Z",
     "iopub.status.busy": "2022-03-28T15:57:13.578693Z",
     "iopub.status.idle": "2022-03-28T15:57:13.589597Z",
     "shell.execute_reply": "2022-03-28T15:57:13.591580Z"
    },
    "papermill": {
     "duration": 0.025157,
     "end_time": "2022-03-28T15:57:13.591860",
     "exception": false,
     "start_time": "2022-03-28T15:57:13.566703",
     "status": "completed"
    },
    "tags": [
     "parameters"
    ]
   },
   "outputs": [],
   "source": [
    "# variables which can be changed\n",
    "GCP_PROJECT='adventures-on-gcp'\n",
    "BQ_DATASET='covid_stats'\n",
    "BQ_TABLE='world_data'\n",
    "date='2021-04-20'\n"
   ]
  },
  {
   "cell_type": "code",
   "execution_count": 2,
   "id": "f86cc70f",
   "metadata": {
    "execution": {
     "iopub.execute_input": "2022-03-28T15:57:13.631931Z",
     "iopub.status.busy": "2022-03-28T15:57:13.631228Z",
     "iopub.status.idle": "2022-03-28T15:57:13.633012Z",
     "shell.execute_reply": "2022-03-28T15:57:13.632471Z"
    },
    "papermill": {
     "duration": 0.015737,
     "end_time": "2022-03-28T15:57:13.633171",
     "exception": false,
     "start_time": "2022-03-28T15:57:13.617434",
     "status": "completed"
    },
    "tags": [
     "injected-parameters"
    ]
   },
   "outputs": [],
   "source": [
    "# Parameters\n",
    "date = \"2022-03-27\"\n"
   ]
  },
  {
   "cell_type": "code",
   "execution_count": 3,
   "id": "4596f044-0984-4406-a59c-0ac56db0d37d",
   "metadata": {
    "execution": {
     "iopub.execute_input": "2022-03-28T15:57:13.648831Z",
     "iopub.status.busy": "2022-03-28T15:57:13.646249Z",
     "iopub.status.idle": "2022-03-28T15:57:13.652257Z",
     "shell.execute_reply": "2022-03-28T15:57:13.650127Z"
    },
    "papermill": {
     "duration": 0.016221,
     "end_time": "2022-03-28T15:57:13.652468",
     "exception": false,
     "start_time": "2022-03-28T15:57:13.636247",
     "status": "completed"
    },
    "tags": []
   },
   "outputs": [
    {
     "name": "stdout",
     "output_type": "stream",
     "text": [
      "datapar 2022-03-27\n"
     ]
    }
   ],
   "source": [
    "print('datapar',date)"
   ]
  }
 ],
 "metadata": {
  "kernelspec": {
   "display_name": "Python 3 (ipykernel)",
   "language": "python",
   "name": "python3"
  },
  "language_info": {
   "codemirror_mode": {
    "name": "ipython",
    "version": 3
   },
   "file_extension": ".py",
   "mimetype": "text/x-python",
   "name": "python",
   "nbconvert_exporter": "python",
   "pygments_lexer": "ipython3",
   "version": "3.9.5"
  },
  "papermill": {
   "default_parameters": {},
   "duration": 1.190054,
   "end_time": "2022-03-28T15:57:13.788103",
   "environment_variables": {},
   "exception": null,
   "input_path": "covid_stats.ipynb",
   "output_path": "covid_stats_out.ipynb",
   "parameters": {
    "date": "2022-03-27"
   },
   "start_time": "2022-03-28T15:57:12.598049",
   "version": "2.3.4"
  }
 },
 "nbformat": 4,
 "nbformat_minor": 5
}