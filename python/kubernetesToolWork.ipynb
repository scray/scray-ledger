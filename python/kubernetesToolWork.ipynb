{
 "cells": [
  {
   "cell_type": "code",
   "execution_count": null,
   "id": "2403fc3c-5dc7-40f3-8f7d-1bcfba9a1043",
   "metadata": {},
   "outputs": [],
   "source": []
  },
  {
   "cell_type": "code",
   "execution_count": null,
   "id": "13912c71-6ce0-46b0-8e16-f16f797c7089",
   "metadata": {},
   "outputs": [],
   "source": [
    "#getPods()['metadata'].keys()\n",
    "\n",
    "#getPods().keys()\n",
    "getPods()['items'][0]['metadata'].keys()\n",
    "getPods()['items'][0]['metadata']['name']\n",
    "\n",
    "for item in getPods()['items']:\n",
    "    print(item['metadata']['name'])\n",
    "    \n",
    "  \n",
    "deployments = json.loads(executeKubectlCmd(['get', 'deployments', '-o', 'json'])) "
   ]
  },
  {
   "cell_type": "code",
   "execution_count": null,
   "id": "5d412b75-e571-498b-b058-c880b2b989f6",
   "metadata": {},
   "outputs": [],
   "source": [
    "deployments.keys()\n",
    "\n",
    "for item in deployments['items']:\n",
    "    print(item['metadata']['name'])\n",
    "    \n",
    "    \n",
    "services = json.loads(executeKubectlCmd(['get', 'services', '-o', 'json']))    \n",
    "\n",
    "for item in services['items']:\n",
    "    print(item['metadata']['name'])"
   ]
  },
  {
   "cell_type": "code",
   "execution_count": null,
   "id": "1ce0a7d4-9dac-49c5-a3cb-c97228f9fe35",
   "metadata": {},
   "outputs": [],
   "source": [
    "type(executeKubectlCmd(['get', 'service', 'orderer-org1-scray-org']))"
   ]
  },
  {
   "cell_type": "code",
   "execution_count": null,
   "id": "d622d75c-d5b5-4dd7-a310-78deba16eef1",
   "metadata": {},
   "outputs": [],
   "source": [
    "services['items'][2]['spec']['ports']"
   ]
  },
  {
   "cell_type": "code",
   "execution_count": null,
   "id": "6bab9069-7094-4c59-96b5-2a1e578723dd",
   "metadata": {},
   "outputs": [],
   "source": [
    "!/home/jovyan/work/usr/bin/kubectl get service orderer-org1-scray-org -o jsonpath=\"{.spec.ports[?(@.name=='orderer-listen')].nodePort}\""
   ]
  },
  {
   "cell_type": "code",
   "execution_count": null,
   "id": "50c99299-9ff8-4c06-a6a3-4e7016291e51",
   "metadata": {},
   "outputs": [],
   "source": [
    "getPort(peername='orderer-org1-scray-org',name='orderer-listen')"
   ]
  },
  {
   "cell_type": "code",
   "execution_count": null,
   "id": "4f330fef-7781-49c5-b3aa-fde2b6f9ef37",
   "metadata": {},
   "outputs": [],
   "source": [
    "getPod('orderer-org1-scray-org')"
   ]
  },
  {
   "cell_type": "code",
   "execution_count": null,
   "id": "ddf08b4e-cd9f-46aa-9311-f2e722abefdb",
   "metadata": {},
   "outputs": [],
   "source": [
    "!/home/jovyan/work/usr/bin/kubectl exec --stdin --tty 'orderer-org1-scray-org-5f97c57d44-qrz4b' -c scray-orderer-cli  -- /bin/sh /mnt/conf/orderer/scripts/create_channel.sh 'super' orderer.example.com '7050'"
   ]
  },
  {
   "cell_type": "code",
   "execution_count": null,
   "id": "57418b6e-2195-4de3-94a3-70cf0323b64b",
   "metadata": {},
   "outputs": [],
   "source": [
    "getPort(peername='olya0', name='peer-gossip'), getPort(peername='olya0', name='peer-listen')"
   ]
  }
 ],
 "metadata": {
  "kernelspec": {
   "display_name": "Python 3 (ipykernel)",
   "language": "python",
   "name": "python3"
  },
  "language_info": {
   "codemirror_mode": {
    "name": "ipython",
    "version": 3
   },
   "file_extension": ".py",
   "mimetype": "text/x-python",
   "name": "python",
   "nbconvert_exporter": "python",
   "pygments_lexer": "ipython3",
   "version": "3.9.5"
  }
 },
 "nbformat": 4,
 "nbformat_minor": 5
}
