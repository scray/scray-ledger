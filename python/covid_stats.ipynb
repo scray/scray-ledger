{
 "cells": [
  {
   "cell_type": "code",
   "execution_count": null,
   "id": "a60ee1cf-8cc1-4a1d-a6c3-f5b7dd995609",
   "metadata": {
    "tags": [
     "parameters"
    ]
   },
   "outputs": [],
   "source": [
    "# variables which can be changed\n",
    "GCP_PROJECT='adventures-on-gcp'\n",
    "BQ_DATASET='covid_stats'\n",
    "BQ_TABLE='world_data'\n",
    "date='2021-04-20'\n"
   ]
  },
  {
   "cell_type": "code",
   "execution_count": null,
   "id": "4596f044-0984-4406-a59c-0ac56db0d37d",
   "metadata": {},
   "outputs": [],
   "source": [
    "print('datapar',date)"
   ]
  }
 ],
 "metadata": {
  "kernelspec": {
   "display_name": "Python 3 (ipykernel)",
   "language": "python",
   "name": "python3"
  },
  "language_info": {
   "codemirror_mode": {
    "name": "ipython",
    "version": 3
   },
   "file_extension": ".py",
   "mimetype": "text/x-python",
   "name": "python",
   "nbconvert_exporter": "python",
   "pygments_lexer": "ipython3",
   "version": "3.9.5"
  }
 },
 "nbformat": 4,
 "nbformat_minor": 5
}
