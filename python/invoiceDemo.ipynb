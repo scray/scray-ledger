{
 "cells": [
  {
   "cell_type": "code",
   "execution_count": null,
   "id": "8f851027-a44a-4e21-8f2e-1a09c3ad0d23",
   "metadata": {},
   "outputs": [],
   "source": [
    "def get_current_peer_with_role(rolename):    \n",
    "    if rolename == 'Buyer':\n",
    "        return peer_buyer\n",
    "    elif  rolename == 'Seller':   \n",
    "        return peer_owner\n",
    "    elif  rolename == 'Factor':   \n",
    "        return peer_factor\n",
    "    elif  rolename == 'TaxInspector':    \n",
    "        return peer_taxinspector    \n",
    "\n",
    "    \n",
    "def reload_clicked1(i):\n",
    "    global buyer,peer_buyer\n",
    "    global asset\n",
    "    \n",
    "    user = get_current_user_with_role(roleOptions.value)\n",
    "    peer = get_current_peer_with_role(roleOptions.value)\n",
    "    \n",
    "    asset = listInvoice(peer, id, user=user)\n",
    "    \n",
    "    with _out:\n",
    "        buyer=get_cert_cn(asset['buyer'])\n",
    "        peer_buyer=get_peer_of_user(buyer)\n",
    "        \n",
    "    widget_load_asset(_widget,asset)\n",
    "    role_selected('')  \n",
    " \n",
    "def _block_btn_reload_clicked1(i):    \n",
    "    height=get_height()\n",
    "    _block_text.value = str(height)\n",
    "    with _block_out:\n",
    "        clear_output()  \n",
    "        uploadBlockToShare(height-1)    \n",
    "        _block = getBlockFromShare(height-1)\n",
    "        _invoice = decode_block_invoice(_block)\n",
    "        _transaction = decode_block_transaction(_block)\n",
    "        _t = get_transaction()[0]\n",
    "        clear_output()  \n",
    "        facturx_widgets(_t,'/', hideUnused=True, hide=False).output\n",
    "        \n",
    "       \n"
   ]
  },
  {
   "cell_type": "markdown",
   "id": "b5195416-9c60-423a-a835-bb49c32386dc",
   "metadata": {},
   "source": [
    "# invoiceDemoLibrary"
   ]
  },
  {
   "cell_type": "code",
   "execution_count": 1,
   "id": "c7e9d345-9a9c-4138-985c-a18a1785f59d",
   "metadata": {},
   "outputs": [],
   "source": [
    "def calc_keys(assets):\n",
    "    _keys = []\n",
    "    for asset in assets:\n",
    "        _keys.append(asset['Key'])\n",
    "    return _keys    \n",
    "\n",
    "def getUsedRoles(roles):\n",
    "    _all=[]\n",
    "    for element in roles:\n",
    "        for role in element['roles']:\n",
    "            if role not in _all:\n",
    "                _all.append(role)\n",
    "    return _all"
   ]
  },
  {
   "cell_type": "markdown",
   "id": "4eccb0d6-d68a-4707-96c8-49cda11e9c06",
   "metadata": {},
   "source": [
    "# Start"
   ]
  },
  {
   "cell_type": "code",
   "execution_count": 2,
   "id": "7013fc49-d017-42cf-b107-00b4eeb3d392",
   "metadata": {},
   "outputs": [],
   "source": [
    "from ipynb.fs.full.facturxWidget import *\n",
    "#from ipynb.fs.full.kubernetesTool import *\n",
    "#from ipynb.fs.full.invoiceSmartcontract import *\n",
    "\n",
    "from ipynb.fs.full.blockchain import *"
   ]
  },
  {
   "cell_type": "code",
   "execution_count": 13,
   "id": "19fe666c-89cf-45d6-8305-3c8a02be9ec9",
   "metadata": {},
   "outputs": [],
   "source": [
    "_blockchain = Blockchain(channel_name='invoicing25',shared_fs='10.15.130.111:80',sharepoint=SharePoint())\n",
    "cc = Chaincode()\n",
    "_blockchain.addPeer('aubonmoulin', hostname='fr',ca_country='FR',ca_province='Provence-Alpes-Cote d\\'Azur',ca_locality='Malaucene')\n",
    "_blockchain.addPeer('lyon-impots', hostname='gouv.fr',ca_country='FR',ca_province='Auvergne-Rhone-Alpes',ca_locality='Lyon')\n",
    "_blockchain.addPeer('austriafactor', hostname='at',ca_country='AT',ca_province='Steiermark',ca_locality='Graz')\n",
    "_blockchain.addPeer('megustaolive', hostname='es',ca_country='ES',ca_province='Andalusia',ca_locality='Dos Hermanas')"
   ]
  },
  {
   "cell_type": "code",
   "execution_count": 14,
   "id": "4a694cb9-ad0b-4724-9611-71ff60ae8012",
   "metadata": {},
   "outputs": [],
   "source": [
    "_blockchain.installWalletTool()\n"
   ]
  },
  {
   "cell_type": "code",
   "execution_count": 15,
   "id": "8815461a-fdca-4f10-a4aa-ab3198d0dab1",
   "metadata": {},
   "outputs": [],
   "source": [
    "_blockchain.peers['aubonmoulin'].installWalletTool(sharepoint=_blockchain.sharepoint,channel_name=_blockchain.channel_name)"
   ]
  },
  {
   "cell_type": "code",
   "execution_count": 16,
   "id": "6d4e0965-dd3d-4880-84fb-fab0b68664d3",
   "metadata": {},
   "outputs": [],
   "source": [
    "_peer = _blockchain.peers['aubonmoulin']"
   ]
  },
  {
   "cell_type": "code",
   "execution_count": 25,
   "id": "6a1639b5-f693-4962-a992-65ff619b3e74",
   "metadata": {},
   "outputs": [],
   "source": [
    "_user = User(peer=_blockchain.peers['aubonmoulin'], name='Tony.Dubois@aubonmoulin.fr', channel_name=_blockchain.channel_name)"
   ]
  },
  {
   "cell_type": "code",
   "execution_count": 18,
   "id": "d9d38726-c459-4ded-b7f9-cfaefb303b90",
   "metadata": {},
   "outputs": [],
   "source": [
    "roles=_user.smart_contract.getAllRoles()[0]\n",
    "roleTransactions=_user.smart_contract.getRoleTransactions()[0]\n",
    "usedRoles=getUsedRoles(roles)"
   ]
  },
  {
   "cell_type": "code",
   "execution_count": 28,
   "id": "2a40cddf-fbab-44ee-9d1b-02c820883d5e",
   "metadata": {},
   "outputs": [
    {
     "data": {
      "text/plain": [
       "'x509::CN=Auguste.Boucher@lyon-impots.gouv.fr,OU=admin,O=kubernetes.research.dev.seeburger.de::CN=ca.lyon-impots.gouv.fr,O=lyon-impots.gouv.fr,L=Lyon,ST=Auvergne-Rhone-Alpes,C=FR'"
      ]
     },
     "execution_count": 28,
     "metadata": {},
     "output_type": "execute_result"
    }
   ],
   "source": [
    "_user.smart_contract.getRoles()[0]['taxInspector']"
   ]
  },
  {
   "cell_type": "code",
   "execution_count": 19,
   "id": "b3a6f4d0-090e-4f06-9f32-796ac7c5ad77",
   "metadata": {},
   "outputs": [
    {
     "data": {
      "text/plain": [
       "{'name': 'x509::CN=Tony.Dubois@aubonmoulin.fr,OU=admin,O=kubernetes.research.dev.seeburger.de::CN=ca.aubonmoulin.fr,O=aubonmoulin.fr,L=Malaucene,ST=Provence-Alpes-Cote,C=FR',\n",
       " 'roles': ['Seller'],\n",
       " 'taxInspector': 'x509::CN=Auguste.Boucher@lyon-impots.gouv.fr,OU=admin,O=kubernetes.research.dev.seeburger.de::CN=ca.lyon-impots.gouv.fr,O=lyon-impots.gouv.fr,L=Lyon,ST=Auvergne-Rhone-Alpes,C=FR'}"
      ]
     },
     "execution_count": 19,
     "metadata": {},
     "output_type": "execute_result"
    }
   ],
   "source": [
    "_user.smart_contract.getRoles()[0]"
   ]
  },
  {
   "cell_type": "code",
   "execution_count": 20,
   "id": "e8914510-a1ed-4131-8d0b-37d1ebd75e19",
   "metadata": {},
   "outputs": [
    {
     "data": {
      "text/plain": [
       "({'name': 'x509::CN=Pedro.Sanchez@megustaolive.es,OU=admin,O=kubernetes.research.dev.seeburger.de::CN=ca.megustaolive.es,O=megustaolive.es,L=Dos,ST=Andalusia,C=ES',\n",
       "  'roles': ['Seller', 'Buyer'],\n",
       "  'taxInspector': 'x509::CN=Auguste.Boucher@lyon-impots.gouv.fr,OU=admin,O=kubernetes.research.dev.seeburger.de::CN=ca.lyon-impots.gouv.fr,O=lyon-impots.gouv.fr,L=Lyon,ST=Auvergne-Rhone-Alpes,C=FR'},\n",
       " Output())"
      ]
     },
     "execution_count": 20,
     "metadata": {},
     "output_type": "execute_result"
    }
   ],
   "source": [
    "User(peer=_blockchain.peers['megustaolive'], name='Pedro.Sanchez@megustaolive.es',channel_name=_blockchain.channel_name).smart_contract.getRoles()"
   ]
  },
  {
   "cell_type": "code",
   "execution_count": 21,
   "id": "f4666368-4ccb-4226-ab55-e75e3e43f537",
   "metadata": {},
   "outputs": [],
   "source": [
    "#User(peer=_blockchain.peers['aubonmoulin'], name='Stephanie.Hoarau@hotelsaintdenis.re', channel_name=_blockchain.channel_name).smart_contract.listInvoices()\n",
    "assets = _user.smart_contract.listInvoices()[0]\n",
    "_keys = calc_keys(assets)"
   ]
  },
  {
   "cell_type": "code",
   "execution_count": 24,
   "id": "ecf5f023-bfb6-45aa-a818-ef38ebd11835",
   "metadata": {},
   "outputs": [
    {
     "data": {
      "text/plain": [
       "{'peer': <ipynb.fs.full.blockchain.KubernetesPeer at 0x7f4590a4bf40>,\n",
       " 'name': 'Stephanie.Hoarau@hotelsaintdenis.re',\n",
       " 'smart_contract': <ipynb.fs.full.invoiceSmartcontract.InvoiceSmartContract at 0x7f4590af6250>}"
      ]
     },
     "execution_count": 24,
     "metadata": {},
     "output_type": "execute_result"
    }
   ],
   "source": []
  },
  {
   "cell_type": "code",
   "execution_count": null,
   "id": "2c84b940-12aa-432f-891d-ae7c060e6201",
   "metadata": {},
   "outputs": [],
   "source": [
    "_org = _cn.split('@')[1]\n",
    "for key,peer in _blockchain.peers.items():\n",
    "    if _org in peer.organizations.keys():\n",
    "        if _user in peer.organizations[_org].users.keys():\n",
    "            peer.organizations[_org].users[_user]            "
   ]
  },
  {
   "cell_type": "code",
   "execution_count": null,
   "id": "d8b5fdde-ad82-495e-b9d4-acee73f5cb15",
   "metadata": {},
   "outputs": [],
   "source": [
    "for key,peer in _blockchain.peers.items():\n",
    "    print(peer.organizations.keys())"
   ]
  },
  {
   "cell_type": "markdown",
   "id": "87604408-4b07-48c4-a8b3-a204fdfdb6a8",
   "metadata": {},
   "source": [
    "### old"
   ]
  },
  {
   "cell_type": "code",
   "execution_count": null,
   "id": "b4b6704c-e18e-44df-91c0-72178034d70b",
   "metadata": {},
   "outputs": [],
   "source": [
    "import ipywidgets as widgets\n",
    "_out = widgets.Output()\n",
    "with _out:\n",
    "    from ipynb.fs.full.invoiceDemoLibrary import *"
   ]
  },
  {
   "cell_type": "code",
   "execution_count": null,
   "id": "feb3c95e-ddf0-4a33-bdc6-7837853b0065",
   "metadata": {},
   "outputs": [],
   "source": [
    "assets = listInvoices(shop_owner_peer, user=shop_owner)[0]\n",
    "_keys = calc_keys(assets)"
   ]
  },
  {
   "cell_type": "markdown",
   "id": "095c9760-59e3-425d-9953-f0006bf3646e",
   "metadata": {},
   "source": [
    "# Demo Functions"
   ]
  },
  {
   "cell_type": "code",
   "execution_count": null,
   "id": "2fc6c065-1478-4a5c-bb6e-d9623c991999",
   "metadata": {},
   "outputs": [],
   "source": [
    "def get_cert_cn(cert):\n",
    "    return cert.split(',')[0].split('=')[1]\n",
    "    #return cert.split('=')[1].split('@')[0]\n",
    "\n",
    "def get_person_names_with_role(role,roles):\n",
    "    result = []\n",
    "    for person in roles:\n",
    "        if role in person['roles']:\n",
    "            #result.append(get_cert_cn(person['name']))\n",
    "            result.append(person['name'])\n",
    "    return result        \n",
    "        \n",
    "def get_person_certs_with_role(role,roles):\n",
    "    result = []\n",
    "    for person in roles:\n",
    "        if role in person['roles']:\n",
    "            result.append(person['name'])\n",
    "    return result                     "
   ]
  },
  {
   "cell_type": "code",
   "execution_count": 215,
   "id": "640cd9c8-8018-43f6-8be7-c3f44acf83e4",
   "metadata": {},
   "outputs": [],
   "source": [
    "def get_current_user_with_role(rolename,asset):    \n",
    "    if rolename == 'Buyer':\n",
    "        _cn = get_cert_cn(asset['buyer'])\n",
    "        return _blockchain.getUser(_cn)\n",
    "    elif  rolename == 'Seller':  \n",
    "        _cn = get_cert_cn(asset['owner'])\n",
    "        return _blockchain.getUser(_cn)\n",
    "    elif  rolename == 'Factor':   \n",
    "        _cn = get_cert_cn(asset['owner'])\n",
    "        return _blockchain.getUser(_cn)\n",
    "    elif  rolename == 'TaxInspector':    \n",
    "        _cn = get_cert_cn(asset['owner'])\n",
    "        _owner = _blockchain.getUser(_cn)                    \n",
    "        _cn = get_cert_cn(_owner.smart_contract.getRoles()[0]['taxInspector'])\n",
    "        return _blockchain.getUser(_cn)"
   ]
  },
  {
   "cell_type": "markdown",
   "id": "077b609d-cb5f-48a9-aacd-5e5e05eb2dcf",
   "metadata": {},
   "source": [
    "### Widgets"
   ]
  },
  {
   "cell_type": "code",
   "execution_count": 327,
   "id": "72ef0e11-5dc9-4b7e-b53b-1b19f39f8aec",
   "metadata": {},
   "outputs": [],
   "source": [
    "import functools\n",
    "\n",
    "class InvoiceWidget(object):\n",
    "    def __init__(self,user=None,usedRoles=None,asset_keys=None):\n",
    "        \n",
    "        self.roleOptions = widgets.Dropdown(options=usedRoles)\n",
    "        self.roleOptions.observe(self.reload_clicked, names='value')\n",
    "\n",
    "        self.btn = widgets.Button(description=f'From Blockchain', disabled=False,button_style='success', icon='check')    \n",
    "        self.btn.on_click(self.reload_clicked)\n",
    "\n",
    "        self.assetOptions = widgets.Dropdown(options=asset_keys)\n",
    "        self.assetOptions.observe(self.asset_selected, names='value')\n",
    "        self.options = widgets.VBox([self.assetOptions, self.roleOptions])\n",
    "\n",
    "        # explore blocks\n",
    "        self.block_btn = widgets.Button(description=f'Explore Block', disabled=False,button_style='success', icon='check')    \n",
    "        self.block_btn.on_click(self.block_btn_reload_clicked)\n",
    "        self.block_text = widgets.Text(description = 'height', style=style, layout=layout)\n",
    "        \n",
    "        self.block_text.on_submit(self.on_value_submit_block_text)   \n",
    "    \n",
    "        self.block_out = widgets.Output()\n",
    "        self.block_explorer = widgets.VBox([self.block_btn,self.block_text,self.block_out])                \n",
    "\n",
    "        self.assetOptions.value='asset14'    \n",
    "        self.user  = user\n",
    "        self.asset = self.user.smart_contract.listInvoice(self.assetOptions.value)[0]\n",
    "        \n",
    "        self.widget = facturx_widgets(asset,'/', hideUnused=False, hide=True) \n",
    "        self.widget_vbox = widgets.VBox([self.btn,self.widget.output])\n",
    "        \n",
    "        self.HBox   = widgets.HBox([self.widget_vbox, self.options,self.block_explorer]) \n",
    "        self.enable_fields_for_role()\n",
    "        \n",
    "        # fix empty header line\n",
    "        self.widget.container.fields[' '].widget.layout=widgets.Layout(display='flex',height='5px')\n",
    "        box_layout = widgets.Layout(display='flex',\n",
    "                flex_flow='column',\n",
    "                align_items='flex-end',\n",
    "                width='24%')\n",
    "        self.widget_vbox.layout=box_layout \n",
    "        box_layout2 = widgets.Layout(display='flex',\n",
    "                flex_flow='column',\n",
    "                align_items='flex-end',\n",
    "                width='34%')\n",
    "        self.block_explorer.layout=box_layout2 \n",
    "        display(self.HBox)\n",
    "        \n",
    "        #self.reload_clicked('')\n",
    "        \n",
    "    def widget_load_asset(self,asset):\n",
    "        self.widget.output.clear_output()\n",
    "        self.widget.container = FieldContainer()\n",
    "        with self.widget.output:\n",
    "            self.widget.addChilds(asset,'/', hideUnused=True)\n",
    "\n",
    "    def reload_clicked(self,i):\n",
    "        id=self.assetOptions.value\n",
    "        self.user  = get_current_user_with_role(self.roleOptions.value, self.asset)\n",
    "        self.asset = self.user.smart_contract.listInvoice(id)[0]\n",
    "        self.widget_load_asset(self.asset)\n",
    "        self.init_fields_with_role(self.user,id) \n",
    "        \n",
    "        # fix empty header line\n",
    "        self.widget.container.fields[' '].widget.layout=widgets.Layout(display='flex',height='5px')\n",
    "\n",
    "    def role_selected(self,x): \n",
    "        self.user = get_current_user_with_role(roleOptions.value,asset)\n",
    "        self.init_fields_with_role(self.user) \n",
    "        \n",
    "    def init_fields_with_role(self,user,id):    \n",
    "        if roleOptions.value == 'Buyer':\n",
    "            self.init_fields_buyer(user=user,id=id)\n",
    "        elif roleOptions.value == 'Seller':\n",
    "            self.init_fields_seller(user=user,id=id)\n",
    "        elif roleOptions.value == 'TaxInspector':    \n",
    "            self.init_fields_taxinspector(user=user,id=id)\n",
    "        elif roleOptions.value == 'Factor':    \n",
    "            self.init_fields_factor(user=user,id=id)\n",
    "\n",
    "    def asset_selected(self,x): \n",
    "        self.reload_clicked('')\n",
    "\n",
    "    def on_value_submit_block_text(self,change): \n",
    "        self.update_block_explorer(change.value)\n",
    "\n",
    "    def update_block_explorer(self,id):\n",
    "        _id = int(id) - 1\n",
    "        Block(peer=_blockchain.peers['aubonmoulin'],channel_name=_blockchain.channel_name,sharepoint=SharePoint()).uploadBlockToShare(id=_id)\n",
    "        _block=Block(peer=_blockchain.peers['aubonmoulin'],channel_name=_blockchain.channel_name,sharepoint=SharePoint()).getBlockFromShare(id=_id)\n",
    "        with self.block_out:  \n",
    "            clear_output()  \n",
    "            _t = Block(peer=_blockchain.peers['aubonmoulin'],channel_name=_blockchain.channel_name,sharepoint=SharePoint()).decode_block_transaction(block = _block)\n",
    "            facturx_widgets(_t,'/', hideUnused=True, hide=False).output\n",
    "            _b = Block(peer=_blockchain.peers['aubonmoulin'],channel_name=_blockchain.channel_name,sharepoint=SharePoint()).decode_block_data(block = _block)\n",
    "            facturx_widgets(_b,'/', hideUnused=True, hide=False).output        \n",
    "        \n",
    "    # !!! depends on peer, channel     \n",
    "    def block_btn_reload_clicked(self,i):   \n",
    "        height=Block(peer=_blockchain.peers['aubonmoulin'],channel_name=_blockchain.channel_name,sharepoint=SharePoint()).get_height()\n",
    "        self.block_text.value = str(height)\n",
    "        self.update_block_explorer(height)\n",
    "        \n",
    "            \n",
    "    def disable_all_fields(self):\n",
    "        for key,value in self.widget.container.fields.items():\n",
    "            value.widget.disabled=True\n",
    "\n",
    "    def enable_fields(self,fieldnames):\n",
    "        for fieldname in fieldnames:\n",
    "            self.widget.container.fields[fieldname].widget.disabled=False\n",
    "            \n",
    "    def enable_fields_for_role(self):\n",
    "        rolename=self.roleOptions.value\n",
    "        self.disable_all_fields()\n",
    "        if rolename == 'Buyer':\n",
    "            self.enable_fields(['received','receivedOrder'])\n",
    "        elif  rolename == 'Seller':   \n",
    "            self.enable_fields(['sold','claimPaid','claimPaidBy','owner'])\n",
    "        elif  rolename == 'Factor':   \n",
    "            self.enable_fields(['claimPaid','claimPaidBy'])\n",
    "        elif  rolename == 'TaxInspector':   \n",
    "            self.enable_fields(['taxReceived'])    \n",
    "            \n",
    "            \n",
    "    def init_fields_buyer(self,user=None,id=None):\n",
    "    \n",
    "        def received_changed(b,user=None,id=None):\n",
    "            if b['name'] == 'value':\n",
    "                user.smart_contract.receivedInvoice(id=id)[1]\n",
    "\n",
    "        def receivedOrder_changed(b,user=None,id=None):\n",
    "            if b['name'] == 'value':\n",
    "                user.smart_contract.receivedOrder(id=id)[1]    \n",
    "\n",
    "        self.widget.container.fields['received'].widget.observe(functools.partial(received_changed,user=user,id=id))\n",
    "        self.widget.container.fields['receivedOrder'].widget.observe(functools.partial(receivedOrder_changed,user=user,id=id))\n",
    "        self.enable_fields_for_role()\n",
    "\n",
    "\n",
    "    def init_fields_seller(self,user=None,id=None):\n",
    "\n",
    "        def sold_changed(b,user=None,id=None):\n",
    "            if b['name'] == 'value':\n",
    "                name=_widget.container.fields['owner'].widget.value\n",
    "                user.smart_contract.transferInvoice(id=id,name=name)[1]\n",
    "\n",
    "        def claimPaid_changed(b,user=None,id=None):\n",
    "            if b['name'] == 'value':\n",
    "                user.smart_contract.receivedPayment(id=id, payer= _widget.container.fields['claimPaidBy'].widget.value)\n",
    "\n",
    "        self.enable_fields_for_role()    \n",
    "        self.widget.container.fields['sold'].widget.observe(functools.partial(sold_changed,user=user,id=id))\n",
    "        self.widget.container.fields['claimPaid'].widget.observe(functools.partial(claimPaid_changed,user=user,id=id))  \n",
    "        self.replace_owner_field_by_dropdown()\n",
    "\n",
    "\n",
    "    def init_fields_factor(self,user=None,id=None):\n",
    "\n",
    "        def claimPaid_changed(b,user=None,id=None):\n",
    "            if b['name'] == 'value':\n",
    "                user.smart_contract.receivedPayment(id=id, payer= _widget.container.fields['claimPaidBy'].widget.value)\n",
    "\n",
    "        self.enable_fields_for_role()    \n",
    "        self.widget.container.fields['claimPaid'].widget.observe(functools.partial(claimPaid_changed,user=user,id=id))  \n",
    "\n",
    "\n",
    "    def init_fields_taxinspector(self,user=None,id=id):\n",
    "\n",
    "        def taxReceived_changed(b,user=None,id=None):\n",
    "            if b['name'] == 'value':\n",
    "                 user.smart_contract.taxReceived(id=id)\n",
    "\n",
    "        self.widget.container.fields['taxReceived'].widget.observe(functools.partial(taxReceived_changed,user=user,id=id))\n",
    "        self.enable_fields_for_role()    \n",
    "\n",
    "    # !!! roles\n",
    "    def create_dropdown_owner(self):\n",
    "        _certs=[self.widget.container.fields['owner'].widget.value]\n",
    "        _certs = _certs + get_person_certs_with_role('Factor',roles)\n",
    "        return widgets.Dropdown(options=_certs, value = _certs[0], description=\"owner\", style=style, layout=layout)\n",
    "\n",
    "    def replace_owner_field_by_dropdown(self):\n",
    "        _owners = self.create_dropdown_owner()\n",
    "        self.widget.container.fields['owner'] = Field(widget=_owners,path=self.widget.container.fields['owner'].path)\n",
    "        self.widget.redisplay()    "
   ]
  },
  {
   "cell_type": "code",
   "execution_count": 328,
   "id": "42e00da8-5dc3-4be7-baa0-7d4f0c4562cb",
   "metadata": {},
   "outputs": [
    {
     "data": {
      "application/vnd.jupyter.widget-view+json": {
       "model_id": "7988eb16cf6e4d689d1e7509b5324610",
       "version_major": 2,
       "version_minor": 0
      },
      "text/plain": [
       "HBox(children=(VBox(children=(Button(button_style='success', description='From Blockchain', icon='check', styl…"
      ]
     },
     "metadata": {},
     "output_type": "display_data"
    }
   ],
   "source": [
    "_widget=InvoiceWidget(user=_user,usedRoles=usedRoles,asset_keys=_keys)"
   ]
  },
  {
   "cell_type": "code",
   "execution_count": null,
   "id": "32f81acb-c269-4950-8a5c-667c8c88f66e",
   "metadata": {},
   "outputs": [],
   "source": [
    "def role_selected(x): \n",
    "    if roleOptions.value == 'Buyer':\n",
    "        init_fields_buyer(user=buyer,peer=peer_buyer)\n",
    "    elif roleOptions.value == 'Seller':\n",
    "        init_fields_seller(user=owner,peer=peer_owner)\n",
    "    elif roleOptions.value == 'TaxInspector':    \n",
    "        init_fields_taxinspector(user=taxinspector,peer=peer_taxinspector)\n",
    "    elif roleOptions.value == 'Factor':    \n",
    "        init_fields_factor(user=factor,peer=peer_factor)"
   ]
  },
  {
   "cell_type": "code",
   "execution_count": null,
   "id": "e5ab1d0b-3fc7-4fa1-8bf3-4fab0f907778",
   "metadata": {},
   "outputs": [],
   "source": [
    "def create_address_widget(_invoice):\n",
    "    _widget1 =  widgets.HBox([widgets.VBox([facturx_widgets(_invoice,'/exchangedDocumentContext', hideUnused=True, hide=True).output ,\n",
    "                              facturx_widgets(_invoice,'/exchangedDocument', hideUnused=True, hide=True).output]) ,\n",
    "                              facturx_widgets(_invoice,'/supplyChainTradeTransaction/applicableHeaderTradeAgreement/sellerTradeParty', hideUnused=True, hide=True).output ,\n",
    "                              facturx_widgets(_invoice,'/supplyChainTradeTransaction/applicableHeaderTradeAgreement/buyerTradeParty', hideUnused=True, hide=True).output])\n",
    "    #display (_widget1)\n",
    "    return _widget1\n",
    "\n",
    "\n",
    "def create_pod_widget(_invoice,blockchain):\n",
    "    pod_list = []\n",
    "    for key,peer in blockchain.peers.items():\n",
    "        pod_list.append(facturx_widgets(peer.__dict__,'/', hideUnused=True, hide=True).output)\n",
    "    _widget = widgets.VBox(pod_list)\n",
    "    return _widget\n",
    "\n",
    "def create_cluster_widget():\n",
    "    output = subprocess.check_output(['/home/jovyan/work/usr/bin/kubectl', 'get','service','hl-fabric-cc-external-invoice-net','-o','json'])\n",
    "    _chaincode_service = json.loads(output.decode('ascii'))\n",
    "    _chaincode_service_fields = {'name':_chaincode_service['metadata']['name'], 'nodePort':_chaincode_service['spec']['ports'][0]['nodePort']}\n",
    "\n",
    "    _chaincode_widget = facturx_widgets(hideUnused=True, hide=True)\n",
    "    #_header = _chaincode_widget.addHeader(text='Chaincode',bold=True, path='',hide=True )\n",
    "    #_chaincode_widget.container.add(widget=_header)\n",
    "    _chaincode_widget.append(data=_chaincode_service_fields)\n",
    "    \n",
    "    shared_fs_host=cc.shared_fs\n",
    "    _sharepoint_widget = facturx_widgets({'sharePoint':shared_fs_host},'/', hideUnused=True, hide=True).output\n",
    "\n",
    "    _peer_pods = create_pod_widget(_invoice,_blockchain)\n",
    "    _orderer = ordererpeer(name='orderer-org1-scray-org',prefix='orderer').__dict__\n",
    "    _orderer_pod = facturx_widgets(_orderer,'/', hideUnused=True, hide=True).output\n",
    "\n",
    "    _column2 = widgets.VBox([_orderer_pod, _chaincode_widget.output, _sharepoint_widget])\n",
    "    #_chaincode_widget.redisplay()\n",
    "    return widgets.HBox([_peer_pods, _column2])\n",
    "\n",
    "\n",
    "def display_role(roles, role_transctions, role,user,peer):\n",
    "    _role_widget = facturx_widgets( hideUnused=True, hide=True, layout = {'width': '390px'}, style = {'description_width': '110px'})\n",
    "    _header = _role_widget.addHeader(text='Rolle',bold=True, path='',hide=True )\n",
    "    _role_widget.container.add(widget=_header)\n",
    "    _role_widget.append(data=roles) \n",
    "    _header = _role_widget.addHeader(text='User',bold=True, path='',hide=True )\n",
    "    _role_widget.container.add(widget=_header)\n",
    "    _role_widget.append(data={'user':user,'peer':peer.name})\n",
    "    \n",
    "    _role_transctions_widget = facturx_widgets( hideUnused=True, hide=True, layout = {'width': '300px'}, style = {'description_width': '50px'})\n",
    "    _header = _role_transctions_widget.addHeader(text='Transaktionen: ' + role,bold=True, path='',hide=True  )\n",
    "    _role_transctions_widget.container.add(widget=_header)\n",
    "    _role_transctions_widget.append(data=role_transctions)\n",
    "\n",
    "    _hbox = widgets.HBox([_role_widget.output,_role_transctions_widget.output])\n",
    "    display(_hbox)\n",
    "    _role_widget.redisplay()\n",
    "    _role_transctions_widget.redisplay()"
   ]
  },
  {
   "cell_type": "code",
   "execution_count": null,
   "id": "e70799d4-9f45-487f-a3aa-a78302019adc",
   "metadata": {},
   "outputs": [],
   "source": [
    "def get_transactions_by_role(role):\n",
    "    for _role in roleTransactions:\n",
    "        if _role['role'] == role:\n",
    "            return _role['transactions']\n",
    "\n",
    "def update_role_widget(user=None,peer=None,role=None):\n",
    "    _roles = getRoles(peer, user=user)[0]\n",
    "    _role_transactions = get_transactions_by_role(role)\n",
    "    \n",
    "    if isinstance(_roles, str):\n",
    "        _roles=''\n",
    "    \n",
    "    with roleWidget_out:\n",
    "        clear_output()\n",
    "        display_role(_roles, _role_transactions,role,user,peer)\n",
    "\n",
    "def role_widget_selected(x): \n",
    "    if roleWidgetOptions.value == 'Buyer':\n",
    "        update_role_widget(user=buyer,peer=peer_buyer,role=roleWidgetOptions.value)\n",
    "    elif roleWidgetOptions.value == 'Seller':\n",
    "        update_role_widget(user=owner,peer=peer_owner,role=roleWidgetOptions.value)\n",
    "    elif roleWidgetOptions.value == 'TaxInspector':    \n",
    "        update_role_widget(user=taxinspector,peer=peer_taxinspector,role=roleWidgetOptions.value)\n",
    "    elif roleWidgetOptions.value == 'Factor':    \n",
    "        update_role_widget(user=factor,peer=peer_factor,role=roleWidgetOptions.value)                     \n",
    "        \n",
    "\n",
    "roleWidgetOptions = widgets.Dropdown(options=usedRoles)\n",
    "roleWidgetOptions.observe(role_widget_selected, names='value')     \n",
    "roleWidget_out = widgets.Output()"
   ]
  },
  {
   "cell_type": "code",
   "execution_count": null,
   "id": "b78178d6-fa83-44d4-8e5a-ec2a5c644772",
   "metadata": {},
   "outputs": [],
   "source": [
    "display(roleWidgetOptions,roleWidget_out)    "
   ]
  },
  {
   "cell_type": "markdown",
   "id": "7e039c6f-ebf9-494d-af3d-018fcdae7ba7",
   "metadata": {},
   "source": [
    "# Blockchain (Peers, Orderer, Chaincode) und Sharepoint (WebDAV)"
   ]
  },
  {
   "cell_type": "code",
   "execution_count": null,
   "id": "9e9dc282-4c0a-4ef3-9d35-812c049cb87c",
   "metadata": {},
   "outputs": [],
   "source": [
    "cluster_widget = create_cluster_widget()\n",
    "display(cluster_widget)"
   ]
  },
  {
   "cell_type": "markdown",
   "id": "c1b67b14-4e76-41e4-b50b-7b4428ec1e60",
   "metadata": {},
   "source": [
    "# Rechnung aus Github-Repository (Factur-X / Parquet)"
   ]
  },
  {
   "cell_type": "code",
   "execution_count": null,
   "id": "9341f5a5-ad9e-4132-99dd-80a8102d4805",
   "metadata": {},
   "outputs": [],
   "source": [
    "facturx_widgets(data=_invoice,path='/supplyChainTradeTransaction', hideUnused=True, hide=True).output"
   ]
  },
  {
   "cell_type": "markdown",
   "id": "0d444e9c-965f-4da4-814d-1b8da041d6c1",
   "metadata": {},
   "source": [
    "# Adressen"
   ]
  },
  {
   "cell_type": "code",
   "execution_count": null,
   "id": "0cd19d37-a695-47ab-97d8-9f6abc8ee7a1",
   "metadata": {},
   "outputs": [],
   "source": [
    "create_address_widget(_invoice)"
   ]
  },
  {
   "cell_type": "markdown",
   "id": "c3243806-33a3-408e-80fe-12d50ca63702",
   "metadata": {},
   "source": [
    "# Rollen (werden in Blockchain gespeichert und sind änderbar)"
   ]
  },
  {
   "cell_type": "code",
   "execution_count": null,
   "id": "b0891dfa-804f-4c1e-9cf6-f63f118f2fc7",
   "metadata": {},
   "outputs": [],
   "source": [
    "display(roleWidgetOptions,roleWidget_out)    "
   ]
  },
  {
   "cell_type": "markdown",
   "id": "e164fa85-d37d-485f-9398-3215f5f5e216",
   "metadata": {},
   "source": [
    "# Invoice Widget"
   ]
  },
  {
   "cell_type": "code",
   "execution_count": 178,
   "id": "86101156-2a5a-4361-b426-1ff5add151e3",
   "metadata": {},
   "outputs": [
    {
     "data": {
      "application/vnd.jupyter.widget-view+json": {
       "model_id": "0c232ff0d0be4499af64548d069683d5",
       "version_major": 2,
       "version_minor": 0
      },
      "text/plain": [
       "HBox(children=(Output(), VBox(children=(Dropdown(options=('TaxInspector', 'Factor', 'Seller', 'Buyer'), value=…"
      ]
     },
     "metadata": {},
     "output_type": "display_data"
    }
   ],
   "source": [
    " asset = _user.smart_contract.listInvoice('asset14')[0]\n",
    "_widget = create_invoice_widget(asset)\n",
    "asset_selected('')"
   ]
  },
  {
   "cell_type": "code",
   "execution_count": 158,
   "id": "ab13903e-1842-4cb4-b851-fa86cd760d83",
   "metadata": {},
   "outputs": [
    {
     "data": {
      "application/vnd.jupyter.widget-view+json": {
       "model_id": "01f77a89b1f9476aaef38f142ba12a39",
       "version_major": 2,
       "version_minor": 0
      },
      "text/plain": [
       "Output(outputs=({'name': 'stderr', 'text': '\\x1b[34m2022-03-02 15:47:49.480 UTC [channelCmd] InitCmdFactory ->…"
      ]
     },
     "metadata": {},
     "output_type": "display_data"
    }
   ],
   "source": [
    "_out"
   ]
  },
  {
   "cell_type": "code",
   "execution_count": 155,
   "id": "d0db6bb1-ba73-40c3-ae12-e22d782329d1",
   "metadata": {},
   "outputs": [
    {
     "name": "stderr",
     "output_type": "stream",
     "text": [
      "\u001b[34m2022-03-02 15:41:53.855 UTC [channelCmd] InitCmdFactory -> INFO 001\u001b[0m Endorser and orderer connections initialized\n",
      "\u001b[34m2022-03-02 15:41:53.858 UTC [cli.common] readBlock -> INFO 002\u001b[0m Received block: 67\n",
      "\u001b[34m2022-03-02 15:41:53.890 UTC [common.tools.configtxgen] main -> INFO 001\u001b[0m Loading configuration\n",
      "\u001b[34m2022-03-02 15:41:53.890 UTC [common.tools.configtxgen] doInspectBlock -> INFO 002\u001b[0m Inspecting block\n",
      "\u001b[34m2022-03-02 15:41:53.890 UTC [common.tools.configtxgen] doInspectBlock -> INFO 003\u001b[0m Parsing genesis block\n",
      "  % Total    % Received % Xferd  Average Speed   Time    Time     Time  Current\n",
      "                                 Dload  Upload   Total   Spent    Left  Speed\n",
      "100   230  100   230    0     0  32857      0 --:--:-- --:--:-- --:--:-- 32857\n",
      "  % Total    % Received % Xferd  Average Speed   Time    Time     Time  Current\n",
      "                                 Dload  Upload   Total   Spent    Left  Speed\n",
      "100   242  100   242    0     0  80666      0 --:--:-- --:--:-- --:--:-- 80666\n",
      "  % Total    % Received % Xferd  Average Speed   Time    Time     Time  Current\n",
      "                                 Dload  Upload   Total   Spent    Left  Speed\n",
      "  0     0    0     0    0     0      0      0 --:--:-- --:--:-- --:--:--     0\n",
      "  % Total    % Received % Xferd  Average Speed   Time    Time     Time  Current\n",
      "                                 Dload  Upload   Total   Spent    Left  Speed\n",
      "100  9222  100   223  100  8999  31857  1255k --:--:-- --:--:-- --:--:-- 1286k\n"
     ]
    }
   ],
   "source": [
    "_block_btn_reload_clicked('')"
   ]
  },
  {
   "cell_type": "code",
   "execution_count": 127,
   "id": "d095f4b2-3568-4f28-acfa-91accd89367d",
   "metadata": {},
   "outputs": [
    {
     "data": {
      "application/vnd.jupyter.widget-view+json": {
       "model_id": "5422fb7558a14c999f2b180a2bdf76ae",
       "version_major": 2,
       "version_minor": 0
      },
      "text/plain": [
       "Output()"
      ]
     },
     "metadata": {},
     "output_type": "display_data"
    }
   ],
   "source": [
    "\n",
    "asset = _user.smart_contract.listInvoice(id)[0]\n",
    "asset\n",
    "_user.smart_contract.listInvoice(id)[1]"
   ]
  },
  {
   "cell_type": "code",
   "execution_count": 133,
   "id": "71f6f0fd-9ca9-49d6-b4f7-644c8c301320",
   "metadata": {},
   "outputs": [],
   "source": [
    "_cn = get_cert_cn(_user.smart_contract.getRoles()[0]['taxInspector'])\n",
    "asset=_blockchain.getUser(_cn).smart_contract.listInvoice(id)[0]"
   ]
  },
  {
   "cell_type": "code",
   "execution_count": 152,
   "id": "6ef08251-786e-4ec7-bea3-4e9cf6b14b40",
   "metadata": {},
   "outputs": [
    {
     "data": {
      "text/plain": [
       "67"
      ]
     },
     "execution_count": 152,
     "metadata": {},
     "output_type": "execute_result"
    }
   ],
   "source": [
    "Block(peer=_blockchain.peers['aubonmoulin'],channel_name=_blockchain.channel_name,sharepoint=SharePoint()).get_height()"
   ]
  },
  {
   "cell_type": "code",
   "execution_count": 175,
   "id": "d78c9231-5bc5-42f0-a291-4b7cb7b68403",
   "metadata": {},
   "outputs": [
    {
     "data": {
      "text/plain": [
       "['TaxReceived', 'asset6']"
      ]
     },
     "execution_count": 175,
     "metadata": {},
     "output_type": "execute_result"
    }
   ],
   "source": [
    "Block(peer=_blockchain.peers['aubonmoulin'],channel_name=_blockchain.channel_name,sharepoint=SharePoint()).decode_block_transaction(block = _block2)"
   ]
  },
  {
   "cell_type": "code",
   "execution_count": 173,
   "id": "2f8e4038-c5cb-442e-a332-37400f259718",
   "metadata": {},
   "outputs": [
    {
     "data": {
      "text/plain": [
       "['TaxReceived', 'asset6']"
      ]
     },
     "execution_count": 173,
     "metadata": {},
     "output_type": "execute_result"
    }
   ],
   "source": [
    "_block=Block(peer=_blockchain.peers['aubonmoulin'],channel_name=_blockchain.channel_name,sharepoint=SharePoint()).getBlockFromShare()\n",
    "Block(peer=_blockchain.peers['aubonmoulin'],channel_name=_blockchain.channel_name,sharepoint=SharePoint()).decode_block_transaction(block=_block)"
   ]
  },
  {
   "cell_type": "code",
   "execution_count": 322,
   "id": "c890f275-2c29-4332-b074-e4f8db35866e",
   "metadata": {},
   "outputs": [
    {
     "data": {
      "text/plain": [
       "{'ID': 'asset6',\n",
       " 'owner': 'x509::CN=Emma.Steiner@austriafactor.at,OU=admin,O=kubernetes.research.dev.seeburger.de::CN=ca.austriafactor.at,O=austriafactor.at,L=Graz,ST=Steiermark,C=AT',\n",
       " 'buyer': 'x509::CN=Alexandre.Payet@majolieboutique.net,OU=admin,O=kubernetes.research.dev.seeburger.de::CN=ca.aubonmoulin.fr,O=aubonmoulin.fr,L=Malaucene,ST=Provence-Alpes-Cote,C=FR',\n",
       " 'hash': -6366548217084274917,\n",
       " 'invoiceNumber': 'FA-2017-0010',\n",
       " 'tax': 46.25,\n",
       " 'netto': 624.9,\n",
       " 'countryOrigin': 'FR',\n",
       " 'countryBuyer': 'FR',\n",
       " 'status': '',\n",
       " 'received': True,\n",
       " 'receivedOrder': True,\n",
       " 'sold': True,\n",
       " 'claimPaid': True,\n",
       " 'claimPaidBy': '',\n",
       " 'taxExemptionReason': '',\n",
       " 'taxReceived': True}"
      ]
     },
     "execution_count": 322,
     "metadata": {},
     "output_type": "execute_result"
    }
   ],
   "source": [
    "#_cn = get_cert_cn(asset['owner'])\n",
    "#asset\n",
    "#get_height()\n",
    "#_out\n",
    "\n",
    "#Block(peer=_blockchain.peers['aubonmoulin'],channel_name=_blockchain.channel_name,sharepoint=SharePoint()).uploadBlockToShare()\n",
    "_block=Block(peer=_blockchain.peers['aubonmoulin'],channel_name=_blockchain.channel_name,sharepoint=SharePoint()).getBlockFromShare()\n",
    "Block(peer=_blockchain.peers['aubonmoulin'],channel_name=_blockchain.channel_name,sharepoint=SharePoint()).decode_block_transaction(block = _block)\n",
    "Block(peer=_blockchain.peers['aubonmoulin'],channel_name=_blockchain.channel_name,sharepoint=SharePoint()).decode_block_data(block = _block)"
   ]
  },
  {
   "cell_type": "code",
   "execution_count": 117,
   "id": "2ef770bb-d892-4a2d-a4ed-7eab103a34ec",
   "metadata": {},
   "outputs": [
    {
     "data": {
      "text/plain": [
       "['ReceivedPayment', 'asset6', '']"
      ]
     },
     "execution_count": 117,
     "metadata": {},
     "output_type": "execute_result"
    }
   ],
   "source": [
    "Block(peer=_blockchain.peers['aubonmoulin'],channel_name=_blockchain.channel_name,sharepoint=SharePoint()).decode_block_data(block = _block)\n",
    "\n",
    "Block(peer=_blockchain.peers['aubonmoulin'],channel_name=_blockchain.channel_name,sharepoint=SharePoint()).decode_block_transaction(block = _block)"
   ]
  },
  {
   "cell_type": "code",
   "execution_count": 80,
   "id": "9e9796d6-892b-4db5-89d6-51ced31ba248",
   "metadata": {},
   "outputs": [
    {
     "data": {
      "text/plain": [
       "{'aubonmoulin': <ipynb.fs.full.blockchain.KubernetesPeer at 0x7f4590a4bf40>,\n",
       " 'lyon-impots': <ipynb.fs.full.blockchain.KubernetesPeer at 0x7f4590a4bdc0>,\n",
       " 'austriafactor': <ipynb.fs.full.blockchain.KubernetesPeer at 0x7f4590af6850>,\n",
       " 'megustaolive': <ipynb.fs.full.blockchain.KubernetesPeer at 0x7f4590af68e0>}"
      ]
     },
     "execution_count": 80,
     "metadata": {},
     "output_type": "execute_result"
    }
   ],
   "source": [
    "_blockchain.peers"
   ]
  },
  {
   "cell_type": "code",
   "execution_count": null,
   "id": "a302eee9-f2f1-402a-8293-5c4092fb2e18",
   "metadata": {},
   "outputs": [],
   "source": [
    "height=get_height()\n",
    "_block_text.value = str(height)\n",
    "uploadBlockToShare(height-1)    \n",
    "_block = getBlockFromShare(height-1)\n",
    "_invoice = decode_block_invoice(_block)\n",
    "_transaction = decode_block_transaction(_block)\n",
    "with _block_out:\n",
    "    clear_output()  \n",
    "    facturx_widgets(_transaction,'/', hideUnused=True, hide=False).output"
   ]
  },
  {
   "cell_type": "code",
   "execution_count": null,
   "id": "30f9843d-fb4f-41f3-aa22-1a8991d8790c",
   "metadata": {},
   "outputs": [],
   "source": [
    "_transaction, _invoice"
   ]
  },
  {
   "cell_type": "code",
   "execution_count": null,
   "id": "cdb519f5-1732-449a-b3ae-53348cbe0f06",
   "metadata": {},
   "outputs": [],
   "source": [
    "with _block_out:\n",
    "    clear_output()  \n",
    "\n",
    "height=get_height()\n",
    "_block_text.value = str(height)    "
   ]
  }
 ],
 "metadata": {
  "kernelspec": {
   "display_name": "Python 3 (ipykernel)",
   "language": "python",
   "name": "python3"
  },
  "language_info": {
   "codemirror_mode": {
    "name": "ipython",
    "version": 3
   },
   "file_extension": ".py",
   "mimetype": "text/x-python",
   "name": "python",
   "nbconvert_exporter": "python",
   "pygments_lexer": "ipython3",
   "version": "3.9.5"
  }
 },
 "nbformat": 4,
 "nbformat_minor": 5
}
