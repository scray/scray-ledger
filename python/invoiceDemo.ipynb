{
 "cells": [
  {
   "cell_type": "code",
   "execution_count": 1,
   "id": "b4b6704c-e18e-44df-91c0-72178034d70b",
   "metadata": {},
   "outputs": [],
   "source": [
    "import ipywidgets as widgets\n",
    "_out = widgets.Output()\n",
    "with _out:\n",
    "    from ipynb.fs.full.invoiceDemoLibrary import *"
   ]
  },
  {
   "cell_type": "code",
   "execution_count": 2,
   "id": "feb3c95e-ddf0-4a33-bdc6-7837853b0065",
   "metadata": {},
   "outputs": [],
   "source": [
    "assets = listInvoices(shop_owner_peer, user=shop_owner)[0]\n",
    "_keys = calc_keys(assets)"
   ]
  },
  {
   "cell_type": "markdown",
   "id": "095c9760-59e3-425d-9953-f0006bf3646e",
   "metadata": {},
   "source": [
    "# Demo Functions"
   ]
  },
  {
   "cell_type": "code",
   "execution_count": 3,
   "id": "2fc6c065-1478-4a5c-bb6e-d9623c991999",
   "metadata": {},
   "outputs": [],
   "source": [
    "def get_cert_cn(cert):\n",
    "    return cert.split(',')[0].split('=')[1]\n",
    "    #return cert.split('=')[1].split('@')[0]\n",
    "\n",
    "def get_person_names_with_role(role,roles):\n",
    "    result = []\n",
    "    for person in roles:\n",
    "        if role in person['roles']:\n",
    "            #result.append(get_cert_cn(person['name']))\n",
    "            result.append(person['name'])\n",
    "    return result        \n",
    "        \n",
    "def get_person_certs_with_role(role,roles):\n",
    "    result = []\n",
    "    for person in roles:\n",
    "        if role in person['roles']:\n",
    "            result.append(person['name'])\n",
    "    return result                     "
   ]
  },
  {
   "cell_type": "code",
   "execution_count": 4,
   "id": "640cd9c8-8018-43f6-8be7-c3f44acf83e4",
   "metadata": {},
   "outputs": [],
   "source": [
    "def get_current_user_with_role(rolename):    \n",
    "    if rolename == 'Buyer':\n",
    "        return buyer\n",
    "    elif  rolename == 'Seller':   \n",
    "        return owner\n",
    "    elif  rolename == 'Factor':   \n",
    "        return factor\n",
    "    elif  rolename == 'TaxInspector':    \n",
    "        return taxinspector\n",
    "    \n",
    "def get_current_peer_with_role(rolename):    \n",
    "    if rolename == 'Buyer':\n",
    "        return peer_buyer\n",
    "    elif  rolename == 'Seller':   \n",
    "        return peer_owner\n",
    "    elif  rolename == 'Factor':   \n",
    "        return peer_factor\n",
    "    elif  rolename == 'TaxInspector':    \n",
    "        return peer_taxinspector    \n",
    "\n",
    "def disable_all_fields():\n",
    "    for key,value in _widget.container.fields.items():\n",
    "        value.widget.disabled=True\n",
    "        \n",
    "def enable_fields_for_role(rolename):\n",
    "    disable_all_fields()\n",
    "    if rolename == 'Buyer':\n",
    "        _widget.container.fields['received'].widget.disabled=False\n",
    "        _widget.container.fields['receivedOrder'].widget.disabled=False\n",
    "\n",
    "    elif  rolename == 'Seller':   \n",
    "        _widget.container.fields['sold'].widget.disabled=False\n",
    "        _widget.container.fields['claimPaid'].widget.disabled=False\n",
    "        _widget.container.fields['claimPaidBy'].widget.disabled=False\n",
    "        _widget.container.fields['owner'].widget.disabled=False\n",
    "        \n",
    "    elif  rolename == 'Factor':   \n",
    "        #_widget.container.fields['sold'].widget.disabled=False\n",
    "        _widget.container.fields['claimPaid'].widget.disabled=False\n",
    "        _widget.container.fields['claimPaidBy'].widget.disabled=False\n",
    "        #_widget.container.fields['owner'].widget.disabled=False\n",
    "                \n",
    "    elif  rolename == 'TaxInspector':    \n",
    "        _widget.container.fields['taxReceived'].widget.disabled=False       "
   ]
  },
  {
   "cell_type": "code",
   "execution_count": 5,
   "id": "78845e92-e68e-47ed-bef7-81ab6806923e",
   "metadata": {},
   "outputs": [],
   "source": [
    "def create_dropdown_owner(_widget):\n",
    "    _certs=[_widget.container.fields['owner'].widget.value]\n",
    "    _certs = _certs + get_person_certs_with_role('Factor',roles)\n",
    "    return widgets.Dropdown(options=_certs, value = _certs[0], description=\"owner\", style=style, layout=layout)\n",
    "\n",
    "def replace_owner_field_by_dropdown(_widget):\n",
    "    _owners = create_dropdown_owner(_widget)\n",
    "    _widget.container.fields['owner'] = Field(widget=_owners,path=_widget.container.fields['owner'].path)\n",
    "    _widget.redisplay()"
   ]
  },
  {
   "cell_type": "markdown",
   "id": "4586dd9a-5498-4d18-bea9-2bbee314881c",
   "metadata": {},
   "source": [
    "### role buyer"
   ]
  },
  {
   "cell_type": "code",
   "execution_count": 6,
   "id": "149bf8a8-7b42-495d-9153-acc1d69c49c3",
   "metadata": {},
   "outputs": [],
   "source": [
    "def init_fields_buyer(user=None,peer=None):\n",
    "    #peer=get_peer_of_user(user)\n",
    "\n",
    "    def received_changed(b):\n",
    "        if b['name'] == 'value':\n",
    "            receivedInvoice(peer, id=id, user=user)[1]\n",
    "\n",
    "    def receivedOrder_changed(b):\n",
    "        if b['name'] == 'value':\n",
    "            receivedOrder(peer, id=id, user=user)[1]    \n",
    "\n",
    "    _widget.container.fields['received'].widget.observe(received_changed)\n",
    "    _widget.container.fields['receivedOrder'].widget.observe(receivedOrder_changed)\n",
    "    enable_fields_for_role('Buyer')"
   ]
  },
  {
   "cell_type": "markdown",
   "id": "e284b900-c3b8-49a7-b03d-f2cb154154b2",
   "metadata": {
    "tags": []
   },
   "source": [
    "### role owner / seller"
   ]
  },
  {
   "cell_type": "code",
   "execution_count": 7,
   "id": "e1a1c2cd-b32b-4a7b-814d-6e69512234e0",
   "metadata": {},
   "outputs": [],
   "source": [
    "def init_fields_seller(user=None,peer=None):\n",
    "    #peer=get_peer_of_user(user)\n",
    "    \n",
    "    def sold_changed(b):\n",
    "        if b['name'] == 'value':\n",
    "            name=_widget.container.fields['owner'].widget.value\n",
    "            transferInvoice(peer, id=id,name=name, user=user)[1]\n",
    "\n",
    "    def claimPaid_changed(b):\n",
    "        if b['name'] == 'value':\n",
    "            receivedPayment(peer, id=id, payer= _widget.container.fields['claimPaidBy'].widget.value, user=user)\n",
    "\n",
    "    enable_fields_for_role('Seller')    \n",
    "    _widget.container.fields['sold'].widget.observe(sold_changed)\n",
    "    _widget.container.fields['claimPaid'].widget.observe(claimPaid_changed)   \n",
    "    replace_owner_field_by_dropdown(_widget)"
   ]
  },
  {
   "cell_type": "markdown",
   "id": "8adceebf-80f9-4299-9c2b-42ef5751b335",
   "metadata": {
    "tags": []
   },
   "source": [
    "### role factor (owner)"
   ]
  },
  {
   "cell_type": "code",
   "execution_count": 8,
   "id": "78fb397e-7456-4c4c-b032-93f8f8d0651b",
   "metadata": {},
   "outputs": [],
   "source": [
    "def init_fields_factor(user=None,peer=None):\n",
    "    #peer=get_peer_of_user(user)\n",
    "    \n",
    "    def claimPaid_changed(b):\n",
    "        if b['name'] == 'value':  \n",
    "            receivedPayment(peer, id=id, payer= _widget.container.fields['claimPaidBy'].widget.value, user=user)\n",
    "\n",
    "    enable_fields_for_role('Factor')    \n",
    "    _widget.container.fields['claimPaid'].widget.observe(claimPaid_changed)   "
   ]
  },
  {
   "cell_type": "markdown",
   "id": "7a95c276-adfc-46d6-a010-d9c3678f4ad5",
   "metadata": {
    "tags": []
   },
   "source": [
    "### role tax inspector"
   ]
  },
  {
   "cell_type": "code",
   "execution_count": 9,
   "id": "565a115e-d987-43ce-91fb-0d4ff2612818",
   "metadata": {},
   "outputs": [],
   "source": [
    "def init_fields_taxinspector(user=None,peer=None):\n",
    "    #peer=get_peer_of_user(user)\n",
    "\n",
    "    def taxReceived_changed(b):\n",
    "        if b['name'] == 'value':\n",
    "            taxReceived(peer, id=id, user=user)\n",
    "\n",
    "    _widget.container.fields['taxReceived'].widget.observe(taxReceived_changed)\n",
    "    enable_fields_for_role('TaxInspector')"
   ]
  },
  {
   "cell_type": "code",
   "execution_count": 10,
   "id": "76a3994b-9777-4cf0-a89e-20d9d2aaecbd",
   "metadata": {},
   "outputs": [],
   "source": [
    "import base64\n",
    "\n",
    "def get_height():\n",
    "    global _out\n",
    "    _out = widgets.Output()\n",
    "    with _out:\n",
    "        strlist = ['/mnt/conf/peer/block-operator.sh', 'info', '--channel', channel_name]\n",
    "        cmd = toCmd(strlist)\n",
    "        print(cmd)\n",
    "        output = executePeerCmd(peers[peernames[0]].pod_name,  cmd)\n",
    "        return json.loads(output)['height']\n",
    "\n",
    "def uploadBlockToShare(id):\n",
    "    strlist = ['/mnt/conf/peer/block-operator.sh fetch', '--channel', channel_name, '--block', str(id),'--publish', shared_fs_host]\n",
    "    cmd = toCmd(strlist)\n",
    "    output = executePeerCmd(peers[peernames[0]].pod_name,  cmd)\n",
    "    \n",
    "def getBlockFromShare(id):\n",
    "    filename = 'invoicing-block-' + str(id) + '.block.json'\n",
    "    downloadToLocal(host='10.15.136.41:30080',user='scray', pwd='scray', local_path='/tmp/',local_name=filename, remote_path='blocks/invoicing')\n",
    "    output = subprocess.check_output(['cat', '/tmp/' + filename])\n",
    "    return json.loads(output.decode('ascii'))           \n",
    "    \n",
    "def decode_block_invoice(block):\n",
    "    _transaction = block['data']['data'][0]['payload']['data']['actions'][0]['payload']['action']['proposal_response_payload']['extension']['results']['ns_rwset'][1]['rwset']['writes'][0]\n",
    "    if _transaction['value'] != None:\n",
    "        return json.loads(base64.b64decode(_transaction['value']).decode(\"utf-8\"))\n",
    "    \n",
    "def decode_block_transaction(block):\n",
    "    _transaction = _block['data']['data'][0]['payload']['data']['actions'][0]['payload']['chaincode_proposal_payload']['input']['chaincode_spec']['input']['args']\n",
    "    result = []\n",
    "    for arg in _transaction:\n",
    "        result.append(base64.b64decode(arg).decode(\"utf-8\"))\n",
    "    return result        \n",
    "\n",
    "def get_transaction():\n",
    "    with widgets.Output():\n",
    "        height=get_height()\n",
    "        uploadBlockToShare(height-1)    \n",
    "        _block = getBlockFromShare(height-1)\n",
    "        _invoice = decode_block_invoice(_block)\n",
    "        _transaction = decode_block_transaction(_block)\n",
    "        return _transaction,_invoice"
   ]
  },
  {
   "cell_type": "code",
   "execution_count": 11,
   "id": "09c642fb-9eb4-49c8-acf0-59e619748449",
   "metadata": {},
   "outputs": [
    {
     "name": "stdout",
     "output_type": "stream",
     "text": [
      "/home/jovyan/work/usr/bin/kubectl exec -t aubonmoulin-67b4649968-jlskd -c scray-peer-cli -- /bin/sh -c /mnt/conf/peer/block-operator.sh fetch --channel invoicing --block 338 --publish 10.14.128.38:30080\n"
     ]
    },
    {
     "name": "stderr",
     "output_type": "stream",
     "text": [
      "\u001b[34m2021-12-13 14:14:27.092 UTC [channelCmd] InitCmdFactory -> INFO 001\u001b[0m Endorser and orderer connections initialized\n",
      "\u001b[34m2021-12-13 14:14:27.106 UTC [cli.common] readBlock -> INFO 002\u001b[0m Received block: 338\n",
      "\u001b[34m2021-12-13 14:14:27.315 UTC [common.tools.configtxgen] main -> INFO 001\u001b[0m Loading configuration\n",
      "\u001b[34m2021-12-13 14:14:27.316 UTC [common.tools.configtxgen] doInspectBlock -> INFO 002\u001b[0m Inspecting block\n",
      "\u001b[34m2021-12-13 14:14:27.317 UTC [common.tools.configtxgen] doInspectBlock -> INFO 003\u001b[0m Parsing genesis block\n",
      "  % Total    % Received % Xferd  Average Speed   Time    Time     Time  Current\n",
      "                                 Dload  Upload   Total   Spent    Left  Speed\n",
      "100   230  100   230    0     0  17692      0 --:--:-- --:--:-- --:--:-- 17692\n",
      "  % Total    % Received % Xferd  Average Speed   Time    Time     Time  Current\n",
      "                                 Dload  Upload   Total   Spent    Left  Speed\n",
      "100   240  100   240    0     0  26666      0 --:--:-- --:--:-- --:--:-- 30000\n",
      "  % Total    % Received % Xferd  Average Speed   Time    Time     Time  Current\n",
      "                                 Dload  Upload   Total   Spent    Left  Speed\n",
      "100   245  100   245    0     0  81666      0 --:--:-- --:--:-- --:--:-- 81666\n",
      "  % Total    % Received % Xferd  Average Speed   Time    Time     Time  Current\n",
      "                                 Dload  Upload   Total   Spent    Left  Speed\n",
      "100 10568  100   220  100 10348  44000  2021k --:--:-- --:--:-- --:--:-- 2064k\n",
      "  % Total    % Received % Xferd  Average Speed   Time    Time     Time  Current\n",
      "                                 Dload  Upload   Total   Spent    Left  Speed\n",
      "100 10348  100 10348    0     0  2277k      0 --:--:-- --:--:-- --:--:-- 2526k\n"
     ]
    }
   ],
   "source": [
    "#get_transaction()\n",
    "height=get_height()\n",
    "uploadBlockToShare(height-1)    \n",
    "_block = getBlockFromShare(height-1)\n",
    "_invoice = decode_block_invoice(_block)\n",
    "_transaction = decode_block_transaction(_block)"
   ]
  },
  {
   "cell_type": "code",
   "execution_count": 12,
   "id": "ac12a232-34c0-4bc2-b789-1801b1cb1e96",
   "metadata": {},
   "outputs": [
    {
     "data": {
      "text/plain": [
       "['CreateInvoice',\n",
       " 'asset17',\n",
       " 'x509::CN=Tony.Dubois@aubonmoulin.fr,OU=admin,O=kubernetes.research.dev.seeburger.de::CN=ca.aubonmoulin.kubernetes.research.dev.seeburger.de,O=aubonmoulin.kubernetes.research.dev.seeburger.de,L=Bretten,ST=Baden,C=DE',\n",
       " 'x509::CN=Alexandre.Payet@majolieboutique.net,OU=admin,O=kubernetes.research.dev.seeburger.de::CN=ca.aubonmoulin.kubernetes.research.dev.seeburger.de,O=aubonmoulin.kubernetes.research.dev.seeburger.de,L=Bretten,ST=Baden,C=DE',\n",
       " '8418839290363969781',\n",
       " 'AV-2017-0005',\n",
       " '-14.99',\n",
       " '-218.48',\n",
       " 'FR',\n",
       " 'FR',\n",
       " '',\n",
       " 'False',\n",
       " 'False',\n",
       " 'False',\n",
       " 'False',\n",
       " '',\n",
       " '',\n",
       " 'False']"
      ]
     },
     "execution_count": 12,
     "metadata": {},
     "output_type": "execute_result"
    }
   ],
   "source": [
    "_transaction\n",
    "#get_transaction()"
   ]
  },
  {
   "cell_type": "markdown",
   "id": "077b609d-cb5f-48a9-aacd-5e5e05eb2dcf",
   "metadata": {},
   "source": [
    "### Widgets"
   ]
  },
  {
   "cell_type": "code",
   "execution_count": 13,
   "id": "e01eb5f8-8e69-40c3-b5af-b5ed3d410f7c",
   "metadata": {},
   "outputs": [],
   "source": [
    "#invoice widget\n",
    "\n",
    "#def asset_selected(x): \n",
    "#    global asset\n",
    "#    asset = listInvoice(shop_owner_peer, id=assetOptions.value, user=shop_owner)[0]\n",
    "    \n",
    "#assetOptions = widgets.Dropdown(options=_keys)\n",
    "#assetOptions.observe(asset_selected, names='value')\n",
    "\n",
    "def widget_load_asset(widget,asset):\n",
    "    widget.output.clear_output()\n",
    "    widget.container = FieldContainer()\n",
    "    with widget.output:\n",
    "        widget.addChilds(asset,'/', hideUnused=True)\n",
    "\n",
    "def reload_clicked(i):\n",
    "    global buyer,peer_buyer\n",
    "    global asset\n",
    "    \n",
    "    \n",
    "    user = get_current_user_with_role(roleOptions.value)\n",
    "    peer = get_current_peer_with_role(roleOptions.value)\n",
    "    #print(user)\n",
    "    #asset = listInvoice(shop_owner_peer, id, user=shop_owner)[0]\n",
    "    asset = listInvoice(peer, id, user=user)[0]\n",
    "    #print(asset['buyer'])\n",
    "    with _out:\n",
    "        buyer=get_cert_cn(asset['buyer'])\n",
    "        peer_buyer=get_peer_of_user(buyer)\n",
    "        \n",
    "    widget_load_asset(_widget,asset)\n",
    "    role_selected('')  \n",
    "\n",
    "def role_selected(x): \n",
    "    if roleOptions.value == 'Buyer':\n",
    "        init_fields_buyer(user=buyer,peer=peer_buyer)\n",
    "    elif roleOptions.value == 'Seller':\n",
    "        init_fields_seller(user=owner,peer=peer_owner)\n",
    "    elif roleOptions.value == 'TaxInspector':    \n",
    "        init_fields_taxinspector(user=taxinspector,peer=peer_taxinspector)\n",
    "    elif roleOptions.value == 'Factor':    \n",
    "        init_fields_factor(user=factor,peer=peer_factor)\n",
    "\n",
    "def asset_selected(x): \n",
    "    global id\n",
    "    id=assetOptions.value\n",
    "    #asset = listInvoice(shop_owner_peer, id=assetOptions.value, user=shop_owner)[0]\n",
    "    #roleOptions.value == 'Seller'\n",
    "    reload_clicked('')\n",
    "    \n",
    "    \n",
    "def _block_btn_reload_clicked(i):    \n",
    "    height=get_height()\n",
    "    _block_text.value = str(height)\n",
    "    with _block_out:\n",
    "        clear_output()  \n",
    "        uploadBlockToShare(height-1)    \n",
    "        _block = getBlockFromShare(height-1)\n",
    "        _invoice = decode_block_invoice(_block)\n",
    "        _transaction = decode_block_transaction(_block)\n",
    "        _t = get_transaction()[0]\n",
    "        clear_output()  \n",
    "        facturx_widgets(_t,'/', hideUnused=True, hide=False).output\n",
    "        \n",
    "def create_invoice_widget():    \n",
    "    #global _widget\n",
    "\n",
    "\n",
    "    _widget = facturx_widgets(asset,'/', hideUnused=True, hide=True) \n",
    "    \n",
    "    #display(_widget)\n",
    "\n",
    "    HBox = widgets.HBox([_widget.output, options,assetOptions,block_explorer]) \n",
    "    display(HBox)\n",
    "\n",
    "    assetOptions.value='asset14'\n",
    "    \n",
    "    return _widget\n",
    "\n",
    "roleOptions = widgets.Dropdown(options=usedRoles)\n",
    "#roleOptions.observe(role_selected, names='value')\n",
    "roleOptions.observe(reload_clicked, names='value')\n",
    "        \n",
    "btn = widgets.Button(description=f'From Blockchain', disabled=False,button_style='success', icon='check')    \n",
    "btn.on_click(reload_clicked)\n",
    "#display (btn)\n",
    "\n",
    "assetOptions = widgets.Dropdown(options=_keys)\n",
    "assetOptions.observe(asset_selected, names='value')\n",
    "options = widgets.VBox([roleOptions,btn])\n",
    "\n",
    "_block_btn = widgets.Button(description=f'Explore Block', disabled=False,button_style='success', icon='check')    \n",
    "_block_btn.on_click(_block_btn_reload_clicked)\n",
    "_block_text = widgets.Text(description = 'height', style=style, layout=layout)\n",
    "_block_out = widgets.Output()\n",
    "\n",
    "block_explorer = widgets.VBox([_block_btn,_block_text,_block_out])"
   ]
  },
  {
   "cell_type": "code",
   "execution_count": 14,
   "id": "0f1276da-fb1f-4105-b9ba-66c62136cdb2",
   "metadata": {},
   "outputs": [],
   "source": [
    "_invoice = invoices.iloc[14]"
   ]
  },
  {
   "cell_type": "code",
   "execution_count": 47,
   "id": "1016c262-dd06-47c3-abe2-826aa4a0757f",
   "metadata": {},
   "outputs": [
    {
     "data": {
      "application/vnd.jupyter.widget-view+json": {
       "model_id": "274235f064f047db983164bfb779f563",
       "version_major": 2,
       "version_minor": 0
      },
      "text/plain": [
       "HBox(children=(VBox(children=(Output(), Output(), Output(), Output())), Output()))"
      ]
     },
     "metadata": {},
     "output_type": "display_data"
    }
   ],
   "source": [
    "_peer_pods = create_pod_widget(_invoice)\n",
    "_orderer = ordererpeer(name='orderer-org1-scray-org',prefix='orderer').__dict__\n",
    "_orderer_pod = facturx_widgets(_orderer,'/', hideUnused=True, hide=True).output\n",
    "widgets.HBox([_peer_pods, _orderer_pod])"
   ]
  },
  {
   "cell_type": "code",
   "execution_count": 48,
   "id": "d5df7c1e-de67-4300-8512-abbd5830eed7",
   "metadata": {},
   "outputs": [
    {
     "name": "stderr",
     "output_type": "stream",
     "text": [
      "Error from server (NotFound): services \"invoice-net-chaincode-external\" not found\n",
      "Error from server (NotFound): services \"invoice-net-chaincode-external\" not found\n"
     ]
    },
    {
     "data": {
      "text/plain": [
       "{'name': 'invoice-net-chaincode-external',\n",
       " 'pod_name': 'invoice-net-chaincode-external-54cbcd776-nczr6',\n",
       " 'listen_port': 'Command \\'[\\'/home/jovyan/work/usr/bin/kubectl\\', \\'get\\', \\'service\\', \\'invoice-net-chaincode-external\\', \\'-o\\', \\'jsonpath=\"{.spec.ports[?(@.name==\\\\\\'peer-listen\\\\\\')].nodePort}\"\\']\\' returned non-zero exit status 1.',\n",
       " 'gossip_port': 'Command \\'[\\'/home/jovyan/work/usr/bin/kubectl\\', \\'get\\', \\'service\\', \\'invoice-net-chaincode-external\\', \\'-o\\', \\'jsonpath=\"{.spec.ports[?(@.name==\\\\\\'peer-gossip\\\\\\')].nodePort}\"\\']\\' returned non-zero exit status 1.'}"
      ]
     },
     "execution_count": 48,
     "metadata": {},
     "output_type": "execute_result"
    }
   ],
   "source": [
    "kubernetespeer(name='invoice-net-chaincode-external').__dict__"
   ]
  },
  {
   "cell_type": "markdown",
   "id": "c1b67b14-4e76-41e4-b50b-7b4428ec1e60",
   "metadata": {},
   "source": [
    "# Rechnung aus Github-Repository (Factur-X / Parquet)"
   ]
  },
  {
   "cell_type": "code",
   "execution_count": 15,
   "id": "9341f5a5-ad9e-4132-99dd-80a8102d4805",
   "metadata": {},
   "outputs": [
    {
     "data": {
      "application/vnd.jupyter.widget-view+json": {
       "model_id": "ebd28d62931e408589fd18364f5e354f",
       "version_major": 2,
       "version_minor": 0
      },
      "text/plain": [
       "Output()"
      ]
     },
     "metadata": {},
     "output_type": "display_data"
    }
   ],
   "source": [
    "facturx_widgets(_invoice,'/supplyChainTradeTransaction', hideUnused=True, hide=True).output"
   ]
  },
  {
   "cell_type": "markdown",
   "id": "0d444e9c-965f-4da4-814d-1b8da041d6c1",
   "metadata": {},
   "source": [
    "# Adressen"
   ]
  },
  {
   "cell_type": "code",
   "execution_count": 16,
   "id": "0cd19d37-a695-47ab-97d8-9f6abc8ee7a1",
   "metadata": {},
   "outputs": [
    {
     "data": {
      "application/vnd.jupyter.widget-view+json": {
       "model_id": "06ea17ca6666438bbc55f7ec4cc9c043",
       "version_major": 2,
       "version_minor": 0
      },
      "text/plain": [
       "HBox(children=(VBox(children=(Output(), Output())), Output(), Output()))"
      ]
     },
     "metadata": {},
     "output_type": "display_data"
    }
   ],
   "source": [
    "create_address_widget(_invoice)"
   ]
  },
  {
   "cell_type": "markdown",
   "id": "c3243806-33a3-408e-80fe-12d50ca63702",
   "metadata": {},
   "source": [
    "# Rollen (werden in Blockchain gespeichert und sind änderbar)"
   ]
  },
  {
   "cell_type": "code",
   "execution_count": 17,
   "id": "a33dbb59-338d-436a-91df-19a634c7c921",
   "metadata": {},
   "outputs": [
    {
     "data": {
      "application/vnd.jupyter.widget-view+json": {
       "model_id": "9bc50bf55f0a47659368203baa7fe518",
       "version_major": 2,
       "version_minor": 0
      },
      "text/plain": [
       "Output()"
      ]
     },
     "metadata": {},
     "output_type": "display_data"
    },
    {
     "data": {
      "text/plain": [
       "<ipynb.fs.full.facturxWidget.facturx_widgets at 0x7f6fe0f9f6a0>"
      ]
     },
     "execution_count": 17,
     "metadata": {},
     "output_type": "execute_result"
    }
   ],
   "source": [
    "create_role_widget(shop_owner_roles)"
   ]
  },
  {
   "cell_type": "markdown",
   "id": "e164fa85-d37d-485f-9398-3215f5f5e216",
   "metadata": {},
   "source": [
    "# Invoice Widget"
   ]
  },
  {
   "cell_type": "code",
   "execution_count": 23,
   "id": "86101156-2a5a-4361-b426-1ff5add151e3",
   "metadata": {},
   "outputs": [
    {
     "data": {
      "application/vnd.jupyter.widget-view+json": {
       "model_id": "823809e714514f0090b333f7e7f4d92d",
       "version_major": 2,
       "version_minor": 0
      },
      "text/plain": [
       "HBox(children=(Output(), VBox(children=(Dropdown(index=3, options=('TaxInspector', 'Factor', 'Buyer', 'Seller'…"
      ]
     },
     "metadata": {},
     "output_type": "display_data"
    }
   ],
   "source": [
    "_widget = create_invoice_widget()\n",
    "asset_selected('')"
   ]
  },
  {
   "cell_type": "code",
   "execution_count": 34,
   "id": "4afdfd99-603f-4e20-99e2-65cb3a8b40a5",
   "metadata": {},
   "outputs": [
    {
     "data": {
      "text/plain": [
       "Field(widget=Checkbox(value=False, description='sold', layout=Layout(width='500px'), style=DescriptionStyle(description_width='250px')), path='/')"
      ]
     },
     "execution_count": 34,
     "metadata": {},
     "output_type": "execute_result"
    }
   ],
   "source": [
    "_widget.container.fields['sold']"
   ]
  },
  {
   "cell_type": "code",
   "execution_count": 31,
   "id": "a302eee9-f2f1-402a-8293-5c4092fb2e18",
   "metadata": {},
   "outputs": [
    {
     "name": "stdout",
     "output_type": "stream",
     "text": [
      "/home/jovyan/work/usr/bin/kubectl exec -t aubonmoulin-67b4649968-jlskd -c scray-peer-cli -- /bin/sh -c /mnt/conf/peer/block-operator.sh fetch --channel invoicing --block 353 --publish 10.14.128.38:30080\n"
     ]
    },
    {
     "name": "stderr",
     "output_type": "stream",
     "text": [
      "\u001b[34m2021-12-13 14:28:13.823 UTC [channelCmd] InitCmdFactory -> INFO 001\u001b[0m Endorser and orderer connections initialized\n",
      "\u001b[34m2021-12-13 14:28:13.842 UTC [cli.common] readBlock -> INFO 002\u001b[0m Received block: 353\n",
      "\u001b[34m2021-12-13 14:28:13.882 UTC [common.tools.configtxgen] main -> INFO 001\u001b[0m Loading configuration\n",
      "\u001b[34m2021-12-13 14:28:13.882 UTC [common.tools.configtxgen] doInspectBlock -> INFO 002\u001b[0m Inspecting block\n",
      "\u001b[34m2021-12-13 14:28:13.884 UTC [common.tools.configtxgen] doInspectBlock -> INFO 003\u001b[0m Parsing genesis block\n",
      "  % Total    % Received % Xferd  Average Speed   Time    Time     Time  Current\n",
      "                                 Dload  Upload   Total   Spent    Left  Speed\n",
      "100   230  100   230    0     0  13529      0 --:--:-- --:--:-- --:--:-- 13529\n",
      "  % Total    % Received % Xferd  Average Speed   Time    Time     Time  Current\n",
      "                                 Dload  Upload   Total   Spent    Left  Speed\n",
      "100   240  100   240    0     0  24000      0 --:--:-- --:--:-- --:--:-- 24000\n",
      "  % Total    % Received % Xferd  Average Speed   Time    Time     Time  Current\n",
      "                                 Dload  Upload   Total   Spent    Left  Speed\n",
      "100   245  100   245    0     0  40833      0 --:--:-- --:--:-- --:--:-- 49000\n",
      "  % Total    % Received % Xferd  Average Speed   Time    Time     Time  Current\n",
      "                                 Dload  Upload   Total   Spent    Left  Speed\n",
      "100  9709  100   220  100  9489  55000  2316k --:--:-- --:--:-- --:--:-- 2370k\n",
      "  % Total    % Received % Xferd  Average Speed   Time    Time     Time  Current\n",
      "                                 Dload  Upload   Total   Spent    Left  Speed\n",
      "100  9489  100  9489    0     0  2146k      0 --:--:-- --:--:-- --:--:-- 2316k\n"
     ]
    }
   ],
   "source": [
    "height=get_height()\n",
    "_block_text.value = str(height)\n",
    "uploadBlockToShare(height-1)    \n",
    "_block = getBlockFromShare(height-1)\n",
    "_invoice = decode_block_invoice(_block)\n",
    "_transaction = decode_block_transaction(_block)\n",
    "with _block_out:\n",
    "    clear_output()  \n",
    "    facturx_widgets(_transaction,'/', hideUnused=True, hide=False).output"
   ]
  },
  {
   "cell_type": "code",
   "execution_count": null,
   "id": "30f9843d-fb4f-41f3-aa22-1a8991d8790c",
   "metadata": {},
   "outputs": [],
   "source": [
    "_transaction, _invoice"
   ]
  },
  {
   "cell_type": "code",
   "execution_count": null,
   "id": "cdb519f5-1732-449a-b3ae-53348cbe0f06",
   "metadata": {},
   "outputs": [],
   "source": [
    "with _block_out:\n",
    "    clear_output()  \n",
    "\n",
    "height=get_height()\n",
    "_block_text.value = str(height)    "
   ]
  }
 ],
 "metadata": {
  "kernelspec": {
   "display_name": "Python 3 (ipykernel)",
   "language": "python",
   "name": "python3"
  },
  "language_info": {
   "codemirror_mode": {
    "name": "ipython",
    "version": 3
   },
   "file_extension": ".py",
   "mimetype": "text/x-python",
   "name": "python",
   "nbconvert_exporter": "python",
   "pygments_lexer": "ipython3",
   "version": "3.9.5"
  }
 },
 "nbformat": 4,
 "nbformat_minor": 5
}
