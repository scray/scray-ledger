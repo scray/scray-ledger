{
 "cells": [
  {
   "cell_type": "code",
   "execution_count": 1,
   "id": "b4b6704c-e18e-44df-91c0-72178034d70b",
   "metadata": {},
   "outputs": [],
   "source": [
    "import ipywidgets as widgets\n",
    "_out = widgets.Output()\n",
    "with _out:\n",
    "    from ipynb.fs.full.invoiceDemoLibrary import *"
   ]
  },
  {
   "cell_type": "code",
   "execution_count": 2,
   "id": "feb3c95e-ddf0-4a33-bdc6-7837853b0065",
   "metadata": {},
   "outputs": [],
   "source": [
    "assets = listInvoices(shop_owner_peer, user=shop_owner)[0]\n",
    "_keys = calc_keys(assets)"
   ]
  },
  {
   "cell_type": "markdown",
   "id": "095c9760-59e3-425d-9953-f0006bf3646e",
   "metadata": {},
   "source": [
    "# Demo Functions"
   ]
  },
  {
   "cell_type": "code",
   "execution_count": 3,
   "id": "2fc6c065-1478-4a5c-bb6e-d9623c991999",
   "metadata": {},
   "outputs": [],
   "source": [
    "def get_cert_cn(cert):\n",
    "    return cert.split(',')[0].split('=')[1]\n",
    "    #return cert.split('=')[1].split('@')[0]\n",
    "\n",
    "def get_person_names_with_role(role,roles):\n",
    "    result = []\n",
    "    for person in roles:\n",
    "        if role in person['roles']:\n",
    "            #result.append(get_cert_cn(person['name']))\n",
    "            result.append(person['name'])\n",
    "    return result        \n",
    "        \n",
    "def get_person_certs_with_role(role,roles):\n",
    "    result = []\n",
    "    for person in roles:\n",
    "        if role in person['roles']:\n",
    "            result.append(person['name'])\n",
    "    return result                     "
   ]
  },
  {
   "cell_type": "code",
   "execution_count": 4,
   "id": "640cd9c8-8018-43f6-8be7-c3f44acf83e4",
   "metadata": {},
   "outputs": [],
   "source": [
    "def get_current_user_with_role(rolename):    \n",
    "    if rolename == 'Buyer':\n",
    "        return buyer\n",
    "    elif  rolename == 'Seller':   \n",
    "        return owner\n",
    "    elif  rolename == 'Factor':   \n",
    "        return factor\n",
    "    elif  rolename == 'TaxInspector':    \n",
    "        return taxinspector\n",
    "    \n",
    "def get_current_peer_with_role(rolename):    \n",
    "    if rolename == 'Buyer':\n",
    "        return peer_buyer\n",
    "    elif  rolename == 'Seller':   \n",
    "        return peer_owner\n",
    "    elif  rolename == 'Factor':   \n",
    "        return peer_factor\n",
    "    elif  rolename == 'TaxInspector':    \n",
    "        return peer_taxinspector    \n",
    "\n",
    "def disable_all_fields():\n",
    "    for key,value in _widget.container.fields.items():\n",
    "        value.widget.disabled=True\n",
    "        \n",
    "def enable_fields_for_role(rolename):\n",
    "    disable_all_fields()\n",
    "    if rolename == 'Buyer':\n",
    "        _widget.container.fields['received'].widget.disabled=False\n",
    "        _widget.container.fields['receivedOrder'].widget.disabled=False\n",
    "\n",
    "    elif  rolename == 'Seller':   \n",
    "        _widget.container.fields['sold'].widget.disabled=False\n",
    "        _widget.container.fields['claimPaid'].widget.disabled=False\n",
    "        _widget.container.fields['claimPaidBy'].widget.disabled=False\n",
    "        _widget.container.fields['owner'].widget.disabled=False\n",
    "        \n",
    "    elif  rolename == 'Factor':   \n",
    "        #_widget.container.fields['sold'].widget.disabled=False\n",
    "        _widget.container.fields['claimPaid'].widget.disabled=False\n",
    "        _widget.container.fields['claimPaidBy'].widget.disabled=False\n",
    "        #_widget.container.fields['owner'].widget.disabled=False\n",
    "                \n",
    "    elif  rolename == 'TaxInspector':    \n",
    "        _widget.container.fields['taxReceived'].widget.disabled=False       "
   ]
  },
  {
   "cell_type": "code",
   "execution_count": 5,
   "id": "78845e92-e68e-47ed-bef7-81ab6806923e",
   "metadata": {},
   "outputs": [],
   "source": [
    "def create_dropdown_owner(_widget):\n",
    "    _certs=[_widget.container.fields['owner'].widget.value]\n",
    "    _certs = _certs + get_person_certs_with_role('Factor',roles)\n",
    "    return widgets.Dropdown(options=_certs, value = _certs[0], description=\"owner\", style=style, layout=layout)\n",
    "\n",
    "def replace_owner_field_by_dropdown(_widget):\n",
    "    _owners = create_dropdown_owner(_widget)\n",
    "    _widget.container.fields['owner'] = Field(widget=_owners,path=_widget.container.fields['owner'].path)\n",
    "    _widget.redisplay()"
   ]
  },
  {
   "cell_type": "markdown",
   "id": "4586dd9a-5498-4d18-bea9-2bbee314881c",
   "metadata": {},
   "source": [
    "### role buyer"
   ]
  },
  {
   "cell_type": "code",
   "execution_count": 6,
   "id": "149bf8a8-7b42-495d-9153-acc1d69c49c3",
   "metadata": {},
   "outputs": [],
   "source": [
    "def init_fields_buyer(user=None,peer=None):\n",
    "    #peer=get_peer_of_user(user)\n",
    "\n",
    "    def received_changed(b):\n",
    "        if b['name'] == 'value':\n",
    "            receivedInvoice(peer, id=id, user=user)[1]\n",
    "\n",
    "    def receivedOrder_changed(b):\n",
    "        if b['name'] == 'value':\n",
    "            receivedOrder(peer, id=id, user=user)[1]    \n",
    "\n",
    "    _widget.container.fields['received'].widget.observe(received_changed)\n",
    "    _widget.container.fields['receivedOrder'].widget.observe(receivedOrder_changed)\n",
    "    enable_fields_for_role('Buyer')"
   ]
  },
  {
   "cell_type": "markdown",
   "id": "e284b900-c3b8-49a7-b03d-f2cb154154b2",
   "metadata": {
    "tags": []
   },
   "source": [
    "### role owner / seller"
   ]
  },
  {
   "cell_type": "code",
   "execution_count": 7,
   "id": "e1a1c2cd-b32b-4a7b-814d-6e69512234e0",
   "metadata": {},
   "outputs": [],
   "source": [
    "def init_fields_seller(user=None,peer=None):\n",
    "    #peer=get_peer_of_user(user)\n",
    "    \n",
    "    def sold_changed(b):\n",
    "        if b['name'] == 'value':\n",
    "            name=_widget.container.fields['owner'].widget.value\n",
    "            transferInvoice(peer, id=id,name=name, user=user)[1]\n",
    "\n",
    "    def claimPaid_changed(b):\n",
    "        if b['name'] == 'value':\n",
    "            receivedPayment(peer, id=id, payer= _widget.container.fields['claimPaidBy'].widget.value, user=user)\n",
    "\n",
    "    enable_fields_for_role('Seller')    \n",
    "    _widget.container.fields['sold'].widget.observe(sold_changed)\n",
    "    _widget.container.fields['claimPaid'].widget.observe(claimPaid_changed)   \n",
    "    replace_owner_field_by_dropdown(_widget)"
   ]
  },
  {
   "cell_type": "markdown",
   "id": "8adceebf-80f9-4299-9c2b-42ef5751b335",
   "metadata": {
    "tags": []
   },
   "source": [
    "### role factor (owner)"
   ]
  },
  {
   "cell_type": "code",
   "execution_count": 8,
   "id": "78fb397e-7456-4c4c-b032-93f8f8d0651b",
   "metadata": {},
   "outputs": [],
   "source": [
    "def init_fields_factor(user=None,peer=None):\n",
    "    #peer=get_peer_of_user(user)\n",
    "    \n",
    "    def claimPaid_changed(b):\n",
    "        if b['name'] == 'value':  \n",
    "            receivedPayment(peer, id=id, payer= _widget.container.fields['claimPaidBy'].widget.value, user=user)\n",
    "\n",
    "    enable_fields_for_role('Factor')    \n",
    "    _widget.container.fields['claimPaid'].widget.observe(claimPaid_changed)   "
   ]
  },
  {
   "cell_type": "markdown",
   "id": "7a95c276-adfc-46d6-a010-d9c3678f4ad5",
   "metadata": {
    "tags": []
   },
   "source": [
    "### role tax inspector"
   ]
  },
  {
   "cell_type": "code",
   "execution_count": 9,
   "id": "565a115e-d987-43ce-91fb-0d4ff2612818",
   "metadata": {},
   "outputs": [],
   "source": [
    "def init_fields_taxinspector(user=None,peer=None):\n",
    "    #peer=get_peer_of_user(user)\n",
    "\n",
    "    def taxReceived_changed(b):\n",
    "        if b['name'] == 'value':\n",
    "            taxReceived(peer, id=id, user=user)\n",
    "\n",
    "    _widget.container.fields['taxReceived'].widget.observe(taxReceived_changed)\n",
    "    enable_fields_for_role('TaxInspector')"
   ]
  },
  {
   "cell_type": "code",
   "execution_count": 10,
   "id": "76a3994b-9777-4cf0-a89e-20d9d2aaecbd",
   "metadata": {},
   "outputs": [],
   "source": [
    "import base64\n",
    "\n",
    "def get_height():\n",
    "    global _out\n",
    "    _out = widgets.Output()\n",
    "    with _out:\n",
    "        strlist = ['/mnt/conf/peer/block-operator.sh', 'info', '--channel', channel_name]\n",
    "        cmd = toCmd(strlist)\n",
    "        print(cmd)\n",
    "        output = executePeerCmd(peers[peernames[0]].pod_name,  cmd)\n",
    "        return json.loads(output)['height']\n",
    "\n",
    "def uploadBlockToShare(id):\n",
    "    strlist = ['/mnt/conf/peer/block-operator.sh fetch', '--channel', channel_name, '--block', str(id),'--publish', shared_fs_host]\n",
    "    cmd = toCmd(strlist)\n",
    "    output = executePeerCmd(peers[peernames[0]].pod_name,  cmd)\n",
    "    \n",
    "def getBlockFromShare(id):\n",
    "    filename = 'invoicing-block-' + str(id) + '.block.json'\n",
    "    downloadToLocal(host='10.15.136.41:30080',user='scray', pwd='scray', local_path='/tmp/',local_name=filename, remote_path='blocks/invoicing')\n",
    "    output = subprocess.check_output(['cat', '/tmp/' + filename])\n",
    "    return json.loads(output.decode('ascii'))           \n",
    "    \n",
    "def decode_block_invoice(block):\n",
    "    _transaction = block['data']['data'][0]['payload']['data']['actions'][0]['payload']['action']['proposal_response_payload']['extension']['results']['ns_rwset'][1]['rwset']['writes'][0]\n",
    "    if _transaction['value'] != None:\n",
    "        return json.loads(base64.b64decode(_transaction['value']).decode(\"utf-8\"))\n",
    "    \n",
    "def decode_block_transaction(block):\n",
    "    _transaction = _block['data']['data'][0]['payload']['data']['actions'][0]['payload']['chaincode_proposal_payload']['input']['chaincode_spec']['input']['args']\n",
    "    result = []\n",
    "    for arg in _transaction:\n",
    "        result.append(base64.b64decode(arg).decode(\"utf-8\"))\n",
    "    return result        \n",
    "\n",
    "def get_transaction():\n",
    "    with widgets.Output():\n",
    "        height=get_height()\n",
    "        uploadBlockToShare(height-1)    \n",
    "        _block = getBlockFromShare(height-1)\n",
    "        _invoice = decode_block_invoice(_block)\n",
    "        _transaction = decode_block_transaction(_block)\n",
    "        return _transaction,_invoice"
   ]
  },
  {
   "cell_type": "code",
   "execution_count": 11,
   "id": "09c642fb-9eb4-49c8-acf0-59e619748449",
   "metadata": {},
   "outputs": [],
   "source": [
    "#get_transaction()\n",
    "#height=get_height()\n",
    "#uploadBlockToShare(height-1)    \n",
    "#_block = getBlockFromShare(height-1)\n",
    "#_invoice = decode_block_invoice(_block)\n",
    "#_transaction = decode_block_transaction(_block)"
   ]
  },
  {
   "cell_type": "code",
   "execution_count": 12,
   "id": "ac12a232-34c0-4bc2-b789-1801b1cb1e96",
   "metadata": {},
   "outputs": [],
   "source": [
    "#_transaction\n",
    "#get_transaction()"
   ]
  },
  {
   "cell_type": "markdown",
   "id": "077b609d-cb5f-48a9-aacd-5e5e05eb2dcf",
   "metadata": {},
   "source": [
    "### Widgets"
   ]
  },
  {
   "cell_type": "code",
   "execution_count": 13,
   "id": "e01eb5f8-8e69-40c3-b5af-b5ed3d410f7c",
   "metadata": {},
   "outputs": [],
   "source": [
    "#invoice widget\n",
    "\n",
    "#def asset_selected(x): \n",
    "#    global asset\n",
    "#    asset = listInvoice(shop_owner_peer, id=assetOptions.value, user=shop_owner)[0]\n",
    "    \n",
    "#assetOptions = widgets.Dropdown(options=_keys)\n",
    "#assetOptions.observe(asset_selected, names='value')\n",
    "\n",
    "def widget_load_asset(widget,asset):\n",
    "    widget.output.clear_output()\n",
    "    widget.container = FieldContainer()\n",
    "    with widget.output:\n",
    "        widget.addChilds(asset,'/', hideUnused=True)\n",
    "\n",
    "def reload_clicked(i):\n",
    "    global buyer,peer_buyer\n",
    "    global asset\n",
    "    \n",
    "    \n",
    "    user = get_current_user_with_role(roleOptions.value)\n",
    "    peer = get_current_peer_with_role(roleOptions.value)\n",
    "    #print(user)\n",
    "    #asset = listInvoice(shop_owner_peer, id, user=shop_owner)[0]\n",
    "    asset = listInvoice(peer, id, user=user)[0]\n",
    "    #print(asset['buyer'])\n",
    "    with _out:\n",
    "        buyer=get_cert_cn(asset['buyer'])\n",
    "        peer_buyer=get_peer_of_user(buyer)\n",
    "        \n",
    "    widget_load_asset(_widget,asset)\n",
    "    role_selected('')  \n",
    "\n",
    "def role_selected(x): \n",
    "    if roleOptions.value == 'Buyer':\n",
    "        init_fields_buyer(user=buyer,peer=peer_buyer)\n",
    "    elif roleOptions.value == 'Seller':\n",
    "        init_fields_seller(user=owner,peer=peer_owner)\n",
    "    elif roleOptions.value == 'TaxInspector':    \n",
    "        init_fields_taxinspector(user=taxinspector,peer=peer_taxinspector)\n",
    "    elif roleOptions.value == 'Factor':    \n",
    "        init_fields_factor(user=factor,peer=peer_factor)\n",
    "\n",
    "def asset_selected(x): \n",
    "    global id\n",
    "    id=assetOptions.value\n",
    "    #asset = listInvoice(shop_owner_peer, id=assetOptions.value, user=shop_owner)[0]\n",
    "    #roleOptions.value == 'Seller'\n",
    "    reload_clicked('')\n",
    "    \n",
    "    \n",
    "def _block_btn_reload_clicked(i):    \n",
    "    height=get_height()\n",
    "    _block_text.value = str(height)\n",
    "    with _block_out:\n",
    "        clear_output()  \n",
    "        uploadBlockToShare(height-1)    \n",
    "        _block = getBlockFromShare(height-1)\n",
    "        _invoice = decode_block_invoice(_block)\n",
    "        _transaction = decode_block_transaction(_block)\n",
    "        _t = get_transaction()[0]\n",
    "        clear_output()  \n",
    "        facturx_widgets(_t,'/', hideUnused=True, hide=False).output\n",
    "        \n",
    "def create_invoice_widget():    \n",
    "    #global _widget\n",
    "\n",
    "\n",
    "    _widget = facturx_widgets(asset,'/', hideUnused=False, hide=True) \n",
    "    \n",
    "    #display(_widget)\n",
    "\n",
    "    HBox = widgets.HBox([_widget.output, options,assetOptions,block_explorer]) \n",
    "    display(HBox)\n",
    "\n",
    "    assetOptions.value='asset14'\n",
    "    \n",
    "    return _widget\n",
    "\n",
    "roleOptions = widgets.Dropdown(options=usedRoles)\n",
    "#roleOptions.observe(role_selected, names='value')\n",
    "roleOptions.observe(reload_clicked, names='value')\n",
    "        \n",
    "btn = widgets.Button(description=f'From Blockchain', disabled=False,button_style='success', icon='check')    \n",
    "btn.on_click(reload_clicked)\n",
    "#display (btn)\n",
    "\n",
    "assetOptions = widgets.Dropdown(options=_keys)\n",
    "assetOptions.observe(asset_selected, names='value')\n",
    "options = widgets.VBox([roleOptions,btn])\n",
    "\n",
    "_block_btn = widgets.Button(description=f'Explore Block', disabled=False,button_style='success', icon='check')    \n",
    "_block_btn.on_click(_block_btn_reload_clicked)\n",
    "_block_text = widgets.Text(description = 'height', style=style, layout=layout)\n",
    "_block_out = widgets.Output()\n",
    "\n",
    "block_explorer = widgets.VBox([_block_btn,_block_text,_block_out])"
   ]
  },
  {
   "cell_type": "code",
   "execution_count": 14,
   "id": "32f81acb-c269-4950-8a5c-667c8c88f66e",
   "metadata": {},
   "outputs": [],
   "source": [
    "def role_selected(x): \n",
    "    if roleOptions.value == 'Buyer':\n",
    "        init_fields_buyer(user=buyer,peer=peer_buyer)\n",
    "    elif roleOptions.value == 'Seller':\n",
    "        init_fields_seller(user=owner,peer=peer_owner)\n",
    "    elif roleOptions.value == 'TaxInspector':    \n",
    "        init_fields_taxinspector(user=taxinspector,peer=peer_taxinspector)\n",
    "    elif roleOptions.value == 'Factor':    \n",
    "        init_fields_factor(user=factor,peer=peer_factor)"
   ]
  },
  {
   "cell_type": "code",
   "execution_count": 15,
   "id": "0f1276da-fb1f-4105-b9ba-66c62136cdb2",
   "metadata": {},
   "outputs": [],
   "source": [
    "_invoice = invoices.iloc[14]"
   ]
  },
  {
   "cell_type": "code",
   "execution_count": null,
   "id": "683e61f5-4e6c-48cd-833e-5aaf0b7593af",
   "metadata": {},
   "outputs": [],
   "source": []
  },
  {
   "cell_type": "code",
   "execution_count": 16,
   "id": "e5ab1d0b-3fc7-4fa1-8bf3-4fab0f907778",
   "metadata": {},
   "outputs": [],
   "source": [
    "def create_cluster_widget():\n",
    "    output = subprocess.check_output(['/home/jovyan/work/usr/bin/kubectl', 'get','service','hl-fabric-cc-external-invoice-net','-o','json'])\n",
    "    _chaincode_service = json.loads(output.decode('ascii'))\n",
    "    _chaincode_service_fields = {'name':_chaincode_service['metadata']['name'], 'nodePort':_chaincode_service['spec']['ports'][0]['nodePort']}\n",
    "\n",
    "    _chaincode_widget = facturx_widgets(hideUnused=True, hide=True)\n",
    "    #_header = _chaincode_widget.addHeader(text='Chaincode',bold=True, path='',hide=True )\n",
    "    #_chaincode_widget.container.add(widget=_header)\n",
    "    _chaincode_widget.append(data=_chaincode_service_fields)\n",
    "    \n",
    "    _sharepoint_widget = facturx_widgets({'sharePoint':shared_fs_host},'/', hideUnused=True, hide=True).output\n",
    "\n",
    "    _peer_pods = create_pod_widget(_invoice)\n",
    "    _orderer = ordererpeer(name='orderer-org1-scray-org',prefix='orderer').__dict__\n",
    "    _orderer_pod = facturx_widgets(_orderer,'/', hideUnused=True, hide=True).output\n",
    "\n",
    "    _column2 = widgets.VBox([_orderer_pod, _chaincode_widget.output, _sharepoint_widget])\n",
    "    #_chaincode_widget.redisplay()\n",
    "    return widgets.HBox([_peer_pods, _column2])\n",
    "\n",
    "\n",
    "def display_role(roles, role_transctions, role,user,peer):\n",
    "    _role_widget = facturx_widgets( hideUnused=True, hide=True, layout = {'width': '390px'}, style = {'description_width': '110px'})\n",
    "    _header = _role_widget.addHeader(text='Rolle',bold=True, path='',hide=True )\n",
    "    _role_widget.container.add(widget=_header)\n",
    "    _role_widget.append(data=roles) \n",
    "    _header = _role_widget.addHeader(text='User',bold=True, path='',hide=True )\n",
    "    _role_widget.container.add(widget=_header)\n",
    "    _role_widget.append(data={'user':user,'peer':peer.name})\n",
    "    \n",
    "    _role_transctions_widget = facturx_widgets( hideUnused=True, hide=True, layout = {'width': '300px'}, style = {'description_width': '50px'})\n",
    "    _header = _role_transctions_widget.addHeader(text='Transaktionen: ' + role,bold=True, path='',hide=True  )\n",
    "    _role_transctions_widget.container.add(widget=_header)\n",
    "    _role_transctions_widget.append(data=role_transctions)\n",
    "\n",
    "    _hbox = widgets.HBox([_role_widget.output,_role_transctions_widget.output])\n",
    "    display(_hbox)\n",
    "    _role_widget.redisplay()\n",
    "    _role_transctions_widget.redisplay()"
   ]
  },
  {
   "cell_type": "code",
   "execution_count": 17,
   "id": "e70799d4-9f45-487f-a3aa-a78302019adc",
   "metadata": {},
   "outputs": [],
   "source": [
    "def get_transactions_by_role(role):\n",
    "    for _role in roleTransactions:\n",
    "        if _role['role'] == role:\n",
    "            return _role['transactions']\n",
    "\n",
    "def update_role_widget(user=None,peer=None,role=None):\n",
    "    _roles = getRoles(peer, user=user)[0]\n",
    "    _role_transactions = get_transactions_by_role(role)\n",
    "    \n",
    "    if isinstance(_roles, str):\n",
    "        _roles=''\n",
    "    \n",
    "    with roleWidget_out:\n",
    "        clear_output()\n",
    "        display_role(_roles, _role_transactions,role,user,peer)\n",
    "\n",
    "def role_widget_selected(x): \n",
    "    if roleWidgetOptions.value == 'Buyer':\n",
    "        update_role_widget(user=buyer,peer=peer_buyer,role=roleWidgetOptions.value)\n",
    "    elif roleWidgetOptions.value == 'Seller':\n",
    "        update_role_widget(user=owner,peer=peer_owner,role=roleWidgetOptions.value)\n",
    "    elif roleWidgetOptions.value == 'TaxInspector':    \n",
    "        update_role_widget(user=taxinspector,peer=peer_taxinspector,role=roleWidgetOptions.value)\n",
    "    elif roleWidgetOptions.value == 'Factor':    \n",
    "        update_role_widget(user=factor,peer=peer_factor,role=roleWidgetOptions.value)                     \n",
    "        \n",
    "\n",
    "roleWidgetOptions = widgets.Dropdown(options=usedRoles)\n",
    "roleWidgetOptions.observe(role_widget_selected, names='value')     \n",
    "roleWidget_out = widgets.Output()"
   ]
  },
  {
   "cell_type": "markdown",
   "id": "7e039c6f-ebf9-494d-af3d-018fcdae7ba7",
   "metadata": {},
   "source": [
    "# Blockchain (Peers, Orderer, Chaincode) und Sharepoint (WebDAV)"
   ]
  },
  {
   "cell_type": "code",
   "execution_count": 18,
   "id": "9e9dc282-4c0a-4ef3-9d35-812c049cb87c",
   "metadata": {},
   "outputs": [
    {
     "data": {
      "application/vnd.jupyter.widget-view+json": {
       "model_id": "a00029b3662f41bbb63850f7f169379f",
       "version_major": 2,
       "version_minor": 0
      },
      "text/plain": [
       "HBox(children=(VBox(children=(Output(), Output(), Output(), Output())), VBox(children=(Output(), Output(), Out…"
      ]
     },
     "metadata": {},
     "output_type": "display_data"
    }
   ],
   "source": [
    "cluster_widget = create_cluster_widget()\n",
    "display(cluster_widget)"
   ]
  },
  {
   "cell_type": "markdown",
   "id": "c1b67b14-4e76-41e4-b50b-7b4428ec1e60",
   "metadata": {},
   "source": [
    "# Rechnung aus Github-Repository (Factur-X / Parquet)"
   ]
  },
  {
   "cell_type": "code",
   "execution_count": 19,
   "id": "9341f5a5-ad9e-4132-99dd-80a8102d4805",
   "metadata": {},
   "outputs": [
    {
     "data": {
      "application/vnd.jupyter.widget-view+json": {
       "model_id": "c23cde388957439cbeab2f33f43cf628",
       "version_major": 2,
       "version_minor": 0
      },
      "text/plain": [
       "Output()"
      ]
     },
     "metadata": {},
     "output_type": "display_data"
    }
   ],
   "source": [
    "facturx_widgets(data=_invoice,path='/supplyChainTradeTransaction', hideUnused=True, hide=True).output"
   ]
  },
  {
   "cell_type": "markdown",
   "id": "0d444e9c-965f-4da4-814d-1b8da041d6c1",
   "metadata": {},
   "source": [
    "# Adressen"
   ]
  },
  {
   "cell_type": "code",
   "execution_count": 20,
   "id": "0cd19d37-a695-47ab-97d8-9f6abc8ee7a1",
   "metadata": {},
   "outputs": [
    {
     "data": {
      "application/vnd.jupyter.widget-view+json": {
       "model_id": "7230a9ad72e14e9eb6eb33b07d4c6957",
       "version_major": 2,
       "version_minor": 0
      },
      "text/plain": [
       "HBox(children=(VBox(children=(Output(), Output())), Output(), Output()))"
      ]
     },
     "metadata": {},
     "output_type": "display_data"
    }
   ],
   "source": [
    "create_address_widget(_invoice)"
   ]
  },
  {
   "cell_type": "markdown",
   "id": "c3243806-33a3-408e-80fe-12d50ca63702",
   "metadata": {},
   "source": [
    "# Rollen (werden in Blockchain gespeichert und sind änderbar)"
   ]
  },
  {
   "cell_type": "code",
   "execution_count": 21,
   "id": "b0891dfa-804f-4c1e-9cf6-f63f118f2fc7",
   "metadata": {},
   "outputs": [
    {
     "data": {
      "application/vnd.jupyter.widget-view+json": {
       "model_id": "5ef0db6dea8e47ebb3ee96b3d592595a",
       "version_major": 2,
       "version_minor": 0
      },
      "text/plain": [
       "Dropdown(options=('TaxInspector', 'Factor', 'Buyer', 'Seller'), value='TaxInspector')"
      ]
     },
     "metadata": {},
     "output_type": "display_data"
    },
    {
     "data": {
      "application/vnd.jupyter.widget-view+json": {
       "model_id": "1874f4360441404787619511f32188e1",
       "version_major": 2,
       "version_minor": 0
      },
      "text/plain": [
       "Output()"
      ]
     },
     "metadata": {},
     "output_type": "display_data"
    }
   ],
   "source": [
    "display(roleWidgetOptions,roleWidget_out)    "
   ]
  },
  {
   "cell_type": "markdown",
   "id": "e164fa85-d37d-485f-9398-3215f5f5e216",
   "metadata": {},
   "source": [
    "# Invoice Widget"
   ]
  },
  {
   "cell_type": "code",
   "execution_count": 22,
   "id": "86101156-2a5a-4361-b426-1ff5add151e3",
   "metadata": {},
   "outputs": [
    {
     "data": {
      "application/vnd.jupyter.widget-view+json": {
       "model_id": "4e5cc82408d2407a9a1c9a6faaf43513",
       "version_major": 2,
       "version_minor": 0
      },
      "text/plain": [
       "HBox(children=(Output(), VBox(children=(Dropdown(options=('TaxInspector', 'Factor', 'Buyer', 'Seller'), value=…"
      ]
     },
     "metadata": {},
     "output_type": "display_data"
    }
   ],
   "source": [
    "_widget = create_invoice_widget()\n",
    "asset_selected('')"
   ]
  },
  {
   "cell_type": "code",
   "execution_count": 23,
   "id": "a302eee9-f2f1-402a-8293-5c4092fb2e18",
   "metadata": {},
   "outputs": [
    {
     "name": "stdout",
     "output_type": "stream",
     "text": [
      "/home/jovyan/work/usr/bin/kubectl exec -t aubonmoulin-79666dbdd9-kvf9b -c scray-peer-cli -- /bin/sh -c /mnt/conf/peer/block-operator.sh fetch --channel invoicing9 --block 18 --publish 10.14.128.38:30080\n"
     ]
    },
    {
     "name": "stderr",
     "output_type": "stream",
     "text": [
      "\u001b[34m2022-01-05 10:44:57.897 UTC [channelCmd] InitCmdFactory -> INFO 001\u001b[0m Endorser and orderer connections initialized\n",
      "\u001b[34m2022-01-05 10:44:57.910 UTC [cli.common] readBlock -> INFO 002\u001b[0m Received block: 18\n",
      "\u001b[34m2022-01-05 10:44:57.955 UTC [common.tools.configtxgen] main -> INFO 001\u001b[0m Loading configuration\n",
      "\u001b[34m2022-01-05 10:44:57.956 UTC [common.tools.configtxgen] doInspectBlock -> INFO 002\u001b[0m Inspecting block\n",
      "\u001b[34m2022-01-05 10:44:57.956 UTC [common.tools.configtxgen] doInspectBlock -> INFO 003\u001b[0m Parsing genesis block\n",
      "  % Total    % Received % Xferd  Average Speed   Time    Time     Time  Current\n",
      "                                 Dload  Upload   Total   Spent    Left  Speed\n",
      "100   230  100   230    0     0   9200      0 --:--:-- --:--:-- --:--:--  9200\n",
      "  % Total    % Received % Xferd  Average Speed   Time    Time     Time  Current\n",
      "                                 Dload  Upload   Total   Spent    Left  Speed\n",
      "100   193  100   193    0     0   8772      0 --:--:-- --:--:-- --:--:--  8772\n",
      "  % Total    % Received % Xferd  Average Speed   Time    Time     Time  Current\n",
      "                                 Dload  Upload   Total   Spent    Left  Speed\n",
      "100   246  100   246    0     0  13666      0 --:--:-- --:--:-- --:--:-- 13666\n",
      "  % Total    % Received % Xferd  Average Speed   Time    Time     Time  Current\n",
      "                                 Dload  Upload   Total   Spent    Left  Speed\n",
      "100  9965  100   221  100  9744  55250  2378k --:--:-- --:--:-- --:--:-- 2432k\n",
      "  % Total    % Received % Xferd  Average Speed   Time    Time     Time  Current\n",
      "                                 Dload  Upload   Total   Spent    Left  Speed\n",
      "100  9461  100  9461    0     0  1295k      0 --:--:-- --:--:-- --:--:-- 1539k\n"
     ]
    }
   ],
   "source": [
    "height=get_height()\n",
    "_block_text.value = str(height)\n",
    "uploadBlockToShare(height-1)    \n",
    "_block = getBlockFromShare(height-1)\n",
    "_invoice = decode_block_invoice(_block)\n",
    "_transaction = decode_block_transaction(_block)\n",
    "with _block_out:\n",
    "    clear_output()  \n",
    "    facturx_widgets(_transaction,'/', hideUnused=True, hide=False).output"
   ]
  },
  {
   "cell_type": "code",
   "execution_count": 24,
   "id": "30f9843d-fb4f-41f3-aa22-1a8991d8790c",
   "metadata": {},
   "outputs": [
    {
     "data": {
      "text/plain": [
       "(['ReceivedPayment', 'asset17', ''],\n",
       " {'ID': 'asset17',\n",
       "  'owner': 'x509::CN=Tony.Dubois@aubonmoulin.fr,OU=admin,O=kubernetes.research.dev.seeburger.de::CN=ca.aubonmoulin.kubernetes.research.dev.seeburger.de,O=aubonmoulin.kubernetes.research.dev.seeburger.de,L=Bretten,ST=Baden,C=DE',\n",
       "  'buyer': 'x509::CN=Alexandre.Payet@majolieboutique.net,OU=admin,O=kubernetes.research.dev.seeburger.de::CN=ca.aubonmoulin.kubernetes.research.dev.seeburger.de,O=aubonmoulin.kubernetes.research.dev.seeburger.de,L=Bretten,ST=Baden,C=DE',\n",
       "  'hash': 6265861722676072020,\n",
       "  'invoiceNumber': 'AV-2017-0005',\n",
       "  'tax': -14.99,\n",
       "  'netto': -218.48,\n",
       "  'countryOrigin': 'FR',\n",
       "  'countryBuyer': 'FR',\n",
       "  'status': '',\n",
       "  'received': True,\n",
       "  'receivedOrder': True,\n",
       "  'sold': False,\n",
       "  'claimPaid': True,\n",
       "  'claimPaidBy': '',\n",
       "  'taxExemptionReason': '',\n",
       "  'taxReceived': False})"
      ]
     },
     "execution_count": 24,
     "metadata": {},
     "output_type": "execute_result"
    }
   ],
   "source": [
    "_transaction, _invoice"
   ]
  },
  {
   "cell_type": "code",
   "execution_count": 25,
   "id": "cdb519f5-1732-449a-b3ae-53348cbe0f06",
   "metadata": {},
   "outputs": [],
   "source": [
    "with _block_out:\n",
    "    clear_output()  \n",
    "\n",
    "height=get_height()\n",
    "_block_text.value = str(height)    "
   ]
  }
 ],
 "metadata": {
  "kernelspec": {
   "display_name": "Python 3 (ipykernel)",
   "language": "python",
   "name": "python3"
  },
  "language_info": {
   "codemirror_mode": {
    "name": "ipython",
    "version": 3
   },
   "file_extension": ".py",
   "mimetype": "text/x-python",
   "name": "python",
   "nbconvert_exporter": "python",
   "pygments_lexer": "ipython3",
   "version": "3.9.5"
  }
 },
 "nbformat": 4,
 "nbformat_minor": 5
}
