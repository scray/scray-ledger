{
 "cells": [
  {
   "cell_type": "code",
   "execution_count": 2,
   "id": "b4b6704c-e18e-44df-91c0-72178034d70b",
   "metadata": {},
   "outputs": [],
   "source": [
    "import ipywidgets as widgets\n",
    "_out = widgets.Output()\n",
    "with _out:\n",
    "    from ipynb.fs.full.invoiceDemoLibrary import *"
   ]
  },
  {
   "cell_type": "code",
   "execution_count": 3,
   "id": "feb3c95e-ddf0-4a33-bdc6-7837853b0065",
   "metadata": {},
   "outputs": [],
   "source": [
    "assets = listInvoices(shop_owner_peer, user=shop_owner)[0]\n",
    "_keys = calc_keys(assets)"
   ]
  },
  {
   "cell_type": "markdown",
   "id": "095c9760-59e3-425d-9953-f0006bf3646e",
   "metadata": {},
   "source": [
    "# Demo Functions"
   ]
  },
  {
   "cell_type": "code",
   "execution_count": 4,
   "id": "2fc6c065-1478-4a5c-bb6e-d9623c991999",
   "metadata": {},
   "outputs": [],
   "source": [
    "def get_cert_cn(cert):\n",
    "    return cert.split(',')[0].split('=')[1]\n",
    "    #return cert.split('=')[1].split('@')[0]\n",
    "\n",
    "def get_person_names_with_role(role,roles):\n",
    "    result = []\n",
    "    for person in roles:\n",
    "        if role in person['roles']:\n",
    "            #result.append(get_cert_cn(person['name']))\n",
    "            result.append(person['name'])\n",
    "    return result        \n",
    "        \n",
    "def get_person_certs_with_role(role,roles):\n",
    "    result = []\n",
    "    for person in roles:\n",
    "        if role in person['roles']:\n",
    "            result.append(person['name'])\n",
    "    return result                     "
   ]
  },
  {
   "cell_type": "code",
   "execution_count": 5,
   "id": "640cd9c8-8018-43f6-8be7-c3f44acf83e4",
   "metadata": {},
   "outputs": [],
   "source": [
    "def get_current_user_with_role(rolename):    \n",
    "    if rolename == 'Buyer':\n",
    "        return buyer\n",
    "    elif  rolename == 'Seller':   \n",
    "        return owner\n",
    "    elif  rolename == 'Factor':   \n",
    "        return factor\n",
    "    elif  rolename == 'TaxInspector':    \n",
    "        return taxinspector\n",
    "    \n",
    "def get_current_peer_with_role(rolename):    \n",
    "    if rolename == 'Buyer':\n",
    "        return peer_buyer\n",
    "    elif  rolename == 'Seller':   \n",
    "        return peer_owner\n",
    "    elif  rolename == 'Factor':   \n",
    "        return peer_factor\n",
    "    elif  rolename == 'TaxInspector':    \n",
    "        return peer_taxinspector    \n",
    "\n",
    "def disable_all_fields():\n",
    "    for key,value in _widget.container.fields.items():\n",
    "        value.widget.disabled=True\n",
    "        \n",
    "def enable_fields_for_role(rolename):\n",
    "    disable_all_fields()\n",
    "    if rolename == 'Buyer':\n",
    "        _widget.container.fields['received'].widget.disabled=False\n",
    "        _widget.container.fields['receivedOrder'].widget.disabled=False\n",
    "\n",
    "    elif  rolename == 'Seller':   \n",
    "        _widget.container.fields['sold'].widget.disabled=False\n",
    "        _widget.container.fields['claimPaid'].widget.disabled=False\n",
    "        _widget.container.fields['claimPaidBy'].widget.disabled=False\n",
    "        _widget.container.fields['owner'].widget.disabled=False\n",
    "        \n",
    "    elif  rolename == 'Factor':   \n",
    "        #_widget.container.fields['sold'].widget.disabled=False\n",
    "        _widget.container.fields['claimPaid'].widget.disabled=False\n",
    "        _widget.container.fields['claimPaidBy'].widget.disabled=False\n",
    "        #_widget.container.fields['owner'].widget.disabled=False\n",
    "                \n",
    "    elif  rolename == 'TaxInspector':    \n",
    "        _widget.container.fields['taxReceived'].widget.disabled=False       "
   ]
  },
  {
   "cell_type": "code",
   "execution_count": 6,
   "id": "78845e92-e68e-47ed-bef7-81ab6806923e",
   "metadata": {},
   "outputs": [],
   "source": [
    "def create_dropdown_owner(_widget):\n",
    "    _certs=[_widget.container.fields['owner'].widget.value]\n",
    "    _certs = _certs + get_person_certs_with_role('Factor',roles)\n",
    "    return widgets.Dropdown(options=_certs, value = _certs[0], description=\"owner\", style=style, layout=layout)\n",
    "\n",
    "def replace_owner_field_by_dropdown(_widget):\n",
    "    _owners = create_dropdown_owner(_widget)\n",
    "    _widget.container.fields['owner'] = Field(widget=_owners,path=_widget.container.fields['owner'].path)\n",
    "    _widget.redisplay()"
   ]
  },
  {
   "cell_type": "markdown",
   "id": "4586dd9a-5498-4d18-bea9-2bbee314881c",
   "metadata": {},
   "source": [
    "### role buyer"
   ]
  },
  {
   "cell_type": "code",
   "execution_count": 7,
   "id": "149bf8a8-7b42-495d-9153-acc1d69c49c3",
   "metadata": {},
   "outputs": [],
   "source": [
    "def init_fields_buyer(user=None,peer=None):\n",
    "    #peer=get_peer_of_user(user)\n",
    "\n",
    "    def received_changed(b):\n",
    "        if b['name'] == 'value':\n",
    "            receivedInvoice(peer, id=id, user=user)[1]\n",
    "\n",
    "    def receivedOrder_changed(b):\n",
    "        if b['name'] == 'value':\n",
    "            receivedOrder(peer, id=id, user=user)[1]    \n",
    "\n",
    "    _widget.container.fields['received'].widget.observe(received_changed)\n",
    "    _widget.container.fields['receivedOrder'].widget.observe(receivedOrder_changed)\n",
    "    enable_fields_for_role('Buyer')"
   ]
  },
  {
   "cell_type": "markdown",
   "id": "e284b900-c3b8-49a7-b03d-f2cb154154b2",
   "metadata": {
    "tags": []
   },
   "source": [
    "### role owner / seller"
   ]
  },
  {
   "cell_type": "code",
   "execution_count": 8,
   "id": "e1a1c2cd-b32b-4a7b-814d-6e69512234e0",
   "metadata": {},
   "outputs": [],
   "source": [
    "def init_fields_seller(user=None,peer=None):\n",
    "    #peer=get_peer_of_user(user)\n",
    "    \n",
    "    def sold_changed(b):\n",
    "        if b['name'] == 'value':\n",
    "            name=_widget.container.fields['owner'].widget.value\n",
    "            transferInvoice(peer, id=id,name=name, user=user)[1]\n",
    "\n",
    "    def claimPaid_changed(b):\n",
    "        if b['name'] == 'value':\n",
    "            receivedPayment(peer, id=id, payer= _widget.container.fields['claimPaidBy'].widget.value, user=user)\n",
    "\n",
    "    enable_fields_for_role('Seller')    \n",
    "    _widget.container.fields['sold'].widget.observe(sold_changed)\n",
    "    _widget.container.fields['claimPaid'].widget.observe(claimPaid_changed)   \n",
    "    replace_owner_field_by_dropdown(_widget)"
   ]
  },
  {
   "cell_type": "markdown",
   "id": "8adceebf-80f9-4299-9c2b-42ef5751b335",
   "metadata": {
    "tags": []
   },
   "source": [
    "### role factor (owner)"
   ]
  },
  {
   "cell_type": "code",
   "execution_count": 9,
   "id": "78fb397e-7456-4c4c-b032-93f8f8d0651b",
   "metadata": {},
   "outputs": [],
   "source": [
    "def init_fields_factor(user=None,peer=None):\n",
    "    #peer=get_peer_of_user(user)\n",
    "    \n",
    "    def claimPaid_changed(b):\n",
    "        if b['name'] == 'value':  \n",
    "            receivedPayment(peer, id=id, payer= _widget.container.fields['claimPaidBy'].widget.value, user=user)\n",
    "\n",
    "    enable_fields_for_role('Factor')    \n",
    "    _widget.container.fields['claimPaid'].widget.observe(claimPaid_changed)   "
   ]
  },
  {
   "cell_type": "markdown",
   "id": "7a95c276-adfc-46d6-a010-d9c3678f4ad5",
   "metadata": {
    "tags": []
   },
   "source": [
    "### role tax inspector"
   ]
  },
  {
   "cell_type": "code",
   "execution_count": 10,
   "id": "565a115e-d987-43ce-91fb-0d4ff2612818",
   "metadata": {},
   "outputs": [],
   "source": [
    "def init_fields_taxinspector(user=None,peer=None):\n",
    "    #peer=get_peer_of_user(user)\n",
    "\n",
    "    def taxReceived_changed(b):\n",
    "        if b['name'] == 'value':\n",
    "            taxReceived(peer, id=id, user=user)\n",
    "\n",
    "    _widget.container.fields['taxReceived'].widget.observe(taxReceived_changed)\n",
    "    enable_fields_for_role('TaxInspector')"
   ]
  },
  {
   "cell_type": "code",
   "execution_count": 21,
   "id": "e01eb5f8-8e69-40c3-b5af-b5ed3d410f7c",
   "metadata": {},
   "outputs": [],
   "source": [
    "#invoice widget\n",
    "\n",
    "#def asset_selected(x): \n",
    "#    global asset\n",
    "#    asset = listInvoice(shop_owner_peer, id=assetOptions.value, user=shop_owner)[0]\n",
    "    \n",
    "#assetOptions = widgets.Dropdown(options=_keys)\n",
    "#assetOptions.observe(asset_selected, names='value')\n",
    "\n",
    "def widget_load_asset(widget,asset):\n",
    "    widget.output.clear_output()\n",
    "    widget.container = FieldContainer()\n",
    "    with widget.output:\n",
    "        widget.addChilds(asset,'/', hideUnused=True)\n",
    "\n",
    "def reload_clicked(i):\n",
    "    global buyer,peer_buyer\n",
    "    global asset\n",
    "    \n",
    "    \n",
    "    user = get_current_user_with_role(roleOptions.value)\n",
    "    peer = get_current_peer_with_role(roleOptions.value)\n",
    "    #print(user)\n",
    "    #asset = listInvoice(shop_owner_peer, id, user=shop_owner)[0]\n",
    "    asset = listInvoice(peer, id, user=user)[0]\n",
    "    #print(asset['buyer'])\n",
    "    with _out:\n",
    "        buyer=get_cert_cn(asset['buyer'])\n",
    "        peer_buyer=get_peer_of_user(buyer)\n",
    "        \n",
    "    widget_load_asset(_widget,asset)\n",
    "    role_selected('')  \n",
    "\n",
    "def role_selected(x): \n",
    "    if roleOptions.value == 'Buyer':\n",
    "        init_fields_buyer(user=buyer,peer=peer_buyer)\n",
    "    elif roleOptions.value == 'Seller':\n",
    "        init_fields_seller(user=owner,peer=peer_owner)\n",
    "    elif roleOptions.value == 'TaxInspector':    \n",
    "        init_fields_taxinspector(user=taxinspector,peer=peer_taxinspector)\n",
    "\n",
    "\n",
    "def asset_selected(x): \n",
    "    global id\n",
    "    id=assetOptions.value\n",
    "    #asset = listInvoice(shop_owner_peer, id=assetOptions.value, user=shop_owner)[0]\n",
    "    #roleOptions.value == 'Seller'\n",
    "    reload_clicked('')\n",
    "    \n",
    "    \n",
    "def create_invoice_widget():    \n",
    "    #global _widget\n",
    "\n",
    "\n",
    "    _widget = facturx_widgets(asset,'/', hideUnused=True, hide=True) \n",
    "    \n",
    "    #display(_widget)\n",
    "\n",
    "    HBox = widgets.HBox([_widget.output, options,assetOptions]) \n",
    "    display(HBox)\n",
    "\n",
    "    assetOptions.value='asset14'\n",
    "    \n",
    "    return _widget\n",
    "\n",
    "roleOptions = widgets.Dropdown(options=usedRoles)\n",
    "#roleOptions.observe(role_selected, names='value')\n",
    "roleOptions.observe(reload_clicked, names='value')\n",
    "        \n",
    "btn = widgets.Button(description=f'From Blockchain', disabled=False,button_style='success', icon='check')    \n",
    "btn.on_click(reload_clicked)\n",
    "#display (btn)\n",
    "\n",
    "assetOptions = widgets.Dropdown(options=_keys)\n",
    "assetOptions.observe(asset_selected, names='value')\n",
    "options = widgets.VBox([roleOptions,btn])\n",
    "\n",
    "\n"
   ]
  },
  {
   "cell_type": "code",
   "execution_count": 12,
   "id": "0f1276da-fb1f-4105-b9ba-66c62136cdb2",
   "metadata": {},
   "outputs": [],
   "source": [
    "_invoice = invoices.iloc[14]"
   ]
  },
  {
   "cell_type": "markdown",
   "id": "c1b67b14-4e76-41e4-b50b-7b4428ec1e60",
   "metadata": {},
   "source": [
    "# Rechnung"
   ]
  },
  {
   "cell_type": "code",
   "execution_count": 13,
   "id": "9341f5a5-ad9e-4132-99dd-80a8102d4805",
   "metadata": {},
   "outputs": [
    {
     "data": {
      "application/vnd.jupyter.widget-view+json": {
       "model_id": "9562f61905084f72a808c772216f9d70",
       "version_major": 2,
       "version_minor": 0
      },
      "text/plain": [
       "Output()"
      ]
     },
     "metadata": {},
     "output_type": "display_data"
    }
   ],
   "source": [
    "facturx_widgets(_invoice,'/supplyChainTradeTransaction', hideUnused=True, hide=True).output"
   ]
  },
  {
   "cell_type": "markdown",
   "id": "0d444e9c-965f-4da4-814d-1b8da041d6c1",
   "metadata": {},
   "source": [
    "# Adressen"
   ]
  },
  {
   "cell_type": "code",
   "execution_count": 14,
   "id": "0cd19d37-a695-47ab-97d8-9f6abc8ee7a1",
   "metadata": {},
   "outputs": [
    {
     "data": {
      "application/vnd.jupyter.widget-view+json": {
       "model_id": "a49aaf6ea6eb451186a3a088c5e88770",
       "version_major": 2,
       "version_minor": 0
      },
      "text/plain": [
       "HBox(children=(VBox(children=(Output(), Output())), Output(), Output()))"
      ]
     },
     "metadata": {},
     "output_type": "display_data"
    }
   ],
   "source": [
    "create_address_widget(_invoice)"
   ]
  },
  {
   "cell_type": "markdown",
   "id": "c3243806-33a3-408e-80fe-12d50ca63702",
   "metadata": {},
   "source": [
    "# Rollen"
   ]
  },
  {
   "cell_type": "code",
   "execution_count": 15,
   "id": "a33dbb59-338d-436a-91df-19a634c7c921",
   "metadata": {},
   "outputs": [
    {
     "data": {
      "application/vnd.jupyter.widget-view+json": {
       "model_id": "57ed7171c42d4b9696f82c3437510dbc",
       "version_major": 2,
       "version_minor": 0
      },
      "text/plain": [
       "Output()"
      ]
     },
     "metadata": {},
     "output_type": "display_data"
    },
    {
     "data": {
      "text/plain": [
       "<ipynb.fs.full.facturxWidget.facturx_widgets at 0x7fef1a80ea00>"
      ]
     },
     "execution_count": 15,
     "metadata": {},
     "output_type": "execute_result"
    }
   ],
   "source": [
    "create_role_widget(shop_owner_roles)"
   ]
  },
  {
   "cell_type": "markdown",
   "id": "e164fa85-d37d-485f-9398-3215f5f5e216",
   "metadata": {},
   "source": [
    "# Invoice Widget"
   ]
  },
  {
   "cell_type": "code",
   "execution_count": 22,
   "id": "86101156-2a5a-4361-b426-1ff5add151e3",
   "metadata": {},
   "outputs": [
    {
     "data": {
      "application/vnd.jupyter.widget-view+json": {
       "model_id": "8da2a07dc7aa40799018353d9d1e6ebf",
       "version_major": 2,
       "version_minor": 0
      },
      "text/plain": [
       "HBox(children=(Output(), VBox(children=(Dropdown(options=('TaxInspector', 'Factor', 'Buyer', 'Seller'), value=…"
      ]
     },
     "metadata": {},
     "output_type": "display_data"
    }
   ],
   "source": [
    "_widget = create_invoice_widget()\n",
    "asset_selected('')"
   ]
  }
 ],
 "metadata": {
  "kernelspec": {
   "display_name": "Python 3 (ipykernel)",
   "language": "python",
   "name": "python3"
  },
  "language_info": {
   "codemirror_mode": {
    "name": "ipython",
    "version": 3
   },
   "file_extension": ".py",
   "mimetype": "text/x-python",
   "name": "python",
   "nbconvert_exporter": "python",
   "pygments_lexer": "ipython3",
   "version": "3.9.5"
  }
 },
 "nbformat": 4,
 "nbformat_minor": 5
}
