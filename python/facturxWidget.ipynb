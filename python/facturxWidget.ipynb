{
 "cells": [
  {
   "cell_type": "code",
   "execution_count": 1,
   "metadata": {},
   "outputs": [],
   "source": [
    "import pandas as pd\n",
    "\n",
    "def get_invoices():\n",
    "    pd.set_option('display.max_rows', 500)\n",
    "    return pd.read_parquet('./invoices_facturx.parquet')\n",
    "\n",
    "invoices = get_invoices()"
   ]
  },
  {
   "cell_type": "code",
   "execution_count": 2,
   "metadata": {},
   "outputs": [],
   "source": [
    "#import numpy.ndarray\n",
    "import numpy as np\n",
    "\n",
    "def printall(m,mkey='',space='->'):\n",
    "    for key, value in m.items():\n",
    "        #print (type(value))\n",
    "        if not isinstance(value, type(None)):\n",
    "            #print(space + mkey, ' {0}: {1}'.format(key, value))\n",
    "            if isinstance(value, dict):\n",
    "                #print(space + (str(type(value))) + str(value.keys()))\n",
    "                printall(value, mkey + \"/\" + key, space + '->')\n",
    "            else:\n",
    "                if isinstance(value,np.ndarray):\n",
    "                    print('ARRAY',len(value), value)\n",
    "                print(space + mkey + '/{0}: {1}'.format(key, value) + '(' + str(type(value)) + ')') \n",
    " \n",
    "def printpaths(m,mkey='',space='->'):\n",
    "    for key, value in m.items():\n",
    "        #print (type(value))\n",
    "        if not isinstance(value, type(None)):\n",
    "            #print(space + mkey, ' {0}: {1}'.format(key, value))\n",
    "            if isinstance(value, dict):\n",
    "                print(key,value)\n",
    "                #print(key + space + (str(type(value))) + str(value.keys()))\n",
    "                #printall(value, mkey + \"/\" + key, space + '->')\n",
    "\n",
    "\n",
    "def printNotNone(val):\n",
    "    if isinstance(val, dict):\n",
    "        for key, value in val.items():\n",
    "            if not isinstance(value, type(None)):\n",
    "                print('{0}: {1}'.format(key, value)) \n",
    "    else:\n",
    "        print(val)\n",
    "\n",
    "def getDictNotNone(val):\n",
    "    #print('getDictNotNone',type(val))\n",
    "    if isinstance(val, dict):\n",
    "        r = dict()\n",
    "        #print('getDictNotNone',r.keys())\n",
    "        for key, value in val.items():\n",
    "            #print('getDictNotNone',key,value)\n",
    "            if not isinstance(value, type(None)):\n",
    "                r[key]=value\n",
    "        return r       \n",
    "    else:\n",
    "        return dict        \n",
    "\n",
    "def getPathValue(m,path=''):\n",
    "    if(len(path)<2):\n",
    "        return m\n",
    "    splits = path[1:].split(\"/\", 1)\n",
    "    value=m.get(splits[0])\n",
    "    #print(splits,value)\n",
    "    if not isinstance(value, type(None)):\n",
    "        if len(splits) > 1:\n",
    "            return getPathValue(value,path='/' + splits[1])\n",
    "    return value            \n",
    "  \n",
    "def getSimpleElementValue(d,key):\n",
    "    __name__='getSimpleElementValue'\n",
    "    #print(__name__,key,d)\n",
    "    value=d[key]\n",
    "    #print(value)\n",
    "    #print(__name__,key,value, type(value))\n",
    "    return key,value   \n",
    "    \n",
    "def getElementValue(d,key):\n",
    "    #print(d)\n",
    "    value=d[key]\n",
    "    #print(value)\n",
    "    #print(key,value, type(value))\n",
    "    if isinstance(value, dict):\n",
    "        if 'value' in value:\n",
    "            return key,value['value']\n",
    "        else: \n",
    "            #print(\"getElementValue\",key)\n",
    "            #print(\"getElementValue\",value.keys())\n",
    "            #print(\"getElementValue\",value)\n",
    "            #return key,getElementValue(value,list(value.keys())[0])\n",
    "            return key,value\n",
    "    elif isinstance(value,np.ndarray):\n",
    "        #print(len(value),type(value[0]))\n",
    "        if 'value' in value[0]:\n",
    "            return value[0]['value']\n",
    "        else:\n",
    "            #print(value[0])\n",
    "            return getElementValue(value[0],list(value[0].keys())[0])\n",
    "    elif not isinstance(value, type(None)):\n",
    "        return key,str(value)\n",
    "    else:\n",
    "        return None\n",
    "            \n",
    "    \n",
    "def getElementValue1(d,key):\n",
    "    #print(d)\n",
    "    value=d[key]\n",
    "    #print(value)\n",
    "    #print(key,value, type(value))\n",
    "    if isinstance(value, dict):\n",
    "        if 'value' in value:\n",
    "            return value['value']\n",
    "        else: \n",
    "            print(key)\n",
    "            print(value.keys())\n",
    "            print(value)\n",
    "            return getElementValue(value,list(value.keys())[0])\n",
    "    elif isinstance(value,np.ndarray):\n",
    "        #print(len(value),type(value[0]))\n",
    "        if 'value' in value[0]:\n",
    "            return value[0]['value']\n",
    "        else:\n",
    "            #print(value[0])\n",
    "            return getElementValue(value[0],list(value[0].keys())[0])\n",
    "    elif not isinstance(value, type(None)):\n",
    "        return str(value)\n",
    "    else:\n",
    "        return None\n",
    "        \n",
    "def freeze(d):\n",
    "    if isinstance(d, dict):\n",
    "        return frozenset((key, freeze(value)) for key, value in d.items())\n",
    "    elif isinstance(d, list):\n",
    "        return tuple(freeze(value) for value in d)\n",
    "    return d            "
   ]
  },
  {
   "cell_type": "code",
   "execution_count": 3,
   "metadata": {},
   "outputs": [],
   "source": [
    "\n",
    "\n",
    "def doit(m,path,hideUnused=False):\n",
    "    __name__='doit'\n",
    "    print(__name__,type(m))\n",
    "    r = getPathValue(m, path)\n",
    "    if isinstance(r, type(None)):\n",
    "        return\n",
    "    if hideUnused == True:\n",
    "        r = getDictNotNone(r)\n",
    "    print(r)    \n",
    "    for key in r.keys():\n",
    "        value=getElementValue(r,key)\n",
    "        #print (key,value)\n",
    "        text = widgets.Text(description = key,value = value, style=style, layout=layout)\n",
    "        display(text)\n",
    "\n",
    "\n",
    "\n",
    "def doit1(m,path,hideUnused=False):\n",
    "    __name__='doit1'\n",
    "    r = getPathValue(m, path)\n",
    "    #print(__name__,type(r),r,hideUnused)\n",
    "    if hideUnused == True:\n",
    "        r = getDictNotNone(r)\n",
    "    proc1(r,hideUnused)\n",
    "       \n",
    "\n",
    "    \n",
    "\n",
    "## replace by doitElement ???????    \n",
    "def addChildsElement(r,hideUnused=False): \n",
    "    __name__='addChildsElement'\n",
    "    #print(__name__,r,type(r),hideUnused)\n",
    "    if isinstance(r, dict):\n",
    "        doitElement(r,hideUnused=hideUnused)\n",
    "        for key, value in r.items():\n",
    "            #print (type(value))\n",
    "            addHeader(str(key))    \n",
    "            if not isinstance(value, type(None)):\n",
    "                #print(space + mkey, ' {0}: {1}'.format(key, value))\n",
    "                if isinstance(value, dict):\n",
    "                    #print(\"addChildsElement\",hideUnused,value)\n",
    "                    doitElement(r,hideUnused=hideUnused)\n",
    "    else:\n",
    "        print(__name__,type(r),'not implemented')"
   ]
  },
  {
   "cell_type": "code",
   "execution_count": 95,
   "metadata": {},
   "outputs": [],
   "source": [
    "import ipywidgets as widgets\n",
    "from IPython.display import clear_output\n",
    "from IPython.display import Javascript, display\n",
    "import uuid\n",
    "\n",
    "style = {'description_width': '250px'}\n",
    "layout = {'width': '500px'}\n",
    "\n",
    "from collections import namedtuple\n",
    "Field = namedtuple(\"Field\", \"widget path\")\n",
    "\n",
    "\n",
    "class FieldContainer1():\n",
    "    def __init__(self):\n",
    "        self.fields = []\n",
    "    def add(self,widget=None,path=''):\n",
    "        self.fields.append(Field(widget=widget, path=path))\n",
    "    def get_by_name(self,name):\n",
    "        result = []\n",
    "        for field in fields:\n",
    "            if field.widget.description == name:\n",
    "                return field\n",
    "\n",
    "class FieldContainer():\n",
    "    def __init__(self):\n",
    "        self.fields = {}\n",
    "    def add(self,widget=None,path=''):\n",
    "        self.fields[widget.description] = (Field(widget=widget, path=path))\n",
    "    def get_by_name(self,name):\n",
    "        return self.fields[name]      \n",
    "            \n",
    "            \n",
    "class facturx_widgets():\n",
    "    #layout = widgets.Layout(width='auto', height='40px') #set width and height\n",
    "    #style = {'description_width': '150px'}\n",
    "    #layout = {'width': '400px'}\n",
    "    \n",
    "    def __init__(self,m,path,hideUnused=False): \n",
    "        self.container = FieldContainer()\n",
    "        self.addChilds(m,path,hideUnused=hideUnused)\n",
    "        \n",
    "    \n",
    "    def addHeader(self,text='',bold=True, path='' ):\n",
    "        #text = text + '   /   ' + path\n",
    "        if bold == True:\n",
    "            html = widgets.HTML(\n",
    "            value=\"<b>\" + text +  \"</b>\",\n",
    "            description=' ',\n",
    "            style=style, layout=layout\n",
    "            )\n",
    "        else:\n",
    "            html = widgets.HTML(\n",
    "            value=text,\n",
    "            description=' ',\n",
    "            style=style, layout=layout\n",
    "            )\n",
    "        display(html)  \n",
    "        return html\n",
    "\n",
    "    def addVisText(self,key='',value=''):\n",
    "        text = widgets.Text(description = key,value = value, style=style, layout=layout)\n",
    "        display(text)   \n",
    "        return text\n",
    "    \n",
    "    def addVisCheckbox(self,key='',value=False):\n",
    "        text = widgets.Checkbox(description = key,value = value, style=style, layout=layout)\n",
    "        display(text)   \n",
    "        return text\n",
    "        \n",
    "    def procArray(self,r,hideUnused=False,rkey='',path=''):   \n",
    "        __name__='procArray'\n",
    "        #print (__name__,type(r),rkey)\n",
    "        #path = path + '/' + rkey\n",
    "        #print(__name__,path)\n",
    "        \n",
    "        if not isinstance(r, np.ndarray):\n",
    "            print(__name__,type(r),'not implemented')\n",
    "            return\n",
    "        for element in r:\n",
    "            #print (__name__,type(element),element)\n",
    "            self.doitElement(element,rkey=rkey,hideUnused=hideUnused,path=path)\n",
    "\n",
    "    def procList(self,r,hideUnused=False,rkey='',path=''):   \n",
    "        __name__='procList' \n",
    "        #print (__name__,type(r),rkey)\n",
    "        for element in r:\n",
    "            #print (__name__,type(element),element)\n",
    "            self.doitElement(element,rkey=rkey,hideUnused=hideUnused)\n",
    " \n",
    "    def proc1(self,r,hideUnused=False,rkey='',path=''):\n",
    "        __name__='proc1'\n",
    "        if not isinstance(r, dict):\n",
    "            print(__name__,type(r),'not implemented')\n",
    "            return\n",
    "        #print(__name__,'rkey=' + rkey,r.keys())\n",
    "    \n",
    "        if len(rkey) > 0: \n",
    "            path = path + '/' + rkey\n",
    "        #print(__name__,path)\n",
    "    \n",
    "        #if(path == '/supplyChainTradeTransaction//includedSupplyChainTradeLineItem/associatedDocumentLineDocument'):\n",
    "        #    print('FOUND',path)\n",
    "    \n",
    "        if hideUnused == True:\n",
    "            r = getDictNotNone(r)\n",
    "        \n",
    "        self.proc1_childs(r,hideUnused,rkey,path)\n",
    "        \n",
    "    def proc_tmp(self):        \n",
    "        if(path == '/supplyChainTradeTransaction//includedSupplyChainTradeLineItem/associatedDocumentLineDocument'):  \n",
    "            outs2 = widgets.Output()\n",
    "            with outs2:\n",
    "                clear_output()   \n",
    "                display(outs2)\n",
    "                self.proc1_childs(r,hideUnused,rkey,path)\n",
    "        else:\n",
    "            self.proc1_childs(r,hideUnused,rkey,path)\n",
    "            \n",
    "    def proc1_childs(self,r,hideUnused=False,rkey='',path=''):            \n",
    "        ## option: remove value !!!\n",
    "        if not 'value' in r:\n",
    "            self.addHeader(rkey,bold=False, path=path)\n",
    "        for key in r.keys():\n",
    "            #value=getElementValue(r,key)\n",
    "            kk,value=getSimpleElementValue(r,key)\n",
    "            #print(__name__,key,kk,type(value))\n",
    "            \n",
    "            if not isinstance(value, type(None)):\n",
    "                if isinstance(value, dict):\n",
    "                    self.proc1(value,hideUnused=hideUnused,rkey=kk,path=path)\n",
    "                else:\n",
    "                    if key == 'value' and len(rkey) > 0:\n",
    "                        key=rkey\n",
    "                    self.doitElement(value,rkey=key,hideUnused=hideUnused,upkey=kk,path=path)\n",
    "            else:\n",
    "                \n",
    "                self.addVisText(key=key,value=value)  \n",
    " \n",
    "        \n",
    "    \n",
    "    def doitElement(self,r,rkey='',hideUnused=False,upkey='',path=''):\n",
    "        __name__='doitElement'\n",
    "        #print(__name__,hideUnused,'type:',type(r),'rkey:',rkey,'upkey',upkey)\n",
    "        #if isinstance(r, type(None)): \n",
    "        #    print(\"doitElement\",type(r),hideUnused)\n",
    "        #    return \n",
    "        #path = path + '/' + rkey\n",
    "        #print(__name__,path)\n",
    "        \n",
    "        if isinstance(r, tuple):\n",
    "            if isinstance(r[1], str):\n",
    "                #addHeader(rkey)\n",
    "                self.addVisText(key=r[0],value=r[1])\n",
    "            else:\n",
    "                #rkey=rkey + '.'+ r[0]\n",
    "                #print(__name__,rkey)\n",
    "                self.addHeader(rkey + __name__,bold=False)\n",
    "                self.doitElement(r[1],rkey=rkey,hideUnused=hideUnused)\n",
    "        elif isinstance(r, str):    \n",
    "            if(rkey == 'value'):\n",
    "                #print(__name__,rkey,upkey)\n",
    "                widget=self.addVisText(key=upkey,value=r)\n",
    "            else:\n",
    "                widget=self.addVisText(key=rkey,value=r)  \n",
    "            self.container.add(widget=widget,path=path)    \n",
    "        elif isinstance(r, type(None)): \n",
    "            if hideUnused==False: \n",
    "                self.addVisText(key=rkey,value=r)\n",
    "            return\n",
    "        elif isinstance(r, dict):\n",
    "            self.proc1(r,rkey=rkey,hideUnused=hideUnused,path=path)    \n",
    "        elif isinstance(r,np.ndarray):    \n",
    "            self.procArray(r,hideUnused=hideUnused,rkey=rkey,path=path) \n",
    "        elif isinstance(r, bool):  \n",
    "            widget=self.addVisCheckbox(key=rkey,value=r)\n",
    "            self.container.add(widget=widget,path=path)\n",
    "        elif isinstance(r, int):  \n",
    "            #print(path)\n",
    "            widget=self.addVisText(key=rkey,value=str(r))  \n",
    "            self.container.add(widget=widget,path=path)\n",
    "        else:\n",
    "            print(__name__,type(r),'not implemented')\n",
    "\n",
    "    def addChilds(self,m,path,hideUnused=False):\n",
    "        __name__='addChilds'\n",
    "        #print(__name__,hideUnused)\n",
    "        r = getPathValue(m, path)\n",
    "        #print(__name__,hideUnused,type(r),r)\n",
    "        self.doitElement(r,hideUnused=hideUnused,path=path)\n",
    "        return    "
   ]
  },
  {
   "cell_type": "code",
   "execution_count": 68,
   "metadata": {},
   "outputs": [],
   "source": [
    "from collections import namedtuple\n",
    "MyStruct = namedtuple(\"MyStruct\", \"widget path\")\n",
    "m = MyStruct(widget=\"foo\", path=\"bar\")"
   ]
  },
  {
   "cell_type": "code",
   "execution_count": 69,
   "metadata": {},
   "outputs": [
    {
     "data": {
      "text/plain": [
       "'bar'"
      ]
     },
     "execution_count": 69,
     "metadata": {},
     "output_type": "execute_result"
    }
   ],
   "source": [
    "m.path"
   ]
  },
  {
   "cell_type": "code",
   "execution_count": 29,
   "metadata": {},
   "outputs": [
    {
     "data": {
      "text/plain": [
       "3"
      ]
     },
     "execution_count": 29,
     "metadata": {},
     "output_type": "execute_result"
    }
   ],
   "source": [
    "len(getPathValue(invoices.iloc[int(invoice.value)],'/supplyChainTradeTransaction/includedSupplyChainTradeLineItem'))"
   ]
  },
  {
   "cell_type": "code",
   "execution_count": null,
   "metadata": {},
   "outputs": [],
   "source": [
    "#getPathValue(invoices.iloc[int(invoice.value)],'/supplyChainTradeTransaction/includedSupplyChainTradeLineItem')[0].keys()\n",
    "#create_field_container(invoices.iloc[int(invoice.value)],'/supplyChainTradeTransaction/includedSupplyChainTradeLineItem', hideUnused=True)  "
   ]
  },
  {
   "cell_type": "code",
   "execution_count": null,
   "metadata": {},
   "outputs": [],
   "source": [
    "invoices.iloc[15],pathtext.value, mytestfilter.value"
   ]
  },
  {
   "cell_type": "code",
   "execution_count": 79,
   "metadata": {},
   "outputs": [
    {
     "data": {
      "application/vnd.jupyter.widget-view+json": {
       "model_id": "9e206b5a648e4c869eaca1c4135f3818",
       "version_major": 2,
       "version_minor": 0
      },
      "text/plain": [
       "Text(value='15', description='invoice', layout=Layout(width='500px'), style=DescriptionStyle(description_width…"
      ]
     },
     "metadata": {},
     "output_type": "display_data"
    },
    {
     "data": {
      "application/vnd.jupyter.widget-view+json": {
       "model_id": "faa4477b96c741fd96829225f8901817",
       "version_major": 2,
       "version_minor": 0
      },
      "text/plain": [
       "Dropdown(description='FILTER', index=1, layout=Layout(width='500px'), options=(False, True), style=Description…"
      ]
     },
     "metadata": {},
     "output_type": "display_data"
    },
    {
     "data": {
      "application/vnd.jupyter.widget-view+json": {
       "model_id": "661a5159ba774893853f420a339e4c14",
       "version_major": 2,
       "version_minor": 0
      },
      "text/plain": [
       "Dropdown(description='FILTER', index=2, layout=Layout(width='500px'), options=('/supplyChainTradeTransaction',…"
      ]
     },
     "metadata": {},
     "output_type": "display_data"
    },
    {
     "data": {
      "application/vnd.jupyter.widget-view+json": {
       "model_id": "da81023611784e35a668b469fe830593",
       "version_major": 2,
       "version_minor": 0
      },
      "text/plain": [
       "Output()"
      ]
     },
     "metadata": {},
     "output_type": "display_data"
    },
    {
     "data": {
      "text/plain": [
       "<__main__.facturx_widgets at 0x7f9726fd02e0>"
      ]
     },
     "execution_count": 79,
     "metadata": {},
     "output_type": "execute_result"
    }
   ],
   "source": [
    "outs = widgets.Output()\n",
    "def create_field_container(x,path,hideUnused=True):\n",
    "    with outs:\n",
    "        clear_output()\n",
    "        widget = facturx_widgets(x,path,hideUnused) \n",
    "        return widget\n",
    "        \n",
    "def mytest(x):    \n",
    "    global _widget\n",
    "    _widget = create_field_container(invoices.iloc[int(invoice.value)],pathtext.value, mytestfilter.value)  \n",
    "        \n",
    "#display(outs)\n",
    "\n",
    "mytestfilter = widgets.Dropdown(options={True, False},value=True, description=\"FILTER\", style=style, layout=layout)\n",
    "invoice = widgets.Text(description = 'invoice',value = '15', style=style, layout=layout)\n",
    "pathtext = widgets.Dropdown(options={'/exchangedDocumentContext', '/exchangedDocument', '/supplyChainTradeTransaction'}, value = '/exchangedDocument',description=\"FILTER\", style=style, layout=layout)\n",
    "pathtext.observe(mytest, names='value')\n",
    "invoice.on_submit(mytest)\n",
    "display(invoice,mytestfilter,pathtext,outs)\n",
    "create_field_container(invoices.iloc[int(invoice.value)],'/exchangedDocument', hideUnused=True)  "
   ]
  },
  {
   "cell_type": "code",
   "execution_count": 82,
   "metadata": {},
   "outputs": [
    {
     "data": {
      "text/plain": [
       "[]"
      ]
     },
     "execution_count": 82,
     "metadata": {},
     "output_type": "execute_result"
    }
   ],
   "source": [
    "_widget.fields.fields"
   ]
  },
  {
   "cell_type": "code",
   "execution_count": 32,
   "metadata": {},
   "outputs": [
    {
     "data": {
      "application/vnd.jupyter.widget-view+json": {
       "model_id": "6f36909f495549a1b58c0ebfe8be3bf5",
       "version_major": 2,
       "version_minor": 0
      },
      "text/plain": [
       "HTML(value='', description=' ', layout=Layout(width='500px'), style=DescriptionStyle(description_width='250px'…"
      ]
     },
     "metadata": {},
     "output_type": "display_data"
    },
    {
     "data": {
      "application/vnd.jupyter.widget-view+json": {
       "model_id": "90a9def927a64a9a8787ea1f608683b3",
       "version_major": 2,
       "version_minor": 0
      },
      "text/plain": [
       "Text(value='asset6', description='ID', layout=Layout(width='500px'), style=DescriptionStyle(description_width=…"
      ]
     },
     "metadata": {},
     "output_type": "display_data"
    },
    {
     "data": {
      "application/vnd.jupyter.widget-view+json": {
       "model_id": "550c0e4c51c045f498195f405c976f06",
       "version_major": 2,
       "version_minor": 0
      },
      "text/plain": [
       "Text(value='x509::CN=User1@zalya-0.kubernetes.research.dev.seeburger.de,OU=client,L=Bretten,ST=Baden,C=DE::CN=…"
      ]
     },
     "metadata": {},
     "output_type": "display_data"
    },
    {
     "data": {
      "application/vnd.jupyter.widget-view+json": {
       "model_id": "0d2966850e0c4f8f95a3f65bf3828738",
       "version_major": 2,
       "version_minor": 0
      },
      "text/plain": [
       "Text(value='x509::CN=User1@zalya-1.kubernetes.research.dev.seeburger.de,OU=client,L=Bretten,ST=Baden,C=DE::CN=…"
      ]
     },
     "metadata": {},
     "output_type": "display_data"
    },
    {
     "data": {
      "application/vnd.jupyter.widget-view+json": {
       "model_id": "56972aab58f74380aa89d3065e32bc1f",
       "version_major": 2,
       "version_minor": 0
      },
      "text/plain": [
       "Text(value='0', description='hash', layout=Layout(width='500px'), style=DescriptionStyle(description_width='25…"
      ]
     },
     "metadata": {},
     "output_type": "display_data"
    },
    {
     "data": {
      "application/vnd.jupyter.widget-view+json": {
       "model_id": "e33778080997450fab1c0001c004fe2b",
       "version_major": 2,
       "version_minor": 0
      },
      "text/plain": [
       "Text(value='0', description='invoiceNumber', layout=Layout(width='500px'), style=DescriptionStyle(description_…"
      ]
     },
     "metadata": {},
     "output_type": "display_data"
    },
    {
     "data": {
      "application/vnd.jupyter.widget-view+json": {
       "model_id": "d639481a1ed44526be6aa19ddd77151d",
       "version_major": 2,
       "version_minor": 0
      },
      "text/plain": [
       "Text(value='0', description='vat', layout=Layout(width='500px'), style=DescriptionStyle(description_width='250…"
      ]
     },
     "metadata": {},
     "output_type": "display_data"
    },
    {
     "data": {
      "application/vnd.jupyter.widget-view+json": {
       "model_id": "5a93e2272e2042b6b9d5c76f4d32c7ef",
       "version_major": 2,
       "version_minor": 0
      },
      "text/plain": [
       "Text(value='0', description='netto', layout=Layout(width='500px'), style=DescriptionStyle(description_width='2…"
      ]
     },
     "metadata": {},
     "output_type": "display_data"
    },
    {
     "data": {
      "application/vnd.jupyter.widget-view+json": {
       "model_id": "201bef019fd9446cad3a9f0a80c85a5a",
       "version_major": 2,
       "version_minor": 0
      },
      "text/plain": [
       "Text(value='DE', description='countryOrigin', layout=Layout(width='500px'), style=DescriptionStyle(description…"
      ]
     },
     "metadata": {},
     "output_type": "display_data"
    },
    {
     "data": {
      "application/vnd.jupyter.widget-view+json": {
       "model_id": "8b0c7d1c7ec74871b9a6b698ecd86354",
       "version_major": 2,
       "version_minor": 0
      },
      "text/plain": [
       "Text(value='DE', description='countryReceiver', layout=Layout(width='500px'), style=DescriptionStyle(descripti…"
      ]
     },
     "metadata": {},
     "output_type": "display_data"
    },
    {
     "data": {
      "application/vnd.jupyter.widget-view+json": {
       "model_id": "29374e37962d4966bdc1705ef946476a",
       "version_major": 2,
       "version_minor": 0
      },
      "text/plain": [
       "Checkbox(value=False, description='received', layout=Layout(width='500px'), style=DescriptionStyle(description…"
      ]
     },
     "metadata": {},
     "output_type": "display_data"
    },
    {
     "data": {
      "application/vnd.jupyter.widget-view+json": {
       "model_id": "958495dcabb04ff5b07880e297dbf124",
       "version_major": 2,
       "version_minor": 0
      },
      "text/plain": [
       "Checkbox(value=False, description='receivedOrder', layout=Layout(width='500px'), style=DescriptionStyle(descri…"
      ]
     },
     "metadata": {},
     "output_type": "display_data"
    },
    {
     "data": {
      "application/vnd.jupyter.widget-view+json": {
       "model_id": "8c82c28068eb45f98dec92b5bee15f54",
       "version_major": 2,
       "version_minor": 0
      },
      "text/plain": [
       "Checkbox(value=False, description='sold', layout=Layout(width='500px'), style=DescriptionStyle(description_wid…"
      ]
     },
     "metadata": {},
     "output_type": "display_data"
    },
    {
     "data": {
      "application/vnd.jupyter.widget-view+json": {
       "model_id": "ccbcf7da90764dc687935bf58f6d9ea7",
       "version_major": 2,
       "version_minor": 0
      },
      "text/plain": [
       "Checkbox(value=False, description='claimPaid', layout=Layout(width='500px'), style=DescriptionStyle(descriptio…"
      ]
     },
     "metadata": {},
     "output_type": "display_data"
    },
    {
     "data": {
      "application/vnd.jupyter.widget-view+json": {
       "model_id": "4af6f6270a404c3094d964e920691e10",
       "version_major": 2,
       "version_minor": 0
      },
      "text/plain": [
       "Text(value='', description='claimPaidBy', layout=Layout(width='500px'), style=DescriptionStyle(description_wid…"
      ]
     },
     "metadata": {},
     "output_type": "display_data"
    },
    {
     "data": {
      "application/vnd.jupyter.widget-view+json": {
       "model_id": "923decd51f094495bf8f5bfaa60455ec",
       "version_major": 2,
       "version_minor": 0
      },
      "text/plain": [
       "Text(value='', description='taxExemptionReason', layout=Layout(width='500px'), style=DescriptionStyle(descript…"
      ]
     },
     "metadata": {},
     "output_type": "display_data"
    },
    {
     "data": {
      "application/vnd.jupyter.widget-view+json": {
       "model_id": "04e249c21a2f49fd98b2a91570f4414c",
       "version_major": 2,
       "version_minor": 0
      },
      "text/plain": [
       "Checkbox(value=False, description='taxReceived', layout=Layout(width='500px'), style=DescriptionStyle(descript…"
      ]
     },
     "metadata": {},
     "output_type": "display_data"
    }
   ],
   "source": [
    "import hashlib\n",
    "import json\n",
    "\n",
    "with open('asset.json') as json_file:\n",
    "    asset = json.load(json_file)\n",
    "\n",
    "facturx_widgets(asset,'/',hideUnused=False)\n",
    "\n",
    "\n",
    "def get_value(op):\n",
    "    try:\n",
    "        return op\n",
    "    except Exception as e:\n",
    "        return ''\n",
    "\n",
    "#_invoice = invoices.iloc[15]\n",
    "\n",
    "def assign_invoice_to_asset(_invoice,asset):\n",
    "    asset['hash'] = hash(repr(sorted(_invoice.items()))) \n",
    "    monetary = getPathValue(_invoice,'/supplyChainTradeTransaction/applicableHeaderTradeSettlement/specifiedTradeSettlementHeaderMonetarySummation/')\n",
    "    asset['invoiceNumber'] = getPathValue(_invoice,'/exchangedDocument/id')['value']\n",
    "    asset['netto'] = monetary['taxBasisTotalAmount'][0]['value']\n",
    "    asset['vat'] = monetary['taxTotalAmount'][0]['value']\n",
    "    asset['countryReceiver'] = getPathValue(_invoice,'/supplyChainTradeTransaction/applicableHeaderTradeAgreement/buyerTradeParty/postalTradeAddress/countryID')['value']\n",
    "    asset['countryOrigin']   = getPathValue(_invoice,'/supplyChainTradeTransaction/applicableHeaderTradeAgreement/sellerTradeParty/postalTradeAddress/countryID')['value']\n",
    "\n",
    "    try:\n",
    "        asset['taxExemptionReason']  = getPathValue(_invoice,'/supplyChainTradeTransaction/applicableHeaderTradeSettlement/applicableTradeTax')[0]['exemptionReason']['value']\n",
    "    except Exception as e:\n",
    "        asset['taxExemptionReason']  = ''\n",
    "\n",
    "\n",
    "\n",
    "#monetary['totalPrepaidAmount'][0]['value']\n"
   ]
  },
  {
   "cell_type": "code",
   "execution_count": 96,
   "metadata": {},
   "outputs": [
    {
     "data": {
      "application/vnd.jupyter.widget-view+json": {
       "model_id": "59dc82f8d01b412d8c4e1cf65acda634",
       "version_major": 2,
       "version_minor": 0
      },
      "text/plain": [
       "Text(value='15', description='invoice', layout=Layout(width='500px'), style=DescriptionStyle(description_width…"
      ]
     },
     "metadata": {},
     "output_type": "display_data"
    },
    {
     "data": {
      "application/vnd.jupyter.widget-view+json": {
       "model_id": "6c59831e19e842b08cc561846e45214c",
       "version_major": 2,
       "version_minor": 0
      },
      "text/plain": [
       "Output()"
      ]
     },
     "metadata": {},
     "output_type": "display_data"
    }
   ],
   "source": [
    "outs = widgets.Output()\n",
    "def create_field_container(x,path,hideUnused=True):\n",
    "    with outs:\n",
    "        clear_output()\n",
    "        widget = facturx_widgets(asset,'/',hideUnused=False)\n",
    "    return widget    \n",
    "        \n",
    "def mytest(x): \n",
    "    global _widget\n",
    "    assign_invoice_to_asset(invoices.iloc[int(invoice.value)],asset)\n",
    "    _widget = create_field_container(asset,'/')  \n",
    "        \n",
    "#display(outs)\n",
    "\n",
    "invoice = widgets.Text(description = 'invoice',value = '15', style=style, layout=layout)\n",
    "invoice.on_submit(mytest)\n",
    "display(invoice,outs)"
   ]
  },
  {
   "cell_type": "code",
   "execution_count": 98,
   "metadata": {},
   "outputs": [],
   "source": [
    "_widget.container.fields['sold'].widget.value = True"
   ]
  }
 ],
 "metadata": {
  "kernelspec": {
   "display_name": "Python 3 (ipykernel)",
   "language": "python",
   "name": "python3"
  },
  "language_info": {
   "codemirror_mode": {
    "name": "ipython",
    "version": 3
   },
   "file_extension": ".py",
   "mimetype": "text/x-python",
   "name": "python",
   "nbconvert_exporter": "python",
   "pygments_lexer": "ipython3",
   "version": "3.9.5"
  }
 },
 "nbformat": 4,
 "nbformat_minor": 4
}
