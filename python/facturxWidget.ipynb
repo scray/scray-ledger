{
 "cells": [
  {
   "cell_type": "code",
   "execution_count": 7,
   "metadata": {},
   "outputs": [],
   "source": [
    "import pandas as pd\n",
    "\n",
    "def get_invoices():\n",
    "    pd.set_option('display.max_rows', 500)\n",
    "    return pd.read_parquet('./invoices_facturx.parquet')"
   ]
  },
  {
   "cell_type": "code",
   "execution_count": 66,
   "metadata": {},
   "outputs": [],
   "source": [
    "#import numpy.ndarray\n",
    "import numpy as np\n",
    "\n",
    "def printall(m,mkey='',space='->'):\n",
    "    for key, value in m.items():\n",
    "        #print (type(value))\n",
    "        if not isinstance(value, type(None)):\n",
    "            #print(space + mkey, ' {0}: {1}'.format(key, value))\n",
    "            if isinstance(value, dict):\n",
    "                #print(space + (str(type(value))) + str(value.keys()))\n",
    "                printall(value, mkey + \"/\" + key, space + '->')\n",
    "            else:\n",
    "                if isinstance(value,np.ndarray):\n",
    "                    print('ARRAY',len(value), value)\n",
    "                print(space + mkey + '/{0}: {1}'.format(key, value) + '(' + str(type(value)) + ')') \n",
    " \n",
    "def printpaths(m,mkey='',space='->'):\n",
    "    for key, value in m.items():\n",
    "        #print (type(value))\n",
    "        if not isinstance(value, type(None)):\n",
    "            #print(space + mkey, ' {0}: {1}'.format(key, value))\n",
    "            if isinstance(value, dict):\n",
    "                print(key,value)\n",
    "                #print(key + space + (str(type(value))) + str(value.keys()))\n",
    "                #printall(value, mkey + \"/\" + key, space + '->')\n",
    "\n",
    "\n",
    "def printNotNone(val):\n",
    "    if isinstance(val, dict):\n",
    "        for key, value in val.items():\n",
    "            if not isinstance(value, type(None)):\n",
    "                print('{0}: {1}'.format(key, value)) \n",
    "    else:\n",
    "        print(val)\n",
    "\n",
    "def getDictNotNone(val):\n",
    "    #print('getDictNotNone',type(val))\n",
    "    if isinstance(val, dict):\n",
    "        r = dict()\n",
    "        #print('getDictNotNone',r.keys())\n",
    "        for key, value in val.items():\n",
    "            #print('getDictNotNone',key,value)\n",
    "            if not isinstance(value, type(None)):\n",
    "                r[key]=value\n",
    "        return r       \n",
    "    else:\n",
    "        return dict        \n",
    "\n",
    "def getPathValue(m,path=''):\n",
    "    if(len(path)<2):\n",
    "        return m\n",
    "    splits = path[1:].split(\"/\", 1)\n",
    "    value=m.get(splits[0])\n",
    "    #print(splits,value)\n",
    "    if not isinstance(value, type(None)):\n",
    "        if len(splits) > 1:\n",
    "            return getPathValue(value,path='/' + splits[1])\n",
    "    return value            \n",
    "  \n",
    "def getSimpleElementValue(d,key):\n",
    "    __name__='getSimpleElementValue'\n",
    "    #print(__name__,key,d)\n",
    "    value=d[key]\n",
    "    #print(value)\n",
    "    #print(__name__,key,value, type(value))\n",
    "    return key,value   \n",
    "    \n",
    "def getElementValue(d,key):\n",
    "    #print(d)\n",
    "    value=d[key]\n",
    "    #print(value)\n",
    "    #print(key,value, type(value))\n",
    "    if isinstance(value, dict):\n",
    "        if 'value' in value:\n",
    "            return key,value['value']\n",
    "        else: \n",
    "            #print(\"getElementValue\",key)\n",
    "            #print(\"getElementValue\",value.keys())\n",
    "            #print(\"getElementValue\",value)\n",
    "            #return key,getElementValue(value,list(value.keys())[0])\n",
    "            return key,value\n",
    "    elif isinstance(value,np.ndarray):\n",
    "        #print(len(value),type(value[0]))\n",
    "        if 'value' in value[0]:\n",
    "            return value[0]['value']\n",
    "        else:\n",
    "            #print(value[0])\n",
    "            return getElementValue(value[0],list(value[0].keys())[0])\n",
    "    elif not isinstance(value, type(None)):\n",
    "        return key,str(value)\n",
    "    else:\n",
    "        return None\n",
    "            \n",
    "    \n",
    "def getElementValue1(d,key):\n",
    "    #print(d)\n",
    "    value=d[key]\n",
    "    #print(value)\n",
    "    #print(key,value, type(value))\n",
    "    if isinstance(value, dict):\n",
    "        if 'value' in value:\n",
    "            return value['value']\n",
    "        else: \n",
    "            print(key)\n",
    "            print(value.keys())\n",
    "            print(value)\n",
    "            return getElementValue(value,list(value.keys())[0])\n",
    "    elif isinstance(value,np.ndarray):\n",
    "        #print(len(value),type(value[0]))\n",
    "        if 'value' in value[0]:\n",
    "            return value[0]['value']\n",
    "        else:\n",
    "            #print(value[0])\n",
    "            return getElementValue(value[0],list(value[0].keys())[0])\n",
    "    elif not isinstance(value, type(None)):\n",
    "        return str(value)\n",
    "    else:\n",
    "        return None\n",
    "        \n",
    "def freeze(d):\n",
    "    if isinstance(d, dict):\n",
    "        return frozenset((key, freeze(value)) for key, value in d.items())\n",
    "    elif isinstance(d, list):\n",
    "        return tuple(freeze(value) for value in d)\n",
    "    return d            "
   ]
  },
  {
   "cell_type": "code",
   "execution_count": 9,
   "metadata": {},
   "outputs": [],
   "source": [
    "\n",
    "\n",
    "def doit(m,path,hideUnused=False):\n",
    "    __name__='doit'\n",
    "    print(__name__,type(m))\n",
    "    r = getPathValue(m, path)\n",
    "    if isinstance(r, type(None)):\n",
    "        return\n",
    "    if hideUnused == True:\n",
    "        r = getDictNotNone(r)\n",
    "    print(r)    \n",
    "    for key in r.keys():\n",
    "        value=getElementValue(r,key)\n",
    "        #print (key,value)\n",
    "        text = widgets.Text(description = key,value = value, style=style, layout=layout)\n",
    "        display(text)\n",
    "\n",
    "\n",
    "\n",
    "def doit1(m,path,hideUnused=False):\n",
    "    __name__='doit1'\n",
    "    r = getPathValue(m, path)\n",
    "    #print(__name__,type(r),r,hideUnused)\n",
    "    if hideUnused == True:\n",
    "        r = getDictNotNone(r)\n",
    "    proc1(r,hideUnused)\n",
    "       \n",
    "\n",
    "    \n",
    "\n",
    "## replace by doitElement ???????    \n",
    "def addChildsElement(r,hideUnused=False): \n",
    "    __name__='addChildsElement'\n",
    "    #print(__name__,r,type(r),hideUnused)\n",
    "    if isinstance(r, dict):\n",
    "        doitElement(r,hideUnused=hideUnused)\n",
    "        for key, value in r.items():\n",
    "            #print (type(value))\n",
    "            addHeader(str(key))    \n",
    "            if not isinstance(value, type(None)):\n",
    "                #print(space + mkey, ' {0}: {1}'.format(key, value))\n",
    "                if isinstance(value, dict):\n",
    "                    #print(\"addChildsElement\",hideUnused,value)\n",
    "                    doitElement(r,hideUnused=hideUnused)\n",
    "    else:\n",
    "        print(__name__,type(r),'not implemented')"
   ]
  },
  {
   "cell_type": "code",
   "execution_count": 124,
   "metadata": {},
   "outputs": [],
   "source": [
    "import ipywidgets as widgets\n",
    "from IPython.display import clear_output\n",
    "from IPython.display import Javascript, display\n",
    "import uuid\n",
    "\n",
    "style = {'description_width': '250px'}\n",
    "layout = {'width': '500px'}\n",
    "\n",
    "class facturx_widgets():\n",
    "    #layout = widgets.Layout(width='auto', height='40px') #set width and height\n",
    "    #style = {'description_width': '150px'}\n",
    "    #layout = {'width': '400px'}\n",
    "    \n",
    "    def __init__(self,m,path,hideUnused=False): \n",
    "        self.addChilds(m,path,hideUnused=hideUnused)\n",
    "    \n",
    "    def addHeader(self,text='',bold=True):\n",
    "        if bold == True:\n",
    "            html = widgets.HTML(\n",
    "            value=\"<b>\" + text + \"</b>\",\n",
    "            description=' ',\n",
    "            style=style, layout=layout\n",
    "            )\n",
    "        else:\n",
    "            html = widgets.HTML(\n",
    "            value=text,\n",
    "            description=' ',\n",
    "            style=style, layout=layout\n",
    "            )\n",
    "        display(html)    \n",
    "\n",
    "    def addVisText(self,key='',value=''):\n",
    "        text = widgets.Text(description = key,value = value, style=style, layout=layout)\n",
    "        display(text)     \n",
    "    \n",
    "    def addVisCheckbox(self,key='',value=False):\n",
    "        text = widgets.Checkbox(description = key,value = value, style=style, layout=layout)\n",
    "        display(text)   \n",
    "        \n",
    "    def procArray(self,r,hideUnused=False,rkey='',path=''):   \n",
    "        __name__='procArray'\n",
    "        #print (__name__,type(r),rkey)\n",
    "        #path = path + '/' + rkey\n",
    "        #print(__name__,path)\n",
    "        \n",
    "        if not isinstance(r, np.ndarray):\n",
    "            print(__name__,type(r),'not implemented')\n",
    "            return\n",
    "        for element in r:\n",
    "            #print (__name__,type(element),element)\n",
    "            self.doitElement(element,rkey=rkey,hideUnused=hideUnused,path=path)\n",
    "\n",
    "    def procList(self,r,hideUnused=False,rkey='',path=''):   \n",
    "        __name__='procList' \n",
    "        print (__name__,type(r),rkey)\n",
    "        for element in r:\n",
    "            #print (__name__,type(element),element)\n",
    "            self.doitElement(element,rkey=rkey,hideUnused=hideUnused)\n",
    " \n",
    "    # proc dic \n",
    "    def proc1a(self,r,hideUnused=False,rkey=''):\n",
    "        __name__='proc1'\n",
    "        if not isinstance(r, dict):\n",
    "            print(__name__,type(r),'not implemented')\n",
    "            return\n",
    "        #print(__name__,'rkey=' + rkey,r.keys())\n",
    "    \n",
    "        if hideUnused == True:\n",
    "            r = getDictNotNone(r)\n",
    "                \n",
    "        ## option: remove value !!!\n",
    "        if not 'value' in r:\n",
    "            #print(__name__,'!!!',r)\n",
    "            self.addHeader(rkey,bold=False)\n",
    "        for key in r.keys():\n",
    "            #value=getElementValue(r,key)\n",
    "            kk,value=getSimpleElementValue(r,key)\n",
    "            #print(__name__,key,kk,type(value))\n",
    "            \n",
    "            if not isinstance(value, type(None)):\n",
    "                if isinstance(value, dict):\n",
    "                    self.proc1(value,hideUnused=hideUnused,rkey=kk)\n",
    "                    #if not 'value' in value:\n",
    "                    #    self.addHeader(str(key) )\n",
    "                    #for kkey in value.keys():\n",
    "                    #    key1,value1=getSimpleElementValue(value,kkey)\n",
    "                    #    self.doitElement(value1,rkey=key1,hideUnused=hideUnused,upkey=kk)\n",
    "                elif isinstance(value, str):\n",
    "                    if key == 'value' and len(rkey) > 0:\n",
    "                        key=rkey\n",
    "                    self.addVisText(key=key,value=value) \n",
    "                elif isinstance(value, int):\n",
    "                    if key == 'value' and len(rkey) > 0:\n",
    "                        key=rkey\n",
    "                    self.addVisText(key=key,value=str(value))     \n",
    "                elif isinstance(value,list):    \n",
    "                    self.procList(value,hideUnused=hideUnused,rkey=key)\n",
    "                elif isinstance(value,np.ndarray):    \n",
    "                    self.procArray(value,hideUnused=hideUnused,rkey=key)     \n",
    "                else:\n",
    "                    print(__name__,'not implemented',type(value))\n",
    "                value = str(value)\n",
    "            else:\n",
    "                self.addVisText(key=key,value=value)  \n",
    "            #addVisText(key=key,value=value)  \n",
    "    \n",
    "    def proc1(self,r,hideUnused=False,rkey='',path=''):\n",
    "        __name__='proc1'\n",
    "        if not isinstance(r, dict):\n",
    "            print(__name__,type(r),'not implemented')\n",
    "            return\n",
    "        #print(__name__,'rkey=' + rkey,r.keys())\n",
    "    \n",
    "        path = path + '/' + rkey\n",
    "        #print(__name__,path)\n",
    "    \n",
    "        if hideUnused == True:\n",
    "            r = getDictNotNone(r)\n",
    "                \n",
    "        ## option: remove value !!!\n",
    "        if not 'value' in r:\n",
    "            self.addHeader(rkey,bold=False)\n",
    "        for key in r.keys():\n",
    "            #value=getElementValue(r,key)\n",
    "            kk,value=getSimpleElementValue(r,key)\n",
    "            #print(__name__,key,kk,type(value))\n",
    "            \n",
    "            if not isinstance(value, type(None)):\n",
    "                if isinstance(value, dict):\n",
    "                    self.proc1(value,hideUnused=hideUnused,rkey=kk,path=path)\n",
    "                else:\n",
    "                    if key == 'value' and len(rkey) > 0:\n",
    "                        key=rkey\n",
    "                    self.doitElement(value,rkey=key,hideUnused=hideUnused,upkey=kk,path=path)\n",
    "            else:\n",
    "                self.addVisText(key=key,value=value)  \n",
    " \n",
    "        \n",
    "    \n",
    "    def doitElement(self,r,rkey='',hideUnused=False,upkey='',path=''):\n",
    "        __name__='doitElement'\n",
    "        #print(__name__,hideUnused,'type:',type(r),'rkey:',rkey,'upkey',upkey)\n",
    "        #if isinstance(r, type(None)): \n",
    "        #    print(\"doitElement\",type(r),hideUnused)\n",
    "        #    return \n",
    "        #path = path + '/' + rkey\n",
    "        #print(__name__,path)\n",
    "        \n",
    "        if isinstance(r, tuple):\n",
    "            if isinstance(r[1], str):\n",
    "                #addHeader(rkey)\n",
    "                self.addVisText(key=r[0],value=r[1])\n",
    "            else:\n",
    "                #rkey=rkey + '.'+ r[0]\n",
    "                #print(__name__,rkey)\n",
    "                self.addHeader(rkey + __name__,bold=False)\n",
    "                self.doitElement(r[1],rkey=rkey,hideUnused=hideUnused)\n",
    "        elif isinstance(r, str):    \n",
    "            if(rkey == 'value'):\n",
    "                #print(__name__,rkey,upkey)\n",
    "                self.addVisText(key=upkey,value=r)\n",
    "                return\n",
    "            self.addVisText(key=rkey,value=r)         \n",
    "        elif isinstance(r, type(None)): \n",
    "            if hideUnused==False: \n",
    "                self.addVisText(key=rkey,value=r)\n",
    "            return\n",
    "        elif isinstance(r, dict):\n",
    "            self.proc1(r,rkey=rkey,hideUnused=hideUnused,path=path)    \n",
    "        elif isinstance(r,np.ndarray):    \n",
    "            self.procArray(r,hideUnused=hideUnused,rkey=rkey,path=path) \n",
    "        elif isinstance(r, bool):  \n",
    "            self.addVisCheckbox(key=rkey,value=r)\n",
    "        elif isinstance(r, int):  \n",
    "            self.addVisText(key=rkey,value=str(r))     \n",
    "        else:\n",
    "            print(__name__,type(r),'not implemented')\n",
    "\n",
    "    def addChilds(self,m,path,hideUnused=False):\n",
    "        __name__='addChilds'\n",
    "        #print(__name__,hideUnused)\n",
    "        r = getPathValue(m, path)\n",
    "        #print(__name__,hideUnused,type(r),r)\n",
    "        self.doitElement(r,hideUnused=hideUnused,path=path)\n",
    "        return    "
   ]
  },
  {
   "cell_type": "code",
   "execution_count": 78,
   "metadata": {},
   "outputs": [
    {
     "data": {
      "text/plain": [
       "'2076.76'"
      ]
     },
     "execution_count": 78,
     "metadata": {},
     "output_type": "execute_result"
    }
   ],
   "source": []
  },
  {
   "cell_type": "code",
   "execution_count": null,
   "metadata": {},
   "outputs": [],
   "source": [
    "#getPathValue(invoices.iloc[int(invoice.value)],'/supplyChainTradeTransaction/includedSupplyChainTradeLineItem')[0].keys()\n",
    "#create_field_container(invoices.iloc[int(invoice.value)],'/supplyChainTradeTransaction/includedSupplyChainTradeLineItem', hideUnused=True)  "
   ]
  },
  {
   "cell_type": "code",
   "execution_count": null,
   "metadata": {},
   "outputs": [],
   "source": [
    "invoices.iloc[15],pathtext.value, mytestfilter.value"
   ]
  },
  {
   "cell_type": "code",
   "execution_count": 128,
   "metadata": {},
   "outputs": [
    {
     "data": {
      "application/vnd.jupyter.widget-view+json": {
       "model_id": "0bb0b855487b4bd180586e3bca3bfccc",
       "version_major": 2,
       "version_minor": 0
      },
      "text/plain": [
       "Text(value='15', description='invoice', layout=Layout(width='500px'), style=DescriptionStyle(description_width…"
      ]
     },
     "metadata": {},
     "output_type": "display_data"
    },
    {
     "data": {
      "application/vnd.jupyter.widget-view+json": {
       "model_id": "af16b7c4e43a41479d2abf3e5713656d",
       "version_major": 2,
       "version_minor": 0
      },
      "text/plain": [
       "Dropdown(description='FILTER', index=1, layout=Layout(width='500px'), options=(False, True), style=Description…"
      ]
     },
     "metadata": {},
     "output_type": "display_data"
    },
    {
     "data": {
      "application/vnd.jupyter.widget-view+json": {
       "model_id": "1d3b0e586f2e4511b2da129c52d18a24",
       "version_major": 2,
       "version_minor": 0
      },
      "text/plain": [
       "Dropdown(description='FILTER', layout=Layout(width='500px'), options=('/exchangedDocument', '/exchangedDocumen…"
      ]
     },
     "metadata": {},
     "output_type": "display_data"
    },
    {
     "data": {
      "application/vnd.jupyter.widget-view+json": {
       "model_id": "96f8a7b379f24cf39320024b0d1952cf",
       "version_major": 2,
       "version_minor": 0
      },
      "text/plain": [
       "Output()"
      ]
     },
     "metadata": {},
     "output_type": "display_data"
    }
   ],
   "source": [
    "outs = widgets.Output()\n",
    "def create_field_container(x,path,hideUnused=True):\n",
    "    with outs:\n",
    "        clear_output()\n",
    "        widget = facturx_widgets(x,path,hideUnused) \n",
    "        \n",
    "def mytest(x):        \n",
    "    create_field_container(invoices.iloc[int(invoice.value)],pathtext.value, mytestfilter.value)  \n",
    "        \n",
    "#display(outs)\n",
    "\n",
    "mytestfilter = widgets.Dropdown(options={True, False},value=True, description=\"FILTER\", style=style, layout=layout)\n",
    "invoice = widgets.Text(description = 'invoice',value = '15', style=style, layout=layout)\n",
    "pathtext = widgets.Dropdown(options={'/exchangedDocumentContext', '/exchangedDocument', '/supplyChainTradeTransaction'}, value = '/exchangedDocument',description=\"FILTER\", style=style, layout=layout)\n",
    "pathtext.observe(mytest, names='value')\n",
    "invoice.on_submit(mytest)\n",
    "display(invoice,mytestfilter,pathtext,outs)\n",
    "create_field_container(invoices.iloc[int(invoice.value)],'/exchangedDocument', hideUnused=True)  "
   ]
  },
  {
   "cell_type": "code",
   "execution_count": 92,
   "metadata": {},
   "outputs": [
    {
     "name": "stdout",
     "output_type": "stream",
     "text": [
      "proc1 //\n"
     ]
    },
    {
     "data": {
      "application/vnd.jupyter.widget-view+json": {
       "model_id": "6d4362665f3c41f481b3aa88e9325337",
       "version_major": 2,
       "version_minor": 0
      },
      "text/plain": [
       "HTML(value='', description=' ', layout=Layout(width='500px'), style=DescriptionStyle(description_width='250px'…"
      ]
     },
     "metadata": {},
     "output_type": "display_data"
    },
    {
     "data": {
      "application/vnd.jupyter.widget-view+json": {
       "model_id": "fd27b771666643eb865c37395423dc88",
       "version_major": 2,
       "version_minor": 0
      },
      "text/plain": [
       "Text(value='asset6', description='ID', layout=Layout(width='500px'), style=DescriptionStyle(description_width=…"
      ]
     },
     "metadata": {},
     "output_type": "display_data"
    },
    {
     "data": {
      "application/vnd.jupyter.widget-view+json": {
       "model_id": "31513e7ff62244d59b15837bc45ef4b3",
       "version_major": 2,
       "version_minor": 0
      },
      "text/plain": [
       "Text(value='x509::CN=User1@zalya-0.kubernetes.research.dev.seeburger.de,OU=client,L=Bretten,ST=Baden,C=DE::CN=…"
      ]
     },
     "metadata": {},
     "output_type": "display_data"
    },
    {
     "data": {
      "application/vnd.jupyter.widget-view+json": {
       "model_id": "4f766cad51af4fdcadb39d2f94ec0d52",
       "version_major": 2,
       "version_minor": 0
      },
      "text/plain": [
       "Text(value='x509::CN=User1@zalya-1.kubernetes.research.dev.seeburger.de,OU=client,L=Bretten,ST=Baden,C=DE::CN=…"
      ]
     },
     "metadata": {},
     "output_type": "display_data"
    },
    {
     "data": {
      "application/vnd.jupyter.widget-view+json": {
       "model_id": "671256e223304f9ea993b058357e6d14",
       "version_major": 2,
       "version_minor": 0
      },
      "text/plain": [
       "Text(value='0', description='hash', layout=Layout(width='500px'), style=DescriptionStyle(description_width='25…"
      ]
     },
     "metadata": {},
     "output_type": "display_data"
    },
    {
     "data": {
      "application/vnd.jupyter.widget-view+json": {
       "model_id": "496448f86c0e418b928fc984668761a4",
       "version_major": 2,
       "version_minor": 0
      },
      "text/plain": [
       "Text(value='0', description='invoiceNumber', layout=Layout(width='500px'), style=DescriptionStyle(description_…"
      ]
     },
     "metadata": {},
     "output_type": "display_data"
    },
    {
     "data": {
      "application/vnd.jupyter.widget-view+json": {
       "model_id": "07cd13ca691b4d57bfe3bb2a226ad24e",
       "version_major": 2,
       "version_minor": 0
      },
      "text/plain": [
       "Text(value='0', description='vat', layout=Layout(width='500px'), style=DescriptionStyle(description_width='250…"
      ]
     },
     "metadata": {},
     "output_type": "display_data"
    },
    {
     "data": {
      "application/vnd.jupyter.widget-view+json": {
       "model_id": "e1286d3abd754e049842ee12d70f4aa4",
       "version_major": 2,
       "version_minor": 0
      },
      "text/plain": [
       "Text(value='0', description='netto', layout=Layout(width='500px'), style=DescriptionStyle(description_width='2…"
      ]
     },
     "metadata": {},
     "output_type": "display_data"
    },
    {
     "data": {
      "application/vnd.jupyter.widget-view+json": {
       "model_id": "20c153059f604ffba664dcd221fc8403",
       "version_major": 2,
       "version_minor": 0
      },
      "text/plain": [
       "Text(value='DE', description='countryOrigin', layout=Layout(width='500px'), style=DescriptionStyle(description…"
      ]
     },
     "metadata": {},
     "output_type": "display_data"
    },
    {
     "data": {
      "application/vnd.jupyter.widget-view+json": {
       "model_id": "59a2da04204c46c2b1399687df28e6d8",
       "version_major": 2,
       "version_minor": 0
      },
      "text/plain": [
       "Text(value='DE', description='countryReceiver', layout=Layout(width='500px'), style=DescriptionStyle(descripti…"
      ]
     },
     "metadata": {},
     "output_type": "display_data"
    },
    {
     "data": {
      "application/vnd.jupyter.widget-view+json": {
       "model_id": "b25fb20105104326a17964a0ddb5b53b",
       "version_major": 2,
       "version_minor": 0
      },
      "text/plain": [
       "Checkbox(value=False, description='received', layout=Layout(width='500px'), style=DescriptionStyle(description…"
      ]
     },
     "metadata": {},
     "output_type": "display_data"
    },
    {
     "data": {
      "application/vnd.jupyter.widget-view+json": {
       "model_id": "3e8bd76f4e0f46c3b3e4c8c3cf046213",
       "version_major": 2,
       "version_minor": 0
      },
      "text/plain": [
       "Checkbox(value=False, description='receivedOrder', layout=Layout(width='500px'), style=DescriptionStyle(descri…"
      ]
     },
     "metadata": {},
     "output_type": "display_data"
    },
    {
     "data": {
      "application/vnd.jupyter.widget-view+json": {
       "model_id": "7d6b087eacbc42d2b5904581b0a23caa",
       "version_major": 2,
       "version_minor": 0
      },
      "text/plain": [
       "Checkbox(value=False, description='sold', layout=Layout(width='500px'), style=DescriptionStyle(description_wid…"
      ]
     },
     "metadata": {},
     "output_type": "display_data"
    },
    {
     "data": {
      "application/vnd.jupyter.widget-view+json": {
       "model_id": "c323247d41ea4115a7d501aed0019b21",
       "version_major": 2,
       "version_minor": 0
      },
      "text/plain": [
       "Checkbox(value=False, description='claimPaid', layout=Layout(width='500px'), style=DescriptionStyle(descriptio…"
      ]
     },
     "metadata": {},
     "output_type": "display_data"
    },
    {
     "data": {
      "application/vnd.jupyter.widget-view+json": {
       "model_id": "c6079e9cb16a4db49c2b730397f9ad92",
       "version_major": 2,
       "version_minor": 0
      },
      "text/plain": [
       "Text(value='', description='claimPaidBy', layout=Layout(width='500px'), style=DescriptionStyle(description_wid…"
      ]
     },
     "metadata": {},
     "output_type": "display_data"
    },
    {
     "data": {
      "application/vnd.jupyter.widget-view+json": {
       "model_id": "9d8a89702ce74c75afaaafdf012ea0fb",
       "version_major": 2,
       "version_minor": 0
      },
      "text/plain": [
       "Text(value='', description='taxExemptionReason', layout=Layout(width='500px'), style=DescriptionStyle(descript…"
      ]
     },
     "metadata": {},
     "output_type": "display_data"
    },
    {
     "data": {
      "application/vnd.jupyter.widget-view+json": {
       "model_id": "b31ad2af9f104756a4f42ca811142e85",
       "version_major": 2,
       "version_minor": 0
      },
      "text/plain": [
       "Checkbox(value=False, description='taxReceived', layout=Layout(width='500px'), style=DescriptionStyle(descript…"
      ]
     },
     "metadata": {},
     "output_type": "display_data"
    },
    {
     "data": {
      "text/plain": [
       "<__main__.facturx_widgets at 0x7fe096b61640>"
      ]
     },
     "execution_count": 92,
     "metadata": {},
     "output_type": "execute_result"
    }
   ],
   "source": [
    "import json\n",
    "\n",
    "with open('asset.json') as json_file:\n",
    "    asset = json.load(json_file)\n",
    "\n",
    "facturx_widgets(asset,'/',hideUnused=False)"
   ]
  },
  {
   "cell_type": "code",
   "execution_count": 126,
   "metadata": {},
   "outputs": [],
   "source": [
    "import hashlib\n",
    "\n",
    "def get_value(op):\n",
    "    try:\n",
    "        return op\n",
    "    except Exception as e:\n",
    "        return ''\n",
    "\n",
    "#_invoice = invoices.iloc[15]\n",
    "\n",
    "def assign_invoice_to_asset(_invoice,asset):\n",
    "    asset['hash'] = hash(repr(sorted(_invoice.items()))) \n",
    "    monetary = getPathValue(_invoice,'/supplyChainTradeTransaction/applicableHeaderTradeSettlement/specifiedTradeSettlementHeaderMonetarySummation/')\n",
    "    asset['invoiceNumber'] = getPathValue(_invoice,'/exchangedDocument/id')['value']\n",
    "    asset['netto'] = monetary['taxBasisTotalAmount'][0]['value']\n",
    "    asset['vat'] = monetary['taxTotalAmount'][0]['value']\n",
    "    asset['countryReceiver'] = getPathValue(_invoice,'/supplyChainTradeTransaction/applicableHeaderTradeAgreement/buyerTradeParty/postalTradeAddress/countryID')['value']\n",
    "    asset['countryOrigin']   = getPathValue(_invoice,'/supplyChainTradeTransaction/applicableHeaderTradeAgreement/sellerTradeParty/postalTradeAddress/countryID')['value']\n",
    "\n",
    "    try:\n",
    "        asset['taxExemptionReason']  = getPathValue(_invoice,'/supplyChainTradeTransaction/applicableHeaderTradeSettlement/applicableTradeTax')[0]['exemptionReason']['value']\n",
    "    except Exception as e:\n",
    "        asset['taxExemptionReason']  = ''\n",
    "\n",
    "\n",
    "\n",
    "#monetary['totalPrepaidAmount'][0]['value']\n"
   ]
  },
  {
   "cell_type": "code",
   "execution_count": 127,
   "metadata": {},
   "outputs": [
    {
     "data": {
      "application/vnd.jupyter.widget-view+json": {
       "model_id": "d32fe354ed0f4d01a00572f73261cfcc",
       "version_major": 2,
       "version_minor": 0
      },
      "text/plain": [
       "Text(value='15', description='invoice', layout=Layout(width='500px'), style=DescriptionStyle(description_width…"
      ]
     },
     "metadata": {},
     "output_type": "display_data"
    },
    {
     "data": {
      "application/vnd.jupyter.widget-view+json": {
       "model_id": "67eb268d0ff240a29d5af65952d578aa",
       "version_major": 2,
       "version_minor": 0
      },
      "text/plain": [
       "Output()"
      ]
     },
     "metadata": {},
     "output_type": "display_data"
    }
   ],
   "source": [
    "outs = widgets.Output()\n",
    "def create_field_container(x,path,hideUnused=True):\n",
    "    with outs:\n",
    "        clear_output()\n",
    "        widget = facturx_widgets(asset,'/',hideUnused=False)\n",
    "        \n",
    "def mytest(x): \n",
    "    assign_invoice_to_asset(invoices.iloc[int(invoice.value)],asset)\n",
    "    create_field_container(asset,'/')  \n",
    "        \n",
    "#display(outs)\n",
    "\n",
    "invoice = widgets.Text(description = 'invoice',value = '15', style=style, layout=layout)\n",
    "invoice.on_submit(mytest)\n",
    "display(invoice,outs)"
   ]
  }
 ],
 "metadata": {
  "kernelspec": {
   "display_name": "Python 3 (ipykernel)",
   "language": "python",
   "name": "python3"
  },
  "language_info": {
   "codemirror_mode": {
    "name": "ipython",
    "version": 3
   },
   "file_extension": ".py",
   "mimetype": "text/x-python",
   "name": "python",
   "nbconvert_exporter": "python",
   "pygments_lexer": "ipython3",
   "version": "3.9.5"
  }
 },
 "nbformat": 4,
 "nbformat_minor": 4
}
