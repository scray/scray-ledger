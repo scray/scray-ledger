{
 "cells": [
  {
   "cell_type": "markdown",
   "metadata": {},
   "source": [
    "# Kubernetes"
   ]
  },
  {
   "cell_type": "markdown",
   "metadata": {},
   "source": [
    "# Kubernetes Version (Current)"
   ]
  },
  {
   "cell_type": "code",
   "execution_count": 6,
   "metadata": {},
   "outputs": [],
   "source": [
    "#!pip install ipynb\n",
    "from ipynb.fs.full.facturxWidget import *\n",
    "\n",
    "from ipynb.fs.full.kubernetesTool import *"
   ]
  },
  {
   "cell_type": "markdown",
   "metadata": {},
   "source": [
    "## addPeer"
   ]
  },
  {
   "cell_type": "code",
   "execution_count": 238,
   "metadata": {},
   "outputs": [],
   "source": [
    "import kubernetesTool\n",
    "import subprocess\n",
    "\n",
    "class KubernetesPeer: \n",
    "    def __init__(self, name='',prefix='peer', hostname='kubernetes.research.dev.seeburger.de',ca_country='DE',ca_province='Baden',ca_locality='Bretten'):\n",
    "        self.name = name\n",
    "\n",
    "        self.addPeer(hostname,ca_country,ca_province,ca_locality)\n",
    "        \n",
    "        self.pod_name = kubernetesTool.getPod(name)\n",
    "        self.listen_port = kubernetesTool.getPort(peername=name, name = prefix + '-listen')\n",
    "        self.gossip_port = kubernetesTool.getPort(peername=name, name = prefix + '-gossip')\n",
    "                \n",
    "    def addPeer(self, hostname='kubernetes.research.dev.seeburger.de',ca_country='DE',ca_province='Baden',ca_locality='Bretten', prefix='peer'):  \n",
    "        peername = self.name\n",
    "        #if peername in peers.keys():\n",
    "        #    return peers[peername]\n",
    "        # Create configuration for new peer\n",
    "        executeLocalCmd(['/bin/bash','-c','cd /home/jovyan/scray-ledger/containers/ && /home/jovyan/scray-ledger/containers/configure-deployment.sh -n ' + peername])\n",
    "        # Start service\n",
    "        executeKubectlCmd(['apply', '-f', '/home/jovyan/scray-ledger/containers/target/' + peername + '/k8s-peer-service.yaml'])\n",
    "        self.listen_port = kubernetesTool.getPort(peername=peername, name = prefix + '-listen')\n",
    "        self.gossip_port = kubernetesTool.getPort(peername=peername, name = prefix + '-gossip')\n",
    "        # Create peer configuration\n",
    "        res = self.createConfig(hostname=hostname,\n",
    "                                ca_country=ca_country,ca_province=ca_province,ca_locality=ca_locality)\n",
    "        # Start new peer\n",
    "        executeKubectlCmd(['apply', '-f','/home/jovyan/scray-ledger/containers/target/' + peername + '/k8s-peer.yaml'])\n",
    "        #peer = kubernetespeer(name=peername)\n",
    "        #peers[peername] = self\n",
    "        #return peer        \n",
    "        \n",
    "    def addPeerFromKubernetes():\n",
    "        peer= kubernetespeer(self.name)\n",
    "        peers[self.name] = peer\n",
    "        \n",
    "    def getCertificate(self):\n",
    "        try:\n",
    "            return str(subprocess.check_output(['cat', self.crt]))[2:-3]   \n",
    "        except Exception as e:\n",
    "            return str(e)    \n",
    "        \n",
    "    def createConfig(self,hostname='kubernetes.research.dev.seeburger.de' ,ca_country='DE',ca_province='Baden',ca_locality='Bretten'):\n",
    "        try:  \n",
    "            peername=self.name\n",
    "            peer_listen_port=self.listen_port\n",
    "            #peer_gossip_port=self.gossip_port\n",
    "            peer_gossip_port=self.listen_port\n",
    "            address = 'peer0.' + peername  + '.' +  hostname + ':'\n",
    "            output  = subprocess.check_output(['/home/jovyan/work/usr/bin/kubectl', 'create','configmap','hl-fabric-peer-' + peername,\n",
    "                                              '--from-literal=hostname=' + peername  + '.' + hostname,\n",
    "                                              '--from-literal=org_name=' + peername,\n",
    "                                              '--from-literal=data_share=hl-fabric-data-share-service:80',\n",
    "                                              '--from-literal=ca_country='  + ca_country,\n",
    "                                              '--from-literal=ca_province=' + ca_province,\n",
    "                                              '--from-literal=ca_locality=' + ca_locality,\n",
    "                                              '--from-literal=CORE_PEER_ADDRESS=' + address + peer_listen_port,\n",
    "                                              '--from-literal=CORE_PEER_GOSSIP_EXTERNALENDPOINT=' + address + peer_gossip_port,\n",
    "                                              '--from-literal=CORE_PEER_LOCALMSPID=' + peername + 'MSP'])\n",
    "            return str(output)\n",
    "        except Exception as e:\n",
    "            return str(e)  \n",
    "\n",
    "    \n",
    "    def deleteConfig(self):\n",
    "        try:  \n",
    "            output  = subprocess.check_output(['/home/jovyan/work/usr/bin/kubectl', 'delete','configmap','hl-fabric-peer-' + self.name])\n",
    "            return str(output)\n",
    "        except Exception as e:\n",
    "            return str(e)     \n",
    "        \n",
    "    def deleteDeployment(self):\n",
    "        try:  \n",
    "            output  = subprocess.check_output(['/home/jovyan/work/usr/bin/kubectl', 'delete','deployment', self.name])\n",
    "            return str(output)\n",
    "        except Exception as e:\n",
    "            return str(e)           \n",
    "\n",
    "    def deletePeer(self):\n",
    "        self.deleteDeployment()\n",
    "        self.deleteConfig()        \n",
    "        \n",
    "    def joinHyperledger(self,orderer_ip=None,orderer_hostname=None,orderer_port=None,channel_name=None,shared_fs_host=None,ext_peer_ip='10.15.136.41'):          \n",
    "        cmd = toCmd(['/mnt/conf/peer_join.sh', orderer_ip,orderer_hostname,orderer_port,channel_name,shared_fs_host,ext_peer_ip])\n",
    "        print(cmd)\n",
    "        return executePeerCmd(self.pod_name, cmd)\n",
    "\n",
    "    def endorse_peer(self,orderer_ip='',channel_name='',shared_fs_host='',ext_peer_ip='10.15.136.41'):\n",
    "        peername = self.name\n",
    "        peer_host_name = peername + '.kubernetes.research.dev.seeburger.de'\n",
    "        cmd = toCmd(['/mnt/conf/orderer/scripts/inform_existing_nodes.sh',orderer_ip,channel_name,self.name,shared_fs_host,ext_peer_ip,peer_host_name]) \n",
    "        #print(cmd)\n",
    "        return executePeerCmd(orderer.pod_name,cmd,cli='scray-orderer-cli')\n",
    "\n",
    "    def endorse_and_join(self):    \n",
    "        res1 = self.endorse_peer(orderer_ip=orderer_ip,channel_name=channel_name,shared_fs_host='10.14.128.38:30080')   \n",
    "        res2  = self.joinHyperledger(orderer_ip=orderer_ip,orderer_hostname=orderer_hostname,orderer_port=orderer_port,channel_name=channel_name,shared_fs_host=shared_fs_host,ext_peer_ip='10.15.136.41')\n",
    "        return res1,res2        \n",
    "        \n",
    "    def installAndAproveChaincode(self,orderer,channel_name,cc_host='10.14.128.38',pkgid='',cc_hostname='asset-transfer-basic.org1.example.com',cc_label='basic_1.0',shared_fs='kubernetes.research.dev.seeburger.de:30080', sequence=1):\n",
    "        #!/home/jovyan/work/usr/bin/kubectl exec --stdin --tty $POD_NAME -c scray-peer-cli -- /bin/sh /mnt/conf/install_and_approve_cc.sh $IP_CC_SERVICE $IP_OF_EXAMPLE_NETWORK\n",
    "        #strlist = ['/mnt/conf/install_and_approve_cc.sh', cc_host, orderer.get_ip(), orderer.host, str(orderer.orderer_intern), channel_name ]\n",
    "        strlist = ['/mnt/conf/install_and_approve_cc.sh', cc_host, orderer.get_ip(), orderer.host, str(orderer.listen_port), channel_name,pkgid,cc_hostname, cc_label,shared_fs, str(sequence) ]\n",
    "        print(toCmd(strlist))\n",
    "        return executePeerCmd(self.pod_name,toCmd(strlist)) \n",
    "\n",
    "    def commitChaincode(self,channel_name,sequence=1,pkgid=''):\n",
    "        strlist = ['/mnt/conf/peer/cc_commit.sh', channel_name, str(sequence),pkgid ]\n",
    "        print(toCmd(strlist))\n",
    "        return executePeerCmd(self.pod_name,toCmd(strlist))                 \n",
    "        \n",
    "        \n",
    "#class ordererpeer(kubernetes_peer):\n",
    "class ordererpeer(object):\n",
    "    def __init__(self, name='',prefix='orderer'):\n",
    "        #super().__init__(name,prefix)\n",
    "        self.name = ''\n",
    "        self.pod_name = kubernetesTool.getPod(name)\n",
    "        self.host = 'orderer.example.com'\n",
    "        self.orderer_intern = 7050\n",
    "        self.listen_port = kubernetesTool.getPort(peername=name, name = prefix + '-listen')\n",
    "        \n",
    "    # can change\n",
    "    def get_ip(self, app='orderer-org1-scray-org'):\n",
    "        return executeKubectlCmd(['get', 'pods','-l', 'app=' + app,'-o','jsonpath=\\'{.items[*].status.podIP}\\''])   \n",
    "    "
   ]
  },
  {
   "cell_type": "markdown",
   "metadata": {},
   "source": [
    "### Blockchain"
   ]
  },
  {
   "cell_type": "code",
   "execution_count": 240,
   "metadata": {},
   "outputs": [],
   "source": [
    "class Blockchain(object):\n",
    "    def __init__(self, name='orderer-org1-scray-org',prefix='orderer', channel_name='invoicing17'):\n",
    "        self.peers = {}\n",
    "        \n",
    "        self.orderer = ordererpeer(name='orderer-org1-scray-org',prefix='orderer')\n",
    "        self.orderer_ip=self.orderer.get_ip()\n",
    "        self.orderer_hostname=self.orderer.host\n",
    "        self.orderer_port= self.orderer.listen_port\n",
    "\n",
    "        self.channel_name=channel_name\n",
    "        self.shared_fs_host='10.14.128.38:30080'\n",
    " \n",
    "    def addPeer(self,peername,hostname='kubernetes.research.dev.seeburger.de',ca_country='DE',ca_province='Baden',ca_locality='Bretten'):  \n",
    "        if peername in self.peers.keys():\n",
    "            return self.peers[peername]\n",
    "\n",
    "        peer = KubernetesPeer(name=peername,hostname=hostname,ca_country=ca_country,ca_province=ca_province,ca_locality=ca_locality)\n",
    "        self.peers[peername] = peer   \n",
    "\n",
    "    def add_channel(self,name):\n",
    "        self.channel_name=name\n",
    "        cmd1 = ['/home/jovyan/work/usr/bin/kubectl', 'exec','-t', self.orderer.pod_name, '-c', 'scray-orderer-cli','--', '/bin/sh']\n",
    "        cmd2 = ['/mnt/conf/orderer/scripts/create_channel.sh', name, 'orderer.example.com', '30081']\n",
    "        #cmd = toCmd(cmd1 + cmd2)\n",
    "        ret = subprocess.run(cmd1 + cmd2, stdout = subprocess.PIPE, stderr=subprocess.PIPE)\n",
    "        #return executePeerCmd(orderer.pod_name, cmd, cli='scray-orderer-cli')\n",
    "        return ret.stdout.decode('ascii'), ret.stderr.decode('ascii')    \n",
    "    \n",
    "    def endorse_and_join_all_peers(self): \n",
    "        out2 = widgets.Output()\n",
    "        with out2:\n",
    "            for key, peer in self.peers.items():\n",
    "                peer.endorse_and_join()\n",
    "        return out2      \n",
    "    \n",
    "    \n",
    "    def deletePeers(self):\n",
    "        for key,peer in self.peers.items():\n",
    "            peer.deletePeer()\n",
    "        for key in list(peers.keys()):    \n",
    "            del self.peers[key]\n",
    "\n",
    "    # create, delete numbered peers\n",
    "    def createPeers(self,base_name,start=0, end=10):\n",
    "        for x in range(start,end):\n",
    "            peername = base_name + '-' + str(x) \n",
    "            self.addPeer(peername)\n",
    "\n",
    "    def deleteNumberedPeers(name):\n",
    "        for x in range(0,10):\n",
    "            key = name + str(x)\n",
    "            self.peers[key].deletePeer()    \n",
    "            del self.peers[key]\n",
    "           \n",
    "    # kubernetes    \n",
    "    def deleteAllPeers(config):\n",
    "        for item in config['items']:\n",
    "            try:\n",
    "                if 'org_name' in item['data'].keys():\n",
    "                    self.deletePeer(item['data']['org_name'])\n",
    "            except Exception as e:\n",
    "                print(item['data'])    \n",
    "         \n",
    "    def installAndAproveChaincode(self):       \n",
    "        for key, peer in _blockchain.peers.items():\n",
    "            peer.installAndAproveChaincode(orderer,channel_name,cc_host=cc_host,pkgid=pkgid,cc_hostname=cc_hostname,cc_label=cc_label,shared_fs=shared_fs, sequence=1)        "
   ]
  },
  {
   "cell_type": "code",
   "execution_count": 241,
   "metadata": {},
   "outputs": [],
   "source": [
    "_blockchain = Blockchain(channel_name='invoicing18')"
   ]
  },
  {
   "cell_type": "code",
   "execution_count": 209,
   "metadata": {},
   "outputs": [],
   "source": [
    "#_blockchain.peers = {}"
   ]
  },
  {
   "cell_type": "markdown",
   "metadata": {},
   "source": [
    "## cleanup"
   ]
  },
  {
   "cell_type": "code",
   "execution_count": 239,
   "metadata": {},
   "outputs": [
    {
     "name": "stderr",
     "output_type": "stream",
     "text": [
      "Error from server (NotFound): deployments.apps \"aubonmoulin\" not found\n",
      "Error from server (NotFound): configmaps \"hl-fabric-peer-aubonmoulin\" not found\n",
      "Error from server (NotFound): deployments.apps \"lyon-impots\" not found\n",
      "Error from server (NotFound): configmaps \"hl-fabric-peer-lyon-impots\" not found\n",
      "Error from server (NotFound): deployments.apps \"austriafactor\" not found\n",
      "Error from server (NotFound): configmaps \"hl-fabric-peer-austriafactor\" not found\n",
      "Error from server (NotFound): deployments.apps \"megustaolive\" not found\n",
      "Error from server (NotFound): configmaps \"hl-fabric-peer-megustaolive\" not found\n"
     ]
    }
   ],
   "source": [
    "_blockchain.deletePeers()\n",
    "#_blockchain.peers"
   ]
  },
  {
   "cell_type": "markdown",
   "metadata": {},
   "source": [
    "## init"
   ]
  },
  {
   "cell_type": "code",
   "execution_count": 255,
   "metadata": {},
   "outputs": [],
   "source": [
    "import json\n",
    "\n",
    "class Chaincode(object):\n",
    "    def __init__(self):\n",
    "        self.shared_fs='kubernetes.research.dev.seeburger.de:30080'\n",
    "        self.hostname='invoice-net.org1.example.com'\n",
    "        self.host='10.14.128.38'\n",
    "        self.service_name='hl-fabric-cc-external-invoice-net'\n",
    "        self.port = executeKubectlCmd(['get', 'service', cc_service_name, '-o', 'jsonpath=\"{.spec.ports[?(@.name==\\'chaincode\\')].nodePort}\"'], decode='json')\n",
    "        self.label='basic_1.0'\n",
    "        self.pkgid = self.get_pkgid()\n",
    "        \n",
    "    def get_pkgid(self):\n",
    "        strlist = ['curl','-s','--user','scray:scray','http://' + shared_fs + '/cc_descriptions/' + cc_hostname + '_' + cc_label + '/description-hash.json']\n",
    "        #cmd = toCmd(strlist)\n",
    "        #output = executePeerCmd(peer.pod_name,  cmd)\n",
    "        #return json.loads(output[:-1])['description-hash']\n",
    "        return json.loads(output.decode('ascii'))['description-hash']"
   ]
  },
  {
   "cell_type": "code",
   "execution_count": 256,
   "metadata": {},
   "outputs": [
    {
     "data": {
      "text/plain": [
       "{'shared_fs': 'kubernetes.research.dev.seeburger.de:30080',\n",
       " 'hostname': 'invoice-net.org1.example.com',\n",
       " 'host': '10.14.128.38',\n",
       " 'service_name': 'hl-fabric-cc-external-invoice-net',\n",
       " 'port': '32512',\n",
       " 'label': 'basic_1.0',\n",
       " 'pkgid': 'basic_1.0:9613e3c481661452e8d5cc9b1d0c0c83316865587edaa7aed3ca0c054ccafae9'}"
      ]
     },
     "execution_count": 256,
     "metadata": {},
     "output_type": "execute_result"
    }
   ],
   "source": [
    "Chaincode().__dict__"
   ]
  },
  {
   "cell_type": "code",
   "execution_count": 253,
   "metadata": {},
   "outputs": [
    {
     "ename": "TypeError",
     "evalue": "string indices must be integers",
     "output_type": "error",
     "traceback": [
      "\u001b[0;31m---------------------------------------------------------------------------\u001b[0m",
      "\u001b[0;31mTypeError\u001b[0m                                 Traceback (most recent call last)",
      "\u001b[0;32m/tmp/ipykernel_18038/894477573.py\u001b[0m in \u001b[0;36m<module>\u001b[0;34m\u001b[0m\n\u001b[1;32m      3\u001b[0m \u001b[0mcmd\u001b[0m\u001b[0;34m\u001b[0m\u001b[0;34m\u001b[0m\u001b[0m\n\u001b[1;32m      4\u001b[0m \u001b[0moutput\u001b[0m \u001b[0;34m=\u001b[0m \u001b[0mexecuteLocalCmd\u001b[0m\u001b[0;34m(\u001b[0m\u001b[0mstrlist\u001b[0m\u001b[0;34m)\u001b[0m\u001b[0;34m\u001b[0m\u001b[0;34m\u001b[0m\u001b[0m\n\u001b[0;32m----> 5\u001b[0;31m \u001b[0moutput\u001b[0m\u001b[0;34m.\u001b[0m\u001b[0mdecode\u001b[0m\u001b[0;34m(\u001b[0m\u001b[0;34m'ascii'\u001b[0m\u001b[0;34m)\u001b[0m\u001b[0;34m[\u001b[0m\u001b[0;34m'description-hash'\u001b[0m\u001b[0;34m]\u001b[0m\u001b[0;34m\u001b[0m\u001b[0;34m\u001b[0m\u001b[0m\n\u001b[0m",
      "\u001b[0;31mTypeError\u001b[0m: string indices must be integers"
     ]
    }
   ],
   "source": [
    "strlist = ['curl','-s','--user','scray:scray','http://' + shared_fs + '/cc_descriptions/' + cc_hostname + '_' + cc_label + '/description-hash.json']\n",
    "cmd = toCmd(strlist)\n",
    "cmd\n",
    "output = executeLocalCmd(strlist)\n",
    "output.decode('ascii')['description-hash']"
   ]
  },
  {
   "cell_type": "code",
   "execution_count": 250,
   "metadata": {},
   "outputs": [
    {
     "data": {
      "text/plain": [
       "\"[Errno 2] No such file or directory: 'curl -s --user scray:scray http://kubernetes.research.dev.seeburger.de:30080/cc_descriptions/invoice-net.org1.example.com_basic_1.0/description-hash.json'\""
      ]
     },
     "execution_count": 250,
     "metadata": {},
     "output_type": "execute_result"
    }
   ],
   "source": []
  },
  {
   "cell_type": "code",
   "execution_count": null,
   "metadata": {},
   "outputs": [],
   "source": [
    "peers = {}\n",
    "peers"
   ]
  },
  {
   "cell_type": "markdown",
   "metadata": {},
   "source": [
    "## add channel"
   ]
  },
  {
   "cell_type": "code",
   "execution_count": 219,
   "metadata": {},
   "outputs": [
    {
     "data": {
      "text/plain": [
       "('',\n",
       " '\\x1b[34m2022-01-12 14:36:56.616 UTC [common.tools.configtxgen] main -> INFO 001\\x1b[0m Loading configuration\\n\\x1b[34m2022-01-12 14:36:56.643 UTC [common.tools.configtxgen.localconfig] Load -> INFO 002\\x1b[0m Loaded configuration: /mnt/conf/orderer/configtx.yaml\\n\\x1b[34m2022-01-12 14:36:56.643 UTC [common.tools.configtxgen] doOutputChannelCreateTx -> INFO 003\\x1b[0m Generating new channel configtx\\n\\x1b[34m2022-01-12 14:36:56.652 UTC [common.tools.configtxgen] doOutputChannelCreateTx -> INFO 004\\x1b[0m Writing new channel tx\\n\\x1b[34m2022-01-12 14:36:56.728 UTC [channelCmd] InitCmdFactory -> INFO 001\\x1b[0m Endorser and orderer connections initialized\\n\\x1b[34m2022-01-12 14:36:56.827 UTC [cli.common] readBlock -> INFO 002\\x1b[0m Expect block, but got status: &{NOT_FOUND}\\n\\x1b[34m2022-01-12 14:36:56.831 UTC [channelCmd] InitCmdFactory -> INFO 003\\x1b[0m Endorser and orderer connections initialized\\n\\x1b[34m2022-01-12 14:36:57.033 UTC [cli.common] readBlock -> INFO 004\\x1b[0m Expect block, but got status: &{SERVICE_UNAVAILABLE}\\n\\x1b[34m2022-01-12 14:36:57.043 UTC [channelCmd] InitCmdFactory -> INFO 005\\x1b[0m Endorser and orderer connections initialized\\n\\x1b[34m2022-01-12 14:36:57.246 UTC [cli.common] readBlock -> INFO 006\\x1b[0m Expect block, but got status: &{SERVICE_UNAVAILABLE}\\n\\x1b[34m2022-01-12 14:36:57.254 UTC [channelCmd] InitCmdFactory -> INFO 007\\x1b[0m Endorser and orderer connections initialized\\n\\x1b[34m2022-01-12 14:36:57.456 UTC [cli.common] readBlock -> INFO 008\\x1b[0m Expect block, but got status: &{SERVICE_UNAVAILABLE}\\n\\x1b[34m2022-01-12 14:36:57.460 UTC [channelCmd] InitCmdFactory -> INFO 009\\x1b[0m Endorser and orderer connections initialized\\n\\x1b[34m2022-01-12 14:36:57.663 UTC [cli.common] readBlock -> INFO 00a\\x1b[0m Expect block, but got status: &{SERVICE_UNAVAILABLE}\\n\\x1b[34m2022-01-12 14:36:57.675 UTC [channelCmd] InitCmdFactory -> INFO 00b\\x1b[0m Endorser and orderer connections initialized\\n\\x1b[34m2022-01-12 14:36:57.877 UTC [cli.common] readBlock -> INFO 00c\\x1b[0m Expect block, but got status: &{SERVICE_UNAVAILABLE}\\n\\x1b[34m2022-01-12 14:36:57.887 UTC [channelCmd] InitCmdFactory -> INFO 00d\\x1b[0m Endorser and orderer connections initialized\\n\\x1b[34m2022-01-12 14:36:58.096 UTC [cli.common] readBlock -> INFO 00e\\x1b[0m Received block: 0\\n')"
      ]
     },
     "execution_count": 219,
     "metadata": {},
     "output_type": "execute_result"
    }
   ],
   "source": [
    "_blockchain.add_channel('invoicing18')"
   ]
  },
  {
   "cell_type": "code",
   "execution_count": null,
   "metadata": {},
   "outputs": [],
   "source": [
    "out2.outputs[1]['text'].splitlines()"
   ]
  },
  {
   "cell_type": "markdown",
   "metadata": {},
   "source": [
    "## create peers"
   ]
  },
  {
   "cell_type": "markdown",
   "metadata": {},
   "source": [
    "### add peers"
   ]
  },
  {
   "cell_type": "code",
   "execution_count": 242,
   "metadata": {},
   "outputs": [],
   "source": [
    "_blockchain.addPeer('aubonmoulin', hostname='fr',ca_country='FR',ca_province='Provence-Alpes-Cote d\\'Azur',ca_locality='Malaucene')\n",
    "_blockchain.addPeer('lyon-impots', hostname='gouv.fr',ca_country='FR',ca_province='Auvergne-Rhone-Alpes',ca_locality='Lyon')\n",
    "_blockchain.addPeer('austriafactor', hostname='at',ca_country='AT',ca_province='Steiermark',ca_locality='Graz')\n",
    "_blockchain.addPeer('megustaolive', hostname='es',ca_country='ES',ca_province='Andalusia',ca_locality='Dos Hermanas')"
   ]
  },
  {
   "cell_type": "code",
   "execution_count": 235,
   "metadata": {},
   "outputs": [
    {
     "data": {
      "text/plain": [
       "{'aubonmoulin': <__main__.KubernetesPeer at 0x7f1ce3a2f070>,\n",
       " 'lyon-impots': <__main__.KubernetesPeer at 0x7f1ce0ba1280>,\n",
       " 'austriafactor': <__main__.KubernetesPeer at 0x7f1d201aebe0>,\n",
       " 'megustaolive': <__main__.KubernetesPeer at 0x7f1ce285f3d0>}"
      ]
     },
     "execution_count": 235,
     "metadata": {},
     "output_type": "execute_result"
    }
   ],
   "source": [
    "_blockchain.peers"
   ]
  },
  {
   "cell_type": "code",
   "execution_count": null,
   "metadata": {},
   "outputs": [],
   "source": [
    "\n",
    "peers={}    \n",
    "addPeerFromKubernetes('aubonmoulin')\n",
    "addPeerFromKubernetes('lyon-impots')\n",
    "addPeerFromKubernetes('austriafactor')\n",
    "addPeerFromKubernetes('megustaolive') \n",
    "\n",
    "peernames = list(peers.keys())"
   ]
  },
  {
   "cell_type": "markdown",
   "metadata": {},
   "source": [
    "### endorse and join"
   ]
  },
  {
   "cell_type": "code",
   "execution_count": 100,
   "metadata": {},
   "outputs": [],
   "source": [
    "## endorse and join\n",
    "import ipywidgets as widgets\n",
    "\n",
    "#orderer_ip,orderer_hostname,orderer_port,channel_name,shared_fs_host"
   ]
  },
  {
   "cell_type": "code",
   "execution_count": null,
   "metadata": {},
   "outputs": [],
   "source": [
    "_blockchain.endorse_and_join_all_peers()"
   ]
  },
  {
   "cell_type": "markdown",
   "metadata": {},
   "source": [
    "## install chaincode"
   ]
  },
  {
   "cell_type": "code",
   "execution_count": null,
   "metadata": {},
   "outputs": [],
   "source": [
    "for key, peer in _blockchain.peers.items():\n",
    "    executePeerCmd(peer.pod_name,'apk add curl')\n",
    "    strlist = ['curl', 'https://raw.githubusercontent.com/scray/scray-ledger/develop/containers/hl-fabric-node-configurator/conf/install_and_approve_cc.sh', '-o', '/mnt/conf/install_and_approve_cc.sh']\n",
    "    cmd = toCmd(strlist)\n",
    "    print(cmd)\n",
    "    output = executePeerCmd(peer.pod_name,  cmd)\n",
    "    executePeerCmd(peer.pod_name,'chmod 755 /mnt/conf/install_and_approve_cc.sh')\n",
    "    strlist = ['curl', 'https://raw.githubusercontent.com/scray/scray-ledger/develop/containers/hl-fabric-node-configurator/conf/peer/cc_commit.sh', '-o', '/mnt/conf/peer/cc_commit.sh']\n",
    "    cmd = toCmd(strlist)\n",
    "    print(cmd)\n",
    "    output = executePeerCmd(peer.pod_name,  cmd)\n",
    "    executePeerCmd(peer.pod_name,'chmod 755 /mnt/conf/peer/cc_commit.sh')"
   ]
  },
  {
   "cell_type": "code",
   "execution_count": null,
   "metadata": {},
   "outputs": [],
   "source": [
    "for key, peer in _blockchain.peers.items():\n",
    "    peer.installAndAproveChaincode(orderer,channel_name,cc_host=cc_host,pkgid=pkgid,cc_hostname=cc_hostname,cc_label=cc_label,shared_fs=shared_fs, sequence=1)"
   ]
  },
  {
   "cell_type": "code",
   "execution_count": 146,
   "metadata": {},
   "outputs": [
    {
     "name": "stdout",
     "output_type": "stream",
     "text": [
      "/mnt/conf/peer/cc_commit.sh invoicing17 1 basic_1.0:9613e3c481661452e8d5cc9b1d0c0c83316865587edaa7aed3ca0c054ccafae9\n",
      "/home/jovyan/work/usr/bin/kubectl exec -t aubonmoulin-79666dbdd9-wpjb5 -c scray-peer-cli -- /bin/sh -c /mnt/conf/peer/cc_commit.sh invoicing17 1 basic_1.0:9613e3c481661452e8d5cc9b1d0c0c83316865587edaa7aed3ca0c054ccafae9\n"
     ]
    },
    {
     "name": "stderr",
     "output_type": "stream",
     "text": [
      "\u001b[34m2022-01-10 14:30:16.140 UTC [chaincodeCmd] ClientWait -> INFO 001\u001b[0m txid [7551f8d142d95a3bce8e3c81eded075f7f35cf7783c03583af2b9f5592d271c7] committed with status (VALID) at peer0.aubonmoulin.fr:32432\n"
     ]
    },
    {
     "data": {
      "text/plain": [
       "'Installed chaincode\\nInstalled chaincodes on peer:\\nPackage ID: basic_1.0:9613e3c481661452e8d5cc9b1d0c0c83316865587edaa7aed3ca0c054ccafae9, Label: basic_1.0\\n'"
      ]
     },
     "execution_count": 146,
     "metadata": {},
     "output_type": "execute_result"
    }
   ],
   "source": [
    "#peernames = list(peers.keys())\n",
    "#peernames\n",
    "peer = peers[peernames[0]]\n",
    "commitChaincode(peer,channel_name,sequence=1,pkgid=pkgid)"
   ]
  }
 ],
 "metadata": {
  "kernelspec": {
   "display_name": "Python 3 (ipykernel)",
   "language": "python",
   "name": "python3"
  },
  "language_info": {
   "codemirror_mode": {
    "name": "ipython",
    "version": 3
   },
   "file_extension": ".py",
   "mimetype": "text/x-python",
   "name": "python",
   "nbconvert_exporter": "python",
   "pygments_lexer": "ipython3",
   "version": "3.9.5"
  }
 },
 "nbformat": 4,
 "nbformat_minor": 4
}
