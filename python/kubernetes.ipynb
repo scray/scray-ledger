{
 "cells": [
  {
   "cell_type": "markdown",
   "metadata": {},
   "source": [
    "# Kubernetes"
   ]
  },
  {
   "cell_type": "code",
   "execution_count": 1,
   "metadata": {},
   "outputs": [],
   "source": [
    "#!pip install ipynb\n",
    "from ipynb.fs.full.facturxWidget import *\n",
    "\n",
    "from ipynb.fs.full.kubernetesTool import *\n",
    "\n",
    "from ipynb.fs.full.invoiceSmartcontract import *\n",
    "\n",
    "from ipynb.fs.full.blockchain import *"
   ]
  },
  {
   "cell_type": "code",
   "execution_count": 2,
   "metadata": {},
   "outputs": [],
   "source": [
    "_blockchain = Blockchain(channel_name='invoicing28',shared_fs='10.15.130.111:80',sharepoint=SharePoint())\n",
    "cc = Chaincode()"
   ]
  },
  {
   "cell_type": "code",
   "execution_count": null,
   "metadata": {},
   "outputs": [],
   "source": [
    "cc.__dict__\n",
    "#_blockchain.__dict__"
   ]
  },
  {
   "cell_type": "code",
   "execution_count": 3,
   "metadata": {},
   "outputs": [],
   "source": [
    "_blockchain.addPeer(name='aubonmoulin', hostname='fr',ca_country='FR',ca_province='Provence-Alpes-Cote d\\'Azur',ca_locality='Malaucene')\n",
    "_blockchain.addPeer(name='lyon-impots', hostname='gouv.fr',ca_country='FR',ca_province='Auvergne-Rhone-Alpes',ca_locality='Lyon')\n",
    "_blockchain.addPeer(name='austriafactor', hostname='at',ca_country='AT',ca_province='Steiermark',ca_locality='Graz')\n",
    "_blockchain.addPeer(name='megustaolive', hostname='es',ca_country='ES',ca_province='Andalusia',ca_locality='Dos Hermanas')"
   ]
  },
  {
   "cell_type": "code",
   "execution_count": null,
   "metadata": {},
   "outputs": [],
   "source": [
    "#_blockchain.addPeer(name='org1', hostname='fr',ca_country='FR',ca_province='Provence-Alpes-Cote d\\'Azur',ca_locality='Malaucene')"
   ]
  },
  {
   "cell_type": "code",
   "execution_count": null,
   "metadata": {},
   "outputs": [],
   "source": [
    "def myfunc(**kwargs):\n",
    "        # kwargs is a dictionary.\n",
    "        for k,v in kwargs.items():\n",
    "             print (\"%s = %s\" % (k, v))\n",
    "        #if 'image' in kwargs.keys():\n",
    "        #    print('found')  \n",
    "        \n",
    "        \n",
    "myfunc(name='aubonmoulin', hostname='fr',ca_country='FR',ca_province='Provence-Alpes-Cote d\\'Azur',ca_locality='Malaucene')        "
   ]
  },
  {
   "cell_type": "markdown",
   "metadata": {},
   "source": [
    "### user"
   ]
  },
  {
   "cell_type": "code",
   "execution_count": null,
   "metadata": {},
   "outputs": [],
   "source": [
    "for key,peer in _blockchain.peers.items():\n",
    "    executePeerCmd(peer.pod_name,'apk add curl')"
   ]
  },
  {
   "cell_type": "code",
   "execution_count": 4,
   "metadata": {},
   "outputs": [],
   "source": [
    "_blockchain.installWalletTool()"
   ]
  },
  {
   "cell_type": "code",
   "execution_count": null,
   "metadata": {},
   "outputs": [],
   "source": [
    "_user = User(peer=_blockchain.peers['aubonmoulin'], name='Tony.Dubois@aubonmoulin.fr', channel_name=_blockchain.channel_name)\n",
    "#User(peer=_blockchain.peers['aubonmoulin'], name='Alexandre.Payet@majolieboutique.net', channel_name=_blockchain.channel_name)"
   ]
  },
  {
   "cell_type": "code",
   "execution_count": null,
   "metadata": {},
   "outputs": [],
   "source": [
    "_user.__dict__"
   ]
  },
  {
   "cell_type": "code",
   "execution_count": null,
   "metadata": {},
   "outputs": [],
   "source": [
    "_user.smart_contract.getAllRoles()"
   ]
  },
  {
   "cell_type": "code",
   "execution_count": null,
   "metadata": {},
   "outputs": [],
   "source": [
    "_keys = _user.smart_contract.getAllKeys()[1]"
   ]
  },
  {
   "cell_type": "code",
   "execution_count": null,
   "metadata": {},
   "outputs": [],
   "source": [
    "_user.smart_contract.deleteAsset(asset=_keys[7])"
   ]
  },
  {
   "cell_type": "code",
   "execution_count": null,
   "metadata": {},
   "outputs": [],
   "source": [
    "for key,_peer in _blockchain.peers.items():\n",
    "    _organizations = _peer.wallet_tool.getPeerOrganizations()\n",
    "    for _organization in _organizations:\n",
    "        porg = Organization(name=_organization)\n",
    "        _users = _peer.wallet_tool.getPeerUsers(_organization)\n",
    "        for _user in _users:\n",
    "            puser = User(peer=_peer, name=_user, channel_name=_blockchain.channel_name)\n",
    "            porg.addUser(user=puser)\n",
    "        _peer.organizations[_organization]=porg\n",
    "    "
   ]
  },
  {
   "cell_type": "code",
   "execution_count": null,
   "metadata": {},
   "outputs": [],
   "source": [
    "_blockchain.peers['aubonmoulin'].organizations['aubonmoulin.fr'].users['Tony.Dubois@aubonmoulin.fr'].__dict__\n",
    "\n",
    "#_blockchain.peers['lyon-impots'].organizations\n",
    "#_blockchain.peers"
   ]
  },
  {
   "cell_type": "code",
   "execution_count": null,
   "metadata": {},
   "outputs": [],
   "source": [
    "_smart_contract_aubonmoulin = InvoiceSmartContract(peer=_blockchain.peers['aubonmoulin'], user='Tony.Dubois@aubonmoulin.fr', channel_name=_blockchain.channel_name)"
   ]
  },
  {
   "cell_type": "code",
   "execution_count": null,
   "metadata": {},
   "outputs": [],
   "source": [
    "_smart_contract_lyon_impots = InvoiceSmartContract(peer=_blockchain.peers['lyon-impots'], user='Auguste.Boucher@lyon-impots.gouv.fr', channel_name=_blockchain.channel_name)"
   ]
  },
  {
   "cell_type": "code",
   "execution_count": null,
   "metadata": {},
   "outputs": [],
   "source": [
    "_smart_contract.getSubmittingClientIdentity()\n",
    "_smart_contract.getAllRoles()"
   ]
  },
  {
   "cell_type": "code",
   "execution_count": null,
   "metadata": {},
   "outputs": [],
   "source": [
    "_blockchain.peers['aubonmoulin'].wallet_tool.addUser('Tony.Dubois','aubonmoulin.fr','aubonmoulin.fr')\n",
    "_blockchain.peers['aubonmoulin'].wallet_tool.addUser('Stephanie.Hoarau','hotelsaintdenis.re','aubonmoulin.fr')\n",
    "_blockchain.peers['aubonmoulin'].wallet_tool.addUser('Alexandre.Payet','majolieboutique.net','aubonmoulin.fr')\n",
    "_blockchain.peers['austriafactor'].wallet_tool.addUser('Emma.Steiner','austriafactor.at','austriafactor.at')\n",
    "_blockchain.peers['megustaolive'].wallet_tool.addUser('Pedro.Sanchez','megustaolive.es','megustaolive.es')\n",
    "_blockchain.peers['lyon-impots'].wallet_tool.addUser('Auguste.Boucher','lyon-impots.gouv.fr','lyon-impots.gouv.fr')"
   ]
  },
  {
   "cell_type": "code",
   "execution_count": null,
   "metadata": {},
   "outputs": [],
   "source": [
    "_blockchain.peers['aubonmoulin'].wallet_tool.addUser('Tony.Dubois','aubonmoulin.fr','aubonmoulin.fr')[1]"
   ]
  },
  {
   "cell_type": "code",
   "execution_count": 17,
   "metadata": {},
   "outputs": [],
   "source": [
    "def appendRoles(peers):\n",
    "    peer=peers['lyon-impots']\n",
    "    appendRole(peer,user='Auguste.Boucher@lyon-impots.gouv.fr',role='TaxInspector')\n",
    "    peer_taxinspector=peer\n",
    "    #taxinspector=get_person_names_with_role('TaxInspector',roles)[0].split(',')[0].split('=')[1]  \n",
    "    taxinspector='Auguste.Boucher@lyon-impots.gouv.fr'\n",
    "\n",
    "    identity_taxinspector = getSubmittingClientIdentity(peer_taxinspector, user=taxinspector)[0]\n",
    "\n",
    "    peer=peers['aubonmoulin']\n",
    "    appendRole(peer,user='Tony.Dubois@aubonmoulin.fr',role='Seller',taxInspector=identity_taxinspector)\n",
    "    #appendRole(peer,user='Stephanie.Hoarau',role='Buyer')\n",
    "    #appendRole(peer,user='Alexandre.Payet',role='Buyer')\n",
    "\n",
    "    peer=peers['austriafactor']\n",
    "    appendRole(peer,user='Emma.Steiner@austriafactor.at',role='Factor',taxInspector=identity_taxinspector)\n",
    "\n",
    "    peer=peers['megustaolive']\n",
    "    appendRole(peer,user='Pedro.Sanchez@megustaolive.es',role='Buyer',taxInspector=identity_taxinspector)\n",
    "    appendRole(peer,user='Pedro.Sanchez@megustaolive.es',role='Seller',taxInspector=identity_taxinspector)"
   ]
  },
  {
   "cell_type": "code",
   "execution_count": 18,
   "metadata": {},
   "outputs": [],
   "source": [
    "def getUser(_blockchain, _user):\n",
    "    _org = _user.split('@')[1]\n",
    "    for key,peer in _blockchain.peers.items():\n",
    "        if _org in peer.organizations.keys():\n",
    "            if _user in peer.organizations[_org].users.keys():\n",
    "                return peer.organizations[_org].users[_user]"
   ]
  },
  {
   "cell_type": "code",
   "execution_count": 19,
   "metadata": {},
   "outputs": [
    {
     "data": {
      "text/plain": [
       "('', Output())"
      ]
     },
     "execution_count": 19,
     "metadata": {},
     "output_type": "execute_result"
    }
   ],
   "source": [
    "getUser(_blockchain,'Auguste.Boucher@lyon-impots.gouv.fr').smart_contract.appendRole(role='TaxInspector')\n",
    "identity_taxinspector = getUser(_blockchain, 'Auguste.Boucher@lyon-impots.gouv.fr').smart_contract.getSubmittingClientIdentity()[0]\n",
    "getUser(_blockchain,'Emma.Steiner@austriafactor.at').smart_contract.appendRole(role='Factor',taxInspector=identity_taxinspector)\n",
    "getUser(_blockchain,'Tony.Dubois@aubonmoulin.fr').smart_contract.appendRole(role='Seller',taxInspector=identity_taxinspector)\n",
    "getUser(_blockchain,'Pedro.Sanchez@megustaolive.es').smart_contract.appendRole(role='Seller',taxInspector=identity_taxinspector)\n",
    "getUser(_blockchain,'Pedro.Sanchez@megustaolive.es').smart_contract.appendRole(role='Buyer',taxInspector=identity_taxinspector)"
   ]
  },
  {
   "cell_type": "code",
   "execution_count": null,
   "metadata": {},
   "outputs": [],
   "source": [
    "_keys = getUser(_blockchain,'Tony.Dubois@aubonmoulin.fr').smart_contract.getAllKeys()\n",
    "_keys"
   ]
  },
  {
   "cell_type": "code",
   "execution_count": null,
   "metadata": {},
   "outputs": [],
   "source": [
    "_smart_contract = getUser(_blockchain,'Tony.Dubois@aubonmoulin.fr').smart_contract"
   ]
  },
  {
   "cell_type": "code",
   "execution_count": null,
   "metadata": {},
   "outputs": [],
   "source": [
    "_keys = getUser(_blockchain,'Tony.Dubois@aubonmoulin.fr').smart_contract.getAllKeys()[0]\n",
    "_smart_contract = getUser(_blockchain,'Tony.Dubois@aubonmoulin.fr').smart_contract\n",
    "_smart_contract.deleteAsset(asset=_keys[4])\n",
    "_smart_contract.deleteAsset(asset=_keys[5])\n",
    "_smart_contract.deleteAsset(asset=_keys[6])\n",
    "_smart_contract.deleteAsset(asset=_keys[7])"
   ]
  },
  {
   "cell_type": "code",
   "execution_count": 16,
   "metadata": {},
   "outputs": [
    {
     "ename": "NameError",
     "evalue": "name '_smart_contract' is not defined",
     "output_type": "error",
     "traceback": [
      "\u001b[0;31m---------------------------------------------------------------------------\u001b[0m",
      "\u001b[0;31mNameError\u001b[0m                                 Traceback (most recent call last)",
      "\u001b[0;32m/tmp/ipykernel_15830/3230659050.py\u001b[0m in \u001b[0;36m<module>\u001b[0;34m\u001b[0m\n\u001b[0;32m----> 1\u001b[0;31m \u001b[0m_smart_contract\u001b[0m\u001b[0;34m.\u001b[0m\u001b[0mgetAllRoles\u001b[0m\u001b[0;34m(\u001b[0m\u001b[0;34m)\u001b[0m\u001b[0;34m\u001b[0m\u001b[0;34m\u001b[0m\u001b[0m\n\u001b[0m",
      "\u001b[0;31mNameError\u001b[0m: name '_smart_contract' is not defined"
     ]
    }
   ],
   "source": [
    "_smart_contract.getAllRoles()"
   ]
  },
  {
   "cell_type": "code",
   "execution_count": null,
   "metadata": {},
   "outputs": [],
   "source": [
    "getUser(_blockchain,'Tony.Dubois@aubonmoulin.fr').smart_contract.getRoles()"
   ]
  },
  {
   "cell_type": "code",
   "execution_count": null,
   "metadata": {},
   "outputs": [],
   "source": [
    "#_smart_contract_lyon_impots.getAllRoles()\n",
    "_smart_contract_aubonmoulin.getRoles()\n",
    "#_out\n",
    "_smart_contract_lyon_impots.getRoles()\n",
    "_smart_contract_lyon_impots.getAllKeys()"
   ]
  },
  {
   "cell_type": "code",
   "execution_count": null,
   "metadata": {},
   "outputs": [],
   "source": [
    "_smart_contract_lyon_impots.getAllKeys()"
   ]
  },
  {
   "cell_type": "markdown",
   "metadata": {},
   "source": [
    "## cleanup"
   ]
  },
  {
   "cell_type": "code",
   "execution_count": null,
   "metadata": {},
   "outputs": [],
   "source": [
    "_blockchain.deletePeers()\n",
    "#_blockchain.peers"
   ]
  },
  {
   "cell_type": "markdown",
   "metadata": {},
   "source": [
    "## add channel"
   ]
  },
  {
   "cell_type": "code",
   "execution_count": null,
   "metadata": {},
   "outputs": [],
   "source": [
    "_blockchain.add_channel('invoicing28')"
   ]
  },
  {
   "cell_type": "markdown",
   "metadata": {},
   "source": [
    "## debug"
   ]
  },
  {
   "cell_type": "code",
   "execution_count": null,
   "metadata": {},
   "outputs": [],
   "source": [
    "out2.outputs[1]['text'].splitlines()"
   ]
  },
  {
   "cell_type": "code",
   "execution_count": null,
   "metadata": {},
   "outputs": [],
   "source": [
    "_out.outputs[0]['text'].splitlines()"
   ]
  },
  {
   "cell_type": "markdown",
   "metadata": {},
   "source": [
    "## create peers"
   ]
  },
  {
   "cell_type": "markdown",
   "metadata": {},
   "source": [
    "### endorse and join"
   ]
  },
  {
   "cell_type": "code",
   "execution_count": null,
   "metadata": {},
   "outputs": [],
   "source": [
    "## endorse and join\n",
    "import ipywidgets as widgets\n",
    "\n",
    "#orderer_ip,orderer_hostname,orderer_port,channel_name,shared_fs_host"
   ]
  },
  {
   "cell_type": "code",
   "execution_count": null,
   "metadata": {},
   "outputs": [],
   "source": [
    "_blockchain.endorse_and_join_all_peers()"
   ]
  },
  {
   "cell_type": "markdown",
   "metadata": {},
   "source": [
    "## upload chaincode to sharepoint"
   ]
  },
  {
   "cell_type": "code",
   "execution_count": null,
   "metadata": {},
   "outputs": [],
   "source": [
    "strlist = ['/bin/sh /opt/create-archive.sh',cc.hostname,cc.port,cc.label,cc.shared_fs]\n",
    "cmd = toCmd(strlist)\n",
    "print(cmd)\n",
    "#cmd = export_cmd + '  && ' + cmd\n",
    "output = executePeerCmd(getPod('cc-deployer'), cmd,cli='cc-deployer')"
   ]
  },
  {
   "cell_type": "markdown",
   "metadata": {},
   "source": [
    "## install chaincode"
   ]
  },
  {
   "cell_type": "code",
   "execution_count": null,
   "metadata": {},
   "outputs": [],
   "source": [
    "cc=Chaincode(hostname='otest.example.com',service_name='otest')"
   ]
  },
  {
   "cell_type": "code",
   "execution_count": null,
   "metadata": {},
   "outputs": [],
   "source": [
    "cc=Chaincode(hostname='invoice-net.org1.example.com',service_name='hl-fabric-cc-external-invoice-net')"
   ]
  },
  {
   "cell_type": "code",
   "execution_count": null,
   "metadata": {},
   "outputs": [],
   "source": [
    "#cc.__dict__\n",
    "sc= BasicSmartContract()\n",
    "callopt= '{\"function\":\"BalanceOf\",\"Args\":[' + '\\\"' + 'asset' + '\\\"' + ']}'\n",
    "#callopt= '{\"function\":\"Name\",\"Args\":[' + '\\\"' + 'asset' + '\\\"' + ']}'\n",
    "#callopt= '{\"function\":\"Init\",\"Args\":[' + '\\\"' + 'asset' + '\\\"' + ']}'\n",
    "callopt\n",
    "#sc._query(callopt)\n",
    "#query(self,callopt, channel_name=None, user='User1')\n",
    "_blockchain.peers['aubonmoulin'].query(callopt, channel_name=_blockchain.channel_name, user='User1')[0]"
   ]
  },
  {
   "cell_type": "code",
   "execution_count": null,
   "metadata": {},
   "outputs": [],
   "source": [
    "class GolangFunction(BaseAction):\n",
    "    def __init__(self,contract_name=None,func_name=None,interface=None,args=None,results=None):\n",
    "        super(GolangFunction, self).__init__()\n",
    "        self.contract_name=contract_name\n",
    "        self.func_name=func_name\n",
    "        self.interface=interface\n",
    "        self.args=args\n",
    "        self.results=results\n",
    "        \n",
    "class GolangSmartcontract(BaseAction):\n",
    "    def __init__(self,filename=None):\n",
    "        super(GolangSmartcontract, self).__init__()\n",
    "        self.fuctions = {}\n",
    "        self. init_by_definition_file(filename)\n",
    "        \n",
    "    def init_by_definition_file(self,filename):        \n",
    "       \n",
    "        with open(filename, 'r') as fp:\n",
    "            lines = fp.readlines()\n",
    "\n",
    "        for line in lines:\n",
    "            _splits = line.split('*')[1].split(')')\n",
    "            contract_name = _splits[0].strip()\n",
    "            _ret = line.split(')')[2].strip().strip(\"(){}\").split(',')\n",
    "            results=[]\n",
    "            for i in _ret:\n",
    "                j = i.replace(' ','')\n",
    "                results.append(j)\n",
    "\n",
    "            _func_def_split = _splits[1].split('(')\n",
    "            func_name = _func_def_split[0].strip()\n",
    "            _arg_split = _func_def_split[1].split(',')\n",
    "            #print(func_name, _arg_split)\n",
    "            interface = _arg_split[0]\n",
    "            \n",
    "            args = {} \n",
    "            for index in range(1,len(_arg_split)):\n",
    "                arg = _arg_split[index].split()\n",
    "                args[arg[0]] = arg[1]\n",
    "            #print(line)    \n",
    "            #print(func_name,interface,args,result)    \n",
    "            self.fuctions[func_name] = GolangFunction(contract_name=contract_name,func_name=func_name,interface=interface,args=args,results=results)"
   ]
  },
  {
   "cell_type": "code",
   "execution_count": null,
   "metadata": {},
   "outputs": [],
   "source": [
    "owner = \"x509::CN=minter,OU=client,O=Hyperledger,ST=North Carolina,C=US::CN=ca.org1.example.com,O=org1.example.com,L=Durham,ST=North Carolina,C=US\"\n",
    "operator = \"x509::CN=org,OU=client,O=Hyperledger,ST=North Carolina,C=US::CN=ca.org1.example.com,O=org1.example.com,L=Durham,ST=North Carolina,C=AR\""
   ]
  },
  {
   "cell_type": "code",
   "execution_count": null,
   "metadata": {},
   "outputs": [],
   "source": [
    "_golangSmartcontract = GolangSmartcontract(filename='erc721-contract.go.txt')"
   ]
  },
  {
   "cell_type": "code",
   "execution_count": null,
   "metadata": {},
   "outputs": [],
   "source": [
    "_golangSmartcontract.fuctions.keys()\n",
    "_golangSmartcontract.fuctions['MintWithTokenURI'].results\n"
   ]
  },
  {
   "cell_type": "code",
   "execution_count": null,
   "metadata": {},
   "outputs": [],
   "source": [
    " def myfunc(**kwargs):\n",
    "        # kwargs is a dictionary.\n",
    "        for k,v in kwargs.items():\n",
    "             print (\"%s = %s\" % (k, v))\n",
    "        if 'image' in kwargs.keys():\n",
    "            print('found')          "
   ]
  },
  {
   "cell_type": "code",
   "execution_count": null,
   "metadata": {},
   "outputs": [],
   "source": []
  },
  {
   "cell_type": "code",
   "execution_count": null,
   "metadata": {},
   "outputs": [],
   "source": [
    "myfunc(**{list(_golangSmartcontract.fuctions['TokenURI'].args.items())[0][0] : 'string'})\n",
    "\n",
    "_arg_dict = {list(_golangSmartcontract.fuctions['TokenURI'].args.items())[0][0] : 'string'}\n",
    "\n",
    "\n",
    "callopt = _callopt(function_name='TokenURI',args=BasicSmartContract().getArgList(_arg_dict))\n",
    "callopt\n",
    "_blockchain.peers['aubonmoulin'].invoke(callopt, channel_name=_blockchain.channel_name, user='User1')[1]"
   ]
  },
  {
   "cell_type": "code",
   "execution_count": null,
   "metadata": {},
   "outputs": [],
   "source": [
    "\n",
    "asset = _golangSmartcontract.fuctions['MintWithTokenURI'].args\n",
    "BasicSmartContract().getArgList(asset)    \n",
    "callopt = _callopt(function_name='MintWithTokenURI',args=BasicSmartContract().getArgList(asset))    \n",
    "_blockchain.peers['aubonmoulin'].query(callopt, channel_name=_blockchain.channel_name, user='User1')[1]"
   ]
  },
  {
   "cell_type": "code",
   "execution_count": null,
   "metadata": {},
   "outputs": [],
   "source": [
    "def _callopt(function_name=None,args=''):\n",
    "    return '{\"function\":' + '\\\"' + function_name + '\\\"' + ',\"Args\":' + args + '}'\n",
    "    \n",
    "def _invoke(function_name=None,args=None):\n",
    "    callopt = _callopt(function_name=function_name,args=BasicSmartContract().getArgList(args))    \n",
    "    return _blockchain.peers['aubonmoulin'].invoke(callopt, channel_name=_blockchain.channel_name, user='User1')\n",
    "\n",
    "def _query(function_name=None,args=None):\n",
    "    callopt = _callopt(function_name=function_name,args=BasicSmartContract().getArgList(args))    \n",
    "    return _blockchain.peers['aubonmoulin'].query(callopt, channel_name=_blockchain.channel_name, user='User1')"
   ]
  },
  {
   "cell_type": "code",
   "execution_count": null,
   "metadata": {},
   "outputs": [],
   "source": [
    "_args = {'tokenId': 'nft103', 'tokenURI': 'https://example.com/nft103.json'}\n",
    "_query(function_name='MintWithTokenURI',args=_args)[0]    "
   ]
  },
  {
   "cell_type": "code",
   "execution_count": null,
   "metadata": {},
   "outputs": [],
   "source": [
    "_args = {'tokenId': 'nft102'}\n",
    "_owner = _query(function_name='OwnerOf',args=_args)[0]    \n",
    "_owner"
   ]
  },
  {
   "cell_type": "code",
   "execution_count": null,
   "metadata": {},
   "outputs": [],
   "source": [
    "#_golangSmartcontract.fuctions\n",
    "_golangSmartcontract.fuctions['TokenURI'].args\n",
    "#_golangSmartcontract.fuctions['SetApprovalForAll'].args\n",
    "#{'operator': operator, 'tokenId': 'string'}"
   ]
  },
  {
   "cell_type": "code",
   "execution_count": null,
   "metadata": {},
   "outputs": [],
   "source": [
    "_args= {'owner': _owner}\n",
    "_query(function_name='BalanceOf',args=_args)[0]    \n",
    "_query(function_name='_nftExists',args=_args)[1] "
   ]
  },
  {
   "cell_type": "code",
   "execution_count": null,
   "metadata": {},
   "outputs": [],
   "source": [
    "_args={'tokenId': 'nft102'}\n",
    "_query(function_name='BalanceOf',args=_args)[0] "
   ]
  },
  {
   "cell_type": "code",
   "execution_count": null,
   "metadata": {},
   "outputs": [],
   "source": [
    "#_golangSmartcontract.fuctions['SetApprovalForAll'].args\n",
    "operator = 'x509::CN=org,OU=client,O=Hyperledger,ST=North Carolina,C=US::CN=ca.org1.example.com,O=org1.example.com,L=Durham,ST=North Carolina,C=AR'\n",
    "_args={'operator': operator, 'tokenId': 'nft102'}\n",
    "_invoke(function_name='Approve',args=_args)[1]  "
   ]
  },
  {
   "cell_type": "code",
   "execution_count": null,
   "metadata": {},
   "outputs": [],
   "source": [
    "_args={'operator': operator, 'approved': True}\n",
    "_invoke(function_name='SetApprovalForAll',args=_args)[1]\n"
   ]
  },
  {
   "cell_type": "code",
   "execution_count": null,
   "metadata": {},
   "outputs": [],
   "source": [
    "_args={'owner': _owner, 'operator': operator}\n",
    "_query(function_name='IsApprovedForAll',args=_args)[0]"
   ]
  },
  {
   "cell_type": "code",
   "execution_count": null,
   "metadata": {},
   "outputs": [],
   "source": [
    "_args={'tokenId': 'nft102'}\n",
    "_query(function_name='GetApproved',args=_args)[0]  "
   ]
  },
  {
   "cell_type": "code",
   "execution_count": null,
   "metadata": {},
   "outputs": [],
   "source": [
    "#_blockchain.peers['aubonmoulin'].installWalletTool(sharepoint=_blockchain.sharepoint,channel_name=_blockchain.channel_name)\n",
    "_blockchain.peers['aubonmoulin'].wallet_tool.getPeerUsers('org1')"
   ]
  },
  {
   "cell_type": "code",
   "execution_count": null,
   "metadata": {},
   "outputs": [],
   "source": [
    "#_blockchain.__dict__\n",
    "_blockchain.peers['aubonmoulin'].installAndAproveChaincode(orderer=_blockchain.orderer, channel_name=_blockchain.channel_name, chain_code=cc)  \n"
   ]
  },
  {
   "cell_type": "code",
   "execution_count": null,
   "metadata": {},
   "outputs": [],
   "source": [
    "_blockchain.installAndAproveChaincode( chain_code=cc)"
   ]
  },
  {
   "cell_type": "code",
   "execution_count": null,
   "metadata": {},
   "outputs": [],
   "source": [
    "_blockchain.peers['aubonmoulin'].commitChaincode(_blockchain.channel_name,pkgid=cc.pkgid)"
   ]
  },
  {
   "cell_type": "markdown",
   "metadata": {},
   "source": [
    "## add roles"
   ]
  },
  {
   "cell_type": "markdown",
   "metadata": {},
   "source": [
    "## create invoices"
   ]
  },
  {
   "cell_type": "code",
   "execution_count": null,
   "metadata": {},
   "outputs": [],
   "source": [
    "deleteAllInvoices(User(peer=_blockchain.peers['aubonmoulin'], name='Tony.Dubois@aubonmoulin.fr', channel_name=_blockchain.channel_name).smart_contract)              "
   ]
  },
  {
   "cell_type": "code",
   "execution_count": 14,
   "metadata": {},
   "outputs": [
    {
     "name": "stdout",
     "output_type": "stream",
     "text": [
      "'NoneType' object is not subscriptable\n",
      "'NoneType' object is not subscriptable\n",
      "'NoneType' object is not subscriptable\n",
      "'NoneType' object is not subscriptable\n",
      "'NoneType' object is not subscriptable\n",
      "'NoneType' object is not subscriptable\n",
      "'NoneType' object is not subscriptable\n",
      "'NoneType' object is not subscriptable\n",
      "'NoneType' object is not subscriptable\n",
      "'NoneType' object is not subscriptable\n",
      "'NoneType' object is not subscriptable\n",
      "'NoneType' object is not subscriptable\n",
      "'NoneType' object is not subscriptable\n",
      "'NoneType' object is not subscriptable\n",
      "'NoneType' object is not subscriptable\n"
     ]
    }
   ],
   "source": [
    "createInvoices(invoices,_blockchain)            "
   ]
  },
  {
   "cell_type": "code",
   "execution_count": null,
   "metadata": {},
   "outputs": [],
   "source": [
    "from typing import Dict, Any\n",
    "import hashlib\n",
    "import json\n",
    "\n",
    "def dict_hash(dictionary: Dict[str, Any]) -> str:\n",
    "    \"\"\"MD5 hash of a dictionary.\"\"\"\n",
    "    dhash = hashlib.md5()\n",
    "    # We need to sort arguments so {'a': 1, 'b': 2} is\n",
    "    # the same as {'b': 2, 'a': 1}\n",
    "    encoded = json.dumps(dictionary, sort_keys=True).encode()\n",
    "    dhash.update(encoded)\n",
    "    return dhash.hexdigest()\n"
   ]
  },
  {
   "cell_type": "code",
   "execution_count": null,
   "metadata": {},
   "outputs": [],
   "source": [
    "_blockchain.getUser(get_CN_of_invoice(invoices.iloc[3],'sellerTradeParty'))"
   ]
  },
  {
   "cell_type": "code",
   "execution_count": null,
   "metadata": {},
   "outputs": [],
   "source": [
    "_user = get_CN_of_invoice(invoices.iloc[3],'sellerTradeParty')\n",
    "_org = _user.split('@')[1]\n",
    "for key,peer in _blockchain.peers.items():\n",
    "    if _org in peer.organizations.keys():\n",
    "        print(_org,_user,peer.organizations[_org].users.keys())\n",
    "        if _user in peer.organizations[_org].users.keys():\n",
    "            print(peer.organizations[_org].users[_user])    "
   ]
  },
  {
   "cell_type": "code",
   "execution_count": 15,
   "metadata": {},
   "outputs": [
    {
     "data": {
      "application/vnd.jupyter.widget-view+json": {
       "model_id": "22fa7ed5160e477b816d81de95ac1dd4",
       "version_major": 2,
       "version_minor": 0
      },
      "text/plain": [
       "Output()"
      ]
     },
     "metadata": {},
     "output_type": "display_data"
    }
   ],
   "source": [
    "invoice = invoices.iloc[3]\n",
    "seller = getUser(_blockchain,get_CN_of_invoice(invoice,'sellerTradeParty'))\n",
    "buyer  = getUser(_blockchain,get_CN_of_invoice(invoice,'buyerTradeParty')) \n",
    "seller_id = seller.smart_contract.getSubmittingClientIdentity()[0]\n",
    "buyer_id  = buyer.smart_contract.getSubmittingClientIdentity()[0]\n",
    "asset     = seller.smart_contract.getEmptyInvoice()[0]\n",
    "update_invoice(asset=asset,invoice=invoice,id=3,seller=seller_id,buyer=buyer_id)\n",
    "seller.smart_contract.createInvoice(arglist=getArgList(asset))[1]"
   ]
  },
  {
   "cell_type": "code",
   "execution_count": 13,
   "metadata": {},
   "outputs": [
    {
     "data": {
      "text/plain": [
       "('x509::CN=Tony.Dubois@aubonmoulin.fr,OU=admin::CN=ca.aubonmoulin.fr,O=aubonmoulin.fr,L=Malaucene,ST=Provence-Alpes-Cote,C=FR',\n",
       " Output())"
      ]
     },
     "execution_count": 13,
     "metadata": {},
     "output_type": "execute_result"
    }
   ],
   "source": [
    "seller.smart_contract.getSubmittingClientIdentity()"
   ]
  },
  {
   "cell_type": "code",
   "execution_count": 12,
   "metadata": {},
   "outputs": [
    {
     "data": {
      "text/plain": [
       "{'name': 'BaseAction',\n",
       " 'state': None,\n",
       " 'shared_fs': '10.15.130.111:80',\n",
       " 'hostname': 'invoice-net.org1.example.com',\n",
       " 'host': '10.14.128.38',\n",
       " 'service_name': 'hl-fabric-cc-external-invoice-net',\n",
       " 'port': '30539',\n",
       " 'label': 'basic_1.0',\n",
       " 'pkgid': 'basic_1.0:a9ebf8243d6d69d6535e4bcd3f77860facd45d6d9882cdd6efa70e0837dbbea0'}"
      ]
     },
     "execution_count": 12,
     "metadata": {},
     "output_type": "execute_result"
    }
   ],
   "source": [
    "cc.__dict__"
   ]
  },
  {
   "cell_type": "code",
   "execution_count": null,
   "metadata": {},
   "outputs": [],
   "source": [
    "getUser(_blockchain,get_CN_of_invoice(invoice,'sellerTradeParty'))"
   ]
  },
  {
   "cell_type": "code",
   "execution_count": null,
   "metadata": {},
   "outputs": [],
   "source": [
    "seller.smart_contract.getAllKeys()"
   ]
  },
  {
   "cell_type": "code",
   "execution_count": null,
   "metadata": {},
   "outputs": [],
   "source": [
    "seller.smart_contract.listInvoice(id='asset14')"
   ]
  },
  {
   "cell_type": "code",
   "execution_count": null,
   "metadata": {},
   "outputs": [],
   "source": [
    "seller_id"
   ]
  },
  {
   "cell_type": "code",
   "execution_count": null,
   "metadata": {},
   "outputs": [],
   "source": [
    "User(peer=_blockchain.peers['aubonmoulin'], name='Tony.Dubois@aubonmoulin.fr', channel_name=_blockchain.channel_name).smart_contract.listInvoices()"
   ]
  },
  {
   "cell_type": "code",
   "execution_count": null,
   "metadata": {},
   "outputs": [],
   "source": [
    "invoice=invoices.iloc[3]\n",
    "getUser(_blockchain,get_CN_of_invoice(invoice,'sellerTradeParty'))"
   ]
  },
  {
   "cell_type": "code",
   "execution_count": null,
   "metadata": {},
   "outputs": [],
   "source": [
    "seller.smart_contract.getAllKeys()[0]"
   ]
  },
  {
   "cell_type": "code",
   "execution_count": null,
   "metadata": {},
   "outputs": [],
   "source": [
    "invoices = get_invoices()\n",
    "#createInvoices(invoices,_blockchain.peers)\n",
    "#invoices"
   ]
  },
  {
   "cell_type": "code",
   "execution_count": null,
   "metadata": {},
   "outputs": [],
   "source": [
    "def get_org_of_invoice(invoice,party):\n",
    "    _name=strip_accents(getPathValue(invoice,'/supplyChainTradeTransaction/applicableHeaderTradeAgreement/' + party + '/definedTradeContact/')[0]['personName']['value'].replace(' ','.'))\n",
    "    _email=getPathValue(invoice,'/supplyChainTradeTransaction/applicableHeaderTradeAgreement/' + party + '/definedTradeContact/')[0]['emailURIUniversalCommunication']['uriid']['value']\n",
    "    return _email.split('@')[1]"
   ]
  },
  {
   "cell_type": "code",
   "execution_count": null,
   "metadata": {},
   "outputs": [],
   "source": [
    "User(peer=_blockchain.peers['aubonmoulin'], user='Tony.Dubois@aubonmoulin.fr', channel_name=_blockchain.channel_name).smart_contract.getSubmittingClientIdentity()"
   ]
  },
  {
   "cell_type": "code",
   "execution_count": null,
   "metadata": {},
   "outputs": [],
   "source": [
    "get_CN_of_invoice(invoice,'sellerTradeParty')"
   ]
  },
  {
   "cell_type": "code",
   "execution_count": null,
   "metadata": {},
   "outputs": [],
   "source": [
    "#list(asset)\n",
    "_smart_contract_aubonmoulin.getEmptyInvoice()[0]"
   ]
  },
  {
   "cell_type": "code",
   "execution_count": null,
   "metadata": {},
   "outputs": [],
   "source": [
    "InvoiceSmartContract(peer=_blockchain.peers['lyon-impots'], user='Auguste.Boucher@lyon-impots.gouv.fr').appendRole(role='TaxInspector')"
   ]
  },
  {
   "cell_type": "code",
   "execution_count": null,
   "metadata": {},
   "outputs": [],
   "source": [
    "InvoiceSmartContract(peer=_blockchain.peers['aubonmoulin'], user='Tony.Dubois@aubonmoulin.fr').appendRole(role='Seller', taxInspector='')"
   ]
  },
  {
   "cell_type": "code",
   "execution_count": null,
   "metadata": {},
   "outputs": [],
   "source": [
    "strlist = ['/bin/ls',  '/mnt/conf/organizations/peerOrganizations/']\n",
    "peer=_blockchain.peers['aubonmoulin']\n",
    "executePeerCmd(peer.pod_name,toCmd(strlist)).splitlines() "
   ]
  },
  {
   "cell_type": "code",
   "execution_count": null,
   "metadata": {},
   "outputs": [],
   "source": [
    "appendRoles(_blockchain.peers)\n",
    "#peer=_blockchain.peers['lyon-impots']\n",
    "#appendRole(peer,user='Auguste.Boucher@lyon-impots.gouv.fr',role='TaxInspector')"
   ]
  },
  {
   "cell_type": "code",
   "execution_count": null,
   "metadata": {},
   "outputs": [],
   "source": [
    "peer=_blockchain.peers['lyon-impots']\n",
    "getRoles(peer,user='Auguste.Boucher@lyon-impots.gouv.fr')[0]"
   ]
  },
  {
   "cell_type": "code",
   "execution_count": null,
   "metadata": {},
   "outputs": [],
   "source": [
    "callopt='{\"function\":\"AppendRole\",\"Args\":[\"x509::CN=Auguste.Boucher@lyon-impots.gouv.fr,OU=admin,O=kubernetes.research.dev.seeburger.de::CN=ca.lyon-impots.gouv.fr,O=lyon-impots.gouv.fr,L=Lyon,ST=Auvergne-Rhone-Alpes,C=FR\",\"TaxInspector\",\"\"]}'"
   ]
  },
  {
   "cell_type": "code",
   "execution_count": null,
   "metadata": {},
   "outputs": [],
   "source": [
    "peer=_blockchain.peers['lyon-impots']\n",
    "getAllKeys(peer)[1]"
   ]
  },
  {
   "cell_type": "code",
   "execution_count": null,
   "metadata": {},
   "outputs": [],
   "source": [
    "peer=_blockchain.peers['lyon-impots']\n",
    "callopt= '{\"function\":\"GetAllKeys\",\"Args\":[' + ']}'\n",
    "#peer.query(callopt,channel_name='invoicing18',user='Auguste.Boucher@lyon-impots.gouv.fr')\n",
    "peer.query(callopt,channel_name='invoicing18',user='User1')"
   ]
  },
  {
   "cell_type": "code",
   "execution_count": null,
   "metadata": {},
   "outputs": [],
   "source": [
    "getAllRoles(peer)\n",
    "getRoles(peer, user='Auguste.Boucher@lyon-impots.gouv.fr')"
   ]
  },
  {
   "cell_type": "code",
   "execution_count": null,
   "metadata": {},
   "outputs": [],
   "source": [
    "getRoleTransactions(peer)"
   ]
  },
  {
   "cell_type": "code",
   "execution_count": null,
   "metadata": {},
   "outputs": [],
   "source": [
    "invoices = get_invoices()\n",
    "createInvoices(invoices,_blockchain.peers)\n",
    "#invoices"
   ]
  },
  {
   "cell_type": "code",
   "execution_count": null,
   "metadata": {},
   "outputs": [],
   "source": [
    "peer=_blockchain.peers['aubonmoulin']\n",
    "getPeerOrganizations(peer)"
   ]
  },
  {
   "cell_type": "code",
   "execution_count": null,
   "metadata": {},
   "outputs": [],
   "source": [
    "get_peer_of_user('Tony.Dubois@aubonmoulin.fr',_blockchain.peers)"
   ]
  },
  {
   "cell_type": "code",
   "execution_count": null,
   "metadata": {},
   "outputs": [],
   "source": [
    "peer=_blockchain.peers['aubonmoulin']\n",
    "listInvoices(peer, user='Tony.Dubois@aubonmoulin.fr')[1]"
   ]
  },
  {
   "cell_type": "code",
   "execution_count": null,
   "metadata": {},
   "outputs": [],
   "source": [
    "peer=_blockchain.peers['aubonmoulin']\n",
    "InvoiceSmartContract(peer=peer, user='Tony.Dubois@aubonmoulin.fr').listInvoices()[0]"
   ]
  },
  {
   "cell_type": "code",
   "execution_count": null,
   "metadata": {},
   "outputs": [],
   "source": [
    "InvoiceSmartContract(peer=peer, user='Tony.Dubois@aubonmoulin.fr').__dict__"
   ]
  },
  {
   "cell_type": "code",
   "execution_count": null,
   "metadata": {},
   "outputs": [],
   "source": [
    "deleteAllInvoices(peer)  "
   ]
  }
 ],
 "metadata": {
  "kernelspec": {
   "display_name": "Python 3 (ipykernel)",
   "language": "python",
   "name": "python3"
  },
  "language_info": {
   "codemirror_mode": {
    "name": "ipython",
    "version": 3
   },
   "file_extension": ".py",
   "mimetype": "text/x-python",
   "name": "python",
   "nbconvert_exporter": "python",
   "pygments_lexer": "ipython3",
   "version": "3.9.5"
  }
 },
 "nbformat": 4,
 "nbformat_minor": 4
}
