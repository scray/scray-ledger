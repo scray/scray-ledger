{
 "cells": [
  {
   "cell_type": "markdown",
   "metadata": {},
   "source": [
    "# Kubernetes"
   ]
  },
  {
   "cell_type": "markdown",
   "metadata": {},
   "source": [
    "# Kubernetes Version (Current)"
   ]
  },
  {
   "cell_type": "code",
   "execution_count": 1,
   "metadata": {},
   "outputs": [
    {
     "name": "stdout",
     "output_type": "stream",
     "text": [
      "aubonmoulin-67b4649968-jlskd\n",
      "austriafactor-bf94f4f89-rzvgz\n",
      "cc-deployer-746f97765-dmjnw\n",
      "hl-fabric-data-share-deployment-7f7547d845-gq9sg\n",
      "invoice-chaincode-external-6d6dcf7d47-jjqww\n",
      "invoice-net-chaincode-external-54cbcd776-nczr6\n",
      "lyon-impots-7898cf8fd8-cwnhq\n",
      "megustaolive-db7964cfd-lvdch\n",
      "orderer-org1-scray-org-d8b6656f7-q8g95\n",
      "peer200-549cb588fc-99zw9\n",
      "peer201-5dbc445fc-4zv27\n",
      "store-f5996757c-prqv5\n",
      "store2-68fcc4f867-wp7rp\n",
      "aubonmoulin\n",
      "austriafactor\n",
      "cc-deployer\n",
      "hl-fabric-data-share-deployment\n",
      "invoice-chaincode-external\n",
      "invoice-net-chaincode-external\n",
      "lyon-impots\n",
      "megustaolive\n",
      "orderer-org1-scray-org\n",
      "peer200\n",
      "peer201\n",
      "store\n",
      "store2\n",
      "aubonmoulin\n",
      "austriafactor\n",
      "hl-fabric-cc-external-invoice\n",
      "hl-fabric-cc-external-invoice-net\n",
      "hl-fabric-data-share-service\n",
      "kubernetes\n",
      "lyon-impots\n",
      "megustaolive\n",
      "orderer-org1-scray-org\n",
      "peer100\n",
      "peer101\n",
      "peer102\n",
      "peer200\n",
      "peer201\n",
      "peer48\n",
      "peer49\n",
      "peer50\n",
      "peer55\n",
      "store\n",
      "store2\n",
      "30081Error from server (NotFound): pods \"orderer-org1-scray-org-5f97c57d44-qrz4b\" not found\n"
     ]
    },
    {
     "name": "stderr",
     "output_type": "stream",
     "text": [
      "Error from server (NotFound): services \"olya0\" not found\n",
      "Error from server (NotFound): services \"olya0\" not found\n"
     ]
    }
   ],
   "source": [
    "from kubernetesTool import executeKubectlCmd\n",
    "from kubernetesTool import toCmd\n",
    "from kubernetesTool import executeLocalCmd\n",
    "from kubernetesTool import createConfig\n",
    "from kubernetesTool import getPort\n",
    "from kubernetesTool import executePeerCmd"
   ]
  },
  {
   "cell_type": "code",
   "execution_count": 2,
   "metadata": {},
   "outputs": [],
   "source": [
    "#!pip install ipynb\n",
    "from ipynb.fs.full.facturxWidget import *"
   ]
  },
  {
   "cell_type": "markdown",
   "metadata": {},
   "source": [
    "## check status peers"
   ]
  },
  {
   "cell_type": "code",
   "execution_count": 36,
   "metadata": {},
   "outputs": [
    {
     "name": "stdout",
     "output_type": "stream",
     "text": [
      "{'app': 'aubonmoulin', 'pod-template-hash': '67b4649968'} Running\n",
      "{'app': 'austriafactor', 'pod-template-hash': 'bf94f4f89'} Running\n",
      "{'app': 'cc-deployer', 'pod-template-hash': '746f97765'} Running\n",
      "{'app': 'hl-fabric-data-share', 'pod-template-hash': '7f7547d845'} Running\n",
      "{'app': 'invoice-chaincode-external', 'pod-template-hash': '6d6dcf7d47'} Running\n",
      "{'app': 'invoice-net-chaincode-external', 'pod-template-hash': '54cbcd776'} Running\n",
      "{'app': 'lyon-impots', 'pod-template-hash': '7898cf8fd8'} Running\n",
      "{'app': 'megustaolive', 'pod-template-hash': 'db7964cfd'} Running\n",
      "{'app': 'orderer-org1-scray-org', 'pod-template-hash': 'd8b6656f7'} Running\n",
      "{'app': 'peer200', 'pod-template-hash': '549cb588fc'} Running\n",
      "{'app': 'peer201', 'pod-template-hash': '5dbc445fc'} Running\n",
      "{'app': 'store', 'pod-template-hash': 'f5996757c'} Running\n",
      "{'app': 'store2', 'pod-template-hash': '68fcc4f867'} Running\n"
     ]
    }
   ],
   "source": [
    "from kubernetesTool import executeKubectlCmd\n",
    "_res = executeKubectlCmd(['get', 'pods', '-o', 'json'], decode='json')\n",
    "\n",
    "for item in _res['items']:\n",
    "    labels=item['metadata']['labels']\n",
    "    #status=item['status']['initContainerStatuses'][0]\n",
    "    #print(labels,status['state'],status['restartCount'],status['name'],status['ready'])\n",
    "    print(labels,item['status']['phase'])\n",
    "    #print(labels)"
   ]
  },
  {
   "cell_type": "code",
   "execution_count": 49,
   "metadata": {},
   "outputs": [],
   "source": [
    "for item in _res['items']:\n",
    "    labels=item['metadata']['labels']\n",
    "    if labels['app'] == 'invoice-net-chaincode-external':\n",
    "        _item = item"
   ]
  },
  {
   "cell_type": "code",
   "execution_count": 54,
   "metadata": {},
   "outputs": [
    {
     "data": {
      "text/plain": [
       "{'apiVersion': 'v1',\n",
       " 'kind': 'Service',\n",
       " 'metadata': {'annotations': {'kubectl.kubernetes.io/last-applied-configuration': '{\"apiVersion\":\"v1\",\"kind\":\"Service\",\"metadata\":{\"annotations\":{},\"labels\":{\"run\":\"hl-fabric-cc-external-invoice-net\"},\"name\":\"hl-fabric-cc-external-invoice-net\",\"namespace\":\"default\"},\"spec\":{\"ports\":[{\"name\":\"chaincode\",\"port\":9999,\"protocol\":\"TCP\"}],\"selector\":{\"app\":\"invoice-net-chaincode-external\"},\"type\":\"NodePort\"}}\\n'},\n",
       "  'creationTimestamp': '2021-12-01T10:11:26Z',\n",
       "  'labels': {'run': 'hl-fabric-cc-external-invoice-net'},\n",
       "  'name': 'hl-fabric-cc-external-invoice-net',\n",
       "  'namespace': 'default',\n",
       "  'resourceVersion': '261406',\n",
       "  'uid': '0e51942f-893c-4824-8294-134b49ec7d6d'},\n",
       " 'spec': {'clusterIP': '10.105.154.212',\n",
       "  'clusterIPs': ['10.105.154.212'],\n",
       "  'externalTrafficPolicy': 'Cluster',\n",
       "  'internalTrafficPolicy': 'Cluster',\n",
       "  'ipFamilies': ['IPv4'],\n",
       "  'ipFamilyPolicy': 'SingleStack',\n",
       "  'ports': [{'name': 'chaincode',\n",
       "    'nodePort': 32512,\n",
       "    'port': 9999,\n",
       "    'protocol': 'TCP',\n",
       "    'targetPort': 9999}],\n",
       "  'selector': {'app': 'invoice-net-chaincode-external'},\n",
       "  'sessionAffinity': 'None',\n",
       "  'type': 'NodePort'},\n",
       " 'status': {'loadBalancer': {}}}"
      ]
     },
     "execution_count": 54,
     "metadata": {},
     "output_type": "execute_result"
    }
   ],
   "source": [
    "#_item\n",
    "output = subprocess.check_output(['/home/jovyan/work/usr/bin/kubectl', 'get','service','hl-fabric-cc-external-invoice-net','-o','json'])\n",
    "json.loads(output.decode('ascii'))"
   ]
  },
  {
   "cell_type": "code",
   "execution_count": 58,
   "metadata": {},
   "outputs": [
    {
     "name": "stdout",
     "output_type": "stream",
     "text": [
      "{'run': 'aubonmoulin'}\n",
      "{'run': 'austriafactor'}\n",
      "{'run': 'hl-fabric-cc-external-invoice'}\n",
      "{'run': 'hl-fabric-cc-external-invoice-net'}\n",
      "{'run': 'hl-fabric-data-share-service'}\n",
      "{'component': 'apiserver', 'provider': 'kubernetes'}\n",
      "{'run': 'lyon-impots'}\n",
      "{'run': 'megustaolive'}\n",
      "{'run': 'orderer-org1-scray-org'}\n",
      "{'run': 'peer100'}\n",
      "{'run': 'peer101'}\n",
      "{'run': 'peer102'}\n",
      "{'run': 'peer200'}\n",
      "{'run': 'peer201'}\n",
      "{'run': 'peer48'}\n",
      "{'run': 'peer49'}\n",
      "{'run': 'peer50'}\n",
      "{'run': 'peer55'}\n",
      "{'run': 'store'}\n",
      "{'run': 'store2'}\n"
     ]
    }
   ],
   "source": [
    "output = subprocess.check_output(['/home/jovyan/work/usr/bin/kubectl', 'get','services','-o','json'])\n",
    "_services = json.loads(output.decode('ascii'))\n",
    "\n",
    "for item in _services['items']:\n",
    "    labels=item['metadata']['labels']\n",
    "    #status=item['status']['initContainerStatuses'][0]\n",
    "    #print(labels,status['state'],status['restartCount'],status['name'],status['ready'])\n",
    "    print(labels)\n",
    "    #print(labels)"
   ]
  },
  {
   "cell_type": "code",
   "execution_count": 57,
   "metadata": {},
   "outputs": [
    {
     "data": {
      "text/plain": [
       "dict_keys(['apiVersion', 'items', 'kind', 'metadata'])"
      ]
     },
     "execution_count": 57,
     "metadata": {},
     "output_type": "execute_result"
    }
   ],
   "source": [
    "_services.keys()"
   ]
  },
  {
   "cell_type": "code",
   "execution_count": null,
   "metadata": {},
   "outputs": [],
   "source": [
    "\n",
    "#kubernetespeer('invoice-net-chaincode-external')\n",
    "\n",
    "ordererpeer(name='orderer-org1-scray-org',prefix='orderer').__dict__"
   ]
  },
  {
   "cell_type": "code",
   "execution_count": null,
   "metadata": {},
   "outputs": [],
   "source": [
    "_res['items'][3]['metadata']['labels']\n",
    "_res['items'][0]['status']['phase']"
   ]
  },
  {
   "cell_type": "code",
   "execution_count": null,
   "metadata": {},
   "outputs": [],
   "source": [
    "#30489\n",
    "kubernetesTool.getPort(peername='invoice-chaincode-external', name = prefix + '-listen')"
   ]
  },
  {
   "cell_type": "code",
   "execution_count": null,
   "metadata": {},
   "outputs": [],
   "source": [
    "kubernetespeer(name='invoice-net-chaincode-external').__dict__"
   ]
  },
  {
   "cell_type": "code",
   "execution_count": 38,
   "metadata": {},
   "outputs": [
    {
     "name": "stderr",
     "output_type": "stream",
     "text": [
      "Error from server (NotFound): services \"invoice-net-chaincode-external\" not found\n"
     ]
    },
    {
     "data": {
      "text/plain": [
       "'Command \\'[\\'/home/jovyan/work/usr/bin/kubectl\\', \\'get\\', \\'service\\', \\'invoice-net-chaincode-external\\', \\'-o\\', \\'jsonpath=\"{.spec.ports[?(@.name==\\\\\\'peer-listen\\\\\\')].nodePort}\"\\']\\' returned non-zero exit status 1.'"
      ]
     },
     "execution_count": 38,
     "metadata": {},
     "output_type": "execute_result"
    }
   ],
   "source": [
    "kubernetesTool.getPod('invoice-net-chaincode-external')\n",
    "kubernetesTool.getPort(peername='invoice-net-chaincode-external', name = 'peer' + '-listen')"
   ]
  },
  {
   "cell_type": "code",
   "execution_count": null,
   "metadata": {},
   "outputs": [],
   "source": [
    "#_res['items'][5]['status']['containerStatuses']\n",
    "_res['items'][5]"
   ]
  },
  {
   "cell_type": "code",
   "execution_count": null,
   "metadata": {},
   "outputs": [],
   "source": [
    "for item in _res['items']:\n",
    "    labels=item['metadata']['labels']\n",
    "    if labels['app'] == 'invoice-net-chaincode-external':\n",
    "        print(item)"
   ]
  },
  {
   "cell_type": "markdown",
   "metadata": {},
   "source": [
    "## addPeer"
   ]
  },
  {
   "cell_type": "code",
   "execution_count": 4,
   "metadata": {},
   "outputs": [],
   "source": [
    "\n",
    "\n",
    "def createConfig(peername='',peer_listen_port='',peer_gossip_port='',ca_country='DE',ca_province='Baden',ca_locality='Bretten'):\n",
    "    try:  \n",
    "        output  = subprocess.check_output(['/home/jovyan/work/usr/bin/kubectl', 'create','configmap','hl-fabric-peer-' + peername,\n",
    "                                          '--from-literal=hostname=kubernetes.research.dev.seeburger.de',\n",
    "                                          '--from-literal=org_name=' + peername,\n",
    "                                          '--from-literal=data_share=hl-fabric-data-share-service:80',\n",
    "                                          '--from-literal=ca_country='  + ca_country,\n",
    "                                          '--from-literal=ca_province=' + ca_province,\n",
    "                                          '--from-literal=ca_locality=' + ca_locality,\n",
    "                                          '--from-literal=CORE_PEER_ADDRESS=kubernetes.research.dev.seeburger.de:' + peer_listen_port,\n",
    "                                          '--from-literal=CORE_PEER_GOSSIP_EXTERNALENDPOINT=kubernetes.research.dev.seeburger.de:' + peer_gossip_port,\n",
    "                                          '--from-literal=CORE_PEER_LOCALMSPID=' + peername + 'MSP'])\n",
    "        return str(output)\n",
    "    except Exception as e:\n",
    "        return str(e)  \n",
    "\n",
    "\n",
    "\n",
    "\n",
    "def addPeer(peername,ca_country='DE',ca_province='Baden',ca_locality='Bretten'):  \n",
    "    if peername in peers.keys():\n",
    "        return peers[peername]\n",
    "    # Create configuration for new peer\n",
    "    executeLocalCmd(['/bin/bash','-c','cd /home/jovyan/scray-ledger/containers/ && /home/jovyan/scray-ledger/containers/configure-deployment.sh -n ' + peername])\n",
    "    # Start service\n",
    "    executeKubectlCmd(['apply', '-f', '/home/jovyan/scray-ledger/containers/target/' + peername + '/k8s-peer-service.yaml'])\n",
    "    # Create peer configuration\n",
    "    res = createConfig(peername=peername,\n",
    "                       peer_listen_port=getPort(peername=peername, name='peer-listen'),\n",
    "                       peer_gossip_port=getPort(peername=peername, name='peer-gossip'),\n",
    "                       ca_country=ca_country,ca_province=ca_province,ca_locality=ca_locality)\n",
    "    # Start new peer\n",
    "    executeKubectlCmd(['apply', '-f','/home/jovyan/scray-ledger/containers/target/' + peername + '/k8s-peer.yaml'])\n",
    "    peer = kubernetespeer(name=peername)\n",
    "    peers[peername] = peer\n",
    "    return peer\n",
    "    \n",
    "# create, delete numbered peers\n",
    "def createPeers(base_name,start=0, end=10):\n",
    "    for x in range(start,end):\n",
    "        peername = base_name + '-' + str(x)\n",
    "        addPeer(peername)\n",
    "         \n",
    "def deletePeers(name):\n",
    "    for x in range(0,10):\n",
    "        peerneme = name + str(x)\n",
    "        deletePeer(peerneme)    \n",
    "  \n",
    "def deleteAllPeers(config):\n",
    "    for item in config['items']:\n",
    "        try:\n",
    "            if 'org_name' in item['data'].keys():\n",
    "                deletePeer(item['data']['org_name'])\n",
    "        except Exception as e:\n",
    "            print(item['data'])\n",
    "            \n",
    "\n",
    "### config            \n",
    "            \n",
    "import subprocess\n",
    "def deleteConfig(peername=''):\n",
    "    try:  \n",
    "        output  = subprocess.check_output(['/home/jovyan/work/usr/bin/kubectl', 'delete','configmap','hl-fabric-peer-' + peername])\n",
    "        return str(output)\n",
    "    except Exception as e:\n",
    "        return str(e)  \n",
    "        \n",
    "    \n",
    "\n",
    "  \n",
    "##### execute\n",
    "\n",
    "def executePeerCmd(pod_name,cmd, cli='scray-peer-cli'):\n",
    "    try:  \n",
    "        #cmd1 = \"source /root/.bashrc && \"\n",
    "        cmd1 = ['/home/jovyan/work/usr/bin/kubectl', 'exec','-t', pod_name, '-c', cli,'--', '/bin/sh','-c',cmd]\n",
    "        #cmd1 = ['/home/jovyan/work/usr/bin/kubectl', 'exec','-t', pod_name, '-c', cli,'--', '/bin/sh','-c'] + cmd\n",
    "        print(toCmd(cmd1))\n",
    "        output  = subprocess.check_output(cmd1)\n",
    "        #output  = subprocess.check_output(['/home/jovyan/work/usr/bin/kubectl', 'exec', '--stdin' ,'--tty', pod_name, '-c', cli,'--', '/bin/sh','-c',cmd])\n",
    "        return output.decode('ascii')\n",
    "    except Exception as e:\n",
    "        return str(e)"
   ]
  },
  {
   "cell_type": "code",
   "execution_count": null,
   "metadata": {},
   "outputs": [],
   "source": []
  },
  {
   "cell_type": "code",
   "execution_count": 5,
   "metadata": {},
   "outputs": [],
   "source": [
    "import kubernetesTool\n",
    "\n",
    "class kubernetespeer:\n",
    "    def __init__(self, name='',prefix='peer'):\n",
    "        self.name = name\n",
    "        self.pod_name = kubernetesTool.getPod(name)\n",
    "        self.listen_port = kubernetesTool.getPort(peername=name, name = prefix + '-listen')\n",
    "        self.gossip_port = kubernetesTool.getPort(peername=name, name = prefix + '-gossip')\n",
    "        # ????????\n",
    "        #print('kubernetespeer addBashEnvToPeer')\n",
    "        #addBashEnvToPeer(self)\n",
    "    def getCertificate(self):\n",
    "        try:\n",
    "            return str(subprocess.check_output(['cat', self.crt]))[2:-3]   \n",
    "        except Exception as e:\n",
    "            return str(e)      \n",
    "        \n",
    "class ordererpeer(kubernetespeer):\n",
    "    def __init__(self, name='',prefix='peer'):\n",
    "        super().__init__(name,prefix)\n",
    "        self.host = 'orderer.example.com'\n",
    "        self.orderer_intern = 7050\n",
    "        \n",
    "    # can change\n",
    "    def get_ip(self, app='orderer-org1-scray-org'):\n",
    "        return executeKubectlCmd(['get', 'pods','-l', 'app=' + app,'-o','jsonpath=\\'{.items[*].status.podIP}\\''])   \n",
    "    "
   ]
  },
  {
   "cell_type": "code",
   "execution_count": 6,
   "metadata": {},
   "outputs": [],
   "source": [
    "def toCmd(strlist):\n",
    "    return ''.join((str(e) + ' ') for e in strlist)[:-1]\n",
    "\n",
    "#!/home/jovyan/work/usr/bin/kubectl exec --stdin --tty $POD_NAME  -c scray-peer-cli -- /bin/sh /mnt/conf/peer_join.sh $ORDERER_IP  $ORDERER_HOSTNAME $CHANNEL_NAME         \n",
    "def joinHyperledger(peer,orderer_ip,orderer_hostname,orderer_port,channel_name,shared_fs_host,ext_peer_ip='10.15.136.41'):          \n",
    "    cmd = toCmd(['/mnt/conf/peer_join.sh', orderer_ip,orderer_hostname,orderer_port,channel_name,shared_fs_host,ext_peer_ip])\n",
    "    print(cmd)\n",
    "    return executePeerCmd(peer.pod_name, cmd)\n",
    "\n",
    "def endorse_peer(peer=None, orderer_ip='',channel_name='',shared_fs_host='',ext_peer_ip='10.15.136.41'):\n",
    "    print(peer.name)\n",
    "    peername = peer.name\n",
    "    peer_host_name = peername + '.kubernetes.research.dev.seeburger.de'\n",
    "    cmd = toCmd(['/mnt/conf/orderer/scripts/inform_existing_nodes.sh',orderer_ip,channel_name,peer.name,shared_fs_host,ext_peer_ip,peer_host_name]) \n",
    "    #print(cmd)\n",
    "    return executePeerCmd(orderer.pod_name,cmd,cli='scray-orderer-cli')\n",
    "\n",
    "def add_channel(name):\n",
    "    cmd1 = ['/mnt/conf/orderer/scripts/create_channel.sh', name, 'orderer.example.com', '7050']\n",
    "    cmd = toCmd(cmd1)\n",
    "    return executePeerCmd(orderer.pod_name, cmd1, cli='scray-orderer-cli')"
   ]
  },
  {
   "cell_type": "code",
   "execution_count": null,
   "metadata": {},
   "outputs": [],
   "source": []
  },
  {
   "cell_type": "markdown",
   "metadata": {},
   "source": [
    "## create peers"
   ]
  },
  {
   "cell_type": "code",
   "execution_count": 7,
   "metadata": {},
   "outputs": [],
   "source": [
    "orderer = ordererpeer(name='orderer-org1-scray-org',prefix='orderer')\n",
    "orderer_ip=orderer.get_ip()\n",
    "orderer_hostname=orderer.host\n",
    "orderer_port= orderer.listen_port\n",
    "\n",
    "channel_name='invoicing'\n",
    "shared_fs_host='10.14.128.38:30080'"
   ]
  },
  {
   "cell_type": "code",
   "execution_count": 8,
   "metadata": {},
   "outputs": [],
   "source": [
    "def endorse_and_join(peer):    \n",
    "    res1 = endorse_peer(peer=peer,orderer_ip=orderer_ip,channel_name=channel_name,shared_fs_host='10.14.128.38:30080')   \n",
    "    res2  = joinHyperledger(peer,orderer_ip,orderer_hostname,orderer_port,channel_name,shared_fs_host)\n",
    "    return res1,res2"
   ]
  },
  {
   "cell_type": "code",
   "execution_count": null,
   "metadata": {},
   "outputs": [],
   "source": [
    "peers = {}"
   ]
  },
  {
   "cell_type": "code",
   "execution_count": null,
   "metadata": {},
   "outputs": [],
   "source": [
    "addPeer('store2',ca_country='FR',ca_province='Auvergne-Rhone-Alpes',ca_locality='Lyon')"
   ]
  },
  {
   "cell_type": "code",
   "execution_count": null,
   "metadata": {},
   "outputs": [],
   "source": [
    "addPeer('aubonmoulin')\n",
    "addPeer('lyon-impots')\n",
    "addPeer('austriafactor')\n",
    "addPeer('megustaolive') "
   ]
  },
  {
   "cell_type": "code",
   "execution_count": null,
   "metadata": {},
   "outputs": [],
   "source": [
    "#createPeers('babby',start=0, end=2)\n",
    "createPeers('babby',start=2, end=4)"
   ]
  },
  {
   "cell_type": "code",
   "execution_count": null,
   "metadata": {},
   "outputs": [],
   "source": [
    "## endorse and join\n",
    "\n",
    "import ipywidgets as widgets\n",
    "out2 = widgets.Output()\n",
    "\n",
    "with out2:\n",
    "    for key, value in peers.items():\n",
    "        endorse_and_join(value)"
   ]
  },
  {
   "cell_type": "code",
   "execution_count": null,
   "metadata": {},
   "outputs": [],
   "source": [
    "out2"
   ]
  },
  {
   "cell_type": "code",
   "execution_count": null,
   "metadata": {},
   "outputs": [],
   "source": [
    "peername='zalya-3'\n",
    "peer = kubernetespeer(name=peername)\n",
    "peers[peername] = peer"
   ]
  },
  {
   "cell_type": "code",
   "execution_count": null,
   "metadata": {},
   "outputs": [],
   "source": [
    "'zalya-0'"
   ]
  },
  {
   "cell_type": "code",
   "execution_count": null,
   "metadata": {},
   "outputs": [],
   "source": [
    "peers['zalya-1'].__dict__\n",
    "#peers"
   ]
  },
  {
   "cell_type": "code",
   "execution_count": null,
   "metadata": {},
   "outputs": [],
   "source": [
    "addPeer('zalya-3')"
   ]
  },
  {
   "cell_type": "code",
   "execution_count": null,
   "metadata": {},
   "outputs": [],
   "source": [
    "orderer.__dict__"
   ]
  },
  {
   "cell_type": "code",
   "execution_count": null,
   "metadata": {},
   "outputs": [],
   "source": [
    "kubectl exec --stdin --tty $ORDERER_POD -c scray-orderer-cli  -- /bin/sh /mnt/conf/orderer/scripts/inform_existing_nodes.sh $ORDERER_IP $CHANNEL_NAME $PEER_NAME $SHARED_FS_HOST $EXT_PEER_IP $PEER_HOST_NAME"
   ]
  },
  {
   "cell_type": "code",
   "execution_count": null,
   "metadata": {},
   "outputs": [],
   "source": [
    "EER_POD_NAME=$(kubectl get pod -l app=$PEER_NAME -o jsonpath=\"{.items[0].metadata.name}\")\n",
    " ORDERER_PORT=$(kubectl get service orderer-org1-scray-org -o jsonpath=\"{.spec.ports[?(@.name=='orderer-listen')].nodePort}\")\n",
    " ORDERER_PORT=7050\n",
    " PEER_PORT=$(kubectl get service $PEER_NAME -o jsonpath=\"{.spec.ports[?(@.name=='peer-listen')].nodePort}\")\n",
    " kubectl exec --stdin --tty $PEER_POD_NAME  -c scray-peer-cli -- /bin/sh /mnt/conf/peer_join.sh $ORDERER_IP  $ORDERER_HOSTNAME $ORDERER_PORT $CHANNEL_NAME $SHARED_FS_HOST $EXT_PEER_IP"
   ]
  },
  {
   "cell_type": "code",
   "execution_count": null,
   "metadata": {},
   "outputs": [],
   "source": []
  },
  {
   "cell_type": "code",
   "execution_count": null,
   "metadata": {},
   "outputs": [],
   "source": [
    "endorse_and_join(peers['zalya-3'])"
   ]
  },
  {
   "cell_type": "code",
   "execution_count": null,
   "metadata": {},
   "outputs": [],
   "source": [
    "installAndAproveChaincode(peers['zalya-1'],orderer,channel_name)\n"
   ]
  },
  {
   "cell_type": "code",
   "execution_count": null,
   "metadata": {},
   "outputs": [],
   "source": [
    "#out2.outputs[1]['text'].splitlines()"
   ]
  },
  {
   "cell_type": "code",
   "execution_count": null,
   "metadata": {},
   "outputs": [],
   "source": [
    "#!/home/jovyan/work/usr/bin/kubectl exec -t orderer-org1-scray-org-5f97c57d44-j5mbs -c scray-orderer-cli -- /bin/sh -c /mnt/conf/orderer/scripts/inform_existing_nodes.sh '10.32.0.5' super40 kalya-0 10.14.128.38:30080 10.15.136.41 kalya-0.kubernetes.research.dev.seeburger.de"
   ]
  },
  {
   "cell_type": "code",
   "execution_count": null,
   "metadata": {},
   "outputs": [],
   "source": [
    "name='peer-gossip'\n",
    "callopt= 'jsonpath=\\\"{.spec.ports[?(@.name==\\'' + name + '\\')].nodePort}\\\"'\n",
    "callopt"
   ]
  },
  {
   "cell_type": "markdown",
   "metadata": {},
   "source": [
    "## install chaincode"
   ]
  },
  {
   "cell_type": "code",
   "execution_count": 9,
   "metadata": {},
   "outputs": [],
   "source": [
    "def installAndAproveChaincode(peer,orderer,channel_name,cc_host='10.14.128.38',pkgid='',cc_hostname='asset-transfer-basic.org1.example.com',cc_label='basic_1.0',shared_fs='kubernetes.research.dev.seeburger.de:30080', sequence=1):\n",
    "    #!/home/jovyan/work/usr/bin/kubectl exec --stdin --tty $POD_NAME -c scray-peer-cli -- /bin/sh /mnt/conf/install_and_approve_cc.sh $IP_CC_SERVICE $IP_OF_EXAMPLE_NETWORK\n",
    "    #strlist = ['/mnt/conf/install_and_approve_cc.sh', cc_host, orderer.get_ip(), orderer.host, str(orderer.orderer_intern), channel_name ]\n",
    "    strlist = ['/mnt/conf/install_and_approve_cc.sh', cc_host, orderer.get_ip(), orderer.host, str(orderer.listen_port), channel_name,pkgid,cc_hostname, cc_label,shared_fs, str(sequence) ]\n",
    "    print(toCmd(strlist))\n",
    "    return executePeerCmd(peer.pod_name,toCmd(strlist)) \n",
    "\n",
    "def commitChaincode(peer,channel_name,sequence=1,pkgid=''):\n",
    "    strlist = ['/mnt/conf/peer/cc_commit.sh', channel_name, str(sequence),pkgid ]\n",
    "    print(toCmd(strlist))\n",
    "    return executePeerCmd(peer.pod_name,toCmd(strlist)) "
   ]
  },
  {
   "cell_type": "code",
   "execution_count": null,
   "metadata": {},
   "outputs": [],
   "source": [
    "for key, peer in peers.items():\n",
    "    executePeerCmd(peer.pod_name,'apk add curl')\n",
    "    strlist = ['curl', 'https://raw.githubusercontent.com/scray/scray-ledger/develop/containers/hl-fabric-node-configurator/conf/install_and_approve_cc.sh', '-o', '/mnt/conf/install_and_approve_cc.sh']\n",
    "    cmd = toCmd(strlist)\n",
    "    print(cmd)\n",
    "    output = executePeerCmd(peer.pod_name,  cmd)\n",
    "    executePeerCmd(peer.pod_name,'chmod 755 /mnt/conf/install_and_approve_cc.sh')\n",
    "    strlist = ['curl', 'https://raw.githubusercontent.com/scray/scray-ledger/develop/containers/hl-fabric-node-configurator/conf/peer/cc_commit.sh', '-o', '/mnt/conf/peer/cc_commit.sh']\n",
    "    cmd = toCmd(strlist)\n",
    "    print(cmd)\n",
    "    output = executePeerCmd(peer.pod_name,  cmd)\n",
    "    executePeerCmd(peer.pod_name,'chmod 755 /mnt/conf/peer/cc_commit.sh')"
   ]
  },
  {
   "cell_type": "code",
   "execution_count": null,
   "metadata": {},
   "outputs": [],
   "source": [
    " peernames"
   ]
  },
  {
   "cell_type": "code",
   "execution_count": null,
   "metadata": {},
   "outputs": [],
   "source": [
    "shared_fs='kubernetes.research.dev.seeburger.de:30080'\n",
    "cc_hostname='invoice-net.org1.example.com'\n",
    "cc_host='10.14.128.38'\n",
    "cc_service_name='hl-fabric-cc-external-invoice-net'\n",
    "cc_port = executeKubectlCmd(['get', 'service', cc_service_name, '-o', 'jsonpath=\"{.spec.ports[?(@.name==\\'chaincode\\')].nodePort}\"'], decode='json')\n",
    "cc_label='basic_1.0'"
   ]
  },
  {
   "cell_type": "code",
   "execution_count": null,
   "metadata": {},
   "outputs": [],
   "source": [
    "cc_port"
   ]
  },
  {
   "cell_type": "code",
   "execution_count": null,
   "metadata": {},
   "outputs": [],
   "source": [
    "import json\n",
    "strlist = ['curl','-s','--user','scray:scray','http://' + shared_fs + '/cc_descriptions/' + cc_hostname + '_' + cc_label + '/description-hash.json']\n",
    "cmd = toCmd(strlist)\n",
    "output = executePeerCmd(peer.pod_name,  cmd)\n",
    "pkgid = json.loads(output[:-1])['description-hash']"
   ]
  },
  {
   "cell_type": "code",
   "execution_count": null,
   "metadata": {},
   "outputs": [],
   "source": [
    "output"
   ]
  },
  {
   "cell_type": "code",
   "execution_count": null,
   "metadata": {},
   "outputs": [],
   "source": [
    "for key, peer in peers.items():\n",
    "    installAndAproveChaincode(peer,orderer,channel_name,cc_host=cc_host,pkgid=pkgid,cc_hostname=cc_hostname,cc_label=cc_label,shared_fs=shared_fs, sequence=1)"
   ]
  },
  {
   "cell_type": "code",
   "execution_count": null,
   "metadata": {},
   "outputs": [],
   "source": [
    "peernames = list(peers.keys())\n",
    "peernames\n",
    "peer = peers[peernames[0]]\n",
    "#peer = list(peers.values())[0]\n",
    "commitChaincode(peer,channel_name,sequence=1,pkgid=pkgid)"
   ]
  },
  {
   "cell_type": "code",
   "execution_count": null,
   "metadata": {},
   "outputs": [],
   "source": [
    "#channel_name\n",
    "#orderer.__dict__\n",
    "#peers['ralya-0'].pod_name\n",
    "peers['zalya-0'].__dict__ , channel_name"
   ]
  },
  {
   "cell_type": "code",
   "execution_count": null,
   "metadata": {},
   "outputs": [],
   "source": [
    "installAndAproveChaincode(peers['zalya-1'],orderer,channel_name,sequence=2)\n"
   ]
  },
  {
   "cell_type": "code",
   "execution_count": null,
   "metadata": {},
   "outputs": [],
   "source": [
    "#commitChaincode(peers['zalya-1'],channel_name,sequence=2)\n",
    "chaincode_init(peers['zalya-1'],channel_name)"
   ]
  },
  {
   "cell_type": "code",
   "execution_count": null,
   "metadata": {},
   "outputs": [],
   "source": [
    "peers['zalya-2'].pod_name"
   ]
  },
  {
   "cell_type": "code",
   "execution_count": 10,
   "metadata": {},
   "outputs": [],
   "source": [
    "def downloadToPeer(peer, orgs, execute_org='schalke3'):\n",
    "    executePeerCmd(peer.pod_name,toCmd(downloadToLocalCmdList(local_path='/tmp', remote_name=getCrtName(org))))   "
   ]
  },
  {
   "cell_type": "code",
   "execution_count": null,
   "metadata": {},
   "outputs": [],
   "source": [
    "peers"
   ]
  },
  {
   "cell_type": "code",
   "execution_count": null,
   "metadata": {},
   "outputs": [],
   "source": [
    "peer = peers['zalya-0']\n",
    "executePeerCmd(peer.pod_name,'apk add curl')"
   ]
  },
  {
   "cell_type": "code",
   "execution_count": null,
   "metadata": {},
   "outputs": [],
   "source": [
    "peer.pod_name"
   ]
  },
  {
   "cell_type": "code",
   "execution_count": null,
   "metadata": {},
   "outputs": [],
   "source": [
    "peer=kubernetespeer(name='oalya-0')\n",
    "channel_name='super45'"
   ]
  },
  {
   "cell_type": "code",
   "execution_count": null,
   "metadata": {},
   "outputs": [],
   "source": [
    "peer.name, channel_name"
   ]
  },
  {
   "cell_type": "code",
   "execution_count": null,
   "metadata": {},
   "outputs": [],
   "source": [
    "!/home/jovyan/work/usr/bin/kubectl exec --stdin --tty lalya-0-7c887cffb8-fpw7h -c scray-peer-cli -- /bin/sh /mnt/conf/peer/cc-basic-interaction.sh  super43"
   ]
  },
  {
   "cell_type": "code",
   "execution_count": null,
   "metadata": {},
   "outputs": [],
   "source": [
    "#Call init method in chaincode\n",
    "def chaincode_init(peer,channel_name):\n",
    "    strlist = ['/mnt/conf/peer/cc-basic-interaction.sh', channel_name ]\n",
    "    print(toCmd(strlist))\n",
    "    return executePeerCmd(peer.pod_name,toCmd(strlist)) \n",
    "\n",
    "chaincode_init(peer,channel_name)"
   ]
  },
  {
   "cell_type": "code",
   "execution_count": null,
   "metadata": {},
   "outputs": [],
   "source": [
    "externalbuilder/builds/basic_1.0-21ee1256844f847e196af6aec17c5cafa76d8bd652d6ef42c3058e52571030b4/release/chaincode/server/c"
   ]
  },
  {
   "cell_type": "code",
   "execution_count": null,
   "metadata": {},
   "outputs": [],
   "source": [
    "peers['nalya-0'].pod_name"
   ]
  },
  {
   "cell_type": "code",
   "execution_count": null,
   "metadata": {},
   "outputs": [],
   "source": [
    "CHANNEL_NAME='super44'\n",
    "#ORDERER_NAME=orderer.example.com\n",
    "IP_CC_SERVICE='10.14.128.38'         # Host where the chaincode is running\n",
    "#PEER_POD=$(kubectl get pod -l app=$PEER_NAME -o jsonpath=\"{.items[0].metadata.name}\")\n",
    "#ORDERER_IP=$(kubectl get pods  -l app=orderer-org1-scray-org -o jsonpath='{.items[*].status.podIP}')\n",
    "#ORDERER_LISTEN_PORT=$(kubectl get service orderer-org1-scray-org -o jsonpath=\"{.spec.ports[?(@.name=='orderer-listen')].nodePort}\")\n",
    "#ORDERER_HOST=orderer.example.com\n",
    "EXT_PEER_IP=\"10.14.128.38\"\n",
    "PEER_POD=\"nalya-0-5494459f47-v7msj\"\n",
    "\n",
    "ORDERER_PORT=$(kubectl get service orderer-org1-scray-org -o jsonpath=\"{.spec.ports[?(@.name=='orderer-listen')].nodePort}\")\n",
    "ORDERER_PORT=30081\n",
    "ORDERER_IP=$(kubectl get pods  -l app=orderer-org1-scray-org -o jsonpath='{.items[*].status.podIP}')\n",
    "\n",
    "kubectl exec --stdin --tty $PEER_POD -c scray-peer-cli -- /bin/sh /mnt/conf/install_and_approve_cc.sh $IP_CC_SERVICE $ORDERER_IP $ORDERER_HOST $ORDERER_PORT $CHANNEL_NAME "
   ]
  },
  {
   "cell_type": "code",
   "execution_count": null,
   "metadata": {},
   "outputs": [],
   "source": [
    "#peers.keys()\n",
    "#[elem for elem in peers.values()]\n",
    "list(peers.values())[0].__dict__"
   ]
  },
  {
   "cell_type": "markdown",
   "metadata": {},
   "source": [
    "# invoice usecase"
   ]
  },
  {
   "cell_type": "code",
   "execution_count": null,
   "metadata": {},
   "outputs": [],
   "source": [
    "peernames = list(peers.keys())\n",
    "peernames"
   ]
  },
  {
   "cell_type": "markdown",
   "metadata": {},
   "source": [
    "## invoice functions"
   ]
  },
  {
   "cell_type": "code",
   "execution_count": 13,
   "metadata": {},
   "outputs": [],
   "source": [
    "#kubectl exec --stdin --tty $PEER_POD -c scray-peer-cli -- /bin/sh /mnt/conf/peer/add-invoice.sh  $CHANNEL_NAME $INVOICE_ID\n",
    "\n",
    "def get_certificate_string(peername,user='User1'):\n",
    "    return 'x509::CN=' + user + '@' + peername + '.kubernetes.research.dev.seeburger.de,OU=client,L=Bretten,ST=Baden,C=DE::CN=ca.' + peername + '.kubernetes.research.dev.seeburger.de,O=' + peername + '.kubernetes.research.dev.seeburger.de,L=Bretten,ST=Baden,C=DE'\n",
    "\n",
    "def chaincode_add_invoice(peer,channel_name,invoice_id,buyer):\n",
    "    strlist = ['/mnt/conf/peer/add-invoice.sh', channel_name,invoice_id,get_certificate_string(buyer)]\n",
    "    print(toCmd(strlist))\n",
    "    return executePeerCmd(peer.pod_name,toCmd(strlist)) \n"
   ]
  },
  {
   "cell_type": "code",
   "execution_count": 14,
   "metadata": {},
   "outputs": [],
   "source": [
    "import json\n",
    "\n",
    "def getHostname(peer,user):\n",
    "    splits = user.split('@')\n",
    "    if len(splits) > 1:\n",
    "        return splits[1]\n",
    "    return executePeerCmd(peer.pod_name,'echo $HOSTNAME')[:-1]\n",
    "\n",
    "def getExport_MSPCONFIGPATH(hostname,user='User1'):\n",
    "    splits = user.split('@')\n",
    "    if len(splits) > 1:\n",
    "        user = splits[0]\n",
    "    path = '/mnt/conf/organizations/peerOrganizations/' + hostname + '/users/' + user + '@' + hostname + '/msp/'\n",
    "    return 'export CORE_PEER_MSPCONFIGPATH=' + path\n",
    "    \n",
    "def getArgList(asset):\n",
    "    if isinstance(asset, dict):\n",
    "        asset = asset.values()\n",
    "    return '[' + ''.join(('\\\"' + str(e) + '\\\",') for e in asset)[:-1] + ']' \n",
    "\n",
    "def invoke(peer,callopt,user='User1'):\n",
    "    global _out\n",
    "    _out = widgets.Output()\n",
    "    with _out:\n",
    "        try:\n",
    "            export_cmd = getExport_MSPCONFIGPATH(getHostname(peer,user),user=user)\n",
    "            cmd0 = str('\\'' + callopt + \"\\'\")\n",
    "            #strlist = ['peer', 'chaincode', 'invoke', '-o', 'orderer.example.com:30081', '--tls', '--cafile', '/tmp/tlsca.example.com-cert.pem','-C', channel_name, '-n', 'basic', '-c', cmd0]\n",
    "            #strlist = ['peer', 'chaincode', 'invoke', '--waitForEventTimeout','1s' ,'-o', 'orderer.example.com:30081', '--tls', '--cafile', '/tmp/tlsca.example.com-cert.pem','-C', channel_name, '-n', 'basic', '-c', cmd0]\n",
    "            strlist = ['peer', 'chaincode', 'invoke', '-o', 'orderer.example.com:30081', '--waitForEvent',  '--tls', '--cafile', '/tmp/tlsca.example.com-cert.pem','-C', channel_name, '-n', 'basic', '-c', cmd0]\n",
    "\n",
    "            cmd = toCmd(strlist)\n",
    "            cmd = export_cmd + '  && ' + cmd\n",
    "            print(cmd)  \n",
    "            output = executePeerCmd(peer.pod_name, cmd)\n",
    "            if output.endswith ('\\n'):\n",
    "                return output[:-1],_out\n",
    "            return output,_out\n",
    "        except Exception as e:\n",
    "            print('Exception:', e)\n",
    "            if output.endswith ('\\n'):\n",
    "                return output[:-1],_out\n",
    "            return output,_out\n",
    "        \n",
    "def query(peer, callopt, user='User1'):\n",
    "    global _out\n",
    "    _out = widgets.Output()\n",
    "    with _out:\n",
    "        try:\n",
    "            export_cmd = getExport_MSPCONFIGPATH(getHostname(peer,user),user=user)\n",
    "            cmd0 = str('\\'' + callopt + \"\\'\")\n",
    "            strlist = ['peer', 'chaincode', 'query', '-C', channel_name, '-n', 'basic', '-c', cmd0]\n",
    "            cmd = toCmd(strlist)\n",
    "            cmd = export_cmd + '  && ' + cmd\n",
    "            print(cmd)\n",
    "            output = executePeerCmd(peer.pod_name, cmd)\n",
    "            if output.endswith ('\\n'):\n",
    "                output=output[:-1]\n",
    "            return json.loads(output),_out\n",
    "        except Exception as e:\n",
    "            print('Exception:', e)\n",
    "            return output,_out\n",
    "    \n",
    "\n",
    "    \n",
    "def getEmptyInvoice(peer):\n",
    "    callopt= '{\"function\":\"GetEmptyInvoice\",\"Args\":[' + ']}'\n",
    "    return query(peer,callopt)       \n",
    "    \n",
    "def createInvoice(peer,arglist='', user='User1'):\n",
    "    callopt= '{\"function\":\"CreateInvoice\",\"Args\":' + arglist + '}'\n",
    "    return invoke(peer,callopt,user=user)    \n",
    "    \n",
    "def listInvoices(peer, user='User1'):\n",
    "    callopt= '{\"function\":\"ListInvoices\",\"Args\":[' + ']}'\n",
    "    return query(peer,callopt,user=user)    \n",
    "    \n",
    "def listInvoice(peer, id='asset1', user='User1'):\n",
    "    callopt= '{\"function\":\"ListInvoice\",\"Args\":' + getArgList([id]) + '}'\n",
    "    return query(peer,callopt,user=user)    \n",
    "    \n",
    "def transferInvoice(peer, id='asset1',name='', user='User1'):\n",
    "    callopt= '{\"function\":\"TransferInvoice\",\"Args\":' + getArgList([id,name]) + '}'\n",
    "    return invoke(peer,callopt,user=user)      \n",
    "    \n",
    "    \n",
    "    \n",
    "def receivedInvoice(peer, id='asset1', user='User1'):\n",
    "    callopt= '{\"function\":\"ReceivedInvoice\",\"Args\":' + getArgList([id]) + '}'\n",
    "    return invoke(peer,callopt,user=user)     \n",
    "    \n",
    "def receivedOrder(peer, id='asset1', user='User1'):\n",
    "    callopt= '{\"function\":\"ReceivedOrder\",\"Args\":' + getArgList([id]) + '}'\n",
    "    return invoke(peer,callopt,user=user)   \n",
    "\n",
    "def receivedPayment(peer, id='asset1', payer='', user='User1'):\n",
    "    callopt= '{\"function\":\"ReceivedPayment\",\"Args\":' + getArgList([id,payer]) + '}'\n",
    "    return invoke(peer,callopt,user=user)   \n",
    "\n",
    "def taxReceived(peer, id='asset1', user='User1'):\n",
    "    callopt= '{\"function\":\"TaxReceived\",\"Args\":' + getArgList([id]) + '}'\n",
    "    return invoke(peer,callopt,user=user)    \n",
    "    \n",
    "    \n",
    "    \n",
    "def getAllKeys(peer):\n",
    "    callopt= '{\"function\":\"GetAllKeys\",\"Args\":[' + ']}'\n",
    "    return query(peer,callopt)     \n",
    "\n",
    "def assetExists(peer, id='asset1'):\n",
    "    #callopt= '{\"function\":\"AssetExists\",\"Args\":[' + '\\\"' + id + '\\\"' + ']}'\n",
    "    callopt= '{\"function\":\"AssetExists\",\"Args\":' + getArgList([id]) + '}'\n",
    "    return query(peer,callopt)\n",
    "        \n",
    "def deleteAsset(peer, asset='asset1'):\n",
    "    callopt= '{\"function\":\"DeleteAsset\",\"Args\":[' + '\\\"' + asset + '\\\"' + ']}'\n",
    "    return invoke(peer,callopt)\n",
    "    \n",
    "\n",
    "\n",
    "def readAssetTest(peer, asset='asset1'):\n",
    "    callopt= '{\"function\":\"ReadAssetTest\",\"Args\":[' + '\\\"' + asset + '\\\"' + ']}'\n",
    "    return query(peer,callopt)\n",
    "    \n",
    "def updateAsset(peer,arglist=None):\n",
    "    callopt= '{\"function\":\"UpdateAsset\",\"Args\":' + getArgList(asset) + '}'\n",
    "    return invoke(peer,callopt)\n",
    "\n",
    "\n",
    "def getSubmittingClientIdentity(peer, user='User1'):\n",
    "    callopt= '{\"function\":\"GetSubmittingClientIdentity\",\"Args\":[' + ']}'\n",
    "    return query(peer,callopt,user=user)\n",
    "\n",
    "def getMSPID(peer):\n",
    "    callopt= '{\"function\":\"GetMSPID\",\"Args\":[' + ']}'\n",
    "    return query(peer,callopt)   \n",
    "\n",
    "  \n",
    "def getRoleTransactions(peer):\n",
    "    callopt= '{\"function\":\"GetRoleTransactions\",\"Args\":[' + ']}'\n",
    "    return query(peer,callopt)   \n",
    "\n",
    "\n",
    "def appendRole(peer,user='',role='Buyer', taxInspector=''):\n",
    "    name = getSubmittingClientIdentity(peer, user=user)[0]\n",
    "    print(name)\n",
    "    callopt= '{\"function\":\"AppendRole\",\"Args\":' + getArgList([name,role,taxInspector]) + '}'\n",
    "    return invoke(peer,callopt)\n",
    "\n",
    "def getRoles(peer, user='User1'):\n",
    "    #callopt= '{\"function\":\"GetRoles\",\"Args\":[' + ']}'\n",
    "    callopt= '{\"function\":\"GetRoles\",\"Args\":[' + ']}'\n",
    "    return query(peer,callopt,user=user)\n",
    "\n",
    "def getAllRoles(peer):\n",
    "    callopt= '{\"function\":\"GetAllRoles\",\"Args\":[' + ']}'\n",
    "    return query(peer,callopt)"
   ]
  },
  {
   "cell_type": "markdown",
   "metadata": {},
   "source": [
    "### Enroll users"
   ]
  },
  {
   "cell_type": "code",
   "execution_count": null,
   "metadata": {},
   "outputs": [],
   "source": [
    "import subprocess\n",
    "def downloadToLocal(host='10.15.136.41:30080',user='scray', pwd='scray',\n",
    "                    local_path='./', local_name='' ,remote_path='upload'):  \n",
    "    try:    \n",
    "        output = subprocess.check_output(['curl', '--user',user + ':' + pwd, \n",
    "                                               'http://' + host + '/' + remote_path + '/' + local_name, '-o', local_path + '/' + local_name])\n",
    "        #return str(callProcess)[3:-3]\n",
    "        return output.decode('ascii')\n",
    "    except Exception as e:\n",
    "        return str(e)     \n",
    "   \n",
    "\n",
    "def uploadFromLocal(host='10.15.136.41:30080',user='scray', pwd='scray',\n",
    "                    local_path='./', local_name='' ,remote_path='upload'):\n",
    "    try:    \n",
    "        output = subprocess.check_output(['curl', '--user',user + ':' + pwd, \n",
    "                                          '-T', local_path + '/' + local_name, \n",
    "                                          'http://' + host + '/' + remote_path + '/' + local_name])\n",
    "        return output.decode('ascii')\n",
    "    except Exception as e:\n",
    "        return str(e)   \n",
    "                    \n",
    "#downloadToLocal(local_path='./', local_name='org3_update_in_envelope.pb' ,remote_path='upload')\n",
    "\n",
    "def downloadToLocalCmdList(host='10.15.136.41:30080',user='scray', pwd='scray',\n",
    "                    local_path='./', remote_name='' ,remote_path='/'):  \n",
    "    return ['curl', '--user',user + ':' + pwd, 'http://' + host + '/' + remote_path + '/' + remote_name, '-o', local_path + '/' + remote_name]\n"
   ]
  },
  {
   "cell_type": "code",
   "execution_count": null,
   "metadata": {},
   "outputs": [],
   "source": [
    "# download walletcreator to peers\n",
    "def uploadWalletToolToSharepoint():\n",
    "    uploadFromLocal(local_path='/home/jovyan/scray-ledger/tools/wallet-creator/target', local_name='wallet-creator-0.0.1-SNAPSHOT-jar-with-dependencies.jar' ,remote_path='/')\n",
    "    uploadFromLocal(local_path='/home/jovyan/scray-ledger/tools/wallet-creator', local_name='cert-creator.sh' ,remote_path='upload')\n",
    "\n",
    "def installPeerWalletTool(peer):\n",
    "    executePeerCmd(peer.pod_name,toCmd(downloadToLocalCmdList(local_path='/tmp', remote_name='wallet-creator-0.0.1-SNAPSHOT-jar-with-dependencies.jar'))) \n",
    "    #executePeerCmd(peer.pod_name,toCmd(downloadToLocalCmdList(local_path='/tmp', remote_name='cert-creator.sh'))) \n",
    "    executePeerCmd(peer.pod_name,'apk add openssl')\n",
    "    executePeerCmd(peer.pod_name,'apk add openjdk8-jre')\n",
    "    # chmod 755\n",
    "    \n",
    "def createPeerUser(peer,user, admin='admin',\n",
    "    cert='/mnt/conf/organizations/peerOrganizations/kubernetes.research.dev.seeburger.de/ca/ca.kubernetes.research.dev.seeburger.de-cert.pem',\n",
    "    key='/mnt/conf/organizations/peerOrganizations/kubernetes.research.dev.seeburger.de/ca/priv_sk'):\n",
    "        cmd = ['/tmp/cert-creator.sh','--cacert',cert,'--cakey',key,'--new-user-crt',user,'--organizational-unit',admin,\n",
    "               '--create-wallet','true','--wallet-creator-lib-path', '/tmp']\n",
    "        return executePeerCmd(peer.pod_name,toCmd(cmd))\n",
    "    \n",
    "def installWalletTool():\n",
    "    _out = widgets.Output()\n",
    "    with _out:\n",
    "        for key, peer in peers.items():\n",
    "            installPeerWalletTool(peer)\n",
    "            strlist = ['curl', 'https://raw.githubusercontent.com/scray/scray-ledger/develop/tools/wallet-creator/cert-creator.sh', '-o', '/tmp/cert-creator.sh']\n",
    "            cmd = toCmd(strlist)\n",
    "            print(cmd)\n",
    "            output = executePeerCmd(peer.pod_name,  cmd)\n",
    "            executePeerCmd(peer.pod_name,'chmod 755 /tmp/cert-creator.sh')\n",
    "            strlist = ['curl', 'https://raw.githubusercontent.com/scray/scray-ledger/develop/tools/wallet-creator/create-user.sh', '-o', '/tmp/create-user.sh']\n",
    "            cmd = toCmd(strlist)\n",
    "            print(cmd)\n",
    "            output = executePeerCmd(peer.pod_name,  cmd)\n",
    "            executePeerCmd(peer.pod_name,'chmod 755 /tmp/create-user.sh')\n",
    "    \n",
    "def addUser(peer,user,org,org2):\n",
    "    _out = widgets.Output()\n",
    "    with _out:\n",
    "        #strlist = ['/tmp/create-user.sh', user, peer.name + '.kubernetes.research.dev.seeburger.de']\n",
    "        strlist = ['/tmp/create-user.sh', user,org,org2 ]\n",
    "        cmd = toCmd(strlist)\n",
    "        print(cmd)\n",
    "        output = executePeerCmd(peer.pod_name, 'cd /tmp && ' + cmd)    \n",
    "    return output,_out    "
   ]
  },
  {
   "cell_type": "code",
   "execution_count": 20,
   "metadata": {},
   "outputs": [],
   "source": [
    "def getPeerUsers(peer,org):\n",
    "    #strlist = ['/bin/ls',  '/mnt/conf/organizations/peerOrganizations/' + peer.name + '.kubernetes.research.dev.seeburger.de/users/']\n",
    "    strlist = ['/bin/ls',  '/mnt/conf/organizations/peerOrganizations/' + org + '/users/']\n",
    "    #addUser(peers['aubonmoulin'],'Tony.Dubois','aubonmoulin.fr','aubonmoulin.kubernetes.research.dev.seeburger.de')[1] \n",
    "    \n",
    "    print(toCmd(strlist))\n",
    "    users=[]\n",
    "    lines=executePeerCmd(peer.pod_name,toCmd(strlist)).splitlines() \n",
    "    for line in lines:\n",
    "        #users.append(line.split('@')[0])\n",
    "        users.append(line)\n",
    "    return users\n",
    "\n",
    "def getPeerOrganizations(peer):\n",
    "    strlist = ['/bin/ls',  '/mnt/conf/organizations/peerOrganizations/']\n",
    "    return executePeerCmd(peer.pod_name,toCmd(strlist)).splitlines() \n",
    "\n",
    "def get_peer_of_user(user):\n",
    "    for key,peer in peers.items():\n",
    "        orgs=getPeerOrganizations(peer)\n",
    "        for org in orgs:\n",
    "            print(peer.pod_name, org)\n",
    "            users = getPeerUsers(peer,org)\n",
    "            for ouser in users:\n",
    "                if user == ouser:\n",
    "                    return peer"
   ]
  },
  {
   "cell_type": "code",
   "execution_count": null,
   "metadata": {},
   "outputs": [],
   "source": [
    "#deleteRemote(local_name='Alexandre.Payet@aubonmoulin.kubernetes.research.dev.seeburger.de/' ,remote_path='csrs_to_sign/')\n",
    "\n",
    "\n",
    "_directories = ['Alexandre.Payet@aubonmoulin.kubernetes.research.dev.seeburger.de/','Alexandre.Payet@majolieboutique.net/','Auguste.Boucher@lyon-impots.gouv.fr/','Auguste.Boucher@lyon-impots.kubernetes.research.dev.seeburger.de/','Emma.Steiner@austriafactor.at/','Emma.Steiner@austriafactor.kubernetes.research.dev.seeburger.de/','Pedro.Sanchez@megustaolive.es/',\n",
    "'Pedro.Sanchez@megustaolive.kubernetes.research.dev.seeburger.de/',\n",
    "'Stephanie.Hoarau@aubonmoulin.kubernetes.research.dev.seeburger.de/',\n",
    "'Stephanie.Hoarau@hotelsaintdenis.re/',\n",
    "'Tony.Dubois@aubonmoulin.fr/',\n",
    "'Tony.Dubois@aubonmoulin.kubernetes.research.dev.seeburger.de/']\n",
    "\n",
    "for name in _directories:\n",
    "    deleteRemote(local_name=name ,remote_path='csrs_to_sign/')\n"
   ]
  },
  {
   "cell_type": "code",
   "execution_count": null,
   "metadata": {},
   "outputs": [],
   "source": [
    "for name in _directories:\n",
    "    deleteRemote(local_name=name ,remote_path='signed_certs/')"
   ]
  },
  {
   "cell_type": "code",
   "execution_count": null,
   "metadata": {},
   "outputs": [],
   "source": [
    "orgs=getPeerOrganizations(peers[peernames[0]])\n",
    "\n",
    "for org in orgs:\n",
    "    users = getPeerUsers(peers[peernames[0]],org)\n",
    "    print(org,users)\n"
   ]
  },
  {
   "cell_type": "code",
   "execution_count": null,
   "metadata": {},
   "outputs": [],
   "source": [
    "installWalletTool()"
   ]
  },
  {
   "cell_type": "code",
   "execution_count": null,
   "metadata": {},
   "outputs": [],
   "source": [
    "addUser(peers['aubonmoulin'],'Tony.Dubois','aubonmoulin.fr','aubonmoulin.kubernetes.research.dev.seeburger.de')\n",
    "addUser(peers['aubonmoulin'],'Stephanie.Hoarau','hotelsaintdenis.re','aubonmoulin.kubernetes.research.dev.seeburger.de')\n",
    "addUser(peers['aubonmoulin'],'Alexandre.Payet','majolieboutique.net','aubonmoulin.kubernetes.research.dev.seeburger.de')\n",
    "addUser(peers['austriafactor'],'Emma.Steiner','austriafactor.at','austriafactor.kubernetes.research.dev.seeburger.de')    \n",
    "addUser(peers['megustaolive'],'Pedro.Sanchez','megustaolive.es','megustaolive.kubernetes.research.dev.seeburger.de')  \n",
    "addUser(peers['lyon-impots'],'Auguste.Boucher','lyon-impots.gouv.fr','lyon-impots.kubernetes.research.dev.seeburger.de')  "
   ]
  },
  {
   "cell_type": "code",
   "execution_count": null,
   "metadata": {},
   "outputs": [],
   "source": [
    "addUser(peers['aubonmoulin'],'Tony.Dubois','aubonmoulin.fr','aubonmoulin.kubernetes.research.dev.seeburger.de')\n",
    "addUser(peers['aubonmoulin'],'Stephanie.Hoarau','hotelsaintdenis.re','aubonmoulin.kubernetes.research.dev.seeburger.de')\n",
    "addUser(peers['aubonmoulin'],'Alexandre.Payet','majolieboutique.net','aubonmoulin.kubernetes.research.dev.seeburger.de')"
   ]
  },
  {
   "cell_type": "markdown",
   "metadata": {},
   "source": [
    "#### Rollen"
   ]
  },
  {
   "cell_type": "code",
   "execution_count": null,
   "metadata": {},
   "outputs": [],
   "source": [
    "def deleteAllRoles(peer):\n",
    "    keys = getAllKeys(peer)[0]\n",
    "    for key in keys:\n",
    "        if key.startswith('roles'):\n",
    "            deleteAsset(peer,asset=key)[1]   \n",
    " \n",
    "#deleteAllRoles(peer)\n",
    "#keys = getAllKeys(peer)[0]\n",
    "#keys"
   ]
  },
  {
   "cell_type": "code",
   "execution_count": null,
   "metadata": {},
   "outputs": [],
   "source": [
    "def getUsedRoles(roles):\n",
    "    _all=[]\n",
    "    for element in roles:\n",
    "        for role in element['roles']:\n",
    "            if role not in _all:\n",
    "                _all.append(role)\n",
    "    return _all\n",
    "\n",
    "#getUsedRoles(roles)"
   ]
  },
  {
   "cell_type": "code",
   "execution_count": null,
   "metadata": {},
   "outputs": [],
   "source": [
    "deleteAllRoles(peer)\n",
    "\n",
    "peer=peers['lyon-impots']\n",
    "appendRole(peer,user='Auguste.Boucher@lyon-impots.gouv.fr',role='TaxInspector')\n",
    "peer_taxinspector=peer\n",
    "#taxinspector=get_person_names_with_role('TaxInspector',roles)[0].split(',')[0].split('=')[1]  \n",
    "taxinspector='Auguste.Boucher@lyon-impots.gouv.fr'\n",
    "\n",
    "identity_taxinspector = getSubmittingClientIdentity(peer_taxinspector, user=taxinspector)[0]\n",
    "\n",
    "peer=peers['aubonmoulin']\n",
    "appendRole(peer,user='Tony.Dubois@aubonmoulin.fr',role='Seller',taxInspector=identity_taxinspector)\n",
    "#appendRole(peer,user='Stephanie.Hoarau',role='Buyer')\n",
    "#appendRole(peer,user='Alexandre.Payet',role='Buyer')\n",
    "\n",
    "peer=peers['austriafactor']\n",
    "appendRole(peer,user='Emma.Steiner@austriafactor.at',role='Factor',taxInspector=identity_taxinspector)\n",
    "\n",
    "peer=peers['megustaolive']\n",
    "appendRole(peer,user='Pedro.Sanchez@megustaolive.es',role='Buyer',taxInspector=identity_taxinspector)\n",
    "appendRole(peer,user='Pedro.Sanchez@megustaolive.es',role='Seller',taxInspector=identity_taxinspector)"
   ]
  },
  {
   "cell_type": "code",
   "execution_count": null,
   "metadata": {},
   "outputs": [],
   "source": [
    "#getSubmittingClientIdentity(peer,user='Tony.Dubois')[1]\n",
    "getHostname(peer,user='Tony.Dubois@aubonmoulin.fr')\n",
    "#peer.__dict__"
   ]
  },
  {
   "cell_type": "code",
   "execution_count": null,
   "metadata": {},
   "outputs": [],
   "source": [
    "peer=peers['aubonmoulin']\n",
    "appendRole(peer,user='Tony.Dubois@aubonmoulin.fr',role='Seller',taxInspector=identity_taxinspector)[1]"
   ]
  },
  {
   "cell_type": "code",
   "execution_count": null,
   "metadata": {},
   "outputs": [],
   "source": [
    "roles=getAllRoles(peer)[0]\n",
    "roleTransactions=getRoleTransactions(peer)[0]"
   ]
  },
  {
   "cell_type": "code",
   "execution_count": null,
   "metadata": {},
   "outputs": [],
   "source": [
    "for key,peer in peers.items():\n",
    "    print (peer.pod_name)"
   ]
  },
  {
   "cell_type": "code",
   "execution_count": null,
   "metadata": {},
   "outputs": [],
   "source": [
    "roles"
   ]
  },
  {
   "cell_type": "code",
   "execution_count": null,
   "metadata": {},
   "outputs": [],
   "source": [
    "identity_taxinspector = getSubmittingClientIdentity(peer_taxinspector, user=taxinspector)[0]"
   ]
  },
  {
   "cell_type": "code",
   "execution_count": null,
   "metadata": {},
   "outputs": [],
   "source": [
    "#identity_taxinspector\n",
    "getRoles(peer_taxinspector, user=taxinspector)[0]"
   ]
  },
  {
   "cell_type": "code",
   "execution_count": null,
   "metadata": {},
   "outputs": [],
   "source": [
    "roleTransactions"
   ]
  },
  {
   "cell_type": "code",
   "execution_count": null,
   "metadata": {},
   "outputs": [],
   "source": [
    "peer_factor\n",
    "getRoles(peer_factor, user=factor)[0]"
   ]
  },
  {
   "cell_type": "code",
   "execution_count": null,
   "metadata": {},
   "outputs": [],
   "source": [
    "getAllKeys(peer_buyer)[0]"
   ]
  },
  {
   "cell_type": "markdown",
   "metadata": {},
   "source": [
    "### Monitoring"
   ]
  },
  {
   "cell_type": "code",
   "execution_count": null,
   "metadata": {},
   "outputs": [],
   "source": [
    "peers['lyon-impots'].__dict__\n"
   ]
  },
  {
   "cell_type": "code",
   "execution_count": null,
   "metadata": {},
   "outputs": [],
   "source": [
    "getRoleTransactions(peer)[0]"
   ]
  },
  {
   "cell_type": "code",
   "execution_count": null,
   "metadata": {},
   "outputs": [],
   "source": [
    "keys = getAllKeys(peer)[0]\n",
    "keys"
   ]
  },
  {
   "cell_type": "code",
   "execution_count": null,
   "metadata": {},
   "outputs": [],
   "source": [
    "getAllRoles(peer)[0][:-1]\n",
    "#getRoles(peer,name=name)"
   ]
  },
  {
   "cell_type": "code",
   "execution_count": null,
   "metadata": {},
   "outputs": [],
   "source": [
    "strlist = ['/bin/ls',  '/mnt/conf/organizations/peerOrganizations/']\n",
    "executePeerCmd(peers[peernames[0]].pod_name,toCmd(strlist)).splitlines() "
   ]
  },
  {
   "cell_type": "code",
   "execution_count": null,
   "metadata": {},
   "outputs": [],
   "source": [
    "getHostname(peers[peernames[0]],'Tony.Dubois@aubonmoulin.fr')"
   ]
  },
  {
   "cell_type": "code",
   "execution_count": null,
   "metadata": {},
   "outputs": [],
   "source": [
    "strlist = ['/bin/ls',  '/mnt/conf/organizations/peerOrganizations/' + peer.name + '.kubernetes.research.dev.seeburger.de/users/']\n",
    "print(toCmd(strlist))\n",
    "users=[]\n",
    "lines=executePeerCmd(peers[peernames[0]].pod_name,toCmd(strlist)).splitlines() "
   ]
  },
  {
   "cell_type": "code",
   "execution_count": null,
   "metadata": {},
   "outputs": [],
   "source": [
    "peers[peernames[0]].pod_name"
   ]
  },
  {
   "cell_type": "code",
   "execution_count": null,
   "metadata": {},
   "outputs": [],
   "source": [
    "#getSubmittingClientIdentity(peers[peernames[1]],user='ben')[0]\n",
    "\n",
    "get_certificate_string(peernames[1],user='ben')"
   ]
  },
  {
   "cell_type": "code",
   "execution_count": null,
   "metadata": {},
   "outputs": [],
   "source": [
    "name = getSubmittingClientIdentity(peer)[0][:-1].split(',')[0]\n",
    "group=getSubmittingClientIdentity(peer)[0][:-1].split(',')[1]\n",
    "msp=getMSPID(peers[peernames[1]])[0][:-1]\n",
    "\n",
    "name,group,msp"
   ]
  },
  {
   "cell_type": "markdown",
   "metadata": {},
   "source": [
    "### Block"
   ]
  },
  {
   "cell_type": "code",
   "execution_count": null,
   "metadata": {},
   "outputs": [],
   "source": [
    "import subprocess\n",
    "def downloadToLocal(host='10.15.136.41:30080',user='scray', pwd='scray',\n",
    "                    local_path='./', local_name='' ,remote_path='upload'):  \n",
    "    try:    \n",
    "        output = subprocess.check_output(['curl', '--user',user + ':' + pwd, \n",
    "                                               'http://' + host + '/' + remote_path + '/' + local_name, '-o', local_path + '/' + local_name])\n",
    "        #return str(callProcess)[3:-3]\n",
    "        return output.decode('ascii')\n",
    "    except Exception as e:\n",
    "        return str(e)     \n",
    "  \n",
    "#deleteRemote(host='10.15.136.41:30080',user='scray', pwd='scray', local_name='invoicing-block-19.block.json', remote_path='blocks/invoicing')\n",
    "def deleteRemote(host='10.15.136.41:30080',user='scray', pwd='scray',\n",
    "                    local_name='' ,remote_path='upload'):  \n",
    "    try:    \n",
    "        output = subprocess.check_output(['curl', '--user',user + ':' + pwd, '-X', 'DELETE',\n",
    "                                               'http://' + host + '/' + remote_path + '/' + local_name])\n",
    "        #return str(callProcess)[3:-3]\n",
    "        return output.decode('ascii')\n",
    "    except Exception as e:\n",
    "        return str(e)    \n"
   ]
  },
  {
   "cell_type": "code",
   "execution_count": null,
   "metadata": {},
   "outputs": [],
   "source": [
    "import base64\n",
    "\n",
    "def get_height():\n",
    "    global _out\n",
    "    _out = widgets.Output()\n",
    "    with _out:\n",
    "        strlist = ['/mnt/conf/peer/block-operator.sh', 'info', '--channel', channel_name]\n",
    "        cmd = toCmd(strlist)\n",
    "        print(cmd)\n",
    "        output = executePeerCmd(peers[peernames[0]].pod_name,  cmd)\n",
    "        return json.loads(output)['height']\n",
    "\n",
    "def uploadBlockToShare(id):\n",
    "    strlist = ['/mnt/conf/peer/block-operator.sh fetch', '--channel', channel_name, '--block', str(id),'--publish', shared_fs_host]\n",
    "    cmd = toCmd(strlist)\n",
    "    output = executePeerCmd(peers[peernames[0]].pod_name,  cmd)\n",
    "    \n",
    "def getBlockFromShare(id):\n",
    "    filename = 'invoicing-block-' + str(id) + '.block.json'\n",
    "    downloadToLocal(host='10.15.136.41:30080',user='scray', pwd='scray', local_path='/tmp/',local_name=filename, remote_path='blocks/invoicing')\n",
    "    output = subprocess.check_output(['cat', '/tmp/' + filename])\n",
    "    return json.loads(output.decode('ascii'))           \n",
    "    \n",
    "def decode_block_invoice(block):\n",
    "    _transaction = block['data']['data'][0]['payload']['data']['actions'][0]['payload']['action']['proposal_response_payload']['extension']['results']['ns_rwset'][1]['rwset']['writes'][0]\n",
    "    if _transaction['value'] != None:\n",
    "        return json.loads(base64.b64decode(_transaction['value']).decode(\"utf-8\"))\n",
    "    \n",
    "def decode_block_transaction(block):\n",
    "    _transaction = _block['data']['data'][0]['payload']['data']['actions'][0]['payload']['chaincode_proposal_payload']['input']['chaincode_spec']['input']['args']\n",
    "    result = []\n",
    "    for arg in _transaction:\n",
    "        result.append(base64.b64decode(arg).decode(\"utf-8\"))\n",
    "    return result        "
   ]
  },
  {
   "cell_type": "code",
   "execution_count": null,
   "metadata": {},
   "outputs": [],
   "source": [
    "height=get_height()\n",
    "height"
   ]
  },
  {
   "cell_type": "code",
   "execution_count": null,
   "metadata": {},
   "outputs": [],
   "source": [
    "uploadBlockToShare(height-1)    \n",
    "_block = getBlockFromShare(height-1)\n",
    "#_block"
   ]
  },
  {
   "cell_type": "code",
   "execution_count": null,
   "metadata": {},
   "outputs": [],
   "source": [
    "_invoice = decode_block_invoice(_block)\n",
    "_transaction = decode_block_transaction(_block)"
   ]
  },
  {
   "cell_type": "code",
   "execution_count": null,
   "metadata": {},
   "outputs": [],
   "source": [
    "_transaction, _invoice"
   ]
  },
  {
   "cell_type": "code",
   "execution_count": null,
   "metadata": {},
   "outputs": [],
   "source": [
    "_block\n",
    "#_block['data']['data'][0]['payload']['data']['actions']"
   ]
  },
  {
   "cell_type": "code",
   "execution_count": null,
   "metadata": {},
   "outputs": [],
   "source": [
    "_block['data']['data'][0]['payload']['data']['actions'][0]['payload']['action']['proposal_response_payload']['extension']['results']['ns_rwset'][1]['rwset']\n",
    "_block['data']['data'][0]['payload']['data']['actions'][0]['payload']['chaincode_proposal_payload']['input']['chaincode_spec']['input']['args']"
   ]
  },
  {
   "cell_type": "code",
   "execution_count": null,
   "metadata": {},
   "outputs": [],
   "source": []
  },
  {
   "cell_type": "markdown",
   "metadata": {},
   "source": [
    "### create invoice"
   ]
  },
  {
   "cell_type": "code",
   "execution_count": 15,
   "metadata": {},
   "outputs": [],
   "source": [
    "## required functions // different notebook ??????\n",
    "\n",
    "import pandas as pd\n",
    "\n",
    "def get_invoices():\n",
    "    pd.set_option('display.max_rows', 500)\n",
    "    return pd.read_parquet('./invoices_facturx.parquet')\n",
    "\n",
    "invoices = get_invoices()\n",
    "\n",
    "def getPathValue(m,path=''):\n",
    "    if(len(path)<2):\n",
    "        return m\n",
    "    splits = path[1:].split(\"/\", 1)\n",
    "    value=m.get(splits[0])\n",
    "    #print(splits,value)\n",
    "    if not isinstance(value, type(None)):\n",
    "        if len(splits) > 1:\n",
    "            return getPathValue(value,path='/' + splits[1])\n",
    "    return value    \n",
    "\n",
    "def assign_invoice_to_asset(_invoice,asset):\n",
    "    #print(asset)\n",
    "\n",
    "    asset['hash'] = hash(repr(sorted(_invoice.items()))) \n",
    "    monetary = getPathValue(_invoice,'/supplyChainTradeTransaction/applicableHeaderTradeSettlement/specifiedTradeSettlementHeaderMonetarySummation/')\n",
    "    asset['invoiceNumber'] = getPathValue(_invoice,'/exchangedDocument/id')['value']\n",
    "    asset['netto'] = monetary['taxBasisTotalAmount'][0]['value']\n",
    "    asset['tax'] = monetary['taxTotalAmount'][0]['value']\n",
    "    \n",
    "    try:\n",
    "        asset['taxExemptionReason']  = getPathValue(_invoice,'/supplyChainTradeTransaction/applicableHeaderTradeSettlement/applicableTradeTax')[0]['exemptionReason']['value']\n",
    "    except Exception as e:\n",
    "        asset['taxExemptionReason']  = ''\n",
    " \n",
    "    asset['countryBuyer'] = getPathValue(_invoice,'/supplyChainTradeTransaction/applicableHeaderTradeAgreement/buyerTradeParty/postalTradeAddress/countryID')['value']\n",
    "    asset['countryOrigin']   = getPathValue(_invoice,'/supplyChainTradeTransaction/applicableHeaderTradeAgreement/sellerTradeParty/postalTradeAddress/countryID')['value']\n",
    "    "
   ]
  },
  {
   "cell_type": "code",
   "execution_count": 16,
   "metadata": {},
   "outputs": [],
   "source": [
    "import unicodedata\n",
    "def strip_accents(s):\n",
    "    return ''.join(c for c in unicodedata.normalize('NFD', s)\n",
    "                  if unicodedata.category(c) != 'Mn')"
   ]
  },
  {
   "cell_type": "code",
   "execution_count": 17,
   "metadata": {},
   "outputs": [],
   "source": [
    "def get_cert_cn(cert):\n",
    "    return cert.split('=')[1].split(',')[0]\n",
    "\n",
    "def get_CN_of_invoice(invoice,party):\n",
    "    _name=strip_accents(getPathValue(invoice,'/supplyChainTradeTransaction/applicableHeaderTradeAgreement/' + party + '/definedTradeContact/')[0]['personName']['value'].replace(' ','.'))\n",
    "    _email=getPathValue(invoice,'/supplyChainTradeTransaction/applicableHeaderTradeAgreement/' + party + '/definedTradeContact/')[0]['emailURIUniversalCommunication']['uriid']['value']\n",
    "    return _name + '@' + _email.split('@')[1]\n",
    "\n",
    "def update_invoice(asset=None,invoice=None,id=None,seller='Tony.Dubois',buyer='Stephanie.Hoarau'):\n",
    "    assign_invoice_to_asset(invoice,asset)\n",
    "    asset['ID']='asset' + str(id)\n",
    "    asset['owner'] = getSubmittingClientIdentity(get_peer_of_user(seller), user=seller)[0]\n",
    "    asset['buyer'] = getSubmittingClientIdentity(get_peer_of_user(buyer), user=buyer)[0]\n",
    "    asset['taxExemptionReason'] = strip_accents(asset['taxExemptionReason'])\n",
    "\n",
    "def createInvoices(invoices):\n",
    "    for i in range(0,20):\n",
    "        try:\n",
    "            invoice = invoices.iloc[i]\n",
    "            seller = get_CN_of_invoice(invoice,'sellerTradeParty')\n",
    "            buyer  = get_CN_of_invoice(invoice,'buyerTradeParty')\n",
    "            print(i,seller,buyer,'asset'+str(i))\n",
    "            asset = getEmptyInvoice(peer)[0]\n",
    "            update_invoice(asset=asset,invoice=invoice,id=i,seller=seller,buyer=buyer)\n",
    "            print(i,asset)\n",
    "            createInvoice(get_peer_of_user(seller),getArgList(asset),user=seller)[0]\n",
    "        except Exception as e:\n",
    "            pass\n",
    "        \n",
    "def deleteAllInvoices(peer):\n",
    "    keys = getAllKeys(peer)[0]\n",
    "    for key in keys:\n",
    "        if key.startswith('asset'):\n",
    "            deleteAsset(peer,asset=key)[1]        "
   ]
  },
  {
   "cell_type": "code",
   "execution_count": 23,
   "metadata": {},
   "outputs": [
    {
     "name": "stdout",
     "output_type": "stream",
     "text": [
      "/home/jovyan/work/usr/bin/kubectl exec -t aubonmoulin-67b4649968-jlskd -c scray-peer-cli -- /bin/sh -c /bin/ls /mnt/conf/organizations/peerOrganizations/\n",
      "aubonmoulin-67b4649968-jlskd aubonmoulin.fr\n",
      "/bin/ls /mnt/conf/organizations/peerOrganizations/aubonmoulin.fr/users/\n",
      "/home/jovyan/work/usr/bin/kubectl exec -t aubonmoulin-67b4649968-jlskd -c scray-peer-cli -- /bin/sh -c /bin/ls /mnt/conf/organizations/peerOrganizations/aubonmoulin.fr/users/\n"
     ]
    }
   ],
   "source": [
    "owner = 'Tony.Dubois@aubonmoulin.fr'\n",
    "peer=get_peer_of_user(owner)"
   ]
  },
  {
   "cell_type": "code",
   "execution_count": 34,
   "metadata": {},
   "outputs": [],
   "source": [
    "deleteAllInvoices(peer)     "
   ]
  },
  {
   "cell_type": "code",
   "execution_count": 35,
   "metadata": {},
   "outputs": [
    {
     "name": "stdout",
     "output_type": "stream",
     "text": [
      "3 Tony.Dubois@aubonmoulin.fr Alexandre.Payet@majolieboutique.net asset3\n",
      "/home/jovyan/work/usr/bin/kubectl exec -t aubonmoulin-67b4649968-jlskd -c scray-peer-cli -- /bin/sh -c /bin/ls /mnt/conf/organizations/peerOrganizations/\n",
      "aubonmoulin-67b4649968-jlskd aubonmoulin.fr\n",
      "/bin/ls /mnt/conf/organizations/peerOrganizations/aubonmoulin.fr/users/\n",
      "/home/jovyan/work/usr/bin/kubectl exec -t aubonmoulin-67b4649968-jlskd -c scray-peer-cli -- /bin/sh -c /bin/ls /mnt/conf/organizations/peerOrganizations/aubonmoulin.fr/users/\n",
      "/home/jovyan/work/usr/bin/kubectl exec -t aubonmoulin-67b4649968-jlskd -c scray-peer-cli -- /bin/sh -c /bin/ls /mnt/conf/organizations/peerOrganizations/\n",
      "aubonmoulin-67b4649968-jlskd aubonmoulin.fr\n",
      "/bin/ls /mnt/conf/organizations/peerOrganizations/aubonmoulin.fr/users/\n",
      "/home/jovyan/work/usr/bin/kubectl exec -t aubonmoulin-67b4649968-jlskd -c scray-peer-cli -- /bin/sh -c /bin/ls /mnt/conf/organizations/peerOrganizations/aubonmoulin.fr/users/\n",
      "aubonmoulin-67b4649968-jlskd aubonmoulin.kubernetes.research.dev.seeburger.de\n",
      "/bin/ls /mnt/conf/organizations/peerOrganizations/aubonmoulin.kubernetes.research.dev.seeburger.de/users/\n",
      "/home/jovyan/work/usr/bin/kubectl exec -t aubonmoulin-67b4649968-jlskd -c scray-peer-cli -- /bin/sh -c /bin/ls /mnt/conf/organizations/peerOrganizations/aubonmoulin.kubernetes.research.dev.seeburger.de/users/\n",
      "aubonmoulin-67b4649968-jlskd hotelsaintdenis.re\n",
      "/bin/ls /mnt/conf/organizations/peerOrganizations/hotelsaintdenis.re/users/\n",
      "/home/jovyan/work/usr/bin/kubectl exec -t aubonmoulin-67b4649968-jlskd -c scray-peer-cli -- /bin/sh -c /bin/ls /mnt/conf/organizations/peerOrganizations/hotelsaintdenis.re/users/\n",
      "aubonmoulin-67b4649968-jlskd majolieboutique.net\n",
      "/bin/ls /mnt/conf/organizations/peerOrganizations/majolieboutique.net/users/\n",
      "/home/jovyan/work/usr/bin/kubectl exec -t aubonmoulin-67b4649968-jlskd -c scray-peer-cli -- /bin/sh -c /bin/ls /mnt/conf/organizations/peerOrganizations/majolieboutique.net/users/\n",
      "3 {'ID': 'asset3', 'owner': 'x509::CN=Tony.Dubois@aubonmoulin.fr,OU=admin,O=kubernetes.research.dev.seeburger.de::CN=ca.aubonmoulin.kubernetes.research.dev.seeburger.de,O=aubonmoulin.kubernetes.research.dev.seeburger.de,L=Bretten,ST=Baden,C=DE', 'buyer': 'x509::CN=Alexandre.Payet@majolieboutique.net,OU=admin,O=kubernetes.research.dev.seeburger.de::CN=ca.aubonmoulin.kubernetes.research.dev.seeburger.de,O=aubonmoulin.kubernetes.research.dev.seeburger.de,L=Bretten,ST=Baden,C=DE', 'hash': 6290579086845693669, 'invoiceNumber': 'AV-2017-0005', 'tax': '14.99', 'netto': '218.48', 'countryOrigin': 'FR', 'countryBuyer': 'FR', 'status': '', 'received': False, 'receivedOrder': False, 'sold': False, 'claimPaid': False, 'claimPaidBy': '', 'taxExemptionReason': '', 'taxReceived': False}\n",
      "/home/jovyan/work/usr/bin/kubectl exec -t aubonmoulin-67b4649968-jlskd -c scray-peer-cli -- /bin/sh -c /bin/ls /mnt/conf/organizations/peerOrganizations/\n",
      "aubonmoulin-67b4649968-jlskd aubonmoulin.fr\n",
      "/bin/ls /mnt/conf/organizations/peerOrganizations/aubonmoulin.fr/users/\n",
      "/home/jovyan/work/usr/bin/kubectl exec -t aubonmoulin-67b4649968-jlskd -c scray-peer-cli -- /bin/sh -c /bin/ls /mnt/conf/organizations/peerOrganizations/aubonmoulin.fr/users/\n",
      "6 Tony.Dubois@aubonmoulin.fr Alexandre.Payet@majolieboutique.net asset6\n",
      "/home/jovyan/work/usr/bin/kubectl exec -t aubonmoulin-67b4649968-jlskd -c scray-peer-cli -- /bin/sh -c /bin/ls /mnt/conf/organizations/peerOrganizations/\n",
      "aubonmoulin-67b4649968-jlskd aubonmoulin.fr\n",
      "/bin/ls /mnt/conf/organizations/peerOrganizations/aubonmoulin.fr/users/\n",
      "/home/jovyan/work/usr/bin/kubectl exec -t aubonmoulin-67b4649968-jlskd -c scray-peer-cli -- /bin/sh -c /bin/ls /mnt/conf/organizations/peerOrganizations/aubonmoulin.fr/users/\n",
      "/home/jovyan/work/usr/bin/kubectl exec -t aubonmoulin-67b4649968-jlskd -c scray-peer-cli -- /bin/sh -c /bin/ls /mnt/conf/organizations/peerOrganizations/\n",
      "aubonmoulin-67b4649968-jlskd aubonmoulin.fr\n",
      "/bin/ls /mnt/conf/organizations/peerOrganizations/aubonmoulin.fr/users/\n",
      "/home/jovyan/work/usr/bin/kubectl exec -t aubonmoulin-67b4649968-jlskd -c scray-peer-cli -- /bin/sh -c /bin/ls /mnt/conf/organizations/peerOrganizations/aubonmoulin.fr/users/\n",
      "aubonmoulin-67b4649968-jlskd aubonmoulin.kubernetes.research.dev.seeburger.de\n",
      "/bin/ls /mnt/conf/organizations/peerOrganizations/aubonmoulin.kubernetes.research.dev.seeburger.de/users/\n",
      "/home/jovyan/work/usr/bin/kubectl exec -t aubonmoulin-67b4649968-jlskd -c scray-peer-cli -- /bin/sh -c /bin/ls /mnt/conf/organizations/peerOrganizations/aubonmoulin.kubernetes.research.dev.seeburger.de/users/\n",
      "aubonmoulin-67b4649968-jlskd hotelsaintdenis.re\n",
      "/bin/ls /mnt/conf/organizations/peerOrganizations/hotelsaintdenis.re/users/\n",
      "/home/jovyan/work/usr/bin/kubectl exec -t aubonmoulin-67b4649968-jlskd -c scray-peer-cli -- /bin/sh -c /bin/ls /mnt/conf/organizations/peerOrganizations/hotelsaintdenis.re/users/\n",
      "aubonmoulin-67b4649968-jlskd majolieboutique.net\n",
      "/bin/ls /mnt/conf/organizations/peerOrganizations/majolieboutique.net/users/\n",
      "/home/jovyan/work/usr/bin/kubectl exec -t aubonmoulin-67b4649968-jlskd -c scray-peer-cli -- /bin/sh -c /bin/ls /mnt/conf/organizations/peerOrganizations/majolieboutique.net/users/\n",
      "6 {'ID': 'asset6', 'owner': 'x509::CN=Tony.Dubois@aubonmoulin.fr,OU=admin,O=kubernetes.research.dev.seeburger.de::CN=ca.aubonmoulin.kubernetes.research.dev.seeburger.de,O=aubonmoulin.kubernetes.research.dev.seeburger.de,L=Bretten,ST=Baden,C=DE', 'buyer': 'x509::CN=Alexandre.Payet@majolieboutique.net,OU=admin,O=kubernetes.research.dev.seeburger.de::CN=ca.aubonmoulin.kubernetes.research.dev.seeburger.de,O=aubonmoulin.kubernetes.research.dev.seeburger.de,L=Bretten,ST=Baden,C=DE', 'hash': -5107795509517002089, 'invoiceNumber': 'FA-2017-0010', 'tax': '46.25', 'netto': '624.90', 'countryOrigin': 'FR', 'countryBuyer': 'FR', 'status': '', 'received': False, 'receivedOrder': False, 'sold': False, 'claimPaid': False, 'claimPaidBy': '', 'taxExemptionReason': '', 'taxReceived': False}\n",
      "/home/jovyan/work/usr/bin/kubectl exec -t aubonmoulin-67b4649968-jlskd -c scray-peer-cli -- /bin/sh -c /bin/ls /mnt/conf/organizations/peerOrganizations/\n",
      "aubonmoulin-67b4649968-jlskd aubonmoulin.fr\n",
      "/bin/ls /mnt/conf/organizations/peerOrganizations/aubonmoulin.fr/users/\n",
      "/home/jovyan/work/usr/bin/kubectl exec -t aubonmoulin-67b4649968-jlskd -c scray-peer-cli -- /bin/sh -c /bin/ls /mnt/conf/organizations/peerOrganizations/aubonmoulin.fr/users/\n",
      "14 Tony.Dubois@aubonmoulin.fr Stephanie.Hoarau@hotelsaintdenis.re asset14\n",
      "/home/jovyan/work/usr/bin/kubectl exec -t aubonmoulin-67b4649968-jlskd -c scray-peer-cli -- /bin/sh -c /bin/ls /mnt/conf/organizations/peerOrganizations/\n",
      "aubonmoulin-67b4649968-jlskd aubonmoulin.fr\n",
      "/bin/ls /mnt/conf/organizations/peerOrganizations/aubonmoulin.fr/users/\n",
      "/home/jovyan/work/usr/bin/kubectl exec -t aubonmoulin-67b4649968-jlskd -c scray-peer-cli -- /bin/sh -c /bin/ls /mnt/conf/organizations/peerOrganizations/aubonmoulin.fr/users/\n",
      "/home/jovyan/work/usr/bin/kubectl exec -t aubonmoulin-67b4649968-jlskd -c scray-peer-cli -- /bin/sh -c /bin/ls /mnt/conf/organizations/peerOrganizations/\n",
      "aubonmoulin-67b4649968-jlskd aubonmoulin.fr\n",
      "/bin/ls /mnt/conf/organizations/peerOrganizations/aubonmoulin.fr/users/\n",
      "/home/jovyan/work/usr/bin/kubectl exec -t aubonmoulin-67b4649968-jlskd -c scray-peer-cli -- /bin/sh -c /bin/ls /mnt/conf/organizations/peerOrganizations/aubonmoulin.fr/users/\n",
      "aubonmoulin-67b4649968-jlskd aubonmoulin.kubernetes.research.dev.seeburger.de\n",
      "/bin/ls /mnt/conf/organizations/peerOrganizations/aubonmoulin.kubernetes.research.dev.seeburger.de/users/\n",
      "/home/jovyan/work/usr/bin/kubectl exec -t aubonmoulin-67b4649968-jlskd -c scray-peer-cli -- /bin/sh -c /bin/ls /mnt/conf/organizations/peerOrganizations/aubonmoulin.kubernetes.research.dev.seeburger.de/users/\n",
      "aubonmoulin-67b4649968-jlskd hotelsaintdenis.re\n",
      "/bin/ls /mnt/conf/organizations/peerOrganizations/hotelsaintdenis.re/users/\n",
      "/home/jovyan/work/usr/bin/kubectl exec -t aubonmoulin-67b4649968-jlskd -c scray-peer-cli -- /bin/sh -c /bin/ls /mnt/conf/organizations/peerOrganizations/hotelsaintdenis.re/users/\n",
      "14 {'ID': 'asset14', 'owner': 'x509::CN=Tony.Dubois@aubonmoulin.fr,OU=admin,O=kubernetes.research.dev.seeburger.de::CN=ca.aubonmoulin.kubernetes.research.dev.seeburger.de,O=aubonmoulin.kubernetes.research.dev.seeburger.de,L=Bretten,ST=Baden,C=DE', 'buyer': 'x509::CN=Stephanie.Hoarau@hotelsaintdenis.re,OU=admin,O=kubernetes.research.dev.seeburger.de::CN=ca.aubonmoulin.kubernetes.research.dev.seeburger.de,O=aubonmoulin.kubernetes.research.dev.seeburger.de,L=Bretten,ST=Baden,C=DE', 'hash': 7957493893335619273, 'invoiceNumber': 'FA-2017-0009', 'tax': '0.00', 'netto': '530.75', 'countryOrigin': 'FR', 'countryBuyer': 'RE', 'status': '', 'received': False, 'receivedOrder': False, 'sold': False, 'claimPaid': False, 'claimPaidBy': '', 'taxExemptionReason': 'Exoneration de TVA selon article 262 I du Code general des impots', 'taxReceived': False}\n",
      "/home/jovyan/work/usr/bin/kubectl exec -t aubonmoulin-67b4649968-jlskd -c scray-peer-cli -- /bin/sh -c /bin/ls /mnt/conf/organizations/peerOrganizations/\n",
      "aubonmoulin-67b4649968-jlskd aubonmoulin.fr\n",
      "/bin/ls /mnt/conf/organizations/peerOrganizations/aubonmoulin.fr/users/\n",
      "/home/jovyan/work/usr/bin/kubectl exec -t aubonmoulin-67b4649968-jlskd -c scray-peer-cli -- /bin/sh -c /bin/ls /mnt/conf/organizations/peerOrganizations/aubonmoulin.fr/users/\n",
      "16 Tony.Dubois@aubonmoulin.fr Pedro.Sanchez@megustaolive.es asset16\n",
      "/home/jovyan/work/usr/bin/kubectl exec -t aubonmoulin-67b4649968-jlskd -c scray-peer-cli -- /bin/sh -c /bin/ls /mnt/conf/organizations/peerOrganizations/\n",
      "aubonmoulin-67b4649968-jlskd aubonmoulin.fr\n",
      "/bin/ls /mnt/conf/organizations/peerOrganizations/aubonmoulin.fr/users/\n",
      "/home/jovyan/work/usr/bin/kubectl exec -t aubonmoulin-67b4649968-jlskd -c scray-peer-cli -- /bin/sh -c /bin/ls /mnt/conf/organizations/peerOrganizations/aubonmoulin.fr/users/\n",
      "/home/jovyan/work/usr/bin/kubectl exec -t aubonmoulin-67b4649968-jlskd -c scray-peer-cli -- /bin/sh -c /bin/ls /mnt/conf/organizations/peerOrganizations/\n",
      "aubonmoulin-67b4649968-jlskd aubonmoulin.fr\n",
      "/bin/ls /mnt/conf/organizations/peerOrganizations/aubonmoulin.fr/users/\n",
      "/home/jovyan/work/usr/bin/kubectl exec -t aubonmoulin-67b4649968-jlskd -c scray-peer-cli -- /bin/sh -c /bin/ls /mnt/conf/organizations/peerOrganizations/aubonmoulin.fr/users/\n",
      "aubonmoulin-67b4649968-jlskd aubonmoulin.kubernetes.research.dev.seeburger.de\n",
      "/bin/ls /mnt/conf/organizations/peerOrganizations/aubonmoulin.kubernetes.research.dev.seeburger.de/users/\n",
      "/home/jovyan/work/usr/bin/kubectl exec -t aubonmoulin-67b4649968-jlskd -c scray-peer-cli -- /bin/sh -c /bin/ls /mnt/conf/organizations/peerOrganizations/aubonmoulin.kubernetes.research.dev.seeburger.de/users/\n",
      "aubonmoulin-67b4649968-jlskd hotelsaintdenis.re\n",
      "/bin/ls /mnt/conf/organizations/peerOrganizations/hotelsaintdenis.re/users/\n",
      "/home/jovyan/work/usr/bin/kubectl exec -t aubonmoulin-67b4649968-jlskd -c scray-peer-cli -- /bin/sh -c /bin/ls /mnt/conf/organizations/peerOrganizations/hotelsaintdenis.re/users/\n",
      "aubonmoulin-67b4649968-jlskd majolieboutique.net\n",
      "/bin/ls /mnt/conf/organizations/peerOrganizations/majolieboutique.net/users/\n",
      "/home/jovyan/work/usr/bin/kubectl exec -t aubonmoulin-67b4649968-jlskd -c scray-peer-cli -- /bin/sh -c /bin/ls /mnt/conf/organizations/peerOrganizations/majolieboutique.net/users/\n",
      "/home/jovyan/work/usr/bin/kubectl exec -t lyon-impots-7898cf8fd8-cwnhq -c scray-peer-cli -- /bin/sh -c /bin/ls /mnt/conf/organizations/peerOrganizations/\n",
      "lyon-impots-7898cf8fd8-cwnhq lyon-impots.gouv.fr\n",
      "/bin/ls /mnt/conf/organizations/peerOrganizations/lyon-impots.gouv.fr/users/\n",
      "/home/jovyan/work/usr/bin/kubectl exec -t lyon-impots-7898cf8fd8-cwnhq -c scray-peer-cli -- /bin/sh -c /bin/ls /mnt/conf/organizations/peerOrganizations/lyon-impots.gouv.fr/users/\n",
      "lyon-impots-7898cf8fd8-cwnhq lyon-impots.kubernetes.research.dev.seeburger.de\n",
      "/bin/ls /mnt/conf/organizations/peerOrganizations/lyon-impots.kubernetes.research.dev.seeburger.de/users/\n",
      "/home/jovyan/work/usr/bin/kubectl exec -t lyon-impots-7898cf8fd8-cwnhq -c scray-peer-cli -- /bin/sh -c /bin/ls /mnt/conf/organizations/peerOrganizations/lyon-impots.kubernetes.research.dev.seeburger.de/users/\n",
      "/home/jovyan/work/usr/bin/kubectl exec -t austriafactor-bf94f4f89-rzvgz -c scray-peer-cli -- /bin/sh -c /bin/ls /mnt/conf/organizations/peerOrganizations/\n",
      "austriafactor-bf94f4f89-rzvgz austriafactor.at\n",
      "/bin/ls /mnt/conf/organizations/peerOrganizations/austriafactor.at/users/\n",
      "/home/jovyan/work/usr/bin/kubectl exec -t austriafactor-bf94f4f89-rzvgz -c scray-peer-cli -- /bin/sh -c /bin/ls /mnt/conf/organizations/peerOrganizations/austriafactor.at/users/\n",
      "austriafactor-bf94f4f89-rzvgz austriafactor.kubernetes.research.dev.seeburger.de\n",
      "/bin/ls /mnt/conf/organizations/peerOrganizations/austriafactor.kubernetes.research.dev.seeburger.de/users/\n",
      "/home/jovyan/work/usr/bin/kubectl exec -t austriafactor-bf94f4f89-rzvgz -c scray-peer-cli -- /bin/sh -c /bin/ls /mnt/conf/organizations/peerOrganizations/austriafactor.kubernetes.research.dev.seeburger.de/users/\n",
      "/home/jovyan/work/usr/bin/kubectl exec -t megustaolive-db7964cfd-lvdch -c scray-peer-cli -- /bin/sh -c /bin/ls /mnt/conf/organizations/peerOrganizations/\n",
      "megustaolive-db7964cfd-lvdch megustaolive.es\n",
      "/bin/ls /mnt/conf/organizations/peerOrganizations/megustaolive.es/users/\n",
      "/home/jovyan/work/usr/bin/kubectl exec -t megustaolive-db7964cfd-lvdch -c scray-peer-cli -- /bin/sh -c /bin/ls /mnt/conf/organizations/peerOrganizations/megustaolive.es/users/\n",
      "16 {'ID': 'asset16', 'owner': 'x509::CN=Tony.Dubois@aubonmoulin.fr,OU=admin,O=kubernetes.research.dev.seeburger.de::CN=ca.aubonmoulin.kubernetes.research.dev.seeburger.de,O=aubonmoulin.kubernetes.research.dev.seeburger.de,L=Bretten,ST=Baden,C=DE', 'buyer': 'x509::CN=Pedro.Sanchez@megustaolive.es,OU=admin,O=kubernetes.research.dev.seeburger.de::CN=ca.megustaolive.kubernetes.research.dev.seeburger.de,O=megustaolive.kubernetes.research.dev.seeburger.de,L=Bretten,ST=Baden,C=DE', 'hash': -3902439684022321189, 'invoiceNumber': 'FA-2017-0008', 'tax': '0.00', 'netto': '2076.76', 'countryOrigin': 'FR', 'countryBuyer': 'ES', 'status': '', 'received': False, 'receivedOrder': False, 'sold': False, 'claimPaid': False, 'claimPaidBy': '', 'taxExemptionReason': 'French VAT exemption according to articles 262 ter I (for products) and/or 283-2 (for services) of \"CGI\"', 'taxReceived': False}\n",
      "/home/jovyan/work/usr/bin/kubectl exec -t aubonmoulin-67b4649968-jlskd -c scray-peer-cli -- /bin/sh -c /bin/ls /mnt/conf/organizations/peerOrganizations/\n",
      "aubonmoulin-67b4649968-jlskd aubonmoulin.fr\n",
      "/bin/ls /mnt/conf/organizations/peerOrganizations/aubonmoulin.fr/users/\n",
      "/home/jovyan/work/usr/bin/kubectl exec -t aubonmoulin-67b4649968-jlskd -c scray-peer-cli -- /bin/sh -c /bin/ls /mnt/conf/organizations/peerOrganizations/aubonmoulin.fr/users/\n",
      "17 Tony.Dubois@aubonmoulin.fr Alexandre.Payet@majolieboutique.net asset17\n",
      "/home/jovyan/work/usr/bin/kubectl exec -t aubonmoulin-67b4649968-jlskd -c scray-peer-cli -- /bin/sh -c /bin/ls /mnt/conf/organizations/peerOrganizations/\n",
      "aubonmoulin-67b4649968-jlskd aubonmoulin.fr\n",
      "/bin/ls /mnt/conf/organizations/peerOrganizations/aubonmoulin.fr/users/\n",
      "/home/jovyan/work/usr/bin/kubectl exec -t aubonmoulin-67b4649968-jlskd -c scray-peer-cli -- /bin/sh -c /bin/ls /mnt/conf/organizations/peerOrganizations/aubonmoulin.fr/users/\n",
      "/home/jovyan/work/usr/bin/kubectl exec -t aubonmoulin-67b4649968-jlskd -c scray-peer-cli -- /bin/sh -c /bin/ls /mnt/conf/organizations/peerOrganizations/\n",
      "aubonmoulin-67b4649968-jlskd aubonmoulin.fr\n",
      "/bin/ls /mnt/conf/organizations/peerOrganizations/aubonmoulin.fr/users/\n",
      "/home/jovyan/work/usr/bin/kubectl exec -t aubonmoulin-67b4649968-jlskd -c scray-peer-cli -- /bin/sh -c /bin/ls /mnt/conf/organizations/peerOrganizations/aubonmoulin.fr/users/\n",
      "aubonmoulin-67b4649968-jlskd aubonmoulin.kubernetes.research.dev.seeburger.de\n",
      "/bin/ls /mnt/conf/organizations/peerOrganizations/aubonmoulin.kubernetes.research.dev.seeburger.de/users/\n",
      "/home/jovyan/work/usr/bin/kubectl exec -t aubonmoulin-67b4649968-jlskd -c scray-peer-cli -- /bin/sh -c /bin/ls /mnt/conf/organizations/peerOrganizations/aubonmoulin.kubernetes.research.dev.seeburger.de/users/\n",
      "aubonmoulin-67b4649968-jlskd hotelsaintdenis.re\n",
      "/bin/ls /mnt/conf/organizations/peerOrganizations/hotelsaintdenis.re/users/\n",
      "/home/jovyan/work/usr/bin/kubectl exec -t aubonmoulin-67b4649968-jlskd -c scray-peer-cli -- /bin/sh -c /bin/ls /mnt/conf/organizations/peerOrganizations/hotelsaintdenis.re/users/\n",
      "aubonmoulin-67b4649968-jlskd majolieboutique.net\n",
      "/bin/ls /mnt/conf/organizations/peerOrganizations/majolieboutique.net/users/\n",
      "/home/jovyan/work/usr/bin/kubectl exec -t aubonmoulin-67b4649968-jlskd -c scray-peer-cli -- /bin/sh -c /bin/ls /mnt/conf/organizations/peerOrganizations/majolieboutique.net/users/\n",
      "17 {'ID': 'asset17', 'owner': 'x509::CN=Tony.Dubois@aubonmoulin.fr,OU=admin,O=kubernetes.research.dev.seeburger.de::CN=ca.aubonmoulin.kubernetes.research.dev.seeburger.de,O=aubonmoulin.kubernetes.research.dev.seeburger.de,L=Bretten,ST=Baden,C=DE', 'buyer': 'x509::CN=Alexandre.Payet@majolieboutique.net,OU=admin,O=kubernetes.research.dev.seeburger.de::CN=ca.aubonmoulin.kubernetes.research.dev.seeburger.de,O=aubonmoulin.kubernetes.research.dev.seeburger.de,L=Bretten,ST=Baden,C=DE', 'hash': 8418839290363969781, 'invoiceNumber': 'AV-2017-0005', 'tax': '-14.99', 'netto': '-218.48', 'countryOrigin': 'FR', 'countryBuyer': 'FR', 'status': '', 'received': False, 'receivedOrder': False, 'sold': False, 'claimPaid': False, 'claimPaidBy': '', 'taxExemptionReason': '', 'taxReceived': False}\n",
      "/home/jovyan/work/usr/bin/kubectl exec -t aubonmoulin-67b4649968-jlskd -c scray-peer-cli -- /bin/sh -c /bin/ls /mnt/conf/organizations/peerOrganizations/\n",
      "aubonmoulin-67b4649968-jlskd aubonmoulin.fr\n",
      "/bin/ls /mnt/conf/organizations/peerOrganizations/aubonmoulin.fr/users/\n",
      "/home/jovyan/work/usr/bin/kubectl exec -t aubonmoulin-67b4649968-jlskd -c scray-peer-cli -- /bin/sh -c /bin/ls /mnt/conf/organizations/peerOrganizations/aubonmoulin.fr/users/\n"
     ]
    }
   ],
   "source": [
    "createInvoices(invoices)"
   ]
  },
  {
   "cell_type": "code",
   "execution_count": null,
   "metadata": {},
   "outputs": [],
   "source": [
    "# Welche Rechnungsnummern ?\n",
    "pd.unique(invoices['exchangedDocument'].apply(lambda x: x['id']['value'])) , invoices['exchangedDocument']"
   ]
  },
  {
   "cell_type": "code",
   "execution_count": null,
   "metadata": {},
   "outputs": [],
   "source": [
    "getAllKeys(peer)[0]"
   ]
  },
  {
   "cell_type": "markdown",
   "metadata": {},
   "source": [
    "### rest create invoice"
   ]
  },
  {
   "cell_type": "code",
   "execution_count": null,
   "metadata": {},
   "outputs": [],
   "source": [
    "get_certificate_string(peernames[0])"
   ]
  },
  {
   "cell_type": "code",
   "execution_count": null,
   "metadata": {},
   "outputs": [],
   "source": [
    "getPeerUsers(peers[peernames[0]],'aubonmoulin.fr')[0]"
   ]
  },
  {
   "cell_type": "code",
   "execution_count": null,
   "metadata": {},
   "outputs": [],
   "source": [
    "peernames"
   ]
  },
  {
   "cell_type": "code",
   "execution_count": null,
   "metadata": {},
   "outputs": [],
   "source": [
    "peer = peers['aubonmoulin']\n",
    "getEmptyInvoice(peer)[0]\n",
    "_user=getPeerUsers(peers[peernames[0]],'aubonmoulin.fr')[0]\n",
    "#_user='Stephanie.Hoarau@hotelsaintdenis.re'\n",
    "#_user='User1'\n",
    "getSubmittingClientIdentity(peers[peernames[0]],user=_user)"
   ]
  },
  {
   "cell_type": "code",
   "execution_count": null,
   "metadata": {},
   "outputs": [],
   "source": [
    "getSubmittingClientIdentity(peer,user=_user)"
   ]
  },
  {
   "cell_type": "code",
   "execution_count": null,
   "metadata": {},
   "outputs": [],
   "source": [
    "peer = peers['aubonmoulin']\n",
    "asset = getEmptyInvoice(peer)[0]\n",
    "asset['ID']='asset21'\n",
    "_user=getPeerUsers(peers[peernames[0]],'aubonmoulin.fr')[0]\n",
    "#_user='Stephanie.Hoarau@hotelsaintdenis.re'\n",
    "getSubmittingClientIdentity(peer,user=_user)[0]\n",
    "#_user"
   ]
  },
  {
   "cell_type": "code",
   "execution_count": null,
   "metadata": {},
   "outputs": [],
   "source": [
    "peer = peers['aubonmoulin']\n",
    "asset = getEmptyInvoice(peer)[0]\n",
    "asset['ID']='asset21'\n",
    "_user=getPeerUsers(peers[peernames[0]],'aubonmoulin.fr')[0]\n",
    "asset['owner'] = getSubmittingClientIdentity(peer,user=_user)[0]\n",
    "_user='Stephanie.Hoarau@hotelsaintdenis.re'\n",
    "asset['buyer'] = getSubmittingClientIdentity(peer,user=_user)[0]"
   ]
  },
  {
   "cell_type": "code",
   "execution_count": null,
   "metadata": {},
   "outputs": [],
   "source": [
    "seller=getPeerUsers(peers[peernames[0]],'aubonmoulin.fr')[0]\n",
    "createInvoice(peer,getArgList(asset),user=seller)[1]"
   ]
  },
  {
   "cell_type": "code",
   "execution_count": null,
   "metadata": {},
   "outputs": [],
   "source": [
    "deleteAsset(peer,asset='asset21')"
   ]
  },
  {
   "cell_type": "code",
   "execution_count": null,
   "metadata": {},
   "outputs": [],
   "source": [
    "getSubmittingClientIdentity(peers[peernames[0]], user='User1')[0]"
   ]
  },
  {
   "cell_type": "code",
   "execution_count": null,
   "metadata": {},
   "outputs": [],
   "source": [
    "keys = getAllKeys(peer)[0]\n",
    "keys"
   ]
  },
  {
   "cell_type": "code",
   "execution_count": null,
   "metadata": {},
   "outputs": [],
   "source": [
    "i=16\n",
    "invoice = invoices.iloc[16]\n",
    "seller = strip_accents(getPathValue(invoice,'/supplyChainTradeTransaction/applicableHeaderTradeAgreement/sellerTradeParty/definedTradeContact/')[0]['personName']['value'].replace(' ','.'))\n",
    "buyer = strip_accents(getPathValue(invoice,'/supplyChainTradeTransaction/applicableHeaderTradeAgreement/buyerTradeParty/definedTradeContact/')[0]['personName']['value'].replace(' ','.'))\n",
    "print(i,seller,buyer,'asset'+str(i))\n",
    "update_invoice(id=i,seller=seller,buyer=buyer)\n",
    "#createInvoice(get_peer_of_user(seller),getArgList(asset),user=seller)[1]\n",
    "asset"
   ]
  },
  {
   "cell_type": "code",
   "execution_count": null,
   "metadata": {},
   "outputs": [],
   "source": [
    "asset['taxExemptionReason']='French VAT exemption according to articles 262 ter I (for products) and/or 283-2 (for services) of CGI'\n",
    "createInvoice(get_peer_of_user(seller),getArgList(asset),user=seller)[1]"
   ]
  },
  {
   "cell_type": "code",
   "execution_count": null,
   "metadata": {},
   "outputs": [],
   "source": [
    "\n",
    "\n",
    "seller = get_CN_of_invoice(invoice,'sellerTradeParty')\n",
    "getSubmittingClientIdentity(get_peer_of_user(seller), user=seller)[0]\n",
    "\n",
    "#get_CN_of_invoice(invoice,'buyerTradeParty')\n",
    "#get_peer_of_user(get_CN_of_invoice(invoice,'buyerTradeParty')).__dict__"
   ]
  },
  {
   "cell_type": "code",
   "execution_count": null,
   "metadata": {},
   "outputs": [],
   "source": [
    "asset = getEmptyInvoice(peer)[0]\n",
    "invoice = invoices.iloc[14]\n",
    "seller = get_CN_of_invoice(invoice,'sellerTradeParty')\n",
    "buyer  = get_CN_of_invoice(invoice,'buyerTradeParty')\n",
    "#assign_invoice_to_asset(invoice,asset)\n",
    "update_invoice(invoice=invoice,id=1,seller=seller,buyer=buyer)\n",
    "asset\n"
   ]
  },
  {
   "cell_type": "code",
   "execution_count": null,
   "metadata": {},
   "outputs": [],
   "source": [
    "invoice = invoices.iloc[14]\n",
    "seller = strip_accents(getPathValue(invoice,'/supplyChainTradeTransaction/applicableHeaderTradeAgreement/sellerTradeParty/definedTradeContact/')[0]['personName']['value'].replace(' ','.'))"
   ]
  },
  {
   "cell_type": "code",
   "execution_count": null,
   "metadata": {},
   "outputs": [],
   "source": [
    "peers"
   ]
  },
  {
   "cell_type": "code",
   "execution_count": null,
   "metadata": {},
   "outputs": [],
   "source": [
    "createInvoice(peer,getArgList(asset),user='Tony.Dubois')[1]"
   ]
  },
  {
   "cell_type": "code",
   "execution_count": null,
   "metadata": {},
   "outputs": [],
   "source": [
    "getPathValue(invoices.iloc[14],'/supplyChainTradeTransaction/applicableHeaderTradeAgreement/sellerTradeParty/definedTradeContact/')[0]['personName']['value']\n",
    "getPathValue(invoices.iloc[14],'/supplyChainTradeTransaction/applicableHeaderTradeAgreement/buyerTradeParty/definedTradeContact/')[0]['personName']['value']"
   ]
  },
  {
   "cell_type": "markdown",
   "metadata": {},
   "source": [
    "### list"
   ]
  },
  {
   "cell_type": "code",
   "execution_count": null,
   "metadata": {},
   "outputs": [],
   "source": [
    "#asset = listInvoice(peer_owner, id='asset3', user=owner)[0]\n",
    "#asset = listInvoice(peer_buyer, id='asset3', user=buyer)[0]\n",
    "#asset = listInvoice(peer_factor, id='asset3', user=factor)[0]\n",
    "\n",
    "asset = listInvoice(peer_taxinspector, id='asset3', user=taxinspector)[0]\n",
    "asset"
   ]
  },
  {
   "cell_type": "markdown",
   "metadata": {},
   "source": [
    "### received"
   ]
  },
  {
   "cell_type": "code",
   "execution_count": null,
   "metadata": {},
   "outputs": [],
   "source": [
    "asset\n",
    "id=asset['ID']\n",
    "buyer=get_cert_cn(asset['buyer'])\n",
    "peer_buyer=get_peer_of_user(user)\n",
    "owner=get_cert_cn(asset['owner'])\n",
    "peer_owner=get_peer_of_user(owner) \n",
    "\n",
    "#receivedInvoice(peer, id=asset['ID'], user=user)"
   ]
  },
  {
   "cell_type": "code",
   "execution_count": null,
   "metadata": {},
   "outputs": [],
   "source": [
    "receivedInvoice(peer_buyer, id=id, user=buyer)[1]\n",
    "print(get_height())\n",
    "receivedOrder(peer_buyer, id=id, user=buyer)[1]\n",
    "print(get_height())\n",
    "receivedPayment(peer_owner, id=id, payer='', user=owner)[1]\n",
    "print(get_height())"
   ]
  },
  {
   "cell_type": "code",
   "execution_count": null,
   "metadata": {},
   "outputs": [],
   "source": [
    "asset = listInvoice(peer_owner, id='asset3', user=owner)[0]\n",
    "asset\n",
    "\n",
    "_widget = facturx_widgets(asset,'/', hideUnused=True) \n",
    "display(_widget)"
   ]
  },
  {
   "cell_type": "code",
   "execution_count": null,
   "metadata": {},
   "outputs": [],
   "source": [
    "_out = receivedInvoice(peer_buyer, id=id, user=buyer)[1]\n",
    "_out2 = receivedOrder(peer_buyer, id=id, user=buyer)[1]"
   ]
  },
  {
   "cell_type": "code",
   "execution_count": null,
   "metadata": {},
   "outputs": [],
   "source": [
    "receivedInvoice(peer_buyer, id=id, user=buyer)[0]"
   ]
  },
  {
   "cell_type": "code",
   "execution_count": null,
   "metadata": {},
   "outputs": [],
   "source": [
    "receivedPayment(peer_owner, id=id, payer='', user=owner)[1]"
   ]
  },
  {
   "cell_type": "code",
   "execution_count": null,
   "metadata": {},
   "outputs": [],
   "source": [
    "asset\n",
    "peer_owner.name"
   ]
  },
  {
   "cell_type": "markdown",
   "metadata": {},
   "source": [
    "### load data"
   ]
  },
  {
   "cell_type": "code",
   "execution_count": null,
   "metadata": {},
   "outputs": [],
   "source": [
    "import json\n",
    "\n",
    "def load(filename):\n",
    "    with open(filename) as json_file:\n",
    "        return json.load(json_file)\n",
    "\n",
    "invoices = load('invoices.json')\n",
    "roles = load('roles.json')\n",
    "roleTransactions = load('roleTransactions.json')"
   ]
  },
  {
   "cell_type": "code",
   "execution_count": null,
   "metadata": {},
   "outputs": [],
   "source": []
  },
  {
   "cell_type": "code",
   "execution_count": null,
   "metadata": {},
   "outputs": [],
   "source": [
    "roles[0]['name']"
   ]
  },
  {
   "cell_type": "code",
   "execution_count": null,
   "metadata": {},
   "outputs": [],
   "source": [
    "if 'TaxInspector' in roles[0]['roles']:\n",
    "    print()"
   ]
  },
  {
   "cell_type": "code",
   "execution_count": null,
   "metadata": {},
   "outputs": [],
   "source": [
    "def invoke(peer,callopt,user='User1'):\n",
    "    print(user,callopt)\n",
    "    \n",
    "def query(peer,callopt,user='User1'):\n",
    "    print(user,callopt)    \n",
    "    \n",
    "class kubernetespeer:\n",
    "    def __init__(self, name='',prefix='peer'):\n",
    "        self.name = name    \n",
    "        \n",
    "def addPeer(peername):  \n",
    "    peer = kubernetespeer(name=peername)\n",
    "    peers[peername] = peer\n",
    "    return peer        \n",
    "  \n",
    "def get_peer_of_user(name):\n",
    "    return kubernetespeer(name=name)    \n",
    "\n",
    "def addUser(peer,user):\n",
    "    if peer.name in peerusers:\n",
    "        peerusers[peer.name].append(user)\n",
    "    else:\n",
    "        peerusers[peer.name] = [user]\n",
    "\n",
    "peers={}\n",
    "peerusers ={}\n",
    "\n",
    "addPeer('aubonmoulin')\n",
    "addPeer('lyon-impots')\n",
    "addPeer('austriafactor')\n",
    "addPeer('megustaolive') \n",
    "addUser(peers['aubonmoulin'],'Tony.Dubois')    \n",
    "addUser(peers['aubonmoulin'],'Stephanie.Hoarau')\n",
    "addUser(peers['aubonmoulin'],'Alexandre.Payet')\n",
    "addUser(peers['austriafactor'],'Emma.Steiner')    \n",
    "addUser(peers['megustaolive'],'Pedro.Sanchez')  \n",
    "addUser(peers['lyon-impots'],'Auguste.Boucher')  \n",
    "\n",
    "peernames = list(peers.keys())"
   ]
  },
  {
   "cell_type": "code",
   "execution_count": null,
   "metadata": {},
   "outputs": [],
   "source": [
    "peerusers\n",
    "invoices[2]"
   ]
  },
  {
   "cell_type": "code",
   "execution_count": null,
   "metadata": {},
   "outputs": [],
   "source": [
    "asset"
   ]
  },
  {
   "cell_type": "markdown",
   "metadata": {},
   "source": [
    "# Demo Functions"
   ]
  },
  {
   "cell_type": "code",
   "execution_count": null,
   "metadata": {},
   "outputs": [],
   "source": [
    "def get_cert_cn(cert):\n",
    "    return cert.split(',')[0].split('=')[1]\n",
    "    #return cert.split('=')[1].split('@')[0]\n",
    "\n",
    "def get_person_names_with_role(role,roles):\n",
    "    result = []\n",
    "    for person in roles:\n",
    "        if role in person['roles']:\n",
    "            #result.append(get_cert_cn(person['name']))\n",
    "            result.append(person['name'])\n",
    "    return result        \n",
    "        \n",
    "def get_person_certs_with_role(role,roles):\n",
    "    result = []\n",
    "    for person in roles:\n",
    "        if role in person['roles']:\n",
    "            result.append(person['name'])\n",
    "    return result                     "
   ]
  },
  {
   "cell_type": "code",
   "execution_count": null,
   "metadata": {},
   "outputs": [],
   "source": [
    "def disable_all_fields():\n",
    "    for key,value in _widget.container.fields.items():\n",
    "        value.widget.disabled=True\n",
    "        \n",
    "def enable_fields_for_role(rolename):\n",
    "    disable_all_fields()\n",
    "    if rolename == 'Buyer':\n",
    "        _widget.container.fields['received'].widget.disabled=False\n",
    "        _widget.container.fields['receivedOrder'].widget.disabled=False\n",
    "\n",
    "    elif  rolename == 'Seller':   \n",
    "        _widget.container.fields['sold'].widget.disabled=False\n",
    "        _widget.container.fields['claimPaid'].widget.disabled=False\n",
    "        _widget.container.fields['claimPaidBy'].widget.disabled=False\n",
    "        _widget.container.fields['owner'].widget.disabled=False\n",
    "        \n",
    "    elif  rolename == 'Factor':   \n",
    "        #_widget.container.fields['sold'].widget.disabled=False\n",
    "        _widget.container.fields['claimPaid'].widget.disabled=False\n",
    "        _widget.container.fields['claimPaidBy'].widget.disabled=False\n",
    "        #_widget.container.fields['owner'].widget.disabled=False\n",
    "                \n",
    "    elif  rolename == 'TaxInspector':    \n",
    "        _widget.container.fields['taxReceived'].widget.disabled=False       "
   ]
  },
  {
   "cell_type": "code",
   "execution_count": null,
   "metadata": {},
   "outputs": [],
   "source": [
    "def create_dropdown_owner(_widget):\n",
    "    _certs=[_widget.container.fields['owner'].widget.value]\n",
    "    _certs = _certs + get_person_certs_with_role('Factor',roles)\n",
    "    return widgets.Dropdown(options=_certs, value = _certs[0], description=\"owner\", style=style, layout=layout)\n",
    "\n",
    "def replace_owner_field_by_dropdown(_widget):\n",
    "    _owners = create_dropdown_owner(_widget)\n",
    "    _widget.container.fields['owner'] = Field(widget=_owners,path=_widget.container.fields['owner'].path)\n",
    "    _widget.redisplay()"
   ]
  },
  {
   "cell_type": "markdown",
   "metadata": {},
   "source": [
    "### role buyer"
   ]
  },
  {
   "cell_type": "code",
   "execution_count": null,
   "metadata": {},
   "outputs": [],
   "source": [
    "def init_fields_buyer(user=None,peer=peer):\n",
    "    #peer=get_peer_of_user(user)\n",
    "\n",
    "    def received_changed(b):\n",
    "        if b['name'] == 'value':\n",
    "            receivedInvoice(peer_buyer, id=id, user=user)[1]\n",
    "\n",
    "    def receivedOrder_changed(b):\n",
    "        if b['name'] == 'value':\n",
    "            receivedOrder(peer_buyer, id=id, user=user)[1]    \n",
    "\n",
    "    _widget.container.fields['received'].widget.observe(received_changed)\n",
    "    _widget.container.fields['receivedOrder'].widget.observe(receivedOrder_changed)\n",
    "    enable_fields_for_role('Buyer')"
   ]
  },
  {
   "cell_type": "markdown",
   "metadata": {
    "tags": []
   },
   "source": [
    "### role owner / seller"
   ]
  },
  {
   "cell_type": "code",
   "execution_count": null,
   "metadata": {},
   "outputs": [],
   "source": [
    "def init_fields_seller(user=None,peer=peer):\n",
    "    #peer=get_peer_of_user(user)\n",
    "    \n",
    "    def sold_changed(b):\n",
    "        if b['name'] == 'value':\n",
    "            name=_widget.container.fields['owner'].widget.value\n",
    "            transferInvoice(peer, id=id,name=name, user=user)[1]\n",
    "\n",
    "    def claimPaid_changed(b):\n",
    "        if b['name'] == 'value':\n",
    "            receivedPayment(peer, id=id, payer= _widget.container.fields['claimPaidBy'].widget.value, user=user)\n",
    "\n",
    "    enable_fields_for_role('Seller')    \n",
    "    _widget.container.fields['sold'].widget.observe(sold_changed)\n",
    "    _widget.container.fields['claimPaid'].widget.observe(claimPaid_changed)   \n",
    "    replace_owner_field_by_dropdown(_widget)"
   ]
  },
  {
   "cell_type": "markdown",
   "metadata": {
    "tags": []
   },
   "source": [
    "### role factor (owner)"
   ]
  },
  {
   "cell_type": "code",
   "execution_count": null,
   "metadata": {},
   "outputs": [],
   "source": [
    "def init_fields_factor(user=None,peer=peer):\n",
    "    #peer=get_peer_of_user(user)\n",
    "    \n",
    "    def claimPaid_changed(b):\n",
    "        if b['name'] == 'value':  \n",
    "            receivedPayment(peer, id=id, payer= _widget.container.fields['claimPaidBy'].widget.value, user=user)\n",
    "\n",
    "    enable_fields_for_role('Factor')    \n",
    "    _widget.container.fields['claimPaid'].widget.observe(claimPaid_changed)   "
   ]
  },
  {
   "cell_type": "markdown",
   "metadata": {
    "tags": []
   },
   "source": [
    "### role tax inspector"
   ]
  },
  {
   "cell_type": "code",
   "execution_count": null,
   "metadata": {},
   "outputs": [],
   "source": [
    "def init_fields_taxinspector(user=None,peer=peer):\n",
    "    #peer=get_peer_of_user(user)\n",
    "\n",
    "    def taxReceived_changed(b):\n",
    "        if b['name'] == 'value':\n",
    "            taxReceived(peer, id=id, user=user)\n",
    "\n",
    "    _widget.container.fields['taxReceived'].widget.observe(taxReceived_changed)\n",
    "    enable_fields_for_role('TaxInspector')"
   ]
  },
  {
   "cell_type": "markdown",
   "metadata": {},
   "source": [
    "### init"
   ]
  },
  {
   "cell_type": "code",
   "execution_count": null,
   "metadata": {},
   "outputs": [],
   "source": [
    "# init users and peers of invoice\n",
    "\n",
    "\n",
    "def init_parties_from_asset(asset,roles):\n",
    "    global id, owner, buyer, factor,peer_buyer,peer_owner,peer_factor,taxinspector,peer_taxinspector\n",
    "    \n",
    "    id=asset['ID']\n",
    "    owner=get_cert_cn(asset['owner'])\n",
    "    buyer=get_cert_cn(asset['buyer'])\n",
    "\n",
    "    factor=get_person_names_with_role('Factor',roles)[0].split(',')[0].split('=')[1]  \n",
    "\n",
    "    peer_buyer=get_peer_of_user(buyer)\n",
    "    peer_owner=get_peer_of_user(owner)\n",
    "    peer_factor=get_peer_of_user(factor) \n",
    "\n",
    "    taxinspector = get_cert_cn(getRoles(peer_owner, user=owner)[0]['taxInspector'])\n",
    "    peer_taxinspector=get_peer_of_user(taxinspector)\n",
    " \n",
    "def init_parties_from_widget(asset,roles):    \n",
    "    owner=get_cert_cn(_widget.container.fields['owner'].widget.value)\n",
    "    buyer=get_cert_cn(_widget.container.fields['buyer'].widget.value)\n",
    "\n",
    "    factor=get_person_names_with_role('Factor',roles)[0].split(',')[0].split('=')[1]  \n",
    "    id=_widget.container.fields['ID'].widget.value\n",
    "    peer_buyer=get_peer_of_user(buyer)\n",
    "    peer_owner=get_peer_of_user(owner)\n",
    "    peer_factor=get_peer_of_user(factor) \n",
    "\n",
    "    taxinspector = get_cert_cn(getRoles(peer_owner, user=owner)[0]['taxInspector'])\n",
    "    peer_taxinspector=get_peer_of_user(taxinspector)\n",
    "\n",
    "    #peer_taxinspector=get_peer_of_user(taxinspector)\n",
    "    #taxinspector=get_person_names_with_role('TaxInspector',roles)[0].split(',')[0].split('=')[1] \n",
    "    \n",
    "    \n",
    "def get_current_user_with_role(rolename):    \n",
    "    if rolename == 'Buyer':\n",
    "        return buyer\n",
    "    elif  rolename == 'Seller':   \n",
    "        return owner\n",
    "    elif  rolename == 'Factor':   \n",
    "        return factor\n",
    "    elif  rolename == 'TaxInspector':    \n",
    "        return taxinspector\n",
    "    \n",
    "def get_current_peer_with_role(rolename):    \n",
    "    if rolename == 'Buyer':\n",
    "        return peer_buyer\n",
    "    elif  rolename == 'Seller':   \n",
    "        return peer_owner\n",
    "    elif  rolename == 'Factor':   \n",
    "        return peer_factor\n",
    "    elif  rolename == 'TaxInspector':    \n",
    "        return peer_taxinspector    "
   ]
  },
  {
   "cell_type": "markdown",
   "metadata": {},
   "source": [
    "# Adressen"
   ]
  },
  {
   "cell_type": "code",
   "execution_count": null,
   "metadata": {},
   "outputs": [],
   "source": [
    "def create_address_widget(_invoice):\n",
    "    _widget1 =  widgets.HBox([widgets.VBox([facturx_widgets(_invoice,'/exchangedDocumentContext', hideUnused=True, hide=True).output ,\n",
    "                              facturx_widgets(_invoice,'/exchangedDocument', hideUnused=True, hide=True).output]) ,\n",
    "                              facturx_widgets(_invoice,'/supplyChainTradeTransaction/applicableHeaderTradeAgreement/sellerTradeParty', hideUnused=True, hide=True).output ,\n",
    "                              facturx_widgets(_invoice,'/supplyChainTradeTransaction/applicableHeaderTradeAgreement/buyerTradeParty', hideUnused=True, hide=True).output])\n",
    "    #display (_widget1)\n",
    "    return _widget1\n",
    "\n",
    "\n",
    "_invoice = invoices.iloc[14]\n",
    "create_address_widget(_invoice)"
   ]
  },
  {
   "cell_type": "markdown",
   "metadata": {},
   "source": [
    "# Rechnung"
   ]
  },
  {
   "cell_type": "code",
   "execution_count": null,
   "metadata": {},
   "outputs": [],
   "source": [
    "facturx_widgets(_invoice,'/supplyChainTradeTransaction', hideUnused=True, hide=True).output\n",
    "\n"
   ]
  },
  {
   "cell_type": "markdown",
   "metadata": {},
   "source": [
    "# Peers"
   ]
  },
  {
   "cell_type": "code",
   "execution_count": null,
   "metadata": {},
   "outputs": [],
   "source": [
    "_peer_dict = peers[peernames[0]].__dict__\n",
    "\n",
    "pod_lists = []\n",
    "i=0\n",
    "pod_list = []\n",
    "pod_lists.append(pod_list)\n",
    "for key,peer in peers.items():\n",
    "    if i == 3:\n",
    "        pod_list = []\n",
    "        pod_lists.append(pod_list)\n",
    "        i=0\n",
    "    pod_lists[len(pod_lists)-1].append(facturx_widgets(peer.__dict__,'/', hideUnused=True, hide=True).output)\n",
    "    i = i + 1"
   ]
  },
  {
   "cell_type": "code",
   "execution_count": null,
   "metadata": {},
   "outputs": [],
   "source": [
    "len(pod_lists)\n",
    "hboxes = []\n",
    "for pod_list in pod_lists:\n",
    "    hboxes.append(widgets.HBox(pod_list))"
   ]
  },
  {
   "cell_type": "code",
   "execution_count": null,
   "metadata": {},
   "outputs": [],
   "source": [
    "#widgets.VBox(pod_lists)\n",
    "display(widgets.HBox(pod_lists[0]))"
   ]
  },
  {
   "cell_type": "code",
   "execution_count": null,
   "metadata": {},
   "outputs": [],
   "source": [
    "pod_list = []\n",
    "for key,peer in peers.items():\n",
    "    pod_list.append(facturx_widgets(peer.__dict__,'/', hideUnused=True, hide=True).output)\n",
    "widgets.VBox(pod_list)"
   ]
  },
  {
   "cell_type": "markdown",
   "metadata": {},
   "source": [
    "# Blöcke"
   ]
  },
  {
   "cell_type": "code",
   "execution_count": null,
   "metadata": {},
   "outputs": [],
   "source": [
    "height=get_height()\n",
    "height"
   ]
  },
  {
   "cell_type": "code",
   "execution_count": null,
   "metadata": {},
   "outputs": [],
   "source": [
    "with widgets.Output():\n",
    "    uploadBlockToShare(height-1)    \n",
    "    _block = getBlockFromShare(height-1)\n",
    "    _invoice = decode_block_invoice(_block)\n",
    "    _transaction = decode_block_transaction(_block)"
   ]
  },
  {
   "cell_type": "code",
   "execution_count": null,
   "metadata": {},
   "outputs": [],
   "source": [
    "_transaction"
   ]
  },
  {
   "cell_type": "code",
   "execution_count": null,
   "metadata": {},
   "outputs": [],
   "source": [
    "_transaction, _invoice"
   ]
  },
  {
   "cell_type": "code",
   "execution_count": null,
   "metadata": {},
   "outputs": [],
   "source": []
  },
  {
   "cell_type": "markdown",
   "metadata": {},
   "source": [
    "# Demo"
   ]
  },
  {
   "cell_type": "markdown",
   "metadata": {},
   "source": [
    "### Init kubernetes peers (2)"
   ]
  },
  {
   "cell_type": "code",
   "execution_count": 11,
   "metadata": {},
   "outputs": [],
   "source": [
    "orderer = ordererpeer(name='orderer-org1-scray-org',prefix='orderer')\n",
    "orderer_ip=orderer.get_ip()\n",
    "orderer_hostname=orderer.host\n",
    "orderer_port= orderer.listen_port\n",
    "\n",
    "channel_name='invoicing'\n",
    "shared_fs_host='10.14.128.38:30080'"
   ]
  },
  {
   "cell_type": "code",
   "execution_count": 12,
   "metadata": {},
   "outputs": [
    {
     "data": {
      "text/plain": [
       "['aubonmoulin', 'lyon-impots', 'austriafactor', 'megustaolive']"
      ]
     },
     "execution_count": 12,
     "metadata": {},
     "output_type": "execute_result"
    }
   ],
   "source": [
    "def addPeerFromKubernetes(peername):\n",
    "    peer= kubernetespeer(peername)\n",
    "    peers[peername] = peer\n",
    "\n",
    "peers={}    \n",
    "addPeerFromKubernetes('aubonmoulin')\n",
    "addPeerFromKubernetes('lyon-impots')\n",
    "addPeerFromKubernetes('austriafactor')\n",
    "addPeerFromKubernetes('megustaolive')\n",
    "peernames = list(peers.keys())\n",
    "peernames"
   ]
  },
  {
   "cell_type": "markdown",
   "metadata": {},
   "source": [
    "##  basic infos"
   ]
  },
  {
   "cell_type": "code",
   "execution_count": null,
   "metadata": {},
   "outputs": [],
   "source": [
    "peer = peers[peernames[0]]\n",
    "keys = getAllKeys(peer)[0]\n",
    "keys"
   ]
  },
  {
   "cell_type": "code",
   "execution_count": null,
   "metadata": {},
   "outputs": [],
   "source": [
    "orgs=getPeerOrganizations(peers[peernames[0]])\n",
    "\n",
    "for org in orgs:\n",
    "    users = getPeerUsers(peers[peernames[0]],org)\n",
    "    print(org,users)"
   ]
  },
  {
   "cell_type": "markdown",
   "metadata": {},
   "source": [
    "## people and roles"
   ]
  },
  {
   "cell_type": "code",
   "execution_count": null,
   "metadata": {},
   "outputs": [],
   "source": [
    "shop_owner          = 'Tony.Dubois@aubonmoulin.fr'\n",
    "shop_owner_peer     = get_peer_of_user(shop_owner)\n",
    "shop_owner_identity = getSubmittingClientIdentity(shop_owner_peer, user=shop_owner)[0]\n",
    "shop_owner_roles    = getRoles(shop_owner_peer, user=shop_owner)[0]\n",
    "\n",
    "roles=getAllRoles(shop_owner_peer)[0]\n",
    "roleTransactions=getRoleTransactions(shop_owner_peer)[0]\n",
    "usedRoles=getUsedRoles(roles)"
   ]
  },
  {
   "cell_type": "code",
   "execution_count": null,
   "metadata": {},
   "outputs": [],
   "source": [
    "#shop_owner_identity, \n",
    "shop_owner_roles\n",
    "#facturx_widgets(shop_owner_roles,'/', hideUnused=True) \n"
   ]
  },
  {
   "cell_type": "code",
   "execution_count": null,
   "metadata": {},
   "outputs": [],
   "source": [
    "def create_role_widget(shop_owner_roles):   \n",
    "    style = {'description_width': '150px'}\n",
    "    layout = {'width': '400px'}\n",
    "    _widget = facturx_widgets(shop_owner_roles,'/', hideUnused=True) \n",
    "    style = {'description_width': '250px'}\n",
    "    layout = {'width': '500px'}\n",
    "    return _widget\n",
    "\n",
    "create_role_widget(shop_owner_roles)"
   ]
  },
  {
   "cell_type": "markdown",
   "metadata": {},
   "source": [
    "## list"
   ]
  },
  {
   "cell_type": "code",
   "execution_count": null,
   "metadata": {},
   "outputs": [],
   "source": [
    "assets = listInvoices(shop_owner_peer, user=shop_owner)[0]\n",
    "\n",
    "#asset = listInvoice(peer_owner, id='asset3', user=owner)[0]\n",
    "#asset = listInvoice(peer_buyer, id='asset3', user=buyer)[0]\n",
    "#asset = listInvoice(peer_factor, id='asset3', user=factor)[0]\n",
    "asset = listInvoice(shop_owner_peer, id='asset14', user=shop_owner)[0]"
   ]
  },
  {
   "cell_type": "code",
   "execution_count": null,
   "metadata": {},
   "outputs": [],
   "source": [
    "assets = listInvoices(shop_owner_peer, user=shop_owner)[0]\n",
    "\n",
    "_keys = []\n",
    "for asset in assets:\n",
    "    _keys.append(asset['Key'])"
   ]
  },
  {
   "cell_type": "code",
   "execution_count": null,
   "metadata": {},
   "outputs": [],
   "source": []
  },
  {
   "cell_type": "code",
   "execution_count": null,
   "metadata": {},
   "outputs": [],
   "source": [
    "asset"
   ]
  },
  {
   "cell_type": "code",
   "execution_count": null,
   "metadata": {},
   "outputs": [],
   "source": [
    "#invoice widget\n",
    "\n",
    "def asset_selected(x): \n",
    "    global asset\n",
    "    asset = listInvoice(shop_owner_peer, id=assetOptions.value, user=shop_owner)[0]\n",
    "    \n",
    "assetOptions = widgets.Dropdown(options=_keys)\n",
    "assetOptions.observe(asset_selected, names='value')\n",
    "\n",
    "def widget_load_asset(widget,asset):\n",
    "    widget.output.clear_output()\n",
    "    widget.container = FieldContainer()\n",
    "    with widget.output:\n",
    "        widget.addChilds(asset,'/', hideUnused=True)\n",
    "\n",
    "def reload_clicked(i):\n",
    "    user = get_current_user_with_role(roleOptions.value)\n",
    "    peer = get_current_peer_with_role(roleOptions.value)\n",
    "    #asset = listInvoice(shop_owner_peer, id, user=shop_owner)[0]\n",
    "    asset = listInvoice(peer, id, user=user)[0]\n",
    "    widget_load_asset(_widget,asset)\n",
    "    role_selected('')  \n",
    "\n",
    "def role_selected(x): \n",
    "    if roleOptions.value == 'Buyer':\n",
    "        init_fields_buyer(user=buyer,peer=peer_buyer)\n",
    "    elif roleOptions.value == 'Seller':\n",
    "        init_fields_seller(user=owner,peer=peer_owner)\n",
    "    elif roleOptions.value == 'TaxInspector':    \n",
    "        init_fields_taxinspector(user=taxinspector,peer=peer_taxinspector)\n",
    "\n",
    "roleOptions = widgets.Dropdown(options=usedRoles)\n",
    "#roleOptions.observe(role_selected, names='value')\n",
    "roleOptions.observe(reload_clicked, names='value')\n",
    "\n",
    "#display(roleOptions)\n",
    "\n",
    "        \n",
    "btn = widgets.Button(description=f'From Blockchain', disabled=False,button_style='success', icon='check')    \n",
    "btn.on_click(reload_clicked)\n",
    "#display (btn)\n",
    "\n",
    "def asset_selected(x): \n",
    "    global id\n",
    "    id=assetOptions.value\n",
    "    #asset = listInvoice(shop_owner_peer, id=assetOptions.value, user=shop_owner)[0]\n",
    "    reload_clicked(i)\n",
    "    \n",
    "    \n",
    "def create_invoice_widget():    \n",
    "    assetOptions = widgets.Dropdown(options=_keys)\n",
    "    assetOptions.observe(asset_selected, names='value')\n",
    "\n",
    "\n",
    "    _widget = facturx_widgets(asset,'/', hideUnused=True, hide=True) \n",
    "    options = widgets.VBox([roleOptions,btn])\n",
    "    #display(_widget)\n",
    "\n",
    "    HBox = widgets.HBox([_widget.output, options,assetOptions]) \n",
    "    display(HBox)\n",
    "\n",
    "    assetOptions.value='asset14'\n",
    "    asset_selected('')\n",
    "    return _widget"
   ]
  },
  {
   "cell_type": "code",
   "execution_count": null,
   "metadata": {},
   "outputs": [],
   "source": [
    "#listInvoice(shop_owner_peer, id='asset14', user=shop_owner)[1]['text'].splitlines()\n",
    "\n",
    "\n",
    "out = listInvoice(shop_owner_peer, id='asset14', user=shop_owner)[1]\n",
    "\n"
   ]
  },
  {
   "cell_type": "code",
   "execution_count": null,
   "metadata": {},
   "outputs": [],
   "source": [
    "_widget.container.fields.keys(),asset"
   ]
  },
  {
   "cell_type": "markdown",
   "metadata": {},
   "source": [
    "## display"
   ]
  },
  {
   "cell_type": "code",
   "execution_count": null,
   "metadata": {},
   "outputs": [],
   "source": [
    "_widget = create_invoice_widget()"
   ]
  },
  {
   "cell_type": "code",
   "execution_count": null,
   "metadata": {},
   "outputs": [],
   "source": [
    "def adapt_role_options():\n",
    "    _name = _widget.container.fields['owner'].widget.value\n",
    "    for role in roles:\n",
    "        if _name == role['name']:\n",
    "            if 'Seller' in role['roles'] and not in (roleOptions.options):\n",
    "                print(role['roles'])"
   ]
  },
  {
   "cell_type": "code",
   "execution_count": null,
   "metadata": {},
   "outputs": [],
   "source": [
    "alist = list(roleOptions.options)"
   ]
  },
  {
   "cell_type": "code",
   "execution_count": null,
   "metadata": {},
   "outputs": [],
   "source": [
    "alist.remove('Factor')"
   ]
  },
  {
   "cell_type": "code",
   "execution_count": null,
   "metadata": {},
   "outputs": [],
   "source": [
    "if 'Factor' in alist:\n",
    "    alist.remove('Factor')\n",
    "else:\n",
    "    alist.append('Factor')"
   ]
  },
  {
   "cell_type": "code",
   "execution_count": null,
   "metadata": {},
   "outputs": [],
   "source": [
    "alist"
   ]
  },
  {
   "cell_type": "code",
   "execution_count": null,
   "metadata": {},
   "outputs": [],
   "source": [
    "get_height()"
   ]
  },
  {
   "cell_type": "code",
   "execution_count": null,
   "metadata": {},
   "outputs": [],
   "source": [
    "init_parties_from_asset(asset,roles)"
   ]
  },
  {
   "cell_type": "code",
   "execution_count": null,
   "metadata": {},
   "outputs": [],
   "source": [
    "get_cert_cn(_widget.container.fields['owner'].widget.value)"
   ]
  },
  {
   "cell_type": "code",
   "execution_count": null,
   "metadata": {},
   "outputs": [],
   "source": [
    "init_fields_buyer(user=buyer,peer=peer_buyer)\n",
    "init_fields_seller(user=owner,peer=peer_owner)\n",
    "init_fields_taxinspector(user=taxinspector,peer=peer_taxinspector)"
   ]
  },
  {
   "cell_type": "code",
   "execution_count": null,
   "metadata": {},
   "outputs": [],
   "source": []
  },
  {
   "cell_type": "code",
   "execution_count": null,
   "metadata": {},
   "outputs": [],
   "source": []
  },
  {
   "cell_type": "code",
   "execution_count": null,
   "metadata": {},
   "outputs": [],
   "source": [
    "#listInvoices(peer=peers[peernames[0]], user='Tony.Dubois')[0][0]['Record']"
   ]
  },
  {
   "cell_type": "code",
   "execution_count": null,
   "metadata": {},
   "outputs": [],
   "source": [
    "#_widget.container.fields['ID'].widget.disabled=True\n",
    "#roles\n",
    "#factor=get_person_names_with_role('Factor',roles)[0].split(',')[0].split('=')[1]  \n",
    "#peer_factor=get_peer_of_user(factor) "
   ]
  },
  {
   "cell_type": "code",
   "execution_count": null,
   "metadata": {},
   "outputs": [],
   "source": [
    "# _certs=[_widget.container.fields['owner'].widget.value] + \n",
    "get_person_certs_with_role('Factor',roles)\n",
    "#_certs"
   ]
  },
  {
   "cell_type": "code",
   "execution_count": null,
   "metadata": {},
   "outputs": [],
   "source": []
  },
  {
   "cell_type": "code",
   "execution_count": null,
   "metadata": {},
   "outputs": [],
   "source": [
    "enable_fields_for_role('Seller')"
   ]
  },
  {
   "cell_type": "code",
   "execution_count": null,
   "metadata": {},
   "outputs": [],
   "source": [
    "# sold to factor\n",
    "_widget.container.fields['owner'].widget.value = roles[2]['name']\n",
    "_widget.container.fields['sold'].widget.value = True"
   ]
  },
  {
   "cell_type": "code",
   "execution_count": null,
   "metadata": {},
   "outputs": [],
   "source": [
    "disable_all_fields()\n",
    "enable_fields_for_role('Factor')"
   ]
  },
  {
   "cell_type": "code",
   "execution_count": null,
   "metadata": {},
   "outputs": [],
   "source": [
    "_widget.container.fields['claimPaidBy'].widget.value = 'Christophe Monet'\n",
    "_widget.container.fields['claimPaid'].widget.value = True"
   ]
  },
  {
   "cell_type": "code",
   "execution_count": null,
   "metadata": {},
   "outputs": [],
   "source": [
    "disable_all_fields()\n",
    "enable_fields_for_role('TaxInspector')"
   ]
  },
  {
   "cell_type": "code",
   "execution_count": null,
   "metadata": {},
   "outputs": [],
   "source": [
    "receivedInvoice(peers[peernames[0]], id='asset14', user='Stephanie.Hoarau')[1]"
   ]
  },
  {
   "cell_type": "markdown",
   "metadata": {},
   "source": [
    "## save assets as file"
   ]
  },
  {
   "cell_type": "code",
   "execution_count": null,
   "metadata": {},
   "outputs": [],
   "source": [
    "#asset = readAsset(peers[peernames[0]], asset='asset6')\n",
    "\n",
    "from facturxWidget import facturx_widgets \n",
    "\n",
    "import json\n",
    "with open('asset.json', 'w', encoding='utf-8') as f:\n",
    "    json.dump(asset, f, ensure_ascii=False, indent=4)"
   ]
  },
  {
   "cell_type": "code",
   "execution_count": null,
   "metadata": {},
   "outputs": [],
   "source": [
    "import json\n",
    "\n",
    "with open('asset.json') as json_file:\n",
    "    data = json.load(json_file)\n",
    "\n",
    "data    "
   ]
  },
  {
   "cell_type": "code",
   "execution_count": null,
   "metadata": {},
   "outputs": [],
   "source": [
    "assets=listInvoices(peer=peers[peernames[0]], user='Tony.Dubois')[0]"
   ]
  },
  {
   "cell_type": "code",
   "execution_count": null,
   "metadata": {},
   "outputs": [],
   "source": [
    "roleTransactions = getRoleTransactions(peer)[0]\n",
    "roleTransactions"
   ]
  },
  {
   "cell_type": "code",
   "execution_count": null,
   "metadata": {},
   "outputs": [],
   "source": [
    "roles=getAllRoles(peer)[0]"
   ]
  },
  {
   "cell_type": "code",
   "execution_count": null,
   "metadata": {},
   "outputs": [],
   "source": [
    "import json\n",
    "with open('roles.json', 'w', encoding='utf-8') as f:\n",
    "    json.dump(roles, f, ensure_ascii=False, indent=4)"
   ]
  },
  {
   "cell_type": "markdown",
   "metadata": {},
   "source": [
    "### work"
   ]
  },
  {
   "cell_type": "code",
   "execution_count": null,
   "metadata": {},
   "outputs": [],
   "source": [
    "#peers\n",
    "peer = peers['aabby-0']\n",
    "#getHostname(peer)"
   ]
  },
  {
   "cell_type": "code",
   "execution_count": null,
   "metadata": {},
   "outputs": [],
   "source": [
    "#owner = readAssetTest(peer,'asset6') ['owner']\n",
    "name = getSubmittingClientIdentity(peer)[:-1]\n",
    "#appendRole(peer,name=name,role='Seller')\n",
    "appendRole(peer,name=name,role='TaxInspector')"
   ]
  },
  {
   "cell_type": "code",
   "execution_count": null,
   "metadata": {},
   "outputs": [],
   "source": [
    "asset=listInvoices(peer)[0][0]['Record']"
   ]
  },
  {
   "cell_type": "code",
   "execution_count": null,
   "metadata": {},
   "outputs": [],
   "source": [
    "#deleteAsset(peer,asset=\"roles\")[1]\n",
    "#assetExists(peer,asset=\"roles\")\n",
    "#readAsset(peer,asset=\"roles\")[1]\n",
    "#getAllRoles(peer)\n",
    "#getRoles(peer,name=name)\n",
    "#getSubmittingClientIdentity(peer)"
   ]
  },
  {
   "cell_type": "code",
   "execution_count": null,
   "metadata": {},
   "outputs": [],
   "source": [
    "#peer.pod_name\n",
    "deleteAsset(peer, asset=keys[3])"
   ]
  },
  {
   "cell_type": "markdown",
   "metadata": {},
   "source": [
    "## invoice usecase (Simple)"
   ]
  },
  {
   "cell_type": "code",
   "execution_count": null,
   "metadata": {},
   "outputs": [],
   "source": [
    "def getPeer0Address(peer):\n",
    "    addr='peer0.kubernetes.research.dev.seeburger.de'\n",
    "    return str(addr + ':' + peer.listen_port)\n",
    "\n",
    "def readAsset(peer, asset='asset1'):\n",
    "    #callopt= '{\\\"function\\\":\\\"ReadAsset\\\",\\\"Args\\\":[' + '\\\"' + asset + '\\\"' + ']}'\n",
    "    callopt= '{\"function\":\"ReadAsset\",\"Args\":[' + '\\\"' + asset + '\\\"' + ']}'\n",
    "    cmd0 = str('\\'' + callopt + \"\\'\")\n",
    "    try:\n",
    "        #cmd1= 'CORE_PEER_ADDRESS=\\\"peer0.kubernetes.research.dev.seeburger.de:31866\\\" && ' \n",
    "        #cmd1 = 'CORE_PEER_ADDRESS=\\\"' + getPeer0Address(peer) + '\\\" && '\n",
    "        cmd1 = 'CORE_PEER_MSPCONFIGPATH=' + path + '\\\" && '\n",
    "        #cmd2 = ['peer', 'chaincode','query', '-C', channel_name, '-n', 'basic', '-c']\n",
    "        cmd2 = ['peer', 'chaincode', 'invoke', '-o', 'orderer.example.com:30081', '--tls', '--cafile', '/tmp/tlsca.example.com-cert.pem', '-C',channel_name, '-n', 'basic', '-c']\n",
    "   \n",
    "        cmd = toCmd(cmd2) + ' ' + cmd0\n",
    "        print(cmd)\n",
    "        #output = executePeerCmd(peer.pod_name, cmd1 + cmd)\n",
    "        #print(output)\n",
    "        if output[0] == '{':\n",
    "            return json.loads(output)\n",
    "        return cmd\n",
    "    except Exception as e:\n",
    "        print(e)\n",
    "        \n",
    "asset = readAsset(peers[pernames[0]], 'asset1')\n",
    "executePeerCmd(peers[pernames[0]].pod_name,asset)"
   ]
  },
  {
   "cell_type": "code",
   "execution_count": null,
   "metadata": {},
   "outputs": [],
   "source": [
    "\n",
    "pernames = list(peers.keys())\n",
    "chaincode_add_invoice(peers[pernames[0]],channel_name,'046',pernames[1])"
   ]
  },
  {
   "cell_type": "code",
   "execution_count": null,
   "metadata": {},
   "outputs": [],
   "source": [
    "!/home/jovyan/work/usr/bin/kubectl exec -t galya-0-6cc848b49-pv2dn -c scray-peer-cli -- /bin/sh /mnt/conf/peer/add-invoice.sh super13 006 x509::CN=User1@galya-1.kubernetes.research.dev.seeburger.de,OU=client,L=San Francisco,ST=California,C=US::CN=ca.galya-1.kubernetes.research.dev.seeburger.de,O=galya-1.kubernetes.research.dev.seeburger.de,L=San Francisco,ST=California,C=USdx509::CN=User1@galya-1.kubernetes.research.dev.seeburger.de,OU=client,L=San Francisco,ST=California,C=US::CN=ca.galya-1.kubernetes.research.dev.seeburger.de,O=galya-1.kubernetes.research.dev.seeburger.de,L=San Francisco,ST=California,C=US"
   ]
  },
  {
   "cell_type": "code",
   "execution_count": null,
   "metadata": {},
   "outputs": [],
   "source": [
    "get_certificate_string(pernames[1])\n",
    "\n",
    "#'x509::CN=User1@galya-1.kubernetes.research.dev.seeburger.de,OU=client,L=San Francisco,ST=California,C=US::CN=ca.galya-1.kubernetes.research.dev.seeburger.de,O=galya-1.kubernetes.research.dev.seeburger.de,L=San Francisco,ST=California,C=USdx509::CN=User1@galya-1.kubernetes.research.dev.seeburger.de,OU=client,L=San Francisco,ST=California,C=US::CN=ca.galya-1.kubernetes.research.dev.seeburger.de,O=galya-1.kubernetes.research.dev.seeburger.de,L=San Francisco,ST=California,C=US'\n",
    "\n",
    "#, 'x509::CN=User1@galya-1.kubernetes.research.dev.seeburger.de,OU=client,L=San Francisco,ST=California,C=US::CN=ca.galya-1.kubernetes.research.dev.seeburger.de,O=galya-1.kubernetes.research.dev.seeburger.de,L=San Francisco,ST=California,C=USdx509::CN=User1@galya-1.kubernetes.research.dev.seeburger.de,OU=client,L=San Francisco,ST=California,C=US::CN=ca.galya-1.kubernetes.research.dev.seeburger.de,O=galya-1.kubernetes.research.dev.seeburger.de,L=San Francisco,ST=California,C=US'"
   ]
  },
  {
   "cell_type": "code",
   "execution_count": null,
   "metadata": {},
   "outputs": [],
   "source": [
    "#kubectl exec --stdin --tty $PEER_POD -c scray-peer-cli -- /bin/sh /mnt/conf/peer/get-my-invoices.sh  $CHANNEL_NAME $INVOICE_ID\n",
    "def chaincode_read_invoice(peer,channel_name):\n",
    "    strlist = ['/mnt/conf/peer/get-my-invoices.sh', channel_name]\n",
    "    return executePeerCmd(peer.pod_name,toCmd(strlist)) \n",
    "chaincode_read_invoice(peers[pernames[0]],channel_name)"
   ]
  },
  {
   "cell_type": "code",
   "execution_count": null,
   "metadata": {},
   "outputs": [],
   "source": [
    "def chaincode_transfer_invoice(peer,channel_name,invoice_id,new_owner):\n",
    "    strlist = ['/mnt/conf/peer/transfer_invoice.sh', channel_name,invoice_id,get_certificate_string(new_owner)]\n",
    "    print(toCmd(strlist))\n",
    "    return executePeerCmd(peer.pod_name,toCmd(strlist)) \n",
    "\n",
    "pernames = list(peers.keys())\n",
    "chaincode_transfer_invoice(peers[pernames[0]],channel_name,'045',pernames[2])"
   ]
  },
  {
   "cell_type": "code",
   "execution_count": null,
   "metadata": {},
   "outputs": [],
   "source": [
    "get_certificate_string(pernames[2])\n",
    "NEW_OWNER='x509::CN=User1@lalya-2.kubernetes.research.dev.seeburger.de,OU=client,L=Bretten,ST=Baden,C=DE::CN=ca.lalya-2.kubernetes.research.dev.seeburger.de,O=lalya-2.kubernetes.research.dev.seeburger.de,L=Bretten,ST=Baden,C=DE'\n",
    "kubectl exec --stdin --tty lalya-0-7c887cffb8-fpw7h -c scray-peer-cli -- /bin/sh /mnt/conf/peer/transfer_invoice.sh  super43 045 $NEW_OWNER"
   ]
  },
  {
   "cell_type": "code",
   "execution_count": null,
   "metadata": {},
   "outputs": [],
   "source": [
    "kubectl exec --stdin --tty 'lalya-0-7c887cffb8-fpw7h' -c scray-peer-cli -- /bin/sh /mnt/conf/peer/get-my-invoices.sh  super43 045\n",
    "kubectl exec --stdin --tty 'lalya-1-7c76dff8c-pzx78' -c scray-peer-cli -- /bin/sh /mnt/conf/peer/get-my-invoices.sh  super43 045\n",
    "kubectl exec --stdin --tty 'lalya-2-5f8b45dbc4-52tt7' -c scray-peer-cli -- /bin/sh /mnt/conf/peer/get-my-invoices.sh  super43 045\n"
   ]
  },
  {
   "cell_type": "code",
   "execution_count": null,
   "metadata": {},
   "outputs": [],
   "source": [
    "peers[pernames[2]].pod_name"
   ]
  },
  {
   "cell_type": "markdown",
   "metadata": {},
   "source": [
    "## add channel"
   ]
  },
  {
   "cell_type": "code",
   "execution_count": null,
   "metadata": {},
   "outputs": [],
   "source": [
    "orderer.pod_name"
   ]
  },
  {
   "cell_type": "code",
   "execution_count": null,
   "metadata": {},
   "outputs": [],
   "source": [
    "!/home/jovyan/work/usr/bin/kubectl exec -t orderer-org1-scray-org-d8b6656f7-q8g95 -c scray-orderer-cli -- /bin/sh /mnt/conf/orderer/scripts/create_channel.sh invoicing orderer.example.com 30081"
   ]
  },
  {
   "cell_type": "code",
   "execution_count": null,
   "metadata": {},
   "outputs": [],
   "source": [
    "add_channel('super20')"
   ]
  },
  {
   "cell_type": "code",
   "execution_count": null,
   "metadata": {},
   "outputs": [],
   "source": [
    "name = 'super30'\n",
    "cmd = toCmd(['/mnt/conf/orderer/scripts/create_channel.sh', name, 'orderer.example.com', '7050'])\n",
    "cmd, orderer.pod_name"
   ]
  },
  {
   "cell_type": "code",
   "execution_count": null,
   "metadata": {},
   "outputs": [],
   "source": [
    "executePeerCmd(orderer.pod_name, cmd, cli='scray-orderer-cli')"
   ]
  },
  {
   "cell_type": "code",
   "execution_count": null,
   "metadata": {},
   "outputs": [],
   "source": [
    "executePeerCmd(orderer.pod_name, 'peer channel list', cli='scray-orderer-cli')"
   ]
  },
  {
   "cell_type": "code",
   "execution_count": null,
   "metadata": {},
   "outputs": [],
   "source": [
    "cmd1 = ['/mnt/conf/orderer/scripts/create_channel.sh super20 orderer.example.com 7050']\n",
    "executePeerCmd(orderer.pod_name, cmd1, cli='scray-orderer-cli')"
   ]
  },
  {
   "cell_type": "code",
   "execution_count": null,
   "metadata": {},
   "outputs": [],
   "source": [
    "#cmd1 = ['/home/jovyan/work/usr/bin/kubectl', 'exec','-t', 'orderer-org1-scray-org-5f97c57d44-l6d5l', '-c', 'scray-orderer-cli','--', '/bin/sh', '-c','/mnt/conf/orderer/scripts/create_channel.sh super7 orderer.example.com 7050']\n",
    "\n",
    "#cmd2 = toCmd(['ls','-a'])\n",
    "cmd2 = toCmd(['/mnt/conf/orderer/scripts/create_channel.sh', 'super7', 'orderer.example.com', '7050'])\n",
    "\n",
    "cmd1 = ['/home/jovyan/work/usr/bin/kubectl', 'exec','-t', 'orderer-org1-scray-org-5f97c57d44-l6d5l', '-c', 'scray-orderer-cli','--', '/bin/sh', '-c',cmd2]\n",
    "\n",
    "\n",
    "print(toCmd(cmd1))\n",
    "#subprocess.check_output(cmd1)\n",
    "subprocess.run(cmd1, stdout = subprocess.PIPE, stderr=subprocess.PIPE)"
   ]
  },
  {
   "cell_type": "code",
   "execution_count": null,
   "metadata": {},
   "outputs": [],
   "source": [
    "!/home/jovyan/work/usr/bin/kubectl exec -it orderer-org1-scray-org-5f97c57d44-l6d5l -c scray-orderer-cli -- /bin/sh /mnt/conf/orderer/scripts/create_channel.sh super6 orderer.example.com 7050\n"
   ]
  },
  {
   "cell_type": "code",
   "execution_count": null,
   "metadata": {},
   "outputs": [],
   "source": [
    "orderer.pod_name"
   ]
  },
  {
   "cell_type": "code",
   "execution_count": null,
   "metadata": {},
   "outputs": [],
   "source": [
    "!/home/jovyan/work/usr/bin/kubectl exec --stdin --tty 'orderer-org1-scray-org-5f97c57d44-j5mbs' -c scray-orderer-cli  -- /bin/sh /mnt/conf/orderer/scripts/create_channel.sh 'super' orderer.example.com '7050'"
   ]
  },
  {
   "cell_type": "code",
   "execution_count": null,
   "metadata": {},
   "outputs": [],
   "source": [
    "# Create Peer\n",
    "\n",
    "peername='dalya8'\n",
    "addPeer(peername)\n",
    "peers[peername].__dict__"
   ]
  },
  {
   "cell_type": "code",
   "execution_count": null,
   "metadata": {},
   "outputs": [],
   "source": [
    "##\n"
   ]
  },
  {
   "cell_type": "code",
   "execution_count": null,
   "metadata": {},
   "outputs": [],
   "source": [
    "executeKubectlCmd(['get', 'pods','-l', 'app=orderer-org1-scray-org','-o','jsonpath=\\'{.items[*].status.podIP}\\''])  "
   ]
  },
  {
   "cell_type": "code",
   "execution_count": null,
   "metadata": {},
   "outputs": [],
   "source": [
    "peers[peername].__dict__"
   ]
  },
  {
   "cell_type": "code",
   "execution_count": null,
   "metadata": {},
   "outputs": [],
   "source": [
    "orderer.__dict__"
   ]
  },
  {
   "cell_type": "markdown",
   "metadata": {},
   "source": [
    "## Export channel configuration"
   ]
  },
  {
   "cell_type": "code",
   "execution_count": null,
   "metadata": {},
   "outputs": [],
   "source": [
    "#https://github.com/scray/scray/blob/feature/k8s-peer/projects/invoice-hyperledger-fabric/containers/README.md#export-data\n",
    "\n",
    "SHARED_FS_HOST='10.14.128.38:30080'\n",
    "_result = SHARED_FS_HOST + '/channel/configuration/$CHANNEL_NAME/config.json'\n",
    "\n",
    "#kubectl exec --stdin --tty $ORDERER_POD -c scray-orderer-cli -- /bin/sh /mnt/conf/orderer/scripts/publish_channel_conf.sh $CHANNEL_NAME $SHARED_FS_HOST\n",
    "\n",
    "def export_channel_configuration(peer,channel_name,SHARED_FS_HOST):\n",
    "    strlist = ['/mnt/conf/orderer/scripts/publish_channel_conf.sh', channel_name,SHARED_FS_HOST]\n",
    "    return executePeerCmd(peer.pod_name,toCmd(strlist)) \n",
    "\n",
    "#_peer = peers[list(peers.keys())[0]]\n",
    "_peer = orderer\n",
    "channel_name = 'super'\n",
    "export_channel_configuration(_peer,channel_name,SHARED_FS_HOST)"
   ]
  },
  {
   "cell_type": "code",
   "execution_count": null,
   "metadata": {},
   "outputs": [],
   "source": [
    "#list(peers)[0]\n"
   ]
  },
  {
   "cell_type": "markdown",
   "metadata": {},
   "source": [
    "### display certificate "
   ]
  },
  {
   "cell_type": "code",
   "execution_count": null,
   "metadata": {},
   "outputs": [],
   "source": [
    "# Cerificates\n",
    "from cryptography import x509\n",
    "from cryptography.hazmat.backends import default_backend\n",
    "from cryptography.x509.oid import NameOID\n",
    "\n",
    "#https://stackoverflow.com/questions/16899247/how-can-i-decode-a-ssl-certificate-using-python\n",
    "\n",
    "def getCrt(org='',domain='kubernetes.research.dev.seeburger.de',host='10.15.136.41:30080',user='scray', pwd='scray',channel='mychannel'):\n",
    "    cmd = ['curl', '--user',user + ':' + pwd, \n",
    "           'http://' + host + '/ca/' + channel + '/' + org + '-' + domain + '-ca.crt']\n",
    "    res = executeLocalCmd(cmd)\n",
    "    if 'CERTIFICATE' in str(res):\n",
    "        return res\n",
    "       \n",
    "def getOrgCrt(org=''):    \n",
    "    pem_data=getCrt(org)\n",
    "    if pem_data:\n",
    "        return x509.load_pem_x509_certificate(pem_data, default_backend())\n",
    "\n",
    "    \n",
    "def getcrt(peer,user='User1'):\n",
    "    strlist = ['cat',  ' /tmp/crt_target/hans/user.crt']\n",
    "    \n",
    "    #           '/mnt/conf/organizations/peerOrganizations/aabby-0.kubernetes.research.dev.seeburger.de/users/hans@aabby-0.kubernetes.research.dev.seeburger.de/msp/signcerts/hans@aabby-0.kubernetes.research.dev.seeburger.de-cert.pem']\n",
    "    cmd = toCmd(strlist)\n",
    "    #print(cmd)  \n",
    "    output = executePeerCmd(peer.pod_name,  cmd)\n",
    "    return output,_out    "
   ]
  },
  {
   "cell_type": "code",
   "execution_count": null,
   "metadata": {},
   "outputs": [],
   "source": [
    "crt=getcrt(peer)[0][:-1]\n",
    "str(crt)"
   ]
  },
  {
   "cell_type": "code",
   "execution_count": null,
   "metadata": {},
   "outputs": [],
   "source": [
    "x509.load_pem_x509_certificate(crt, default_backend())"
   ]
  }
 ],
 "metadata": {
  "kernelspec": {
   "display_name": "Python 3 (ipykernel)",
   "language": "python",
   "name": "python3"
  },
  "language_info": {
   "codemirror_mode": {
    "name": "ipython",
    "version": 3
   },
   "file_extension": ".py",
   "mimetype": "text/x-python",
   "name": "python",
   "nbconvert_exporter": "python",
   "pygments_lexer": "ipython3",
   "version": "3.9.5"
  }
 },
 "nbformat": 4,
 "nbformat_minor": 4
}
