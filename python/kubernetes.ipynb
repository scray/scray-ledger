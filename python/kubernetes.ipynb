{
 "cells": [
  {
   "cell_type": "markdown",
   "metadata": {},
   "source": [
    "# Kubernetes"
   ]
  },
  {
   "cell_type": "markdown",
   "metadata": {},
   "source": [
    "# Kubernetes Version (Current)"
   ]
  },
  {
   "cell_type": "code",
   "execution_count": null,
   "metadata": {},
   "outputs": [],
   "source": [
    "from kubernetesTool import executeKubectlCmd\n",
    "from kubernetesTool import toCmd\n",
    "from kubernetesTool import executeLocalCmd\n",
    "from kubernetesTool import createConfig\n",
    "from kubernetesTool import getPort\n",
    "from kubernetesTool import executePeerCmd"
   ]
  },
  {
   "cell_type": "markdown",
   "metadata": {},
   "source": [
    "## check status peers"
   ]
  },
  {
   "cell_type": "code",
   "execution_count": 77,
   "metadata": {},
   "outputs": [
    {
     "name": "stdout",
     "output_type": "stream",
     "text": [
      "{'app': 'aabby-0', 'pod-template-hash': '6859c54c76'} Running\n",
      "{'app': 'aabby-1', 'pod-template-hash': '5ff5b8677f'} Running\n",
      "{'app': 'cc-deployer', 'pod-template-hash': '55c958b4d4'} Running\n",
      "{'app': 'hl-fabric-data-share', 'pod-template-hash': '6849487f76'} Running\n",
      "{'app': 'invoice-chaincode-external', 'pod-template-hash': '847cd44954'} Running\n",
      "{'app': 'invoice-net-chaincode-external', 'pod-template-hash': '576f8cbdd'} Running\n",
      "{'app': 'orderer-org1-scray-org', 'pod-template-hash': '5cb87587c4'} Running\n",
      "{'app': 'peer80', 'pod-template-hash': '8774cd6cb'} Running\n",
      "{'app': 'peer81', 'pod-template-hash': '66554b66f'} Running\n"
     ]
    }
   ],
   "source": [
    "from kubernetesTool import executeKubectlCmd\n",
    "_res = executeKubectlCmd(['get', 'pods', '-o', 'json'], decode='json')\n",
    "\n",
    "for item in _res['items']:\n",
    "    labels=item['metadata']['labels']\n",
    "    #status=item['status']['initContainerStatuses'][0]\n",
    "    #print(labels,status['state'],status['restartCount'],status['name'],status['ready'])\n",
    "    print(labels,item['status']['phase'])\n",
    "    #print(labels)"
   ]
  },
  {
   "cell_type": "code",
   "execution_count": 103,
   "metadata": {},
   "outputs": [
    {
     "name": "stderr",
     "output_type": "stream",
     "text": [
      "Error from server (NotFound): services \"invoice-chaincode-external\" not found\n",
      "Error from server (NotFound): services \"invoice-chaincode-external\" not found\n"
     ]
    },
    {
     "data": {
      "text/plain": [
       "{'name': 'invoice-chaincode-external',\n",
       " 'pod_name': 'invoice-chaincode-external-847cd44954-w2ddx',\n",
       " 'listen_port': 'Command \\'[\\'/home/jovyan/work/usr/bin/kubectl\\', \\'get\\', \\'service\\', \\'invoice-chaincode-external\\', \\'-o\\', \\'jsonpath=\"{.spec.ports[?(@.name==\\\\\\'peer-listen\\\\\\')].nodePort}\"\\']\\' returned non-zero exit status 1.',\n",
       " 'gossip_port': 'Command \\'[\\'/home/jovyan/work/usr/bin/kubectl\\', \\'get\\', \\'service\\', \\'invoice-chaincode-external\\', \\'-o\\', \\'jsonpath=\"{.spec.ports[?(@.name==\\\\\\'peer-gossip\\\\\\')].nodePort}\"\\']\\' returned non-zero exit status 1.'}"
      ]
     },
     "execution_count": 103,
     "metadata": {},
     "output_type": "execute_result"
    }
   ],
   "source": [
    "kubernetespeer('invoice-chaincode-external').__dict__"
   ]
  },
  {
   "cell_type": "code",
   "execution_count": null,
   "metadata": {},
   "outputs": [],
   "source": [
    "_res['items'][3]['metadata']['labels']\n",
    "_res['items'][0]['status']['phase']"
   ]
  },
  {
   "cell_type": "code",
   "execution_count": 104,
   "metadata": {},
   "outputs": [
    {
     "ename": "NameError",
     "evalue": "name 'prefix' is not defined",
     "output_type": "error",
     "traceback": [
      "\u001b[0;31m---------------------------------------------------------------------------\u001b[0m",
      "\u001b[0;31mNameError\u001b[0m                                 Traceback (most recent call last)",
      "\u001b[0;32m/tmp/ipykernel_56/1004286946.py\u001b[0m in \u001b[0;36m<module>\u001b[0;34m\u001b[0m\n\u001b[1;32m      1\u001b[0m \u001b[0;31m#30489\u001b[0m\u001b[0;34m\u001b[0m\u001b[0;34m\u001b[0m\u001b[0;34m\u001b[0m\u001b[0m\n\u001b[0;32m----> 2\u001b[0;31m \u001b[0mkubernetesTool\u001b[0m\u001b[0;34m.\u001b[0m\u001b[0mgetPort\u001b[0m\u001b[0;34m(\u001b[0m\u001b[0mpeername\u001b[0m\u001b[0;34m=\u001b[0m\u001b[0;34m'invoice-chaincode-external'\u001b[0m\u001b[0;34m,\u001b[0m \u001b[0mname\u001b[0m \u001b[0;34m=\u001b[0m \u001b[0mprefix\u001b[0m \u001b[0;34m+\u001b[0m \u001b[0;34m'-listen'\u001b[0m\u001b[0;34m)\u001b[0m\u001b[0;34m\u001b[0m\u001b[0;34m\u001b[0m\u001b[0m\n\u001b[0m",
      "\u001b[0;31mNameError\u001b[0m: name 'prefix' is not defined"
     ]
    }
   ],
   "source": [
    "#30489\n",
    "kubernetesTool.getPort(peername='invoice-chaincode-external', name = prefix + '-listen')"
   ]
  },
  {
   "cell_type": "code",
   "execution_count": null,
   "metadata": {},
   "outputs": [],
   "source": [
    "kubernetespeer(name='invoice-net-chaincode-external').__dict__"
   ]
  },
  {
   "cell_type": "code",
   "execution_count": 108,
   "metadata": {},
   "outputs": [
    {
     "data": {
      "text/plain": [
       "{'apiVersion': 'v1',\n",
       " 'kind': 'Pod',\n",
       " 'metadata': {'creationTimestamp': '2021-10-22T09:19:35Z',\n",
       "  'generateName': 'invoice-net-chaincode-external-576f8cbdd-',\n",
       "  'labels': {'app': 'invoice-net-chaincode-external',\n",
       "   'pod-template-hash': '576f8cbdd'},\n",
       "  'managedFields': [{'apiVersion': 'v1',\n",
       "    'fieldsType': 'FieldsV1',\n",
       "    'fieldsV1': {'f:metadata': {'f:generateName': {},\n",
       "      'f:labels': {'.': {}, 'f:app': {}, 'f:pod-template-hash': {}},\n",
       "      'f:ownerReferences': {'.': {},\n",
       "       'k:{\"uid\":\"6eb1c3d5-284f-4d41-9619-4ee45df70947\"}': {'.': {},\n",
       "        'f:apiVersion': {},\n",
       "        'f:blockOwnerDeletion': {},\n",
       "        'f:controller': {},\n",
       "        'f:kind': {},\n",
       "        'f:name': {},\n",
       "        'f:uid': {}}}},\n",
       "     'f:spec': {'f:containers': {'k:{\"name\":\"invoice-net-chaincode-external\"}': {'.': {},\n",
       "        'f:env': {'.': {},\n",
       "         'k:{\"name\":\"CHAINCODE_ID\"}': {'.': {}, 'f:name': {}, 'f:value': {}},\n",
       "         'k:{\"name\":\"CHAINCODE_SERVER_ADDRESS\"}': {'.': {},\n",
       "          'f:name': {},\n",
       "          'f:value': {}},\n",
       "         'k:{\"name\":\"FABRIC_LOGGING_SPEC\"}': {'.': {},\n",
       "          'f:name': {},\n",
       "          'f:value': {}}},\n",
       "        'f:image': {},\n",
       "        'f:imagePullPolicy': {},\n",
       "        'f:name': {},\n",
       "        'f:resources': {},\n",
       "        'f:terminationMessagePath': {},\n",
       "        'f:terminationMessagePolicy': {},\n",
       "        'f:workingDir': {}}},\n",
       "      'f:dnsPolicy': {},\n",
       "      'f:enableServiceLinks': {},\n",
       "      'f:restartPolicy': {},\n",
       "      'f:schedulerName': {},\n",
       "      'f:securityContext': {},\n",
       "      'f:terminationGracePeriodSeconds': {}}},\n",
       "    'manager': 'kube-controller-manager',\n",
       "    'operation': 'Update',\n",
       "    'time': '2021-10-22T09:19:35Z'},\n",
       "   {'apiVersion': 'v1',\n",
       "    'fieldsType': 'FieldsV1',\n",
       "    'fieldsV1': {'f:status': {'f:conditions': {'k:{\"type\":\"ContainersReady\"}': {'.': {},\n",
       "        'f:lastProbeTime': {},\n",
       "        'f:lastTransitionTime': {},\n",
       "        'f:status': {},\n",
       "        'f:type': {}},\n",
       "       'k:{\"type\":\"Initialized\"}': {'.': {},\n",
       "        'f:lastProbeTime': {},\n",
       "        'f:lastTransitionTime': {},\n",
       "        'f:status': {},\n",
       "        'f:type': {}},\n",
       "       'k:{\"type\":\"Ready\"}': {'.': {},\n",
       "        'f:lastProbeTime': {},\n",
       "        'f:lastTransitionTime': {},\n",
       "        'f:status': {},\n",
       "        'f:type': {}}},\n",
       "      'f:containerStatuses': {},\n",
       "      'f:hostIP': {},\n",
       "      'f:phase': {},\n",
       "      'f:podIP': {},\n",
       "      'f:podIPs': {'.': {}, 'k:{\"ip\":\"10.32.0.7\"}': {'.': {}, 'f:ip': {}}},\n",
       "      'f:startTime': {}}},\n",
       "    'manager': 'kubelet',\n",
       "    'operation': 'Update',\n",
       "    'time': '2021-11-10T20:58:28Z'}],\n",
       "  'name': 'invoice-net-chaincode-external-576f8cbdd-ql2w5',\n",
       "  'namespace': 'default',\n",
       "  'ownerReferences': [{'apiVersion': 'apps/v1',\n",
       "    'blockOwnerDeletion': True,\n",
       "    'controller': True,\n",
       "    'kind': 'ReplicaSet',\n",
       "    'name': 'invoice-net-chaincode-external-576f8cbdd',\n",
       "    'uid': '6eb1c3d5-284f-4d41-9619-4ee45df70947'}],\n",
       "  'resourceVersion': '21397887',\n",
       "  'selfLink': '/api/v1/namespaces/default/pods/invoice-net-chaincode-external-576f8cbdd-ql2w5',\n",
       "  'uid': 'cef666fb-1644-45bb-a854-feb1c26dfe8f'},\n",
       " 'spec': {'containers': [{'env': [{'name': 'FABRIC_LOGGING_SPEC',\n",
       "      'value': 'DEBUG'},\n",
       "     {'name': 'CHAINCODE_ID',\n",
       "      'value': 'basic_1.0:27256d95e55ff855dffe6685141fcf6dd3530e4859e8621ec3476f9a69065cd5'},\n",
       "     {'name': 'CHAINCODE_SERVER_ADDRESS', 'value': '0.0.0.0:9999'}],\n",
       "    'image': 'scrayorg/chaincode-invoice-net:1.0',\n",
       "    'imagePullPolicy': 'Always',\n",
       "    'name': 'invoice-net-chaincode-external',\n",
       "    'resources': {},\n",
       "    'terminationMessagePath': '/dev/termination-log',\n",
       "    'terminationMessagePolicy': 'File',\n",
       "    'volumeMounts': [{'mountPath': '/var/run/secrets/kubernetes.io/serviceaccount',\n",
       "      'name': 'default-token-5t2mh',\n",
       "      'readOnly': True}],\n",
       "    'workingDir': '/go/src/github.com/hyperledger/fabric-samples/asset-transfer-basic/chaincode-external'}],\n",
       "  'dnsPolicy': 'ClusterFirst',\n",
       "  'enableServiceLinks': True,\n",
       "  'nodeName': 'kubernetes',\n",
       "  'priority': 0,\n",
       "  'restartPolicy': 'Always',\n",
       "  'schedulerName': 'default-scheduler',\n",
       "  'securityContext': {},\n",
       "  'serviceAccount': 'default',\n",
       "  'serviceAccountName': 'default',\n",
       "  'terminationGracePeriodSeconds': 30,\n",
       "  'tolerations': [{'effect': 'NoExecute',\n",
       "    'key': 'node.kubernetes.io/not-ready',\n",
       "    'operator': 'Exists',\n",
       "    'tolerationSeconds': 300},\n",
       "   {'effect': 'NoExecute',\n",
       "    'key': 'node.kubernetes.io/unreachable',\n",
       "    'operator': 'Exists',\n",
       "    'tolerationSeconds': 300}],\n",
       "  'volumes': [{'name': 'default-token-5t2mh',\n",
       "    'secret': {'defaultMode': 420, 'secretName': 'default-token-5t2mh'}}]},\n",
       " 'status': {'conditions': [{'lastProbeTime': None,\n",
       "    'lastTransitionTime': '2021-10-22T09:19:35Z',\n",
       "    'status': 'True',\n",
       "    'type': 'Initialized'},\n",
       "   {'lastProbeTime': None,\n",
       "    'lastTransitionTime': '2021-11-10T20:58:28Z',\n",
       "    'status': 'True',\n",
       "    'type': 'Ready'},\n",
       "   {'lastProbeTime': None,\n",
       "    'lastTransitionTime': '2021-11-10T20:58:28Z',\n",
       "    'status': 'True',\n",
       "    'type': 'ContainersReady'},\n",
       "   {'lastProbeTime': None,\n",
       "    'lastTransitionTime': '2021-10-22T09:19:35Z',\n",
       "    'status': 'True',\n",
       "    'type': 'PodScheduled'}],\n",
       "  'containerStatuses': [{'containerID': 'docker://32d86fca367fd8bf601959ede90a87d9f7a6a73f25ae45ba1aa85255f18a383a',\n",
       "    'image': 'scrayorg/chaincode-invoice-net:1.0',\n",
       "    'imageID': 'docker-pullable://scrayorg/chaincode-invoice-net@sha256:82312774005ff9a0862a19b47a53e06ca2379fb99f2735033330504bb24e8c9d',\n",
       "    'lastState': {'terminated': {'containerID': 'docker://fd01d4fed8a2ea4ea8005d61bb3d2274fea067e94986d0f25d432e610e547c40',\n",
       "      'exitCode': 137,\n",
       "      'finishedAt': '2021-11-10T20:57:35Z',\n",
       "      'reason': 'Error',\n",
       "      'startedAt': '2021-11-10T16:02:25Z'}},\n",
       "    'name': 'invoice-net-chaincode-external',\n",
       "    'ready': True,\n",
       "    'restartCount': 2,\n",
       "    'started': True,\n",
       "    'state': {'running': {'startedAt': '2021-11-10T20:58:28Z'}}}],\n",
       "  'hostIP': '10.14.128.38',\n",
       "  'phase': 'Running',\n",
       "  'podIP': '10.32.0.7',\n",
       "  'podIPs': [{'ip': '10.32.0.7'}],\n",
       "  'qosClass': 'BestEffort',\n",
       "  'startTime': '2021-10-22T09:19:35Z'}}"
      ]
     },
     "execution_count": 108,
     "metadata": {},
     "output_type": "execute_result"
    }
   ],
   "source": [
    "#_res['items'][5]['status']['containerStatuses']\n",
    "_res['items'][5]"
   ]
  },
  {
   "cell_type": "code",
   "execution_count": 78,
   "metadata": {},
   "outputs": [
    {
     "name": "stdout",
     "output_type": "stream",
     "text": [
      "{'apiVersion': 'v1', 'kind': 'Pod', 'metadata': {'creationTimestamp': '2021-10-22T09:19:35Z', 'generateName': 'invoice-net-chaincode-external-576f8cbdd-', 'labels': {'app': 'invoice-net-chaincode-external', 'pod-template-hash': '576f8cbdd'}, 'managedFields': [{'apiVersion': 'v1', 'fieldsType': 'FieldsV1', 'fieldsV1': {'f:metadata': {'f:generateName': {}, 'f:labels': {'.': {}, 'f:app': {}, 'f:pod-template-hash': {}}, 'f:ownerReferences': {'.': {}, 'k:{\"uid\":\"6eb1c3d5-284f-4d41-9619-4ee45df70947\"}': {'.': {}, 'f:apiVersion': {}, 'f:blockOwnerDeletion': {}, 'f:controller': {}, 'f:kind': {}, 'f:name': {}, 'f:uid': {}}}}, 'f:spec': {'f:containers': {'k:{\"name\":\"invoice-net-chaincode-external\"}': {'.': {}, 'f:env': {'.': {}, 'k:{\"name\":\"CHAINCODE_ID\"}': {'.': {}, 'f:name': {}, 'f:value': {}}, 'k:{\"name\":\"CHAINCODE_SERVER_ADDRESS\"}': {'.': {}, 'f:name': {}, 'f:value': {}}, 'k:{\"name\":\"FABRIC_LOGGING_SPEC\"}': {'.': {}, 'f:name': {}, 'f:value': {}}}, 'f:image': {}, 'f:imagePullPolicy': {}, 'f:name': {}, 'f:resources': {}, 'f:terminationMessagePath': {}, 'f:terminationMessagePolicy': {}, 'f:workingDir': {}}}, 'f:dnsPolicy': {}, 'f:enableServiceLinks': {}, 'f:restartPolicy': {}, 'f:schedulerName': {}, 'f:securityContext': {}, 'f:terminationGracePeriodSeconds': {}}}, 'manager': 'kube-controller-manager', 'operation': 'Update', 'time': '2021-10-22T09:19:35Z'}, {'apiVersion': 'v1', 'fieldsType': 'FieldsV1', 'fieldsV1': {'f:status': {'f:conditions': {'k:{\"type\":\"ContainersReady\"}': {'.': {}, 'f:lastProbeTime': {}, 'f:lastTransitionTime': {}, 'f:status': {}, 'f:type': {}}, 'k:{\"type\":\"Initialized\"}': {'.': {}, 'f:lastProbeTime': {}, 'f:lastTransitionTime': {}, 'f:status': {}, 'f:type': {}}, 'k:{\"type\":\"Ready\"}': {'.': {}, 'f:lastProbeTime': {}, 'f:lastTransitionTime': {}, 'f:status': {}, 'f:type': {}}}, 'f:containerStatuses': {}, 'f:hostIP': {}, 'f:phase': {}, 'f:podIP': {}, 'f:podIPs': {'.': {}, 'k:{\"ip\":\"10.32.0.7\"}': {'.': {}, 'f:ip': {}}}, 'f:startTime': {}}}, 'manager': 'kubelet', 'operation': 'Update', 'time': '2021-11-10T20:58:28Z'}], 'name': 'invoice-net-chaincode-external-576f8cbdd-ql2w5', 'namespace': 'default', 'ownerReferences': [{'apiVersion': 'apps/v1', 'blockOwnerDeletion': True, 'controller': True, 'kind': 'ReplicaSet', 'name': 'invoice-net-chaincode-external-576f8cbdd', 'uid': '6eb1c3d5-284f-4d41-9619-4ee45df70947'}], 'resourceVersion': '21397887', 'selfLink': '/api/v1/namespaces/default/pods/invoice-net-chaincode-external-576f8cbdd-ql2w5', 'uid': 'cef666fb-1644-45bb-a854-feb1c26dfe8f'}, 'spec': {'containers': [{'env': [{'name': 'FABRIC_LOGGING_SPEC', 'value': 'DEBUG'}, {'name': 'CHAINCODE_ID', 'value': 'basic_1.0:27256d95e55ff855dffe6685141fcf6dd3530e4859e8621ec3476f9a69065cd5'}, {'name': 'CHAINCODE_SERVER_ADDRESS', 'value': '0.0.0.0:9999'}], 'image': 'scrayorg/chaincode-invoice-net:1.0', 'imagePullPolicy': 'Always', 'name': 'invoice-net-chaincode-external', 'resources': {}, 'terminationMessagePath': '/dev/termination-log', 'terminationMessagePolicy': 'File', 'volumeMounts': [{'mountPath': '/var/run/secrets/kubernetes.io/serviceaccount', 'name': 'default-token-5t2mh', 'readOnly': True}], 'workingDir': '/go/src/github.com/hyperledger/fabric-samples/asset-transfer-basic/chaincode-external'}], 'dnsPolicy': 'ClusterFirst', 'enableServiceLinks': True, 'nodeName': 'kubernetes', 'priority': 0, 'restartPolicy': 'Always', 'schedulerName': 'default-scheduler', 'securityContext': {}, 'serviceAccount': 'default', 'serviceAccountName': 'default', 'terminationGracePeriodSeconds': 30, 'tolerations': [{'effect': 'NoExecute', 'key': 'node.kubernetes.io/not-ready', 'operator': 'Exists', 'tolerationSeconds': 300}, {'effect': 'NoExecute', 'key': 'node.kubernetes.io/unreachable', 'operator': 'Exists', 'tolerationSeconds': 300}], 'volumes': [{'name': 'default-token-5t2mh', 'secret': {'defaultMode': 420, 'secretName': 'default-token-5t2mh'}}]}, 'status': {'conditions': [{'lastProbeTime': None, 'lastTransitionTime': '2021-10-22T09:19:35Z', 'status': 'True', 'type': 'Initialized'}, {'lastProbeTime': None, 'lastTransitionTime': '2021-11-10T20:58:28Z', 'status': 'True', 'type': 'Ready'}, {'lastProbeTime': None, 'lastTransitionTime': '2021-11-10T20:58:28Z', 'status': 'True', 'type': 'ContainersReady'}, {'lastProbeTime': None, 'lastTransitionTime': '2021-10-22T09:19:35Z', 'status': 'True', 'type': 'PodScheduled'}], 'containerStatuses': [{'containerID': 'docker://32d86fca367fd8bf601959ede90a87d9f7a6a73f25ae45ba1aa85255f18a383a', 'image': 'scrayorg/chaincode-invoice-net:1.0', 'imageID': 'docker-pullable://scrayorg/chaincode-invoice-net@sha256:82312774005ff9a0862a19b47a53e06ca2379fb99f2735033330504bb24e8c9d', 'lastState': {'terminated': {'containerID': 'docker://fd01d4fed8a2ea4ea8005d61bb3d2274fea067e94986d0f25d432e610e547c40', 'exitCode': 137, 'finishedAt': '2021-11-10T20:57:35Z', 'reason': 'Error', 'startedAt': '2021-11-10T16:02:25Z'}}, 'name': 'invoice-net-chaincode-external', 'ready': True, 'restartCount': 2, 'started': True, 'state': {'running': {'startedAt': '2021-11-10T20:58:28Z'}}}], 'hostIP': '10.14.128.38', 'phase': 'Running', 'podIP': '10.32.0.7', 'podIPs': [{'ip': '10.32.0.7'}], 'qosClass': 'BestEffort', 'startTime': '2021-10-22T09:19:35Z'}}\n"
     ]
    }
   ],
   "source": [
    "for item in _res['items']:\n",
    "    labels=item['metadata']['labels']\n",
    "    if labels['app'] == 'invoice-net-chaincode-external':\n",
    "        print(item)"
   ]
  },
  {
   "cell_type": "markdown",
   "metadata": {},
   "source": [
    "## addPeer"
   ]
  },
  {
   "cell_type": "code",
   "execution_count": 35,
   "metadata": {},
   "outputs": [],
   "source": [
    "def addPeer(peername):  \n",
    "    if peername in peers.keys():\n",
    "        return peers[peername]\n",
    "    # Create configuration for new peer\n",
    "    executeLocalCmd(['/bin/bash','-c','cd /home/jovyan/scray-ledger/containers/ && /home/jovyan/scray-ledger/containers/configure-deployment.sh -n ' + peername])\n",
    "    # Start service\n",
    "    executeKubectlCmd(['apply', '-f', '/home/jovyan/scray-ledger/containers/target/' + peername + '/k8s-peer-service.yaml'])\n",
    "    # Create peer configuration\n",
    "    res = createConfig(peername=peername,\n",
    "                       peer_listen_port=getPort(peername=peername, name='peer-listen'),\n",
    "                       peer_gossip_port=getPort(peername=peername, name='peer-gossip'))\n",
    "    # Start new peer\n",
    "    executeKubectlCmd(['apply', '-f','/home/jovyan/scray-ledger/containers/target/' + peername + '/k8s-peer.yaml'])\n",
    "    peer = kubernetespeer(name=peername)\n",
    "    peers[peername] = peer\n",
    "    return peer\n",
    "    \n",
    "# create, delete numbered peers\n",
    "def createPeers(base_name,start=0, end=10):\n",
    "    for x in range(start,end):\n",
    "        peername = base_name + '-' + str(x)\n",
    "        addPeer(peername)\n",
    "         \n",
    "def deletePeers(name):\n",
    "    for x in range(0,10):\n",
    "        peerneme = name + str(x)\n",
    "        deletePeer(peerneme)    \n",
    "  \n",
    "def deleteAllPeers(config):\n",
    "    for item in config['items']:\n",
    "        try:\n",
    "            if 'org_name' in item['data'].keys():\n",
    "                deletePeer(item['data']['org_name'])\n",
    "        except Exception as e:\n",
    "            print(item['data'])\n",
    "            \n",
    "\n",
    "### config            \n",
    "            \n",
    "import subprocess\n",
    "def deleteConfig(peername=''):\n",
    "    try:  \n",
    "        output  = subprocess.check_output(['/home/jovyan/work/usr/bin/kubectl', 'delete','configmap','hl-fabric-peer-' + peername])\n",
    "        return str(output)\n",
    "    except Exception as e:\n",
    "        return str(e)  \n",
    "        \n",
    "    \n",
    "def createConfig(peername='',peer_listen_port='',peer_gossip_port=''):\n",
    "    try:  \n",
    "        peer_host_name = peername + '.kubernetes.research.dev.seeburger.de'\n",
    "        output  = subprocess.check_output(['/home/jovyan/work/usr/bin/kubectl', 'create','configmap','hl-fabric-peer-' + peername,\n",
    "                                          '--from-literal=hostname=' + peer_host_name,\n",
    "                                          '--from-literal=org_name=' + peername,\n",
    "                                          '--from-literal=data_share=hl-fabric-data-share-service:80',\n",
    "                                          '--from-literal=CORE_PEER_ADDRESS=peer0.' + peer_host_name + ':' + peer_listen_port,\n",
    "                                          '--from-literal=CORE_PEER_GOSSIP_EXTERNALENDPOINT=' + peer_host_name + ':' + peer_gossip_port,\n",
    "                                          '--from-literal=CORE_PEER_LOCALMSPID=' + peername + 'MSP'])\n",
    "        return str(output)\n",
    "    except Exception as e:\n",
    "        return str(e)      \n",
    "    \n",
    "  \n",
    "##### execute\n",
    "\n",
    "def executePeerCmd(pod_name,cmd, cli='scray-peer-cli'):\n",
    "    try:  \n",
    "        #cmd1 = \"source /root/.bashrc && \"\n",
    "        cmd1 = ['/home/jovyan/work/usr/bin/kubectl', 'exec','-t', pod_name, '-c', cli,'--', '/bin/sh','-c',cmd]\n",
    "        #cmd1 = ['/home/jovyan/work/usr/bin/kubectl', 'exec','-t', pod_name, '-c', cli,'--', '/bin/sh','-c'] + cmd\n",
    "        print(toCmd(cmd1))\n",
    "        output  = subprocess.check_output(cmd1)\n",
    "        #output  = subprocess.check_output(['/home/jovyan/work/usr/bin/kubectl', 'exec', '--stdin' ,'--tty', pod_name, '-c', cli,'--', '/bin/sh','-c',cmd])\n",
    "        return output.decode('ascii')\n",
    "    except Exception as e:\n",
    "        return str(e)"
   ]
  },
  {
   "cell_type": "code",
   "execution_count": 5,
   "metadata": {},
   "outputs": [],
   "source": [
    "import kubernetesTool\n",
    "\n",
    "class kubernetespeer:\n",
    "    def __init__(self, name='',prefix='peer'):\n",
    "        self.name = name\n",
    "        self.pod_name = kubernetesTool.getPod(name)\n",
    "        self.listen_port = kubernetesTool.getPort(peername=name, name = prefix + '-listen')\n",
    "        self.gossip_port = kubernetesTool.getPort(peername=name, name = prefix + '-gossip')\n",
    "        # ????????\n",
    "        #print('kubernetespeer addBashEnvToPeer')\n",
    "        #addBashEnvToPeer(self)\n",
    "    def getCertificate(self):\n",
    "        try:\n",
    "            return str(subprocess.check_output(['cat', self.crt]))[2:-3]   \n",
    "        except Exception as e:\n",
    "            return str(e)      \n",
    "        \n",
    "class ordererpeer(kubernetespeer):\n",
    "    def __init__(self, name='',prefix='peer'):\n",
    "        super().__init__(name,prefix)\n",
    "        self.host = 'orderer.example.com'\n",
    "        self.orderer_intern = 7050\n",
    "        \n",
    "    # can change\n",
    "    def get_ip(self, app='orderer-org1-scray-org'):\n",
    "        return executeKubectlCmd(['get', 'pods','-l', 'app=' + app,'-o','jsonpath=\\'{.items[*].status.podIP}\\''])   \n",
    "    "
   ]
  },
  {
   "cell_type": "code",
   "execution_count": 6,
   "metadata": {},
   "outputs": [],
   "source": [
    "def toCmd(strlist):\n",
    "    return ''.join((str(e) + ' ') for e in strlist)[:-1]\n",
    "\n",
    "#!/home/jovyan/work/usr/bin/kubectl exec --stdin --tty $POD_NAME  -c scray-peer-cli -- /bin/sh /mnt/conf/peer_join.sh $ORDERER_IP  $ORDERER_HOSTNAME $CHANNEL_NAME         \n",
    "def joinHyperledger(peer,orderer_ip,orderer_hostname,orderer_port,channel_name,shared_fs_host,ext_peer_ip='10.15.136.41'):          \n",
    "    cmd = toCmd(['/mnt/conf/peer_join.sh', orderer_ip,orderer_hostname,orderer_port,channel_name,shared_fs_host,ext_peer_ip])\n",
    "    print(cmd)\n",
    "    return executePeerCmd(peer.pod_name, cmd)\n",
    "\n",
    "def endorse_peer(peer=None, orderer_ip='',channel_name='',shared_fs_host='',ext_peer_ip='10.15.136.41'):\n",
    "    print(peer.name)\n",
    "    peername = peer.name\n",
    "    peer_host_name = peername + '.kubernetes.research.dev.seeburger.de'\n",
    "    cmd = toCmd(['/mnt/conf/orderer/scripts/inform_existing_nodes.sh',orderer_ip,channel_name,peer.name,shared_fs_host,ext_peer_ip,peer_host_name]) \n",
    "    #print(cmd)\n",
    "    return executePeerCmd(orderer.pod_name,cmd,cli='scray-orderer-cli')\n",
    "\n",
    "def add_channel(name):\n",
    "    cmd1 = ['/mnt/conf/orderer/scripts/create_channel.sh', name, 'orderer.example.com', '7050']\n",
    "    cmd = toCmd(cmd1)\n",
    "    return executePeerCmd(orderer.pod_name, cmd1, cli='scray-orderer-cli')"
   ]
  },
  {
   "cell_type": "markdown",
   "metadata": {},
   "source": [
    "## create peers"
   ]
  },
  {
   "cell_type": "code",
   "execution_count": 26,
   "metadata": {},
   "outputs": [],
   "source": [
    "orderer = ordererpeer(name='orderer-org1-scray-org',prefix='orderer')\n",
    "\n",
    "\n",
    "orderer_ip=orderer.get_ip()\n",
    "orderer_hostname=orderer.host\n",
    "#orderer_port=orderer.orderer_intern\n",
    "orderer_port= orderer.listen_port\n",
    "\n",
    "channel_name='super55'\n",
    "shared_fs_host='10.14.128.38:30080'"
   ]
  },
  {
   "cell_type": "code",
   "execution_count": 10,
   "metadata": {},
   "outputs": [],
   "source": [
    "def endorse_and_join(peer):    \n",
    "    res1 = endorse_peer(peer=peer,orderer_ip=orderer_ip,channel_name=channel_name,shared_fs_host='10.14.128.38:30080')   \n",
    "    res2  = joinHyperledger(peer,orderer_ip,orderer_hostname,orderer_port,channel_name,shared_fs_host)\n",
    "    return res1,res2"
   ]
  },
  {
   "cell_type": "code",
   "execution_count": 12,
   "metadata": {},
   "outputs": [],
   "source": [
    "peers = {}"
   ]
  },
  {
   "cell_type": "code",
   "execution_count": 14,
   "metadata": {},
   "outputs": [],
   "source": [
    "createPeers('aabby',start=0, end=2)"
   ]
  },
  {
   "cell_type": "code",
   "execution_count": 27,
   "metadata": {},
   "outputs": [],
   "source": [
    "## endorse and join\n",
    "\n",
    "import ipywidgets as widgets\n",
    "out2 = widgets.Output()\n",
    "\n",
    "with out2:\n",
    "    for key, value in peers.items():\n",
    "        endorse_and_join(value)"
   ]
  },
  {
   "cell_type": "code",
   "execution_count": 28,
   "metadata": {},
   "outputs": [
    {
     "data": {
      "application/vnd.jupyter.widget-view+json": {
       "model_id": "5585f73c93cd4b8fb1e41801de8407d7",
       "version_major": 2,
       "version_minor": 0
      },
      "text/plain": [
       "Output(outputs=({'name': 'stdout', 'text': \"Aabby-0\\n/home/jovyan/work/usr/bin/kubectl exec -t orderer-org1-sc…"
      ]
     },
     "metadata": {},
     "output_type": "display_data"
    }
   ],
   "source": [
    "out2"
   ]
  },
  {
   "cell_type": "code",
   "execution_count": 16,
   "metadata": {},
   "outputs": [],
   "source": [
    "peername='zalya-3'\n",
    "peer = kubernetespeer(name=peername)\n",
    "peers[peername] = peer"
   ]
  },
  {
   "cell_type": "code",
   "execution_count": null,
   "metadata": {},
   "outputs": [],
   "source": [
    "'zalya-0'"
   ]
  },
  {
   "cell_type": "code",
   "execution_count": null,
   "metadata": {},
   "outputs": [],
   "source": [
    "peers['zalya-1'].__dict__\n",
    "#peers"
   ]
  },
  {
   "cell_type": "code",
   "execution_count": null,
   "metadata": {},
   "outputs": [],
   "source": [
    "addPeer('zalya-3')"
   ]
  },
  {
   "cell_type": "code",
   "execution_count": null,
   "metadata": {},
   "outputs": [],
   "source": [
    "orderer.__dict__"
   ]
  },
  {
   "cell_type": "code",
   "execution_count": null,
   "metadata": {},
   "outputs": [],
   "source": [
    "kubectl exec --stdin --tty $ORDERER_POD -c scray-orderer-cli  -- /bin/sh /mnt/conf/orderer/scripts/inform_existing_nodes.sh $ORDERER_IP $CHANNEL_NAME $PEER_NAME $SHARED_FS_HOST $EXT_PEER_IP $PEER_HOST_NAME"
   ]
  },
  {
   "cell_type": "code",
   "execution_count": null,
   "metadata": {},
   "outputs": [],
   "source": [
    "EER_POD_NAME=$(kubectl get pod -l app=$PEER_NAME -o jsonpath=\"{.items[0].metadata.name}\")\n",
    " ORDERER_PORT=$(kubectl get service orderer-org1-scray-org -o jsonpath=\"{.spec.ports[?(@.name=='orderer-listen')].nodePort}\")\n",
    " ORDERER_PORT=7050\n",
    " PEER_PORT=$(kubectl get service $PEER_NAME -o jsonpath=\"{.spec.ports[?(@.name=='peer-listen')].nodePort}\")\n",
    " kubectl exec --stdin --tty $PEER_POD_NAME  -c scray-peer-cli -- /bin/sh /mnt/conf/peer_join.sh $ORDERER_IP  $ORDERER_HOSTNAME $ORDERER_PORT $CHANNEL_NAME $SHARED_FS_HOST $EXT_PEER_IP"
   ]
  },
  {
   "cell_type": "code",
   "execution_count": null,
   "metadata": {},
   "outputs": [],
   "source": []
  },
  {
   "cell_type": "code",
   "execution_count": null,
   "metadata": {},
   "outputs": [],
   "source": [
    "endorse_and_join(peers['zalya-3'])"
   ]
  },
  {
   "cell_type": "code",
   "execution_count": null,
   "metadata": {},
   "outputs": [],
   "source": [
    "installAndAproveChaincode(peers['zalya-1'],orderer,channel_name)\n"
   ]
  },
  {
   "cell_type": "code",
   "execution_count": null,
   "metadata": {},
   "outputs": [],
   "source": [
    "#out2.outputs[1]['text'].splitlines()"
   ]
  },
  {
   "cell_type": "code",
   "execution_count": null,
   "metadata": {},
   "outputs": [],
   "source": [
    "#!/home/jovyan/work/usr/bin/kubectl exec -t orderer-org1-scray-org-5f97c57d44-j5mbs -c scray-orderer-cli -- /bin/sh -c /mnt/conf/orderer/scripts/inform_existing_nodes.sh '10.32.0.5' super40 kalya-0 10.14.128.38:30080 10.15.136.41 kalya-0.kubernetes.research.dev.seeburger.de"
   ]
  },
  {
   "cell_type": "code",
   "execution_count": null,
   "metadata": {},
   "outputs": [],
   "source": [
    "name='peer-gossip'\n",
    "callopt= 'jsonpath=\\\"{.spec.ports[?(@.name==\\'' + name + '\\')].nodePort}\\\"'\n",
    "callopt"
   ]
  },
  {
   "cell_type": "markdown",
   "metadata": {},
   "source": [
    "## install chaincode"
   ]
  },
  {
   "cell_type": "code",
   "execution_count": 133,
   "metadata": {},
   "outputs": [],
   "source": [
    "def installAndAproveChaincode(peer,orderer,channel_name,cc_host='10.14.128.38',pkgid='',cc_hostname='asset-transfer-basic.org1.example.com',cc_label='basic_1.0',shared_fs='kubernetes.research.dev.seeburger.de:30080', sequence=1):\n",
    "    #!/home/jovyan/work/usr/bin/kubectl exec --stdin --tty $POD_NAME -c scray-peer-cli -- /bin/sh /mnt/conf/install_and_approve_cc.sh $IP_CC_SERVICE $IP_OF_EXAMPLE_NETWORK\n",
    "    #strlist = ['/mnt/conf/install_and_approve_cc.sh', cc_host, orderer.get_ip(), orderer.host, str(orderer.orderer_intern), channel_name ]\n",
    "    strlist = ['/mnt/conf/install_and_approve_cc.sh', cc_host, orderer.get_ip(), orderer.host, str(orderer.listen_port), channel_name,pkgid,cc_hostname, cc_label,shared_fs, str(sequence) ]\n",
    "    print(toCmd(strlist))\n",
    "    return executePeerCmd(peer.pod_name,toCmd(strlist)) \n",
    "\n",
    "def commitChaincode(peer,channel_name,sequence=1,pkgid=''):\n",
    "    strlist = ['/mnt/conf/peer/cc_commit.sh', channel_name, str(sequence),pkgid ]\n",
    "    print(toCmd(strlist))\n",
    "    return executePeerCmd(peer.pod_name,toCmd(strlist)) "
   ]
  },
  {
   "cell_type": "code",
   "execution_count": 157,
   "metadata": {},
   "outputs": [
    {
     "name": "stdout",
     "output_type": "stream",
     "text": [
      "/home/jovyan/work/usr/bin/kubectl exec -t aabby-0-6859c54c76-gvdqw -c scray-peer-cli -- /bin/sh -c apk add curl\n",
      "curl https://raw.githubusercontent.com/scray/scray-ledger/develop/containers/hl-fabric-node-configurator/conf/install_and_approve_cc.sh -o /mnt/conf/install_and_approve_cc.sh\n",
      "/home/jovyan/work/usr/bin/kubectl exec -t aabby-0-6859c54c76-gvdqw -c scray-peer-cli -- /bin/sh -c curl https://raw.githubusercontent.com/scray/scray-ledger/develop/containers/hl-fabric-node-configurator/conf/install_and_approve_cc.sh -o /mnt/conf/install_and_approve_cc.sh\n"
     ]
    },
    {
     "name": "stderr",
     "output_type": "stream",
     "text": [
      "  % Total    % Received % Xferd  Average Speed   Time    Time     Time  Current\n",
      "                                 Dload  Upload   Total   Spent    Left  Speed\n",
      "100  1515  100  1515    0     0   6446      0 --:--:-- --:--:-- --:--:--  6446\n"
     ]
    },
    {
     "name": "stdout",
     "output_type": "stream",
     "text": [
      "/home/jovyan/work/usr/bin/kubectl exec -t aabby-0-6859c54c76-gvdqw -c scray-peer-cli -- /bin/sh -c chmod 755 /mnt/conf/install_and_approve_cc.sh\n",
      "curl https://raw.githubusercontent.com/scray/scray-ledger/develop/containers/hl-fabric-node-configurator/conf/peer/cc_commit.sh -o /mnt/conf/peer/cc_commit.sh\n",
      "/home/jovyan/work/usr/bin/kubectl exec -t aabby-0-6859c54c76-gvdqw -c scray-peer-cli -- /bin/sh -c curl https://raw.githubusercontent.com/scray/scray-ledger/develop/containers/hl-fabric-node-configurator/conf/peer/cc_commit.sh -o /mnt/conf/peer/cc_commit.sh\n"
     ]
    },
    {
     "name": "stderr",
     "output_type": "stream",
     "text": [
      "  % Total    % Received % Xferd  Average Speed   Time    Time     Time  Current\n",
      "                                 Dload  Upload   Total   Spent    Left  Speed\n",
      "100   812  100   812    0     0   3530      0 --:--:-- --:--:-- --:--:--  3515\n"
     ]
    },
    {
     "name": "stdout",
     "output_type": "stream",
     "text": [
      "/home/jovyan/work/usr/bin/kubectl exec -t aabby-0-6859c54c76-gvdqw -c scray-peer-cli -- /bin/sh -c chmod 755 /mnt/conf/peer/cc_commit.sh\n",
      "/home/jovyan/work/usr/bin/kubectl exec -t aabby-1-5ff5b8677f-kvfl7 -c scray-peer-cli -- /bin/sh -c apk add curl\n",
      "curl https://raw.githubusercontent.com/scray/scray-ledger/develop/containers/hl-fabric-node-configurator/conf/install_and_approve_cc.sh -o /mnt/conf/install_and_approve_cc.sh\n",
      "/home/jovyan/work/usr/bin/kubectl exec -t aabby-1-5ff5b8677f-kvfl7 -c scray-peer-cli -- /bin/sh -c curl https://raw.githubusercontent.com/scray/scray-ledger/develop/containers/hl-fabric-node-configurator/conf/install_and_approve_cc.sh -o /mnt/conf/install_and_approve_cc.sh\n"
     ]
    },
    {
     "name": "stderr",
     "output_type": "stream",
     "text": [
      "  % Total    % Received % Xferd  Average Speed   Time    Time     Time  Current\n",
      "                                 Dload  Upload   Total   Spent    Left  Speed\n",
      "100  1515  100  1515    0     0  40945      0 --:--:-- --:--:-- --:--:-- 40945\n"
     ]
    },
    {
     "name": "stdout",
     "output_type": "stream",
     "text": [
      "/home/jovyan/work/usr/bin/kubectl exec -t aabby-1-5ff5b8677f-kvfl7 -c scray-peer-cli -- /bin/sh -c chmod 755 /mnt/conf/install_and_approve_cc.sh\n",
      "curl https://raw.githubusercontent.com/scray/scray-ledger/develop/containers/hl-fabric-node-configurator/conf/peer/cc_commit.sh -o /mnt/conf/peer/cc_commit.sh\n",
      "/home/jovyan/work/usr/bin/kubectl exec -t aabby-1-5ff5b8677f-kvfl7 -c scray-peer-cli -- /bin/sh -c curl https://raw.githubusercontent.com/scray/scray-ledger/develop/containers/hl-fabric-node-configurator/conf/peer/cc_commit.sh -o /mnt/conf/peer/cc_commit.sh\n"
     ]
    },
    {
     "name": "stderr",
     "output_type": "stream",
     "text": [
      "  % Total    % Received % Xferd  Average Speed   Time    Time     Time  Current\n",
      "                                 Dload  Upload   Total   Spent    Left  Speed\n",
      "100   812  100   812    0     0  21368      0 --:--:-- --:--:-- --:--:-- 21945\n"
     ]
    },
    {
     "name": "stdout",
     "output_type": "stream",
     "text": [
      "/home/jovyan/work/usr/bin/kubectl exec -t aabby-1-5ff5b8677f-kvfl7 -c scray-peer-cli -- /bin/sh -c chmod 755 /mnt/conf/peer/cc_commit.sh\n"
     ]
    }
   ],
   "source": [
    "for key, peer in peers.items():\n",
    "    executePeerCmd(peer.pod_name,'apk add curl')\n",
    "    strlist = ['curl', 'https://raw.githubusercontent.com/scray/scray-ledger/develop/containers/hl-fabric-node-configurator/conf/install_and_approve_cc.sh', '-o', '/mnt/conf/install_and_approve_cc.sh']\n",
    "    cmd = toCmd(strlist)\n",
    "    print(cmd)\n",
    "    output = executePeerCmd(peer.pod_name,  cmd)\n",
    "    executePeerCmd(peer.pod_name,'chmod 755 /mnt/conf/install_and_approve_cc.sh')\n",
    "    strlist = ['curl', 'https://raw.githubusercontent.com/scray/scray-ledger/develop/containers/hl-fabric-node-configurator/conf/peer/cc_commit.sh', '-o', '/mnt/conf/peer/cc_commit.sh']\n",
    "    cmd = toCmd(strlist)\n",
    "    print(cmd)\n",
    "    output = executePeerCmd(peer.pod_name,  cmd)\n",
    "    executePeerCmd(peer.pod_name,'chmod 755 /mnt/conf/peer/cc_commit.sh')"
   ]
  },
  {
   "cell_type": "code",
   "execution_count": null,
   "metadata": {},
   "outputs": [],
   "source": [
    " "
   ]
  },
  {
   "cell_type": "code",
   "execution_count": 140,
   "metadata": {},
   "outputs": [],
   "source": [
    "shared_fs='kubernetes.research.dev.seeburger.de:30080'\n",
    "cc_hostname='invoice-net.org1.example.com'\n",
    "cc_host='10.14.128.38'\n",
    "cc_service_name='hl-fabric-cc-external-invoice-net'\n",
    "cc_port = executeKubectlCmd(['get', 'service', cc_service_name, '-o', 'jsonpath=\"{.spec.ports[?(@.name==\\'chaincode\\')].nodePort}\"'], decode='json')\n",
    "cc_label='basic_1.0'"
   ]
  },
  {
   "cell_type": "code",
   "execution_count": 139,
   "metadata": {},
   "outputs": [
    {
     "data": {
      "text/plain": [
       "'30489'"
      ]
     },
     "execution_count": 139,
     "metadata": {},
     "output_type": "execute_result"
    }
   ],
   "source": [
    "cc_port"
   ]
  },
  {
   "cell_type": "code",
   "execution_count": 141,
   "metadata": {},
   "outputs": [
    {
     "name": "stdout",
     "output_type": "stream",
     "text": [
      "/home/jovyan/work/usr/bin/kubectl exec -t aabby-0-6859c54c76-gvdqw -c scray-peer-cli -- /bin/sh -c curl -s --user scray:scray http://kubernetes.research.dev.seeburger.de:30080/cc_descriptions/invoice-net.org1.example.com_basic_1.0/description-hash.json\n"
     ]
    }
   ],
   "source": [
    "strlist = ['curl','-s','--user','scray:scray','http://' + shared_fs + '/cc_descriptions/' + cc_hostname + '_' + cc_label + '/description-hash.json']\n",
    "cmd = toCmd(strlist)\n",
    "output = executePeerCmd(peer.pod_name,  cmd)\n",
    "pkgid = json.loads(output[:-1])['description-hash']"
   ]
  },
  {
   "cell_type": "code",
   "execution_count": 158,
   "metadata": {},
   "outputs": [
    {
     "name": "stdout",
     "output_type": "stream",
     "text": [
      "/mnt/conf/install_and_approve_cc.sh 10.14.128.38 '10.32.0.5' orderer.example.com 30081 super55 basic_1.0:a16a9f7ab92fae0f5268f0f289e7158de179a1a2d3dfbcf3cf480fe41886da77 invoice-net.org1.example.com basic_1.0 kubernetes.research.dev.seeburger.de:30080 1\n",
      "/home/jovyan/work/usr/bin/kubectl exec -t aabby-0-6859c54c76-gvdqw -c scray-peer-cli -- /bin/sh -c /mnt/conf/install_and_approve_cc.sh 10.14.128.38 '10.32.0.5' orderer.example.com 30081 super55 basic_1.0:a16a9f7ab92fae0f5268f0f289e7158de179a1a2d3dfbcf3cf480fe41886da77 invoice-net.org1.example.com basic_1.0 kubernetes.research.dev.seeburger.de:30080 1\n"
     ]
    },
    {
     "name": "stderr",
     "output_type": "stream",
     "text": [
      "  % Total    % Received % Xferd  Average Speed   Time    Time     Time  Current\n",
      "                                 Dload  Upload   Total   Spent    Left  Speed\n",
      "100   431  100   431    0     0  15962      0 --:--:-- --:--:-- --:--:-- 15962\n",
      "Error: chaincode install failed with status: 500 - failed to invoke backing implementation of 'InstallChaincode': chaincode already successfully installed\n",
      "Error: proposal failed with status: 500 - failed to invoke backing implementation of 'ApproveChaincodeDefinitionForMyOrg': attempted to redefine uncommitted sequence (7) for namespace basic with unchanged content\n"
     ]
    },
    {
     "name": "stdout",
     "output_type": "stream",
     "text": [
      "/mnt/conf/install_and_approve_cc.sh 10.14.128.38 '10.32.0.5' orderer.example.com 30081 super55 basic_1.0:a16a9f7ab92fae0f5268f0f289e7158de179a1a2d3dfbcf3cf480fe41886da77 invoice-net.org1.example.com basic_1.0 kubernetes.research.dev.seeburger.de:30080 1\n",
      "/home/jovyan/work/usr/bin/kubectl exec -t aabby-1-5ff5b8677f-kvfl7 -c scray-peer-cli -- /bin/sh -c /mnt/conf/install_and_approve_cc.sh 10.14.128.38 '10.32.0.5' orderer.example.com 30081 super55 basic_1.0:a16a9f7ab92fae0f5268f0f289e7158de179a1a2d3dfbcf3cf480fe41886da77 invoice-net.org1.example.com basic_1.0 kubernetes.research.dev.seeburger.de:30080 1\n"
     ]
    },
    {
     "name": "stderr",
     "output_type": "stream",
     "text": [
      "  % Total    % Received % Xferd  Average Speed   Time    Time     Time  Current\n",
      "                                 Dload  Upload   Total   Spent    Left  Speed\n",
      "100   431  100   431    0     0  39181      0 --:--:-- --:--:-- --:--:-- 39181\n",
      "Error: chaincode install failed with status: 500 - failed to invoke backing implementation of 'InstallChaincode': chaincode already successfully installed\n",
      "Error: proposal failed with status: 500 - failed to invoke backing implementation of 'ApproveChaincodeDefinitionForMyOrg': attempted to redefine uncommitted sequence (7) for namespace basic with unchanged content\n"
     ]
    }
   ],
   "source": [
    "for key, peer in peers.items():\n",
    "    installAndAproveChaincode(peer,orderer,channel_name,cc_host=cc_host,pkgid=pkgid,cc_hostname=cc_hostname,cc_label=cc_label,shared_fs=shared_fs, sequence=1)"
   ]
  },
  {
   "cell_type": "code",
   "execution_count": 159,
   "metadata": {},
   "outputs": [
    {
     "name": "stdout",
     "output_type": "stream",
     "text": [
      "/mnt/conf/peer/cc_commit.sh super55 1 basic_1.0:a16a9f7ab92fae0f5268f0f289e7158de179a1a2d3dfbcf3cf480fe41886da77\n",
      "/home/jovyan/work/usr/bin/kubectl exec -t aabby-0-6859c54c76-gvdqw -c scray-peer-cli -- /bin/sh -c /mnt/conf/peer/cc_commit.sh super55 1 basic_1.0:a16a9f7ab92fae0f5268f0f289e7158de179a1a2d3dfbcf3cf480fe41886da77\n"
     ]
    },
    {
     "name": "stderr",
     "output_type": "stream",
     "text": [
      "\u001b[34m2021-11-15 14:24:11.719 UTC [chaincodeCmd] ClientWait -> INFO 001\u001b[0m txid [e7101614e66ecb16e9fc446c60ba593a1997884c797ed4982b70f4a30f43e890] committed with status (VALID) at peer0.aabby-0.kubernetes.research.dev.seeburger.de:30149\n"
     ]
    },
    {
     "data": {
      "text/plain": [
       "\"Installed chaincode\\nInstalled chaincodes on peer:\\nPackage ID: basic_1.0:19e4e39a2a3e13f9cd130d9d8b57207a2ac09b533f9fcc87506a253719a7b739, Label: basic_1.0\\nPackage ID: basic_1.0:a16a9f7ab92fae0f5268f0f289e7158de179a1a2d3dfbcf3cf480fe41886da77, Label: basic_1.0\\nPackage ID: basic_1.0:fd7a1dd538bca88611519d55085d7dcc59218bfcdfc32d1d1adc7f9359e69240, Label: basic_1.0\\nChaincode definition for chaincode 'basic', version '1.0', sequence '7' on channel 'super55' approval status by org:\\nAdminOrgMSP: false\\naabby-0MSP: true\\naabby-1MSP: true\\n\""
      ]
     },
     "execution_count": 159,
     "metadata": {},
     "output_type": "execute_result"
    }
   ],
   "source": [
    "\n",
    "peer = peers['aabby-0']\n",
    "#peer = list(peers.values())[0]\n",
    "commitChaincode(peer,channel_name,sequence=1,pkgid=pkgid)"
   ]
  },
  {
   "cell_type": "code",
   "execution_count": null,
   "metadata": {},
   "outputs": [],
   "source": [
    "#channel_name\n",
    "#orderer.__dict__\n",
    "#peers['ralya-0'].pod_name\n",
    "peers['zalya-0'].__dict__ , channel_name"
   ]
  },
  {
   "cell_type": "code",
   "execution_count": null,
   "metadata": {},
   "outputs": [],
   "source": [
    "installAndAproveChaincode(peers['zalya-1'],orderer,channel_name,sequence=2)\n"
   ]
  },
  {
   "cell_type": "code",
   "execution_count": null,
   "metadata": {},
   "outputs": [],
   "source": [
    "#commitChaincode(peers['zalya-1'],channel_name,sequence=2)\n",
    "chaincode_init(peers['zalya-1'],channel_name)"
   ]
  },
  {
   "cell_type": "code",
   "execution_count": null,
   "metadata": {},
   "outputs": [],
   "source": [
    "peers['zalya-2'].pod_name"
   ]
  },
  {
   "cell_type": "code",
   "execution_count": null,
   "metadata": {},
   "outputs": [],
   "source": [
    "def downloadToPeer(peer, orgs, execute_org='schalke3'):\n",
    "    executePeerCmd(peer.pod_name,toCmd(downloadToLocalCmdList(local_path='/tmp', remote_name=getCrtName(org))))   "
   ]
  },
  {
   "cell_type": "code",
   "execution_count": 45,
   "metadata": {},
   "outputs": [
    {
     "data": {
      "text/plain": [
       "{'aabby-0': <__main__.kubernetespeer at 0x7fe41472ccd0>,\n",
       " 'aabby-1': <__main__.kubernetespeer at 0x7fe41463bbb0>}"
      ]
     },
     "execution_count": 45,
     "metadata": {},
     "output_type": "execute_result"
    }
   ],
   "source": [
    "peers"
   ]
  },
  {
   "cell_type": "code",
   "execution_count": 18,
   "metadata": {},
   "outputs": [
    {
     "name": "stdout",
     "output_type": "stream",
     "text": [
      "/home/jovyan/work/usr/bin/kubectl exec -t zalya-0-6cf64f96b4-vv4mp -c scray-peer-cli -- /bin/sh -c apk add curl\n"
     ]
    },
    {
     "data": {
      "text/plain": [
       "'fetch http://dl-cdn.alpinelinux.org/alpine/v3.12/main/x86_64/APKINDEX.tar.gz\\nfetch http://dl-cdn.alpinelinux.org/alpine/v3.12/community/x86_64/APKINDEX.tar.gz\\n(1/1) Installing curl (7.79.1-r0)\\nExecuting busybox-1.31.1-r16.trigger\\nOK: 29 MiB in 28 packages\\n'"
      ]
     },
     "execution_count": 18,
     "metadata": {},
     "output_type": "execute_result"
    }
   ],
   "source": [
    "peer = peers['zalya-0']\n",
    "executePeerCmd(peer.pod_name,'apk add curl')"
   ]
  },
  {
   "cell_type": "code",
   "execution_count": 20,
   "metadata": {},
   "outputs": [
    {
     "data": {
      "text/plain": [
       "'zalya-0-6cf64f96b4-vv4mp'"
      ]
     },
     "execution_count": 20,
     "metadata": {},
     "output_type": "execute_result"
    }
   ],
   "source": [
    "peer.pod_name"
   ]
  },
  {
   "cell_type": "code",
   "execution_count": null,
   "metadata": {},
   "outputs": [],
   "source": [
    "peer=kubernetespeer(name='oalya-0')\n",
    "channel_name='super45'"
   ]
  },
  {
   "cell_type": "code",
   "execution_count": null,
   "metadata": {},
   "outputs": [],
   "source": [
    "peer.name, channel_name"
   ]
  },
  {
   "cell_type": "code",
   "execution_count": null,
   "metadata": {},
   "outputs": [],
   "source": [
    "!/home/jovyan/work/usr/bin/kubectl exec --stdin --tty lalya-0-7c887cffb8-fpw7h -c scray-peer-cli -- /bin/sh /mnt/conf/peer/cc-basic-interaction.sh  super43"
   ]
  },
  {
   "cell_type": "code",
   "execution_count": 70,
   "metadata": {},
   "outputs": [
    {
     "name": "stdout",
     "output_type": "stream",
     "text": [
      "/mnt/conf/peer/cc-basic-interaction.sh super55\n",
      "/home/jovyan/work/usr/bin/kubectl exec -t aabby-0-6859c54c76-gvdqw -c scray-peer-cli -- /bin/sh -c /mnt/conf/peer/cc-basic-interaction.sh super55\n"
     ]
    },
    {
     "name": "stderr",
     "output_type": "stream",
     "text": [
      "Error: endorsement failure during invoke. response: status:500 message:\"make sure the chaincode basic has been successfully defined on channel super55 and try again: chaincode definition for 'basic' exists, but chaincode is not installed\" \n",
      "Error: endorsement failure during query. response: status:500 message:\"make sure the chaincode basic has been successfully defined on channel super55 and try again: chaincode definition for 'basic' exists, but chaincode is not installed\" \n",
      "command terminated with exit code 1\n"
     ]
    },
    {
     "data": {
      "text/plain": [
       "\"Command '['/home/jovyan/work/usr/bin/kubectl', 'exec', '-t', 'aabby-0-6859c54c76-gvdqw', '-c', 'scray-peer-cli', '--', '/bin/sh', '-c', '/mnt/conf/peer/cc-basic-interaction.sh super55']' returned non-zero exit status 1.\""
      ]
     },
     "execution_count": 70,
     "metadata": {},
     "output_type": "execute_result"
    }
   ],
   "source": [
    "#Call init method in chaincode\n",
    "def chaincode_init(peer,channel_name):\n",
    "    strlist = ['/mnt/conf/peer/cc-basic-interaction.sh', channel_name ]\n",
    "    print(toCmd(strlist))\n",
    "    return executePeerCmd(peer.pod_name,toCmd(strlist)) \n",
    "\n",
    "chaincode_init(peer,channel_name)"
   ]
  },
  {
   "cell_type": "code",
   "execution_count": null,
   "metadata": {},
   "outputs": [],
   "source": [
    "externalbuilder/builds/basic_1.0-21ee1256844f847e196af6aec17c5cafa76d8bd652d6ef42c3058e52571030b4/release/chaincode/server/c"
   ]
  },
  {
   "cell_type": "code",
   "execution_count": null,
   "metadata": {},
   "outputs": [],
   "source": [
    "peers['nalya-0'].pod_name"
   ]
  },
  {
   "cell_type": "code",
   "execution_count": null,
   "metadata": {},
   "outputs": [],
   "source": [
    "CHANNEL_NAME='super44'\n",
    "#ORDERER_NAME=orderer.example.com\n",
    "IP_CC_SERVICE='10.14.128.38'         # Host where the chaincode is running\n",
    "#PEER_POD=$(kubectl get pod -l app=$PEER_NAME -o jsonpath=\"{.items[0].metadata.name}\")\n",
    "#ORDERER_IP=$(kubectl get pods  -l app=orderer-org1-scray-org -o jsonpath='{.items[*].status.podIP}')\n",
    "#ORDERER_LISTEN_PORT=$(kubectl get service orderer-org1-scray-org -o jsonpath=\"{.spec.ports[?(@.name=='orderer-listen')].nodePort}\")\n",
    "#ORDERER_HOST=orderer.example.com\n",
    "EXT_PEER_IP=\"10.14.128.38\"\n",
    "PEER_POD=\"nalya-0-5494459f47-v7msj\"\n",
    "\n",
    "ORDERER_PORT=$(kubectl get service orderer-org1-scray-org -o jsonpath=\"{.spec.ports[?(@.name=='orderer-listen')].nodePort}\")\n",
    "ORDERER_PORT=30081\n",
    "ORDERER_IP=$(kubectl get pods  -l app=orderer-org1-scray-org -o jsonpath='{.items[*].status.podIP}')\n",
    "\n",
    "kubectl exec --stdin --tty $PEER_POD -c scray-peer-cli -- /bin/sh /mnt/conf/install_and_approve_cc.sh $IP_CC_SERVICE $ORDERER_IP $ORDERER_HOST $ORDERER_PORT $CHANNEL_NAME "
   ]
  },
  {
   "cell_type": "code",
   "execution_count": null,
   "metadata": {},
   "outputs": [],
   "source": [
    "#peers.keys()\n",
    "#[elem for elem in peers.values()]\n",
    "list(peers.values())[0].__dict__"
   ]
  },
  {
   "cell_type": "markdown",
   "metadata": {},
   "source": [
    "# invoice functions"
   ]
  },
  {
   "cell_type": "code",
   "execution_count": 49,
   "metadata": {},
   "outputs": [],
   "source": [
    "#kubectl exec --stdin --tty $PEER_POD -c scray-peer-cli -- /bin/sh /mnt/conf/peer/add-invoice.sh  $CHANNEL_NAME $INVOICE_ID\n",
    "\n",
    "def get_certificate_string(peername):\n",
    "    return 'x509::CN=User1@' + peername + '.kubernetes.research.dev.seeburger.de,OU=client,L=Bretten,ST=Baden,C=DE::CN=ca.' + peername + '.kubernetes.research.dev.seeburger.de,O=' + peername + '.kubernetes.research.dev.seeburger.de,L=Bretten,ST=Baden,C=DE'\n",
    "    #return 'x509::CN=User1@' + peername + '.kubernetes.research.dev.seeburger.de,OU=client,L=Bretten,ST=Baden,C=DE::CN=ca.' + peername + '.kubernetes.research.dev.seeburger.de,O=' + peername + '.kubernetes.research.dev.seeburger.de,L=Bretten,ST=Baden,C=DE,C=DEdx509::CN=User1@' + peername + '.kubernetes.research.dev.seeburger.de,OU=client,L=Bretten,ST=Baden,C=DE::CN=ca.' + peername + '.kubernetes.research.dev.seeburger.de,O=' + peername + '.kubernetes.research.dev.seeburger.de,L=Bretten,ST=Baden,C=DE'\n",
    "\n",
    "def chaincode_add_invoice(peer,channel_name,invoice_id,buyer):\n",
    "    strlist = ['/mnt/conf/peer/add-invoice.sh', channel_name,invoice_id,get_certificate_string(buyer)]\n",
    "    print(toCmd(strlist))\n",
    "    return executePeerCmd(peer.pod_name,toCmd(strlist)) \n"
   ]
  },
  {
   "cell_type": "markdown",
   "metadata": {},
   "source": [
    "## invoice usecase"
   ]
  },
  {
   "cell_type": "code",
   "execution_count": 170,
   "metadata": {},
   "outputs": [
    {
     "data": {
      "text/plain": [
       "['aabby-0', 'aabby-1']"
      ]
     },
     "execution_count": 170,
     "metadata": {},
     "output_type": "execute_result"
    }
   ],
   "source": [
    "peernames = list(peers.keys())\n",
    "peernames"
   ]
  },
  {
   "cell_type": "code",
   "execution_count": 162,
   "metadata": {},
   "outputs": [],
   "source": [
    "import json\n",
    "\n",
    "def getHostname(peer):\n",
    "    return executePeerCmd(peer.pod_name,'echo $HOSTNAME')[:-1]\n",
    "\n",
    "def getExport_MSPCONFIGPATH(hostname,user='User1'):\n",
    "    #user = 'User1'\n",
    "    #user = 'otto'\n",
    "    #path = '/mnt/conf/organizations/peerOrganizations/' + hostname + '/users/User1@' + hostname + '/msp/'\n",
    "    path = '/mnt/conf/organizations/peerOrganizations/' + hostname + '/users/' + user + '@' + hostname + '/msp/'\n",
    "    return 'export CORE_PEER_MSPCONFIGPATH=' + path\n",
    "    \n",
    "def getArgList(asset):\n",
    "    if isinstance(asset, dict):\n",
    "        asset = asset.values()\n",
    "    return '[' + ''.join(('\\\"' + str(e) + '\\\",') for e in asset)[:-1] + ']' \n",
    "\n",
    "def invoke(peer,callopt):\n",
    "    export_cmd = getExport_MSPCONFIGPATH(getHostname(peer))\n",
    "    cmd0 = str('\\'' + callopt + \"\\'\")\n",
    "    strlist = ['peer', 'chaincode', 'invoke', '-o', 'orderer.example.com:30081', '--tls', '--cafile', '/tmp/tlsca.example.com-cert.pem','-C', channel_name, '-n', 'basic', '-c', cmd0]\n",
    "    cmd = toCmd(strlist)\n",
    "    print(cmd)  \n",
    "    output = executePeerCmd(peer.pod_name, export_cmd + '  && ' + cmd)\n",
    "    return output\n",
    "\n",
    "def query(peer, callopt, user='User1'):\n",
    "    try:\n",
    "        export_cmd = getExport_MSPCONFIGPATH(getHostname(peer),user=user)\n",
    "        #hostname = getHostname(peer)\n",
    "        #path = '/mnt/conf/organizations/peerOrganizations/' + hostname + '/users/' + 'User1' + '@' + hostname + '/msp/'\n",
    "        cmd0 = str('\\'' + callopt + \"\\'\")\n",
    "        strlist = ['peer', 'chaincode', 'query', '-C', channel_name, '-n', 'basic', '-c', cmd0]\n",
    "        #strlist = ['peer', 'chaincode', 'query', '-C', channel_name, '-n', 'basic', '-c', cmd0,'--cafile',path + 'cacerts/ca.zalya-0.kubernetes.research.dev.seeburger.de-cert.pem' , '--certfile',path + 'signcerts/User1@zalya-0.kubernetes.research.dev.seeburger.de-cert.pem' ,'--keyfile', path + 'keystore/priv_sk']\n",
    "        cmd = toCmd(strlist)\n",
    "        print(cmd)\n",
    "        output = executePeerCmd(peer.pod_name, export_cmd + '  && ' + cmd)\n",
    "        #output = executePeerCmd(peer.pod_name, cmd)           \n",
    "        return json.loads(output)\n",
    "    except Exception as e:\n",
    "        #print(e)\n",
    "        return output\n",
    "    \n",
    "def getAllAssets(peer):\n",
    "    callopt= '{\"function\":\"GetAllAssets\",\"Args\":[' + ']}'\n",
    "    return query(peer,callopt)    \n",
    "    \n",
    "def readAsset(peer, asset='asset1'):\n",
    "    callopt= '{\"function\":\"ReadAsset\",\"Args\":[' + '\\\"' + asset + '\\\"' + ']}'\n",
    "    return query(peer,callopt)\n",
    "\n",
    "def readAssetTest(peer, asset='asset1'):\n",
    "    callopt= '{\"function\":\"ReadAssetTest\",\"Args\":[' + '\\\"' + asset + '\\\"' + ']}'\n",
    "    return query(peer,callopt)\n",
    "    \n",
    "def createAsset(peer,arglist=''):\n",
    "    callopt= '{\"function\":\"CreateAsset\",\"Args\":' + arglist + '}'\n",
    "    return invoke(peer,callopt)\n",
    "\n",
    "def updateAsset(peer,arglist=None):\n",
    "    callopt= '{\"function\":\"UpdateAsset\",\"Args\":' + getArgList(asset) + '}'\n",
    "    return invoke(peer,callopt)\n",
    "\n",
    "def appendRole(peer,name='',role='Buyer'):\n",
    "    print(getArgList([role,name]))\n",
    "    #callopt= '{\"function\":\"AppendRole\",\"Args\":' + getArgList([role,name]) + '}'\n",
    "    callopt= '{\"function\":\"AppendRole\",\"Args\":' + getArgList([name,role]) + '}'\n",
    "    return invoke(peer,callopt)\n",
    "\n",
    "def getRoles(peer,name=''):\n",
    "    #callopt= '{\"function\":\"GetRoles\",\"Args\":[' + ']}'\n",
    "    callopt= '{\"function\":\"GetRoles\",\"Args\":' + getArgList([name]) + '}'\n",
    "    return query(peer,callopt)\n",
    "\n",
    "def getAllRoles(peer):\n",
    "    callopt= '{\"function\":\"GetAllRoles\",\"Args\":[' + ']}'\n",
    "    return query(peer,callopt)\n",
    "\n",
    "\n",
    "def getSubmittingClientIdentity(peer):\n",
    "    callopt= '{\"function\":\"GetSubmittingClientIdentity\",\"Args\":[' + ']}'\n",
    "    return query(peer,callopt)"
   ]
  },
  {
   "cell_type": "code",
   "execution_count": 233,
   "metadata": {},
   "outputs": [],
   "source": [
    "#peers\n",
    "peer = peers['aabby-0']\n",
    "#getHostname(peer)"
   ]
  },
  {
   "cell_type": "code",
   "execution_count": 216,
   "metadata": {},
   "outputs": [
    {
     "name": "stdout",
     "output_type": "stream",
     "text": [
      "/home/jovyan/work/usr/bin/kubectl exec -t aabby-1-5ff5b8677f-kvfl7 -c scray-peer-cli -- /bin/sh -c echo $HOSTNAME\n",
      "peer chaincode query -C super55 -n basic -c '{\"function\":\"GetRoles\",\"Args\":[]}'\n",
      "/home/jovyan/work/usr/bin/kubectl exec -t aabby-1-5ff5b8677f-kvfl7 -c scray-peer-cli -- /bin/sh -c export CORE_PEER_MSPCONFIGPATH=/mnt/conf/organizations/peerOrganizations/aabby-1.kubernetes.research.dev.seeburger.de/users/User1@aabby-1.kubernetes.research.dev.seeburger.de/msp/  && peer chaincode query -C super55 -n basic -c '{\"function\":\"GetRoles\",\"Args\":[]}'\n"
     ]
    },
    {
     "name": "stderr",
     "output_type": "stream",
     "text": [
      "Error: endorsement failure during query. response: status:500 message:\"Error handling success response. Value did not match schema:\\n1. return.roles: Invalid type. Expected: array, given: null\" \n",
      "command terminated with exit code 1\n"
     ]
    },
    {
     "data": {
      "text/plain": [
       "'Command \\'[\\'/home/jovyan/work/usr/bin/kubectl\\', \\'exec\\', \\'-t\\', \\'aabby-1-5ff5b8677f-kvfl7\\', \\'-c\\', \\'scray-peer-cli\\', \\'--\\', \\'/bin/sh\\', \\'-c\\', \\'export CORE_PEER_MSPCONFIGPATH=/mnt/conf/organizations/peerOrganizations/aabby-1.kubernetes.research.dev.seeburger.de/users/User1@aabby-1.kubernetes.research.dev.seeburger.de/msp/  && peer chaincode query -C super55 -n basic -c \\\\\\'{\"function\":\"GetRoles\",\"Args\":[]}\\\\\\'\\']\\' returned non-zero exit status 1.'"
      ]
     },
     "execution_count": 216,
     "metadata": {},
     "output_type": "execute_result"
    }
   ],
   "source": [
    "callopt= '{\"function\":\"GetRoles\",\"Args\":' + getArgList([]) + '}'\n",
    "query(peer,callopt)"
   ]
  },
  {
   "cell_type": "code",
   "execution_count": 235,
   "metadata": {},
   "outputs": [
    {
     "name": "stdout",
     "output_type": "stream",
     "text": [
      "/home/jovyan/work/usr/bin/kubectl exec -t aabby-0-6859c54c76-gvdqw -c scray-peer-cli -- /bin/sh -c echo $HOSTNAME\n",
      "peer chaincode query -C super55 -n basic -c '{\"function\":\"GetSubmittingClientIdentity\",\"Args\":[]}'\n",
      "/home/jovyan/work/usr/bin/kubectl exec -t aabby-0-6859c54c76-gvdqw -c scray-peer-cli -- /bin/sh -c export CORE_PEER_MSPCONFIGPATH=/mnt/conf/organizations/peerOrganizations/aabby-0.kubernetes.research.dev.seeburger.de/users/User1@aabby-0.kubernetes.research.dev.seeburger.de/msp/  && peer chaincode query -C super55 -n basic -c '{\"function\":\"GetSubmittingClientIdentity\",\"Args\":[]}'\n",
      "[\"Buyer\",\"x509::CN=User1@aabby-0.kubernetes.research.dev.seeburger.de,OU=client,L=Bretten,ST=Baden,C=DE::CN=ca.aabby-0.kubernetes.research.dev.seeburger.de,O=aabby-0.kubernetes.research.dev.seeburger.de,L=Bretten,ST=Baden,C=DE\"]\n",
      "/home/jovyan/work/usr/bin/kubectl exec -t aabby-0-6859c54c76-gvdqw -c scray-peer-cli -- /bin/sh -c echo $HOSTNAME\n",
      "peer chaincode invoke -o orderer.example.com:30081 --tls --cafile /tmp/tlsca.example.com-cert.pem -C super55 -n basic -c '{\"function\":\"AppendRole\",\"Args\":[\"x509::CN=User1@aabby-0.kubernetes.research.dev.seeburger.de,OU=client,L=Bretten,ST=Baden,C=DE::CN=ca.aabby-0.kubernetes.research.dev.seeburger.de,O=aabby-0.kubernetes.research.dev.seeburger.de,L=Bretten,ST=Baden,C=DE\",\"Buyer\"]}'\n",
      "/home/jovyan/work/usr/bin/kubectl exec -t aabby-0-6859c54c76-gvdqw -c scray-peer-cli -- /bin/sh -c export CORE_PEER_MSPCONFIGPATH=/mnt/conf/organizations/peerOrganizations/aabby-0.kubernetes.research.dev.seeburger.de/users/User1@aabby-0.kubernetes.research.dev.seeburger.de/msp/  && peer chaincode invoke -o orderer.example.com:30081 --tls --cafile /tmp/tlsca.example.com-cert.pem -C super55 -n basic -c '{\"function\":\"AppendRole\",\"Args\":[\"x509::CN=User1@aabby-0.kubernetes.research.dev.seeburger.de,OU=client,L=Bretten,ST=Baden,C=DE::CN=ca.aabby-0.kubernetes.research.dev.seeburger.de,O=aabby-0.kubernetes.research.dev.seeburger.de,L=Bretten,ST=Baden,C=DE\",\"Buyer\"]}'\n"
     ]
    },
    {
     "name": "stderr",
     "output_type": "stream",
     "text": [
      "\u001b[34m2021-11-17 10:18:31.204 UTC [chaincodeCmd] chaincodeInvokeOrQuery -> INFO 001\u001b[0m Chaincode invoke successful. result: status:200 \n"
     ]
    },
    {
     "data": {
      "text/plain": [
       "''"
      ]
     },
     "execution_count": 235,
     "metadata": {},
     "output_type": "execute_result"
    }
   ],
   "source": [
    "#owner = readAssetTest(peer,'asset6') ['owner']\n",
    "name = getSubmittingClientIdentity(peer)[:-1]\n",
    "#appendRole(peer,name=name,role='Seller')\n",
    "appendRole(peer,name=name,role='Buyer')"
   ]
  },
  {
   "cell_type": "code",
   "execution_count": 240,
   "metadata": {},
   "outputs": [
    {
     "name": "stdout",
     "output_type": "stream",
     "text": [
      "/home/jovyan/work/usr/bin/kubectl exec -t aabby-0-6859c54c76-gvdqw -c scray-peer-cli -- /bin/sh -c echo $HOSTNAME\n",
      "peer chaincode query -C super55 -n basic -c '{\"function\":\"GetAllRoles\",\"Args\":[]}'\n",
      "/home/jovyan/work/usr/bin/kubectl exec -t aabby-0-6859c54c76-gvdqw -c scray-peer-cli -- /bin/sh -c export CORE_PEER_MSPCONFIGPATH=/mnt/conf/organizations/peerOrganizations/aabby-0.kubernetes.research.dev.seeburger.de/users/User1@aabby-0.kubernetes.research.dev.seeburger.de/msp/  && peer chaincode query -C super55 -n basic -c '{\"function\":\"GetAllRoles\",\"Args\":[]}'\n"
     ]
    },
    {
     "data": {
      "text/plain": [
       "[{'name': 'x509::CN=User1@aabby-0.kubernetes.research.dev.seeburger.de,OU=client,L=Bretten,ST=Baden,C=DE::CN=ca.aabby-0.kubernetes.research.dev.seeburger.de,O=aabby-0.kubernetes.research.dev.seeburger.de,L=Bretten,ST=Baden,C=DE',\n",
       "  'roles': ['Buyer']},\n",
       " {'name': 'x509::CN=User1@aabby-1.kubernetes.research.dev.seeburger.de,OU=client,L=Bretten,ST=Baden,C=DE::CN=ca.aabby-1.kubernetes.research.dev.seeburger.de,O=aabby-1.kubernetes.research.dev.seeburger.de,L=Bretten,ST=Baden,C=DE',\n",
       "  'roles': ['Seller', 'Factor', 'Buyer']}]"
      ]
     },
     "execution_count": 240,
     "metadata": {},
     "output_type": "execute_result"
    }
   ],
   "source": [
    "getAllRoles(peer)\n",
    "#getRoles(peer,name=name)\n",
    "#getSubmittingClientIdentity(peer)\n",
    "#getAllAssets(peer)"
   ]
  },
  {
   "cell_type": "code",
   "execution_count": 172,
   "metadata": {},
   "outputs": [
    {
     "name": "stdout",
     "output_type": "stream",
     "text": [
      "/home/jovyan/work/usr/bin/kubectl exec -t aabby-0-6859c54c76-gvdqw -c scray-peer-cli -- /bin/sh -c echo $HOSTNAME\n",
      "peer chaincode query -C super55 -n basic -c '{\"function\":\"ReadAssetTest\",\"Args\":[\"asset1\"]}'\n",
      "/home/jovyan/work/usr/bin/kubectl exec -t aabby-0-6859c54c76-gvdqw -c scray-peer-cli -- /bin/sh -c export CORE_PEER_MSPCONFIGPATH=/mnt/conf/organizations/peerOrganizations/aabby-0.kubernetes.research.dev.seeburger.de/users/User1@aabby-0.kubernetes.research.dev.seeburger.de/msp/  && peer chaincode query -C super55 -n basic -c '{\"function\":\"ReadAssetTest\",\"Args\":[\"asset1\"]}'\n",
      "/home/jovyan/work/usr/bin/kubectl exec -t aabby-0-6859c54c76-gvdqw -c scray-peer-cli -- /bin/sh -c echo $HOSTNAME\n",
      "peer chaincode invoke -o orderer.example.com:30081 --tls --cafile /tmp/tlsca.example.com-cert.pem -C super55 -n basic -c '{\"function\":\"CreateAsset\",\"Args\":[\"asset6\",\"company\",\"x509::CN=User1@zalya-1.kubernetes.research.dev.seeburger.de,OU=client,L=Bretten,ST=Baden,C=DE::CN=ca.zalya-1.kubernetes.research.dev.seeburger.de,O=zalya-1.kubernetes.research.dev.seeburger.de,L=Bretten,ST=Baden,C=DE\",\"0\",\"0\",\"0\",\"0\",\"DE\",\"\",\"\",\"False\",\"False\",\"False\",\"False\",\"\",\"\",\"False\"]}'\n",
      "/home/jovyan/work/usr/bin/kubectl exec -t aabby-0-6859c54c76-gvdqw -c scray-peer-cli -- /bin/sh -c export CORE_PEER_MSPCONFIGPATH=/mnt/conf/organizations/peerOrganizations/aabby-0.kubernetes.research.dev.seeburger.de/users/User1@aabby-0.kubernetes.research.dev.seeburger.de/msp/  && peer chaincode invoke -o orderer.example.com:30081 --tls --cafile /tmp/tlsca.example.com-cert.pem -C super55 -n basic -c '{\"function\":\"CreateAsset\",\"Args\":[\"asset6\",\"company\",\"x509::CN=User1@zalya-1.kubernetes.research.dev.seeburger.de,OU=client,L=Bretten,ST=Baden,C=DE::CN=ca.zalya-1.kubernetes.research.dev.seeburger.de,O=zalya-1.kubernetes.research.dev.seeburger.de,L=Bretten,ST=Baden,C=DE\",\"0\",\"0\",\"0\",\"0\",\"DE\",\"\",\"\",\"False\",\"False\",\"False\",\"False\",\"\",\"\",\"False\"]}'\n"
     ]
    },
    {
     "name": "stderr",
     "output_type": "stream",
     "text": [
      "\u001b[34m2021-11-15 15:01:47.597 UTC [chaincodeCmd] chaincodeInvokeOrQuery -> INFO 001\u001b[0m Chaincode invoke successful. result: status:200 \n"
     ]
    },
    {
     "data": {
      "text/plain": [
       "''"
      ]
     },
     "execution_count": 172,
     "metadata": {},
     "output_type": "execute_result"
    }
   ],
   "source": [
    "peer  = peers[peernames[0]]        \n",
    "asset = readAssetTest(peer)    \n",
    "asset['ID']='asset6'\n",
    "asset['buyer']='x509::CN=User1@zalya-1.kubernetes.research.dev.seeburger.de,OU=client,L=Bretten,ST=Baden,C=DE::CN=ca.zalya-1.kubernetes.research.dev.seeburger.de,O=zalya-1.kubernetes.research.dev.seeburger.de,L=Bretten,ST=Baden,C=DE'\n",
    "createAsset(peer,getArgList(asset))"
   ]
  },
  {
   "cell_type": "code",
   "execution_count": null,
   "metadata": {},
   "outputs": [],
   "source": [
    "peers"
   ]
  },
  {
   "cell_type": "code",
   "execution_count": 239,
   "metadata": {},
   "outputs": [
    {
     "name": "stdout",
     "output_type": "stream",
     "text": [
      "/home/jovyan/work/usr/bin/kubectl exec -t aabby-0-6859c54c76-gvdqw -c scray-peer-cli -- /bin/sh -c echo $HOSTNAME\n",
      "peer chaincode query -C super55 -n basic -c '{\"function\":\"GetAllAssets\",\"Args\":[]}'\n",
      "/home/jovyan/work/usr/bin/kubectl exec -t aabby-0-6859c54c76-gvdqw -c scray-peer-cli -- /bin/sh -c export CORE_PEER_MSPCONFIGPATH=/mnt/conf/organizations/peerOrganizations/aabby-0.kubernetes.research.dev.seeburger.de/users/User1@aabby-0.kubernetes.research.dev.seeburger.de/msp/  && peer chaincode query -C super55 -n basic -c '{\"function\":\"GetAllAssets\",\"Args\":[]}'\n"
     ]
    },
    {
     "data": {
      "text/plain": [
       "[{'Key': 'asset1',\n",
       "  'Record': {'ID': 'asset1',\n",
       "   'owner': 'company',\n",
       "   'buyer': '',\n",
       "   'hash': 0,\n",
       "   'invoiceNumber': '0',\n",
       "   'tax': 0,\n",
       "   'netto': 0,\n",
       "   'countryOrigin': 'DE',\n",
       "   'countryBuyer': '',\n",
       "   'status': '',\n",
       "   'received': False,\n",
       "   'receivedOrder': False,\n",
       "   'sold': False,\n",
       "   'claimPaid': False,\n",
       "   'claimPaidBy': '',\n",
       "   'taxExemptionReason': '',\n",
       "   'taxReceived': False}},\n",
       " {'Key': 'asset6',\n",
       "  'Record': {'ID': 'asset6',\n",
       "   'owner': 'x509::CN=User1@aabby-0.kubernetes.research.dev.seeburger.de,OU=client,L=Bretten,ST=Baden,C=DE::CN=ca.aabby-0.kubernetes.research.dev.seeburger.de,O=aabby-0.kubernetes.research.dev.seeburger.de,L=Bretten,ST=Baden,C=DE',\n",
       "   'buyer': 'x509::CN=User1@zalya-1.kubernetes.research.dev.seeburger.de,OU=client,L=Bretten,ST=Baden,C=DE::CN=ca.zalya-1.kubernetes.research.dev.seeburger.de,O=zalya-1.kubernetes.research.dev.seeburger.de,L=Bretten,ST=Baden,C=DE',\n",
       "   'hash': 0,\n",
       "   'invoiceNumber': '0',\n",
       "   'tax': 0,\n",
       "   'netto': 0,\n",
       "   'countryOrigin': 'DE',\n",
       "   'countryBuyer': '',\n",
       "   'status': '',\n",
       "   'received': False,\n",
       "   'receivedOrder': False,\n",
       "   'sold': False,\n",
       "   'claimPaid': False,\n",
       "   'claimPaidBy': '',\n",
       "   'taxExemptionReason': '',\n",
       "   'taxReceived': False}},\n",
       " {'Key': 'roles',\n",
       "  'Record': {'ID': '',\n",
       "   'owner': '',\n",
       "   'buyer': '',\n",
       "   'hash': 0,\n",
       "   'invoiceNumber': '',\n",
       "   'tax': 0,\n",
       "   'netto': 0,\n",
       "   'countryOrigin': '',\n",
       "   'countryBuyer': '',\n",
       "   'status': '',\n",
       "   'received': False,\n",
       "   'receivedOrder': False,\n",
       "   'sold': False,\n",
       "   'claimPaid': False,\n",
       "   'claimPaidBy': '',\n",
       "   'taxExemptionReason': '',\n",
       "   'taxReceived': False}}]"
      ]
     },
     "execution_count": 239,
     "metadata": {},
     "output_type": "execute_result"
    }
   ],
   "source": [
    "getAllAssets(peers[peernames[0]])"
   ]
  },
  {
   "cell_type": "code",
   "execution_count": null,
   "metadata": {},
   "outputs": [],
   "source": [
    "asset=readAsset(peer, asset='asset1')\n",
    "asset['sold'] = True\n",
    "updateAsset(peer, asset)"
   ]
  },
  {
   "cell_type": "code",
   "execution_count": 176,
   "metadata": {},
   "outputs": [
    {
     "name": "stdout",
     "output_type": "stream",
     "text": [
      "/home/jovyan/work/usr/bin/kubectl exec -t aabby-0-6859c54c76-gvdqw -c scray-peer-cli -- /bin/sh -c echo $HOSTNAME\n",
      "peer chaincode query -C super55 -n basic -c '{\"function\":\"ReadAsset\",\"Args\":[\"asset6\"]}'\n",
      "/home/jovyan/work/usr/bin/kubectl exec -t aabby-0-6859c54c76-gvdqw -c scray-peer-cli -- /bin/sh -c export CORE_PEER_MSPCONFIGPATH=/mnt/conf/organizations/peerOrganizations/aabby-0.kubernetes.research.dev.seeburger.de/users/User1@aabby-0.kubernetes.research.dev.seeburger.de/msp/  && peer chaincode query -C super55 -n basic -c '{\"function\":\"ReadAsset\",\"Args\":[\"asset6\"]}'\n"
     ]
    }
   ],
   "source": [
    "asset = readAsset(peers[peernames[0]], asset='asset6')\n",
    "\n",
    "from facturxWidget import facturx_widgets \n",
    "\n",
    "import json\n",
    "with open('asset.json', 'w', encoding='utf-8') as f:\n",
    "    json.dump(asset, f, ensure_ascii=False, indent=4)"
   ]
  },
  {
   "cell_type": "code",
   "execution_count": null,
   "metadata": {},
   "outputs": [],
   "source": [
    "import json\n",
    "\n",
    "with open('asset.json') as json_file:\n",
    "    data = json.load(json_file)\n",
    "\n",
    "data    "
   ]
  },
  {
   "cell_type": "code",
   "execution_count": null,
   "metadata": {},
   "outputs": [],
   "source": []
  },
  {
   "cell_type": "code",
   "execution_count": null,
   "metadata": {},
   "outputs": [],
   "source": [
    "readAsset(peer) "
   ]
  },
  {
   "cell_type": "code",
   "execution_count": null,
   "metadata": {},
   "outputs": [],
   "source": [
    "callopt= '{\"function\":\"ReadAsset\",\"Args\":[' + '\\\"' + 'asset1' + '\\\"' + ']}'\n",
    "cmd0 = str('\\'' + callopt + \"\\'\")\n",
    "strlist = ['peer', 'chaincode', 'invoke', '-o', 'orderer.example.com:30081', '--tls', '--cafile', '/tmp/tlsca.example.com-cert.pem','-C', channel_name, '-n', 'basic', '-c', cmd0]\n",
    "cmd = toCmd(strlist)\n",
    "\n",
    "executePeerCmd(peers[pernames[0]].pod_name, export_cmd + '  && ' + cmd)"
   ]
  },
  {
   "cell_type": "code",
   "execution_count": null,
   "metadata": {},
   "outputs": [],
   "source": []
  },
  {
   "cell_type": "code",
   "execution_count": null,
   "metadata": {},
   "outputs": [],
   "source": [
    " CreateAsset(ctx contractapi.TransactionContextInterface, id, owner string,  hash int,\n",
    "             invoiceNumber string, vat float32, netto float32, countryOrigin string, countryReceiver string, received bool,\n",
    "        receivedOrder bool, sold bool, claimPaid bool, claimPaidBy string, taxExemptionReason string,taxReceived bool"
   ]
  },
  {
   "cell_type": "code",
   "execution_count": null,
   "metadata": {},
   "outputs": [],
   "source": [
    "def getPeer0Address(peer):\n",
    "    addr='peer0.kubernetes.research.dev.seeburger.de'\n",
    "    return str(addr + ':' + peer.listen_port)\n",
    "\n",
    "def readAsset(peer, asset='asset1'):\n",
    "    #callopt= '{\\\"function\\\":\\\"ReadAsset\\\",\\\"Args\\\":[' + '\\\"' + asset + '\\\"' + ']}'\n",
    "    callopt= '{\"function\":\"ReadAsset\",\"Args\":[' + '\\\"' + asset + '\\\"' + ']}'\n",
    "    cmd0 = str('\\'' + callopt + \"\\'\")\n",
    "    try:\n",
    "        #cmd1= 'CORE_PEER_ADDRESS=\\\"peer0.kubernetes.research.dev.seeburger.de:31866\\\" && ' \n",
    "        #cmd1 = 'CORE_PEER_ADDRESS=\\\"' + getPeer0Address(peer) + '\\\" && '\n",
    "        cmd1 = 'CORE_PEER_MSPCONFIGPATH=' + path + '\\\" && '\n",
    "        #cmd2 = ['peer', 'chaincode','query', '-C', channel_name, '-n', 'basic', '-c']\n",
    "        cmd2 = ['peer', 'chaincode', 'invoke', '-o', 'orderer.example.com:30081', '--tls', '--cafile', '/tmp/tlsca.example.com-cert.pem', '-C',channel_name, '-n', 'basic', '-c']\n",
    "   \n",
    "        cmd = toCmd(cmd2) + ' ' + cmd0\n",
    "        print(cmd)\n",
    "        #output = executePeerCmd(peer.pod_name, cmd1 + cmd)\n",
    "        #print(output)\n",
    "        if output[0] == '{':\n",
    "            return json.loads(output)\n",
    "        return cmd\n",
    "    except Exception as e:\n",
    "        print(e)\n",
    "        \n",
    "asset = readAsset(peers[pernames[0]], 'asset1')\n",
    "executePeerCmd(peers[pernames[0]].pod_name,asset)"
   ]
  },
  {
   "cell_type": "code",
   "execution_count": null,
   "metadata": {},
   "outputs": [],
   "source": [
    "invoice_id='046'\n",
    "buyer=pernames[0]\n",
    "\n",
    "strlist = ['peer', 'chaincode', 'invoke', '-o', 'orderer.example.com:30081', '--tls', '--cafile', '/tmp/tlsca.example.com-cert.pem', '-C',channel_name,invoice_id,get_certificate_string(buyer)]\n",
    "print(toCmd(strlist))\n",
    "executePeerCmd(peers[pernames[0]].pod_name, toCmd(strlist))"
   ]
  },
  {
   "cell_type": "code",
   "execution_count": null,
   "metadata": {},
   "outputs": [],
   "source": [
    "CHANNEL_ID=$1\n",
    "ASSET_ID=$2\n",
    "PRODUCT_BUYER=$3\n",
    "\n",
    "export PKGID=basic_1.0:5a294a12a1a89cd4eed3d4234fbc79f42eab2ac20cd176bc8ebbc07c597cd0ee\n",
    "\n",
    "export CORE_PEER_MSPCONFIGPATH=/mnt/conf/organizations/peerOrganizations/$HOSTNAME/users/User1@$HOSTNAME/msp/\n",
    "\n",
    "peer chaincode invoke -o orderer.example.com:30081 --tls --cafile /tmp/tlsca.example.com-cert.pem -C $CHANNEL_ID -n basic -c '{\"function\":\"CreateAsset\",\"Args\":[\"'${ASSET_ID}'\", \"'${PRODUCT_BUYER}'\"]}'"
   ]
  },
  {
   "cell_type": "markdown",
   "metadata": {},
   "source": [
    "## invoice usecase (Simple)"
   ]
  },
  {
   "cell_type": "code",
   "execution_count": null,
   "metadata": {},
   "outputs": [],
   "source": [
    "\n",
    "pernames = list(peers.keys())\n",
    "chaincode_add_invoice(peers[pernames[0]],channel_name,'046',pernames[1])"
   ]
  },
  {
   "cell_type": "code",
   "execution_count": null,
   "metadata": {},
   "outputs": [],
   "source": [
    "!/home/jovyan/work/usr/bin/kubectl exec -t galya-0-6cc848b49-pv2dn -c scray-peer-cli -- /bin/sh /mnt/conf/peer/add-invoice.sh super13 006 x509::CN=User1@galya-1.kubernetes.research.dev.seeburger.de,OU=client,L=San Francisco,ST=California,C=US::CN=ca.galya-1.kubernetes.research.dev.seeburger.de,O=galya-1.kubernetes.research.dev.seeburger.de,L=San Francisco,ST=California,C=USdx509::CN=User1@galya-1.kubernetes.research.dev.seeburger.de,OU=client,L=San Francisco,ST=California,C=US::CN=ca.galya-1.kubernetes.research.dev.seeburger.de,O=galya-1.kubernetes.research.dev.seeburger.de,L=San Francisco,ST=California,C=US"
   ]
  },
  {
   "cell_type": "code",
   "execution_count": null,
   "metadata": {},
   "outputs": [],
   "source": [
    "get_certificate_string(pernames[1])\n",
    "\n",
    "#'x509::CN=User1@galya-1.kubernetes.research.dev.seeburger.de,OU=client,L=San Francisco,ST=California,C=US::CN=ca.galya-1.kubernetes.research.dev.seeburger.de,O=galya-1.kubernetes.research.dev.seeburger.de,L=San Francisco,ST=California,C=USdx509::CN=User1@galya-1.kubernetes.research.dev.seeburger.de,OU=client,L=San Francisco,ST=California,C=US::CN=ca.galya-1.kubernetes.research.dev.seeburger.de,O=galya-1.kubernetes.research.dev.seeburger.de,L=San Francisco,ST=California,C=US'\n",
    "\n",
    "#, 'x509::CN=User1@galya-1.kubernetes.research.dev.seeburger.de,OU=client,L=San Francisco,ST=California,C=US::CN=ca.galya-1.kubernetes.research.dev.seeburger.de,O=galya-1.kubernetes.research.dev.seeburger.de,L=San Francisco,ST=California,C=USdx509::CN=User1@galya-1.kubernetes.research.dev.seeburger.de,OU=client,L=San Francisco,ST=California,C=US::CN=ca.galya-1.kubernetes.research.dev.seeburger.de,O=galya-1.kubernetes.research.dev.seeburger.de,L=San Francisco,ST=California,C=US'"
   ]
  },
  {
   "cell_type": "code",
   "execution_count": null,
   "metadata": {},
   "outputs": [],
   "source": [
    "#kubectl exec --stdin --tty $PEER_POD -c scray-peer-cli -- /bin/sh /mnt/conf/peer/get-my-invoices.sh  $CHANNEL_NAME $INVOICE_ID\n",
    "def chaincode_read_invoice(peer,channel_name):\n",
    "    strlist = ['/mnt/conf/peer/get-my-invoices.sh', channel_name]\n",
    "    return executePeerCmd(peer.pod_name,toCmd(strlist)) \n",
    "chaincode_read_invoice(peers[pernames[0]],channel_name)"
   ]
  },
  {
   "cell_type": "code",
   "execution_count": null,
   "metadata": {},
   "outputs": [],
   "source": [
    "def chaincode_transfer_invoice(peer,channel_name,invoice_id,new_owner):\n",
    "    strlist = ['/mnt/conf/peer/transfer_invoice.sh', channel_name,invoice_id,get_certificate_string(new_owner)]\n",
    "    print(toCmd(strlist))\n",
    "    return executePeerCmd(peer.pod_name,toCmd(strlist)) \n",
    "\n",
    "pernames = list(peers.keys())\n",
    "chaincode_transfer_invoice(peers[pernames[0]],channel_name,'045',pernames[2])"
   ]
  },
  {
   "cell_type": "code",
   "execution_count": null,
   "metadata": {},
   "outputs": [],
   "source": [
    "get_certificate_string(pernames[2])\n",
    "NEW_OWNER='x509::CN=User1@lalya-2.kubernetes.research.dev.seeburger.de,OU=client,L=Bretten,ST=Baden,C=DE::CN=ca.lalya-2.kubernetes.research.dev.seeburger.de,O=lalya-2.kubernetes.research.dev.seeburger.de,L=Bretten,ST=Baden,C=DE'\n",
    "kubectl exec --stdin --tty lalya-0-7c887cffb8-fpw7h -c scray-peer-cli -- /bin/sh /mnt/conf/peer/transfer_invoice.sh  super43 045 $NEW_OWNER"
   ]
  },
  {
   "cell_type": "code",
   "execution_count": null,
   "metadata": {},
   "outputs": [],
   "source": [
    "kubectl exec --stdin --tty 'lalya-0-7c887cffb8-fpw7h' -c scray-peer-cli -- /bin/sh /mnt/conf/peer/get-my-invoices.sh  super43 045\n",
    "kubectl exec --stdin --tty 'lalya-1-7c76dff8c-pzx78' -c scray-peer-cli -- /bin/sh /mnt/conf/peer/get-my-invoices.sh  super43 045\n",
    "kubectl exec --stdin --tty 'lalya-2-5f8b45dbc4-52tt7' -c scray-peer-cli -- /bin/sh /mnt/conf/peer/get-my-invoices.sh  super43 045\n"
   ]
  },
  {
   "cell_type": "code",
   "execution_count": null,
   "metadata": {},
   "outputs": [],
   "source": [
    "peers[pernames[2]].pod_name"
   ]
  },
  {
   "cell_type": "markdown",
   "metadata": {},
   "source": [
    "## add channel"
   ]
  },
  {
   "cell_type": "code",
   "execution_count": 23,
   "metadata": {},
   "outputs": [
    {
     "data": {
      "text/plain": [
       "'orderer-org1-scray-org-5cb87587c4-q95mm'"
      ]
     },
     "execution_count": 23,
     "metadata": {},
     "output_type": "execute_result"
    }
   ],
   "source": [
    "orderer.pod_name"
   ]
  },
  {
   "cell_type": "code",
   "execution_count": 25,
   "metadata": {},
   "outputs": [
    {
     "name": "stdout",
     "output_type": "stream",
     "text": [
      "\u001b[34m2021-11-11 08:32:57.480 UTC [common.tools.configtxgen] main -> INFO 001\u001b[0m Loading configuration\n",
      "\u001b[34m2021-11-11 08:32:57.500 UTC [common.tools.configtxgen.localconfig] Load -> INFO 002\u001b[0m Loaded configuration: /mnt/conf/orderer/configtx.yaml\n",
      "\u001b[34m2021-11-11 08:32:57.500 UTC [common.tools.configtxgen] doOutputChannelCreateTx -> INFO 003\u001b[0m Generating new channel configtx\n",
      "\u001b[34m2021-11-11 08:32:57.503 UTC [common.tools.configtxgen] doOutputChannelCreateTx -> INFO 004\u001b[0m Writing new channel tx\n",
      "\u001b[34m2021-11-11 08:32:57.568 UTC [channelCmd] InitCmdFactory -> INFO 001\u001b[0m Endorser and orderer connections initialized\n",
      "\u001b[34m2021-11-11 08:32:57.618 UTC [cli.common] readBlock -> INFO 002\u001b[0m Expect block, but got status: &{NOT_FOUND}\n",
      "\u001b[34m2021-11-11 08:32:57.621 UTC [channelCmd] InitCmdFactory -> INFO 003\u001b[0m Endorser and orderer connections initialized\n",
      "\u001b[34m2021-11-11 08:32:57.823 UTC [cli.common] readBlock -> INFO 004\u001b[0m Expect block, but got status: &{SERVICE_UNAVAILABLE}\n",
      "\u001b[34m2021-11-11 08:32:57.829 UTC [channelCmd] InitCmdFactory -> INFO 005\u001b[0m Endorser and orderer connections initialized\n",
      "\u001b[34m2021-11-11 08:32:58.031 UTC [cli.common] readBlock -> INFO 006\u001b[0m Expect block, but got status: &{SERVICE_UNAVAILABLE}\n",
      "\u001b[34m2021-11-11 08:32:58.036 UTC [channelCmd] InitCmdFactory -> INFO 007\u001b[0m Endorser and orderer connections initialized\n",
      "\u001b[34m2021-11-11 08:32:58.238 UTC [cli.common] readBlock -> INFO 008\u001b[0m Expect block, but got status: &{SERVICE_UNAVAILABLE}\n",
      "\u001b[34m2021-11-11 08:32:58.242 UTC [channelCmd] InitCmdFactory -> INFO 009\u001b[0m Endorser and orderer connections initialized\n",
      "\u001b[34m2021-11-11 08:32:58.444 UTC [cli.common] readBlock -> INFO 00a\u001b[0m Expect block, but got status: &{SERVICE_UNAVAILABLE}\n",
      "\u001b[34m2021-11-11 08:32:58.448 UTC [channelCmd] InitCmdFactory -> INFO 00b\u001b[0m Endorser and orderer connections initialized\n",
      "\u001b[34m2021-11-11 08:32:58.651 UTC [cli.common] readBlock -> INFO 00c\u001b[0m Expect block, but got status: &{SERVICE_UNAVAILABLE}\n",
      "\u001b[34m2021-11-11 08:32:58.658 UTC [channelCmd] InitCmdFactory -> INFO 00d\u001b[0m Endorser and orderer connections initialized\n",
      "\u001b[34m2021-11-11 08:32:58.873 UTC [cli.common] readBlock -> INFO 00e\u001b[0m Received block: 0\n"
     ]
    }
   ],
   "source": [
    "!/home/jovyan/work/usr/bin/kubectl exec -t orderer-org1-scray-org-5cb87587c4-q95mm -c scray-orderer-cli -- /bin/sh /mnt/conf/orderer/scripts/create_channel.sh super55 orderer.example.com 30081"
   ]
  },
  {
   "cell_type": "code",
   "execution_count": null,
   "metadata": {},
   "outputs": [],
   "source": [
    "add_channel('super20')"
   ]
  },
  {
   "cell_type": "code",
   "execution_count": null,
   "metadata": {},
   "outputs": [],
   "source": [
    "name = 'super30'\n",
    "cmd = toCmd(['/mnt/conf/orderer/scripts/create_channel.sh', name, 'orderer.example.com', '7050'])\n",
    "cmd, orderer.pod_name"
   ]
  },
  {
   "cell_type": "code",
   "execution_count": null,
   "metadata": {},
   "outputs": [],
   "source": [
    "executePeerCmd(orderer.pod_name, cmd, cli='scray-orderer-cli')"
   ]
  },
  {
   "cell_type": "code",
   "execution_count": null,
   "metadata": {},
   "outputs": [],
   "source": [
    "executePeerCmd(orderer.pod_name, 'peer channel list', cli='scray-orderer-cli')"
   ]
  },
  {
   "cell_type": "code",
   "execution_count": null,
   "metadata": {},
   "outputs": [],
   "source": [
    "cmd1 = ['/mnt/conf/orderer/scripts/create_channel.sh super20 orderer.example.com 7050']\n",
    "executePeerCmd(orderer.pod_name, cmd1, cli='scray-orderer-cli')"
   ]
  },
  {
   "cell_type": "code",
   "execution_count": null,
   "metadata": {},
   "outputs": [],
   "source": [
    "#cmd1 = ['/home/jovyan/work/usr/bin/kubectl', 'exec','-t', 'orderer-org1-scray-org-5f97c57d44-l6d5l', '-c', 'scray-orderer-cli','--', '/bin/sh', '-c','/mnt/conf/orderer/scripts/create_channel.sh super7 orderer.example.com 7050']\n",
    "\n",
    "#cmd2 = toCmd(['ls','-a'])\n",
    "cmd2 = toCmd(['/mnt/conf/orderer/scripts/create_channel.sh', 'super7', 'orderer.example.com', '7050'])\n",
    "\n",
    "cmd1 = ['/home/jovyan/work/usr/bin/kubectl', 'exec','-t', 'orderer-org1-scray-org-5f97c57d44-l6d5l', '-c', 'scray-orderer-cli','--', '/bin/sh', '-c',cmd2]\n",
    "\n",
    "\n",
    "print(toCmd(cmd1))\n",
    "#subprocess.check_output(cmd1)\n",
    "subprocess.run(cmd1, stdout = subprocess.PIPE, stderr=subprocess.PIPE)"
   ]
  },
  {
   "cell_type": "code",
   "execution_count": null,
   "metadata": {},
   "outputs": [],
   "source": [
    "!/home/jovyan/work/usr/bin/kubectl exec -it orderer-org1-scray-org-5f97c57d44-l6d5l -c scray-orderer-cli -- /bin/sh /mnt/conf/orderer/scripts/create_channel.sh super6 orderer.example.com 7050\n"
   ]
  },
  {
   "cell_type": "code",
   "execution_count": null,
   "metadata": {},
   "outputs": [],
   "source": [
    "orderer.pod_name"
   ]
  },
  {
   "cell_type": "code",
   "execution_count": null,
   "metadata": {},
   "outputs": [],
   "source": [
    "!/home/jovyan/work/usr/bin/kubectl exec --stdin --tty 'orderer-org1-scray-org-5f97c57d44-j5mbs' -c scray-orderer-cli  -- /bin/sh /mnt/conf/orderer/scripts/create_channel.sh 'super' orderer.example.com '7050'"
   ]
  },
  {
   "cell_type": "code",
   "execution_count": null,
   "metadata": {},
   "outputs": [],
   "source": [
    "# Create Peer\n",
    "\n",
    "peername='dalya8'\n",
    "addPeer(peername)\n",
    "peers[peername].__dict__"
   ]
  },
  {
   "cell_type": "code",
   "execution_count": null,
   "metadata": {},
   "outputs": [],
   "source": [
    "\n"
   ]
  },
  {
   "cell_type": "code",
   "execution_count": null,
   "metadata": {},
   "outputs": [],
   "source": [
    "executeKubectlCmd(['get', 'pods','-l', 'app=orderer-org1-scray-org','-o','jsonpath=\\'{.items[*].status.podIP}\\''])  "
   ]
  },
  {
   "cell_type": "code",
   "execution_count": null,
   "metadata": {},
   "outputs": [],
   "source": [
    "peers[peername].__dict__"
   ]
  },
  {
   "cell_type": "code",
   "execution_count": null,
   "metadata": {},
   "outputs": [],
   "source": [
    "orderer.__dict__"
   ]
  },
  {
   "cell_type": "markdown",
   "metadata": {},
   "source": [
    "## Export channel configuration"
   ]
  },
  {
   "cell_type": "code",
   "execution_count": null,
   "metadata": {},
   "outputs": [],
   "source": [
    "#https://github.com/scray/scray/blob/feature/k8s-peer/projects/invoice-hyperledger-fabric/containers/README.md#export-data\n",
    "\n",
    "SHARED_FS_HOST='10.14.128.38:30080'\n",
    "_result = SHARED_FS_HOST + '/channel/configuration/$CHANNEL_NAME/config.json'\n",
    "\n",
    "#kubectl exec --stdin --tty $ORDERER_POD -c scray-orderer-cli -- /bin/sh /mnt/conf/orderer/scripts/publish_channel_conf.sh $CHANNEL_NAME $SHARED_FS_HOST\n",
    "\n",
    "def export_channel_configuration(peer,channel_name,SHARED_FS_HOST):\n",
    "    strlist = ['/mnt/conf/orderer/scripts/publish_channel_conf.sh', channel_name,SHARED_FS_HOST]\n",
    "    return executePeerCmd(peer.pod_name,toCmd(strlist)) \n",
    "\n",
    "#_peer = peers[list(peers.keys())[0]]\n",
    "_peer = orderer\n",
    "channel_name = 'super'\n",
    "export_channel_configuration(_peer,channel_name,SHARED_FS_HOST)"
   ]
  },
  {
   "cell_type": "code",
   "execution_count": null,
   "metadata": {},
   "outputs": [],
   "source": [
    "#list(peers)[0]\n"
   ]
  },
  {
   "cell_type": "markdown",
   "metadata": {},
   "source": [
    "# Enroll users"
   ]
  },
  {
   "cell_type": "code",
   "execution_count": 33,
   "metadata": {},
   "outputs": [],
   "source": [
    "import subprocess\n",
    "def downloadToLocal(host='10.15.136.41:30080',user='scray', pwd='scray',\n",
    "                    local_path='./', local_name='' ,remote_path='upload'):  \n",
    "    try:    \n",
    "        output = subprocess.check_output(['curl', '--user',user + ':' + pwd, \n",
    "                                               'http://' + host + '/' + remote_path + '/' + local_name, '-o', local_path + '/' + local_name])\n",
    "        #return str(callProcess)[3:-3]\n",
    "        return output.decode('ascii')\n",
    "    except Exception as e:\n",
    "        return str(e)     \n",
    "   \n",
    "\n",
    "def uploadFromLocal(host='10.15.136.41:30080',user='scray', pwd='scray',\n",
    "                    local_path='./', local_name='' ,remote_path='upload'):\n",
    "    try:    \n",
    "        output = subprocess.check_output(['curl', '--user',user + ':' + pwd, \n",
    "                                          '-T', local_path + '/' + local_name, \n",
    "                                          'http://' + host + '/' + remote_path + '/' + local_name])\n",
    "        return output.decode('ascii')\n",
    "    except Exception as e:\n",
    "        return str(e)   \n",
    "                    \n",
    "#downloadToLocal(local_path='./', local_name='org3_update_in_envelope.pb' ,remote_path='upload')\n",
    "\n",
    "def downloadToLocalCmdList(host='10.15.136.41:30080',user='scray', pwd='scray',\n",
    "                    local_path='./', remote_name='' ,remote_path='/'):  \n",
    "    return ['curl', '--user',user + ':' + pwd, 'http://' + host + '/' + remote_path + '/' + remote_name, '-o', local_path + '/' + remote_name]\n"
   ]
  },
  {
   "cell_type": "code",
   "execution_count": null,
   "metadata": {},
   "outputs": [],
   "source": [
    "# download walletcreator to peers\n",
    "def uploadWalletToolToSharepoint():\n",
    "    uploadFromLocal(local_path='/home/jovyan/scray-ledger/tools/wallet-creator/target', local_name='wallet-creator-0.0.1-SNAPSHOT-jar-with-dependencies.jar' ,remote_path='/')\n",
    "    uploadFromLocal(local_path='/home/jovyan/scray-ledger/tools/wallet-creator', local_name='cert-creator.sh' ,remote_path='upload')\n",
    "\n",
    "def installPeerWalletTool(peer):\n",
    "    executePeerCmd(peer.pod_name,toCmd(downloadToLocalCmdList(local_path='/tmp', remote_name='wallet-creator-0.0.1-SNAPSHOT-jar-with-dependencies.jar'))) \n",
    "    #executePeerCmd(peer.pod_name,toCmd(downloadToLocalCmdList(local_path='/tmp', remote_name='cert-creator.sh'))) \n",
    "    executePeerCmd(peer.pod_name,'apk add openssl')\n",
    "    executePeerCmd(peer.pod_name,'apk add openjdk8-jre')\n",
    "    # chmod 755\n",
    "    \n",
    "def createPeerUser(peer,user, admin='admin',\n",
    "    cert='/mnt/conf/organizations/peerOrganizations/kubernetes.research.dev.seeburger.de/ca/ca.kubernetes.research.dev.seeburger.de-cert.pem',\n",
    "    key='/mnt/conf/organizations/peerOrganizations/kubernetes.research.dev.seeburger.de/ca/priv_sk'):\n",
    "        cmd = ['/tmp/cert-creator.sh','--cacert',cert,'--cakey',key,'--new-user-crt',user,'--organizational-unit',admin,\n",
    "               '--create-wallet','true','--wallet-creator-lib-path', '/tmp']\n",
    "        return executePeerCmd(peer.pod_name,toCmd(cmd))\n",
    "    \n",
    "installPeerWalletTool(peers['zalya-0'])    \n",
    "#uploadWalletToolToSharepoint()  \n",
    "#createPeerUser(peers['oly0'],'bretten')     "
   ]
  },
  {
   "cell_type": "code",
   "execution_count": null,
   "metadata": {},
   "outputs": [],
   "source": [
    "peer = peers['oly0']\n",
    "# build local , upload tool to sharepoint \n",
    "#uploadWalletToolToSharepoint()\n",
    "#installPeerWalletTool(peer)\n",
    "\n",
    "createPeerUser(peer,'bretten')   "
   ]
  }
 ],
 "metadata": {
  "kernelspec": {
   "display_name": "Python 3 (ipykernel)",
   "language": "python",
   "name": "python3"
  },
  "language_info": {
   "codemirror_mode": {
    "name": "ipython",
    "version": 3
   },
   "file_extension": ".py",
   "mimetype": "text/x-python",
   "name": "python",
   "nbconvert_exporter": "python",
   "pygments_lexer": "ipython3",
   "version": "3.9.5"
  }
 },
 "nbformat": 4,
 "nbformat_minor": 4
}
