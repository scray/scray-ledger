{
 "cells": [
  {
   "cell_type": "markdown",
   "metadata": {},
   "source": [
    "# Kubernetes"
   ]
  },
  {
   "cell_type": "markdown",
   "metadata": {},
   "source": [
    "# Kubernetes Version (Current)"
   ]
  },
  {
   "cell_type": "code",
   "execution_count": 1,
   "metadata": {},
   "outputs": [],
   "source": [
    "#!pip install ipynb\n",
    "from ipynb.fs.full.facturxWidget import *\n",
    "\n",
    "from ipynb.fs.full.kubernetesTool import *\n",
    "\n",
    "from ipynb.fs.full.invoiceSmartcontract import *"
   ]
  },
  {
   "cell_type": "markdown",
   "metadata": {},
   "source": [
    "## addPeer"
   ]
  },
  {
   "cell_type": "markdown",
   "metadata": {},
   "source": [
    "### KubernetesPeer"
   ]
  },
  {
   "cell_type": "code",
   "execution_count": 12,
   "metadata": {},
   "outputs": [],
   "source": [
    "import kubernetesTool\n",
    "import subprocess\n",
    "\n",
    "class KubernetesPeer: \n",
    "    def __init__(self, name='',prefix='peer', hostname='kubernetes.research.dev.seeburger.de',ca_country='DE',ca_province='Baden',ca_locality='Bretten'):\n",
    "        self.name = name\n",
    "\n",
    "        #self.pod_name = kubernetesTool.getPod(name)\n",
    "        self.pod_name = getPod(name)\n",
    "        if self.pod_name is None:\n",
    "            self.addPeer(hostname,ca_country,ca_province,ca_locality)\n",
    "            self.pod_name = getPod(name)\n",
    "        \n",
    "        self.listen_port = kubernetesTool.getPort(peername=name, name = prefix + '-listen')\n",
    "        self.gossip_port = kubernetesTool.getPort(peername=name, name = prefix + '-gossip')\n",
    "        self.hostname = self.get_hostname()\n",
    "        self.wallet_tool = None\n",
    "        \n",
    "    def get_hostname(self):\n",
    "        return executePeerCmd(self.pod_name,'echo $HOSTNAME')[:-1]\n",
    "            \n",
    "    def addPeer(self, hostname='kubernetes.research.dev.seeburger.de',ca_country='DE',ca_province='Baden',ca_locality='Bretten', prefix='peer'):  \n",
    "        peername = self.name\n",
    "        #if peername in peers.keys():\n",
    "        #    return peers[peername]\n",
    "        # Create configuration for new peer\n",
    "        executeLocalCmd(['/bin/bash','-c','cd /home/jovyan/scray-ledger/containers/ && /home/jovyan/scray-ledger/containers/configure-deployment.sh -n ' + peername])\n",
    "        # Start service\n",
    "        executeKubectlCmd(['apply', '-f', '/home/jovyan/scray-ledger/containers/target/' + peername + '/k8s-peer-service.yaml'])\n",
    "        self.listen_port = kubernetesTool.getPort(peername=peername, name = prefix + '-listen')\n",
    "        self.gossip_port = kubernetesTool.getPort(peername=peername, name = prefix + '-gossip')\n",
    "        # Create peer configuration\n",
    "        res = self.createConfig(hostname=hostname,\n",
    "                                ca_country=ca_country,ca_province=ca_province,ca_locality=ca_locality)\n",
    "        # Start new peer\n",
    "        executeKubectlCmd(['apply', '-f','/home/jovyan/scray-ledger/containers/target/' + peername + '/k8s-peer.yaml'])\n",
    "        #peer = kubernetespeer(name=peername)\n",
    "        #peers[peername] = self\n",
    "        #return peer        \n",
    "        \n",
    "    def addPeerFromKubernetes():\n",
    "        peer= kubernetespeer(self.name)\n",
    "        peers[self.name] = peer\n",
    "        \n",
    "    def getCertificate(self):\n",
    "        try:\n",
    "            return str(subprocess.check_output(['cat', self.crt]))[2:-3]   \n",
    "        except Exception as e:\n",
    "            return str(e)    \n",
    "        \n",
    "    def createConfig(self,hostname='kubernetes.research.dev.seeburger.de' ,ca_country='DE',ca_province='Baden',ca_locality='Bretten'):\n",
    "        try:  \n",
    "            peername=self.name\n",
    "            peer_listen_port=self.listen_port\n",
    "            #peer_gossip_port=self.gossip_port\n",
    "            peer_gossip_port=self.listen_port\n",
    "            address = 'peer0.' + peername  + '.' +  hostname + ':'\n",
    "            output  = subprocess.check_output(['/home/jovyan/work/usr/bin/kubectl', 'create','configmap','hl-fabric-peer-' + peername,\n",
    "                                              '--from-literal=hostname=' + peername  + '.' + hostname,\n",
    "                                              '--from-literal=org_name=' + peername,\n",
    "                                              '--from-literal=data_share=hl-fabric-data-share-service:80',\n",
    "                                              '--from-literal=ca_country='  + ca_country,\n",
    "                                              '--from-literal=ca_province=' + ca_province,\n",
    "                                              '--from-literal=ca_locality=' + ca_locality,\n",
    "                                              '--from-literal=CORE_PEER_ADDRESS=' + address + peer_listen_port,\n",
    "                                              '--from-literal=CORE_PEER_GOSSIP_EXTERNALENDPOINT=' + address + peer_gossip_port,\n",
    "                                              '--from-literal=CORE_PEER_LOCALMSPID=' + peername + 'MSP'])\n",
    "            return str(output)\n",
    "        except Exception as e:\n",
    "            return str(e)  \n",
    "\n",
    "    \n",
    "    def deleteConfig(self):\n",
    "        try:  \n",
    "            output  = subprocess.check_output(['/home/jovyan/work/usr/bin/kubectl', 'delete','configmap','hl-fabric-peer-' + self.name])\n",
    "            return str(output)\n",
    "        except Exception as e:\n",
    "            return str(e)     \n",
    "        \n",
    "    def deleteDeployment(self):\n",
    "        try:  \n",
    "            output  = subprocess.check_output(['/home/jovyan/work/usr/bin/kubectl', 'delete','deployment', self.name])\n",
    "            return str(output)\n",
    "        except Exception as e:\n",
    "            return str(e)           \n",
    "\n",
    "    def deletePeer(self):\n",
    "        self.deleteDeployment()\n",
    "        self.deleteConfig()        \n",
    "        \n",
    "    def joinHyperledger(self,orderer_ip=None,orderer_hostname=None,orderer_port=None,channel_name=None,shared_fs_host=None,ext_peer_ip='10.15.136.41'):          \n",
    "        cmd = toCmd(['/mnt/conf/peer_join.sh', orderer_ip,orderer_hostname,orderer_port,channel_name,shared_fs_host,ext_peer_ip])\n",
    "        print(cmd)\n",
    "        return executePeerCmd(self.pod_name, cmd)\n",
    "\n",
    "    def endorse_peer(self,orderer=None,orderer_ip=None,channel_name=None,shared_fs_host=None,ext_peer_ip='10.15.136.41'):\n",
    "        peername = self.name\n",
    "        peer_host_name = self.get_hostname()\n",
    "        #peer_host_name = peername + '.kubernetes.research.dev.seeburger.de'\n",
    "        print(orderer_ip,channel_name,self.name,shared_fs_host,ext_peer_ip, peer_host_name)\n",
    "        cmd = toCmd(['/mnt/conf/orderer/scripts/inform_existing_nodes.sh',orderer_ip,channel_name,self.name,shared_fs_host,ext_peer_ip, peer_host_name]) \n",
    "        #print(cmd)\n",
    "        return executePeerCmd(orderer.pod_name,cmd,cli='scray-orderer-cli')\n",
    "\n",
    "    def endorse_and_join(self,orderer=None,orderer_ip=None,channel_name=None,shared_fs_host=None,ext_peer_ip='10.15.136.41'):    \n",
    "        res1 = self.endorse_peer(orderer=orderer,orderer_ip=orderer_ip,channel_name=channel_name,shared_fs_host=shared_fs_host)   \n",
    "        res2  = self.joinHyperledger(orderer_ip=orderer_ip,orderer_hostname=orderer.host,orderer_port=orderer.listen_port,channel_name=channel_name,shared_fs_host=shared_fs_host,ext_peer_ip=ext_peer_ip)\n",
    "        return res1,res2        \n",
    "        \n",
    "    def installAndAproveChaincode(self, orderer=None, channel_name=None, chain_code=None, sequence=1):\n",
    "        strlist = ['/mnt/conf/install_and_approve_cc.sh', chain_code.host, orderer.get_ip(), orderer.host, str(orderer.listen_port), channel_name, chain_code.pkgid, chain_code.hostname, chain_code.label, chain_code.shared_fs, str(sequence) ]\n",
    "        return executePeerCmd(self.pod_name,toCmd(strlist)) \n",
    "\n",
    "    def commitChaincode(self,channel_name,sequence=1,pkgid=''):\n",
    "        strlist = ['/mnt/conf/peer/cc_commit.sh', channel_name, str(sequence),pkgid ]\n",
    "        print(toCmd(strlist))\n",
    "        return executePeerCmd(self.pod_name,toCmd(strlist))                 \n",
    "        \n",
    "       \n",
    "    def getExport_MSPCONFIGPATH(self,hostname,user='User1'):\n",
    "        splits = user.split('@')\n",
    "        hostname =  self.hostname \n",
    "        if len(splits) > 1:\n",
    "            user = splits[0]\n",
    "            hostname = splits[1]\n",
    "        path = '/mnt/conf/organizations/peerOrganizations/' + hostname + '/users/' + user + '@' + hostname + '/msp/'\n",
    "        return 'export CORE_PEER_MSPCONFIGPATH=' + path\n",
    "        \n",
    "    def invoke(self,callopt,channel_name=None, user='User1'):\n",
    "        print(callopt)\n",
    "        global _out\n",
    "        _out = widgets.Output()\n",
    "        with _out:\n",
    "            try:\n",
    "                export_cmd = self.getExport_MSPCONFIGPATH(getHostname(peer,user),user=user)\n",
    "                cmd0 = str('\\'' + callopt + \"\\'\")\n",
    "                #strlist = ['peer', 'chaincode', 'invoke', '-o', 'orderer.example.com:30081', '--tls', '--cafile', '/tmp/tlsca.example.com-cert.pem','-C', channel_name, '-n', 'basic', '-c', cmd0]\n",
    "                #strlist = ['peer', 'chaincode', 'invoke', '--waitForEventTimeout','1s' ,'-o', 'orderer.example.com:30081', '--tls', '--cafile', '/tmp/tlsca.example.com-cert.pem','-C', channel_name, '-n', 'basic', '-c', cmd0]\n",
    "                strlist = ['peer', 'chaincode', 'invoke', '-o', 'orderer.example.com:30081', '--waitForEvent',  '--tls', '--cafile', '/tmp/tlsca.example.com-cert.pem','-C', channel_name, '-n', 'basic', '-c', cmd0]\n",
    "\n",
    "                cmd = toCmd(strlist)\n",
    "                cmd = export_cmd + '  && ' + cmd\n",
    "                #print(cmd)  \n",
    "                output = executePeerCmd(self.pod_name, cmd)\n",
    "                if output.endswith ('\\n'):\n",
    "                    return output[:-1],_out\n",
    "                return output,_out\n",
    "            except Exception as e:\n",
    "                print('Exception:', e)\n",
    "                if output.endswith ('\\n'):\n",
    "                    return output[:-1],_out\n",
    "                return output,_out\n",
    "\n",
    "    def query(self,callopt, channel_name=None, user='User1'):\n",
    "        global _out\n",
    "        _out = widgets.Output()\n",
    "        with _out:\n",
    "            try:\n",
    "                export_cmd = self.getExport_MSPCONFIGPATH(getHostname(peer,user),user=user)\n",
    "                cmd0 = str('\\'' + callopt + \"\\'\")\n",
    "                strlist = ['peer', 'chaincode', 'query', '-C', channel_name, '-n', 'basic', '-c', cmd0]\n",
    "                cmd = toCmd(strlist)\n",
    "                cmd = export_cmd + '  && ' + cmd\n",
    "                print(cmd)\n",
    "                output = executePeerCmd(self.pod_name, cmd)\n",
    "                if output.endswith ('\\n'):\n",
    "                    output=output[:-1]\n",
    "                return json.loads(output),_out\n",
    "            except Exception as e:\n",
    "                print('Exception:', e)\n",
    "                return output,_out        \n",
    "        \n",
    "    def installWalletTool(self,sharepoint=None):\n",
    "        self.wallet_tool = WalletTool(peer=self,sharepoint=sharepoint)\n",
    "        self.wallet_tool.installWalletTool()        \n",
    "        \n",
    "#class ordererpeer(kubernetes_peer):\n",
    "class ordererpeer(object):\n",
    "    def __init__(self, name='',prefix='orderer'):\n",
    "        #super().__init__(name,prefix)\n",
    "        self.name = ''\n",
    "        self.pod_name = kubernetesTool.getPod(name)\n",
    "        self.host = 'orderer.example.com'\n",
    "        self.orderer_intern = 7050\n",
    "        self.listen_port = kubernetesTool.getPort(peername=name, name = prefix + '-listen')\n",
    "        \n",
    "    # can change\n",
    "    def get_ip(self, app='orderer-org1-scray-org'):\n",
    "        return executeKubectlCmd(['get', 'pods','-l', 'app=' + app,'-o','jsonpath=\\'{.items[*].status.podIP}\\''])   \n",
    "    "
   ]
  },
  {
   "cell_type": "markdown",
   "metadata": {},
   "source": [
    "### Blockchain"
   ]
  },
  {
   "cell_type": "code",
   "execution_count": 8,
   "metadata": {},
   "outputs": [],
   "source": [
    "class Blockchain(object):\n",
    "    def __init__(self, name='orderer-org1-scray-org',prefix='orderer', channel_name='invoicing17',shared_fs=None,sharepoint=None):\n",
    "        self.peers = {}\n",
    "        \n",
    "        self.orderer = ordererpeer(name=name,prefix='orderer')\n",
    "        self.orderer_ip=self.orderer.get_ip()\n",
    "        self.orderer_hostname=self.orderer.host\n",
    "        self.orderer_port= self.orderer.listen_port\n",
    "\n",
    "        self.shared_fs = shared_fs\n",
    "        self.channel_name=channel_name\n",
    "        self.shared_fs_host='10.14.128.38:30080'\n",
    "        self.sharepoint = sharepoint\n",
    "        self.wallet_tool = WalletTool(sharepoint=self.sharepoint)\n",
    " \n",
    "    def addPeer(self,peername,hostname='kubernetes.research.dev.seeburger.de',ca_country='DE',ca_province='Baden',ca_locality='Bretten'):  \n",
    "        if peername in self.peers.keys():\n",
    "            return self.peers[peername]\n",
    "\n",
    "        peer = KubernetesPeer(name=peername,hostname=hostname,ca_country=ca_country,ca_province=ca_province,ca_locality=ca_locality)\n",
    "        self.peers[peername] = peer   \n",
    "\n",
    "    def add_channel(self,name):\n",
    "        self.channel_name=name\n",
    "        cmd1 = ['/home/jovyan/work/usr/bin/kubectl', 'exec','-t', self.orderer.pod_name, '-c', 'scray-orderer-cli','--', '/bin/sh']\n",
    "        cmd2 = ['/mnt/conf/orderer/scripts/create_channel.sh', name, 'orderer.example.com', '30081']\n",
    "        #cmd = toCmd(cmd1 + cmd2)\n",
    "        ret = subprocess.run(cmd1 + cmd2, stdout = subprocess.PIPE, stderr=subprocess.PIPE)\n",
    "        #return executePeerCmd(orderer.pod_name, cmd, cli='scray-orderer-cli')\n",
    "        return ret.stdout.decode('ascii'), ret.stderr.decode('ascii')    \n",
    "    \n",
    "    def endorse_and_join_all_peers(self): \n",
    "        out2 = widgets.Output()\n",
    "        with out2:\n",
    "            for key, peer in self.peers.items():\n",
    "                peer.endorse_and_join(orderer=self.orderer,orderer_ip=self.orderer_ip,channel_name=self.channel_name,shared_fs_host=self.shared_fs)\n",
    "        return out2      \n",
    "    \n",
    "    \n",
    "    def deletePeers(self):\n",
    "        for key,peer in self.peers.items():\n",
    "            peer.deletePeer()\n",
    "        for key in list(self.peers.keys()):    \n",
    "            del self.peers[key]\n",
    "\n",
    "    # create, delete numbered peers\n",
    "    def createPeers(self,base_name,start=0, end=10):\n",
    "        for x in range(start,end):\n",
    "            peername = base_name + '-' + str(x) \n",
    "            self.addPeer(peername)\n",
    "\n",
    "    def deleteNumberedPeers(name):\n",
    "        for x in range(0,10):\n",
    "            key = name + str(x)\n",
    "            self.peers[key].deletePeer()    \n",
    "            del self.peers[key]\n",
    "           \n",
    "    # kubernetes    \n",
    "    def deleteAllPeers(config):\n",
    "        for item in config['items']:\n",
    "            try:\n",
    "                if 'org_name' in item['data'].keys():\n",
    "                    self.deletePeer(item['data']['org_name'])\n",
    "            except Exception as e:\n",
    "                print(item['data'])    \n",
    "         \n",
    "    def installAndAproveChaincode(self, channel_name=None, chain_code=None):       \n",
    "        for key, peer in _blockchain.peers.items():\n",
    "            peer.installAndAproveChaincode(orderer=self.orderer, channel_name=channel_name, chain_code=chain_code)   \n",
    "            \n",
    "    def installWalletTool(self):\n",
    "        for key,peer in self.peers.items():\n",
    "            peer.installWalletTool(sharepoint=self.sharepoint)\n",
    "            #wallet_tool = WalletTool(peer=peer,sharepoint=self.sharepoint)\n",
    "            #wallet_tool.installWalletTool()"
   ]
  },
  {
   "cell_type": "code",
   "execution_count": 4,
   "metadata": {},
   "outputs": [],
   "source": [
    "import json\n",
    "\n",
    "class Chaincode(object):\n",
    "    def __init__(self):\n",
    "        #self.shared_fs='kubernetes.research.dev.seeburger.de:30080'\n",
    "        self.shared_fs='10.15.130.111:80'\n",
    "        self.hostname='invoice-net.org1.example.com'\n",
    "        self.host='10.14.128.38'\n",
    "        self.service_name='hl-fabric-cc-external-invoice-net'\n",
    "        self.port = executeKubectlCmd(['get', 'service', self.service_name, '-o', 'jsonpath=\"{.spec.ports[?(@.name==\\'chaincode\\')].nodePort}\"'], decode='json')\n",
    "        self.label='basic_1.0'\n",
    "        self.pkgid = self.get_pkgid()\n",
    "        \n",
    "    def get_pkgid(self):\n",
    "        try:\n",
    "            strlist = ['curl','-s','--user','scray:scray','http://' + self.shared_fs + '/cc_descriptions/' + self.hostname + '_' + self.label + '/description-hash.json']\n",
    "            output = executeLocalCmd(strlist)\n",
    "            return json.loads(output.decode('ascii'))['description-hash']\n",
    "        except Exception as e:\n",
    "            return None   "
   ]
  },
  {
   "cell_type": "code",
   "execution_count": 13,
   "metadata": {},
   "outputs": [],
   "source": [
    "_blockchain = Blockchain(channel_name='invoicing20',shared_fs='10.15.130.111:80',sharepoint=SharePoint())\n",
    "cc = Chaincode()"
   ]
  },
  {
   "cell_type": "code",
   "execution_count": 14,
   "metadata": {},
   "outputs": [],
   "source": [
    "_blockchain.addPeer('aubonmoulin', hostname='fr',ca_country='FR',ca_province='Provence-Alpes-Cote d\\'Azur',ca_locality='Malaucene')\n",
    "_blockchain.addPeer('lyon-impots', hostname='gouv.fr',ca_country='FR',ca_province='Auvergne-Rhone-Alpes',ca_locality='Lyon')\n",
    "_blockchain.addPeer('austriafactor', hostname='at',ca_country='AT',ca_province='Steiermark',ca_locality='Graz')\n",
    "_blockchain.addPeer('megustaolive', hostname='es',ca_country='ES',ca_province='Andalusia',ca_locality='Dos Hermanas')"
   ]
  },
  {
   "cell_type": "code",
   "execution_count": null,
   "metadata": {},
   "outputs": [],
   "source": [
    "_blockchain.peers"
   ]
  },
  {
   "cell_type": "code",
   "execution_count": 15,
   "metadata": {},
   "outputs": [],
   "source": [
    "#cc.pkgid\n",
    "#_blockchain.wallet_tool.__dict__\n",
    "_blockchain.installWalletTool()"
   ]
  },
  {
   "cell_type": "code",
   "execution_count": 18,
   "metadata": {},
   "outputs": [
    {
     "data": {
      "text/plain": [
       "('OK: 138 MiB in 84 packages\\nOK: 138 MiB in 84 packages\\ncreate_csr\\nCreate csr  for Auguste.Boucher@lyon-impots.gouv.fr\\nConfiguration\\n  CA cert path:   ../ca.org1.example.com-cert.pem \\n  CA key path:    ../priv_sk  \\n  CN of new cert: Auguste.Boucher@lyon-impots.gouv.fr \\n  Organisation:    \\nOK: 138 MiB in 84 packages\\nOK: 138 MiB in 84 packages\\npush_csr\\nkubernetes.research.dev.seeburger.de:30080\\nReplace  http://kubernetes.research.dev.seeburger.de:30080/csrs_to_sign/Auguste.Boucher@lyon-impots.gouv.fr/user.csr  if exits\\nConfiguration\\n  CA cert path:   ../ca.org1.example.com-cert.pem \\n  CA key path:    ../priv_sk  \\n  CN of new cert: Auguste.Boucher@lyon-impots.gouv.fr \\n  Organisation:    \\nOK: 138 MiB in 84 packages\\nOK: 138 MiB in 84 packages\\npull_csr\\nConfiguration\\n  CA cert path:   ../ca.org1.example.com-cert.pem \\n  CA key path:    ../priv_sk  \\n  CN of new cert: Auguste.Boucher@lyon-impots.gouv.fr \\n  Organisation:    \\nOK: 138 MiB in 84 packages\\nOK: 138 MiB in 84 packages\\nsign_csr\\nConfiguration\\n  CA cert path:   /mnt/conf/organizations/peerOrganizations/lyon-impots.gouv.fr/ca/ca.lyon-impots.gouv.fr-cert.pem \\n  CA key path:    /mnt/conf/organizations/peerOrganizations/lyon-impots.gouv.fr/ca/priv_sk  \\n  CN of new cert: Auguste.Boucher@lyon-impots.gouv.fr \\n  Organisation:    \\nOK: 138 MiB in 84 packages\\nOK: 138 MiB in 84 packages\\npublish_crt\\nReplace  Auguste.Boucher@lyon-impots.gouv.fr.crt  if exists\\nConfiguration\\n  CA cert path:   ../ca.org1.example.com-cert.pem \\n  CA key path:    ../priv_sk  \\n  CN of new cert: Auguste.Boucher@lyon-impots.gouv.fr \\n  Organisation:    \\nOK: 138 MiB in 84 packages\\nOK: 138 MiB in 84 packages\\npull_signed_crt\\nConfiguration\\n  CA cert path:   ../ca.org1.example.com-cert.pem \\n  CA key path:    ../priv_sk  \\n  CN of new cert: Auguste.Boucher@lyon-impots.gouv.fr \\n  Organisation:    \\n',\n",
       " Output())"
      ]
     },
     "execution_count": 18,
     "metadata": {},
     "output_type": "execute_result"
    }
   ],
   "source": [
    "_blockchain.peers['aubonmoulin'].wallet_tool.addUser('Tony.Dubois','aubonmoulin.fr','aubonmoulin.fr')\n",
    "_blockchain.peers['aubonmoulin'].wallet_tool.addUser('Stephanie.Hoarau','hotelsaintdenis.re','aubonmoulin.fr')\n",
    "_blockchain.peers['aubonmoulin'].wallet_tool.addUser('Alexandre.Payet','majolieboutique.net','aubonmoulin.fr')\n",
    "_blockchain.peers['austriafactor'].wallet_tool.addUser('Emma.Steiner','austriafactor.at','austriafactor.at')\n",
    "_blockchain.peers['megustaolive'].wallet_tool.addUser('Pedro.Sanchez','megustaolive.es','megustaolive.es')\n",
    "_blockchain.peers['lyon-impots'].wallet_tool.addUser('Auguste.Boucher','lyon-impots.gouv.fr','lyon-impots.gouv.fr')"
   ]
  },
  {
   "cell_type": "code",
   "execution_count": null,
   "metadata": {},
   "outputs": [],
   "source": [
    "_blockchain.peers.items()"
   ]
  },
  {
   "cell_type": "markdown",
   "metadata": {},
   "source": [
    "## cleanup"
   ]
  },
  {
   "cell_type": "code",
   "execution_count": null,
   "metadata": {},
   "outputs": [],
   "source": [
    "_blockchain.deletePeers()\n",
    "#_blockchain.peers"
   ]
  },
  {
   "cell_type": "markdown",
   "metadata": {},
   "source": [
    "## init"
   ]
  },
  {
   "cell_type": "code",
   "execution_count": null,
   "metadata": {},
   "outputs": [],
   "source": [
    "strlist = ['curl','-s','--user','scray:scray','http://' + shared_fs + '/cc_descriptions/' + cc_hostname + '_' + cc_label + '/description-hash.json']\n",
    "cmd = toCmd(strlist)\n",
    "cmd\n",
    "output = executeLocalCmd(strlist)\n",
    "output.decode('ascii')['description-hash']"
   ]
  },
  {
   "cell_type": "code",
   "execution_count": null,
   "metadata": {},
   "outputs": [],
   "source": [
    "_blockchain.peers['aubonmoulin'].__dict__\n",
    "_blockchain.orderer.__dict__"
   ]
  },
  {
   "cell_type": "code",
   "execution_count": null,
   "metadata": {},
   "outputs": [],
   "source": [
    "executePeerCmd(_blockchain.peers['aubonmoulin'].pod_name,'echo $HOSTNAME')[:-1]"
   ]
  },
  {
   "cell_type": "code",
   "execution_count": null,
   "metadata": {},
   "outputs": [],
   "source": [
    "peers = {}\n",
    "peers"
   ]
  },
  {
   "cell_type": "markdown",
   "metadata": {},
   "source": [
    "## add channel"
   ]
  },
  {
   "cell_type": "code",
   "execution_count": null,
   "metadata": {},
   "outputs": [],
   "source": [
    "_blockchain.add_channel('invoicing22')"
   ]
  },
  {
   "cell_type": "code",
   "execution_count": null,
   "metadata": {},
   "outputs": [],
   "source": [
    "_blockchain.__dict__"
   ]
  },
  {
   "cell_type": "code",
   "execution_count": null,
   "metadata": {},
   "outputs": [],
   "source": [
    "out2.outputs[1]['text'].splitlines()"
   ]
  },
  {
   "cell_type": "markdown",
   "metadata": {},
   "source": [
    "## create peers"
   ]
  },
  {
   "cell_type": "markdown",
   "metadata": {},
   "source": [
    "### add peers"
   ]
  },
  {
   "cell_type": "code",
   "execution_count": null,
   "metadata": {},
   "outputs": [],
   "source": [
    "_blockchain.peers['aubonmoulin'].__dict__"
   ]
  },
  {
   "cell_type": "markdown",
   "metadata": {},
   "source": [
    "### endorse and join"
   ]
  },
  {
   "cell_type": "code",
   "execution_count": null,
   "metadata": {},
   "outputs": [],
   "source": [
    "## endorse and join\n",
    "import ipywidgets as widgets\n",
    "\n",
    "#orderer_ip,orderer_hostname,orderer_port,channel_name,shared_fs_host"
   ]
  },
  {
   "cell_type": "code",
   "execution_count": null,
   "metadata": {},
   "outputs": [],
   "source": [
    "_blockchain.endorse_and_join_all_peers()"
   ]
  },
  {
   "cell_type": "markdown",
   "metadata": {},
   "source": [
    "## upload chaincode to sharepoint"
   ]
  },
  {
   "cell_type": "code",
   "execution_count": null,
   "metadata": {},
   "outputs": [],
   "source": [
    "strlist = ['/bin/sh /opt/create-archive.sh',cc.hostname,cc.port,cc.label,cc.shared_fs]\n",
    "cmd = toCmd(strlist)\n",
    "print(cmd)\n",
    "#cmd = export_cmd + '  && ' + cmd\n",
    "output = executePeerCmd(getPod('cc-deployer'), cmd,cli='cc-deployer')"
   ]
  },
  {
   "cell_type": "code",
   "execution_count": null,
   "metadata": {},
   "outputs": [],
   "source": [
    "output"
   ]
  },
  {
   "cell_type": "code",
   "execution_count": null,
   "metadata": {},
   "outputs": [],
   "source": [
    "cc.__dict__"
   ]
  },
  {
   "cell_type": "markdown",
   "metadata": {},
   "source": [
    "## install chaincode"
   ]
  },
  {
   "cell_type": "code",
   "execution_count": null,
   "metadata": {},
   "outputs": [],
   "source": [
    "_blockchain.installAndAproveChaincode(channel_name=_blockchain.channel_name, chain_code=cc)"
   ]
  },
  {
   "cell_type": "code",
   "execution_count": null,
   "metadata": {},
   "outputs": [],
   "source": [
    "_blockchain.peers['aubonmoulin'].commitChaincode(_blockchain.channel_name,pkgid=cc.pkgid)"
   ]
  },
  {
   "cell_type": "code",
   "execution_count": null,
   "metadata": {},
   "outputs": [],
   "source": [
    "executePeerCmd(_blockchain.peers['aubonmoulin'].pod_name,'/mnt/conf/peer/cc_commit.sh invoicing20 1 basic_1.0:af21a821cd9c3a5b2784de6cbb278da8c308a72bfd16648f6d333ff51cb2c1f5')"
   ]
  },
  {
   "cell_type": "code",
   "execution_count": null,
   "metadata": {},
   "outputs": [],
   "source": [
    "_blockchain.peers['aubonmoulin'].__dict__"
   ]
  },
  {
   "cell_type": "markdown",
   "metadata": {},
   "source": [
    "#### obsolete"
   ]
  },
  {
   "cell_type": "code",
   "execution_count": null,
   "metadata": {},
   "outputs": [],
   "source": [
    "for key, peer in _blockchain.peers.items():\n",
    "    executePeerCmd(peer.pod_name,'apk add curl')\n",
    "    strlist = ['curl', 'https://raw.githubusercontent.com/scray/scray-ledger/develop/containers/hl-fabric-node-configurator/conf/install_and_approve_cc.sh', '-o', '/mnt/conf/install_and_approve_cc.sh']\n",
    "    cmd = toCmd(strlist)\n",
    "    print(cmd)\n",
    "    output = executePeerCmd(peer.pod_name,  cmd)\n",
    "    executePeerCmd(peer.pod_name,'chmod 755 /mnt/conf/install_and_approve_cc.sh')\n",
    "    strlist = ['curl', 'https://raw.githubusercontent.com/scray/scray-ledger/develop/containers/hl-fabric-node-configurator/conf/peer/cc_commit.sh', '-o', '/mnt/conf/peer/cc_commit.sh']\n",
    "    cmd = toCmd(strlist)\n",
    "    print(cmd)\n",
    "    output = executePeerCmd(peer.pod_name,  cmd)\n",
    "    executePeerCmd(peer.pod_name,'chmod 755 /mnt/conf/peer/cc_commit.sh')"
   ]
  },
  {
   "cell_type": "markdown",
   "metadata": {},
   "source": [
    "## add roles"
   ]
  },
  {
   "cell_type": "code",
   "execution_count": null,
   "metadata": {},
   "outputs": [],
   "source": [
    "def appendRoles(peers):\n",
    "    peer=peers['lyon-impots']\n",
    "    appendRole(peer,user='Auguste.Boucher@lyon-impots.gouv.fr',role='TaxInspector')\n",
    "    peer_taxinspector=peer\n",
    "    #taxinspector=get_person_names_with_role('TaxInspector',roles)[0].split(',')[0].split('=')[1]  \n",
    "    taxinspector='Auguste.Boucher@lyon-impots.gouv.fr'\n",
    "\n",
    "    identity_taxinspector = getSubmittingClientIdentity(peer_taxinspector, user=taxinspector)[0]\n",
    "\n",
    "    peer=peers['aubonmoulin']\n",
    "    appendRole(peer,user='Tony.Dubois@aubonmoulin.fr',role='Seller',taxInspector=identity_taxinspector)\n",
    "    #appendRole(peer,user='Stephanie.Hoarau',role='Buyer')\n",
    "    #appendRole(peer,user='Alexandre.Payet',role='Buyer')\n",
    "\n",
    "    peer=peers['austriafactor']\n",
    "    appendRole(peer,user='Emma.Steiner@austriafactor.at',role='Factor',taxInspector=identity_taxinspector)\n",
    "\n",
    "    peer=peers['megustaolive']\n",
    "    appendRole(peer,user='Pedro.Sanchez@megustaolive.es',role='Buyer',taxInspector=identity_taxinspector)\n",
    "    appendRole(peer,user='Pedro.Sanchez@megustaolive.es',role='Seller',taxInspector=identity_taxinspector)"
   ]
  },
  {
   "cell_type": "code",
   "execution_count": null,
   "metadata": {},
   "outputs": [],
   "source": [
    "orgs=getPeerOrganizations(_blockchain.peers['aubonmoulin'])\n",
    "\n",
    "for org in orgs:\n",
    "    users = getPeerUsers(_blockchain.peers['aubonmoulin'],org)\n",
    "    print(org,users)\n"
   ]
  },
  {
   "cell_type": "code",
   "execution_count": null,
   "metadata": {},
   "outputs": [],
   "source": [
    "orgs=getPeerOrganizations(_blockchain.peers['aubonmoulin'])\n"
   ]
  },
  {
   "cell_type": "code",
   "execution_count": null,
   "metadata": {},
   "outputs": [],
   "source": [
    "orgs"
   ]
  },
  {
   "cell_type": "code",
   "execution_count": null,
   "metadata": {},
   "outputs": [],
   "source": [
    "strlist = ['/bin/ls',  '/mnt/conf/organizations/peerOrganizations/']\n",
    "peer=_blockchain.peers['aubonmoulin']\n",
    "executePeerCmd(peer.pod_name,toCmd(strlist)).splitlines() "
   ]
  },
  {
   "cell_type": "code",
   "execution_count": null,
   "metadata": {},
   "outputs": [],
   "source": [
    "appendRoles(_blockchain.peers)\n",
    "#peer=_blockchain.peers['lyon-impots']\n",
    "#appendRole(peer,user='Auguste.Boucher@lyon-impots.gouv.fr',role='TaxInspector')"
   ]
  },
  {
   "cell_type": "code",
   "execution_count": null,
   "metadata": {},
   "outputs": [],
   "source": [
    "peer=_blockchain.peers['lyon-impots']\n",
    "getRoles(peer,user='Auguste.Boucher@lyon-impots.gouv.fr')[0]"
   ]
  },
  {
   "cell_type": "code",
   "execution_count": null,
   "metadata": {},
   "outputs": [],
   "source": [
    "callopt='{\"function\":\"AppendRole\",\"Args\":[\"x509::CN=Auguste.Boucher@lyon-impots.gouv.fr,OU=admin,O=kubernetes.research.dev.seeburger.de::CN=ca.lyon-impots.gouv.fr,O=lyon-impots.gouv.fr,L=Lyon,ST=Auvergne-Rhone-Alpes,C=FR\",\"TaxInspector\",\"\"]}'"
   ]
  },
  {
   "cell_type": "code",
   "execution_count": null,
   "metadata": {},
   "outputs": [],
   "source": [
    "peer=_blockchain.peers['lyon-impots']\n",
    "getAllKeys(peer)"
   ]
  },
  {
   "cell_type": "code",
   "execution_count": null,
   "metadata": {},
   "outputs": [],
   "source": [
    "peer=_blockchain.peers['lyon-impots']\n",
    "callopt= '{\"function\":\"GetAllKeys\",\"Args\":[' + ']}'\n",
    "#peer.query(callopt,channel_name='invoicing18',user='Auguste.Boucher@lyon-impots.gouv.fr')\n",
    "peer.query(callopt,channel_name='invoicing18',user='User1')"
   ]
  },
  {
   "cell_type": "code",
   "execution_count": null,
   "metadata": {},
   "outputs": [],
   "source": [
    "getAllRoles(peer)\n",
    "getRoles(peer, user='Auguste.Boucher@lyon-impots.gouv.fr')"
   ]
  },
  {
   "cell_type": "code",
   "execution_count": null,
   "metadata": {},
   "outputs": [],
   "source": [
    "getRoleTransactions(peer)"
   ]
  },
  {
   "cell_type": "code",
   "execution_count": null,
   "metadata": {},
   "outputs": [],
   "source": [
    "invoices = get_invoices()\n",
    "createInvoices(invoices,_blockchain.peers)\n",
    "#invoices"
   ]
  },
  {
   "cell_type": "code",
   "execution_count": null,
   "metadata": {},
   "outputs": [],
   "source": [
    "peer=_blockchain.peers['aubonmoulin']\n",
    "getPeerOrganizations(peer)"
   ]
  },
  {
   "cell_type": "code",
   "execution_count": null,
   "metadata": {},
   "outputs": [],
   "source": [
    "get_peer_of_user('Tony.Dubois@aubonmoulin.fr',_blockchain.peers)"
   ]
  },
  {
   "cell_type": "code",
   "execution_count": null,
   "metadata": {},
   "outputs": [],
   "source": [
    "peer=_blockchain.peers['aubonmoulin']\n",
    "listInvoices(peer, user='Tony.Dubois@aubonmoulin.fr')[0]"
   ]
  },
  {
   "cell_type": "code",
   "execution_count": null,
   "metadata": {},
   "outputs": [],
   "source": [
    "peer=_blockchain.peers['aubonmoulin']\n",
    "InvoiceSmartContract(peer=peer, user='Tony.Dubois@aubonmoulin.fr').listInvoices()[0]"
   ]
  },
  {
   "cell_type": "code",
   "execution_count": null,
   "metadata": {},
   "outputs": [],
   "source": [
    "InvoiceSmartContract(peer=peer, user='Tony.Dubois@aubonmoulin.fr').__dict__"
   ]
  },
  {
   "cell_type": "code",
   "execution_count": null,
   "metadata": {},
   "outputs": [],
   "source": [
    "deleteAllInvoices(peer)  "
   ]
  }
 ],
 "metadata": {
  "kernelspec": {
   "display_name": "Python 3 (ipykernel)",
   "language": "python",
   "name": "python3"
  },
  "language_info": {
   "codemirror_mode": {
    "name": "ipython",
    "version": 3
   },
   "file_extension": ".py",
   "mimetype": "text/x-python",
   "name": "python",
   "nbconvert_exporter": "python",
   "pygments_lexer": "ipython3",
   "version": "3.9.5"
  }
 },
 "nbformat": 4,
 "nbformat_minor": 4
}
