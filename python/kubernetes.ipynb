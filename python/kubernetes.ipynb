{
 "cells": [
  {
   "cell_type": "markdown",
   "metadata": {},
   "source": [
    "# Kubernetes"
   ]
  },
  {
   "cell_type": "markdown",
   "metadata": {},
   "source": [
    "# Kubernetes Version (Current)"
   ]
  },
  {
   "cell_type": "code",
   "execution_count": 199,
   "metadata": {},
   "outputs": [],
   "source": [
    "from kubernetesTool import executeKubectlCmd\n",
    "from kubernetesTool import toCmd\n",
    "from kubernetesTool import executeLocalCmd\n",
    "from kubernetesTool import createConfig\n",
    "from kubernetesTool import getPort\n",
    "from kubernetesTool import executePeerCmd"
   ]
  },
  {
   "cell_type": "markdown",
   "metadata": {},
   "source": [
    "## check status peers"
   ]
  },
  {
   "cell_type": "code",
   "execution_count": 112,
   "metadata": {},
   "outputs": [
    {
     "name": "stdout",
     "output_type": "stream",
     "text": [
      "{'app': 'hl-fabric-data-share', 'pod-template-hash': '6849487f76'} Running\n",
      "{'app': 'invoice-net-chaincode-external', 'pod-template-hash': '5c56f49cd8'} Pending\n",
      "{'app': 'lalya-0', 'pod-template-hash': '7c887cffb8'} Running\n",
      "{'app': 'lalya-1', 'pod-template-hash': '7c76dff8c'} Running\n",
      "{'app': 'lalya-2', 'pod-template-hash': '5f8b45dbc4'} Running\n",
      "{'app': 'malya-0', 'pod-template-hash': '758f9c8df4'} Running\n",
      "{'app': 'malya-1', 'pod-template-hash': '74679f9f57'} Running\n",
      "{'app': 'malya-2', 'pod-template-hash': '6dc468fc48'} Running\n",
      "{'app': 'nalya-0', 'pod-template-hash': '5494459f47'} Running\n",
      "{'app': 'nalya-1', 'pod-template-hash': '69564b5bb8'} Running\n",
      "{'app': 'nalya-2', 'pod-template-hash': '864b6b7d9c'} Running\n",
      "{'app': 'oalya-0', 'pod-template-hash': '5858dcf8b4'} Running\n",
      "{'app': 'orderer-org1-scray-org', 'pod-template-hash': '9dbd9fc68'} Running\n",
      "{'app': 'palya-0', 'pod-template-hash': '5b9976c77c'} Running\n",
      "{'app': 'peer2', 'pod-template-hash': '5645f94d7d'} Running\n",
      "{'app': 'peer42', 'pod-template-hash': '7d48b4bd8b'} Running\n",
      "{'app': 'peer48', 'pod-template-hash': '57445d5f7b'} Running\n",
      "{'app': 'qalya-0', 'pod-template-hash': '5f9f959bcc'} Running\n"
     ]
    }
   ],
   "source": [
    "from kubernetesTool import executeKubectlCmd\n",
    "_res = executeKubectlCmd(['get', 'pods', '-o', 'json'], decode='json')\n",
    "\n",
    "for item in _res['items']:\n",
    "    labels=item['metadata']['labels']\n",
    "    #status=item['status']['initContainerStatuses'][0]\n",
    "    #print(labels,status['state'],status['restartCount'],status['name'],status['ready'])\n",
    "    print(labels,item['status']['phase'])\n",
    "    #print(labels)"
   ]
  },
  {
   "cell_type": "code",
   "execution_count": null,
   "metadata": {},
   "outputs": [],
   "source": [
    "_res['items'][3]['metadata']['labels']\n",
    "_res['items'][0]['status']['phase']"
   ]
  },
  {
   "cell_type": "code",
   "execution_count": null,
   "metadata": {},
   "outputs": [],
   "source": [
    "30489"
   ]
  },
  {
   "cell_type": "code",
   "execution_count": 106,
   "metadata": {},
   "outputs": [
    {
     "name": "stderr",
     "output_type": "stream",
     "text": [
      "Error from server (NotFound): services \"invoice-net-chaincode-external\" not found\n",
      "Error from server (NotFound): services \"invoice-net-chaincode-external\" not found\n"
     ]
    },
    {
     "data": {
      "text/plain": [
       "{'name': 'invoice-net-chaincode-external',\n",
       " 'pod_name': 'invoice-net-chaincode-external-5c56f49cd8-4qrm5',\n",
       " 'listen_port': 'Command \\'[\\'/home/jovyan/work/usr/bin/kubectl\\', \\'get\\', \\'service\\', \\'invoice-net-chaincode-external\\', \\'-o\\', \\'jsonpath=\"{.spec.ports[?(@.name==\\\\\\'peer-listen\\\\\\')].nodePort}\"\\']\\' returned non-zero exit status 1.',\n",
       " 'gossip_port': 'Command \\'[\\'/home/jovyan/work/usr/bin/kubectl\\', \\'get\\', \\'service\\', \\'invoice-net-chaincode-external\\', \\'-o\\', \\'jsonpath=\"{.spec.ports[?(@.name==\\\\\\'peer-gossip\\\\\\')].nodePort}\"\\']\\' returned non-zero exit status 1.'}"
      ]
     },
     "execution_count": 106,
     "metadata": {},
     "output_type": "execute_result"
    }
   ],
   "source": [
    "kubernetespeer(name='invoice-net-chaincode-external').__dict__"
   ]
  },
  {
   "cell_type": "code",
   "execution_count": 111,
   "metadata": {},
   "outputs": [
    {
     "name": "stdout",
     "output_type": "stream",
     "text": [
      "{'apiVersion': 'v1', 'kind': 'Pod', 'metadata': {'creationTimestamp': '2021-10-20T09:53:33Z', 'generateName': 'invoice-net-chaincode-external-5c56f49cd8-', 'labels': {'app': 'invoice-net-chaincode-external', 'pod-template-hash': '5c56f49cd8'}, 'managedFields': [{'apiVersion': 'v1', 'fieldsType': 'FieldsV1', 'fieldsV1': {'f:metadata': {'f:generateName': {}, 'f:labels': {'.': {}, 'f:app': {}, 'f:pod-template-hash': {}}, 'f:ownerReferences': {'.': {}, 'k:{\"uid\":\"d679532b-220d-4451-b511-0c930cceb22a\"}': {'.': {}, 'f:apiVersion': {}, 'f:blockOwnerDeletion': {}, 'f:controller': {}, 'f:kind': {}, 'f:name': {}, 'f:uid': {}}}}, 'f:spec': {'f:containers': {'k:{\"name\":\"invoice-net-chaincode-external\"}': {'.': {}, 'f:env': {'.': {}, 'k:{\"name\":\"CHAINCODE_ID\"}': {'.': {}, 'f:name': {}, 'f:value': {}}, 'k:{\"name\":\"CHAINCODE_SERVER_ADDRESS\"}': {'.': {}, 'f:name': {}, 'f:value': {}}, 'k:{\"name\":\"FABRIC_LOGGING_SPEC\"}': {'.': {}, 'f:name': {}, 'f:value': {}}}, 'f:image': {}, 'f:imagePullPolicy': {}, 'f:name': {}, 'f:resources': {}, 'f:terminationMessagePath': {}, 'f:terminationMessagePolicy': {}, 'f:workingDir': {}}}, 'f:dnsPolicy': {}, 'f:enableServiceLinks': {}, 'f:restartPolicy': {}, 'f:schedulerName': {}, 'f:securityContext': {}, 'f:terminationGracePeriodSeconds': {}}}, 'manager': 'kube-controller-manager', 'operation': 'Update', 'time': '2021-10-20T09:53:33Z'}, {'apiVersion': 'v1', 'fieldsType': 'FieldsV1', 'fieldsV1': {'f:status': {'f:conditions': {'k:{\"type\":\"ContainersReady\"}': {'.': {}, 'f:lastProbeTime': {}, 'f:lastTransitionTime': {}, 'f:message': {}, 'f:reason': {}, 'f:status': {}, 'f:type': {}}, 'k:{\"type\":\"Initialized\"}': {'.': {}, 'f:lastProbeTime': {}, 'f:lastTransitionTime': {}, 'f:status': {}, 'f:type': {}}, 'k:{\"type\":\"Ready\"}': {'.': {}, 'f:lastProbeTime': {}, 'f:lastTransitionTime': {}, 'f:message': {}, 'f:reason': {}, 'f:status': {}, 'f:type': {}}}, 'f:containerStatuses': {}, 'f:hostIP': {}, 'f:podIP': {}, 'f:podIPs': {'.': {}, 'k:{\"ip\":\"10.32.0.9\"}': {'.': {}, 'f:ip': {}}}, 'f:startTime': {}}}, 'manager': 'kubelet', 'operation': 'Update', 'time': '2021-10-20T09:53:36Z'}], 'name': 'invoice-net-chaincode-external-5c56f49cd8-4qrm5', 'namespace': 'default', 'ownerReferences': [{'apiVersion': 'apps/v1', 'blockOwnerDeletion': True, 'controller': True, 'kind': 'ReplicaSet', 'name': 'invoice-net-chaincode-external-5c56f49cd8', 'uid': 'd679532b-220d-4451-b511-0c930cceb22a'}], 'resourceVersion': '17349075', 'selfLink': '/api/v1/namespaces/default/pods/invoice-net-chaincode-external-5c56f49cd8-4qrm5', 'uid': '39d1517c-a41e-4519-8f17-689e33d8c042'}, 'spec': {'containers': [{'env': [{'name': 'FABRIC_LOGGING_SPEC', 'value': 'DEBUG'}, {'name': 'CHAINCODE_ID', 'value': 'basic_1.0:5a294a12a1a89cd4eed3d4234fbc79f42eab2ac20cd176bc8ebbc07c597cd0ee'}, {'name': 'CHAINCODE_SERVER_ADDRESS', 'value': '0.0.0.0:9999'}], 'image': 'scrayorg/chaincode-invoice-net', 'imagePullPolicy': 'Always', 'name': 'invoice-net-chaincode-external', 'resources': {}, 'terminationMessagePath': '/dev/termination-log', 'terminationMessagePolicy': 'File', 'volumeMounts': [{'mountPath': '/var/run/secrets/kubernetes.io/serviceaccount', 'name': 'default-token-5t2mh', 'readOnly': True}], 'workingDir': '/go/src/github.com/hyperledger/fabric-samples/asset-transfer-basic/chaincode-external'}], 'dnsPolicy': 'ClusterFirst', 'enableServiceLinks': True, 'nodeName': 'kubernetes', 'priority': 0, 'restartPolicy': 'Always', 'schedulerName': 'default-scheduler', 'securityContext': {}, 'serviceAccount': 'default', 'serviceAccountName': 'default', 'terminationGracePeriodSeconds': 30, 'tolerations': [{'effect': 'NoExecute', 'key': 'node.kubernetes.io/not-ready', 'operator': 'Exists', 'tolerationSeconds': 300}, {'effect': 'NoExecute', 'key': 'node.kubernetes.io/unreachable', 'operator': 'Exists', 'tolerationSeconds': 300}], 'volumes': [{'name': 'default-token-5t2mh', 'secret': {'defaultMode': 420, 'secretName': 'default-token-5t2mh'}}]}, 'status': {'conditions': [{'lastProbeTime': None, 'lastTransitionTime': '2021-10-20T09:53:33Z', 'status': 'True', 'type': 'Initialized'}, {'lastProbeTime': None, 'lastTransitionTime': '2021-10-20T09:53:33Z', 'message': 'containers with unready status: [invoice-net-chaincode-external]', 'reason': 'ContainersNotReady', 'status': 'False', 'type': 'Ready'}, {'lastProbeTime': None, 'lastTransitionTime': '2021-10-20T09:53:33Z', 'message': 'containers with unready status: [invoice-net-chaincode-external]', 'reason': 'ContainersNotReady', 'status': 'False', 'type': 'ContainersReady'}, {'lastProbeTime': None, 'lastTransitionTime': '2021-10-20T09:53:33Z', 'status': 'True', 'type': 'PodScheduled'}], 'containerStatuses': [{'image': 'scrayorg/chaincode-invoice-net', 'imageID': '', 'lastState': {}, 'name': 'invoice-net-chaincode-external', 'ready': False, 'restartCount': 0, 'started': False, 'state': {'waiting': {'message': 'rpc error: code = Unknown desc = Error response from daemon: manifest for scrayorg/chaincode-invoice-net:latest not found: manifest unknown: manifest unknown', 'reason': 'ErrImagePull'}}}], 'hostIP': '10.14.128.38', 'phase': 'Pending', 'podIP': '10.32.0.9', 'podIPs': [{'ip': '10.32.0.9'}], 'qosClass': 'BestEffort', 'startTime': '2021-10-20T09:53:33Z'}}\n"
     ]
    }
   ],
   "source": [
    "for item in _res['items']:\n",
    "    labels=item['metadata']['labels']\n",
    "    if labels['app'] == 'invoice-net-chaincode-external':\n",
    "        print(item)"
   ]
  },
  {
   "cell_type": "markdown",
   "metadata": {},
   "source": [
    "## addPeer"
   ]
  },
  {
   "cell_type": "code",
   "execution_count": 239,
   "metadata": {},
   "outputs": [],
   "source": [
    "def addPeer(peername):  \n",
    "    if peername in peers.keys():\n",
    "        return peers[peername]\n",
    "    # Create configuration for new peer\n",
    "    executeLocalCmd(['/bin/bash','-c','cd /home/jovyan/scray-ledger/containers/ && /home/jovyan/scray-ledger/containers/configure-deployment.sh -n ' + peername])\n",
    "    # Start service\n",
    "    executeKubectlCmd(['apply', '-f', '/home/jovyan/scray-ledger/containers/target/' + peername + '/k8s-peer-service.yaml'])\n",
    "    # Create peer configuration\n",
    "    res = createConfig(peername=peername,\n",
    "                       peer_listen_port=getPort(peername=peername, name='peer-listen'),\n",
    "                       peer_gossip_port=getPort(peername=peername, name='peer-gossip'))\n",
    "    # Start new peer\n",
    "    executeKubectlCmd(['apply', '-f','/home/jovyan/scray-ledger/containers/target/' + peername + '/k8s-peer.yaml'])\n",
    "    peer = kubernetespeer(name=peername)\n",
    "    peers[peername] = peer\n",
    "    return peer\n",
    "    \n",
    "# create, delete numbered peers\n",
    "def createPeers(base_name,start=0, end=10):\n",
    "    for x in range(start,end):\n",
    "        peername = base_name + '-' + str(x)\n",
    "        addPeer(peername)\n",
    "         \n",
    "def deletePeers(name):\n",
    "    for x in range(0,10):\n",
    "        peerneme = name + str(x)\n",
    "        deletePeer(peerneme)    \n",
    "  \n",
    "def deleteAllPeers(config):\n",
    "    for item in config['items']:\n",
    "        try:\n",
    "            if 'org_name' in item['data'].keys():\n",
    "                deletePeer(item['data']['org_name'])\n",
    "        except Exception as e:\n",
    "            print(item['data'])\n",
    "            \n",
    "\n",
    "### config            \n",
    "            \n",
    "import subprocess\n",
    "def deleteConfig(peername=''):\n",
    "    try:  \n",
    "        output  = subprocess.check_output(['/home/jovyan/work/usr/bin/kubectl', 'delete','configmap','hl-fabric-peer-' + peername])\n",
    "        return str(output)\n",
    "    except Exception as e:\n",
    "        return str(e)  \n",
    "        \n",
    "    \n",
    "def createConfig(peername='',peer_listen_port='',peer_gossip_port=''):\n",
    "    try:  \n",
    "        peer_host_name = peername + '.kubernetes.research.dev.seeburger.de'\n",
    "        output  = subprocess.check_output(['/home/jovyan/work/usr/bin/kubectl', 'create','configmap','hl-fabric-peer-' + peername,\n",
    "                                          '--from-literal=hostname=' + peer_host_name,\n",
    "                                          '--from-literal=org_name=' + peername,\n",
    "                                          '--from-literal=data_share=hl-fabric-data-share-service:80',\n",
    "                                          '--from-literal=CORE_PEER_ADDRESS=peer0.' + peer_host_name + ':' + peer_listen_port,\n",
    "                                          '--from-literal=CORE_PEER_GOSSIP_EXTERNALENDPOINT=' + peer_host_name + ':' + peer_gossip_port,\n",
    "                                          '--from-literal=CORE_PEER_LOCALMSPID=' + peername + 'MSP'])\n",
    "        return str(output)\n",
    "    except Exception as e:\n",
    "        return str(e)      \n",
    "    \n",
    "  \n",
    "##### execute\n",
    "\n",
    "def executePeerCmd(pod_name,cmd, cli='scray-peer-cli'):\n",
    "    try:  \n",
    "        #cmd1 = \"source /root/.bashrc && \"\n",
    "        cmd1 = ['/home/jovyan/work/usr/bin/kubectl', 'exec','-t', pod_name, '-c', cli,'--', '/bin/sh','-c',cmd]\n",
    "        #cmd1 = ['/home/jovyan/work/usr/bin/kubectl', 'exec','-t', pod_name, '-c', cli,'--', '/bin/sh','-c'] + cmd\n",
    "        print(toCmd(cmd1))\n",
    "        output  = subprocess.check_output(cmd1)\n",
    "        #output  = subprocess.check_output(['/home/jovyan/work/usr/bin/kubectl', 'exec', '--stdin' ,'--tty', pod_name, '-c', cli,'--', '/bin/sh','-c',cmd])\n",
    "        return output.decode('ascii')\n",
    "    except Exception as e:\n",
    "        return str(e)"
   ]
  },
  {
   "cell_type": "code",
   "execution_count": 11,
   "metadata": {},
   "outputs": [],
   "source": [
    "import kubernetesTool\n",
    "\n",
    "class kubernetespeer:\n",
    "    def __init__(self, name='',prefix='peer'):\n",
    "        self.name = name\n",
    "        self.pod_name = kubernetesTool.getPod(name)\n",
    "        self.listen_port = kubernetesTool.getPort(peername=name, name = prefix + '-listen')\n",
    "        self.gossip_port = kubernetesTool.getPort(peername=name, name = prefix + '-gossip')\n",
    "        # ????????\n",
    "        #print('kubernetespeer addBashEnvToPeer')\n",
    "        #addBashEnvToPeer(self)\n",
    "    def getCertificate(self):\n",
    "        try:\n",
    "            return str(subprocess.check_output(['cat', self.crt]))[2:-3]   \n",
    "        except Exception as e:\n",
    "            return str(e)      \n",
    "        \n",
    "class ordererpeer(kubernetespeer):\n",
    "    def __init__(self, name='',prefix='peer'):\n",
    "        super().__init__(name,prefix)\n",
    "        self.host = 'orderer.example.com'\n",
    "        self.orderer_intern = 7050\n",
    "        \n",
    "    # can change\n",
    "    def get_ip(self, app='orderer-org1-scray-org'):\n",
    "        return executeKubectlCmd(['get', 'pods','-l', 'app=' + app,'-o','jsonpath=\\'{.items[*].status.podIP}\\''])   \n",
    "    "
   ]
  },
  {
   "cell_type": "code",
   "execution_count": 12,
   "metadata": {},
   "outputs": [],
   "source": [
    "def toCmd(strlist):\n",
    "    return ''.join((str(e) + ' ') for e in strlist)[:-1]\n",
    "\n",
    "#!/home/jovyan/work/usr/bin/kubectl exec --stdin --tty $POD_NAME  -c scray-peer-cli -- /bin/sh /mnt/conf/peer_join.sh $ORDERER_IP  $ORDERER_HOSTNAME $CHANNEL_NAME         \n",
    "def joinHyperledger(peer,orderer_ip,orderer_hostname,orderer_port,channel_name,shared_fs_host,ext_peer_ip='10.15.136.41'):          \n",
    "    cmd = toCmd(['/mnt/conf/peer_join.sh', orderer_ip,orderer_hostname,orderer_port,channel_name,shared_fs_host,ext_peer_ip])\n",
    "    print(cmd)\n",
    "    return executePeerCmd(peer.pod_name, cmd)\n",
    "\n",
    "def endorse_peer(peer=None, orderer_ip='',channel_name='',shared_fs_host='',ext_peer_ip='10.15.136.41'):\n",
    "    print(peer.name)\n",
    "    peername = peer.name\n",
    "    peer_host_name = peername + '.kubernetes.research.dev.seeburger.de'\n",
    "    cmd = toCmd(['/mnt/conf/orderer/scripts/inform_existing_nodes.sh',orderer_ip,channel_name,peer.name,shared_fs_host,ext_peer_ip,peer_host_name]) \n",
    "    #print(cmd)\n",
    "    return executePeerCmd(orderer.pod_name,cmd,cli='scray-orderer-cli')\n",
    "\n",
    "def add_channel(name):\n",
    "    cmd1 = ['/mnt/conf/orderer/scripts/create_channel.sh', name, 'orderer.example.com', '7050']\n",
    "    cmd = toCmd(cmd1)\n",
    "    return executePeerCmd(orderer.pod_name, cmd1, cli='scray-orderer-cli')"
   ]
  },
  {
   "cell_type": "markdown",
   "metadata": {},
   "source": [
    "## create peers"
   ]
  },
  {
   "cell_type": "code",
   "execution_count": 186,
   "metadata": {},
   "outputs": [],
   "source": [
    "peers = {}"
   ]
  },
  {
   "cell_type": "code",
   "execution_count": 305,
   "metadata": {},
   "outputs": [
    {
     "data": {
      "text/plain": [
       "{'name': 'zalya-1',\n",
       " 'pod_name': 'zalya-1-67c54c9d79-2js2r',\n",
       " 'listen_port': '31202',\n",
       " 'gossip_port': ''}"
      ]
     },
     "execution_count": 305,
     "metadata": {},
     "output_type": "execute_result"
    }
   ],
   "source": [
    "peers['zalya-1'].__dict__\n",
    "#peers"
   ]
  },
  {
   "cell_type": "code",
   "execution_count": 67,
   "metadata": {},
   "outputs": [],
   "source": [
    "orderer = ordererpeer(name='orderer-org1-scray-org',prefix='orderer')"
   ]
  },
  {
   "cell_type": "code",
   "execution_count": 187,
   "metadata": {},
   "outputs": [],
   "source": [
    "createPeers('zalya',start=0, end=1)"
   ]
  },
  {
   "cell_type": "code",
   "execution_count": 304,
   "metadata": {},
   "outputs": [
    {
     "data": {
      "text/plain": [
       "<__main__.kubernetespeer at 0x7fd2bffd91c0>"
      ]
     },
     "execution_count": 304,
     "metadata": {},
     "output_type": "execute_result"
    }
   ],
   "source": [
    "addPeer('zalya-1')"
   ]
  },
  {
   "cell_type": "code",
   "execution_count": 115,
   "metadata": {},
   "outputs": [
    {
     "data": {
      "text/plain": [
       "{'name': 'orderer-org1-scray-org',\n",
       " 'pod_name': 'orderer-org1-scray-org-9dbd9fc68-5lrgq',\n",
       " 'listen_port': '30081',\n",
       " 'gossip_port': '',\n",
       " 'host': 'orderer.example.com',\n",
       " 'orderer_intern': 7050}"
      ]
     },
     "execution_count": 115,
     "metadata": {},
     "output_type": "execute_result"
    }
   ],
   "source": [
    "orderer.__dict__"
   ]
  },
  {
   "cell_type": "code",
   "execution_count": null,
   "metadata": {},
   "outputs": [],
   "source": [
    "kubectl exec --stdin --tty $ORDERER_POD -c scray-orderer-cli  -- /bin/sh /mnt/conf/orderer/scripts/inform_existing_nodes.sh $ORDERER_IP $CHANNEL_NAME $PEER_NAME $SHARED_FS_HOST $EXT_PEER_IP $PEER_HOST_NAME"
   ]
  },
  {
   "cell_type": "code",
   "execution_count": null,
   "metadata": {},
   "outputs": [],
   "source": [
    "EER_POD_NAME=$(kubectl get pod -l app=$PEER_NAME -o jsonpath=\"{.items[0].metadata.name}\")\n",
    " ORDERER_PORT=$(kubectl get service orderer-org1-scray-org -o jsonpath=\"{.spec.ports[?(@.name=='orderer-listen')].nodePort}\")\n",
    " ORDERER_PORT=7050\n",
    " PEER_PORT=$(kubectl get service $PEER_NAME -o jsonpath=\"{.spec.ports[?(@.name=='peer-listen')].nodePort}\")\n",
    " kubectl exec --stdin --tty $PEER_POD_NAME  -c scray-peer-cli -- /bin/sh /mnt/conf/peer_join.sh $ORDERER_IP  $ORDERER_HOSTNAME $ORDERER_PORT $CHANNEL_NAME $SHARED_FS_HOST $EXT_PEER_IP"
   ]
  },
  {
   "cell_type": "code",
   "execution_count": null,
   "metadata": {},
   "outputs": [],
   "source": []
  },
  {
   "cell_type": "code",
   "execution_count": 189,
   "metadata": {},
   "outputs": [],
   "source": [
    "#orderer_ip=get_orderer_ip('orderer-org1-scray-org') \n",
    "#orderer_hostname='orderer.example.com'\n",
    "#orderer_port='7050'\n",
    "\n",
    "orderer_ip=orderer.get_ip()\n",
    "orderer_hostname=orderer.host\n",
    "#orderer_port=orderer.orderer_intern\n",
    "orderer_port= orderer.listen_port\n",
    "\n",
    "channel_name='super53'\n",
    "shared_fs_host='10.14.128.38:30080'\n",
    "    \n",
    "def endorse_and_join(peer):    \n",
    "    res1 = endorse_peer(peer=peer,orderer_ip=orderer_ip,channel_name=channel_name,shared_fs_host='10.14.128.38:30080')   \n",
    "    res2  = joinHyperledger(peer,orderer_ip,orderer_hostname,orderer_port,channel_name,shared_fs_host)\n",
    "    return res1,res2\n",
    "\n",
    "import ipywidgets as widgets\n",
    "out2 = widgets.Output()\n",
    "\n",
    "with out2:\n",
    "    for key, value in peers.items():\n",
    "        endorse_and_join(value)"
   ]
  },
  {
   "cell_type": "code",
   "execution_count": 308,
   "metadata": {},
   "outputs": [
    {
     "name": "stdout",
     "output_type": "stream",
     "text": [
      "zalya-1\n",
      "/home/jovyan/work/usr/bin/kubectl exec -t orderer-org1-scray-org-9dbd9fc68-5lrgq -c scray-orderer-cli -- /bin/sh -c /mnt/conf/orderer/scripts/inform_existing_nodes.sh '10.32.0.5' super53 zalya-1 10.14.128.38:30080 10.15.136.41 zalya-1.kubernetes.research.dev.seeburger.de\n"
     ]
    },
    {
     "name": "stderr",
     "output_type": "stream",
     "text": [
      "\u001b[34m2021-11-02 13:08:28.371 UTC [channelCmd] InitCmdFactory -> INFO 001\u001b[0m Endorser and orderer connections initialized\n",
      "\u001b[34m2021-11-02 13:08:28.419 UTC [cli.common] readBlock -> INFO 002\u001b[0m Received block: 14\n",
      "\u001b[34m2021-11-02 13:08:28.420 UTC [channelCmd] fetch -> INFO 003\u001b[0m Retrieving last config block: 1\n",
      "\u001b[34m2021-11-02 13:08:28.430 UTC [cli.common] readBlock -> INFO 004\u001b[0m Received block: 1\n",
      "  % Total    % Received % Xferd  Average Speed   Time    Time     Time  Current\n",
      "                                 Dload  Upload   Total   Spent    Left  Speed\n",
      "100   237  100   237    0     0  59250      0 --:--:-- --:--:-- --:--:-- 59250\n",
      "  % Total    % Received % Xferd  Average Speed   Time    Time     Time  Current\n",
      "                                 Dload  Upload   Total   Spent    Left  Speed\n",
      "100   847    0     0  100   847      0  84700 --:--:-- --:--:-- --:--:-- 84700\n",
      "  % Total    % Received % Xferd  Average Speed   Time    Time     Time  Current\n",
      "                                 Dload  Upload   Total   Spent    Left  Speed\n",
      "100 11523  100 11523    0     0  1875k      0 --:--:-- --:--:-- --:--:-- 1875k\n",
      "\u001b[34m2021-11-02 13:08:29.920 UTC [channelCmd] InitCmdFactory -> INFO 001\u001b[0m Endorser and orderer connections initialized\n",
      "\u001b[34m2021-11-02 13:08:29.994 UTC [channelCmd] InitCmdFactory -> INFO 001\u001b[0m Endorser and orderer connections initialized\n",
      "\u001b[34m2021-11-02 13:08:30.093 UTC [channelCmd] update -> INFO 002\u001b[0m Successfully submitted channel update\n"
     ]
    },
    {
     "name": "stdout",
     "output_type": "stream",
     "text": [
      "/mnt/conf/peer_join.sh '10.32.0.5' orderer.example.com 30081 super53 10.14.128.38:30080 10.15.136.41\n",
      "/home/jovyan/work/usr/bin/kubectl exec -t zalya-1-67c54c9d79-2js2r -c scray-peer-cli -- /bin/sh -c /mnt/conf/peer_join.sh '10.32.0.5' orderer.example.com 30081 super53 10.14.128.38:30080 10.15.136.41\n"
     ]
    },
    {
     "name": "stderr",
     "output_type": "stream",
     "text": [
      "  % Total    % Received % Xferd  Average Speed   Time    Time     Time  Current\n",
      "                                 Dload  Upload   Total   Spent    Left  Speed\n",
      "100   847  100   847    0     0   165k      0 --:--:-- --:--:-- --:--:--  165k\n",
      "\u001b[34m2021-11-02 13:08:31.667 UTC [channelCmd] InitCmdFactory -> INFO 001\u001b[0m Endorser and orderer connections initialized\n",
      "\u001b[34m2021-11-02 13:08:31.682 UTC [cli.common] readBlock -> INFO 002\u001b[0m Received block: 0\n",
      "\u001b[34m2021-11-02 13:08:31.768 UTC [channelCmd] InitCmdFactory -> INFO 001\u001b[0m Endorser and orderer connections initialized\n",
      "\u001b[34m2021-11-02 13:08:31.882 UTC [channelCmd] executeJoin -> INFO 002\u001b[0m Successfully submitted proposal to join channel\n"
     ]
    },
    {
     "data": {
      "text/plain": [
       "('FFFFFFFFF\\nfetch http://dl-cdn.alpinelinux.org/alpine/v3.12/main/x86_64/APKINDEX.tar.gz\\nfetch http://dl-cdn.alpinelinux.org/alpine/v3.12/community/x86_64/APKINDEX.tar.gz\\nOK: 29 MiB in 28 packages\\n<!DOCTYPE HTML PUBLIC \"-//IETF//DTD HTML 2.0//EN\">\\n<html><head>\\n<title>301 Moved Permanently</title>\\n</head><body>\\n<h1>Moved Permanently</h1>\\n<p>The document has moved <a href=\"http://10.14.128.38:30080/ca/\">here</a>.</p>\\n</body></html>\\nRRRRRRR\\n',\n",
       " 'fetch http://dl-cdn.alpinelinux.org/alpine/v3.12/main/x86_64/APKINDEX.tar.gz\\nfetch http://dl-cdn.alpinelinux.org/alpine/v3.12/community/x86_64/APKINDEX.tar.gz\\n(1/1) Installing curl (7.79.1-r0)\\nExecuting busybox-1.31.1-r16.trigger\\nOK: 29 MiB in 28 packages\\n(1/17) Installing fstrm (0.6.0-r1)\\n(2/17) Installing krb5-conf (1.0-r2)\\n(3/17) Installing libcom_err (1.45.6-r0)\\n(4/17) Installing keyutils-libs (1.6.1-r1)\\n(5/17) Installing libverto (0.3.1-r1)\\n(6/17) Installing krb5-libs (1.18.4-r0)\\n(7/17) Installing json-c (0.14-r1)\\n(8/17) Installing libgcc (9.3.0-r2)\\n(9/17) Installing libstdc++ (9.3.0-r2)\\n(10/17) Installing libprotobuf (3.12.2-r0)\\n(11/17) Installing libprotoc (3.12.2-r0)\\n(12/17) Installing protobuf-c (1.3.3-r1)\\n(13/17) Installing libuv (1.38.1-r0)\\n(14/17) Installing xz-libs (5.2.5-r0)\\n(15/17) Installing libxml2 (2.9.12-r0)\\n(16/17) Installing bind-libs (9.16.20-r1)\\n(17/17) Installing bind-tools (9.16.20-r1)\\nExecuting busybox-1.31.1-r16.trigger\\nOK: 42 MiB in 45 packages\\n')"
      ]
     },
     "execution_count": 308,
     "metadata": {},
     "output_type": "execute_result"
    }
   ],
   "source": [
    "endorse_and_join(peers['zalya-1'])"
   ]
  },
  {
   "cell_type": "code",
   "execution_count": 312,
   "metadata": {},
   "outputs": [
    {
     "name": "stdout",
     "output_type": "stream",
     "text": [
      "/home/jovyan/work/usr/bin/kubectl exec -t zalya-1-67c54c9d79-2js2r -c scray-peer-cli -- /bin/sh -c /mnt/conf/install_and_approve_cc.sh 10.14.128.38 '10.32.0.5' orderer.example.com 30081 super53\n"
     ]
    },
    {
     "name": "stderr",
     "output_type": "stream",
     "text": [
      "  % Total    % Received % Xferd  Average Speed   Time    Time     Time  Current\n",
      "                                 Dload  Upload   Total   Spent    Left  Speed\n",
      "100   463  100   463    0     0  15433      0 --:--:-- --:--:-- --:--:-- 15965\n",
      "\u001b[34m2021-11-02 13:14:53.107 UTC [cli.lifecycle.chaincode] submitInstallProposal -> INFO 001\u001b[0m Installed remotely: response:<status:200 payload:\"\\nJbasic_1.0:27256d95e55ff855dffe6685141fcf6dd3530e4859e8621ec3476f9a69065cd5\\022\\tbasic_1.0\" > \n",
      "\u001b[34m2021-11-02 13:14:53.107 UTC [cli.lifecycle.chaincode] submitInstallProposal -> INFO 002\u001b[0m Chaincode code package identifier: basic_1.0:27256d95e55ff855dffe6685141fcf6dd3530e4859e8621ec3476f9a69065cd5\n",
      "\u001b[34m2021-11-02 13:14:55.447 UTC [chaincodeCmd] ClientWait -> INFO 001\u001b[0m txid [6adee26bb9bddf7b05604d2f2d3eaabbadb0f5e81556a7a24b5b3cabc10e8bed] committed with status (VALID) at peer0.zalya-1.kubernetes.research.dev.seeburger.de:31202\n",
      "Error: query failed with status: 500 - failed to invoke backing implementation of 'CheckCommitReadiness': requested sequence is 1, but new definition must be sequence 2\n",
      "command terminated with exit code 1\n"
     ]
    },
    {
     "data": {
      "text/plain": [
       "'Command \\'[\\'/home/jovyan/work/usr/bin/kubectl\\', \\'exec\\', \\'-t\\', \\'zalya-1-67c54c9d79-2js2r\\', \\'-c\\', \\'scray-peer-cli\\', \\'--\\', \\'/bin/sh\\', \\'-c\\', \"/mnt/conf/install_and_approve_cc.sh 10.14.128.38 \\'10.32.0.5\\' orderer.example.com 30081 super53\"]\\' returned non-zero exit status 1.'"
      ]
     },
     "execution_count": 312,
     "metadata": {},
     "output_type": "execute_result"
    }
   ],
   "source": [
    "installAndAproveChaincode(peers['zalya-1'],orderer,channel_name)\n"
   ]
  },
  {
   "cell_type": "code",
   "execution_count": 99,
   "metadata": {},
   "outputs": [],
   "source": [
    "#out2.outputs[1]['text'].splitlines()"
   ]
  },
  {
   "cell_type": "code",
   "execution_count": null,
   "metadata": {},
   "outputs": [],
   "source": [
    "#!/home/jovyan/work/usr/bin/kubectl exec -t orderer-org1-scray-org-5f97c57d44-j5mbs -c scray-orderer-cli -- /bin/sh -c /mnt/conf/orderer/scripts/inform_existing_nodes.sh '10.32.0.5' super40 kalya-0 10.14.128.38:30080 10.15.136.41 kalya-0.kubernetes.research.dev.seeburger.de"
   ]
  },
  {
   "cell_type": "code",
   "execution_count": 28,
   "metadata": {},
   "outputs": [
    {
     "data": {
      "text/plain": [
       "'jsonpath=\"{.spec.ports[?(@.name==\\'peer-gossip\\')].nodePort}\"'"
      ]
     },
     "execution_count": 28,
     "metadata": {},
     "output_type": "execute_result"
    }
   ],
   "source": [
    "name='peer-gossip'\n",
    "callopt= 'jsonpath=\\\"{.spec.ports[?(@.name==\\'' + name + '\\')].nodePort}\\\"'\n",
    "callopt"
   ]
  },
  {
   "cell_type": "markdown",
   "metadata": {},
   "source": [
    "## install chaincode"
   ]
  },
  {
   "cell_type": "code",
   "execution_count": 190,
   "metadata": {},
   "outputs": [
    {
     "data": {
      "text/plain": [
       "({'name': 'zalya-0',\n",
       "  'pod_name': 'zalya-0-6cf64f96b4-vv4mp',\n",
       "  'listen_port': '31720',\n",
       "  'gossip_port': ''},\n",
       " 'super53')"
      ]
     },
     "execution_count": 190,
     "metadata": {},
     "output_type": "execute_result"
    }
   ],
   "source": [
    "#channel_name\n",
    "#orderer.__dict__\n",
    "#peers['ralya-0'].pod_name\n",
    "peers['zalya-0'].__dict__ , channel_name"
   ]
  },
  {
   "cell_type": "code",
   "execution_count": 324,
   "metadata": {},
   "outputs": [
    {
     "name": "stdout",
     "output_type": "stream",
     "text": [
      "['/mnt/conf/install_and_approve_cc.sh', '10.14.128.38', \"'10.32.0.5'\", 'orderer.example.com', '30081', 'super53', '2']\n",
      "/home/jovyan/work/usr/bin/kubectl exec -t zalya-1-67c54c9d79-2js2r -c scray-peer-cli -- /bin/sh -c /mnt/conf/install_and_approve_cc.sh 10.14.128.38 '10.32.0.5' orderer.example.com 30081 super53 2\n"
     ]
    },
    {
     "name": "stderr",
     "output_type": "stream",
     "text": [
      "  % Total    % Received % Xferd  Average Speed   Time    Time     Time  Current\n",
      "                                 Dload  Upload   Total   Spent    Left  Speed\n",
      "100   463  100   463    0     0  13228      0 --:--:-- --:--:-- --:--:-- 13228\n",
      "Error: chaincode install failed with status: 500 - failed to invoke backing implementation of 'InstallChaincode': chaincode already successfully installed\n",
      "\u001b[34m2021-11-02 14:54:57.719 UTC [chaincodeCmd] ClientWait -> INFO 001\u001b[0m txid [63ff906c8ba6be775a27bb9be748ad55065a51eb68c633c0df4186a136b6267d] committed with status (VALID) at peer0.zalya-1.kubernetes.research.dev.seeburger.de:31202\n"
     ]
    },
    {
     "data": {
      "text/plain": [
       "\"Installed chaincodes on peer:\\nPackage ID: basic_1.0:27256d95e55ff855dffe6685141fcf6dd3530e4859e8621ec3476f9a69065cd5, Label: basic_1.0\\nChaincode definition for chaincode 'basic', version '1.0', sequence '2' on channel 'super53' approval status by org:\\nAdminOrgMSP: false\\nzalya-0MSP: false\\nzalya-1MSP: true\\n\""
      ]
     },
     "execution_count": 324,
     "metadata": {},
     "output_type": "execute_result"
    }
   ],
   "source": [
    "installAndAproveChaincode(peers['zalya-1'],orderer,channel_name,sequence=2)\n"
   ]
  },
  {
   "cell_type": "code",
   "execution_count": 331,
   "metadata": {},
   "outputs": [
    {
     "name": "stdout",
     "output_type": "stream",
     "text": [
      "/home/jovyan/work/usr/bin/kubectl exec -t zalya-1-67c54c9d79-2js2r -c scray-peer-cli -- /bin/sh -c /mnt/conf/peer/cc-basic-interaction.sh super53\n"
     ]
    },
    {
     "name": "stderr",
     "output_type": "stream",
     "text": [
      "\u001b[34m2021-11-02 15:12:08.820 UTC [chaincodeCmd] chaincodeInvokeOrQuery -> INFO 001\u001b[0m Chaincode invoke successful. result: status:200 \n"
     ]
    },
    {
     "data": {
      "text/plain": [
       "'[{\"Key\":\"asset1\",\"Record\":{\"ID\":\"asset1\",\"owner\":\"company\",\"buyer\":\"\",\"hash\":0,\"invoiceNumber\":\"0\",\"vat\":0,\"netto\":0,\"countryOrigin\":\"DE\",\"countryReceiver\":\"DE\",\"received\":false,\"receivedOrder\":false,\"sold\":false,\"claimPaid\":false,\"claimPaidBy\":\"\",\"taxExemptionReason\":\"\",\"taxReceived\":false}},{\"Key\":\"asset2\",\"Record\":{\"ID\":\"asset2\",\"owner\":\"zalya-0MSP\",\"buyer\":\"\",\"hash\":0,\"invoiceNumber\":\"0\",\"vat\":0,\"netto\":0,\"countryOrigin\":\"DE\",\"countryReceiver\":\"DE\",\"received\":false,\"receivedOrder\":false,\"sold\":false,\"claimPaid\":false,\"claimPaidBy\":\"\",\"taxExemptionReason\":\"\",\"taxReceived\":false}},{\"Key\":\"asset3\",\"Record\":{\"ID\":\"asset3\",\"owner\":\"zalya-0MSP\",\"buyer\":\"\",\"hash\":0,\"invoiceNumber\":\"0\",\"vat\":0,\"netto\":0,\"countryOrigin\":\"DE\",\"countryReceiver\":\"DE\",\"received\":false,\"receivedOrder\":false,\"sold\":false,\"claimPaid\":false,\"claimPaidBy\":\"\",\"taxExemptionReason\":\"\",\"taxReceived\":false}},{\"Key\":\"asset4\",\"Record\":{\"ID\":\"asset4\",\"owner\":\"x509::CN=User1@zalya-0.kubernetes.research.dev.seeburger.de,OU=client,L=Bretten,ST=Baden,C=DE::CN=ca.zalya-0.kubernetes.research.dev.seeburger.de,O=zalya-0.kubernetes.research.dev.seeburger.de,L=Bretten,ST=Baden,C=DE\",\"buyer\":\"\",\"hash\":0,\"invoiceNumber\":\"0\",\"vat\":0,\"netto\":0,\"countryOrigin\":\"DE\",\"countryReceiver\":\"DE\",\"received\":false,\"receivedOrder\":false,\"sold\":true,\"claimPaid\":false,\"claimPaidBy\":\"\",\"taxExemptionReason\":\"\",\"taxReceived\":false}},{\"Key\":\"asset5\",\"Record\":{\"ID\":\"asset5\",\"owner\":\"x509::CN=User1@zalya-0.kubernetes.research.dev.seeburger.de,OU=client,L=Bretten,ST=Baden,C=DE::CN=ca.zalya-0.kubernetes.research.dev.seeburger.de,O=zalya-0.kubernetes.research.dev.seeburger.de,L=Bretten,ST=Baden,C=DE\",\"buyer\":\"x509::CN=User1@zalya-0.kubernetes.research.dev.seeburger.de,OU=client,L=Bretten,ST=Baden,C=DE::CN=ca.zalya-0.kubernetes.research.dev.seeburger.de,O=zalya-0.kubernetes.research.dev.seeburger.de,L=Bretten,ST=Baden,C=DE\",\"hash\":0,\"invoiceNumber\":\"0\",\"vat\":0,\"netto\":0,\"countryOrigin\":\"DE\",\"countryReceiver\":\"DE\",\"received\":false,\"receivedOrder\":false,\"sold\":false,\"claimPaid\":false,\"claimPaidBy\":\"\",\"taxExemptionReason\":\"\",\"taxReceived\":false}}]\\n'"
      ]
     },
     "execution_count": 331,
     "metadata": {},
     "output_type": "execute_result"
    }
   ],
   "source": [
    "#commitChaincode(peers['zalya-1'],channel_name,sequence=2)\n",
    "chaincode_init(peers['zalya-1'],channel_name)"
   ]
  },
  {
   "cell_type": "code",
   "execution_count": 328,
   "metadata": {},
   "outputs": [],
   "source": [
    "def installAndAproveChaincode(peer,orderer,channel_name,cc_host='10.14.128.38',sequence=1):\n",
    "    #!/home/jovyan/work/usr/bin/kubectl exec --stdin --tty $POD_NAME -c scray-peer-cli -- /bin/sh /mnt/conf/install_and_approve_cc.sh $IP_CC_SERVICE $IP_OF_EXAMPLE_NETWORK\n",
    "    #strlist = ['/mnt/conf/install_and_approve_cc.sh', cc_host, orderer.get_ip(), orderer.host, str(orderer.orderer_intern), channel_name ]\n",
    "    strlist = ['/mnt/conf/install_and_approve_cc.sh', cc_host, orderer.get_ip(), orderer.host, str(orderer.listen_port), channel_name,str(sequence) ]\n",
    "    #print(strlist)\n",
    "    return executePeerCmd(peer.pod_name,toCmd(strlist)) \n",
    "\n",
    "def commitChaincode(peer,channel_name,sequence=1):\n",
    "    strlist = ['/mnt/conf/peer/cc_commit.sh', channel_name, str(sequence) ]\n",
    "    return executePeerCmd(peer.pod_name,toCmd(strlist)) "
   ]
  },
  {
   "cell_type": "code",
   "execution_count": 327,
   "metadata": {},
   "outputs": [
    {
     "name": "stdout",
     "output_type": "stream",
     "text": [
      "['/mnt/conf/install_and_approve_cc.sh', '10.14.128.38', \"'10.32.0.5'\", 'orderer.example.com', '30081', 'super53', '2']\n",
      "/home/jovyan/work/usr/bin/kubectl exec -t zalya-0-6cf64f96b4-vv4mp -c scray-peer-cli -- /bin/sh -c /mnt/conf/install_and_approve_cc.sh 10.14.128.38 '10.32.0.5' orderer.example.com 30081 super53 2\n"
     ]
    },
    {
     "name": "stderr",
     "output_type": "stream",
     "text": [
      "  % Total    % Received % Xferd  Average Speed   Time    Time     Time  Current\n",
      "                                 Dload  Upload   Total   Spent    Left  Speed\n",
      "100   463  100   463    0     0  13228      0 --:--:-- --:--:-- --:--:-- 13228\n",
      "Error: chaincode install failed with status: 500 - failed to invoke backing implementation of 'InstallChaincode': chaincode already successfully installed\n",
      "\u001b[34m2021-11-02 14:58:51.542 UTC [chaincodeCmd] ClientWait -> INFO 001\u001b[0m txid [a94d6a4910c00388e77dea4cfb3ccd4e41a401118d99aa1eed0c4b08c9bb40a4] committed with status (VALID) at peer0.zalya-0.kubernetes.research.dev.seeburger.de:31720\n"
     ]
    },
    {
     "name": "stdout",
     "output_type": "stream",
     "text": [
      "['/mnt/conf/install_and_approve_cc.sh', '10.14.128.38', \"'10.32.0.5'\", 'orderer.example.com', '30081', 'super53', '2']\n",
      "/home/jovyan/work/usr/bin/kubectl exec -t zalya-1-67c54c9d79-2js2r -c scray-peer-cli -- /bin/sh -c /mnt/conf/install_and_approve_cc.sh 10.14.128.38 '10.32.0.5' orderer.example.com 30081 super53 2\n"
     ]
    },
    {
     "name": "stderr",
     "output_type": "stream",
     "text": [
      "  % Total    % Received % Xferd  Average Speed   Time    Time     Time  Current\n",
      "                                 Dload  Upload   Total   Spent    Left  Speed\n",
      "100   463  100   463    0     0  46300      0 --:--:-- --:--:-- --:--:-- 46300\n",
      "Error: chaincode install failed with status: 500 - failed to invoke backing implementation of 'InstallChaincode': chaincode already successfully installed\n",
      "Error: proposal failed with status: 500 - failed to invoke backing implementation of 'ApproveChaincodeDefinitionForMyOrg': attempted to redefine uncommitted sequence (2) for namespace basic with unchanged content\n"
     ]
    }
   ],
   "source": [
    "#cc_host chaincode host\n",
    "\n",
    "for key, peer in peers.items():\n",
    "    installAndAproveChaincode(peer,orderer,channel_name,sequence=1)"
   ]
  },
  {
   "cell_type": "code",
   "execution_count": 326,
   "metadata": {},
   "outputs": [
    {
     "name": "stdout",
     "output_type": "stream",
     "text": [
      "/home/jovyan/work/usr/bin/kubectl exec -t zalya-1-67c54c9d79-2js2r -c scray-peer-cli -- /bin/sh -c /mnt/conf/peer/cc_commit.sh super53\n"
     ]
    },
    {
     "name": "stderr",
     "output_type": "stream",
     "text": [
      "Error: query failed with status: 500 - failed to invoke backing implementation of 'CheckCommitReadiness': requested sequence is 1, but new definition must be sequence 2\n",
      "Error: proposal failed with status: 500 - failed to invoke backing implementation of 'CommitChaincodeDefinition': requested sequence is 1, but new definition must be sequence 2\n",
      "command terminated with exit code 1\n"
     ]
    },
    {
     "data": {
      "text/plain": [
       "\"Command '['/home/jovyan/work/usr/bin/kubectl', 'exec', '-t', 'zalya-1-67c54c9d79-2js2r', '-c', 'scray-peer-cli', '--', '/bin/sh', '-c', '/mnt/conf/peer/cc_commit.sh super53']' returned non-zero exit status 1.\""
      ]
     },
     "execution_count": 326,
     "metadata": {},
     "output_type": "execute_result"
    }
   ],
   "source": [
    "\n",
    "\n",
    "#peer = list(peers.values())[0]\n",
    "commitChaincode(peer,channel_name)"
   ]
  },
  {
   "cell_type": "code",
   "execution_count": 62,
   "metadata": {},
   "outputs": [],
   "source": [
    "peer=kubernetespeer(name='oalya-0')\n",
    "channel_name='super45'"
   ]
  },
  {
   "cell_type": "code",
   "execution_count": null,
   "metadata": {},
   "outputs": [],
   "source": [
    "peer.name, channel_name"
   ]
  },
  {
   "cell_type": "code",
   "execution_count": null,
   "metadata": {},
   "outputs": [],
   "source": [
    "!/home/jovyan/work/usr/bin/kubectl exec --stdin --tty lalya-0-7c887cffb8-fpw7h -c scray-peer-cli -- /bin/sh /mnt/conf/peer/cc-basic-interaction.sh  super43"
   ]
  },
  {
   "cell_type": "code",
   "execution_count": 285,
   "metadata": {},
   "outputs": [
    {
     "name": "stdout",
     "output_type": "stream",
     "text": [
      "/home/jovyan/work/usr/bin/kubectl exec -t zalya-0-6cf64f96b4-vv4mp -c scray-peer-cli -- /bin/sh -c /mnt/conf/peer/cc-basic-interaction.sh super53\n"
     ]
    },
    {
     "name": "stderr",
     "output_type": "stream",
     "text": [
      "\u001b[34m2021-11-02 10:17:42.508 UTC [chaincodeCmd] chaincodeInvokeOrQuery -> INFO 001\u001b[0m Chaincode invoke successful. result: status:200 \n"
     ]
    },
    {
     "data": {
      "text/plain": [
       "'[{\"Key\":\"asset1\",\"Record\":{\"ID\":\"asset1\",\"owner\":\"company\",\"hash\":0,\"invoiceNumber\":\"0\",\"vat\":0,\"netto\":0,\"countryOrigin\":\"DE\",\"countryReceiver\":\"DE\",\"received\":false,\"receivedOrder\":false,\"sold\":true,\"claimPaid\":false,\"claimPaidBy\":\"\",\"taxExemptionReason\":\"\",\"taxReceived\":false}},{\"Key\":\"asset2\",\"Record\":{\"ID\":\"asset2\",\"owner\":\"zalya-0MSP\",\"hash\":0,\"invoiceNumber\":\"0\",\"vat\":0,\"netto\":0,\"countryOrigin\":\"DE\",\"countryReceiver\":\"DE\",\"received\":false,\"receivedOrder\":false,\"sold\":false,\"claimPaid\":false,\"claimPaidBy\":\"\",\"taxExemptionReason\":\"\",\"taxReceived\":false}},{\"Key\":\"asset3\",\"Record\":{\"ID\":\"asset3\",\"owner\":\"zalya-0MSP\",\"hash\":0,\"invoiceNumber\":\"0\",\"vat\":0,\"netto\":0,\"countryOrigin\":\"DE\",\"countryReceiver\":\"DE\",\"received\":false,\"receivedOrder\":false,\"sold\":false,\"claimPaid\":false,\"claimPaidBy\":\"\",\"taxExemptionReason\":\"\",\"taxReceived\":false}},{\"Key\":\"asset4\",\"Record\":{\"ID\":\"asset4\",\"owner\":\"x509::CN=User1@zalya-0.kubernetes.research.dev.seeburger.de,OU=client,L=Bretten,ST=Baden,C=DE::CN=ca.zalya-0.kubernetes.research.dev.seeburger.de,O=zalya-0.kubernetes.research.dev.seeburger.de,L=Bretten,ST=Baden,C=DE\",\"hash\":0,\"invoiceNumber\":\"0\",\"vat\":0,\"netto\":0,\"countryOrigin\":\"DE\",\"countryReceiver\":\"DE\",\"received\":false,\"receivedOrder\":false,\"sold\":true,\"claimPaid\":false,\"claimPaidBy\":\"\",\"taxExemptionReason\":\"\",\"taxReceived\":false}}]\\n'"
      ]
     },
     "execution_count": 285,
     "metadata": {},
     "output_type": "execute_result"
    }
   ],
   "source": [
    "#Call init method in chaincode\n",
    "def chaincode_init(peer,channel_name):\n",
    "    strlist = ['/mnt/conf/peer/cc-basic-interaction.sh', channel_name ]\n",
    "    return executePeerCmd(peer.pod_name,toCmd(strlist)) \n",
    "\n",
    "chaincode_init(peer,channel_name)"
   ]
  },
  {
   "cell_type": "code",
   "execution_count": null,
   "metadata": {},
   "outputs": [],
   "source": [
    "externalbuilder/builds/basic_1.0-21ee1256844f847e196af6aec17c5cafa76d8bd652d6ef42c3058e52571030b4/release/chaincode/server/c"
   ]
  },
  {
   "cell_type": "code",
   "execution_count": 37,
   "metadata": {},
   "outputs": [
    {
     "data": {
      "text/plain": [
       "'nalya-0-5494459f47-v7msj'"
      ]
     },
     "execution_count": 37,
     "metadata": {},
     "output_type": "execute_result"
    }
   ],
   "source": [
    "peers['nalya-0'].pod_name"
   ]
  },
  {
   "cell_type": "code",
   "execution_count": 42,
   "metadata": {},
   "outputs": [
    {
     "ename": "SyntaxError",
     "evalue": "invalid syntax (1930541980.py, line 11)",
     "output_type": "error",
     "traceback": [
      "\u001b[0;36m  File \u001b[0;32m\"/tmp/ipykernel_5130/1930541980.py\"\u001b[0;36m, line \u001b[0;32m11\u001b[0m\n\u001b[0;31m    ORDERER_PORT=$(kubectl get service orderer-org1-scray-org -o jsonpath=\"{.spec.ports[?(@.name=='orderer-listen')].nodePort}\")\u001b[0m\n\u001b[0m                 ^\u001b[0m\n\u001b[0;31mSyntaxError\u001b[0m\u001b[0;31m:\u001b[0m invalid syntax\n"
     ]
    }
   ],
   "source": [
    "CHANNEL_NAME='super44'\n",
    "#ORDERER_NAME=orderer.example.com\n",
    "IP_CC_SERVICE='10.14.128.38'         # Host where the chaincode is running\n",
    "#PEER_POD=$(kubectl get pod -l app=$PEER_NAME -o jsonpath=\"{.items[0].metadata.name}\")\n",
    "#ORDERER_IP=$(kubectl get pods  -l app=orderer-org1-scray-org -o jsonpath='{.items[*].status.podIP}')\n",
    "#ORDERER_LISTEN_PORT=$(kubectl get service orderer-org1-scray-org -o jsonpath=\"{.spec.ports[?(@.name=='orderer-listen')].nodePort}\")\n",
    "#ORDERER_HOST=orderer.example.com\n",
    "EXT_PEER_IP=\"10.14.128.38\"\n",
    "PEER_POD=\"nalya-0-5494459f47-v7msj\"\n",
    "\n",
    "ORDERER_PORT=$(kubectl get service orderer-org1-scray-org -o jsonpath=\"{.spec.ports[?(@.name=='orderer-listen')].nodePort}\")\n",
    "ORDERER_PORT=30081\n",
    "ORDERER_IP=$(kubectl get pods  -l app=orderer-org1-scray-org -o jsonpath='{.items[*].status.podIP}')\n",
    "\n",
    "kubectl exec --stdin --tty $PEER_POD -c scray-peer-cli -- /bin/sh /mnt/conf/install_and_approve_cc.sh $IP_CC_SERVICE $ORDERER_IP $ORDERER_HOST $ORDERER_PORT $CHANNEL_NAME "
   ]
  },
  {
   "cell_type": "code",
   "execution_count": null,
   "metadata": {},
   "outputs": [],
   "source": [
    "#peers.keys()\n",
    "#[elem for elem in peers.values()]\n",
    "list(peers.values())[0].__dict__"
   ]
  },
  {
   "cell_type": "markdown",
   "metadata": {},
   "source": [
    "# invoice functions"
   ]
  },
  {
   "cell_type": "code",
   "execution_count": 218,
   "metadata": {},
   "outputs": [],
   "source": [
    "#kubectl exec --stdin --tty $PEER_POD -c scray-peer-cli -- /bin/sh /mnt/conf/peer/add-invoice.sh  $CHANNEL_NAME $INVOICE_ID\n",
    "\n",
    "def get_certificate_string(peername):\n",
    "    return 'x509::CN=User1@' + peername + '.kubernetes.research.dev.seeburger.de,OU=client,L=Bretten,ST=Baden,C=DE::CN=ca.' + peername + '.kubernetes.research.dev.seeburger.de,O=' + peername + '.kubernetes.research.dev.seeburger.de,L=Bretten,ST=Baden,C=DE'\n",
    "    #return 'x509::CN=User1@' + peername + '.kubernetes.research.dev.seeburger.de,OU=client,L=Bretten,ST=Baden,C=DE::CN=ca.' + peername + '.kubernetes.research.dev.seeburger.de,O=' + peername + '.kubernetes.research.dev.seeburger.de,L=Bretten,ST=Baden,C=DE,C=DEdx509::CN=User1@' + peername + '.kubernetes.research.dev.seeburger.de,OU=client,L=Bretten,ST=Baden,C=DE::CN=ca.' + peername + '.kubernetes.research.dev.seeburger.de,O=' + peername + '.kubernetes.research.dev.seeburger.de,L=Bretten,ST=Baden,C=DE'\n",
    "\n",
    "def chaincode_add_invoice(peer,channel_name,invoice_id,buyer):\n",
    "    strlist = ['/mnt/conf/peer/add-invoice.sh', channel_name,invoice_id,get_certificate_string(buyer)]\n",
    "    print(toCmd(strlist))\n",
    "    return executePeerCmd(peer.pod_name,toCmd(strlist)) \n"
   ]
  },
  {
   "cell_type": "markdown",
   "metadata": {},
   "source": [
    "## invoice usecase"
   ]
  },
  {
   "cell_type": "code",
   "execution_count": 358,
   "metadata": {},
   "outputs": [
    {
     "data": {
      "text/plain": [
       "['zalya-0', 'zalya-1']"
      ]
     },
     "execution_count": 358,
     "metadata": {},
     "output_type": "execute_result"
    }
   ],
   "source": [
    "peernames = list(peers.keys())\n",
    "peernames"
   ]
  },
  {
   "cell_type": "code",
   "execution_count": 369,
   "metadata": {},
   "outputs": [],
   "source": [
    "import json\n",
    "\n",
    "def getHostname(peer):\n",
    "    return executePeerCmd(peer.pod_name,'echo $HOSTNAME')[:-1]\n",
    "\n",
    "def getExport_MSPCONFIGPATH(hostname):\n",
    "    path = '/mnt/conf/organizations/peerOrganizations/' + hostname + '/users/User1@' + hostname + '/msp/'\n",
    "    return 'export CORE_PEER_MSPCONFIGPATH=' + path\n",
    "    \n",
    "def getArgList(asset):\n",
    "    return '[' + ''.join(('\\\"' + str(e) + '\\\",') for e in asset.values())[:-1] + ']' \n",
    "\n",
    "def invoke(peer,callopt):\n",
    "    export_cmd = getExport_MSPCONFIGPATH(getHostname(peer))\n",
    "    cmd0 = str('\\'' + callopt + \"\\'\")\n",
    "    strlist = ['peer', 'chaincode', 'invoke', '-o', 'orderer.example.com:30081', '--tls', '--cafile', '/tmp/tlsca.example.com-cert.pem','-C', channel_name, '-n', 'basic', '-c', cmd0]\n",
    "    cmd = toCmd(strlist)\n",
    "    print(cmd)  \n",
    "    output = executePeerCmd(peer.pod_name, export_cmd + '  && ' + cmd)\n",
    "    return output\n",
    "\n",
    "def query(peer, callopt):\n",
    "    try:\n",
    "        export_cmd = getExport_MSPCONFIGPATH(getHostname(peer))\n",
    "        cmd0 = str('\\'' + callopt + \"\\'\")\n",
    "        strlist = ['peer', 'chaincode', 'query', '-C', channel_name, '-n', 'basic', '-c', cmd0]\n",
    "        cmd = toCmd(strlist)\n",
    "        output = executePeerCmd(peer.pod_name, export_cmd + '  && ' + cmd)\n",
    "        return json.loads(output)\n",
    "        #if output[0] == '{':\n",
    "        #    return json.loads(output)\n",
    "        #elif output[0] == '[':\n",
    "        #    return json.loads(output)\n",
    "        #return cmd\n",
    "    except Exception as e:\n",
    "        print(e)\n",
    "        return cmd\n",
    "    \n",
    "def getAllAssets(peer):\n",
    "    callopt= '{\"function\":\"GetAllAssets\",\"Args\":[' + ']}'\n",
    "    return query(peer,callopt)    \n",
    "    \n",
    "def readAsset(peer, asset='asset1'):\n",
    "    callopt= '{\"function\":\"ReadAsset\",\"Args\":[' + '\\\"' + asset + '\\\"' + ']}'\n",
    "    return query(peer,callopt)\n",
    "\n",
    "def readAssetTest(peer, asset='asset1'):\n",
    "    callopt= '{\"function\":\"ReadAssetTest\",\"Args\":[' + '\\\"' + asset + '\\\"' + ']}'\n",
    "    return query(peer,callopt)\n",
    "    \n",
    "def createAsset(peer,arglist=''):\n",
    "    callopt= '{\"function\":\"CreateAsset\",\"Args\":' + arglist + '}'\n",
    "    return invoke(peer,callopt)\n",
    "\n",
    "def updateAsset(peer,arglist=None):\n",
    "    callopt= '{\"function\":\"UpdateAsset\",\"Args\":' + getArgList(asset) + '}'\n",
    "    return invoke(peer,callopt)"
   ]
  },
  {
   "cell_type": "code",
   "execution_count": 334,
   "metadata": {},
   "outputs": [
    {
     "name": "stdout",
     "output_type": "stream",
     "text": [
      "/home/jovyan/work/usr/bin/kubectl exec -t zalya-0-6cf64f96b4-vv4mp -c scray-peer-cli -- /bin/sh -c export CORE_PEER_MSPCONFIGPATH=/mnt/conf/organizations/peerOrganizations/zalya-0.kubernetes.research.dev.seeburger.de/users/User1@zalya-0.kubernetes.research.dev.seeburger.de/msp/  && peer chaincode query -C super53 -n basic -c '{\"function\":\"ReadAssetTest\",\"Args\":[\"asset1\"]}'\n",
      "peer chaincode invoke -o orderer.example.com:30081 --tls --cafile /tmp/tlsca.example.com-cert.pem -C super53 -n basic -c '{\"function\":\"CreateAsset\",\"Args\":[\"asset6\",\"company\",\"x509::CN=User1@zalya-1.kubernetes.research.dev.seeburger.de,OU=client,L=Bretten,ST=Baden,C=DE::CN=ca.zalya-1.kubernetes.research.dev.seeburger.de,O=zalya-1.kubernetes.research.dev.seeburger.de,L=Bretten,ST=Baden,C=DE\",\"0\",\"0\",\"0\",\"0\",\"DE\",\"DE\",\"False\",\"False\",\"False\",\"False\",\"\",\"\",\"False\"]}'\n",
      "/home/jovyan/work/usr/bin/kubectl exec -t zalya-0-6cf64f96b4-vv4mp -c scray-peer-cli -- /bin/sh -c export CORE_PEER_MSPCONFIGPATH=/mnt/conf/organizations/peerOrganizations/zalya-0.kubernetes.research.dev.seeburger.de/users/User1@zalya-0.kubernetes.research.dev.seeburger.de/msp/  && peer chaincode invoke -o orderer.example.com:30081 --tls --cafile /tmp/tlsca.example.com-cert.pem -C super53 -n basic -c '{\"function\":\"CreateAsset\",\"Args\":[\"asset6\",\"company\",\"x509::CN=User1@zalya-1.kubernetes.research.dev.seeburger.de,OU=client,L=Bretten,ST=Baden,C=DE::CN=ca.zalya-1.kubernetes.research.dev.seeburger.de,O=zalya-1.kubernetes.research.dev.seeburger.de,L=Bretten,ST=Baden,C=DE\",\"0\",\"0\",\"0\",\"0\",\"DE\",\"DE\",\"False\",\"False\",\"False\",\"False\",\"\",\"\",\"False\"]}'\n"
     ]
    },
    {
     "name": "stderr",
     "output_type": "stream",
     "text": [
      "\u001b[34m2021-11-02 15:44:47.525 UTC [chaincodeCmd] chaincodeInvokeOrQuery -> INFO 001\u001b[0m Chaincode invoke successful. result: status:200 \n"
     ]
    },
    {
     "data": {
      "text/plain": [
       "''"
      ]
     },
     "execution_count": 334,
     "metadata": {},
     "output_type": "execute_result"
    }
   ],
   "source": [
    "peer  = peers[pernames[0]]        \n",
    "asset = readAssetTest(peer)    \n",
    "asset['ID']='asset6'\n",
    "asset['buyer']='x509::CN=User1@zalya-1.kubernetes.research.dev.seeburger.de,OU=client,L=Bretten,ST=Baden,C=DE::CN=ca.zalya-1.kubernetes.research.dev.seeburger.de,O=zalya-1.kubernetes.research.dev.seeburger.de,L=Bretten,ST=Baden,C=DE'\n",
    "createAsset(peer,getArgList(asset))"
   ]
  },
  {
   "cell_type": "code",
   "execution_count": 333,
   "metadata": {},
   "outputs": [
    {
     "data": {
      "text/plain": [
       "{'zalya-0': <__main__.kubernetespeer at 0x7fd2d45d27f0>,\n",
       " 'zalya-1': <__main__.kubernetespeer at 0x7fd2bffd91c0>}"
      ]
     },
     "execution_count": 333,
     "metadata": {},
     "output_type": "execute_result"
    }
   ],
   "source": [
    "peers"
   ]
  },
  {
   "cell_type": "code",
   "execution_count": 372,
   "metadata": {},
   "outputs": [
    {
     "name": "stdout",
     "output_type": "stream",
     "text": [
      "/home/jovyan/work/usr/bin/kubectl exec -t zalya-1-67c54c9d79-2js2r -c scray-peer-cli -- /bin/sh -c echo $HOSTNAME\n",
      "/home/jovyan/work/usr/bin/kubectl exec -t zalya-1-67c54c9d79-2js2r -c scray-peer-cli -- /bin/sh -c export CORE_PEER_MSPCONFIGPATH=/mnt/conf/organizations/peerOrganizations/zalya-1.kubernetes.research.dev.seeburger.de/users/User1@zalya-1.kubernetes.research.dev.seeburger.de/msp/  && peer chaincode query -C super53 -n basic -c '{\"function\":\"GetAllAssets\",\"Args\":[]}'\n"
     ]
    },
    {
     "data": {
      "text/plain": [
       "[{'Key': 'asset1',\n",
       "  'Record': {'ID': 'asset1',\n",
       "   'owner': 'company',\n",
       "   'buyer': '',\n",
       "   'hash': 0,\n",
       "   'invoiceNumber': '0',\n",
       "   'vat': 0,\n",
       "   'netto': 0,\n",
       "   'countryOrigin': 'DE',\n",
       "   'countryReceiver': 'DE',\n",
       "   'received': False,\n",
       "   'receivedOrder': False,\n",
       "   'sold': False,\n",
       "   'claimPaid': False,\n",
       "   'claimPaidBy': '',\n",
       "   'taxExemptionReason': '',\n",
       "   'taxReceived': False}},\n",
       " {'Key': 'asset2',\n",
       "  'Record': {'ID': 'asset2',\n",
       "   'owner': 'zalya-0MSP',\n",
       "   'buyer': '',\n",
       "   'hash': 0,\n",
       "   'invoiceNumber': '0',\n",
       "   'vat': 0,\n",
       "   'netto': 0,\n",
       "   'countryOrigin': 'DE',\n",
       "   'countryReceiver': 'DE',\n",
       "   'received': False,\n",
       "   'receivedOrder': False,\n",
       "   'sold': False,\n",
       "   'claimPaid': False,\n",
       "   'claimPaidBy': '',\n",
       "   'taxExemptionReason': '',\n",
       "   'taxReceived': False}},\n",
       " {'Key': 'asset3',\n",
       "  'Record': {'ID': 'asset3',\n",
       "   'owner': 'zalya-0MSP',\n",
       "   'buyer': '',\n",
       "   'hash': 0,\n",
       "   'invoiceNumber': '0',\n",
       "   'vat': 0,\n",
       "   'netto': 0,\n",
       "   'countryOrigin': 'DE',\n",
       "   'countryReceiver': 'DE',\n",
       "   'received': False,\n",
       "   'receivedOrder': False,\n",
       "   'sold': False,\n",
       "   'claimPaid': False,\n",
       "   'claimPaidBy': '',\n",
       "   'taxExemptionReason': '',\n",
       "   'taxReceived': False}},\n",
       " {'Key': 'asset4',\n",
       "  'Record': {'ID': 'asset4',\n",
       "   'owner': 'x509::CN=User1@zalya-0.kubernetes.research.dev.seeburger.de,OU=client,L=Bretten,ST=Baden,C=DE::CN=ca.zalya-0.kubernetes.research.dev.seeburger.de,O=zalya-0.kubernetes.research.dev.seeburger.de,L=Bretten,ST=Baden,C=DE',\n",
       "   'buyer': '',\n",
       "   'hash': 0,\n",
       "   'invoiceNumber': '0',\n",
       "   'vat': 0,\n",
       "   'netto': 0,\n",
       "   'countryOrigin': 'DE',\n",
       "   'countryReceiver': 'DE',\n",
       "   'received': False,\n",
       "   'receivedOrder': False,\n",
       "   'sold': True,\n",
       "   'claimPaid': False,\n",
       "   'claimPaidBy': '',\n",
       "   'taxExemptionReason': '',\n",
       "   'taxReceived': False}},\n",
       " {'Key': 'asset5',\n",
       "  'Record': {'ID': 'asset5',\n",
       "   'owner': 'x509::CN=User1@zalya-0.kubernetes.research.dev.seeburger.de,OU=client,L=Bretten,ST=Baden,C=DE::CN=ca.zalya-0.kubernetes.research.dev.seeburger.de,O=zalya-0.kubernetes.research.dev.seeburger.de,L=Bretten,ST=Baden,C=DE',\n",
       "   'buyer': 'x509::CN=User1@zalya-0.kubernetes.research.dev.seeburger.de,OU=client,L=Bretten,ST=Baden,C=DE::CN=ca.zalya-0.kubernetes.research.dev.seeburger.de,O=zalya-0.kubernetes.research.dev.seeburger.de,L=Bretten,ST=Baden,C=DE',\n",
       "   'hash': 0,\n",
       "   'invoiceNumber': '0',\n",
       "   'vat': 0,\n",
       "   'netto': 0,\n",
       "   'countryOrigin': 'DE',\n",
       "   'countryReceiver': 'DE',\n",
       "   'received': False,\n",
       "   'receivedOrder': False,\n",
       "   'sold': False,\n",
       "   'claimPaid': False,\n",
       "   'claimPaidBy': '',\n",
       "   'taxExemptionReason': '',\n",
       "   'taxReceived': False}},\n",
       " {'Key': 'asset6',\n",
       "  'Record': {'ID': 'asset6',\n",
       "   'owner': 'x509::CN=User1@zalya-0.kubernetes.research.dev.seeburger.de,OU=client,L=Bretten,ST=Baden,C=DE::CN=ca.zalya-0.kubernetes.research.dev.seeburger.de,O=zalya-0.kubernetes.research.dev.seeburger.de,L=Bretten,ST=Baden,C=DE',\n",
       "   'buyer': 'x509::CN=User1@zalya-1.kubernetes.research.dev.seeburger.de,OU=client,L=Bretten,ST=Baden,C=DE::CN=ca.zalya-1.kubernetes.research.dev.seeburger.de,O=zalya-1.kubernetes.research.dev.seeburger.de,L=Bretten,ST=Baden,C=DE',\n",
       "   'hash': 0,\n",
       "   'invoiceNumber': '0',\n",
       "   'vat': 0,\n",
       "   'netto': 0,\n",
       "   'countryOrigin': 'DE',\n",
       "   'countryReceiver': 'DE',\n",
       "   'received': False,\n",
       "   'receivedOrder': False,\n",
       "   'sold': False,\n",
       "   'claimPaid': False,\n",
       "   'claimPaidBy': '',\n",
       "   'taxExemptionReason': '',\n",
       "   'taxReceived': False}}]"
      ]
     },
     "execution_count": 372,
     "metadata": {},
     "output_type": "execute_result"
    }
   ],
   "source": [
    "getAllAssets(peers[peernames[1]])"
   ]
  },
  {
   "cell_type": "code",
   "execution_count": 267,
   "metadata": {},
   "outputs": [
    {
     "name": "stdout",
     "output_type": "stream",
     "text": [
      "/home/jovyan/work/usr/bin/kubectl exec -t zalya-0-6cf64f96b4-vv4mp -c scray-peer-cli -- /bin/sh -c export CORE_PEER_MSPCONFIGPATH=/mnt/conf/organizations/peerOrganizations/zalya-0.kubernetes.research.dev.seeburger.de/users/User1@zalya-0.kubernetes.research.dev.seeburger.de/msp/  && peer chaincode query -C super53 -n basic -c '{\"function\":\"ReadAsset\",\"Args\":[\"asset1\"]}'\n",
      "peer chaincode invoke -o orderer.example.com:30081 --tls --cafile /tmp/tlsca.example.com-cert.pem -C super53 -n basic -c '{\"function\":\"UpdateAsset\",\"Args\":[\"asset1\",\"company\",\"0\",\"0\",\"0\",\"0\",\"DE\",\"DE\",\"False\",\"False\",\"True\",\"False\",\"\",\"\",\"False\"]}'\n",
      "/home/jovyan/work/usr/bin/kubectl exec -t zalya-0-6cf64f96b4-vv4mp -c scray-peer-cli -- /bin/sh -c export CORE_PEER_MSPCONFIGPATH=/mnt/conf/organizations/peerOrganizations/zalya-0.kubernetes.research.dev.seeburger.de/users/User1@zalya-0.kubernetes.research.dev.seeburger.de/msp/  && peer chaincode invoke -o orderer.example.com:30081 --tls --cafile /tmp/tlsca.example.com-cert.pem -C super53 -n basic -c '{\"function\":\"UpdateAsset\",\"Args\":[\"asset1\",\"company\",\"0\",\"0\",\"0\",\"0\",\"DE\",\"DE\",\"False\",\"False\",\"True\",\"False\",\"\",\"\",\"False\"]}'\n"
     ]
    },
    {
     "name": "stderr",
     "output_type": "stream",
     "text": [
      "\u001b[34m2021-10-27 14:20:52.190 UTC [chaincodeCmd] chaincodeInvokeOrQuery -> INFO 001\u001b[0m Chaincode invoke successful. result: status:200 \n"
     ]
    },
    {
     "data": {
      "text/plain": [
       "''"
      ]
     },
     "execution_count": 267,
     "metadata": {},
     "output_type": "execute_result"
    }
   ],
   "source": [
    "asset=readAsset(peer, asset='asset1')\n",
    "asset['sold'] = True\n",
    "updateAsset(peer, asset)"
   ]
  },
  {
   "cell_type": "code",
   "execution_count": 381,
   "metadata": {},
   "outputs": [
    {
     "name": "stdout",
     "output_type": "stream",
     "text": [
      "/home/jovyan/work/usr/bin/kubectl exec -t zalya-1-67c54c9d79-2js2r -c scray-peer-cli -- /bin/sh -c echo $HOSTNAME\n",
      "/home/jovyan/work/usr/bin/kubectl exec -t zalya-1-67c54c9d79-2js2r -c scray-peer-cli -- /bin/sh -c export CORE_PEER_MSPCONFIGPATH=/mnt/conf/organizations/peerOrganizations/zalya-1.kubernetes.research.dev.seeburger.de/users/User1@zalya-1.kubernetes.research.dev.seeburger.de/msp/  && peer chaincode query -C super53 -n basic -c '{\"function\":\"ReadAsset\",\"Args\":[\"asset6\"]}'\n"
     ]
    }
   ],
   "source": [
    "asset = readAsset(peers['zalya-1'], asset='asset6')\n",
    "\n",
    "from facturxWidget import facturx_widgets \n",
    "\n",
    "import json\n",
    "with open('asset.json', 'w', encoding='utf-8') as f:\n",
    "    json.dump(asset, f, ensure_ascii=False, indent=4)"
   ]
  },
  {
   "cell_type": "code",
   "execution_count": 383,
   "metadata": {},
   "outputs": [
    {
     "data": {
      "text/plain": [
       "{'ID': 'asset6',\n",
       " 'owner': 'x509::CN=User1@zalya-0.kubernetes.research.dev.seeburger.de,OU=client,L=Bretten,ST=Baden,C=DE::CN=ca.zalya-0.kubernetes.research.dev.seeburger.de,O=zalya-0.kubernetes.research.dev.seeburger.de,L=Bretten,ST=Baden,C=DE',\n",
       " 'buyer': 'x509::CN=User1@zalya-1.kubernetes.research.dev.seeburger.de,OU=client,L=Bretten,ST=Baden,C=DE::CN=ca.zalya-1.kubernetes.research.dev.seeburger.de,O=zalya-1.kubernetes.research.dev.seeburger.de,L=Bretten,ST=Baden,C=DE',\n",
       " 'hash': 0,\n",
       " 'invoiceNumber': '0',\n",
       " 'vat': 0,\n",
       " 'netto': 0,\n",
       " 'countryOrigin': 'DE',\n",
       " 'countryReceiver': 'DE',\n",
       " 'received': False,\n",
       " 'receivedOrder': False,\n",
       " 'sold': False,\n",
       " 'claimPaid': False,\n",
       " 'claimPaidBy': '',\n",
       " 'taxExemptionReason': '',\n",
       " 'taxReceived': False}"
      ]
     },
     "execution_count": 383,
     "metadata": {},
     "output_type": "execute_result"
    }
   ],
   "source": [
    "import json\n",
    "\n",
    "with open('asset.json') as json_file:\n",
    "    data = json.load(json_file)\n",
    "\n",
    "data    "
   ]
  },
  {
   "cell_type": "code",
   "execution_count": null,
   "metadata": {},
   "outputs": [],
   "source": []
  },
  {
   "cell_type": "code",
   "execution_count": 268,
   "metadata": {},
   "outputs": [
    {
     "name": "stdout",
     "output_type": "stream",
     "text": [
      "/home/jovyan/work/usr/bin/kubectl exec -t zalya-0-6cf64f96b4-vv4mp -c scray-peer-cli -- /bin/sh -c export CORE_PEER_MSPCONFIGPATH=/mnt/conf/organizations/peerOrganizations/zalya-0.kubernetes.research.dev.seeburger.de/users/User1@zalya-0.kubernetes.research.dev.seeburger.de/msp/  && peer chaincode query -C super53 -n basic -c '{\"function\":\"ReadAsset\",\"Args\":[\"asset1\"]}'\n"
     ]
    },
    {
     "data": {
      "text/plain": [
       "{'ID': 'asset1',\n",
       " 'owner': 'company',\n",
       " 'hash': 0,\n",
       " 'invoiceNumber': '0',\n",
       " 'vat': 0,\n",
       " 'netto': 0,\n",
       " 'countryOrigin': 'DE',\n",
       " 'countryReceiver': 'DE',\n",
       " 'received': False,\n",
       " 'receivedOrder': False,\n",
       " 'sold': True,\n",
       " 'claimPaid': False,\n",
       " 'claimPaidBy': '',\n",
       " 'taxExemptionReason': '',\n",
       " 'taxReceived': False}"
      ]
     },
     "execution_count": 268,
     "metadata": {},
     "output_type": "execute_result"
    }
   ],
   "source": [
    "readAsset(peer) "
   ]
  },
  {
   "cell_type": "code",
   "execution_count": 244,
   "metadata": {},
   "outputs": [
    {
     "name": "stdout",
     "output_type": "stream",
     "text": [
      "/home/jovyan/work/usr/bin/kubectl exec -t zalya-0-6cf64f96b4-vv4mp -c scray-peer-cli -- /bin/sh -c export CORE_PEER_MSPCONFIGPATH=/mnt/conf/organizations/peerOrganizations/zalya-0.kubernetes.research.dev.seeburger.de/users/User1@zalya-0.kubernetes.research.dev.seeburger.de/msp/  && peer chaincode invoke -o orderer.example.com:30081 --tls --cafile /tmp/tlsca.example.com-cert.pem -C super53 -n basic -c '{\"function\":\"ReadAsset\",\"Args\":[\"asset1\"]}'\n"
     ]
    },
    {
     "name": "stderr",
     "output_type": "stream",
     "text": [
      "\u001b[34m2021-10-26 13:37:59.439 UTC [chaincodeCmd] chaincodeInvokeOrQuery -> INFO 001\u001b[0m Chaincode invoke successful. result: status:200 payload:\"{\\\"ID\\\":\\\"asset1\\\",\\\"owner\\\":\\\"company\\\",\\\"hash\\\":0,\\\"invoiceNumber\\\":\\\"0\\\",\\\"vat\\\":0,\\\"netto\\\":0,\\\"countryOrigin\\\":\\\"DE\\\",\\\"countryReceiver\\\":\\\"DE\\\",\\\"received\\\":false,\\\"receivedOrder\\\":false,\\\"sold\\\":false,\\\"claimPaid\\\":false,\\\"claimPaidBy\\\":\\\"\\\",\\\"taxExemptionReason\\\":\\\"\\\",\\\"taxReceived\\\":false}\" \n"
     ]
    },
    {
     "data": {
      "text/plain": [
       "''"
      ]
     },
     "execution_count": 244,
     "metadata": {},
     "output_type": "execute_result"
    }
   ],
   "source": [
    "callopt= '{\"function\":\"ReadAsset\",\"Args\":[' + '\\\"' + 'asset1' + '\\\"' + ']}'\n",
    "cmd0 = str('\\'' + callopt + \"\\'\")\n",
    "strlist = ['peer', 'chaincode', 'invoke', '-o', 'orderer.example.com:30081', '--tls', '--cafile', '/tmp/tlsca.example.com-cert.pem','-C', channel_name, '-n', 'basic', '-c', cmd0]\n",
    "cmd = toCmd(strlist)\n",
    "\n",
    "executePeerCmd(peers[pernames[0]].pod_name, export_cmd + '  && ' + cmd)"
   ]
  },
  {
   "cell_type": "code",
   "execution_count": null,
   "metadata": {},
   "outputs": [],
   "source": []
  },
  {
   "cell_type": "code",
   "execution_count": null,
   "metadata": {},
   "outputs": [],
   "source": [
    " CreateAsset(ctx contractapi.TransactionContextInterface, id, owner string,  hash int,\n",
    "             invoiceNumber string, vat float32, netto float32, countryOrigin string, countryReceiver string, received bool,\n",
    "        receivedOrder bool, sold bool, claimPaid bool, claimPaidBy string, taxExemptionReason string,taxReceived bool"
   ]
  },
  {
   "cell_type": "code",
   "execution_count": 234,
   "metadata": {},
   "outputs": [
    {
     "name": "stdout",
     "output_type": "stream",
     "text": [
      "peer chaincode invoke -o orderer.example.com:30081 --tls --cafile /tmp/tlsca.example.com-cert.pem -C super53 -n basic -c '{\"function\":\"ReadAsset\",\"Args\":[\"asset1\"]}'\n",
      "/home/jovyan/work/usr/bin/kubectl exec -it zalya-0-6cf64f96b4-vv4mp -c scray-peer-cli -- /bin/bash -c peer chaincode invoke -o orderer.example.com:30081 --tls --cafile /tmp/tlsca.example.com-cert.pem -C super53 -n basic -c '{\"function\":\"ReadAsset\",\"Args\":[\"asset1\"]}'\n"
     ]
    },
    {
     "name": "stderr",
     "output_type": "stream",
     "text": [
      "Unable to use a TTY - input is not a terminal or the right kind of file\n",
      "Error: error endorsing invoke: rpc error: code = Unknown desc = Failed evaluating policy on signed data during check policy on channel [super53] with policy [/Channel/Application/Writers]: [implicit policy evaluation failed - 0 sub-policies were satisfied, but this policy requires 1 of the 'Writers' sub-policies to be satisfied] - proposal response: <nil>\n",
      "command terminated with exit code 1\n"
     ]
    },
    {
     "data": {
      "text/plain": [
       "'Command \\'[\\'/home/jovyan/work/usr/bin/kubectl\\', \\'exec\\', \\'-it\\', \\'zalya-0-6cf64f96b4-vv4mp\\', \\'-c\\', \\'scray-peer-cli\\', \\'--\\', \\'/bin/bash\\', \\'-c\\', \\'peer chaincode invoke -o orderer.example.com:30081 --tls --cafile /tmp/tlsca.example.com-cert.pem -C super53 -n basic -c \\\\\\'{\"function\":\"ReadAsset\",\"Args\":[\"asset1\"]}\\\\\\'\\']\\' returned non-zero exit status 1.'"
      ]
     },
     "execution_count": 234,
     "metadata": {},
     "output_type": "execute_result"
    }
   ],
   "source": [
    "def getPeer0Address(peer):\n",
    "    addr='peer0.kubernetes.research.dev.seeburger.de'\n",
    "    return str(addr + ':' + peer.listen_port)\n",
    "\n",
    "def readAsset(peer, asset='asset1'):\n",
    "    #callopt= '{\\\"function\\\":\\\"ReadAsset\\\",\\\"Args\\\":[' + '\\\"' + asset + '\\\"' + ']}'\n",
    "    callopt= '{\"function\":\"ReadAsset\",\"Args\":[' + '\\\"' + asset + '\\\"' + ']}'\n",
    "    cmd0 = str('\\'' + callopt + \"\\'\")\n",
    "    try:\n",
    "        #cmd1= 'CORE_PEER_ADDRESS=\\\"peer0.kubernetes.research.dev.seeburger.de:31866\\\" && ' \n",
    "        #cmd1 = 'CORE_PEER_ADDRESS=\\\"' + getPeer0Address(peer) + '\\\" && '\n",
    "        cmd1 = 'CORE_PEER_MSPCONFIGPATH=' + path + '\\\" && '\n",
    "        #cmd2 = ['peer', 'chaincode','query', '-C', channel_name, '-n', 'basic', '-c']\n",
    "        cmd2 = ['peer', 'chaincode', 'invoke', '-o', 'orderer.example.com:30081', '--tls', '--cafile', '/tmp/tlsca.example.com-cert.pem', '-C',channel_name, '-n', 'basic', '-c']\n",
    "   \n",
    "        cmd = toCmd(cmd2) + ' ' + cmd0\n",
    "        print(cmd)\n",
    "        #output = executePeerCmd(peer.pod_name, cmd1 + cmd)\n",
    "        #print(output)\n",
    "        if output[0] == '{':\n",
    "            return json.loads(output)\n",
    "        return cmd\n",
    "    except Exception as e:\n",
    "        print(e)\n",
    "        \n",
    "asset = readAsset(peers[pernames[0]], 'asset1')\n",
    "executePeerCmd(peers[pernames[0]].pod_name,asset)"
   ]
  },
  {
   "cell_type": "code",
   "execution_count": 222,
   "metadata": {},
   "outputs": [
    {
     "name": "stdout",
     "output_type": "stream",
     "text": [
      "peer chaincode invoke -o orderer.example.com:30081 --tls --cafile /tmp/tlsca.example.com-cert.pem -C super53 046 x509::CN=User1@zalya-0.kubernetes.research.dev.seeburger.de,OU=client,L=Bretten,ST=Baden,C=DE::CN=ca.zalya-0.kubernetes.research.dev.seeburger.de,O=zalya-0.kubernetes.research.dev.seeburger.de,L=Bretten,ST=Baden,C=DE\n"
     ]
    },
    {
     "name": "stderr",
     "output_type": "stream",
     "text": [
      "Unable to use a TTY - input is not a terminal or the right kind of file\n",
      "Error: must supply value for chaincode name parameter\n",
      "Usage:\n",
      "  peer chaincode invoke [flags]\n",
      "\n",
      "Flags:\n",
      "  -C, --channelID string               The channel on which this command should be executed\n",
      "      --connectionProfile string       Connection profile that provides the necessary connection information for the network. Note: currently only supported for providing peer connection information\n",
      "  -c, --ctor string                    Constructor message for the chaincode in JSON format (default \"{}\")\n",
      "  -h, --help                           help for invoke\n",
      "  -I, --isInit                         Is this invocation for init (useful for supporting legacy chaincodes in the new lifecycle)\n",
      "  -n, --name string                    Name of the chaincode\n",
      "      --peerAddresses stringArray      The addresses of the peers to connect to\n",
      "      --tlsRootCertFiles stringArray   If TLS is enabled, the paths to the TLS root cert files of the peers to connect to. The order and number of certs specified should match the --peerAddresses flag\n",
      "      --waitForEvent                   Whether to wait for the event from each peer's deliver filtered service signifying that the 'invoke' transaction has been committed successfully\n",
      "      --waitForEventTimeout duration   Time to wait for the event from each peer's deliver filtered service signifying that the 'invoke' transaction has been committed successfully (default 30s)\n",
      "\n",
      "Global Flags:\n",
      "      --cafile string                       Path to file containing PEM-encoded trusted certificate(s) for the ordering endpoint\n",
      "      --certfile string                     Path to file containing PEM-encoded X509 public key to use for mutual TLS communication with the orderer endpoint\n",
      "      --clientauth                          Use mutual TLS when communicating with the orderer endpoint\n",
      "      --connTimeout duration                Timeout for client to connect (default 3s)\n",
      "      --keyfile string                      Path to file containing PEM-encoded private key to use for mutual TLS communication with the orderer endpoint\n",
      "  -o, --orderer string                      Ordering service endpoint\n",
      "      --ordererTLSHostnameOverride string   The hostname override to use when validating the TLS connection to the orderer\n",
      "      --tls                                 Use TLS when communicating with the orderer endpoint\n",
      "      --tlsHandshakeTimeShift duration      The amount of time to shift backwards for certificate expiration checks during TLS handshakes with the orderer endpoint\n",
      "      --transient string                    Transient map of arguments in JSON encoding\n",
      "\n",
      "command terminated with exit code 1\n"
     ]
    },
    {
     "data": {
      "text/plain": [
       "\"Command '['/home/jovyan/work/usr/bin/kubectl', 'exec', '-it', 'zalya-0-6cf64f96b4-vv4mp', '-c', 'scray-peer-cli', '--', '/bin/bash', '-c', 'peer chaincode invoke -o orderer.example.com:30081 --tls --cafile /tmp/tlsca.example.com-cert.pem -C super53 046 x509::CN=User1@zalya-0.kubernetes.research.dev.seeburger.de,OU=client,L=Bretten,ST=Baden,C=DE::CN=ca.zalya-0.kubernetes.research.dev.seeburger.de,O=zalya-0.kubernetes.research.dev.seeburger.de,L=Bretten,ST=Baden,C=DE']' returned non-zero exit status 1.\""
      ]
     },
     "execution_count": 222,
     "metadata": {},
     "output_type": "execute_result"
    }
   ],
   "source": [
    "invoice_id='046'\n",
    "buyer=pernames[0]\n",
    "\n",
    "strlist = ['peer', 'chaincode', 'invoke', '-o', 'orderer.example.com:30081', '--tls', '--cafile', '/tmp/tlsca.example.com-cert.pem', '-C',channel_name,invoice_id,get_certificate_string(buyer)]\n",
    "print(toCmd(strlist))\n",
    "executePeerCmd(peers[pernames[0]].pod_name, toCmd(strlist))"
   ]
  },
  {
   "cell_type": "code",
   "execution_count": null,
   "metadata": {},
   "outputs": [],
   "source": [
    "CHANNEL_ID=$1\n",
    "ASSET_ID=$2\n",
    "PRODUCT_BUYER=$3\n",
    "\n",
    "export PKGID=basic_1.0:5a294a12a1a89cd4eed3d4234fbc79f42eab2ac20cd176bc8ebbc07c597cd0ee\n",
    "\n",
    "export CORE_PEER_MSPCONFIGPATH=/mnt/conf/organizations/peerOrganizations/$HOSTNAME/users/User1@$HOSTNAME/msp/\n",
    "\n",
    "peer chaincode invoke -o orderer.example.com:30081 --tls --cafile /tmp/tlsca.example.com-cert.pem -C $CHANNEL_ID -n basic -c '{\"function\":\"CreateAsset\",\"Args\":[\"'${ASSET_ID}'\", \"'${PRODUCT_BUYER}'\"]}'"
   ]
  },
  {
   "cell_type": "markdown",
   "metadata": {},
   "source": [
    "## invoice usecase (Simple)"
   ]
  },
  {
   "cell_type": "code",
   "execution_count": 74,
   "metadata": {},
   "outputs": [
    {
     "ename": "IndexError",
     "evalue": "list index out of range",
     "output_type": "error",
     "traceback": [
      "\u001b[0;31m---------------------------------------------------------------------------\u001b[0m",
      "\u001b[0;31mIndexError\u001b[0m                                Traceback (most recent call last)",
      "\u001b[0;32m/tmp/ipykernel_5130/1007216593.py\u001b[0m in \u001b[0;36m<module>\u001b[0;34m\u001b[0m\n\u001b[1;32m     11\u001b[0m \u001b[0;34m\u001b[0m\u001b[0m\n\u001b[1;32m     12\u001b[0m \u001b[0mpernames\u001b[0m \u001b[0;34m=\u001b[0m \u001b[0mlist\u001b[0m\u001b[0;34m(\u001b[0m\u001b[0mpeers\u001b[0m\u001b[0;34m.\u001b[0m\u001b[0mkeys\u001b[0m\u001b[0;34m(\u001b[0m\u001b[0;34m)\u001b[0m\u001b[0;34m)\u001b[0m\u001b[0;34m\u001b[0m\u001b[0;34m\u001b[0m\u001b[0m\n\u001b[0;32m---> 13\u001b[0;31m \u001b[0mchaincode_add_invoice\u001b[0m\u001b[0;34m(\u001b[0m\u001b[0mpeers\u001b[0m\u001b[0;34m[\u001b[0m\u001b[0mpernames\u001b[0m\u001b[0;34m[\u001b[0m\u001b[0;36m0\u001b[0m\u001b[0;34m]\u001b[0m\u001b[0;34m]\u001b[0m\u001b[0;34m,\u001b[0m\u001b[0mchannel_name\u001b[0m\u001b[0;34m,\u001b[0m\u001b[0;34m'046'\u001b[0m\u001b[0;34m,\u001b[0m\u001b[0mpernames\u001b[0m\u001b[0;34m[\u001b[0m\u001b[0;36m1\u001b[0m\u001b[0;34m]\u001b[0m\u001b[0;34m)\u001b[0m\u001b[0;34m\u001b[0m\u001b[0;34m\u001b[0m\u001b[0m\n\u001b[0m",
      "\u001b[0;31mIndexError\u001b[0m: list index out of range"
     ]
    }
   ],
   "source": [
    "\n",
    "pernames = list(peers.keys())\n",
    "chaincode_add_invoice(peers[pernames[0]],channel_name,'046',pernames[1])"
   ]
  },
  {
   "cell_type": "code",
   "execution_count": null,
   "metadata": {},
   "outputs": [],
   "source": [
    "!/home/jovyan/work/usr/bin/kubectl exec -t galya-0-6cc848b49-pv2dn -c scray-peer-cli -- /bin/sh /mnt/conf/peer/add-invoice.sh super13 006 x509::CN=User1@galya-1.kubernetes.research.dev.seeburger.de,OU=client,L=San Francisco,ST=California,C=US::CN=ca.galya-1.kubernetes.research.dev.seeburger.de,O=galya-1.kubernetes.research.dev.seeburger.de,L=San Francisco,ST=California,C=USdx509::CN=User1@galya-1.kubernetes.research.dev.seeburger.de,OU=client,L=San Francisco,ST=California,C=US::CN=ca.galya-1.kubernetes.research.dev.seeburger.de,O=galya-1.kubernetes.research.dev.seeburger.de,L=San Francisco,ST=California,C=US"
   ]
  },
  {
   "cell_type": "code",
   "execution_count": null,
   "metadata": {},
   "outputs": [],
   "source": [
    "get_certificate_string(pernames[1])\n",
    "\n",
    "#'x509::CN=User1@galya-1.kubernetes.research.dev.seeburger.de,OU=client,L=San Francisco,ST=California,C=US::CN=ca.galya-1.kubernetes.research.dev.seeburger.de,O=galya-1.kubernetes.research.dev.seeburger.de,L=San Francisco,ST=California,C=USdx509::CN=User1@galya-1.kubernetes.research.dev.seeburger.de,OU=client,L=San Francisco,ST=California,C=US::CN=ca.galya-1.kubernetes.research.dev.seeburger.de,O=galya-1.kubernetes.research.dev.seeburger.de,L=San Francisco,ST=California,C=US'\n",
    "\n",
    "#, 'x509::CN=User1@galya-1.kubernetes.research.dev.seeburger.de,OU=client,L=San Francisco,ST=California,C=US::CN=ca.galya-1.kubernetes.research.dev.seeburger.de,O=galya-1.kubernetes.research.dev.seeburger.de,L=San Francisco,ST=California,C=USdx509::CN=User1@galya-1.kubernetes.research.dev.seeburger.de,OU=client,L=San Francisco,ST=California,C=US::CN=ca.galya-1.kubernetes.research.dev.seeburger.de,O=galya-1.kubernetes.research.dev.seeburger.de,L=San Francisco,ST=California,C=US'"
   ]
  },
  {
   "cell_type": "code",
   "execution_count": null,
   "metadata": {},
   "outputs": [],
   "source": [
    "#kubectl exec --stdin --tty $PEER_POD -c scray-peer-cli -- /bin/sh /mnt/conf/peer/get-my-invoices.sh  $CHANNEL_NAME $INVOICE_ID\n",
    "def chaincode_read_invoice(peer,channel_name):\n",
    "    strlist = ['/mnt/conf/peer/get-my-invoices.sh', channel_name]\n",
    "    return executePeerCmd(peer.pod_name,toCmd(strlist)) \n",
    "chaincode_read_invoice(peers[pernames[0]],channel_name)"
   ]
  },
  {
   "cell_type": "code",
   "execution_count": null,
   "metadata": {},
   "outputs": [],
   "source": [
    "def chaincode_transfer_invoice(peer,channel_name,invoice_id,new_owner):\n",
    "    strlist = ['/mnt/conf/peer/transfer_invoice.sh', channel_name,invoice_id,get_certificate_string(new_owner)]\n",
    "    print(toCmd(strlist))\n",
    "    return executePeerCmd(peer.pod_name,toCmd(strlist)) \n",
    "\n",
    "pernames = list(peers.keys())\n",
    "chaincode_transfer_invoice(peers[pernames[0]],channel_name,'045',pernames[2])"
   ]
  },
  {
   "cell_type": "code",
   "execution_count": null,
   "metadata": {},
   "outputs": [],
   "source": [
    "get_certificate_string(pernames[2])\n",
    "NEW_OWNER='x509::CN=User1@lalya-2.kubernetes.research.dev.seeburger.de,OU=client,L=Bretten,ST=Baden,C=DE::CN=ca.lalya-2.kubernetes.research.dev.seeburger.de,O=lalya-2.kubernetes.research.dev.seeburger.de,L=Bretten,ST=Baden,C=DE'\n",
    "kubectl exec --stdin --tty lalya-0-7c887cffb8-fpw7h -c scray-peer-cli -- /bin/sh /mnt/conf/peer/transfer_invoice.sh  super43 045 $NEW_OWNER"
   ]
  },
  {
   "cell_type": "code",
   "execution_count": null,
   "metadata": {},
   "outputs": [],
   "source": [
    "kubectl exec --stdin --tty 'lalya-0-7c887cffb8-fpw7h' -c scray-peer-cli -- /bin/sh /mnt/conf/peer/get-my-invoices.sh  super43 045\n",
    "kubectl exec --stdin --tty 'lalya-1-7c76dff8c-pzx78' -c scray-peer-cli -- /bin/sh /mnt/conf/peer/get-my-invoices.sh  super43 045\n",
    "kubectl exec --stdin --tty 'lalya-2-5f8b45dbc4-52tt7' -c scray-peer-cli -- /bin/sh /mnt/conf/peer/get-my-invoices.sh  super43 045\n"
   ]
  },
  {
   "cell_type": "code",
   "execution_count": null,
   "metadata": {},
   "outputs": [],
   "source": [
    "peers[pernames[2]].pod_name"
   ]
  },
  {
   "cell_type": "markdown",
   "metadata": {},
   "source": [
    "## add channel"
   ]
  },
  {
   "cell_type": "code",
   "execution_count": null,
   "metadata": {},
   "outputs": [],
   "source": [
    "orderer.pod_name"
   ]
  },
  {
   "cell_type": "code",
   "execution_count": 183,
   "metadata": {},
   "outputs": [
    {
     "name": "stdout",
     "output_type": "stream",
     "text": [
      "\u001b[34m2021-10-22 08:36:42.399 UTC [common.tools.configtxgen] main -> INFO 001\u001b[0m Loading configuration\n",
      "\u001b[34m2021-10-22 08:36:42.429 UTC [common.tools.configtxgen.localconfig] Load -> INFO 002\u001b[0m Loaded configuration: /mnt/conf/orderer/configtx.yaml\n",
      "\u001b[34m2021-10-22 08:36:42.429 UTC [common.tools.configtxgen] doOutputChannelCreateTx -> INFO 003\u001b[0m Generating new channel configtx\n",
      "\u001b[34m2021-10-22 08:36:42.432 UTC [common.tools.configtxgen] doOutputChannelCreateTx -> INFO 004\u001b[0m Writing new channel tx\n",
      "\u001b[34m2021-10-22 08:36:42.501 UTC [channelCmd] InitCmdFactory -> INFO 001\u001b[0m Endorser and orderer connections initialized\n",
      "\u001b[34m2021-10-22 08:36:42.575 UTC [cli.common] readBlock -> INFO 002\u001b[0m Expect block, but got status: &{NOT_FOUND}\n",
      "\u001b[34m2021-10-22 08:36:42.583 UTC [channelCmd] InitCmdFactory -> INFO 003\u001b[0m Endorser and orderer connections initialized\n",
      "\u001b[34m2021-10-22 08:36:42.785 UTC [cli.common] readBlock -> INFO 004\u001b[0m Expect block, but got status: &{SERVICE_UNAVAILABLE}\n",
      "\u001b[34m2021-10-22 08:36:42.803 UTC [channelCmd] InitCmdFactory -> INFO 005\u001b[0m Endorser and orderer connections initialized\n",
      "\u001b[34m2021-10-22 08:36:43.005 UTC [cli.common] readBlock -> INFO 006\u001b[0m Expect block, but got status: &{SERVICE_UNAVAILABLE}\n",
      "\u001b[34m2021-10-22 08:36:43.013 UTC [channelCmd] InitCmdFactory -> INFO 007\u001b[0m Endorser and orderer connections initialized\n",
      "\u001b[34m2021-10-22 08:36:43.215 UTC [cli.common] readBlock -> INFO 008\u001b[0m Expect block, but got status: &{SERVICE_UNAVAILABLE}\n",
      "\u001b[34m2021-10-22 08:36:43.221 UTC [channelCmd] InitCmdFactory -> INFO 009\u001b[0m Endorser and orderer connections initialized\n",
      "\u001b[34m2021-10-22 08:36:43.424 UTC [cli.common] readBlock -> INFO 00a\u001b[0m Expect block, but got status: &{SERVICE_UNAVAILABLE}\n",
      "\u001b[34m2021-10-22 08:36:43.433 UTC [channelCmd] InitCmdFactory -> INFO 00b\u001b[0m Endorser and orderer connections initialized\n",
      "\u001b[34m2021-10-22 08:36:43.635 UTC [cli.common] readBlock -> INFO 00c\u001b[0m Expect block, but got status: &{SERVICE_UNAVAILABLE}\n",
      "\u001b[34m2021-10-22 08:36:43.656 UTC [channelCmd] InitCmdFactory -> INFO 00d\u001b[0m Endorser and orderer connections initialized\n",
      "\u001b[34m2021-10-22 08:36:43.874 UTC [cli.common] readBlock -> INFO 00e\u001b[0m Received block: 0\n"
     ]
    }
   ],
   "source": [
    "!/home/jovyan/work/usr/bin/kubectl exec -t orderer-org1-scray-org-9dbd9fc68-5lrgq -c scray-orderer-cli -- /bin/sh /mnt/conf/orderer/scripts/create_channel.sh super53 orderer.example.com 30081"
   ]
  },
  {
   "cell_type": "code",
   "execution_count": null,
   "metadata": {},
   "outputs": [],
   "source": [
    "add_channel('super20')"
   ]
  },
  {
   "cell_type": "code",
   "execution_count": null,
   "metadata": {},
   "outputs": [],
   "source": [
    "name = 'super30'\n",
    "cmd = toCmd(['/mnt/conf/orderer/scripts/create_channel.sh', name, 'orderer.example.com', '7050'])\n",
    "cmd, orderer.pod_name"
   ]
  },
  {
   "cell_type": "code",
   "execution_count": null,
   "metadata": {},
   "outputs": [],
   "source": [
    "executePeerCmd(orderer.pod_name, cmd, cli='scray-orderer-cli')"
   ]
  },
  {
   "cell_type": "code",
   "execution_count": null,
   "metadata": {},
   "outputs": [],
   "source": [
    "executePeerCmd(orderer.pod_name, 'peer channel list', cli='scray-orderer-cli')"
   ]
  },
  {
   "cell_type": "code",
   "execution_count": null,
   "metadata": {},
   "outputs": [],
   "source": [
    "cmd1 = ['/mnt/conf/orderer/scripts/create_channel.sh super20 orderer.example.com 7050']\n",
    "executePeerCmd(orderer.pod_name, cmd1, cli='scray-orderer-cli')"
   ]
  },
  {
   "cell_type": "code",
   "execution_count": null,
   "metadata": {},
   "outputs": [],
   "source": [
    "#cmd1 = ['/home/jovyan/work/usr/bin/kubectl', 'exec','-t', 'orderer-org1-scray-org-5f97c57d44-l6d5l', '-c', 'scray-orderer-cli','--', '/bin/sh', '-c','/mnt/conf/orderer/scripts/create_channel.sh super7 orderer.example.com 7050']\n",
    "\n",
    "#cmd2 = toCmd(['ls','-a'])\n",
    "cmd2 = toCmd(['/mnt/conf/orderer/scripts/create_channel.sh', 'super7', 'orderer.example.com', '7050'])\n",
    "\n",
    "cmd1 = ['/home/jovyan/work/usr/bin/kubectl', 'exec','-t', 'orderer-org1-scray-org-5f97c57d44-l6d5l', '-c', 'scray-orderer-cli','--', '/bin/sh', '-c',cmd2]\n",
    "\n",
    "\n",
    "print(toCmd(cmd1))\n",
    "#subprocess.check_output(cmd1)\n",
    "subprocess.run(cmd1, stdout = subprocess.PIPE, stderr=subprocess.PIPE)"
   ]
  },
  {
   "cell_type": "code",
   "execution_count": null,
   "metadata": {},
   "outputs": [],
   "source": [
    "!/home/jovyan/work/usr/bin/kubectl exec -it orderer-org1-scray-org-5f97c57d44-l6d5l -c scray-orderer-cli -- /bin/sh /mnt/conf/orderer/scripts/create_channel.sh super6 orderer.example.com 7050\n"
   ]
  },
  {
   "cell_type": "code",
   "execution_count": null,
   "metadata": {},
   "outputs": [],
   "source": [
    "orderer.pod_name"
   ]
  },
  {
   "cell_type": "code",
   "execution_count": null,
   "metadata": {},
   "outputs": [],
   "source": [
    "!/home/jovyan/work/usr/bin/kubectl exec --stdin --tty 'orderer-org1-scray-org-5f97c57d44-j5mbs' -c scray-orderer-cli  -- /bin/sh /mnt/conf/orderer/scripts/create_channel.sh 'super' orderer.example.com '7050'"
   ]
  },
  {
   "cell_type": "code",
   "execution_count": null,
   "metadata": {},
   "outputs": [],
   "source": [
    "# Create Peer\n",
    "\n",
    "peername='dalya8'\n",
    "addPeer(peername)\n",
    "peers[peername].__dict__"
   ]
  },
  {
   "cell_type": "code",
   "execution_count": null,
   "metadata": {},
   "outputs": [],
   "source": [
    "\n"
   ]
  },
  {
   "cell_type": "code",
   "execution_count": null,
   "metadata": {},
   "outputs": [],
   "source": [
    "executeKubectlCmd(['get', 'pods','-l', 'app=orderer-org1-scray-org','-o','jsonpath=\\'{.items[*].status.podIP}\\''])  "
   ]
  },
  {
   "cell_type": "code",
   "execution_count": null,
   "metadata": {},
   "outputs": [],
   "source": [
    "peers[peername].__dict__"
   ]
  },
  {
   "cell_type": "code",
   "execution_count": null,
   "metadata": {},
   "outputs": [],
   "source": [
    "orderer.__dict__"
   ]
  },
  {
   "cell_type": "markdown",
   "metadata": {},
   "source": [
    "## Export channel configuration"
   ]
  },
  {
   "cell_type": "code",
   "execution_count": null,
   "metadata": {},
   "outputs": [],
   "source": [
    "#https://github.com/scray/scray/blob/feature/k8s-peer/projects/invoice-hyperledger-fabric/containers/README.md#export-data\n",
    "\n",
    "SHARED_FS_HOST='10.14.128.38:30080'\n",
    "_result = SHARED_FS_HOST + '/channel/configuration/$CHANNEL_NAME/config.json'\n",
    "\n",
    "#kubectl exec --stdin --tty $ORDERER_POD -c scray-orderer-cli -- /bin/sh /mnt/conf/orderer/scripts/publish_channel_conf.sh $CHANNEL_NAME $SHARED_FS_HOST\n",
    "\n",
    "def export_channel_configuration(peer,channel_name,SHARED_FS_HOST):\n",
    "    strlist = ['/mnt/conf/orderer/scripts/publish_channel_conf.sh', channel_name,SHARED_FS_HOST]\n",
    "    return executePeerCmd(peer.pod_name,toCmd(strlist)) \n",
    "\n",
    "#_peer = peers[list(peers.keys())[0]]\n",
    "_peer = orderer\n",
    "channel_name = 'super'\n",
    "export_channel_configuration(_peer,channel_name,SHARED_FS_HOST)"
   ]
  },
  {
   "cell_type": "code",
   "execution_count": null,
   "metadata": {},
   "outputs": [],
   "source": [
    "#list(peers)[0]\n"
   ]
  },
  {
   "cell_type": "markdown",
   "metadata": {},
   "source": [
    "# Enroll users"
   ]
  },
  {
   "cell_type": "code",
   "execution_count": null,
   "metadata": {},
   "outputs": [],
   "source": [
    "# download walletcreator to peers\n",
    "def uploadWalletToolToSharepoint():\n",
    "    uploadFromLocal(local_path='/home/jovyan/scray/projects/invoice-hyperledger-fabric/tools/wallet-creator/target', local_name='wallet-creator-0.0.1-SNAPSHOT-jar-with-dependencies.jar' ,remote_path='upload')\n",
    "    uploadFromLocal(local_path='/home/jovyan/scray/projects/invoice-hyperledger-fabric/tools/wallet-creator', local_name='cert-creator.sh' ,remote_path='upload')\n",
    "\n",
    "def installPeerWalletTool(peer):\n",
    "    executePeerCmd(peer.pod_name,toCmd(downloadToLocalCmdList(local_path='/tmp', remote_name='wallet-creator-0.0.1-SNAPSHOT-jar-with-dependencies.jar'))) \n",
    "    executePeerCmd(peer.pod_name,toCmd(downloadToLocalCmdList(local_path='/tmp', remote_name='cert-creator.sh'))) \n",
    "    executePeerCmd(peer.pod_name,'apk add openssl')\n",
    "    executePeerCmd(peer.pod_name,'apk add openjdk8-jre')\n",
    "    # chmod 755\n",
    "    \n",
    "def createPeerUser(peer,user, admin='admin',\n",
    "    cert='/mnt/conf/organizations/peerOrganizations/kubernetes.research.dev.seeburger.de/ca/ca.kubernetes.research.dev.seeburger.de-cert.pem',\n",
    "    key='/mnt/conf/organizations/peerOrganizations/kubernetes.research.dev.seeburger.de/ca/priv_sk'):\n",
    "        cmd = ['/tmp/cert-creator.sh','--cacert',cert,'--cakey',key,'--new-user-crt',user,'--organizational-unit',admin,\n",
    "               '--create-wallet','true','--wallet-creator-lib-path', '/tmp']\n",
    "        return executePeerCmd(peer.pod_name,toCmd(cmd))\n",
    "    \n",
    "#createPeerUser(peers['oly0'],'bretten')     "
   ]
  },
  {
   "cell_type": "code",
   "execution_count": null,
   "metadata": {},
   "outputs": [],
   "source": [
    "peer = peers['oly0']\n",
    "# build local , upload tool to sharepoint \n",
    "#uploadWalletToolToSharepoint()\n",
    "#installPeerWalletTool(peer)\n",
    "\n",
    "createPeerUser(peer,'bretten')   "
   ]
  }
 ],
 "metadata": {
  "kernelspec": {
   "display_name": "Python 3 (ipykernel)",
   "language": "python",
   "name": "python3"
  },
  "language_info": {
   "codemirror_mode": {
    "name": "ipython",
    "version": 3
   },
   "file_extension": ".py",
   "mimetype": "text/x-python",
   "name": "python",
   "nbconvert_exporter": "python",
   "pygments_lexer": "ipython3",
   "version": "3.9.5"
  }
 },
 "nbformat": 4,
 "nbformat_minor": 4
}
