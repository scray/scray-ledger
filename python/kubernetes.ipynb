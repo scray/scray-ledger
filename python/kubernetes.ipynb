{
 "cells": [
  {
   "cell_type": "markdown",
   "metadata": {},
   "source": [
    "# Kubernetes"
   ]
  },
  {
   "cell_type": "markdown",
   "metadata": {},
   "source": [
    "# Kubernetes Version (Current)"
   ]
  },
  {
   "cell_type": "code",
   "execution_count": 1,
   "metadata": {},
   "outputs": [
    {
     "ename": "JSONDecodeError",
     "evalue": "Expecting value: line 1 column 2 (char 1)",
     "output_type": "error",
     "traceback": [
      "\u001b[0;31m---------------------------------------------------------------------------\u001b[0m",
      "\u001b[0;31mJSONDecodeError\u001b[0m                           Traceback (most recent call last)",
      "\u001b[0;32m/tmp/ipykernel_112/1051585152.py\u001b[0m in \u001b[0;36m<module>\u001b[0;34m\u001b[0m\n\u001b[0;32m----> 1\u001b[0;31m \u001b[0;32mfrom\u001b[0m \u001b[0mkubernetesTool\u001b[0m \u001b[0;32mimport\u001b[0m \u001b[0mexecuteKubectlCmd\u001b[0m\u001b[0;34m\u001b[0m\u001b[0;34m\u001b[0m\u001b[0m\n\u001b[0m\u001b[1;32m      2\u001b[0m \u001b[0;32mfrom\u001b[0m \u001b[0mkubernetesTool\u001b[0m \u001b[0;32mimport\u001b[0m \u001b[0mtoCmd\u001b[0m\u001b[0;34m\u001b[0m\u001b[0;34m\u001b[0m\u001b[0m\n\u001b[1;32m      3\u001b[0m \u001b[0;32mfrom\u001b[0m \u001b[0mkubernetesTool\u001b[0m \u001b[0;32mimport\u001b[0m \u001b[0mexecuteLocalCmd\u001b[0m\u001b[0;34m\u001b[0m\u001b[0;34m\u001b[0m\u001b[0m\n\u001b[1;32m      4\u001b[0m \u001b[0;32mfrom\u001b[0m \u001b[0mkubernetesTool\u001b[0m \u001b[0;32mimport\u001b[0m \u001b[0mcreateConfig\u001b[0m\u001b[0;34m\u001b[0m\u001b[0;34m\u001b[0m\u001b[0m\n\u001b[1;32m      5\u001b[0m \u001b[0;32mfrom\u001b[0m \u001b[0mkubernetesTool\u001b[0m \u001b[0;32mimport\u001b[0m \u001b[0mgetPort\u001b[0m\u001b[0;34m\u001b[0m\u001b[0;34m\u001b[0m\u001b[0m\n",
      "\u001b[0;32m~/work/python/kubernetesTool.py\u001b[0m in \u001b[0;36m<module>\u001b[0;34m\u001b[0m\n\u001b[1;32m    111\u001b[0m \u001b[0;34m\u001b[0m\u001b[0m\n\u001b[1;32m    112\u001b[0m \u001b[0;31m#getPods().keys()\u001b[0m\u001b[0;34m\u001b[0m\u001b[0;34m\u001b[0m\u001b[0m\n\u001b[0;32m--> 113\u001b[0;31m \u001b[0mgetPods\u001b[0m\u001b[0;34m(\u001b[0m\u001b[0;34m)\u001b[0m\u001b[0;34m[\u001b[0m\u001b[0;34m'items'\u001b[0m\u001b[0;34m]\u001b[0m\u001b[0;34m[\u001b[0m\u001b[0;36m0\u001b[0m\u001b[0;34m]\u001b[0m\u001b[0;34m[\u001b[0m\u001b[0;34m'metadata'\u001b[0m\u001b[0;34m]\u001b[0m\u001b[0;34m.\u001b[0m\u001b[0mkeys\u001b[0m\u001b[0;34m(\u001b[0m\u001b[0;34m)\u001b[0m\u001b[0;34m\u001b[0m\u001b[0;34m\u001b[0m\u001b[0m\n\u001b[0m\u001b[1;32m    114\u001b[0m \u001b[0mgetPods\u001b[0m\u001b[0;34m(\u001b[0m\u001b[0;34m)\u001b[0m\u001b[0;34m[\u001b[0m\u001b[0;34m'items'\u001b[0m\u001b[0;34m]\u001b[0m\u001b[0;34m[\u001b[0m\u001b[0;36m0\u001b[0m\u001b[0;34m]\u001b[0m\u001b[0;34m[\u001b[0m\u001b[0;34m'metadata'\u001b[0m\u001b[0;34m]\u001b[0m\u001b[0;34m[\u001b[0m\u001b[0;34m'name'\u001b[0m\u001b[0;34m]\u001b[0m\u001b[0;34m\u001b[0m\u001b[0;34m\u001b[0m\u001b[0m\n\u001b[1;32m    115\u001b[0m \u001b[0;34m\u001b[0m\u001b[0m\n",
      "\u001b[0;32m~/work/python/kubernetesTool.py\u001b[0m in \u001b[0;36mgetPods\u001b[0;34m()\u001b[0m\n\u001b[1;32m    102\u001b[0m \u001b[0;34m\u001b[0m\u001b[0m\n\u001b[1;32m    103\u001b[0m \u001b[0;32mdef\u001b[0m \u001b[0mgetPods\u001b[0m\u001b[0;34m(\u001b[0m\u001b[0;34m)\u001b[0m\u001b[0;34m:\u001b[0m\u001b[0;34m\u001b[0m\u001b[0;34m\u001b[0m\u001b[0m\n\u001b[0;32m--> 104\u001b[0;31m     \u001b[0;32mreturn\u001b[0m \u001b[0mjson\u001b[0m\u001b[0;34m.\u001b[0m\u001b[0mloads\u001b[0m\u001b[0;34m(\u001b[0m\u001b[0mexecuteKubectlCmd\u001b[0m\u001b[0;34m(\u001b[0m\u001b[0;34m[\u001b[0m\u001b[0;34m'get'\u001b[0m\u001b[0;34m,\u001b[0m \u001b[0;34m'pods'\u001b[0m\u001b[0;34m,\u001b[0m \u001b[0;34m'-o'\u001b[0m\u001b[0;34m,\u001b[0m \u001b[0;34m'json'\u001b[0m\u001b[0;34m]\u001b[0m\u001b[0;34m)\u001b[0m\u001b[0;34m)\u001b[0m\u001b[0;34m\u001b[0m\u001b[0;34m\u001b[0m\u001b[0m\n\u001b[0m\u001b[1;32m    105\u001b[0m \u001b[0;34m\u001b[0m\u001b[0m\n\u001b[1;32m    106\u001b[0m \u001b[0;34m\u001b[0m\u001b[0m\n",
      "\u001b[0;32m/opt/conda/lib/python3.9/json/__init__.py\u001b[0m in \u001b[0;36mloads\u001b[0;34m(s, cls, object_hook, parse_float, parse_int, parse_constant, object_pairs_hook, **kw)\u001b[0m\n\u001b[1;32m    344\u001b[0m             \u001b[0mparse_int\u001b[0m \u001b[0;32mis\u001b[0m \u001b[0;32mNone\u001b[0m \u001b[0;32mand\u001b[0m \u001b[0mparse_float\u001b[0m \u001b[0;32mis\u001b[0m \u001b[0;32mNone\u001b[0m \u001b[0;32mand\u001b[0m\u001b[0;34m\u001b[0m\u001b[0;34m\u001b[0m\u001b[0m\n\u001b[1;32m    345\u001b[0m             parse_constant is None and object_pairs_hook is None and not kw):\n\u001b[0;32m--> 346\u001b[0;31m         \u001b[0;32mreturn\u001b[0m \u001b[0m_default_decoder\u001b[0m\u001b[0;34m.\u001b[0m\u001b[0mdecode\u001b[0m\u001b[0;34m(\u001b[0m\u001b[0ms\u001b[0m\u001b[0;34m)\u001b[0m\u001b[0;34m\u001b[0m\u001b[0;34m\u001b[0m\u001b[0m\n\u001b[0m\u001b[1;32m    347\u001b[0m     \u001b[0;32mif\u001b[0m \u001b[0mcls\u001b[0m \u001b[0;32mis\u001b[0m \u001b[0;32mNone\u001b[0m\u001b[0;34m:\u001b[0m\u001b[0;34m\u001b[0m\u001b[0;34m\u001b[0m\u001b[0m\n\u001b[1;32m    348\u001b[0m         \u001b[0mcls\u001b[0m \u001b[0;34m=\u001b[0m \u001b[0mJSONDecoder\u001b[0m\u001b[0;34m\u001b[0m\u001b[0;34m\u001b[0m\u001b[0m\n",
      "\u001b[0;32m/opt/conda/lib/python3.9/json/decoder.py\u001b[0m in \u001b[0;36mdecode\u001b[0;34m(self, s, _w)\u001b[0m\n\u001b[1;32m    335\u001b[0m \u001b[0;34m\u001b[0m\u001b[0m\n\u001b[1;32m    336\u001b[0m         \"\"\"\n\u001b[0;32m--> 337\u001b[0;31m         \u001b[0mobj\u001b[0m\u001b[0;34m,\u001b[0m \u001b[0mend\u001b[0m \u001b[0;34m=\u001b[0m \u001b[0mself\u001b[0m\u001b[0;34m.\u001b[0m\u001b[0mraw_decode\u001b[0m\u001b[0;34m(\u001b[0m\u001b[0ms\u001b[0m\u001b[0;34m,\u001b[0m \u001b[0midx\u001b[0m\u001b[0;34m=\u001b[0m\u001b[0m_w\u001b[0m\u001b[0;34m(\u001b[0m\u001b[0ms\u001b[0m\u001b[0;34m,\u001b[0m \u001b[0;36m0\u001b[0m\u001b[0;34m)\u001b[0m\u001b[0;34m.\u001b[0m\u001b[0mend\u001b[0m\u001b[0;34m(\u001b[0m\u001b[0;34m)\u001b[0m\u001b[0;34m)\u001b[0m\u001b[0;34m\u001b[0m\u001b[0;34m\u001b[0m\u001b[0m\n\u001b[0m\u001b[1;32m    338\u001b[0m         \u001b[0mend\u001b[0m \u001b[0;34m=\u001b[0m \u001b[0m_w\u001b[0m\u001b[0;34m(\u001b[0m\u001b[0ms\u001b[0m\u001b[0;34m,\u001b[0m \u001b[0mend\u001b[0m\u001b[0;34m)\u001b[0m\u001b[0;34m.\u001b[0m\u001b[0mend\u001b[0m\u001b[0;34m(\u001b[0m\u001b[0;34m)\u001b[0m\u001b[0;34m\u001b[0m\u001b[0;34m\u001b[0m\u001b[0m\n\u001b[1;32m    339\u001b[0m         \u001b[0;32mif\u001b[0m \u001b[0mend\u001b[0m \u001b[0;34m!=\u001b[0m \u001b[0mlen\u001b[0m\u001b[0;34m(\u001b[0m\u001b[0ms\u001b[0m\u001b[0;34m)\u001b[0m\u001b[0;34m:\u001b[0m\u001b[0;34m\u001b[0m\u001b[0;34m\u001b[0m\u001b[0m\n",
      "\u001b[0;32m/opt/conda/lib/python3.9/json/decoder.py\u001b[0m in \u001b[0;36mraw_decode\u001b[0;34m(self, s, idx)\u001b[0m\n\u001b[1;32m    353\u001b[0m             \u001b[0mobj\u001b[0m\u001b[0;34m,\u001b[0m \u001b[0mend\u001b[0m \u001b[0;34m=\u001b[0m \u001b[0mself\u001b[0m\u001b[0;34m.\u001b[0m\u001b[0mscan_once\u001b[0m\u001b[0;34m(\u001b[0m\u001b[0ms\u001b[0m\u001b[0;34m,\u001b[0m \u001b[0midx\u001b[0m\u001b[0;34m)\u001b[0m\u001b[0;34m\u001b[0m\u001b[0;34m\u001b[0m\u001b[0m\n\u001b[1;32m    354\u001b[0m         \u001b[0;32mexcept\u001b[0m \u001b[0mStopIteration\u001b[0m \u001b[0;32mas\u001b[0m \u001b[0merr\u001b[0m\u001b[0;34m:\u001b[0m\u001b[0;34m\u001b[0m\u001b[0;34m\u001b[0m\u001b[0m\n\u001b[0;32m--> 355\u001b[0;31m             \u001b[0;32mraise\u001b[0m \u001b[0mJSONDecodeError\u001b[0m\u001b[0;34m(\u001b[0m\u001b[0;34m\"Expecting value\"\u001b[0m\u001b[0;34m,\u001b[0m \u001b[0ms\u001b[0m\u001b[0;34m,\u001b[0m \u001b[0merr\u001b[0m\u001b[0;34m.\u001b[0m\u001b[0mvalue\u001b[0m\u001b[0;34m)\u001b[0m \u001b[0;32mfrom\u001b[0m \u001b[0;32mNone\u001b[0m\u001b[0;34m\u001b[0m\u001b[0;34m\u001b[0m\u001b[0m\n\u001b[0m\u001b[1;32m    356\u001b[0m         \u001b[0;32mreturn\u001b[0m \u001b[0mobj\u001b[0m\u001b[0;34m,\u001b[0m \u001b[0mend\u001b[0m\u001b[0;34m\u001b[0m\u001b[0;34m\u001b[0m\u001b[0m\n",
      "\u001b[0;31mJSONDecodeError\u001b[0m: Expecting value: line 1 column 2 (char 1)"
     ]
    }
   ],
   "source": [
    "from kubernetesTool import executeKubectlCmd\n",
    "from kubernetesTool import toCmd\n",
    "from kubernetesTool import executeLocalCmd\n",
    "from kubernetesTool import createConfig\n",
    "from kubernetesTool import getPort\n",
    "from kubernetesTool import executePeerCmd"
   ]
  },
  {
   "cell_type": "code",
   "execution_count": 1,
   "metadata": {},
   "outputs": [
    {
     "name": "stdout",
     "output_type": "stream",
     "text": [
      "Collecting ipynb\n",
      "  Downloading ipynb-0.5.1-py3-none-any.whl (6.9 kB)\n",
      "Installing collected packages: ipynb\n",
      "Successfully installed ipynb-0.5.1\n"
     ]
    },
    {
     "data": {
      "application/vnd.jupyter.widget-view+json": {
       "model_id": "a2778c55d17a48b18e9a8d639955d049",
       "version_major": 2,
       "version_minor": 0
      },
      "text/plain": [
       "Text(value='15', description='invoice', layout=Layout(width='500px'), style=DescriptionStyle(description_width…"
      ]
     },
     "metadata": {},
     "output_type": "display_data"
    },
    {
     "data": {
      "application/vnd.jupyter.widget-view+json": {
       "model_id": "a059bc0696d842d5ae7a7eeb67b6fd78",
       "version_major": 2,
       "version_minor": 0
      },
      "text/plain": [
       "Dropdown(description='FILTER', index=1, layout=Layout(width='500px'), options=(False, True), style=Description…"
      ]
     },
     "metadata": {},
     "output_type": "display_data"
    },
    {
     "data": {
      "application/vnd.jupyter.widget-view+json": {
       "model_id": "3c5ac0b7f9e74041a7e1c9d02c6af3c1",
       "version_major": 2,
       "version_minor": 0
      },
      "text/plain": [
       "Dropdown(description='FILTER', index=3, layout=Layout(width='500px'), options=('/supplyChainTradeTransaction',…"
      ]
     },
     "metadata": {},
     "output_type": "display_data"
    },
    {
     "data": {
      "application/vnd.jupyter.widget-view+json": {
       "model_id": "1c68bd581fa84ac6933fa8f28e7cacd3",
       "version_major": 2,
       "version_minor": 0
      },
      "text/plain": [
       "Output()"
      ]
     },
     "metadata": {},
     "output_type": "display_data"
    },
    {
     "data": {
      "application/vnd.jupyter.widget-view+json": {
       "model_id": "e8136b287ba141c7859a6748f9b3e4f9",
       "version_major": 2,
       "version_minor": 0
      },
      "text/plain": [
       "HTML(value='', description=' ', layout=Layout(width='500px'), style=DescriptionStyle(description_width='250px'…"
      ]
     },
     "metadata": {},
     "output_type": "display_data"
    },
    {
     "data": {
      "application/vnd.jupyter.widget-view+json": {
       "model_id": "7b3edb6ccbbd40a8a23a0fdf7cf48a17",
       "version_major": 2,
       "version_minor": 0
      },
      "text/plain": [
       "Text(value='asset10', description='ID', layout=Layout(width='500px'), style=DescriptionStyle(description_width…"
      ]
     },
     "metadata": {},
     "output_type": "display_data"
    },
    {
     "data": {
      "application/vnd.jupyter.widget-view+json": {
       "model_id": "02fdc558bd904f15a2c233982063a552",
       "version_major": 2,
       "version_minor": 0
      },
      "text/plain": [
       "Text(value='x509::CN=User1@aabby-0.kubernetes.research.dev.seeburger.de,OU=client,L=Bretten,ST=Baden,C=DE::CN=…"
      ]
     },
     "metadata": {},
     "output_type": "display_data"
    },
    {
     "data": {
      "application/vnd.jupyter.widget-view+json": {
       "model_id": "ded863bcac994f35ac76e0fff1c5c192",
       "version_major": 2,
       "version_minor": 0
      },
      "text/plain": [
       "Text(value='x509::CN=User1@aabby-1.kubernetes.research.dev.seeburger.de,OU=client,L=Bretten,ST=Baden,C=DE::CN=…"
      ]
     },
     "metadata": {},
     "output_type": "display_data"
    },
    {
     "data": {
      "application/vnd.jupyter.widget-view+json": {
       "model_id": "29209c7db7cd44c5ab2a7cafc2144d72",
       "version_major": 2,
       "version_minor": 0
      },
      "text/plain": [
       "Text(value='0', description='hash', layout=Layout(width='500px'), style=DescriptionStyle(description_width='25…"
      ]
     },
     "metadata": {},
     "output_type": "display_data"
    },
    {
     "data": {
      "application/vnd.jupyter.widget-view+json": {
       "model_id": "abafdc423e4b4e1f8737cfd9359cdecd",
       "version_major": 2,
       "version_minor": 0
      },
      "text/plain": [
       "Text(value='', description='invoiceNumber', layout=Layout(width='500px'), style=DescriptionStyle(description_w…"
      ]
     },
     "metadata": {},
     "output_type": "display_data"
    },
    {
     "data": {
      "application/vnd.jupyter.widget-view+json": {
       "model_id": "114a1c6324fd40ee9d8d1b93f41c8d2c",
       "version_major": 2,
       "version_minor": 0
      },
      "text/plain": [
       "Text(value='0', description='tax', layout=Layout(width='500px'), style=DescriptionStyle(description_width='250…"
      ]
     },
     "metadata": {},
     "output_type": "display_data"
    },
    {
     "data": {
      "application/vnd.jupyter.widget-view+json": {
       "model_id": "c681110b11014411aa5a95cdd9c37f6b",
       "version_major": 2,
       "version_minor": 0
      },
      "text/plain": [
       "Text(value='0', description='netto', layout=Layout(width='500px'), style=DescriptionStyle(description_width='2…"
      ]
     },
     "metadata": {},
     "output_type": "display_data"
    },
    {
     "data": {
      "application/vnd.jupyter.widget-view+json": {
       "model_id": "a483bbdd3f0f4960963565cce49b31fd",
       "version_major": 2,
       "version_minor": 0
      },
      "text/plain": [
       "Text(value='', description='countryOrigin', layout=Layout(width='500px'), style=DescriptionStyle(description_w…"
      ]
     },
     "metadata": {},
     "output_type": "display_data"
    },
    {
     "data": {
      "application/vnd.jupyter.widget-view+json": {
       "model_id": "c5cd0eca60874fe5a761d879ab3c06dd",
       "version_major": 2,
       "version_minor": 0
      },
      "text/plain": [
       "Text(value='', description='countryBuyer', layout=Layout(width='500px'), style=DescriptionStyle(description_wi…"
      ]
     },
     "metadata": {},
     "output_type": "display_data"
    },
    {
     "data": {
      "application/vnd.jupyter.widget-view+json": {
       "model_id": "dfee7d7fd1fe46f7aa884e912ad67283",
       "version_major": 2,
       "version_minor": 0
      },
      "text/plain": [
       "Text(value='', description='status', layout=Layout(width='500px'), style=DescriptionStyle(description_width='2…"
      ]
     },
     "metadata": {},
     "output_type": "display_data"
    },
    {
     "data": {
      "application/vnd.jupyter.widget-view+json": {
       "model_id": "d7b6ff7e203d4788b47285500e5e1261",
       "version_major": 2,
       "version_minor": 0
      },
      "text/plain": [
       "Checkbox(value=False, description='received', layout=Layout(width='500px'), style=DescriptionStyle(description…"
      ]
     },
     "metadata": {},
     "output_type": "display_data"
    },
    {
     "data": {
      "application/vnd.jupyter.widget-view+json": {
       "model_id": "cf9d493058054781a5a8c2d8fe5c4b42",
       "version_major": 2,
       "version_minor": 0
      },
      "text/plain": [
       "Checkbox(value=False, description='receivedOrder', layout=Layout(width='500px'), style=DescriptionStyle(descri…"
      ]
     },
     "metadata": {},
     "output_type": "display_data"
    },
    {
     "data": {
      "application/vnd.jupyter.widget-view+json": {
       "model_id": "899a44b874074942b2e3bb15bb955f0c",
       "version_major": 2,
       "version_minor": 0
      },
      "text/plain": [
       "Checkbox(value=False, description='sold', layout=Layout(width='500px'), style=DescriptionStyle(description_wid…"
      ]
     },
     "metadata": {},
     "output_type": "display_data"
    },
    {
     "data": {
      "application/vnd.jupyter.widget-view+json": {
       "model_id": "045f593d2a464cafa60211b38c05f223",
       "version_major": 2,
       "version_minor": 0
      },
      "text/plain": [
       "Checkbox(value=False, description='claimPaid', layout=Layout(width='500px'), style=DescriptionStyle(descriptio…"
      ]
     },
     "metadata": {},
     "output_type": "display_data"
    },
    {
     "data": {
      "application/vnd.jupyter.widget-view+json": {
       "model_id": "fab38864a7d042dfb4fdd34a198f66f1",
       "version_major": 2,
       "version_minor": 0
      },
      "text/plain": [
       "Text(value='', description='claimPaidBy', layout=Layout(width='500px'), style=DescriptionStyle(description_wid…"
      ]
     },
     "metadata": {},
     "output_type": "display_data"
    },
    {
     "data": {
      "application/vnd.jupyter.widget-view+json": {
       "model_id": "a6e2d49162214140af7d8d0ffc794ef1",
       "version_major": 2,
       "version_minor": 0
      },
      "text/plain": [
       "Text(value='', description='taxExemptionReason', layout=Layout(width='500px'), style=DescriptionStyle(descript…"
      ]
     },
     "metadata": {},
     "output_type": "display_data"
    },
    {
     "data": {
      "application/vnd.jupyter.widget-view+json": {
       "model_id": "57691b56e0f24cd1ac8b65e6a8cd50a7",
       "version_major": 2,
       "version_minor": 0
      },
      "text/plain": [
       "Checkbox(value=False, description='taxReceived', layout=Layout(width='500px'), style=DescriptionStyle(descript…"
      ]
     },
     "metadata": {},
     "output_type": "display_data"
    },
    {
     "data": {
      "application/vnd.jupyter.widget-view+json": {
       "model_id": "3b5c55ef3b154763bfa195553b9c0c38",
       "version_major": 2,
       "version_minor": 0
      },
      "text/plain": [
       "Text(value='15', description='invoice', layout=Layout(width='500px'), style=DescriptionStyle(description_width…"
      ]
     },
     "metadata": {},
     "output_type": "display_data"
    },
    {
     "data": {
      "application/vnd.jupyter.widget-view+json": {
       "model_id": "d7f194e201a1404793f2a87a2ad1a92c",
       "version_major": 2,
       "version_minor": 0
      },
      "text/plain": [
       "Output()"
      ]
     },
     "metadata": {},
     "output_type": "display_data"
    },
    {
     "data": {
      "application/vnd.jupyter.widget-view+json": {
       "model_id": "57abc2e1285b4093b791458eac07f8e8",
       "version_major": 2,
       "version_minor": 0
      },
      "text/plain": [
       "Text(value='15', description='invoice', layout=Layout(width='500px'), style=DescriptionStyle(description_width…"
      ]
     },
     "metadata": {},
     "output_type": "display_data"
    },
    {
     "data": {
      "application/vnd.jupyter.widget-view+json": {
       "model_id": "3a20d9dc55fa455facf4239b0a376612",
       "version_major": 2,
       "version_minor": 0
      },
      "text/plain": [
       "Output()"
      ]
     },
     "metadata": {},
     "output_type": "display_data"
    },
    {
     "data": {
      "application/vnd.jupyter.widget-view+json": {
       "model_id": "4740aba3f0cb4cdfb0351845a96b404e",
       "version_major": 2,
       "version_minor": 0
      },
      "text/plain": [
       "Text(value='14', description='invoice', layout=Layout(width='500px'), style=DescriptionStyle(description_width…"
      ]
     },
     "metadata": {},
     "output_type": "display_data"
    },
    {
     "data": {
      "application/vnd.jupyter.widget-view+json": {
       "model_id": "48adb6fff99b49448b3156a02697ab3f",
       "version_major": 2,
       "version_minor": 0
      },
      "text/plain": [
       "Output()"
      ]
     },
     "metadata": {},
     "output_type": "display_data"
    }
   ],
   "source": [
    "!pip install ipynb\n",
    "from ipynb.fs.full.facturxWidget import *"
   ]
  },
  {
   "cell_type": "markdown",
   "metadata": {},
   "source": [
    "## check status peers"
   ]
  },
  {
   "cell_type": "code",
   "execution_count": 727,
   "metadata": {},
   "outputs": [
    {
     "name": "stdout",
     "output_type": "stream",
     "text": [
      "{'app': 'aabby-0', 'pod-template-hash': '6859c54c76'} Running\n",
      "{'app': 'aabby-1', 'pod-template-hash': '5ff5b8677f'} Running\n",
      "{'app': 'babby-0', 'pod-template-hash': '7d7bcd4f45'} Running\n",
      "{'app': 'babby-1', 'pod-template-hash': '56f9fc8dcd'} Running\n",
      "{'app': 'babby-2', 'pod-template-hash': '97b65984c'} Running\n",
      "{'app': 'babby-3', 'pod-template-hash': '67c5fc7f6'} Running\n",
      "{'app': 'cc-deployer', 'pod-template-hash': '55c958b4d4'} Running\n",
      "{'app': 'hl-fabric-data-share', 'pod-template-hash': '6849487f76'} Running\n",
      "{'app': 'invoice-chaincode-external', 'pod-template-hash': '756d778fb'} Running\n",
      "{'app': 'invoice-net-chaincode-external', 'pod-template-hash': '77fc764779'} Running\n",
      "{'app': 'orderer-org1-scray-org', 'pod-template-hash': '5cb87587c4'} Running\n",
      "{'app': 'peer80', 'pod-template-hash': '8774cd6cb'} Running\n",
      "{'app': 'peer81', 'pod-template-hash': '66554b66f'} Running\n",
      "{'app': 'peer90', 'pod-template-hash': '6bd5f7bd99'} Running\n",
      "{'app': 'peer91', 'pod-template-hash': '5976d6d958'} Running\n",
      "{'app': 'peer92', 'pod-template-hash': '6c7bdc8d7c'} Running\n",
      "{'app': 'peer95', 'pod-template-hash': '7d9ff9f48b'} Running\n",
      "{'app': 'peer98', 'pod-template-hash': '797f4c66c5'} Running\n"
     ]
    }
   ],
   "source": [
    "from kubernetesTool import executeKubectlCmd\n",
    "_res = executeKubectlCmd(['get', 'pods', '-o', 'json'], decode='json')\n",
    "\n",
    "for item in _res['items']:\n",
    "    labels=item['metadata']['labels']\n",
    "    #status=item['status']['initContainerStatuses'][0]\n",
    "    #print(labels,status['state'],status['restartCount'],status['name'],status['ready'])\n",
    "    print(labels,item['status']['phase'])\n",
    "    #print(labels)"
   ]
  },
  {
   "cell_type": "code",
   "execution_count": 103,
   "metadata": {},
   "outputs": [
    {
     "name": "stderr",
     "output_type": "stream",
     "text": [
      "Error from server (NotFound): services \"invoice-chaincode-external\" not found\n",
      "Error from server (NotFound): services \"invoice-chaincode-external\" not found\n"
     ]
    },
    {
     "data": {
      "text/plain": [
       "{'name': 'invoice-chaincode-external',\n",
       " 'pod_name': 'invoice-chaincode-external-847cd44954-w2ddx',\n",
       " 'listen_port': 'Command \\'[\\'/home/jovyan/work/usr/bin/kubectl\\', \\'get\\', \\'service\\', \\'invoice-chaincode-external\\', \\'-o\\', \\'jsonpath=\"{.spec.ports[?(@.name==\\\\\\'peer-listen\\\\\\')].nodePort}\"\\']\\' returned non-zero exit status 1.',\n",
       " 'gossip_port': 'Command \\'[\\'/home/jovyan/work/usr/bin/kubectl\\', \\'get\\', \\'service\\', \\'invoice-chaincode-external\\', \\'-o\\', \\'jsonpath=\"{.spec.ports[?(@.name==\\\\\\'peer-gossip\\\\\\')].nodePort}\"\\']\\' returned non-zero exit status 1.'}"
      ]
     },
     "execution_count": 103,
     "metadata": {},
     "output_type": "execute_result"
    }
   ],
   "source": [
    "kubernetespeer('invoice-chaincode-external').__dict__"
   ]
  },
  {
   "cell_type": "code",
   "execution_count": null,
   "metadata": {},
   "outputs": [],
   "source": [
    "_res['items'][3]['metadata']['labels']\n",
    "_res['items'][0]['status']['phase']"
   ]
  },
  {
   "cell_type": "code",
   "execution_count": 104,
   "metadata": {},
   "outputs": [
    {
     "ename": "NameError",
     "evalue": "name 'prefix' is not defined",
     "output_type": "error",
     "traceback": [
      "\u001b[0;31m---------------------------------------------------------------------------\u001b[0m",
      "\u001b[0;31mNameError\u001b[0m                                 Traceback (most recent call last)",
      "\u001b[0;32m/tmp/ipykernel_56/1004286946.py\u001b[0m in \u001b[0;36m<module>\u001b[0;34m\u001b[0m\n\u001b[1;32m      1\u001b[0m \u001b[0;31m#30489\u001b[0m\u001b[0;34m\u001b[0m\u001b[0;34m\u001b[0m\u001b[0;34m\u001b[0m\u001b[0m\n\u001b[0;32m----> 2\u001b[0;31m \u001b[0mkubernetesTool\u001b[0m\u001b[0;34m.\u001b[0m\u001b[0mgetPort\u001b[0m\u001b[0;34m(\u001b[0m\u001b[0mpeername\u001b[0m\u001b[0;34m=\u001b[0m\u001b[0;34m'invoice-chaincode-external'\u001b[0m\u001b[0;34m,\u001b[0m \u001b[0mname\u001b[0m \u001b[0;34m=\u001b[0m \u001b[0mprefix\u001b[0m \u001b[0;34m+\u001b[0m \u001b[0;34m'-listen'\u001b[0m\u001b[0;34m)\u001b[0m\u001b[0;34m\u001b[0m\u001b[0;34m\u001b[0m\u001b[0m\n\u001b[0m",
      "\u001b[0;31mNameError\u001b[0m: name 'prefix' is not defined"
     ]
    }
   ],
   "source": [
    "#30489\n",
    "kubernetesTool.getPort(peername='invoice-chaincode-external', name = prefix + '-listen')"
   ]
  },
  {
   "cell_type": "code",
   "execution_count": null,
   "metadata": {},
   "outputs": [],
   "source": [
    "kubernetespeer(name='invoice-net-chaincode-external').__dict__"
   ]
  },
  {
   "cell_type": "code",
   "execution_count": 108,
   "metadata": {},
   "outputs": [
    {
     "data": {
      "text/plain": [
       "{'apiVersion': 'v1',\n",
       " 'kind': 'Pod',\n",
       " 'metadata': {'creationTimestamp': '2021-10-22T09:19:35Z',\n",
       "  'generateName': 'invoice-net-chaincode-external-576f8cbdd-',\n",
       "  'labels': {'app': 'invoice-net-chaincode-external',\n",
       "   'pod-template-hash': '576f8cbdd'},\n",
       "  'managedFields': [{'apiVersion': 'v1',\n",
       "    'fieldsType': 'FieldsV1',\n",
       "    'fieldsV1': {'f:metadata': {'f:generateName': {},\n",
       "      'f:labels': {'.': {}, 'f:app': {}, 'f:pod-template-hash': {}},\n",
       "      'f:ownerReferences': {'.': {},\n",
       "       'k:{\"uid\":\"6eb1c3d5-284f-4d41-9619-4ee45df70947\"}': {'.': {},\n",
       "        'f:apiVersion': {},\n",
       "        'f:blockOwnerDeletion': {},\n",
       "        'f:controller': {},\n",
       "        'f:kind': {},\n",
       "        'f:name': {},\n",
       "        'f:uid': {}}}},\n",
       "     'f:spec': {'f:containers': {'k:{\"name\":\"invoice-net-chaincode-external\"}': {'.': {},\n",
       "        'f:env': {'.': {},\n",
       "         'k:{\"name\":\"CHAINCODE_ID\"}': {'.': {}, 'f:name': {}, 'f:value': {}},\n",
       "         'k:{\"name\":\"CHAINCODE_SERVER_ADDRESS\"}': {'.': {},\n",
       "          'f:name': {},\n",
       "          'f:value': {}},\n",
       "         'k:{\"name\":\"FABRIC_LOGGING_SPEC\"}': {'.': {},\n",
       "          'f:name': {},\n",
       "          'f:value': {}}},\n",
       "        'f:image': {},\n",
       "        'f:imagePullPolicy': {},\n",
       "        'f:name': {},\n",
       "        'f:resources': {},\n",
       "        'f:terminationMessagePath': {},\n",
       "        'f:terminationMessagePolicy': {},\n",
       "        'f:workingDir': {}}},\n",
       "      'f:dnsPolicy': {},\n",
       "      'f:enableServiceLinks': {},\n",
       "      'f:restartPolicy': {},\n",
       "      'f:schedulerName': {},\n",
       "      'f:securityContext': {},\n",
       "      'f:terminationGracePeriodSeconds': {}}},\n",
       "    'manager': 'kube-controller-manager',\n",
       "    'operation': 'Update',\n",
       "    'time': '2021-10-22T09:19:35Z'},\n",
       "   {'apiVersion': 'v1',\n",
       "    'fieldsType': 'FieldsV1',\n",
       "    'fieldsV1': {'f:status': {'f:conditions': {'k:{\"type\":\"ContainersReady\"}': {'.': {},\n",
       "        'f:lastProbeTime': {},\n",
       "        'f:lastTransitionTime': {},\n",
       "        'f:status': {},\n",
       "        'f:type': {}},\n",
       "       'k:{\"type\":\"Initialized\"}': {'.': {},\n",
       "        'f:lastProbeTime': {},\n",
       "        'f:lastTransitionTime': {},\n",
       "        'f:status': {},\n",
       "        'f:type': {}},\n",
       "       'k:{\"type\":\"Ready\"}': {'.': {},\n",
       "        'f:lastProbeTime': {},\n",
       "        'f:lastTransitionTime': {},\n",
       "        'f:status': {},\n",
       "        'f:type': {}}},\n",
       "      'f:containerStatuses': {},\n",
       "      'f:hostIP': {},\n",
       "      'f:phase': {},\n",
       "      'f:podIP': {},\n",
       "      'f:podIPs': {'.': {}, 'k:{\"ip\":\"10.32.0.7\"}': {'.': {}, 'f:ip': {}}},\n",
       "      'f:startTime': {}}},\n",
       "    'manager': 'kubelet',\n",
       "    'operation': 'Update',\n",
       "    'time': '2021-11-10T20:58:28Z'}],\n",
       "  'name': 'invoice-net-chaincode-external-576f8cbdd-ql2w5',\n",
       "  'namespace': 'default',\n",
       "  'ownerReferences': [{'apiVersion': 'apps/v1',\n",
       "    'blockOwnerDeletion': True,\n",
       "    'controller': True,\n",
       "    'kind': 'ReplicaSet',\n",
       "    'name': 'invoice-net-chaincode-external-576f8cbdd',\n",
       "    'uid': '6eb1c3d5-284f-4d41-9619-4ee45df70947'}],\n",
       "  'resourceVersion': '21397887',\n",
       "  'selfLink': '/api/v1/namespaces/default/pods/invoice-net-chaincode-external-576f8cbdd-ql2w5',\n",
       "  'uid': 'cef666fb-1644-45bb-a854-feb1c26dfe8f'},\n",
       " 'spec': {'containers': [{'env': [{'name': 'FABRIC_LOGGING_SPEC',\n",
       "      'value': 'DEBUG'},\n",
       "     {'name': 'CHAINCODE_ID',\n",
       "      'value': 'basic_1.0:27256d95e55ff855dffe6685141fcf6dd3530e4859e8621ec3476f9a69065cd5'},\n",
       "     {'name': 'CHAINCODE_SERVER_ADDRESS', 'value': '0.0.0.0:9999'}],\n",
       "    'image': 'scrayorg/chaincode-invoice-net:1.0',\n",
       "    'imagePullPolicy': 'Always',\n",
       "    'name': 'invoice-net-chaincode-external',\n",
       "    'resources': {},\n",
       "    'terminationMessagePath': '/dev/termination-log',\n",
       "    'terminationMessagePolicy': 'File',\n",
       "    'volumeMounts': [{'mountPath': '/var/run/secrets/kubernetes.io/serviceaccount',\n",
       "      'name': 'default-token-5t2mh',\n",
       "      'readOnly': True}],\n",
       "    'workingDir': '/go/src/github.com/hyperledger/fabric-samples/asset-transfer-basic/chaincode-external'}],\n",
       "  'dnsPolicy': 'ClusterFirst',\n",
       "  'enableServiceLinks': True,\n",
       "  'nodeName': 'kubernetes',\n",
       "  'priority': 0,\n",
       "  'restartPolicy': 'Always',\n",
       "  'schedulerName': 'default-scheduler',\n",
       "  'securityContext': {},\n",
       "  'serviceAccount': 'default',\n",
       "  'serviceAccountName': 'default',\n",
       "  'terminationGracePeriodSeconds': 30,\n",
       "  'tolerations': [{'effect': 'NoExecute',\n",
       "    'key': 'node.kubernetes.io/not-ready',\n",
       "    'operator': 'Exists',\n",
       "    'tolerationSeconds': 300},\n",
       "   {'effect': 'NoExecute',\n",
       "    'key': 'node.kubernetes.io/unreachable',\n",
       "    'operator': 'Exists',\n",
       "    'tolerationSeconds': 300}],\n",
       "  'volumes': [{'name': 'default-token-5t2mh',\n",
       "    'secret': {'defaultMode': 420, 'secretName': 'default-token-5t2mh'}}]},\n",
       " 'status': {'conditions': [{'lastProbeTime': None,\n",
       "    'lastTransitionTime': '2021-10-22T09:19:35Z',\n",
       "    'status': 'True',\n",
       "    'type': 'Initialized'},\n",
       "   {'lastProbeTime': None,\n",
       "    'lastTransitionTime': '2021-11-10T20:58:28Z',\n",
       "    'status': 'True',\n",
       "    'type': 'Ready'},\n",
       "   {'lastProbeTime': None,\n",
       "    'lastTransitionTime': '2021-11-10T20:58:28Z',\n",
       "    'status': 'True',\n",
       "    'type': 'ContainersReady'},\n",
       "   {'lastProbeTime': None,\n",
       "    'lastTransitionTime': '2021-10-22T09:19:35Z',\n",
       "    'status': 'True',\n",
       "    'type': 'PodScheduled'}],\n",
       "  'containerStatuses': [{'containerID': 'docker://32d86fca367fd8bf601959ede90a87d9f7a6a73f25ae45ba1aa85255f18a383a',\n",
       "    'image': 'scrayorg/chaincode-invoice-net:1.0',\n",
       "    'imageID': 'docker-pullable://scrayorg/chaincode-invoice-net@sha256:82312774005ff9a0862a19b47a53e06ca2379fb99f2735033330504bb24e8c9d',\n",
       "    'lastState': {'terminated': {'containerID': 'docker://fd01d4fed8a2ea4ea8005d61bb3d2274fea067e94986d0f25d432e610e547c40',\n",
       "      'exitCode': 137,\n",
       "      'finishedAt': '2021-11-10T20:57:35Z',\n",
       "      'reason': 'Error',\n",
       "      'startedAt': '2021-11-10T16:02:25Z'}},\n",
       "    'name': 'invoice-net-chaincode-external',\n",
       "    'ready': True,\n",
       "    'restartCount': 2,\n",
       "    'started': True,\n",
       "    'state': {'running': {'startedAt': '2021-11-10T20:58:28Z'}}}],\n",
       "  'hostIP': '10.14.128.38',\n",
       "  'phase': 'Running',\n",
       "  'podIP': '10.32.0.7',\n",
       "  'podIPs': [{'ip': '10.32.0.7'}],\n",
       "  'qosClass': 'BestEffort',\n",
       "  'startTime': '2021-10-22T09:19:35Z'}}"
      ]
     },
     "execution_count": 108,
     "metadata": {},
     "output_type": "execute_result"
    }
   ],
   "source": [
    "#_res['items'][5]['status']['containerStatuses']\n",
    "_res['items'][5]"
   ]
  },
  {
   "cell_type": "code",
   "execution_count": 78,
   "metadata": {},
   "outputs": [
    {
     "name": "stdout",
     "output_type": "stream",
     "text": [
      "{'apiVersion': 'v1', 'kind': 'Pod', 'metadata': {'creationTimestamp': '2021-10-22T09:19:35Z', 'generateName': 'invoice-net-chaincode-external-576f8cbdd-', 'labels': {'app': 'invoice-net-chaincode-external', 'pod-template-hash': '576f8cbdd'}, 'managedFields': [{'apiVersion': 'v1', 'fieldsType': 'FieldsV1', 'fieldsV1': {'f:metadata': {'f:generateName': {}, 'f:labels': {'.': {}, 'f:app': {}, 'f:pod-template-hash': {}}, 'f:ownerReferences': {'.': {}, 'k:{\"uid\":\"6eb1c3d5-284f-4d41-9619-4ee45df70947\"}': {'.': {}, 'f:apiVersion': {}, 'f:blockOwnerDeletion': {}, 'f:controller': {}, 'f:kind': {}, 'f:name': {}, 'f:uid': {}}}}, 'f:spec': {'f:containers': {'k:{\"name\":\"invoice-net-chaincode-external\"}': {'.': {}, 'f:env': {'.': {}, 'k:{\"name\":\"CHAINCODE_ID\"}': {'.': {}, 'f:name': {}, 'f:value': {}}, 'k:{\"name\":\"CHAINCODE_SERVER_ADDRESS\"}': {'.': {}, 'f:name': {}, 'f:value': {}}, 'k:{\"name\":\"FABRIC_LOGGING_SPEC\"}': {'.': {}, 'f:name': {}, 'f:value': {}}}, 'f:image': {}, 'f:imagePullPolicy': {}, 'f:name': {}, 'f:resources': {}, 'f:terminationMessagePath': {}, 'f:terminationMessagePolicy': {}, 'f:workingDir': {}}}, 'f:dnsPolicy': {}, 'f:enableServiceLinks': {}, 'f:restartPolicy': {}, 'f:schedulerName': {}, 'f:securityContext': {}, 'f:terminationGracePeriodSeconds': {}}}, 'manager': 'kube-controller-manager', 'operation': 'Update', 'time': '2021-10-22T09:19:35Z'}, {'apiVersion': 'v1', 'fieldsType': 'FieldsV1', 'fieldsV1': {'f:status': {'f:conditions': {'k:{\"type\":\"ContainersReady\"}': {'.': {}, 'f:lastProbeTime': {}, 'f:lastTransitionTime': {}, 'f:status': {}, 'f:type': {}}, 'k:{\"type\":\"Initialized\"}': {'.': {}, 'f:lastProbeTime': {}, 'f:lastTransitionTime': {}, 'f:status': {}, 'f:type': {}}, 'k:{\"type\":\"Ready\"}': {'.': {}, 'f:lastProbeTime': {}, 'f:lastTransitionTime': {}, 'f:status': {}, 'f:type': {}}}, 'f:containerStatuses': {}, 'f:hostIP': {}, 'f:phase': {}, 'f:podIP': {}, 'f:podIPs': {'.': {}, 'k:{\"ip\":\"10.32.0.7\"}': {'.': {}, 'f:ip': {}}}, 'f:startTime': {}}}, 'manager': 'kubelet', 'operation': 'Update', 'time': '2021-11-10T20:58:28Z'}], 'name': 'invoice-net-chaincode-external-576f8cbdd-ql2w5', 'namespace': 'default', 'ownerReferences': [{'apiVersion': 'apps/v1', 'blockOwnerDeletion': True, 'controller': True, 'kind': 'ReplicaSet', 'name': 'invoice-net-chaincode-external-576f8cbdd', 'uid': '6eb1c3d5-284f-4d41-9619-4ee45df70947'}], 'resourceVersion': '21397887', 'selfLink': '/api/v1/namespaces/default/pods/invoice-net-chaincode-external-576f8cbdd-ql2w5', 'uid': 'cef666fb-1644-45bb-a854-feb1c26dfe8f'}, 'spec': {'containers': [{'env': [{'name': 'FABRIC_LOGGING_SPEC', 'value': 'DEBUG'}, {'name': 'CHAINCODE_ID', 'value': 'basic_1.0:27256d95e55ff855dffe6685141fcf6dd3530e4859e8621ec3476f9a69065cd5'}, {'name': 'CHAINCODE_SERVER_ADDRESS', 'value': '0.0.0.0:9999'}], 'image': 'scrayorg/chaincode-invoice-net:1.0', 'imagePullPolicy': 'Always', 'name': 'invoice-net-chaincode-external', 'resources': {}, 'terminationMessagePath': '/dev/termination-log', 'terminationMessagePolicy': 'File', 'volumeMounts': [{'mountPath': '/var/run/secrets/kubernetes.io/serviceaccount', 'name': 'default-token-5t2mh', 'readOnly': True}], 'workingDir': '/go/src/github.com/hyperledger/fabric-samples/asset-transfer-basic/chaincode-external'}], 'dnsPolicy': 'ClusterFirst', 'enableServiceLinks': True, 'nodeName': 'kubernetes', 'priority': 0, 'restartPolicy': 'Always', 'schedulerName': 'default-scheduler', 'securityContext': {}, 'serviceAccount': 'default', 'serviceAccountName': 'default', 'terminationGracePeriodSeconds': 30, 'tolerations': [{'effect': 'NoExecute', 'key': 'node.kubernetes.io/not-ready', 'operator': 'Exists', 'tolerationSeconds': 300}, {'effect': 'NoExecute', 'key': 'node.kubernetes.io/unreachable', 'operator': 'Exists', 'tolerationSeconds': 300}], 'volumes': [{'name': 'default-token-5t2mh', 'secret': {'defaultMode': 420, 'secretName': 'default-token-5t2mh'}}]}, 'status': {'conditions': [{'lastProbeTime': None, 'lastTransitionTime': '2021-10-22T09:19:35Z', 'status': 'True', 'type': 'Initialized'}, {'lastProbeTime': None, 'lastTransitionTime': '2021-11-10T20:58:28Z', 'status': 'True', 'type': 'Ready'}, {'lastProbeTime': None, 'lastTransitionTime': '2021-11-10T20:58:28Z', 'status': 'True', 'type': 'ContainersReady'}, {'lastProbeTime': None, 'lastTransitionTime': '2021-10-22T09:19:35Z', 'status': 'True', 'type': 'PodScheduled'}], 'containerStatuses': [{'containerID': 'docker://32d86fca367fd8bf601959ede90a87d9f7a6a73f25ae45ba1aa85255f18a383a', 'image': 'scrayorg/chaincode-invoice-net:1.0', 'imageID': 'docker-pullable://scrayorg/chaincode-invoice-net@sha256:82312774005ff9a0862a19b47a53e06ca2379fb99f2735033330504bb24e8c9d', 'lastState': {'terminated': {'containerID': 'docker://fd01d4fed8a2ea4ea8005d61bb3d2274fea067e94986d0f25d432e610e547c40', 'exitCode': 137, 'finishedAt': '2021-11-10T20:57:35Z', 'reason': 'Error', 'startedAt': '2021-11-10T16:02:25Z'}}, 'name': 'invoice-net-chaincode-external', 'ready': True, 'restartCount': 2, 'started': True, 'state': {'running': {'startedAt': '2021-11-10T20:58:28Z'}}}], 'hostIP': '10.14.128.38', 'phase': 'Running', 'podIP': '10.32.0.7', 'podIPs': [{'ip': '10.32.0.7'}], 'qosClass': 'BestEffort', 'startTime': '2021-10-22T09:19:35Z'}}\n"
     ]
    }
   ],
   "source": [
    "for item in _res['items']:\n",
    "    labels=item['metadata']['labels']\n",
    "    if labels['app'] == 'invoice-net-chaincode-external':\n",
    "        print(item)"
   ]
  },
  {
   "cell_type": "markdown",
   "metadata": {},
   "source": [
    "## addPeer"
   ]
  },
  {
   "cell_type": "code",
   "execution_count": 35,
   "metadata": {},
   "outputs": [],
   "source": [
    "def addPeer(peername):  \n",
    "    if peername in peers.keys():\n",
    "        return peers[peername]\n",
    "    # Create configuration for new peer\n",
    "    executeLocalCmd(['/bin/bash','-c','cd /home/jovyan/scray-ledger/containers/ && /home/jovyan/scray-ledger/containers/configure-deployment.sh -n ' + peername])\n",
    "    # Start service\n",
    "    executeKubectlCmd(['apply', '-f', '/home/jovyan/scray-ledger/containers/target/' + peername + '/k8s-peer-service.yaml'])\n",
    "    # Create peer configuration\n",
    "    res = createConfig(peername=peername,\n",
    "                       peer_listen_port=getPort(peername=peername, name='peer-listen'),\n",
    "                       peer_gossip_port=getPort(peername=peername, name='peer-gossip'))\n",
    "    # Start new peer\n",
    "    executeKubectlCmd(['apply', '-f','/home/jovyan/scray-ledger/containers/target/' + peername + '/k8s-peer.yaml'])\n",
    "    peer = kubernetespeer(name=peername)\n",
    "    peers[peername] = peer\n",
    "    return peer\n",
    "    \n",
    "# create, delete numbered peers\n",
    "def createPeers(base_name,start=0, end=10):\n",
    "    for x in range(start,end):\n",
    "        peername = base_name + '-' + str(x)\n",
    "        addPeer(peername)\n",
    "         \n",
    "def deletePeers(name):\n",
    "    for x in range(0,10):\n",
    "        peerneme = name + str(x)\n",
    "        deletePeer(peerneme)    \n",
    "  \n",
    "def deleteAllPeers(config):\n",
    "    for item in config['items']:\n",
    "        try:\n",
    "            if 'org_name' in item['data'].keys():\n",
    "                deletePeer(item['data']['org_name'])\n",
    "        except Exception as e:\n",
    "            print(item['data'])\n",
    "            \n",
    "\n",
    "### config            \n",
    "            \n",
    "import subprocess\n",
    "def deleteConfig(peername=''):\n",
    "    try:  \n",
    "        output  = subprocess.check_output(['/home/jovyan/work/usr/bin/kubectl', 'delete','configmap','hl-fabric-peer-' + peername])\n",
    "        return str(output)\n",
    "    except Exception as e:\n",
    "        return str(e)  \n",
    "        \n",
    "    \n",
    "def createConfig(peername='',peer_listen_port='',peer_gossip_port=''):\n",
    "    try:  \n",
    "        peer_host_name = peername + '.kubernetes.research.dev.seeburger.de'\n",
    "        output  = subprocess.check_output(['/home/jovyan/work/usr/bin/kubectl', 'create','configmap','hl-fabric-peer-' + peername,\n",
    "                                          '--from-literal=hostname=' + peer_host_name,\n",
    "                                          '--from-literal=org_name=' + peername,\n",
    "                                          '--from-literal=data_share=hl-fabric-data-share-service:80',\n",
    "                                          '--from-literal=CORE_PEER_ADDRESS=peer0.' + peer_host_name + ':' + peer_listen_port,\n",
    "                                          '--from-literal=CORE_PEER_GOSSIP_EXTERNALENDPOINT=' + peer_host_name + ':' + peer_gossip_port,\n",
    "                                          '--from-literal=CORE_PEER_LOCALMSPID=' + peername + 'MSP'])\n",
    "        return str(output)\n",
    "    except Exception as e:\n",
    "        return str(e)      \n",
    "    \n",
    "  \n",
    "##### execute\n",
    "\n",
    "def executePeerCmd(pod_name,cmd, cli='scray-peer-cli'):\n",
    "    try:  \n",
    "        #cmd1 = \"source /root/.bashrc && \"\n",
    "        cmd1 = ['/home/jovyan/work/usr/bin/kubectl', 'exec','-t', pod_name, '-c', cli,'--', '/bin/sh','-c',cmd]\n",
    "        #cmd1 = ['/home/jovyan/work/usr/bin/kubectl', 'exec','-t', pod_name, '-c', cli,'--', '/bin/sh','-c'] + cmd\n",
    "        print(toCmd(cmd1))\n",
    "        output  = subprocess.check_output(cmd1)\n",
    "        #output  = subprocess.check_output(['/home/jovyan/work/usr/bin/kubectl', 'exec', '--stdin' ,'--tty', pod_name, '-c', cli,'--', '/bin/sh','-c',cmd])\n",
    "        return output.decode('ascii')\n",
    "    except Exception as e:\n",
    "        return str(e)"
   ]
  },
  {
   "cell_type": "code",
   "execution_count": null,
   "metadata": {},
   "outputs": [],
   "source": []
  },
  {
   "cell_type": "code",
   "execution_count": 20,
   "metadata": {},
   "outputs": [
    {
     "ename": "JSONDecodeError",
     "evalue": "Expecting value: line 1 column 2 (char 1)",
     "output_type": "error",
     "traceback": [
      "\u001b[0;31m---------------------------------------------------------------------------\u001b[0m",
      "\u001b[0;31mJSONDecodeError\u001b[0m                           Traceback (most recent call last)",
      "\u001b[0;32m/tmp/ipykernel_51/610088031.py\u001b[0m in \u001b[0;36m<module>\u001b[0;34m\u001b[0m\n\u001b[0;32m----> 1\u001b[0;31m \u001b[0;32mimport\u001b[0m \u001b[0mkubernetesTool\u001b[0m\u001b[0;34m\u001b[0m\u001b[0;34m\u001b[0m\u001b[0m\n\u001b[0m\u001b[1;32m      2\u001b[0m \u001b[0;34m\u001b[0m\u001b[0m\n\u001b[1;32m      3\u001b[0m \u001b[0;32mclass\u001b[0m \u001b[0mkubernetespeer\u001b[0m\u001b[0;34m:\u001b[0m\u001b[0;34m\u001b[0m\u001b[0;34m\u001b[0m\u001b[0m\n\u001b[1;32m      4\u001b[0m     \u001b[0;32mdef\u001b[0m \u001b[0m__init__\u001b[0m\u001b[0;34m(\u001b[0m\u001b[0mself\u001b[0m\u001b[0;34m,\u001b[0m \u001b[0mname\u001b[0m\u001b[0;34m=\u001b[0m\u001b[0;34m''\u001b[0m\u001b[0;34m,\u001b[0m\u001b[0mprefix\u001b[0m\u001b[0;34m=\u001b[0m\u001b[0;34m'peer'\u001b[0m\u001b[0;34m)\u001b[0m\u001b[0;34m:\u001b[0m\u001b[0;34m\u001b[0m\u001b[0;34m\u001b[0m\u001b[0m\n\u001b[1;32m      5\u001b[0m         \u001b[0mself\u001b[0m\u001b[0;34m.\u001b[0m\u001b[0mname\u001b[0m \u001b[0;34m=\u001b[0m \u001b[0mname\u001b[0m\u001b[0;34m\u001b[0m\u001b[0;34m\u001b[0m\u001b[0m\n",
      "\u001b[0;32m~/work/scray-ledger/python/kubernetesTool.py\u001b[0m in \u001b[0;36m<module>\u001b[0;34m\u001b[0m\n\u001b[1;32m    111\u001b[0m \u001b[0;34m\u001b[0m\u001b[0m\n\u001b[1;32m    112\u001b[0m \u001b[0;31m#getPods().keys()\u001b[0m\u001b[0;34m\u001b[0m\u001b[0;34m\u001b[0m\u001b[0m\n\u001b[0;32m--> 113\u001b[0;31m \u001b[0mgetPods\u001b[0m\u001b[0;34m(\u001b[0m\u001b[0;34m)\u001b[0m\u001b[0;34m[\u001b[0m\u001b[0;34m'items'\u001b[0m\u001b[0;34m]\u001b[0m\u001b[0;34m[\u001b[0m\u001b[0;36m0\u001b[0m\u001b[0;34m]\u001b[0m\u001b[0;34m[\u001b[0m\u001b[0;34m'metadata'\u001b[0m\u001b[0;34m]\u001b[0m\u001b[0;34m.\u001b[0m\u001b[0mkeys\u001b[0m\u001b[0;34m(\u001b[0m\u001b[0;34m)\u001b[0m\u001b[0;34m\u001b[0m\u001b[0;34m\u001b[0m\u001b[0m\n\u001b[0m\u001b[1;32m    114\u001b[0m \u001b[0mgetPods\u001b[0m\u001b[0;34m(\u001b[0m\u001b[0;34m)\u001b[0m\u001b[0;34m[\u001b[0m\u001b[0;34m'items'\u001b[0m\u001b[0;34m]\u001b[0m\u001b[0;34m[\u001b[0m\u001b[0;36m0\u001b[0m\u001b[0;34m]\u001b[0m\u001b[0;34m[\u001b[0m\u001b[0;34m'metadata'\u001b[0m\u001b[0;34m]\u001b[0m\u001b[0;34m[\u001b[0m\u001b[0;34m'name'\u001b[0m\u001b[0;34m]\u001b[0m\u001b[0;34m\u001b[0m\u001b[0;34m\u001b[0m\u001b[0m\n\u001b[1;32m    115\u001b[0m \u001b[0;34m\u001b[0m\u001b[0m\n",
      "\u001b[0;32m~/work/scray-ledger/python/kubernetesTool.py\u001b[0m in \u001b[0;36mgetPods\u001b[0;34m()\u001b[0m\n\u001b[1;32m    102\u001b[0m \u001b[0;34m\u001b[0m\u001b[0m\n\u001b[1;32m    103\u001b[0m \u001b[0;32mdef\u001b[0m \u001b[0mgetPods\u001b[0m\u001b[0;34m(\u001b[0m\u001b[0;34m)\u001b[0m\u001b[0;34m:\u001b[0m\u001b[0;34m\u001b[0m\u001b[0;34m\u001b[0m\u001b[0m\n\u001b[0;32m--> 104\u001b[0;31m     \u001b[0;32mreturn\u001b[0m \u001b[0mjson\u001b[0m\u001b[0;34m.\u001b[0m\u001b[0mloads\u001b[0m\u001b[0;34m(\u001b[0m\u001b[0mexecuteKubectlCmd\u001b[0m\u001b[0;34m(\u001b[0m\u001b[0;34m[\u001b[0m\u001b[0;34m'get'\u001b[0m\u001b[0;34m,\u001b[0m \u001b[0;34m'pods'\u001b[0m\u001b[0;34m,\u001b[0m \u001b[0;34m'-o'\u001b[0m\u001b[0;34m,\u001b[0m \u001b[0;34m'json'\u001b[0m\u001b[0;34m]\u001b[0m\u001b[0;34m)\u001b[0m\u001b[0;34m)\u001b[0m\u001b[0;34m\u001b[0m\u001b[0;34m\u001b[0m\u001b[0m\n\u001b[0m\u001b[1;32m    105\u001b[0m \u001b[0;34m\u001b[0m\u001b[0m\n\u001b[1;32m    106\u001b[0m \u001b[0;34m\u001b[0m\u001b[0m\n",
      "\u001b[0;32m/opt/conda/lib/python3.9/json/__init__.py\u001b[0m in \u001b[0;36mloads\u001b[0;34m(s, cls, object_hook, parse_float, parse_int, parse_constant, object_pairs_hook, **kw)\u001b[0m\n\u001b[1;32m    344\u001b[0m             \u001b[0mparse_int\u001b[0m \u001b[0;32mis\u001b[0m \u001b[0;32mNone\u001b[0m \u001b[0;32mand\u001b[0m \u001b[0mparse_float\u001b[0m \u001b[0;32mis\u001b[0m \u001b[0;32mNone\u001b[0m \u001b[0;32mand\u001b[0m\u001b[0;34m\u001b[0m\u001b[0;34m\u001b[0m\u001b[0m\n\u001b[1;32m    345\u001b[0m             parse_constant is None and object_pairs_hook is None and not kw):\n\u001b[0;32m--> 346\u001b[0;31m         \u001b[0;32mreturn\u001b[0m \u001b[0m_default_decoder\u001b[0m\u001b[0;34m.\u001b[0m\u001b[0mdecode\u001b[0m\u001b[0;34m(\u001b[0m\u001b[0ms\u001b[0m\u001b[0;34m)\u001b[0m\u001b[0;34m\u001b[0m\u001b[0;34m\u001b[0m\u001b[0m\n\u001b[0m\u001b[1;32m    347\u001b[0m     \u001b[0;32mif\u001b[0m \u001b[0mcls\u001b[0m \u001b[0;32mis\u001b[0m \u001b[0;32mNone\u001b[0m\u001b[0;34m:\u001b[0m\u001b[0;34m\u001b[0m\u001b[0;34m\u001b[0m\u001b[0m\n\u001b[1;32m    348\u001b[0m         \u001b[0mcls\u001b[0m \u001b[0;34m=\u001b[0m \u001b[0mJSONDecoder\u001b[0m\u001b[0;34m\u001b[0m\u001b[0;34m\u001b[0m\u001b[0m\n",
      "\u001b[0;32m/opt/conda/lib/python3.9/json/decoder.py\u001b[0m in \u001b[0;36mdecode\u001b[0;34m(self, s, _w)\u001b[0m\n\u001b[1;32m    335\u001b[0m \u001b[0;34m\u001b[0m\u001b[0m\n\u001b[1;32m    336\u001b[0m         \"\"\"\n\u001b[0;32m--> 337\u001b[0;31m         \u001b[0mobj\u001b[0m\u001b[0;34m,\u001b[0m \u001b[0mend\u001b[0m \u001b[0;34m=\u001b[0m \u001b[0mself\u001b[0m\u001b[0;34m.\u001b[0m\u001b[0mraw_decode\u001b[0m\u001b[0;34m(\u001b[0m\u001b[0ms\u001b[0m\u001b[0;34m,\u001b[0m \u001b[0midx\u001b[0m\u001b[0;34m=\u001b[0m\u001b[0m_w\u001b[0m\u001b[0;34m(\u001b[0m\u001b[0ms\u001b[0m\u001b[0;34m,\u001b[0m \u001b[0;36m0\u001b[0m\u001b[0;34m)\u001b[0m\u001b[0;34m.\u001b[0m\u001b[0mend\u001b[0m\u001b[0;34m(\u001b[0m\u001b[0;34m)\u001b[0m\u001b[0;34m)\u001b[0m\u001b[0;34m\u001b[0m\u001b[0;34m\u001b[0m\u001b[0m\n\u001b[0m\u001b[1;32m    338\u001b[0m         \u001b[0mend\u001b[0m \u001b[0;34m=\u001b[0m \u001b[0m_w\u001b[0m\u001b[0;34m(\u001b[0m\u001b[0ms\u001b[0m\u001b[0;34m,\u001b[0m \u001b[0mend\u001b[0m\u001b[0;34m)\u001b[0m\u001b[0;34m.\u001b[0m\u001b[0mend\u001b[0m\u001b[0;34m(\u001b[0m\u001b[0;34m)\u001b[0m\u001b[0;34m\u001b[0m\u001b[0;34m\u001b[0m\u001b[0m\n\u001b[1;32m    339\u001b[0m         \u001b[0;32mif\u001b[0m \u001b[0mend\u001b[0m \u001b[0;34m!=\u001b[0m \u001b[0mlen\u001b[0m\u001b[0;34m(\u001b[0m\u001b[0ms\u001b[0m\u001b[0;34m)\u001b[0m\u001b[0;34m:\u001b[0m\u001b[0;34m\u001b[0m\u001b[0;34m\u001b[0m\u001b[0m\n",
      "\u001b[0;32m/opt/conda/lib/python3.9/json/decoder.py\u001b[0m in \u001b[0;36mraw_decode\u001b[0;34m(self, s, idx)\u001b[0m\n\u001b[1;32m    353\u001b[0m             \u001b[0mobj\u001b[0m\u001b[0;34m,\u001b[0m \u001b[0mend\u001b[0m \u001b[0;34m=\u001b[0m \u001b[0mself\u001b[0m\u001b[0;34m.\u001b[0m\u001b[0mscan_once\u001b[0m\u001b[0;34m(\u001b[0m\u001b[0ms\u001b[0m\u001b[0;34m,\u001b[0m \u001b[0midx\u001b[0m\u001b[0;34m)\u001b[0m\u001b[0;34m\u001b[0m\u001b[0;34m\u001b[0m\u001b[0m\n\u001b[1;32m    354\u001b[0m         \u001b[0;32mexcept\u001b[0m \u001b[0mStopIteration\u001b[0m \u001b[0;32mas\u001b[0m \u001b[0merr\u001b[0m\u001b[0;34m:\u001b[0m\u001b[0;34m\u001b[0m\u001b[0;34m\u001b[0m\u001b[0m\n\u001b[0;32m--> 355\u001b[0;31m             \u001b[0;32mraise\u001b[0m \u001b[0mJSONDecodeError\u001b[0m\u001b[0;34m(\u001b[0m\u001b[0;34m\"Expecting value\"\u001b[0m\u001b[0;34m,\u001b[0m \u001b[0ms\u001b[0m\u001b[0;34m,\u001b[0m \u001b[0merr\u001b[0m\u001b[0;34m.\u001b[0m\u001b[0mvalue\u001b[0m\u001b[0;34m)\u001b[0m \u001b[0;32mfrom\u001b[0m \u001b[0;32mNone\u001b[0m\u001b[0;34m\u001b[0m\u001b[0;34m\u001b[0m\u001b[0m\n\u001b[0m\u001b[1;32m    356\u001b[0m         \u001b[0;32mreturn\u001b[0m \u001b[0mobj\u001b[0m\u001b[0;34m,\u001b[0m \u001b[0mend\u001b[0m\u001b[0;34m\u001b[0m\u001b[0;34m\u001b[0m\u001b[0m\n",
      "\u001b[0;31mJSONDecodeError\u001b[0m: Expecting value: line 1 column 2 (char 1)"
     ]
    }
   ],
   "source": [
    "import kubernetesTool\n",
    "\n",
    "class kubernetespeer:\n",
    "    def __init__(self, name='',prefix='peer'):\n",
    "        self.name = name\n",
    "        self.pod_name = kubernetesTool.getPod(name)\n",
    "        self.listen_port = kubernetesTool.getPort(peername=name, name = prefix + '-listen')\n",
    "        self.gossip_port = kubernetesTool.getPort(peername=name, name = prefix + '-gossip')\n",
    "        # ????????\n",
    "        #print('kubernetespeer addBashEnvToPeer')\n",
    "        #addBashEnvToPeer(self)\n",
    "    def getCertificate(self):\n",
    "        try:\n",
    "            return str(subprocess.check_output(['cat', self.crt]))[2:-3]   \n",
    "        except Exception as e:\n",
    "            return str(e)      \n",
    "        \n",
    "class ordererpeer(kubernetespeer):\n",
    "    def __init__(self, name='',prefix='peer'):\n",
    "        super().__init__(name,prefix)\n",
    "        self.host = 'orderer.example.com'\n",
    "        self.orderer_intern = 7050\n",
    "        \n",
    "    # can change\n",
    "    def get_ip(self, app='orderer-org1-scray-org'):\n",
    "        return executeKubectlCmd(['get', 'pods','-l', 'app=' + app,'-o','jsonpath=\\'{.items[*].status.podIP}\\''])   \n",
    "    "
   ]
  },
  {
   "cell_type": "code",
   "execution_count": 19,
   "metadata": {},
   "outputs": [
    {
     "ename": "NameError",
     "evalue": "name 'kubernetesTool' is not defined",
     "output_type": "error",
     "traceback": [
      "\u001b[0;31m---------------------------------------------------------------------------\u001b[0m",
      "\u001b[0;31mNameError\u001b[0m                                 Traceback (most recent call last)",
      "\u001b[0;32m/tmp/ipykernel_51/1318400444.py\u001b[0m in \u001b[0;36m<module>\u001b[0;34m\u001b[0m\n\u001b[0;32m----> 1\u001b[0;31m \u001b[0mkubernetespeer\u001b[0m\u001b[0;34m(\u001b[0m\u001b[0;34m'buyer'\u001b[0m\u001b[0;34m)\u001b[0m\u001b[0;34m\u001b[0m\u001b[0;34m\u001b[0m\u001b[0m\n\u001b[0m",
      "\u001b[0;32m/tmp/ipykernel_51/3070979747.py\u001b[0m in \u001b[0;36m__init__\u001b[0;34m(self, name, prefix)\u001b[0m\n\u001b[1;32m      4\u001b[0m     \u001b[0;32mdef\u001b[0m \u001b[0m__init__\u001b[0m\u001b[0;34m(\u001b[0m\u001b[0mself\u001b[0m\u001b[0;34m,\u001b[0m \u001b[0mname\u001b[0m\u001b[0;34m=\u001b[0m\u001b[0;34m''\u001b[0m\u001b[0;34m,\u001b[0m\u001b[0mprefix\u001b[0m\u001b[0;34m=\u001b[0m\u001b[0;34m'peer'\u001b[0m\u001b[0;34m)\u001b[0m\u001b[0;34m:\u001b[0m\u001b[0;34m\u001b[0m\u001b[0;34m\u001b[0m\u001b[0m\n\u001b[1;32m      5\u001b[0m         \u001b[0mself\u001b[0m\u001b[0;34m.\u001b[0m\u001b[0mname\u001b[0m \u001b[0;34m=\u001b[0m \u001b[0mname\u001b[0m\u001b[0;34m\u001b[0m\u001b[0;34m\u001b[0m\u001b[0m\n\u001b[0;32m----> 6\u001b[0;31m         \u001b[0mself\u001b[0m\u001b[0;34m.\u001b[0m\u001b[0mpod_name\u001b[0m \u001b[0;34m=\u001b[0m \u001b[0mkubernetesTool\u001b[0m\u001b[0;34m.\u001b[0m\u001b[0mgetPod\u001b[0m\u001b[0;34m(\u001b[0m\u001b[0mname\u001b[0m\u001b[0;34m)\u001b[0m\u001b[0;34m\u001b[0m\u001b[0;34m\u001b[0m\u001b[0m\n\u001b[0m\u001b[1;32m      7\u001b[0m         \u001b[0mself\u001b[0m\u001b[0;34m.\u001b[0m\u001b[0mlisten_port\u001b[0m \u001b[0;34m=\u001b[0m \u001b[0mkubernetesTool\u001b[0m\u001b[0;34m.\u001b[0m\u001b[0mgetPort\u001b[0m\u001b[0;34m(\u001b[0m\u001b[0mpeername\u001b[0m\u001b[0;34m=\u001b[0m\u001b[0mname\u001b[0m\u001b[0;34m,\u001b[0m \u001b[0mname\u001b[0m \u001b[0;34m=\u001b[0m \u001b[0mprefix\u001b[0m \u001b[0;34m+\u001b[0m \u001b[0;34m'-listen'\u001b[0m\u001b[0;34m)\u001b[0m\u001b[0;34m\u001b[0m\u001b[0;34m\u001b[0m\u001b[0m\n\u001b[1;32m      8\u001b[0m         \u001b[0mself\u001b[0m\u001b[0;34m.\u001b[0m\u001b[0mgossip_port\u001b[0m \u001b[0;34m=\u001b[0m \u001b[0mkubernetesTool\u001b[0m\u001b[0;34m.\u001b[0m\u001b[0mgetPort\u001b[0m\u001b[0;34m(\u001b[0m\u001b[0mpeername\u001b[0m\u001b[0;34m=\u001b[0m\u001b[0mname\u001b[0m\u001b[0;34m,\u001b[0m \u001b[0mname\u001b[0m \u001b[0;34m=\u001b[0m \u001b[0mprefix\u001b[0m \u001b[0;34m+\u001b[0m \u001b[0;34m'-gossip'\u001b[0m\u001b[0;34m)\u001b[0m\u001b[0;34m\u001b[0m\u001b[0;34m\u001b[0m\u001b[0m\n",
      "\u001b[0;31mNameError\u001b[0m: name 'kubernetesTool' is not defined"
     ]
    }
   ],
   "source": [
    "kubernetespeer('buyer')"
   ]
  },
  {
   "cell_type": "code",
   "execution_count": 6,
   "metadata": {},
   "outputs": [],
   "source": [
    "def toCmd(strlist):\n",
    "    return ''.join((str(e) + ' ') for e in strlist)[:-1]\n",
    "\n",
    "#!/home/jovyan/work/usr/bin/kubectl exec --stdin --tty $POD_NAME  -c scray-peer-cli -- /bin/sh /mnt/conf/peer_join.sh $ORDERER_IP  $ORDERER_HOSTNAME $CHANNEL_NAME         \n",
    "def joinHyperledger(peer,orderer_ip,orderer_hostname,orderer_port,channel_name,shared_fs_host,ext_peer_ip='10.15.136.41'):          \n",
    "    cmd = toCmd(['/mnt/conf/peer_join.sh', orderer_ip,orderer_hostname,orderer_port,channel_name,shared_fs_host,ext_peer_ip])\n",
    "    print(cmd)\n",
    "    return executePeerCmd(peer.pod_name, cmd)\n",
    "\n",
    "def endorse_peer(peer=None, orderer_ip='',channel_name='',shared_fs_host='',ext_peer_ip='10.15.136.41'):\n",
    "    print(peer.name)\n",
    "    peername = peer.name\n",
    "    peer_host_name = peername + '.kubernetes.research.dev.seeburger.de'\n",
    "    cmd = toCmd(['/mnt/conf/orderer/scripts/inform_existing_nodes.sh',orderer_ip,channel_name,peer.name,shared_fs_host,ext_peer_ip,peer_host_name]) \n",
    "    #print(cmd)\n",
    "    return executePeerCmd(orderer.pod_name,cmd,cli='scray-orderer-cli')\n",
    "\n",
    "def add_channel(name):\n",
    "    cmd1 = ['/mnt/conf/orderer/scripts/create_channel.sh', name, 'orderer.example.com', '7050']\n",
    "    cmd = toCmd(cmd1)\n",
    "    return executePeerCmd(orderer.pod_name, cmd1, cli='scray-orderer-cli')"
   ]
  },
  {
   "cell_type": "markdown",
   "metadata": {},
   "source": [
    "## create peers"
   ]
  },
  {
   "cell_type": "code",
   "execution_count": 479,
   "metadata": {},
   "outputs": [],
   "source": [
    "orderer = ordererpeer(name='orderer-org1-scray-org',prefix='orderer')\n",
    "\n",
    "\n",
    "orderer_ip=orderer.get_ip()\n",
    "orderer_hostname=orderer.host\n",
    "#orderer_port=orderer.orderer_intern\n",
    "orderer_port= orderer.listen_port\n",
    "\n",
    "channel_name='super55'\n",
    "shared_fs_host='10.14.128.38:30080'"
   ]
  },
  {
   "cell_type": "code",
   "execution_count": 10,
   "metadata": {},
   "outputs": [],
   "source": [
    "def endorse_and_join(peer):    \n",
    "    res1 = endorse_peer(peer=peer,orderer_ip=orderer_ip,channel_name=channel_name,shared_fs_host='10.14.128.38:30080')   \n",
    "    res2  = joinHyperledger(peer,orderer_ip,orderer_hostname,orderer_port,channel_name,shared_fs_host)\n",
    "    return res1,res2"
   ]
  },
  {
   "cell_type": "code",
   "execution_count": 480,
   "metadata": {},
   "outputs": [],
   "source": [
    "peers = {}"
   ]
  },
  {
   "cell_type": "code",
   "execution_count": 698,
   "metadata": {},
   "outputs": [],
   "source": [
    "#createPeers('babby',start=0, end=2)\n",
    "createPeers('babby',start=2, end=4)"
   ]
  },
  {
   "cell_type": "code",
   "execution_count": 699,
   "metadata": {},
   "outputs": [],
   "source": [
    "## endorse and join\n",
    "\n",
    "import ipywidgets as widgets\n",
    "out2 = widgets.Output()\n",
    "\n",
    "with out2:\n",
    "    for key, value in peers.items():\n",
    "        endorse_and_join(value)"
   ]
  },
  {
   "cell_type": "code",
   "execution_count": 700,
   "metadata": {},
   "outputs": [
    {
     "data": {
      "application/vnd.jupyter.widget-view+json": {
       "model_id": "072c48417a3b4ab7abc94856914c3613",
       "version_major": 2,
       "version_minor": 0
      },
      "text/plain": [
       "Output(outputs=({'name': 'stdout', 'text': \"babby-0\\n/home/jovyan/work/usr/bin/kubectl exec -t orderer-org1-sc…"
      ]
     },
     "metadata": {},
     "output_type": "display_data"
    }
   ],
   "source": [
    "out2"
   ]
  },
  {
   "cell_type": "code",
   "execution_count": 16,
   "metadata": {},
   "outputs": [],
   "source": [
    "peername='zalya-3'\n",
    "peer = kubernetespeer(name=peername)\n",
    "peers[peername] = peer"
   ]
  },
  {
   "cell_type": "code",
   "execution_count": null,
   "metadata": {},
   "outputs": [],
   "source": [
    "'zalya-0'"
   ]
  },
  {
   "cell_type": "code",
   "execution_count": null,
   "metadata": {},
   "outputs": [],
   "source": [
    "peers['zalya-1'].__dict__\n",
    "#peers"
   ]
  },
  {
   "cell_type": "code",
   "execution_count": null,
   "metadata": {},
   "outputs": [],
   "source": [
    "addPeer('zalya-3')"
   ]
  },
  {
   "cell_type": "code",
   "execution_count": null,
   "metadata": {},
   "outputs": [],
   "source": [
    "orderer.__dict__"
   ]
  },
  {
   "cell_type": "code",
   "execution_count": null,
   "metadata": {},
   "outputs": [],
   "source": [
    "kubectl exec --stdin --tty $ORDERER_POD -c scray-orderer-cli  -- /bin/sh /mnt/conf/orderer/scripts/inform_existing_nodes.sh $ORDERER_IP $CHANNEL_NAME $PEER_NAME $SHARED_FS_HOST $EXT_PEER_IP $PEER_HOST_NAME"
   ]
  },
  {
   "cell_type": "code",
   "execution_count": null,
   "metadata": {},
   "outputs": [],
   "source": [
    "EER_POD_NAME=$(kubectl get pod -l app=$PEER_NAME -o jsonpath=\"{.items[0].metadata.name}\")\n",
    " ORDERER_PORT=$(kubectl get service orderer-org1-scray-org -o jsonpath=\"{.spec.ports[?(@.name=='orderer-listen')].nodePort}\")\n",
    " ORDERER_PORT=7050\n",
    " PEER_PORT=$(kubectl get service $PEER_NAME -o jsonpath=\"{.spec.ports[?(@.name=='peer-listen')].nodePort}\")\n",
    " kubectl exec --stdin --tty $PEER_POD_NAME  -c scray-peer-cli -- /bin/sh /mnt/conf/peer_join.sh $ORDERER_IP  $ORDERER_HOSTNAME $ORDERER_PORT $CHANNEL_NAME $SHARED_FS_HOST $EXT_PEER_IP"
   ]
  },
  {
   "cell_type": "code",
   "execution_count": null,
   "metadata": {},
   "outputs": [],
   "source": []
  },
  {
   "cell_type": "code",
   "execution_count": null,
   "metadata": {},
   "outputs": [],
   "source": [
    "endorse_and_join(peers['zalya-3'])"
   ]
  },
  {
   "cell_type": "code",
   "execution_count": null,
   "metadata": {},
   "outputs": [],
   "source": [
    "installAndAproveChaincode(peers['zalya-1'],orderer,channel_name)\n"
   ]
  },
  {
   "cell_type": "code",
   "execution_count": null,
   "metadata": {},
   "outputs": [],
   "source": [
    "#out2.outputs[1]['text'].splitlines()"
   ]
  },
  {
   "cell_type": "code",
   "execution_count": null,
   "metadata": {},
   "outputs": [],
   "source": [
    "#!/home/jovyan/work/usr/bin/kubectl exec -t orderer-org1-scray-org-5f97c57d44-j5mbs -c scray-orderer-cli -- /bin/sh -c /mnt/conf/orderer/scripts/inform_existing_nodes.sh '10.32.0.5' super40 kalya-0 10.14.128.38:30080 10.15.136.41 kalya-0.kubernetes.research.dev.seeburger.de"
   ]
  },
  {
   "cell_type": "code",
   "execution_count": null,
   "metadata": {},
   "outputs": [],
   "source": [
    "name='peer-gossip'\n",
    "callopt= 'jsonpath=\\\"{.spec.ports[?(@.name==\\'' + name + '\\')].nodePort}\\\"'\n",
    "callopt"
   ]
  },
  {
   "cell_type": "markdown",
   "metadata": {},
   "source": [
    "## install chaincode"
   ]
  },
  {
   "cell_type": "code",
   "execution_count": 133,
   "metadata": {},
   "outputs": [],
   "source": [
    "def installAndAproveChaincode(peer,orderer,channel_name,cc_host='10.14.128.38',pkgid='',cc_hostname='asset-transfer-basic.org1.example.com',cc_label='basic_1.0',shared_fs='kubernetes.research.dev.seeburger.de:30080', sequence=1):\n",
    "    #!/home/jovyan/work/usr/bin/kubectl exec --stdin --tty $POD_NAME -c scray-peer-cli -- /bin/sh /mnt/conf/install_and_approve_cc.sh $IP_CC_SERVICE $IP_OF_EXAMPLE_NETWORK\n",
    "    #strlist = ['/mnt/conf/install_and_approve_cc.sh', cc_host, orderer.get_ip(), orderer.host, str(orderer.orderer_intern), channel_name ]\n",
    "    strlist = ['/mnt/conf/install_and_approve_cc.sh', cc_host, orderer.get_ip(), orderer.host, str(orderer.listen_port), channel_name,pkgid,cc_hostname, cc_label,shared_fs, str(sequence) ]\n",
    "    print(toCmd(strlist))\n",
    "    return executePeerCmd(peer.pod_name,toCmd(strlist)) \n",
    "\n",
    "def commitChaincode(peer,channel_name,sequence=1,pkgid=''):\n",
    "    strlist = ['/mnt/conf/peer/cc_commit.sh', channel_name, str(sequence),pkgid ]\n",
    "    print(toCmd(strlist))\n",
    "    return executePeerCmd(peer.pod_name,toCmd(strlist)) "
   ]
  },
  {
   "cell_type": "code",
   "execution_count": 701,
   "metadata": {},
   "outputs": [
    {
     "name": "stdout",
     "output_type": "stream",
     "text": [
      "/home/jovyan/work/usr/bin/kubectl exec -t babby-0-7d7bcd4f45-5p57x -c scray-peer-cli -- /bin/sh -c apk add curl\n",
      "curl https://raw.githubusercontent.com/scray/scray-ledger/develop/containers/hl-fabric-node-configurator/conf/install_and_approve_cc.sh -o /mnt/conf/install_and_approve_cc.sh\n",
      "/home/jovyan/work/usr/bin/kubectl exec -t babby-0-7d7bcd4f45-5p57x -c scray-peer-cli -- /bin/sh -c curl https://raw.githubusercontent.com/scray/scray-ledger/develop/containers/hl-fabric-node-configurator/conf/install_and_approve_cc.sh -o /mnt/conf/install_and_approve_cc.sh\n"
     ]
    },
    {
     "name": "stderr",
     "output_type": "stream",
     "text": [
      "  % Total    % Received % Xferd  Average Speed   Time    Time     Time  Current\n",
      "                                 Dload  Upload   Total   Spent    Left  Speed\n",
      "100  1557  100  1557    0     0   6129      0 --:--:-- --:--:-- --:--:--  6129\n"
     ]
    },
    {
     "name": "stdout",
     "output_type": "stream",
     "text": [
      "/home/jovyan/work/usr/bin/kubectl exec -t babby-0-7d7bcd4f45-5p57x -c scray-peer-cli -- /bin/sh -c chmod 755 /mnt/conf/install_and_approve_cc.sh\n",
      "curl https://raw.githubusercontent.com/scray/scray-ledger/develop/containers/hl-fabric-node-configurator/conf/peer/cc_commit.sh -o /mnt/conf/peer/cc_commit.sh\n",
      "/home/jovyan/work/usr/bin/kubectl exec -t babby-0-7d7bcd4f45-5p57x -c scray-peer-cli -- /bin/sh -c curl https://raw.githubusercontent.com/scray/scray-ledger/develop/containers/hl-fabric-node-configurator/conf/peer/cc_commit.sh -o /mnt/conf/peer/cc_commit.sh\n"
     ]
    },
    {
     "name": "stderr",
     "output_type": "stream",
     "text": [
      "  % Total    % Received % Xferd  Average Speed   Time    Time     Time  Current\n",
      "                                 Dload  Upload   Total   Spent    Left  Speed\n",
      "100   523  100   523    0     0   2410      0 --:--:-- --:--:-- --:--:--  2410\n"
     ]
    },
    {
     "name": "stdout",
     "output_type": "stream",
     "text": [
      "/home/jovyan/work/usr/bin/kubectl exec -t babby-0-7d7bcd4f45-5p57x -c scray-peer-cli -- /bin/sh -c chmod 755 /mnt/conf/peer/cc_commit.sh\n",
      "/home/jovyan/work/usr/bin/kubectl exec -t babby-1-56f9fc8dcd-r7ggz -c scray-peer-cli -- /bin/sh -c apk add curl\n",
      "curl https://raw.githubusercontent.com/scray/scray-ledger/develop/containers/hl-fabric-node-configurator/conf/install_and_approve_cc.sh -o /mnt/conf/install_and_approve_cc.sh\n",
      "/home/jovyan/work/usr/bin/kubectl exec -t babby-1-56f9fc8dcd-r7ggz -c scray-peer-cli -- /bin/sh -c curl https://raw.githubusercontent.com/scray/scray-ledger/develop/containers/hl-fabric-node-configurator/conf/install_and_approve_cc.sh -o /mnt/conf/install_and_approve_cc.sh\n"
     ]
    },
    {
     "name": "stderr",
     "output_type": "stream",
     "text": [
      "  % Total    % Received % Xferd  Average Speed   Time    Time     Time  Current\n",
      "                                 Dload  Upload   Total   Spent    Left  Speed\n",
      "100  1557  100  1557    0     0  36209      0 --:--:-- --:--:-- --:--:-- 36209\n"
     ]
    },
    {
     "name": "stdout",
     "output_type": "stream",
     "text": [
      "/home/jovyan/work/usr/bin/kubectl exec -t babby-1-56f9fc8dcd-r7ggz -c scray-peer-cli -- /bin/sh -c chmod 755 /mnt/conf/install_and_approve_cc.sh\n",
      "curl https://raw.githubusercontent.com/scray/scray-ledger/develop/containers/hl-fabric-node-configurator/conf/peer/cc_commit.sh -o /mnt/conf/peer/cc_commit.sh\n",
      "/home/jovyan/work/usr/bin/kubectl exec -t babby-1-56f9fc8dcd-r7ggz -c scray-peer-cli -- /bin/sh -c curl https://raw.githubusercontent.com/scray/scray-ledger/develop/containers/hl-fabric-node-configurator/conf/peer/cc_commit.sh -o /mnt/conf/peer/cc_commit.sh\n"
     ]
    },
    {
     "name": "stderr",
     "output_type": "stream",
     "text": [
      "  % Total    % Received % Xferd  Average Speed   Time    Time     Time  Current\n",
      "                                 Dload  Upload   Total   Spent    Left  Speed\n",
      "100   523  100   523    0     0  14527      0 --:--:-- --:--:-- --:--:-- 14527\n"
     ]
    },
    {
     "name": "stdout",
     "output_type": "stream",
     "text": [
      "/home/jovyan/work/usr/bin/kubectl exec -t babby-1-56f9fc8dcd-r7ggz -c scray-peer-cli -- /bin/sh -c chmod 755 /mnt/conf/peer/cc_commit.sh\n",
      "/home/jovyan/work/usr/bin/kubectl exec -t babby-2-97b65984c-bvldw -c scray-peer-cli -- /bin/sh -c apk add curl\n",
      "curl https://raw.githubusercontent.com/scray/scray-ledger/develop/containers/hl-fabric-node-configurator/conf/install_and_approve_cc.sh -o /mnt/conf/install_and_approve_cc.sh\n",
      "/home/jovyan/work/usr/bin/kubectl exec -t babby-2-97b65984c-bvldw -c scray-peer-cli -- /bin/sh -c curl https://raw.githubusercontent.com/scray/scray-ledger/develop/containers/hl-fabric-node-configurator/conf/install_and_approve_cc.sh -o /mnt/conf/install_and_approve_cc.sh\n"
     ]
    },
    {
     "name": "stderr",
     "output_type": "stream",
     "text": [
      "  % Total    % Received % Xferd  Average Speed   Time    Time     Time  Current\n",
      "                                 Dload  Upload   Total   Spent    Left  Speed\n",
      "100  1557  100  1557    0     0  44485      0 --:--:-- --:--:-- --:--:-- 44485\n"
     ]
    },
    {
     "name": "stdout",
     "output_type": "stream",
     "text": [
      "/home/jovyan/work/usr/bin/kubectl exec -t babby-2-97b65984c-bvldw -c scray-peer-cli -- /bin/sh -c chmod 755 /mnt/conf/install_and_approve_cc.sh\n",
      "curl https://raw.githubusercontent.com/scray/scray-ledger/develop/containers/hl-fabric-node-configurator/conf/peer/cc_commit.sh -o /mnt/conf/peer/cc_commit.sh\n",
      "/home/jovyan/work/usr/bin/kubectl exec -t babby-2-97b65984c-bvldw -c scray-peer-cli -- /bin/sh -c curl https://raw.githubusercontent.com/scray/scray-ledger/develop/containers/hl-fabric-node-configurator/conf/peer/cc_commit.sh -o /mnt/conf/peer/cc_commit.sh\n"
     ]
    },
    {
     "name": "stderr",
     "output_type": "stream",
     "text": [
      "  % Total    % Received % Xferd  Average Speed   Time    Time     Time  Current\n",
      "                                 Dload  Upload   Total   Spent    Left  Speed\n",
      "100   523  100   523    0     0  16343      0 --:--:-- --:--:-- --:--:-- 16343\n"
     ]
    },
    {
     "name": "stdout",
     "output_type": "stream",
     "text": [
      "/home/jovyan/work/usr/bin/kubectl exec -t babby-2-97b65984c-bvldw -c scray-peer-cli -- /bin/sh -c chmod 755 /mnt/conf/peer/cc_commit.sh\n",
      "/home/jovyan/work/usr/bin/kubectl exec -t babby-3-67c5fc7f6-zlmgw -c scray-peer-cli -- /bin/sh -c apk add curl\n",
      "curl https://raw.githubusercontent.com/scray/scray-ledger/develop/containers/hl-fabric-node-configurator/conf/install_and_approve_cc.sh -o /mnt/conf/install_and_approve_cc.sh\n",
      "/home/jovyan/work/usr/bin/kubectl exec -t babby-3-67c5fc7f6-zlmgw -c scray-peer-cli -- /bin/sh -c curl https://raw.githubusercontent.com/scray/scray-ledger/develop/containers/hl-fabric-node-configurator/conf/install_and_approve_cc.sh -o /mnt/conf/install_and_approve_cc.sh\n"
     ]
    },
    {
     "name": "stderr",
     "output_type": "stream",
     "text": [
      "  % Total    % Received % Xferd  Average Speed   Time    Time     Time  Current\n",
      "                                 Dload  Upload   Total   Spent    Left  Speed\n",
      "100  1557  100  1557    0     0  47181      0 --:--:-- --:--:-- --:--:-- 47181\n"
     ]
    },
    {
     "name": "stdout",
     "output_type": "stream",
     "text": [
      "/home/jovyan/work/usr/bin/kubectl exec -t babby-3-67c5fc7f6-zlmgw -c scray-peer-cli -- /bin/sh -c chmod 755 /mnt/conf/install_and_approve_cc.sh\n",
      "curl https://raw.githubusercontent.com/scray/scray-ledger/develop/containers/hl-fabric-node-configurator/conf/peer/cc_commit.sh -o /mnt/conf/peer/cc_commit.sh\n",
      "/home/jovyan/work/usr/bin/kubectl exec -t babby-3-67c5fc7f6-zlmgw -c scray-peer-cli -- /bin/sh -c curl https://raw.githubusercontent.com/scray/scray-ledger/develop/containers/hl-fabric-node-configurator/conf/peer/cc_commit.sh -o /mnt/conf/peer/cc_commit.sh\n"
     ]
    },
    {
     "name": "stderr",
     "output_type": "stream",
     "text": [
      "  % Total    % Received % Xferd  Average Speed   Time    Time     Time  Current\n",
      "                                 Dload  Upload   Total   Spent    Left  Speed\n",
      "100   523  100   523    0     0  16343      0 --:--:-- --:--:-- --:--:-- 16343\n"
     ]
    },
    {
     "name": "stdout",
     "output_type": "stream",
     "text": [
      "/home/jovyan/work/usr/bin/kubectl exec -t babby-3-67c5fc7f6-zlmgw -c scray-peer-cli -- /bin/sh -c chmod 755 /mnt/conf/peer/cc_commit.sh\n"
     ]
    }
   ],
   "source": [
    "for key, peer in peers.items():\n",
    "    executePeerCmd(peer.pod_name,'apk add curl')\n",
    "    strlist = ['curl', 'https://raw.githubusercontent.com/scray/scray-ledger/develop/containers/hl-fabric-node-configurator/conf/install_and_approve_cc.sh', '-o', '/mnt/conf/install_and_approve_cc.sh']\n",
    "    cmd = toCmd(strlist)\n",
    "    print(cmd)\n",
    "    output = executePeerCmd(peer.pod_name,  cmd)\n",
    "    executePeerCmd(peer.pod_name,'chmod 755 /mnt/conf/install_and_approve_cc.sh')\n",
    "    strlist = ['curl', 'https://raw.githubusercontent.com/scray/scray-ledger/develop/containers/hl-fabric-node-configurator/conf/peer/cc_commit.sh', '-o', '/mnt/conf/peer/cc_commit.sh']\n",
    "    cmd = toCmd(strlist)\n",
    "    print(cmd)\n",
    "    output = executePeerCmd(peer.pod_name,  cmd)\n",
    "    executePeerCmd(peer.pod_name,'chmod 755 /mnt/conf/peer/cc_commit.sh')"
   ]
  },
  {
   "cell_type": "code",
   "execution_count": 492,
   "metadata": {},
   "outputs": [
    {
     "data": {
      "text/plain": [
       "['babby-0', 'babby-1']"
      ]
     },
     "execution_count": 492,
     "metadata": {},
     "output_type": "execute_result"
    }
   ],
   "source": [
    " peernames"
   ]
  },
  {
   "cell_type": "code",
   "execution_count": 490,
   "metadata": {},
   "outputs": [],
   "source": [
    "shared_fs='kubernetes.research.dev.seeburger.de:30080'\n",
    "cc_hostname='invoice-net.org1.example.com'\n",
    "cc_host='10.14.128.38'\n",
    "cc_service_name='hl-fabric-cc-external-invoice-net'\n",
    "cc_port = executeKubectlCmd(['get', 'service', cc_service_name, '-o', 'jsonpath=\"{.spec.ports[?(@.name==\\'chaincode\\')].nodePort}\"'], decode='json')\n",
    "cc_label='basic_1.0'"
   ]
  },
  {
   "cell_type": "code",
   "execution_count": 139,
   "metadata": {},
   "outputs": [
    {
     "data": {
      "text/plain": [
       "'30489'"
      ]
     },
     "execution_count": 139,
     "metadata": {},
     "output_type": "execute_result"
    }
   ],
   "source": [
    "cc_port"
   ]
  },
  {
   "cell_type": "code",
   "execution_count": 491,
   "metadata": {},
   "outputs": [
    {
     "name": "stdout",
     "output_type": "stream",
     "text": [
      "/home/jovyan/work/usr/bin/kubectl exec -t babby-0-7d7bcd4f45-5p57x -c scray-peer-cli -- /bin/sh -c curl -s --user scray:scray http://kubernetes.research.dev.seeburger.de:30080/cc_descriptions/invoice-net.org1.example.com_basic_1.0/description-hash.json\n"
     ]
    }
   ],
   "source": [
    "strlist = ['curl','-s','--user','scray:scray','http://' + shared_fs + '/cc_descriptions/' + cc_hostname + '_' + cc_label + '/description-hash.json']\n",
    "cmd = toCmd(strlist)\n",
    "output = executePeerCmd(peer.pod_name,  cmd)\n",
    "pkgid = json.loads(output[:-1])['description-hash']"
   ]
  },
  {
   "cell_type": "code",
   "execution_count": 702,
   "metadata": {},
   "outputs": [
    {
     "name": "stdout",
     "output_type": "stream",
     "text": [
      "/mnt/conf/install_and_approve_cc.sh 10.14.128.38 '10.32.0.5' orderer.example.com 30081 super55 basic_1.0:a16a9f7ab92fae0f5268f0f289e7158de179a1a2d3dfbcf3cf480fe41886da77 invoice-net.org1.example.com basic_1.0 kubernetes.research.dev.seeburger.de:30080 1\n",
      "/home/jovyan/work/usr/bin/kubectl exec -t babby-0-7d7bcd4f45-5p57x -c scray-peer-cli -- /bin/sh -c /mnt/conf/install_and_approve_cc.sh 10.14.128.38 '10.32.0.5' orderer.example.com 30081 super55 basic_1.0:a16a9f7ab92fae0f5268f0f289e7158de179a1a2d3dfbcf3cf480fe41886da77 invoice-net.org1.example.com basic_1.0 kubernetes.research.dev.seeburger.de:30080 1\n"
     ]
    },
    {
     "name": "stderr",
     "output_type": "stream",
     "text": [
      "  % Total    % Received % Xferd  Average Speed   Time    Time     Time  Current\n",
      "                                 Dload  Upload   Total   Spent    Left  Speed\n",
      "100   431  100   431    0     0  15962      0 --:--:-- --:--:-- --:--:-- 15962\n",
      "Error: chaincode install failed with status: 500 - failed to invoke backing implementation of 'InstallChaincode': chaincode already successfully installed\n",
      "\u001b[34m2021-11-23 14:40:41.526 UTC [chaincodeCmd] ClientWait -> INFO 001\u001b[0m txid [cc68aa153e33599325b9fe7f906cc58a999331dc02195868412d81d85d9ecec5] committed with status (VALID) at peer0.babby-0.kubernetes.research.dev.seeburger.de:30576\n"
     ]
    },
    {
     "name": "stdout",
     "output_type": "stream",
     "text": [
      "/mnt/conf/install_and_approve_cc.sh 10.14.128.38 '10.32.0.5' orderer.example.com 30081 super55 basic_1.0:a16a9f7ab92fae0f5268f0f289e7158de179a1a2d3dfbcf3cf480fe41886da77 invoice-net.org1.example.com basic_1.0 kubernetes.research.dev.seeburger.de:30080 1\n",
      "/home/jovyan/work/usr/bin/kubectl exec -t babby-1-56f9fc8dcd-r7ggz -c scray-peer-cli -- /bin/sh -c /mnt/conf/install_and_approve_cc.sh 10.14.128.38 '10.32.0.5' orderer.example.com 30081 super55 basic_1.0:a16a9f7ab92fae0f5268f0f289e7158de179a1a2d3dfbcf3cf480fe41886da77 invoice-net.org1.example.com basic_1.0 kubernetes.research.dev.seeburger.de:30080 1\n"
     ]
    },
    {
     "name": "stderr",
     "output_type": "stream",
     "text": [
      "  % Total    % Received % Xferd  Average Speed   Time    Time     Time  Current\n",
      "                                 Dload  Upload   Total   Spent    Left  Speed\n",
      "100   431  100   431    0     0  30785      0 --:--:-- --:--:-- --:--:-- 30785\n",
      "Error: chaincode install failed with status: 500 - failed to invoke backing implementation of 'InstallChaincode': chaincode already successfully installed\n",
      "\u001b[34m2021-11-23 14:40:44.990 UTC [chaincodeCmd] ClientWait -> INFO 001\u001b[0m txid [4f8218d8611ed4d844832e2744e0459db4dd2c75a7faebe29a5e15f2931944a7] committed with status (VALID) at peer0.babby-1.kubernetes.research.dev.seeburger.de:31216\n"
     ]
    },
    {
     "name": "stdout",
     "output_type": "stream",
     "text": [
      "/mnt/conf/install_and_approve_cc.sh 10.14.128.38 '10.32.0.5' orderer.example.com 30081 super55 basic_1.0:a16a9f7ab92fae0f5268f0f289e7158de179a1a2d3dfbcf3cf480fe41886da77 invoice-net.org1.example.com basic_1.0 kubernetes.research.dev.seeburger.de:30080 1\n",
      "/home/jovyan/work/usr/bin/kubectl exec -t babby-2-97b65984c-bvldw -c scray-peer-cli -- /bin/sh -c /mnt/conf/install_and_approve_cc.sh 10.14.128.38 '10.32.0.5' orderer.example.com 30081 super55 basic_1.0:a16a9f7ab92fae0f5268f0f289e7158de179a1a2d3dfbcf3cf480fe41886da77 invoice-net.org1.example.com basic_1.0 kubernetes.research.dev.seeburger.de:30080 1\n"
     ]
    },
    {
     "name": "stderr",
     "output_type": "stream",
     "text": [
      "  % Total    % Received % Xferd  Average Speed   Time    Time     Time  Current\n",
      "                                 Dload  Upload   Total   Spent    Left  Speed\n",
      "100   431  100   431    0     0  13903      0 --:--:-- --:--:-- --:--:-- 13903\n",
      "\u001b[34m2021-11-23 14:40:45.927 UTC [cli.lifecycle.chaincode] submitInstallProposal -> INFO 001\u001b[0m Installed remotely: response:<status:200 payload:\"\\nJbasic_1.0:a16a9f7ab92fae0f5268f0f289e7158de179a1a2d3dfbcf3cf480fe41886da77\\022\\tbasic_1.0\" > \n",
      "\u001b[34m2021-11-23 14:40:45.927 UTC [cli.lifecycle.chaincode] submitInstallProposal -> INFO 002\u001b[0m Chaincode code package identifier: basic_1.0:a16a9f7ab92fae0f5268f0f289e7158de179a1a2d3dfbcf3cf480fe41886da77\n",
      "\u001b[34m2021-11-23 14:40:48.362 UTC [chaincodeCmd] ClientWait -> INFO 001\u001b[0m txid [01a1f784f2949cf6e214ce2ca258f8cb3f7d95c907b106f8ee278adf9018ebfc] committed with status (VALID) at peer0.babby-2.kubernetes.research.dev.seeburger.de:31025\n"
     ]
    },
    {
     "name": "stdout",
     "output_type": "stream",
     "text": [
      "/mnt/conf/install_and_approve_cc.sh 10.14.128.38 '10.32.0.5' orderer.example.com 30081 super55 basic_1.0:a16a9f7ab92fae0f5268f0f289e7158de179a1a2d3dfbcf3cf480fe41886da77 invoice-net.org1.example.com basic_1.0 kubernetes.research.dev.seeburger.de:30080 1\n",
      "/home/jovyan/work/usr/bin/kubectl exec -t babby-3-67c5fc7f6-zlmgw -c scray-peer-cli -- /bin/sh -c /mnt/conf/install_and_approve_cc.sh 10.14.128.38 '10.32.0.5' orderer.example.com 30081 super55 basic_1.0:a16a9f7ab92fae0f5268f0f289e7158de179a1a2d3dfbcf3cf480fe41886da77 invoice-net.org1.example.com basic_1.0 kubernetes.research.dev.seeburger.de:30080 1\n"
     ]
    },
    {
     "name": "stderr",
     "output_type": "stream",
     "text": [
      "  % Total    % Received % Xferd  Average Speed   Time    Time     Time  Current\n",
      "                                 Dload  Upload   Total   Spent    Left  Speed\n",
      "100   431  100   431    0     0  53875      0 --:--:-- --:--:-- --:--:-- 53875\n",
      "\u001b[34m2021-11-23 14:40:49.300 UTC [cli.lifecycle.chaincode] submitInstallProposal -> INFO 001\u001b[0m Installed remotely: response:<status:200 payload:\"\\nJbasic_1.0:a16a9f7ab92fae0f5268f0f289e7158de179a1a2d3dfbcf3cf480fe41886da77\\022\\tbasic_1.0\" > \n",
      "\u001b[34m2021-11-23 14:40:49.300 UTC [cli.lifecycle.chaincode] submitInstallProposal -> INFO 002\u001b[0m Chaincode code package identifier: basic_1.0:a16a9f7ab92fae0f5268f0f289e7158de179a1a2d3dfbcf3cf480fe41886da77\n",
      "\u001b[34m2021-11-23 14:40:51.795 UTC [chaincodeCmd] ClientWait -> INFO 001\u001b[0m txid [3d51e862c8d0e371cd94222541298f98a315cfda6894269e2f67d732a0b6e76c] committed with status (VALID) at peer0.babby-3.kubernetes.research.dev.seeburger.de:30789\n"
     ]
    }
   ],
   "source": [
    "for key, peer in peers.items():\n",
    "    installAndAproveChaincode(peer,orderer,channel_name,cc_host=cc_host,pkgid=pkgid,cc_hostname=cc_hostname,cc_label=cc_label,shared_fs=shared_fs, sequence=1)"
   ]
  },
  {
   "cell_type": "code",
   "execution_count": 703,
   "metadata": {},
   "outputs": [
    {
     "name": "stdout",
     "output_type": "stream",
     "text": [
      "/mnt/conf/peer/cc_commit.sh super55 1 basic_1.0:a16a9f7ab92fae0f5268f0f289e7158de179a1a2d3dfbcf3cf480fe41886da77\n",
      "/home/jovyan/work/usr/bin/kubectl exec -t babby-0-7d7bcd4f45-5p57x -c scray-peer-cli -- /bin/sh -c /mnt/conf/peer/cc_commit.sh super55 1 basic_1.0:a16a9f7ab92fae0f5268f0f289e7158de179a1a2d3dfbcf3cf480fe41886da77\n"
     ]
    },
    {
     "name": "stderr",
     "output_type": "stream",
     "text": [
      "\u001b[34m2021-11-23 14:43:38.902 UTC [chaincodeCmd] ClientWait -> INFO 001\u001b[0m txid [c6f26b83cc2ed85a696d270a8b85764d6d260dd5a8a9836e821557ba28eb22fa] committed with status (VALID) at peer0.babby-0.kubernetes.research.dev.seeburger.de:30576\n"
     ]
    },
    {
     "data": {
      "text/plain": [
       "'Installed chaincode\\nInstalled chaincodes on peer:\\nPackage ID: basic_1.0:a16a9f7ab92fae0f5268f0f289e7158de179a1a2d3dfbcf3cf480fe41886da77, Label: basic_1.0\\n'"
      ]
     },
     "execution_count": 703,
     "metadata": {},
     "output_type": "execute_result"
    }
   ],
   "source": [
    "peernames = list(peers.keys())\n",
    "peernames\n",
    "peer = peers[peernames[0]]\n",
    "#peer = list(peers.values())[0]\n",
    "commitChaincode(peer,channel_name,sequence=1,pkgid=pkgid)"
   ]
  },
  {
   "cell_type": "code",
   "execution_count": null,
   "metadata": {},
   "outputs": [],
   "source": [
    "#channel_name\n",
    "#orderer.__dict__\n",
    "#peers['ralya-0'].pod_name\n",
    "peers['zalya-0'].__dict__ , channel_name"
   ]
  },
  {
   "cell_type": "code",
   "execution_count": null,
   "metadata": {},
   "outputs": [],
   "source": [
    "installAndAproveChaincode(peers['zalya-1'],orderer,channel_name,sequence=2)\n"
   ]
  },
  {
   "cell_type": "code",
   "execution_count": null,
   "metadata": {},
   "outputs": [],
   "source": [
    "#commitChaincode(peers['zalya-1'],channel_name,sequence=2)\n",
    "chaincode_init(peers['zalya-1'],channel_name)"
   ]
  },
  {
   "cell_type": "code",
   "execution_count": null,
   "metadata": {},
   "outputs": [],
   "source": [
    "peers['zalya-2'].pod_name"
   ]
  },
  {
   "cell_type": "code",
   "execution_count": null,
   "metadata": {},
   "outputs": [],
   "source": [
    "def downloadToPeer(peer, orgs, execute_org='schalke3'):\n",
    "    executePeerCmd(peer.pod_name,toCmd(downloadToLocalCmdList(local_path='/tmp', remote_name=getCrtName(org))))   "
   ]
  },
  {
   "cell_type": "code",
   "execution_count": 704,
   "metadata": {},
   "outputs": [
    {
     "data": {
      "text/plain": [
       "{'babby-0': <__main__.kubernetespeer at 0x7fe3ccafa910>,\n",
       " 'babby-1': <__main__.kubernetespeer at 0x7fe3ccafa7c0>,\n",
       " 'babby-2': <__main__.kubernetespeer at 0x7fe3cd78e9d0>,\n",
       " 'babby-3': <__main__.kubernetespeer at 0x7fe3cc9bd9d0>}"
      ]
     },
     "execution_count": 704,
     "metadata": {},
     "output_type": "execute_result"
    }
   ],
   "source": [
    "peers"
   ]
  },
  {
   "cell_type": "code",
   "execution_count": 18,
   "metadata": {},
   "outputs": [
    {
     "name": "stdout",
     "output_type": "stream",
     "text": [
      "/home/jovyan/work/usr/bin/kubectl exec -t zalya-0-6cf64f96b4-vv4mp -c scray-peer-cli -- /bin/sh -c apk add curl\n"
     ]
    },
    {
     "data": {
      "text/plain": [
       "'fetch http://dl-cdn.alpinelinux.org/alpine/v3.12/main/x86_64/APKINDEX.tar.gz\\nfetch http://dl-cdn.alpinelinux.org/alpine/v3.12/community/x86_64/APKINDEX.tar.gz\\n(1/1) Installing curl (7.79.1-r0)\\nExecuting busybox-1.31.1-r16.trigger\\nOK: 29 MiB in 28 packages\\n'"
      ]
     },
     "execution_count": 18,
     "metadata": {},
     "output_type": "execute_result"
    }
   ],
   "source": [
    "peer = peers['zalya-0']\n",
    "executePeerCmd(peer.pod_name,'apk add curl')"
   ]
  },
  {
   "cell_type": "code",
   "execution_count": 20,
   "metadata": {},
   "outputs": [
    {
     "data": {
      "text/plain": [
       "'zalya-0-6cf64f96b4-vv4mp'"
      ]
     },
     "execution_count": 20,
     "metadata": {},
     "output_type": "execute_result"
    }
   ],
   "source": [
    "peer.pod_name"
   ]
  },
  {
   "cell_type": "code",
   "execution_count": null,
   "metadata": {},
   "outputs": [],
   "source": [
    "peer=kubernetespeer(name='oalya-0')\n",
    "channel_name='super45'"
   ]
  },
  {
   "cell_type": "code",
   "execution_count": null,
   "metadata": {},
   "outputs": [],
   "source": [
    "peer.name, channel_name"
   ]
  },
  {
   "cell_type": "code",
   "execution_count": null,
   "metadata": {},
   "outputs": [],
   "source": [
    "!/home/jovyan/work/usr/bin/kubectl exec --stdin --tty lalya-0-7c887cffb8-fpw7h -c scray-peer-cli -- /bin/sh /mnt/conf/peer/cc-basic-interaction.sh  super43"
   ]
  },
  {
   "cell_type": "code",
   "execution_count": 70,
   "metadata": {},
   "outputs": [
    {
     "name": "stdout",
     "output_type": "stream",
     "text": [
      "/mnt/conf/peer/cc-basic-interaction.sh super55\n",
      "/home/jovyan/work/usr/bin/kubectl exec -t aabby-0-6859c54c76-gvdqw -c scray-peer-cli -- /bin/sh -c /mnt/conf/peer/cc-basic-interaction.sh super55\n"
     ]
    },
    {
     "name": "stderr",
     "output_type": "stream",
     "text": [
      "Error: endorsement failure during invoke. response: status:500 message:\"make sure the chaincode basic has been successfully defined on channel super55 and try again: chaincode definition for 'basic' exists, but chaincode is not installed\" \n",
      "Error: endorsement failure during query. response: status:500 message:\"make sure the chaincode basic has been successfully defined on channel super55 and try again: chaincode definition for 'basic' exists, but chaincode is not installed\" \n",
      "command terminated with exit code 1\n"
     ]
    },
    {
     "data": {
      "text/plain": [
       "\"Command '['/home/jovyan/work/usr/bin/kubectl', 'exec', '-t', 'aabby-0-6859c54c76-gvdqw', '-c', 'scray-peer-cli', '--', '/bin/sh', '-c', '/mnt/conf/peer/cc-basic-interaction.sh super55']' returned non-zero exit status 1.\""
      ]
     },
     "execution_count": 70,
     "metadata": {},
     "output_type": "execute_result"
    }
   ],
   "source": [
    "#Call init method in chaincode\n",
    "def chaincode_init(peer,channel_name):\n",
    "    strlist = ['/mnt/conf/peer/cc-basic-interaction.sh', channel_name ]\n",
    "    print(toCmd(strlist))\n",
    "    return executePeerCmd(peer.pod_name,toCmd(strlist)) \n",
    "\n",
    "chaincode_init(peer,channel_name)"
   ]
  },
  {
   "cell_type": "code",
   "execution_count": null,
   "metadata": {},
   "outputs": [],
   "source": [
    "externalbuilder/builds/basic_1.0-21ee1256844f847e196af6aec17c5cafa76d8bd652d6ef42c3058e52571030b4/release/chaincode/server/c"
   ]
  },
  {
   "cell_type": "code",
   "execution_count": null,
   "metadata": {},
   "outputs": [],
   "source": [
    "peers['nalya-0'].pod_name"
   ]
  },
  {
   "cell_type": "code",
   "execution_count": null,
   "metadata": {},
   "outputs": [],
   "source": [
    "CHANNEL_NAME='super44'\n",
    "#ORDERER_NAME=orderer.example.com\n",
    "IP_CC_SERVICE='10.14.128.38'         # Host where the chaincode is running\n",
    "#PEER_POD=$(kubectl get pod -l app=$PEER_NAME -o jsonpath=\"{.items[0].metadata.name}\")\n",
    "#ORDERER_IP=$(kubectl get pods  -l app=orderer-org1-scray-org -o jsonpath='{.items[*].status.podIP}')\n",
    "#ORDERER_LISTEN_PORT=$(kubectl get service orderer-org1-scray-org -o jsonpath=\"{.spec.ports[?(@.name=='orderer-listen')].nodePort}\")\n",
    "#ORDERER_HOST=orderer.example.com\n",
    "EXT_PEER_IP=\"10.14.128.38\"\n",
    "PEER_POD=\"nalya-0-5494459f47-v7msj\"\n",
    "\n",
    "ORDERER_PORT=$(kubectl get service orderer-org1-scray-org -o jsonpath=\"{.spec.ports[?(@.name=='orderer-listen')].nodePort}\")\n",
    "ORDERER_PORT=30081\n",
    "ORDERER_IP=$(kubectl get pods  -l app=orderer-org1-scray-org -o jsonpath='{.items[*].status.podIP}')\n",
    "\n",
    "kubectl exec --stdin --tty $PEER_POD -c scray-peer-cli -- /bin/sh /mnt/conf/install_and_approve_cc.sh $IP_CC_SERVICE $ORDERER_IP $ORDERER_HOST $ORDERER_PORT $CHANNEL_NAME "
   ]
  },
  {
   "cell_type": "code",
   "execution_count": null,
   "metadata": {},
   "outputs": [],
   "source": [
    "#peers.keys()\n",
    "#[elem for elem in peers.values()]\n",
    "list(peers.values())[0].__dict__"
   ]
  },
  {
   "cell_type": "markdown",
   "metadata": {},
   "source": [
    "# invoice usecase"
   ]
  },
  {
   "cell_type": "code",
   "execution_count": 497,
   "metadata": {},
   "outputs": [
    {
     "data": {
      "text/plain": [
       "['babby-0', 'babby-1']"
      ]
     },
     "execution_count": 497,
     "metadata": {},
     "output_type": "execute_result"
    }
   ],
   "source": [
    "peernames = list(peers.keys())\n",
    "peernames"
   ]
  },
  {
   "cell_type": "markdown",
   "metadata": {},
   "source": [
    "## invoice functions"
   ]
  },
  {
   "cell_type": "code",
   "execution_count": 417,
   "metadata": {},
   "outputs": [],
   "source": [
    "#kubectl exec --stdin --tty $PEER_POD -c scray-peer-cli -- /bin/sh /mnt/conf/peer/add-invoice.sh  $CHANNEL_NAME $INVOICE_ID\n",
    "\n",
    "def get_certificate_string(peername,user='User1'):\n",
    "    return 'x509::CN=' + user + '@' + peername + '.kubernetes.research.dev.seeburger.de,OU=client,L=Bretten,ST=Baden,C=DE::CN=ca.' + peername + '.kubernetes.research.dev.seeburger.de,O=' + peername + '.kubernetes.research.dev.seeburger.de,L=Bretten,ST=Baden,C=DE'\n",
    "\n",
    "def chaincode_add_invoice(peer,channel_name,invoice_id,buyer):\n",
    "    strlist = ['/mnt/conf/peer/add-invoice.sh', channel_name,invoice_id,get_certificate_string(buyer)]\n",
    "    print(toCmd(strlist))\n",
    "    return executePeerCmd(peer.pod_name,toCmd(strlist)) \n"
   ]
  },
  {
   "cell_type": "code",
   "execution_count": 2,
   "metadata": {},
   "outputs": [],
   "source": [
    "import json\n",
    "\n",
    "def getHostname(peer):\n",
    "    return executePeerCmd(peer.pod_name,'echo $HOSTNAME')[:-1]\n",
    "\n",
    "def getExport_MSPCONFIGPATH(hostname,user='User1'):\n",
    "    #user = 'User1'\n",
    "    #user = 'hans'\n",
    "    #path = '/mnt/conf/organizations/peerOrganizations/' + hostname + '/users/User1@' + hostname + '/msp/'\n",
    "    path = '/mnt/conf/organizations/peerOrganizations/' + hostname + '/users/' + user + '@' + hostname + '/msp/'\n",
    "    return 'export CORE_PEER_MSPCONFIGPATH=' + path\n",
    "    \n",
    "def getArgList(asset):\n",
    "    if isinstance(asset, dict):\n",
    "        asset = asset.values()\n",
    "    return '[' + ''.join(('\\\"' + str(e) + '\\\",') for e in asset)[:-1] + ']' \n",
    "\n",
    "def invoke(peer,callopt,user='User1'):\n",
    "    global _out\n",
    "    _out = widgets.Output()\n",
    "    with _out:\n",
    "        try:\n",
    "            export_cmd = getExport_MSPCONFIGPATH(getHostname(peer),user=user)\n",
    "            cmd0 = str('\\'' + callopt + \"\\'\")\n",
    "            strlist = ['peer', 'chaincode', 'invoke', '-o', 'orderer.example.com:30081', '--tls', '--cafile', '/tmp/tlsca.example.com-cert.pem','-C', channel_name, '-n', 'basic', '-c', cmd0]\n",
    "            cmd = toCmd(strlist)\n",
    "            cmd = export_cmd + '  && ' + cmd\n",
    "            print(cmd)  \n",
    "            output = executePeerCmd(peer.pod_name, cmd)\n",
    "            return output,_out\n",
    "        except Exception as e:\n",
    "            print(e)\n",
    "            return output,_out\n",
    "        \n",
    "def query(peer, callopt, user='User1'):\n",
    "    global _out\n",
    "    _out = widgets.Output()\n",
    "    with _out:\n",
    "        try:\n",
    "            export_cmd = getExport_MSPCONFIGPATH(getHostname(peer),user=user)\n",
    "            #hostname = getHostname(peer)\n",
    "            #path = '/mnt/conf/organizations/peerOrganizations/' + hostname + '/users/' + 'User1' + '@' + hostname + '/msp/'\n",
    "            cmd0 = str('\\'' + callopt + \"\\'\")\n",
    "            strlist = ['peer', 'chaincode', 'query', '-C', channel_name, '-n', 'basic', '-c', cmd0]\n",
    "            #strlist = ['peer', 'chaincode', 'query', '-C', channel_name, '-n', 'basic', '-c', cmd0,'--cafile',path + 'cacerts/ca.zalya-0.kubernetes.research.dev.seeburger.de-cert.pem' , '--certfile',path + 'signcerts/User1@zalya-0.kubernetes.research.dev.seeburger.de-cert.pem' ,'--keyfile', path + 'keystore/priv_sk']\n",
    "            cmd = toCmd(strlist)\n",
    "            cmd = export_cmd + '  && ' + cmd\n",
    "            print(cmd)\n",
    "            output = executePeerCmd(peer.pod_name, cmd)\n",
    "            #output = executePeerCmd(peer.pod_name, cmd)           \n",
    "            return json.loads(output),_out\n",
    "        except Exception as e:\n",
    "            print(e)\n",
    "            return output,_out\n",
    "    \n",
    "def getAllKeys(peer):\n",
    "    callopt= '{\"function\":\"GetAllKeys\",\"Args\":[' + ']}'\n",
    "    return query(peer,callopt)       \n",
    "\n",
    "def getRoleTransactions(peer):\n",
    "    callopt= '{\"function\":\"GetRoleTransactions\",\"Args\":[' + ']}'\n",
    "    return query(peer,callopt)   \n",
    "    \n",
    "def getEmptyInvoice(peer):\n",
    "    callopt= '{\"function\":\"GetEmptyInvoice\",\"Args\":[' + ']}'\n",
    "    return query(peer,callopt)       \n",
    "    \n",
    "def createInvoice(peer,arglist='', user='User1'):\n",
    "    callopt= '{\"function\":\"CreateInvoice\",\"Args\":' + arglist + '}'\n",
    "    return invoke(peer,callopt,user=user)    \n",
    "    \n",
    "def listInvoices(peer, user='User1'):\n",
    "    callopt= '{\"function\":\"ListInvoices\",\"Args\":[' + ']}'\n",
    "    return query(peer,callopt,user=user)    \n",
    "    \n",
    "def listInvoice(peer, id='asset1', user='User1'):\n",
    "    callopt= '{\"function\":\"ListInvoice\",\"Args\":' + getArgList([id]) + '}'\n",
    "    return query(peer,callopt,user=user)    \n",
    "    \n",
    "def receivedInvoice(peer, id='asset1', user='User1'):\n",
    "    callopt= '{\"function\":\"ReceivedInvoice\",\"Args\":' + getArgList([id]) + '}'\n",
    "    return invoke(peer,callopt,user=user)     \n",
    "    \n",
    "def receivedOrder(peer, id='asset1', user='User1'):\n",
    "    callopt= '{\"function\":\"ReceivedOrder\",\"Args\":' + getArgList([id]) + '}'\n",
    "    return invoke(peer,callopt,user=user)   \n",
    "\n",
    "def receivedPayment(peer, id='asset1', payer='', user='User1'):\n",
    "    callopt= '{\"function\":\"ReceivedPayment\",\"Args\":' + getArgList([id,payer]) + '}'\n",
    "    return invoke(peer,callopt,user=user)   \n",
    "\n",
    "def taxReceived(peer, id='asset1', user='User1'):\n",
    "    callopt= '{\"function\":\"TaxReceived\",\"Args\":' + getArgList([id]) + '}'\n",
    "    return invoke(peer,callopt,user=user)    \n",
    "    \n",
    "    \n",
    "def assetExists(peer, id='asset1'):\n",
    "    #callopt= '{\"function\":\"AssetExists\",\"Args\":[' + '\\\"' + id + '\\\"' + ']}'\n",
    "    callopt= '{\"function\":\"AssetExists\",\"Args\":' + getArgList([id]) + '}'\n",
    "    return query(peer,callopt)\n",
    "        \n",
    "def deleteAsset(peer, asset='asset1'):\n",
    "    callopt= '{\"function\":\"DeleteAsset\",\"Args\":[' + '\\\"' + asset + '\\\"' + ']}'\n",
    "    return invoke(peer,callopt)\n",
    "    \n",
    "\n",
    "\n",
    "def readAssetTest(peer, asset='asset1'):\n",
    "    callopt= '{\"function\":\"ReadAssetTest\",\"Args\":[' + '\\\"' + asset + '\\\"' + ']}'\n",
    "    return query(peer,callopt)\n",
    "    \n",
    "def updateAsset(peer,arglist=None):\n",
    "    callopt= '{\"function\":\"UpdateAsset\",\"Args\":' + getArgList(asset) + '}'\n",
    "    return invoke(peer,callopt)\n",
    "\n",
    "\n",
    "def getSubmittingClientIdentity(peer, user='User1'):\n",
    "    callopt= '{\"function\":\"GetSubmittingClientIdentity\",\"Args\":[' + ']}'\n",
    "    return query(peer,callopt,user=user)\n",
    "\n",
    "def getMSPID(peer):\n",
    "    callopt= '{\"function\":\"GetMSPID\",\"Args\":[' + ']}'\n",
    "    return query(peer,callopt)   \n",
    "\n",
    "\n",
    "def appendRole(peer,user='',role='Buyer'):\n",
    "    #print(getArgList([role,name]))\n",
    "    #callopt= '{\"function\":\"AppendRole\",\"Args\":' + getArgList([role,name]) + '}'\n",
    "    name = getSubmittingClientIdentity(peer, user=user)[:-1]\n",
    "    callopt= '{\"function\":\"AppendRole\",\"Args\":' + getArgList([name,role]) + '}'\n",
    "    return invoke(peer,callopt)\n",
    "\n",
    "def getRoles(peer,name=''):\n",
    "    #callopt= '{\"function\":\"GetRoles\",\"Args\":[' + ']}'\n",
    "    callopt= '{\"function\":\"GetRoles\",\"Args\":' + getArgList([name]) + '}'\n",
    "    return query(peer,callopt)\n",
    "\n",
    "def getAllRoles(peer):\n",
    "    callopt= '{\"function\":\"GetAllRoles\",\"Args\":[' + ']}'\n",
    "    return query(peer,callopt)\n",
    "\n",
    "\n"
   ]
  },
  {
   "cell_type": "markdown",
   "metadata": {},
   "source": [
    "### Enroll users"
   ]
  },
  {
   "cell_type": "code",
   "execution_count": 33,
   "metadata": {},
   "outputs": [],
   "source": [
    "import subprocess\n",
    "def downloadToLocal(host='10.15.136.41:30080',user='scray', pwd='scray',\n",
    "                    local_path='./', local_name='' ,remote_path='upload'):  \n",
    "    try:    \n",
    "        output = subprocess.check_output(['curl', '--user',user + ':' + pwd, \n",
    "                                               'http://' + host + '/' + remote_path + '/' + local_name, '-o', local_path + '/' + local_name])\n",
    "        #return str(callProcess)[3:-3]\n",
    "        return output.decode('ascii')\n",
    "    except Exception as e:\n",
    "        return str(e)     \n",
    "   \n",
    "\n",
    "def uploadFromLocal(host='10.15.136.41:30080',user='scray', pwd='scray',\n",
    "                    local_path='./', local_name='' ,remote_path='upload'):\n",
    "    try:    \n",
    "        output = subprocess.check_output(['curl', '--user',user + ':' + pwd, \n",
    "                                          '-T', local_path + '/' + local_name, \n",
    "                                          'http://' + host + '/' + remote_path + '/' + local_name])\n",
    "        return output.decode('ascii')\n",
    "    except Exception as e:\n",
    "        return str(e)   \n",
    "                    \n",
    "#downloadToLocal(local_path='./', local_name='org3_update_in_envelope.pb' ,remote_path='upload')\n",
    "\n",
    "def downloadToLocalCmdList(host='10.15.136.41:30080',user='scray', pwd='scray',\n",
    "                    local_path='./', remote_name='' ,remote_path='/'):  \n",
    "    return ['curl', '--user',user + ':' + pwd, 'http://' + host + '/' + remote_path + '/' + remote_name, '-o', local_path + '/' + remote_name]\n"
   ]
  },
  {
   "cell_type": "code",
   "execution_count": 631,
   "metadata": {},
   "outputs": [],
   "source": [
    "# download walletcreator to peers\n",
    "def uploadWalletToolToSharepoint():\n",
    "    uploadFromLocal(local_path='/home/jovyan/scray-ledger/tools/wallet-creator/target', local_name='wallet-creator-0.0.1-SNAPSHOT-jar-with-dependencies.jar' ,remote_path='/')\n",
    "    uploadFromLocal(local_path='/home/jovyan/scray-ledger/tools/wallet-creator', local_name='cert-creator.sh' ,remote_path='upload')\n",
    "\n",
    "def installPeerWalletTool(peer):\n",
    "    executePeerCmd(peer.pod_name,toCmd(downloadToLocalCmdList(local_path='/tmp', remote_name='wallet-creator-0.0.1-SNAPSHOT-jar-with-dependencies.jar'))) \n",
    "    #executePeerCmd(peer.pod_name,toCmd(downloadToLocalCmdList(local_path='/tmp', remote_name='cert-creator.sh'))) \n",
    "    executePeerCmd(peer.pod_name,'apk add openssl')\n",
    "    executePeerCmd(peer.pod_name,'apk add openjdk8-jre')\n",
    "    # chmod 755\n",
    "    \n",
    "def createPeerUser(peer,user, admin='admin',\n",
    "    cert='/mnt/conf/organizations/peerOrganizations/kubernetes.research.dev.seeburger.de/ca/ca.kubernetes.research.dev.seeburger.de-cert.pem',\n",
    "    key='/mnt/conf/organizations/peerOrganizations/kubernetes.research.dev.seeburger.de/ca/priv_sk'):\n",
    "        cmd = ['/tmp/cert-creator.sh','--cacert',cert,'--cakey',key,'--new-user-crt',user,'--organizational-unit',admin,\n",
    "               '--create-wallet','true','--wallet-creator-lib-path', '/tmp']\n",
    "        return executePeerCmd(peer.pod_name,toCmd(cmd))\n",
    "    \n",
    "def installWalletTool():\n",
    "    _out = widgets.Output()\n",
    "    with _out:\n",
    "        for key, peer in peers.items():\n",
    "            installPeerWalletTool(peer)\n",
    "            strlist = ['curl', 'https://raw.githubusercontent.com/scray/scray-ledger/develop/tools/wallet-creator/cert-creator.sh', '-o', '/tmp/cert-creator.sh']\n",
    "            cmd = toCmd(strlist)\n",
    "            print(cmd)\n",
    "            output = executePeerCmd(peer.pod_name,  cmd)\n",
    "            executePeerCmd(peer.pod_name,'chmod 755 /tmp/cert-creator.sh')\n",
    "            strlist = ['curl', 'https://raw.githubusercontent.com/scray/scray-ledger/develop/tools/wallet-creator/create-user.sh', '-o', '/tmp/create-user.sh']\n",
    "            cmd = toCmd(strlist)\n",
    "            print(cmd)\n",
    "            output = executePeerCmd(peer.pod_name,  cmd)\n",
    "            executePeerCmd(peer.pod_name,'chmod 755 /tmp/create-user.sh')\n",
    "    \n",
    "def addUser(peer,user):\n",
    "    _out = widgets.Output()\n",
    "    with _out:\n",
    "        strlist = ['/tmp/create-user.sh', user, peer.name + '.kubernetes.research.dev.seeburger.de']\n",
    "        cmd = toCmd(strlist)\n",
    "        print(cmd)\n",
    "        output = executePeerCmd(peer.pod_name, 'cd /tmp && ' + cmd)    "
   ]
  },
  {
   "cell_type": "code",
   "execution_count": 705,
   "metadata": {},
   "outputs": [],
   "source": [
    "installWalletTool()"
   ]
  },
  {
   "cell_type": "code",
   "execution_count": 677,
   "metadata": {},
   "outputs": [],
   "source": [
    "peer=peers[peernames[0]]\n",
    "addUser(peers[peernames[0]],'Tony.Dubois')    \n",
    "addUser(peers[peernames[0]],'Stephanie.Hoarau')\n",
    "addUser(peers[peernames[0]],'Alexandre.Payet')\n",
    "appendRole(peer,user='Tony.Dubois',role='Seller')\n",
    "appendRole(peer,user='Stephanie.Hoarau',role='Buyer')\n",
    "appendRole(peer,user='Alexandre.Payet',role='Buyer')\n",
    "\n",
    "peer=peers[peernames[1]]\n",
    "addUser(peers[peernames[1]],'Emma.Steiner')    \n",
    "appendRole(peer,user='Emma.Steiner',role='Factor')\n",
    "\n",
    "peer=peers[peernames[2]]\n",
    "addUser(peers[peernames[2]],'Pedro.Sanchez')  \n",
    "appendRole(peer,user='Pedro.Sanchez',role='Buyer')\n",
    "appendRole(peer,user='Pedro.Sanchez',role='Seller')\n",
    "\n",
    "peer=peers[peernames[3]]\n",
    "addUser(peers[peernames[3]],'Auguste.Boucher')   \n",
    "appendRole(peer,user='Auguste.Boucher',role='TaxInspector')"
   ]
  },
  {
   "cell_type": "code",
   "execution_count": 726,
   "metadata": {},
   "outputs": [
    {
     "data": {
      "text/plain": [
       "([{'name': '(x509::CN=Alexandre.Payet@babby-0.kubernetes.research.dev.seeburger.de,OU=admin,O=kubernetes.research.dev.seeburger.de::CN=ca.babby-0.kubernetes.research.dev.seeburger.de,O=babby-0.kubernetes.research.dev.seeburger.de,L=Bretten,ST=Baden,C=DEn,)',\n",
       "   'roles': ['Buyer']},\n",
       "  {'name': '(x509::CN=Auguste.Boucher@babby-3.kubernetes.research.dev.seeburger.de,OU=admin,O=kubernetes.research.dev.seeburger.de::CN=ca.babby-3.kubernetes.research.dev.seeburger.de,O=babby-3.kubernetes.research.dev.seeburger.de,L=Bretten,ST=Baden,C=DEn,)',\n",
       "   'roles': ['TaxInspector']},\n",
       "  {'name': '(x509::CN=Emma.Steiner@babby-1.kubernetes.research.dev.seeburger.de,OU=admin,O=kubernetes.research.dev.seeburger.de::CN=ca.babby-1.kubernetes.research.dev.seeburger.de,O=babby-1.kubernetes.research.dev.seeburger.de,L=Bretten,ST=Baden,C=DEn,)',\n",
       "   'roles': ['Factor']},\n",
       "  {'name': '(x509::CN=Pedro.Sanchez@babby-2.kubernetes.research.dev.seeburger.de,OU=admin,O=kubernetes.research.dev.seeburger.de::CN=ca.babby-2.kubernetes.research.dev.seeburger.de,O=babby-2.kubernetes.research.dev.seeburger.de,L=Bretten,ST=Baden,C=DEn,)',\n",
       "   'roles': ['Buyer', 'Seller']},\n",
       "  {'name': '(x509::CN=Stephanie.Hoarau@babby-0.kubernetes.research.dev.seeburger.de,OU=admin,O=kubernetes.research.dev.seeburger.de::CN=ca.babby-0.kubernetes.research.dev.seeburger.de,O=babby-0.kubernetes.research.dev.seeburger.de,L=Bretten,ST=Baden,C=DEn,)',\n",
       "   'roles': ['Buyer']},\n",
       "  {'name': '(x509::CN=Tony.Dubois@babby-0.kubernetes.research.dev.seeburger.de,OU=admin,O=kubernetes.research.dev.seeburger.de::CN=ca.babby-0.kubernetes.research.dev.seeburger.de,O=babby-0.kubernetes.research.dev.seeburger.de,L=Bretten,ST=Baden,C=DEn,)',\n",
       "   'roles': ['Buyer', 'Seller']}],\n",
       " Output())"
      ]
     },
     "execution_count": 726,
     "metadata": {},
     "output_type": "execute_result"
    }
   ],
   "source": [
    "getAllRoles(peer)"
   ]
  },
  {
   "cell_type": "code",
   "execution_count": 683,
   "metadata": {},
   "outputs": [
    {
     "data": {
      "text/plain": [
       "['x509::CN=Tony.Dubois@babby-0.kubernetes.research.dev.seeburger.de',\n",
       " 'OU=admin',\n",
       " 'O=kubernetes.research.dev.seeburger.de::CN=ca.babby-0.kubernetes.research.dev.seeburger.de',\n",
       " 'O=babby-0.kubernetes.research.dev.seeburger.de',\n",
       " 'L=Bretten',\n",
       " 'ST=Baden',\n",
       " 'C=DE']"
      ]
     },
     "execution_count": 683,
     "metadata": {},
     "output_type": "execute_result"
    }
   ],
   "source": [
    "getSubmittingClientIdentity(peers[peernames[0]], user='Tony.Dubois')[0][:-1].split(',')"
   ]
  },
  {
   "cell_type": "markdown",
   "metadata": {},
   "source": [
    "### Monitoring"
   ]
  },
  {
   "cell_type": "code",
   "execution_count": 676,
   "metadata": {},
   "outputs": [
    {
     "data": {
      "text/plain": [
       "{'babby-0': <__main__.kubernetespeer at 0x7fe3ccafa910>,\n",
       " 'babby-1': <__main__.kubernetespeer at 0x7fe3ccafa7c0>}"
      ]
     },
     "execution_count": 676,
     "metadata": {},
     "output_type": "execute_result"
    }
   ],
   "source": [
    "peers"
   ]
  },
  {
   "cell_type": "code",
   "execution_count": 624,
   "metadata": {},
   "outputs": [
    {
     "data": {
      "text/plain": [
       "[{'role': 'Buyer',\n",
       "  'transactions': ['main.(*SmartContract).ListInvoice',\n",
       "   'main.(*SmartContract).ListInvoices',\n",
       "   'main.(*SmartContract).ReceivedInvoice',\n",
       "   'main.(*SmartContract).ReceivedOrder']},\n",
       " {'role': 'Seller',\n",
       "  'transactions': ['main.(*SmartContract).ListInvoice',\n",
       "   'main.(*SmartContract).ListInvoices',\n",
       "   'main.(*SmartContract).CreateInvoice',\n",
       "   'main.(*SmartContract).TransferInvoice',\n",
       "   'main.(*SmartContract).ReceivedPayment']},\n",
       " {'role': 'Factor',\n",
       "  'transactions': ['main.(*SmartContract).ListInvoice',\n",
       "   'main.(*SmartContract).ListInvoices',\n",
       "   'main.(*SmartContract).TransferInvoice',\n",
       "   'main.(*SmartContract).ReceivedPayment']},\n",
       " {'role': 'TaxInspector',\n",
       "  'transactions': ['main.(*SmartContract).ListInvoice',\n",
       "   'main.(*SmartContract).ListInvoices',\n",
       "   'main.(*SmartContract).TaxReceived']}]"
      ]
     },
     "execution_count": 624,
     "metadata": {},
     "output_type": "execute_result"
    }
   ],
   "source": [
    "getRoleTransactions(peer)[0]"
   ]
  },
  {
   "cell_type": "code",
   "execution_count": 767,
   "metadata": {},
   "outputs": [
    {
     "data": {
      "text/plain": [
       "['asset14',\n",
       " 'asset21',\n",
       " 'roles_(x509::CN=Alexandre.Payet@babby-0.kubernetes.research.dev.seeburger.de,OU=admin,O=kubernetes.research.dev.seeburger.de::CN=ca.babby-0.kubernetes.research.dev.seeburger.de,O=babby-0.kubernetes.research.dev.seeburger.de,L=Bretten,ST=Baden,C=DEn,)',\n",
       " 'roles_(x509::CN=Auguste.Boucher@babby-3.kubernetes.research.dev.seeburger.de,OU=admin,O=kubernetes.research.dev.seeburger.de::CN=ca.babby-3.kubernetes.research.dev.seeburger.de,O=babby-3.kubernetes.research.dev.seeburger.de,L=Bretten,ST=Baden,C=DEn,)',\n",
       " 'roles_(x509::CN=Emma.Steiner@babby-1.kubernetes.research.dev.seeburger.de,OU=admin,O=kubernetes.research.dev.seeburger.de::CN=ca.babby-1.kubernetes.research.dev.seeburger.de,O=babby-1.kubernetes.research.dev.seeburger.de,L=Bretten,ST=Baden,C=DEn,)',\n",
       " 'roles_(x509::CN=Pedro.Sanchez@babby-2.kubernetes.research.dev.seeburger.de,OU=admin,O=kubernetes.research.dev.seeburger.de::CN=ca.babby-2.kubernetes.research.dev.seeburger.de,O=babby-2.kubernetes.research.dev.seeburger.de,L=Bretten,ST=Baden,C=DEn,)',\n",
       " 'roles_(x509::CN=Stephanie.Hoarau@babby-0.kubernetes.research.dev.seeburger.de,OU=admin,O=kubernetes.research.dev.seeburger.de::CN=ca.babby-0.kubernetes.research.dev.seeburger.de,O=babby-0.kubernetes.research.dev.seeburger.de,L=Bretten,ST=Baden,C=DEn,)',\n",
       " 'roles_(x509::CN=Tony.Dubois@babby-0.kubernetes.research.dev.seeburger.de,OU=admin,O=kubernetes.research.dev.seeburger.de::CN=ca.babby-0.kubernetes.research.dev.seeburger.de,O=babby-0.kubernetes.research.dev.seeburger.de,L=Bretten,ST=Baden,C=DEn,)']"
      ]
     },
     "execution_count": 767,
     "metadata": {},
     "output_type": "execute_result"
    }
   ],
   "source": [
    "keys = getAllKeys(peer)[0]\n",
    "keys"
   ]
  },
  {
   "cell_type": "code",
   "execution_count": 623,
   "metadata": {},
   "outputs": [
    {
     "data": {
      "text/plain": [
       "''"
      ]
     },
     "execution_count": 623,
     "metadata": {},
     "output_type": "execute_result"
    }
   ],
   "source": [
    "getAllRoles(peer)[0][:-1]\n",
    "#getRoles(peer,name=name)"
   ]
  },
  {
   "cell_type": "code",
   "execution_count": 448,
   "metadata": {},
   "outputs": [],
   "source": [
    "def getPeerUsers(peer):\n",
    "    strlist = ['/bin/ls',  '/mnt/conf/organizations/peerOrganizations/' + peer.name + '.kubernetes.research.dev.seeburger.de/users/']\n",
    "    print(toCmd(strlist))\n",
    "    users=[]\n",
    "    lines=executePeerCmd(peer.pod_name,toCmd(strlist)).splitlines() \n",
    "    for line in lines:\n",
    "        users.append(line.split('@')[0])\n",
    "    return users"
   ]
  },
  {
   "cell_type": "code",
   "execution_count": 697,
   "metadata": {},
   "outputs": [
    {
     "name": "stdout",
     "output_type": "stream",
     "text": [
      "/bin/ls /mnt/conf/organizations/peerOrganizations/babby-1.kubernetes.research.dev.seeburger.de/users/\n",
      "/home/jovyan/work/usr/bin/kubectl exec -t babby-1-56f9fc8dcd-r7ggz -c scray-peer-cli -- /bin/sh -c /bin/ls /mnt/conf/organizations/peerOrganizations/babby-1.kubernetes.research.dev.seeburger.de/users/\n"
     ]
    },
    {
     "data": {
      "text/plain": [
       "['Admin',\n",
       " 'Emma.Steiner',\n",
       " 'User1',\n",
       " 'User2',\n",
       " 'User3',\n",
       " 'ben',\n",
       " 'harry',\n",
       " 'sepp',\n",
       " 'tom']"
      ]
     },
     "execution_count": 697,
     "metadata": {},
     "output_type": "execute_result"
    }
   ],
   "source": [
    "getPeerUsers(peers[peernames[1]])\n"
   ]
  },
  {
   "cell_type": "code",
   "execution_count": 690,
   "metadata": {},
   "outputs": [
    {
     "name": "stdout",
     "output_type": "stream",
     "text": [
      "/bin/ls /mnt/conf/organizations/peerOrganizations/babby-1.kubernetes.research.dev.seeburger.de/users/\n",
      "/home/jovyan/work/usr/bin/kubectl exec -t babby-0-7d7bcd4f45-5p57x -c scray-peer-cli -- /bin/sh -c /bin/ls /mnt/conf/organizations/peerOrganizations/babby-1.kubernetes.research.dev.seeburger.de/users/\n"
     ]
    },
    {
     "name": "stderr",
     "output_type": "stream",
     "text": [
      "ls: /mnt/conf/organizations/peerOrganizations/babby-1.kubernetes.research.dev.seeburger.de/users/: No such file or directory\n",
      "command terminated with exit code 1\n"
     ]
    }
   ],
   "source": [
    "strlist = ['/bin/ls',  '/mnt/conf/organizations/peerOrganizations/' + peer.name + '.kubernetes.research.dev.seeburger.de/users/']\n",
    "print(toCmd(strlist))\n",
    "users=[]\n",
    "lines=executePeerCmd(peers[peernames[0]].pod_name,toCmd(strlist)).splitlines() "
   ]
  },
  {
   "cell_type": "code",
   "execution_count": 692,
   "metadata": {},
   "outputs": [
    {
     "data": {
      "text/plain": [
       "'babby-0-7d7bcd4f45-5p57x'"
      ]
     },
     "execution_count": 692,
     "metadata": {},
     "output_type": "execute_result"
    }
   ],
   "source": [
    "peers[peernames[0]].pod_name"
   ]
  },
  {
   "cell_type": "code",
   "execution_count": 580,
   "metadata": {},
   "outputs": [
    {
     "data": {
      "text/plain": [
       "'x509::CN=ben@babby-1.kubernetes.research.dev.seeburger.de,OU=client,L=Bretten,ST=Baden,C=DE::CN=ca.babby-1.kubernetes.research.dev.seeburger.de,O=babby-1.kubernetes.research.dev.seeburger.de,L=Bretten,ST=Baden,C=DE'"
      ]
     },
     "execution_count": 580,
     "metadata": {},
     "output_type": "execute_result"
    }
   ],
   "source": [
    "#getSubmittingClientIdentity(peers[peernames[1]],user='ben')[0]\n",
    "\n",
    "get_certificate_string(peernames[1],user='ben')"
   ]
  },
  {
   "cell_type": "code",
   "execution_count": 685,
   "metadata": {},
   "outputs": [
    {
     "data": {
      "text/plain": [
       "('x509::CN=User1@babby-1.kubernetes.research.dev.seeburger.de',\n",
       " 'OU=client',\n",
       " 'babby-1MSP')"
      ]
     },
     "execution_count": 685,
     "metadata": {},
     "output_type": "execute_result"
    }
   ],
   "source": [
    "name = getSubmittingClientIdentity(peer)[0][:-1].split(',')[0]\n",
    "group=getSubmittingClientIdentity(peer)[0][:-1].split(',')[1]\n",
    "msp=getMSPID(peers[peernames[1]])[0][:-1]\n",
    "\n",
    "name,group,msp"
   ]
  },
  {
   "cell_type": "code",
   "execution_count": null,
   "metadata": {},
   "outputs": [],
   "source": []
  },
  {
   "cell_type": "markdown",
   "metadata": {},
   "source": [
    "### create invoice"
   ]
  },
  {
   "cell_type": "code",
   "execution_count": 405,
   "metadata": {},
   "outputs": [
    {
     "data": {
      "text/plain": [
       "'x509::CN=User1@aabby-1.kubernetes.research.dev.seeburger.de,OU=client,L=Bretten,ST=Baden,C=DE::CN=ca.aabby-1.kubernetes.research.dev.seeburger.de,O=aabby-1.kubernetes.research.dev.seeburger.de,L=Bretten,ST=Baden,C=DE'"
      ]
     },
     "execution_count": 405,
     "metadata": {},
     "output_type": "execute_result"
    }
   ],
   "source": [
    "get_certificate_string(peernames[1])"
   ]
  },
  {
   "cell_type": "code",
   "execution_count": 770,
   "metadata": {},
   "outputs": [],
   "source": [
    "peer = peers[peernames[0]]\n",
    "asset = getEmptyInvoice(peer)[0]\n",
    "asset['ID']='asset21'\n",
    "asset['owner'] = getSubmittingClientIdentity(peers[peernames[0]], user='Tony.Dubois')[0]\n",
    "#asset['buyer'] = getAllRoles(peer)[0][2]['name']\n",
    "#asset['buyer'] = get_certificate_string(peernames[1],user='ben')\n",
    "asset['buyer'] = getSubmittingClientIdentity(peers[peernames[1]],user='ben')[0][:-1]\n",
    "#asset['buyer'] = get_certificate_string(peernames[0])\n",
    "#createInvoice(peer,getArgList(asset))[1]\n",
    "#createInvoice(peer,getArgList(asset))"
   ]
  },
  {
   "cell_type": "code",
   "execution_count": 861,
   "metadata": {},
   "outputs": [
    {
     "data": {
      "application/vnd.jupyter.widget-view+json": {
       "model_id": "fe5b18d57f0a44e98bfe1437fc010e60",
       "version_major": 2,
       "version_minor": 0
      },
      "text/plain": [
       "Output()"
      ]
     },
     "metadata": {},
     "output_type": "display_data"
    }
   ],
   "source": [
    "deleteAsset(peer,asset='asset16')[1]"
   ]
  },
  {
   "cell_type": "code",
   "execution_count": 762,
   "metadata": {},
   "outputs": [
    {
     "data": {
      "text/plain": [
       "'x509::CN=User1@babby-0.kubernetes.research.dev.seeburger.de,OU=client,L=Bretten,ST=Baden,C=DE::CN=ca.babby-0.kubernetes.research.dev.seeburger.de,O=babby-0.kubernetes.research.dev.seeburger.de,L=Bretten,ST=Baden,C=DE\\n'"
      ]
     },
     "execution_count": 762,
     "metadata": {},
     "output_type": "execute_result"
    }
   ],
   "source": [
    "getSubmittingClientIdentity(peers[peernames[0]], user='User1')[0]"
   ]
  },
  {
   "cell_type": "code",
   "execution_count": 778,
   "metadata": {},
   "outputs": [],
   "source": [
    "import unicodedata\n",
    "def strip_accents(s):\n",
    "    return ''.join(c for c in unicodedata.normalize('NFD', s)\n",
    "                  if unicodedata.category(c) != 'Mn')"
   ]
  },
  {
   "cell_type": "code",
   "execution_count": 849,
   "metadata": {},
   "outputs": [
    {
     "data": {
      "text/plain": [
       "['asset14',\n",
       " 'asset17',\n",
       " 'asset3',\n",
       " 'asset6',\n",
       " 'roles_(x509::CN=Alexandre.Payet@babby-0.kubernetes.research.dev.seeburger.de,OU=admin,O=kubernetes.research.dev.seeburger.de::CN=ca.babby-0.kubernetes.research.dev.seeburger.de,O=babby-0.kubernetes.research.dev.seeburger.de,L=Bretten,ST=Baden,C=DEn,)',\n",
       " 'roles_(x509::CN=Auguste.Boucher@babby-3.kubernetes.research.dev.seeburger.de,OU=admin,O=kubernetes.research.dev.seeburger.de::CN=ca.babby-3.kubernetes.research.dev.seeburger.de,O=babby-3.kubernetes.research.dev.seeburger.de,L=Bretten,ST=Baden,C=DEn,)',\n",
       " 'roles_(x509::CN=Emma.Steiner@babby-1.kubernetes.research.dev.seeburger.de,OU=admin,O=kubernetes.research.dev.seeburger.de::CN=ca.babby-1.kubernetes.research.dev.seeburger.de,O=babby-1.kubernetes.research.dev.seeburger.de,L=Bretten,ST=Baden,C=DEn,)',\n",
       " 'roles_(x509::CN=Pedro.Sanchez@babby-2.kubernetes.research.dev.seeburger.de,OU=admin,O=kubernetes.research.dev.seeburger.de::CN=ca.babby-2.kubernetes.research.dev.seeburger.de,O=babby-2.kubernetes.research.dev.seeburger.de,L=Bretten,ST=Baden,C=DEn,)',\n",
       " 'roles_(x509::CN=Stephanie.Hoarau@babby-0.kubernetes.research.dev.seeburger.de,OU=admin,O=kubernetes.research.dev.seeburger.de::CN=ca.babby-0.kubernetes.research.dev.seeburger.de,O=babby-0.kubernetes.research.dev.seeburger.de,L=Bretten,ST=Baden,C=DEn,)',\n",
       " 'roles_(x509::CN=Tony.Dubois@babby-0.kubernetes.research.dev.seeburger.de,OU=admin,O=kubernetes.research.dev.seeburger.de::CN=ca.babby-0.kubernetes.research.dev.seeburger.de,O=babby-0.kubernetes.research.dev.seeburger.de,L=Bretten,ST=Baden,C=DEn,)']"
      ]
     },
     "execution_count": 849,
     "metadata": {},
     "output_type": "execute_result"
    }
   ],
   "source": [
    "keys = getAllKeys(peer)[0]\n",
    "keys"
   ]
  },
  {
   "cell_type": "code",
   "execution_count": 915,
   "metadata": {},
   "outputs": [],
   "source": [
    "keys = getAllKeys(peer)[0]\n",
    "for key in keys:\n",
    "    if key.startswith('asset'):\n",
    "        deleteAsset(peer,asset=key)[1]"
   ]
  },
  {
   "cell_type": "code",
   "execution_count": 918,
   "metadata": {},
   "outputs": [
    {
     "name": "stdout",
     "output_type": "stream",
     "text": [
      "16 Tony.Dubois Pedro.Sanchez asset16\n",
      "/bin/ls /mnt/conf/organizations/peerOrganizations/babby-0.kubernetes.research.dev.seeburger.de/users/\n",
      "/home/jovyan/work/usr/bin/kubectl exec -t babby-0-7d7bcd4f45-5p57x -c scray-peer-cli -- /bin/sh -c /bin/ls /mnt/conf/organizations/peerOrganizations/babby-0.kubernetes.research.dev.seeburger.de/users/\n",
      "/bin/ls /mnt/conf/organizations/peerOrganizations/babby-0.kubernetes.research.dev.seeburger.de/users/\n",
      "/home/jovyan/work/usr/bin/kubectl exec -t babby-0-7d7bcd4f45-5p57x -c scray-peer-cli -- /bin/sh -c /bin/ls /mnt/conf/organizations/peerOrganizations/babby-0.kubernetes.research.dev.seeburger.de/users/\n",
      "/bin/ls /mnt/conf/organizations/peerOrganizations/babby-1.kubernetes.research.dev.seeburger.de/users/\n",
      "/home/jovyan/work/usr/bin/kubectl exec -t babby-1-56f9fc8dcd-r7ggz -c scray-peer-cli -- /bin/sh -c /bin/ls /mnt/conf/organizations/peerOrganizations/babby-1.kubernetes.research.dev.seeburger.de/users/\n",
      "/bin/ls /mnt/conf/organizations/peerOrganizations/babby-2.kubernetes.research.dev.seeburger.de/users/\n",
      "/home/jovyan/work/usr/bin/kubectl exec -t babby-2-97b65984c-bvldw -c scray-peer-cli -- /bin/sh -c /bin/ls /mnt/conf/organizations/peerOrganizations/babby-2.kubernetes.research.dev.seeburger.de/users/\n"
     ]
    },
    {
     "data": {
      "text/plain": [
       "{'ID': 'asset16',\n",
       " 'owner': 'x509::CN=Tony.Dubois@babby-0.kubernetes.research.dev.seeburger.de,OU=admin,O=kubernetes.research.dev.seeburger.de::CN=ca.babby-0.kubernetes.research.dev.seeburger.de,O=babby-0.kubernetes.research.dev.seeburger.de,L=Bretten,ST=Baden,C=DE',\n",
       " 'buyer': 'x509::CN=Pedro.Sanchez@babby-2.kubernetes.research.dev.seeburger.de,OU=admin,O=kubernetes.research.dev.seeburger.de::CN=ca.babby-2.kubernetes.research.dev.seeburger.de,O=babby-2.kubernetes.research.dev.seeburger.de,L=Bretten,ST=Baden,C=DE',\n",
       " 'hash': -1288978081679803368,\n",
       " 'invoiceNumber': 'FA-2017-0008',\n",
       " 'tax': '0.00',\n",
       " 'netto': '2076.76',\n",
       " 'countryOrigin': 'FR',\n",
       " 'countryBuyer': 'ES',\n",
       " 'status': '',\n",
       " 'received': True,\n",
       " 'receivedOrder': True,\n",
       " 'sold': False,\n",
       " 'claimPaid': False,\n",
       " 'claimPaidBy': '',\n",
       " 'taxExemptionReason': 'French VAT exemption according to articles 262 ter I (for products) and/or 283-2 (for services) of \"CGI\"',\n",
       " 'taxReceived': False}"
      ]
     },
     "execution_count": 918,
     "metadata": {},
     "output_type": "execute_result"
    }
   ],
   "source": [
    "i=16\n",
    "invoice = invoices.iloc[16]\n",
    "seller = strip_accents(getPathValue(invoice,'/supplyChainTradeTransaction/applicableHeaderTradeAgreement/sellerTradeParty/definedTradeContact/')[0]['personName']['value'].replace(' ','.'))\n",
    "buyer = strip_accents(getPathValue(invoice,'/supplyChainTradeTransaction/applicableHeaderTradeAgreement/buyerTradeParty/definedTradeContact/')[0]['personName']['value'].replace(' ','.'))\n",
    "print(i,seller,buyer,'asset'+str(i))\n",
    "update_invoice(id=i,seller=seller,buyer=buyer)\n",
    "#createInvoice(get_peer_of_user(seller),getArgList(asset),user=seller)[1]\n",
    "asset"
   ]
  },
  {
   "cell_type": "code",
   "execution_count": 919,
   "metadata": {},
   "outputs": [
    {
     "name": "stdout",
     "output_type": "stream",
     "text": [
      "/bin/ls /mnt/conf/organizations/peerOrganizations/babby-0.kubernetes.research.dev.seeburger.de/users/\n",
      "/home/jovyan/work/usr/bin/kubectl exec -t babby-0-7d7bcd4f45-5p57x -c scray-peer-cli -- /bin/sh -c /bin/ls /mnt/conf/organizations/peerOrganizations/babby-0.kubernetes.research.dev.seeburger.de/users/\n"
     ]
    },
    {
     "data": {
      "application/vnd.jupyter.widget-view+json": {
       "model_id": "b8187c5ccb2949ca8b0dc7bfc73f1ce9",
       "version_major": 2,
       "version_minor": 0
      },
      "text/plain": [
       "Output()"
      ]
     },
     "metadata": {},
     "output_type": "display_data"
    }
   ],
   "source": [
    "asset['taxExemptionReason']='French VAT exemption according to articles 262 ter I (for products) and/or 283-2 (for services) of CGI'\n",
    "createInvoice(get_peer_of_user(seller),getArgList(asset),user=seller)[1]"
   ]
  },
  {
   "cell_type": "code",
   "execution_count": 916,
   "metadata": {},
   "outputs": [
    {
     "name": "stdout",
     "output_type": "stream",
     "text": [
      "/bin/ls /mnt/conf/organizations/peerOrganizations/babby-0.kubernetes.research.dev.seeburger.de/users/\n",
      "/home/jovyan/work/usr/bin/kubectl exec -t babby-0-7d7bcd4f45-5p57x -c scray-peer-cli -- /bin/sh -c /bin/ls /mnt/conf/organizations/peerOrganizations/babby-0.kubernetes.research.dev.seeburger.de/users/\n",
      "/bin/ls /mnt/conf/organizations/peerOrganizations/babby-0.kubernetes.research.dev.seeburger.de/users/\n",
      "/home/jovyan/work/usr/bin/kubectl exec -t babby-0-7d7bcd4f45-5p57x -c scray-peer-cli -- /bin/sh -c /bin/ls /mnt/conf/organizations/peerOrganizations/babby-0.kubernetes.research.dev.seeburger.de/users/\n",
      "{'ID': 'asset3', 'owner': 'x509::CN=Tony.Dubois@babby-0.kubernetes.research.dev.seeburger.de,OU=admin,O=kubernetes.research.dev.seeburger.de::CN=ca.babby-0.kubernetes.research.dev.seeburger.de,O=babby-0.kubernetes.research.dev.seeburger.de,L=Bretten,ST=Baden,C=DE', 'buyer': 'x509::CN=Alexandre.Payet@babby-0.kubernetes.research.dev.seeburger.de,OU=admin,O=kubernetes.research.dev.seeburger.de::CN=ca.babby-0.kubernetes.research.dev.seeburger.de,O=babby-0.kubernetes.research.dev.seeburger.de,L=Bretten,ST=Baden,C=DE', 'hash': 1946281448453785039, 'invoiceNumber': 'AV-2017-0005', 'tax': '14.99', 'netto': '218.48', 'countryOrigin': 'FR', 'countryBuyer': 'FR', 'status': '', 'received': True, 'receivedOrder': True, 'sold': False, 'claimPaid': False, 'claimPaidBy': '', 'taxExemptionReason': '', 'taxReceived': False}\n",
      "/bin/ls /mnt/conf/organizations/peerOrganizations/babby-0.kubernetes.research.dev.seeburger.de/users/\n",
      "/home/jovyan/work/usr/bin/kubectl exec -t babby-0-7d7bcd4f45-5p57x -c scray-peer-cli -- /bin/sh -c /bin/ls /mnt/conf/organizations/peerOrganizations/babby-0.kubernetes.research.dev.seeburger.de/users/\n",
      "/bin/ls /mnt/conf/organizations/peerOrganizations/babby-0.kubernetes.research.dev.seeburger.de/users/\n",
      "/home/jovyan/work/usr/bin/kubectl exec -t babby-0-7d7bcd4f45-5p57x -c scray-peer-cli -- /bin/sh -c /bin/ls /mnt/conf/organizations/peerOrganizations/babby-0.kubernetes.research.dev.seeburger.de/users/\n",
      "/bin/ls /mnt/conf/organizations/peerOrganizations/babby-0.kubernetes.research.dev.seeburger.de/users/\n",
      "/home/jovyan/work/usr/bin/kubectl exec -t babby-0-7d7bcd4f45-5p57x -c scray-peer-cli -- /bin/sh -c /bin/ls /mnt/conf/organizations/peerOrganizations/babby-0.kubernetes.research.dev.seeburger.de/users/\n",
      "{'ID': 'asset6', 'owner': 'x509::CN=Tony.Dubois@babby-0.kubernetes.research.dev.seeburger.de,OU=admin,O=kubernetes.research.dev.seeburger.de::CN=ca.babby-0.kubernetes.research.dev.seeburger.de,O=babby-0.kubernetes.research.dev.seeburger.de,L=Bretten,ST=Baden,C=DE', 'buyer': 'x509::CN=Alexandre.Payet@babby-0.kubernetes.research.dev.seeburger.de,OU=admin,O=kubernetes.research.dev.seeburger.de::CN=ca.babby-0.kubernetes.research.dev.seeburger.de,O=babby-0.kubernetes.research.dev.seeburger.de,L=Bretten,ST=Baden,C=DE', 'hash': 8856936673140304143, 'invoiceNumber': 'FA-2017-0010', 'tax': '46.25', 'netto': '624.90', 'countryOrigin': 'FR', 'countryBuyer': 'FR', 'status': '', 'received': True, 'receivedOrder': True, 'sold': False, 'claimPaid': False, 'claimPaidBy': '', 'taxExemptionReason': '', 'taxReceived': False}\n",
      "/bin/ls /mnt/conf/organizations/peerOrganizations/babby-0.kubernetes.research.dev.seeburger.de/users/\n",
      "/home/jovyan/work/usr/bin/kubectl exec -t babby-0-7d7bcd4f45-5p57x -c scray-peer-cli -- /bin/sh -c /bin/ls /mnt/conf/organizations/peerOrganizations/babby-0.kubernetes.research.dev.seeburger.de/users/\n",
      "/bin/ls /mnt/conf/organizations/peerOrganizations/babby-0.kubernetes.research.dev.seeburger.de/users/\n",
      "/home/jovyan/work/usr/bin/kubectl exec -t babby-0-7d7bcd4f45-5p57x -c scray-peer-cli -- /bin/sh -c /bin/ls /mnt/conf/organizations/peerOrganizations/babby-0.kubernetes.research.dev.seeburger.de/users/\n",
      "/bin/ls /mnt/conf/organizations/peerOrganizations/babby-0.kubernetes.research.dev.seeburger.de/users/\n",
      "/home/jovyan/work/usr/bin/kubectl exec -t babby-0-7d7bcd4f45-5p57x -c scray-peer-cli -- /bin/sh -c /bin/ls /mnt/conf/organizations/peerOrganizations/babby-0.kubernetes.research.dev.seeburger.de/users/\n",
      "{'ID': 'asset14', 'owner': 'x509::CN=Tony.Dubois@babby-0.kubernetes.research.dev.seeburger.de,OU=admin,O=kubernetes.research.dev.seeburger.de::CN=ca.babby-0.kubernetes.research.dev.seeburger.de,O=babby-0.kubernetes.research.dev.seeburger.de,L=Bretten,ST=Baden,C=DE', 'buyer': 'x509::CN=Stephanie.Hoarau@babby-0.kubernetes.research.dev.seeburger.de,OU=admin,O=kubernetes.research.dev.seeburger.de::CN=ca.babby-0.kubernetes.research.dev.seeburger.de,O=babby-0.kubernetes.research.dev.seeburger.de,L=Bretten,ST=Baden,C=DE', 'hash': -3344848581644188280, 'invoiceNumber': 'FA-2017-0009', 'tax': '0.00', 'netto': '530.75', 'countryOrigin': 'FR', 'countryBuyer': 'RE', 'status': '', 'received': True, 'receivedOrder': True, 'sold': False, 'claimPaid': False, 'claimPaidBy': '', 'taxExemptionReason': 'Exoneration de TVA selon article 262 I du Code general des impots', 'taxReceived': False}\n",
      "/bin/ls /mnt/conf/organizations/peerOrganizations/babby-0.kubernetes.research.dev.seeburger.de/users/\n",
      "/home/jovyan/work/usr/bin/kubectl exec -t babby-0-7d7bcd4f45-5p57x -c scray-peer-cli -- /bin/sh -c /bin/ls /mnt/conf/organizations/peerOrganizations/babby-0.kubernetes.research.dev.seeburger.de/users/\n",
      "/bin/ls /mnt/conf/organizations/peerOrganizations/babby-0.kubernetes.research.dev.seeburger.de/users/\n",
      "/home/jovyan/work/usr/bin/kubectl exec -t babby-0-7d7bcd4f45-5p57x -c scray-peer-cli -- /bin/sh -c /bin/ls /mnt/conf/organizations/peerOrganizations/babby-0.kubernetes.research.dev.seeburger.de/users/\n",
      "/bin/ls /mnt/conf/organizations/peerOrganizations/babby-0.kubernetes.research.dev.seeburger.de/users/\n",
      "/home/jovyan/work/usr/bin/kubectl exec -t babby-0-7d7bcd4f45-5p57x -c scray-peer-cli -- /bin/sh -c /bin/ls /mnt/conf/organizations/peerOrganizations/babby-0.kubernetes.research.dev.seeburger.de/users/\n",
      "/bin/ls /mnt/conf/organizations/peerOrganizations/babby-1.kubernetes.research.dev.seeburger.de/users/\n",
      "/home/jovyan/work/usr/bin/kubectl exec -t babby-1-56f9fc8dcd-r7ggz -c scray-peer-cli -- /bin/sh -c /bin/ls /mnt/conf/organizations/peerOrganizations/babby-1.kubernetes.research.dev.seeburger.de/users/\n",
      "/bin/ls /mnt/conf/organizations/peerOrganizations/babby-2.kubernetes.research.dev.seeburger.de/users/\n",
      "/home/jovyan/work/usr/bin/kubectl exec -t babby-2-97b65984c-bvldw -c scray-peer-cli -- /bin/sh -c /bin/ls /mnt/conf/organizations/peerOrganizations/babby-2.kubernetes.research.dev.seeburger.de/users/\n",
      "{'ID': 'asset16', 'owner': 'x509::CN=Tony.Dubois@babby-0.kubernetes.research.dev.seeburger.de,OU=admin,O=kubernetes.research.dev.seeburger.de::CN=ca.babby-0.kubernetes.research.dev.seeburger.de,O=babby-0.kubernetes.research.dev.seeburger.de,L=Bretten,ST=Baden,C=DE', 'buyer': 'x509::CN=Pedro.Sanchez@babby-2.kubernetes.research.dev.seeburger.de,OU=admin,O=kubernetes.research.dev.seeburger.de::CN=ca.babby-2.kubernetes.research.dev.seeburger.de,O=babby-2.kubernetes.research.dev.seeburger.de,L=Bretten,ST=Baden,C=DE', 'hash': -1288978081679803368, 'invoiceNumber': 'FA-2017-0008', 'tax': '0.00', 'netto': '2076.76', 'countryOrigin': 'FR', 'countryBuyer': 'ES', 'status': '', 'received': True, 'receivedOrder': True, 'sold': False, 'claimPaid': False, 'claimPaidBy': '', 'taxExemptionReason': 'French VAT exemption according to articles 262 ter I (for products) and/or 283-2 (for services) of \"CGI\"', 'taxReceived': False}\n",
      "/bin/ls /mnt/conf/organizations/peerOrganizations/babby-0.kubernetes.research.dev.seeburger.de/users/\n",
      "/home/jovyan/work/usr/bin/kubectl exec -t babby-0-7d7bcd4f45-5p57x -c scray-peer-cli -- /bin/sh -c /bin/ls /mnt/conf/organizations/peerOrganizations/babby-0.kubernetes.research.dev.seeburger.de/users/\n",
      "/bin/ls /mnt/conf/organizations/peerOrganizations/babby-0.kubernetes.research.dev.seeburger.de/users/\n",
      "/home/jovyan/work/usr/bin/kubectl exec -t babby-0-7d7bcd4f45-5p57x -c scray-peer-cli -- /bin/sh -c /bin/ls /mnt/conf/organizations/peerOrganizations/babby-0.kubernetes.research.dev.seeburger.de/users/\n",
      "/bin/ls /mnt/conf/organizations/peerOrganizations/babby-0.kubernetes.research.dev.seeburger.de/users/\n",
      "/home/jovyan/work/usr/bin/kubectl exec -t babby-0-7d7bcd4f45-5p57x -c scray-peer-cli -- /bin/sh -c /bin/ls /mnt/conf/organizations/peerOrganizations/babby-0.kubernetes.research.dev.seeburger.de/users/\n",
      "{'ID': 'asset17', 'owner': 'x509::CN=Tony.Dubois@babby-0.kubernetes.research.dev.seeburger.de,OU=admin,O=kubernetes.research.dev.seeburger.de::CN=ca.babby-0.kubernetes.research.dev.seeburger.de,O=babby-0.kubernetes.research.dev.seeburger.de,L=Bretten,ST=Baden,C=DE', 'buyer': 'x509::CN=Alexandre.Payet@babby-0.kubernetes.research.dev.seeburger.de,OU=admin,O=kubernetes.research.dev.seeburger.de::CN=ca.babby-0.kubernetes.research.dev.seeburger.de,O=babby-0.kubernetes.research.dev.seeburger.de,L=Bretten,ST=Baden,C=DE', 'hash': -2923879829837918372, 'invoiceNumber': 'AV-2017-0005', 'tax': '-14.99', 'netto': '-218.48', 'countryOrigin': 'FR', 'countryBuyer': 'FR', 'status': '', 'received': True, 'receivedOrder': True, 'sold': False, 'claimPaid': False, 'claimPaidBy': '', 'taxExemptionReason': '', 'taxReceived': False}\n",
      "/bin/ls /mnt/conf/organizations/peerOrganizations/babby-0.kubernetes.research.dev.seeburger.de/users/\n",
      "/home/jovyan/work/usr/bin/kubectl exec -t babby-0-7d7bcd4f45-5p57x -c scray-peer-cli -- /bin/sh -c /bin/ls /mnt/conf/organizations/peerOrganizations/babby-0.kubernetes.research.dev.seeburger.de/users/\n"
     ]
    }
   ],
   "source": [
    "for i in range(0,20):\n",
    "    try:\n",
    "        invoice = invoices.iloc[i]\n",
    "        seller = strip_accents(getPathValue(invoice,'/supplyChainTradeTransaction/applicableHeaderTradeAgreement/sellerTradeParty/definedTradeContact/')[0]['personName']['value'].replace(' ','.'))\n",
    "        buyer = strip_accents(getPathValue(invoice,'/supplyChainTradeTransaction/applicableHeaderTradeAgreement/buyerTradeParty/definedTradeContact/')[0]['personName']['value'].replace(' ','.'))\n",
    "        #print(i,seller,buyer,'asset'+str(i))\n",
    "        update_invoice(id=i,seller=seller,buyer=buyer)\n",
    "        print(asset)\n",
    "        createInvoice(get_peer_of_user(seller),getArgList(asset),user=seller)[0]\n",
    "    except Exception as e:\n",
    "        pass"
   ]
  },
  {
   "cell_type": "code",
   "execution_count": 822,
   "metadata": {},
   "outputs": [],
   "source": [
    "def get_peer_of_user(user):\n",
    "    for key,peer in peers.items():\n",
    "        if user in getPeerUsers(peer):\n",
    "            return peer"
   ]
  },
  {
   "cell_type": "code",
   "execution_count": null,
   "metadata": {},
   "outputs": [],
   "source": []
  },
  {
   "cell_type": "code",
   "execution_count": 813,
   "metadata": {},
   "outputs": [
    {
     "data": {
      "text/plain": [
       "{'babby-0': <__main__.kubernetespeer at 0x7fe3ccafa910>,\n",
       " 'babby-1': <__main__.kubernetespeer at 0x7fe3ccafa7c0>,\n",
       " 'babby-2': <__main__.kubernetespeer at 0x7fe3cd78e9d0>,\n",
       " 'babby-3': <__main__.kubernetespeer at 0x7fe3cc9bd9d0>}"
      ]
     },
     "execution_count": 813,
     "metadata": {},
     "output_type": "execute_result"
    }
   ],
   "source": [
    "peers"
   ]
  },
  {
   "cell_type": "code",
   "execution_count": 846,
   "metadata": {},
   "outputs": [],
   "source": [
    "def update_invoice(id=None,seller='Tony.Dubois',buyer='Stephanie.Hoarau'):\n",
    "    assign_invoice_to_asset(invoices.iloc[id],asset)\n",
    "    asset['ID']='asset' + str(id)\n",
    "    asset['owner'] = getSubmittingClientIdentity(get_peer_of_user(seller), user=seller)[0][:-1]\n",
    "    asset['buyer'] = getSubmittingClientIdentity(get_peer_of_user(buyer), user=buyer)[0][:-1]\n",
    "    asset['taxExemptionReason'] = strip_accents(asset['taxExemptionReason'])"
   ]
  },
  {
   "cell_type": "code",
   "execution_count": 782,
   "metadata": {},
   "outputs": [
    {
     "data": {
      "application/vnd.jupyter.widget-view+json": {
       "model_id": "dbbd8921d9014ed5988137f92d9f0b6e",
       "version_major": 2,
       "version_minor": 0
      },
      "text/plain": [
       "Output()"
      ]
     },
     "metadata": {},
     "output_type": "display_data"
    }
   ],
   "source": [
    "\n",
    "    \n",
    "createInvoice(peer,getArgList(asset),user='Tony.Dubois')[1]"
   ]
  },
  {
   "cell_type": "code",
   "execution_count": null,
   "metadata": {},
   "outputs": [],
   "source": [
    "getPathValue(invoices.iloc[14],'/supplyChainTradeTransaction/applicableHeaderTradeAgreement/sellerTradeParty/definedTradeContact/')[0]['personName']['value']\n",
    "getPathValue(invoices.iloc[14],'/supplyChainTradeTransaction/applicableHeaderTradeAgreement/buyerTradeParty/definedTradeContact/')[0]['personName']['value']"
   ]
  },
  {
   "cell_type": "markdown",
   "metadata": {},
   "source": [
    "### list"
   ]
  },
  {
   "cell_type": "code",
   "execution_count": 920,
   "metadata": {},
   "outputs": [
    {
     "data": {
      "text/plain": [
       "[{'Key': 'asset14',\n",
       "  'Record': {'ID': 'asset14',\n",
       "   'owner': 'x509::CN=Tony.Dubois@babby-0.kubernetes.research.dev.seeburger.de,OU=admin,O=kubernetes.research.dev.seeburger.de::CN=ca.babby-0.kubernetes.research.dev.seeburger.de,O=babby-0.kubernetes.research.dev.seeburger.de,L=Bretten,ST=Baden,C=DE',\n",
       "   'buyer': 'x509::CN=Stephanie.Hoarau@babby-0.kubernetes.research.dev.seeburger.de,OU=admin,O=kubernetes.research.dev.seeburger.de::CN=ca.babby-0.kubernetes.research.dev.seeburger.de,O=babby-0.kubernetes.research.dev.seeburger.de,L=Bretten,ST=Baden,C=DE',\n",
       "   'hash': -3344848581644188280,\n",
       "   'invoiceNumber': 'FA-2017-0009',\n",
       "   'tax': 0,\n",
       "   'netto': 530.75,\n",
       "   'countryOrigin': 'FR',\n",
       "   'countryBuyer': 'RE',\n",
       "   'status': '',\n",
       "   'received': False,\n",
       "   'receivedOrder': False,\n",
       "   'sold': False,\n",
       "   'claimPaid': False,\n",
       "   'claimPaidBy': '',\n",
       "   'taxExemptionReason': 'Exoneration de TVA selon article 262 I du Code general des impots',\n",
       "   'taxReceived': False}},\n",
       " {'Key': 'asset16',\n",
       "  'Record': {'ID': 'asset16',\n",
       "   'owner': 'x509::CN=Tony.Dubois@babby-0.kubernetes.research.dev.seeburger.de,OU=admin,O=kubernetes.research.dev.seeburger.de::CN=ca.babby-0.kubernetes.research.dev.seeburger.de,O=babby-0.kubernetes.research.dev.seeburger.de,L=Bretten,ST=Baden,C=DE',\n",
       "   'buyer': 'x509::CN=Pedro.Sanchez@babby-2.kubernetes.research.dev.seeburger.de,OU=admin,O=kubernetes.research.dev.seeburger.de::CN=ca.babby-2.kubernetes.research.dev.seeburger.de,O=babby-2.kubernetes.research.dev.seeburger.de,L=Bretten,ST=Baden,C=DE',\n",
       "   'hash': -1288978081679803368,\n",
       "   'invoiceNumber': 'FA-2017-0008',\n",
       "   'tax': 0,\n",
       "   'netto': 2076.76,\n",
       "   'countryOrigin': 'FR',\n",
       "   'countryBuyer': 'ES',\n",
       "   'status': '',\n",
       "   'received': False,\n",
       "   'receivedOrder': False,\n",
       "   'sold': False,\n",
       "   'claimPaid': False,\n",
       "   'claimPaidBy': '',\n",
       "   'taxExemptionReason': 'French VAT exemption according to articles 262 ter I (for products) and/or 283-2 (for services) of CGI',\n",
       "   'taxReceived': False}},\n",
       " {'Key': 'asset17',\n",
       "  'Record': {'ID': 'asset17',\n",
       "   'owner': 'x509::CN=Tony.Dubois@babby-0.kubernetes.research.dev.seeburger.de,OU=admin,O=kubernetes.research.dev.seeburger.de::CN=ca.babby-0.kubernetes.research.dev.seeburger.de,O=babby-0.kubernetes.research.dev.seeburger.de,L=Bretten,ST=Baden,C=DE',\n",
       "   'buyer': 'x509::CN=Alexandre.Payet@babby-0.kubernetes.research.dev.seeburger.de,OU=admin,O=kubernetes.research.dev.seeburger.de::CN=ca.babby-0.kubernetes.research.dev.seeburger.de,O=babby-0.kubernetes.research.dev.seeburger.de,L=Bretten,ST=Baden,C=DE',\n",
       "   'hash': -2923879829837918372,\n",
       "   'invoiceNumber': 'AV-2017-0005',\n",
       "   'tax': -14.99,\n",
       "   'netto': -218.48,\n",
       "   'countryOrigin': 'FR',\n",
       "   'countryBuyer': 'FR',\n",
       "   'status': '',\n",
       "   'received': False,\n",
       "   'receivedOrder': False,\n",
       "   'sold': False,\n",
       "   'claimPaid': False,\n",
       "   'claimPaidBy': '',\n",
       "   'taxExemptionReason': '',\n",
       "   'taxReceived': False}},\n",
       " {'Key': 'asset3',\n",
       "  'Record': {'ID': 'asset3',\n",
       "   'owner': 'x509::CN=Tony.Dubois@babby-0.kubernetes.research.dev.seeburger.de,OU=admin,O=kubernetes.research.dev.seeburger.de::CN=ca.babby-0.kubernetes.research.dev.seeburger.de,O=babby-0.kubernetes.research.dev.seeburger.de,L=Bretten,ST=Baden,C=DE',\n",
       "   'buyer': 'x509::CN=Alexandre.Payet@babby-0.kubernetes.research.dev.seeburger.de,OU=admin,O=kubernetes.research.dev.seeburger.de::CN=ca.babby-0.kubernetes.research.dev.seeburger.de,O=babby-0.kubernetes.research.dev.seeburger.de,L=Bretten,ST=Baden,C=DE',\n",
       "   'hash': 1946281448453785039,\n",
       "   'invoiceNumber': 'AV-2017-0005',\n",
       "   'tax': 14.99,\n",
       "   'netto': 218.48,\n",
       "   'countryOrigin': 'FR',\n",
       "   'countryBuyer': 'FR',\n",
       "   'status': '',\n",
       "   'received': False,\n",
       "   'receivedOrder': False,\n",
       "   'sold': False,\n",
       "   'claimPaid': False,\n",
       "   'claimPaidBy': '',\n",
       "   'taxExemptionReason': '',\n",
       "   'taxReceived': False}},\n",
       " {'Key': 'asset6',\n",
       "  'Record': {'ID': 'asset6',\n",
       "   'owner': 'x509::CN=Tony.Dubois@babby-0.kubernetes.research.dev.seeburger.de,OU=admin,O=kubernetes.research.dev.seeburger.de::CN=ca.babby-0.kubernetes.research.dev.seeburger.de,O=babby-0.kubernetes.research.dev.seeburger.de,L=Bretten,ST=Baden,C=DE',\n",
       "   'buyer': 'x509::CN=Alexandre.Payet@babby-0.kubernetes.research.dev.seeburger.de,OU=admin,O=kubernetes.research.dev.seeburger.de::CN=ca.babby-0.kubernetes.research.dev.seeburger.de,O=babby-0.kubernetes.research.dev.seeburger.de,L=Bretten,ST=Baden,C=DE',\n",
       "   'hash': 8856936673140304143,\n",
       "   'invoiceNumber': 'FA-2017-0010',\n",
       "   'tax': 46.25,\n",
       "   'netto': 624.9,\n",
       "   'countryOrigin': 'FR',\n",
       "   'countryBuyer': 'FR',\n",
       "   'status': '',\n",
       "   'received': False,\n",
       "   'receivedOrder': False,\n",
       "   'sold': False,\n",
       "   'claimPaid': False,\n",
       "   'claimPaidBy': '',\n",
       "   'taxExemptionReason': '',\n",
       "   'taxReceived': False}}]"
      ]
     },
     "execution_count": 920,
     "metadata": {},
     "output_type": "execute_result"
    }
   ],
   "source": [
    "#peer=peers[peernames[1]]\n",
    "#getSubmittingClientIdentity(peer)[0]\n",
    "listInvoices(peer=peers[peernames[0]], user='Tony.Dubois')[0]\n",
    "#listInvoices(peer=peers[peernames[0]])[0]\n",
    "#listInvoices(peer)[0]\n",
    "#keys"
   ]
  },
  {
   "cell_type": "code",
   "execution_count": 864,
   "metadata": {},
   "outputs": [
    {
     "data": {
      "text/plain": [
       "({'ID': 'asset16',\n",
       "  'owner': 'x509::CN=Tony.Dubois@babby-0.kubernetes.research.dev.seeburger.de,OU=admin,O=kubernetes.research.dev.seeburger.de::CN=ca.babby-0.kubernetes.research.dev.seeburger.de,O=babby-0.kubernetes.research.dev.seeburger.de,L=Bretten,ST=Baden,C=DE',\n",
       "  'buyer': 'x509::CN=Pedro.Sanchez@babby-2.kubernetes.research.dev.seeburger.de,OU=admin,O=kubernetes.research.dev.seeburger.de::CN=ca.babby-2.kubernetes.research.dev.seeburger.de,O=babby-2.kubernetes.research.dev.seeburger.de,L=Bretten,ST=Baden,C=DE',\n",
       "  'hash': -1288978081679803368,\n",
       "  'invoiceNumber': 'FA-2017-0008',\n",
       "  'tax': 0,\n",
       "  'netto': 2076.76,\n",
       "  'countryOrigin': 'FR',\n",
       "  'countryBuyer': 'ES',\n",
       "  'status': '',\n",
       "  'received': False,\n",
       "  'receivedOrder': False,\n",
       "  'sold': False,\n",
       "  'claimPaid': False,\n",
       "  'claimPaidBy': '',\n",
       "  'taxExemptionReason': 'French VAT exemption according to articles 262 ter I (for products) and/or 283-2 (for services) of CGI',\n",
       "  'taxReceived': False},\n",
       " Output())"
      ]
     },
     "execution_count": 864,
     "metadata": {},
     "output_type": "execute_result"
    }
   ],
   "source": [
    "#listInvoice(peer=peers[peernames[1]],  user='ben',id=keys[0])[0]\n",
    "\n",
    "#assetExists(peer=peers[peernames[1]],id=keys[0])\n",
    "\n",
    "#listInvoice(peer=peers[peernames[0]],  id=keys[0])[0]\n",
    "readAssetTest(peer=peers[peernames[0]], asset='asset16')"
   ]
  },
  {
   "cell_type": "code",
   "execution_count": null,
   "metadata": {},
   "outputs": [],
   "source": [
    "asset=readAsset(peer, asset='asset1')\n",
    "asset['sold'] = True\n",
    "updateAsset(peer, asset)"
   ]
  },
  {
   "cell_type": "markdown",
   "metadata": {},
   "source": [
    "### received"
   ]
  },
  {
   "cell_type": "code",
   "execution_count": 664,
   "metadata": {},
   "outputs": [
    {
     "data": {
      "application/vnd.jupyter.widget-view+json": {
       "model_id": "0099d37d0c264cce8afa1b6ddee93c66",
       "version_major": 2,
       "version_minor": 0
      },
      "text/plain": [
       "Output()"
      ]
     },
     "metadata": {},
     "output_type": "display_data"
    }
   ],
   "source": [
    "receivedInvoice(peer=peers[peernames[1]],  user='ben',id=keys[0])[1]"
   ]
  },
  {
   "cell_type": "code",
   "execution_count": 545,
   "metadata": {},
   "outputs": [
    {
     "data": {
      "text/plain": [
       "{'name': 'babby-1',\n",
       " 'pod_name': 'babby-1-56f9fc8dcd-r7ggz',\n",
       " 'listen_port': '31216',\n",
       " 'gossip_port': ''}"
      ]
     },
     "execution_count": 545,
     "metadata": {},
     "output_type": "execute_result"
    }
   ],
   "source": [
    "peers[peernames[1]].__dict__"
   ]
  },
  {
   "cell_type": "markdown",
   "metadata": {},
   "source": [
    "### load data"
   ]
  },
  {
   "cell_type": "code",
   "execution_count": 51,
   "metadata": {},
   "outputs": [],
   "source": [
    "import json\n",
    "\n",
    "def load(filename):\n",
    "    with open(filename) as json_file:\n",
    "        return json.load(json_file)\n",
    "\n",
    "invoices = load('invoices.json')\n",
    "roles = load('roles.json')\n",
    "roleTransactions = load('roleTransactions.json')"
   ]
  },
  {
   "cell_type": "code",
   "execution_count": 5,
   "metadata": {},
   "outputs": [
    {
     "data": {
      "text/plain": [
       "('Alexandre.Payet', ['Buyer'])"
      ]
     },
     "execution_count": 5,
     "metadata": {},
     "output_type": "execute_result"
    }
   ],
   "source": [
    "def get_cert_cn(cert):\n",
    "    return cert.split('=')[1].split('@')[0]\n",
    "\n",
    "get_cert_cn(roles[0]['name']), roles[0]['roles']"
   ]
  },
  {
   "cell_type": "code",
   "execution_count": 6,
   "metadata": {},
   "outputs": [
    {
     "data": {
      "text/plain": [
       "['Auguste.Boucher']"
      ]
     },
     "execution_count": 6,
     "metadata": {},
     "output_type": "execute_result"
    }
   ],
   "source": [
    "def get_person_names_with_role(role,roles):\n",
    "    result = []\n",
    "    for person in roles:\n",
    "        if role in person['roles']:\n",
    "            result.append(get_cert_cn(person['name']))\n",
    "    return result        \n",
    "        \n",
    "get_person_names_with_role('TaxInspector',roles)        "
   ]
  },
  {
   "cell_type": "code",
   "execution_count": 7,
   "metadata": {},
   "outputs": [
    {
     "data": {
      "text/plain": [
       "[{'name': 'x509::CN=Alexandre.Payet@majolieboutique.net,OU=admin,O=majolieboutique.net::CN=ca.majolieboutique.net,O=majolieboutique.net,L=Lyon,ST=Auvergne-Rhone-Alpes,C=FR',\n",
       "  'roles': ['Buyer']},\n",
       " {'name': 'x509::CN=Auguste.Boucher@lyon-impots.gouv.fr,OU=admin,O=lyon-impots.gouv.fr::CN=ca.impots.gouv.fr,O=lyon-impots.gouv.fr,L=Lyon,ST=Auvergne-Rhone-Alpes,C=FR',\n",
       "  'roles': ['TaxInspector']},\n",
       " {'name': 'x509::CN=Emma.Steiner@austriafactor.at,OU=admin,O=austriafactor.at::CN=ca.austriafactor.at,O=austriafactor.at,L=Graz,ST=Steiermark,C=AT',\n",
       "  'roles': ['Factor']},\n",
       " {'name': 'x509::CN=Pedro.Sanchez@megustaolive.es,OU=admin,O=megustaolive.es::CN=ca.megustaolive.es,O=megustaolive.es,L=Dos Hermanas,ST=Andalusia,C=ES',\n",
       "  'roles': ['Buyer', 'Seller']},\n",
       " {'name': 'x509::CN=Stephanie.Hoarau@hotelsaintdenis.re,OU=admin,O=hotelsaintdenis.re::CN=ca.hotelsaintdenis.re,O=hotelsaintdenis.re,L=Saint Denis,ST=Reunion,C=FR',\n",
       "  'roles': ['Buyer']},\n",
       " {'name': \"x509::CN=Tony.Dubois@aubonmoulin.fr,OU=admin,O=aubonmoulin.fr::CN=ca.aubonmoulin.fr,O=aubonmoulin.fr,L=Malaucene,ST=Provence-Alpes-Cote d'Azur,C=FR\",\n",
       "  'roles': ['Seller']}]"
      ]
     },
     "execution_count": 7,
     "metadata": {},
     "output_type": "execute_result"
    }
   ],
   "source": [
    "roles"
   ]
  },
  {
   "cell_type": "code",
   "execution_count": 6,
   "metadata": {},
   "outputs": [],
   "source": [
    "if 'TaxInspector' in roles[0]['roles']:\n",
    "    print()"
   ]
  },
  {
   "cell_type": "code",
   "execution_count": 8,
   "metadata": {},
   "outputs": [],
   "source": [
    "def invoke(peer,callopt,user='User1'):\n",
    "    print(user,callopt)\n",
    "    \n",
    "def query(peer,callopt,user='User1'):\n",
    "    print(user,callopt)    \n",
    "    \n",
    "class kubernetespeer:\n",
    "    def __init__(self, name='',prefix='peer'):\n",
    "        self.name = name    \n",
    "        \n",
    "def addPeer(peername):  \n",
    "    peer = kubernetespeer(name=peername)\n",
    "    peers[peername] = peer\n",
    "    return peer        \n",
    "  \n",
    "def get_peer_of_user(name):\n",
    "    return kubernetespeer(name=name)    \n",
    "\n",
    "def addUser(peer,user):\n",
    "    if peer.name in peerusers:\n",
    "        peerusers[peer.name].append(user)\n",
    "    else:\n",
    "        peerusers[peer.name] = [user]\n",
    "\n",
    "peers={}\n",
    "peerusers ={}\n",
    "\n",
    "addPeer('aubonmoulin')\n",
    "addPeer('lyon-impots')\n",
    "addPeer('austriafactor')\n",
    "addPeer('megustaolive') \n",
    "addUser(peers['aubonmoulin'],'Tony.Dubois')    \n",
    "addUser(peers['aubonmoulin'],'Stephanie.Hoarau')\n",
    "addUser(peers['aubonmoulin'],'Alexandre.Payet')\n",
    "addUser(peers['austriafactor'],'Emma.Steiner')    \n",
    "addUser(peers['megustaolive'],'Pedro.Sanchez')  \n",
    "addUser(peers['lyon-impots'],'Auguste.Boucher')  \n",
    "\n",
    "peernames = list(peers.keys())"
   ]
  },
  {
   "cell_type": "code",
   "execution_count": 9,
   "metadata": {},
   "outputs": [
    {
     "data": {
      "text/plain": [
       "{'Key': 'asset17',\n",
       " 'Record': {'ID': 'asset17',\n",
       "  'owner': \"x509::CN=Tony.Dubois@aubonmoulin.fr,OU=admin,O=aubonmoulin.fr::CN=ca.aubonmoulin.fr,O=aubonmoulin.fr,L=Malaucene,ST=Provence-Alpes-Cote d'Azur,C=FR\",\n",
       "  'buyer': 'x509::CN=Alexandre.Payet@majolieboutique.net,OU=admin,O=majolieboutique.net::CN=ca.majolieboutique.net,O=majolieboutique.net,L=Lyon,ST=Auvergne-Rhone-Alpes,C=FR',\n",
       "  'hash': -2923879829837918372,\n",
       "  'invoiceNumber': 'AV-2017-0005',\n",
       "  'tax': -14.99,\n",
       "  'netto': -218.48,\n",
       "  'countryOrigin': 'FR',\n",
       "  'countryBuyer': 'FR',\n",
       "  'status': '',\n",
       "  'received': False,\n",
       "  'receivedOrder': False,\n",
       "  'sold': False,\n",
       "  'claimPaid': False,\n",
       "  'claimPaidBy': '',\n",
       "  'taxExemptionReason': '',\n",
       "  'taxReceived': False}}"
      ]
     },
     "execution_count": 9,
     "metadata": {},
     "output_type": "execute_result"
    }
   ],
   "source": [
    "peerusers\n",
    "invoices[2]"
   ]
  },
  {
   "cell_type": "markdown",
   "metadata": {},
   "source": [
    "## display"
   ]
  },
  {
   "cell_type": "code",
   "execution_count": 65,
   "metadata": {},
   "outputs": [
    {
     "data": {
      "application/vnd.jupyter.widget-view+json": {
       "model_id": "197e349fbd984bd79c9f70a198ea86c8",
       "version_major": 2,
       "version_minor": 0
      },
      "text/plain": [
       "HTML(value='', description=' ', layout=Layout(width='500px'), style=DescriptionStyle(description_width='250px'…"
      ]
     },
     "metadata": {},
     "output_type": "display_data"
    },
    {
     "data": {
      "application/vnd.jupyter.widget-view+json": {
       "model_id": "c76fa442070949949d38f14f142a76e2",
       "version_major": 2,
       "version_minor": 0
      },
      "text/plain": [
       "Text(value='asset3', description='Key', layout=Layout(width='500px'), style=DescriptionStyle(description_width…"
      ]
     },
     "metadata": {},
     "output_type": "display_data"
    },
    {
     "data": {
      "application/vnd.jupyter.widget-view+json": {
       "model_id": "a807dc17396e412db219cda3223135f7",
       "version_major": 2,
       "version_minor": 0
      },
      "text/plain": [
       "HTML(value='Record', description=' ', layout=Layout(width='500px'), style=DescriptionStyle(description_width='…"
      ]
     },
     "metadata": {},
     "output_type": "display_data"
    },
    {
     "data": {
      "application/vnd.jupyter.widget-view+json": {
       "model_id": "59afab0dd8b540f4ba4d92c5cb0341b2",
       "version_major": 2,
       "version_minor": 0
      },
      "text/plain": [
       "Text(value='asset3', description='ID', layout=Layout(width='500px'), style=DescriptionStyle(description_width=…"
      ]
     },
     "metadata": {},
     "output_type": "display_data"
    },
    {
     "data": {
      "application/vnd.jupyter.widget-view+json": {
       "model_id": "967e3ed16db3418a8171d66eff5f8d55",
       "version_major": 2,
       "version_minor": 0
      },
      "text/plain": [
       "Text(value=\"x509::CN=Tony.Dubois@aubonmoulin.fr,OU=admin,O=aubonmoulin.fr::CN=ca.aubonmoulin.fr,O=aubonmoulin.…"
      ]
     },
     "metadata": {},
     "output_type": "display_data"
    },
    {
     "data": {
      "application/vnd.jupyter.widget-view+json": {
       "model_id": "26365317c85347089c0f1157a45f953e",
       "version_major": 2,
       "version_minor": 0
      },
      "text/plain": [
       "Text(value='x509::CN=Alexandre.Payet@majolieboutique.net,OU=admin,O=majolieboutique.net::CN=ca.majolieboutique…"
      ]
     },
     "metadata": {},
     "output_type": "display_data"
    },
    {
     "data": {
      "application/vnd.jupyter.widget-view+json": {
       "model_id": "d485b4e4a2154932a8ec406435d3f339",
       "version_major": 2,
       "version_minor": 0
      },
      "text/plain": [
       "Text(value='1946281448453785039', description='hash', layout=Layout(width='500px'), style=DescriptionStyle(des…"
      ]
     },
     "metadata": {},
     "output_type": "display_data"
    },
    {
     "data": {
      "application/vnd.jupyter.widget-view+json": {
       "model_id": "b18e9bf2d89b44e19c53bccbd305b0e5",
       "version_major": 2,
       "version_minor": 0
      },
      "text/plain": [
       "Text(value='AV-2017-0005', description='invoiceNumber', layout=Layout(width='500px'), style=DescriptionStyle(d…"
      ]
     },
     "metadata": {},
     "output_type": "display_data"
    },
    {
     "data": {
      "application/vnd.jupyter.widget-view+json": {
       "model_id": "29719e86d21c45648eb7e518ab67f2e7",
       "version_major": 2,
       "version_minor": 0
      },
      "text/plain": [
       "Text(value='14.99', description='tax', layout=Layout(width='500px'), style=DescriptionStyle(description_width=…"
      ]
     },
     "metadata": {},
     "output_type": "display_data"
    },
    {
     "data": {
      "application/vnd.jupyter.widget-view+json": {
       "model_id": "e79d42dcf6324e28ad0fb6f00ae9c14e",
       "version_major": 2,
       "version_minor": 0
      },
      "text/plain": [
       "Text(value='218.48', description='netto', layout=Layout(width='500px'), style=DescriptionStyle(description_wid…"
      ]
     },
     "metadata": {},
     "output_type": "display_data"
    },
    {
     "data": {
      "application/vnd.jupyter.widget-view+json": {
       "model_id": "59a34c06184c4c1a8f2ffd4c64da70b7",
       "version_major": 2,
       "version_minor": 0
      },
      "text/plain": [
       "Text(value='FR', description='countryOrigin', layout=Layout(width='500px'), style=DescriptionStyle(description…"
      ]
     },
     "metadata": {},
     "output_type": "display_data"
    },
    {
     "data": {
      "application/vnd.jupyter.widget-view+json": {
       "model_id": "4e26a93e7aab4bc4ae090085a035650e",
       "version_major": 2,
       "version_minor": 0
      },
      "text/plain": [
       "Text(value='FR', description='countryBuyer', layout=Layout(width='500px'), style=DescriptionStyle(description_…"
      ]
     },
     "metadata": {},
     "output_type": "display_data"
    },
    {
     "data": {
      "application/vnd.jupyter.widget-view+json": {
       "model_id": "748eafcae05e48329274375e3842b0c7",
       "version_major": 2,
       "version_minor": 0
      },
      "text/plain": [
       "Text(value='', description='status', layout=Layout(width='500px'), style=DescriptionStyle(description_width='2…"
      ]
     },
     "metadata": {},
     "output_type": "display_data"
    },
    {
     "data": {
      "application/vnd.jupyter.widget-view+json": {
       "model_id": "fc0a33110b664d6ba780d69b5804286b",
       "version_major": 2,
       "version_minor": 0
      },
      "text/plain": [
       "Checkbox(value=False, description='received', layout=Layout(width='500px'), style=DescriptionStyle(description…"
      ]
     },
     "metadata": {},
     "output_type": "display_data"
    },
    {
     "data": {
      "application/vnd.jupyter.widget-view+json": {
       "model_id": "f97a02b99f434ee69fe3b45d9a2ddbfc",
       "version_major": 2,
       "version_minor": 0
      },
      "text/plain": [
       "Checkbox(value=False, description='receivedOrder', layout=Layout(width='500px'), style=DescriptionStyle(descri…"
      ]
     },
     "metadata": {},
     "output_type": "display_data"
    },
    {
     "data": {
      "application/vnd.jupyter.widget-view+json": {
       "model_id": "ffdc8490760f4cc8b3e77ec615ae25e9",
       "version_major": 2,
       "version_minor": 0
      },
      "text/plain": [
       "Checkbox(value=False, description='sold', layout=Layout(width='500px'), style=DescriptionStyle(description_wid…"
      ]
     },
     "metadata": {},
     "output_type": "display_data"
    },
    {
     "data": {
      "application/vnd.jupyter.widget-view+json": {
       "model_id": "6e9d7b91bad841a192f9e4bf33fc8cf9",
       "version_major": 2,
       "version_minor": 0
      },
      "text/plain": [
       "Checkbox(value=False, description='claimPaid', layout=Layout(width='500px'), style=DescriptionStyle(descriptio…"
      ]
     },
     "metadata": {},
     "output_type": "display_data"
    },
    {
     "data": {
      "application/vnd.jupyter.widget-view+json": {
       "model_id": "03e7a0ff1a3a45ecafed72e03e6c85c8",
       "version_major": 2,
       "version_minor": 0
      },
      "text/plain": [
       "Text(value='', description='claimPaidBy', layout=Layout(width='500px'), style=DescriptionStyle(description_wid…"
      ]
     },
     "metadata": {},
     "output_type": "display_data"
    },
    {
     "data": {
      "application/vnd.jupyter.widget-view+json": {
       "model_id": "d3951a4443c247faa27fd324106afe0b",
       "version_major": 2,
       "version_minor": 0
      },
      "text/plain": [
       "Text(value='', description='taxExemptionReason', layout=Layout(width='500px'), style=DescriptionStyle(descript…"
      ]
     },
     "metadata": {},
     "output_type": "display_data"
    },
    {
     "data": {
      "application/vnd.jupyter.widget-view+json": {
       "model_id": "b3c621cb5d7741a29d0a5637b6931fab",
       "version_major": 2,
       "version_minor": 0
      },
      "text/plain": [
       "Checkbox(value=False, description='taxReceived', layout=Layout(width='500px'), style=DescriptionStyle(descript…"
      ]
     },
     "metadata": {},
     "output_type": "display_data"
    },
    {
     "data": {
      "text/plain": [
       "<ipynb.fs.full.facturxWidget.facturx_widgets at 0x7fca38640520>"
      ]
     },
     "metadata": {},
     "output_type": "display_data"
    }
   ],
   "source": [
    "#asset=listInvoices(peer=peers[peernames[2]], user='Tony.Dubois')[0][1]['Record']\n",
    "asset=invoices[3]\n",
    "_widget = facturx_widgets(asset,'/', hideUnused=True) \n",
    "display(_widget)"
   ]
  },
  {
   "cell_type": "code",
   "execution_count": 879,
   "metadata": {},
   "outputs": [],
   "source": [
    "#listInvoices(peer=peers[peernames[0]], user='Tony.Dubois')[0][0]['Record']"
   ]
  },
  {
   "cell_type": "code",
   "execution_count": 57,
   "metadata": {},
   "outputs": [],
   "source": [
    "#_widget.container.fields['ID'].widget.disabled=True\n",
    "\n"
   ]
  },
  {
   "cell_type": "code",
   "execution_count": 20,
   "metadata": {},
   "outputs": [],
   "source": [
    "owner=_widget.container.fields['owner'].widget.value.split(',')[0].split('=')[1].split('@')[0]\n",
    "buyer=_widget.container.fields['buyer'].widget.value.split(',')[0].split('=')[1].split('@')[0]\n",
    "taxinspector=get_person_names_with_role('TaxInspector',roles)\n",
    "id=_widget.container.fields['ID'].widget.value\n",
    "peer_buyer=get_peer_of_user(buyer)\n",
    "peer_owner=get_peer_of_user(owner)\n",
    "peer_taxinspector=get_peer_of_user(taxinspector)"
   ]
  },
  {
   "cell_type": "code",
   "execution_count": 56,
   "metadata": {},
   "outputs": [],
   "source": [
    "def disable_all_fields():\n",
    "    for key,value in _widget.container.fields.items():\n",
    "        value.widget.disabled=True\n",
    "        \n",
    "def enable_fields_for_role(rolename):\n",
    "    if rolename == 'Buyer':\n",
    "        _widget.container.fields['received'].widget.disabled=False\n",
    "        _widget.container.fields['receivedOrder'].widget.disabled=False\n",
    "\n",
    "    elif  rolename == 'Seller':   \n",
    "        _widget.container.fields['sold'].widget.disabled=False\n",
    "        _widget.container.fields['claimPaid'].widget.disabled=False\n",
    "        _widget.container.fields['claimPaidBy'].widget.disabled=False\n",
    "        _widget.container.fields['owner'].widget.disabled=False\n",
    "        \n",
    "    elif  rolename == 'Factor':   \n",
    "        #_widget.container.fields['sold'].widget.disabled=False\n",
    "        _widget.container.fields['claimPaid'].widget.disabled=False\n",
    "        _widget.container.fields['claimPaidBy'].widget.disabled=False\n",
    "        #_widget.container.fields['owner'].widget.disabled=False\n",
    "                \n",
    "    elif  rolename == 'TaxInspector':    \n",
    "        _widget.container.fields['taxReceived'].widget.disabled=False       "
   ]
  },
  {
   "cell_type": "code",
   "execution_count": 53,
   "metadata": {},
   "outputs": [],
   "source": [
    "disable_all_fields()\n",
    "enable_fields_for_role('Buyer')"
   ]
  },
  {
   "cell_type": "code",
   "execution_count": 54,
   "metadata": {},
   "outputs": [],
   "source": [
    "disable_all_fields()\n",
    "enable_fields_for_role('Seller')"
   ]
  },
  {
   "cell_type": "code",
   "execution_count": 55,
   "metadata": {},
   "outputs": [],
   "source": [
    "# sold to factor\n",
    "_widget.container.fields['owner'].widget.value = roles[2]['name']\n",
    "_widget.container.fields['sold'].widget.value = True"
   ]
  },
  {
   "cell_type": "code",
   "execution_count": 57,
   "metadata": {},
   "outputs": [],
   "source": [
    "disable_all_fields()\n",
    "enable_fields_for_role('Factor')"
   ]
  },
  {
   "cell_type": "code",
   "execution_count": 61,
   "metadata": {},
   "outputs": [],
   "source": [
    "_widget.container.fields['claimPaidBy'].widget.value = 'Christophe Monet'\n",
    "_widget.container.fields['claimPaid'].widget.value = True"
   ]
  },
  {
   "cell_type": "code",
   "execution_count": 66,
   "metadata": {},
   "outputs": [],
   "source": [
    "disable_all_fields()\n",
    "enable_fields_for_role('TaxInspector')"
   ]
  },
  {
   "cell_type": "markdown",
   "metadata": {},
   "source": [
    "### role buyer"
   ]
  },
  {
   "cell_type": "code",
   "execution_count": 49,
   "metadata": {},
   "outputs": [],
   "source": [
    "\n",
    "\n",
    "peer=get_peer_of_user(buyer)\n",
    "\n",
    "def received_changed(b):\n",
    "    if b['name'] == 'value':\n",
    "        receivedInvoice(peer_buyer, id=id, user=buyer)[1]\n",
    "    \n",
    "def receivedOrder_changed(b):\n",
    "    if b['name'] == 'value':\n",
    "        print('changed')\n",
    "        receivedOrder(peer_buyer, id=id, user=buyer)[1]    \n",
    "    \n",
    "_widget.container.fields['received'].widget.observe(received_changed)\n",
    "_widget.container.fields['receivedOrder'].widget.observe(receivedOrder_changed)"
   ]
  },
  {
   "cell_type": "markdown",
   "metadata": {
    "tags": []
   },
   "source": [
    "### role owner / seller"
   ]
  },
  {
   "cell_type": "code",
   "execution_count": 24,
   "metadata": {},
   "outputs": [],
   "source": [
    "\n",
    "def sold_changed(b):\n",
    "    if b['name'] == 'value':\n",
    "        print('changed')\n",
    "        #so(peer, id=id, user=seller)[1]\n",
    "    \n",
    "def claimPaid_changed(b):\n",
    "    if b['name'] == 'value':\n",
    "        print('changed')\n",
    "        #receivedOrder(peer, id=id, user=seller)[1]    \n",
    "    \n",
    "_widget.container.fields['sold'].widget.observe(received_changed)\n",
    "_widget.container.fields['claimPaid'].widget.observe(receivedOrder_changed)    "
   ]
  },
  {
   "cell_type": "markdown",
   "metadata": {
    "tags": []
   },
   "source": [
    "### role tax inspector"
   ]
  },
  {
   "cell_type": "code",
   "execution_count": 25,
   "metadata": {},
   "outputs": [],
   "source": [
    "\n",
    "\n",
    "def taxReceived_changed(b):\n",
    "    if b['name'] == 'value':\n",
    "        taxReceived(peer_taxinspector, id=id, user=taxinspector)[1]\n",
    "    \n",
    "_widget.container.fields['taxReceived'].widget.observe(taxReceived_changed)"
   ]
  },
  {
   "cell_type": "code",
   "execution_count": 784,
   "metadata": {},
   "outputs": [
    {
     "data": {
      "application/vnd.jupyter.widget-view+json": {
       "model_id": "fe5a5935d8d344cd83af1af89a189bc9",
       "version_major": 2,
       "version_minor": 0
      },
      "text/plain": [
       "Output()"
      ]
     },
     "metadata": {},
     "output_type": "display_data"
    }
   ],
   "source": [
    "receivedInvoice(peers[peernames[0]], id='asset14', user='Stephanie.Hoarau')[1]"
   ]
  },
  {
   "cell_type": "markdown",
   "metadata": {},
   "source": [
    "### save assets as file"
   ]
  },
  {
   "cell_type": "code",
   "execution_count": 416,
   "metadata": {},
   "outputs": [],
   "source": [
    "#asset = readAsset(peers[peernames[0]], asset='asset6')\n",
    "\n",
    "from facturxWidget import facturx_widgets \n",
    "\n",
    "import json\n",
    "with open('asset.json', 'w', encoding='utf-8') as f:\n",
    "    json.dump(asset, f, ensure_ascii=False, indent=4)"
   ]
  },
  {
   "cell_type": "code",
   "execution_count": null,
   "metadata": {},
   "outputs": [],
   "source": [
    "import json\n",
    "\n",
    "with open('asset.json') as json_file:\n",
    "    data = json.load(json_file)\n",
    "\n",
    "data    "
   ]
  },
  {
   "cell_type": "code",
   "execution_count": 921,
   "metadata": {},
   "outputs": [],
   "source": [
    "assets=listInvoices(peer=peers[peernames[0]], user='Tony.Dubois')[0]"
   ]
  },
  {
   "cell_type": "code",
   "execution_count": 924,
   "metadata": {},
   "outputs": [
    {
     "data": {
      "text/plain": [
       "[{'role': 'Buyer',\n",
       "  'transactions': ['main.(*SmartContract).ListInvoice',\n",
       "   'main.(*SmartContract).ListInvoices',\n",
       "   'main.(*SmartContract).ReceivedInvoice',\n",
       "   'main.(*SmartContract).ReceivedOrder']},\n",
       " {'role': 'Seller',\n",
       "  'transactions': ['main.(*SmartContract).ListInvoice',\n",
       "   'main.(*SmartContract).ListInvoices',\n",
       "   'main.(*SmartContract).CreateInvoice',\n",
       "   'main.(*SmartContract).TransferInvoice',\n",
       "   'main.(*SmartContract).ReceivedPayment']},\n",
       " {'role': 'Factor',\n",
       "  'transactions': ['main.(*SmartContract).ListInvoice',\n",
       "   'main.(*SmartContract).ListInvoices',\n",
       "   'main.(*SmartContract).TransferInvoice',\n",
       "   'main.(*SmartContract).ReceivedPayment']},\n",
       " {'role': 'TaxInspector',\n",
       "  'transactions': ['main.(*SmartContract).ListInvoice',\n",
       "   'main.(*SmartContract).ListInvoices',\n",
       "   'main.(*SmartContract).TaxReceived']}]"
      ]
     },
     "execution_count": 924,
     "metadata": {},
     "output_type": "execute_result"
    }
   ],
   "source": [
    "roleTransactions = getRoleTransactions(peer)[0]\n",
    "roleTransactions"
   ]
  },
  {
   "cell_type": "code",
   "execution_count": 929,
   "metadata": {},
   "outputs": [],
   "source": [
    "roles=getAllRoles(peer)[0]"
   ]
  },
  {
   "cell_type": "code",
   "execution_count": 930,
   "metadata": {},
   "outputs": [],
   "source": [
    "import json\n",
    "with open('roles.json', 'w', encoding='utf-8') as f:\n",
    "    json.dump(roles, f, ensure_ascii=False, indent=4)"
   ]
  },
  {
   "cell_type": "markdown",
   "metadata": {},
   "source": [
    "### work"
   ]
  },
  {
   "cell_type": "code",
   "execution_count": 233,
   "metadata": {},
   "outputs": [],
   "source": [
    "#peers\n",
    "peer = peers['aabby-0']\n",
    "#getHostname(peer)"
   ]
  },
  {
   "cell_type": "code",
   "execution_count": 263,
   "metadata": {},
   "outputs": [
    {
     "name": "stdout",
     "output_type": "stream",
     "text": [
      "[\"TaxInspector\",\"('x509::CN=User1@aabby-0.kubernetes.research.dev.seeburger.de,OU=client,L=Bretten,ST=Baden,C=DE::CN=ca.aabby-0.kubernetes.research.dev.seeburger.de,O=aabby-0.kubernetes.research.dev.seeburger.de,L=Bretten,ST=Baden,C=DE\\n',)\"]\n"
     ]
    },
    {
     "data": {
      "text/plain": [
       "('', Output())"
      ]
     },
     "execution_count": 263,
     "metadata": {},
     "output_type": "execute_result"
    }
   ],
   "source": [
    "#owner = readAssetTest(peer,'asset6') ['owner']\n",
    "name = getSubmittingClientIdentity(peer)[:-1]\n",
    "#appendRole(peer,name=name,role='Seller')\n",
    "appendRole(peer,name=name,role='TaxInspector')"
   ]
  },
  {
   "cell_type": "code",
   "execution_count": 415,
   "metadata": {},
   "outputs": [],
   "source": [
    "asset=listInvoices(peer)[0][0]['Record']"
   ]
  },
  {
   "cell_type": "code",
   "execution_count": 602,
   "metadata": {},
   "outputs": [],
   "source": [
    "#deleteAsset(peer,asset=\"roles\")[1]\n",
    "#assetExists(peer,asset=\"roles\")\n",
    "#readAsset(peer,asset=\"roles\")[1]\n",
    "#getAllRoles(peer)\n",
    "#getRoles(peer,name=name)\n",
    "#getSubmittingClientIdentity(peer)"
   ]
  },
  {
   "cell_type": "code",
   "execution_count": 600,
   "metadata": {},
   "outputs": [
    {
     "data": {
      "text/plain": [
       "('', Output())"
      ]
     },
     "execution_count": 600,
     "metadata": {},
     "output_type": "execute_result"
    }
   ],
   "source": [
    "#peer.pod_name\n",
    "deleteAsset(peer, asset=keys[3])"
   ]
  },
  {
   "cell_type": "markdown",
   "metadata": {},
   "source": [
    "## invoice usecase (Simple)"
   ]
  },
  {
   "cell_type": "code",
   "execution_count": null,
   "metadata": {},
   "outputs": [],
   "source": [
    "def getPeer0Address(peer):\n",
    "    addr='peer0.kubernetes.research.dev.seeburger.de'\n",
    "    return str(addr + ':' + peer.listen_port)\n",
    "\n",
    "def readAsset(peer, asset='asset1'):\n",
    "    #callopt= '{\\\"function\\\":\\\"ReadAsset\\\",\\\"Args\\\":[' + '\\\"' + asset + '\\\"' + ']}'\n",
    "    callopt= '{\"function\":\"ReadAsset\",\"Args\":[' + '\\\"' + asset + '\\\"' + ']}'\n",
    "    cmd0 = str('\\'' + callopt + \"\\'\")\n",
    "    try:\n",
    "        #cmd1= 'CORE_PEER_ADDRESS=\\\"peer0.kubernetes.research.dev.seeburger.de:31866\\\" && ' \n",
    "        #cmd1 = 'CORE_PEER_ADDRESS=\\\"' + getPeer0Address(peer) + '\\\" && '\n",
    "        cmd1 = 'CORE_PEER_MSPCONFIGPATH=' + path + '\\\" && '\n",
    "        #cmd2 = ['peer', 'chaincode','query', '-C', channel_name, '-n', 'basic', '-c']\n",
    "        cmd2 = ['peer', 'chaincode', 'invoke', '-o', 'orderer.example.com:30081', '--tls', '--cafile', '/tmp/tlsca.example.com-cert.pem', '-C',channel_name, '-n', 'basic', '-c']\n",
    "   \n",
    "        cmd = toCmd(cmd2) + ' ' + cmd0\n",
    "        print(cmd)\n",
    "        #output = executePeerCmd(peer.pod_name, cmd1 + cmd)\n",
    "        #print(output)\n",
    "        if output[0] == '{':\n",
    "            return json.loads(output)\n",
    "        return cmd\n",
    "    except Exception as e:\n",
    "        print(e)\n",
    "        \n",
    "asset = readAsset(peers[pernames[0]], 'asset1')\n",
    "executePeerCmd(peers[pernames[0]].pod_name,asset)"
   ]
  },
  {
   "cell_type": "code",
   "execution_count": null,
   "metadata": {},
   "outputs": [],
   "source": [
    "\n",
    "pernames = list(peers.keys())\n",
    "chaincode_add_invoice(peers[pernames[0]],channel_name,'046',pernames[1])"
   ]
  },
  {
   "cell_type": "code",
   "execution_count": null,
   "metadata": {},
   "outputs": [],
   "source": [
    "!/home/jovyan/work/usr/bin/kubectl exec -t galya-0-6cc848b49-pv2dn -c scray-peer-cli -- /bin/sh /mnt/conf/peer/add-invoice.sh super13 006 x509::CN=User1@galya-1.kubernetes.research.dev.seeburger.de,OU=client,L=San Francisco,ST=California,C=US::CN=ca.galya-1.kubernetes.research.dev.seeburger.de,O=galya-1.kubernetes.research.dev.seeburger.de,L=San Francisco,ST=California,C=USdx509::CN=User1@galya-1.kubernetes.research.dev.seeburger.de,OU=client,L=San Francisco,ST=California,C=US::CN=ca.galya-1.kubernetes.research.dev.seeburger.de,O=galya-1.kubernetes.research.dev.seeburger.de,L=San Francisco,ST=California,C=US"
   ]
  },
  {
   "cell_type": "code",
   "execution_count": null,
   "metadata": {},
   "outputs": [],
   "source": [
    "get_certificate_string(pernames[1])\n",
    "\n",
    "#'x509::CN=User1@galya-1.kubernetes.research.dev.seeburger.de,OU=client,L=San Francisco,ST=California,C=US::CN=ca.galya-1.kubernetes.research.dev.seeburger.de,O=galya-1.kubernetes.research.dev.seeburger.de,L=San Francisco,ST=California,C=USdx509::CN=User1@galya-1.kubernetes.research.dev.seeburger.de,OU=client,L=San Francisco,ST=California,C=US::CN=ca.galya-1.kubernetes.research.dev.seeburger.de,O=galya-1.kubernetes.research.dev.seeburger.de,L=San Francisco,ST=California,C=US'\n",
    "\n",
    "#, 'x509::CN=User1@galya-1.kubernetes.research.dev.seeburger.de,OU=client,L=San Francisco,ST=California,C=US::CN=ca.galya-1.kubernetes.research.dev.seeburger.de,O=galya-1.kubernetes.research.dev.seeburger.de,L=San Francisco,ST=California,C=USdx509::CN=User1@galya-1.kubernetes.research.dev.seeburger.de,OU=client,L=San Francisco,ST=California,C=US::CN=ca.galya-1.kubernetes.research.dev.seeburger.de,O=galya-1.kubernetes.research.dev.seeburger.de,L=San Francisco,ST=California,C=US'"
   ]
  },
  {
   "cell_type": "code",
   "execution_count": null,
   "metadata": {},
   "outputs": [],
   "source": [
    "#kubectl exec --stdin --tty $PEER_POD -c scray-peer-cli -- /bin/sh /mnt/conf/peer/get-my-invoices.sh  $CHANNEL_NAME $INVOICE_ID\n",
    "def chaincode_read_invoice(peer,channel_name):\n",
    "    strlist = ['/mnt/conf/peer/get-my-invoices.sh', channel_name]\n",
    "    return executePeerCmd(peer.pod_name,toCmd(strlist)) \n",
    "chaincode_read_invoice(peers[pernames[0]],channel_name)"
   ]
  },
  {
   "cell_type": "code",
   "execution_count": null,
   "metadata": {},
   "outputs": [],
   "source": [
    "def chaincode_transfer_invoice(peer,channel_name,invoice_id,new_owner):\n",
    "    strlist = ['/mnt/conf/peer/transfer_invoice.sh', channel_name,invoice_id,get_certificate_string(new_owner)]\n",
    "    print(toCmd(strlist))\n",
    "    return executePeerCmd(peer.pod_name,toCmd(strlist)) \n",
    "\n",
    "pernames = list(peers.keys())\n",
    "chaincode_transfer_invoice(peers[pernames[0]],channel_name,'045',pernames[2])"
   ]
  },
  {
   "cell_type": "code",
   "execution_count": null,
   "metadata": {},
   "outputs": [],
   "source": [
    "get_certificate_string(pernames[2])\n",
    "NEW_OWNER='x509::CN=User1@lalya-2.kubernetes.research.dev.seeburger.de,OU=client,L=Bretten,ST=Baden,C=DE::CN=ca.lalya-2.kubernetes.research.dev.seeburger.de,O=lalya-2.kubernetes.research.dev.seeburger.de,L=Bretten,ST=Baden,C=DE'\n",
    "kubectl exec --stdin --tty lalya-0-7c887cffb8-fpw7h -c scray-peer-cli -- /bin/sh /mnt/conf/peer/transfer_invoice.sh  super43 045 $NEW_OWNER"
   ]
  },
  {
   "cell_type": "code",
   "execution_count": null,
   "metadata": {},
   "outputs": [],
   "source": [
    "kubectl exec --stdin --tty 'lalya-0-7c887cffb8-fpw7h' -c scray-peer-cli -- /bin/sh /mnt/conf/peer/get-my-invoices.sh  super43 045\n",
    "kubectl exec --stdin --tty 'lalya-1-7c76dff8c-pzx78' -c scray-peer-cli -- /bin/sh /mnt/conf/peer/get-my-invoices.sh  super43 045\n",
    "kubectl exec --stdin --tty 'lalya-2-5f8b45dbc4-52tt7' -c scray-peer-cli -- /bin/sh /mnt/conf/peer/get-my-invoices.sh  super43 045\n"
   ]
  },
  {
   "cell_type": "code",
   "execution_count": null,
   "metadata": {},
   "outputs": [],
   "source": [
    "peers[pernames[2]].pod_name"
   ]
  },
  {
   "cell_type": "markdown",
   "metadata": {},
   "source": [
    "## add channel"
   ]
  },
  {
   "cell_type": "code",
   "execution_count": 23,
   "metadata": {},
   "outputs": [
    {
     "data": {
      "text/plain": [
       "'orderer-org1-scray-org-5cb87587c4-q95mm'"
      ]
     },
     "execution_count": 23,
     "metadata": {},
     "output_type": "execute_result"
    }
   ],
   "source": [
    "orderer.pod_name"
   ]
  },
  {
   "cell_type": "code",
   "execution_count": 25,
   "metadata": {},
   "outputs": [
    {
     "name": "stdout",
     "output_type": "stream",
     "text": [
      "\u001b[34m2021-11-11 08:32:57.480 UTC [common.tools.configtxgen] main -> INFO 001\u001b[0m Loading configuration\n",
      "\u001b[34m2021-11-11 08:32:57.500 UTC [common.tools.configtxgen.localconfig] Load -> INFO 002\u001b[0m Loaded configuration: /mnt/conf/orderer/configtx.yaml\n",
      "\u001b[34m2021-11-11 08:32:57.500 UTC [common.tools.configtxgen] doOutputChannelCreateTx -> INFO 003\u001b[0m Generating new channel configtx\n",
      "\u001b[34m2021-11-11 08:32:57.503 UTC [common.tools.configtxgen] doOutputChannelCreateTx -> INFO 004\u001b[0m Writing new channel tx\n",
      "\u001b[34m2021-11-11 08:32:57.568 UTC [channelCmd] InitCmdFactory -> INFO 001\u001b[0m Endorser and orderer connections initialized\n",
      "\u001b[34m2021-11-11 08:32:57.618 UTC [cli.common] readBlock -> INFO 002\u001b[0m Expect block, but got status: &{NOT_FOUND}\n",
      "\u001b[34m2021-11-11 08:32:57.621 UTC [channelCmd] InitCmdFactory -> INFO 003\u001b[0m Endorser and orderer connections initialized\n",
      "\u001b[34m2021-11-11 08:32:57.823 UTC [cli.common] readBlock -> INFO 004\u001b[0m Expect block, but got status: &{SERVICE_UNAVAILABLE}\n",
      "\u001b[34m2021-11-11 08:32:57.829 UTC [channelCmd] InitCmdFactory -> INFO 005\u001b[0m Endorser and orderer connections initialized\n",
      "\u001b[34m2021-11-11 08:32:58.031 UTC [cli.common] readBlock -> INFO 006\u001b[0m Expect block, but got status: &{SERVICE_UNAVAILABLE}\n",
      "\u001b[34m2021-11-11 08:32:58.036 UTC [channelCmd] InitCmdFactory -> INFO 007\u001b[0m Endorser and orderer connections initialized\n",
      "\u001b[34m2021-11-11 08:32:58.238 UTC [cli.common] readBlock -> INFO 008\u001b[0m Expect block, but got status: &{SERVICE_UNAVAILABLE}\n",
      "\u001b[34m2021-11-11 08:32:58.242 UTC [channelCmd] InitCmdFactory -> INFO 009\u001b[0m Endorser and orderer connections initialized\n",
      "\u001b[34m2021-11-11 08:32:58.444 UTC [cli.common] readBlock -> INFO 00a\u001b[0m Expect block, but got status: &{SERVICE_UNAVAILABLE}\n",
      "\u001b[34m2021-11-11 08:32:58.448 UTC [channelCmd] InitCmdFactory -> INFO 00b\u001b[0m Endorser and orderer connections initialized\n",
      "\u001b[34m2021-11-11 08:32:58.651 UTC [cli.common] readBlock -> INFO 00c\u001b[0m Expect block, but got status: &{SERVICE_UNAVAILABLE}\n",
      "\u001b[34m2021-11-11 08:32:58.658 UTC [channelCmd] InitCmdFactory -> INFO 00d\u001b[0m Endorser and orderer connections initialized\n",
      "\u001b[34m2021-11-11 08:32:58.873 UTC [cli.common] readBlock -> INFO 00e\u001b[0m Received block: 0\n"
     ]
    }
   ],
   "source": [
    "!/home/jovyan/work/usr/bin/kubectl exec -t orderer-org1-scray-org-5cb87587c4-q95mm -c scray-orderer-cli -- /bin/sh /mnt/conf/orderer/scripts/create_channel.sh super55 orderer.example.com 30081"
   ]
  },
  {
   "cell_type": "code",
   "execution_count": null,
   "metadata": {},
   "outputs": [],
   "source": [
    "add_channel('super20')"
   ]
  },
  {
   "cell_type": "code",
   "execution_count": null,
   "metadata": {},
   "outputs": [],
   "source": [
    "name = 'super30'\n",
    "cmd = toCmd(['/mnt/conf/orderer/scripts/create_channel.sh', name, 'orderer.example.com', '7050'])\n",
    "cmd, orderer.pod_name"
   ]
  },
  {
   "cell_type": "code",
   "execution_count": null,
   "metadata": {},
   "outputs": [],
   "source": [
    "executePeerCmd(orderer.pod_name, cmd, cli='scray-orderer-cli')"
   ]
  },
  {
   "cell_type": "code",
   "execution_count": null,
   "metadata": {},
   "outputs": [],
   "source": [
    "executePeerCmd(orderer.pod_name, 'peer channel list', cli='scray-orderer-cli')"
   ]
  },
  {
   "cell_type": "code",
   "execution_count": null,
   "metadata": {},
   "outputs": [],
   "source": [
    "cmd1 = ['/mnt/conf/orderer/scripts/create_channel.sh super20 orderer.example.com 7050']\n",
    "executePeerCmd(orderer.pod_name, cmd1, cli='scray-orderer-cli')"
   ]
  },
  {
   "cell_type": "code",
   "execution_count": null,
   "metadata": {},
   "outputs": [],
   "source": [
    "#cmd1 = ['/home/jovyan/work/usr/bin/kubectl', 'exec','-t', 'orderer-org1-scray-org-5f97c57d44-l6d5l', '-c', 'scray-orderer-cli','--', '/bin/sh', '-c','/mnt/conf/orderer/scripts/create_channel.sh super7 orderer.example.com 7050']\n",
    "\n",
    "#cmd2 = toCmd(['ls','-a'])\n",
    "cmd2 = toCmd(['/mnt/conf/orderer/scripts/create_channel.sh', 'super7', 'orderer.example.com', '7050'])\n",
    "\n",
    "cmd1 = ['/home/jovyan/work/usr/bin/kubectl', 'exec','-t', 'orderer-org1-scray-org-5f97c57d44-l6d5l', '-c', 'scray-orderer-cli','--', '/bin/sh', '-c',cmd2]\n",
    "\n",
    "\n",
    "print(toCmd(cmd1))\n",
    "#subprocess.check_output(cmd1)\n",
    "subprocess.run(cmd1, stdout = subprocess.PIPE, stderr=subprocess.PIPE)"
   ]
  },
  {
   "cell_type": "code",
   "execution_count": null,
   "metadata": {},
   "outputs": [],
   "source": [
    "!/home/jovyan/work/usr/bin/kubectl exec -it orderer-org1-scray-org-5f97c57d44-l6d5l -c scray-orderer-cli -- /bin/sh /mnt/conf/orderer/scripts/create_channel.sh super6 orderer.example.com 7050\n"
   ]
  },
  {
   "cell_type": "code",
   "execution_count": null,
   "metadata": {},
   "outputs": [],
   "source": [
    "orderer.pod_name"
   ]
  },
  {
   "cell_type": "code",
   "execution_count": null,
   "metadata": {},
   "outputs": [],
   "source": [
    "!/home/jovyan/work/usr/bin/kubectl exec --stdin --tty 'orderer-org1-scray-org-5f97c57d44-j5mbs' -c scray-orderer-cli  -- /bin/sh /mnt/conf/orderer/scripts/create_channel.sh 'super' orderer.example.com '7050'"
   ]
  },
  {
   "cell_type": "code",
   "execution_count": null,
   "metadata": {},
   "outputs": [],
   "source": [
    "# Create Peer\n",
    "\n",
    "peername='dalya8'\n",
    "addPeer(peername)\n",
    "peers[peername].__dict__"
   ]
  },
  {
   "cell_type": "code",
   "execution_count": 4,
   "metadata": {},
   "outputs": [],
   "source": [
    "##\n"
   ]
  },
  {
   "cell_type": "code",
   "execution_count": null,
   "metadata": {},
   "outputs": [],
   "source": [
    "executeKubectlCmd(['get', 'pods','-l', 'app=orderer-org1-scray-org','-o','jsonpath=\\'{.items[*].status.podIP}\\''])  "
   ]
  },
  {
   "cell_type": "code",
   "execution_count": null,
   "metadata": {},
   "outputs": [],
   "source": [
    "peers[peername].__dict__"
   ]
  },
  {
   "cell_type": "code",
   "execution_count": null,
   "metadata": {},
   "outputs": [],
   "source": [
    "orderer.__dict__"
   ]
  },
  {
   "cell_type": "markdown",
   "metadata": {},
   "source": [
    "## Export channel configuration"
   ]
  },
  {
   "cell_type": "code",
   "execution_count": null,
   "metadata": {},
   "outputs": [],
   "source": [
    "#https://github.com/scray/scray/blob/feature/k8s-peer/projects/invoice-hyperledger-fabric/containers/README.md#export-data\n",
    "\n",
    "SHARED_FS_HOST='10.14.128.38:30080'\n",
    "_result = SHARED_FS_HOST + '/channel/configuration/$CHANNEL_NAME/config.json'\n",
    "\n",
    "#kubectl exec --stdin --tty $ORDERER_POD -c scray-orderer-cli -- /bin/sh /mnt/conf/orderer/scripts/publish_channel_conf.sh $CHANNEL_NAME $SHARED_FS_HOST\n",
    "\n",
    "def export_channel_configuration(peer,channel_name,SHARED_FS_HOST):\n",
    "    strlist = ['/mnt/conf/orderer/scripts/publish_channel_conf.sh', channel_name,SHARED_FS_HOST]\n",
    "    return executePeerCmd(peer.pod_name,toCmd(strlist)) \n",
    "\n",
    "#_peer = peers[list(peers.keys())[0]]\n",
    "_peer = orderer\n",
    "channel_name = 'super'\n",
    "export_channel_configuration(_peer,channel_name,SHARED_FS_HOST)"
   ]
  },
  {
   "cell_type": "code",
   "execution_count": null,
   "metadata": {},
   "outputs": [],
   "source": [
    "#list(peers)[0]\n"
   ]
  },
  {
   "cell_type": "markdown",
   "metadata": {},
   "source": [
    "### display certificate "
   ]
  },
  {
   "cell_type": "code",
   "execution_count": 393,
   "metadata": {},
   "outputs": [],
   "source": [
    "# Cerificates\n",
    "from cryptography import x509\n",
    "from cryptography.hazmat.backends import default_backend\n",
    "from cryptography.x509.oid import NameOID\n",
    "\n",
    "#https://stackoverflow.com/questions/16899247/how-can-i-decode-a-ssl-certificate-using-python\n",
    "\n",
    "def getCrt(org='',domain='kubernetes.research.dev.seeburger.de',host='10.15.136.41:30080',user='scray', pwd='scray',channel='mychannel'):\n",
    "    cmd = ['curl', '--user',user + ':' + pwd, \n",
    "           'http://' + host + '/ca/' + channel + '/' + org + '-' + domain + '-ca.crt']\n",
    "    res = executeLocalCmd(cmd)\n",
    "    if 'CERTIFICATE' in str(res):\n",
    "        return res\n",
    "       \n",
    "def getOrgCrt(org=''):    \n",
    "    pem_data=getCrt(org)\n",
    "    if pem_data:\n",
    "        return x509.load_pem_x509_certificate(pem_data, default_backend())\n",
    "\n",
    "    \n",
    "def getcrt(peer,user='User1'):\n",
    "    strlist = ['cat',  ' /tmp/crt_target/hans/user.crt']\n",
    "    \n",
    "    #           '/mnt/conf/organizations/peerOrganizations/aabby-0.kubernetes.research.dev.seeburger.de/users/hans@aabby-0.kubernetes.research.dev.seeburger.de/msp/signcerts/hans@aabby-0.kubernetes.research.dev.seeburger.de-cert.pem']\n",
    "    cmd = toCmd(strlist)\n",
    "    #print(cmd)  \n",
    "    output = executePeerCmd(peer.pod_name,  cmd)\n",
    "    return output,_out    "
   ]
  },
  {
   "cell_type": "code",
   "execution_count": 403,
   "metadata": {},
   "outputs": [
    {
     "name": "stdout",
     "output_type": "stream",
     "text": [
      "/home/jovyan/work/usr/bin/kubectl exec -t aabby-0-6859c54c76-gvdqw -c scray-peer-cli -- /bin/sh -c cat  /tmp/crt_target/hans/user.crt\n"
     ]
    },
    {
     "data": {
      "text/plain": [
       "'-----BEGIN CERTIFICATE-----\\nMIIB7DCCAZICFAOrSfcVRsaXLX5qOSp/qCnY2XahMAoGCCqGSM49BAMCMIGgMQsw\\nCQYDVQQGEwJERTEOMAwGA1UECBMFQmFkZW4xEDAOBgNVBAcTB0JyZXR0ZW4xNTAz\\nBgNVBAoTLHphbHlhLTAua3ViZXJuZXRlcy5yZXNlYXJjaC5kZXYuc2VlYnVyZ2Vy\\nLmRlMTgwNgYDVQQDEy9jYS56YWx5YS0wLmt1YmVybmV0ZXMucmVzZWFyY2guZGV2\\nLnNlZWJ1cmdlci5kZTAeFw0yMTExMTAxNDUxMzBaFw0yMjExMDUxNDUxMzBaMFAx\\nDjAMBgNVBAMMBWhhbnMgMS4wLAYDVQQKDCVrdWJlcm5ldGVzLnJlc2VhcmNoLmRl\\ndi5zZWVidXJnZXIuZGUgMQ4wDAYDVQQLDAVhZG1pbjBZMBMGByqGSM49AgEGCCqG\\nSM49AwEHA0IABOVYd8LrcD2EcRciEFOaftZSQKyThsDf+vQOS5V8nLWA6+QNLTpk\\ni4sDHy+EEM1VgbvJLwQU39Rzb264fcNA8mowCgYIKoZIzj0EAwIDSAAwRQIgfpOO\\nToJT5RzQJraozc6dY2hZu0+7Oe/prmwAyY6W/tsCIQC8hyF5IibZ3A5hdqki1Qif\\n8tnOVBiJFP+yUAYlHCOakw==\\n-----END CERTIFICATE-----'"
      ]
     },
     "execution_count": 403,
     "metadata": {},
     "output_type": "execute_result"
    }
   ],
   "source": [
    "crt=getcrt(peer)[0][:-1]\n",
    "str(crt)"
   ]
  },
  {
   "cell_type": "code",
   "execution_count": null,
   "metadata": {},
   "outputs": [],
   "source": [
    "x509.load_pem_x509_certificate(crt, default_backend())"
   ]
  }
 ],
 "metadata": {
  "kernelspec": {
   "display_name": "Python 3 (ipykernel)",
   "language": "python",
   "name": "python3"
  },
  "language_info": {
   "codemirror_mode": {
    "name": "ipython",
    "version": 3
   },
   "file_extension": ".py",
   "mimetype": "text/x-python",
   "name": "python",
   "nbconvert_exporter": "python",
   "pygments_lexer": "ipython3",
   "version": "3.9.5"
  }
 },
 "nbformat": 4,
 "nbformat_minor": 4
}
