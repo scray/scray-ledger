{
 "cells": [
  {
   "cell_type": "markdown",
   "metadata": {},
   "source": [
    "# Kubernetes"
   ]
  },
  {
   "cell_type": "code",
   "execution_count": 1,
   "metadata": {},
   "outputs": [],
   "source": [
    "#!pip install ipynb\n",
    "from ipynb.fs.full.facturxWidget import *\n",
    "\n",
    "from ipynb.fs.full.kubernetesTool import *\n",
    "\n",
    "from ipynb.fs.full.invoiceSmartcontract import *\n",
    "\n",
    "from ipynb.fs.full.blockchain import *"
   ]
  },
  {
   "cell_type": "code",
   "execution_count": 3,
   "metadata": {},
   "outputs": [],
   "source": [
    "_blockchain = Blockchain(channel_name='invoicing26',shared_fs='10.15.130.111:80',sharepoint=SharePoint())\n",
    "cc = Chaincode()"
   ]
  },
  {
   "cell_type": "code",
   "execution_count": null,
   "metadata": {},
   "outputs": [],
   "source": [
    "cc.__dict__"
   ]
  },
  {
   "cell_type": "code",
   "execution_count": 4,
   "metadata": {},
   "outputs": [],
   "source": [
    "_blockchain.addPeer('aubonmoulin', hostname='fr',ca_country='FR',ca_province='Provence-Alpes-Cote d\\'Azur',ca_locality='Malaucene')\n",
    "_blockchain.addPeer('lyon-impots', hostname='gouv.fr',ca_country='FR',ca_province='Auvergne-Rhone-Alpes',ca_locality='Lyon')\n",
    "_blockchain.addPeer('austriafactor', hostname='at',ca_country='AT',ca_province='Steiermark',ca_locality='Graz')\n",
    "_blockchain.addPeer('megustaolive', hostname='es',ca_country='ES',ca_province='Andalusia',ca_locality='Dos Hermanas')"
   ]
  },
  {
   "cell_type": "markdown",
   "metadata": {},
   "source": [
    "### user"
   ]
  },
  {
   "cell_type": "code",
   "execution_count": 5,
   "metadata": {},
   "outputs": [],
   "source": [
    "_blockchain.installWalletTool()"
   ]
  },
  {
   "cell_type": "code",
   "execution_count": null,
   "metadata": {},
   "outputs": [],
   "source": [
    "_user = User(peer=_blockchain.peers['aubonmoulin'], name='Tony.Dubois@aubonmoulin.fr', channel_name=_blockchain.channel_name)\n",
    "#User(peer=_blockchain.peers['aubonmoulin'], name='Alexandre.Payet@majolieboutique.net', channel_name=_blockchain.channel_name)"
   ]
  },
  {
   "cell_type": "code",
   "execution_count": null,
   "metadata": {},
   "outputs": [],
   "source": [
    "_user.smart_contract.getAllRoles()"
   ]
  },
  {
   "cell_type": "code",
   "execution_count": null,
   "metadata": {},
   "outputs": [],
   "source": [
    "_keys = _user.smart_contract.getAllKeys()[1]"
   ]
  },
  {
   "cell_type": "code",
   "execution_count": null,
   "metadata": {},
   "outputs": [],
   "source": [
    "_user.smart_contract.deleteAsset(asset=_keys[7])"
   ]
  },
  {
   "cell_type": "code",
   "execution_count": null,
   "metadata": {},
   "outputs": [],
   "source": [
    "for key,_peer in _blockchain.peers.items():\n",
    "    _organizations = _peer.wallet_tool.getPeerOrganizations()\n",
    "    for _organization in _organizations:\n",
    "        porg = Organization(name=_organization)\n",
    "        _users = _peer.wallet_tool.getPeerUsers(_organization)\n",
    "        for _user in _users:\n",
    "            puser = User(peer=_peer, name=_user, channel_name=_blockchain.channel_name)\n",
    "            porg.addUser(user=puser)\n",
    "        _peer.organizations[_organization]=porg\n",
    "    "
   ]
  },
  {
   "cell_type": "code",
   "execution_count": null,
   "metadata": {},
   "outputs": [],
   "source": [
    "_blockchain.peers['aubonmoulin'].organizations['aubonmoulin.fr'].users['Tony.Dubois@aubonmoulin.fr'].__dict__\n",
    "\n",
    "#_blockchain.peers['lyon-impots'].organizations\n",
    "#_blockchain.peers"
   ]
  },
  {
   "cell_type": "code",
   "execution_count": null,
   "metadata": {},
   "outputs": [],
   "source": [
    "_smart_contract_aubonmoulin = InvoiceSmartContract(peer=_blockchain.peers['aubonmoulin'], user='Tony.Dubois@aubonmoulin.fr', channel_name=_blockchain.channel_name)"
   ]
  },
  {
   "cell_type": "code",
   "execution_count": null,
   "metadata": {},
   "outputs": [],
   "source": [
    "_smart_contract_lyon_impots = InvoiceSmartContract(peer=_blockchain.peers['lyon-impots'], user='Auguste.Boucher@lyon-impots.gouv.fr', channel_name=_blockchain.channel_name)"
   ]
  },
  {
   "cell_type": "code",
   "execution_count": null,
   "metadata": {},
   "outputs": [],
   "source": [
    "_smart_contract.getSubmittingClientIdentity()\n",
    "_smart_contract.getAllRoles()"
   ]
  },
  {
   "cell_type": "code",
   "execution_count": 6,
   "metadata": {},
   "outputs": [
    {
     "data": {
      "text/plain": [
       "('OK: 138 MiB in 84 packages\\nOK: 138 MiB in 84 packages\\ncreate_csr\\nCreate csr  for Auguste.Boucher@lyon-impots.gouv.fr\\nConfiguration\\n  CA cert path:   ../ca.org1.example.com-cert.pem \\n  CA key path:    ../priv_sk  \\n  CN of new cert: Auguste.Boucher@lyon-impots.gouv.fr \\n  Organisation:    \\nOK: 138 MiB in 84 packages\\nOK: 138 MiB in 84 packages\\npush_csr\\n10.15.130.111:80\\n<!DOCTYPE HTML PUBLIC \"-//IETF//DTD HTML 2.0//EN\">\\n<html><head>\\n<title>405 Method Not Allowed</title>\\n</head><body>\\n<h1>Method Not Allowed</h1>\\n<p>The requested method MKCOL is not allowed for the URL /csrs_to_sign/.</p>\\n</body></html>\\n<!DOCTYPE HTML PUBLIC \"-//IETF//DTD HTML 2.0//EN\">\\n<html><head>\\n<title>301 Moved Permanently</title>\\n</head><body>\\n<h1>Moved Permanently</h1>\\n<p>The document has moved <a href=\"http://10.15.130.111/csrs_to_sign/Auguste.Boucher@lyon-impots.gouv.fr/\">here</a>.</p>\\n</body></html>\\nReplace  http://10.15.130.111:80/csrs_to_sign/Auguste.Boucher@lyon-impots.gouv.fr/user.csr  if exits\\n<!DOCTYPE HTML PUBLIC \"-//IETF//DTD HTML 2.0//EN\">\\n<html><head>\\n<title>201 Created</title>\\n</head><body>\\n<h1>Created</h1>\\n<p>Resource /csrs_to_sign/Auguste.Boucher@lyon-impots.gouv.fr/user.csr has been created.</p>\\n</body></html>\\nConfiguration\\n  CA cert path:   ../ca.org1.example.com-cert.pem \\n  CA key path:    ../priv_sk  \\n  CN of new cert: Auguste.Boucher@lyon-impots.gouv.fr \\n  Organisation:    \\nOK: 138 MiB in 84 packages\\nOK: 138 MiB in 84 packages\\npull_csr\\nConfiguration\\n  CA cert path:   ../ca.org1.example.com-cert.pem \\n  CA key path:    ../priv_sk  \\n  CN of new cert: Auguste.Boucher@lyon-impots.gouv.fr \\n  Organisation:    \\nOK: 138 MiB in 84 packages\\nOK: 138 MiB in 84 packages\\nsign_csr\\nConfiguration\\n  CA cert path:   /mnt/conf/organizations/peerOrganizations/lyon-impots.gouv.fr/ca/ca.lyon-impots.gouv.fr-cert.pem \\n  CA key path:    /mnt/conf/organizations/peerOrganizations/lyon-impots.gouv.fr/ca/priv_sk  \\n  CN of new cert: Auguste.Boucher@lyon-impots.gouv.fr \\n  Organisation:    \\nOK: 138 MiB in 84 packages\\nOK: 138 MiB in 84 packages\\npublish_crt\\n<!DOCTYPE HTML PUBLIC \"-//IETF//DTD HTML 2.0//EN\">\\n<html><head>\\n<title>405 Method Not Allowed</title>\\n</head><body>\\n<h1>Method Not Allowed</h1>\\n<p>The requested method MKCOL is not allowed for the URL /signed_certs/.</p>\\n</body></html>\\n<!DOCTYPE HTML PUBLIC \"-//IETF//DTD HTML 2.0//EN\">\\n<html><head>\\n<title>301 Moved Permanently</title>\\n</head><body>\\n<h1>Moved Permanently</h1>\\n<p>The document has moved <a href=\"http://10.15.130.111/signed_certs/Auguste.Boucher@lyon-impots.gouv.fr/\">here</a>.</p>\\n</body></html>\\nReplace  Auguste.Boucher@lyon-impots.gouv.fr.crt  if exists\\n<!DOCTYPE HTML PUBLIC \"-//IETF//DTD HTML 2.0//EN\">\\n<html><head>\\n<title>201 Created</title>\\n</head><body>\\n<h1>Created</h1>\\n<p>Resource /signed_certs/Auguste.Boucher@lyon-impots.gouv.fr/Auguste.Boucher@lyon-impots.gouv.fr.crt has been created.</p>\\n</body></html>\\nConfiguration\\n  CA cert path:   ../ca.org1.example.com-cert.pem \\n  CA key path:    ../priv_sk  \\n  CN of new cert: Auguste.Boucher@lyon-impots.gouv.fr \\n  Organisation:    \\nOK: 138 MiB in 84 packages\\nOK: 138 MiB in 84 packages\\npull_signed_crt\\nConfiguration\\n  CA cert path:   ../ca.org1.example.com-cert.pem \\n  CA key path:    ../priv_sk  \\n  CN of new cert: Auguste.Boucher@lyon-impots.gouv.fr \\n  Organisation:    \\n',\n",
       " Output())"
      ]
     },
     "execution_count": 6,
     "metadata": {},
     "output_type": "execute_result"
    }
   ],
   "source": [
    "_blockchain.peers['aubonmoulin'].wallet_tool.addUser('Tony.Dubois','aubonmoulin.fr','aubonmoulin.fr')\n",
    "_blockchain.peers['aubonmoulin'].wallet_tool.addUser('Stephanie.Hoarau','hotelsaintdenis.re','aubonmoulin.fr')\n",
    "_blockchain.peers['aubonmoulin'].wallet_tool.addUser('Alexandre.Payet','majolieboutique.net','aubonmoulin.fr')\n",
    "_blockchain.peers['austriafactor'].wallet_tool.addUser('Emma.Steiner','austriafactor.at','austriafactor.at')\n",
    "_blockchain.peers['megustaolive'].wallet_tool.addUser('Pedro.Sanchez','megustaolive.es','megustaolive.es')\n",
    "_blockchain.peers['lyon-impots'].wallet_tool.addUser('Auguste.Boucher','lyon-impots.gouv.fr','lyon-impots.gouv.fr')"
   ]
  },
  {
   "cell_type": "code",
   "execution_count": null,
   "metadata": {},
   "outputs": [],
   "source": [
    "def appendRoles(peers):\n",
    "    peer=peers['lyon-impots']\n",
    "    appendRole(peer,user='Auguste.Boucher@lyon-impots.gouv.fr',role='TaxInspector')\n",
    "    peer_taxinspector=peer\n",
    "    #taxinspector=get_person_names_with_role('TaxInspector',roles)[0].split(',')[0].split('=')[1]  \n",
    "    taxinspector='Auguste.Boucher@lyon-impots.gouv.fr'\n",
    "\n",
    "    identity_taxinspector = getSubmittingClientIdentity(peer_taxinspector, user=taxinspector)[0]\n",
    "\n",
    "    peer=peers['aubonmoulin']\n",
    "    appendRole(peer,user='Tony.Dubois@aubonmoulin.fr',role='Seller',taxInspector=identity_taxinspector)\n",
    "    #appendRole(peer,user='Stephanie.Hoarau',role='Buyer')\n",
    "    #appendRole(peer,user='Alexandre.Payet',role='Buyer')\n",
    "\n",
    "    peer=peers['austriafactor']\n",
    "    appendRole(peer,user='Emma.Steiner@austriafactor.at',role='Factor',taxInspector=identity_taxinspector)\n",
    "\n",
    "    peer=peers['megustaolive']\n",
    "    appendRole(peer,user='Pedro.Sanchez@megustaolive.es',role='Buyer',taxInspector=identity_taxinspector)\n",
    "    appendRole(peer,user='Pedro.Sanchez@megustaolive.es',role='Seller',taxInspector=identity_taxinspector)"
   ]
  },
  {
   "cell_type": "code",
   "execution_count": null,
   "metadata": {},
   "outputs": [],
   "source": [
    "def getUser(_blockchain, _user):\n",
    "    _org = _user.split('@')[1]\n",
    "    for key,peer in _blockchain.peers.items():\n",
    "        if _org in peer.organizations.keys():\n",
    "            if _user in peer.organizations[_org].users.keys():\n",
    "                return peer.organizations[_org].users[_user]"
   ]
  },
  {
   "cell_type": "code",
   "execution_count": 48,
   "metadata": {},
   "outputs": [
    {
     "data": {
      "text/plain": [
       "('', Output())"
      ]
     },
     "execution_count": 48,
     "metadata": {},
     "output_type": "execute_result"
    }
   ],
   "source": [
    "getUser(_blockchain,'Auguste.Boucher@lyon-impots.gouv.fr').smart_contract.appendRole(role='TaxInspector')\n",
    "identity_taxinspector = getUser(_blockchain, 'Auguste.Boucher@lyon-impots.gouv.fr').smart_contract.getSubmittingClientIdentity()[0]\n",
    "getUser(_blockchain,'Emma.Steiner@austriafactor.at').smart_contract.appendRole(role='Factor',taxInspector=identity_taxinspector)\n",
    "getUser(_blockchain,'Tony.Dubois@aubonmoulin.fr').smart_contract.appendRole(role='Seller',taxInspector=identity_taxinspector)\n",
    "getUser(_blockchain,'Pedro.Sanchez@megustaolive.es').smart_contract.appendRole(role='Seller',taxInspector=identity_taxinspector)\n",
    "getUser(_blockchain,'Pedro.Sanchez@megustaolive.es').smart_contract.appendRole(role='Buyer',taxInspector=identity_taxinspector)"
   ]
  },
  {
   "cell_type": "code",
   "execution_count": 41,
   "metadata": {},
   "outputs": [
    {
     "data": {
      "text/plain": [
       "(['asset14',\n",
       "  'asset17',\n",
       "  'asset3',\n",
       "  'asset6',\n",
       "  'roles_x509::CN=Auguste.Boucher@lyon-impots.gouv.fr,OU=admin,O=kubernetes.research.dev.seeburger.de::CN=ca.lyon-impots.gouv.fr,O=lyon-impots.gouv.fr,L=Lyon,ST=Auvergne-Rhone-Alpes,C=FR',\n",
       "  'roles_x509::CN=Emma.Steiner@austriafactor.at,OU=admin,O=kubernetes.research.dev.seeburger.de::CN=ca.austriafactor.at,O=austriafactor.at,L=Graz,ST=Steiermark,C=AT',\n",
       "  'roles_x509::CN=Pedro.Sanchez@megustaolive.es,OU=admin,O=kubernetes.research.dev.seeburger.de::CN=ca.megustaolive.es,O=megustaolive.es,L=Dos,ST=Andalusia,C=ES',\n",
       "  'roles_x509::CN=Tony.Dubois@aubonmoulin.fr,OU=admin,O=kubernetes.research.dev.seeburger.de::CN=ca.aubonmoulin.fr,O=aubonmoulin.fr,L=Malaucene,ST=Provence-Alpes-Cote,C=FR'],\n",
       " Output())"
      ]
     },
     "execution_count": 41,
     "metadata": {},
     "output_type": "execute_result"
    }
   ],
   "source": [
    "_keys = getUser(_blockchain,'Tony.Dubois@aubonmoulin.fr').smart_contract.getAllKeys()\n",
    "_keys"
   ]
  },
  {
   "cell_type": "code",
   "execution_count": 37,
   "metadata": {},
   "outputs": [],
   "source": [
    "_smart_contract = getUser(_blockchain,'Tony.Dubois@aubonmoulin.fr').smart_contract"
   ]
  },
  {
   "cell_type": "code",
   "execution_count": 47,
   "metadata": {},
   "outputs": [
    {
     "data": {
      "text/plain": [
       "('', Output())"
      ]
     },
     "execution_count": 47,
     "metadata": {},
     "output_type": "execute_result"
    }
   ],
   "source": [
    "_keys = getUser(_blockchain,'Tony.Dubois@aubonmoulin.fr').smart_contract.getAllKeys()[0]\n",
    "_smart_contract = getUser(_blockchain,'Tony.Dubois@aubonmoulin.fr').smart_contract\n",
    "_smart_contract.deleteAsset(asset=_keys[4])\n",
    "_smart_contract.deleteAsset(asset=_keys[5])\n",
    "_smart_contract.deleteAsset(asset=_keys[6])\n",
    "_smart_contract.deleteAsset(asset=_keys[7])"
   ]
  },
  {
   "cell_type": "code",
   "execution_count": 49,
   "metadata": {},
   "outputs": [
    {
     "data": {
      "text/plain": [
       "([{'name': 'x509::CN=Auguste.Boucher@lyon-impots.gouv.fr,OU=admin,O=kubernetes.research.dev.seeburger.de::CN=ca.lyon-impots.gouv.fr,O=lyon-impots.gouv.fr,L=Lyon,ST=Auvergne-Rhone-Alpes,C=FR',\n",
       "   'mspid': 'lyon-impotsMSP',\n",
       "   'roles': ['TaxInspector'],\n",
       "   'taxInspector': ''},\n",
       "  {'name': 'x509::CN=Emma.Steiner@austriafactor.at,OU=admin,O=kubernetes.research.dev.seeburger.de::CN=ca.austriafactor.at,O=austriafactor.at,L=Graz,ST=Steiermark,C=AT',\n",
       "   'mspid': 'austriafactorMSP',\n",
       "   'roles': ['Factor'],\n",
       "   'taxInspector': 'x509::CN=Auguste.Boucher@lyon-impots.gouv.fr,OU=admin,O=kubernetes.research.dev.seeburger.de::CN=ca.lyon-impots.gouv.fr,O=lyon-impots.gouv.fr,L=Lyon,ST=Auvergne-Rhone-Alpes,C=FR'},\n",
       "  {'name': 'x509::CN=Pedro.Sanchez@megustaolive.es,OU=admin,O=kubernetes.research.dev.seeburger.de::CN=ca.megustaolive.es,O=megustaolive.es,L=Dos,ST=Andalusia,C=ES',\n",
       "   'mspid': 'megustaoliveMSP',\n",
       "   'roles': ['Seller', 'Buyer'],\n",
       "   'taxInspector': 'x509::CN=Auguste.Boucher@lyon-impots.gouv.fr,OU=admin,O=kubernetes.research.dev.seeburger.de::CN=ca.lyon-impots.gouv.fr,O=lyon-impots.gouv.fr,L=Lyon,ST=Auvergne-Rhone-Alpes,C=FR'},\n",
       "  {'name': 'x509::CN=Tony.Dubois@aubonmoulin.fr,OU=admin,O=kubernetes.research.dev.seeburger.de::CN=ca.aubonmoulin.fr,O=aubonmoulin.fr,L=Malaucene,ST=Provence-Alpes-Cote,C=FR',\n",
       "   'mspid': 'aubonmoulinMSP',\n",
       "   'roles': ['Seller'],\n",
       "   'taxInspector': 'x509::CN=Auguste.Boucher@lyon-impots.gouv.fr,OU=admin,O=kubernetes.research.dev.seeburger.de::CN=ca.lyon-impots.gouv.fr,O=lyon-impots.gouv.fr,L=Lyon,ST=Auvergne-Rhone-Alpes,C=FR'}],\n",
       " Output())"
      ]
     },
     "execution_count": 49,
     "metadata": {},
     "output_type": "execute_result"
    }
   ],
   "source": [
    "_smart_contract.getAllRoles()"
   ]
  },
  {
   "cell_type": "code",
   "execution_count": 33,
   "metadata": {},
   "outputs": [
    {
     "data": {
      "text/plain": [
       "({'name': 'x509::CN=Tony.Dubois@aubonmoulin.fr,OU=admin,O=kubernetes.research.dev.seeburger.de::CN=ca.aubonmoulin.fr,O=aubonmoulin.fr,L=Malaucene,ST=Provence-Alpes-Cote,C=FR',\n",
       "  'roles': ['aubonmoulinMSP'],\n",
       "  'taxInspector': 'Seller'},\n",
       " Output())"
      ]
     },
     "execution_count": 33,
     "metadata": {},
     "output_type": "execute_result"
    }
   ],
   "source": [
    "getUser(_blockchain,'Tony.Dubois@aubonmoulin.fr').smart_contract.getRoles()"
   ]
  },
  {
   "cell_type": "code",
   "execution_count": null,
   "metadata": {},
   "outputs": [],
   "source": [
    "#_smart_contract_lyon_impots.getAllRoles()\n",
    "_smart_contract_aubonmoulin.getRoles()\n",
    "#_out\n",
    "_smart_contract_lyon_impots.getRoles()\n",
    "_smart_contract_lyon_impots.getAllKeys()"
   ]
  },
  {
   "cell_type": "code",
   "execution_count": null,
   "metadata": {},
   "outputs": [],
   "source": [
    "_smart_contract_lyon_impots.getAllKeys()"
   ]
  },
  {
   "cell_type": "markdown",
   "metadata": {},
   "source": [
    "## cleanup"
   ]
  },
  {
   "cell_type": "code",
   "execution_count": null,
   "metadata": {},
   "outputs": [],
   "source": [
    "_blockchain.deletePeers()\n",
    "#_blockchain.peers"
   ]
  },
  {
   "cell_type": "markdown",
   "metadata": {},
   "source": [
    "## add channel"
   ]
  },
  {
   "cell_type": "code",
   "execution_count": null,
   "metadata": {},
   "outputs": [],
   "source": [
    "_blockchain.add_channel('invoicing26')"
   ]
  },
  {
   "cell_type": "markdown",
   "metadata": {},
   "source": [
    "## debug"
   ]
  },
  {
   "cell_type": "code",
   "execution_count": null,
   "metadata": {},
   "outputs": [],
   "source": [
    "out2.outputs[1]['text'].splitlines()"
   ]
  },
  {
   "cell_type": "code",
   "execution_count": null,
   "metadata": {},
   "outputs": [],
   "source": [
    "_out.outputs[0]['text'].splitlines()"
   ]
  },
  {
   "cell_type": "markdown",
   "metadata": {},
   "source": [
    "## create peers"
   ]
  },
  {
   "cell_type": "markdown",
   "metadata": {},
   "source": [
    "### endorse and join"
   ]
  },
  {
   "cell_type": "code",
   "execution_count": null,
   "metadata": {},
   "outputs": [],
   "source": [
    "## endorse and join\n",
    "import ipywidgets as widgets\n",
    "\n",
    "#orderer_ip,orderer_hostname,orderer_port,channel_name,shared_fs_host"
   ]
  },
  {
   "cell_type": "code",
   "execution_count": null,
   "metadata": {},
   "outputs": [],
   "source": [
    "_blockchain.endorse_and_join_all_peers()"
   ]
  },
  {
   "cell_type": "markdown",
   "metadata": {},
   "source": [
    "## upload chaincode to sharepoint"
   ]
  },
  {
   "cell_type": "code",
   "execution_count": null,
   "metadata": {},
   "outputs": [],
   "source": [
    "strlist = ['/bin/sh /opt/create-archive.sh',cc.hostname,cc.port,cc.label,cc.shared_fs]\n",
    "cmd = toCmd(strlist)\n",
    "print(cmd)\n",
    "#cmd = export_cmd + '  && ' + cmd\n",
    "output = executePeerCmd(getPod('cc-deployer'), cmd,cli='cc-deployer')"
   ]
  },
  {
   "cell_type": "markdown",
   "metadata": {},
   "source": [
    "## install chaincode"
   ]
  },
  {
   "cell_type": "code",
   "execution_count": 66,
   "metadata": {},
   "outputs": [
    {
     "name": "stderr",
     "output_type": "stream",
     "text": [
      "  % Total    % Received % Xferd  Average Speed   Time    Time     Time  Current\n",
      "                                 Dload  Upload   Total   Spent    Left  Speed\n",
      "100   433  100   433    0     0  28866      0 --:--:-- --:--:-- --:--:-- 30928\n",
      "Error: chaincode install failed with status: 500 - failed to invoke backing implementation of 'InstallChaincode': chaincode already successfully installed\n",
      "\u001b[34m2022-03-09 13:01:11.946 UTC [chaincodeCmd] ClientWait -> INFO 001\u001b[0m txid [76b4a3d5c0a7e3d9ab23e23f02c705daf805fc8c4604d59191a0c1a8d22fd483] committed with status (VALID) at peer0.aubonmoulin.fr:32432\n",
      "  % Total    % Received % Xferd  Average Speed   Time    Time     Time  Current\n",
      "                                 Dload  Upload   Total   Spent    Left  Speed\n",
      "100   433  100   433    0     0  54125      0 --:--:-- --:--:-- --:--:-- 54125\n",
      "Error: chaincode install failed with status: 500 - failed to invoke backing implementation of 'InstallChaincode': chaincode already successfully installed\n",
      "\u001b[34m2022-03-09 13:01:15.147 UTC [chaincodeCmd] ClientWait -> INFO 001\u001b[0m txid [c31a46dd434de9a32ed00fc8d0af623e6b375cba3d0be87ccf6e873032d7c23b] committed with status (VALID) at peer0.lyon-impots.gouv.fr:31222\n",
      "  % Total    % Received % Xferd  Average Speed   Time    Time     Time  Current\n",
      "                                 Dload  Upload   Total   Spent    Left  Speed\n",
      "100   433  100   433    0     0  27062      0 --:--:-- --:--:-- --:--:-- 28866\n",
      "Error: chaincode install failed with status: 500 - failed to invoke backing implementation of 'InstallChaincode': chaincode already successfully installed\n",
      "\u001b[34m2022-03-09 13:01:18.339 UTC [chaincodeCmd] ClientWait -> INFO 001\u001b[0m txid [cb13c9549c601e3e90da373d327e28bca28e6f2d02d447f8e102a4a8e5e9ffd7] committed with status (VALID) at peer0.austriafactor.at:30692\n",
      "  % Total    % Received % Xferd  Average Speed   Time    Time     Time  Current\n",
      "                                 Dload  Upload   Total   Spent    Left  Speed\n",
      "100   433  100   433    0     0  61857      0 --:--:-- --:--:-- --:--:-- 61857\n",
      "Error: chaincode install failed with status: 500 - failed to invoke backing implementation of 'InstallChaincode': chaincode already successfully installed\n",
      "\u001b[34m2022-03-09 13:01:21.520 UTC [chaincodeCmd] ClientWait -> INFO 001\u001b[0m txid [937a4147608903e39f847685584ef7eb66878b09fd381fc450549e567f266e3c] committed with status (VALID) at peer0.megustaolive.es:30123\n"
     ]
    }
   ],
   "source": [
    "_blockchain.installAndAproveChaincode( chain_code=cc)"
   ]
  },
  {
   "cell_type": "code",
   "execution_count": null,
   "metadata": {},
   "outputs": [],
   "source": [
    "_blockchain.peers['aubonmoulin'].commitChaincode(_blockchain.channel_name,pkgid=cc.pkgid)"
   ]
  },
  {
   "cell_type": "markdown",
   "metadata": {},
   "source": [
    "## add roles"
   ]
  },
  {
   "cell_type": "code",
   "execution_count": 75,
   "metadata": {},
   "outputs": [],
   "source": [
    "deleteAllInvoices(User(peer=_blockchain.peers['aubonmoulin'], name='Tony.Dubois@aubonmoulin.fr', channel_name=_blockchain.channel_name).smart_contract)              "
   ]
  },
  {
   "cell_type": "code",
   "execution_count": 76,
   "metadata": {},
   "outputs": [
    {
     "name": "stdout",
     "output_type": "stream",
     "text": [
      "'NoneType' object is not subscriptable\n",
      "'NoneType' object is not subscriptable\n",
      "'NoneType' object is not subscriptable\n",
      "'NoneType' object is not subscriptable\n",
      "'NoneType' object is not subscriptable\n",
      "'NoneType' object is not subscriptable\n",
      "'NoneType' object is not subscriptable\n",
      "'NoneType' object is not subscriptable\n",
      "'NoneType' object is not subscriptable\n",
      "'NoneType' object is not subscriptable\n",
      "'NoneType' object is not subscriptable\n",
      "'NoneType' object is not subscriptable\n",
      "'NoneType' object is not subscriptable\n",
      "'NoneType' object is not subscriptable\n",
      "'NoneType' object is not subscriptable\n"
     ]
    }
   ],
   "source": [
    "createInvoices(invoices,_blockchain)            "
   ]
  },
  {
   "cell_type": "code",
   "execution_count": null,
   "metadata": {},
   "outputs": [],
   "source": [
    "from typing import Dict, Any\n",
    "import hashlib\n",
    "import json\n",
    "\n",
    "def dict_hash(dictionary: Dict[str, Any]) -> str:\n",
    "    \"\"\"MD5 hash of a dictionary.\"\"\"\n",
    "    dhash = hashlib.md5()\n",
    "    # We need to sort arguments so {'a': 1, 'b': 2} is\n",
    "    # the same as {'b': 2, 'a': 1}\n",
    "    encoded = json.dumps(dictionary, sort_keys=True).encode()\n",
    "    dhash.update(encoded)\n",
    "    return dhash.hexdigest()\n"
   ]
  },
  {
   "cell_type": "code",
   "execution_count": 18,
   "metadata": {},
   "outputs": [
    {
     "data": {
      "text/plain": [
       "{'peer': <ipynb.fs.full.blockchain.KubernetesPeer at 0x7efeed68db20>,\n",
       " 'name': 'Tony.Dubois@aubonmoulin.fr',\n",
       " 'smart_contract': <ipynb.fs.full.invoiceSmartcontract.InvoiceSmartContract at 0x7efeed68d790>}"
      ]
     },
     "execution_count": 18,
     "metadata": {},
     "output_type": "execute_result"
    }
   ],
   "source": [
    "getUser(_blockchain,get_CN_of_invoice(invoices.iloc[3],'sellerTradeParty')).__dict__"
   ]
  },
  {
   "cell_type": "code",
   "execution_count": 26,
   "metadata": {},
   "outputs": [
    {
     "data": {
      "application/vnd.jupyter.widget-view+json": {
       "model_id": "3abf0c9901b74a5399e696b730436f2c",
       "version_major": 2,
       "version_minor": 0
      },
      "text/plain": [
       "Output()"
      ]
     },
     "metadata": {},
     "output_type": "display_data"
    }
   ],
   "source": [
    "invoice = invoices.iloc[3]\n",
    "seller = getUser(_blockchain,get_CN_of_invoice(invoice,'sellerTradeParty'))\n",
    "buyer  = getUser(_blockchain,get_CN_of_invoice(invoice,'buyerTradeParty')) \n",
    "seller_id = seller.smart_contract.getSubmittingClientIdentity()[0]\n",
    "buyer_id  = buyer.smart_contract.getSubmittingClientIdentity()[0]\n",
    "asset     = seller.smart_contract.getEmptyInvoice()[0]\n",
    "update_invoice(asset=asset,invoice=invoice,id=3,seller=seller_id,buyer=buyer_id)\n",
    "seller.smart_contract.createInvoice(arglist=getArgList(asset))[1]"
   ]
  },
  {
   "cell_type": "code",
   "execution_count": 53,
   "metadata": {},
   "outputs": [
    {
     "data": {
      "text/plain": [
       "(['asset14',\n",
       "  'asset17',\n",
       "  'asset3',\n",
       "  'asset6',\n",
       "  'roles_x509::CN=Auguste.Boucher@lyon-impots.gouv.fr,OU=admin,O=kubernetes.research.dev.seeburger.de::CN=ca.lyon-impots.gouv.fr,O=lyon-impots.gouv.fr,L=Lyon,ST=Auvergne-Rhone-Alpes,C=FR',\n",
       "  'roles_x509::CN=Emma.Steiner@austriafactor.at,OU=admin,O=kubernetes.research.dev.seeburger.de::CN=ca.austriafactor.at,O=austriafactor.at,L=Graz,ST=Steiermark,C=AT',\n",
       "  'roles_x509::CN=Pedro.Sanchez@megustaolive.es,OU=admin,O=kubernetes.research.dev.seeburger.de::CN=ca.megustaolive.es,O=megustaolive.es,L=Dos,ST=Andalusia,C=ES',\n",
       "  'roles_x509::CN=Tony.Dubois@aubonmoulin.fr,OU=admin,O=kubernetes.research.dev.seeburger.de::CN=ca.aubonmoulin.fr,O=aubonmoulin.fr,L=Malaucene,ST=Provence-Alpes-Cote,C=FR'],\n",
       " Output())"
      ]
     },
     "execution_count": 53,
     "metadata": {},
     "output_type": "execute_result"
    }
   ],
   "source": [
    "seller.smart_contract.getAllKeys()"
   ]
  },
  {
   "cell_type": "code",
   "execution_count": 52,
   "metadata": {},
   "outputs": [
    {
     "data": {
      "text/plain": [
       "({'ID': 'asset14',\n",
       "  'owner': 'x509::CN=Tony.Dubois@aubonmoulin.fr,OU=admin,O=kubernetes.research.dev.seeburger.de::CN=ca.aubonmoulin.fr,O=aubonmoulin.fr,L=Malaucene,ST=Provence-Alpes-Cote,C=FR',\n",
       "  'buyer': 'x509::CN=Stephanie.Hoarau@hotelsaintdenis.re,OU=admin,O=kubernetes.research.dev.seeburger.de::CN=ca.aubonmoulin.fr,O=aubonmoulin.fr,L=Malaucene,ST=Provence-Alpes-Cote,C=FR',\n",
       "  'hash': -2901837500345949450,\n",
       "  'invoiceNumber': 'FA-2017-0009',\n",
       "  'tax': 0,\n",
       "  'netto': 530.75,\n",
       "  'countryOrigin': 'FR',\n",
       "  'countryBuyer': 'RE',\n",
       "  'status': '',\n",
       "  'received': False,\n",
       "  'receivedOrder': False,\n",
       "  'sold': False,\n",
       "  'claimPaid': False,\n",
       "  'claimPaidBy': '',\n",
       "  'taxExemptionReason': 'Exoneration de TVA selon article 262 I du Code general des impots',\n",
       "  'taxReceived': False},\n",
       " Output())"
      ]
     },
     "execution_count": 52,
     "metadata": {},
     "output_type": "execute_result"
    }
   ],
   "source": [
    "seller.smart_contract.listInvoice(id='asset14')"
   ]
  },
  {
   "cell_type": "code",
   "execution_count": 22,
   "metadata": {},
   "outputs": [
    {
     "data": {
      "text/plain": [
       "'x509::CN=Tony.Dubois@aubonmoulin.fr,OU=admin,O=kubernetes.research.dev.seeburger.de::CN=ca.aubonmoulin.fr,O=aubonmoulin.fr,L=Malaucene,ST=Provence-Alpes-Cote,C=FR'"
      ]
     },
     "execution_count": 22,
     "metadata": {},
     "output_type": "execute_result"
    }
   ],
   "source": [
    "seller_id"
   ]
  },
  {
   "cell_type": "code",
   "execution_count": null,
   "metadata": {},
   "outputs": [],
   "source": [
    "User(peer=_blockchain.peers['aubonmoulin'], name='Tony.Dubois@aubonmoulin.fr', channel_name=_blockchain.channel_name).smart_contract.listInvoices()"
   ]
  },
  {
   "cell_type": "code",
   "execution_count": null,
   "metadata": {},
   "outputs": [],
   "source": [
    "invoice=invoices.iloc[3]\n",
    "getUser(_blockchain,get_CN_of_invoice(invoice,'sellerTradeParty'))"
   ]
  },
  {
   "cell_type": "code",
   "execution_count": null,
   "metadata": {},
   "outputs": [],
   "source": [
    "seller.smart_contract.getAllKeys()[0]"
   ]
  },
  {
   "cell_type": "code",
   "execution_count": 13,
   "metadata": {},
   "outputs": [],
   "source": [
    "invoices = get_invoices()\n",
    "#createInvoices(invoices,_blockchain.peers)\n",
    "#invoices"
   ]
  },
  {
   "cell_type": "code",
   "execution_count": null,
   "metadata": {},
   "outputs": [],
   "source": [
    "def get_org_of_invoice(invoice,party):\n",
    "    _name=strip_accents(getPathValue(invoice,'/supplyChainTradeTransaction/applicableHeaderTradeAgreement/' + party + '/definedTradeContact/')[0]['personName']['value'].replace(' ','.'))\n",
    "    _email=getPathValue(invoice,'/supplyChainTradeTransaction/applicableHeaderTradeAgreement/' + party + '/definedTradeContact/')[0]['emailURIUniversalCommunication']['uriid']['value']\n",
    "    return _email.split('@')[1]"
   ]
  },
  {
   "cell_type": "code",
   "execution_count": null,
   "metadata": {},
   "outputs": [],
   "source": [
    "User(peer=_blockchain.peers['aubonmoulin'], user='Tony.Dubois@aubonmoulin.fr', channel_name=_blockchain.channel_name).smart_contract.getSubmittingClientIdentity()"
   ]
  },
  {
   "cell_type": "code",
   "execution_count": null,
   "metadata": {},
   "outputs": [],
   "source": [
    "get_CN_of_invoice(invoice,'sellerTradeParty')"
   ]
  },
  {
   "cell_type": "code",
   "execution_count": null,
   "metadata": {},
   "outputs": [],
   "source": [
    "#list(asset)\n",
    "_smart_contract_aubonmoulin.getEmptyInvoice()[0]"
   ]
  },
  {
   "cell_type": "code",
   "execution_count": null,
   "metadata": {},
   "outputs": [],
   "source": [
    "InvoiceSmartContract(peer=_blockchain.peers['lyon-impots'], user='Auguste.Boucher@lyon-impots.gouv.fr').appendRole(role='TaxInspector')"
   ]
  },
  {
   "cell_type": "code",
   "execution_count": null,
   "metadata": {},
   "outputs": [],
   "source": [
    "InvoiceSmartContract(peer=_blockchain.peers['aubonmoulin'], user='Tony.Dubois@aubonmoulin.fr').appendRole(role='Seller', taxInspector='')"
   ]
  },
  {
   "cell_type": "code",
   "execution_count": null,
   "metadata": {},
   "outputs": [],
   "source": [
    "strlist = ['/bin/ls',  '/mnt/conf/organizations/peerOrganizations/']\n",
    "peer=_blockchain.peers['aubonmoulin']\n",
    "executePeerCmd(peer.pod_name,toCmd(strlist)).splitlines() "
   ]
  },
  {
   "cell_type": "code",
   "execution_count": null,
   "metadata": {},
   "outputs": [],
   "source": [
    "appendRoles(_blockchain.peers)\n",
    "#peer=_blockchain.peers['lyon-impots']\n",
    "#appendRole(peer,user='Auguste.Boucher@lyon-impots.gouv.fr',role='TaxInspector')"
   ]
  },
  {
   "cell_type": "code",
   "execution_count": null,
   "metadata": {},
   "outputs": [],
   "source": [
    "peer=_blockchain.peers['lyon-impots']\n",
    "getRoles(peer,user='Auguste.Boucher@lyon-impots.gouv.fr')[0]"
   ]
  },
  {
   "cell_type": "code",
   "execution_count": null,
   "metadata": {},
   "outputs": [],
   "source": [
    "callopt='{\"function\":\"AppendRole\",\"Args\":[\"x509::CN=Auguste.Boucher@lyon-impots.gouv.fr,OU=admin,O=kubernetes.research.dev.seeburger.de::CN=ca.lyon-impots.gouv.fr,O=lyon-impots.gouv.fr,L=Lyon,ST=Auvergne-Rhone-Alpes,C=FR\",\"TaxInspector\",\"\"]}'"
   ]
  },
  {
   "cell_type": "code",
   "execution_count": null,
   "metadata": {},
   "outputs": [],
   "source": [
    "peer=_blockchain.peers['lyon-impots']\n",
    "getAllKeys(peer)[1]"
   ]
  },
  {
   "cell_type": "code",
   "execution_count": null,
   "metadata": {},
   "outputs": [],
   "source": [
    "peer=_blockchain.peers['lyon-impots']\n",
    "callopt= '{\"function\":\"GetAllKeys\",\"Args\":[' + ']}'\n",
    "#peer.query(callopt,channel_name='invoicing18',user='Auguste.Boucher@lyon-impots.gouv.fr')\n",
    "peer.query(callopt,channel_name='invoicing18',user='User1')"
   ]
  },
  {
   "cell_type": "code",
   "execution_count": null,
   "metadata": {},
   "outputs": [],
   "source": [
    "getAllRoles(peer)\n",
    "getRoles(peer, user='Auguste.Boucher@lyon-impots.gouv.fr')"
   ]
  },
  {
   "cell_type": "code",
   "execution_count": null,
   "metadata": {},
   "outputs": [],
   "source": [
    "getRoleTransactions(peer)"
   ]
  },
  {
   "cell_type": "code",
   "execution_count": null,
   "metadata": {},
   "outputs": [],
   "source": [
    "invoices = get_invoices()\n",
    "createInvoices(invoices,_blockchain.peers)\n",
    "#invoices"
   ]
  },
  {
   "cell_type": "code",
   "execution_count": null,
   "metadata": {},
   "outputs": [],
   "source": [
    "peer=_blockchain.peers['aubonmoulin']\n",
    "getPeerOrganizations(peer)"
   ]
  },
  {
   "cell_type": "code",
   "execution_count": null,
   "metadata": {},
   "outputs": [],
   "source": [
    "get_peer_of_user('Tony.Dubois@aubonmoulin.fr',_blockchain.peers)"
   ]
  },
  {
   "cell_type": "code",
   "execution_count": null,
   "metadata": {},
   "outputs": [],
   "source": [
    "peer=_blockchain.peers['aubonmoulin']\n",
    "listInvoices(peer, user='Tony.Dubois@aubonmoulin.fr')[1]"
   ]
  },
  {
   "cell_type": "code",
   "execution_count": null,
   "metadata": {},
   "outputs": [],
   "source": [
    "peer=_blockchain.peers['aubonmoulin']\n",
    "InvoiceSmartContract(peer=peer, user='Tony.Dubois@aubonmoulin.fr').listInvoices()[0]"
   ]
  },
  {
   "cell_type": "code",
   "execution_count": null,
   "metadata": {},
   "outputs": [],
   "source": [
    "InvoiceSmartContract(peer=peer, user='Tony.Dubois@aubonmoulin.fr').__dict__"
   ]
  },
  {
   "cell_type": "code",
   "execution_count": null,
   "metadata": {},
   "outputs": [],
   "source": [
    "deleteAllInvoices(peer)  "
   ]
  }
 ],
 "metadata": {
  "kernelspec": {
   "display_name": "Python 3 (ipykernel)",
   "language": "python",
   "name": "python3"
  },
  "language_info": {
   "codemirror_mode": {
    "name": "ipython",
    "version": 3
   },
   "file_extension": ".py",
   "mimetype": "text/x-python",
   "name": "python",
   "nbconvert_exporter": "python",
   "pygments_lexer": "ipython3",
   "version": "3.9.5"
  }
 },
 "nbformat": 4,
 "nbformat_minor": 4
}
