{
 "cells": [
  {
   "cell_type": "markdown",
   "metadata": {},
   "source": [
    "# Kubernetes"
   ]
  },
  {
   "cell_type": "code",
   "execution_count": 1,
   "metadata": {},
   "outputs": [
    {
     "name": "stdout",
     "output_type": "stream",
     "text": [
      "aubonmoulin-79666dbdd9-mn8bf\n",
      "austriafactor-7fbf86dcf-25qkt\n",
      "cc-deployer-746f97765-dmjnw\n",
      "hl-fabric-data-share-deployment-6756f45c89-sbnrc\n",
      "invoice-chaincode-external-6d6dcf7d47-45j75\n",
      "invoice-net-chaincode-external-54cbcd776-8b7m6\n",
      "lyon-impots-77c667fb49-v8krj\n",
      "megustaolive-f477b7b59-ql8nz\n",
      "orderer-org1-scray-org-6dd8878cf5-725gs\n",
      "peer-11233-bd7b47d88-4kqcf\n",
      "peer-12188-595bf9fcd4-xhvft\n",
      "peer-1285-656bd6d976-hmv7g\n",
      "peer-17802-6cddbc865b-6cj6f\n",
      "peer-17975-75668f595d-pmvlj\n",
      "peer-18614-c4c75768d-qb6vd\n",
      "peer-27349-6f959c996b-k8c6h\n",
      "peer-27953-7468b8f67b-sgdmj\n",
      "peer-31954-7c6f95b9dd-jmhhl\n",
      "peer-3786-6df45f5d96-sz9ks\n",
      "peer-5557-b5f44cfcb-w8z6c\n",
      "peer-8373-794c47f854-mll4j\n",
      "peer-9603-78bcf474cb-x49q2\n",
      "peer205-599cbd5dd7-lw94k\n",
      "peer300-dc4859bfb-94f8s\n",
      "peer401-75f46f8d84-2ltsj\n",
      "peer404-799f74f9c4-727lz\n",
      "peer405-788f7d9c48-7wdkc\n",
      "peer505-64f744d5d-hmjwm\n",
      "peer506-67d98d58dd-rrc5z\n",
      "peer508-69d9b48964-z8tmv\n",
      "peer600-79df66bfbb-b4lh8\n",
      "peer601-84888f67bd-8h56p\n",
      "peer602-d8577b45d-l2wsq\n",
      "peer612-5c6fb597d4-jdd74\n",
      "peer660-c975d5c66-fzf5b\n",
      "store-f5996757c-prqv5\n",
      "task-pv-pod\n",
      "aubonmoulin\n",
      "austriafactor\n",
      "cc-deployer\n",
      "hl-fabric-data-share-deployment\n",
      "invoice-chaincode-external\n",
      "invoice-net-chaincode-external\n",
      "lyon-impots\n",
      "megustaolive\n",
      "orderer-org1-scray-org\n",
      "peer-11233\n",
      "peer-12188\n",
      "peer-1285\n",
      "peer-17802\n",
      "peer-17975\n",
      "peer-18614\n",
      "peer-27349\n",
      "peer-27953\n",
      "peer-31954\n",
      "peer-3786\n",
      "peer-5557\n",
      "peer-8373\n",
      "peer-9603\n",
      "peer205\n",
      "peer300\n",
      "peer401\n",
      "peer404\n",
      "peer405\n",
      "peer505\n",
      "peer506\n",
      "peer508\n",
      "peer600\n",
      "peer601\n",
      "peer602\n",
      "peer612\n",
      "peer660\n",
      "store\n",
      "aubonmoulin\n",
      "austriafactor\n",
      "hl-fabric-cc-external-invoice\n",
      "hl-fabric-cc-external-invoice-net\n",
      "hl-fabric-data-share-service\n",
      "kubernetes\n",
      "lyon-impots\n",
      "megustaolive\n",
      "orderer-org1-scray-org\n",
      "peer-11233\n",
      "peer-12188\n",
      "peer-1285\n",
      "peer-17802\n",
      "peer-17975\n",
      "peer-18614\n",
      "peer-27349\n",
      "peer-27953\n",
      "peer-31954\n",
      "peer-3786\n",
      "peer-5557\n",
      "peer-8373\n",
      "peer-9603\n",
      "peer100\n",
      "peer101\n",
      "peer102\n",
      "peer200\n",
      "peer201\n",
      "peer203\n",
      "peer204\n",
      "peer205\n",
      "peer210\n",
      "peer255\n",
      "peer256\n",
      "peer257\n",
      "peer259\n",
      "peer300\n",
      "peer400\n",
      "peer401\n",
      "peer403\n",
      "peer404\n",
      "peer405\n",
      "peer48\n",
      "peer49\n",
      "peer50\n",
      "peer505\n",
      "peer506\n",
      "peer508\n",
      "peer55\n",
      "peer600\n",
      "peer601\n",
      "peer602\n",
      "peer612\n",
      "peer660\n",
      "store\n",
      "store2\n",
      "30081Error from server (NotFound): pods \"orderer-org1-scray-org-5f97c57d44-qrz4b\" not found\n"
     ]
    },
    {
     "name": "stderr",
     "output_type": "stream",
     "text": [
      "Error from server (NotFound): services \"olya0\" not found\n",
      "Error from server (NotFound): services \"olya0\" not found\n"
     ]
    }
   ],
   "source": [
    "#!pip install ipynb\n",
    "from ipynb.fs.full.facturxWidget import *\n",
    "\n",
    "from ipynb.fs.full.kubernetesTool import *\n",
    "\n",
    "from ipynb.fs.full.invoiceSmartcontract import *\n",
    "\n",
    "from ipynb.fs.full.blockchain import *"
   ]
  },
  {
   "cell_type": "code",
   "execution_count": 2,
   "metadata": {},
   "outputs": [],
   "source": [
    "_blockchain = Blockchain(channel_name='invoicing25',shared_fs='10.15.130.111:80',sharepoint=SharePoint())\n",
    "cc = Chaincode()"
   ]
  },
  {
   "cell_type": "code",
   "execution_count": 3,
   "metadata": {},
   "outputs": [],
   "source": [
    "_blockchain.addPeer('aubonmoulin', hostname='fr',ca_country='FR',ca_province='Provence-Alpes-Cote d\\'Azur',ca_locality='Malaucene')\n",
    "_blockchain.addPeer('lyon-impots', hostname='gouv.fr',ca_country='FR',ca_province='Auvergne-Rhone-Alpes',ca_locality='Lyon')\n",
    "_blockchain.addPeer('austriafactor', hostname='at',ca_country='AT',ca_province='Steiermark',ca_locality='Graz')\n",
    "_blockchain.addPeer('megustaolive', hostname='es',ca_country='ES',ca_province='Andalusia',ca_locality='Dos Hermanas')"
   ]
  },
  {
   "cell_type": "markdown",
   "metadata": {},
   "source": [
    "### user"
   ]
  },
  {
   "cell_type": "code",
   "execution_count": 27,
   "metadata": {},
   "outputs": [],
   "source": [
    "_blockchain.installWalletTool()"
   ]
  },
  {
   "cell_type": "code",
   "execution_count": 13,
   "metadata": {},
   "outputs": [],
   "source": [
    "_user = User(peer=_blockchain.peers['aubonmoulin'], name='Tony.Dubois@aubonmoulin.fr', channel_name=_blockchain.channel_name)\n",
    "#User(peer=_blockchain.peers['aubonmoulin'], name='Alexandre.Payet@majolieboutique.net', channel_name=_blockchain.channel_name)"
   ]
  },
  {
   "cell_type": "code",
   "execution_count": 18,
   "metadata": {},
   "outputs": [
    {
     "data": {
      "text/plain": [
       "([{'name': 'x509::CN=Auguste.Boucher@lyon-impots.gouv.fr,OU=admin,O=kubernetes.research.dev.seeburger.de::CN=ca.lyon-impots.gouv.fr,O=lyon-impots.gouv.fr,L=Lyon,ST=Auvergne-Rhone-Alpes,C=FR',\n",
       "   'roles': ['TaxInspector'],\n",
       "   'taxInspector': ''},\n",
       "  {'name': 'x509::CN=Emma.Steiner@austriafactor.at,OU=admin,O=kubernetes.research.dev.seeburger.de::CN=ca.austriafactor.at,O=austriafactor.at,L=Graz,ST=Steiermark,C=AT',\n",
       "   'roles': ['Factor'],\n",
       "   'taxInspector': 'x509::CN=Auguste.Boucher@lyon-impots.gouv.fr,OU=admin,O=kubernetes.research.dev.seeburger.de::CN=ca.lyon-impots.gouv.fr,O=lyon-impots.gouv.fr,L=Lyon,ST=Auvergne-Rhone-Alpes,C=FR'},\n",
       "  {'name': 'x509::CN=Pedro.Sanchez@megustaolive.es,OU=admin,O=kubernetes.research.dev.seeburger.de::CN=ca.megustaolive.es,O=megustaolive.es,L=Dos,ST=Andalusia,C=ES',\n",
       "   'roles': ['Seller', 'Buyer'],\n",
       "   'taxInspector': 'x509::CN=Auguste.Boucher@lyon-impots.gouv.fr,OU=admin,O=kubernetes.research.dev.seeburger.de::CN=ca.lyon-impots.gouv.fr,O=lyon-impots.gouv.fr,L=Lyon,ST=Auvergne-Rhone-Alpes,C=FR'},\n",
       "  {'name': 'x509::CN=Tony.Dubois@aubonmoulin.fr,OU=admin,O=kubernetes.research.dev.seeburger.de::CN=ca.aubonmoulin.fr,O=aubonmoulin.fr,L=Malaucene,ST=Provence-Alpes-Cote,C=FR',\n",
       "   'roles': ['Seller'],\n",
       "   'taxInspector': 'x509::CN=Auguste.Boucher@lyon-impots.gouv.fr,OU=admin,O=kubernetes.research.dev.seeburger.de::CN=ca.lyon-impots.gouv.fr,O=lyon-impots.gouv.fr,L=Lyon,ST=Auvergne-Rhone-Alpes,C=FR'}],\n",
       " Output())"
      ]
     },
     "execution_count": 18,
     "metadata": {},
     "output_type": "execute_result"
    }
   ],
   "source": [
    "_user.smart_contract.getAllRoles()"
   ]
  },
  {
   "cell_type": "code",
   "execution_count": 28,
   "metadata": {},
   "outputs": [],
   "source": [
    "for key,_peer in _blockchain.peers.items():\n",
    "    _organizations = _peer.wallet_tool.getPeerOrganizations()\n",
    "    for _organization in _organizations:\n",
    "        porg = Organization(name=_organization)\n",
    "        _users = _peer.wallet_tool.getPeerUsers(_organization)\n",
    "        for _user in _users:\n",
    "            puser = User(peer=_peer, name=_user, channel_name=_blockchain.channel_name)\n",
    "            porg.addUser(user=puser)\n",
    "        _peer.organizations[_organization]=porg\n",
    "    "
   ]
  },
  {
   "cell_type": "code",
   "execution_count": null,
   "metadata": {},
   "outputs": [],
   "source": [
    "_blockchain.peers['aubonmoulin'].organizations['aubonmoulin.fr'].users['Tony.Dubois@aubonmoulin.fr'].__dict__\n",
    "\n",
    "#_blockchain.peers['lyon-impots'].organizations\n",
    "#_blockchain.peers"
   ]
  },
  {
   "cell_type": "code",
   "execution_count": null,
   "metadata": {},
   "outputs": [],
   "source": [
    "_smart_contract_aubonmoulin = InvoiceSmartContract(peer=_blockchain.peers['aubonmoulin'], user='Tony.Dubois@aubonmoulin.fr', channel_name=_blockchain.channel_name)"
   ]
  },
  {
   "cell_type": "code",
   "execution_count": null,
   "metadata": {},
   "outputs": [],
   "source": [
    "_smart_contract_lyon_impots = InvoiceSmartContract(peer=_blockchain.peers['lyon-impots'], user='Auguste.Boucher@lyon-impots.gouv.fr', channel_name=_blockchain.channel_name)"
   ]
  },
  {
   "cell_type": "code",
   "execution_count": null,
   "metadata": {},
   "outputs": [],
   "source": [
    "_smart_contract.getSubmittingClientIdentity()\n",
    "_smart_contract.getAllRoles()"
   ]
  },
  {
   "cell_type": "code",
   "execution_count": null,
   "metadata": {},
   "outputs": [],
   "source": [
    "_blockchain.peers['aubonmoulin'].wallet_tool.addUser('Tony.Dubois','aubonmoulin.fr','aubonmoulin.fr')\n",
    "_blockchain.peers['aubonmoulin'].wallet_tool.addUser('Stephanie.Hoarau','hotelsaintdenis.re','aubonmoulin.fr')\n",
    "_blockchain.peers['aubonmoulin'].wallet_tool.addUser('Alexandre.Payet','majolieboutique.net','aubonmoulin.fr')\n",
    "_blockchain.peers['austriafactor'].wallet_tool.addUser('Emma.Steiner','austriafactor.at','austriafactor.at')\n",
    "_blockchain.peers['megustaolive'].wallet_tool.addUser('Pedro.Sanchez','megustaolive.es','megustaolive.es')\n",
    "_blockchain.peers['lyon-impots'].wallet_tool.addUser('Auguste.Boucher','lyon-impots.gouv.fr','lyon-impots.gouv.fr')"
   ]
  },
  {
   "cell_type": "code",
   "execution_count": null,
   "metadata": {},
   "outputs": [],
   "source": [
    "def appendRoles(peers):\n",
    "    peer=peers['lyon-impots']\n",
    "    appendRole(peer,user='Auguste.Boucher@lyon-impots.gouv.fr',role='TaxInspector')\n",
    "    peer_taxinspector=peer\n",
    "    #taxinspector=get_person_names_with_role('TaxInspector',roles)[0].split(',')[0].split('=')[1]  \n",
    "    taxinspector='Auguste.Boucher@lyon-impots.gouv.fr'\n",
    "\n",
    "    identity_taxinspector = getSubmittingClientIdentity(peer_taxinspector, user=taxinspector)[0]\n",
    "\n",
    "    peer=peers['aubonmoulin']\n",
    "    appendRole(peer,user='Tony.Dubois@aubonmoulin.fr',role='Seller',taxInspector=identity_taxinspector)\n",
    "    #appendRole(peer,user='Stephanie.Hoarau',role='Buyer')\n",
    "    #appendRole(peer,user='Alexandre.Payet',role='Buyer')\n",
    "\n",
    "    peer=peers['austriafactor']\n",
    "    appendRole(peer,user='Emma.Steiner@austriafactor.at',role='Factor',taxInspector=identity_taxinspector)\n",
    "\n",
    "    peer=peers['megustaolive']\n",
    "    appendRole(peer,user='Pedro.Sanchez@megustaolive.es',role='Buyer',taxInspector=identity_taxinspector)\n",
    "    appendRole(peer,user='Pedro.Sanchez@megustaolive.es',role='Seller',taxInspector=identity_taxinspector)"
   ]
  },
  {
   "cell_type": "code",
   "execution_count": null,
   "metadata": {},
   "outputs": [],
   "source": [
    "def getUser(_blockchain, _user):\n",
    "    _org = _user.split('@')[1]\n",
    "    for key,peer in _blockchain.peers.items():\n",
    "        if _org in peer.organizations.keys():\n",
    "            if _user in peer.organizations[_org].users.keys():\n",
    "                return peer.organizations[_org].users[_user]"
   ]
  },
  {
   "cell_type": "code",
   "execution_count": null,
   "metadata": {},
   "outputs": [],
   "source": [
    "getUser(_blockchain,'Auguste.Boucher@lyon-impots.gouv.fr').smart_contract.appendRole(role='TaxInspector')\n",
    "identity_taxinspector = getUser(_blockchain, 'Auguste.Boucher@lyon-impots.gouv.fr').smart_contract.getSubmittingClientIdentity()[0]\n",
    "getUser(_blockchain,'Emma.Steiner@austriafactor.at').smart_contract.appendRole(role='Factor',taxInspector=identity_taxinspector)\n",
    "getUser(_blockchain,'Tony.Dubois@aubonmoulin.fr').smart_contract.appendRole(role='Seller',taxInspector=identity_taxinspector)\n",
    "getUser(_blockchain,'Pedro.Sanchez@megustaolive.es').smart_contract.appendRole(role='Seller',taxInspector=identity_taxinspector)\n",
    "getUser(_blockchain,'Pedro.Sanchez@megustaolive.es').smart_contract.appendRole(role='Buyer',taxInspector=identity_taxinspector)"
   ]
  },
  {
   "cell_type": "code",
   "execution_count": null,
   "metadata": {},
   "outputs": [],
   "source": [
    "getUser(_blockchain,'Tony.Dubois@aubonmoulin.fr').smart_contract.getAllRoles()"
   ]
  },
  {
   "cell_type": "code",
   "execution_count": null,
   "metadata": {},
   "outputs": [],
   "source": [
    "#_smart_contract_lyon_impots.getAllRoles()\n",
    "_smart_contract_aubonmoulin.getRoles()\n",
    "#_out\n",
    "_smart_contract_lyon_impots.getRoles()\n",
    "_smart_contract_lyon_impots.getAllKeys()"
   ]
  },
  {
   "cell_type": "code",
   "execution_count": null,
   "metadata": {},
   "outputs": [],
   "source": [
    "_smart_contract_lyon_impots.getAllKeys()"
   ]
  },
  {
   "cell_type": "markdown",
   "metadata": {},
   "source": [
    "## cleanup"
   ]
  },
  {
   "cell_type": "code",
   "execution_count": null,
   "metadata": {},
   "outputs": [],
   "source": [
    "_blockchain.deletePeers()\n",
    "#_blockchain.peers"
   ]
  },
  {
   "cell_type": "markdown",
   "metadata": {},
   "source": [
    "## add channel"
   ]
  },
  {
   "cell_type": "code",
   "execution_count": null,
   "metadata": {},
   "outputs": [],
   "source": [
    "_blockchain.add_channel('invoicing25')"
   ]
  },
  {
   "cell_type": "markdown",
   "metadata": {},
   "source": [
    "## debug"
   ]
  },
  {
   "cell_type": "code",
   "execution_count": null,
   "metadata": {},
   "outputs": [],
   "source": [
    "out2.outputs[1]['text'].splitlines()"
   ]
  },
  {
   "cell_type": "code",
   "execution_count": null,
   "metadata": {},
   "outputs": [],
   "source": [
    "_out.outputs[0]['text'].splitlines()"
   ]
  },
  {
   "cell_type": "markdown",
   "metadata": {},
   "source": [
    "## create peers"
   ]
  },
  {
   "cell_type": "markdown",
   "metadata": {},
   "source": [
    "### endorse and join"
   ]
  },
  {
   "cell_type": "code",
   "execution_count": null,
   "metadata": {},
   "outputs": [],
   "source": [
    "## endorse and join\n",
    "import ipywidgets as widgets\n",
    "\n",
    "#orderer_ip,orderer_hostname,orderer_port,channel_name,shared_fs_host"
   ]
  },
  {
   "cell_type": "code",
   "execution_count": null,
   "metadata": {},
   "outputs": [],
   "source": [
    "_blockchain.endorse_and_join_all_peers()"
   ]
  },
  {
   "cell_type": "markdown",
   "metadata": {},
   "source": [
    "## upload chaincode to sharepoint"
   ]
  },
  {
   "cell_type": "code",
   "execution_count": null,
   "metadata": {},
   "outputs": [],
   "source": [
    "strlist = ['/bin/sh /opt/create-archive.sh',cc.hostname,cc.port,cc.label,cc.shared_fs]\n",
    "cmd = toCmd(strlist)\n",
    "print(cmd)\n",
    "#cmd = export_cmd + '  && ' + cmd\n",
    "output = executePeerCmd(getPod('cc-deployer'), cmd,cli='cc-deployer')"
   ]
  },
  {
   "cell_type": "markdown",
   "metadata": {},
   "source": [
    "## install chaincode"
   ]
  },
  {
   "cell_type": "code",
   "execution_count": null,
   "metadata": {},
   "outputs": [],
   "source": [
    "_blockchain.installAndAproveChaincode(channel_name=_blockchain.channel_name, chain_code=cc)"
   ]
  },
  {
   "cell_type": "code",
   "execution_count": null,
   "metadata": {},
   "outputs": [],
   "source": [
    "_blockchain.peers['aubonmoulin'].commitChaincode(_blockchain.channel_name,pkgid=cc.pkgid)"
   ]
  },
  {
   "cell_type": "markdown",
   "metadata": {},
   "source": [
    "## add roles"
   ]
  },
  {
   "cell_type": "code",
   "execution_count": 45,
   "metadata": {},
   "outputs": [
    {
     "name": "stdout",
     "output_type": "stream",
     "text": [
      "{\"function\":\"DeleteAsset\",\"Args\":[\"asset14\"]}\n",
      "{\"function\":\"DeleteAsset\",\"Args\":[\"asset17\"]}\n",
      "{\"function\":\"DeleteAsset\",\"Args\":[\"asset3\"]}\n",
      "{\"function\":\"DeleteAsset\",\"Args\":[\"asset6\"]}\n"
     ]
    }
   ],
   "source": [
    "deleteAllInvoices(User(peer=_blockchain.peers['aubonmoulin'], name='Tony.Dubois@aubonmoulin.fr', channel_name=_blockchain.channel_name).smart_contract)              "
   ]
  },
  {
   "cell_type": "code",
   "execution_count": 55,
   "metadata": {},
   "outputs": [],
   "source": [
    "from typing import Dict, Any\n",
    "import hashlib\n",
    "import json\n",
    "\n",
    "def dict_hash(dictionary: Dict[str, Any]) -> str:\n",
    "    \"\"\"MD5 hash of a dictionary.\"\"\"\n",
    "    dhash = hashlib.md5()\n",
    "    # We need to sort arguments so {'a': 1, 'b': 2} is\n",
    "    # the same as {'b': 2, 'a': 1}\n",
    "    encoded = json.dumps(dictionary, sort_keys=True).encode()\n",
    "    dhash.update(encoded)\n",
    "    return dhash.hexdigest()\n"
   ]
  },
  {
   "cell_type": "code",
   "execution_count": 46,
   "metadata": {},
   "outputs": [
    {
     "name": "stdout",
     "output_type": "stream",
     "text": [
      "'NoneType' object is not subscriptable\n",
      "'NoneType' object is not subscriptable\n",
      "'NoneType' object is not subscriptable\n",
      "{\"function\":\"CreateInvoice\",\"Args\":[\"asset3\",\"x509::CN=Tony.Dubois@aubonmoulin.fr,OU=admin,O=kubernetes.research.dev.seeburger.de::CN=ca.aubonmoulin.fr,O=aubonmoulin.fr,L=Malaucene,ST=Provence-Alpes-Cote,C=FR\",\"x509::CN=Alexandre.Payet@majolieboutique.net,OU=admin,O=kubernetes.research.dev.seeburger.de::CN=ca.aubonmoulin.fr,O=aubonmoulin.fr,L=Malaucene,ST=Provence-Alpes-Cote,C=FR\",\"-6679375540195564355\",\"AV-2017-0005\",\"14.99\",\"218.48\",\"FR\",\"FR\",\"\",\"False\",\"False\",\"False\",\"False\",\"\",\"\",\"False\"]}\n",
      "'NoneType' object is not subscriptable\n",
      "'NoneType' object is not subscriptable\n",
      "{\"function\":\"CreateInvoice\",\"Args\":[\"asset6\",\"x509::CN=Tony.Dubois@aubonmoulin.fr,OU=admin,O=kubernetes.research.dev.seeburger.de::CN=ca.aubonmoulin.fr,O=aubonmoulin.fr,L=Malaucene,ST=Provence-Alpes-Cote,C=FR\",\"x509::CN=Alexandre.Payet@majolieboutique.net,OU=admin,O=kubernetes.research.dev.seeburger.de::CN=ca.aubonmoulin.fr,O=aubonmoulin.fr,L=Malaucene,ST=Provence-Alpes-Cote,C=FR\",\"-6366548217084274917\",\"FA-2017-0010\",\"46.25\",\"624.90\",\"FR\",\"FR\",\"\",\"False\",\"False\",\"False\",\"False\",\"\",\"\",\"False\"]}\n",
      "'NoneType' object is not subscriptable\n",
      "'NoneType' object is not subscriptable\n",
      "'NoneType' object is not subscriptable\n",
      "'NoneType' object is not subscriptable\n",
      "'NoneType' object is not subscriptable\n",
      "'NoneType' object is not subscriptable\n",
      "'NoneType' object is not subscriptable\n",
      "{\"function\":\"CreateInvoice\",\"Args\":[\"asset14\",\"x509::CN=Tony.Dubois@aubonmoulin.fr,OU=admin,O=kubernetes.research.dev.seeburger.de::CN=ca.aubonmoulin.fr,O=aubonmoulin.fr,L=Malaucene,ST=Provence-Alpes-Cote,C=FR\",\"x509::CN=Stephanie.Hoarau@hotelsaintdenis.re,OU=admin,O=kubernetes.research.dev.seeburger.de::CN=ca.aubonmoulin.fr,O=aubonmoulin.fr,L=Malaucene,ST=Provence-Alpes-Cote,C=FR\",\"4757003712092071063\",\"FA-2017-0009\",\"0.00\",\"530.75\",\"FR\",\"RE\",\"\",\"False\",\"False\",\"False\",\"False\",\"\",\"Exoneration de TVA selon article 262 I du Code general des impots\",\"False\"]}\n",
      "'NoneType' object is not subscriptable\n",
      "{\"function\":\"CreateInvoice\",\"Args\":[\"asset16\",\"x509::CN=Tony.Dubois@aubonmoulin.fr,OU=admin,O=kubernetes.research.dev.seeburger.de::CN=ca.aubonmoulin.fr,O=aubonmoulin.fr,L=Malaucene,ST=Provence-Alpes-Cote,C=FR\",\"x509::CN=Pedro.Sanchez@megustaolive.es,OU=admin,O=kubernetes.research.dev.seeburger.de::CN=ca.megustaolive.es,O=megustaolive.es,L=Dos,ST=Andalusia,C=ES\",\"1005470987621841715\",\"FA-2017-0008\",\"0.00\",\"2076.76\",\"FR\",\"ES\",\"\",\"False\",\"False\",\"False\",\"False\",\"\",\"French VAT exemption according to articles 262 ter I (for products) and/or 283-2 (for services) of \"CGI\"\",\"False\"]}\n",
      "{\"function\":\"CreateInvoice\",\"Args\":[\"asset17\",\"x509::CN=Tony.Dubois@aubonmoulin.fr,OU=admin,O=kubernetes.research.dev.seeburger.de::CN=ca.aubonmoulin.fr,O=aubonmoulin.fr,L=Malaucene,ST=Provence-Alpes-Cote,C=FR\",\"x509::CN=Alexandre.Payet@majolieboutique.net,OU=admin,O=kubernetes.research.dev.seeburger.de::CN=ca.aubonmoulin.fr,O=aubonmoulin.fr,L=Malaucene,ST=Provence-Alpes-Cote,C=FR\",\"1318279687023380575\",\"AV-2017-0005\",\"-14.99\",\"-218.48\",\"FR\",\"FR\",\"\",\"False\",\"False\",\"False\",\"False\",\"\",\"\",\"False\"]}\n",
      "'NoneType' object is not subscriptable\n",
      "'NoneType' object is not subscriptable\n"
     ]
    }
   ],
   "source": [
    "createInvoices(invoices,_blockchain)            "
   ]
  },
  {
   "cell_type": "code",
   "execution_count": 34,
   "metadata": {},
   "outputs": [
    {
     "data": {
      "text/plain": [
       "('', Output())"
      ]
     },
     "execution_count": 34,
     "metadata": {},
     "output_type": "execute_result"
    }
   ],
   "source": [
    "User(peer=_blockchain.peers['aubonmoulin'], name='Tony.Dubois@aubonmoulin.fr', channel_name=_blockchain.channel_name).smart_contract.listInvoices()"
   ]
  },
  {
   "cell_type": "code",
   "execution_count": 26,
   "metadata": {},
   "outputs": [
    {
     "data": {
      "text/plain": [
       "'Tony.Dubois@aubonmoulin.fr'"
      ]
     },
     "execution_count": 26,
     "metadata": {},
     "output_type": "execute_result"
    }
   ],
   "source": [
    "invoice=invoices.iloc[3]\n",
    "getUser(_blockchain,get_CN_of_invoice(invoice,'sellerTradeParty'))"
   ]
  },
  {
   "cell_type": "code",
   "execution_count": null,
   "metadata": {},
   "outputs": [],
   "source": [
    "seller.smart_contract.getAllKeys()[0]"
   ]
  },
  {
   "cell_type": "code",
   "execution_count": null,
   "metadata": {},
   "outputs": [],
   "source": [
    "invoices = get_invoices()\n",
    "#createInvoices(invoices,_blockchain.peers)\n",
    "#invoices"
   ]
  },
  {
   "cell_type": "code",
   "execution_count": null,
   "metadata": {},
   "outputs": [],
   "source": [
    "def get_org_of_invoice(invoice,party):\n",
    "    _name=strip_accents(getPathValue(invoice,'/supplyChainTradeTransaction/applicableHeaderTradeAgreement/' + party + '/definedTradeContact/')[0]['personName']['value'].replace(' ','.'))\n",
    "    _email=getPathValue(invoice,'/supplyChainTradeTransaction/applicableHeaderTradeAgreement/' + party + '/definedTradeContact/')[0]['emailURIUniversalCommunication']['uriid']['value']\n",
    "    return _email.split('@')[1]"
   ]
  },
  {
   "cell_type": "code",
   "execution_count": null,
   "metadata": {},
   "outputs": [],
   "source": [
    "User(peer=_blockchain.peers['aubonmoulin'], user='Tony.Dubois@aubonmoulin.fr', channel_name=_blockchain.channel_name).smart_contract.getSubmittingClientIdentity()"
   ]
  },
  {
   "cell_type": "code",
   "execution_count": null,
   "metadata": {},
   "outputs": [],
   "source": [
    "get_CN_of_invoice(invoice,'sellerTradeParty')"
   ]
  },
  {
   "cell_type": "code",
   "execution_count": 11,
   "metadata": {},
   "outputs": [
    {
     "ename": "NameError",
     "evalue": "name '_smart_contract_aubonmoulin' is not defined",
     "output_type": "error",
     "traceback": [
      "\u001b[0;31m---------------------------------------------------------------------------\u001b[0m",
      "\u001b[0;31mNameError\u001b[0m                                 Traceback (most recent call last)",
      "\u001b[0;32m/tmp/ipykernel_28594/3688387432.py\u001b[0m in \u001b[0;36m<module>\u001b[0;34m\u001b[0m\n\u001b[1;32m      1\u001b[0m \u001b[0;31m#list(asset)\u001b[0m\u001b[0;34m\u001b[0m\u001b[0;34m\u001b[0m\u001b[0;34m\u001b[0m\u001b[0m\n\u001b[0;32m----> 2\u001b[0;31m \u001b[0m_smart_contract_aubonmoulin\u001b[0m\u001b[0;34m.\u001b[0m\u001b[0mgetEmptyInvoice\u001b[0m\u001b[0;34m(\u001b[0m\u001b[0;34m)\u001b[0m\u001b[0;34m[\u001b[0m\u001b[0;36m0\u001b[0m\u001b[0;34m]\u001b[0m\u001b[0;34m\u001b[0m\u001b[0;34m\u001b[0m\u001b[0m\n\u001b[0m",
      "\u001b[0;31mNameError\u001b[0m: name '_smart_contract_aubonmoulin' is not defined"
     ]
    }
   ],
   "source": [
    "#list(asset)\n",
    "_smart_contract_aubonmoulin.getEmptyInvoice()[0]"
   ]
  },
  {
   "cell_type": "code",
   "execution_count": null,
   "metadata": {},
   "outputs": [],
   "source": [
    "InvoiceSmartContract(peer=_blockchain.peers['lyon-impots'], user='Auguste.Boucher@lyon-impots.gouv.fr').appendRole(role='TaxInspector')"
   ]
  },
  {
   "cell_type": "code",
   "execution_count": null,
   "metadata": {},
   "outputs": [],
   "source": [
    "InvoiceSmartContract(peer=_blockchain.peers['aubonmoulin'], user='Tony.Dubois@aubonmoulin.fr').appendRole(role='Seller', taxInspector='')"
   ]
  },
  {
   "cell_type": "code",
   "execution_count": null,
   "metadata": {},
   "outputs": [],
   "source": [
    "strlist = ['/bin/ls',  '/mnt/conf/organizations/peerOrganizations/']\n",
    "peer=_blockchain.peers['aubonmoulin']\n",
    "executePeerCmd(peer.pod_name,toCmd(strlist)).splitlines() "
   ]
  },
  {
   "cell_type": "code",
   "execution_count": null,
   "metadata": {},
   "outputs": [],
   "source": [
    "appendRoles(_blockchain.peers)\n",
    "#peer=_blockchain.peers['lyon-impots']\n",
    "#appendRole(peer,user='Auguste.Boucher@lyon-impots.gouv.fr',role='TaxInspector')"
   ]
  },
  {
   "cell_type": "code",
   "execution_count": 7,
   "metadata": {},
   "outputs": [
    {
     "data": {
      "text/plain": [
       "'Command \\'[\\'/home/jovyan/work/usr/bin/kubectl\\', \\'exec\\', \\'-t\\', \\'lyon-impots-77c667fb49-v8krj\\', \\'-c\\', \\'scray-peer-cli\\', \\'--\\', \\'/bin/sh\\', \\'-c\\', \\'export CORE_PEER_MSPCONFIGPATH=/mnt/conf/organizations/peerOrganizations/lyon-impots.gouv.fr/users/Auguste.Boucher@lyon-impots.gouv.fr/msp/  && peer chaincode query -C invoicing18 -n basic -c \\\\\\'{\"function\":\"GetRoles\",\"Args\":[]}\\\\\\'\\']\\' returned non-zero exit status 1.'"
      ]
     },
     "execution_count": 7,
     "metadata": {},
     "output_type": "execute_result"
    }
   ],
   "source": [
    "peer=_blockchain.peers['lyon-impots']\n",
    "getRoles(peer,user='Auguste.Boucher@lyon-impots.gouv.fr')[0]"
   ]
  },
  {
   "cell_type": "code",
   "execution_count": null,
   "metadata": {},
   "outputs": [],
   "source": [
    "callopt='{\"function\":\"AppendRole\",\"Args\":[\"x509::CN=Auguste.Boucher@lyon-impots.gouv.fr,OU=admin,O=kubernetes.research.dev.seeburger.de::CN=ca.lyon-impots.gouv.fr,O=lyon-impots.gouv.fr,L=Lyon,ST=Auvergne-Rhone-Alpes,C=FR\",\"TaxInspector\",\"\"]}'"
   ]
  },
  {
   "cell_type": "code",
   "execution_count": 10,
   "metadata": {},
   "outputs": [
    {
     "data": {
      "application/vnd.jupyter.widget-view+json": {
       "model_id": "b6382da70b39411db9c4d9573e4a40b4",
       "version_major": 2,
       "version_minor": 0
      },
      "text/plain": [
       "Output()"
      ]
     },
     "metadata": {},
     "output_type": "display_data"
    }
   ],
   "source": [
    "peer=_blockchain.peers['lyon-impots']\n",
    "getAllKeys(peer)[1]"
   ]
  },
  {
   "cell_type": "code",
   "execution_count": null,
   "metadata": {},
   "outputs": [],
   "source": [
    "peer=_blockchain.peers['lyon-impots']\n",
    "callopt= '{\"function\":\"GetAllKeys\",\"Args\":[' + ']}'\n",
    "#peer.query(callopt,channel_name='invoicing18',user='Auguste.Boucher@lyon-impots.gouv.fr')\n",
    "peer.query(callopt,channel_name='invoicing18',user='User1')"
   ]
  },
  {
   "cell_type": "code",
   "execution_count": null,
   "metadata": {},
   "outputs": [],
   "source": [
    "getAllRoles(peer)\n",
    "getRoles(peer, user='Auguste.Boucher@lyon-impots.gouv.fr')"
   ]
  },
  {
   "cell_type": "code",
   "execution_count": null,
   "metadata": {},
   "outputs": [],
   "source": [
    "getRoleTransactions(peer)"
   ]
  },
  {
   "cell_type": "code",
   "execution_count": null,
   "metadata": {},
   "outputs": [],
   "source": [
    "invoices = get_invoices()\n",
    "createInvoices(invoices,_blockchain.peers)\n",
    "#invoices"
   ]
  },
  {
   "cell_type": "code",
   "execution_count": null,
   "metadata": {},
   "outputs": [],
   "source": [
    "peer=_blockchain.peers['aubonmoulin']\n",
    "getPeerOrganizations(peer)"
   ]
  },
  {
   "cell_type": "code",
   "execution_count": null,
   "metadata": {},
   "outputs": [],
   "source": [
    "get_peer_of_user('Tony.Dubois@aubonmoulin.fr',_blockchain.peers)"
   ]
  },
  {
   "cell_type": "code",
   "execution_count": null,
   "metadata": {},
   "outputs": [],
   "source": [
    "peer=_blockchain.peers['aubonmoulin']\n",
    "listInvoices(peer, user='Tony.Dubois@aubonmoulin.fr')[1]"
   ]
  },
  {
   "cell_type": "code",
   "execution_count": null,
   "metadata": {},
   "outputs": [],
   "source": [
    "peer=_blockchain.peers['aubonmoulin']\n",
    "InvoiceSmartContract(peer=peer, user='Tony.Dubois@aubonmoulin.fr').listInvoices()[0]"
   ]
  },
  {
   "cell_type": "code",
   "execution_count": null,
   "metadata": {},
   "outputs": [],
   "source": [
    "InvoiceSmartContract(peer=peer, user='Tony.Dubois@aubonmoulin.fr').__dict__"
   ]
  },
  {
   "cell_type": "code",
   "execution_count": null,
   "metadata": {},
   "outputs": [],
   "source": [
    "deleteAllInvoices(peer)  "
   ]
  }
 ],
 "metadata": {
  "kernelspec": {
   "display_name": "Python 3 (ipykernel)",
   "language": "python",
   "name": "python3"
  },
  "language_info": {
   "codemirror_mode": {
    "name": "ipython",
    "version": 3
   },
   "file_extension": ".py",
   "mimetype": "text/x-python",
   "name": "python",
   "nbconvert_exporter": "python",
   "pygments_lexer": "ipython3",
   "version": "3.9.5"
  }
 },
 "nbformat": 4,
 "nbformat_minor": 4
}
