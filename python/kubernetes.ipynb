{
 "cells": [
  {
   "cell_type": "markdown",
   "metadata": {},
   "source": [
    "# Kubernetes"
   ]
  },
  {
   "cell_type": "code",
   "execution_count": 1,
   "metadata": {},
   "outputs": [],
   "source": [
    "#!pip install ipynb\n",
    "from ipynb.fs.full.facturxWidget import *\n",
    "\n",
    "from ipynb.fs.full.kubernetesTool import *\n",
    "\n",
    "from ipynb.fs.full.invoiceSmartcontract import *\n",
    "\n",
    "from ipynb.fs.full.blockchain import *"
   ]
  },
  {
   "cell_type": "code",
   "execution_count": 2,
   "metadata": {},
   "outputs": [],
   "source": [
    "_blockchain = Blockchain(channel_name='invoicing27',shared_fs='10.15.130.111:80',sharepoint=SharePoint())\n",
    "cc = Chaincode()"
   ]
  },
  {
   "cell_type": "code",
   "execution_count": null,
   "metadata": {},
   "outputs": [],
   "source": [
    "cc.__dict__"
   ]
  },
  {
   "cell_type": "code",
   "execution_count": 3,
   "metadata": {},
   "outputs": [],
   "source": [
    "_blockchain.addPeer(name='aubonmoulin', hostname='fr',ca_country='FR',ca_province='Provence-Alpes-Cote d\\'Azur',ca_locality='Malaucene')\n",
    "_blockchain.addPeer(name='lyon-impots', hostname='gouv.fr',ca_country='FR',ca_province='Auvergne-Rhone-Alpes',ca_locality='Lyon')\n",
    "_blockchain.addPeer(name='austriafactor', hostname='at',ca_country='AT',ca_province='Steiermark',ca_locality='Graz')\n",
    "_blockchain.addPeer(name='megustaolive', hostname='es',ca_country='ES',ca_province='Andalusia',ca_locality='Dos Hermanas')"
   ]
  },
  {
   "cell_type": "code",
   "execution_count": null,
   "metadata": {},
   "outputs": [],
   "source": [
    "_blockchain.addPeer(name='aubonmoulin', hostname='fr',ca_country='FR',ca_province='Provence-Alpes-Cote d\\'Azur',ca_locality='Malaucene')"
   ]
  },
  {
   "cell_type": "code",
   "execution_count": null,
   "metadata": {},
   "outputs": [],
   "source": [
    "def myfunc(**kwargs):\n",
    "        # kwargs is a dictionary.\n",
    "        for k,v in kwargs.items():\n",
    "             print (\"%s = %s\" % (k, v))\n",
    "        #if 'image' in kwargs.keys():\n",
    "        #    print('found')  \n",
    "        \n",
    "        \n",
    "myfunc(name='aubonmoulin', hostname='fr',ca_country='FR',ca_province='Provence-Alpes-Cote d\\'Azur',ca_locality='Malaucene')        "
   ]
  },
  {
   "cell_type": "markdown",
   "metadata": {},
   "source": [
    "### user"
   ]
  },
  {
   "cell_type": "code",
   "execution_count": null,
   "metadata": {},
   "outputs": [],
   "source": [
    "_blockchain.installWalletTool()"
   ]
  },
  {
   "cell_type": "code",
   "execution_count": null,
   "metadata": {},
   "outputs": [],
   "source": [
    "_user = User(peer=_blockchain.peers['aubonmoulin'], name='Tony.Dubois@aubonmoulin.fr', channel_name=_blockchain.channel_name)\n",
    "#User(peer=_blockchain.peers['aubonmoulin'], name='Alexandre.Payet@majolieboutique.net', channel_name=_blockchain.channel_name)"
   ]
  },
  {
   "cell_type": "code",
   "execution_count": null,
   "metadata": {},
   "outputs": [],
   "source": [
    "_user.smart_contract.getAllRoles()"
   ]
  },
  {
   "cell_type": "code",
   "execution_count": null,
   "metadata": {},
   "outputs": [],
   "source": [
    "_keys = _user.smart_contract.getAllKeys()[1]"
   ]
  },
  {
   "cell_type": "code",
   "execution_count": null,
   "metadata": {},
   "outputs": [],
   "source": [
    "_user.smart_contract.deleteAsset(asset=_keys[7])"
   ]
  },
  {
   "cell_type": "code",
   "execution_count": null,
   "metadata": {},
   "outputs": [],
   "source": [
    "for key,_peer in _blockchain.peers.items():\n",
    "    _organizations = _peer.wallet_tool.getPeerOrganizations()\n",
    "    for _organization in _organizations:\n",
    "        porg = Organization(name=_organization)\n",
    "        _users = _peer.wallet_tool.getPeerUsers(_organization)\n",
    "        for _user in _users:\n",
    "            puser = User(peer=_peer, name=_user, channel_name=_blockchain.channel_name)\n",
    "            porg.addUser(user=puser)\n",
    "        _peer.organizations[_organization]=porg\n",
    "    "
   ]
  },
  {
   "cell_type": "code",
   "execution_count": null,
   "metadata": {},
   "outputs": [],
   "source": [
    "_blockchain.peers['aubonmoulin'].organizations['aubonmoulin.fr'].users['Tony.Dubois@aubonmoulin.fr'].__dict__\n",
    "\n",
    "#_blockchain.peers['lyon-impots'].organizations\n",
    "#_blockchain.peers"
   ]
  },
  {
   "cell_type": "code",
   "execution_count": null,
   "metadata": {},
   "outputs": [],
   "source": [
    "_smart_contract_aubonmoulin = InvoiceSmartContract(peer=_blockchain.peers['aubonmoulin'], user='Tony.Dubois@aubonmoulin.fr', channel_name=_blockchain.channel_name)"
   ]
  },
  {
   "cell_type": "code",
   "execution_count": null,
   "metadata": {},
   "outputs": [],
   "source": [
    "_smart_contract_lyon_impots = InvoiceSmartContract(peer=_blockchain.peers['lyon-impots'], user='Auguste.Boucher@lyon-impots.gouv.fr', channel_name=_blockchain.channel_name)"
   ]
  },
  {
   "cell_type": "code",
   "execution_count": null,
   "metadata": {},
   "outputs": [],
   "source": [
    "_smart_contract.getSubmittingClientIdentity()\n",
    "_smart_contract.getAllRoles()"
   ]
  },
  {
   "cell_type": "code",
   "execution_count": null,
   "metadata": {},
   "outputs": [],
   "source": [
    "_blockchain.peers['aubonmoulin'].wallet_tool.addUser('Tony.Dubois','aubonmoulin.fr','aubonmoulin.fr')\n",
    "_blockchain.peers['aubonmoulin'].wallet_tool.addUser('Stephanie.Hoarau','hotelsaintdenis.re','aubonmoulin.fr')\n",
    "_blockchain.peers['aubonmoulin'].wallet_tool.addUser('Alexandre.Payet','majolieboutique.net','aubonmoulin.fr')\n",
    "_blockchain.peers['austriafactor'].wallet_tool.addUser('Emma.Steiner','austriafactor.at','austriafactor.at')\n",
    "_blockchain.peers['megustaolive'].wallet_tool.addUser('Pedro.Sanchez','megustaolive.es','megustaolive.es')\n",
    "_blockchain.peers['lyon-impots'].wallet_tool.addUser('Auguste.Boucher','lyon-impots.gouv.fr','lyon-impots.gouv.fr')"
   ]
  },
  {
   "cell_type": "code",
   "execution_count": null,
   "metadata": {},
   "outputs": [],
   "source": [
    "def appendRoles(peers):\n",
    "    peer=peers['lyon-impots']\n",
    "    appendRole(peer,user='Auguste.Boucher@lyon-impots.gouv.fr',role='TaxInspector')\n",
    "    peer_taxinspector=peer\n",
    "    #taxinspector=get_person_names_with_role('TaxInspector',roles)[0].split(',')[0].split('=')[1]  \n",
    "    taxinspector='Auguste.Boucher@lyon-impots.gouv.fr'\n",
    "\n",
    "    identity_taxinspector = getSubmittingClientIdentity(peer_taxinspector, user=taxinspector)[0]\n",
    "\n",
    "    peer=peers['aubonmoulin']\n",
    "    appendRole(peer,user='Tony.Dubois@aubonmoulin.fr',role='Seller',taxInspector=identity_taxinspector)\n",
    "    #appendRole(peer,user='Stephanie.Hoarau',role='Buyer')\n",
    "    #appendRole(peer,user='Alexandre.Payet',role='Buyer')\n",
    "\n",
    "    peer=peers['austriafactor']\n",
    "    appendRole(peer,user='Emma.Steiner@austriafactor.at',role='Factor',taxInspector=identity_taxinspector)\n",
    "\n",
    "    peer=peers['megustaolive']\n",
    "    appendRole(peer,user='Pedro.Sanchez@megustaolive.es',role='Buyer',taxInspector=identity_taxinspector)\n",
    "    appendRole(peer,user='Pedro.Sanchez@megustaolive.es',role='Seller',taxInspector=identity_taxinspector)"
   ]
  },
  {
   "cell_type": "code",
   "execution_count": null,
   "metadata": {},
   "outputs": [],
   "source": [
    "def getUser(_blockchain, _user):\n",
    "    _org = _user.split('@')[1]\n",
    "    for key,peer in _blockchain.peers.items():\n",
    "        if _org in peer.organizations.keys():\n",
    "            if _user in peer.organizations[_org].users.keys():\n",
    "                return peer.organizations[_org].users[_user]"
   ]
  },
  {
   "cell_type": "code",
   "execution_count": null,
   "metadata": {},
   "outputs": [],
   "source": [
    "getUser(_blockchain,'Auguste.Boucher@lyon-impots.gouv.fr').smart_contract.appendRole(role='TaxInspector')\n",
    "identity_taxinspector = getUser(_blockchain, 'Auguste.Boucher@lyon-impots.gouv.fr').smart_contract.getSubmittingClientIdentity()[0]\n",
    "getUser(_blockchain,'Emma.Steiner@austriafactor.at').smart_contract.appendRole(role='Factor',taxInspector=identity_taxinspector)\n",
    "getUser(_blockchain,'Tony.Dubois@aubonmoulin.fr').smart_contract.appendRole(role='Seller',taxInspector=identity_taxinspector)\n",
    "getUser(_blockchain,'Pedro.Sanchez@megustaolive.es').smart_contract.appendRole(role='Seller',taxInspector=identity_taxinspector)\n",
    "getUser(_blockchain,'Pedro.Sanchez@megustaolive.es').smart_contract.appendRole(role='Buyer',taxInspector=identity_taxinspector)"
   ]
  },
  {
   "cell_type": "code",
   "execution_count": null,
   "metadata": {},
   "outputs": [],
   "source": [
    "_keys = getUser(_blockchain,'Tony.Dubois@aubonmoulin.fr').smart_contract.getAllKeys()\n",
    "_keys"
   ]
  },
  {
   "cell_type": "code",
   "execution_count": null,
   "metadata": {},
   "outputs": [],
   "source": [
    "_smart_contract = getUser(_blockchain,'Tony.Dubois@aubonmoulin.fr').smart_contract"
   ]
  },
  {
   "cell_type": "code",
   "execution_count": null,
   "metadata": {},
   "outputs": [],
   "source": [
    "_keys = getUser(_blockchain,'Tony.Dubois@aubonmoulin.fr').smart_contract.getAllKeys()[0]\n",
    "_smart_contract = getUser(_blockchain,'Tony.Dubois@aubonmoulin.fr').smart_contract\n",
    "_smart_contract.deleteAsset(asset=_keys[4])\n",
    "_smart_contract.deleteAsset(asset=_keys[5])\n",
    "_smart_contract.deleteAsset(asset=_keys[6])\n",
    "_smart_contract.deleteAsset(asset=_keys[7])"
   ]
  },
  {
   "cell_type": "code",
   "execution_count": null,
   "metadata": {},
   "outputs": [],
   "source": [
    "_smart_contract.getAllRoles()"
   ]
  },
  {
   "cell_type": "code",
   "execution_count": null,
   "metadata": {},
   "outputs": [],
   "source": [
    "getUser(_blockchain,'Tony.Dubois@aubonmoulin.fr').smart_contract.getRoles()"
   ]
  },
  {
   "cell_type": "code",
   "execution_count": null,
   "metadata": {},
   "outputs": [],
   "source": [
    "#_smart_contract_lyon_impots.getAllRoles()\n",
    "_smart_contract_aubonmoulin.getRoles()\n",
    "#_out\n",
    "_smart_contract_lyon_impots.getRoles()\n",
    "_smart_contract_lyon_impots.getAllKeys()"
   ]
  },
  {
   "cell_type": "code",
   "execution_count": null,
   "metadata": {},
   "outputs": [],
   "source": [
    "_smart_contract_lyon_impots.getAllKeys()"
   ]
  },
  {
   "cell_type": "markdown",
   "metadata": {},
   "source": [
    "## cleanup"
   ]
  },
  {
   "cell_type": "code",
   "execution_count": null,
   "metadata": {},
   "outputs": [],
   "source": [
    "_blockchain.deletePeers()\n",
    "#_blockchain.peers"
   ]
  },
  {
   "cell_type": "markdown",
   "metadata": {},
   "source": [
    "## add channel"
   ]
  },
  {
   "cell_type": "code",
   "execution_count": null,
   "metadata": {},
   "outputs": [],
   "source": [
    "_blockchain.add_channel('invoicing27')"
   ]
  },
  {
   "cell_type": "markdown",
   "metadata": {},
   "source": [
    "## debug"
   ]
  },
  {
   "cell_type": "code",
   "execution_count": null,
   "metadata": {},
   "outputs": [],
   "source": [
    "out2.outputs[1]['text'].splitlines()"
   ]
  },
  {
   "cell_type": "code",
   "execution_count": null,
   "metadata": {},
   "outputs": [],
   "source": [
    "_out.outputs[0]['text'].splitlines()"
   ]
  },
  {
   "cell_type": "markdown",
   "metadata": {},
   "source": [
    "## create peers"
   ]
  },
  {
   "cell_type": "markdown",
   "metadata": {},
   "source": [
    "### endorse and join"
   ]
  },
  {
   "cell_type": "code",
   "execution_count": null,
   "metadata": {},
   "outputs": [],
   "source": [
    "## endorse and join\n",
    "import ipywidgets as widgets\n",
    "\n",
    "#orderer_ip,orderer_hostname,orderer_port,channel_name,shared_fs_host"
   ]
  },
  {
   "cell_type": "code",
   "execution_count": 4,
   "metadata": {},
   "outputs": [
    {
     "data": {
      "application/vnd.jupyter.widget-view+json": {
       "model_id": "61ca53f312a14479a7bb7ceee65d4b0a",
       "version_major": 2,
       "version_minor": 0
      },
      "text/plain": [
       "Output()"
      ]
     },
     "metadata": {},
     "output_type": "display_data"
    }
   ],
   "source": [
    "_blockchain.endorse_and_join_all_peers()"
   ]
  },
  {
   "cell_type": "markdown",
   "metadata": {},
   "source": [
    "## upload chaincode to sharepoint"
   ]
  },
  {
   "cell_type": "code",
   "execution_count": null,
   "metadata": {},
   "outputs": [],
   "source": [
    "strlist = ['/bin/sh /opt/create-archive.sh',cc.hostname,cc.port,cc.label,cc.shared_fs]\n",
    "cmd = toCmd(strlist)\n",
    "print(cmd)\n",
    "#cmd = export_cmd + '  && ' + cmd\n",
    "output = executePeerCmd(getPod('cc-deployer'), cmd,cli='cc-deployer')"
   ]
  },
  {
   "cell_type": "markdown",
   "metadata": {},
   "source": [
    "## install chaincode"
   ]
  },
  {
   "cell_type": "code",
   "execution_count": 5,
   "metadata": {},
   "outputs": [],
   "source": [
    "cc=Chaincode(hostname='otest.example.com',service_name='otest')"
   ]
  },
  {
   "cell_type": "code",
   "execution_count": 141,
   "metadata": {},
   "outputs": [
    {
     "data": {
      "text/plain": [
       "0"
      ]
     },
     "execution_count": 141,
     "metadata": {},
     "output_type": "execute_result"
    }
   ],
   "source": [
    "#cc.__dict__\n",
    "sc= BasicSmartContract()\n",
    "callopt= '{\"function\":\"BalanceOf\",\"Args\":[' + '\\\"' + 'asset' + '\\\"' + ']}'\n",
    "#callopt= '{\"function\":\"Name\",\"Args\":[' + '\\\"' + 'asset' + '\\\"' + ']}'\n",
    "#callopt= '{\"function\":\"Init\",\"Args\":[' + '\\\"' + 'asset' + '\\\"' + ']}'\n",
    "callopt\n",
    "#sc._query(callopt)\n",
    "#query(self,callopt, channel_name=None, user='User1')\n",
    "_blockchain.peers['aubonmoulin'].query(callopt, channel_name=_blockchain.channel_name, user='User1')[0]"
   ]
  },
  {
   "cell_type": "code",
   "execution_count": 147,
   "metadata": {},
   "outputs": [],
   "source": [
    "class GolangFunction(BaseAction):\n",
    "    def __init__(self,contract_name=None,func_name=None,interface=None,args=None,results=None):\n",
    "        super(GolangFunction, self).__init__()\n",
    "        self.contract_name=contract_name\n",
    "        self.func_name=func_name\n",
    "        self.interface=interface\n",
    "        self.args=args\n",
    "        self.results=results\n",
    "        \n",
    "class GolangSmartcontract(BaseAction):\n",
    "    def __init__(self,filename=None):\n",
    "        super(GolangSmartcontract, self).__init__()\n",
    "        self.fuctions = {}\n",
    "        self. init_by_definition_file(filename)\n",
    "        \n",
    "    def init_by_definition_file(self,filename):        \n",
    "       \n",
    "        with open(filename, 'r') as fp:\n",
    "            lines = fp.readlines()\n",
    "\n",
    "        for line in lines:\n",
    "            _splits = line.split('*')[1].split(')')\n",
    "            contract_name = _splits[0].strip()\n",
    "            _ret = line.split(')')[2].strip().strip(\"(){}\").split(',')\n",
    "            results=[]\n",
    "            for i in _ret:\n",
    "                j = i.replace(' ','')\n",
    "                results.append(j)\n",
    "\n",
    "            _func_def_split = _splits[1].split('(')\n",
    "            func_name = _func_def_split[0].strip()\n",
    "            _arg_split = _func_def_split[1].split(',')\n",
    "            #print(func_name, _arg_split)\n",
    "            interface = _arg_split[0]\n",
    "            \n",
    "            args = {} \n",
    "            for index in range(1,len(_arg_split)):\n",
    "                arg = _arg_split[index].split()\n",
    "                args[arg[0]] = arg[1]\n",
    "            #print(line)    \n",
    "            #print(func_name,interface,args,result)    \n",
    "            self.fuctions[func_name] = GolangFunction(contract_name=contract_name,func_name=func_name,interface=interface,args=args,results=results)"
   ]
  },
  {
   "cell_type": "code",
   "execution_count": null,
   "metadata": {},
   "outputs": [],
   "source": [
    "owner = \"x509::CN=minter,OU=client,O=Hyperledger,ST=North Carolina,C=US::CN=ca.org1.example.com,O=org1.example.com,L=Durham,ST=North Carolina,C=US\"\n",
    "operator = \"x509::CN=org,OU=client,O=Hyperledger,ST=North Carolina,C=US::CN=ca.org1.example.com,O=org1.example.com,L=Durham,ST=North Carolina,C=AR\""
   ]
  },
  {
   "cell_type": "code",
   "execution_count": 148,
   "metadata": {},
   "outputs": [],
   "source": [
    "_golangSmartcontract = GolangSmartcontract(filename='erc721-contract.go.txt')"
   ]
  },
  {
   "cell_type": "code",
   "execution_count": 151,
   "metadata": {},
   "outputs": [
    {
     "data": {
      "text/plain": [
       "{'tokenId': 'string', 'tokenURI': 'string'}"
      ]
     },
     "execution_count": 151,
     "metadata": {},
     "output_type": "execute_result"
    }
   ],
   "source": [
    "#_golangSmartcontract.fuctions.keys()\n",
    "_golangSmartcontract.fuctions['MintWithTokenURI'].args\n",
    "_"
   ]
  },
  {
   "cell_type": "code",
   "execution_count": 157,
   "metadata": {},
   "outputs": [
    {
     "data": {
      "text/plain": [
       "'[\"string\",\"string\"]'"
      ]
     },
     "execution_count": 157,
     "metadata": {},
     "output_type": "execute_result"
    }
   ],
   "source": []
  },
  {
   "cell_type": "code",
   "execution_count": 164,
   "metadata": {},
   "outputs": [
    {
     "data": {
      "application/vnd.jupyter.widget-view+json": {
       "model_id": "a36d1a31fa58471c80aaca2a172bda1d",
       "version_major": 2,
       "version_minor": 0
      },
      "text/plain": [
       "Output()"
      ]
     },
     "metadata": {},
     "output_type": "display_data"
    }
   ],
   "source": [
    "def _callopt(function_name=None,args=''):\n",
    "    \n",
    "    return '{\"function\":' + '\\\"' + function_name + '\\\"' + ',\"Args\":' + args + '}'\n",
    "    \n",
    "asset = _golangSmartcontract.fuctions['MintWithTokenURI'].args\n",
    "BasicSmartContract().getArgList(asset)    \n",
    "callopt = _callopt(function_name='MintWithTokenURI',args=BasicSmartContract().getArgList(asset))    \n",
    "_blockchain.peers['aubonmoulin'].query(callopt, channel_name=_blockchain.channel_name, user='User1')[1]"
   ]
  },
  {
   "cell_type": "code",
   "execution_count": 172,
   "metadata": {},
   "outputs": [
    {
     "name": "stderr",
     "output_type": "stream",
     "text": [
      "ls: /mnt/conf/organizations/peerOrganizations/org1/users/: No such file or directory\n",
      "command terminated with exit code 1\n"
     ]
    },
    {
     "data": {
      "text/plain": [
       "[\"Command '['/home/jovyan/work/usr/bin/kubectl', 'exec', '-t', 'aubonmoulin-765bb54cf6-v2q6l', '-c', 'scray-peer-cli', '--', '/bin/sh', '-c', '/bin/ls /mnt/conf/organizations/peerOrganizations/org1/users/']' returned non-zero exit status 1.\"]"
      ]
     },
     "execution_count": 172,
     "metadata": {},
     "output_type": "execute_result"
    }
   ],
   "source": [
    "#_blockchain.peers['aubonmoulin'].installWalletTool(sharepoint=_blockchain.sharepoint,channel_name=_blockchain.channel_name)\n",
    "_blockchain.peers['aubonmoulin'].wallet_tool.getPeerUsers('org1')"
   ]
  },
  {
   "cell_type": "code",
   "execution_count": 6,
   "metadata": {},
   "outputs": [
    {
     "name": "stderr",
     "output_type": "stream",
     "text": [
      "  % Total    % Received % Xferd  Average Speed   Time    Time     Time  Current\n",
      "                                 Dload  Upload   Total   Spent    Left  Speed\n",
      "100   424  100   424    0     0  53000      0 --:--:-- --:--:-- --:--:-- 60571\n",
      "\u001b[34m2022-04-12 15:03:38.544 UTC [cli.lifecycle.chaincode] submitInstallProposal -> INFO 001\u001b[0m Installed remotely: response:<status:200 payload:\"\\nJbasic_1.0:42353bbf8d056d100fd0460fb93a4e4b6c5973aee190345bcdf28abf43fb4754\\022\\tbasic_1.0\" > \n",
      "\u001b[34m2022-04-12 15:03:38.544 UTC [cli.lifecycle.chaincode] submitInstallProposal -> INFO 002\u001b[0m Chaincode code package identifier: basic_1.0:42353bbf8d056d100fd0460fb93a4e4b6c5973aee190345bcdf28abf43fb4754\n",
      "Error: query failed with status: 404 - namespace basic is not defined\n",
      "\u001b[34m2022-04-12 15:03:40.862 UTC [chaincodeCmd] ClientWait -> INFO 001\u001b[0m txid [e1cfb1b054ab72c30d996e81fa779a70e1a9bbd38d0b0af98fcab4f84ce37272] committed with status (VALID) at peer0.aubonmoulin.fr:32432\n"
     ]
    },
    {
     "data": {
      "text/plain": [
       "\"OK: 42 MiB in 45 packages\\nInstalled chaincodes on peer:\\nPackage ID: basic_1.0:42353bbf8d056d100fd0460fb93a4e4b6c5973aee190345bcdf28abf43fb4754, Label: basic_1.0\\nChaincode definition for chaincode 'basic', version '1.0', sequence '1' on channel 'invoicing27' approval status by org:\\nAdminOrgMSP: false\\naubonmoulinMSP: true\\naustriafactorMSP: false\\nlyon-impotsMSP: false\\nmegustaoliveMSP: false\\n\""
      ]
     },
     "execution_count": 6,
     "metadata": {},
     "output_type": "execute_result"
    }
   ],
   "source": [
    "#_blockchain.__dict__\n",
    "_blockchain.peers['aubonmoulin'].installAndAproveChaincode(orderer=_blockchain.orderer, channel_name=_blockchain.channel_name, chain_code=cc)  \n"
   ]
  },
  {
   "cell_type": "code",
   "execution_count": 7,
   "metadata": {},
   "outputs": [
    {
     "name": "stderr",
     "output_type": "stream",
     "text": [
      "  % Total    % Received % Xferd  Average Speed   Time    Time     Time  Current\n",
      "                                 Dload  Upload   Total   Spent    Left  Speed\n",
      "100   424  100   424    0     0  60571      0 --:--:-- --:--:-- --:--:-- 60571\n",
      "Error: chaincode install failed with status: 500 - failed to invoke backing implementation of 'InstallChaincode': chaincode already successfully installed\n",
      "Error: query failed with status: 404 - namespace basic is not defined\n",
      "Error: proposal failed with status: 500 - failed to invoke backing implementation of 'ApproveChaincodeDefinitionForMyOrg': attempted to redefine uncommitted sequence (1) for namespace basic with unchanged content\n",
      "  % Total    % Received % Xferd  Average Speed   Time    Time     Time  Current\n",
      "                                 Dload  Upload   Total   Spent    Left  Speed\n",
      "100   424  100   424    0     0  53000      0 --:--:-- --:--:-- --:--:-- 53000\n",
      "\u001b[34m2022-04-12 15:04:03.177 UTC [cli.lifecycle.chaincode] submitInstallProposal -> INFO 001\u001b[0m Installed remotely: response:<status:200 payload:\"\\nJbasic_1.0:42353bbf8d056d100fd0460fb93a4e4b6c5973aee190345bcdf28abf43fb4754\\022\\tbasic_1.0\" > \n",
      "\u001b[34m2022-04-12 15:04:03.179 UTC [cli.lifecycle.chaincode] submitInstallProposal -> INFO 002\u001b[0m Chaincode code package identifier: basic_1.0:42353bbf8d056d100fd0460fb93a4e4b6c5973aee190345bcdf28abf43fb4754\n",
      "Error: query failed with status: 404 - namespace basic is not defined\n",
      "\u001b[34m2022-04-12 15:04:05.489 UTC [chaincodeCmd] ClientWait -> INFO 001\u001b[0m txid [344d13058a8e3c6b6a882b187d5fcef545104ef2237c214c0178d397ef164d95] committed with status (VALID) at peer0.lyon-impots.gouv.fr:31222\n",
      "  % Total    % Received % Xferd  Average Speed   Time    Time     Time  Current\n",
      "                                 Dload  Upload   Total   Spent    Left  Speed\n",
      "100   424  100   424    0     0  53000      0 --:--:-- --:--:-- --:--:-- 60571\n",
      "\u001b[34m2022-04-12 15:04:06.363 UTC [cli.lifecycle.chaincode] submitInstallProposal -> INFO 001\u001b[0m Installed remotely: response:<status:200 payload:\"\\nJbasic_1.0:42353bbf8d056d100fd0460fb93a4e4b6c5973aee190345bcdf28abf43fb4754\\022\\tbasic_1.0\" > \n",
      "\u001b[34m2022-04-12 15:04:06.364 UTC [cli.lifecycle.chaincode] submitInstallProposal -> INFO 002\u001b[0m Chaincode code package identifier: basic_1.0:42353bbf8d056d100fd0460fb93a4e4b6c5973aee190345bcdf28abf43fb4754\n",
      "Error: query failed with status: 404 - namespace basic is not defined\n",
      "\u001b[34m2022-04-12 15:04:08.703 UTC [chaincodeCmd] ClientWait -> INFO 001\u001b[0m txid [104317cd47b5d33a103c5c497645a060dbc5dc64d39f8097cb6c571d1b6e2cbe] committed with status (VALID) at peer0.austriafactor.at:30692\n",
      "  % Total    % Received % Xferd  Average Speed   Time    Time     Time  Current\n",
      "                                 Dload  Upload   Total   Spent    Left  Speed\n",
      "100   424  100   424    0     0   103k      0 --:--:-- --:--:-- --:--:--  103k\n",
      "\u001b[34m2022-04-12 15:04:09.585 UTC [cli.lifecycle.chaincode] submitInstallProposal -> INFO 001\u001b[0m Installed remotely: response:<status:200 payload:\"\\nJbasic_1.0:42353bbf8d056d100fd0460fb93a4e4b6c5973aee190345bcdf28abf43fb4754\\022\\tbasic_1.0\" > \n",
      "\u001b[34m2022-04-12 15:04:09.585 UTC [cli.lifecycle.chaincode] submitInstallProposal -> INFO 002\u001b[0m Chaincode code package identifier: basic_1.0:42353bbf8d056d100fd0460fb93a4e4b6c5973aee190345bcdf28abf43fb4754\n",
      "Error: query failed with status: 404 - namespace basic is not defined\n",
      "\u001b[34m2022-04-12 15:04:11.938 UTC [chaincodeCmd] ClientWait -> INFO 001\u001b[0m txid [56eda1a0f2e8d0306ee6f2f63244d263f97a55053652fb865ba8cdfac4fb6fcf] committed with status (VALID) at peer0.megustaolive.es:30123\n"
     ]
    }
   ],
   "source": [
    "_blockchain.installAndAproveChaincode( chain_code=cc)"
   ]
  },
  {
   "cell_type": "code",
   "execution_count": 8,
   "metadata": {},
   "outputs": [
    {
     "name": "stdout",
     "output_type": "stream",
     "text": [
      "/mnt/conf/peer/cc_commit.sh invoicing27 1 basic_1.0:42353bbf8d056d100fd0460fb93a4e4b6c5973aee190345bcdf28abf43fb4754\n"
     ]
    },
    {
     "name": "stderr",
     "output_type": "stream",
     "text": [
      "\u001b[34m2022-04-12 15:04:23.617 UTC [chaincodeCmd] ClientWait -> INFO 001\u001b[0m txid [37cb98f386263174af00551b96f9c02c11cfc988105ba2ca8920a8f0ab4e7f8e] committed with status (VALID) at peer0.aubonmoulin.fr:32432\n"
     ]
    },
    {
     "data": {
      "text/plain": [
       "'Installed chaincode\\nInstalled chaincodes on peer:\\nPackage ID: basic_1.0:42353bbf8d056d100fd0460fb93a4e4b6c5973aee190345bcdf28abf43fb4754, Label: basic_1.0\\n'"
      ]
     },
     "execution_count": 8,
     "metadata": {},
     "output_type": "execute_result"
    }
   ],
   "source": [
    "_blockchain.peers['aubonmoulin'].commitChaincode(_blockchain.channel_name,pkgid=cc.pkgid)"
   ]
  },
  {
   "cell_type": "markdown",
   "metadata": {},
   "source": [
    "## add roles"
   ]
  },
  {
   "cell_type": "code",
   "execution_count": null,
   "metadata": {},
   "outputs": [],
   "source": [
    "deleteAllInvoices(User(peer=_blockchain.peers['aubonmoulin'], name='Tony.Dubois@aubonmoulin.fr', channel_name=_blockchain.channel_name).smart_contract)              "
   ]
  },
  {
   "cell_type": "code",
   "execution_count": null,
   "metadata": {},
   "outputs": [],
   "source": [
    "createInvoices(invoices,_blockchain)            "
   ]
  },
  {
   "cell_type": "code",
   "execution_count": null,
   "metadata": {},
   "outputs": [],
   "source": [
    "from typing import Dict, Any\n",
    "import hashlib\n",
    "import json\n",
    "\n",
    "def dict_hash(dictionary: Dict[str, Any]) -> str:\n",
    "    \"\"\"MD5 hash of a dictionary.\"\"\"\n",
    "    dhash = hashlib.md5()\n",
    "    # We need to sort arguments so {'a': 1, 'b': 2} is\n",
    "    # the same as {'b': 2, 'a': 1}\n",
    "    encoded = json.dumps(dictionary, sort_keys=True).encode()\n",
    "    dhash.update(encoded)\n",
    "    return dhash.hexdigest()\n"
   ]
  },
  {
   "cell_type": "code",
   "execution_count": null,
   "metadata": {},
   "outputs": [],
   "source": [
    "getUser(_blockchain,get_CN_of_invoice(invoices.iloc[3],'sellerTradeParty')).__dict__"
   ]
  },
  {
   "cell_type": "code",
   "execution_count": null,
   "metadata": {},
   "outputs": [],
   "source": [
    "invoice = invoices.iloc[3]\n",
    "seller = getUser(_blockchain,get_CN_of_invoice(invoice,'sellerTradeParty'))\n",
    "buyer  = getUser(_blockchain,get_CN_of_invoice(invoice,'buyerTradeParty')) \n",
    "seller_id = seller.smart_contract.getSubmittingClientIdentity()[0]\n",
    "buyer_id  = buyer.smart_contract.getSubmittingClientIdentity()[0]\n",
    "asset     = seller.smart_contract.getEmptyInvoice()[0]\n",
    "update_invoice(asset=asset,invoice=invoice,id=3,seller=seller_id,buyer=buyer_id)\n",
    "seller.smart_contract.createInvoice(arglist=getArgList(asset))[1]"
   ]
  },
  {
   "cell_type": "code",
   "execution_count": null,
   "metadata": {},
   "outputs": [],
   "source": [
    "seller.smart_contract.getAllKeys()"
   ]
  },
  {
   "cell_type": "code",
   "execution_count": null,
   "metadata": {},
   "outputs": [],
   "source": [
    "seller.smart_contract.listInvoice(id='asset14')"
   ]
  },
  {
   "cell_type": "code",
   "execution_count": null,
   "metadata": {},
   "outputs": [],
   "source": [
    "seller_id"
   ]
  },
  {
   "cell_type": "code",
   "execution_count": null,
   "metadata": {},
   "outputs": [],
   "source": [
    "User(peer=_blockchain.peers['aubonmoulin'], name='Tony.Dubois@aubonmoulin.fr', channel_name=_blockchain.channel_name).smart_contract.listInvoices()"
   ]
  },
  {
   "cell_type": "code",
   "execution_count": null,
   "metadata": {},
   "outputs": [],
   "source": [
    "invoice=invoices.iloc[3]\n",
    "getUser(_blockchain,get_CN_of_invoice(invoice,'sellerTradeParty'))"
   ]
  },
  {
   "cell_type": "code",
   "execution_count": null,
   "metadata": {},
   "outputs": [],
   "source": [
    "seller.smart_contract.getAllKeys()[0]"
   ]
  },
  {
   "cell_type": "code",
   "execution_count": null,
   "metadata": {},
   "outputs": [],
   "source": [
    "invoices = get_invoices()\n",
    "#createInvoices(invoices,_blockchain.peers)\n",
    "#invoices"
   ]
  },
  {
   "cell_type": "code",
   "execution_count": null,
   "metadata": {},
   "outputs": [],
   "source": [
    "def get_org_of_invoice(invoice,party):\n",
    "    _name=strip_accents(getPathValue(invoice,'/supplyChainTradeTransaction/applicableHeaderTradeAgreement/' + party + '/definedTradeContact/')[0]['personName']['value'].replace(' ','.'))\n",
    "    _email=getPathValue(invoice,'/supplyChainTradeTransaction/applicableHeaderTradeAgreement/' + party + '/definedTradeContact/')[0]['emailURIUniversalCommunication']['uriid']['value']\n",
    "    return _email.split('@')[1]"
   ]
  },
  {
   "cell_type": "code",
   "execution_count": null,
   "metadata": {},
   "outputs": [],
   "source": [
    "User(peer=_blockchain.peers['aubonmoulin'], user='Tony.Dubois@aubonmoulin.fr', channel_name=_blockchain.channel_name).smart_contract.getSubmittingClientIdentity()"
   ]
  },
  {
   "cell_type": "code",
   "execution_count": null,
   "metadata": {},
   "outputs": [],
   "source": [
    "get_CN_of_invoice(invoice,'sellerTradeParty')"
   ]
  },
  {
   "cell_type": "code",
   "execution_count": null,
   "metadata": {},
   "outputs": [],
   "source": [
    "#list(asset)\n",
    "_smart_contract_aubonmoulin.getEmptyInvoice()[0]"
   ]
  },
  {
   "cell_type": "code",
   "execution_count": null,
   "metadata": {},
   "outputs": [],
   "source": [
    "InvoiceSmartContract(peer=_blockchain.peers['lyon-impots'], user='Auguste.Boucher@lyon-impots.gouv.fr').appendRole(role='TaxInspector')"
   ]
  },
  {
   "cell_type": "code",
   "execution_count": null,
   "metadata": {},
   "outputs": [],
   "source": [
    "InvoiceSmartContract(peer=_blockchain.peers['aubonmoulin'], user='Tony.Dubois@aubonmoulin.fr').appendRole(role='Seller', taxInspector='')"
   ]
  },
  {
   "cell_type": "code",
   "execution_count": null,
   "metadata": {},
   "outputs": [],
   "source": [
    "strlist = ['/bin/ls',  '/mnt/conf/organizations/peerOrganizations/']\n",
    "peer=_blockchain.peers['aubonmoulin']\n",
    "executePeerCmd(peer.pod_name,toCmd(strlist)).splitlines() "
   ]
  },
  {
   "cell_type": "code",
   "execution_count": null,
   "metadata": {},
   "outputs": [],
   "source": [
    "appendRoles(_blockchain.peers)\n",
    "#peer=_blockchain.peers['lyon-impots']\n",
    "#appendRole(peer,user='Auguste.Boucher@lyon-impots.gouv.fr',role='TaxInspector')"
   ]
  },
  {
   "cell_type": "code",
   "execution_count": null,
   "metadata": {},
   "outputs": [],
   "source": [
    "peer=_blockchain.peers['lyon-impots']\n",
    "getRoles(peer,user='Auguste.Boucher@lyon-impots.gouv.fr')[0]"
   ]
  },
  {
   "cell_type": "code",
   "execution_count": null,
   "metadata": {},
   "outputs": [],
   "source": [
    "callopt='{\"function\":\"AppendRole\",\"Args\":[\"x509::CN=Auguste.Boucher@lyon-impots.gouv.fr,OU=admin,O=kubernetes.research.dev.seeburger.de::CN=ca.lyon-impots.gouv.fr,O=lyon-impots.gouv.fr,L=Lyon,ST=Auvergne-Rhone-Alpes,C=FR\",\"TaxInspector\",\"\"]}'"
   ]
  },
  {
   "cell_type": "code",
   "execution_count": null,
   "metadata": {},
   "outputs": [],
   "source": [
    "peer=_blockchain.peers['lyon-impots']\n",
    "getAllKeys(peer)[1]"
   ]
  },
  {
   "cell_type": "code",
   "execution_count": null,
   "metadata": {},
   "outputs": [],
   "source": [
    "peer=_blockchain.peers['lyon-impots']\n",
    "callopt= '{\"function\":\"GetAllKeys\",\"Args\":[' + ']}'\n",
    "#peer.query(callopt,channel_name='invoicing18',user='Auguste.Boucher@lyon-impots.gouv.fr')\n",
    "peer.query(callopt,channel_name='invoicing18',user='User1')"
   ]
  },
  {
   "cell_type": "code",
   "execution_count": null,
   "metadata": {},
   "outputs": [],
   "source": [
    "getAllRoles(peer)\n",
    "getRoles(peer, user='Auguste.Boucher@lyon-impots.gouv.fr')"
   ]
  },
  {
   "cell_type": "code",
   "execution_count": null,
   "metadata": {},
   "outputs": [],
   "source": [
    "getRoleTransactions(peer)"
   ]
  },
  {
   "cell_type": "code",
   "execution_count": null,
   "metadata": {},
   "outputs": [],
   "source": [
    "invoices = get_invoices()\n",
    "createInvoices(invoices,_blockchain.peers)\n",
    "#invoices"
   ]
  },
  {
   "cell_type": "code",
   "execution_count": null,
   "metadata": {},
   "outputs": [],
   "source": [
    "peer=_blockchain.peers['aubonmoulin']\n",
    "getPeerOrganizations(peer)"
   ]
  },
  {
   "cell_type": "code",
   "execution_count": null,
   "metadata": {},
   "outputs": [],
   "source": [
    "get_peer_of_user('Tony.Dubois@aubonmoulin.fr',_blockchain.peers)"
   ]
  },
  {
   "cell_type": "code",
   "execution_count": null,
   "metadata": {},
   "outputs": [],
   "source": [
    "peer=_blockchain.peers['aubonmoulin']\n",
    "listInvoices(peer, user='Tony.Dubois@aubonmoulin.fr')[1]"
   ]
  },
  {
   "cell_type": "code",
   "execution_count": null,
   "metadata": {},
   "outputs": [],
   "source": [
    "peer=_blockchain.peers['aubonmoulin']\n",
    "InvoiceSmartContract(peer=peer, user='Tony.Dubois@aubonmoulin.fr').listInvoices()[0]"
   ]
  },
  {
   "cell_type": "code",
   "execution_count": null,
   "metadata": {},
   "outputs": [],
   "source": [
    "InvoiceSmartContract(peer=peer, user='Tony.Dubois@aubonmoulin.fr').__dict__"
   ]
  },
  {
   "cell_type": "code",
   "execution_count": null,
   "metadata": {},
   "outputs": [],
   "source": [
    "deleteAllInvoices(peer)  "
   ]
  }
 ],
 "metadata": {
  "kernelspec": {
   "display_name": "Python 3 (ipykernel)",
   "language": "python",
   "name": "python3"
  },
  "language_info": {
   "codemirror_mode": {
    "name": "ipython",
    "version": 3
   },
   "file_extension": ".py",
   "mimetype": "text/x-python",
   "name": "python",
   "nbconvert_exporter": "python",
   "pygments_lexer": "ipython3",
   "version": "3.9.5"
  }
 },
 "nbformat": 4,
 "nbformat_minor": 4
}
