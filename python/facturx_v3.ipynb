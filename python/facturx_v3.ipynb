{
 "cells": [
  {
   "cell_type": "code",
   "execution_count": 6,
   "metadata": {},
   "outputs": [],
   "source": [
    "import pandas as pd\n",
    "pd.set_option('display.max_rows', 500)\n",
    "invoices = pd.read_parquet('./invoices_facturx.parquet')\n",
    "invoices = invoices['supplyChainTradeTransaction']"
   ]
  },
  {
   "cell_type": "code",
   "execution_count": 7,
   "metadata": {},
   "outputs": [],
   "source": [
    "#import numpy.ndarray\n",
    "import numpy as np\n",
    "\n",
    "def printall(m,mkey='',space='->'):\n",
    "    for key, value in m.items():\n",
    "        #print (type(value))\n",
    "        if not isinstance(value, type(None)):\n",
    "            #print(space + mkey, ' {0}: {1}'.format(key, value))\n",
    "            if isinstance(value, dict):\n",
    "                #print(space + (str(type(value))) + str(value.keys()))\n",
    "                printall(value, mkey + \"/\" + key, space + '->')\n",
    "            else:\n",
    "                if isinstance(value,np.ndarray):\n",
    "                    print('ARRAY',len(value), value)\n",
    "                print(space + mkey + '/{0}: {1}'.format(key, value) + '(' + str(type(value)) + ')') \n",
    " \n",
    "def printpaths(m,mkey='',space='->'):\n",
    "    for key, value in m.items():\n",
    "        #print (type(value))\n",
    "        if not isinstance(value, type(None)):\n",
    "            #print(space + mkey, ' {0}: {1}'.format(key, value))\n",
    "            if isinstance(value, dict):\n",
    "                print(key,value)\n",
    "                #print(key + space + (str(type(value))) + str(value.keys()))\n",
    "                #printall(value, mkey + \"/\" + key, space + '->')\n",
    "\n",
    "\n",
    "def printNotNone(val):\n",
    "    if isinstance(val, dict):\n",
    "        for key, value in val.items():\n",
    "            if not isinstance(value, type(None)):\n",
    "                print('{0}: {1}'.format(key, value)) \n",
    "    else:\n",
    "        print(val)\n",
    "\n",
    "def getDictNotNone(val):\n",
    "    #print('getDictNotNone',type(val))\n",
    "    if isinstance(val, dict):\n",
    "        r = dict()\n",
    "        #print('getDictNotNone',r.keys())\n",
    "        for key, value in val.items():\n",
    "            #print('getDictNotNone',key,value)\n",
    "            if not isinstance(value, type(None)):\n",
    "                r[key]=value\n",
    "        return r       \n",
    "    else:\n",
    "        return dict        \n",
    "\n",
    "def getPathValue(m,path=''):\n",
    "    splits = path[1:].split(\"/\", 1)\n",
    "    value=m.get(splits[0])\n",
    "    #print(splits,value)\n",
    "    if not isinstance(value, type(None)):\n",
    "        if len(splits) > 1:\n",
    "            return getPathValue(value,path='/' + splits[1])\n",
    "    return value            \n",
    "  \n",
    "def getSimpleElementValue(d,key):\n",
    "    __name__='getSimpleElementValue'\n",
    "    #print(__name__,key,d)\n",
    "    value=d[key]\n",
    "    #print(value)\n",
    "    #print(__name__,key,value, type(value))\n",
    "    return key,value   \n",
    "    \n",
    "def getElementValue(d,key):\n",
    "    #print(d)\n",
    "    value=d[key]\n",
    "    #print(value)\n",
    "    #print(key,value, type(value))\n",
    "    if isinstance(value, dict):\n",
    "        if 'value' in value:\n",
    "            return key,value['value']\n",
    "        else: \n",
    "            #print(\"getElementValue\",key)\n",
    "            #print(\"getElementValue\",value.keys())\n",
    "            #print(\"getElementValue\",value)\n",
    "            #return key,getElementValue(value,list(value.keys())[0])\n",
    "            return key,value\n",
    "    elif isinstance(value,np.ndarray):\n",
    "        #print(len(value),type(value[0]))\n",
    "        if 'value' in value[0]:\n",
    "            return value[0]['value']\n",
    "        else:\n",
    "            #print(value[0])\n",
    "            return getElementValue(value[0],list(value[0].keys())[0])\n",
    "    elif not isinstance(value, type(None)):\n",
    "        return key,str(value)\n",
    "    else:\n",
    "        return None\n",
    "            \n",
    "    \n",
    "def getElementValue1(d,key):\n",
    "    #print(d)\n",
    "    value=d[key]\n",
    "    #print(value)\n",
    "    #print(key,value, type(value))\n",
    "    if isinstance(value, dict):\n",
    "        if 'value' in value:\n",
    "            return value['value']\n",
    "        else: \n",
    "            print(key)\n",
    "            print(value.keys())\n",
    "            print(value)\n",
    "            return getElementValue(value,list(value.keys())[0])\n",
    "    elif isinstance(value,np.ndarray):\n",
    "        #print(len(value),type(value[0]))\n",
    "        if 'value' in value[0]:\n",
    "            return value[0]['value']\n",
    "        else:\n",
    "            #print(value[0])\n",
    "            return getElementValue(value[0],list(value[0].keys())[0])\n",
    "    elif not isinstance(value, type(None)):\n",
    "        return str(value)\n",
    "    else:\n",
    "        return None\n",
    "        \n",
    "def freeze(d):\n",
    "    if isinstance(d, dict):\n",
    "        return frozenset((key, freeze(value)) for key, value in d.items())\n",
    "    elif isinstance(d, list):\n",
    "        return tuple(freeze(value) for value in d)\n",
    "    return d            "
   ]
  },
  {
   "cell_type": "code",
   "execution_count": 8,
   "metadata": {},
   "outputs": [],
   "source": [
    "\n",
    "\n",
    "def doit(m,path,hideUnused=False):\n",
    "    __name__='doit'\n",
    "    print(__name__,type(m))\n",
    "    r = getPathValue(m, path)\n",
    "    if isinstance(r, type(None)):\n",
    "        return\n",
    "    if hideUnused == True:\n",
    "        r = getDictNotNone(r)\n",
    "    print(r)    \n",
    "    for key in r.keys():\n",
    "        value=getElementValue(r,key)\n",
    "        #print (key,value)\n",
    "        text = widgets.Text(description = key,value = value, style=style, layout=layout)\n",
    "        display(text)\n",
    "\n",
    "\n",
    "\n",
    "def doit1(m,path,hideUnused=False):\n",
    "    __name__='doit1'\n",
    "    r = getPathValue(m, path)\n",
    "    #print(__name__,type(r),r,hideUnused)\n",
    "    if hideUnused == True:\n",
    "        r = getDictNotNone(r)\n",
    "    proc1(r,hideUnused)\n",
    "       \n",
    "\n",
    "    \n",
    "\n",
    "## replace by doitElement ???????    \n",
    "def addChildsElement(r,hideUnused=False): \n",
    "    __name__='addChildsElement'\n",
    "    #print(__name__,r,type(r),hideUnused)\n",
    "    if isinstance(r, dict):\n",
    "        doitElement(r,hideUnused=hideUnused)\n",
    "        for key, value in r.items():\n",
    "            #print (type(value))\n",
    "            addHeader(str(key))    \n",
    "            if not isinstance(value, type(None)):\n",
    "                #print(space + mkey, ' {0}: {1}'.format(key, value))\n",
    "                if isinstance(value, dict):\n",
    "                    #print(\"addChildsElement\",hideUnused,value)\n",
    "                    doitElement(r,hideUnused=hideUnused)\n",
    "    else:\n",
    "        print(__name__,type(r),'not implemented')\n",
    "    \n",
    "\n",
    "\n",
    "        \n",
    "\n",
    "        "
   ]
  },
  {
   "cell_type": "code",
   "execution_count": 9,
   "metadata": {},
   "outputs": [],
   "source": [
    "import ipywidgets as widgets\n",
    "from IPython.display import clear_output\n",
    "from IPython.display import Javascript, display\n",
    "import uuid\n",
    "\n",
    "style = {'description_width': '250px'}\n",
    "layout = {'width': '500px'}\n",
    "\n",
    "class facturx_widgets():\n",
    "    #layout = widgets.Layout(width='auto', height='40px') #set width and height\n",
    "    #style = {'description_width': '150px'}\n",
    "    #layout = {'width': '400px'}\n",
    "    \n",
    "    def addHeader(self,text='',bold=True):\n",
    "        if bold == True:\n",
    "            html = widgets.HTML(\n",
    "            value=\"<b>\" + text + \"</b>\",\n",
    "            description=' ',\n",
    "            style=style, layout=layout\n",
    "            )\n",
    "        else:\n",
    "            html = widgets.HTML(\n",
    "            value=text,\n",
    "            description=' ',\n",
    "            style=style, layout=layout\n",
    "            )\n",
    "        display(html)    \n",
    "\n",
    "    def addVisText(self,key='',value=''):\n",
    "        text = widgets.Text(description = key,value = value, style=style, layout=layout)\n",
    "        display(text)     \n",
    "    \n",
    "    def addVisCheckbox(self,key='',value=False):\n",
    "        text = widgets.Checkbox(description = key,value = value, style=style, layout=layout)\n",
    "        display(text)   \n",
    "        \n",
    "    def procArray(self,r,hideUnused=False,rkey=''):   \n",
    "        __name__='procArray'\n",
    "        #print (__name__,type(r))\n",
    "        if not isinstance(r, np.ndarray):\n",
    "            print(__name__,type(r),'not implemented')\n",
    "            return\n",
    "        for element in r:\n",
    "            #print (__name__,type(element),element)\n",
    "            self.doitElement(element,rkey=rkey,hideUnused=hideUnused)\n",
    "                \n",
    "    # proc dic \n",
    "    def proc1(self,r,hideUnused=False,rkey=''):\n",
    "        __name__='proc1'\n",
    "        if not isinstance(r, dict):\n",
    "            print(__name__,type(r),'not implemented')\n",
    "            return\n",
    "        #print(__name__,'rkey=' + rkey,r.keys())\n",
    "    \n",
    "        if hideUnused == True:\n",
    "            r = getDictNotNone(r)\n",
    "                \n",
    "        ## option: remove value !!!\n",
    "        if not 'value' in r:\n",
    "            #print(__name__,'!!!',r)\n",
    "            self.addHeader(rkey,bold=False)\n",
    "        #print(__name__,'!!!',r.keys())\n",
    "        for key in r.keys():\n",
    "            #value=getElementValue(r,key)\n",
    "            kk,value=getSimpleElementValue(r,key)\n",
    "            if not isinstance(value, type(None)):\n",
    "                #print (__name__,key,type(value),len(value),value, value[1])\n",
    "                #print (__name__,key,type(value),value)\n",
    "                #print (__name__,kk,rkey,type(value))\n",
    "                if isinstance(value, dict):\n",
    "                    #print(__name__,key,value.keys(),hideUnused)\n",
    "                    if not 'value' in value:\n",
    "                        #print(__name__,'222 value',r)\n",
    "                        self.addHeader(str(key) )\n",
    "                    #print(__name__,'222',r.keys())\n",
    "                \n",
    "                    for kkey in value.keys():\n",
    "                        key1,value1=getSimpleElementValue(value,kkey)\n",
    "                    \n",
    "                        #print(__name__,rkey)\n",
    "                        #if isinstance(value1, dict):\n",
    "                        #addHeader(rkey,bold=False)\n",
    "                        #value1=getElementValue(value[1],kkey)\n",
    "                        #print (__name__,key1,type(value1))\n",
    "                        #print (__name__,kkey,value1,type(value1))\n",
    "                        #print (__name__,kkey,key1,rkey)\n",
    "                    \n",
    "                        self.doitElement(value1,rkey=key1,hideUnused=hideUnused,upkey=kk)\n",
    "                elif isinstance(value, str):\n",
    "                    if key == 'value' and len(rkey) > 0:\n",
    "                        key=rkey\n",
    "                    self.addVisText(key=key,value=value) \n",
    "                elif isinstance(value,np.ndarray):    \n",
    "                    self.procArray(value,hideUnused=hideUnused,rkey=key)     \n",
    "                else:\n",
    "                    print(__name__,'not implemented',type(value))\n",
    "                value = str(value)\n",
    "            else:\n",
    "                self.addVisText(key=key,value=value)  \n",
    "            #addVisText(key=key,value=value)  \n",
    "    \n",
    "    def doitElement(self,r,rkey='',hideUnused=False,upkey=''):\n",
    "        __name__='doitElement'\n",
    "        #print(__name__,hideUnused,type(r),rkey,'upkey',upkey)\n",
    "        #if isinstance(r, type(None)): \n",
    "        #    print(\"doitElement\",type(r),hideUnused)\n",
    "        #    return \n",
    "        if isinstance(r, tuple):\n",
    "            #print(__name__,r,type(r[1]))\n",
    "            if isinstance(r[1], str):\n",
    "                #addHeader(rkey)\n",
    "                self.addVisText(key=r[0],value=r[1])\n",
    "            else:\n",
    "                #rkey=rkey + '.'+ r[0]\n",
    "                #print(__name__,rkey)\n",
    "                self.addHeader(rkey + __name__,bold=False)\n",
    "                self.doitElement(r[1],rkey=rkey,hideUnused=hideUnused)\n",
    "        elif isinstance(r, str):    \n",
    "            if(rkey == 'value'):\n",
    "                #print(__name__,rkey,upkey)\n",
    "                self.addVisText(key=upkey,value=r)\n",
    "                return\n",
    "            self.addVisText(key=rkey,value=r)         \n",
    "        elif isinstance(r, type(None)): \n",
    "            #print(\"doitElement\",rkey,r)\n",
    "            if hideUnused==False: \n",
    "                self.addVisText(key=rkey,value=r)\n",
    "            return\n",
    "        elif isinstance(r, dict):\n",
    "            #print(__name__,type(r),r)\n",
    "            self.proc1(r,rkey=rkey,hideUnused=hideUnused)    \n",
    "        elif isinstance(r,np.ndarray):    \n",
    "            #print(__name__,type(r),r)\n",
    "            self.procArray(r,hideUnused=hideUnused,rkey=rkey) \n",
    "        elif isinstance(r, bool):  \n",
    "            self.addVisCheckbox(key=rkey,value=r)\n",
    "            #addVisText(key=rkey,value=str(r)) \n",
    "        elif isinstance(r, int):  \n",
    "            addVisText(key=rkey,value=str(r))     \n",
    "        else:\n",
    "            print(__name__,type(r),'not implemented')\n",
    "\n",
    "    def addChilds(self,m,path,hideUnused=False):\n",
    "        __name__='addChilds'\n",
    "        #print(__name__,hideUnused)\n",
    "        r = getPathValue(m, path)\n",
    "        #print(__name__,hideUnused,type(r))\n",
    "        self.doitElement(r,hideUnused=hideUnused)\n",
    "        return    \n",
    "         \n",
    "    def __init__(self,m,path,hideUnused=False): \n",
    "        self.addChilds(m,path,hideUnused=hideUnused)"
   ]
  },
  {
   "cell_type": "code",
   "execution_count": 10,
   "metadata": {},
   "outputs": [],
   "source": [
    "class interface_widgets():\n",
    "    \n",
    "    def printPath(self,m,path,hideUnused=False):\n",
    "        __name__='printPath'\n",
    "        #print(__name__,hideUnused)\n",
    "        r = getPathValue(m, path)\n",
    "        print(r)\n",
    "    \n",
    "    def mytest(self,x):\n",
    "        with self.outs:\n",
    "            clear_output()\n",
    "            lookhere = self.mytestfilter.value\n",
    "            path = self.pathtext.value\n",
    "            #print(pathtext)\n",
    "            if lookhere==1:\n",
    "                doit(m,path,hideUnused=False)\n",
    "            if lookhere==0:\n",
    "                #doit(m,path,hideUnused=True)\n",
    "                self.printPath(m,path,hideUnused=False)  \n",
    "            if lookhere==2:\n",
    "                #self.addChilds(m,path,hideUnused=False)  \n",
    "                facturx_widgets(m,path,hideUnused=False)\n",
    "            if lookhere==3:\n",
    "                #print(m['includedSupplyChainTradeLineItem'])\n",
    "                #self.addChilds(m,path,hideUnused=True)  \n",
    "                facturx_widgets(m,path,hideUnused=True)\n",
    "             \n",
    "    def handle_submit(self,text):\n",
    "        #print('ok')\n",
    "        #print(text.value)\n",
    "        global m\n",
    "        m=self.invoices.iloc[int(text.value)]\n",
    "        #print(m.get('includedSupplyChainTradeLineItem'))\n",
    "        #print(len(str(m)))\n",
    "        self.mytest(1)\n",
    "        return text.value        \n",
    "    \n",
    "    def __init__(self,invoices,style,layout): \n",
    "        self.invoices=invoices\n",
    "        self.outs = widgets.Output()\n",
    "        self.mytestfilter = widgets.Dropdown( options={'other (True)': 3 , 'other (False)': 2, 'print': 0}, description=\"FILTER\", style=style, layout=layout)\n",
    "        #pathtext = widgets.Text(description = 'path',value = '/applicableHeaderTradeAgreement', style=style, layout={'width': '800px'})\n",
    "        self.invoice = widgets.Text(description = 'invoice',value = '4', style=style, layout=layout)\n",
    "\n",
    "        self.pathtext = widgets.Dropdown(options={'/includedSupplyChainTradeLineItem', '/applicableHeaderTradeAgreement', '/applicableHeaderTradeDelivery', '/applicableHeaderTradeSettlement'}, description=\"FILTER\", style=style, layout=layout)\n",
    "        self.pathtext.observe(self.mytest, names='value')\n",
    "        display(self.invoice,self.mytestfilter,self.pathtext,self.outs)\n",
    "        self.mytestfilter.observe(self.mytest, names='value')\n",
    "        self.invoice.on_submit(self.handle_submit)    "
   ]
  },
  {
   "cell_type": "code",
   "execution_count": 11,
   "metadata": {},
   "outputs": [
    {
     "data": {
      "application/vnd.jupyter.widget-view+json": {
       "model_id": "1d748cf00ac542f4b1706ca894301548",
       "version_major": 2,
       "version_minor": 0
      },
      "text/plain": [
       "Text(value='4', description='invoice', layout=Layout(width='500px'), style=DescriptionStyle(description_width=…"
      ]
     },
     "metadata": {},
     "output_type": "display_data"
    },
    {
     "data": {
      "application/vnd.jupyter.widget-view+json": {
       "model_id": "c552d7d5d0814fed923756b222cd1bfe",
       "version_major": 2,
       "version_minor": 0
      },
      "text/plain": [
       "Dropdown(description='FILTER', layout=Layout(width='500px'), options={'other (True)': 3, 'other (False)': 2, '…"
      ]
     },
     "metadata": {},
     "output_type": "display_data"
    },
    {
     "data": {
      "application/vnd.jupyter.widget-view+json": {
       "model_id": "198905fe47064ca4a17bb9c6344bb12d",
       "version_major": 2,
       "version_minor": 0
      },
      "text/plain": [
       "Dropdown(description='FILTER', layout=Layout(width='500px'), options=('/applicableHeaderTradeAgreement', '/inc…"
      ]
     },
     "metadata": {},
     "output_type": "display_data"
    },
    {
     "data": {
      "application/vnd.jupyter.widget-view+json": {
       "model_id": "db1cf9f9759f41f08767a9d95211d2dd",
       "version_major": 2,
       "version_minor": 0
      },
      "text/plain": [
       "Output()"
      ]
     },
     "metadata": {},
     "output_type": "display_data"
    }
   ],
   "source": [
    "f=interface_widgets(invoices,style,layout)"
   ]
  },
  {
   "cell_type": "code",
   "execution_count": 16,
   "metadata": {},
   "outputs": [],
   "source": [
    "def parse1(r):\n",
    "    for key in r.keys():\n",
    "        key1,value1=getSimpleElementValue(r,key)\n",
    "        #print (key,type(value1))\n",
    "        if isinstance(value1, dict):\n",
    "            parse(value1)\n",
    "        elif isinstance(value1,np.ndarray):  \n",
    "            print(len(value1),value1)\n",
    "\n",
    "res=[]\n",
    "resno=[]\n",
    "paths=[]\n",
    "\n",
    "def createPath(parent='',key='',resindex=-1):\n",
    "    parent = parent.copy()\n",
    "    parent.append((resindex,str(key)))\n",
    "    return parent\n",
    "\n",
    "def parse(value,res,resno,key='',depth=0,parent=[]):\n",
    "    if isinstance(value, dict):\n",
    "        x=getDictNotNone(value).keys()\n",
    "        if x not in resno:\n",
    "            resno.append(x)\n",
    "        if value.keys() not in res:\n",
    "            res.append(value.keys()) \n",
    "        resindex = res.index(value.keys())\n",
    "        \n",
    "        #if not isinstance(key, type(None)):\n",
    "        #parent = parent.copy()\n",
    "        #parent.append((resindex,str(key)))\n",
    "        parent = createPath(parent=parent,key=key,resindex=resindex)\n",
    "        #print(type(value),key,depth,parent)\n",
    "        for key1,value1 in value.items():\n",
    "            #print(key,type(value))\n",
    "            #res.append(key1)\n",
    "            #parent = createPath(parent=parent,key=key1,resindex=resindex)\n",
    "            parse(value1,res,resno,key1,depth=depth+1,parent=parent)\n",
    "    elif isinstance(value,np.ndarray):    \n",
    "        for index,value1 in enumerate(value):\n",
    "            parse(value1,res,resno,key=index,depth=depth+1,parent=parent)\n",
    "            #print (key,type(value1),value1.keys())\n",
    "    else:\n",
    "        #print(key, type(value))\n",
    "        if isinstance(value, str): \n",
    "            #print(key, parent, value)\n",
    "            paths.append((key,parent,value))\n",
    "            #pass\n",
    "        elif isinstance(value, bool): \n",
    "            pass\n",
    "        elif isinstance(value, type(None)):\n",
    "            pass\n",
    "        else:\n",
    "            print('not handled')\n",
    "            \n",
    "parse(m,res,resno)        \n",
    "#getPathValue(m,path='/applicableHeaderTradeSettlement')"
   ]
  },
  {
   "cell_type": "code",
   "execution_count": 17,
   "metadata": {},
   "outputs": [
    {
     "name": "stdout",
     "output_type": "stream",
     "text": [
      "('value', [(0, ''), (1, '0'), (4, 'specifiedTradeProduct'), (3, 'globalID')], '3518370400049') dict_keys(['globalID', 'sellerAssignedID', 'buyerAssignedID', 'name', 'description', 'applicableProductCharacteristic', 'designatedProductClassification', 'originTradeCountry'])\n"
     ]
    },
    {
     "data": {
      "text/plain": [
       "{'value': '3518370400049', 'schemeID': '0160'}"
      ]
     },
     "execution_count": 17,
     "metadata": {},
     "output_type": "execute_result"
    }
   ],
   "source": [
    "print(paths[1],res[4])\n",
    "m['includedSupplyChainTradeLineItem'][0]['specifiedTradeProduct']['globalID']"
   ]
  },
  {
   "cell_type": "code",
   "execution_count": 18,
   "metadata": {},
   "outputs": [],
   "source": [
    "new_d = []\n",
    "for x in res:\n",
    "    if x not in new_d:\n",
    "        new_d.append(x)\n"
   ]
  },
  {
   "cell_type": "code",
   "execution_count": 19,
   "metadata": {},
   "outputs": [
    {
     "data": {
      "text/plain": [
       "[dict_keys(['includedSupplyChainTradeLineItem', 'applicableHeaderTradeAgreement', 'applicableHeaderTradeDelivery', 'applicableHeaderTradeSettlement']),\n",
       " dict_keys(['associatedDocumentLineDocument', 'specifiedTradeProduct', 'specifiedLineTradeAgreement', 'specifiedLineTradeDelivery', 'specifiedLineTradeSettlement']),\n",
       " dict_keys(['lineID', 'includedNote']),\n",
       " dict_keys(['value', 'schemeID']),\n",
       " dict_keys(['globalID', 'sellerAssignedID', 'buyerAssignedID', 'name', 'description', 'applicableProductCharacteristic', 'designatedProductClassification', 'originTradeCountry']),\n",
       " dict_keys(['value']),\n",
       " dict_keys(['buyerOrderReferencedDocument', 'grossPriceProductTradePrice', 'netPriceProductTradePrice']),\n",
       " dict_keys(['chargeAmount', 'basisQuantity', 'appliedTradeAllowanceCharge']),\n",
       " dict_keys(['value', 'currencyID']),\n",
       " dict_keys(['billedQuantity']),\n",
       " dict_keys(['value', 'unitCode']),\n",
       " dict_keys(['applicableTradeTax', 'billingSpecifiedPeriod', 'specifiedTradeAllowanceCharge', 'specifiedTradeSettlementLineMonetarySummation', 'additionalReferencedDocument', 'receivableSpecifiedTradeAccountingAccount']),\n",
       " dict_keys(['calculatedAmount', 'typeCode', 'exemptionReason', 'basisAmount', 'categoryCode', 'exemptionReasonCode', 'taxPointDate', 'dueDateTypeCode', 'rateApplicablePercent']),\n",
       " dict_keys(['lineTotalAmount']),\n",
       " dict_keys(['buyerReference', 'sellerTradeParty', 'buyerTradeParty', 'sellerTaxRepresentativeTradeParty', 'sellerOrderReferencedDocument', 'buyerOrderReferencedDocument', 'contractReferencedDocument', 'additionalReferencedDocument', 'specifiedProcuringProject']),\n",
       " dict_keys(['id', 'globalID', 'name', 'description', 'specifiedLegalOrganization', 'definedTradeContact', 'postalTradeAddress', 'uriUniversalCommunication', 'specifiedTaxRegistration']),\n",
       " dict_keys(['id', 'tradingBusinessName']),\n",
       " dict_keys(['postcodeCode', 'lineOne', 'lineTwo', 'lineThree', 'cityName', 'countryID', 'countrySubDivisionName']),\n",
       " dict_keys(['value', 'listID', 'listVersionID']),\n",
       " dict_keys(['id']),\n",
       " dict_keys(['issuerAssignedID', 'uriid', 'lineID', 'typeCode', 'name', 'attachmentBinaryObject', 'referenceTypeCode', 'formattedIssueDateTime']),\n",
       " dict_keys(['shipToTradeParty', 'actualDeliverySupplyChainEvent', 'despatchAdviceReferencedDocument', 'receivingAdviceReferencedDocument']),\n",
       " dict_keys(['creditorReferenceID', 'paymentReference', 'taxCurrencyCode', 'invoiceCurrencyCode', 'payeeTradeParty', 'specifiedTradeSettlementPaymentMeans', 'applicableTradeTax', 'billingSpecifiedPeriod', 'specifiedTradeAllowanceCharge', 'specifiedTradePaymentTerms', 'specifiedTradeSettlementHeaderMonetarySummation', 'invoiceReferencedDocument', 'receivableSpecifiedTradeAccountingAccount']),\n",
       " dict_keys(['description', 'dueDateDateTime', 'directDebitMandateID']),\n",
       " dict_keys(['dateTimeString']),\n",
       " dict_keys(['value', 'format']),\n",
       " dict_keys(['lineTotalAmount', 'chargeTotalAmount', 'allowanceTotalAmount', 'taxBasisTotalAmount', 'taxTotalAmount', 'roundingAmount', 'grandTotalAmount', 'totalPrepaidAmount', 'duePayableAmount'])]"
      ]
     },
     "execution_count": 19,
     "metadata": {},
     "output_type": "execute_result"
    }
   ],
   "source": [
    "new_d"
   ]
  },
  {
   "cell_type": "code",
   "execution_count": 25,
   "metadata": {},
   "outputs": [
    {
     "data": {
      "text/html": [
       "<div>\n",
       "<style scoped>\n",
       "    .dataframe tbody tr th:only-of-type {\n",
       "        vertical-align: middle;\n",
       "    }\n",
       "\n",
       "    .dataframe tbody tr th {\n",
       "        vertical-align: top;\n",
       "    }\n",
       "\n",
       "    .dataframe thead th {\n",
       "        text-align: right;\n",
       "    }\n",
       "</style>\n",
       "<table border=\"1\" class=\"dataframe\">\n",
       "  <thead>\n",
       "    <tr style=\"text-align: right;\">\n",
       "      <th></th>\n",
       "      <th>From</th>\n",
       "      <th>To</th>\n",
       "      <th>Similarity</th>\n",
       "    </tr>\n",
       "  </thead>\n",
       "  <tbody>\n",
       "    <tr>\n",
       "      <th>0</th>\n",
       "      <td>postcodeCode</td>\n",
       "      <td>id</td>\n",
       "      <td>0.45</td>\n",
       "    </tr>\n",
       "    <tr>\n",
       "      <th>1</th>\n",
       "      <td>lineOne</td>\n",
       "      <td>name</td>\n",
       "      <td>0.45</td>\n",
       "    </tr>\n",
       "    <tr>\n",
       "      <th>2</th>\n",
       "      <td>lineTwo</td>\n",
       "      <td>name</td>\n",
       "      <td>0.45</td>\n",
       "    </tr>\n",
       "    <tr>\n",
       "      <th>3</th>\n",
       "      <td>lineThree</td>\n",
       "      <td>name</td>\n",
       "      <td>0.45</td>\n",
       "    </tr>\n",
       "    <tr>\n",
       "      <th>4</th>\n",
       "      <td>cityName</td>\n",
       "      <td>name</td>\n",
       "      <td>0.90</td>\n",
       "    </tr>\n",
       "    <tr>\n",
       "      <th>5</th>\n",
       "      <td>countryID</td>\n",
       "      <td>id</td>\n",
       "      <td>0.90</td>\n",
       "    </tr>\n",
       "    <tr>\n",
       "      <th>6</th>\n",
       "      <td>countrySubDivisionName</td>\n",
       "      <td>name</td>\n",
       "      <td>0.90</td>\n",
       "    </tr>\n",
       "  </tbody>\n",
       "</table>\n",
       "</div>"
      ],
      "text/plain": [
       "                     From    To  Similarity\n",
       "0            postcodeCode    id        0.45\n",
       "1                 lineOne  name        0.45\n",
       "2                 lineTwo  name        0.45\n",
       "3               lineThree  name        0.45\n",
       "4                cityName  name        0.90\n",
       "5               countryID    id        0.90\n",
       "6  countrySubDivisionName  name        0.90"
      ]
     },
     "execution_count": 25,
     "metadata": {},
     "output_type": "execute_result"
    }
   ],
   "source": [
    "#https://towardsdatascience.com/string-matching-with-bert-tf-idf-and-more-274bb3a95136\n",
    "#!pip install polyfuzz\n",
    "#from_list = list(m['applicableHeaderTradeAgreement']['buyerTradeParty'].keys())\n",
    "from_list = list(getPathValue(m,path='/applicableHeaderTradeAgreement/sellerTradeParty/postalTradeAddress').keys())\n",
    "#from_list = list(getPathValue(m,path='/applicableHeaderTradeSettlement/specifiedTradeSettlementHeaderMonetarySummation').keys())\n",
    "#to_list = list(m['applicableHeaderTradeAgreement']['sellerTradeParty'].keys())\n",
    "\n",
    "#from_list = [\"apple\", \"apples\", \"appl\", \"recal\", \"house\", \"similarity\"]\n",
    "#to_list = [\"apple\", \"apples\", \"mouse\"]\n",
    "to_list = [\"name\",\"tax\",\"contact\",\"address\",\"country\",\"id\",\"number\",\"amount\",\"total\"]\n",
    "\n",
    "#'sellerTradeParty'\n",
    "#m.keys()\n",
    "#m['applicableHeaderTradeSettlement'].keys()\n",
    "\n",
    "from polyfuzz import PolyFuzz\n",
    "\n",
    "model = PolyFuzz(\"EditDistance\")\n",
    "model.match(from_list, to_list)\n",
    "model.get_matches()\n",
    "#model.group(\"EditDistance\")\n",
    "#model.get_clusters()\n",
    "#from_list,to_list\n",
    "\n"
   ]
  },
  {
   "cell_type": "code",
   "execution_count": 20,
   "metadata": {},
   "outputs": [
    {
     "data": {
      "application/vnd.jupyter.widget-view+json": {
       "model_id": "135688375037448a9deca7da6930116e",
       "version_major": 2,
       "version_minor": 0
      },
      "text/plain": [
       "Text(value='AV-2017-0005', description='Rechnungsnummer', layout=Layout(width='500px'), style=DescriptionStyle…"
      ]
     },
     "metadata": {},
     "output_type": "display_data"
    },
    {
     "data": {
      "application/vnd.jupyter.widget-view+json": {
       "model_id": "e45c33e9f39046f5980e192739d03391",
       "version_major": 2,
       "version_minor": 0
      },
      "text/plain": [
       "Text(value='-218.48', description='Netto', layout=Layout(width='500px'), style=DescriptionStyle(description_wi…"
      ]
     },
     "metadata": {},
     "output_type": "display_data"
    },
    {
     "data": {
      "application/vnd.jupyter.widget-view+json": {
       "model_id": "d359d2dbe85641ac905d25bfa115d7f6",
       "version_major": 2,
       "version_minor": 0
      },
      "text/plain": [
       "Text(value='-4.10', description='Tax', layout=Layout(width='500px'), style=DescriptionStyle(description_width=…"
      ]
     },
     "metadata": {},
     "output_type": "display_data"
    },
    {
     "data": {
      "application/vnd.jupyter.widget-view+json": {
       "model_id": "be020df60d6943069955b9e8559d0c6a",
       "version_major": 2,
       "version_minor": 0
      },
      "text/plain": [
       "Text(value='FR', description='country (origin)', layout=Layout(width='500px'), style=DescriptionStyle(descript…"
      ]
     },
     "metadata": {},
     "output_type": "display_data"
    },
    {
     "data": {
      "application/vnd.jupyter.widget-view+json": {
       "model_id": "8693c7c92cfc4c799bd136c2600270a6",
       "version_major": 2,
       "version_minor": 0
      },
      "text/plain": [
       "Text(value='FR', description='country (receiver)', layout=Layout(width='500px'), style=DescriptionStyle(descri…"
      ]
     },
     "metadata": {},
     "output_type": "display_data"
    },
    {
     "ename": "TypeError",
     "evalue": "'NoneType' object is not subscriptable",
     "output_type": "error",
     "traceback": [
      "\u001b[0;31m---------------------------------------------------------------------------\u001b[0m",
      "\u001b[0;31mTypeError\u001b[0m                                 Traceback (most recent call last)",
      "\u001b[0;32m/tmp/ipykernel_13896/2588953322.py\u001b[0m in \u001b[0;36m<module>\u001b[0;34m\u001b[0m\n\u001b[1;32m      8\u001b[0m \u001b[0maddVisText\u001b[0m\u001b[0;34m(\u001b[0m\u001b[0mkey\u001b[0m\u001b[0;34m=\u001b[0m\u001b[0;34m'country (origin)'\u001b[0m\u001b[0;34m,\u001b[0m\u001b[0mvalue\u001b[0m\u001b[0;34m=\u001b[0m\u001b[0mgetPathValue\u001b[0m\u001b[0;34m(\u001b[0m\u001b[0mm\u001b[0m\u001b[0;34m,\u001b[0m\u001b[0mpath\u001b[0m\u001b[0;34m=\u001b[0m\u001b[0;34m'/applicableHeaderTradeAgreement/sellerTradeParty/postalTradeAddress'\u001b[0m\u001b[0;34m)\u001b[0m\u001b[0;34m[\u001b[0m\u001b[0;34m'countryID'\u001b[0m\u001b[0;34m]\u001b[0m\u001b[0;34m[\u001b[0m\u001b[0;34m'value'\u001b[0m\u001b[0;34m]\u001b[0m\u001b[0;34m)\u001b[0m\u001b[0;34m\u001b[0m\u001b[0;34m\u001b[0m\u001b[0m\n\u001b[1;32m      9\u001b[0m \u001b[0maddVisText\u001b[0m\u001b[0;34m(\u001b[0m\u001b[0mkey\u001b[0m\u001b[0;34m=\u001b[0m\u001b[0;34m'country (receiver)'\u001b[0m\u001b[0;34m,\u001b[0m\u001b[0mvalue\u001b[0m\u001b[0;34m=\u001b[0m\u001b[0mgetPathValue\u001b[0m\u001b[0;34m(\u001b[0m\u001b[0mm\u001b[0m\u001b[0;34m,\u001b[0m\u001b[0mpath\u001b[0m\u001b[0;34m=\u001b[0m\u001b[0;34m'/applicableHeaderTradeAgreement/buyerTradeParty/postalTradeAddress'\u001b[0m\u001b[0;34m)\u001b[0m\u001b[0;34m[\u001b[0m\u001b[0;34m'countryID'\u001b[0m\u001b[0;34m]\u001b[0m\u001b[0;34m[\u001b[0m\u001b[0;34m'value'\u001b[0m\u001b[0;34m]\u001b[0m\u001b[0;34m)\u001b[0m\u001b[0;34m\u001b[0m\u001b[0;34m\u001b[0m\u001b[0m\n\u001b[0;32m---> 10\u001b[0;31m \u001b[0maddVisText\u001b[0m\u001b[0;34m(\u001b[0m\u001b[0mkey\u001b[0m\u001b[0;34m=\u001b[0m\u001b[0;34m'Steuerbefreieungsgrund'\u001b[0m\u001b[0;34m,\u001b[0m\u001b[0mvalue\u001b[0m\u001b[0;34m=\u001b[0m\u001b[0mgetPathValue\u001b[0m\u001b[0;34m(\u001b[0m\u001b[0mm\u001b[0m\u001b[0;34m,\u001b[0m\u001b[0mpath\u001b[0m\u001b[0;34m=\u001b[0m\u001b[0;34m'/applicableHeaderTradeSettlement/applicableTradeTax'\u001b[0m\u001b[0;34m)\u001b[0m\u001b[0;34m[\u001b[0m\u001b[0;36m0\u001b[0m\u001b[0;34m]\u001b[0m\u001b[0;34m[\u001b[0m\u001b[0;34m'exemptionReason'\u001b[0m\u001b[0;34m]\u001b[0m\u001b[0;34m[\u001b[0m\u001b[0;34m'value'\u001b[0m\u001b[0;34m]\u001b[0m\u001b[0;34m)\u001b[0m\u001b[0;34m\u001b[0m\u001b[0;34m\u001b[0m\u001b[0m\n\u001b[0m",
      "\u001b[0;31mTypeError\u001b[0m: 'NoneType' object is not subscriptable"
     ]
    }
   ],
   "source": [
    "def addVisText(key='',value=''):\n",
    "    text = widgets.Text(description = key,value = value, style=style, layout=layout)\n",
    "    display(text)   \n",
    "\n",
    "addVisText(key='Rechnungsnummer',value=getPathValue(m,path='/applicableHeaderTradeSettlement/paymentReference')[0]['value'])\n",
    "addVisText(key='Netto',value=getPathValue(m,path='/applicableHeaderTradeSettlement/specifiedTradeSettlementHeaderMonetarySummation/taxBasisTotalAmount')[0]['value'])\n",
    "addVisText(key='Tax',value=getPathValue(m,path='/applicableHeaderTradeSettlement/applicableTradeTax')[0]['calculatedAmount'][0]['value'])\n",
    "addVisText(key='country (origin)',value=getPathValue(m,path='/applicableHeaderTradeAgreement/sellerTradeParty/postalTradeAddress')['countryID']['value'])\n",
    "addVisText(key='country (receiver)',value=getPathValue(m,path='/applicableHeaderTradeAgreement/buyerTradeParty/postalTradeAddress')['countryID']['value'])\n",
    "addVisText(key='Steuerbefreieungsgrund',value=getPathValue(m,path='/applicableHeaderTradeSettlement/applicableTradeTax')[0]['exemptionReason']['value'])\n"
   ]
  },
  {
   "cell_type": "code",
   "execution_count": 21,
   "metadata": {},
   "outputs": [
    {
     "data": {
      "text/plain": [
       "array([{'calculatedAmount': array([{'value': '-4.10', 'currencyID': 'EUR'}], dtype=object), 'typeCode': {'value': 'VAT'}, 'exemptionReason': None, 'basisAmount': array([{'value': '-20.48', 'currencyID': 'EUR'}], dtype=object), 'categoryCode': {'value': 'S'}, 'exemptionReasonCode': None, 'taxPointDate': None, 'dueDateTypeCode': {'value': '5'}, 'rateApplicablePercent': {'value': '20.00'}},\n",
       "       {'calculatedAmount': array([{'value': '-10.89', 'currencyID': 'EUR'}], dtype=object), 'typeCode': {'value': 'VAT'}, 'exemptionReason': None, 'basisAmount': array([{'value': '-198.00', 'currencyID': 'EUR'}], dtype=object), 'categoryCode': {'value': 'S'}, 'exemptionReasonCode': None, 'taxPointDate': None, 'dueDateTypeCode': {'value': '5'}, 'rateApplicablePercent': {'value': '5.50'}}],\n",
       "      dtype=object)"
      ]
     },
     "execution_count": 21,
     "metadata": {},
     "output_type": "execute_result"
    }
   ],
   "source": [
    "#getPathValue(m,path='/applicableHeaderTradeAgreement/sellerTradeParty/postalTradeAddress')['countryID']\n",
    "#getPathValue(m,path='/applicableHeaderTradeAgreement/buyerTradeParty/postalTradeAddress')['countryID']\n",
    "getPathValue(m,path='/applicableHeaderTradeSettlement/paymentReference')\n",
    "\n",
    "def trial(m,path=''):\n",
    "    value=getPathValue(m,path)\n",
    "    if isinstance(value, type(None)):\n",
    "            return\n",
    "    print(value)\n",
    "    \n",
    "#trial(m,path='/applicableHeaderTradeSettlement/applicableTradeTax')  \n",
    "getPathValue(m,path='/applicableHeaderTradeSettlement/applicableTradeTax')"
   ]
  },
  {
   "cell_type": "code",
   "execution_count": null,
   "metadata": {},
   "outputs": [],
   "source": [
    "addChilds(m,path='/applicableHeaderTradeAgreement/sellerTradeParty',hideUnused=True)"
   ]
  },
  {
   "cell_type": "code",
   "execution_count": null,
   "metadata": {},
   "outputs": [],
   "source": [
    "addChilds(m,path='/applicableHeaderTradeAgreement/buyerTradeParty',hideUnused=True)"
   ]
  },
  {
   "cell_type": "code",
   "execution_count": 22,
   "metadata": {},
   "outputs": [],
   "source": [
    "def createInvoiceFromData(index=1,id = 41):\n",
    "    row = invoices.iloc[index]\n",
    "    invoiceid = row.name\n",
    "    tax = row['Tax 5%']\n",
    "    netto = row['Total'] - tax\n",
    "    hashvalue = row['hash']\n",
    "    return invoiceTool.createInvoice(id=id,invoiceNumber=invoiceid,vat=tax,netto=netto,countryOrigin='US',hash=hashvalue)\n"
   ]
  }
 ],
 "metadata": {
  "kernelspec": {
   "display_name": "Python 3 (ipykernel)",
   "language": "python",
   "name": "python3"
  },
  "language_info": {
   "codemirror_mode": {
    "name": "ipython",
    "version": 3
   },
   "file_extension": ".py",
   "mimetype": "text/x-python",
   "name": "python",
   "nbconvert_exporter": "python",
   "pygments_lexer": "ipython3",
   "version": "3.9.5"
  }
 },
 "nbformat": 4,
 "nbformat_minor": 4
}
