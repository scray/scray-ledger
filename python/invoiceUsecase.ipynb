{
 "cells": [
  {
   "cell_type": "code",
   "execution_count": null,
   "id": "202ac190-c289-46a6-92e7-33cc1c3e87bc",
   "metadata": {},
   "outputs": [],
   "source": []
  },
  {
   "cell_type": "markdown",
   "id": "01980cf7-6c4c-4e5d-bff5-f0d74cec22d2",
   "metadata": {},
   "source": [
    "#### add"
   ]
  },
  {
   "cell_type": "code",
   "execution_count": 131,
   "id": "6464b5c9-0b96-4535-9062-b068aba0431b",
   "metadata": {},
   "outputs": [],
   "source": [
    "installWalletTool()"
   ]
  },
  {
   "cell_type": "code",
   "execution_count": null,
   "id": "035cb336-c7ce-4fd6-9723-c3a630a1ed25",
   "metadata": {},
   "outputs": [],
   "source": [
    "addUser(peers['aubonmoulin'],'Tony.Dubois','aubonmoulin.fr','aubonmoulin.fr')\n",
    "addUser(peers['aubonmoulin'],'Stephanie.Hoarau','hotelsaintdenis.re','aubonmoulin.fr')\n",
    "addUser(peers['aubonmoulin'],'Alexandre.Payet','majolieboutique.net','aubonmoulin.fr')\n",
    "addUser(peers['austriafactor'],'Emma.Steiner','austriafactor.at','austriafactor.at')    \n",
    "addUser(peers['megustaolive'],'Pedro.Sanchez','megustaolive.es','megustaolive.es')  \n",
    "addUser(peers['lyon-impots'],'Auguste.Boucher','lyon-impots.gouv.fr','lyon-impots.gouv.fr')  "
   ]
  },
  {
   "cell_type": "markdown",
   "id": "e31f3daa-6686-4a50-b8ad-7600d7f0a9a4",
   "metadata": {},
   "source": [
    "#### delete"
   ]
  },
  {
   "cell_type": "code",
   "execution_count": null,
   "id": "da8f8973-4146-4aaf-ad42-01ee78f38050",
   "metadata": {},
   "outputs": [],
   "source": [
    "_directories = ['Alexandre.Payet@aubonmoulin.kubernetes.research.dev.seeburger.de/','Alexandre.Payet@majolieboutique.net/','Auguste.Boucher@lyon-impots.gouv.fr/','Auguste.Boucher@lyon-impots.kubernetes.research.dev.seeburger.de/','Emma.Steiner@austriafactor.at/','Emma.Steiner@austriafactor.kubernetes.research.dev.seeburger.de/','Pedro.Sanchez@megustaolive.es/',\n",
    "'Pedro.Sanchez@megustaolive.kubernetes.research.dev.seeburger.de/',\n",
    "'Stephanie.Hoarau@aubonmoulin.kubernetes.research.dev.seeburger.de/',\n",
    "'Stephanie.Hoarau@hotelsaintdenis.re/',\n",
    "'Tony.Dubois@aubonmoulin.fr/',\n",
    "'Tony.Dubois@aubonmoulin.kubernetes.research.dev.seeburger.de/']\n",
    "\n",
    "for name in _directories:\n",
    "    deleteRemote(local_name=name ,remote_path='csrs_to_sign/')\n"
   ]
  },
  {
   "cell_type": "code",
   "execution_count": null,
   "id": "eb2823b7-de36-49e0-bb26-731d1831ee1c",
   "metadata": {},
   "outputs": [],
   "source": [
    "for name in _directories:\n",
    "    deleteRemote(local_name=name ,remote_path='signed_certs/')"
   ]
  },
  {
   "cell_type": "markdown",
   "id": "0d0bfc91-4fd6-4fe3-b1a8-bc532db7d4d2",
   "metadata": {},
   "source": [
    "#### print"
   ]
  },
  {
   "cell_type": "code",
   "execution_count": null,
   "id": "a03f6b50-a0e8-4861-b84a-2dd128ee9c67",
   "metadata": {},
   "outputs": [],
   "source": [
    "orgs=getPeerOrganizations(peers[peernames[0]])\n",
    "\n",
    "for org in orgs:\n",
    "    users = getPeerUsers(peers[peernames[0]],org)\n",
    "    print(org,users)\n"
   ]
  },
  {
   "cell_type": "markdown",
   "id": "75d7b988-840c-4dc1-a085-8f7f8b92c76a",
   "metadata": {},
   "source": [
    "##### create"
   ]
  },
  {
   "cell_type": "code",
   "execution_count": 164,
   "id": "d2d2dc8a-41cd-4239-acee-d8a252e71629",
   "metadata": {},
   "outputs": [
    {
     "name": "stdout",
     "output_type": "stream",
     "text": [
      "x509::CN=Auguste.Boucher@lyon-impots.gouv.fr,OU=admin,O=kubernetes.research.dev.seeburger.de::CN=ca.lyon-impots.gouv.fr,O=lyon-impots.gouv.fr,L=Lyon,ST=Auvergne-Rhone-Alpes,C=FR\n",
      "x509::CN=Tony.Dubois@aubonmoulin.fr,OU=admin,O=kubernetes.research.dev.seeburger.de::CN=ca.aubonmoulin.fr,O=aubonmoulin.fr,L=Malaucene,ST=Provence-Alpes-Cote,C=FR\n",
      "x509::CN=Emma.Steiner@austriafactor.at,OU=admin,O=kubernetes.research.dev.seeburger.de::CN=ca.austriafactor.at,O=austriafactor.at,L=Graz,ST=Steiermark,C=AT\n",
      "x509::CN=Pedro.Sanchez@megustaolive.es,OU=admin,O=kubernetes.research.dev.seeburger.de::CN=ca.megustaolive.es,O=megustaolive.es,L=Dos,ST=Andalusia,C=ES\n",
      "x509::CN=Pedro.Sanchez@megustaolive.es,OU=admin,O=kubernetes.research.dev.seeburger.de::CN=ca.megustaolive.es,O=megustaolive.es,L=Dos,ST=Andalusia,C=ES\n"
     ]
    },
    {
     "data": {
      "text/plain": [
       "('', Output())"
      ]
     },
     "execution_count": 164,
     "metadata": {},
     "output_type": "execute_result"
    }
   ],
   "source": [
    "peer=peers['lyon-impots']\n",
    "appendRole(peer,user='Auguste.Boucher@lyon-impots.gouv.fr',role='TaxInspector')\n",
    "peer_taxinspector=peer\n",
    "#taxinspector=get_person_names_with_role('TaxInspector',roles)[0].split(',')[0].split('=')[1]  \n",
    "taxinspector='Auguste.Boucher@lyon-impots.gouv.fr'\n",
    "\n",
    "identity_taxinspector = getSubmittingClientIdentity(peer_taxinspector, user=taxinspector)[0]\n",
    "\n",
    "peer=peers['aubonmoulin']\n",
    "appendRole(peer,user='Tony.Dubois@aubonmoulin.fr',role='Seller',taxInspector=identity_taxinspector)\n",
    "#appendRole(peer,user='Stephanie.Hoarau',role='Buyer')\n",
    "#appendRole(peer,user='Alexandre.Payet',role='Buyer')\n",
    "\n",
    "peer=peers['austriafactor']\n",
    "appendRole(peer,user='Emma.Steiner@austriafactor.at',role='Factor',taxInspector=identity_taxinspector)\n",
    "\n",
    "peer=peers['megustaolive']\n",
    "appendRole(peer,user='Pedro.Sanchez@megustaolive.es',role='Buyer',taxInspector=identity_taxinspector)\n",
    "appendRole(peer,user='Pedro.Sanchez@megustaolive.es',role='Seller',taxInspector=identity_taxinspector)"
   ]
  },
  {
   "cell_type": "markdown",
   "id": "44b14ef5-df28-4e9b-830d-89dcf9a154ff",
   "metadata": {},
   "source": [
    "##### tests"
   ]
  },
  {
   "cell_type": "code",
   "execution_count": 165,
   "id": "108cee03-a8a3-4fec-a53c-a68a74eeba81",
   "metadata": {},
   "outputs": [],
   "source": [
    "roles=getAllRoles(peer)[0]\n",
    "roleTransactions=getRoleTransactions(peer)[0]"
   ]
  },
  {
   "cell_type": "code",
   "execution_count": 168,
   "id": "f4a6f5f7-db59-4938-b3c7-466b4a164aed",
   "metadata": {},
   "outputs": [
    {
     "data": {
      "text/plain": [
       "([{'name': 'x509::CN=Auguste.Boucher@lyon-impots.gouv.fr,OU=admin,O=kubernetes.research.dev.seeburger.de::CN=ca.lyon-impots.gouv.fr,O=lyon-impots.gouv.fr,L=Lyon,ST=Auvergne-Rhone-Alpes,C=FR',\n",
       "   'roles': ['TaxInspector'],\n",
       "   'taxInspector': ''},\n",
       "  {'name': 'x509::CN=Emma.Steiner@austriafactor.at,OU=admin,O=kubernetes.research.dev.seeburger.de::CN=ca.austriafactor.at,O=austriafactor.at,L=Graz,ST=Steiermark,C=AT',\n",
       "   'roles': ['Factor'],\n",
       "   'taxInspector': 'x509::CN=Auguste.Boucher@lyon-impots.gouv.fr,OU=admin,O=kubernetes.research.dev.seeburger.de::CN=ca.lyon-impots.gouv.fr,O=lyon-impots.gouv.fr,L=Lyon,ST=Auvergne-Rhone-Alpes,C=FR'},\n",
       "  {'name': 'x509::CN=Pedro.Sanchez@megustaolive.es,OU=admin,O=kubernetes.research.dev.seeburger.de::CN=ca.megustaolive.es,O=megustaolive.es,L=Dos,ST=Andalusia,C=ES',\n",
       "   'roles': ['Buyer', 'Seller'],\n",
       "   'taxInspector': 'x509::CN=Auguste.Boucher@lyon-impots.gouv.fr,OU=admin,O=kubernetes.research.dev.seeburger.de::CN=ca.lyon-impots.gouv.fr,O=lyon-impots.gouv.fr,L=Lyon,ST=Auvergne-Rhone-Alpes,C=FR'},\n",
       "  {'name': 'x509::CN=Tony.Dubois@aubonmoulin.fr,OU=admin,O=kubernetes.research.dev.seeburger.de::CN=ca.aubonmoulin.fr,O=aubonmoulin.fr,L=Malaucene,ST=Provence-Alpes-Cote,C=FR',\n",
       "   'roles': ['Seller'],\n",
       "   'taxInspector': 'x509::CN=Auguste.Boucher@lyon-impots.gouv.fr,OU=admin,O=kubernetes.research.dev.seeburger.de::CN=ca.lyon-impots.gouv.fr,O=lyon-impots.gouv.fr,L=Lyon,ST=Auvergne-Rhone-Alpes,C=FR'}],\n",
       " [{'role': 'Buyer',\n",
       "   'transactions': ['main.(*SmartContract).ListInvoice',\n",
       "    'main.(*SmartContract).ListInvoices',\n",
       "    'main.(*SmartContract).ReceivedInvoice',\n",
       "    'main.(*SmartContract).ReceivedOrder']},\n",
       "  {'role': 'Seller',\n",
       "   'transactions': ['main.(*SmartContract).ListInvoice',\n",
       "    'main.(*SmartContract).ListInvoices',\n",
       "    'main.(*SmartContract).CreateInvoice',\n",
       "    'main.(*SmartContract).TransferInvoice',\n",
       "    'main.(*SmartContract).ReceivedPayment']},\n",
       "  {'role': 'Factor',\n",
       "   'transactions': ['main.(*SmartContract).ListInvoice',\n",
       "    'main.(*SmartContract).ListInvoices',\n",
       "    'main.(*SmartContract).TransferInvoice',\n",
       "    'main.(*SmartContract).ReceivedPayment']},\n",
       "  {'role': 'TaxInspector',\n",
       "   'transactions': ['main.(*SmartContract).ListInvoice',\n",
       "    'main.(*SmartContract).ListInvoices',\n",
       "    'main.(*SmartContract).TaxReceived']}])"
      ]
     },
     "execution_count": 168,
     "metadata": {},
     "output_type": "execute_result"
    }
   ],
   "source": [
    "roles, roleTransactions"
   ]
  },
  {
   "cell_type": "code",
   "execution_count": 167,
   "id": "5dff98ed-c63b-4876-9e83-7e3a926b92ec",
   "metadata": {},
   "outputs": [
    {
     "data": {
      "text/plain": [
       "'aubonmoulin.fr'"
      ]
     },
     "execution_count": 167,
     "metadata": {},
     "output_type": "execute_result"
    }
   ],
   "source": [
    "#getSubmittingClientIdentity(peer,user='Tony.Dubois')[1]\n",
    "getHostname(peer,user='Tony.Dubois@aubonmoulin.fr')\n",
    "#peer.__dict__"
   ]
  },
  {
   "cell_type": "code",
   "execution_count": 173,
   "id": "2c1851a8-c4c4-460e-9fa0-d368e5ecb1f0",
   "metadata": {},
   "outputs": [
    {
     "data": {
      "text/plain": [
       "(['x509::CN=Pedro.Sanchez@megustaolive.es,OU=admin,O=kubernetes.research.dev.seeburger.de::CN=ca.megustaolive.es,O=megustaolive.es,L=Dos,ST=Andalusia,C=ES',\n",
       "  'x509::CN=Tony.Dubois@aubonmoulin.fr,OU=admin,O=kubernetes.research.dev.seeburger.de::CN=ca.aubonmoulin.fr,O=aubonmoulin.fr,L=Malaucene,ST=Provence-Alpes-Cote,C=FR'],\n",
       " ['Pedro.Sanchez@megustaolive.es', 'Tony.Dubois@aubonmoulin.fr'])"
      ]
     },
     "execution_count": 173,
     "metadata": {},
     "output_type": "execute_result"
    }
   ],
   "source": [
    "get_person_certs_with_role('Seller',roles),  get_person_names_with_role('Seller',roles)"
   ]
  },
  {
   "cell_type": "code",
   "execution_count": null,
   "id": "a74597fd-53b2-46ec-bbd1-e64bf00e8a69",
   "metadata": {},
   "outputs": [],
   "source": [
    "peer=peers['aubonmoulin']\n",
    "appendRole(peer,user='Tony.Dubois@aubonmoulin.fr',role='Seller',taxInspector=identity_taxinspector)[1]"
   ]
  },
  {
   "cell_type": "code",
   "execution_count": null,
   "id": "a339a39c-6daa-4613-8806-002d1a8a9e2a",
   "metadata": {},
   "outputs": [],
   "source": [
    "for key,peer in peers.items():\n",
    "    print (peer.pod_name)"
   ]
  },
  {
   "cell_type": "code",
   "execution_count": null,
   "id": "02ef9de4-4eeb-4f35-b549-7af19d70d2ba",
   "metadata": {},
   "outputs": [],
   "source": [
    "roles"
   ]
  },
  {
   "cell_type": "code",
   "execution_count": null,
   "id": "428bdfeb-cc7d-4295-9558-889ab3fdb440",
   "metadata": {},
   "outputs": [],
   "source": [
    "identity_taxinspector = getSubmittingClientIdentity(peer_taxinspector, user=taxinspector)[0]"
   ]
  },
  {
   "cell_type": "code",
   "execution_count": null,
   "id": "4cf446c4-518d-41d5-a228-01f6cb19b1e3",
   "metadata": {},
   "outputs": [],
   "source": [
    "#identity_taxinspector\n",
    "getRoles(peer_taxinspector, user=taxinspector)[0]"
   ]
  },
  {
   "cell_type": "code",
   "execution_count": null,
   "id": "b9345f48-dd13-4a7f-a7d3-8d0fdaf21c2d",
   "metadata": {},
   "outputs": [],
   "source": [
    "roleTransactions"
   ]
  },
  {
   "cell_type": "code",
   "execution_count": null,
   "id": "baf192f5-9b69-4c5c-9544-8564cd27e905",
   "metadata": {},
   "outputs": [],
   "source": [
    "peer_factor\n",
    "getRoles(peer_factor, user=factor)[0]"
   ]
  },
  {
   "cell_type": "code",
   "execution_count": null,
   "id": "16ff6a27-1ca6-4ba4-bb5b-dbabddc655d1",
   "metadata": {},
   "outputs": [],
   "source": [
    "getAllKeys(peer_buyer)[0]"
   ]
  },
  {
   "cell_type": "markdown",
   "id": "fa60ac1e-bb48-4cc7-8e81-7736548622aa",
   "metadata": {},
   "source": [
    "### create invoice"
   ]
  },
  {
   "cell_type": "code",
   "execution_count": 138,
   "id": "2ad70eda-e2d6-4c51-9709-5fe21f34dba7",
   "metadata": {},
   "outputs": [
    {
     "name": "stdout",
     "output_type": "stream",
     "text": [
      "/home/jovyan/work/usr/bin/kubectl exec -t aubonmoulin-79666dbdd9-wpjb5 -c scray-peer-cli -- /bin/sh -c /bin/ls /mnt/conf/organizations/peerOrganizations/\n",
      "aubonmoulin-79666dbdd9-wpjb5 aubonmoulin.fr\n",
      "/bin/ls /mnt/conf/organizations/peerOrganizations/aubonmoulin.fr/users/\n",
      "/home/jovyan/work/usr/bin/kubectl exec -t aubonmoulin-79666dbdd9-wpjb5 -c scray-peer-cli -- /bin/sh -c /bin/ls /mnt/conf/organizations/peerOrganizations/aubonmoulin.fr/users/\n"
     ]
    }
   ],
   "source": [
    "owner = 'Tony.Dubois@aubonmoulin.fr'\n",
    "peer=get_peer_of_user(owner)"
   ]
  },
  {
   "cell_type": "code",
   "execution_count": null,
   "id": "6b3e0c9d-bc5a-495b-ac73-ca2ca5729c1c",
   "metadata": {},
   "outputs": [],
   "source": [
    "deleteAllInvoices(peer)   "
   ]
  },
  {
   "cell_type": "code",
   "execution_count": null,
   "id": "84b831d9-eca3-4802-a46e-47d35050d73f",
   "metadata": {},
   "outputs": [],
   "source": [
    "createInvoices(invoices)"
   ]
  },
  {
   "cell_type": "markdown",
   "id": "1d3b3f2b-58ca-4b0e-88d6-f01184a40d0e",
   "metadata": {},
   "source": [
    "### Block"
   ]
  },
  {
   "cell_type": "code",
   "execution_count": 175,
   "id": "0787148b-85f9-46de-98dc-c87948778d89",
   "metadata": {},
   "outputs": [
    {
     "data": {
      "text/plain": [
       "19"
      ]
     },
     "execution_count": 175,
     "metadata": {},
     "output_type": "execute_result"
    }
   ],
   "source": [
    "height=get_height()\n",
    "height"
   ]
  },
  {
   "cell_type": "code",
   "execution_count": null,
   "id": "0094a017-ccea-43c4-ab5a-250bb759edf8",
   "metadata": {},
   "outputs": [],
   "source": [
    "uploadBlockToShare(height-1)    \n",
    "_block = getBlockFromShare(height-1)\n",
    "#_block"
   ]
  },
  {
   "cell_type": "code",
   "execution_count": null,
   "id": "91422431-96cf-49e7-af83-b3e0d81fbc4a",
   "metadata": {},
   "outputs": [],
   "source": [
    "_invoice = decode_block_invoice(_block)\n",
    "_transaction = decode_block_transaction(_block)"
   ]
  },
  {
   "cell_type": "code",
   "execution_count": null,
   "id": "b47c6863-6be9-4e8c-8575-bad73bedb950",
   "metadata": {},
   "outputs": [],
   "source": [
    "_transaction, _invoice"
   ]
  },
  {
   "cell_type": "code",
   "execution_count": null,
   "id": "5bca3efa-e04e-4368-90cd-231f07874147",
   "metadata": {},
   "outputs": [],
   "source": [
    "_block\n",
    "#_block['data']['data'][0]['payload']['data']['actions']"
   ]
  },
  {
   "cell_type": "code",
   "execution_count": null,
   "id": "4b0ac73d-faf4-4550-96f9-c1d59444181f",
   "metadata": {},
   "outputs": [],
   "source": [
    "_block['data']['data'][0]['payload']['data']['actions'][0]['payload']['action']['proposal_response_payload']['extension']['results']['ns_rwset'][1]['rwset']\n",
    "_block['data']['data'][0]['payload']['data']['actions'][0]['payload']['chaincode_proposal_payload']['input']['chaincode_spec']['input']['args']"
   ]
  },
  {
   "cell_type": "code",
   "execution_count": null,
   "id": "be62bccb-7538-4456-8d62-55573f8e990b",
   "metadata": {},
   "outputs": [],
   "source": []
  },
  {
   "cell_type": "markdown",
   "id": "4bd32044-dd3e-4f1a-94b8-f46a4ef56bba",
   "metadata": {},
   "source": [
    "### list"
   ]
  },
  {
   "cell_type": "code",
   "execution_count": 159,
   "id": "539cc90e-cb8c-4fc2-b1e6-afc9403ac494",
   "metadata": {},
   "outputs": [
    {
     "data": {
      "text/plain": [
       "'Command \\'[\\'/home/jovyan/work/usr/bin/kubectl\\', \\'exec\\', \\'-t\\', \\'lyon-impots-77c667fb49-d9bl6\\', \\'-c\\', \\'scray-peer-cli\\', \\'--\\', \\'/bin/sh\\', \\'-c\\', \\'export CORE_PEER_MSPCONFIGPATH=/mnt/conf/organizations/peerOrganizations/lyon-impots.gouv.fr/users/Auguste.Boucher@lyon-impots.gouv.fr/msp/  && peer chaincode query -C invoicing17 -n basic -c \\\\\\'{\"function\":\"ListInvoice\",\"Args\":[\"asset3\"]}\\\\\\'\\']\\' returned non-zero exit status 1.'"
      ]
     },
     "execution_count": 159,
     "metadata": {},
     "output_type": "execute_result"
    }
   ],
   "source": [
    "#asset = listInvoice(peer_owner, id='asset3', user=owner)[0]\n",
    "#asset = listInvoice(peer_buyer, id='asset3', user=buyer)[0]\n",
    "#asset = listInvoice(peer_factor, id='asset3', user=factor)[0]\n",
    "\n",
    "asset = listInvoice(peer_taxinspector, id='asset3', user=taxinspector)[0]\n",
    "asset"
   ]
  },
  {
   "cell_type": "markdown",
   "id": "8f882797-4c14-4de0-8631-57b5d49ce45d",
   "metadata": {},
   "source": [
    "### received"
   ]
  },
  {
   "cell_type": "code",
   "execution_count": null,
   "id": "12488eb4-aecb-4ea1-a183-df280f99a15e",
   "metadata": {},
   "outputs": [],
   "source": [
    "asset\n",
    "id=asset['ID']\n",
    "buyer=get_cert_cn(asset['buyer'])\n",
    "peer_buyer=get_peer_of_user(user)\n",
    "owner=get_cert_cn(asset['owner'])\n",
    "peer_owner=get_peer_of_user(owner) \n",
    "\n",
    "#receivedInvoice(peer, id=asset['ID'], user=user)"
   ]
  },
  {
   "cell_type": "code",
   "execution_count": null,
   "id": "b6fde9c6-48d0-4d81-9597-c959e9d44a7b",
   "metadata": {},
   "outputs": [],
   "source": [
    "receivedInvoice(peer_buyer, id=id, user=buyer)[1]\n",
    "print(get_height())\n",
    "receivedOrder(peer_buyer, id=id, user=buyer)[1]\n",
    "print(get_height())\n",
    "receivedPayment(peer_owner, id=id, payer='', user=owner)[1]\n",
    "print(get_height())"
   ]
  },
  {
   "cell_type": "code",
   "execution_count": null,
   "id": "f4384584-ee1f-445e-9500-f74709a9310a",
   "metadata": {},
   "outputs": [],
   "source": [
    "asset = listInvoice(peer_owner, id='asset3', user=owner)[0]\n",
    "asset\n",
    "\n",
    "_widget = facturx_widgets(asset,'/', hideUnused=True) \n",
    "display(_widget)"
   ]
  },
  {
   "cell_type": "code",
   "execution_count": null,
   "id": "d25ec316-7014-45bf-9f9d-dca769e801c7",
   "metadata": {},
   "outputs": [],
   "source": [
    "_out = receivedInvoice(peer_buyer, id=id, user=buyer)[1]\n",
    "_out2 = receivedOrder(peer_buyer, id=id, user=buyer)[1]"
   ]
  },
  {
   "cell_type": "code",
   "execution_count": null,
   "id": "d003ada7-5e4e-467e-9df2-a523ba5657f1",
   "metadata": {},
   "outputs": [],
   "source": [
    "receivedInvoice(peer_buyer, id=id, user=buyer)[0]"
   ]
  },
  {
   "cell_type": "code",
   "execution_count": null,
   "id": "2f1900f6-bc44-4c39-a3a0-c2de1d828048",
   "metadata": {},
   "outputs": [],
   "source": [
    "receivedPayment(peer_owner, id=id, payer='', user=owner)[1]"
   ]
  },
  {
   "cell_type": "code",
   "execution_count": null,
   "id": "9ddfdac1-dc91-4df3-8072-4b2f2887fca9",
   "metadata": {},
   "outputs": [],
   "source": [
    "asset\n",
    "peer_owner.name"
   ]
  },
  {
   "cell_type": "markdown",
   "id": "a35e041f-b70b-4c70-bc11-bed53d0af197",
   "metadata": {},
   "source": [
    "### Monitoring"
   ]
  },
  {
   "cell_type": "code",
   "execution_count": null,
   "id": "ce423d3f-385b-429f-a617-49b923c9e58e",
   "metadata": {},
   "outputs": [],
   "source": [
    "peers['lyon-impots'].__dict__\n"
   ]
  },
  {
   "cell_type": "code",
   "execution_count": null,
   "id": "96e0e1d4-fa7c-4f39-ac1e-8e039f46bd10",
   "metadata": {},
   "outputs": [],
   "source": [
    "getRoleTransactions(peer)[0]"
   ]
  },
  {
   "cell_type": "code",
   "execution_count": null,
   "id": "390a5d40-72ea-4b46-9bb9-d7debc94b36d",
   "metadata": {},
   "outputs": [],
   "source": [
    "keys = getAllKeys(peer)[0]\n",
    "keys"
   ]
  },
  {
   "cell_type": "code",
   "execution_count": null,
   "id": "bf52ae95-2d9e-4f76-b7aa-7efe88a27a25",
   "metadata": {},
   "outputs": [],
   "source": [
    "getAllRoles(peer)[0][:-1]\n",
    "#getRoles(peer,name=name)"
   ]
  },
  {
   "cell_type": "code",
   "execution_count": null,
   "id": "3d70d2a6-2f14-40e4-9434-eeef143d2502",
   "metadata": {},
   "outputs": [],
   "source": [
    "strlist = ['/bin/ls',  '/mnt/conf/organizations/peerOrganizations/']\n",
    "executePeerCmd(peers[peernames[0]].pod_name,toCmd(strlist)).splitlines() "
   ]
  },
  {
   "cell_type": "code",
   "execution_count": null,
   "id": "f5fa332f-2eab-4706-a88d-e7f25f5e96e7",
   "metadata": {},
   "outputs": [],
   "source": [
    "getHostname(peers[peernames[0]],'Tony.Dubois@aubonmoulin.fr')"
   ]
  },
  {
   "cell_type": "code",
   "execution_count": null,
   "id": "03d0f010-2e92-46db-97bd-2503104b67cd",
   "metadata": {},
   "outputs": [],
   "source": [
    "strlist = ['/bin/ls',  '/mnt/conf/organizations/peerOrganizations/' + peer.name + '.kubernetes.research.dev.seeburger.de/users/']\n",
    "print(toCmd(strlist))\n",
    "users=[]\n",
    "lines=executePeerCmd(peers[peernames[0]].pod_name,toCmd(strlist)).splitlines() "
   ]
  },
  {
   "cell_type": "code",
   "execution_count": null,
   "id": "fab24a61-ebfb-4659-aba2-85d4dad46439",
   "metadata": {},
   "outputs": [],
   "source": [
    "peers[peernames[0]].pod_name"
   ]
  },
  {
   "cell_type": "code",
   "execution_count": null,
   "id": "add21b5e-d7a0-4301-894d-c8c94d6b1d60",
   "metadata": {},
   "outputs": [],
   "source": [
    "#getSubmittingClientIdentity(peers[peernames[1]],user='ben')[0]\n",
    "\n",
    "get_certificate_string(peernames[1],user='ben')"
   ]
  },
  {
   "cell_type": "code",
   "execution_count": null,
   "id": "3b2971e1-3aae-44b8-bbac-11d6f5fcdf31",
   "metadata": {},
   "outputs": [],
   "source": [
    "name = getSubmittingClientIdentity(peer)[0][:-1].split(',')[0]\n",
    "group=getSubmittingClientIdentity(peer)[0][:-1].split(',')[1]\n",
    "msp=getMSPID(peers[peernames[1]])[0][:-1]\n",
    "\n",
    "name,group,msp"
   ]
  },
  {
   "cell_type": "markdown",
   "id": "9e1f1ded-e4d0-42a2-9ad6-ed32fb7e8028",
   "metadata": {},
   "source": [
    "### load data"
   ]
  },
  {
   "cell_type": "code",
   "execution_count": null,
   "id": "052e4d76-2bdd-428d-882c-262efd2703cd",
   "metadata": {},
   "outputs": [],
   "source": [
    "import json\n",
    "\n",
    "def load(filename):\n",
    "    with open(filename) as json_file:\n",
    "        return json.load(json_file)\n",
    "\n",
    "invoices = load('invoices.json')\n",
    "roles = load('roles.json')\n",
    "roleTransactions = load('roleTransactions.json')"
   ]
  },
  {
   "cell_type": "code",
   "execution_count": null,
   "id": "6eb869ad-8e35-421b-b4ce-c1156df4dad1",
   "metadata": {},
   "outputs": [],
   "source": [
    "roles[0]['name']"
   ]
  },
  {
   "cell_type": "code",
   "execution_count": null,
   "id": "be399744-7bc1-4f53-83cd-78dc15acdf6f",
   "metadata": {},
   "outputs": [],
   "source": [
    "if 'TaxInspector' in roles[0]['roles']:\n",
    "    print()"
   ]
  },
  {
   "cell_type": "code",
   "execution_count": null,
   "id": "ce573d3c-034b-4b54-972e-2d1bbdff2e1e",
   "metadata": {},
   "outputs": [],
   "source": [
    "def invoke(peer,callopt,user='User1'):\n",
    "    print(user,callopt)\n",
    "    \n",
    "def query(peer,callopt,user='User1'):\n",
    "    print(user,callopt)    \n",
    "    \n",
    "class kubernetespeer:\n",
    "    def __init__(self, name='',prefix='peer'):\n",
    "        self.name = name    \n",
    "        \n",
    "def addPeer(peername):  \n",
    "    peer = kubernetespeer(name=peername)\n",
    "    peers[peername] = peer\n",
    "    return peer        \n",
    "  \n",
    "def get_peer_of_user(name):\n",
    "    return kubernetespeer(name=name)    \n",
    "\n",
    "def addUser(peer,user):\n",
    "    if peer.name in peerusers:\n",
    "        peerusers[peer.name].append(user)\n",
    "    else:\n",
    "        peerusers[peer.name] = [user]\n",
    "\n",
    "peers={}\n",
    "peerusers ={}\n",
    "\n",
    "addPeer('aubonmoulin')\n",
    "addPeer('lyon-impots')\n",
    "addPeer('austriafactor')\n",
    "addPeer('megustaolive') \n",
    "addUser(peers['aubonmoulin'],'Tony.Dubois')    \n",
    "addUser(peers['aubonmoulin'],'Stephanie.Hoarau')\n",
    "addUser(peers['aubonmoulin'],'Alexandre.Payet')\n",
    "addUser(peers['austriafactor'],'Emma.Steiner')    \n",
    "addUser(peers['megustaolive'],'Pedro.Sanchez')  \n",
    "addUser(peers['lyon-impots'],'Auguste.Boucher')  \n",
    "\n",
    "peernames = list(peers.keys())"
   ]
  },
  {
   "cell_type": "code",
   "execution_count": null,
   "id": "3bbd7026-d4d0-407c-991a-ba42d7b61ad4",
   "metadata": {},
   "outputs": [],
   "source": [
    "peerusers\n",
    "invoices[2]"
   ]
  },
  {
   "cell_type": "code",
   "execution_count": null,
   "id": "98371134-4651-4f9c-8420-def5690296b2",
   "metadata": {},
   "outputs": [],
   "source": [
    "asset"
   ]
  },
  {
   "cell_type": "markdown",
   "id": "0c10a822-a002-4313-975a-e761c97c4f09",
   "metadata": {},
   "source": [
    "# Demo Functions"
   ]
  },
  {
   "cell_type": "code",
   "execution_count": null,
   "id": "ef91695a-5124-4ab5-abb7-53e1a1c94be9",
   "metadata": {},
   "outputs": [],
   "source": [
    "def get_cert_cn(cert):\n",
    "    return cert.split(',')[0].split('=')[1]\n",
    "    #return cert.split('=')[1].split('@')[0]\n",
    "\n",
    "def get_person_names_with_role(role,roles):\n",
    "    result = []\n",
    "    for person in roles:\n",
    "        if role in person['roles']:\n",
    "            #result.append(get_cert_cn(person['name']))\n",
    "            result.append(person['name'])\n",
    "    return result        \n",
    "        \n",
    "def get_person_certs_with_role(role,roles):\n",
    "    result = []\n",
    "    for person in roles:\n",
    "        if role in person['roles']:\n",
    "            result.append(person['name'])\n",
    "    return result                     "
   ]
  },
  {
   "cell_type": "code",
   "execution_count": null,
   "id": "9e692ce9-c34e-479f-97fb-0065fb5936bf",
   "metadata": {},
   "outputs": [],
   "source": [
    "def disable_all_fields():\n",
    "    for key,value in _widget.container.fields.items():\n",
    "        value.widget.disabled=True\n",
    "        \n",
    "def enable_fields_for_role(rolename):\n",
    "    disable_all_fields()\n",
    "    if rolename == 'Buyer':\n",
    "        _widget.container.fields['received'].widget.disabled=False\n",
    "        _widget.container.fields['receivedOrder'].widget.disabled=False\n",
    "\n",
    "    elif  rolename == 'Seller':   \n",
    "        _widget.container.fields['sold'].widget.disabled=False\n",
    "        _widget.container.fields['claimPaid'].widget.disabled=False\n",
    "        _widget.container.fields['claimPaidBy'].widget.disabled=False\n",
    "        _widget.container.fields['owner'].widget.disabled=False\n",
    "        \n",
    "    elif  rolename == 'Factor':   \n",
    "        #_widget.container.fields['sold'].widget.disabled=False\n",
    "        _widget.container.fields['claimPaid'].widget.disabled=False\n",
    "        _widget.container.fields['claimPaidBy'].widget.disabled=False\n",
    "        #_widget.container.fields['owner'].widget.disabled=False\n",
    "                \n",
    "    elif  rolename == 'TaxInspector':    \n",
    "        _widget.container.fields['taxReceived'].widget.disabled=False       "
   ]
  },
  {
   "cell_type": "code",
   "execution_count": null,
   "id": "8e15f69e-ca82-44e3-a2fc-6155495444c8",
   "metadata": {},
   "outputs": [],
   "source": [
    "def create_dropdown_owner(_widget):\n",
    "    _certs=[_widget.container.fields['owner'].widget.value]\n",
    "    _certs = _certs + get_person_certs_with_role('Factor',roles)\n",
    "    return widgets.Dropdown(options=_certs, value = _certs[0], description=\"owner\", style=style, layout=layout)\n",
    "\n",
    "def replace_owner_field_by_dropdown(_widget):\n",
    "    _owners = create_dropdown_owner(_widget)\n",
    "    _widget.container.fields['owner'] = Field(widget=_owners,path=_widget.container.fields['owner'].path)\n",
    "    _widget.redisplay()"
   ]
  },
  {
   "cell_type": "markdown",
   "id": "03b52fac-1b51-411f-9d11-257ad915ded8",
   "metadata": {},
   "source": [
    "### role buyer"
   ]
  },
  {
   "cell_type": "code",
   "execution_count": null,
   "id": "2ab5454f-0bf0-479c-a1c5-7b63b31d7a70",
   "metadata": {},
   "outputs": [],
   "source": [
    "def init_fields_buyer(user=None,peer=peer):\n",
    "    #peer=get_peer_of_user(user)\n",
    "\n",
    "    def received_changed(b):\n",
    "        if b['name'] == 'value':\n",
    "            receivedInvoice(peer_buyer, id=id, user=user)[1]\n",
    "\n",
    "    def receivedOrder_changed(b):\n",
    "        if b['name'] == 'value':\n",
    "            receivedOrder(peer_buyer, id=id, user=user)[1]    \n",
    "\n",
    "    _widget.container.fields['received'].widget.observe(received_changed)\n",
    "    _widget.container.fields['receivedOrder'].widget.observe(receivedOrder_changed)\n",
    "    enable_fields_for_role('Buyer')"
   ]
  },
  {
   "cell_type": "markdown",
   "id": "8459692b-03b2-45ee-bb26-081af05a3a08",
   "metadata": {
    "tags": []
   },
   "source": [
    "### role owner / seller"
   ]
  },
  {
   "cell_type": "code",
   "execution_count": null,
   "id": "2973e586-5c61-4a61-b1ba-d89b598c14b5",
   "metadata": {},
   "outputs": [],
   "source": [
    "def init_fields_seller(user=None,peer=peer):\n",
    "    #peer=get_peer_of_user(user)\n",
    "    \n",
    "    def sold_changed(b):\n",
    "        if b['name'] == 'value':\n",
    "            name=_widget.container.fields['owner'].widget.value\n",
    "            transferInvoice(peer, id=id,name=name, user=user)[1]\n",
    "\n",
    "    def claimPaid_changed(b):\n",
    "        if b['name'] == 'value':\n",
    "            receivedPayment(peer, id=id, payer= _widget.container.fields['claimPaidBy'].widget.value, user=user)\n",
    "\n",
    "    enable_fields_for_role('Seller')    \n",
    "    _widget.container.fields['sold'].widget.observe(sold_changed)\n",
    "    _widget.container.fields['claimPaid'].widget.observe(claimPaid_changed)   \n",
    "    replace_owner_field_by_dropdown(_widget)"
   ]
  },
  {
   "cell_type": "markdown",
   "id": "b1af6160-8da5-4c7f-afbb-d81da14c1d46",
   "metadata": {
    "tags": []
   },
   "source": [
    "### role factor (owner)"
   ]
  },
  {
   "cell_type": "code",
   "execution_count": null,
   "id": "47bff26c-29c9-4363-bcc8-fd0214fddc09",
   "metadata": {},
   "outputs": [],
   "source": [
    "def init_fields_factor(user=None,peer=peer):\n",
    "    #peer=get_peer_of_user(user)\n",
    "    \n",
    "    def claimPaid_changed(b):\n",
    "        if b['name'] == 'value':  \n",
    "            receivedPayment(peer, id=id, payer= _widget.container.fields['claimPaidBy'].widget.value, user=user)\n",
    "\n",
    "    enable_fields_for_role('Factor')    \n",
    "    _widget.container.fields['claimPaid'].widget.observe(claimPaid_changed)   "
   ]
  },
  {
   "cell_type": "markdown",
   "id": "a633eca2-195b-4f0b-86bc-eeb7fae26a6c",
   "metadata": {
    "tags": []
   },
   "source": [
    "### role tax inspector"
   ]
  },
  {
   "cell_type": "code",
   "execution_count": null,
   "id": "77299140-780a-4bd8-b96d-b39ebe7317df",
   "metadata": {},
   "outputs": [],
   "source": [
    "def init_fields_taxinspector(user=None,peer=peer):\n",
    "    #peer=get_peer_of_user(user)\n",
    "\n",
    "    def taxReceived_changed(b):\n",
    "        if b['name'] == 'value':\n",
    "            taxReceived(peer, id=id, user=user)\n",
    "\n",
    "    _widget.container.fields['taxReceived'].widget.observe(taxReceived_changed)\n",
    "    enable_fields_for_role('TaxInspector')"
   ]
  },
  {
   "cell_type": "markdown",
   "id": "4fdf8d37-a4a4-4b9c-a01f-c2ef0a0dd78e",
   "metadata": {},
   "source": [
    "### init"
   ]
  },
  {
   "cell_type": "code",
   "execution_count": null,
   "id": "eb6c9780-104a-4b32-8e53-c8bddbaf85ee",
   "metadata": {},
   "outputs": [],
   "source": [
    "# init users and peers of invoice\n",
    "\n",
    "\n",
    "def init_parties_from_asset(asset,roles):\n",
    "    global id, owner, buyer, factor,peer_buyer,peer_owner,peer_factor,taxinspector,peer_taxinspector\n",
    "    \n",
    "    id=asset['ID']\n",
    "    owner=get_cert_cn(asset['owner'])\n",
    "    buyer=get_cert_cn(asset['buyer'])\n",
    "\n",
    "    factor=get_person_names_with_role('Factor',roles)[0].split(',')[0].split('=')[1]  \n",
    "\n",
    "    peer_buyer=get_peer_of_user(buyer)\n",
    "    peer_owner=get_peer_of_user(owner)\n",
    "    peer_factor=get_peer_of_user(factor) \n",
    "\n",
    "    taxinspector = get_cert_cn(getRoles(peer_owner, user=owner)[0]['taxInspector'])\n",
    "    peer_taxinspector=get_peer_of_user(taxinspector)\n",
    " \n",
    "def init_parties_from_widget(asset,roles):    \n",
    "    owner=get_cert_cn(_widget.container.fields['owner'].widget.value)\n",
    "    buyer=get_cert_cn(_widget.container.fields['buyer'].widget.value)\n",
    "\n",
    "    factor=get_person_names_with_role('Factor',roles)[0].split(',')[0].split('=')[1]  \n",
    "    id=_widget.container.fields['ID'].widget.value\n",
    "    peer_buyer=get_peer_of_user(buyer)\n",
    "    peer_owner=get_peer_of_user(owner)\n",
    "    peer_factor=get_peer_of_user(factor) \n",
    "\n",
    "    taxinspector = get_cert_cn(getRoles(peer_owner, user=owner)[0]['taxInspector'])\n",
    "    peer_taxinspector=get_peer_of_user(taxinspector)\n",
    "\n",
    "    #peer_taxinspector=get_peer_of_user(taxinspector)\n",
    "    #taxinspector=get_person_names_with_role('TaxInspector',roles)[0].split(',')[0].split('=')[1] \n",
    "    \n",
    "    \n",
    "def get_current_user_with_role(rolename):    \n",
    "    if rolename == 'Buyer':\n",
    "        return buyer\n",
    "    elif  rolename == 'Seller':   \n",
    "        return owner\n",
    "    elif  rolename == 'Factor':   \n",
    "        return factor\n",
    "    elif  rolename == 'TaxInspector':    \n",
    "        return taxinspector\n",
    "    \n",
    "def get_current_peer_with_role(rolename):    \n",
    "    if rolename == 'Buyer':\n",
    "        return peer_buyer\n",
    "    elif  rolename == 'Seller':   \n",
    "        return peer_owner\n",
    "    elif  rolename == 'Factor':   \n",
    "        return peer_factor\n",
    "    elif  rolename == 'TaxInspector':    \n",
    "        return peer_taxinspector    "
   ]
  },
  {
   "cell_type": "markdown",
   "id": "422728e9-cfdd-4c4b-a010-f1028727228f",
   "metadata": {},
   "source": [
    "# Adressen"
   ]
  },
  {
   "cell_type": "code",
   "execution_count": null,
   "id": "e7dfa7a4-3119-4245-b46b-f28ddf257c65",
   "metadata": {},
   "outputs": [],
   "source": [
    "def create_address_widget(_invoice):\n",
    "    _widget1 =  widgets.HBox([widgets.VBox([facturx_widgets(_invoice,'/exchangedDocumentContext', hideUnused=True, hide=True).output ,\n",
    "                              facturx_widgets(_invoice,'/exchangedDocument', hideUnused=True, hide=True).output]) ,\n",
    "                              facturx_widgets(_invoice,'/supplyChainTradeTransaction/applicableHeaderTradeAgreement/sellerTradeParty', hideUnused=True, hide=True).output ,\n",
    "                              facturx_widgets(_invoice,'/supplyChainTradeTransaction/applicableHeaderTradeAgreement/buyerTradeParty', hideUnused=True, hide=True).output])\n",
    "    #display (_widget1)\n",
    "    return _widget1\n",
    "\n",
    "\n",
    "_invoice = invoices.iloc[14]\n",
    "create_address_widget(_invoice)"
   ]
  },
  {
   "cell_type": "markdown",
   "id": "3e9e65ff-8edd-4032-a574-845682d9017c",
   "metadata": {},
   "source": [
    "# Rechnung"
   ]
  },
  {
   "cell_type": "code",
   "execution_count": null,
   "id": "b840e97b-b3d6-4190-ad7f-e37e567b76dc",
   "metadata": {},
   "outputs": [],
   "source": [
    "facturx_widgets(_invoice,'/supplyChainTradeTransaction', hideUnused=True, hide=True).output\n",
    "\n"
   ]
  },
  {
   "cell_type": "markdown",
   "id": "fdbf85c9-6781-4298-953a-4a2242090317",
   "metadata": {},
   "source": [
    "# Peers"
   ]
  },
  {
   "cell_type": "code",
   "execution_count": null,
   "id": "0f5921cf-1b8e-4408-8459-953e8ec303d1",
   "metadata": {},
   "outputs": [],
   "source": [
    "_peer_dict = peers[peernames[0]].__dict__\n",
    "\n",
    "pod_lists = []\n",
    "i=0\n",
    "pod_list = []\n",
    "pod_lists.append(pod_list)\n",
    "for key,peer in peers.items():\n",
    "    if i == 3:\n",
    "        pod_list = []\n",
    "        pod_lists.append(pod_list)\n",
    "        i=0\n",
    "    pod_lists[len(pod_lists)-1].append(facturx_widgets(peer.__dict__,'/', hideUnused=True, hide=True).output)\n",
    "    i = i + 1"
   ]
  },
  {
   "cell_type": "code",
   "execution_count": null,
   "id": "9d5ca719-d517-44d0-906f-e2eafc512a56",
   "metadata": {},
   "outputs": [],
   "source": [
    "len(pod_lists)\n",
    "hboxes = []\n",
    "for pod_list in pod_lists:\n",
    "    hboxes.append(widgets.HBox(pod_list))"
   ]
  },
  {
   "cell_type": "code",
   "execution_count": null,
   "id": "93a32f90-2ce6-4d09-babd-3f752f1b54bf",
   "metadata": {},
   "outputs": [],
   "source": [
    "#widgets.VBox(pod_lists)\n",
    "display(widgets.HBox(pod_lists[0]))"
   ]
  },
  {
   "cell_type": "code",
   "execution_count": null,
   "id": "cd351acf-ef79-47d2-bc7f-d7fb02f4bdfd",
   "metadata": {},
   "outputs": [],
   "source": [
    "pod_list = []\n",
    "for key,peer in peers.items():\n",
    "    pod_list.append(facturx_widgets(peer.__dict__,'/', hideUnused=True, hide=True).output)\n",
    "widgets.VBox(pod_list)"
   ]
  },
  {
   "cell_type": "markdown",
   "id": "07d30907-0f4a-4e6b-ba80-515a1f4c86fe",
   "metadata": {},
   "source": [
    "# Blöcke"
   ]
  },
  {
   "cell_type": "code",
   "execution_count": null,
   "id": "16710122-0b61-4022-b622-0b30100438c1",
   "metadata": {},
   "outputs": [],
   "source": [
    "height=get_height()\n",
    "height"
   ]
  },
  {
   "cell_type": "code",
   "execution_count": null,
   "id": "0802dd26-f6cb-497f-80da-38c58f8c9ae0",
   "metadata": {},
   "outputs": [],
   "source": [
    "with widgets.Output():\n",
    "    uploadBlockToShare(height-1)    \n",
    "    _block = getBlockFromShare(height-1)\n",
    "    _invoice = decode_block_invoice(_block)\n",
    "    _transaction = decode_block_transaction(_block)"
   ]
  },
  {
   "cell_type": "code",
   "execution_count": null,
   "id": "7ec25dfa-197a-46b0-8471-b1878f7e325f",
   "metadata": {},
   "outputs": [],
   "source": [
    "_transaction"
   ]
  },
  {
   "cell_type": "code",
   "execution_count": null,
   "id": "13e62716-3c2d-4f37-ab90-8b3d48b2d31e",
   "metadata": {},
   "outputs": [],
   "source": [
    "_transaction, _invoice"
   ]
  },
  {
   "cell_type": "code",
   "execution_count": null,
   "id": "4e687b5d-1f05-4259-b413-ef46057ef93d",
   "metadata": {},
   "outputs": [],
   "source": []
  },
  {
   "cell_type": "markdown",
   "id": "6a15a89c-9099-461a-8dd6-5e92ee27e0cd",
   "metadata": {},
   "source": [
    "# Demo"
   ]
  },
  {
   "cell_type": "markdown",
   "id": "082c004a-a476-4964-aca7-05fa387416a0",
   "metadata": {},
   "source": [
    "### Init kubernetes peers (2)"
   ]
  },
  {
   "cell_type": "code",
   "execution_count": null,
   "id": "abeb8ccd-2a0d-418b-a7f1-91394fae3486",
   "metadata": {},
   "outputs": [],
   "source": [
    "orderer = ordererpeer(name='orderer-org1-scray-org',prefix='orderer')\n",
    "orderer_ip=orderer.get_ip()\n",
    "orderer_hostname=orderer.host\n",
    "orderer_port= orderer.listen_port\n",
    "\n",
    "channel_name='invoicing'\n",
    "shared_fs_host='10.14.128.38:30080'"
   ]
  },
  {
   "cell_type": "code",
   "execution_count": null,
   "id": "1a06f2bc-3852-4646-9868-6211999f3c3b",
   "metadata": {},
   "outputs": [],
   "source": [
    "def addPeerFromKubernetes(peername):\n",
    "    peer= kubernetespeer(peername)\n",
    "    peers[peername] = peer\n",
    "\n",
    "peers={}    \n",
    "addPeerFromKubernetes('aubonmoulin')\n",
    "addPeerFromKubernetes('lyon-impots')\n",
    "addPeerFromKubernetes('austriafactor')\n",
    "addPeerFromKubernetes('megustaolive')\n",
    "peernames = list(peers.keys())\n",
    "peernames"
   ]
  },
  {
   "cell_type": "markdown",
   "id": "9dc65bab-611d-43c6-90ec-c08b57fecc63",
   "metadata": {},
   "source": [
    "##  basic infos"
   ]
  },
  {
   "cell_type": "code",
   "execution_count": null,
   "id": "cdccfb55-cf72-4b4b-88f2-db4aa501670c",
   "metadata": {},
   "outputs": [],
   "source": [
    "peer = peers[peernames[0]]\n",
    "keys = getAllKeys(peer)[0]\n",
    "keys"
   ]
  },
  {
   "cell_type": "code",
   "execution_count": null,
   "id": "4a61940e-183c-4e3a-b0b3-7bc2dc03e634",
   "metadata": {},
   "outputs": [],
   "source": [
    "orgs=getPeerOrganizations(peers[peernames[0]])\n",
    "\n",
    "for org in orgs:\n",
    "    users = getPeerUsers(peers[peernames[0]],org)\n",
    "    print(org,users)"
   ]
  },
  {
   "cell_type": "markdown",
   "id": "b92ddd12-8671-4013-9c94-dac126ab485e",
   "metadata": {},
   "source": [
    "## people and roles"
   ]
  },
  {
   "cell_type": "code",
   "execution_count": null,
   "id": "ef58c7ed-f7a0-451b-a621-a0f375b10d01",
   "metadata": {},
   "outputs": [],
   "source": [
    "shop_owner          = 'Tony.Dubois@aubonmoulin.fr'\n",
    "shop_owner_peer     = get_peer_of_user(shop_owner)\n",
    "shop_owner_identity = getSubmittingClientIdentity(shop_owner_peer, user=shop_owner)[0]\n",
    "shop_owner_roles    = getRoles(shop_owner_peer, user=shop_owner)[0]\n",
    "\n",
    "roles=getAllRoles(shop_owner_peer)[0]\n",
    "roleTransactions=getRoleTransactions(shop_owner_peer)[0]\n",
    "usedRoles=getUsedRoles(roles)"
   ]
  },
  {
   "cell_type": "code",
   "execution_count": null,
   "id": "548e7db1-9a41-41f8-9deb-c422ed604ef3",
   "metadata": {},
   "outputs": [],
   "source": [
    "#shop_owner_identity, \n",
    "shop_owner_roles\n",
    "#facturx_widgets(shop_owner_roles,'/', hideUnused=True) \n"
   ]
  },
  {
   "cell_type": "code",
   "execution_count": null,
   "id": "65de2954-b770-44ab-9cb2-3b4828e019dc",
   "metadata": {},
   "outputs": [],
   "source": [
    "def create_role_widget(shop_owner_roles):   \n",
    "    style = {'description_width': '150px'}\n",
    "    layout = {'width': '400px'}\n",
    "    _widget = facturx_widgets(shop_owner_roles,'/', hideUnused=True) \n",
    "    style = {'description_width': '250px'}\n",
    "    layout = {'width': '500px'}\n",
    "    return _widget\n",
    "\n",
    "create_role_widget(shop_owner_roles)"
   ]
  },
  {
   "cell_type": "markdown",
   "id": "0ce84add-2aa1-496d-b248-84031fcfa382",
   "metadata": {},
   "source": [
    "## list"
   ]
  },
  {
   "cell_type": "code",
   "execution_count": null,
   "id": "a82cebd8-75d5-409c-9138-ab844998a43f",
   "metadata": {},
   "outputs": [],
   "source": [
    "assets = listInvoices(shop_owner_peer, user=shop_owner)[0]\n",
    "\n",
    "#asset = listInvoice(peer_owner, id='asset3', user=owner)[0]\n",
    "#asset = listInvoice(peer_buyer, id='asset3', user=buyer)[0]\n",
    "#asset = listInvoice(peer_factor, id='asset3', user=factor)[0]\n",
    "asset = listInvoice(shop_owner_peer, id='asset14', user=shop_owner)[0]"
   ]
  },
  {
   "cell_type": "code",
   "execution_count": null,
   "id": "2b309e1b-5d67-48be-a93b-b0a9bb88232d",
   "metadata": {},
   "outputs": [],
   "source": [
    "assets = listInvoices(shop_owner_peer, user=shop_owner)[0]\n",
    "\n",
    "_keys = []\n",
    "for asset in assets:\n",
    "    _keys.append(asset['Key'])"
   ]
  },
  {
   "cell_type": "code",
   "execution_count": null,
   "id": "72ced5e1-d7e9-4677-827e-e9e053f2b1b9",
   "metadata": {},
   "outputs": [],
   "source": []
  },
  {
   "cell_type": "code",
   "execution_count": null,
   "id": "666ee042-af8e-400c-bf8b-18dcb15897de",
   "metadata": {},
   "outputs": [],
   "source": [
    "asset"
   ]
  },
  {
   "cell_type": "code",
   "execution_count": null,
   "id": "0786292f-f5e8-47bf-87c9-99533a9fe9b6",
   "metadata": {},
   "outputs": [],
   "source": [
    "#invoice widget\n",
    "\n",
    "def asset_selected(x): \n",
    "    global asset\n",
    "    asset = listInvoice(shop_owner_peer, id=assetOptions.value, user=shop_owner)[0]\n",
    "    \n",
    "assetOptions = widgets.Dropdown(options=_keys)\n",
    "assetOptions.observe(asset_selected, names='value')\n",
    "\n",
    "def widget_load_asset(widget,asset):\n",
    "    widget.output.clear_output()\n",
    "    widget.container = FieldContainer()\n",
    "    with widget.output:\n",
    "        widget.addChilds(asset,'/', hideUnused=True)\n",
    "\n",
    "def reload_clicked(i):\n",
    "    user = get_current_user_with_role(roleOptions.value)\n",
    "    peer = get_current_peer_with_role(roleOptions.value)\n",
    "    #asset = listInvoice(shop_owner_peer, id, user=shop_owner)[0]\n",
    "    asset = listInvoice(peer, id, user=user)[0]\n",
    "    widget_load_asset(_widget,asset)\n",
    "    role_selected('')  \n",
    "\n",
    "def role_selected(x): \n",
    "    if roleOptions.value == 'Buyer':\n",
    "        init_fields_buyer(user=buyer,peer=peer_buyer)\n",
    "    elif roleOptions.value == 'Seller':\n",
    "        init_fields_seller(user=owner,peer=peer_owner)\n",
    "    elif roleOptions.value == 'TaxInspector':    \n",
    "        init_fields_taxinspector(user=taxinspector,peer=peer_taxinspector)\n",
    "\n",
    "roleOptions = widgets.Dropdown(options=usedRoles)\n",
    "#roleOptions.observe(role_selected, names='value')\n",
    "roleOptions.observe(reload_clicked, names='value')\n",
    "\n",
    "#display(roleOptions)\n",
    "\n",
    "        \n",
    "btn = widgets.Button(description=f'From Blockchain', disabled=False,button_style='success', icon='check')    \n",
    "btn.on_click(reload_clicked)\n",
    "#display (btn)\n",
    "\n",
    "def asset_selected(x): \n",
    "    global id\n",
    "    id=assetOptions.value\n",
    "    #asset = listInvoice(shop_owner_peer, id=assetOptions.value, user=shop_owner)[0]\n",
    "    reload_clicked(i)\n",
    "    \n",
    "    \n",
    "def create_invoice_widget():    \n",
    "    assetOptions = widgets.Dropdown(options=_keys)\n",
    "    assetOptions.observe(asset_selected, names='value')\n",
    "\n",
    "\n",
    "    _widget = facturx_widgets(asset,'/', hideUnused=True, hide=True) \n",
    "    options = widgets.VBox([roleOptions,btn])\n",
    "    #display(_widget)\n",
    "\n",
    "    HBox = widgets.HBox([_widget.output, options,assetOptions]) \n",
    "    display(HBox)\n",
    "\n",
    "    assetOptions.value='asset14'\n",
    "    asset_selected('')\n",
    "    return _widget"
   ]
  },
  {
   "cell_type": "code",
   "execution_count": null,
   "id": "6bea40f8-1413-49bc-a927-7c465f687cfd",
   "metadata": {},
   "outputs": [],
   "source": [
    "#listInvoice(shop_owner_peer, id='asset14', user=shop_owner)[1]['text'].splitlines()\n",
    "\n",
    "\n",
    "out = listInvoice(shop_owner_peer, id='asset14', user=shop_owner)[1]\n",
    "\n"
   ]
  },
  {
   "cell_type": "code",
   "execution_count": null,
   "id": "a9111a63-30c2-4d98-a1ab-f16c623599fb",
   "metadata": {},
   "outputs": [],
   "source": [
    "_widget.container.fields.keys(),asset"
   ]
  },
  {
   "cell_type": "markdown",
   "id": "bf5d4a6b-7e95-4e14-be94-591abd0f6c24",
   "metadata": {},
   "source": [
    "## display"
   ]
  },
  {
   "cell_type": "code",
   "execution_count": null,
   "id": "a673332c-8679-4c19-8ec8-264af567eda3",
   "metadata": {},
   "outputs": [],
   "source": [
    "_widget = create_invoice_widget()"
   ]
  },
  {
   "cell_type": "code",
   "execution_count": null,
   "id": "0b4c01e7-77dc-4044-a0b8-a7778e8e6ca3",
   "metadata": {},
   "outputs": [],
   "source": [
    "def adapt_role_options():\n",
    "    _name = _widget.container.fields['owner'].widget.value\n",
    "    for role in roles:\n",
    "        if _name == role['name']:\n",
    "            if 'Seller' in role['roles'] and not in (roleOptions.options):\n",
    "                print(role['roles'])"
   ]
  },
  {
   "cell_type": "code",
   "execution_count": null,
   "id": "e112ceb4-2778-436c-b245-7ea0d041c166",
   "metadata": {},
   "outputs": [],
   "source": [
    "alist = list(roleOptions.options)"
   ]
  },
  {
   "cell_type": "code",
   "execution_count": null,
   "id": "b66d3912-8ffc-43cb-9e2e-10bbe1ea3bfd",
   "metadata": {},
   "outputs": [],
   "source": [
    "alist.remove('Factor')"
   ]
  },
  {
   "cell_type": "code",
   "execution_count": null,
   "id": "d87f7565-7d3b-4c3c-a989-888bbc6a909a",
   "metadata": {},
   "outputs": [],
   "source": [
    "if 'Factor' in alist:\n",
    "    alist.remove('Factor')\n",
    "else:\n",
    "    alist.append('Factor')"
   ]
  },
  {
   "cell_type": "code",
   "execution_count": null,
   "id": "dcf8969e-abbc-482c-90cc-5c4eaaf6c328",
   "metadata": {},
   "outputs": [],
   "source": [
    "alist"
   ]
  },
  {
   "cell_type": "code",
   "execution_count": null,
   "id": "33aec654-9cc3-46ab-8394-c53bad1e4689",
   "metadata": {},
   "outputs": [],
   "source": [
    "get_height()"
   ]
  },
  {
   "cell_type": "code",
   "execution_count": null,
   "id": "a1487fb8-f36f-419c-8569-45513d843653",
   "metadata": {},
   "outputs": [],
   "source": [
    "init_parties_from_asset(asset,roles)"
   ]
  },
  {
   "cell_type": "code",
   "execution_count": null,
   "id": "d9e2b6b1-c049-4346-bbb3-f1a483d5db1b",
   "metadata": {},
   "outputs": [],
   "source": [
    "get_cert_cn(_widget.container.fields['owner'].widget.value)"
   ]
  },
  {
   "cell_type": "code",
   "execution_count": null,
   "id": "0e4d792f-d0d9-458d-9d9d-e85901b022e7",
   "metadata": {},
   "outputs": [],
   "source": [
    "init_fields_buyer(user=buyer,peer=peer_buyer)\n",
    "init_fields_seller(user=owner,peer=peer_owner)\n",
    "init_fields_taxinspector(user=taxinspector,peer=peer_taxinspector)"
   ]
  },
  {
   "cell_type": "code",
   "execution_count": null,
   "id": "65e54346-de71-453d-98ba-3bd1193c3614",
   "metadata": {},
   "outputs": [],
   "source": []
  },
  {
   "cell_type": "code",
   "execution_count": null,
   "id": "04c1dcc5-5ac2-48b1-8539-6294057890b1",
   "metadata": {},
   "outputs": [],
   "source": []
  },
  {
   "cell_type": "code",
   "execution_count": null,
   "id": "9c18c8cf-2ddf-43e7-97cf-203cfb8ac715",
   "metadata": {},
   "outputs": [],
   "source": [
    "#listInvoices(peer=peers[peernames[0]], user='Tony.Dubois')[0][0]['Record']"
   ]
  },
  {
   "cell_type": "code",
   "execution_count": null,
   "id": "fb4aed8c-3de7-468a-ae1f-5d3501f1eb3c",
   "metadata": {},
   "outputs": [],
   "source": [
    "#_widget.container.fields['ID'].widget.disabled=True\n",
    "#roles\n",
    "#factor=get_person_names_with_role('Factor',roles)[0].split(',')[0].split('=')[1]  \n",
    "#peer_factor=get_peer_of_user(factor) "
   ]
  },
  {
   "cell_type": "code",
   "execution_count": null,
   "id": "28e9952d-857b-40ee-a320-ea47663da198",
   "metadata": {},
   "outputs": [],
   "source": [
    "# _certs=[_widget.container.fields['owner'].widget.value] + \n",
    "get_person_certs_with_role('Factor',roles)\n",
    "#_certs"
   ]
  },
  {
   "cell_type": "code",
   "execution_count": null,
   "id": "3eb03b33-46ae-46c4-8b68-54cdc52f25f3",
   "metadata": {},
   "outputs": [],
   "source": []
  },
  {
   "cell_type": "code",
   "execution_count": null,
   "id": "4ff37263-eb09-45b6-a1fa-f94149847436",
   "metadata": {},
   "outputs": [],
   "source": [
    "enable_fields_for_role('Seller')"
   ]
  },
  {
   "cell_type": "code",
   "execution_count": null,
   "id": "ba76cba9-eb71-4b9a-bb0b-a65d04b9b834",
   "metadata": {},
   "outputs": [],
   "source": [
    "# sold to factor\n",
    "_widget.container.fields['owner'].widget.value = roles[2]['name']\n",
    "_widget.container.fields['sold'].widget.value = True"
   ]
  },
  {
   "cell_type": "code",
   "execution_count": null,
   "id": "52c84642-0d43-4b2f-abfc-cc8ea7a4ed13",
   "metadata": {},
   "outputs": [],
   "source": [
    "disable_all_fields()\n",
    "enable_fields_for_role('Factor')"
   ]
  },
  {
   "cell_type": "code",
   "execution_count": null,
   "id": "feb8bb86-63c4-4c1c-a772-83362f56c2a7",
   "metadata": {},
   "outputs": [],
   "source": [
    "_widget.container.fields['claimPaidBy'].widget.value = 'Christophe Monet'\n",
    "_widget.container.fields['claimPaid'].widget.value = True"
   ]
  },
  {
   "cell_type": "code",
   "execution_count": null,
   "id": "163a47f9-a289-4100-8521-ff76268fccf4",
   "metadata": {},
   "outputs": [],
   "source": [
    "disable_all_fields()\n",
    "enable_fields_for_role('TaxInspector')"
   ]
  },
  {
   "cell_type": "code",
   "execution_count": null,
   "id": "85509575-8409-4b49-9075-049ef302ebec",
   "metadata": {},
   "outputs": [],
   "source": [
    "receivedInvoice(peers[peernames[0]], id='asset14', user='Stephanie.Hoarau')[1]"
   ]
  },
  {
   "cell_type": "markdown",
   "id": "9880d533-b04b-43ed-8615-3a451cf3e15c",
   "metadata": {},
   "source": [
    "## save assets as file"
   ]
  },
  {
   "cell_type": "code",
   "execution_count": null,
   "id": "c19adec6-ec07-459c-aed3-52089dc7c22e",
   "metadata": {},
   "outputs": [],
   "source": [
    "#asset = readAsset(peers[peernames[0]], asset='asset6')\n",
    "\n",
    "from facturxWidget import facturx_widgets \n",
    "\n",
    "import json\n",
    "with open('asset.json', 'w', encoding='utf-8') as f:\n",
    "    json.dump(asset, f, ensure_ascii=False, indent=4)"
   ]
  },
  {
   "cell_type": "code",
   "execution_count": null,
   "id": "b6a21960-5f28-4c7b-a621-964c26f1bb78",
   "metadata": {},
   "outputs": [],
   "source": [
    "import json\n",
    "\n",
    "with open('asset.json') as json_file:\n",
    "    data = json.load(json_file)\n",
    "\n",
    "data    "
   ]
  },
  {
   "cell_type": "code",
   "execution_count": null,
   "id": "c7f3eb36-82ad-4768-98d0-a64fb6c58299",
   "metadata": {},
   "outputs": [],
   "source": [
    "assets=listInvoices(peer=peers[peernames[0]], user='Tony.Dubois')[0]"
   ]
  },
  {
   "cell_type": "code",
   "execution_count": null,
   "id": "fb7ed743-0eba-4716-82b9-fec9bf7fc444",
   "metadata": {},
   "outputs": [],
   "source": [
    "roleTransactions = getRoleTransactions(peer)[0]\n",
    "roleTransactions"
   ]
  },
  {
   "cell_type": "code",
   "execution_count": null,
   "id": "287217f3-8e64-403f-ae3c-3cbadd9526da",
   "metadata": {},
   "outputs": [],
   "source": [
    "roles=getAllRoles(peer)[0]"
   ]
  },
  {
   "cell_type": "code",
   "execution_count": null,
   "id": "06cff0f6-010c-4780-822c-fea5af6d2980",
   "metadata": {},
   "outputs": [],
   "source": [
    "import json\n",
    "with open('roles.json', 'w', encoding='utf-8') as f:\n",
    "    json.dump(roles, f, ensure_ascii=False, indent=4)"
   ]
  },
  {
   "cell_type": "markdown",
   "id": "fc355a5e-cf20-467d-ba76-cadc905c4844",
   "metadata": {},
   "source": [
    "### work"
   ]
  },
  {
   "cell_type": "code",
   "execution_count": null,
   "id": "28867575-d61a-405b-8cae-dc0c4dd93d95",
   "metadata": {},
   "outputs": [],
   "source": [
    "#peers\n",
    "peer = peers['aabby-0']\n",
    "#getHostname(peer)"
   ]
  },
  {
   "cell_type": "code",
   "execution_count": null,
   "id": "2c4b9592-5455-43d3-b8a3-dbcee8b7e66a",
   "metadata": {},
   "outputs": [],
   "source": [
    "#owner = readAssetTest(peer,'asset6') ['owner']\n",
    "name = getSubmittingClientIdentity(peer)[:-1]\n",
    "#appendRole(peer,name=name,role='Seller')\n",
    "appendRole(peer,name=name,role='TaxInspector')"
   ]
  },
  {
   "cell_type": "code",
   "execution_count": null,
   "id": "da943a13-049a-4d33-a2df-f39af6cc4a5a",
   "metadata": {},
   "outputs": [],
   "source": [
    "asset=listInvoices(peer)[0][0]['Record']"
   ]
  },
  {
   "cell_type": "code",
   "execution_count": null,
   "id": "7c722ccc-6233-4ed2-9db3-6fde20d39db4",
   "metadata": {},
   "outputs": [],
   "source": [
    "#deleteAsset(peer,asset=\"roles\")[1]\n",
    "#assetExists(peer,asset=\"roles\")\n",
    "#readAsset(peer,asset=\"roles\")[1]\n",
    "#getAllRoles(peer)\n",
    "#getRoles(peer,name=name)\n",
    "#getSubmittingClientIdentity(peer)"
   ]
  },
  {
   "cell_type": "code",
   "execution_count": null,
   "id": "316132e6-ed66-41a7-b9c4-c74ca2101e7e",
   "metadata": {},
   "outputs": [],
   "source": [
    "#peer.pod_name\n",
    "deleteAsset(peer, asset=keys[3])"
   ]
  },
  {
   "cell_type": "markdown",
   "id": "32d76ec1-4d15-44b7-a478-7267eb36c7ed",
   "metadata": {},
   "source": [
    "## invoice usecase (Simple)"
   ]
  },
  {
   "cell_type": "code",
   "execution_count": null,
   "id": "66537c9f-6f5a-4d64-890e-be1f90759a64",
   "metadata": {},
   "outputs": [],
   "source": [
    "def getPeer0Address(peer):\n",
    "    addr='peer0.kubernetes.research.dev.seeburger.de'\n",
    "    return str(addr + ':' + peer.listen_port)\n",
    "\n",
    "def readAsset(peer, asset='asset1'):\n",
    "    #callopt= '{\\\"function\\\":\\\"ReadAsset\\\",\\\"Args\\\":[' + '\\\"' + asset + '\\\"' + ']}'\n",
    "    callopt= '{\"function\":\"ReadAsset\",\"Args\":[' + '\\\"' + asset + '\\\"' + ']}'\n",
    "    cmd0 = str('\\'' + callopt + \"\\'\")\n",
    "    try:\n",
    "        #cmd1= 'CORE_PEER_ADDRESS=\\\"peer0.kubernetes.research.dev.seeburger.de:31866\\\" && ' \n",
    "        #cmd1 = 'CORE_PEER_ADDRESS=\\\"' + getPeer0Address(peer) + '\\\" && '\n",
    "        cmd1 = 'CORE_PEER_MSPCONFIGPATH=' + path + '\\\" && '\n",
    "        #cmd2 = ['peer', 'chaincode','query', '-C', channel_name, '-n', 'basic', '-c']\n",
    "        cmd2 = ['peer', 'chaincode', 'invoke', '-o', 'orderer.example.com:30081', '--tls', '--cafile', '/tmp/tlsca.example.com-cert.pem', '-C',channel_name, '-n', 'basic', '-c']\n",
    "   \n",
    "        cmd = toCmd(cmd2) + ' ' + cmd0\n",
    "        print(cmd)\n",
    "        #output = executePeerCmd(peer.pod_name, cmd1 + cmd)\n",
    "        #print(output)\n",
    "        if output[0] == '{':\n",
    "            return json.loads(output)\n",
    "        return cmd\n",
    "    except Exception as e:\n",
    "        print(e)\n",
    "        \n",
    "asset = readAsset(peers[pernames[0]], 'asset1')\n",
    "executePeerCmd(peers[pernames[0]].pod_name,asset)"
   ]
  },
  {
   "cell_type": "code",
   "execution_count": null,
   "id": "59b2731f-cab4-45b5-be09-8f560cd30ee2",
   "metadata": {},
   "outputs": [],
   "source": [
    "\n",
    "pernames = list(peers.keys())\n",
    "chaincode_add_invoice(peers[pernames[0]],channel_name,'046',pernames[1])"
   ]
  },
  {
   "cell_type": "code",
   "execution_count": null,
   "id": "edb54a7e-c890-4ad6-b29b-3753535873b3",
   "metadata": {},
   "outputs": [],
   "source": [
    "!/home/jovyan/work/usr/bin/kubectl exec -t galya-0-6cc848b49-pv2dn -c scray-peer-cli -- /bin/sh /mnt/conf/peer/add-invoice.sh super13 006 x509::CN=User1@galya-1.kubernetes.research.dev.seeburger.de,OU=client,L=San Francisco,ST=California,C=US::CN=ca.galya-1.kubernetes.research.dev.seeburger.de,O=galya-1.kubernetes.research.dev.seeburger.de,L=San Francisco,ST=California,C=USdx509::CN=User1@galya-1.kubernetes.research.dev.seeburger.de,OU=client,L=San Francisco,ST=California,C=US::CN=ca.galya-1.kubernetes.research.dev.seeburger.de,O=galya-1.kubernetes.research.dev.seeburger.de,L=San Francisco,ST=California,C=US"
   ]
  },
  {
   "cell_type": "code",
   "execution_count": null,
   "id": "1f7c6d6a-978f-4d3c-bd6b-9b28666e56d2",
   "metadata": {},
   "outputs": [],
   "source": [
    "get_certificate_string(pernames[1])\n",
    "\n",
    "#'x509::CN=User1@galya-1.kubernetes.research.dev.seeburger.de,OU=client,L=San Francisco,ST=California,C=US::CN=ca.galya-1.kubernetes.research.dev.seeburger.de,O=galya-1.kubernetes.research.dev.seeburger.de,L=San Francisco,ST=California,C=USdx509::CN=User1@galya-1.kubernetes.research.dev.seeburger.de,OU=client,L=San Francisco,ST=California,C=US::CN=ca.galya-1.kubernetes.research.dev.seeburger.de,O=galya-1.kubernetes.research.dev.seeburger.de,L=San Francisco,ST=California,C=US'\n",
    "\n",
    "#, 'x509::CN=User1@galya-1.kubernetes.research.dev.seeburger.de,OU=client,L=San Francisco,ST=California,C=US::CN=ca.galya-1.kubernetes.research.dev.seeburger.de,O=galya-1.kubernetes.research.dev.seeburger.de,L=San Francisco,ST=California,C=USdx509::CN=User1@galya-1.kubernetes.research.dev.seeburger.de,OU=client,L=San Francisco,ST=California,C=US::CN=ca.galya-1.kubernetes.research.dev.seeburger.de,O=galya-1.kubernetes.research.dev.seeburger.de,L=San Francisco,ST=California,C=US'"
   ]
  },
  {
   "cell_type": "code",
   "execution_count": null,
   "id": "ef49d97c-7afa-4b75-9671-9f827695561c",
   "metadata": {},
   "outputs": [],
   "source": [
    "#kubectl exec --stdin --tty $PEER_POD -c scray-peer-cli -- /bin/sh /mnt/conf/peer/get-my-invoices.sh  $CHANNEL_NAME $INVOICE_ID\n",
    "def chaincode_read_invoice(peer,channel_name):\n",
    "    strlist = ['/mnt/conf/peer/get-my-invoices.sh', channel_name]\n",
    "    return executePeerCmd(peer.pod_name,toCmd(strlist)) \n",
    "chaincode_read_invoice(peers[pernames[0]],channel_name)"
   ]
  },
  {
   "cell_type": "code",
   "execution_count": null,
   "id": "0f40d324-7ce1-4f3a-8208-f833cadd6cda",
   "metadata": {},
   "outputs": [],
   "source": [
    "def chaincode_transfer_invoice(peer,channel_name,invoice_id,new_owner):\n",
    "    strlist = ['/mnt/conf/peer/transfer_invoice.sh', channel_name,invoice_id,get_certificate_string(new_owner)]\n",
    "    print(toCmd(strlist))\n",
    "    return executePeerCmd(peer.pod_name,toCmd(strlist)) \n",
    "\n",
    "pernames = list(peers.keys())\n",
    "chaincode_transfer_invoice(peers[pernames[0]],channel_name,'045',pernames[2])"
   ]
  },
  {
   "cell_type": "code",
   "execution_count": null,
   "id": "380fc4b4-3a4b-4ed6-8dde-9bd3ebfffaae",
   "metadata": {},
   "outputs": [],
   "source": [
    "get_certificate_string(pernames[2])\n",
    "NEW_OWNER='x509::CN=User1@lalya-2.kubernetes.research.dev.seeburger.de,OU=client,L=Bretten,ST=Baden,C=DE::CN=ca.lalya-2.kubernetes.research.dev.seeburger.de,O=lalya-2.kubernetes.research.dev.seeburger.de,L=Bretten,ST=Baden,C=DE'\n",
    "kubectl exec --stdin --tty lalya-0-7c887cffb8-fpw7h -c scray-peer-cli -- /bin/sh /mnt/conf/peer/transfer_invoice.sh  super43 045 $NEW_OWNER"
   ]
  },
  {
   "cell_type": "code",
   "execution_count": null,
   "id": "fd461dbc-5539-4bfc-afbf-f2cc75c6eef4",
   "metadata": {},
   "outputs": [],
   "source": [
    "kubectl exec --stdin --tty 'lalya-0-7c887cffb8-fpw7h' -c scray-peer-cli -- /bin/sh /mnt/conf/peer/get-my-invoices.sh  super43 045\n",
    "kubectl exec --stdin --tty 'lalya-1-7c76dff8c-pzx78' -c scray-peer-cli -- /bin/sh /mnt/conf/peer/get-my-invoices.sh  super43 045\n",
    "kubectl exec --stdin --tty 'lalya-2-5f8b45dbc4-52tt7' -c scray-peer-cli -- /bin/sh /mnt/conf/peer/get-my-invoices.sh  super43 045\n"
   ]
  },
  {
   "cell_type": "code",
   "execution_count": null,
   "id": "0e1eb1c1-db4c-4e73-87f4-37e6da3cf3d9",
   "metadata": {},
   "outputs": [],
   "source": [
    "peers[pernames[2]].pod_name"
   ]
  },
  {
   "cell_type": "markdown",
   "id": "e8bf771b-9c7c-4709-9808-a6177591a1be",
   "metadata": {},
   "source": [
    "## add channel"
   ]
  },
  {
   "cell_type": "code",
   "execution_count": null,
   "id": "3cd40c95-ac0c-4d39-93e1-09065fdecd6f",
   "metadata": {},
   "outputs": [],
   "source": [
    "orderer.pod_name"
   ]
  },
  {
   "cell_type": "code",
   "execution_count": null,
   "id": "1ae07295-f3a1-44dc-8fc5-aa8bc88e3dd3",
   "metadata": {},
   "outputs": [],
   "source": [
    "!/home/jovyan/work/usr/bin/kubectl exec -t orderer-org1-scray-org-d8b6656f7-q8g95 -c scray-orderer-cli -- /bin/sh /mnt/conf/orderer/scripts/create_channel.sh invoicing7 orderer.example.com 30081"
   ]
  },
  {
   "cell_type": "code",
   "execution_count": null,
   "id": "c3198794-4511-4317-9343-c8895a3781e4",
   "metadata": {},
   "outputs": [],
   "source": [
    "add_channel('super20')"
   ]
  },
  {
   "cell_type": "code",
   "execution_count": null,
   "id": "7a310c80-3629-4263-b6e0-753bbbe046a5",
   "metadata": {},
   "outputs": [],
   "source": [
    "name = 'super30'\n",
    "cmd = toCmd(['/mnt/conf/orderer/scripts/create_channel.sh', name, 'orderer.example.com', '7050'])\n",
    "cmd, orderer.pod_name"
   ]
  },
  {
   "cell_type": "code",
   "execution_count": null,
   "id": "62df1197-1c9d-4371-ad9f-dc88676d51ef",
   "metadata": {},
   "outputs": [],
   "source": [
    "executePeerCmd(orderer.pod_name, cmd, cli='scray-orderer-cli')"
   ]
  },
  {
   "cell_type": "code",
   "execution_count": null,
   "id": "79cbc513-16b6-49ea-80f3-81894490465f",
   "metadata": {},
   "outputs": [],
   "source": [
    "executePeerCmd(orderer.pod_name, 'peer channel list', cli='scray-orderer-cli')"
   ]
  },
  {
   "cell_type": "code",
   "execution_count": null,
   "id": "8a028cc7-8f52-48e9-a680-3b085b0f185b",
   "metadata": {},
   "outputs": [],
   "source": [
    "cmd1 = ['/mnt/conf/orderer/scripts/create_channel.sh super20 orderer.example.com 7050']\n",
    "executePeerCmd(orderer.pod_name, cmd1, cli='scray-orderer-cli')"
   ]
  },
  {
   "cell_type": "code",
   "execution_count": null,
   "id": "da754694-6e08-40e1-91c8-2b1acdd40b41",
   "metadata": {},
   "outputs": [],
   "source": [
    "#cmd1 = ['/home/jovyan/work/usr/bin/kubectl', 'exec','-t', 'orderer-org1-scray-org-5f97c57d44-l6d5l', '-c', 'scray-orderer-cli','--', '/bin/sh', '-c','/mnt/conf/orderer/scripts/create_channel.sh super7 orderer.example.com 7050']\n",
    "\n",
    "#cmd2 = toCmd(['ls','-a'])\n",
    "cmd2 = toCmd(['/mnt/conf/orderer/scripts/create_channel.sh', 'super7', 'orderer.example.com', '7050'])\n",
    "\n",
    "cmd1 = ['/home/jovyan/work/usr/bin/kubectl', 'exec','-t', 'orderer-org1-scray-org-5f97c57d44-l6d5l', '-c', 'scray-orderer-cli','--', '/bin/sh', '-c',cmd2]\n",
    "\n",
    "\n",
    "print(toCmd(cmd1))\n",
    "#subprocess.check_output(cmd1)\n",
    "subprocess.run(cmd1, stdout = subprocess.PIPE, stderr=subprocess.PIPE)"
   ]
  },
  {
   "cell_type": "code",
   "execution_count": null,
   "id": "87219fd8-a3bb-449f-a903-601b141323b0",
   "metadata": {},
   "outputs": [],
   "source": [
    "!/home/jovyan/work/usr/bin/kubectl exec -it orderer-org1-scray-org-5f97c57d44-l6d5l -c scray-orderer-cli -- /bin/sh /mnt/conf/orderer/scripts/create_channel.sh super6 orderer.example.com 7050\n"
   ]
  },
  {
   "cell_type": "code",
   "execution_count": null,
   "id": "4af17e18-757c-4edc-9654-54e156bb1c05",
   "metadata": {},
   "outputs": [],
   "source": [
    "orderer.pod_name"
   ]
  },
  {
   "cell_type": "code",
   "execution_count": null,
   "id": "8872eaf6-0619-4cb4-952a-06cdee148a9b",
   "metadata": {},
   "outputs": [],
   "source": [
    "!/home/jovyan/work/usr/bin/kubectl exec --stdin --tty 'orderer-org1-scray-org-5f97c57d44-j5mbs' -c scray-orderer-cli  -- /bin/sh /mnt/conf/orderer/scripts/create_channel.sh 'super' orderer.example.com '7050'"
   ]
  },
  {
   "cell_type": "code",
   "execution_count": null,
   "id": "fa4a8029-cc74-4e4d-b053-4b60b5712898",
   "metadata": {},
   "outputs": [],
   "source": [
    "# Create Peer\n",
    "\n",
    "peername='dalya8'\n",
    "addPeer(peername)\n",
    "peers[peername].__dict__"
   ]
  },
  {
   "cell_type": "code",
   "execution_count": null,
   "id": "0593160b-5611-40b2-9997-6aa7a6149f3b",
   "metadata": {},
   "outputs": [],
   "source": [
    "##\n"
   ]
  },
  {
   "cell_type": "code",
   "execution_count": null,
   "id": "cfda2d2d-9a5e-4996-9dde-e49d153138ce",
   "metadata": {},
   "outputs": [],
   "source": [
    "executeKubectlCmd(['get', 'pods','-l', 'app=orderer-org1-scray-org','-o','jsonpath=\\'{.items[*].status.podIP}\\''])  "
   ]
  },
  {
   "cell_type": "code",
   "execution_count": null,
   "id": "5e9f68c9-61cc-4588-a5d1-a984d10970aa",
   "metadata": {},
   "outputs": [],
   "source": [
    "peers[peername].__dict__"
   ]
  },
  {
   "cell_type": "code",
   "execution_count": null,
   "id": "7aec180b-ff7b-4510-9f58-d066307e3e2c",
   "metadata": {},
   "outputs": [],
   "source": [
    "orderer.__dict__"
   ]
  },
  {
   "cell_type": "markdown",
   "id": "4ca506e3-41fa-431b-936f-ec125a2bfb0d",
   "metadata": {},
   "source": [
    "## Export channel configuration"
   ]
  },
  {
   "cell_type": "code",
   "execution_count": null,
   "id": "54900d94-a0e7-4162-b720-ab05c994e4f0",
   "metadata": {},
   "outputs": [],
   "source": [
    "#https://github.com/scray/scray/blob/feature/k8s-peer/projects/invoice-hyperledger-fabric/containers/README.md#export-data\n",
    "\n",
    "SHARED_FS_HOST='10.14.128.38:30080'\n",
    "_result = SHARED_FS_HOST + '/channel/configuration/$CHANNEL_NAME/config.json'\n",
    "\n",
    "#kubectl exec --stdin --tty $ORDERER_POD -c scray-orderer-cli -- /bin/sh /mnt/conf/orderer/scripts/publish_channel_conf.sh $CHANNEL_NAME $SHARED_FS_HOST\n",
    "\n",
    "def export_channel_configuration(peer,channel_name,SHARED_FS_HOST):\n",
    "    strlist = ['/mnt/conf/orderer/scripts/publish_channel_conf.sh', channel_name,SHARED_FS_HOST]\n",
    "    return executePeerCmd(peer.pod_name,toCmd(strlist)) \n",
    "\n",
    "#_peer = peers[list(peers.keys())[0]]\n",
    "_peer = orderer\n",
    "channel_name = 'super'\n",
    "export_channel_configuration(_peer,channel_name,SHARED_FS_HOST)"
   ]
  },
  {
   "cell_type": "code",
   "execution_count": null,
   "id": "df17347e-71b7-4174-9466-190512b88cab",
   "metadata": {},
   "outputs": [],
   "source": [
    "#list(peers)[0]\n"
   ]
  },
  {
   "cell_type": "markdown",
   "id": "68a1403d-d73d-4b7d-984e-4895f80c7b78",
   "metadata": {},
   "source": [
    "### display certificate "
   ]
  },
  {
   "cell_type": "code",
   "execution_count": null,
   "id": "6f3132e9-a3e4-410b-9243-ca37833b6691",
   "metadata": {},
   "outputs": [],
   "source": [
    "# Cerificates\n",
    "from cryptography import x509\n",
    "from cryptography.hazmat.backends import default_backend\n",
    "from cryptography.x509.oid import NameOID\n",
    "\n",
    "#https://stackoverflow.com/questions/16899247/how-can-i-decode-a-ssl-certificate-using-python\n",
    "\n",
    "def getCrt(org='',domain='kubernetes.research.dev.seeburger.de',host='10.15.136.41:30080',user='scray', pwd='scray',channel='mychannel'):\n",
    "    cmd = ['curl', '--user',user + ':' + pwd, \n",
    "           'http://' + host + '/ca/' + channel + '/' + org + '-' + domain + '-ca.crt']\n",
    "    res = executeLocalCmd(cmd)\n",
    "    if 'CERTIFICATE' in str(res):\n",
    "        return res\n",
    "       \n",
    "def getOrgCrt(org=''):    \n",
    "    pem_data=getCrt(org)\n",
    "    if pem_data:\n",
    "        return x509.load_pem_x509_certificate(pem_data, default_backend())\n",
    "\n",
    "    \n",
    "def getcrt(peer,user='User1'):\n",
    "    strlist = ['cat',  ' /tmp/crt_target/hans/user.crt']\n",
    "    \n",
    "    #           '/mnt/conf/organizations/peerOrganizations/aabby-0.kubernetes.research.dev.seeburger.de/users/hans@aabby-0.kubernetes.research.dev.seeburger.de/msp/signcerts/hans@aabby-0.kubernetes.research.dev.seeburger.de-cert.pem']\n",
    "    cmd = toCmd(strlist)\n",
    "    #print(cmd)  \n",
    "    output = executePeerCmd(peer.pod_name,  cmd)\n",
    "    return output,_out    "
   ]
  },
  {
   "cell_type": "code",
   "execution_count": null,
   "id": "857506a1-80ab-49b7-8e0d-cb3d22861e7c",
   "metadata": {},
   "outputs": [],
   "source": [
    "crt=getcrt(peer)[0][:-1]\n",
    "str(crt)"
   ]
  },
  {
   "cell_type": "code",
   "execution_count": null,
   "id": "d261ce50-ac41-4b17-b504-05b4f72bb1d3",
   "metadata": {},
   "outputs": [],
   "source": [
    "x509.load_pem_x509_certificate(crt, default_backend())"
   ]
  }
 ],
 "metadata": {
  "kernelspec": {
   "display_name": "Python 3 (ipykernel)",
   "language": "python",
   "name": "python3"
  },
  "language_info": {
   "codemirror_mode": {
    "name": "ipython",
    "version": 3
   },
   "file_extension": ".py",
   "mimetype": "text/x-python",
   "name": "python",
   "nbconvert_exporter": "python",
   "pygments_lexer": "ipython3",
   "version": "3.9.5"
  }
 },
 "nbformat": 4,
 "nbformat_minor": 5
}
