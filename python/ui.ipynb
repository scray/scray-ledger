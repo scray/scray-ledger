{
 "cells": [
  {
   "cell_type": "code",
   "execution_count": 1,
   "id": "d91b27f5-6d74-4450-8dd1-acce3ad181b8",
   "metadata": {},
   "outputs": [],
   "source": [
    "#!pip install ipynb\n",
    "#%load_ext autoreload\n",
    "#%autoreload 2\n",
    "from ipynb.fs.full.facturxWidget import *"
   ]
  },
  {
   "cell_type": "code",
   "execution_count": 12,
   "id": "fcf2ebc5-cf13-41e5-86d5-e2697fb55ff7",
   "metadata": {},
   "outputs": [],
   "source": [
    "import cv2\n",
    "import numpy as np\n",
    "from PIL import Image\n",
    "import io\n",
    "\n",
    "style = {'description_width': '250px'}\n",
    "layout = {'width': '500px'}\n",
    "\n",
    "class ImageWidget(object):\n",
    "    def __init__(self, image=None, display=True):\n",
    "        self.count = 0\n",
    "        \n",
    "        self.image_w = widgets.Image(format='PNG')\n",
    "        self.update_w = widgets.Checkbox(description='update',value=True)\n",
    "        self.counter_w = widgets.Text(description = 'count',value = '', style=style, layout=layout,disabled=False)\n",
    "        #VBox      = widgets.VBox([self.update_w,self.counter_w])  \n",
    "        #self.HBox = widgets.HBox([self.image_w, VBox])  \n",
    "        self.HBox = widgets.HBox([self.image_w])  \n",
    "        \n",
    "        self.setImage(image)\n",
    "        if display == True:\n",
    "            self.display()\n",
    "    \n",
    "    def display(self):\n",
    "        #display(self.image_w)  \n",
    "        display(self.HBox) \n",
    "    \n",
    "    def getByteArray(self,image):    \n",
    "        #return None\n",
    "        img_byte_arr = io.BytesIO()\n",
    "        image.save(img_byte_arr, format='PNG')\n",
    "        img_byte_arr = img_byte_arr.getvalue()\n",
    "        return img_byte_arr\n",
    "    \n",
    "    def evaluate(self, image=None):\n",
    "        self.setImage(image)\n",
    "        \n",
    "    def _dict(self):\n",
    "        return {'class' : self.__class__.__name__, 'parameters' : {}}\n",
    "    \n",
    "    def setImage(self,image):\n",
    "        #print('ImageWidget')\n",
    "        self.count += 1\n",
    "        self.counter_w.value = str(self.count) \n",
    "        \n",
    "        if self.update_w.value == False:\n",
    "            return\n",
    "        \n",
    "        if image != None:\n",
    "            try:\n",
    "                #print('set image', type(image))\n",
    "                if isinstance(image, dict):\n",
    "                    image = image['image']\n",
    "                self.image_w.value = self.getByteArray(image)    \n",
    "            except Exception as exception: \n",
    "                print('Exception ImageWidget', str(exception))\n",
    "            \n",
    "    def getImage(self):\n",
    "        return Image.open(io.BytesIO(self.image_w.value))"
   ]
  },
  {
   "cell_type": "code",
   "execution_count": null,
   "id": "8c59af8e-f81f-446b-9704-4dc86bbf9930",
   "metadata": {},
   "outputs": [],
   "source": [
    "#_widget._widget.__dict__"
   ]
  },
  {
   "cell_type": "code",
   "execution_count": null,
   "id": "32ff3a1c-9670-421c-a82d-0479fe4a4185",
   "metadata": {},
   "outputs": [],
   "source": [
    "import json\n",
    "\n",
    "def getHostname(peer):\n",
    "    return executePeerCmd(peer.pod_name,'echo $HOSTNAME')[:-1]\n",
    "\n",
    "def getExport_MSPCONFIGPATH(hostname,user='User1'):\n",
    "    #user = 'User1'\n",
    "    #user = 'hans'\n",
    "    #path = '/mnt/conf/organizations/peerOrganizations/' + hostname + '/users/User1@' + hostname + '/msp/'\n",
    "    path = '/mnt/conf/organizations/peerOrganizations/' + hostname + '/users/' + user + '@' + hostname + '/msp/'\n",
    "    return 'export CORE_PEER_MSPCONFIGPATH=' + path\n",
    "    \n",
    "def getArgList(asset):\n",
    "    if isinstance(asset, dict):\n",
    "        asset = asset.values()\n",
    "    return '[' + ''.join(('\\\"' + str(e) + '\\\",') for e in asset)[:-1] + ']' \n",
    "\n",
    "def invoke(peer,callopt,user='User1'):\n",
    "    global _out\n",
    "    _out = widgets.Output()\n",
    "    with _out:\n",
    "        try:\n",
    "            export_cmd = getExport_MSPCONFIGPATH(getHostname(peer),user=user)\n",
    "            cmd0 = str('\\'' + callopt + \"\\'\")\n",
    "            strlist = ['peer', 'chaincode', 'invoke', '-o', 'orderer.example.com:30081', '--tls', '--cafile', '/tmp/tlsca.example.com-cert.pem','-C', channel_name, '-n', 'basic', '-c', cmd0]\n",
    "            cmd = toCmd(strlist)\n",
    "            cmd = export_cmd + '  && ' + cmd\n",
    "            print(cmd)  \n",
    "            output = executePeerCmd(peer.pod_name, cmd)\n",
    "            return output,_out\n",
    "        except Exception as e:\n",
    "            print(e)\n",
    "            return output,_out\n",
    "        \n",
    "def query(peer, callopt, user='User1'):\n",
    "    global _out\n",
    "    _out = widgets.Output()\n",
    "    with _out:\n",
    "        try:\n",
    "            export_cmd = getExport_MSPCONFIGPATH(getHostname(peer),user=user)\n",
    "            #hostname = getHostname(peer)\n",
    "            #path = '/mnt/conf/organizations/peerOrganizations/' + hostname + '/users/' + 'User1' + '@' + hostname + '/msp/'\n",
    "            cmd0 = str('\\'' + callopt + \"\\'\")\n",
    "            strlist = ['peer', 'chaincode', 'query', '-C', channel_name, '-n', 'basic', '-c', cmd0]\n",
    "            #strlist = ['peer', 'chaincode', 'query', '-C', channel_name, '-n', 'basic', '-c', cmd0,'--cafile',path + 'cacerts/ca.zalya-0.kubernetes.research.dev.seeburger.de-cert.pem' , '--certfile',path + 'signcerts/User1@zalya-0.kubernetes.research.dev.seeburger.de-cert.pem' ,'--keyfile', path + 'keystore/priv_sk']\n",
    "            cmd = toCmd(strlist)\n",
    "            cmd = export_cmd + '  && ' + cmd\n",
    "            print(cmd)\n",
    "            output = executePeerCmd(peer.pod_name, cmd)\n",
    "            #output = executePeerCmd(peer.pod_name, cmd)           \n",
    "            return json.loads(output),_out\n",
    "        except Exception as e:\n",
    "            print(e)\n",
    "            return output,_out\n",
    "    \n",
    "def getAllKeys(peer):\n",
    "    callopt= '{\"function\":\"GetAllKeys\",\"Args\":[' + ']}'\n",
    "    return query(peer,callopt)       \n",
    "\n",
    "def getRoleTransactions(peer):\n",
    "    callopt= '{\"function\":\"GetRoleTransactions\",\"Args\":[' + ']}'\n",
    "    return query(peer,callopt)   \n",
    "    \n",
    "def getEmptyInvoice(peer):\n",
    "    callopt= '{\"function\":\"GetEmptyInvoice\",\"Args\":[' + ']}'\n",
    "    return query(peer,callopt)       \n",
    "    \n",
    "def createInvoice(peer,arglist='', user='User1'):\n",
    "    callopt= '{\"function\":\"CreateInvoice\",\"Args\":' + arglist + '}'\n",
    "    return invoke(peer,callopt,user=user)    \n",
    "    \n",
    "def listInvoices(peer, user='User1'):\n",
    "    callopt= '{\"function\":\"ListInvoices\",\"Args\":[' + ']}'\n",
    "    return query(peer,callopt,user=user)    \n",
    "    \n",
    "def listInvoice(peer, id='asset1', user='User1'):\n",
    "    callopt= '{\"function\":\"ListInvoice\",\"Args\":' + getArgList([id]) + '}'\n",
    "    return query(peer,callopt,user=user)    \n",
    "    \n",
    "def receivedInvoice(peer, id='asset1', user='User1'):\n",
    "    callopt= '{\"function\":\"ReceivedInvoice\",\"Args\":' + getArgList([id]) + '}'\n",
    "    return invoke(peer,callopt,user=user)     \n",
    "    \n",
    "def receivedOrder(peer, id='asset1', user='User1'):\n",
    "    callopt= '{\"function\":\"ReceivedOrder\",\"Args\":' + getArgList([id]) + '}'\n",
    "    return invoke(peer,callopt,user=user)   \n",
    "\n",
    "def receivedPayment(peer, id='asset1', payer='', user='User1'):\n",
    "    callopt= '{\"function\":\"ReceivedPayment\",\"Args\":' + getArgList([id,payer]) + '}'\n",
    "    return invoke(peer,callopt,user=user)   \n",
    "\n",
    "def taxReceived(peer, id='asset1', user='User1'):\n",
    "    callopt= '{\"function\":\"TaxReceived\",\"Args\":' + getArgList([id]) + '}'\n",
    "    return invoke(peer,callopt,user=user)    \n",
    "    \n",
    "    \n",
    "def assetExists(peer, id='asset1'):\n",
    "    #callopt= '{\"function\":\"AssetExists\",\"Args\":[' + '\\\"' + id + '\\\"' + ']}'\n",
    "    callopt= '{\"function\":\"AssetExists\",\"Args\":' + getArgList([id]) + '}'\n",
    "    return query(peer,callopt)\n",
    "        \n",
    "def deleteAsset(peer, asset='asset1'):\n",
    "    callopt= '{\"function\":\"DeleteAsset\",\"Args\":[' + '\\\"' + asset + '\\\"' + ']}'\n",
    "    return invoke(peer,callopt)\n",
    "    \n",
    "\n",
    "\n",
    "def readAssetTest(peer, asset='asset1'):\n",
    "    callopt= '{\"function\":\"ReadAssetTest\",\"Args\":[' + '\\\"' + asset + '\\\"' + ']}'\n",
    "    return query(peer,callopt)\n",
    "    \n",
    "def updateAsset(peer,arglist=None):\n",
    "    callopt= '{\"function\":\"UpdateAsset\",\"Args\":' + getArgList(asset) + '}'\n",
    "    return invoke(peer,callopt)\n",
    "\n",
    "\n",
    "def getSubmittingClientIdentity(peer, user='User1'):\n",
    "    callopt= '{\"function\":\"GetSubmittingClientIdentity\",\"Args\":[' + ']}'\n",
    "    return query(peer,callopt,user=user)\n",
    "\n",
    "def getMSPID(peer):\n",
    "    callopt= '{\"function\":\"GetMSPID\",\"Args\":[' + ']}'\n",
    "    return query(peer,callopt)   \n",
    "\n",
    "\n",
    "def appendRole(peer,user='',role='Buyer'):\n",
    "    #print(getArgList([role,name]))\n",
    "    #callopt= '{\"function\":\"AppendRole\",\"Args\":' + getArgList([role,name]) + '}'\n",
    "    name = getSubmittingClientIdentity(peer, user=user)[:-1]\n",
    "    callopt= '{\"function\":\"AppendRole\",\"Args\":' + getArgList([name,role]) + '}'\n",
    "    return invoke(peer,callopt)\n",
    "\n",
    "def getRoles(peer,name=''):\n",
    "    #callopt= '{\"function\":\"GetRoles\",\"Args\":[' + ']}'\n",
    "    callopt= '{\"function\":\"GetRoles\",\"Args\":' + getArgList([name]) + '}'\n",
    "    return query(peer,callopt)\n",
    "\n",
    "def getAllRoles(peer):\n",
    "    callopt= '{\"function\":\"GetAllRoles\",\"Args\":[' + ']}'\n",
    "    return query(peer,callopt)\n",
    "\n",
    "\n"
   ]
  },
  {
   "cell_type": "code",
   "execution_count": null,
   "id": "ad7ceb06-6459-458f-b2aa-ebf35d066a33",
   "metadata": {},
   "outputs": [],
   "source": []
  },
  {
   "cell_type": "markdown",
   "id": "236b5d81-b0c9-457b-84f9-91af4f3c05b1",
   "metadata": {},
   "source": [
    "## mockup"
   ]
  },
  {
   "cell_type": "markdown",
   "id": "e9df70b7-5d3c-4f8f-91ec-1ed65777e185",
   "metadata": {},
   "source": [
    "### load data"
   ]
  },
  {
   "cell_type": "code",
   "execution_count": null,
   "id": "ee5e8dbb-a0df-4230-9b28-f9e77cb66d77",
   "metadata": {},
   "outputs": [],
   "source": [
    "import json\n",
    "\n",
    "def load(filename):\n",
    "    with open(filename) as json_file:\n",
    "        return json.load(json_file)\n",
    "\n",
    "invoices = load('invoices.json')\n",
    "roles = load('roles.json')\n",
    "roleTransactions = load('roleTransactions.json')"
   ]
  },
  {
   "cell_type": "code",
   "execution_count": null,
   "id": "f1518e57-e983-41bd-9c83-04fdee922621",
   "metadata": {},
   "outputs": [],
   "source": [
    "def get_cert_cn(cert):\n",
    "    return cert.split('=')[1].split('@')[0]\n",
    "\n",
    "get_cert_cn(roles[0]['name']), roles[0]['roles']"
   ]
  },
  {
   "cell_type": "code",
   "execution_count": null,
   "id": "cd3e4d1e-75fd-4cbd-89e7-b4a58eefa393",
   "metadata": {},
   "outputs": [],
   "source": [
    "def get_person_names_with_role(role,roles):\n",
    "    result = []\n",
    "    for person in roles:\n",
    "        if role in person['roles']:\n",
    "            result.append(get_cert_cn(person['name']))\n",
    "    return result        \n",
    "        \n",
    "get_person_names_with_role('TaxInspector',roles)        "
   ]
  },
  {
   "cell_type": "code",
   "execution_count": null,
   "id": "b349bede-2f37-4ce3-b05e-8812ed656659",
   "metadata": {},
   "outputs": [],
   "source": [
    "roles"
   ]
  },
  {
   "cell_type": "code",
   "execution_count": null,
   "id": "04eff081-7f4b-49d4-a113-267ce5012401",
   "metadata": {},
   "outputs": [],
   "source": [
    "if 'TaxInspector' in roles[0]['roles']:\n",
    "    print()"
   ]
  },
  {
   "cell_type": "code",
   "execution_count": null,
   "id": "4f726aaa-df88-45f0-85a9-1bef8b6b5059",
   "metadata": {},
   "outputs": [],
   "source": [
    "def invoke(peer,callopt,user='User1'):\n",
    "    print(user,callopt)\n",
    "    \n",
    "def query(peer,callopt,user='User1'):\n",
    "    print(user,callopt)    \n",
    "    \n",
    "class kubernetespeer:\n",
    "    def __init__(self, name='',prefix='peer'):\n",
    "        self.name = name    \n",
    "        \n",
    "def addPeer(peername):  \n",
    "    peer = kubernetespeer(name=peername)\n",
    "    peers[peername] = peer\n",
    "    return peer        \n",
    "  \n",
    "def get_peer_of_user(name):\n",
    "    return kubernetespeer(name=name)    \n",
    "\n",
    "def addUser(peer,user):\n",
    "    if peer.name in peerusers:\n",
    "        peerusers[peer.name].append(user)\n",
    "    else:\n",
    "        peerusers[peer.name] = [user]\n",
    "\n",
    "peers={}\n",
    "peerusers ={}\n",
    "\n",
    "addPeer('aubonmoulin')\n",
    "addPeer('lyon-impots')\n",
    "addPeer('austriafactor')\n",
    "addPeer('megustaolive') \n",
    "addUser(peers['aubonmoulin'],'Tony.Dubois')    \n",
    "addUser(peers['aubonmoulin'],'Stephanie.Hoarau')\n",
    "addUser(peers['aubonmoulin'],'Alexandre.Payet')\n",
    "addUser(peers['austriafactor'],'Emma.Steiner')    \n",
    "addUser(peers['megustaolive'],'Pedro.Sanchez')  \n",
    "addUser(peers['lyon-impots'],'Auguste.Boucher')  \n",
    "\n",
    "peernames = list(peers.keys())"
   ]
  },
  {
   "cell_type": "code",
   "execution_count": null,
   "id": "1932a097-a1b0-4b8b-89cb-3b1d7b274fdd",
   "metadata": {},
   "outputs": [],
   "source": [
    "peerusers\n",
    "invoices[2]"
   ]
  },
  {
   "cell_type": "markdown",
   "id": "a9499113-1db8-4bac-a180-3ad58b4d020b",
   "metadata": {},
   "source": [
    "## mockup"
   ]
  },
  {
   "cell_type": "markdown",
   "id": "d722dbf6-d484-41a6-8a00-897109023c44",
   "metadata": {},
   "source": [
    "### load data"
   ]
  },
  {
   "cell_type": "code",
   "execution_count": null,
   "id": "d41c0b2b-1732-406a-a547-74f5532d439f",
   "metadata": {},
   "outputs": [],
   "source": [
    "import json\n",
    "\n",
    "def load(filename):\n",
    "    with open(filename) as json_file:\n",
    "        return json.load(json_file)\n",
    "\n",
    "invoices = load('invoices.json')\n",
    "roles = load('roles.json')\n",
    "roleTransactions = load('roleTransactions.json')"
   ]
  },
  {
   "cell_type": "code",
   "execution_count": null,
   "id": "ff8c29c5-0109-4bff-8d5d-ea2568415deb",
   "metadata": {},
   "outputs": [],
   "source": [
    "def get_cert_cn(cert):\n",
    "    return cert.split('=')[1].split('@')[0]\n",
    "\n",
    "get_cert_cn(roles[0]['name']), roles[0]['roles']"
   ]
  },
  {
   "cell_type": "code",
   "execution_count": null,
   "id": "9faedd08-e5aa-476e-87c5-bf48db9faead",
   "metadata": {},
   "outputs": [],
   "source": [
    "def get_person_names_with_role(role,roles):\n",
    "    result = []\n",
    "    for person in roles:\n",
    "        if role in person['roles']:\n",
    "            result.append(get_cert_cn(person['name']))\n",
    "    return result        \n",
    "        \n",
    "def get_person_certs_with_role(role,roles):\n",
    "    result = []\n",
    "    for person in roles:\n",
    "        if role in person['roles']:\n",
    "            result.append(person['name'])\n",
    "    return result            \n",
    "    \n",
    "get_person_names_with_role('TaxInspector',roles)        "
   ]
  },
  {
   "cell_type": "code",
   "execution_count": null,
   "id": "518f93b1-6f8c-4dc9-9f67-f6432567aafd",
   "metadata": {},
   "outputs": [],
   "source": [
    "roles"
   ]
  },
  {
   "cell_type": "code",
   "execution_count": null,
   "id": "8e154147-77ea-42e5-bb10-8e13d21a6a04",
   "metadata": {},
   "outputs": [],
   "source": []
  },
  {
   "cell_type": "code",
   "execution_count": null,
   "id": "c094037f-7d2f-42d1-af5e-924855587c73",
   "metadata": {},
   "outputs": [],
   "source": [
    "if 'TaxInspector' in roles[0]['roles']:\n",
    "    print()"
   ]
  },
  {
   "cell_type": "code",
   "execution_count": null,
   "id": "7b1df79a-dd69-4858-8175-1c24db235b9e",
   "metadata": {},
   "outputs": [],
   "source": [
    "def invoke(peer,callopt,user='User1'):\n",
    "    print(user,callopt)\n",
    "    \n",
    "def query(peer,callopt,user='User1'):\n",
    "    print(user,callopt)    \n",
    "    \n",
    "class kubernetespeer:\n",
    "    def __init__(self, name='',prefix='peer'):\n",
    "        self.name = name    \n",
    "        \n",
    "def addPeer(peername):  \n",
    "    peer = kubernetespeer(name=peername)\n",
    "    peers[peername] = peer\n",
    "    return peer        \n",
    "  \n",
    "def get_peer_of_user(name):\n",
    "    return kubernetespeer(name=name)    \n",
    "\n",
    "def addUser(peer,user):\n",
    "    if peer.name in peerusers:\n",
    "        peerusers[peer.name].append(user)\n",
    "    else:\n",
    "        peerusers[peer.name] = [user]\n",
    "\n",
    "peers={}\n",
    "peerusers ={}\n",
    "\n",
    "addPeer('aubonmoulin')\n",
    "addPeer('lyon-impots')\n",
    "addPeer('austriafactor')\n",
    "addPeer('megustaolive') \n",
    "addUser(peers['aubonmoulin'],'Tony.Dubois')    \n",
    "addUser(peers['aubonmoulin'],'Stephanie.Hoarau')\n",
    "addUser(peers['aubonmoulin'],'Alexandre.Payet')\n",
    "addUser(peers['austriafactor'],'Emma.Steiner')    \n",
    "addUser(peers['megustaolive'],'Pedro.Sanchez')  \n",
    "addUser(peers['lyon-impots'],'Auguste.Boucher')  \n",
    "\n",
    "peernames = list(peers.keys())"
   ]
  },
  {
   "cell_type": "code",
   "execution_count": null,
   "id": "cef3dfba-82bd-4bde-969e-26b18c17c5aa",
   "metadata": {},
   "outputs": [],
   "source": [
    "peerusers\n",
    "invoices[2]"
   ]
  },
  {
   "cell_type": "code",
   "execution_count": null,
   "id": "1a8ed919-c9b0-4dd9-9307-a8458aa99ab2",
   "metadata": {},
   "outputs": [],
   "source": [
    "#asset=listInvoices(peer=peers[peernames[2]], user='Tony.Dubois')[0][1]['Record']\n",
    "asset=invoices[3] \n",
    "_widget = facturx_widgets(asset,'/', hideUnused=True) \n",
    "display(_widget)"
   ]
  },
  {
   "cell_type": "code",
   "execution_count": null,
   "id": "ebe9bd54-37b8-4bef-9989-918a344c8aa9",
   "metadata": {},
   "outputs": [],
   "source": [
    "def create_dropdown_owner(_widget):\n",
    "    _certs=[_widget.container.fields['owner'].widget.value]\n",
    "    _certs = _certs + get_person_certs_with_role('Factor',roles)\n",
    "    return widgets.Dropdown(options=_certs, value = _certs[0], description=\"owner\", style=style, layout=layout)\n",
    "\n",
    "def replace_owner_field_by_dropdown(_widget):\n",
    "    _owners = create_dropdown_owner(_widget)\n",
    "    _widget.container.fields['owner'] = Field(widget=_owners,path=_widget.container.fields['owner'].path)\n",
    "    _widget.redisplay()"
   ]
  },
  {
   "cell_type": "code",
   "execution_count": null,
   "id": "18c20849-519c-46b4-9292-410cba0ff665",
   "metadata": {},
   "outputs": [],
   "source": [
    "owner=_widget.container.fields['owner'].widget.value.split(',')[0].split('=')[1].split('@')[0]\n",
    "buyer=_widget.container.fields['buyer'].widget.value.split(',')[0].split('=')[1].split('@')[0]\n",
    "taxinspector=get_person_names_with_role('TaxInspector',roles)\n",
    "id=_widget.container.fields['ID'].widget.value\n",
    "peer_buyer=get_peer_of_user(buyer)\n",
    "peer_owner=get_peer_of_user(owner)\n",
    "peer_taxinspector=get_peer_of_user(taxinspector)"
   ]
  },
  {
   "cell_type": "code",
   "execution_count": null,
   "id": "30e841cb-e633-4366-a08e-2f1c22a5bf61",
   "metadata": {},
   "outputs": [],
   "source": [
    "def disable_all_fields():\n",
    "    for key,value in _widget.container.fields.items():\n",
    "        value.widget.disabled=True\n",
    "        \n",
    "def enable_fields_for_role(rolename):\n",
    "    if rolename == 'Buyer':\n",
    "        _widget.container.fields['received'].widget.disabled=False\n",
    "        _widget.container.fields['receivedOrder'].widget.disabled=False\n",
    "\n",
    "    elif  rolename == 'Seller':   \n",
    "        _widget.container.fields['sold'].widget.disabled=False\n",
    "        _widget.container.fields['claimPaid'].widget.disabled=False\n",
    "        _widget.container.fields['claimPaidBy'].widget.disabled=False\n",
    "        _widget.container.fields['owner'].widget.disabled=False\n",
    "        \n",
    "    elif  rolename == 'Factor':   \n",
    "        #_widget.container.fields['sold'].widget.disabled=False\n",
    "        _widget.container.fields['claimPaid'].widget.disabled=False\n",
    "        _widget.container.fields['claimPaidBy'].widget.disabled=False\n",
    "        #_widget.container.fields['owner'].widget.disabled=False\n",
    "                \n",
    "    elif  rolename == 'TaxInspector':    \n",
    "        _widget.container.fields['taxReceived'].widget.disabled=False       "
   ]
  },
  {
   "cell_type": "code",
   "execution_count": null,
   "id": "78284945-f956-406c-9880-6b8f32513980",
   "metadata": {},
   "outputs": [],
   "source": [
    "disable_all_fields()\n",
    "enable_fields_for_role('Buyer')"
   ]
  },
  {
   "cell_type": "code",
   "execution_count": null,
   "id": "faad5b0e-3e97-4ea6-a55e-1ca3cc59dcbb",
   "metadata": {},
   "outputs": [],
   "source": [
    "_widget.container.fields['received'].widget.value = True\n",
    "_widget.container.fields['receivedOrder'].widget.value = True"
   ]
  },
  {
   "cell_type": "code",
   "execution_count": null,
   "id": "2a306e5a-eb44-4160-9ecd-73e8b69bfd35",
   "metadata": {},
   "outputs": [],
   "source": [
    "disable_all_fields()\n",
    "enable_fields_for_role('Seller')"
   ]
  },
  {
   "cell_type": "code",
   "execution_count": null,
   "id": "ba1d986c-1f8d-45fe-9e02-cca31af34110",
   "metadata": {},
   "outputs": [],
   "source": [
    "# sold to factor\n",
    "_widget.container.fields['owner'].widget.value = roles[2]['name']\n",
    "_widget.container.fields['sold'].widget.value = True"
   ]
  },
  {
   "cell_type": "code",
   "execution_count": null,
   "id": "3d648726-8642-4a07-ab3b-d7ec3bd28b68",
   "metadata": {},
   "outputs": [],
   "source": [
    "disable_all_fields()\n",
    "enable_fields_for_role('Factor')"
   ]
  },
  {
   "cell_type": "code",
   "execution_count": null,
   "id": "3cd6af06-c97f-4c45-a3fe-17ab94b7df8a",
   "metadata": {},
   "outputs": [],
   "source": [
    "_widget.container.fields['claimPaidBy'].widget.value = 'Christophe Monet'\n",
    "_widget.container.fields['claimPaid'].widget.value = True"
   ]
  },
  {
   "cell_type": "code",
   "execution_count": null,
   "id": "d20be14a-5283-40b3-b51f-35d4daae154e",
   "metadata": {},
   "outputs": [],
   "source": [
    "disable_all_fields()\n",
    "enable_fields_for_role('TaxInspector')"
   ]
  },
  {
   "cell_type": "markdown",
   "id": "39721d66-ea2b-4e62-8a16-603e1457d363",
   "metadata": {},
   "source": [
    "### role buyer"
   ]
  },
  {
   "cell_type": "code",
   "execution_count": null,
   "id": "7aee521b-5109-4cfc-b017-7c9cf3303c3d",
   "metadata": {},
   "outputs": [],
   "source": [
    "\n",
    "\n",
    "peer=get_peer_of_user(buyer)\n",
    "\n",
    "def received_changed(b):\n",
    "    if b['name'] == 'value':\n",
    "        receivedInvoice(peer_buyer, id=id, user=buyer)[1]\n",
    "    \n",
    "def receivedOrder_changed(b):\n",
    "    if b['name'] == 'value':\n",
    "        print('changed')\n",
    "        receivedOrder(peer_buyer, id=id, user=buyer)[1]    \n",
    "    \n",
    "_widget.container.fields['received'].widget.observe(received_changed)\n",
    "_widget.container.fields['receivedOrder'].widget.observe(receivedOrder_changed)"
   ]
  },
  {
   "cell_type": "markdown",
   "id": "1ea8877a-eb91-401b-970e-a4a96e027d56",
   "metadata": {
    "tags": []
   },
   "source": [
    "### role owner / seller"
   ]
  },
  {
   "cell_type": "code",
   "execution_count": null,
   "id": "8506fc2d-4f46-4bc0-be33-fe2dde5384f1",
   "metadata": {},
   "outputs": [],
   "source": [
    "\n",
    "def sold_changed(b):\n",
    "    if b['name'] == 'value':\n",
    "        print('changed')\n",
    "        #so(peer, id=id, user=seller)[1]\n",
    "    \n",
    "def claimPaid_changed(b):\n",
    "    if b['name'] == 'value':\n",
    "        print('changed')\n",
    "        #receivedOrder(peer, id=id, user=seller)[1]    \n",
    "    \n",
    "_widget.container.fields['sold'].widget.observe(received_changed)\n",
    "_widget.container.fields['claimPaid'].widget.observe(receivedOrder_changed)    "
   ]
  },
  {
   "cell_type": "markdown",
   "id": "50c07665-ac09-4310-badb-991ac5fe05e3",
   "metadata": {
    "tags": []
   },
   "source": [
    "### role tax inspector"
   ]
  },
  {
   "cell_type": "code",
   "execution_count": null,
   "id": "06094ecb-6734-4399-870f-70c9a131ebdc",
   "metadata": {},
   "outputs": [],
   "source": [
    "\n",
    "\n",
    "def taxReceived_changed(b):\n",
    "    if b['name'] == 'value':\n",
    "        taxReceived(peer_taxinspector, id=id, user=taxinspector)[1]\n",
    "    \n",
    "_widget.container.fields['taxReceived'].widget.observe(taxReceived_changed)"
   ]
  },
  {
   "cell_type": "code",
   "execution_count": null,
   "id": "87f65809-eb42-4309-b260-82d19ff540d3",
   "metadata": {},
   "outputs": [],
   "source": [
    "receivedInvoice(peers[peernames[0]], id='asset14', user='Stephanie.Hoarau')[1]"
   ]
  },
  {
   "cell_type": "markdown",
   "id": "5eb8cc35-2416-4948-8da1-fa2c4fbb624f",
   "metadata": {},
   "source": [
    "# Rechnung"
   ]
  },
  {
   "cell_type": "code",
   "execution_count": 2,
   "id": "f1109e58-e929-4015-81a6-d6c3d794917b",
   "metadata": {},
   "outputs": [],
   "source": [
    "invoices = get_invoices()"
   ]
  },
  {
   "cell_type": "code",
   "execution_count": 6,
   "id": "306f7dde-6314-4bea-8c33-e8c19634de1f",
   "metadata": {},
   "outputs": [
    {
     "data": {
      "application/vnd.jupyter.widget-view+json": {
       "model_id": "8e00e8fe8d9a40c1b227d8fedac5c01f",
       "version_major": 2,
       "version_minor": 0
      },
      "text/plain": [
       "Text(value='15', description='invoice', layout=Layout(width='500px'), style=DescriptionStyle(description_width…"
      ]
     },
     "metadata": {},
     "output_type": "display_data"
    },
    {
     "data": {
      "application/vnd.jupyter.widget-view+json": {
       "model_id": "345efec8810643faa04e24c43218e430",
       "version_major": 2,
       "version_minor": 0
      },
      "text/plain": [
       "Dropdown(description='FILTER', index=1, layout=Layout(width='500px'), options=(False, True), style=Description…"
      ]
     },
     "metadata": {},
     "output_type": "display_data"
    },
    {
     "data": {
      "application/vnd.jupyter.widget-view+json": {
       "model_id": "e0b9d7ab54df4e04be27140806992a36",
       "version_major": 2,
       "version_minor": 0
      },
      "text/plain": [
       "Dropdown(description='FILTER', layout=Layout(width='500px'), options=('/exchangedDocument', '/exchangedDocumen…"
      ]
     },
     "metadata": {},
     "output_type": "display_data"
    },
    {
     "data": {
      "application/vnd.jupyter.widget-view+json": {
       "model_id": "9043e1c345c04b53bc35f8fb2efa0b92",
       "version_major": 2,
       "version_minor": 0
      },
      "text/plain": [
       "Output()"
      ]
     },
     "metadata": {},
     "output_type": "display_data"
    },
    {
     "data": {
      "text/plain": [
       "<ipynb.fs.full.facturxWidget.facturx_widgets at 0x7f431a83b460>"
      ]
     },
     "execution_count": 6,
     "metadata": {},
     "output_type": "execute_result"
    }
   ],
   "source": [
    "outs = widgets.Output()\n",
    "def create_field_container(x,path,hideUnused=True):\n",
    "    with outs:\n",
    "        clear_output()\n",
    "        widget = facturx_widgets(x,path,hideUnused) \n",
    "        return widget\n",
    "        \n",
    "def mytest(x):    \n",
    "    global _widget\n",
    "    _widget = create_field_container(invoices.iloc[int(invoice.value)],pathtext.value, mytestfilter.value)  \n",
    "        \n",
    "#display(outs)\n",
    "\n",
    "mytestfilter = widgets.Dropdown(options={True, False},value=True, description=\"FILTER\", style=style, layout=layout)\n",
    "invoice = widgets.Text(description = 'invoice',value = '15', style=style, layout=layout)\n",
    "pathtext = widgets.Dropdown(options={'/exchangedDocumentContext', '/exchangedDocument', '/supplyChainTradeTransaction', \n",
    "                                     '/supplyChainTradeTransaction/applicableHeaderTradeAgreement/sellerTradeParty' , \n",
    "                                     '/supplyChainTradeTransaction/applicableHeaderTradeAgreement/buyerTradeParty',\n",
    "                                    '/supplyChainTradeTransaction/applicableHeaderTradeAgreement'}, value = '/exchangedDocument',description=\"FILTER\", style=style, layout=layout)\n",
    "pathtext.observe(mytest, names='value')\n",
    "invoice.on_submit(mytest)\n",
    "display(invoice,mytestfilter,pathtext,outs)\n",
    "create_field_container(invoices.iloc[int(invoice.value)],'/exchangedDocument', hideUnused=True)  "
   ]
  },
  {
   "cell_type": "code",
   "execution_count": 36,
   "id": "384fe31b-506f-40e5-8d8e-48d3e31165d9",
   "metadata": {},
   "outputs": [
    {
     "data": {
      "application/vnd.jupyter.widget-view+json": {
       "model_id": "76bd2b0a0a5b4025836b33007f5225c8",
       "version_major": 2,
       "version_minor": 0
      },
      "text/plain": [
       "Text(value='14', description='invoice', layout=Layout(width='500px'), style=DescriptionStyle(description_width…"
      ]
     },
     "metadata": {},
     "output_type": "display_data"
    },
    {
     "data": {
      "application/vnd.jupyter.widget-view+json": {
       "model_id": "597ae4b7c3344f6ebe31ced5a68956f9",
       "version_major": 2,
       "version_minor": 0
      },
      "text/plain": [
       "Output()"
      ]
     },
     "metadata": {},
     "output_type": "display_data"
    }
   ],
   "source": [
    "_widget = SimpleContainer(path='/supplyChainTradeTransaction/applicableHeaderTradeAgreement/buyerTradeParty', asset=invoices.iloc[14], invoices=invoices)\n",
    "#display(_widget)"
   ]
  },
  {
   "cell_type": "code",
   "execution_count": null,
   "id": "1c2d2fef-0426-437f-a47a-f453c0ba960f",
   "metadata": {},
   "outputs": [],
   "source": [
    "#_widget._widget\n",
    "_widget.asset, _widget._widget"
   ]
  },
  {
   "cell_type": "code",
   "execution_count": 44,
   "id": "8866a32d-9cc0-4481-9f2a-2e380af8ab7d",
   "metadata": {},
   "outputs": [
    {
     "data": {
      "application/vnd.jupyter.widget-view+json": {
       "model_id": "e1ed05e4d2df492e95811954c907ca92",
       "version_major": 2,
       "version_minor": 0
      },
      "text/plain": [
       "HBox(children=(Output(outputs=({'output_type': 'display_data', 'data': {'text/plain': \"HTML(value='', descript…"
      ]
     },
     "metadata": {},
     "output_type": "display_data"
    }
   ],
   "source": [
    "filename = '/home/jovyan/persons/Emma.Steiner.png'\n",
    "image = Image.open(open(filename, 'rb'))\n",
    "#ratio = h / .image.size[1]\n",
    "#newsize = (int(ratio * self.image.size[0]), int(ratio * self.image.size[1]) )\n",
    "#self.image = self.image.resize([newsize[0],newsize[1]],Image.ANTIALIAS)\n",
    "_imageWidget =  ImageWidget(image=image,display=False)\n",
    "\n",
    "#HBox = widgets.HBox([_imageWidget.HBox, _widget.output]) \n",
    "HBox = widgets.HBox([_widget.output])\n",
    "display(HBox)"
   ]
  },
  {
   "cell_type": "code",
   "execution_count": 45,
   "id": "1f9634b1-dc2a-49f1-90db-bb4901b59907",
   "metadata": {},
   "outputs": [],
   "source": [
    "_widget.redisplay()"
   ]
  },
  {
   "cell_type": "code",
   "execution_count": 9,
   "id": "58e0a85c-2fa5-40fa-930f-549a3b888169",
   "metadata": {},
   "outputs": [
    {
     "name": "stdout",
     "output_type": "stream",
     "text": [
      " Alexandre.Payet.png\t  Emma.Steiner.png\t Tony.Dubois.png\n",
      " Auguste.Boucher.png\t  Pedro.Sanchez.png\n",
      "'Christophe. Monet.png'   Stephanie.Hoarau.png\n"
     ]
    }
   ],
   "source": [
    "!ls /home/jovyan/persons"
   ]
  }
 ],
 "metadata": {
  "kernelspec": {
   "display_name": "Python 3 (ipykernel)",
   "language": "python",
   "name": "python3"
  },
  "language_info": {
   "codemirror_mode": {
    "name": "ipython",
    "version": 3
   },
   "file_extension": ".py",
   "mimetype": "text/x-python",
   "name": "python",
   "nbconvert_exporter": "python",
   "pygments_lexer": "ipython3",
   "version": "3.9.5"
  }
 },
 "nbformat": 4,
 "nbformat_minor": 5
}
